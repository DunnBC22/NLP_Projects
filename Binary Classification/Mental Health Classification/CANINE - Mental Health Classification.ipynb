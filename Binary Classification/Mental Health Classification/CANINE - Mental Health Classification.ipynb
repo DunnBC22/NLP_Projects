{
 "cells": [
  {
   "attachments": {},
   "cell_type": "markdown",
   "metadata": {},
   "source": [
    "## Mental Health Classification Using CANINE Transformer\n",
    "\n",
    "Dataset Source: https://www.kaggle.com/datasets/reihanenamdari/mental-health-corpus"
   ]
  },
  {
   "attachments": {},
   "cell_type": "markdown",
   "metadata": {},
   "source": [
    "#### Import Necessary Libraries"
   ]
  },
  {
   "cell_type": "code",
   "execution_count": 1,
   "metadata": {},
   "outputs": [
    {
     "name": "stdout",
     "output_type": "stream",
     "text": [
      "Git LFS initialized.\n"
     ]
    }
   ],
   "source": [
    "import os, sys\n",
    "\n",
    "import numpy as np\n",
    "import pandas as pd\n",
    "import matplotlib.pyplot as plt\n",
    "\n",
    "import transformers\n",
    "from transformers import Trainer, TrainingArguments, set_seed\n",
    "from transformers import AutoTokenizer, AutoModelForSequenceClassification\n",
    "from transformers import DataCollatorWithPadding\n",
    "\n",
    "import datasets\n",
    "from datasets import Dataset, DatasetDict\n",
    "\n",
    "import evaluate\n",
    "import torch\n",
    "\n",
    "!git lfs install"
   ]
  },
  {
   "attachments": {},
   "cell_type": "markdown",
   "metadata": {},
   "source": [
    "#### Display Library Versions"
   ]
  },
  {
   "cell_type": "code",
   "execution_count": 2,
   "metadata": {},
   "outputs": [
    {
     "name": "stdout",
     "output_type": "stream",
     "text": [
      "   Library/Language: Version\n",
      "             Python: 3.9.7 \n",
      "              NumPy: 1.23.3\n",
      "             Pandas: 1.4.4\n",
      "              Torch: 1.12.1\n",
      "           Datasets: 2.8.0\n",
      "       Transformers: 4.26.1\n",
      "           Evaluate: 0.2.2\n"
     ]
    }
   ],
   "source": [
    "n = 20\n",
    "\n",
    "print(\"Library/Language:\".rjust(n), \"Version\")\n",
    "print(\"Python:\".rjust(n), sys.version[0:6])\n",
    "print(\"NumPy:\".rjust(n), np.__version__)\n",
    "print(\"Pandas:\".rjust(n), pd.__version__)\n",
    "print(\"Torch:\".rjust(n), torch.__version__)\n",
    "print(\"Datasets:\".rjust(n), datasets.__version__)\n",
    "print(\"Transformers:\".rjust(n), transformers.__version__)\n",
    "print(\"Evaluate:\".rjust(n), evaluate.__version__)"
   ]
  },
  {
   "attachments": {},
   "cell_type": "markdown",
   "metadata": {},
   "source": [
    "#### Ingest & Preprocess Dataset"
   ]
  },
  {
   "cell_type": "code",
   "execution_count": 3,
   "metadata": {},
   "outputs": [
    {
     "data": {
      "text/html": [
       "<div>\n",
       "<style scoped>\n",
       "    .dataframe tbody tr th:only-of-type {\n",
       "        vertical-align: middle;\n",
       "    }\n",
       "\n",
       "    .dataframe tbody tr th {\n",
       "        vertical-align: top;\n",
       "    }\n",
       "\n",
       "    .dataframe thead th {\n",
       "        text-align: right;\n",
       "    }\n",
       "</style>\n",
       "<table border=\"1\" class=\"dataframe\">\n",
       "  <thead>\n",
       "    <tr style=\"text-align: right;\">\n",
       "      <th></th>\n",
       "      <th>text</th>\n",
       "      <th>label</th>\n",
       "    </tr>\n",
       "  </thead>\n",
       "  <tbody>\n",
       "    <tr>\n",
       "      <th>0</th>\n",
       "      <td>dear american teens question dutch person hear...</td>\n",
       "      <td>0</td>\n",
       "    </tr>\n",
       "    <tr>\n",
       "      <th>1</th>\n",
       "      <td>nothing look forward lifei dont many reasons k...</td>\n",
       "      <td>1</td>\n",
       "    </tr>\n",
       "    <tr>\n",
       "      <th>2</th>\n",
       "      <td>music recommendations im looking expand playli...</td>\n",
       "      <td>0</td>\n",
       "    </tr>\n",
       "    <tr>\n",
       "      <th>3</th>\n",
       "      <td>im done trying feel betterthe reason im still ...</td>\n",
       "      <td>1</td>\n",
       "    </tr>\n",
       "    <tr>\n",
       "      <th>4</th>\n",
       "      <td>worried  year old girl subject domestic physic...</td>\n",
       "      <td>1</td>\n",
       "    </tr>\n",
       "    <tr>\n",
       "      <th>...</th>\n",
       "      <td>...</td>\n",
       "      <td>...</td>\n",
       "    </tr>\n",
       "    <tr>\n",
       "      <th>27967</th>\n",
       "      <td>posting everyday people stop caring  religion ...</td>\n",
       "      <td>0</td>\n",
       "    </tr>\n",
       "    <tr>\n",
       "      <th>27968</th>\n",
       "      <td>okay definetly need hear guys opinion ive pret...</td>\n",
       "      <td>0</td>\n",
       "    </tr>\n",
       "    <tr>\n",
       "      <th>27969</th>\n",
       "      <td>cant get dog think ill kill myselfthe last thi...</td>\n",
       "      <td>1</td>\n",
       "    </tr>\n",
       "    <tr>\n",
       "      <th>27970</th>\n",
       "      <td>whats point princess bridei really think like ...</td>\n",
       "      <td>1</td>\n",
       "    </tr>\n",
       "    <tr>\n",
       "      <th>27971</th>\n",
       "      <td>got nudes person might might know snapchat do ...</td>\n",
       "      <td>0</td>\n",
       "    </tr>\n",
       "  </tbody>\n",
       "</table>\n",
       "<p>27972 rows × 2 columns</p>\n",
       "</div>"
      ],
      "text/plain": [
       "                                                    text  label\n",
       "0      dear american teens question dutch person hear...      0\n",
       "1      nothing look forward lifei dont many reasons k...      1\n",
       "2      music recommendations im looking expand playli...      0\n",
       "3      im done trying feel betterthe reason im still ...      1\n",
       "4      worried  year old girl subject domestic physic...      1\n",
       "...                                                  ...    ...\n",
       "27967  posting everyday people stop caring  religion ...      0\n",
       "27968  okay definetly need hear guys opinion ive pret...      0\n",
       "27969  cant get dog think ill kill myselfthe last thi...      1\n",
       "27970  whats point princess bridei really think like ...      1\n",
       "27971  got nudes person might might know snapchat do ...      0\n",
       "\n",
       "[27972 rows x 2 columns]"
      ]
     },
     "execution_count": 3,
     "metadata": {},
     "output_type": "execute_result"
    }
   ],
   "source": [
    "data = pd.read_csv(\"mental_health.csv\")\n",
    "\n",
    "data = data.dropna()\n",
    "\n",
    "data = data.drop_duplicates(subset=[\"text\"], ignore_index=True)\n",
    "\n",
    "data"
   ]
  },
  {
   "attachments": {},
   "cell_type": "markdown",
   "metadata": {},
   "source": [
    "#### Display Information About Dataset"
   ]
  },
  {
   "cell_type": "code",
   "execution_count": 4,
   "metadata": {},
   "outputs": [
    {
     "name": "stdout",
     "output_type": "stream",
     "text": [
      "<class 'pandas.core.frame.DataFrame'>\n",
      "RangeIndex: 27972 entries, 0 to 27971\n",
      "Data columns (total 2 columns):\n",
      " #   Column  Non-Null Count  Dtype \n",
      "---  ------  --------------  ----- \n",
      " 0   text    27972 non-null  object\n",
      " 1   label   27972 non-null  int64 \n",
      "dtypes: int64(1), object(1)\n",
      "memory usage: 437.2+ KB\n"
     ]
    }
   ],
   "source": [
    "data.info()"
   ]
  },
  {
   "attachments": {},
   "cell_type": "markdown",
   "metadata": {},
   "source": [
    "#### Visualize: Word Length of Input Samples"
   ]
  },
  {
   "cell_type": "code",
   "execution_count": 5,
   "metadata": {},
   "outputs": [
    {
     "data": {
      "image/png": "[encoded data removed]",
      "text/plain": [
       "<Figure size 1000x400 with 1 Axes>"
      ]
     },
     "metadata": {},
     "output_type": "display_data"
    }
   ],
   "source": [
    "data['text_len'] = data['text'].str.split().apply(len)\n",
    "\n",
    "n = 401\n",
    "\n",
    "data.hist(\"text_len\", grid=False, color=\"Blue\", figsize=(10,4), range=(0,n), bins=n)\n",
    "\n",
    "plt.suptitle('')\n",
    "plt.ylabel('# of Samples')\n",
    "\n",
    "plt.xlabel('Words / Sample')\n",
    "plt.title('Text Length')\n",
    "\n",
    "plt.show()"
   ]
  },
  {
   "attachments": {},
   "cell_type": "markdown",
   "metadata": {},
   "source": [
    "#### How Long is Longest Input Sample (in Words)"
   ]
  },
  {
   "cell_type": "code",
   "execution_count": 6,
   "metadata": {},
   "outputs": [
    {
     "name": "stdout",
     "output_type": "stream",
     "text": [
      "The longest news article is approximately 2676 words in length\n"
     ]
    }
   ],
   "source": [
    "print(f\"The longest news article is approximately {max(data['text_len'])} words in length\")"
   ]
  },
  {
   "attachments": {},
   "cell_type": "markdown",
   "metadata": {},
   "source": [
    "#### Number of Samples in Each Class"
   ]
  },
  {
   "cell_type": "code",
   "execution_count": 7,
   "metadata": {},
   "outputs": [
    {
     "data": {
      "image/png": "[encoded data removed]",
      "text/plain": [
       "<Figure size 640x480 with 1 Axes>"
      ]
     },
     "metadata": {},
     "output_type": "display_data"
    }
   ],
   "source": [
    "class_counts = data.groupby(\"label\").count()\n",
    "\n",
    "class_counts.plot.bar(color=\"blue\")\n",
    "plt.suptitle('')\n",
    "plt.title('# of Samples of Each Class')\n",
    "plt.xlabel('Class')\n",
    "plt.ylabel('# of Samples')\n",
    "plt.legend().remove()\n",
    "plt.xticks(rotation = 0)\n",
    "plt.show()"
   ]
  },
  {
   "attachments": {},
   "cell_type": "markdown",
   "metadata": {},
   "source": [
    "#### Trim Overly Lengthy Input Samples"
   ]
  },
  {
   "cell_type": "code",
   "execution_count": 8,
   "metadata": {},
   "outputs": [
    {
     "name": "stdout",
     "output_type": "stream",
     "text": [
      "<class 'pandas.core.frame.DataFrame'>\n",
      "Int64Index: 22013 entries, 0 to 27971\n",
      "Data columns (total 2 columns):\n",
      " #   Column  Non-Null Count  Dtype \n",
      "---  ------  --------------  ----- \n",
      " 0   text    22013 non-null  object\n",
      " 1   label   22013 non-null  int64 \n",
      "dtypes: int64(1), object(1)\n",
      "memory usage: 515.9+ KB\n"
     ]
    }
   ],
   "source": [
    "MAX_INPUT_LENGTH = 100\n",
    "\n",
    "data = data[data['text_len'] < (MAX_INPUT_LENGTH + 1)]\n",
    "data = data.drop(columns=['text_len'])\n",
    "data.info()"
   ]
  },
  {
   "attachments": {},
   "cell_type": "markdown",
   "metadata": {},
   "source": [
    "#### Convert DataFrame to Dataset"
   ]
  },
  {
   "cell_type": "code",
   "execution_count": 9,
   "metadata": {},
   "outputs": [],
   "source": [
    "dataset = Dataset.from_pandas(data)"
   ]
  },
  {
   "attachments": {},
   "cell_type": "markdown",
   "metadata": {},
   "source": [
    "#### Split Dataset into Training/Evaluation Datasets"
   ]
  },
  {
   "cell_type": "code",
   "execution_count": 10,
   "metadata": {},
   "outputs": [
    {
     "name": "stdout",
     "output_type": "stream",
     "text": [
      "Training data shape: (17610, 3)\n",
      "Validation data shape: (4403, 3)\n"
     ]
    }
   ],
   "source": [
    "train_eval = dataset.train_test_split(train_size=0.80)\n",
    "\n",
    "ds = DatasetDict({\n",
    "    'train': train_eval['train'], \n",
    "    'eval': train_eval['test']\n",
    "    })\n",
    "\n",
    "print('Training data shape:', ds['train'].shape)\n",
    "print('Validation data shape:', ds['eval'].shape)"
   ]
  },
  {
   "attachments": {},
   "cell_type": "markdown",
   "metadata": {},
   "source": [
    "#### Basic Values/Constants"
   ]
  },
  {
   "cell_type": "code",
   "execution_count": 11,
   "metadata": {},
   "outputs": [],
   "source": [
    "MODEL_CKPT = \"google/canine-c\"\n",
    "MODEL_NAME = MODEL_CKPT.split(\"/\")[-1] + \"-Mental_Health_Classification\"\n",
    "\n",
    "NUM_OF_EPOCHS = 2\n",
    "\n",
    "REPORTS_TO = \"tensorboard\"\n",
    "STRATEGY = \"epoch\"\n",
    "\n",
    "DEVICE = torch.device(\"cpu\")\n",
    "set_seed = 42\n",
    "\n",
    "LR = 2e-5\n",
    "BATCH_SIZE = 16"
   ]
  },
  {
   "attachments": {},
   "cell_type": "markdown",
   "metadata": {},
   "source": [
    "#### Tokenize Dataset"
   ]
  },
  {
   "cell_type": "code",
   "execution_count": 12,
   "metadata": {},
   "outputs": [
    {
     "name": "stderr",
     "output_type": "stream",
     "text": [
      "Using unk_token, but it is not set yet.\n",
      "Using unk_token, but it is not set yet.\n",
      "Using unk_token, but it is not set yet.\n",
      "Using unk_token, but it is not set yet.\n",
      "Using unk_token, but it is not set yet.\n",
      "Using unk_token, but it is not set yet.\n",
      "Using unk_token, but it is not set yet.\n",
      "Using unk_token, but it is not set yet.\n"
     ]
    },
    {
     "data": {
      "application/vnd.jupyter.widget-view+json": {
       "model_id": "3b094058953f4b9dbaece1befce358dc",
       "version_major": 2,
       "version_minor": 0
      },
      "text/plain": [
       "  0%|          | 0/18 [00:00<?, ?ba/s]"
      ]
     },
     "metadata": {},
     "output_type": "display_data"
    },
    {
     "data": {
      "application/vnd.jupyter.widget-view+json": {
       "model_id": "1fcccecdcacb46cb802e50e4a1cc2556",
       "version_major": 2,
       "version_minor": 0
      },
      "text/plain": [
       "  0%|          | 0/5 [00:00<?, ?ba/s]"
      ]
     },
     "metadata": {},
     "output_type": "display_data"
    }
   ],
   "source": [
    "tokenizer = AutoTokenizer.from_pretrained(MODEL_CKPT)\n",
    "\n",
    "train_ds = ds['train'].map(lambda examples: tokenizer(examples['text'], \n",
    "                                                      padding=\"max_length\", \n",
    "                                                      truncation=True),\n",
    "                        batched=True)\n",
    "\n",
    "train_ds.set_format(type=\"torch\", columns=['input_ids', 'token_type_ids', 'attention_mask', 'label'])\n",
    "\n",
    "eval_ds = ds['eval'].map(lambda examples: tokenizer(examples['text'], \n",
    "                                                    padding=\"max_length\", \n",
    "                                                    truncation=True),\n",
    "                         batched=True)\n",
    "\n",
    "eval_ds.set_format(type=\"torch\", columns=['input_ids', 'token_type_ids', 'attention_mask', 'label'])"
   ]
  },
  {
   "attachments": {},
   "cell_type": "markdown",
   "metadata": {},
   "source": [
    "#### Some Information ABout Datasets"
   ]
  },
  {
   "cell_type": "code",
   "execution_count": 13,
   "metadata": {},
   "outputs": [
    {
     "name": "stdout",
     "output_type": "stream",
     "text": [
      "Training data shape: (17610, 6)\n",
      "Validation data shape: (4403, 6)\n",
      "{'text': Value(dtype='string', id=None), 'label': Value(dtype='int64', id=None), '__index_level_0__': Value(dtype='int64', id=None), 'input_ids': Sequence(feature=Value(dtype='int32', id=None), length=-1, id=None), 'token_type_ids': Sequence(feature=Value(dtype='int8', id=None), length=-1, id=None), 'attention_mask': Sequence(feature=Value(dtype='int8', id=None), length=-1, id=None)}\n",
      "Dataset({\n",
      "    features: ['text', 'label', '__index_level_0__', 'input_ids', 'token_type_ids', 'attention_mask'],\n",
      "    num_rows: 17610\n",
      "})\n"
     ]
    }
   ],
   "source": [
    "print('Training data shape:', train_ds.shape)\n",
    "print('Validation data shape:', eval_ds.shape)\n",
    "\n",
    "print(train_ds.features)\n",
    "print(train_ds)"
   ]
  },
  {
   "attachments": {},
   "cell_type": "markdown",
   "metadata": {},
   "source": [
    "#### Instantiate Model"
   ]
  },
  {
   "cell_type": "code",
   "execution_count": 14,
   "metadata": {},
   "outputs": [
    {
     "name": "stderr",
     "output_type": "stream",
     "text": [
      "Some weights of CanineForSequenceClassification were not initialized from the model checkpoint at google/canine-c and are newly initialized: ['classifier.bias', 'classifier.weight']\n",
      "You should probably TRAIN this model on a down-stream task to be able to use it for predictions and inference.\n"
     ]
    }
   ],
   "source": [
    "model = (\n",
    "    AutoModelForSequenceClassification.from_pretrained(MODEL_CKPT)\n",
    "    ).to(DEVICE)"
   ]
  },
  {
   "attachments": {},
   "cell_type": "markdown",
   "metadata": {},
   "source": [
    "#### Define Function to Compute Metrics"
   ]
  },
  {
   "cell_type": "code",
   "execution_count": 15,
   "metadata": {},
   "outputs": [],
   "source": [
    "def compute_metrics(p):\n",
    "    accuracy_metric = evaluate.load(\"accuracy\")\n",
    "    accuracy = accuracy_metric.compute(predictions=np.argmax(p.predictions, axis=1), references=p.label_ids)['accuracy']\n",
    "    \n",
    "    ### ------------------- F1 scores -------------------\n",
    "    \n",
    "    f1_score_metric = evaluate.load(\"f1\")\n",
    "    f1_score = f1_score_metric.compute(predictions=np.argmax(p.predictions, axis=1), references=p.label_ids)[\"f1\"]\n",
    "    \n",
    "    ### ------------------- recall -------------------\n",
    "    \n",
    "    recall_metric = evaluate.load(\"recall\")\n",
    "    recall = recall_metric.compute(predictions=np.argmax(p.predictions, axis=1), references=p.label_ids)[\"recall\"]\n",
    "    \n",
    "    ### ------------------- precision -------------------\n",
    "    \n",
    "    precision_metric = evaluate.load(\"precision\")\n",
    "    precision = precision_metric.compute(predictions=np.argmax(p.predictions, axis=1), references=p.label_ids)[\"precision\"]\n",
    "    \n",
    "    return {\"accuracy\" : accuracy, \n",
    "            \"F1\" : f1_score,\n",
    "            \"Recall\" : recall,\n",
    "            \"Precision\" : precision,\n",
    "            }"
   ]
  },
  {
   "attachments": {},
   "cell_type": "markdown",
   "metadata": {},
   "source": [
    "#### Instantiate Data Collator"
   ]
  },
  {
   "cell_type": "code",
   "execution_count": 16,
   "metadata": {},
   "outputs": [],
   "source": [
    "data_collator = DataCollatorWithPadding(tokenizer, \n",
    "                                        padding=True)"
   ]
  },
  {
   "attachments": {},
   "cell_type": "markdown",
   "metadata": {},
   "source": [
    "#### Define TrainingArguments"
   ]
  },
  {
   "cell_type": "code",
   "execution_count": 17,
   "metadata": {},
   "outputs": [],
   "source": [
    "args = TrainingArguments(\n",
    "    output_dir=MODEL_NAME,\n",
    "    logging_first_step=True,\n",
    "    logging_strategy=STRATEGY,\n",
    "    evaluation_strategy=STRATEGY,\n",
    "    save_strategy=STRATEGY,\n",
    "    learning_rate=LR,\n",
    "    per_device_train_batch_size=BATCH_SIZE,\n",
    "    per_device_eval_batch_size=BATCH_SIZE,\n",
    "    report_to=REPORTS_TO,\n",
    "    num_train_epochs=NUM_OF_EPOCHS,\n",
    "    weight_decay=0.01,\n",
    "    load_best_model_at_end=True,\n",
    "    disable_tqdm=False,\n",
    "    hub_private_repo=True,\n",
    "    push_to_hub=True\n",
    ")"
   ]
  },
  {
   "attachments": {},
   "cell_type": "markdown",
   "metadata": {},
   "source": [
    "#### Define Trainer"
   ]
  },
  {
   "cell_type": "code",
   "execution_count": 18,
   "metadata": {},
   "outputs": [
    {
     "name": "stderr",
     "output_type": "stream",
     "text": [
      "Cloning https://huggingface.co/DunnBC22/canine-c-Mental_Health_Classification into local empty directory.\n"
     ]
    }
   ],
   "source": [
    "trainer = Trainer(model=model, \n",
    "                  args=args, \n",
    "                  compute_metrics=compute_metrics,\n",
    "                  train_dataset=train_ds, \n",
    "                  eval_dataset=eval_ds, \n",
    "                  data_collator=data_collator,\n",
    "                  tokenizer=tokenizer)"
   ]
  },
  {
   "attachments": {},
   "cell_type": "markdown",
   "metadata": {},
   "source": [
    "#### Train Model"
   ]
  },
  {
   "cell_type": "code",
   "execution_count": 19,
   "metadata": {},
   "outputs": [
    {
     "name": "stderr",
     "output_type": "stream",
     "text": [
      "The following columns in the training set don't have a corresponding argument in `CanineForSequenceClassification.forward` and have been ignored: text, __index_level_0__. If text, __index_level_0__ are not expected by `CanineForSequenceClassification.forward`,  you can safely ignore this message.\n",
      "/Users/leedunn/Documents/nlpnn/nlp/lib/python3.9/site-packages/transformers/optimization.py:306: FutureWarning: This implementation of AdamW is deprecated and will be removed in a future version. Use the PyTorch implementation torch.optim.AdamW instead, or set `no_deprecation_warning=True` to disable this warning\n",
      "  warnings.warn(\n",
      "***** Running training *****\n",
      "  Num examples = 17610\n",
      "  Num Epochs = 2\n",
      "  Instantaneous batch size per device = 16\n",
      "  Total train batch size (w. parallel, distributed & accumulation) = 16\n",
      "  Gradient Accumulation steps = 1\n",
      "  Total optimization steps = 2202\n",
      "  Number of trainable parameters = 132084482\n"
     ]
    },
    {
     "data": {
      "application/vnd.jupyter.widget-view+json": {
       "model_id": "9898a74d6660474e82e25b02d52455cd",
       "version_major": 2,
       "version_minor": 0
      },
      "text/plain": [
       "  0%|          | 0/2202 [00:00<?, ?it/s]"
      ]
     },
     "metadata": {},
     "output_type": "display_data"
    },
    {
     "name": "stdout",
     "output_type": "stream",
     "text": [
      "{'loss': 0.6629, 'learning_rate': 1.9990917347865578e-05, 'epoch': 0.0}\n"
     ]
    },
    {
     "name": "stderr",
     "output_type": "stream",
     "text": [
      "The following columns in the evaluation set don't have a corresponding argument in `CanineForSequenceClassification.forward` and have been ignored: text, __index_level_0__. If text, __index_level_0__ are not expected by `CanineForSequenceClassification.forward`,  you can safely ignore this message.\n"
     ]
    },
    {
     "name": "stdout",
     "output_type": "stream",
     "text": [
      "{'loss': 0.3429, 'learning_rate': 1e-05, 'epoch': 1.0}\n"
     ]
    },
    {
     "name": "stderr",
     "output_type": "stream",
     "text": [
      "***** Running Evaluation *****\n",
      "  Num examples = 4403\n",
      "  Batch size = 16\n"
     ]
    },
    {
     "data": {
      "application/vnd.jupyter.widget-view+json": {
       "model_id": "e34aaf5795f24f119a6221f274f1f612",
       "version_major": 2,
       "version_minor": 0
      },
      "text/plain": [
       "  0%|          | 0/276 [00:00<?, ?it/s]"
      ]
     },
     "metadata": {},
     "output_type": "display_data"
    },
    {
     "data": {
      "application/vnd.jupyter.widget-view+json": {
       "model_id": "ca41bff60a994edb9c13fa93c3a7c28f",
       "version_major": 2,
       "version_minor": 0
      },
      "text/plain": [
       "Downloading builder script: 0.00B [00:00, ?B/s]"
      ]
     },
     "metadata": {},
     "output_type": "display_data"
    },
    {
     "data": {
      "application/vnd.jupyter.widget-view+json": {
       "model_id": "088f795019164b1f9cef97ec653ab7a4",
       "version_major": 2,
       "version_minor": 0
      },
      "text/plain": [
       "Downloading builder script: 0.00B [00:00, ?B/s]"
      ]
     },
     "metadata": {},
     "output_type": "display_data"
    },
    {
     "data": {
      "application/vnd.jupyter.widget-view+json": {
       "model_id": "2b3322cf8ff64761981c193213b826f6",
       "version_major": 2,
       "version_minor": 0
      },
      "text/plain": [
       "Downloading builder script: 0.00B [00:00, ?B/s]"
      ]
     },
     "metadata": {},
     "output_type": "display_data"
    },
    {
     "data": {
      "application/vnd.jupyter.widget-view+json": {
       "model_id": "be0b99f0d55b4d7aab54a3ff4cd23cdf",
       "version_major": 2,
       "version_minor": 0
      },
      "text/plain": [
       "Downloading builder script: 0.00B [00:00, ?B/s]"
      ]
     },
     "metadata": {},
     "output_type": "display_data"
    },
    {
     "name": "stderr",
     "output_type": "stream",
     "text": [
      "Saving model checkpoint to canine-c-Mental_Health_Classification/checkpoint-1101\n",
      "Configuration saved in canine-c-Mental_Health_Classification/checkpoint-1101/config.json\n"
     ]
    },
    {
     "name": "stdout",
     "output_type": "stream",
     "text": [
      "{'eval_loss': 0.26399940252304077, 'eval_accuracy': 0.9037020213490802, 'eval_F1': 0.8803611738148985, 'eval_Recall': 0.8258337744838539, 'eval_Precision': 0.9425981873111783, 'eval_runtime': 29738.1949, 'eval_samples_per_second': 0.148, 'eval_steps_per_second': 0.009, 'epoch': 1.0}\n"
     ]
    },
    {
     "name": "stderr",
     "output_type": "stream",
     "text": [
      "Model weights saved in canine-c-Mental_Health_Classification/checkpoint-1101/pytorch_model.bin\n",
      "tokenizer config file saved in canine-c-Mental_Health_Classification/checkpoint-1101/tokenizer_config.json\n",
      "Special tokens file saved in canine-c-Mental_Health_Classification/checkpoint-1101/special_tokens_map.json\n",
      "tokenizer config file saved in canine-c-Mental_Health_Classification/tokenizer_config.json\n",
      "Special tokens file saved in canine-c-Mental_Health_Classification/special_tokens_map.json\n",
      "The following columns in the evaluation set don't have a corresponding argument in `CanineForSequenceClassification.forward` and have been ignored: text, __index_level_0__. If text, __index_level_0__ are not expected by `CanineForSequenceClassification.forward`,  you can safely ignore this message.\n"
     ]
    },
    {
     "name": "stdout",
     "output_type": "stream",
     "text": [
      "{'loss': 0.1923, 'learning_rate': 0.0, 'epoch': 2.0}\n"
     ]
    },
    {
     "name": "stderr",
     "output_type": "stream",
     "text": [
      "***** Running Evaluation *****\n",
      "  Num examples = 4403\n",
      "  Batch size = 16\n"
     ]
    },
    {
     "data": {
      "application/vnd.jupyter.widget-view+json": {
       "model_id": "3928c2227f3c46bf9bc62f28357b57d9",
       "version_major": 2,
       "version_minor": 0
      },
      "text/plain": [
       "  0%|          | 0/276 [00:00<?, ?it/s]"
      ]
     },
     "metadata": {},
     "output_type": "display_data"
    },
    {
     "name": "stderr",
     "output_type": "stream",
     "text": [
      "Saving model checkpoint to canine-c-Mental_Health_Classification/checkpoint-2202\n",
      "Configuration saved in canine-c-Mental_Health_Classification/checkpoint-2202/config.json\n"
     ]
    },
    {
     "name": "stdout",
     "output_type": "stream",
     "text": [
      "{'eval_loss': 0.24188289046287537, 'eval_accuracy': 0.9225528049057461, 'eval_F1': 0.9095730575444179, 'eval_Recall': 0.9078877713075701, 'eval_Precision': 0.9112646121147715, 'eval_runtime': 30469.9578, 'eval_samples_per_second': 0.145, 'eval_steps_per_second': 0.009, 'epoch': 2.0}\n"
     ]
    },
    {
     "name": "stderr",
     "output_type": "stream",
     "text": [
      "Model weights saved in canine-c-Mental_Health_Classification/checkpoint-2202/pytorch_model.bin\n",
      "tokenizer config file saved in canine-c-Mental_Health_Classification/checkpoint-2202/tokenizer_config.json\n",
      "Special tokens file saved in canine-c-Mental_Health_Classification/checkpoint-2202/special_tokens_map.json\n",
      "tokenizer config file saved in canine-c-Mental_Health_Classification/tokenizer_config.json\n",
      "Special tokens file saved in canine-c-Mental_Health_Classification/special_tokens_map.json\n",
      "Adding files tracked by Git LFS: ['.DS_Store']. This may take a bit of time if the files are large.\n",
      "\n",
      "\n",
      "Training completed. Do not forget to share your model on huggingface.co/models =)\n",
      "\n",
      "\n",
      "Loading best model from canine-c-Mental_Health_Classification/checkpoint-2202 (score: 0.24188289046287537).\n"
     ]
    },
    {
     "name": "stdout",
     "output_type": "stream",
     "text": [
      "{'train_runtime': 853263.9942, 'train_samples_per_second': 0.041, 'train_steps_per_second': 0.003, 'train_loss': 0.26774565717180027, 'epoch': 2.0}\n"
     ]
    }
   ],
   "source": [
    "training_results = trainer.train()"
   ]
  },
  {
   "attachments": {},
   "cell_type": "markdown",
   "metadata": {},
   "source": [
    "#### Save & Log Training Model & Metrics"
   ]
  },
  {
   "cell_type": "code",
   "execution_count": 20,
   "metadata": {},
   "outputs": [
    {
     "name": "stderr",
     "output_type": "stream",
     "text": [
      "Saving model checkpoint to canine-c-Mental_Health_Classification\n",
      "Configuration saved in canine-c-Mental_Health_Classification/config.json\n",
      "Model weights saved in canine-c-Mental_Health_Classification/pytorch_model.bin\n",
      "tokenizer config file saved in canine-c-Mental_Health_Classification/tokenizer_config.json\n",
      "Special tokens file saved in canine-c-Mental_Health_Classification/special_tokens_map.json\n",
      "Saving model checkpoint to canine-c-Mental_Health_Classification\n",
      "Configuration saved in canine-c-Mental_Health_Classification/config.json\n",
      "Model weights saved in canine-c-Mental_Health_Classification/pytorch_model.bin\n",
      "tokenizer config file saved in canine-c-Mental_Health_Classification/tokenizer_config.json\n",
      "Special tokens file saved in canine-c-Mental_Health_Classification/special_tokens_map.json\n",
      "Several commits (2) will be pushed upstream.\n",
      "The progress bars may be unreliable.\n"
     ]
    },
    {
     "data": {
      "application/vnd.jupyter.widget-view+json": {
       "model_id": "c322208e7b284b55b80885e77476ae26",
       "version_major": 2,
       "version_minor": 0
      },
      "text/plain": [
       "Upload file pytorch_model.bin:   0%|          | 1.00/504M [00:00<?, ?B/s]"
      ]
     },
     "metadata": {},
     "output_type": "display_data"
    },
    {
     "data": {
      "application/vnd.jupyter.widget-view+json": {
       "model_id": "c9152d6daaa6459b999c1049d0e26cd8",
       "version_major": 2,
       "version_minor": 0
      },
      "text/plain": [
       "Upload file runs/Mar31_21-14-08_Lees-Air/events.out.tfevents.1680315255.Lees-Air.71304.0:   0%|          | 1.0…"
      ]
     },
     "metadata": {},
     "output_type": "display_data"
    },
    {
     "name": "stderr",
     "output_type": "stream",
     "text": [
      "To https://huggingface.co/DunnBC22/canine-c-Mental_Health_Classification\n",
      "   32ba3a1..b287051  main -> main\n",
      "\n",
      "Dropping the following result as it does not have all the necessary fields:\n",
      "{'task': {'name': 'Text Classification', 'type': 'text-classification'}, 'metrics': [{'name': 'Accuracy', 'type': 'accuracy', 'value': 0.9225528049057461}, {'name': 'F1', 'type': 'f1', 'value': 0.9095730575444179}, {'name': 'Recall', 'type': 'recall', 'value': 0.9078877713075701}, {'name': 'Precision', 'type': 'precision', 'value': 0.9112646121147715}]}\n",
      "To https://huggingface.co/DunnBC22/canine-c-Mental_Health_Classification\n",
      "   b287051..7102519  main -> main\n",
      "\n"
     ]
    },
    {
     "name": "stdout",
     "output_type": "stream",
     "text": [
      "***** train metrics *****\n",
      "  epoch                    =                 2.0\n",
      "  train_loss               =              0.2677\n",
      "  train_runtime            = 9 days, 21:01:03.99\n",
      "  train_samples_per_second =               0.041\n",
      "  train_steps_per_second   =               0.003\n"
     ]
    }
   ],
   "source": [
    "trainer.save_model()\n",
    "trainer.log_metrics(\"train\", training_results.metrics)\n",
    "trainer.save_metrics(\"train\", training_results.metrics)\n",
    "trainer.save_state()"
   ]
  },
  {
   "attachments": {},
   "cell_type": "markdown",
   "metadata": {},
   "source": [
    "#### Calculate, Save, & Log Evaluation Metrics"
   ]
  },
  {
   "cell_type": "code",
   "execution_count": 21,
   "metadata": {},
   "outputs": [
    {
     "name": "stderr",
     "output_type": "stream",
     "text": [
      "The following columns in the evaluation set don't have a corresponding argument in `CanineForSequenceClassification.forward` and have been ignored: text, __index_level_0__. If text, __index_level_0__ are not expected by `CanineForSequenceClassification.forward`,  you can safely ignore this message.\n",
      "***** Running Evaluation *****\n",
      "  Num examples = 4403\n",
      "  Batch size = 16\n"
     ]
    },
    {
     "data": {
      "application/vnd.jupyter.widget-view+json": {
       "model_id": "a6fcf14880bd4d6ea2669b66e133c90d",
       "version_major": 2,
       "version_minor": 0
      },
      "text/plain": [
       "  0%|          | 0/276 [00:00<?, ?it/s]"
      ]
     },
     "metadata": {},
     "output_type": "display_data"
    },
    {
     "name": "stdout",
     "output_type": "stream",
     "text": [
      "***** eval metrics *****\n",
      "  epoch                   =        2.0\n",
      "  eval_F1                 =     0.9096\n",
      "  eval_Precision          =     0.9113\n",
      "  eval_Recall             =     0.9079\n",
      "  eval_accuracy           =     0.9226\n",
      "  eval_loss               =     0.2419\n",
      "  eval_runtime            = 8:02:32.80\n",
      "  eval_samples_per_second =      0.152\n",
      "  eval_steps_per_second   =       0.01\n"
     ]
    }
   ],
   "source": [
    "metrics = trainer.evaluate()\n",
    "trainer.log_metrics(\"eval\", metrics)\n",
    "trainer.save_metrics(\"eval\", metrics)"
   ]
  },
  {
   "attachments": {},
   "cell_type": "markdown",
   "metadata": {},
   "source": [
    "#### Push Model to Hub"
   ]
  },
  {
   "cell_type": "code",
   "execution_count": 22,
   "metadata": {},
   "outputs": [
    {
     "name": "stderr",
     "output_type": "stream",
     "text": [
      "Saving model checkpoint to canine-c-Mental_Health_Classification\n",
      "Configuration saved in canine-c-Mental_Health_Classification/config.json\n",
      "Model weights saved in canine-c-Mental_Health_Classification/pytorch_model.bin\n",
      "tokenizer config file saved in canine-c-Mental_Health_Classification/tokenizer_config.json\n",
      "Special tokens file saved in canine-c-Mental_Health_Classification/special_tokens_map.json\n"
     ]
    },
    {
     "data": {
      "application/vnd.jupyter.widget-view+json": {
       "model_id": "271c60a961474404baba6253894f8d7d",
       "version_major": 2,
       "version_minor": 0
      },
      "text/plain": [
       "Upload file .DS_Store: 100%|##########| 6.00k/6.00k [00:00<?, ?B/s]"
      ]
     },
     "metadata": {},
     "output_type": "display_data"
    },
    {
     "data": {
      "application/vnd.jupyter.widget-view+json": {
       "model_id": "10873f5b20e04b3c80109061cdbc7cf5",
       "version_major": 2,
       "version_minor": 0
      },
      "text/plain": [
       "Upload file runs/.DS_Store: 100%|##########| 6.00k/6.00k [00:00<?, ?B/s]"
      ]
     },
     "metadata": {},
     "output_type": "display_data"
    },
    {
     "data": {
      "application/vnd.jupyter.widget-view+json": {
       "model_id": "b5c89ed0939a4874a615f86f3891e4c4",
       "version_major": 2,
       "version_minor": 0
      },
      "text/plain": [
       "Upload file runs/Mar31_21-14-08_Lees-Air/events.out.tfevents.1681198309.Lees-Air.71304.2: 100%|##########| 512…"
      ]
     },
     "metadata": {},
     "output_type": "display_data"
    },
    {
     "name": "stderr",
     "output_type": "stream",
     "text": [
      "To https://huggingface.co/DunnBC22/canine-c-Mental_Health_Classification\n",
      "   7102519..d80cf04  main -> main\n",
      "\n",
      "Dropping the following result as it does not have all the necessary fields:\n",
      "{'task': {'name': 'Text Classification', 'type': 'text-classification'}, 'metrics': [{'name': 'Accuracy', 'type': 'accuracy', 'value': 0.9225528049057461}, {'name': 'F1', 'type': 'f1', 'value': 0.9095730575444179}, {'name': 'Recall', 'type': 'recall', 'value': 0.9078877713075701}, {'name': 'Precision', 'type': 'precision', 'value': 0.9112646121147715}]}\n"
     ]
    },
    {
     "data": {
      "text/plain": [
       "'https://huggingface.co/DunnBC22/canine-c-Mental_Health_Classification/commit/d80cf04469e26cdaf180ca577c4e75ee034af3fb'"
      ]
     },
     "execution_count": 22,
     "metadata": {},
     "output_type": "execute_result"
    }
   ],
   "source": [
    "trainer.push_to_hub(commit_message=\"All Dunn!!!\")"
   ]
  },
  {
   "attachments": {},
   "cell_type": "markdown",
   "metadata": {},
   "source": [
    "### Notes & Other Takeaways From This Project\n",
    "\n",
    "***\n",
    "- I am curious how this tranformer compares with BERT and others.\n",
    "\n",
    "***"
   ]
  },
  {
   "attachments": {},
   "cell_type": "markdown",
   "metadata": {},
   "source": [
    "### Citations\n",
    "\n",
    "- Model Checkpoint\n",
    "    > @article{DBLP:journals/corr/abs-2103-06874,\n",
    "  author    = {Jonathan H. Clark and Dan Garrette and Iulia Turc and John Wieting}, title = {{CANINE:} Pre-training an Efficient Tokenization-Free Encoder for Language Representation}, journal = {CoRR}, volume = {abs/2103.06874}, year ={2021}, url = {https://arxiv.org/abs/2103.06874}, archivePrefix = {arXiv}, eprint = {2103.06874}, timestamp = {Tue, 16 Mar 2021 11:26:59 +0100}, biburl = {https://dblp.org/rec/journals/corr/abs-2103-06874.bib}, bibsource = {dblp computer science bibliography, https://dblp.org}}\n"
   ]
  }
 ],
 "metadata": {
  "kernelspec": {
   "display_name": "nlp",
   "language": "python",
   "name": "python3"
  },
  "language_info": {
   "codemirror_mode": {
    "name": "ipython",
    "version": 3
   },
   "file_extension": ".py",
   "mimetype": "text/x-python",
   "name": "python",
   "nbconvert_exporter": "python",
   "pygments_lexer": "ipython3",
   "version": "3.9.7"
  },
  "orig_nbformat": 4,
  "vscode": {
   "interpreter": {
    "hash": "41bc52750e0704433c7c40a5c68d8f60e760babe95f2dffc82e8c3790208ff57"
   }
  }
 },
 "nbformat": 4,
 "nbformat_minor": 2
}
