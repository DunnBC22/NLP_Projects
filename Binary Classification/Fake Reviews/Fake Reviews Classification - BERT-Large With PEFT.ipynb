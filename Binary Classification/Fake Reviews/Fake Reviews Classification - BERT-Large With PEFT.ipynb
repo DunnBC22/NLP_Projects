{
 "cells": [
  {
   "cell_type": "markdown",
   "metadata": {},
   "source": [
    "## Fake Reviews Classification\n",
    "\n",
    "Dataset Source: https://www.kaggle.com/datasets/razamukhtar007/fake-reviews"
   ]
  },
  {
   "cell_type": "markdown",
   "metadata": {},
   "source": [
    "#### Import Necessary Libraries"
   ]
  },
  {
   "cell_type": "code",
   "execution_count": 1,
   "metadata": {},
   "outputs": [
    {
     "name": "stdout",
     "output_type": "stream",
     "text": [
      "Git LFS initialized.\n"
     ]
    }
   ],
   "source": [
    "import os, sys, re\n",
    "os.environ['TOKENIZERS_PARALLELISM']='false'\n",
    "\n",
    "import numpy as np\n",
    "import pandas as pd\n",
    "import matplotlib.pyplot as plt\n",
    "\n",
    "import transformers\n",
    "from transformers import AutoTokenizer, AutoModelForSequenceClassification\n",
    "from transformers import Trainer, TrainingArguments, DataCollatorWithPadding\n",
    "\n",
    "import datasets\n",
    "from datasets import Dataset, DatasetDict\n",
    "\n",
    "import evaluate\n",
    "\n",
    "import torch\n",
    "from torch import nn\n",
    "\n",
    "from peft import (\n",
    "    get_peft_config,\n",
    "    get_peft_model,\n",
    "    get_peft_model_state_dict,\n",
    "    set_peft_model_state_dict,\n",
    "    PeftType,\n",
    "    PromptEncoderConfig,\n",
    ")\n",
    "\n",
    "!git lfs install"
   ]
  },
  {
   "cell_type": "markdown",
   "metadata": {},
   "source": [
    "#### Display Library Versions"
   ]
  },
  {
   "cell_type": "code",
   "execution_count": 2,
   "metadata": {},
   "outputs": [
    {
     "name": "stdout",
     "output_type": "stream",
     "text": [
      "          Python : 3.9.12\n",
      "           NumPy : 1.25.1\n",
      "           Torch : 2.0.1\n",
      "    Transformers : 4.31.0\n",
      "        Datasets : 2.13.1\n",
      "        Evaluate : 0.4.0\n"
     ]
    }
   ],
   "source": [
    "print(\"Python :\".rjust(18), sys.version[0:6])\n",
    "print(\"NumPy :\".rjust(18), np.__version__)\n",
    "print(\"Torch :\".rjust(18), torch.__version__)\n",
    "print(\"Transformers :\".rjust(18), transformers.__version__)\n",
    "print(\"Datasets :\".rjust(18), datasets.__version__)\n",
    "print(\"Evaluate :\".rjust(18), evaluate.__version__)"
   ]
  },
  {
   "cell_type": "markdown",
   "metadata": {},
   "source": [
    "#### Ingest & Preprocess Dataset"
   ]
  },
  {
   "cell_type": "code",
   "execution_count": 3,
   "metadata": {},
   "outputs": [
    {
     "data": {
      "text/html": [
       "<div>\n",
       "<style scoped>\n",
       "    .dataframe tbody tr th:only-of-type {\n",
       "        vertical-align: middle;\n",
       "    }\n",
       "\n",
       "    .dataframe tbody tr th {\n",
       "        vertical-align: top;\n",
       "    }\n",
       "\n",
       "    .dataframe thead th {\n",
       "        text-align: right;\n",
       "    }\n",
       "</style>\n",
       "<table border=\"1\" class=\"dataframe\">\n",
       "  <thead>\n",
       "    <tr style=\"text-align: right;\">\n",
       "      <th></th>\n",
       "      <th>labels</th>\n",
       "      <th>text</th>\n",
       "    </tr>\n",
       "  </thead>\n",
       "  <tbody>\n",
       "    <tr>\n",
       "      <th>0</th>\n",
       "      <td>0</td>\n",
       "      <td>THESE REALLY DO WORK GREAT WITH SOME TWEAKING ...</td>\n",
       "    </tr>\n",
       "    <tr>\n",
       "      <th>1</th>\n",
       "      <td>0</td>\n",
       "      <td>Favorite for winter Very warm love dress absol...</td>\n",
       "    </tr>\n",
       "    <tr>\n",
       "      <th>2</th>\n",
       "      <td>0</td>\n",
       "      <td>Great Socks for the money nice sock great colo...</td>\n",
       "    </tr>\n",
       "    <tr>\n",
       "      <th>3</th>\n",
       "      <td>0</td>\n",
       "      <td>Slick hat bought husband slick high quality cr...</td>\n",
       "    </tr>\n",
       "    <tr>\n",
       "      <th>4</th>\n",
       "      <td>0</td>\n",
       "      <td>I would do it again perfect dress customer ser...</td>\n",
       "    </tr>\n",
       "    <tr>\n",
       "      <th>...</th>\n",
       "      <td>...</td>\n",
       "      <td>...</td>\n",
       "    </tr>\n",
       "    <tr>\n",
       "      <th>112624</th>\n",
       "      <td>0</td>\n",
       "      <td>Four Stars work exactly like suppose simple de...</td>\n",
       "    </tr>\n",
       "    <tr>\n",
       "      <th>112625</th>\n",
       "      <td>0</td>\n",
       "      <td>For the price it is a good reliable phone for ...</td>\n",
       "    </tr>\n",
       "    <tr>\n",
       "      <th>112626</th>\n",
       "      <td>0</td>\n",
       "      <td>Five Stars arrived great condition worth money...</td>\n",
       "    </tr>\n",
       "    <tr>\n",
       "      <th>112627</th>\n",
       "      <td>0</td>\n",
       "      <td>Easy to use easy charge multiple device multip...</td>\n",
       "    </tr>\n",
       "    <tr>\n",
       "      <th>112628</th>\n",
       "      <td>0</td>\n",
       "      <td>Nice little device that meet my need took coup...</td>\n",
       "    </tr>\n",
       "  </tbody>\n",
       "</table>\n",
       "<p>112629 rows × 2 columns</p>\n",
       "</div>"
      ],
      "text/plain": [
       "        labels                                               text\n",
       "0            0  THESE REALLY DO WORK GREAT WITH SOME TWEAKING ...\n",
       "1            0  Favorite for winter Very warm love dress absol...\n",
       "2            0  Great Socks for the money nice sock great colo...\n",
       "3            0  Slick hat bought husband slick high quality cr...\n",
       "4            0  I would do it again perfect dress customer ser...\n",
       "...        ...                                                ...\n",
       "112624       0  Four Stars work exactly like suppose simple de...\n",
       "112625       0  For the price it is a good reliable phone for ...\n",
       "112626       0  Five Stars arrived great condition worth money...\n",
       "112627       0  Easy to use easy charge multiple device multip...\n",
       "112628       0  Nice little device that meet my need took coup...\n",
       "\n",
       "[112629 rows x 2 columns]"
      ]
     },
     "execution_count": 3,
     "metadata": {},
     "output_type": "execute_result"
    }
   ],
   "source": [
    "data = pd.read_csv(\"fake_reviews.csv\")\n",
    "\n",
    "data = data.dropna()\n",
    "data = data.drop_duplicates(subset=['cleaned_review_body'], ignore_index=True)\n",
    "\n",
    "data['titles'] = data['review_headline'].apply(lambda x: re.sub(r'[^\\w\\s]', '', x))\n",
    "data['titles'] = data['titles'].str.strip()\n",
    "\n",
    "\n",
    "data['text'] = data['titles'] + \" \" + data['cleaned_review_body']\n",
    "\n",
    "data = data.drop(columns=[\n",
    "                            \"review_headline\", \n",
    "                            \"review_body\", \n",
    "                            \"cleaned_review_body\", \n",
    "                            \"titles\"\n",
    "                        ]\n",
    "                 )\n",
    "\n",
    "data = data.rename(\n",
    "    columns=\n",
    "    {\n",
    "        \"fake_review\": \"labels\",\n",
    "        \"cleaned_review_body\": \"reviews\",\n",
    "    }\n",
    ")\n",
    "\n",
    "data['labels'] = data['labels'].astype(np.int64)\n",
    "\n",
    "data"
   ]
  },
  {
   "cell_type": "markdown",
   "metadata": {},
   "source": [
    "#### Descriptive Statistics About All Features"
   ]
  },
  {
   "cell_type": "code",
   "execution_count": 4,
   "metadata": {},
   "outputs": [
    {
     "data": {
      "text/html": [
       "<div>\n",
       "<style scoped>\n",
       "    .dataframe tbody tr th:only-of-type {\n",
       "        vertical-align: middle;\n",
       "    }\n",
       "\n",
       "    .dataframe tbody tr th {\n",
       "        vertical-align: top;\n",
       "    }\n",
       "\n",
       "    .dataframe thead th {\n",
       "        text-align: right;\n",
       "    }\n",
       "</style>\n",
       "<table border=\"1\" class=\"dataframe\">\n",
       "  <thead>\n",
       "    <tr style=\"text-align: right;\">\n",
       "      <th></th>\n",
       "      <th>labels</th>\n",
       "      <th>text</th>\n",
       "    </tr>\n",
       "  </thead>\n",
       "  <tbody>\n",
       "    <tr>\n",
       "      <th>count</th>\n",
       "      <td>112629.000000</td>\n",
       "      <td>112629</td>\n",
       "    </tr>\n",
       "    <tr>\n",
       "      <th>unique</th>\n",
       "      <td>NaN</td>\n",
       "      <td>112629</td>\n",
       "    </tr>\n",
       "    <tr>\n",
       "      <th>top</th>\n",
       "      <td>NaN</td>\n",
       "      <td>THESE REALLY DO WORK GREAT WITH SOME TWEAKING ...</td>\n",
       "    </tr>\n",
       "    <tr>\n",
       "      <th>freq</th>\n",
       "      <td>NaN</td>\n",
       "      <td>1</td>\n",
       "    </tr>\n",
       "    <tr>\n",
       "      <th>mean</th>\n",
       "      <td>0.171412</td>\n",
       "      <td>NaN</td>\n",
       "    </tr>\n",
       "    <tr>\n",
       "      <th>std</th>\n",
       "      <td>0.376871</td>\n",
       "      <td>NaN</td>\n",
       "    </tr>\n",
       "    <tr>\n",
       "      <th>min</th>\n",
       "      <td>0.000000</td>\n",
       "      <td>NaN</td>\n",
       "    </tr>\n",
       "    <tr>\n",
       "      <th>25%</th>\n",
       "      <td>0.000000</td>\n",
       "      <td>NaN</td>\n",
       "    </tr>\n",
       "    <tr>\n",
       "      <th>50%</th>\n",
       "      <td>0.000000</td>\n",
       "      <td>NaN</td>\n",
       "    </tr>\n",
       "    <tr>\n",
       "      <th>75%</th>\n",
       "      <td>0.000000</td>\n",
       "      <td>NaN</td>\n",
       "    </tr>\n",
       "    <tr>\n",
       "      <th>max</th>\n",
       "      <td>1.000000</td>\n",
       "      <td>NaN</td>\n",
       "    </tr>\n",
       "  </tbody>\n",
       "</table>\n",
       "</div>"
      ],
      "text/plain": [
       "               labels                                               text\n",
       "count   112629.000000                                             112629\n",
       "unique            NaN                                             112629\n",
       "top               NaN  THESE REALLY DO WORK GREAT WITH SOME TWEAKING ...\n",
       "freq              NaN                                                  1\n",
       "mean         0.171412                                                NaN\n",
       "std          0.376871                                                NaN\n",
       "min          0.000000                                                NaN\n",
       "25%          0.000000                                                NaN\n",
       "50%          0.000000                                                NaN\n",
       "75%          0.000000                                                NaN\n",
       "max          1.000000                                                NaN"
      ]
     },
     "execution_count": 4,
     "metadata": {},
     "output_type": "execute_result"
    }
   ],
   "source": [
    "data.describe(include='all')"
   ]
  },
  {
   "cell_type": "markdown",
   "metadata": {},
   "source": [
    "#### Histogram: Word Count of Titles & Reviews Combined"
   ]
  },
  {
   "cell_type": "code",
   "execution_count": 5,
   "metadata": {},
   "outputs": [
    {
     "data": {
      "image/png": "[encoded data removed]",
      "text/plain": [
       "<Figure size 1200x600 with 1 Axes>"
      ]
     },
     "metadata": {},
     "output_type": "display_data"
    }
   ],
   "source": [
    "data['word_count'] = data['text'].str.split(\" \").str.len()\n",
    "\n",
    "MIN_INPUT_COUNT = min(data['word_count'])\n",
    "MAX_INPUT_COUNT = max(data['word_count'])\n",
    "INPUT_COUNT_MEAN = data['word_count'].mean()\n",
    "INPUT_COUNT_MEDIAN = data['word_count'].median()\n",
    "\n",
    "n_bin=MAX_INPUT_COUNT + 1\n",
    "data.hist('word_count', \n",
    "          grid=False, \n",
    "          figsize=(12, 6), \n",
    "          range=(0,n_bin + 1), \n",
    "          bins=n_bin + 1)\n",
    "plt.title('Histogram: Word Count of Reviews')\n",
    "plt.xlabel('# of Words')\n",
    "plt.ylabel('# of Samples')\n",
    "\n",
    "# Display & label vertical line @ MINIMUM value\n",
    "plt.axvline(MIN_INPUT_COUNT, color='red', linestyle='dotted', linewidth=2.5)\n",
    "plt.text(MIN_INPUT_COUNT * 16, 7000, 'Shortest:\\n{:.0f}'.format(MIN_INPUT_COUNT), rotation=35)\n",
    "\n",
    "# Display & label vertical line @ MAXIMUM value\n",
    "plt.axvline(MAX_INPUT_COUNT, color='red', linestyle='dotted', linewidth=2.5)\n",
    "plt.text(MAX_INPUT_COUNT - 100, 7000, 'Longest:\\n{:.0f}'.format(MAX_INPUT_COUNT), rotation=35)\n",
    "\n",
    "# Display & label vertical line @ MEAN value\n",
    "plt.axvline(INPUT_COUNT_MEAN, color='green', linestyle='solid', linewidth=2.5)\n",
    "plt.text(INPUT_COUNT_MEAN * 3, 3000, 'Mean\\n(in Green):\\n{:.2f}'.format(INPUT_COUNT_MEAN), rotation=35)\n",
    "\n",
    "# Display & label vertical line @ MEDIAN value\n",
    "plt.axvline(INPUT_COUNT_MEDIAN, color='yellow', linestyle='solid', linewidth=2.5)\n",
    "plt.text(INPUT_COUNT_MEDIAN * 3, 5000, 'Median\\n(in Yellow):\\n{:.2f}'.format(INPUT_COUNT_MEDIAN), rotation=35)\n",
    "\n",
    "plt.show()"
   ]
  },
  {
   "cell_type": "markdown",
   "metadata": {},
   "source": [
    "#### Define Function for Bar Plot Visualization"
   ]
  },
  {
   "cell_type": "code",
   "execution_count": 6,
   "metadata": {},
   "outputs": [],
   "source": [
    "def barplot_visual(feature_to_visualize: pd.Series,\n",
    "                   plot_title: str,\n",
    "                   x_label: str,\n",
    "                   y_label: str = \"# of Samples\",\n",
    "                   ):\n",
    "    \"\"\"\n",
    "    This function returns a histogram for a feature.\n",
    "\n",
    "    Inputs:\n",
    "    - feature_to_visualize: Feature to plot in the form\n",
    "    of pandas Series.\n",
    "    - plot_title: The title of the plot/visual.\n",
    "    - x_label: The string label value for the x label.\n",
    "    - y_label: The string label value for the y label.\n",
    "\n",
    "    Output:\n",
    "    - A Bar Plot.\n",
    "    \"\"\"\n",
    "\n",
    "    assert type(feature_to_visualize) == pd.Series, \\\n",
    "        \"Make sure the dataset input type is a Pandas Series.\"\n",
    "    assert type(plot_title) != 'str', \\\n",
    "        \"The title value must be a string value.\"\n",
    "    assert type(x_label) !=  'str', \\\n",
    "        \"The x label value must be a string value.\"\n",
    "    assert type(y_label) != 'str', \\\n",
    "        \"The y label value must be a string value.\"\n",
    "\n",
    "    ax = feature_to_visualize.value_counts().plot.bar(\n",
    "                                                      figsize=(8,6),\n",
    "                                                      rot=0,\n",
    "                                                      legend=False,\n",
    "                                                      color=[\"lightgreen\",\n",
    "                                                             \"blue\",\n",
    "                                                             \"brown\",\n",
    "                                                             \"lightblue\",\n",
    "                                                             \"tan\",\n",
    "                                                             \"yellow\",\n",
    "                                                             \"orange\",\n",
    "                                                             \"green\",\n",
    "                                                             \"red\",\n",
    "                                                             \"purple\"]\n",
    "                                                      )\n",
    "\n",
    "    ax.bar_label(ax.containers[0])\n",
    "\n",
    "    plt.suptitle('')\n",
    "    plt.title(plot_title)\n",
    "    plt.ylabel(y_label)\n",
    "    plt.xlabel(x_label)\n",
    "\n",
    "    plt.show()"
   ]
  },
  {
   "cell_type": "markdown",
   "metadata": {},
   "source": [
    "#### Bar Plot: Class Distribution"
   ]
  },
  {
   "cell_type": "code",
   "execution_count": 7,
   "metadata": {},
   "outputs": [
    {
     "data": {
      "image/png": "[encoded data removed]",
      "text/plain": [
       "<Figure size 800x600 with 1 Axes>"
      ]
     },
     "metadata": {},
     "output_type": "display_data"
    }
   ],
   "source": [
    "barplot_visual(data[\"labels\"],\n",
    "               \"Class Distribution\",\n",
    "               \"Class Distribution\",\n",
    "               \"# of Samples\",\n",
    "               )"
   ]
  },
  {
   "cell_type": "markdown",
   "metadata": {},
   "source": [
    "#### Remove Overly Lengthy Inputs & Unnecessary Features"
   ]
  },
  {
   "cell_type": "code",
   "execution_count": 8,
   "metadata": {},
   "outputs": [
    {
     "data": {
      "text/html": [
       "<div>\n",
       "<style scoped>\n",
       "    .dataframe tbody tr th:only-of-type {\n",
       "        vertical-align: middle;\n",
       "    }\n",
       "\n",
       "    .dataframe tbody tr th {\n",
       "        vertical-align: top;\n",
       "    }\n",
       "\n",
       "    .dataframe thead th {\n",
       "        text-align: right;\n",
       "    }\n",
       "</style>\n",
       "<table border=\"1\" class=\"dataframe\">\n",
       "  <thead>\n",
       "    <tr style=\"text-align: right;\">\n",
       "      <th></th>\n",
       "      <th>labels</th>\n",
       "      <th>text</th>\n",
       "    </tr>\n",
       "  </thead>\n",
       "  <tbody>\n",
       "    <tr>\n",
       "      <th>count</th>\n",
       "      <td>111331.000000</td>\n",
       "      <td>111331</td>\n",
       "    </tr>\n",
       "    <tr>\n",
       "      <th>unique</th>\n",
       "      <td>NaN</td>\n",
       "      <td>111331</td>\n",
       "    </tr>\n",
       "    <tr>\n",
       "      <th>top</th>\n",
       "      <td>NaN</td>\n",
       "      <td>Favorite for winter Very warm love dress absol...</td>\n",
       "    </tr>\n",
       "    <tr>\n",
       "      <th>freq</th>\n",
       "      <td>NaN</td>\n",
       "      <td>1</td>\n",
       "    </tr>\n",
       "    <tr>\n",
       "      <th>mean</th>\n",
       "      <td>0.166836</td>\n",
       "      <td>NaN</td>\n",
       "    </tr>\n",
       "    <tr>\n",
       "      <th>std</th>\n",
       "      <td>0.372831</td>\n",
       "      <td>NaN</td>\n",
       "    </tr>\n",
       "    <tr>\n",
       "      <th>min</th>\n",
       "      <td>0.000000</td>\n",
       "      <td>NaN</td>\n",
       "    </tr>\n",
       "    <tr>\n",
       "      <th>25%</th>\n",
       "      <td>0.000000</td>\n",
       "      <td>NaN</td>\n",
       "    </tr>\n",
       "    <tr>\n",
       "      <th>50%</th>\n",
       "      <td>0.000000</td>\n",
       "      <td>NaN</td>\n",
       "    </tr>\n",
       "    <tr>\n",
       "      <th>75%</th>\n",
       "      <td>0.000000</td>\n",
       "      <td>NaN</td>\n",
       "    </tr>\n",
       "    <tr>\n",
       "      <th>max</th>\n",
       "      <td>1.000000</td>\n",
       "      <td>NaN</td>\n",
       "    </tr>\n",
       "  </tbody>\n",
       "</table>\n",
       "</div>"
      ],
      "text/plain": [
       "               labels                                               text\n",
       "count   111331.000000                                             111331\n",
       "unique            NaN                                             111331\n",
       "top               NaN  Favorite for winter Very warm love dress absol...\n",
       "freq              NaN                                                  1\n",
       "mean         0.166836                                                NaN\n",
       "std          0.372831                                                NaN\n",
       "min          0.000000                                                NaN\n",
       "25%          0.000000                                                NaN\n",
       "50%          0.000000                                                NaN\n",
       "75%          0.000000                                                NaN\n",
       "max          1.000000                                                NaN"
      ]
     },
     "execution_count": 8,
     "metadata": {},
     "output_type": "execute_result"
    }
   ],
   "source": [
    "data = data[data['word_count'] < 121]\n",
    "\n",
    "data = data.drop(columns=['word_count'])\n",
    "\n",
    "data = data.reset_index(drop=True)\n",
    "\n",
    "data.describe(include='all')"
   ]
  },
  {
   "cell_type": "markdown",
   "metadata": {},
   "source": [
    "#### Convert Pandas DataFrame to Dataset & Split into Training & Testing Datasets"
   ]
  },
  {
   "cell_type": "code",
   "execution_count": 9,
   "metadata": {},
   "outputs": [
    {
     "name": "stdout",
     "output_type": "stream",
     "text": [
      "Training Dataset Shape: (83498, 2)\n",
      "Testing Dataset Shape: (27833, 2)\n"
     ]
    }
   ],
   "source": [
    "dataset = Dataset.from_pandas(data)\n",
    "\n",
    "train_test = dataset.train_test_split(test_size=0.25)\n",
    "\n",
    "ds = DatasetDict({\n",
    "    'train': train_test['train'],\n",
    "    'test': train_test['test'],\n",
    "})\n",
    "\n",
    "print(f'Training Dataset Shape: {ds[\"train\"].shape}')\n",
    "print(f'Testing Dataset Shape: {ds[\"test\"].shape}')"
   ]
  },
  {
   "cell_type": "markdown",
   "metadata": {},
   "source": [
    "#### Convert Between String & Integer Class Types"
   ]
  },
  {
   "cell_type": "code",
   "execution_count": 10,
   "metadata": {},
   "outputs": [
    {
     "name": "stdout",
     "output_type": "stream",
     "text": [
      "List of Unique Label Values:\n",
      "['Real', 'Fake']\n",
      "Number of Unique Label Values:\n",
      "2\n",
      "Converting Label Values From String to Integer:\n",
      "{'Real': 0, 'Fake': 1}\n",
      "Converting Label Values From Integer to String:\n",
      "{0: 'Real', 1: 'Fake'}\n"
     ]
    }
   ],
   "source": [
    "unique_label_values = [\"Real\", \"Fake\"]\n",
    "\n",
    "NUM_OF_LABELS = len(unique_label_values)\n",
    "\n",
    "label2id = {label: idx for idx, label in enumerate(unique_label_values)}\n",
    "id2label = {idx: label for idx, label in enumerate(unique_label_values)}\n",
    "\n",
    "print(f\"List of Unique Label Values:\\n{unique_label_values}\")\n",
    "print(f\"Number of Unique Label Values:\\n{NUM_OF_LABELS}\")\n",
    "print(f\"Converting Label Values From String to Integer:\\n{label2id}\")\n",
    "print(f\"Converting Label Values From Integer to String:\\n{id2label}\")"
   ]
  },
  {
   "cell_type": "markdown",
   "metadata": {},
   "source": [
    "#### Baisc Values/Constants"
   ]
  },
  {
   "cell_type": "code",
   "execution_count": 11,
   "metadata": {},
   "outputs": [],
   "source": [
    "MODEL_CKPT = \"bert-large-uncased\"\n",
    "MODEL_NAME = f\"{MODEL_CKPT.split('/')[-1]}-Fake_Reviews_Classifier\"\n",
    "\n",
    "NUM_OF_EPOCHS = 5\n",
    "LR = 1e-3\n",
    "\n",
    "REPORTS_TO = \"tensorboard\"\n",
    "WEIGHT_DECAY = 0.01\n",
    "\n",
    "STRATEGY = \"epoch\"\n",
    "DEVICE = torch.device(\"cuda\" if torch.cuda.is_available() else \"cpu\")\n",
    "\n",
    "set_seed = 42"
   ]
  },
  {
   "cell_type": "markdown",
   "metadata": {},
   "source": [
    "#### Define Tokenizer"
   ]
  },
  {
   "cell_type": "code",
   "execution_count": 12,
   "metadata": {},
   "outputs": [],
   "source": [
    "if any(k in MODEL_CKPT for k in (\"gpt\", \"opt\", \"bloom\")):\n",
    "    padding_side = \"left\"\n",
    "else:\n",
    "    padding_side = \"right\"\n",
    "    \n",
    "tokenizer = AutoTokenizer.from_pretrained(MODEL_CKPT, \n",
    "                                          padding_side=padding_side)\n",
    "\n",
    "if getattr(tokenizer, \"pad_token_id\") is None:\n",
    "    tokenizer.pad_token_id = tokenizer.eos_token_id\n",
    "    \n",
    "def tokenize(samples):\n",
    "    return tokenizer(samples[\"text\"],\n",
    "                     truncation=True,\n",
    "                     max_length=None)"
   ]
  },
  {
   "cell_type": "markdown",
   "metadata": {},
   "source": [
    "#### Tokenize Entire Dataset"
   ]
  },
  {
   "cell_type": "code",
   "execution_count": 13,
   "metadata": {},
   "outputs": [
    {
     "data": {
      "application/vnd.jupyter.widget-view+json": {
       "model_id": "a05f7e191d184148831813c14b96dbce",
       "version_major": 2,
       "version_minor": 0
      },
      "text/plain": [
       "Map:   0%|          | 0/83498 [00:00<?, ? examples/s]"
      ]
     },
     "metadata": {},
     "output_type": "display_data"
    },
    {
     "data": {
      "application/vnd.jupyter.widget-view+json": {
       "model_id": "be69c59f4943437b9bc153e7da5639f3",
       "version_major": 2,
       "version_minor": 0
      },
      "text/plain": [
       "Map:   0%|          | 0/27833 [00:00<?, ? examples/s]"
      ]
     },
     "metadata": {},
     "output_type": "display_data"
    },
    {
     "data": {
      "text/plain": [
       "Dataset({\n",
       "    features: ['labels', 'input_ids', 'token_type_ids', 'attention_mask'],\n",
       "    num_rows: 83498\n",
       "})"
      ]
     },
     "execution_count": 13,
     "metadata": {},
     "output_type": "execute_result"
    }
   ],
   "source": [
    "encoded_ds = ds.map(tokenize, \n",
    "                    batched=True, \n",
    "                    remove_columns=['text'])\n",
    "\n",
    "encoded_ds['train']"
   ]
  },
  {
   "cell_type": "markdown",
   "metadata": {},
   "source": [
    "#### Define Compute Metrics Function"
   ]
  },
  {
   "cell_type": "code",
   "execution_count": 14,
   "metadata": {},
   "outputs": [],
   "source": [
    "def compute_metrics(p):\n",
    "    \"\"\"\n",
    "    This function takes the predictions output from \n",
    "    trainer.evaluate & returns the following metrics:\n",
    "    - Accuracy\n",
    "    - F1 (Weighted, Micro, & Macro Averaged)\n",
    "    - Recall (Weighted, Micro, & Macro Averaged)\n",
    "    - Precision (Weighted, Micro, & Macro Averaged)\n",
    "    \"\"\"\n",
    "    accuracy_metric = evaluate.load(\"accuracy\")\n",
    "    accuracy = accuracy_metric.compute(predictions=np.argmax(p.predictions, \n",
    "                                                             axis=1), \n",
    "                                       references=p.label_ids)['accuracy']\n",
    "    \n",
    "    ### ------------------- F1 scores -------------------\n",
    "    \n",
    "    f1_score_metric = evaluate.load(\"f1\")\n",
    "    weighted_f1_score = f1_score_metric.compute(predictions=np.argmax(p.predictions, \n",
    "                                                                      axis=1), \n",
    "                                                references=p.label_ids, \n",
    "                                                average='weighted')[\"f1\"]\n",
    "    \n",
    "    micro_f1_score = f1_score_metric.compute(predictions=np.argmax(p.predictions, \n",
    "                                                                   axis=1), \n",
    "                                             references=p.label_ids, \n",
    "                                             average='micro')['f1']\n",
    "    \n",
    "    macro_f1_score = f1_score_metric.compute(predictions=np.argmax(p.predictions, \n",
    "                                                                   axis=1), \n",
    "                                             references=p.label_ids, \n",
    "                                             average='macro')[\"f1\"]\n",
    "    \n",
    "    ### ------------------- recall -------------------\n",
    "    \n",
    "    recall_metric = evaluate.load(\"recall\")\n",
    "    weighted_recall = recall_metric.compute(predictions=np.argmax(p.predictions, \n",
    "                                                                  axis=1), \n",
    "                                            references=p.label_ids, \n",
    "                                            average='weighted')[\"recall\"]\n",
    "    \n",
    "    micro_recall = recall_metric.compute(predictions=np.argmax(p.predictions, \n",
    "                                                               axis=1), \n",
    "                                         references=p.label_ids, \n",
    "                                         average='micro')[\"recall\"]\n",
    "    \n",
    "    macro_recall = recall_metric.compute(predictions=np.argmax(p.predictions, \n",
    "                                                               axis=1), \n",
    "                                         references=p.label_ids, \n",
    "                                         average='macro')[\"recall\"]\n",
    "    \n",
    "    ### ------------------- precision -------------------\n",
    "    \n",
    "    precision_metric = evaluate.load(\"precision\")\n",
    "    weighted_precision = precision_metric.compute(predictions=np.argmax(p.predictions, \n",
    "                                                                        axis=1), \n",
    "                                                  references=p.label_ids, \n",
    "                                                  average='weighted')[\"precision\"]\n",
    "    \n",
    "    micro_precision = precision_metric.compute(predictions=np.argmax(p.predictions, \n",
    "                                                                     axis=1), \n",
    "                                               references=p.label_ids, \n",
    "                                               average='micro')[\"precision\"]\n",
    "    \n",
    "    macro_precision = precision_metric.compute(predictions=np.argmax(p.predictions, \n",
    "                                                                     axis=1), \n",
    "                                               references=p.label_ids, \n",
    "                                               average='macro')[\"precision\"]\n",
    "    \n",
    "    return {\"accuracy\" : accuracy, \n",
    "            \"Weighted F1\" : weighted_f1_score,\n",
    "            \"Micro F1\" : micro_f1_score,\n",
    "            \"Macro F1\" : macro_f1_score,\n",
    "            \"Weighted Recall\" : weighted_recall,\n",
    "            \"Micro Recall\" : micro_recall,\n",
    "            \"Macro Recall\" : macro_recall,\n",
    "            \"Weighted Precision\" : weighted_precision,\n",
    "            \"Micro Precision\" : micro_precision,\n",
    "            \"Macro Precision\" : macro_precision\n",
    "            }"
   ]
  },
  {
   "cell_type": "markdown",
   "metadata": {},
   "source": [
    "#### Define Data Collator"
   ]
  },
  {
   "cell_type": "code",
   "execution_count": 15,
   "metadata": {},
   "outputs": [],
   "source": [
    "data_collator = DataCollatorWithPadding(tokenizer=tokenizer, \n",
    "                                        padding=\"longest\")"
   ]
  },
  {
   "cell_type": "markdown",
   "metadata": {},
   "source": [
    "#### Define PEFT Configuration"
   ]
  },
  {
   "cell_type": "code",
   "execution_count": 16,
   "metadata": {},
   "outputs": [],
   "source": [
    "peft_config = PromptEncoderConfig(\n",
    "    task_type=\"SEQ_CLS\",\n",
    "    num_virtual_tokens=20,\n",
    "    encoder_hidden_size=128\n",
    ")"
   ]
  },
  {
   "cell_type": "markdown",
   "metadata": {},
   "source": [
    "#### Define Model"
   ]
  },
  {
   "cell_type": "code",
   "execution_count": 17,
   "metadata": {},
   "outputs": [
    {
     "name": "stderr",
     "output_type": "stream",
     "text": [
      "Some weights of BertForSequenceClassification were not initialized from the model checkpoint at bert-large-uncased and are newly initialized: ['classifier.bias', 'classifier.weight']\n",
      "You should probably TRAIN this model on a down-stream task to be able to use it for predictions and inference.\n"
     ]
    }
   ],
   "source": [
    "model = AutoModelForSequenceClassification.from_pretrained(\n",
    "    MODEL_CKPT,\n",
    "    label2id=label2id,\n",
    "    id2label=id2label,\n",
    "    return_dict=True\n",
    "    ).to(DEVICE)"
   ]
  },
  {
   "cell_type": "markdown",
   "metadata": {},
   "source": [
    "#### Apply PEFT Configuration To Model"
   ]
  },
  {
   "cell_type": "code",
   "execution_count": 18,
   "metadata": {},
   "outputs": [
    {
     "name": "stdout",
     "output_type": "stream",
     "text": [
      "trainable params: 304388 || all params: 335446276 || trainable%: 0.09074120709570793\n"
     ]
    },
    {
     "name": "stderr",
     "output_type": "stream",
     "text": [
      "/Users/briandunn/Desktop/python_venvs/torch_cv/lib/python3.9/site-packages/peft/tuners/p_tuning.py:146: UserWarning: for MLP, the `encoder_num_layers` is ignored. Exactly 2 MLP layers are used.\n",
      "  warnings.warn(\n"
     ]
    }
   ],
   "source": [
    "model = get_peft_model(model, \n",
    "                       peft_config)\n",
    "\n",
    "model.print_trainable_parameters()"
   ]
  },
  {
   "cell_type": "markdown",
   "metadata": {},
   "source": [
    "#### Define Training Arguments"
   ]
  },
  {
   "cell_type": "code",
   "execution_count": 19,
   "metadata": {},
   "outputs": [],
   "source": [
    "args = TrainingArguments(\n",
    "    MODEL_NAME,\n",
    "    learning_rate=LR,\n",
    "    auto_find_batch_size=True,\n",
    "    weight_decay=WEIGHT_DECAY,\n",
    "    evaluation_strategy=STRATEGY,\n",
    "    save_strategy=STRATEGY,\n",
    "    logging_first_step=True,\n",
    "    logging_strategy=\"steps\",\n",
    "    logging_steps=522,\n",
    "    group_by_length=True,\n",
    "    report_to=REPORTS_TO,\n",
    "    num_train_epochs=NUM_OF_EPOCHS,\n",
    "    hub_private_repo=True,\n",
    "    push_to_hub=True\n",
    ")"
   ]
  },
  {
   "cell_type": "markdown",
   "metadata": {},
   "source": [
    "#### Subclass Trainer to Handle Class Imbalance"
   ]
  },
  {
   "cell_type": "code",
   "execution_count": 20,
   "metadata": {},
   "outputs": [],
   "source": [
    "class CustomTrainer(Trainer):\n",
    "    def compute_loss(self, model, inputs, return_outputs=False):\n",
    "        labels = inputs.get(\"labels\")\n",
    "        # forward pass\n",
    "        outputs = model(**inputs)\n",
    "        logits = outputs.get(\"logits\")\n",
    "        # compute custom loss for binary classification\n",
    "        loss_fct = nn.CrossEntropyLoss(\n",
    "            weight=torch.tensor(\n",
    "                [  \n",
    "                    1.0, \n",
    "                    2.0\n",
    "                ], device=model.device\n",
    "                )\n",
    "            )\n",
    "        loss = loss_fct(logits.view(-1, \n",
    "                                    self.model.config.num_labels\n",
    "                                    ), \n",
    "                        labels.view(-1)\n",
    "                        )\n",
    "        return (\n",
    "            loss, \n",
    "            outputs\n",
    "            ) if return_outputs else loss"
   ]
  },
  {
   "cell_type": "markdown",
   "metadata": {},
   "source": [
    "#### Define Trainer"
   ]
  },
  {
   "cell_type": "code",
   "execution_count": 21,
   "metadata": {},
   "outputs": [
    {
     "name": "stderr",
     "output_type": "stream",
     "text": [
      "Cloning https://huggingface.co/DunnBC22/bert-large-uncased-Fake_Reviews_Classifier into local empty directory.\n"
     ]
    }
   ],
   "source": [
    "trainer = CustomTrainer(\n",
    "    model,\n",
    "    args,\n",
    "    train_dataset=encoded_ds['train'],\n",
    "    eval_dataset=encoded_ds['test'],\n",
    "    data_collator=data_collator,\n",
    "    tokenizer=tokenizer,\n",
    "    compute_metrics=compute_metrics,\n",
    ")"
   ]
  },
  {
   "cell_type": "markdown",
   "metadata": {},
   "source": [
    "#### Train Model"
   ]
  },
  {
   "cell_type": "code",
   "execution_count": 22,
   "metadata": {},
   "outputs": [
    {
     "name": "stderr",
     "output_type": "stream",
     "text": [
      "/Users/briandunn/Desktop/python_venvs/torch_cv/lib/python3.9/site-packages/transformers/optimization.py:411: FutureWarning: This implementation of AdamW is deprecated and will be removed in a future version. Use the PyTorch implementation torch.optim.AdamW instead, or set `no_deprecation_warning=True` to disable this warning\n",
      "  warnings.warn(\n"
     ]
    },
    {
     "data": {
      "application/vnd.jupyter.widget-view+json": {
       "model_id": "88cb5394016a435bab10f33ec695995e",
       "version_major": 2,
       "version_minor": 0
      },
      "text/plain": [
       "  0%|          | 0/52190 [00:00<?, ?it/s]"
      ]
     },
     "metadata": {},
     "output_type": "display_data"
    },
    {
     "name": "stderr",
     "output_type": "stream",
     "text": [
      "You're using a BertTokenizerFast tokenizer. Please note that with a fast tokenizer, using the `__call__` method is faster than using a method to encode the text followed by a call to the `pad` method to get a padded encoding.\n"
     ]
    },
    {
     "name": "stdout",
     "output_type": "stream",
     "text": [
      "{'loss': 0.7834, 'learning_rate': 0.000999980839241234, 'epoch': 0.0}\n",
      "{'loss': 0.7384, 'learning_rate': 0.0009899980839241235, 'epoch': 0.05}\n",
      "{'loss': 0.7597, 'learning_rate': 0.000979996167848247, 'epoch': 0.1}\n",
      "{'loss': 0.7401, 'learning_rate': 0.0009699942517723703, 'epoch': 0.15}\n",
      "{'loss': 0.7495, 'learning_rate': 0.0009599923356964936, 'epoch': 0.2}\n",
      "{'loss': 0.7017, 'learning_rate': 0.000949990419620617, 'epoch': 0.25}\n",
      "{'loss': 0.7398, 'learning_rate': 0.0009399885035447404, 'epoch': 0.3}\n",
      "{'loss': 0.6949, 'learning_rate': 0.0009299865874688638, 'epoch': 0.35}\n",
      "{'loss': 0.6335, 'learning_rate': 0.0009199846713929871, 'epoch': 0.4}\n",
      "{'loss': 0.648, 'learning_rate': 0.0009099827553171107, 'epoch': 0.45}\n",
      "{'loss': 0.6445, 'learning_rate': 0.000899980839241234, 'epoch': 0.5}\n",
      "{'loss': 0.6429, 'learning_rate': 0.0008899789231653573, 'epoch': 0.55}\n",
      "{'loss': 0.6316, 'learning_rate': 0.0008799770070894808, 'epoch': 0.6}\n",
      "{'loss': 0.6066, 'learning_rate': 0.0008699750910136041, 'epoch': 0.65}\n",
      "{'loss': 0.6397, 'learning_rate': 0.0008599731749377275, 'epoch': 0.7}\n",
      "{'loss': 0.6243, 'learning_rate': 0.0008499712588618509, 'epoch': 0.75}\n",
      "{'loss': 0.6271, 'learning_rate': 0.0008399693427859744, 'epoch': 0.8}\n",
      "{'loss': 0.614, 'learning_rate': 0.0008299674267100977, 'epoch': 0.85}\n",
      "{'loss': 0.6358, 'learning_rate': 0.0008199655106342211, 'epoch': 0.9}\n",
      "{'loss': 0.633, 'learning_rate': 0.0008099635945583445, 'epoch': 0.95}\n"
     ]
    },
    {
     "data": {
      "application/vnd.jupyter.widget-view+json": {
       "model_id": "e386d8a08e7e42218748fbe5f9baa02d",
       "version_major": 2,
       "version_minor": 0
      },
      "text/plain": [
       "  0%|          | 0/3480 [00:00<?, ?it/s]"
      ]
     },
     "metadata": {},
     "output_type": "display_data"
    },
    {
     "name": "stdout",
     "output_type": "stream",
     "text": [
      "{'eval_loss': 0.5608153343200684, 'eval_accuracy': 0.826105701864693, 'eval_Weighted F1': 0.7913544313349856, 'eval_Micro F1': 0.826105701864693, 'eval_Macro F1': 0.5744881635875178, 'eval_Weighted Recall': 0.826105701864693, 'eval_Micro Recall': 0.826105701864693, 'eval_Macro Recall': 0.564346253205228, 'eval_Weighted Precision': 0.7843732666581203, 'eval_Micro Precision': 0.826105701864693, 'eval_Macro Precision': 0.6541570568719827, 'eval_runtime': 2136.2944, 'eval_samples_per_second': 13.029, 'eval_steps_per_second': 1.629, 'epoch': 1.0}\n",
      "{'loss': 0.6139, 'learning_rate': 0.0007999616784824679, 'epoch': 1.0}\n",
      "{'loss': 0.5945, 'learning_rate': 0.0007899597624065913, 'epoch': 1.05}\n",
      "{'loss': 0.6018, 'learning_rate': 0.0007799578463307148, 'epoch': 1.1}\n",
      "{'loss': 0.597, 'learning_rate': 0.0007699559302548381, 'epoch': 1.15}\n",
      "{'loss': 0.5891, 'learning_rate': 0.0007599540141789615, 'epoch': 1.2}\n",
      "{'loss': 0.6139, 'learning_rate': 0.0007499520981030848, 'epoch': 1.25}\n",
      "{'loss': 0.5878, 'learning_rate': 0.0007399501820272084, 'epoch': 1.3}\n",
      "{'loss': 0.6183, 'learning_rate': 0.0007299482659513317, 'epoch': 1.35}\n",
      "{'loss': 0.6038, 'learning_rate': 0.0007199463498754551, 'epoch': 1.4}\n",
      "{'loss': 0.6506, 'learning_rate': 0.0007099444337995785, 'epoch': 1.45}\n",
      "{'loss': 0.6063, 'learning_rate': 0.0006999425177237019, 'epoch': 1.5}\n",
      "{'loss': 0.5931, 'learning_rate': 0.0006899406016478252, 'epoch': 1.55}\n",
      "{'loss': 0.5828, 'learning_rate': 0.0006799386855719488, 'epoch': 1.6}\n",
      "{'loss': 0.5912, 'learning_rate': 0.0006699367694960721, 'epoch': 1.65}\n",
      "{'loss': 0.6105, 'learning_rate': 0.0006599348534201954, 'epoch': 1.7}\n",
      "{'loss': 0.5893, 'learning_rate': 0.0006499329373443188, 'epoch': 1.75}\n",
      "{'loss': 0.611, 'learning_rate': 0.0006399310212684422, 'epoch': 1.8}\n",
      "{'loss': 0.6371, 'learning_rate': 0.0006299291051925656, 'epoch': 1.85}\n",
      "{'loss': 0.5925, 'learning_rate': 0.000619927189116689, 'epoch': 1.9}\n",
      "{'loss': 0.6029, 'learning_rate': 0.0006099252730408125, 'epoch': 1.95}\n"
     ]
    },
    {
     "data": {
      "application/vnd.jupyter.widget-view+json": {
       "model_id": "68a59cee273f4736a081f02b536908c2",
       "version_major": 2,
       "version_minor": 0
      },
      "text/plain": [
       "  0%|          | 0/3480 [00:00<?, ?it/s]"
      ]
     },
     "metadata": {},
     "output_type": "display_data"
    },
    {
     "name": "stdout",
     "output_type": "stream",
     "text": [
      "{'eval_loss': 0.6489848494529724, 'eval_accuracy': 0.8330758452197032, 'eval_Weighted F1': 0.7724263350491593, 'eval_Micro F1': 0.8330758452197032, 'eval_Macro F1': 0.5060450221643912, 'eval_Weighted Recall': 0.8330758452197032, 'eval_Micro Recall': 0.8330758452197032, 'eval_Macro Recall': 0.5239477514921818, 'eval_Weighted Precision': 0.7892310862523967, 'eval_Micro Precision': 0.8330758452197032, 'eval_Macro Precision': 0.6929448637916937, 'eval_runtime': 1320.9895, 'eval_samples_per_second': 21.07, 'eval_steps_per_second': 2.634, 'epoch': 2.0}\n",
      "{'loss': 0.5882, 'learning_rate': 0.0005999233569649358, 'epoch': 2.0}\n",
      "{'loss': 0.5831, 'learning_rate': 0.0005899214408890592, 'epoch': 2.05}\n",
      "{'loss': 0.5755, 'learning_rate': 0.0005799195248131826, 'epoch': 2.1}\n",
      "{'loss': 0.5822, 'learning_rate': 0.000569917608737306, 'epoch': 2.15}\n",
      "{'loss': 0.5632, 'learning_rate': 0.0005599156926614294, 'epoch': 2.2}\n",
      "{'loss': 0.5756, 'learning_rate': 0.0005499137765855528, 'epoch': 2.25}\n",
      "{'loss': 0.6018, 'learning_rate': 0.0005399118605096762, 'epoch': 2.3}\n",
      "{'loss': 0.5978, 'learning_rate': 0.0005299099444337996, 'epoch': 2.35}\n",
      "{'loss': 0.5767, 'learning_rate': 0.0005199080283579229, 'epoch': 2.4}\n",
      "{'loss': 0.5538, 'learning_rate': 0.0005099061122820464, 'epoch': 2.45}\n",
      "{'loss': 0.5621, 'learning_rate': 0.0004999041962061698, 'epoch': 2.5}\n",
      "{'loss': 0.594, 'learning_rate': 0.0004899022801302932, 'epoch': 2.55}\n",
      "{'loss': 0.5616, 'learning_rate': 0.00047990036405441656, 'epoch': 2.6}\n",
      "{'loss': 0.5444, 'learning_rate': 0.00046989844797853996, 'epoch': 2.65}\n",
      "{'loss': 0.5558, 'learning_rate': 0.00045989653190266336, 'epoch': 2.7}\n",
      "{'loss': 0.5415, 'learning_rate': 0.00044989461582678675, 'epoch': 2.75}\n",
      "{'loss': 0.5452, 'learning_rate': 0.0004398926997509101, 'epoch': 2.8}\n",
      "{'loss': 0.5595, 'learning_rate': 0.00042989078367503355, 'epoch': 2.85}\n",
      "{'loss': 0.565, 'learning_rate': 0.00041988886759915695, 'epoch': 2.9}\n",
      "{'loss': 0.5478, 'learning_rate': 0.0004098869515232803, 'epoch': 2.95}\n"
     ]
    },
    {
     "data": {
      "application/vnd.jupyter.widget-view+json": {
       "model_id": "f2b4494efeae4a91af95741d009402bf",
       "version_major": 2,
       "version_minor": 0
      },
      "text/plain": [
       "  0%|          | 0/3480 [00:00<?, ?it/s]"
      ]
     },
     "metadata": {},
     "output_type": "display_data"
    },
    {
     "name": "stdout",
     "output_type": "stream",
     "text": [
      "{'eval_loss': 0.5508156418800354, 'eval_accuracy': 0.8304530593180757, 'eval_Weighted F1': 0.8070780134214183, 'eval_Micro F1': 0.8304530593180757, 'eval_Macro F1': 0.6188634906559709, 'eval_Weighted Recall': 0.8304530593180757, 'eval_Micro Recall': 0.8304530593180757, 'eval_Macro Recall': 0.6003398559173716, 'eval_Weighted Precision': 0.8001960025950923, 'eval_Micro Precision': 0.8304530593180757, 'eval_Macro Precision': 0.6783819638851676, 'eval_runtime': 1285.8765, 'eval_samples_per_second': 21.645, 'eval_steps_per_second': 2.706, 'epoch': 3.0}\n",
      "{'loss': 0.5593, 'learning_rate': 0.00039988503544740374, 'epoch': 3.0}\n",
      "{'loss': 0.5348, 'learning_rate': 0.0003898831193715271, 'epoch': 3.05}\n",
      "{'loss': 0.5459, 'learning_rate': 0.0003798812032956505, 'epoch': 3.1}\n",
      "{'loss': 0.5544, 'learning_rate': 0.00036987928721977394, 'epoch': 3.15}\n",
      "{'loss': 0.5442, 'learning_rate': 0.0003598773711438973, 'epoch': 3.2}\n",
      "{'loss': 0.542, 'learning_rate': 0.00034987545506802074, 'epoch': 3.25}\n",
      "{'loss': 0.5325, 'learning_rate': 0.0003398735389921441, 'epoch': 3.3}\n",
      "{'loss': 0.5525, 'learning_rate': 0.0003298716229162675, 'epoch': 3.35}\n",
      "{'loss': 0.5547, 'learning_rate': 0.00031986970684039093, 'epoch': 3.4}\n",
      "{'loss': 0.5484, 'learning_rate': 0.0003098677907645143, 'epoch': 3.45}\n",
      "{'loss': 0.5368, 'learning_rate': 0.00029986587468863767, 'epoch': 3.5}\n",
      "{'loss': 0.5487, 'learning_rate': 0.00028986395861276107, 'epoch': 3.55}\n",
      "{'loss': 0.5403, 'learning_rate': 0.00027986204253688447, 'epoch': 3.6}\n",
      "{'loss': 0.5459, 'learning_rate': 0.00026986012646100787, 'epoch': 3.65}\n",
      "{'loss': 0.5376, 'learning_rate': 0.00025985821038513126, 'epoch': 3.7}\n",
      "{'loss': 0.5186, 'learning_rate': 0.00024985629430925466, 'epoch': 3.75}\n",
      "{'loss': 0.5371, 'learning_rate': 0.00023985437823337806, 'epoch': 3.8}\n",
      "{'loss': 0.5413, 'learning_rate': 0.00022985246215750143, 'epoch': 3.85}\n",
      "{'loss': 0.5328, 'learning_rate': 0.00021985054608162483, 'epoch': 3.9}\n",
      "{'loss': 0.513, 'learning_rate': 0.00020984863000574823, 'epoch': 3.95}\n"
     ]
    },
    {
     "data": {
      "application/vnd.jupyter.widget-view+json": {
       "model_id": "fe47dd85ad6b47cda5c7b0b7b4b7df3a",
       "version_major": 2,
       "version_minor": 0
      },
      "text/plain": [
       "  0%|          | 0/3480 [00:00<?, ?it/s]"
      ]
     },
     "metadata": {},
     "output_type": "display_data"
    },
    {
     "name": "stdout",
     "output_type": "stream",
     "text": [
      "{'eval_loss': 0.5459285974502563, 'eval_accuracy': 0.8347285596234686, 'eval_Weighted F1': 0.8100695837354521, 'eval_Micro F1': 0.8347285596234686, 'eval_Macro F1': 0.6224111150035051, 'eval_Weighted Recall': 0.8347285596234686, 'eval_Micro Recall': 0.8347285596234686, 'eval_Macro Recall': 0.60231662265339, 'eval_Weighted Precision': 0.8049325371288767, 'eval_Micro Precision': 0.8347285596234686, 'eval_Macro Precision': 0.6915564589610266, 'eval_runtime': 1277.4842, 'eval_samples_per_second': 21.787, 'eval_steps_per_second': 2.724, 'epoch': 4.0}\n",
      "{'loss': 0.5375, 'learning_rate': 0.00019984671392987163, 'epoch': 4.0}\n",
      "{'loss': 0.5505, 'learning_rate': 0.00018984479785399502, 'epoch': 4.05}\n",
      "{'loss': 0.5258, 'learning_rate': 0.00017984288177811842, 'epoch': 4.1}\n",
      "{'loss': 0.5132, 'learning_rate': 0.00016984096570224182, 'epoch': 4.15}\n",
      "{'loss': 0.5182, 'learning_rate': 0.0001598390496263652, 'epoch': 4.2}\n",
      "{'loss': 0.5147, 'learning_rate': 0.00014983713355048862, 'epoch': 4.25}\n",
      "{'loss': 0.5364, 'learning_rate': 0.00013983521747461201, 'epoch': 4.3}\n",
      "{'loss': 0.53, 'learning_rate': 0.00012983330139873538, 'epoch': 4.35}\n",
      "{'loss': 0.5288, 'learning_rate': 0.00011983138532285878, 'epoch': 4.4}\n",
      "{'loss': 0.5087, 'learning_rate': 0.00010982946924698218, 'epoch': 4.45}\n",
      "{'loss': 0.5101, 'learning_rate': 9.982755317110558e-05, 'epoch': 4.5}\n",
      "{'loss': 0.5235, 'learning_rate': 8.982563709522898e-05, 'epoch': 4.55}\n",
      "{'loss': 0.5143, 'learning_rate': 7.982372101935238e-05, 'epoch': 4.6}\n",
      "{'loss': 0.5299, 'learning_rate': 6.982180494347576e-05, 'epoch': 4.65}\n",
      "{'loss': 0.5362, 'learning_rate': 5.981988886759916e-05, 'epoch': 4.7}\n",
      "{'loss': 0.5186, 'learning_rate': 4.981797279172255e-05, 'epoch': 4.75}\n",
      "{'loss': 0.5256, 'learning_rate': 3.981605671584595e-05, 'epoch': 4.8}\n",
      "{'loss': 0.5233, 'learning_rate': 2.9814140639969346e-05, 'epoch': 4.85}\n",
      "{'loss': 0.5263, 'learning_rate': 1.9812224564092737e-05, 'epoch': 4.9}\n",
      "{'loss': 0.5288, 'learning_rate': 9.810308488216133e-06, 'epoch': 4.95}\n"
     ]
    },
    {
     "data": {
      "application/vnd.jupyter.widget-view+json": {
       "model_id": "10a93dee68514ac3b0ca940e9aa4ddf3",
       "version_major": 2,
       "version_minor": 0
      },
      "text/plain": [
       "  0%|          | 0/3480 [00:00<?, ?it/s]"
      ]
     },
     "metadata": {},
     "output_type": "display_data"
    },
    {
     "name": "stdout",
     "output_type": "stream",
     "text": [
      "{'eval_loss': 0.5336272716522217, 'eval_accuracy': 0.8381417741529839, 'eval_Weighted F1': 0.8141748808079556, 'eval_Micro F1': 0.8381417741529839, 'eval_Macro F1': 0.6307998158823078, 'eval_Weighted Recall': 0.8381417741529839, 'eval_Micro Recall': 0.8381417741529839, 'eval_Macro Recall': 0.6089557840149206, 'eval_Weighted Precision': 0.810121498718634, 'eval_Micro Precision': 0.8381417741529839, 'eval_Macro Precision': 0.7029273840489014, 'eval_runtime': 1277.7048, 'eval_samples_per_second': 21.784, 'eval_steps_per_second': 2.724, 'epoch': 5.0}\n",
      "{'train_runtime': 32322.6365, 'train_samples_per_second': 12.916, 'train_steps_per_second': 1.615, 'train_loss': 0.5799241374931839, 'epoch': 5.0}\n"
     ]
    }
   ],
   "source": [
    "train_results = trainer.train()"
   ]
  },
  {
   "cell_type": "markdown",
   "metadata": {},
   "source": [
    "#### Save & Log Model"
   ]
  },
  {
   "cell_type": "code",
   "execution_count": 23,
   "metadata": {},
   "outputs": [
    {
     "name": "stderr",
     "output_type": "stream",
     "text": [
      "Several commits (2) will be pushed upstream.\n",
      "The progress bars may be unreliable.\n"
     ]
    },
    {
     "data": {
      "application/vnd.jupyter.widget-view+json": {
       "model_id": "231f33845f3043dd8ea347444e0233a2",
       "version_major": 2,
       "version_minor": 0
      },
      "text/plain": [
       "Upload file runs/Aug07_22-08-29_Brians-Mac-mini.local/events.out.tfevents.1691464119.Brians-Mac-mini.local.213…"
      ]
     },
     "metadata": {},
     "output_type": "display_data"
    },
    {
     "name": "stderr",
     "output_type": "stream",
     "text": [
      "To https://huggingface.co/DunnBC22/bert-large-uncased-Fake_Reviews_Classifier\n",
      "   b1aca83..8604ec7  main -> main\n",
      "\n",
      "To https://huggingface.co/DunnBC22/bert-large-uncased-Fake_Reviews_Classifier\n",
      "   8604ec7..20c1e24  main -> main\n",
      "\n"
     ]
    },
    {
     "name": "stdout",
     "output_type": "stream",
     "text": [
      "***** train metrics *****\n",
      "  epoch                    =        5.0\n",
      "  train_loss               =     0.5799\n",
      "  train_runtime            = 8:58:42.63\n",
      "  train_samples_per_second =     12.916\n",
      "  train_steps_per_second   =      1.615\n"
     ]
    }
   ],
   "source": [
    "trainer.save_model()\n",
    "trainer.log_metrics(\"train\", train_results.metrics)\n",
    "trainer.save_metrics(\"train\", train_results.metrics)\n",
    "trainer.save_state()"
   ]
  },
  {
   "cell_type": "markdown",
   "metadata": {},
   "source": [
    "#### Push Model to Hub"
   ]
  },
  {
   "cell_type": "code",
   "execution_count": 24,
   "metadata": {},
   "outputs": [
    {
     "name": "stderr",
     "output_type": "stream",
     "text": [
      "To https://huggingface.co/DunnBC22/bert-large-uncased-Fake_Reviews_Classifier\n",
      "   20c1e24..5068037  main -> main\n",
      "\n"
     ]
    },
    {
     "data": {
      "text/plain": [
       "'https://huggingface.co/DunnBC22/bert-large-uncased-Fake_Reviews_Classifier/commit/5068037be81aff8fd24b95e2bf12f4b1138c526b'"
      ]
     },
     "execution_count": 24,
     "metadata": {},
     "output_type": "execute_result"
    }
   ],
   "source": [
    "trainer.push_to_hub(commit_message=\"All Dunn!!!\")"
   ]
  },
  {
   "cell_type": "markdown",
   "metadata": {},
   "source": [
    "### Evaluate Model"
   ]
  },
  {
   "cell_type": "code",
   "execution_count": 25,
   "metadata": {},
   "outputs": [
    {
     "data": {
      "application/vnd.jupyter.widget-view+json": {
       "model_id": "0bc7f95c3c754bdda992acabb7173f7c",
       "version_major": 2,
       "version_minor": 0
      },
      "text/plain": [
       "  0%|          | 0/3480 [00:00<?, ?it/s]"
      ]
     },
     "metadata": {},
     "output_type": "display_data"
    },
    {
     "data": {
      "text/plain": [
       "{'eval_loss': 0.5336272716522217,\n",
       " 'eval_accuracy': 0.8381417741529839,\n",
       " 'eval_Weighted F1': 0.8141748808079556,\n",
       " 'eval_Micro F1': 0.8381417741529839,\n",
       " 'eval_Macro F1': 0.6307998158823078,\n",
       " 'eval_Weighted Recall': 0.8381417741529839,\n",
       " 'eval_Micro Recall': 0.8381417741529839,\n",
       " 'eval_Macro Recall': 0.6089557840149206,\n",
       " 'eval_Weighted Precision': 0.810121498718634,\n",
       " 'eval_Micro Precision': 0.8381417741529839,\n",
       " 'eval_Macro Precision': 0.7029273840489014,\n",
       " 'eval_runtime': 1274.7167,\n",
       " 'eval_samples_per_second': 21.835,\n",
       " 'eval_steps_per_second': 2.73,\n",
       " 'epoch': 5.0}"
      ]
     },
     "execution_count": 25,
     "metadata": {},
     "output_type": "execute_result"
    }
   ],
   "source": [
    "metrics = trainer.evaluate()\n",
    "\n",
    "metrics"
   ]
  },
  {
   "cell_type": "markdown",
   "metadata": {},
   "source": [
    "### Notes & Other Takeaways From This Project\n",
    "\n",
    "****\n",
    "- I was looking for better results.\n",
    "\n",
    "****"
   ]
  },
  {
   "cell_type": "markdown",
   "metadata": {},
   "source": [
    "### Citations\n",
    "\n",
    "- Model Checkpoint\n",
    "    > @article{DBLP:journals/corr/abs-1810-04805, author = {Jacob Devlin and Ming{-}Wei Chang and Kenton Lee and Kristina Toutanova}, title = {{BERT:} Pre-training of Deep Bidirectional Transformers for Language Understanding}, journal = {CoRR}, volume = {abs/1810.04805}, year = {2018}, url = {http://arxiv.org/abs/1810.04805}, archivePrefix = {arXiv}, eprint = {1810.04805}, timestamp = {Tue, 30 Oct 2018 20:39:56 +0100}, biburl = {https://dblp.org/rec/journals/corr/abs-1810-04805.bib}, bibsource = {dblp computer science bibliography, https://dblp.org}}"
   ]
  }
 ],
 "metadata": {
  "kernelspec": {
   "display_name": "torch_cv",
   "language": "python",
   "name": "python3"
  },
  "language_info": {
   "codemirror_mode": {
    "name": "ipython",
    "version": 3
   },
   "file_extension": ".py",
   "mimetype": "text/x-python",
   "name": "python",
   "nbconvert_exporter": "python",
   "pygments_lexer": "ipython3",
   "version": "3.9.12"
  },
  "orig_nbformat": 4
 },
 "nbformat": 4,
 "nbformat_minor": 2
}
