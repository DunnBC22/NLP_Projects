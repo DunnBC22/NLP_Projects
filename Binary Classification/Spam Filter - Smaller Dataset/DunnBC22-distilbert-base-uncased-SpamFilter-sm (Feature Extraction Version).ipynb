{
 "cells": [
  {
   "cell_type": "markdown",
   "id": "2007d2da",
   "metadata": {},
   "source": [
    "## Binary Text Classification - SpamFilter - Small File"
   ]
  },
  {
   "cell_type": "markdown",
   "metadata": {},
   "source": [
    "This is the Feature Extraction version of the Spam FIlter that is saved as 'distilbert-base-uncased-OnionOrNot' on my HuggingFace profile\n",
    "\n",
    "-Source for the Dataset: https://www.kaggle.com/datasets/datatattle/email-classification-nlp\n",
    "\n",
    "@article{Sanh2019DistilBERTAD,\n",
    "  title={DistilBERT, a distilled version of BERT: smaller, faster, cheaper and lighter},\n",
    "  author={Victor Sanh and Lysandre Debut and Julien Chaumond and Thomas Wolf},\n",
    "  journal={ArXiv},\n",
    "  year={2019},\n",
    "  volume={abs/1910.01108}\n",
    "}"
   ]
  },
  {
   "cell_type": "markdown",
   "id": "e6d2a6fb",
   "metadata": {},
   "source": [
    "### Exploratory Data Analysis"
   ]
  },
  {
   "cell_type": "markdown",
   "id": "cf8a06e9",
   "metadata": {},
   "source": [
    "#### Importing Necessary Libraries for Project"
   ]
  },
  {
   "cell_type": "code",
   "execution_count": 1,
   "id": "8c88f3bf",
   "metadata": {},
   "outputs": [
    {
     "name": "stderr",
     "output_type": "stream",
     "text": [
      "NOTE: Redirects are currently not supported in Windows or MacOs.\n"
     ]
    }
   ],
   "source": [
    "import os, sys\n",
    "os.environ['TOKENIZERS_PARALLELISM']='false'\n",
    "\n",
    "import pandas as pd\n",
    "import numpy as np\n",
    "\n",
    "import torch\n",
    "from torch.nn.functional import cross_entropy\n",
    "\n",
    "from transformers import AutoTokenizer, AutoModel, AutoModelForSequenceClassification\n",
    "from transformers import Trainer, TrainingArguments, AdamW, get_scheduler, set_seed\n",
    "\n",
    "from datasets import Dataset, DatasetDict\n",
    "\n",
    "from sklearn.metrics import f1_score, accuracy_score, confusion_matrix, ConfusionMatrixDisplay\n",
    "from sklearn.linear_model import LogisticRegression\n",
    "from sklearn.dummy import DummyClassifier\n",
    "\n",
    "\n",
    "import matplotlib.pyplot as plt"
   ]
  },
  {
   "cell_type": "markdown",
   "id": "7c12ebf4",
   "metadata": {},
   "source": [
    "#### Versions of Many Libraries Used"
   ]
  },
  {
   "cell_type": "code",
   "execution_count": 2,
   "id": "402dc4cf",
   "metadata": {},
   "outputs": [
    {
     "name": "stdout",
     "output_type": "stream",
     "text": [
      "Pandas:    1.4.3\n",
      "NumPy:     1.22.4\n",
      "Torch:     1.12.1\n",
      "Python3:   3.9.12\n"
     ]
    }
   ],
   "source": [
    "title_length = 10\n",
    "print(\"Pandas:\".ljust(title_length), pd.__version__)\n",
    "print(\"NumPy:\".ljust(title_length), np.__version__)\n",
    "print(\"Torch:\".ljust(title_length), torch.__version__)\n",
    "print(\"Python3:\".ljust(title_length), sys.version[0:6])"
   ]
  },
  {
   "cell_type": "markdown",
   "id": "a0062b60",
   "metadata": {},
   "source": [
    "#### Basic Constants and Values Used"
   ]
  },
  {
   "cell_type": "code",
   "execution_count": 3,
   "id": "dd373a12",
   "metadata": {},
   "outputs": [],
   "source": [
    "model_ckpt = \"distilbert-base-uncased\"\n",
    "device = \"cpu\"\n",
    "max_input_len = 50\n",
    "\n",
    "learning_rate=2e-5\n",
    "batch_size = 64\n",
    "\n",
    "num_of_epochs = 2\n",
    "set_seed(42)"
   ]
  },
  {
   "cell_type": "markdown",
   "id": "ef3b0e13",
   "metadata": {},
   "source": [
    "#### Reading in the DataFrame to Pandas"
   ]
  },
  {
   "cell_type": "code",
   "execution_count": 4,
   "id": "c1a1ab45",
   "metadata": {},
   "outputs": [
    {
     "name": "stdout",
     "output_type": "stream",
     "text": [
      "<class 'pandas.core.frame.DataFrame'>\n",
      "RangeIndex: 1082 entries, 0 to 1081\n",
      "Data columns (total 2 columns):\n",
      " #   Column  Non-Null Count  Dtype \n",
      "---  ------  --------------  ----- \n",
      " 0   text    1082 non-null   object\n",
      " 1   label   1082 non-null   object\n",
      "dtypes: object(2)\n",
      "memory usage: 17.0+ KB\n"
     ]
    }
   ],
   "source": [
    "# training file\n",
    "train_data = pd.read_csv('/Users/briandunn/Documents/nlpnn/Datasets/Spam Filter Project/SMS_train.csv', encoding='unicode_escape')\n",
    "\n",
    "# testing file\n",
    "test_data = pd.read_csv('/Users/briandunn/Documents/nlpnn/Datasets/Spam Filter Project/SMS_test.csv', encoding='unicode_escape')\n",
    "\n",
    "# Merge the two DataFrames\n",
    "both_dfs = [train_data, test_data]\n",
    "data = pd.concat(both_dfs, axis=0, verify_integrity=True, ignore_index=True)\n",
    "data= data.drop(columns=['S. No.'])\n",
    "data.rename(columns={'Message_body' : 'text', 'Label' : 'label'}, inplace=True)\n",
    "data.info()"
   ]
  },
  {
   "cell_type": "markdown",
   "id": "4556dabf",
   "metadata": {},
   "source": [
    "#### Visualization of the Title Length"
   ]
  },
  {
   "cell_type": "code",
   "execution_count": 5,
   "id": "120564e4",
   "metadata": {},
   "outputs": [
    {
     "name": "stdout",
     "output_type": "stream",
     "text": [
      "label\n",
      "Non-Spam    884\n",
      "Spam        198\n",
      "dtype: int64\n"
     ]
    },
    {
     "data": {
      "image/png": "[encoded data removed]",
      "text/plain": [
       "<Figure size 432x288 with 1 Axes>"
      ]
     },
     "metadata": {
      "needs_background": "light"
     },
     "output_type": "display_data"
    }
   ],
   "source": [
    "print(data.value_counts('label'))\n",
    "\n",
    "data['message_len'] = data['text'].str.split().apply(len)\n",
    "data.boxplot(\"message_len\", by=\"label\", grid=False, showfliers=False, color=\"Blue\")\n",
    "\n",
    "plt.suptitle('')\n",
    "plt.title('Message Length by Output')\n",
    "plt.xlabel('')\n",
    "plt.ylabel('Words / Tweet')\n",
    "plt.show()\n",
    "\n",
    "data = data.drop(columns=['message_len'])\n"
   ]
  },
  {
   "cell_type": "markdown",
   "id": "15d703f4",
   "metadata": {},
   "source": [
    "#### Replace Label String Values with Integer Values"
   ]
  },
  {
   "cell_type": "code",
   "execution_count": 6,
   "id": "8813e045",
   "metadata": {},
   "outputs": [],
   "source": [
    "data['label'].replace({'Non-Spam' : 0, 'Spam' : 1}, inplace=True)"
   ]
  },
  {
   "cell_type": "markdown",
   "id": "1042ef35",
   "metadata": {},
   "source": [
    "### The Actual Project"
   ]
  },
  {
   "cell_type": "markdown",
   "id": "275e923a",
   "metadata": {},
   "source": [
    "#### Converting Pandas DataFrame to Dataset & Split into Train/Test/Valid Datasets"
   ]
  },
  {
   "cell_type": "code",
   "execution_count": 7,
   "id": "4771c6b7",
   "metadata": {},
   "outputs": [
    {
     "name": "stdout",
     "output_type": "stream",
     "text": [
      "Training data shape: (865, 2)\n",
      "Testing data shape: (109, 2)\n",
      "Validation data shape: (108, 2)\n"
     ]
    }
   ],
   "source": [
    "# Converts the pandas DataFrame to a Dataset\n",
    "dataset = Dataset.from_pandas(data)\n",
    "dataset.shuffle(seed=42)\n",
    "\n",
    "# Splitting the Dataset into the train, test, and valid datasets and then packing all of them into a Dataset Dictionary\n",
    "train_testvalid = dataset.train_test_split(test_size=0.20)\n",
    "test_valid = train_testvalid['test'].train_test_split(test_size=0.5)\n",
    "\n",
    "dataset = DatasetDict({\n",
    "    'train': train_testvalid['train'], \n",
    "    'test': test_valid['test'], \n",
    "    'valid': test_valid['train']})\n",
    "\n",
    "print('Training data shape:', dataset['train'].shape)\n",
    "print('Testing data shape:', dataset['test'].shape)\n",
    "print('Validation data shape:', dataset['valid'].shape)"
   ]
  },
  {
   "cell_type": "markdown",
   "id": "20fe31fc",
   "metadata": {},
   "source": [
    "#### Create the Function that Computes the Performance Metrics"
   ]
  },
  {
   "cell_type": "code",
   "execution_count": 8,
   "id": "38d8169b",
   "metadata": {},
   "outputs": [],
   "source": [
    "def compute_metrics(pred):\n",
    "    labels = pred.label_ids\n",
    "    preds = pred.predictions.argmax(-1)\n",
    "    f1 = f1_score(labels, preds, average=\"weighted\")\n",
    "    acc = accuracy_score(labels, preds)\n",
    "    return {\"accuracy\": acc, \"f1\": f1}"
   ]
  },
  {
   "cell_type": "markdown",
   "id": "730943d5",
   "metadata": {},
   "source": [
    "#### Tokenize the Datasets"
   ]
  },
  {
   "cell_type": "code",
   "execution_count": 9,
   "id": "c51d5ef1",
   "metadata": {},
   "outputs": [
    {
     "data": {
      "application/vnd.jupyter.widget-view+json": {
       "model_id": "37f5ece139b248d68e0b0ca6ddcae28b",
       "version_major": 2,
       "version_minor": 0
      },
      "text/plain": [
       "  0%|          | 0/1 [00:00<?, ?ba/s]"
      ]
     },
     "metadata": {},
     "output_type": "display_data"
    },
    {
     "data": {
      "application/vnd.jupyter.widget-view+json": {
       "model_id": "d697d64cce964d5d882c6c27c85f9c5b",
       "version_major": 2,
       "version_minor": 0
      },
      "text/plain": [
       "  0%|          | 0/1 [00:00<?, ?ba/s]"
      ]
     },
     "metadata": {},
     "output_type": "display_data"
    },
    {
     "data": {
      "application/vnd.jupyter.widget-view+json": {
       "model_id": "9409989f5e544353beee6774e00a93ef",
       "version_major": 2,
       "version_minor": 0
      },
      "text/plain": [
       "  0%|          | 0/1 [00:00<?, ?ba/s]"
      ]
     },
     "metadata": {},
     "output_type": "display_data"
    }
   ],
   "source": [
    "labels = ['Ham', 'Spam']\n",
    "num_labels=2\n",
    "tokenizer = AutoTokenizer.from_pretrained(model_ckpt)\n",
    "\n",
    "def tokenize(batch):\n",
    "    return tokenizer(batch['text'], truncation=True, padding=True, max_length=max_input_len, return_tensors=\"np\") # try: return_tensors=\"pt\"\n",
    "\n",
    "encoded_data = dataset.map(tokenize, batched=True, batch_size=None)"
   ]
  },
  {
   "cell_type": "markdown",
   "id": "dfb37033",
   "metadata": {},
   "source": [
    "#### Instantiate the Model"
   ]
  },
  {
   "cell_type": "code",
   "execution_count": 10,
   "id": "4a86bf00",
   "metadata": {},
   "outputs": [
    {
     "name": "stderr",
     "output_type": "stream",
     "text": [
      "Some weights of the model checkpoint at distilbert-base-uncased were not used when initializing DistilBertModel: ['vocab_transform.weight', 'vocab_layer_norm.weight', 'vocab_projector.bias', 'vocab_layer_norm.bias', 'vocab_projector.weight', 'vocab_transform.bias']\n",
      "- This IS expected if you are initializing DistilBertModel from the checkpoint of a model trained on another task or with another architecture (e.g. initializing a BertForSequenceClassification model from a BertForPreTraining model).\n",
      "- This IS NOT expected if you are initializing DistilBertModel from the checkpoint of a model that you expect to be exactly identical (initializing a BertForSequenceClassification model from a BertForSequenceClassification model).\n"
     ]
    }
   ],
   "source": [
    "model = (AutoModel.from_pretrained(model_ckpt, num_labels=num_labels, output_hidden_states=True).to(device))"
   ]
  },
  {
   "cell_type": "markdown",
   "id": "26e6d1b2",
   "metadata": {},
   "source": [
    "#### Extract the Last hidden States"
   ]
  },
  {
   "cell_type": "code",
   "execution_count": 11,
   "id": "51ea6d9c",
   "metadata": {},
   "outputs": [
    {
     "data": {
      "application/vnd.jupyter.widget-view+json": {
       "model_id": "fcb13216cd80464e844fe2ed14cff7b2",
       "version_major": 2,
       "version_minor": 0
      },
      "text/plain": [
       "  0%|          | 0/1 [00:00<?, ?ba/s]"
      ]
     },
     "metadata": {},
     "output_type": "display_data"
    },
    {
     "data": {
      "application/vnd.jupyter.widget-view+json": {
       "model_id": "2ec950ab6bc14cf382aa69f7ef496e84",
       "version_major": 2,
       "version_minor": 0
      },
      "text/plain": [
       "  0%|          | 0/1 [00:00<?, ?ba/s]"
      ]
     },
     "metadata": {},
     "output_type": "display_data"
    },
    {
     "data": {
      "application/vnd.jupyter.widget-view+json": {
       "model_id": "97e8dc3ca7a7467aa7199c9bac9ec3e7",
       "version_major": 2,
       "version_minor": 0
      },
      "text/plain": [
       "  0%|          | 0/1 [00:00<?, ?ba/s]"
      ]
     },
     "metadata": {},
     "output_type": "display_data"
    }
   ],
   "source": [
    "def extract_hidden_states(batch=True):\n",
    "    inputs = {k:v.to(device) for k,v in batch.items() if k in tokenizer.model_input_names}\n",
    "    with torch.no_grad():\n",
    "        last_hidden_state = model(**inputs)[0]\n",
    "    return {\"hidden_state\": last_hidden_state[:,0].cpu().numpy()}\n",
    "\n",
    "encoded_data.set_format('torch', columns=['input_ids', 'attention_mask', 'label'])\n",
    "\n",
    "hidden_data = encoded_data.map(extract_hidden_states, batched=True)"
   ]
  },
  {
   "cell_type": "markdown",
   "id": "27b46b76",
   "metadata": {},
   "source": [
    "#### Create the Feature Matrix"
   ]
  },
  {
   "cell_type": "code",
   "execution_count": 12,
   "id": "663546c4",
   "metadata": {},
   "outputs": [
    {
     "data": {
      "text/plain": [
       "((865, 768), (108, 768))"
      ]
     },
     "execution_count": 12,
     "metadata": {},
     "output_type": "execute_result"
    }
   ],
   "source": [
    "X_train = np.array(hidden_data[\"train\"][\"hidden_state\"])\n",
    "X_valid = np.array(hidden_data[\"valid\"][\"hidden_state\"])\n",
    "y_train = np.array(hidden_data[\"train\"][\"label\"])\n",
    "y_valid = np.array(hidden_data[\"valid\"][\"label\"])\n",
    "X_train.shape, X_valid.shape"
   ]
  },
  {
   "cell_type": "markdown",
   "id": "00a6efac",
   "metadata": {},
   "source": [
    "### Assess the Results"
   ]
  },
  {
   "cell_type": "markdown",
   "id": "01732132",
   "metadata": {},
   "source": [
    "Create the Function that will Calculate & Display the Confusion Matrix"
   ]
  },
  {
   "cell_type": "code",
   "execution_count": 13,
   "id": "0b971419",
   "metadata": {},
   "outputs": [],
   "source": [
    "def plot_confusion_matrix(y_preds, y_true, labels):\n",
    "    cm = confusion_matrix(y_true, y_preds, normalize=\"true\")\n",
    "    fig, ax = plt.subplots(figsize=(6,6))\n",
    "    disp = ConfusionMatrixDisplay(confusion_matrix=cm, display_labels=labels)\n",
    "    disp.plot(cmap=\"Blues\", values_format=\".2f\", ax=ax)\n",
    "    plt.title('Normalized Confusion Matrix')\n",
    "    plt.show()"
   ]
  },
  {
   "cell_type": "markdown",
   "id": "4c19ed7a",
   "metadata": {},
   "source": [
    "#### Logistic Regression for Comparison"
   ]
  },
  {
   "cell_type": "code",
   "execution_count": 14,
   "id": "731d313d",
   "metadata": {},
   "outputs": [
    {
     "data": {
      "text/plain": [
       "0.9907407407407407"
      ]
     },
     "execution_count": 14,
     "metadata": {},
     "output_type": "execute_result"
    }
   ],
   "source": [
    "log_reg_clf = LogisticRegression(max_iter=3000)\n",
    "log_reg_clf.fit(X_train, y_train)\n",
    "log_reg_clf.score(X_valid, y_valid)"
   ]
  },
  {
   "cell_type": "code",
   "execution_count": 15,
   "id": "d2f96599",
   "metadata": {},
   "outputs": [
    {
     "data": {
      "image/png": "[encoded data removed]",
      "text/plain": [
       "<Figure size 432x432 with 2 Axes>"
      ]
     },
     "metadata": {
      "needs_background": "light"
     },
     "output_type": "display_data"
    }
   ],
   "source": [
    "lr_y_preds = log_reg_clf.predict(X_valid)\n",
    "plot_confusion_matrix(lr_y_preds, y_valid, labels)"
   ]
  },
  {
   "cell_type": "markdown",
   "id": "08b0c484",
   "metadata": {},
   "source": [
    "#### Dummy Classifier for Comparison"
   ]
  },
  {
   "cell_type": "code",
   "execution_count": 16,
   "id": "c44729ff",
   "metadata": {},
   "outputs": [
    {
     "data": {
      "text/plain": [
       "0.8333333333333334"
      ]
     },
     "execution_count": 16,
     "metadata": {},
     "output_type": "execute_result"
    }
   ],
   "source": [
    "dummy = DummyClassifier(strategy=\"most_frequent\")\n",
    "dummy.fit(X_train, y_train)\n",
    "dummy.score(X_valid, y_valid)"
   ]
  },
  {
   "cell_type": "code",
   "execution_count": 17,
   "id": "18dfc852",
   "metadata": {},
   "outputs": [
    {
     "data": {
      "image/png": "[encoded data removed]",
      "text/plain": [
       "<Figure size 432x432 with 2 Axes>"
      ]
     },
     "metadata": {
      "needs_background": "light"
     },
     "output_type": "display_data"
    }
   ],
   "source": [
    "dc_y_preds = dummy.predict(X_valid)\n",
    "plot_confusion_matrix(dc_y_preds, y_valid, labels)"
   ]
  }
 ],
 "metadata": {
  "kernelspec": {
   "display_name": "Python 3.9.12 ('nlp_ch4')",
   "language": "python",
   "name": "python3"
  },
  "language_info": {
   "codemirror_mode": {
    "name": "ipython",
    "version": 3
   },
   "file_extension": ".py",
   "mimetype": "text/x-python",
   "name": "python",
   "nbconvert_exporter": "python",
   "pygments_lexer": "ipython3",
   "version": "3.9.12"
  },
  "vscode": {
   "interpreter": {
    "hash": "a52fe47989fdc78fafbb981021cec52a6b82df6453830b9ffbd04250493e6cab"
   }
  }
 },
 "nbformat": 4,
 "nbformat_minor": 5
}
