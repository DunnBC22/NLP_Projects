{
 "cells": [
  {
   "cell_type": "markdown",
   "id": "2007d2da",
   "metadata": {},
   "source": [
    "## Binary Text Classification - OnionOrNot"
   ]
  },
  {
   "cell_type": "markdown",
   "metadata": {},
   "source": [
    "Saved as 'distilbert-base-uncased-OnionOrNot' on my HuggingFace profile\n",
    "\n",
    "Dataset Source: https://www.kaggle.com/datasets/chrisfilo/onion-or-not\n",
    "\n",
    "@article{Sanh2019DistilBERTAD,\n",
    "  title={DistilBERT, a distilled version of BERT: smaller, faster, cheaper and lighter},\n",
    "  author={Victor Sanh and Lysandre Debut and Julien Chaumond and Thomas Wolf},\n",
    "  journal={ArXiv},\n",
    "  year={2019},\n",
    "  volume={abs/1910.01108}\n",
    "}"
   ]
  },
  {
   "cell_type": "markdown",
   "id": "cf8a06e9",
   "metadata": {},
   "source": [
    "#### Import Necessary Libraries"
   ]
  },
  {
   "cell_type": "code",
   "execution_count": 1,
   "id": "8c88f3bf",
   "metadata": {},
   "outputs": [
    {
     "name": "stderr",
     "output_type": "stream",
     "text": [
      "NOTE: Redirects are currently not supported in Windows or MacOs.\n"
     ]
    }
   ],
   "source": [
    "import os\n",
    "os.environ['TOKENIZERS_PARALLELISM']='false'\n",
    "\n",
    "import pandas as pd\n",
    "import numpy as np\n",
    "\n",
    "import torch\n",
    "from torch.nn.functional import cross_entropy\n",
    "\n",
    "from transformers import AutoTokenizer, AutoModel, AutoModelForSequenceClassification\n",
    "from transformers import Trainer, TrainingArguments, AdamW, get_scheduler, set_seed\n",
    "\n",
    "from datasets import Dataset, DatasetDict\n",
    "\n",
    "from sklearn.metrics import f1_score, accuracy_score, confusion_matrix, ConfusionMatrixDisplay\n",
    "from sklearn.linear_model import LogisticRegression\n",
    "from sklearn.dummy import DummyClassifier\n",
    "\n",
    "\n",
    "import matplotlib.pyplot as plt"
   ]
  },
  {
   "cell_type": "markdown",
   "id": "7c12ebf4",
   "metadata": {},
   "source": [
    "#### Versions of Many Libraries Used"
   ]
  },
  {
   "cell_type": "code",
   "execution_count": 2,
   "id": "402dc4cf",
   "metadata": {},
   "outputs": [
    {
     "name": "stdout",
     "output_type": "stream",
     "text": [
      "Pandas:            1.4.3\n",
      "NumPy:             1.22.4\n",
      "Torch:             1.12.1\n"
     ]
    }
   ],
   "source": [
    "print(\"Pandas:\".ljust(18), pd.__version__)\n",
    "print(\"NumPy:\".ljust(18), np.__version__)\n",
    "print(\"Torch:\".ljust(18), torch.__version__)"
   ]
  },
  {
   "cell_type": "markdown",
   "id": "a0062b60",
   "metadata": {},
   "source": [
    "#### Basic Constants/Values Used"
   ]
  },
  {
   "cell_type": "code",
   "execution_count": 3,
   "id": "dd373a12",
   "metadata": {},
   "outputs": [],
   "source": [
    "model_ckpt = \"distilbert-base-uncased\"\n",
    "device = \"cpu\"\n",
    "max_input_len = 50\n",
    "\n",
    "learning_rate=2e-5\n",
    "batch_size = 64\n",
    "\n",
    "num_of_epochs = 2\n",
    "model_name = f\"{model_ckpt}-OnionOrNot\"\n",
    "set_seed(42)"
   ]
  },
  {
   "cell_type": "markdown",
   "id": "ef3b0e13",
   "metadata": {},
   "source": [
    "#### Ingestion Data into Pandas DataFrame"
   ]
  },
  {
   "cell_type": "code",
   "execution_count": 4,
   "id": "c1a1ab45",
   "metadata": {},
   "outputs": [
    {
     "data": {
      "text/html": [
       "<div>\n",
       "<style scoped>\n",
       "    .dataframe tbody tr th:only-of-type {\n",
       "        vertical-align: middle;\n",
       "    }\n",
       "\n",
       "    .dataframe tbody tr th {\n",
       "        vertical-align: top;\n",
       "    }\n",
       "\n",
       "    .dataframe thead th {\n",
       "        text-align: right;\n",
       "    }\n",
       "</style>\n",
       "<table border=\"1\" class=\"dataframe\">\n",
       "  <thead>\n",
       "    <tr style=\"text-align: right;\">\n",
       "      <th></th>\n",
       "      <th>text</th>\n",
       "      <th>label</th>\n",
       "    </tr>\n",
       "  </thead>\n",
       "  <tbody>\n",
       "    <tr>\n",
       "      <th>0</th>\n",
       "      <td>Entire Facebook Staff Laughs As Man Tightens P...</td>\n",
       "      <td>1</td>\n",
       "    </tr>\n",
       "    <tr>\n",
       "      <th>1</th>\n",
       "      <td>Muslim Woman Denied Soda Can for Fear She Coul...</td>\n",
       "      <td>0</td>\n",
       "    </tr>\n",
       "    <tr>\n",
       "      <th>2</th>\n",
       "      <td>Bold Move: Hulu Has Announced That They’re Gon...</td>\n",
       "      <td>1</td>\n",
       "    </tr>\n",
       "    <tr>\n",
       "      <th>3</th>\n",
       "      <td>Despondent Jeff Bezos Realizes He’ll Have To W...</td>\n",
       "      <td>1</td>\n",
       "    </tr>\n",
       "    <tr>\n",
       "      <th>4</th>\n",
       "      <td>For men looking for great single women, online...</td>\n",
       "      <td>1</td>\n",
       "    </tr>\n",
       "    <tr>\n",
       "      <th>...</th>\n",
       "      <td>...</td>\n",
       "      <td>...</td>\n",
       "    </tr>\n",
       "    <tr>\n",
       "      <th>23995</th>\n",
       "      <td>Teen Pregnancy Rate Prompting More High School...</td>\n",
       "      <td>1</td>\n",
       "    </tr>\n",
       "    <tr>\n",
       "      <th>23996</th>\n",
       "      <td>Connecticut TV station under fire after using ...</td>\n",
       "      <td>0</td>\n",
       "    </tr>\n",
       "    <tr>\n",
       "      <th>23997</th>\n",
       "      <td>Jurisprudence Fetishist Gets Off On Technicality</td>\n",
       "      <td>1</td>\n",
       "    </tr>\n",
       "    <tr>\n",
       "      <th>23998</th>\n",
       "      <td>Employees From Other Department Announce Plan ...</td>\n",
       "      <td>1</td>\n",
       "    </tr>\n",
       "    <tr>\n",
       "      <th>23999</th>\n",
       "      <td>Police drone crashes into police SWAT team</td>\n",
       "      <td>0</td>\n",
       "    </tr>\n",
       "  </tbody>\n",
       "</table>\n",
       "<p>24000 rows × 2 columns</p>\n",
       "</div>"
      ],
      "text/plain": [
       "                                                    text  label\n",
       "0      Entire Facebook Staff Laughs As Man Tightens P...      1\n",
       "1      Muslim Woman Denied Soda Can for Fear She Coul...      0\n",
       "2      Bold Move: Hulu Has Announced That They’re Gon...      1\n",
       "3      Despondent Jeff Bezos Realizes He’ll Have To W...      1\n",
       "4      For men looking for great single women, online...      1\n",
       "...                                                  ...    ...\n",
       "23995  Teen Pregnancy Rate Prompting More High School...      1\n",
       "23996  Connecticut TV station under fire after using ...      0\n",
       "23997   Jurisprudence Fetishist Gets Off On Technicality      1\n",
       "23998  Employees From Other Department Announce Plan ...      1\n",
       "23999        Police drone crashes into police SWAT team       0\n",
       "\n",
       "[24000 rows x 2 columns]"
      ]
     },
     "execution_count": 4,
     "metadata": {},
     "output_type": "execute_result"
    }
   ],
   "source": [
    "data = pd.read_csv('~/Documents/nlpnn/Datasets/OnionOrNot/OnionOrNot.csv')\n",
    "data"
   ]
  },
  {
   "cell_type": "markdown",
   "id": "4556dabf",
   "metadata": {},
   "source": [
    "#### Visualize Title Length (0: 'Ham', 1: 'Spam')"
   ]
  },
  {
   "cell_type": "code",
   "execution_count": 5,
   "id": "120564e4",
   "metadata": {},
   "outputs": [
    {
     "data": {
      "image/png": "[encoded data removed]",
      "text/plain": [
       "<Figure size 432x288 with 1 Axes>"
      ]
     },
     "metadata": {
      "needs_background": "light"
     },
     "output_type": "display_data"
    }
   ],
   "source": [
    "data['text_len'] = data['text'].str.split().apply(len)\n",
    "\n",
    "data = data[data['text_len'] < 40]\n",
    "\n",
    "data.boxplot(\"text_len\", by=\"label\", grid=False, showfliers=False, color=\"Blue\")\n",
    "\n",
    "plt.suptitle('')\n",
    "plt.title('Title Length by Spam/Ham')\n",
    "plt.xlabel('')\n",
    "plt.ylabel('Words / Title')\n",
    "plt.show()\n",
    "\n",
    "data = data.drop(columns=['text_len'])\n"
   ]
  },
  {
   "cell_type": "markdown",
   "id": "8fd47f52",
   "metadata": {},
   "source": [
    "#### Actual Project"
   ]
  },
  {
   "cell_type": "markdown",
   "id": "275e923a",
   "metadata": {},
   "source": [
    "#### Convert Pandas DataFrame to Dataset; Then Split into Train/Test/Valid Datasets"
   ]
  },
  {
   "cell_type": "code",
   "execution_count": 6,
   "id": "4771c6b7",
   "metadata": {},
   "outputs": [
    {
     "name": "stdout",
     "output_type": "stream",
     "text": [
      "Training data shape: (19180, 3)\n",
      "Testing data shape: (2398, 3)\n",
      "Validation data shape: (2397, 3)\n"
     ]
    }
   ],
   "source": [
    "# Converts the pandas DataFrame to a Dataset\n",
    "dataset = Dataset.from_pandas(data)\n",
    "dataset.shuffle(seed=42)\n",
    "\n",
    "# Splitting the Dataset into the train, test, and valid datasets and then packing all of them into a Dataset Dictionary\n",
    "train_testvalid = dataset.train_test_split(test_size=0.20)\n",
    "\n",
    "test_valid = train_testvalid['test'].train_test_split(test_size=0.5)\n",
    "\n",
    "dataset = DatasetDict({\n",
    "    'train': train_testvalid['train'], \n",
    "    'test': test_valid['test'], \n",
    "    'valid': test_valid['train']})\n",
    "\n",
    "print('Training data shape:', dataset['train'].shape)\n",
    "print('Testing data shape:', dataset['test'].shape)\n",
    "print('Validation data shape:', dataset['valid'].shape)"
   ]
  },
  {
   "cell_type": "markdown",
   "id": "377245e8",
   "metadata": {},
   "source": [
    "#### Tokenize Entire Dataset"
   ]
  },
  {
   "cell_type": "code",
   "execution_count": 7,
   "id": "92dee09d",
   "metadata": {},
   "outputs": [
    {
     "data": {
      "application/vnd.jupyter.widget-view+json": {
       "model_id": "74aa909b82a340ca8cce0588dae53cbb",
       "version_major": 2,
       "version_minor": 0
      },
      "text/plain": [
       "  0%|          | 0/1 [00:00<?, ?ba/s]"
      ]
     },
     "metadata": {},
     "output_type": "display_data"
    },
    {
     "data": {
      "application/vnd.jupyter.widget-view+json": {
       "model_id": "7102fd8d33d24bfc9b69ab43583d4537",
       "version_major": 2,
       "version_minor": 0
      },
      "text/plain": [
       "  0%|          | 0/1 [00:00<?, ?ba/s]"
      ]
     },
     "metadata": {},
     "output_type": "display_data"
    },
    {
     "data": {
      "application/vnd.jupyter.widget-view+json": {
       "model_id": "4f7e620013c6469a885f3c597b681861",
       "version_major": 2,
       "version_minor": 0
      },
      "text/plain": [
       "  0%|          | 0/1 [00:00<?, ?ba/s]"
      ]
     },
     "metadata": {},
     "output_type": "display_data"
    }
   ],
   "source": [
    "tokenizer = AutoTokenizer.from_pretrained(model_ckpt)\n",
    "\n",
    "def tokenize(batch):\n",
    "    return tokenizer(batch['text'], truncation=True, padding=True, max_length=max_input_len)\n",
    "\n",
    "encoded_data = dataset.map(tokenize, batched=True, batch_size=None)"
   ]
  },
  {
   "cell_type": "markdown",
   "id": "7d577b98",
   "metadata": {},
   "source": [
    "#### Print Example to Ensure Edits Work as Expected"
   ]
  },
  {
   "cell_type": "code",
   "execution_count": 8,
   "id": "5ac061d8",
   "metadata": {},
   "outputs": [
    {
     "name": "stdout",
     "output_type": "stream",
     "text": [
      "['text', 'label', '__index_level_0__', 'input_ids', 'attention_mask']\n",
      "{'text': 'A True War: EA Reveals The Next Battlefield Game Will Take Place In A Divorcing Family', 'label': 1, '__index_level_0__': 11077, 'input_ids': [101, 1037, 2995, 2162, 1024, 19413, 7657, 1996, 2279, 11686, 2208, 2097, 2202, 2173, 1999, 1037, 4487, 14550, 6129, 2155, 102, 0, 0, 0, 0, 0, 0, 0, 0, 0, 0, 0, 0, 0, 0, 0, 0, 0, 0, 0, 0, 0, 0, 0, 0, 0, 0, 0, 0, 0], 'attention_mask': [1, 1, 1, 1, 1, 1, 1, 1, 1, 1, 1, 1, 1, 1, 1, 1, 1, 1, 1, 1, 1, 0, 0, 0, 0, 0, 0, 0, 0, 0, 0, 0, 0, 0, 0, 0, 0, 0, 0, 0, 0, 0, 0, 0, 0, 0, 0, 0, 0, 0]}\n"
     ]
    }
   ],
   "source": [
    "print(encoded_data['train'].column_names)\n",
    "print(encoded_data['train'][240])"
   ]
  },
  {
   "cell_type": "markdown",
   "id": "20e46ae7",
   "metadata": {},
   "source": [
    "#### Ensure That git lfs is Installed; Remember to Enter Access Token"
   ]
  },
  {
   "cell_type": "code",
   "execution_count": 9,
   "id": "63b11285",
   "metadata": {},
   "outputs": [
    {
     "name": "stdout",
     "output_type": "stream",
     "text": [
      "Git LFS initialized.\n"
     ]
    }
   ],
   "source": [
    "# HuggingFace Access tokens...\n",
    "\n",
    "# Used this the first time to install the git lfs; otherwise, it lets me know that git lfs has been initialized\n",
    "!git lfs install"
   ]
  },
  {
   "cell_type": "markdown",
   "id": "e0ccad14",
   "metadata": {},
   "source": [
    "#### Instantiate Model"
   ]
  },
  {
   "cell_type": "code",
   "execution_count": 10,
   "id": "dc56358c",
   "metadata": {},
   "outputs": [
    {
     "name": "stderr",
     "output_type": "stream",
     "text": [
      "Some weights of the model checkpoint at distilbert-base-uncased were not used when initializing DistilBertForSequenceClassification: ['vocab_projector.bias', 'vocab_layer_norm.weight', 'vocab_projector.weight', 'vocab_layer_norm.bias', 'vocab_transform.weight', 'vocab_transform.bias']\n",
      "- This IS expected if you are initializing DistilBertForSequenceClassification from the checkpoint of a model trained on another task or with another architecture (e.g. initializing a BertForSequenceClassification model from a BertForPreTraining model).\n",
      "- This IS NOT expected if you are initializing DistilBertForSequenceClassification from the checkpoint of a model that you expect to be exactly identical (initializing a BertForSequenceClassification model from a BertForSequenceClassification model).\n",
      "Some weights of DistilBertForSequenceClassification were not initialized from the model checkpoint at distilbert-base-uncased and are newly initialized: ['pre_classifier.bias', 'classifier.bias', 'classifier.weight', 'pre_classifier.weight']\n",
      "You should probably TRAIN this model on a down-stream task to be able to use it for predictions and inference.\n"
     ]
    }
   ],
   "source": [
    "num_labels=2\n",
    "\n",
    "model = (AutoModelForSequenceClassification.from_pretrained(model_ckpt, num_labels=num_labels).to(device))"
   ]
  },
  {
   "cell_type": "markdown",
   "id": "20fe31fc",
   "metadata": {},
   "source": [
    "#### Create Compute Performance Metrics Function"
   ]
  },
  {
   "cell_type": "code",
   "execution_count": 11,
   "id": "38d8169b",
   "metadata": {},
   "outputs": [],
   "source": [
    "def compute_metrics(pred):\n",
    "    labels = pred.label_ids\n",
    "    preds = pred.predictions.argmax(-1)\n",
    "    f1 = f1_score(labels, preds, average=\"weighted\")\n",
    "    acc = accuracy_score(labels, preds)\n",
    "    return {\"accuracy\": acc, \"f1\": f1}"
   ]
  },
  {
   "cell_type": "markdown",
   "id": "e634a3ac",
   "metadata": {},
   "source": [
    "#### Instantiate Optimizer (& Learning Rate Scheduler)"
   ]
  },
  {
   "cell_type": "code",
   "execution_count": 12,
   "id": "2518be36",
   "metadata": {},
   "outputs": [],
   "source": [
    "logging_steps = round(len(encoded_data[\"train\"]) // batch_size, 0) + 1\n",
    "optimizer_name = torch.optim.AdamW(model.parameters(), lr=learning_rate)\n",
    "\n",
    "num_training_steps = num_of_epochs * len(dataset['train'])\n",
    "\n",
    "lr_scheduler = get_scheduler(\"linear\",\n",
    "                             optimizer=optimizer_name,\n",
    "                             num_warmup_steps=0,\n",
    "                             num_training_steps=num_training_steps)\n",
    "\n",
    "optimizer = [optimizer_name, lr_scheduler]"
   ]
  },
  {
   "cell_type": "markdown",
   "id": "ff1297fc",
   "metadata": {},
   "source": [
    "#### Define TrainingArguments"
   ]
  },
  {
   "cell_type": "code",
   "execution_count": 13,
   "id": "780ab103",
   "metadata": {},
   "outputs": [],
   "source": [
    "training_args = TrainingArguments(output_dir=model_name,\n",
    "                                 num_train_epochs=num_of_epochs,\n",
    "                                 learning_rate=learning_rate,\n",
    "                                 per_device_train_batch_size=batch_size,\n",
    "                                 per_device_eval_batch_size=batch_size,\n",
    "                                 weight_decay=0.01,\n",
    "                                 evaluation_strategy=\"epoch\",\n",
    "                                 disable_tqdm=False,\n",
    "                                 logging_steps=logging_steps,\n",
    "                                 push_to_hub=True,\n",
    "                                 log_level=\"error\")"
   ]
  },
  {
   "cell_type": "markdown",
   "id": "0650e163",
   "metadata": {},
   "source": [
    "#### Instantiate Trainer"
   ]
  },
  {
   "cell_type": "code",
   "execution_count": 14,
   "id": "dcb845a9",
   "metadata": {},
   "outputs": [
    {
     "name": "stderr",
     "output_type": "stream",
     "text": [
      "Cloning https://huggingface.co/DunnBC22/distilbert-base-uncased-OnionOrNot into local empty directory.\n"
     ]
    }
   ],
   "source": [
    "trainer = Trainer(model=model, args=training_args, \n",
    "                  compute_metrics=compute_metrics, \n",
    "                  train_dataset=encoded_data['train'],\n",
    "                  eval_dataset=encoded_data['valid'],\n",
    "                  tokenizer=tokenizer, \n",
    "                  optimizers=optimizer)"
   ]
  },
  {
   "cell_type": "markdown",
   "id": "384fe433",
   "metadata": {},
   "source": [
    "#### Train Model"
   ]
  },
  {
   "cell_type": "code",
   "execution_count": 15,
   "id": "3b9ffa8b",
   "metadata": {},
   "outputs": [
    {
     "data": {
      "application/vnd.jupyter.widget-view+json": {
       "model_id": "b86e005e58cd4c8085e6c1abd0755577",
       "version_major": 2,
       "version_minor": 0
      },
      "text/plain": [
       "  0%|          | 0/600 [00:00<?, ?it/s]"
      ]
     },
     "metadata": {},
     "output_type": "display_data"
    },
    {
     "name": "stdout",
     "output_type": "stream",
     "text": [
      "{'loss': 0.3334, 'learning_rate': 1.984358706986444e-05, 'epoch': 1.0}\n"
     ]
    },
    {
     "data": {
      "application/vnd.jupyter.widget-view+json": {
       "model_id": "32bac40475f543369f82629eb5ad09e4",
       "version_major": 2,
       "version_minor": 0
      },
      "text/plain": [
       "  0%|          | 0/38 [00:00<?, ?it/s]"
      ]
     },
     "metadata": {},
     "output_type": "display_data"
    },
    {
     "name": "stdout",
     "output_type": "stream",
     "text": [
      "{'eval_loss': 0.23822952806949615, 'eval_accuracy': 0.9023779724655819, 'eval_f1': 0.9010689642400332, 'eval_runtime': 251.1887, 'eval_samples_per_second': 9.543, 'eval_steps_per_second': 0.151, 'epoch': 1.0}\n",
      "{'loss': 0.1822, 'learning_rate': 1.9687174139728885e-05, 'epoch': 2.0}\n"
     ]
    },
    {
     "data": {
      "application/vnd.jupyter.widget-view+json": {
       "model_id": "db7dac6fec1d4b0b9d288a0440af9357",
       "version_major": 2,
       "version_minor": 0
      },
      "text/plain": [
       "  0%|          | 0/38 [00:00<?, ?it/s]"
      ]
     },
     "metadata": {},
     "output_type": "display_data"
    },
    {
     "name": "stdout",
     "output_type": "stream",
     "text": [
      "{'eval_loss': 0.20392799377441406, 'eval_accuracy': 0.9224030037546934, 'eval_f1': 0.921847601870649, 'eval_runtime': 255.6312, 'eval_samples_per_second': 9.377, 'eval_steps_per_second': 0.149, 'epoch': 2.0}\n",
      "{'train_runtime': 12803.6661, 'train_samples_per_second': 2.996, 'train_steps_per_second': 0.047, 'train_loss': 0.2578143946329753, 'epoch': 2.0}\n"
     ]
    },
    {
     "data": {
      "text/plain": [
       "TrainOutput(global_step=600, training_loss=0.2578143946329753, metrics={'train_runtime': 12803.6661, 'train_samples_per_second': 2.996, 'train_steps_per_second': 0.047, 'train_loss': 0.2578143946329753, 'epoch': 2.0})"
      ]
     },
     "execution_count": 15,
     "metadata": {},
     "output_type": "execute_result"
    }
   ],
   "source": [
    "trainer.train()"
   ]
  },
  {
   "cell_type": "markdown",
   "id": "23dc7163",
   "metadata": {},
   "source": [
    "#### Predict Values"
   ]
  },
  {
   "cell_type": "code",
   "execution_count": 16,
   "id": "d3e96801",
   "metadata": {},
   "outputs": [
    {
     "data": {
      "application/vnd.jupyter.widget-view+json": {
       "model_id": "1479951badc641969246e9ce5a2d0f1e",
       "version_major": 2,
       "version_minor": 0
      },
      "text/plain": [
       "  0%|          | 0/38 [00:00<?, ?it/s]"
      ]
     },
     "metadata": {},
     "output_type": "display_data"
    },
    {
     "data": {
      "text/plain": [
       "{'test_loss': 0.20392799377441406,\n",
       " 'test_accuracy': 0.9224030037546934,\n",
       " 'test_f1': 0.921847601870649,\n",
       " 'test_runtime': 257.7233,\n",
       " 'test_samples_per_second': 9.301,\n",
       " 'test_steps_per_second': 0.147}"
      ]
     },
     "execution_count": 16,
     "metadata": {},
     "output_type": "execute_result"
    }
   ],
   "source": [
    "output_predictions = trainer.predict(encoded_data['valid'])\n",
    "\n",
    "output_predictions.metrics"
   ]
  },
  {
   "cell_type": "markdown",
   "id": "bbd97974",
   "metadata": {},
   "source": [
    "#### Push Fine-Tuned Model to HuggingFace Hub (My Profile)"
   ]
  },
  {
   "cell_type": "code",
   "execution_count": 17,
   "id": "c4a6e14e",
   "metadata": {},
   "outputs": [
    {
     "data": {
      "application/vnd.jupyter.widget-view+json": {
       "model_id": "d706284f738c4c839f1ef2d8183b4b3c",
       "version_major": 2,
       "version_minor": 0
      },
      "text/plain": [
       "Upload file pytorch_model.bin:   0%|          | 32.0k/255M [00:00<?, ?B/s]"
      ]
     },
     "metadata": {},
     "output_type": "display_data"
    },
    {
     "data": {
      "application/vnd.jupyter.widget-view+json": {
       "model_id": "4ee73b12a3814dc1ae0e255e9cfb8bba",
       "version_major": 2,
       "version_minor": 0
      },
      "text/plain": [
       "Upload file runs/Sep04_20-59-28_Brians-Mac-mini/events.out.tfevents.1662343176.Brians-Mac-mini.8652.0: 100%|##…"
      ]
     },
     "metadata": {},
     "output_type": "display_data"
    },
    {
     "name": "stderr",
     "output_type": "stream",
     "text": [
      "remote: Scanning LFS files for validity, may be slow...        \n",
      "remote: LFS file scan complete.        \n",
      "To https://huggingface.co/DunnBC22/distilbert-base-uncased-OnionOrNot\n",
      "   e980428..baf8c73  main -> main\n",
      "\n",
      "To https://huggingface.co/DunnBC22/distilbert-base-uncased-OnionOrNot\n",
      "   baf8c73..3af1419  main -> main\n",
      "\n"
     ]
    },
    {
     "data": {
      "text/plain": [
       "'https://huggingface.co/DunnBC22/distilbert-base-uncased-OnionOrNot/commit/baf8c73ed2ebaad98a1cb7ec54b3cd9fe5b03226'"
      ]
     },
     "execution_count": 17,
     "metadata": {},
     "output_type": "execute_result"
    }
   ],
   "source": [
    "trainer.push_to_hub(commit_message=\"All Dunn!!!\")"
   ]
  },
  {
   "cell_type": "markdown",
   "id": "a8e1df35",
   "metadata": {},
   "source": [
    "#### Save Exact Datasets"
   ]
  },
  {
   "cell_type": "code",
   "execution_count": 18,
   "id": "6df488dd",
   "metadata": {},
   "outputs": [],
   "source": [
    "#dataset['train'].to_csv('OnionOrNot-training_data.csv', index=None)\n",
    "#dataset['test'].to_csv('OnionOrNot-testing_data.csv', index=None)\n",
    "#dataset['valid'].to_csv('OnionOrNot-validation_data.csv', index=None)"
   ]
  },
  {
   "cell_type": "markdown",
   "id": "730943d5",
   "metadata": {},
   "source": [
    "#### Run Model with Tokenizer Returning 'np' Tensors"
   ]
  },
  {
   "cell_type": "code",
   "execution_count": 19,
   "id": "c51d5ef1",
   "metadata": {},
   "outputs": [
    {
     "data": {
      "application/vnd.jupyter.widget-view+json": {
       "model_id": "93306e9254a747ec91b7ad1ff2cdeaa7",
       "version_major": 2,
       "version_minor": 0
      },
      "text/plain": [
       "  0%|          | 0/1 [00:00<?, ?ba/s]"
      ]
     },
     "metadata": {},
     "output_type": "display_data"
    },
    {
     "data": {
      "application/vnd.jupyter.widget-view+json": {
       "model_id": "4efabfba83a74e6c9e27176bd691852f",
       "version_major": 2,
       "version_minor": 0
      },
      "text/plain": [
       "  0%|          | 0/1 [00:00<?, ?ba/s]"
      ]
     },
     "metadata": {},
     "output_type": "display_data"
    },
    {
     "data": {
      "application/vnd.jupyter.widget-view+json": {
       "model_id": "2ff117b5a6f14191b3ad7741147987e5",
       "version_major": 2,
       "version_minor": 0
      },
      "text/plain": [
       "  0%|          | 0/1 [00:00<?, ?ba/s]"
      ]
     },
     "metadata": {},
     "output_type": "display_data"
    },
    {
     "data": {
      "application/vnd.jupyter.widget-view+json": {
       "model_id": "7616a5a1cb284ecb86008fbb37261efd",
       "version_major": 2,
       "version_minor": 0
      },
      "text/plain": [
       "  0%|          | 0/20 [00:00<?, ?ba/s]"
      ]
     },
     "metadata": {},
     "output_type": "display_data"
    },
    {
     "data": {
      "application/vnd.jupyter.widget-view+json": {
       "model_id": "d45415ac3b3945d198511147579930a2",
       "version_major": 2,
       "version_minor": 0
      },
      "text/plain": [
       "  0%|          | 0/3 [00:00<?, ?ba/s]"
      ]
     },
     "metadata": {},
     "output_type": "display_data"
    },
    {
     "data": {
      "application/vnd.jupyter.widget-view+json": {
       "model_id": "cf228071a72947728768af77a3ee503f",
       "version_major": 2,
       "version_minor": 0
      },
      "text/plain": [
       "  0%|          | 0/3 [00:00<?, ?ba/s]"
      ]
     },
     "metadata": {},
     "output_type": "display_data"
    },
    {
     "data": {
      "text/plain": [
       "((19180, 768), (2397, 768))"
      ]
     },
     "execution_count": 19,
     "metadata": {},
     "output_type": "execute_result"
    }
   ],
   "source": [
    "num_labels=2\n",
    "tokenizer2 = AutoTokenizer.from_pretrained(model_ckpt)\n",
    "\n",
    "def tokenize2(batch):\n",
    "    return tokenizer2(batch['text'], truncation=True, padding=True, max_length=max_input_len, return_tensors=\"np\")\n",
    "\n",
    "encoded_data2 = dataset.map(tokenize2, batched=True, batch_size=None)\n",
    "\n",
    "model2 = (AutoModel.from_pretrained(model_ckpt, num_labels=num_labels, output_hidden_states=True).to(device))\n",
    "\n",
    "def extract_hidden_states(batch=True):\n",
    "    inputs = {k:v.to(device) for k,v in batch.items() if k in tokenizer2.model_input_names}\n",
    "    with torch.no_grad():\n",
    "        last_hidden_state = model2(**inputs)[0]\n",
    "    return {\"hidden_state\": last_hidden_state[:,0].cpu().numpy()}\n",
    "\n",
    "encoded_data2.set_format('torch', columns=['input_ids', 'attention_mask', 'label'])\n",
    "\n",
    "hidden_data = encoded_data2.map(extract_hidden_states, batched=True)\n",
    "\n",
    "X_train = np.array(hidden_data[\"train\"][\"hidden_state\"])\n",
    "X_valid = np.array(hidden_data[\"valid\"][\"hidden_state\"])\n",
    "y_train = np.array(hidden_data[\"train\"][\"label\"])\n",
    "y_valid = np.array(hidden_data[\"valid\"][\"label\"])\n",
    "X_train.shape, X_valid.shape"
   ]
  },
  {
   "cell_type": "markdown",
   "id": "01732132",
   "metadata": {},
   "source": [
    "#### Create Function to Calculate & Display Confusion Matrix"
   ]
  },
  {
   "cell_type": "code",
   "execution_count": 20,
   "id": "0b971419",
   "metadata": {},
   "outputs": [],
   "source": [
    "def plot_confusion_matrix(y_preds, y_true, labels):\n",
    "    cm = confusion_matrix(y_true, y_preds, normalize=\"true\")\n",
    "    fig, ax = plt.subplots(figsize=(6,6))\n",
    "    disp = ConfusionMatrixDisplay(confusion_matrix=cm, display_labels=labels)\n",
    "    disp.plot(cmap=\"Blues\", values_format=\".2f\", ax=ax)\n",
    "    plt.title('Normalized Confusion Matrix')\n",
    "    plt.show()"
   ]
  },
  {
   "cell_type": "markdown",
   "id": "97435b9f",
   "metadata": {},
   "source": [
    "#### Plot Confusion Matrix for Fine-Tuned Model"
   ]
  },
  {
   "cell_type": "code",
   "execution_count": 26,
   "id": "c748c743",
   "metadata": {},
   "outputs": [
    {
     "data": {
      "image/png": "[encoded data removed]",
      "text/plain": [
       "<Figure size 432x432 with 2 Axes>"
      ]
     },
     "metadata": {
      "needs_background": "light"
     },
     "output_type": "display_data"
    }
   ],
   "source": [
    "y_preds = np.argmax(output_predictions.predictions, axis=1)\n",
    "labels = ['Not Onion', 'Onion']\n",
    "\n",
    "plot_confusion_matrix(y_preds, y_valid, labels)"
   ]
  },
  {
   "cell_type": "markdown",
   "id": "4c19ed7a",
   "metadata": {},
   "source": [
    "#### Calculate Logistic Regression for Comparison"
   ]
  },
  {
   "cell_type": "code",
   "execution_count": 22,
   "id": "731d313d",
   "metadata": {},
   "outputs": [
    {
     "data": {
      "text/plain": [
       "0.8781810596579057"
      ]
     },
     "execution_count": 22,
     "metadata": {},
     "output_type": "execute_result"
    }
   ],
   "source": [
    "log_reg_clf = LogisticRegression(max_iter=3000)\n",
    "log_reg_clf.fit(X_train, y_train)\n",
    "log_reg_clf.score(X_valid, y_valid)"
   ]
  },
  {
   "cell_type": "code",
   "execution_count": 23,
   "id": "d2f96599",
   "metadata": {},
   "outputs": [
    {
     "data": {
      "image/png": "[encoded data removed]",
      "text/plain": [
       "<Figure size 432x432 with 2 Axes>"
      ]
     },
     "metadata": {
      "needs_background": "light"
     },
     "output_type": "display_data"
    }
   ],
   "source": [
    "lr_y_preds = log_reg_clf.predict(X_valid)\n",
    "plot_confusion_matrix(lr_y_preds, y_valid, labels)"
   ]
  },
  {
   "cell_type": "markdown",
   "id": "08b0c484",
   "metadata": {},
   "source": [
    "#### Calculate Using Dummy Classifier for Comparison"
   ]
  },
  {
   "cell_type": "code",
   "execution_count": 24,
   "id": "c44729ff",
   "metadata": {},
   "outputs": [
    {
     "data": {
      "text/plain": [
       "0.6203587818105966"
      ]
     },
     "execution_count": 24,
     "metadata": {},
     "output_type": "execute_result"
    }
   ],
   "source": [
    "dummy = DummyClassifier(strategy=\"most_frequent\")\n",
    "dummy.fit(X_train, y_train)\n",
    "dummy.score(X_valid, y_valid)"
   ]
  },
  {
   "cell_type": "code",
   "execution_count": 25,
   "id": "18dfc852",
   "metadata": {},
   "outputs": [
    {
     "data": {
      "image/png": "[encoded data removed]",
      "text/plain": [
       "<Figure size 432x432 with 2 Axes>"
      ]
     },
     "metadata": {
      "needs_background": "light"
     },
     "output_type": "display_data"
    }
   ],
   "source": [
    "dc_y_preds = dummy.predict(X_valid)\n",
    "plot_confusion_matrix(dc_y_preds, y_valid, labels)"
   ]
  }
 ],
 "metadata": {
  "kernelspec": {
   "display_name": "Python 3.9.12 ('nlp_ch4')",
   "language": "python",
   "name": "python3"
  },
  "language_info": {
   "codemirror_mode": {
    "name": "ipython",
    "version": 3
   },
   "file_extension": ".py",
   "mimetype": "text/x-python",
   "name": "python",
   "nbconvert_exporter": "python",
   "pygments_lexer": "ipython3",
   "version": "3.9.12"
  },
  "vscode": {
   "interpreter": {
    "hash": "a52fe47989fdc78fafbb981021cec52a6b82df6453830b9ffbd04250493e6cab"
   }
  }
 },
 "nbformat": 4,
 "nbformat_minor": 5
}
