{
 "cells": [
  {
   "cell_type": "markdown",
   "metadata": {},
   "source": [
    "# Translation from One Language to Another"
   ]
  },
  {
   "cell_type": "markdown",
   "metadata": {},
   "source": [
    "This model will appear on my HuggingFace profile as: 'mbart-large-50-English_German_Translation'\n",
    "    \n",
    "Dataset Source: https://www.kaggle.com/datasets/hgultekin/paralel-translation-corpus-in-22-languages"
   ]
  },
  {
   "cell_type": "markdown",
   "metadata": {},
   "source": [
    "#### Import Necessary Libraries"
   ]
  },
  {
   "cell_type": "code",
   "execution_count": 1,
   "metadata": {},
   "outputs": [
    {
     "name": "stderr",
     "output_type": "stream",
     "text": [
      "NOTE: Redirects are currently not supported in Windows or MacOs.\n"
     ]
    }
   ],
   "source": [
    "import os, sys\n",
    "os.environ['TOKENIZERS_PARALLELISM']='false'\n",
    "\n",
    "from tqdm import tqdm\n",
    "\n",
    "import numpy as np\n",
    "import pandas as pd\n",
    "import matplotlib.pyplot as plt\n",
    "\n",
    "import transformers\n",
    "from transformers import DataCollatorForSeq2Seq, MBart50Tokenizer, AutoModelForSeq2SeqLM\n",
    "from transformers import Seq2SeqTrainingArguments, Seq2SeqTrainer, set_seed\n",
    "\n",
    "import datasets\n",
    "from datasets import Dataset, DatasetDict\n",
    "\n",
    "import evaluate\n",
    "\n",
    "import torch"
   ]
  },
  {
   "cell_type": "markdown",
   "metadata": {},
   "source": [
    "#### Versions of Software & Libraries Used"
   ]
  },
  {
   "cell_type": "code",
   "execution_count": 2,
   "metadata": {},
   "outputs": [
    {
     "name": "stdout",
     "output_type": "stream",
     "text": [
      "  Transformers: 4.22.2\n",
      "        Pandas: 1.5.0\n",
      "         NumPy: 1.23.3\n",
      "        Python: 3.9.12\n",
      "      Datasets: 2.5.2\n"
     ]
    }
   ],
   "source": [
    "print(\"Transformers:\".rjust(15), transformers.__version__)\n",
    "print(\"Pandas:\".rjust(15), pd.__version__)\n",
    "print(\"NumPy:\".rjust(15), np.__version__)\n",
    "print(\"Python:\".rjust(15), sys.version[0:6]) \n",
    "print(\"Datasets:\".rjust(15), datasets.__version__)"
   ]
  },
  {
   "cell_type": "markdown",
   "metadata": {},
   "source": [
    "#### Ingest & Start Preprocessing Data"
   ]
  },
  {
   "cell_type": "code",
   "execution_count": 3,
   "metadata": {},
   "outputs": [
    {
     "data": {
      "text/html": [
       "<div>\n",
       "<style scoped>\n",
       "    .dataframe tbody tr th:only-of-type {\n",
       "        vertical-align: middle;\n",
       "    }\n",
       "\n",
       "    .dataframe tbody tr th {\n",
       "        vertical-align: top;\n",
       "    }\n",
       "\n",
       "    .dataframe thead th {\n",
       "        text-align: right;\n",
       "    }\n",
       "</style>\n",
       "<table border=\"1\" class=\"dataframe\">\n",
       "  <thead>\n",
       "    <tr style=\"text-align: right;\">\n",
       "      <th></th>\n",
       "      <th>english</th>\n",
       "      <th>spanish</th>\n",
       "    </tr>\n",
       "  </thead>\n",
       "  <tbody>\n",
       "    <tr>\n",
       "      <th>0</th>\n",
       "      <td>THE COMMISSION OF THE EUROPEAN COMMUNITIES,</td>\n",
       "      <td>LA COMISIÓN DE LAS COMUNIDADES EUROPEAS,</td>\n",
       "    </tr>\n",
       "    <tr>\n",
       "      <th>1</th>\n",
       "      <td>Having regard to the Treaty establishing the E...</td>\n",
       "      <td>Visto el Tratado constitutivo de la Comunidad ...</td>\n",
       "    </tr>\n",
       "    <tr>\n",
       "      <th>2</th>\n",
       "      <td>Whereas:</td>\n",
       "      <td>Considerando lo siguiente:</td>\n",
       "    </tr>\n",
       "    <tr>\n",
       "      <th>3</th>\n",
       "      <td>The amount(s) of the processing securities mus...</td>\n",
       "      <td>El o los importes de las garantías de transfor...</td>\n",
       "    </tr>\n",
       "    <tr>\n",
       "      <th>4</th>\n",
       "      <td>The measures provided for in this Regulation a...</td>\n",
       "      <td>Las medidas previstas en el presente Reglament...</td>\n",
       "    </tr>\n",
       "    <tr>\n",
       "      <th>...</th>\n",
       "      <td>...</td>\n",
       "      <td>...</td>\n",
       "    </tr>\n",
       "    <tr>\n",
       "      <th>3316272</th>\n",
       "      <td>For the Commission</td>\n",
       "      <td>Por la Comisión</td>\n",
       "    </tr>\n",
       "    <tr>\n",
       "      <th>3316273</th>\n",
       "      <td>Agriculture Director-General</td>\n",
       "      <td>Director General de Agricultura</td>\n",
       "    </tr>\n",
       "    <tr>\n",
       "      <th>3316274</th>\n",
       "      <td>ANNEX</td>\n",
       "      <td>ANEXO</td>\n",
       "    </tr>\n",
       "    <tr>\n",
       "      <th>3316275</th>\n",
       "      <td>CN code</td>\n",
       "      <td>Código NC</td>\n",
       "    </tr>\n",
       "    <tr>\n",
       "      <th>3316276</th>\n",
       "      <td>Standard import value</td>\n",
       "      <td>Valor global de importación</td>\n",
       "    </tr>\n",
       "  </tbody>\n",
       "</table>\n",
       "<p>3316277 rows × 2 columns</p>\n",
       "</div>"
      ],
      "text/plain": [
       "                                                   english  \\\n",
       "0              THE COMMISSION OF THE EUROPEAN COMMUNITIES,   \n",
       "1        Having regard to the Treaty establishing the E...   \n",
       "2                                                 Whereas:   \n",
       "3        The amount(s) of the processing securities mus...   \n",
       "4        The measures provided for in this Regulation a...   \n",
       "...                                                    ...   \n",
       "3316272                                 For the Commission   \n",
       "3316273                       Agriculture Director-General   \n",
       "3316274                                              ANNEX   \n",
       "3316275                                            CN code   \n",
       "3316276                              Standard import value   \n",
       "\n",
       "                                                   spanish  \n",
       "0                 LA COMISIÓN DE LAS COMUNIDADES EUROPEAS,  \n",
       "1        Visto el Tratado constitutivo de la Comunidad ...  \n",
       "2                               Considerando lo siguiente:  \n",
       "3        El o los importes de las garantías de transfor...  \n",
       "4        Las medidas previstas en el presente Reglament...  \n",
       "...                                                    ...  \n",
       "3316272                                    Por la Comisión  \n",
       "3316273                    Director General de Agricultura  \n",
       "3316274                                              ANEXO  \n",
       "3316275                                          Código NC  \n",
       "3316276                        Valor global de importación  \n",
       "\n",
       "[3316277 rows x 2 columns]"
      ]
     },
     "execution_count": 3,
     "metadata": {},
     "output_type": "execute_result"
    }
   ],
   "source": [
    "data = pd.read_csv('~/Documents/nlpnn/Datasets/Translations/EN-ES (Spanish)/EN-ES.txt', \n",
    "                   delimiter='\\t', \n",
    "                   engine=\"c\", \n",
    "                   header=None)\n",
    "\n",
    "data.drop_duplicates(inplace=True)\n",
    "\n",
    "data.dropna(inplace=True)\n",
    "\n",
    "data[0] = data[0].str.strip()\n",
    "data[1] = data[1].str.strip()\n",
    "\n",
    "data.drop(columns=[2, 3, 4, 5, 6, 7], inplace=True)\n",
    "\n",
    "data.rename(columns={1 : 'spanish', 0 : 'english'}, inplace=True)\n",
    "\n",
    "data = data[~data['english'].str.contains('\\\\d', regex=True)] # Drop samples with numbers\n",
    "\n",
    "data.reset_index(inplace=True, drop=True)\n",
    "\n",
    "data"
   ]
  },
  {
   "cell_type": "markdown",
   "metadata": {},
   "source": [
    "#### Visual: Length of English Entries"
   ]
  },
  {
   "cell_type": "code",
   "execution_count": 4,
   "metadata": {},
   "outputs": [
    {
     "data": {
      "image/png": "[encoded data removed]",
      "text/plain": [
       "<Figure size 1800x800 with 1 Axes>"
      ]
     },
     "metadata": {},
     "output_type": "display_data"
    },
    {
     "name": "stdout",
     "output_type": "stream",
     "text": [
      "The maximum length of English text (in words) is 291 words.\n"
     ]
    }
   ],
   "source": [
    "data['english_length'] = data['english'].str.split().str.len()\n",
    "\n",
    "n_bin = 150\n",
    "data.hist('english_length', grid=False, figsize=(18,8), range=(0,n_bin), bins=n_bin)\n",
    "plt.title('Histogram: Length of English Statements')\n",
    "plt.xlabel('# of Words in English Statements')\n",
    "plt.show()\n",
    "\n",
    "print(f\"The maximum length of English text (in words) is {max(data['english_length'])} words.\")"
   ]
  },
  {
   "attachments": {},
   "cell_type": "markdown",
   "metadata": {},
   "source": [
    "#### Visual: Length of Spanish Entries"
   ]
  },
  {
   "cell_type": "code",
   "execution_count": 5,
   "metadata": {},
   "outputs": [
    {
     "data": {
      "image/png": "[encoded data removed]",
      "text/plain": [
       "<Figure size 1800x800 with 1 Axes>"
      ]
     },
     "metadata": {},
     "output_type": "display_data"
    },
    {
     "name": "stdout",
     "output_type": "stream",
     "text": [
      "The maximum length of Spanish text (in words) is 330 words.\n"
     ]
    }
   ],
   "source": [
    "data['spanish_length'] = data['spanish'].str.split().str.len()\n",
    "\n",
    "n_bin=150\n",
    "data.hist('spanish_length', grid=False, figsize=(18,8), range=(0,n_bin), bins=n_bin)\n",
    "plt.title('Histogram: Length of Spanish Statements')\n",
    "plt.xlabel('# of Words in Spanish Statements')\n",
    "plt.show()\n",
    "\n",
    "print(f\"The maximum length of Spanish text (in words) is {max(data['spanish_length'])} words.\")"
   ]
  },
  {
   "cell_type": "markdown",
   "metadata": {},
   "source": [
    "#### Trim Dataset Size & Drop Unnecessary Features"
   ]
  },
  {
   "cell_type": "code",
   "execution_count": 6,
   "metadata": {},
   "outputs": [
    {
     "name": "stdout",
     "output_type": "stream",
     "text": [
      "<class 'pandas.core.frame.DataFrame'>\n",
      "RangeIndex: 1855652 entries, 0 to 1855651\n",
      "Data columns (total 2 columns):\n",
      " #   Column   Dtype \n",
      "---  ------   ----- \n",
      " 0   english  object\n",
      " 1   spanish  object\n",
      "dtypes: object(2)\n",
      "memory usage: 28.3+ MB\n"
     ]
    }
   ],
   "source": [
    "upper_limit = 46\n",
    "lower_limit = 5\n",
    "\n",
    "data = data[data['spanish_length'] < upper_limit] # make sure that the Spanish text ..\n",
    "data = data[data['spanish_length'] > lower_limit] # has between 6 & 45 words\n",
    "\n",
    "data = data[data['english_length'] < upper_limit] # make sure that the English text ..\n",
    "data = data[data['english_length'] > lower_limit] # has between 6 & 45 words\n",
    "\n",
    "data.reset_index(drop=True, inplace=True)\n",
    "\n",
    "data['eng_char_length'] = data['english'].str.len() # add column with calculated character length\n",
    "data['spanish_char_length'] = data['spanish'].str.len() # add column with calculated character length\n",
    "\n",
    "data = data[data['eng_char_length'] > 30] # make sure that the text has over 30 characters...\n",
    "data = data[data['spanish_char_length'] > 30] # ... for both languages\n",
    "\n",
    "# reset the index\n",
    "data.reset_index(drop=True, inplace=True)\n",
    "\n",
    "# Remove columns that are no longer necessary\n",
    "data.drop(columns=['spanish_length', \n",
    "                   'english_length', \n",
    "                   'eng_char_length', \n",
    "                   'spanish_char_length'], inplace=True)\n",
    "\n",
    "data.info()"
   ]
  },
  {
   "cell_type": "markdown",
   "metadata": {},
   "source": [
    "#### Randomly Sample 36,000 Samples (Due to Hardware Limitations)"
   ]
  },
  {
   "cell_type": "code",
   "execution_count": 7,
   "metadata": {},
   "outputs": [
    {
     "name": "stdout",
     "output_type": "stream",
     "text": [
      "<class 'pandas.core.frame.DataFrame'>\n",
      "RangeIndex: 36000 entries, 0 to 35999\n",
      "Data columns (total 2 columns):\n",
      " #   Column   Non-Null Count  Dtype \n",
      "---  ------   --------------  ----- \n",
      " 0   english  36000 non-null  object\n",
      " 1   spanish  36000 non-null  object\n",
      "dtypes: object(2)\n",
      "memory usage: 562.6+ KB\n"
     ]
    }
   ],
   "source": [
    "data = data.sample(n=36000, random_state=42, ignore_index=True)\n",
    "data.info()"
   ]
  },
  {
   "cell_type": "markdown",
   "metadata": {},
   "source": [
    "#### Final Preprocessing"
   ]
  },
  {
   "cell_type": "code",
   "execution_count": 8,
   "metadata": {},
   "outputs": [
    {
     "data": {
      "text/html": [
       "<div>\n",
       "<style scoped>\n",
       "    .dataframe tbody tr th:only-of-type {\n",
       "        vertical-align: middle;\n",
       "    }\n",
       "\n",
       "    .dataframe tbody tr th {\n",
       "        vertical-align: top;\n",
       "    }\n",
       "\n",
       "    .dataframe thead th {\n",
       "        text-align: right;\n",
       "    }\n",
       "</style>\n",
       "<table border=\"1\" class=\"dataframe\">\n",
       "  <thead>\n",
       "    <tr style=\"text-align: right;\">\n",
       "      <th></th>\n",
       "      <th>translation</th>\n",
       "    </tr>\n",
       "  </thead>\n",
       "  <tbody>\n",
       "    <tr>\n",
       "      <th>0</th>\n",
       "      <td>{'en': 'or [has been vaccinated against Newcas...</td>\n",
       "    </tr>\n",
       "    <tr>\n",
       "      <th>1</th>\n",
       "      <td>{'en': 'Annex XX to the Agreement shall be ame...</td>\n",
       "    </tr>\n",
       "    <tr>\n",
       "      <th>2</th>\n",
       "      <td>{'en': 'Selling ABX is considered a positive s...</td>\n",
       "    </tr>\n",
       "    <tr>\n",
       "      <th>3</th>\n",
       "      <td>{'en': 'For the abovementioned reasons, the Ic...</td>\n",
       "    </tr>\n",
       "    <tr>\n",
       "      <th>4</th>\n",
       "      <td>{'en': 'the definition of the requirements con...</td>\n",
       "    </tr>\n",
       "  </tbody>\n",
       "</table>\n",
       "</div>"
      ],
      "text/plain": [
       "                                         translation\n",
       "0  {'en': 'or [has been vaccinated against Newcas...\n",
       "1  {'en': 'Annex XX to the Agreement shall be ame...\n",
       "2  {'en': 'Selling ABX is considered a positive s...\n",
       "3  {'en': 'For the abovementioned reasons, the Ic...\n",
       "4  {'en': 'the definition of the requirements con..."
      ]
     },
     "execution_count": 8,
     "metadata": {},
     "output_type": "execute_result"
    }
   ],
   "source": [
    "data.rename(columns={'english' : 'en', 'spanish' : 'es'}, inplace=True)\n",
    "\n",
    "all_data = data.to_dict(orient='records')\n",
    "df = pd.Series(all_data)\n",
    "df = pd.DataFrame(df)\n",
    "df.rename(columns={ 0 : 'translation'}, inplace=True)\n",
    "df.head()"
   ]
  },
  {
   "cell_type": "markdown",
   "metadata": {},
   "source": [
    "#### Convert to Dataset Format & Split into Train/Test/Eval Datasets"
   ]
  },
  {
   "cell_type": "code",
   "execution_count": 9,
   "metadata": {},
   "outputs": [
    {
     "name": "stdout",
     "output_type": "stream",
     "text": [
      "Training Dataset Shape: (28800, 1)\n",
      "Testing Dataset Shape: (3600, 1)\n",
      "Evaluation Dataset Shape: (3600, 1)\n"
     ]
    },
    {
     "data": {
      "text/plain": [
       "{'translation': {'en': 'However, it should be noted whether the BAF is based on steady state concentrations or not.',\n",
       "  'es': 'Sin embargo, ha de señalarse si el BAF se basa o no en las concentraciones en el estado estable.'}}"
      ]
     },
     "execution_count": 9,
     "metadata": {},
     "output_type": "execute_result"
    }
   ],
   "source": [
    "dataset = Dataset.from_pandas(df)\n",
    "\n",
    "train_testEval = dataset.train_test_split(train_size=0.80)\n",
    "test_eval = train_testEval['test'].train_test_split(train_size=0.50)\n",
    "\n",
    "ds = DatasetDict({\n",
    "    'train' : train_testEval['train'],\n",
    "    'test' : test_eval['train'],\n",
    "    'eval' : test_eval['test'],\n",
    "})\n",
    "\n",
    "print(\"Training Dataset Shape:\", ds['train'].shape)\n",
    "print(\"Testing Dataset Shape:\", ds['test'].shape)\n",
    "print(\"Evaluation Dataset Shape:\", ds['eval'].shape)\n",
    "ds['train'][25]"
   ]
  },
  {
   "cell_type": "markdown",
   "metadata": {},
   "source": [
    "#### Remember to Install git lfs & Enter HuggingFace Access Token"
   ]
  },
  {
   "cell_type": "code",
   "execution_count": 10,
   "metadata": {},
   "outputs": [
    {
     "name": "stdout",
     "output_type": "stream",
     "text": [
      "Git LFS initialized.\n"
     ]
    }
   ],
   "source": [
    "# Enter Huggingface Access Token\n",
    "\n",
    "!git lfs install"
   ]
  },
  {
   "cell_type": "markdown",
   "metadata": {},
   "source": [
    "#### Basic Values/Constants"
   ]
  },
  {
   "cell_type": "code",
   "execution_count": 11,
   "metadata": {},
   "outputs": [
    {
     "name": "stdout",
     "output_type": "stream",
     "text": [
      "cpu\n"
     ]
    }
   ],
   "source": [
    "set_seed = 42\n",
    "NUM_OF_EPOCHS = 2\n",
    "\n",
    "BATCH_SIZE = 32\n",
    "LEARNING_RATE = 2e-5\n",
    "\n",
    "SOURCE_LANGUAGE = \"en\"\n",
    "TARGET_LANGUAGE = \"es\"\n",
    "\n",
    "MAX_LENGTH = int(upper_limit*2)\n",
    "MODEL_CKPT = \"facebook/mbart-large-50\"\n",
    "\n",
    "DEVICE = torch.device(\"cuda\") if torch.cuda.is_available() else torch.device(\"cpu\")\n",
    "print(DEVICE)"
   ]
  },
  {
   "cell_type": "markdown",
   "metadata": {},
   "source": [
    "#### Create Tokenizer"
   ]
  },
  {
   "cell_type": "code",
   "execution_count": 12,
   "metadata": {},
   "outputs": [],
   "source": [
    "tokenizer = MBart50Tokenizer.from_pretrained(MODEL_CKPT, num_labels=2)\n",
    "\n",
    "if \"mbart\" in MODEL_CKPT:\n",
    "    tokenizer.src_lang=\"en_XX\"\n",
    "    tokenizer.tgt_lang='es_XX'"
   ]
  },
  {
   "cell_type": "markdown",
   "metadata": {},
   "source": [
    "#### Create Preprocessing Function"
   ]
  },
  {
   "cell_type": "code",
   "execution_count": 13,
   "metadata": {},
   "outputs": [],
   "source": [
    "def tokenizing_function(examples):\n",
    "    inputs = [ex[SOURCE_LANGUAGE] for ex in examples['translation']]\n",
    "    targets = [ex[TARGET_LANGUAGE] for ex in examples['translation']]\n",
    "    model_inputs = tokenizer(inputs, text_target=targets, max_length=MAX_LENGTH, truncation=True)\n",
    "    return model_inputs"
   ]
  },
  {
   "cell_type": "markdown",
   "metadata": {},
   "source": [
    "#### Apply Preprocessing Function to Dataset"
   ]
  },
  {
   "cell_type": "code",
   "execution_count": 14,
   "metadata": {},
   "outputs": [
    {
     "data": {
      "application/vnd.jupyter.widget-view+json": {
       "model_id": "23cb1c84e84844dbaff051f53ce2fced",
       "version_major": 2,
       "version_minor": 0
      },
      "text/plain": [
       "A Jupyter Widget"
      ]
     },
     "metadata": {},
     "output_type": "display_data"
    },
    {
     "data": {
      "application/vnd.jupyter.widget-view+json": {
       "model_id": "a67afe28d612462ba55316a5b94f8460",
       "version_major": 2,
       "version_minor": 0
      },
      "text/plain": [
       "A Jupyter Widget"
      ]
     },
     "metadata": {},
     "output_type": "display_data"
    },
    {
     "data": {
      "application/vnd.jupyter.widget-view+json": {
       "model_id": "31910c18e5e34958947ef3852fe9d150",
       "version_major": 2,
       "version_minor": 0
      },
      "text/plain": [
       "A Jupyter Widget"
      ]
     },
     "metadata": {},
     "output_type": "display_data"
    }
   ],
   "source": [
    "encoded_ds = ds.map(tokenizing_function, batched=True, load_from_cache_file=False)"
   ]
  },
  {
   "cell_type": "markdown",
   "metadata": {},
   "source": [
    "#### Print Example to Make Sure Edits Work as Expected"
   ]
  },
  {
   "cell_type": "code",
   "execution_count": 15,
   "metadata": {},
   "outputs": [
    {
     "name": "stdout",
     "output_type": "stream",
     "text": [
      "(28800, 4)\n",
      "(3600, 4)\n",
      "(3600, 4)\n"
     ]
    }
   ],
   "source": [
    "print(encoded_ds['train'].shape)\n",
    "print(encoded_ds['test'].shape)\n",
    "print(encoded_ds['eval'].shape)"
   ]
  },
  {
   "cell_type": "markdown",
   "metadata": {},
   "source": [
    "#### Instantiate Model"
   ]
  },
  {
   "cell_type": "code",
   "execution_count": 16,
   "metadata": {},
   "outputs": [],
   "source": [
    "model = (AutoModelForSeq2SeqLM.from_pretrained(MODEL_CKPT, num_labels=2)).to(DEVICE)"
   ]
  },
  {
   "cell_type": "markdown",
   "metadata": {},
   "source": [
    "#### Instantiate Data Collator"
   ]
  },
  {
   "cell_type": "code",
   "execution_count": 17,
   "metadata": {},
   "outputs": [],
   "source": [
    "data_collator = DataCollatorForSeq2Seq(tokenizer=tokenizer, model=model)"
   ]
  },
  {
   "cell_type": "markdown",
   "metadata": {},
   "source": [
    "#### Create Function to Compute Metrics"
   ]
  },
  {
   "cell_type": "code",
   "execution_count": 18,
   "metadata": {},
   "outputs": [
    {
     "data": {
      "application/vnd.jupyter.widget-view+json": {
       "model_id": "ea4e59ada48441f1a0e49e8c4784dc61",
       "version_major": 2,
       "version_minor": 0
      },
      "text/plain": [
       "A Jupyter Widget"
      ]
     },
     "metadata": {},
     "output_type": "display_data"
    },
    {
     "name": "stderr",
     "output_type": "stream",
     "text": [
      "[nltk_data] Downloading package wordnet to\n",
      "[nltk_data]     /Users/briandunn/nltk_data...\n",
      "[nltk_data]   Package wordnet is already up-to-date!\n",
      "[nltk_data] Downloading package punkt to /Users/briandunn/nltk_data...\n",
      "[nltk_data]   Package punkt is already up-to-date!\n",
      "[nltk_data] Downloading package omw-1.4 to\n",
      "[nltk_data]     /Users/briandunn/nltk_data...\n",
      "[nltk_data]   Package omw-1.4 is already up-to-date!\n"
     ]
    }
   ],
   "source": [
    "bleu_metric = evaluate.load(\"sacrebleu\")\n",
    "rouge_metric = evaluate.load(\"rouge\")\n",
    "meteor_metric = evaluate.load(\"meteor\")\n",
    "\n",
    "def compute_metrics(eval_preds):\n",
    "    preds, labels = eval_preds\n",
    "    \n",
    "    if isinstance(preds, tuple):\n",
    "        preds = preds[0]\n",
    "    \n",
    "    decoded_preds = tokenizer.batch_decode(preds, skip_special_tokens=True)\n",
    "    \n",
    "    labels = np.where(labels != -100, labels, tokenizer.pad_token_id)\n",
    "    decoded_labels = tokenizer.batch_decode(labels, skip_special_tokens=True)\n",
    "    \n",
    "    decoded_preds = [pred.strip() for pred in decoded_preds]\n",
    "    decoded_labels = [[label.strip()] for label in decoded_labels]\n",
    "    \n",
    "    bleu_results = bleu_metric.compute(predictions=decoded_preds, references=decoded_labels)\n",
    "    rouge_results = rouge_metric.compute(predictions=decoded_preds, references=decoded_labels)\n",
    "    meteor_results = meteor_metric.compute(predictions=decoded_preds, references=decoded_labels)\n",
    "    \n",
    "    return {\"bleu\" : bleu_results[\"score\"], \"rouge\" : rouge_results, \"meteor\" : meteor_results}"
   ]
  },
  {
   "cell_type": "markdown",
   "metadata": {},
   "source": [
    "#### Instantiate Training Arguments"
   ]
  },
  {
   "cell_type": "code",
   "execution_count": 19,
   "metadata": {},
   "outputs": [],
   "source": [
    "MODEL_NAME = MODEL_CKPT.split(\"/\")[-1]\n",
    "MODEL_NAME = f\"{MODEL_NAME}-English_Spanish_Translation\"\n",
    "\n",
    "args = Seq2SeqTrainingArguments(output_dir=MODEL_NAME, \n",
    "                                per_device_train_batch_size=BATCH_SIZE, \n",
    "                                per_device_eval_batch_size=BATCH_SIZE,\n",
    "                                evaluation_strategy=\"epoch\", \n",
    "                                logging_strategy=\"epoch\", \n",
    "                                learning_rate=LEARNING_RATE,\n",
    "                                report_to='all', \n",
    "                                weight_decay=0.01, \n",
    "                                save_total_limit=2, \n",
    "                                disable_tqdm=False,\n",
    "                                num_train_epochs=NUM_OF_EPOCHS, \n",
    "                                predict_with_generate=True,\n",
    "                                push_to_hub=True)"
   ]
  },
  {
   "cell_type": "markdown",
   "metadata": {},
   "source": [
    "#### Instantiate Trainer"
   ]
  },
  {
   "cell_type": "code",
   "execution_count": 20,
   "metadata": {},
   "outputs": [
    {
     "name": "stderr",
     "output_type": "stream",
     "text": [
      "/Users/briandunn/Documents/nlpnn/nlp_ml/lib/python3.9/site-packages/huggingface_hub/repository.py:705: FutureWarning: Creating a repository through 'clone_from' is deprecated and will be removed in v0.11.\n",
      "  warnings.warn(\n",
      "Cloning https://huggingface.co/DunnBC22/mbart-large-50-English_Spanish_Translation into local empty directory.\n"
     ]
    }
   ],
   "source": [
    "trainer = Seq2SeqTrainer(model=model, \n",
    "                         args=args, \n",
    "                         train_dataset=encoded_ds['train'], \n",
    "                         eval_dataset=encoded_ds['eval'], \n",
    "                         tokenizer=tokenizer, \n",
    "                         data_collator=data_collator,\n",
    "                         compute_metrics=compute_metrics)"
   ]
  },
  {
   "cell_type": "markdown",
   "metadata": {},
   "source": [
    "#### Train Model"
   ]
  },
  {
   "cell_type": "code",
   "execution_count": 21,
   "metadata": {},
   "outputs": [
    {
     "name": "stderr",
     "output_type": "stream",
     "text": [
      "The following columns in the training set don't have a corresponding argument in `MBartForConditionalGeneration.forward` and have been ignored: translation. If translation are not expected by `MBartForConditionalGeneration.forward`,  you can safely ignore this message.\n",
      "/Users/briandunn/Documents/nlpnn/nlp_ml/lib/python3.9/site-packages/transformers/optimization.py:306: FutureWarning: This implementation of AdamW is deprecated and will be removed in a future version. Use the PyTorch implementation torch.optim.AdamW instead, or set `no_deprecation_warning=True` to disable this warning\n",
      "  warnings.warn(\n",
      "***** Running training *****\n",
      "  Num examples = 28800\n",
      "  Num Epochs = 2\n",
      "  Instantaneous batch size per device = 32\n",
      "  Total train batch size (w. parallel, distributed & accumulation) = 32\n",
      "  Gradient Accumulation steps = 1\n",
      "  Total optimization steps = 1800\n"
     ]
    },
    {
     "data": {
      "application/vnd.jupyter.widget-view+json": {
       "model_id": "456e3828cd894313853f21d4fca212c0",
       "version_major": 2,
       "version_minor": 0
      },
      "text/plain": [
       "A Jupyter Widget"
      ]
     },
     "metadata": {},
     "output_type": "display_data"
    },
    {
     "name": "stderr",
     "output_type": "stream",
     "text": [
      "Saving model checkpoint to mbart-large-50-English_Spanish_Translation/checkpoint-500\n",
      "Configuration saved in mbart-large-50-English_Spanish_Translation/checkpoint-500/config.json\n",
      "Model weights saved in mbart-large-50-English_Spanish_Translation/checkpoint-500/pytorch_model.bin\n",
      "tokenizer config file saved in mbart-large-50-English_Spanish_Translation/checkpoint-500/tokenizer_config.json\n",
      "Special tokens file saved in mbart-large-50-English_Spanish_Translation/checkpoint-500/special_tokens_map.json\n",
      "tokenizer config file saved in mbart-large-50-English_Spanish_Translation/tokenizer_config.json\n",
      "Special tokens file saved in mbart-large-50-English_Spanish_Translation/special_tokens_map.json\n",
      "The following columns in the evaluation set don't have a corresponding argument in `MBartForConditionalGeneration.forward` and have been ignored: translation. If translation are not expected by `MBartForConditionalGeneration.forward`,  you can safely ignore this message.\n",
      "***** Running Evaluation *****\n",
      "  Num examples = 3600\n",
      "  Batch size = 32\n"
     ]
    },
    {
     "name": "stdout",
     "output_type": "stream",
     "text": [
      "{'loss': 1.5608, 'learning_rate': 1e-05, 'epoch': 1.0}\n"
     ]
    },
    {
     "data": {
      "application/vnd.jupyter.widget-view+json": {
       "model_id": "0b453cc9e8eb46c29094e377dda0b7c2",
       "version_major": 2,
       "version_minor": 0
      },
      "text/plain": [
       "A Jupyter Widget"
      ]
     },
     "metadata": {},
     "output_type": "display_data"
    },
    {
     "name": "stdout",
     "output_type": "stream",
     "text": [
      "{'eval_loss': 1.0898619890213013, 'eval_bleu': 39.918446357659285, 'eval_rouge': {'rouge1': 0.6645461901016299, 'rouge2': 0.48457734138815345, 'rougeL': 0.6254335531454508, 'rougeLsum': 0.6258737583448748}, 'eval_meteor': {'meteor': 0.6376166612731494}, 'eval_runtime': 41632.9691, 'eval_samples_per_second': 0.086, 'eval_steps_per_second': 0.003, 'epoch': 1.0}\n"
     ]
    },
    {
     "name": "stderr",
     "output_type": "stream",
     "text": [
      "Saving model checkpoint to mbart-large-50-English_Spanish_Translation/checkpoint-1000\n",
      "Configuration saved in mbart-large-50-English_Spanish_Translation/checkpoint-1000/config.json\n",
      "Model weights saved in mbart-large-50-English_Spanish_Translation/checkpoint-1000/pytorch_model.bin\n",
      "tokenizer config file saved in mbart-large-50-English_Spanish_Translation/checkpoint-1000/tokenizer_config.json\n",
      "Special tokens file saved in mbart-large-50-English_Spanish_Translation/checkpoint-1000/special_tokens_map.json\n",
      "tokenizer config file saved in mbart-large-50-English_Spanish_Translation/tokenizer_config.json\n",
      "Special tokens file saved in mbart-large-50-English_Spanish_Translation/special_tokens_map.json\n",
      "Saving model checkpoint to mbart-large-50-English_Spanish_Translation/checkpoint-1500\n",
      "Configuration saved in mbart-large-50-English_Spanish_Translation/checkpoint-1500/config.json\n",
      "Model weights saved in mbart-large-50-English_Spanish_Translation/checkpoint-1500/pytorch_model.bin\n",
      "tokenizer config file saved in mbart-large-50-English_Spanish_Translation/checkpoint-1500/tokenizer_config.json\n",
      "Special tokens file saved in mbart-large-50-English_Spanish_Translation/checkpoint-1500/special_tokens_map.json\n",
      "tokenizer config file saved in mbart-large-50-English_Spanish_Translation/tokenizer_config.json\n",
      "Special tokens file saved in mbart-large-50-English_Spanish_Translation/special_tokens_map.json\n",
      "Deleting older checkpoint [mbart-large-50-English_Spanish_Translation/checkpoint-500] due to args.save_total_limit\n",
      "The following columns in the evaluation set don't have a corresponding argument in `MBartForConditionalGeneration.forward` and have been ignored: translation. If translation are not expected by `MBartForConditionalGeneration.forward`,  you can safely ignore this message.\n",
      "***** Running Evaluation *****\n",
      "  Num examples = 3600\n",
      "  Batch size = 32\n"
     ]
    },
    {
     "name": "stdout",
     "output_type": "stream",
     "text": [
      "{'loss': 0.9734, 'learning_rate': 0.0, 'epoch': 2.0}\n"
     ]
    },
    {
     "data": {
      "application/vnd.jupyter.widget-view+json": {
       "model_id": "7c198d1a4407462f92e61c2902569ff7",
       "version_major": 2,
       "version_minor": 0
      },
      "text/plain": [
       "A Jupyter Widget"
      ]
     },
     "metadata": {},
     "output_type": "display_data"
    },
    {
     "name": "stderr",
     "output_type": "stream",
     "text": [
      "\n",
      "\n",
      "Training completed. Do not forget to share your model on huggingface.co/models =)\n",
      "\n",
      "\n"
     ]
    },
    {
     "name": "stdout",
     "output_type": "stream",
     "text": [
      "{'eval_loss': 1.0289689302444458, 'eval_bleu': 41.44356165831565, 'eval_rouge': {'rouge1': 0.6751348620702116, 'rouge2': 0.4976855704059807, 'rougeL': 0.6371345376462452, 'rougeLsum': 0.6376186633843448}, 'eval_meteor': {'meteor': 0.6479188510808377}, 'eval_runtime': 40918.351, 'eval_samples_per_second': 0.088, 'eval_steps_per_second': 0.003, 'epoch': 2.0}\n",
      "{'train_runtime': 455127.531, 'train_samples_per_second': 0.127, 'train_steps_per_second': 0.004, 'train_loss': 1.2670740763346353, 'epoch': 2.0}\n"
     ]
    },
    {
     "data": {
      "text/plain": [
       "TrainOutput(global_step=1800, training_loss=1.2670740763346353, metrics={'train_runtime': 455127.531, 'train_samples_per_second': 0.127, 'train_steps_per_second': 0.004, 'train_loss': 1.2670740763346353, 'epoch': 2.0})"
      ]
     },
     "execution_count": 21,
     "metadata": {},
     "output_type": "execute_result"
    }
   ],
   "source": [
    "trainer.train()"
   ]
  },
  {
   "cell_type": "markdown",
   "metadata": {},
   "source": [
    "#### Evaluate Model"
   ]
  },
  {
   "cell_type": "code",
   "execution_count": 22,
   "metadata": {},
   "outputs": [
    {
     "name": "stderr",
     "output_type": "stream",
     "text": [
      "The following columns in the evaluation set don't have a corresponding argument in `MBartForConditionalGeneration.forward` and have been ignored: translation. If translation are not expected by `MBartForConditionalGeneration.forward`,  you can safely ignore this message.\n",
      "***** Running Evaluation *****\n",
      "  Num examples = 3600\n",
      "  Batch size = 32\n"
     ]
    },
    {
     "data": {
      "application/vnd.jupyter.widget-view+json": {
       "model_id": "36e2a1402b124865bd7643bde1848fe3",
       "version_major": 2,
       "version_minor": 0
      },
      "text/plain": [
       "A Jupyter Widget"
      ]
     },
     "metadata": {},
     "output_type": "display_data"
    },
    {
     "data": {
      "text/plain": [
       "{'eval_loss': 1.0289689302444458,\n",
       " 'eval_bleu': 41.443724393304315,\n",
       " 'eval_rouge': {'rouge1': 0.6751402780531002,\n",
       "  'rouge2': 0.49769602014143044,\n",
       "  'rougeL': 0.6371513427059108,\n",
       "  'rougeLsum': 0.6376403149816605},\n",
       " 'eval_meteor': {'meteor': 0.6479226630466496},\n",
       " 'eval_runtime': 40243.222,\n",
       " 'eval_samples_per_second': 0.089,\n",
       " 'eval_steps_per_second': 0.003,\n",
       " 'epoch': 2.0}"
      ]
     },
     "execution_count": 22,
     "metadata": {},
     "output_type": "execute_result"
    }
   ],
   "source": [
    "trainer.evaluate(max_length=MAX_LENGTH)"
   ]
  },
  {
   "cell_type": "markdown",
   "metadata": {},
   "source": [
    "#### Push Model to HuggingFace Hub (My Profile!)"
   ]
  },
  {
   "cell_type": "code",
   "execution_count": 24,
   "metadata": {},
   "outputs": [
    {
     "name": "stderr",
     "output_type": "stream",
     "text": [
      "Saving model checkpoint to mbart-large-50-English_Spanish_Translation\n",
      "Configuration saved in mbart-large-50-English_Spanish_Translation/config.json\n",
      "Model weights saved in mbart-large-50-English_Spanish_Translation/pytorch_model.bin\n",
      "tokenizer config file saved in mbart-large-50-English_Spanish_Translation/tokenizer_config.json\n",
      "Special tokens file saved in mbart-large-50-English_Spanish_Translation/special_tokens_map.json\n",
      "Dropping the following result as it does not have all the necessary fields:\n",
      "{'task': {'name': 'Sequence-to-sequence Language Modeling', 'type': 'text2text-generation'}, 'metrics': [{'name': 'Bleu', 'type': 'bleu', 'value': 41.443724393304315}, {'name': 'Rouge', 'type': 'rouge', 'value': {'rouge1': 0.6751402780531002, 'rouge2': 0.49769602014143044, 'rougeL': 0.6371513427059108, 'rougeLsum': 0.6376403149816605}}]}\n",
      "To https://huggingface.co/DunnBC22/mbart-large-50-English_Spanish_Translation\n",
      "   c34dbf3..16e1c56  main -> main\n",
      "\n",
      "WARNING:huggingface_hub.repository:To https://huggingface.co/DunnBC22/mbart-large-50-English_Spanish_Translation\n",
      "   c34dbf3..16e1c56  main -> main\n",
      "\n"
     ]
    }
   ],
   "source": [
    "trainer.push_to_hub(tags=\"translation\")"
   ]
  },
  {
   "attachments": {},
   "cell_type": "markdown",
   "metadata": {},
   "source": [
    "### Notes & Other Takeaways From This Project\n",
    "****\n",
    "- The results are pretty good!\n",
    "****\n",
    "- While the results improved from the first to the second epoch, I will not use a second epoch when I train the next machine translation project or two. It would be beneficial to train a machine learning project for 3, maybe even 4, epochs; however, for the intent here (personal project to demonstrate skillset), I am going to stick to a single epoch.\n",
    "****"
   ]
  }
 ],
 "metadata": {
  "kernelspec": {
   "display_name": "Python 3.9.12 ('nlp_ml': venv)",
   "language": "python",
   "name": "python3"
  },
  "language_info": {
   "codemirror_mode": {
    "name": "ipython",
    "version": 3
   },
   "file_extension": ".py",
   "mimetype": "text/x-python",
   "name": "python",
   "nbconvert_exporter": "python",
   "pygments_lexer": "ipython3",
   "version": "3.9.12"
  },
  "orig_nbformat": 4,
  "vscode": {
   "interpreter": {
    "hash": "0b7a754c5aaaa44a21e2f2148f50b931a5abdffe7ef71537f5954179554f39df"
   }
  }
 },
 "nbformat": 4,
 "nbformat_minor": 2
}
