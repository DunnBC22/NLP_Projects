{
 "cells": [
  {
   "cell_type": "markdown",
   "metadata": {},
   "source": [
    "# Translation from One Language to Another"
   ]
  },
  {
   "cell_type": "markdown",
   "metadata": {},
   "source": [
    "This model will appear on my HuggingFace profile as: 'mbart-large-50-English_German_Translation'\n",
    "    \n",
    "Dataset Source: https://www.kaggle.com/datasets/hgultekin/paralel-translation-corpus-in-22-languages"
   ]
  },
  {
   "cell_type": "markdown",
   "metadata": {},
   "source": [
    "#### Import Necessary Libraries"
   ]
  },
  {
   "cell_type": "code",
   "execution_count": 1,
   "metadata": {},
   "outputs": [],
   "source": [
    "import os, sys\n",
    "os.environ['TOKENIZERS_PARALLELISM']='false'\n",
    "\n",
    "from tqdm import tqdm\n",
    "\n",
    "import numpy as np\n",
    "import pandas as pd\n",
    "import matplotlib.pyplot as plt\n",
    "\n",
    "import transformers\n",
    "from transformers import DataCollatorForSeq2Seq, MBart50Tokenizer, AutoModelForSeq2SeqLM\n",
    "from transformers import Seq2SeqTrainingArguments, Seq2SeqTrainer, set_seed\n",
    "\n",
    "import datasets\n",
    "from datasets import Dataset, DatasetDict\n",
    "\n",
    "import evaluate"
   ]
  },
  {
   "cell_type": "markdown",
   "metadata": {},
   "source": [
    "#### Versions of Software & Libraries Used"
   ]
  },
  {
   "cell_type": "code",
   "execution_count": 2,
   "metadata": {},
   "outputs": [
    {
     "name": "stdout",
     "output_type": "stream",
     "text": [
      "Transformers:   4.22.2\n",
      "Pandas:         1.5.0\n",
      "NumPy:          1.23.3\n",
      "Python:         3.9.12\n",
      "Datasets:       2.5.2\n"
     ]
    }
   ],
   "source": [
    "print(\"Transformers:\".ljust(15), transformers.__version__)\n",
    "print(\"Pandas:\".ljust(15), pd.__version__)\n",
    "print(\"NumPy:\".ljust(15), np.__version__)\n",
    "print(\"Python:\".ljust(15), sys.version[0:6]) \n",
    "print(\"Datasets:\".ljust(15), datasets.__version__)"
   ]
  },
  {
   "cell_type": "markdown",
   "metadata": {},
   "source": [
    "#### Ingest & Start Preprocessing Data"
   ]
  },
  {
   "cell_type": "code",
   "execution_count": 3,
   "metadata": {},
   "outputs": [
    {
     "data": {
      "text/html": [
       "<div>\n",
       "<style scoped>\n",
       "    .dataframe tbody tr th:only-of-type {\n",
       "        vertical-align: middle;\n",
       "    }\n",
       "\n",
       "    .dataframe tbody tr th {\n",
       "        vertical-align: top;\n",
       "    }\n",
       "\n",
       "    .dataframe thead th {\n",
       "        text-align: right;\n",
       "    }\n",
       "</style>\n",
       "<table border=\"1\" class=\"dataframe\">\n",
       "  <thead>\n",
       "    <tr style=\"text-align: right;\">\n",
       "      <th></th>\n",
       "      <th>english</th>\n",
       "      <th>german</th>\n",
       "    </tr>\n",
       "  </thead>\n",
       "  <tbody>\n",
       "    <tr>\n",
       "      <th>0</th>\n",
       "      <td>Commission Regulation (EC) No 1788/2004</td>\n",
       "      <td>Verordnung (EG) Nr. 1788/2004 der Kommission</td>\n",
       "    </tr>\n",
       "    <tr>\n",
       "      <th>1</th>\n",
       "      <td>of 15 October 2004</td>\n",
       "      <td>vom 15. Oktober 2004</td>\n",
       "    </tr>\n",
       "    <tr>\n",
       "      <th>2</th>\n",
       "      <td>fixing the minimum selling prices for butter f...</td>\n",
       "      <td>zur Festsetzung der Mindestverkaufspreise für ...</td>\n",
       "    </tr>\n",
       "    <tr>\n",
       "      <th>3</th>\n",
       "      <td>THE COMMISSION OF THE EUROPEAN COMMUNITIES,</td>\n",
       "      <td>DIE KOMMISSION DER EUROPÄISCHEN GEMEINSCHAFTEN —</td>\n",
       "    </tr>\n",
       "    <tr>\n",
       "      <th>4</th>\n",
       "      <td>Having regard to the Treaty establishing the E...</td>\n",
       "      <td>gestützt auf den Vertrag zur Gründung der Euro...</td>\n",
       "    </tr>\n",
       "    <tr>\n",
       "      <th>...</th>\n",
       "      <td>...</td>\n",
       "      <td>...</td>\n",
       "    </tr>\n",
       "    <tr>\n",
       "      <th>5693619</th>\n",
       "      <td>Third country code [1]</td>\n",
       "      <td>Drittland-Code [1]</td>\n",
       "    </tr>\n",
       "    <tr>\n",
       "      <th>5693620</th>\n",
       "      <td>Standard import value</td>\n",
       "      <td>Pauschaler Einfuhrpreis</td>\n",
       "    </tr>\n",
       "    <tr>\n",
       "      <th>5693621</th>\n",
       "      <td>Country nomenclature as fixed by Commission Re...</td>\n",
       "      <td>Nomenklatur der Länder gemäß der Verordnung (E...</td>\n",
       "    </tr>\n",
       "    <tr>\n",
       "      <th>5693622</th>\n",
       "      <td>Code ‘999’ stands for ‘of other origin’.</td>\n",
       "      <td>Der Code „999“ steht für „Verschiedenes“.</td>\n",
       "    </tr>\n",
       "    <tr>\n",
       "      <th>5693623</th>\n",
       "      <td>OJ L 337, 24.12.1994, p. 66. Regulation as las...</td>\n",
       "      <td>ABl. L 337 vom 24.12.1994, S. 66. Verordnung z...</td>\n",
       "    </tr>\n",
       "  </tbody>\n",
       "</table>\n",
       "<p>5693487 rows × 2 columns</p>\n",
       "</div>"
      ],
      "text/plain": [
       "                                                   english  \\\n",
       "0                  Commission Regulation (EC) No 1788/2004   \n",
       "1                                       of 15 October 2004   \n",
       "2        fixing the minimum selling prices for butter f...   \n",
       "3              THE COMMISSION OF THE EUROPEAN COMMUNITIES,   \n",
       "4        Having regard to the Treaty establishing the E...   \n",
       "...                                                    ...   \n",
       "5693619                             Third country code [1]   \n",
       "5693620                              Standard import value   \n",
       "5693621  Country nomenclature as fixed by Commission Re...   \n",
       "5693622           Code ‘999’ stands for ‘of other origin’.   \n",
       "5693623  OJ L 337, 24.12.1994, p. 66. Regulation as las...   \n",
       "\n",
       "                                                    german  \n",
       "0             Verordnung (EG) Nr. 1788/2004 der Kommission  \n",
       "1                                     vom 15. Oktober 2004  \n",
       "2        zur Festsetzung der Mindestverkaufspreise für ...  \n",
       "3         DIE KOMMISSION DER EUROPÄISCHEN GEMEINSCHAFTEN —  \n",
       "4        gestützt auf den Vertrag zur Gründung der Euro...  \n",
       "...                                                    ...  \n",
       "5693619                                 Drittland-Code [1]  \n",
       "5693620                            Pauschaler Einfuhrpreis  \n",
       "5693621  Nomenklatur der Länder gemäß der Verordnung (E...  \n",
       "5693622          Der Code „999“ steht für „Verschiedenes“.  \n",
       "5693623  ABl. L 337 vom 24.12.1994, S. 66. Verordnung z...  \n",
       "\n",
       "[5693487 rows x 2 columns]"
      ]
     },
     "execution_count": 3,
     "metadata": {},
     "output_type": "execute_result"
    }
   ],
   "source": [
    "data = pd.read_csv('~/Documents/nlpnn/Datasets/Parallel Translation Corpus in 24 Languages/EN-DE (German)/EN-DE.txt', \n",
    "                   delimiter='\\t', \n",
    "                   engine=\"c\", \n",
    "                   header=None)\n",
    "\n",
    "data.drop_duplicates(inplace=True)\n",
    "\n",
    "data.dropna(inplace=True)\n",
    "\n",
    "data[0] = data[0].str.strip()\n",
    "data[1] = data[1].str.strip()\n",
    "\n",
    "data.drop(columns=[2, 3, 4, 5, 6, 7], inplace=True)\n",
    "\n",
    "data.rename(columns={1 : 'german', 0 : 'english'}, inplace=True)\n",
    "\n",
    "data"
   ]
  },
  {
   "cell_type": "markdown",
   "metadata": {},
   "source": [
    "#### Visual: Length of English Entries"
   ]
  },
  {
   "cell_type": "code",
   "execution_count": 4,
   "metadata": {},
   "outputs": [
    {
     "data": {
      "image/png": "[encoded data removed]",
      "text/plain": [
       "<Figure size 1800x800 with 1 Axes>"
      ]
     },
     "metadata": {},
     "output_type": "display_data"
    },
    {
     "name": "stdout",
     "output_type": "stream",
     "text": [
      "326\n"
     ]
    }
   ],
   "source": [
    "data['english_length'] = data['english'].str.split().str.len()\n",
    "\n",
    "n_bin = 175\n",
    "data.hist('english_length', grid=False, figsize=(18,8), range=(0,n_bin), bins=n_bin)\n",
    "plt.title('Histogram: Length of English Statements')\n",
    "plt.xlabel('# of Words in English Statements')\n",
    "plt.show()\n",
    "\n",
    "print(max(data['english_length']))"
   ]
  },
  {
   "cell_type": "markdown",
   "metadata": {},
   "source": [
    "#### Visual: Length of French Entries"
   ]
  },
  {
   "cell_type": "code",
   "execution_count": 5,
   "metadata": {},
   "outputs": [
    {
     "data": {
      "image/png": "[encoded data removed]",
      "text/plain": [
       "<Figure size 1800x800 with 1 Axes>"
      ]
     },
     "metadata": {},
     "output_type": "display_data"
    },
    {
     "name": "stdout",
     "output_type": "stream",
     "text": [
      "357\n"
     ]
    }
   ],
   "source": [
    "data['german_length'] = data['german'].str.split().str.len()\n",
    "\n",
    "n_bin=150\n",
    "data.hist('german_length', grid=False, figsize=(18,8), range=(0,n_bin), bins=n_bin)\n",
    "plt.title('Histogram: Length of German Statements')\n",
    "plt.xlabel('# of Words in German Statements')\n",
    "plt.show()\n",
    "\n",
    "print(max(data['german_length']))"
   ]
  },
  {
   "cell_type": "markdown",
   "metadata": {},
   "source": [
    "#### Trim Dataset Size & Drop Unnecessary Features"
   ]
  },
  {
   "cell_type": "code",
   "execution_count": 6,
   "metadata": {},
   "outputs": [
    {
     "name": "stdout",
     "output_type": "stream",
     "text": [
      "<class 'pandas.core.frame.DataFrame'>\n",
      "RangeIndex: 3201470 entries, 0 to 3201469\n",
      "Data columns (total 2 columns):\n",
      " #   Column   Dtype \n",
      "---  ------   ----- \n",
      " 0   english  object\n",
      " 1   german   object\n",
      "dtypes: object(2)\n",
      "memory usage: 48.9+ MB\n"
     ]
    }
   ],
   "source": [
    "upper_limit = 46\n",
    "lower_limit = 5\n",
    "\n",
    "data = data[data['german_length'] < upper_limit]\n",
    "data = data[data['german_length'] > lower_limit]\n",
    "\n",
    "data = data[data['english_length'] < upper_limit]\n",
    "data = data[data['english_length'] > lower_limit]\n",
    "\n",
    "data['eng_char_length'] = data['english'].str.len()\n",
    "data['german_char_length'] = data['german'].str.len()\n",
    "\n",
    "data = data[data['eng_char_length'] > 30]\n",
    "data = data[data['german_char_length'] > 30]\n",
    "\n",
    "data.reset_index(drop=True, inplace=True)\n",
    "\n",
    "data.drop(columns=['german_length', 'english_length', 'eng_char_length', 'german_char_length'], inplace=True)\n",
    "\n",
    "data.info()"
   ]
  },
  {
   "cell_type": "markdown",
   "metadata": {},
   "source": [
    "#### Randomly Sample 36,000 Samples (Due to Hardware Limitations)"
   ]
  },
  {
   "cell_type": "code",
   "execution_count": 7,
   "metadata": {},
   "outputs": [
    {
     "name": "stdout",
     "output_type": "stream",
     "text": [
      "<class 'pandas.core.frame.DataFrame'>\n",
      "RangeIndex: 36000 entries, 0 to 35999\n",
      "Data columns (total 2 columns):\n",
      " #   Column   Non-Null Count  Dtype \n",
      "---  ------   --------------  ----- \n",
      " 0   english  36000 non-null  object\n",
      " 1   german   36000 non-null  object\n",
      "dtypes: object(2)\n",
      "memory usage: 562.6+ KB\n"
     ]
    }
   ],
   "source": [
    "data = data.sample(n=36000, random_state=42, ignore_index=True)\n",
    "data.info()"
   ]
  },
  {
   "cell_type": "markdown",
   "metadata": {},
   "source": [
    "#### Final Preprocessing"
   ]
  },
  {
   "cell_type": "code",
   "execution_count": 8,
   "metadata": {},
   "outputs": [
    {
     "data": {
      "text/html": [
       "<div>\n",
       "<style scoped>\n",
       "    .dataframe tbody tr th:only-of-type {\n",
       "        vertical-align: middle;\n",
       "    }\n",
       "\n",
       "    .dataframe tbody tr th {\n",
       "        vertical-align: top;\n",
       "    }\n",
       "\n",
       "    .dataframe thead th {\n",
       "        text-align: right;\n",
       "    }\n",
       "</style>\n",
       "<table border=\"1\" class=\"dataframe\">\n",
       "  <thead>\n",
       "    <tr style=\"text-align: right;\">\n",
       "      <th></th>\n",
       "      <th>translation</th>\n",
       "    </tr>\n",
       "  </thead>\n",
       "  <tbody>\n",
       "    <tr>\n",
       "      <th>0</th>\n",
       "      <td>{'en': 'When signs of severe fighting appear t...</td>\n",
       "    </tr>\n",
       "    <tr>\n",
       "      <th>1</th>\n",
       "      <td>{'en': 'amending Regulation (EEC) No 3703/85 l...</td>\n",
       "    </tr>\n",
       "    <tr>\n",
       "      <th>2</th>\n",
       "      <td>{'en': 'Machaya, Jason (a.k.a. Jaison) Max Kok...</td>\n",
       "    </tr>\n",
       "    <tr>\n",
       "      <th>3</th>\n",
       "      <td>{'en': 'The ESS ERIC shall subscribe to the De...</td>\n",
       "    </tr>\n",
       "    <tr>\n",
       "      <th>4</th>\n",
       "      <td>{'en': 'This Decision shall be published in th...</td>\n",
       "    </tr>\n",
       "  </tbody>\n",
       "</table>\n",
       "</div>"
      ],
      "text/plain": [
       "                                         translation\n",
       "0  {'en': 'When signs of severe fighting appear t...\n",
       "1  {'en': 'amending Regulation (EEC) No 3703/85 l...\n",
       "2  {'en': 'Machaya, Jason (a.k.a. Jaison) Max Kok...\n",
       "3  {'en': 'The ESS ERIC shall subscribe to the De...\n",
       "4  {'en': 'This Decision shall be published in th..."
      ]
     },
     "execution_count": 8,
     "metadata": {},
     "output_type": "execute_result"
    }
   ],
   "source": [
    "data.rename(columns={'english' : 'en', 'german' : 'de'}, inplace=True)\n",
    "\n",
    "all_data = data.to_dict(orient='records')\n",
    "df = pd.Series(all_data)\n",
    "df = pd.DataFrame(df)\n",
    "df.rename(columns={ 0 : 'translation'}, inplace=True)\n",
    "df.head()"
   ]
  },
  {
   "cell_type": "markdown",
   "metadata": {},
   "source": [
    "#### Convert to Dataset Format & Split into Train/Test/Eval Datasets"
   ]
  },
  {
   "cell_type": "code",
   "execution_count": 9,
   "metadata": {},
   "outputs": [
    {
     "name": "stdout",
     "output_type": "stream",
     "text": [
      "Training Dataset Shape: (28800, 1)\n",
      "Testing Dataset Shape: (3600, 1)\n",
      "Evaluation Dataset Shape: (3600, 1)\n"
     ]
    },
    {
     "data": {
      "text/plain": [
       "{'translation': {'de': 'Der einheitliche Begleitschein im Anhang ist für alle Verbringungen radioaktiver Abfälle und abgebrannter Brennelemente zwischen den Mitgliedstaaten, in die Gemeinschaft und aus der Gemeinschaft sowie für die Durchfuhr durch die Gemeinschaft im Rahmen des Anwendungsbereichs der Richtlinie 2006/117/Euratom zu verwenden.',\n",
       "  'en': 'The standard document set out in the Annex shall be used in respect of any shipments of radioactive waste or spent fuel between Member States or into, out of and through the Community within the scope of Directive 2006/117/Euratom.'}}"
      ]
     },
     "execution_count": 9,
     "metadata": {},
     "output_type": "execute_result"
    }
   ],
   "source": [
    "dataset = Dataset.from_pandas(df)\n",
    "\n",
    "train_testEval = dataset.train_test_split(train_size=0.80)\n",
    "test_eval = train_testEval['test'].train_test_split(train_size=0.50)\n",
    "\n",
    "ds = DatasetDict({\n",
    "    'train' : train_testEval['train'],\n",
    "    'test' : test_eval['train'],\n",
    "    'eval' : test_eval['test'],\n",
    "})\n",
    "\n",
    "print(\"Training Dataset Shape:\", ds['train'].shape)\n",
    "print(\"Testing Dataset Shape:\", ds['test'].shape)\n",
    "print(\"Evaluation Dataset Shape:\", ds['eval'].shape)\n",
    "ds['train'][275]"
   ]
  },
  {
   "cell_type": "markdown",
   "metadata": {},
   "source": [
    "#### Remember to Install git lfs & Enter HuggingFace Access Token"
   ]
  },
  {
   "cell_type": "code",
   "execution_count": 10,
   "metadata": {},
   "outputs": [
    {
     "name": "stdout",
     "output_type": "stream",
     "text": [
      "Git LFS initialized.\n"
     ]
    }
   ],
   "source": [
    "# Enter Huggingface Access Token\n",
    "\n",
    "!git lfs install"
   ]
  },
  {
   "cell_type": "markdown",
   "metadata": {},
   "source": [
    "#### Basic Values/Constants"
   ]
  },
  {
   "cell_type": "code",
   "execution_count": 11,
   "metadata": {},
   "outputs": [],
   "source": [
    "num_of_epochs = 1\n",
    "set_seed=42\n",
    "BATCH_SIZE = 32\n",
    "learning_rate = 2e-5\n",
    "max_length = int(upper_limit*1.3)\n",
    "source_language = \"en\"\n",
    "target_language = \"de\"\n",
    "device = \"cpu\"\n",
    "\n",
    "model_ckpt = \"facebook/mbart-large-50\""
   ]
  },
  {
   "cell_type": "markdown",
   "metadata": {},
   "source": [
    "#### Create Tokenizer"
   ]
  },
  {
   "cell_type": "code",
   "execution_count": 12,
   "metadata": {},
   "outputs": [],
   "source": [
    "tokenizer = MBart50Tokenizer.from_pretrained(model_ckpt, num_labels=2)\n",
    "\n",
    "if \"mbart\" in model_ckpt:\n",
    "    tokenizer.src_lang=\"en_XX\"\n",
    "    tokenizer.tgt_lang='de_DE'"
   ]
  },
  {
   "cell_type": "markdown",
   "metadata": {},
   "source": [
    "#### Create Preprocessing Function"
   ]
  },
  {
   "cell_type": "code",
   "execution_count": 13,
   "metadata": {},
   "outputs": [],
   "source": [
    "def tokenizing_function(examples):\n",
    "    inputs = [ex[source_language] for ex in examples['translation']]\n",
    "    targets = [ex[target_language] for ex in examples['translation']]\n",
    "    model_inputs = tokenizer(inputs, text_target=targets, max_length=max_length, truncation=True)\n",
    "    return model_inputs"
   ]
  },
  {
   "cell_type": "markdown",
   "metadata": {},
   "source": [
    "#### Apply Preprocessing Function to Dataset"
   ]
  },
  {
   "cell_type": "code",
   "execution_count": 14,
   "metadata": {},
   "outputs": [
    {
     "data": {
      "application/vnd.jupyter.widget-view+json": {
       "model_id": "da444872d1834bf6851e4fd7a3e56276",
       "version_major": 2,
       "version_minor": 0
      },
      "text/plain": [
       "A Jupyter Widget"
      ]
     },
     "metadata": {},
     "output_type": "display_data"
    },
    {
     "data": {
      "application/vnd.jupyter.widget-view+json": {
       "model_id": "930a59a48cde462490cd77749a07d656",
       "version_major": 2,
       "version_minor": 0
      },
      "text/plain": [
       "A Jupyter Widget"
      ]
     },
     "metadata": {},
     "output_type": "display_data"
    },
    {
     "data": {
      "application/vnd.jupyter.widget-view+json": {
       "model_id": "6854e15911564b289d1f2f1ad1a303f1",
       "version_major": 2,
       "version_minor": 0
      },
      "text/plain": [
       "A Jupyter Widget"
      ]
     },
     "metadata": {},
     "output_type": "display_data"
    }
   ],
   "source": [
    "encoded_ds = ds.map(tokenizing_function, batched=True, load_from_cache_file=False)"
   ]
  },
  {
   "cell_type": "markdown",
   "metadata": {},
   "source": [
    "#### Print Example to Make Sure Edits Work as Expected"
   ]
  },
  {
   "cell_type": "code",
   "execution_count": 15,
   "metadata": {},
   "outputs": [
    {
     "name": "stdout",
     "output_type": "stream",
     "text": [
      "(28800, 4)\n",
      "(3600, 4)\n",
      "(3600, 4)\n"
     ]
    }
   ],
   "source": [
    "print(encoded_ds['train'].shape)\n",
    "print(encoded_ds['test'].shape)\n",
    "print(encoded_ds['eval'].shape)"
   ]
  },
  {
   "cell_type": "markdown",
   "metadata": {},
   "source": [
    "#### Instantiate Model"
   ]
  },
  {
   "cell_type": "code",
   "execution_count": 16,
   "metadata": {},
   "outputs": [],
   "source": [
    "model = (AutoModelForSeq2SeqLM.from_pretrained(model_ckpt, num_labels=2)).to(device)"
   ]
  },
  {
   "cell_type": "markdown",
   "metadata": {},
   "source": [
    "#### Instantiate Data Collator"
   ]
  },
  {
   "cell_type": "code",
   "execution_count": 17,
   "metadata": {},
   "outputs": [],
   "source": [
    "data_collator = DataCollatorForSeq2Seq(tokenizer=tokenizer, model=model)"
   ]
  },
  {
   "cell_type": "markdown",
   "metadata": {},
   "source": [
    "#### Create Function to Compute Metrics"
   ]
  },
  {
   "cell_type": "code",
   "execution_count": 18,
   "metadata": {},
   "outputs": [
    {
     "name": "stderr",
     "output_type": "stream",
     "text": [
      "[nltk_data] Downloading package wordnet to\n",
      "[nltk_data]     /Users/briandunn/nltk_data...\n",
      "[nltk_data]   Package wordnet is already up-to-date!\n",
      "[nltk_data] Downloading package punkt to /Users/briandunn/nltk_data...\n",
      "[nltk_data]   Package punkt is already up-to-date!\n",
      "[nltk_data] Downloading package omw-1.4 to\n",
      "[nltk_data]     /Users/briandunn/nltk_data...\n",
      "[nltk_data]   Package omw-1.4 is already up-to-date!\n"
     ]
    }
   ],
   "source": [
    "bleu_metric = evaluate.load(\"sacrebleu\")\n",
    "rouge_metric = evaluate.load(\"rouge\")\n",
    "meteor_metric = evaluate.load(\"meteor\")\n",
    "\n",
    "def compute_metrics(eval_preds):\n",
    "    preds, labels = eval_preds\n",
    "    \n",
    "    if isinstance(preds, tuple):\n",
    "        preds = preds[0]\n",
    "    \n",
    "    decoded_preds = tokenizer.batch_decode(preds, skip_special_tokens=True)\n",
    "    \n",
    "    labels = np.where(labels != -100, labels, tokenizer.pad_token_id)\n",
    "    decoded_labels = tokenizer.batch_decode(labels, skip_special_tokens=True)\n",
    "    \n",
    "    decoded_preds = [pred.strip() for pred in decoded_preds]\n",
    "    decoded_labels = [[label.strip()] for label in decoded_labels]\n",
    "    \n",
    "    bleu_results = bleu_metric.compute(predictions=decoded_preds, references=decoded_labels)\n",
    "    rouge_results = rouge_metric.compute(predictions=decoded_preds, references=decoded_labels)\n",
    "    meteor_results = meteor_metric.compute(predictions=decoded_preds, references=decoded_labels)\n",
    "    \n",
    "    return {\"bleu\" : bleu_results[\"score\"], \"rouge\" : rouge_results, \"meteor\" : meteor_results}"
   ]
  },
  {
   "cell_type": "markdown",
   "metadata": {},
   "source": [
    "#### Instantiate Training Arguments"
   ]
  },
  {
   "cell_type": "code",
   "execution_count": 19,
   "metadata": {},
   "outputs": [],
   "source": [
    "model_name = model_ckpt.split(\"/\")[-1]\n",
    "model_name = f\"{model_name}-English_German_Translation\"\n",
    "\n",
    "args = Seq2SeqTrainingArguments(output_dir=model_name, \n",
    "                                per_device_train_batch_size=BATCH_SIZE, \n",
    "                                per_device_eval_batch_size=BATCH_SIZE,\n",
    "                                evaluation_strategy=\"epoch\", \n",
    "                                logging_strategy=\"epoch\", \n",
    "                                learning_rate=learning_rate,\n",
    "                                report_to='all', \n",
    "                                weight_decay=0.01, \n",
    "                                save_total_limit=2, \n",
    "                                disable_tqdm=False,\n",
    "                                num_train_epochs=num_of_epochs, \n",
    "                                predict_with_generate=True,\n",
    "                                push_to_hub=True)"
   ]
  },
  {
   "cell_type": "markdown",
   "metadata": {},
   "source": [
    "#### Instantiate Trainer"
   ]
  },
  {
   "cell_type": "code",
   "execution_count": 20,
   "metadata": {},
   "outputs": [
    {
     "name": "stderr",
     "output_type": "stream",
     "text": [
      "/Users/briandunn/Documents/nlpnn/nlp_ml/lib/python3.9/site-packages/huggingface_hub/repository.py:705: FutureWarning: Creating a repository through 'clone_from' is deprecated and will be removed in v0.11.\n",
      "  warnings.warn(\n",
      "Cloning https://huggingface.co/DunnBC22/mbart-large-50-English_German_Translation into local empty directory.\n"
     ]
    }
   ],
   "source": [
    "trainer = Seq2SeqTrainer(model=model, \n",
    "                         args=args, \n",
    "                         train_dataset=encoded_ds['train'], \n",
    "                         eval_dataset=encoded_ds['eval'], \n",
    "                         tokenizer=tokenizer, \n",
    "                         data_collator=data_collator,\n",
    "                         compute_metrics=compute_metrics)"
   ]
  },
  {
   "cell_type": "markdown",
   "metadata": {},
   "source": [
    "#### Train Model"
   ]
  },
  {
   "cell_type": "code",
   "execution_count": 21,
   "metadata": {},
   "outputs": [
    {
     "name": "stderr",
     "output_type": "stream",
     "text": [
      "The following columns in the training set don't have a corresponding argument in `MBartForConditionalGeneration.forward` and have been ignored: translation. If translation are not expected by `MBartForConditionalGeneration.forward`,  you can safely ignore this message.\n",
      "/Users/briandunn/Documents/nlpnn/nlp_ml/lib/python3.9/site-packages/transformers/optimization.py:306: FutureWarning: This implementation of AdamW is deprecated and will be removed in a future version. Use the PyTorch implementation torch.optim.AdamW instead, or set `no_deprecation_warning=True` to disable this warning\n",
      "  warnings.warn(\n",
      "***** Running training *****\n",
      "  Num examples = 28800\n",
      "  Num Epochs = 1\n",
      "  Instantaneous batch size per device = 32\n",
      "  Total train batch size (w. parallel, distributed & accumulation) = 32\n",
      "  Gradient Accumulation steps = 1\n",
      "  Total optimization steps = 900\n"
     ]
    },
    {
     "data": {
      "application/vnd.jupyter.widget-view+json": {
       "model_id": "a67536ef83ba42fbbf0e870ecf3b6c30",
       "version_major": 2,
       "version_minor": 0
      },
      "text/plain": [
       "A Jupyter Widget"
      ]
     },
     "metadata": {},
     "output_type": "display_data"
    },
    {
     "name": "stderr",
     "output_type": "stream",
     "text": [
      "Saving model checkpoint to mbart-large-50-English_German_Translation/checkpoint-500\n",
      "Configuration saved in mbart-large-50-English_German_Translation/checkpoint-500/config.json\n",
      "Model weights saved in mbart-large-50-English_German_Translation/checkpoint-500/pytorch_model.bin\n",
      "tokenizer config file saved in mbart-large-50-English_German_Translation/checkpoint-500/tokenizer_config.json\n",
      "Special tokens file saved in mbart-large-50-English_German_Translation/checkpoint-500/special_tokens_map.json\n",
      "tokenizer config file saved in mbart-large-50-English_German_Translation/tokenizer_config.json\n",
      "Special tokens file saved in mbart-large-50-English_German_Translation/special_tokens_map.json\n",
      "The following columns in the evaluation set don't have a corresponding argument in `MBartForConditionalGeneration.forward` and have been ignored: translation. If translation are not expected by `MBartForConditionalGeneration.forward`,  you can safely ignore this message.\n",
      "***** Running Evaluation *****\n",
      "  Num examples = 3600\n",
      "  Batch size = 32\n"
     ]
    },
    {
     "name": "stdout",
     "output_type": "stream",
     "text": [
      "{'loss': 1.7738, 'learning_rate': 0.0, 'epoch': 1.0}\n"
     ]
    },
    {
     "data": {
      "application/vnd.jupyter.widget-view+json": {
       "model_id": "da4fbd6b277143339345ecae39c97b9c",
       "version_major": 2,
       "version_minor": 0
      },
      "text/plain": [
       "A Jupyter Widget"
      ]
     },
     "metadata": {},
     "output_type": "display_data"
    },
    {
     "name": "stderr",
     "output_type": "stream",
     "text": [
      "\n",
      "\n",
      "Training completed. Do not forget to share your model on huggingface.co/models =)\n",
      "\n",
      "\n"
     ]
    },
    {
     "name": "stdout",
     "output_type": "stream",
     "text": [
      "{'eval_loss': 1.2341535091400146, 'eval_bleu': 35.74355188362812, 'eval_rouge': {'rouge1': 0.5805815969432273, 'rouge2': 0.3941222478624937, 'rougeL': 0.544162316313326, 'rougeLsum': 0.5444260344836553}, 'eval_meteor': {'meteor': 0.5511605039667078}, 'eval_runtime': 45379.5097, 'eval_samples_per_second': 0.079, 'eval_steps_per_second': 0.002, 'epoch': 1.0}\n",
      "{'train_runtime': 286450.0066, 'train_samples_per_second': 0.101, 'train_steps_per_second': 0.003, 'train_loss': 1.773759494357639, 'epoch': 1.0}\n"
     ]
    },
    {
     "data": {
      "text/plain": [
       "TrainOutput(global_step=900, training_loss=1.773759494357639, metrics={'train_runtime': 286450.0066, 'train_samples_per_second': 0.101, 'train_steps_per_second': 0.003, 'train_loss': 1.773759494357639, 'epoch': 1.0})"
      ]
     },
     "execution_count": 21,
     "metadata": {},
     "output_type": "execute_result"
    }
   ],
   "source": [
    "trainer.train()"
   ]
  },
  {
   "cell_type": "markdown",
   "metadata": {},
   "source": [
    "#### Evaluate Model"
   ]
  },
  {
   "cell_type": "code",
   "execution_count": 22,
   "metadata": {},
   "outputs": [
    {
     "name": "stderr",
     "output_type": "stream",
     "text": [
      "The following columns in the evaluation set don't have a corresponding argument in `MBartForConditionalGeneration.forward` and have been ignored: translation. If translation are not expected by `MBartForConditionalGeneration.forward`,  you can safely ignore this message.\n",
      "***** Running Evaluation *****\n",
      "  Num examples = 3600\n",
      "  Batch size = 32\n"
     ]
    },
    {
     "data": {
      "application/vnd.jupyter.widget-view+json": {
       "model_id": "b3aa50cac4a8452b9a9472e4b2f98465",
       "version_major": 2,
       "version_minor": 0
      },
      "text/plain": [
       "A Jupyter Widget"
      ]
     },
     "metadata": {},
     "output_type": "display_data"
    },
    {
     "data": {
      "text/plain": [
       "{'eval_loss': 1.2341535091400146,\n",
       " 'eval_bleu': 35.59305772377774,\n",
       " 'eval_rouge': {'rouge1': 0.5803386608353808,\n",
       "  'rouge2': 0.3939141514072567,\n",
       "  'rougeL': 0.5438629663406402,\n",
       "  'rougeLsum': 0.544153348468965},\n",
       " 'eval_meteor': {'meteor': 0.5500546034636025},\n",
       " 'eval_runtime': 36170.9629,\n",
       " 'eval_samples_per_second': 0.1,\n",
       " 'eval_steps_per_second': 0.003,\n",
       " 'epoch': 1.0}"
      ]
     },
     "execution_count": 22,
     "metadata": {},
     "output_type": "execute_result"
    }
   ],
   "source": [
    "trainer.evaluate(max_length=max_length)"
   ]
  },
  {
   "cell_type": "markdown",
   "metadata": {},
   "source": [
    "#### Push Model to HuggingFace Hub (My Profile!)"
   ]
  },
  {
   "cell_type": "code",
   "execution_count": 24,
   "metadata": {},
   "outputs": [
    {
     "name": "stderr",
     "output_type": "stream",
     "text": [
      "Saving model checkpoint to mbart-large-50-English_German_Translation\n",
      "Configuration saved in mbart-large-50-English_German_Translation/config.json\n",
      "Model weights saved in mbart-large-50-English_German_Translation/pytorch_model.bin\n",
      "tokenizer config file saved in mbart-large-50-English_German_Translation/tokenizer_config.json\n",
      "Special tokens file saved in mbart-large-50-English_German_Translation/special_tokens_map.json\n",
      "Dropping the following result as it does not have all the necessary fields:\n",
      "{'task': {'name': 'Sequence-to-sequence Language Modeling', 'type': 'text2text-generation'}, 'metrics': [{'name': 'Bleu', 'type': 'bleu', 'value': 35.59305772377774}, {'name': 'Rouge', 'type': 'rouge', 'value': {'rouge1': 0.5803386608353808, 'rouge2': 0.3939141514072567, 'rougeL': 0.5438629663406402, 'rougeLsum': 0.544153348468965}}]}\n",
      "To https://huggingface.co/DunnBC22/mbart-large-50-English_German_Translation\n",
      "   13e1aa3..debc549  main -> main\n",
      "\n",
      "WARNING:huggingface_hub.repository:To https://huggingface.co/DunnBC22/mbart-large-50-English_German_Translation\n",
      "   13e1aa3..debc549  main -> main\n",
      "\n"
     ]
    }
   ],
   "source": [
    "trainer.push_to_hub()"
   ]
  }
 ],
 "metadata": {
  "kernelspec": {
   "display_name": "Python 3.9.12 ('nlp_ml': venv)",
   "language": "python",
   "name": "python3"
  },
  "language_info": {
   "codemirror_mode": {
    "name": "ipython",
    "version": 3
   },
   "file_extension": ".py",
   "mimetype": "text/x-python",
   "name": "python",
   "nbconvert_exporter": "python",
   "pygments_lexer": "ipython3",
   "version": "3.9.12"
  },
  "orig_nbformat": 4,
  "vscode": {
   "interpreter": {
    "hash": "0b7a754c5aaaa44a21e2f2148f50b931a5abdffe7ef71537f5954179554f39df"
   }
  }
 },
 "nbformat": 4,
 "nbformat_minor": 2
}
