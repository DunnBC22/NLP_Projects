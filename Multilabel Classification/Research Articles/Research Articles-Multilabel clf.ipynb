{
 "cells": [
  {
   "attachments": {},
   "cell_type": "markdown",
   "metadata": {},
   "source": [
    "## Multilabel Classification of Research Articles \n",
    "\n",
    "Dataset Source: https://www.kaggle.com/datasets/shivanandmn/multilabel-classification-dataset"
   ]
  },
  {
   "attachments": {},
   "cell_type": "markdown",
   "metadata": {},
   "source": [
    "##### Import Necessary Libraries"
   ]
  },
  {
   "cell_type": "code",
   "execution_count": 1,
   "metadata": {},
   "outputs": [],
   "source": [
    "import os, sys\n",
    "os.environ['TOKENIZERS_PARALLELISM']='false'\n",
    "\n",
    "from tqdm import tqdm\n",
    "\n",
    "import numpy as np\n",
    "import pandas as pd\n",
    "import matplotlib.pyplot as plt\n",
    "\n",
    "from sklearn.metrics import f1_score, roc_auc_score, accuracy_score\n",
    "\n",
    "import transformers\n",
    "from transformers import DataCollatorForSeq2Seq, AutoTokenizer, DistilBertForSequenceClassification\n",
    "from transformers import TrainingArguments, Trainer, set_seed\n",
    "\n",
    "import datasets\n",
    "from datasets import Dataset, DatasetDict\n",
    "\n",
    "import evaluate\n",
    "\n",
    "import torch"
   ]
  },
  {
   "attachments": {},
   "cell_type": "markdown",
   "metadata": {},
   "source": [
    "##### Display Version of Relevant Libraries"
   ]
  },
  {
   "cell_type": "code",
   "execution_count": 2,
   "metadata": {},
   "outputs": [
    {
     "name": "stdout",
     "output_type": "stream",
     "text": [
      "        Python: 3.9.7 \n",
      "        Pandas: 1.4.4\n",
      "         NumPy: 1.23.3\n",
      "         Torch: 4.21.3\n",
      "  Transformers: 4.21.3\n",
      "      Datasets: 2.4.0\n",
      "      Evaluate: 0.2.2\n"
     ]
    }
   ],
   "source": [
    "print(\"Python:\".rjust(15), sys.version[0:6])\n",
    "print(\"Pandas:\".rjust(15), pd.__version__)\n",
    "print(\"NumPy:\".rjust(15), np.__version__)\n",
    "print(\"Torch:\".rjust(15), transformers.__version__)\n",
    "print(\"Transformers:\".rjust(15), transformers.__version__)\n",
    "print(\"Datasets:\".rjust(15), datasets.__version__)\n",
    "print(\"Evaluate:\".rjust(15), evaluate.__version__)"
   ]
  },
  {
   "attachments": {},
   "cell_type": "markdown",
   "metadata": {},
   "source": [
    "##### Ingest Data & Drop Unnecessary Feature"
   ]
  },
  {
   "cell_type": "code",
   "execution_count": 3,
   "metadata": {},
   "outputs": [
    {
     "name": "stdout",
     "output_type": "stream",
     "text": [
      "<class 'pandas.core.frame.DataFrame'>\n",
      "RangeIndex: 20972 entries, 0 to 20971\n",
      "Data columns (total 8 columns):\n",
      " #   Column                Non-Null Count  Dtype \n",
      "---  ------                --------------  ----- \n",
      " 0   TITLE                 20972 non-null  object\n",
      " 1   ABSTRACT              20972 non-null  object\n",
      " 2   Computer Science      20972 non-null  int64 \n",
      " 3   Physics               20972 non-null  int64 \n",
      " 4   Mathematics           20972 non-null  int64 \n",
      " 5   Statistics            20972 non-null  int64 \n",
      " 6   Quantitative Biology  20972 non-null  int64 \n",
      " 7   Quantitative Finance  20972 non-null  int64 \n",
      "dtypes: int64(6), object(2)\n",
      "memory usage: 1.3+ MB\n"
     ]
    }
   ],
   "source": [
    "df = pd.read_csv(\"/Users/leedunn/Desktop/Projects to Train/multilabel_clf/train.csv\")\n",
    "\n",
    "df.drop(columns=['ID'], inplace=True)\n",
    "\n",
    "df.info()"
   ]
  },
  {
   "attachments": {},
   "cell_type": "markdown",
   "metadata": {},
   "source": [
    "##### Data Preprocessing"
   ]
  },
  {
   "cell_type": "code",
   "execution_count": 4,
   "metadata": {},
   "outputs": [
    {
     "data": {
      "text/html": [
       "<div>\n",
       "<style scoped>\n",
       "    .dataframe tbody tr th:only-of-type {\n",
       "        vertical-align: middle;\n",
       "    }\n",
       "\n",
       "    .dataframe tbody tr th {\n",
       "        vertical-align: top;\n",
       "    }\n",
       "\n",
       "    .dataframe thead th {\n",
       "        text-align: right;\n",
       "    }\n",
       "</style>\n",
       "<table border=\"1\" class=\"dataframe\">\n",
       "  <thead>\n",
       "    <tr style=\"text-align: right;\">\n",
       "      <th></th>\n",
       "      <th>Computer Science</th>\n",
       "      <th>Physics</th>\n",
       "      <th>Mathematics</th>\n",
       "      <th>Statistics</th>\n",
       "      <th>Quantitative Biology</th>\n",
       "      <th>Quantitative Finance</th>\n",
       "      <th>text</th>\n",
       "    </tr>\n",
       "  </thead>\n",
       "  <tbody>\n",
       "    <tr>\n",
       "      <th>0</th>\n",
       "      <td>1</td>\n",
       "      <td>0</td>\n",
       "      <td>0</td>\n",
       "      <td>0</td>\n",
       "      <td>0</td>\n",
       "      <td>0</td>\n",
       "      <td>Reconstructing Subject-Specific Effect Maps : ...</td>\n",
       "    </tr>\n",
       "    <tr>\n",
       "      <th>1</th>\n",
       "      <td>1</td>\n",
       "      <td>0</td>\n",
       "      <td>0</td>\n",
       "      <td>0</td>\n",
       "      <td>0</td>\n",
       "      <td>0</td>\n",
       "      <td>Rotation Invariance Neural Network :   Rotatio...</td>\n",
       "    </tr>\n",
       "    <tr>\n",
       "      <th>2</th>\n",
       "      <td>0</td>\n",
       "      <td>0</td>\n",
       "      <td>1</td>\n",
       "      <td>0</td>\n",
       "      <td>0</td>\n",
       "      <td>0</td>\n",
       "      <td>Spherical polyharmonics and Poisson kernels fo...</td>\n",
       "    </tr>\n",
       "    <tr>\n",
       "      <th>3</th>\n",
       "      <td>0</td>\n",
       "      <td>0</td>\n",
       "      <td>1</td>\n",
       "      <td>0</td>\n",
       "      <td>0</td>\n",
       "      <td>0</td>\n",
       "      <td>A finite element approximation for the stochas...</td>\n",
       "    </tr>\n",
       "    <tr>\n",
       "      <th>4</th>\n",
       "      <td>1</td>\n",
       "      <td>0</td>\n",
       "      <td>0</td>\n",
       "      <td>1</td>\n",
       "      <td>0</td>\n",
       "      <td>0</td>\n",
       "      <td>Comparative study of Discrete Wavelet Transfor...</td>\n",
       "    </tr>\n",
       "  </tbody>\n",
       "</table>\n",
       "</div>"
      ],
      "text/plain": [
       "   Computer Science  Physics  Mathematics  Statistics  Quantitative Biology  \\\n",
       "0                 1        0            0           0                     0   \n",
       "1                 1        0            0           0                     0   \n",
       "2                 0        0            1           0                     0   \n",
       "3                 0        0            1           0                     0   \n",
       "4                 1        0            0           1                     0   \n",
       "\n",
       "   Quantitative Finance                                               text  \n",
       "0                     0  Reconstructing Subject-Specific Effect Maps : ...  \n",
       "1                     0  Rotation Invariance Neural Network :   Rotatio...  \n",
       "2                     0  Spherical polyharmonics and Poisson kernels fo...  \n",
       "3                     0  A finite element approximation for the stochas...  \n",
       "4                     0  Comparative study of Discrete Wavelet Transfor...  "
      ]
     },
     "execution_count": 4,
     "metadata": {},
     "output_type": "execute_result"
    }
   ],
   "source": [
    "df['text'] = df[\"TITLE\"] + \" : \" + df[\"ABSTRACT\"]\n",
    "\n",
    "df.drop(columns=[\"TITLE\", \"ABSTRACT\"], inplace=True)\n",
    "\n",
    "df.head()"
   ]
  },
  {
   "attachments": {},
   "cell_type": "markdown",
   "metadata": {},
   "source": [
    "##### Visual: Histogram of Article Abstract's Word Lengths"
   ]
  },
  {
   "cell_type": "code",
   "execution_count": 5,
   "metadata": {},
   "outputs": [
    {
     "data": {
      "image/png": "[encoded data removed]",
      "text/plain": [
       "<Figure size 1800x800 with 1 Axes>"
      ]
     },
     "metadata": {},
     "output_type": "display_data"
    },
    {
     "name": "stdout",
     "output_type": "stream",
     "text": [
      "The maximum length of Article Abstracts (in words) is 463 words.\n"
     ]
    }
   ],
   "source": [
    "df['text_length'] = df['text'].str.split().str.len()\n",
    "\n",
    "n_bin=464\n",
    "df.hist('text_length', grid=False, figsize=(18,8), range=(0,n_bin), bins=n_bin)\n",
    "plt.title('Histogram: Length of Article Abstracts')\n",
    "plt.xlabel('# of Words in Article Abstracts')\n",
    "plt.ylabel('# of Samples')\n",
    "plt.show()\n",
    "\n",
    "print(f\"The maximum length of Article Abstracts (in words) is {max(df['text_length'])} words.\")"
   ]
  },
  {
   "attachments": {},
   "cell_type": "markdown",
   "metadata": {},
   "source": [
    "##### Data Preprocessing"
   ]
  },
  {
   "cell_type": "code",
   "execution_count": 6,
   "metadata": {},
   "outputs": [
    {
     "name": "stdout",
     "output_type": "stream",
     "text": [
      "<class 'pandas.core.frame.DataFrame'>\n",
      "Int64Index: 20969 entries, 0 to 20971\n",
      "Data columns (total 6 columns):\n",
      " #   Column                Non-Null Count  Dtype \n",
      "---  ------                --------------  ----- \n",
      " 0   Computer Science      20969 non-null  int64 \n",
      " 1   Physics               20969 non-null  int64 \n",
      " 2   Mathematics           20969 non-null  int64 \n",
      " 3   Statistics            20969 non-null  int64 \n",
      " 4   Quantitative Biology  20969 non-null  int64 \n",
      " 5   text                  20969 non-null  object\n",
      "dtypes: int64(5), object(1)\n",
      "memory usage: 1.1+ MB\n"
     ]
    }
   ],
   "source": [
    "upper_limit=350\n",
    "\n",
    "# This only removes 3 samples (out of nearly 21,000 total samples)\n",
    "df = df[df['text_length'] < (upper_limit + 1)]\n",
    "\n",
    "df.drop(columns=[\"text_length\", \"Quantitative Finance\"], inplace=True)\n",
    "\n",
    "df.info()"
   ]
  },
  {
   "attachments": {},
   "cell_type": "markdown",
   "metadata": {},
   "source": [
    "##### Create List of Labels & Dictionaries for Converting Between Strings & Integers"
   ]
  },
  {
   "cell_type": "code",
   "execution_count": 7,
   "metadata": {},
   "outputs": [],
   "source": [
    "# label values & conversion dictionaries\n",
    "\n",
    "labels = [x for x in df.columns if x not in ['text']]\n",
    "id2label = {idx:label for idx, label in enumerate(labels)}\n",
    "label2id = {label:idx for idx, label in enumerate(labels)}"
   ]
  },
  {
   "attachments": {},
   "cell_type": "markdown",
   "metadata": {},
   "source": [
    "##### Convert Pandas DataFrame to Datasets & Split Dataset into Training/Testing/Evaluation Datasets"
   ]
  },
  {
   "cell_type": "code",
   "execution_count": 8,
   "metadata": {},
   "outputs": [
    {
     "name": "stdout",
     "output_type": "stream",
     "text": [
      "Training Dataset Shape: (16775, 7)\n",
      "Testing Dataset Shape: (2097, 7)\n",
      "Evaluation Dataset Shape: (2097, 7)\n"
     ]
    },
    {
     "data": {
      "text/plain": [
       "{'Computer Science': 1,\n",
       " 'Physics': 0,\n",
       " 'Mathematics': 0,\n",
       " 'Statistics': 0,\n",
       " 'Quantitative Biology': 0,\n",
       " 'text': \"FBG-Based Position Estimation of Highly Deformable Continuum Manipulators: Model-Dependent vs. Data-Driven Approaches :   Conventional shape sensing techniques using Fiber Bragg Grating (FBG) involve\\nfinding the curvature at discrete FBG active areas and integrating curvature\\nover the length of the continuum dexterous manipulator (CDM) for tip position\\nestimation (TPE). However, due to limited number of sensing locations and many\\ngeometrical assumptions, these methods are prone to large error propagation\\nespecially when the CDM undergoes large deflections. In this paper, we study\\nthe complications of using the conventional TPE methods that are dependent on\\nsensor model and propose a new data-driven method that overcomes these\\nchallenges. The proposed method consists of a regression model that takes FBG\\nwavelength raw data as input and directly estimates the CDM's tip position.\\nThis model is pre-operatively (off-line) trained on position information from\\noptical trackers/cameras (as the ground truth) and it intra-operatively\\n(on-line) estimates CDM tip position using only the FBG wavelength data. The\\nmethod's performance is evaluated on a CDM developed for orthopedic\\napplications, and the results are compared to conventional model-dependent\\nmethods during large deflection bendings. Mean absolute TPE error (and standard\\ndeviation) of 1.52 (0.67) mm and 0.11 (0.1) mm with maximum absolute errors of\\n3.63 mm and 0.62 mm for the conventional and the proposed data-driven\\ntechniques were obtained, respectively. These results demonstrate a significant\\nout-performance of the proposed data-driven approach versus the conventional\\nestimation technique.\\n\",\n",
       " '__index_level_0__': 14321}"
      ]
     },
     "execution_count": 8,
     "metadata": {},
     "output_type": "execute_result"
    }
   ],
   "source": [
    "dataset = Dataset.from_pandas(df)\n",
    "\n",
    "train_testEval = dataset.train_test_split(train_size=0.80)\n",
    "test_eval = train_testEval['test'].train_test_split(train_size=0.50)\n",
    "\n",
    "ds = DatasetDict({\n",
    "    'train' : train_testEval['train'],\n",
    "    'test' : test_eval['train'],\n",
    "    'eval' : test_eval['test'],\n",
    "})\n",
    "\n",
    "print(\"Training Dataset Shape:\", ds['train'].shape)\n",
    "print(\"Testing Dataset Shape:\", ds['test'].shape)\n",
    "print(\"Evaluation Dataset Shape:\", ds['eval'].shape)\n",
    "ds['train'][25]"
   ]
  },
  {
   "cell_type": "markdown",
   "metadata": {},
   "source": [
    "#### Remember to Install git lfs & Enter HuggingFace Access Token"
   ]
  },
  {
   "cell_type": "code",
   "execution_count": 9,
   "metadata": {},
   "outputs": [
    {
     "name": "stdout",
     "output_type": "stream",
     "text": [
      "Git LFS initialized.\n"
     ]
    }
   ],
   "source": [
    "# Enter Huggingface Access Token\n",
    "\n",
    "!git lfs install"
   ]
  },
  {
   "cell_type": "markdown",
   "metadata": {},
   "source": [
    "#### Basic Values/Constants"
   ]
  },
  {
   "cell_type": "code",
   "execution_count": 10,
   "metadata": {},
   "outputs": [
    {
     "name": "stdout",
     "output_type": "stream",
     "text": [
      "cpu\n"
     ]
    }
   ],
   "source": [
    "set_seed = 42\n",
    "NUM_OF_EPOCHS = 5\n",
    "\n",
    "BATCH_SIZE = 64\n",
    "LEARNING_RATE = 2e-5\n",
    "\n",
    "MAX_LENGTH = int(upper_limit*1.3)\n",
    "MODEL_CKPT = \"distilbert-base-uncased\"\n",
    "\n",
    "METRIC_NAME = \"f1\"\n",
    "DEVICE = torch.device(\"cuda\") if torch.cuda.is_available() else torch.device(\"cpu\")\n",
    "print(DEVICE)"
   ]
  },
  {
   "attachments": {},
   "cell_type": "markdown",
   "metadata": {},
   "source": [
    "##### Create Tokenizer"
   ]
  },
  {
   "cell_type": "code",
   "execution_count": 11,
   "metadata": {},
   "outputs": [],
   "source": [
    "tokenizer = AutoTokenizer.from_pretrained(MODEL_CKPT)\n",
    "\n",
    "def data_preprocessor(examples):\n",
    "\t# get a batch of text\n",
    "\ttext = examples[\"text\"]\n",
    "\t# encode them\n",
    "\tencoded_data = tokenizer(text, padding=\"max_length\", truncation=True, max_length=MAX_LENGTH)\n",
    "\t# add labels\n",
    "\tlabels_batch = {k: examples[k] for k in examples.keys() if k in labels}\n",
    "\t# create numpy array\n",
    "\tlabels_matrix = np.zeros((len(text), len(labels)))\n",
    "\t# load numpy array\t\n",
    "\tfor idx, label in enumerate(labels):\n",
    "\t\tlabels_matrix[:, idx] = labels_batch[label]\n",
    "\n",
    "\tencoded_data[\"labels\"] = labels_matrix.tolist()\n",
    "  \n",
    "\treturn encoded_data"
   ]
  },
  {
   "attachments": {},
   "cell_type": "markdown",
   "metadata": {},
   "source": [
    "##### Tokenize Dataset"
   ]
  },
  {
   "cell_type": "code",
   "execution_count": 12,
   "metadata": {},
   "outputs": [
    {
     "data": {
      "application/vnd.jupyter.widget-view+json": {
       "model_id": "2a03220cf3f546e5972c6bb36cf485c9",
       "version_major": 2,
       "version_minor": 0
      },
      "text/plain": [
       "  0%|          | 0/17 [00:00<?, ?ba/s]"
      ]
     },
     "metadata": {},
     "output_type": "display_data"
    },
    {
     "data": {
      "application/vnd.jupyter.widget-view+json": {
       "model_id": "718f05c233274d3784fedb610463ab5a",
       "version_major": 2,
       "version_minor": 0
      },
      "text/plain": [
       "  0%|          | 0/3 [00:00<?, ?ba/s]"
      ]
     },
     "metadata": {},
     "output_type": "display_data"
    },
    {
     "data": {
      "application/vnd.jupyter.widget-view+json": {
       "model_id": "4e3f3d85009b489ca668a813da1bfb3c",
       "version_major": 2,
       "version_minor": 0
      },
      "text/plain": [
       "  0%|          | 0/3 [00:00<?, ?ba/s]"
      ]
     },
     "metadata": {},
     "output_type": "display_data"
    }
   ],
   "source": [
    "encoded_ds = ds.map(data_preprocessor, batched=True, load_from_cache_file=False)\n",
    "encoded_ds.set_format(\"torch\")"
   ]
  },
  {
   "attachments": {},
   "cell_type": "markdown",
   "metadata": {},
   "source": [
    "##### Print Dataset Shapes to Make Sure Prepared for Later"
   ]
  },
  {
   "cell_type": "code",
   "execution_count": 13,
   "metadata": {},
   "outputs": [
    {
     "name": "stdout",
     "output_type": "stream",
     "text": [
      "(16775, 10)\n",
      "(2097, 10)\n",
      "(2097, 10)\n"
     ]
    }
   ],
   "source": [
    "print(encoded_ds['train'].shape)\n",
    "print(encoded_ds['test'].shape)\n",
    "print(encoded_ds['eval'].shape)"
   ]
  },
  {
   "attachments": {},
   "cell_type": "markdown",
   "metadata": {},
   "source": [
    "##### Define Model"
   ]
  },
  {
   "cell_type": "code",
   "execution_count": 14,
   "metadata": {},
   "outputs": [
    {
     "name": "stderr",
     "output_type": "stream",
     "text": [
      "Some weights of the model checkpoint at distilbert-base-uncased were not used when initializing DistilBertForSequenceClassification: ['vocab_projector.bias', 'vocab_layer_norm.bias', 'vocab_transform.bias', 'vocab_layer_norm.weight', 'vocab_transform.weight', 'vocab_projector.weight']\n",
      "- This IS expected if you are initializing DistilBertForSequenceClassification from the checkpoint of a model trained on another task or with another architecture (e.g. initializing a BertForSequenceClassification model from a BertForPreTraining model).\n",
      "- This IS NOT expected if you are initializing DistilBertForSequenceClassification from the checkpoint of a model that you expect to be exactly identical (initializing a BertForSequenceClassification model from a BertForSequenceClassification model).\n",
      "Some weights of DistilBertForSequenceClassification were not initialized from the model checkpoint at distilbert-base-uncased and are newly initialized: ['pre_classifier.weight', 'classifier.weight', 'classifier.bias', 'pre_classifier.bias']\n",
      "You should probably TRAIN this model on a down-stream task to be able to use it for predictions and inference.\n"
     ]
    }
   ],
   "source": [
    "model = (DistilBertForSequenceClassification.from_pretrained(MODEL_CKPT, \n",
    "                                                             problem_type=\"multi_label_classification\",\n",
    "                                                             num_labels=len(labels),\n",
    "                                                             id2label=id2label,\n",
    "                                                             label2id=label2id)\n",
    "         ).to(DEVICE)"
   ]
  },
  {
   "attachments": {},
   "cell_type": "markdown",
   "metadata": {},
   "source": [
    "##### Create Metrics Evaluation Function"
   ]
  },
  {
   "cell_type": "code",
   "execution_count": 15,
   "metadata": {},
   "outputs": [],
   "source": [
    "def multi_label_metrics(predictions, \n",
    "                        labels, \n",
    "                        threshold=0.5):\n",
    "    '''\n",
    "    This function calculates & returns metrics \n",
    "    for a multilabel classification analysis.\n",
    "    '''\n",
    "    \n",
    "    sigmoid = torch.nn.Sigmoid()\n",
    "    probs = sigmoid(torch.Tensor(predictions))\n",
    "    \n",
    "    y_pred = np.zeros(probs.shape)\n",
    "    y_pred[np.where(probs >= threshold)] = 1\n",
    "    \n",
    "    y_true = labels\n",
    "    f1_micro_average = f1_score(y_true=y_true, y_pred=y_pred, average='micro')\n",
    "    roc_auc = roc_auc_score(y_true, y_pred, average = 'micro')\n",
    "    accuracy = accuracy_score(y_true, y_pred)\n",
    "    \n",
    "    metrics = {'f1': f1_micro_average,\n",
    "               'roc_auc': roc_auc,\n",
    "               'accuracy': accuracy}\n",
    "    return metrics\n",
    "\n",
    "def compute_metrics(eval_preds):\n",
    "    preds, labels = eval_preds\n",
    "    \n",
    "    preds = preds[0] if isinstance(preds, \n",
    "                    tuple) else preds\n",
    "    results = multi_label_metrics(\n",
    "                    predictions=preds, \n",
    "                    labels=labels)\n",
    "    return results"
   ]
  },
  {
   "attachments": {},
   "cell_type": "markdown",
   "metadata": {},
   "source": [
    "##### Define Training Arguments"
   ]
  },
  {
   "cell_type": "code",
   "execution_count": 16,
   "metadata": {},
   "outputs": [],
   "source": [
    "args = TrainingArguments(\n",
    "    output_dir=MODEL_CKPT + \"_research_articles_multilabel\",\n",
    "    evaluation_strategy=\"epoch\",\n",
    "    save_strategy=\"epoch\",\n",
    "    log_level=\"error\",\n",
    "    logging_first_step=True,\n",
    "    logging_strategy=\"epoch\",\n",
    "    learning_rate=LEARNING_RATE,\n",
    "    num_train_epochs=NUM_OF_EPOCHS,\n",
    "    per_device_train_batch_size=BATCH_SIZE,\n",
    "    per_device_eval_batch_size=BATCH_SIZE,\n",
    "    load_best_model_at_end=True,\n",
    "    metric_for_best_model=METRIC_NAME,\n",
    "    greater_is_better=True,\n",
    "    weight_decay=0.01,\n",
    "    disable_tqdm=False,\n",
    "    push_to_hub=True\n",
    ")"
   ]
  },
  {
   "attachments": {},
   "cell_type": "markdown",
   "metadata": {},
   "source": [
    "##### Instantiate Trainer"
   ]
  },
  {
   "cell_type": "code",
   "execution_count": 17,
   "metadata": {},
   "outputs": [
    {
     "name": "stderr",
     "output_type": "stream",
     "text": [
      "Cloning https://huggingface.co/DunnBC22/distilbert-base-uncased_research_articles_multilabel into local empty directory.\n"
     ]
    }
   ],
   "source": [
    "trainer = Trainer(\n",
    "    model,\n",
    "    args,\n",
    "    train_dataset=encoded_ds[\"train\"],\n",
    "    eval_dataset=encoded_ds[\"eval\"],\n",
    "    tokenizer=tokenizer,\n",
    "    compute_metrics=compute_metrics\n",
    ")"
   ]
  },
  {
   "attachments": {},
   "cell_type": "markdown",
   "metadata": {},
   "source": [
    "##### Train Model"
   ]
  },
  {
   "cell_type": "code",
   "execution_count": 18,
   "metadata": {},
   "outputs": [
    {
     "name": "stderr",
     "output_type": "stream",
     "text": [
      "/Users/leedunn/Documents/nlpnn/nlp/lib/python3.9/site-packages/transformers/optimization.py:306: FutureWarning: This implementation of AdamW is deprecated and will be removed in a future version. Use the PyTorch implementation torch.optim.AdamW instead, or set `no_deprecation_warning=True` to disable this warning\n",
      "  warnings.warn(\n"
     ]
    },
    {
     "data": {
      "application/vnd.jupyter.widget-view+json": {
       "model_id": "1ab2d58ebe71448c8b611306a0d9225a",
       "version_major": 2,
       "version_minor": 0
      },
      "text/plain": [
       "  0%|          | 0/1315 [00:00<?, ?it/s]"
      ]
     },
     "metadata": {},
     "output_type": "display_data"
    },
    {
     "name": "stdout",
     "output_type": "stream",
     "text": [
      "{'loss': 0.698, 'learning_rate': 1.9984790874524714e-05, 'epoch': 0.0}\n",
      "{'loss': 0.3043, 'learning_rate': 1.6000000000000003e-05, 'epoch': 1.0}\n"
     ]
    },
    {
     "data": {
      "application/vnd.jupyter.widget-view+json": {
       "model_id": "023934e36ea44be89118acc2f5eaa31f",
       "version_major": 2,
       "version_minor": 0
      },
      "text/plain": [
       "  0%|          | 0/33 [00:00<?, ?it/s]"
      ]
     },
     "metadata": {},
     "output_type": "display_data"
    },
    {
     "name": "stdout",
     "output_type": "stream",
     "text": [
      "{'eval_loss': 0.21986396610736847, 'eval_f1': 0.8198179979777555, 'eval_roc_auc': 0.8685833384068566, 'eval_accuracy': 0.6828803051979018, 'eval_runtime': 1665.9823, 'eval_samples_per_second': 1.259, 'eval_steps_per_second': 0.02, 'epoch': 1.0}\n",
      "{'loss': 0.2037, 'learning_rate': 1.2e-05, 'epoch': 2.0}\n"
     ]
    },
    {
     "data": {
      "application/vnd.jupyter.widget-view+json": {
       "model_id": "dbbe642d451641979ca1d0843fb3004b",
       "version_major": 2,
       "version_minor": 0
      },
      "text/plain": [
       "  0%|          | 0/33 [00:00<?, ?it/s]"
      ]
     },
     "metadata": {},
     "output_type": "display_data"
    },
    {
     "name": "stdout",
     "output_type": "stream",
     "text": [
      "{'eval_loss': 0.1987919807434082, 'eval_f1': 0.8354629447611558, 'eval_roc_auc': 0.8845485491441567, 'eval_accuracy': 0.7010014306151645, 'eval_runtime': 1672.4803, 'eval_samples_per_second': 1.254, 'eval_steps_per_second': 0.02, 'epoch': 2.0}\n",
      "{'loss': 0.1756, 'learning_rate': 8.000000000000001e-06, 'epoch': 3.0}\n"
     ]
    },
    {
     "data": {
      "application/vnd.jupyter.widget-view+json": {
       "model_id": "ba90d1dcd6894bfa80fd24aeab567265",
       "version_major": 2,
       "version_minor": 0
      },
      "text/plain": [
       "  0%|          | 0/33 [00:00<?, ?it/s]"
      ]
     },
     "metadata": {},
     "output_type": "display_data"
    },
    {
     "name": "stdout",
     "output_type": "stream",
     "text": [
      "{'eval_loss': 0.19560480117797852, 'eval_f1': 0.8395204949729311, 'eval_roc_auc': 0.8908772426512851, 'eval_accuracy': 0.6976633285646161, 'eval_runtime': 1685.7535, 'eval_samples_per_second': 1.244, 'eval_steps_per_second': 0.02, 'epoch': 3.0}\n",
      "{'loss': 0.1579, 'learning_rate': 4.000000000000001e-06, 'epoch': 4.0}\n"
     ]
    },
    {
     "data": {
      "application/vnd.jupyter.widget-view+json": {
       "model_id": "937ea0b4ed314b5fbd41bb11b1df1571",
       "version_major": 2,
       "version_minor": 0
      },
      "text/plain": [
       "  0%|          | 0/33 [00:00<?, ?it/s]"
      ]
     },
     "metadata": {},
     "output_type": "display_data"
    },
    {
     "name": "stdout",
     "output_type": "stream",
     "text": [
      "{'eval_loss': 0.1963578760623932, 'eval_f1': 0.8371197535618021, 'eval_roc_auc': 0.8902448595807603, 'eval_accuracy': 0.6919408679065332, 'eval_runtime': 1723.5316, 'eval_samples_per_second': 1.217, 'eval_steps_per_second': 0.019, 'epoch': 4.0}\n",
      "{'loss': 0.1461, 'learning_rate': 0.0, 'epoch': 5.0}\n"
     ]
    },
    {
     "data": {
      "application/vnd.jupyter.widget-view+json": {
       "model_id": "8c12a28d17c2451d80c87d2b47024930",
       "version_major": 2,
       "version_minor": 0
      },
      "text/plain": [
       "  0%|          | 0/33 [00:00<?, ?it/s]"
      ]
     },
     "metadata": {},
     "output_type": "display_data"
    },
    {
     "name": "stdout",
     "output_type": "stream",
     "text": [
      "{'eval_loss': 0.19906002283096313, 'eval_f1': 0.8353055286129971, 'eval_roc_auc': 0.8873680989303975, 'eval_accuracy': 0.6952789699570815, 'eval_runtime': 1692.9565, 'eval_samples_per_second': 1.239, 'eval_steps_per_second': 0.019, 'epoch': 5.0}\n",
      "{'train_runtime': 423591.1264, 'train_samples_per_second': 0.198, 'train_steps_per_second': 0.003, 'train_loss': 0.197808137638034, 'epoch': 5.0}\n"
     ]
    },
    {
     "data": {
      "text/plain": [
       "TrainOutput(global_step=1315, training_loss=0.197808137638034, metrics={'train_runtime': 423591.1264, 'train_samples_per_second': 0.198, 'train_steps_per_second': 0.003, 'train_loss': 0.197808137638034, 'epoch': 5.0})"
      ]
     },
     "execution_count": 18,
     "metadata": {},
     "output_type": "execute_result"
    }
   ],
   "source": [
    "trainer.train()"
   ]
  },
  {
   "attachments": {},
   "cell_type": "markdown",
   "metadata": {},
   "source": [
    "##### Evaluate Model"
   ]
  },
  {
   "cell_type": "code",
   "execution_count": 19,
   "metadata": {},
   "outputs": [
    {
     "data": {
      "application/vnd.jupyter.widget-view+json": {
       "model_id": "185a4935116d4aa9904b283b20b9d694",
       "version_major": 2,
       "version_minor": 0
      },
      "text/plain": [
       "  0%|          | 0/33 [00:00<?, ?it/s]"
      ]
     },
     "metadata": {},
     "output_type": "display_data"
    },
    {
     "data": {
      "text/plain": [
       "{'eval_loss': 0.19560480117797852,\n",
       " 'eval_f1': 0.8395204949729311,\n",
       " 'eval_roc_auc': 0.8908772426512851,\n",
       " 'eval_accuracy': 0.6976633285646161,\n",
       " 'eval_runtime': 1741.9442,\n",
       " 'eval_samples_per_second': 1.204,\n",
       " 'eval_steps_per_second': 0.019,\n",
       " 'epoch': 5.0}"
      ]
     },
     "execution_count": 19,
     "metadata": {},
     "output_type": "execute_result"
    }
   ],
   "source": [
    "trainer.evaluate()"
   ]
  },
  {
   "attachments": {},
   "cell_type": "markdown",
   "metadata": {},
   "source": [
    "##### Push Model to HuggingFace Hub (My Profile!)"
   ]
  },
  {
   "cell_type": "code",
   "execution_count": 20,
   "metadata": {},
   "outputs": [
    {
     "name": "stderr",
     "output_type": "stream",
     "text": [
      "remote: Scanning LFS files for validity, may be slow...        \n",
      "remote: LFS file scan complete.        \n",
      "To https://huggingface.co/DunnBC22/distilbert-base-uncased_research_articles_multilabel\n",
      "   8fd891c..5f73a02  main -> main\n",
      "\n",
      "To https://huggingface.co/DunnBC22/distilbert-base-uncased_research_articles_multilabel\n",
      "   5f73a02..6e0cc15  main -> main\n",
      "\n"
     ]
    },
    {
     "data": {
      "text/plain": [
       "'https://huggingface.co/DunnBC22/distilbert-base-uncased_research_articles_multilabel/commit/5f73a02404704857a50dcb987b3e6ead3ea38c69'"
      ]
     },
     "execution_count": 20,
     "metadata": {},
     "output_type": "execute_result"
    }
   ],
   "source": [
    "trainer.push_to_hub(commit_message=\"All Dunn!!!\")"
   ]
  },
  {
   "attachments": {},
   "cell_type": "markdown",
   "metadata": {},
   "source": [
    "### Notes & Other Takeaways From This Project\n",
    "****\n",
    "- I am a little disappointed with the results. \n",
    "****\n",
    "- I think the accuracy score shown is the subset accuracy. In that case, the metric only counts the sample's prediction as correct if all of the predicted values match the label values exactly. I am not completely sure that it is the subset accuracy, I will have to investigate further to know for sure.\n",
    "****"
   ]
  }
 ],
 "metadata": {
  "kernelspec": {
   "display_name": "nlp",
   "language": "python",
   "name": "python3"
  },
  "language_info": {
   "codemirror_mode": {
    "name": "ipython",
    "version": 3
   },
   "file_extension": ".py",
   "mimetype": "text/x-python",
   "name": "python",
   "nbconvert_exporter": "python",
   "pygments_lexer": "ipython3",
   "version": "3.9.7"
  },
  "orig_nbformat": 4,
  "vscode": {
   "interpreter": {
    "hash": "41bc52750e0704433c7c40a5c68d8f60e760babe95f2dffc82e8c3790208ff57"
   }
  }
 },
 "nbformat": 4,
 "nbformat_minor": 2
}
