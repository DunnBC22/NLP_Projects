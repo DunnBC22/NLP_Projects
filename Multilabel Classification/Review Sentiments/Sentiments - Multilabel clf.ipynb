{
 "cells": [
  {
   "attachments": {},
   "cell_type": "markdown",
   "metadata": {},
   "source": [
    "## Multilabel Classification of Reviews \n",
    "\n",
    "Dataset Source: https://www.kaggle.com/datasets/mohamedziauddin/mh-uhack-sentiments"
   ]
  },
  {
   "attachments": {},
   "cell_type": "markdown",
   "metadata": {},
   "source": [
    "##### Import Necessary Libraries"
   ]
  },
  {
   "cell_type": "code",
   "execution_count": 17,
   "metadata": {},
   "outputs": [
    {
     "name": "stdout",
     "output_type": "stream",
     "text": [
      "Git LFS initialized.\n"
     ]
    }
   ],
   "source": [
    "import os, sys\n",
    "os.environ['TOKENIZERS_PARALLELISM']='false'\n",
    "\n",
    "from tqdm import tqdm\n",
    "\n",
    "import numpy as np\n",
    "import pandas as pd\n",
    "import matplotlib.pyplot as plt\n",
    "\n",
    "from sklearn.metrics import f1_score, roc_auc_score, accuracy_score\n",
    "\n",
    "import transformers\n",
    "from transformers import DataCollatorForSeq2Seq, AutoTokenizer, DistilBertForSequenceClassification\n",
    "from transformers import TrainingArguments, Trainer, set_seed\n",
    "\n",
    "import datasets\n",
    "from datasets import Dataset, DatasetDict\n",
    "\n",
    "import evaluate\n",
    "\n",
    "import torch\n",
    "\n",
    "!git lfs install"
   ]
  },
  {
   "attachments": {},
   "cell_type": "markdown",
   "metadata": {},
   "source": [
    "##### Display Version of Relevant Libraries"
   ]
  },
  {
   "cell_type": "code",
   "execution_count": 18,
   "metadata": {},
   "outputs": [
    {
     "name": "stdout",
     "output_type": "stream",
     "text": [
      "        Python: 3.9.12\n",
      "        Pandas: 1.5.0\n",
      "         NumPy: 1.23.3\n",
      "         Torch: 4.26.1\n",
      "  Transformers: 4.26.1\n",
      "      Datasets: 2.8.0\n",
      "      Evaluate: 0.2.2\n"
     ]
    }
   ],
   "source": [
    "print(\"Python:\".rjust(15), sys.version[0:6])\n",
    "print(\"Pandas:\".rjust(15), pd.__version__)\n",
    "print(\"NumPy:\".rjust(15), np.__version__)\n",
    "print(\"Torch:\".rjust(15), transformers.__version__)\n",
    "print(\"Transformers:\".rjust(15), transformers.__version__)\n",
    "print(\"Datasets:\".rjust(15), datasets.__version__)\n",
    "print(\"Evaluate:\".rjust(15), evaluate.__version__)"
   ]
  },
  {
   "attachments": {},
   "cell_type": "markdown",
   "metadata": {},
   "source": [
    "##### Ingest Data & Drop Unnecessary Feature"
   ]
  },
  {
   "cell_type": "code",
   "execution_count": 19,
   "metadata": {},
   "outputs": [
    {
     "name": "stdout",
     "output_type": "stream",
     "text": [
      "<class 'pandas.core.frame.DataFrame'>\n",
      "RangeIndex: 6136 entries, 0 to 6135\n",
      "Data columns (total 14 columns):\n",
      " #   Column                         Non-Null Count  Dtype \n",
      "---  ------                         --------------  ----- \n",
      " 0   Id                             6136 non-null   int64 \n",
      " 1   Review                         6136 non-null   object\n",
      " 2   Components                     6136 non-null   int64 \n",
      " 3   Delivery and Customer Support  6136 non-null   int64 \n",
      " 4   Design and Aesthetics          6136 non-null   int64 \n",
      " 5   Dimensions                     6136 non-null   int64 \n",
      " 6   Features                       6136 non-null   int64 \n",
      " 7   Functionality                  6136 non-null   int64 \n",
      " 8   Installation                   6136 non-null   int64 \n",
      " 9   Material                       6136 non-null   int64 \n",
      " 10  Price                          6136 non-null   int64 \n",
      " 11  Quality                        6136 non-null   int64 \n",
      " 12  Usability                      6136 non-null   int64 \n",
      " 13  Polarity                       6136 non-null   int64 \n",
      "dtypes: int64(13), object(1)\n",
      "memory usage: 671.2+ KB\n"
     ]
    }
   ],
   "source": [
    "parent_dir = \"/Users/briandunn/Desktop/uHack Sentiments\"\n",
    "\n",
    "df = pd.read_csv(os.path.join(parent_dir, \"train.csv\"))\n",
    "\n",
    "df.info()"
   ]
  },
  {
   "attachments": {},
   "cell_type": "markdown",
   "metadata": {},
   "source": [
    "##### Data Preprocessing"
   ]
  },
  {
   "cell_type": "code",
   "execution_count": 20,
   "metadata": {},
   "outputs": [
    {
     "data": {
      "text/html": [
       "<div>\n",
       "<style scoped>\n",
       "    .dataframe tbody tr th:only-of-type {\n",
       "        vertical-align: middle;\n",
       "    }\n",
       "\n",
       "    .dataframe tbody tr th {\n",
       "        vertical-align: top;\n",
       "    }\n",
       "\n",
       "    .dataframe thead th {\n",
       "        text-align: right;\n",
       "    }\n",
       "</style>\n",
       "<table border=\"1\" class=\"dataframe\">\n",
       "  <thead>\n",
       "    <tr style=\"text-align: right;\">\n",
       "      <th></th>\n",
       "      <th>Review</th>\n",
       "      <th>Components</th>\n",
       "      <th>Delivery and Customer Support</th>\n",
       "      <th>Design and Aesthetics</th>\n",
       "      <th>Dimensions</th>\n",
       "      <th>Features</th>\n",
       "      <th>Functionality</th>\n",
       "      <th>Installation</th>\n",
       "      <th>Material</th>\n",
       "      <th>Price</th>\n",
       "      <th>Quality</th>\n",
       "      <th>Usability</th>\n",
       "      <th>Polarity</th>\n",
       "    </tr>\n",
       "  </thead>\n",
       "  <tbody>\n",
       "    <tr>\n",
       "      <th>0</th>\n",
       "      <td>For some reason everybody complains and I'm co...</td>\n",
       "      <td>0</td>\n",
       "      <td>0</td>\n",
       "      <td>0</td>\n",
       "      <td>0</td>\n",
       "      <td>0</td>\n",
       "      <td>0</td>\n",
       "      <td>0</td>\n",
       "      <td>0</td>\n",
       "      <td>0</td>\n",
       "      <td>0</td>\n",
       "      <td>1</td>\n",
       "      <td>0</td>\n",
       "    </tr>\n",
       "    <tr>\n",
       "      <th>1</th>\n",
       "      <td>I like everything about it, great choice of sp...</td>\n",
       "      <td>0</td>\n",
       "      <td>0</td>\n",
       "      <td>0</td>\n",
       "      <td>0</td>\n",
       "      <td>1</td>\n",
       "      <td>1</td>\n",
       "      <td>0</td>\n",
       "      <td>0</td>\n",
       "      <td>0</td>\n",
       "      <td>0</td>\n",
       "      <td>0</td>\n",
       "      <td>1</td>\n",
       "    </tr>\n",
       "    <tr>\n",
       "      <th>2</th>\n",
       "      <td>Excellent ceiling fan brace. Easy to install a...</td>\n",
       "      <td>0</td>\n",
       "      <td>0</td>\n",
       "      <td>0</td>\n",
       "      <td>0</td>\n",
       "      <td>0</td>\n",
       "      <td>0</td>\n",
       "      <td>1</td>\n",
       "      <td>0</td>\n",
       "      <td>0</td>\n",
       "      <td>1</td>\n",
       "      <td>0</td>\n",
       "      <td>1</td>\n",
       "    </tr>\n",
       "    <tr>\n",
       "      <th>3</th>\n",
       "      <td>Work great easy to use . No issues at all with...</td>\n",
       "      <td>0</td>\n",
       "      <td>0</td>\n",
       "      <td>0</td>\n",
       "      <td>0</td>\n",
       "      <td>0</td>\n",
       "      <td>1</td>\n",
       "      <td>0</td>\n",
       "      <td>0</td>\n",
       "      <td>0</td>\n",
       "      <td>0</td>\n",
       "      <td>1</td>\n",
       "      <td>1</td>\n",
       "    </tr>\n",
       "    <tr>\n",
       "      <th>4</th>\n",
       "      <td>I would recommend this product because it is p...</td>\n",
       "      <td>0</td>\n",
       "      <td>0</td>\n",
       "      <td>0</td>\n",
       "      <td>0</td>\n",
       "      <td>0</td>\n",
       "      <td>0</td>\n",
       "      <td>0</td>\n",
       "      <td>0</td>\n",
       "      <td>0</td>\n",
       "      <td>1</td>\n",
       "      <td>0</td>\n",
       "      <td>1</td>\n",
       "    </tr>\n",
       "  </tbody>\n",
       "</table>\n",
       "</div>"
      ],
      "text/plain": [
       "                                              Review  Components  \\\n",
       "0  For some reason everybody complains and I'm co...           0   \n",
       "1  I like everything about it, great choice of sp...           0   \n",
       "2  Excellent ceiling fan brace. Easy to install a...           0   \n",
       "3  Work great easy to use . No issues at all with...           0   \n",
       "4  I would recommend this product because it is p...           0   \n",
       "\n",
       "   Delivery and Customer Support  Design and Aesthetics  Dimensions  Features  \\\n",
       "0                              0                      0           0         0   \n",
       "1                              0                      0           0         1   \n",
       "2                              0                      0           0         0   \n",
       "3                              0                      0           0         0   \n",
       "4                              0                      0           0         0   \n",
       "\n",
       "   Functionality  Installation  Material  Price  Quality  Usability  Polarity  \n",
       "0              0             0         0      0        0          1         0  \n",
       "1              1             0         0      0        0          0         1  \n",
       "2              0             1         0      0        1          0         1  \n",
       "3              1             0         0      0        0          1         1  \n",
       "4              0             0         0      0        1          0         1  "
      ]
     },
     "execution_count": 20,
     "metadata": {},
     "output_type": "execute_result"
    }
   ],
   "source": [
    "df.drop(columns=[\"Id\"], inplace=True)\n",
    "\n",
    "df.head()"
   ]
  },
  {
   "attachments": {},
   "cell_type": "markdown",
   "metadata": {},
   "source": [
    "##### Visual: Histogram of Article Abstract's Word Lengths"
   ]
  },
  {
   "cell_type": "code",
   "execution_count": 21,
   "metadata": {},
   "outputs": [
    {
     "data": {
      "image/png": "[encoded data removed]",
      "text/plain": [
       "<Figure size 1800x800 with 1 Axes>"
      ]
     },
     "metadata": {},
     "output_type": "display_data"
    },
    {
     "name": "stdout",
     "output_type": "stream",
     "text": [
      "The maximum length of Article Abstracts (in words) is 374 words.\n"
     ]
    }
   ],
   "source": [
    "df['text_length'] = df['Review'].str.split().str.len()\n",
    "\n",
    "n_bin=175\n",
    "df.hist('text_length', grid=False, figsize=(18,8), range=(0,n_bin), bins=n_bin)\n",
    "plt.title('Histogram: Length of Article Abstracts')\n",
    "plt.xlabel('# of Words in Article Abstracts')\n",
    "plt.ylabel('# of Samples')\n",
    "plt.show()\n",
    "\n",
    "print(f\"The maximum length of Article Abstracts (in words) is {max(df['text_length'])} words.\")"
   ]
  },
  {
   "attachments": {},
   "cell_type": "markdown",
   "metadata": {},
   "source": [
    "##### Data Preprocessing"
   ]
  },
  {
   "cell_type": "code",
   "execution_count": 22,
   "metadata": {},
   "outputs": [
    {
     "name": "stdout",
     "output_type": "stream",
     "text": [
      "<class 'pandas.core.frame.DataFrame'>\n",
      "RangeIndex: 6092 entries, 0 to 6091\n",
      "Data columns (total 13 columns):\n",
      " #   Column                         Non-Null Count  Dtype \n",
      "---  ------                         --------------  ----- \n",
      " 0   Review                         6092 non-null   object\n",
      " 1   Components                     6092 non-null   int64 \n",
      " 2   Delivery and Customer Support  6092 non-null   int64 \n",
      " 3   Design and Aesthetics          6092 non-null   int64 \n",
      " 4   Dimensions                     6092 non-null   int64 \n",
      " 5   Features                       6092 non-null   int64 \n",
      " 6   Functionality                  6092 non-null   int64 \n",
      " 7   Installation                   6092 non-null   int64 \n",
      " 8   Material                       6092 non-null   int64 \n",
      " 9   Price                          6092 non-null   int64 \n",
      " 10  Quality                        6092 non-null   int64 \n",
      " 11  Usability                      6092 non-null   int64 \n",
      " 12  Polarity                       6092 non-null   int64 \n",
      "dtypes: int64(12), object(1)\n",
      "memory usage: 618.8+ KB\n"
     ]
    }
   ],
   "source": [
    "upper_limit=176\n",
    "\n",
    "df = df[df['text_length'] < upper_limit]\n",
    "\n",
    "df.drop(columns=[\"text_length\"], inplace=True)\n",
    "\n",
    "df.reset_index(drop=True, inplace=True)\n",
    "\n",
    "df.info()"
   ]
  },
  {
   "attachments": {},
   "cell_type": "markdown",
   "metadata": {},
   "source": [
    "##### Create List of Labels & Dictionaries for Converting Between Strings & Integers"
   ]
  },
  {
   "cell_type": "code",
   "execution_count": 23,
   "metadata": {},
   "outputs": [],
   "source": [
    "labels = [x for x in df.columns if x not in ['Review', \"Id\"]]\n",
    "id2label = {idx:label for idx, label in enumerate(labels)}\n",
    "label2id = {label:idx for idx, label in enumerate(labels)}\n",
    "NUM_OF_LABELS = len(labels)"
   ]
  },
  {
   "attachments": {},
   "cell_type": "markdown",
   "metadata": {},
   "source": [
    "##### Convert Pandas DataFrame to Datasets & Split Dataset into Training/Testing/Evaluation Datasets"
   ]
  },
  {
   "cell_type": "code",
   "execution_count": 24,
   "metadata": {},
   "outputs": [
    {
     "name": "stdout",
     "output_type": "stream",
     "text": [
      "Training Dataset Shape: (4873, 13)\n",
      "Testing Dataset Shape: (609, 13)\n",
      "Evaluation Dataset Shape: (610, 13)\n"
     ]
    },
    {
     "data": {
      "text/plain": [
       "{'Review': 'They are sturdily made with great clamping power.',\n",
       " 'Components': 0,\n",
       " 'Delivery and Customer Support': 0,\n",
       " 'Design and Aesthetics': 0,\n",
       " 'Dimensions': 0,\n",
       " 'Features': 0,\n",
       " 'Functionality': 0,\n",
       " 'Installation': 0,\n",
       " 'Material': 0,\n",
       " 'Price': 0,\n",
       " 'Quality': 1,\n",
       " 'Usability': 0,\n",
       " 'Polarity': 1}"
      ]
     },
     "execution_count": 24,
     "metadata": {},
     "output_type": "execute_result"
    }
   ],
   "source": [
    "dataset = Dataset.from_pandas(df)\n",
    "\n",
    "train_testEval = dataset.train_test_split(train_size=0.80)\n",
    "test_eval = train_testEval['test'].train_test_split(train_size=0.50)\n",
    "\n",
    "ds = DatasetDict({\n",
    "    'train' : train_testEval['train'],\n",
    "    'test' : test_eval['train'],\n",
    "    'eval' : test_eval['test'],\n",
    "})\n",
    "\n",
    "print(\"Training Dataset Shape:\", ds['train'].shape)\n",
    "print(\"Testing Dataset Shape:\", ds['test'].shape)\n",
    "print(\"Evaluation Dataset Shape:\", ds['eval'].shape)\n",
    "ds['train'][25]"
   ]
  },
  {
   "cell_type": "markdown",
   "metadata": {},
   "source": [
    "#### Basic Values/Constants"
   ]
  },
  {
   "cell_type": "code",
   "execution_count": 25,
   "metadata": {},
   "outputs": [
    {
     "name": "stdout",
     "output_type": "stream",
     "text": [
      "This project will utilize the cpu to train and evaluate.\n",
      "This project will have a maximum length for the input text of 228 tokens.\n"
     ]
    }
   ],
   "source": [
    "set_seed = 42\n",
    "NUM_OF_EPOCHS = 10\n",
    "\n",
    "BATCH_SIZE = 16\n",
    "LEARNING_RATE = 2e-5\n",
    "\n",
    "MAX_LENGTH = int(round((upper_limit - 1) * 1.3, 0))\n",
    "MODEL_CKPT = \"distilbert-base-uncased\"\n",
    "MODEL_NAME = MODEL_CKPT + \"-reviews_multilabel_clf_v2\"\n",
    "\n",
    "METRIC_NAME = \"f1\"\n",
    "DEVICE = torch.device(\"cpu\")\n",
    "print(f\"This project will utilize the {DEVICE} to train and evaluate.\")\n",
    "print(f\"This project will have a maximum length for the input text of {MAX_LENGTH} tokens.\")"
   ]
  },
  {
   "attachments": {},
   "cell_type": "markdown",
   "metadata": {},
   "source": [
    "##### Create Tokenizer"
   ]
  },
  {
   "cell_type": "code",
   "execution_count": 26,
   "metadata": {},
   "outputs": [
    {
     "name": "stderr",
     "output_type": "stream",
     "text": [
      "loading configuration file config.json from cache at /Users/briandunn/.cache/huggingface/hub/models--distilbert-base-uncased/snapshots/1c4513b2eedbda136f57676a34eea67aba266e5c/config.json\n",
      "Model config DistilBertConfig {\n",
      "  \"_name_or_path\": \"distilbert-base-uncased\",\n",
      "  \"activation\": \"gelu\",\n",
      "  \"architectures\": [\n",
      "    \"DistilBertForMaskedLM\"\n",
      "  ],\n",
      "  \"attention_dropout\": 0.1,\n",
      "  \"dim\": 768,\n",
      "  \"dropout\": 0.1,\n",
      "  \"hidden_dim\": 3072,\n",
      "  \"initializer_range\": 0.02,\n",
      "  \"max_position_embeddings\": 512,\n",
      "  \"model_type\": \"distilbert\",\n",
      "  \"n_heads\": 12,\n",
      "  \"n_layers\": 6,\n",
      "  \"pad_token_id\": 0,\n",
      "  \"qa_dropout\": 0.1,\n",
      "  \"seq_classif_dropout\": 0.2,\n",
      "  \"sinusoidal_pos_embds\": false,\n",
      "  \"tie_weights_\": true,\n",
      "  \"transformers_version\": \"4.26.1\",\n",
      "  \"vocab_size\": 30522\n",
      "}\n",
      "\n",
      "loading file vocab.txt from cache at /Users/briandunn/.cache/huggingface/hub/models--distilbert-base-uncased/snapshots/1c4513b2eedbda136f57676a34eea67aba266e5c/vocab.txt\n",
      "loading file tokenizer.json from cache at /Users/briandunn/.cache/huggingface/hub/models--distilbert-base-uncased/snapshots/1c4513b2eedbda136f57676a34eea67aba266e5c/tokenizer.json\n",
      "loading file added_tokens.json from cache at None\n",
      "loading file special_tokens_map.json from cache at None\n",
      "loading file tokenizer_config.json from cache at /Users/briandunn/.cache/huggingface/hub/models--distilbert-base-uncased/snapshots/1c4513b2eedbda136f57676a34eea67aba266e5c/tokenizer_config.json\n",
      "loading configuration file config.json from cache at /Users/briandunn/.cache/huggingface/hub/models--distilbert-base-uncased/snapshots/1c4513b2eedbda136f57676a34eea67aba266e5c/config.json\n",
      "Model config DistilBertConfig {\n",
      "  \"_name_or_path\": \"distilbert-base-uncased\",\n",
      "  \"activation\": \"gelu\",\n",
      "  \"architectures\": [\n",
      "    \"DistilBertForMaskedLM\"\n",
      "  ],\n",
      "  \"attention_dropout\": 0.1,\n",
      "  \"dim\": 768,\n",
      "  \"dropout\": 0.1,\n",
      "  \"hidden_dim\": 3072,\n",
      "  \"initializer_range\": 0.02,\n",
      "  \"max_position_embeddings\": 512,\n",
      "  \"model_type\": \"distilbert\",\n",
      "  \"n_heads\": 12,\n",
      "  \"n_layers\": 6,\n",
      "  \"pad_token_id\": 0,\n",
      "  \"qa_dropout\": 0.1,\n",
      "  \"seq_classif_dropout\": 0.2,\n",
      "  \"sinusoidal_pos_embds\": false,\n",
      "  \"tie_weights_\": true,\n",
      "  \"transformers_version\": \"4.26.1\",\n",
      "  \"vocab_size\": 30522\n",
      "}\n",
      "\n"
     ]
    }
   ],
   "source": [
    "tokenizer = AutoTokenizer.from_pretrained(MODEL_CKPT)\n",
    "\n",
    "def data_preprocessor(examples):\n",
    "\t# take a batch of text\n",
    "\ttext = examples[\"Review\"]\n",
    "\t# encode them\n",
    "\tencoded_data = tokenizer(text, padding=\"max_length\", truncation=True, max_length=MAX_LENGTH)\n",
    "\t# add labels\n",
    "\tlabels_batch = {k: examples[k] for k in examples.keys() if k in labels}\n",
    "\t# create numpy array of shape (batch_size, num_labels)\n",
    "\tlabels_matrix = np.zeros((len(text), len(labels)))\n",
    "\t# fill numpy array\t\n",
    "\tfor idx, label in enumerate(labels):\n",
    "\t\tlabels_matrix[:, idx] = labels_batch[label]\n",
    "\n",
    "\tencoded_data[\"labels\"] = labels_matrix.tolist()\n",
    "  \n",
    "\treturn encoded_data"
   ]
  },
  {
   "attachments": {},
   "cell_type": "markdown",
   "metadata": {},
   "source": [
    "##### Tokenize Dataset"
   ]
  },
  {
   "cell_type": "code",
   "execution_count": 27,
   "metadata": {},
   "outputs": [
    {
     "data": {
      "application/vnd.jupyter.widget-view+json": {
       "model_id": "f2ed9ad167b5443784d8ac59c90dabd9",
       "version_major": 2,
       "version_minor": 0
      },
      "text/plain": [
       "A Jupyter Widget"
      ]
     },
     "metadata": {},
     "output_type": "display_data"
    },
    {
     "data": {
      "application/vnd.jupyter.widget-view+json": {
       "model_id": "7a4401b914d64ce5ba496fcf0491cfd9",
       "version_major": 2,
       "version_minor": 0
      },
      "text/plain": [
       "A Jupyter Widget"
      ]
     },
     "metadata": {},
     "output_type": "display_data"
    },
    {
     "data": {
      "application/vnd.jupyter.widget-view+json": {
       "model_id": "9d80c59c61fd479ebb37b078b003b366",
       "version_major": 2,
       "version_minor": 0
      },
      "text/plain": [
       "A Jupyter Widget"
      ]
     },
     "metadata": {},
     "output_type": "display_data"
    }
   ],
   "source": [
    "encoded_ds = ds.map(data_preprocessor, batched=True, load_from_cache_file=False)\n",
    "encoded_ds.set_format(\"torch\")"
   ]
  },
  {
   "attachments": {},
   "cell_type": "markdown",
   "metadata": {},
   "source": [
    "##### Print Dataset Shapes to Make Sure Prepared for Later"
   ]
  },
  {
   "cell_type": "code",
   "execution_count": 28,
   "metadata": {},
   "outputs": [
    {
     "name": "stdout",
     "output_type": "stream",
     "text": [
      "The shape of the training dataset is: (4873, 16)\n",
      "The shape of the testing dataset is: (609, 16)\n",
      "The shape of the evaluation dataset is: (610, 16)\n"
     ]
    }
   ],
   "source": [
    "print(f\"The shape of the training dataset is: {encoded_ds['train'].shape}\")\n",
    "print(f\"The shape of the testing dataset is: {encoded_ds['test'].shape}\")\n",
    "print(f\"The shape of the evaluation dataset is: {encoded_ds['eval'].shape}\")"
   ]
  },
  {
   "attachments": {},
   "cell_type": "markdown",
   "metadata": {},
   "source": [
    "##### Define Model"
   ]
  },
  {
   "cell_type": "code",
   "execution_count": 29,
   "metadata": {},
   "outputs": [
    {
     "name": "stderr",
     "output_type": "stream",
     "text": [
      "loading configuration file config.json from cache at /Users/briandunn/.cache/huggingface/hub/models--distilbert-base-uncased/snapshots/1c4513b2eedbda136f57676a34eea67aba266e5c/config.json\n",
      "Model config DistilBertConfig {\n",
      "  \"activation\": \"gelu\",\n",
      "  \"architectures\": [\n",
      "    \"DistilBertForMaskedLM\"\n",
      "  ],\n",
      "  \"attention_dropout\": 0.1,\n",
      "  \"dim\": 768,\n",
      "  \"dropout\": 0.1,\n",
      "  \"hidden_dim\": 3072,\n",
      "  \"id2label\": {\n",
      "    \"0\": \"Components\",\n",
      "    \"1\": \"Delivery and Customer Support\",\n",
      "    \"2\": \"Design and Aesthetics\",\n",
      "    \"3\": \"Dimensions\",\n",
      "    \"4\": \"Features\",\n",
      "    \"5\": \"Functionality\",\n",
      "    \"6\": \"Installation\",\n",
      "    \"7\": \"Material\",\n",
      "    \"8\": \"Price\",\n",
      "    \"9\": \"Quality\",\n",
      "    \"10\": \"Usability\",\n",
      "    \"11\": \"Polarity\"\n",
      "  },\n",
      "  \"initializer_range\": 0.02,\n",
      "  \"label2id\": {\n",
      "    \"Components\": 0,\n",
      "    \"Delivery and Customer Support\": 1,\n",
      "    \"Design and Aesthetics\": 2,\n",
      "    \"Dimensions\": 3,\n",
      "    \"Features\": 4,\n",
      "    \"Functionality\": 5,\n",
      "    \"Installation\": 6,\n",
      "    \"Material\": 7,\n",
      "    \"Polarity\": 11,\n",
      "    \"Price\": 8,\n",
      "    \"Quality\": 9,\n",
      "    \"Usability\": 10\n",
      "  },\n",
      "  \"max_position_embeddings\": 512,\n",
      "  \"model_type\": \"distilbert\",\n",
      "  \"n_heads\": 12,\n",
      "  \"n_layers\": 6,\n",
      "  \"pad_token_id\": 0,\n",
      "  \"problem_type\": \"multi_label_classification\",\n",
      "  \"qa_dropout\": 0.1,\n",
      "  \"seq_classif_dropout\": 0.2,\n",
      "  \"sinusoidal_pos_embds\": false,\n",
      "  \"tie_weights_\": true,\n",
      "  \"transformers_version\": \"4.26.1\",\n",
      "  \"vocab_size\": 30522\n",
      "}\n",
      "\n",
      "loading weights file pytorch_model.bin from cache at /Users/briandunn/.cache/huggingface/hub/models--distilbert-base-uncased/snapshots/1c4513b2eedbda136f57676a34eea67aba266e5c/pytorch_model.bin\n",
      "Some weights of the model checkpoint at distilbert-base-uncased were not used when initializing DistilBertForSequenceClassification: ['vocab_projector.bias', 'vocab_transform.bias', 'vocab_transform.weight', 'vocab_projector.weight', 'vocab_layer_norm.weight', 'vocab_layer_norm.bias']\n",
      "- This IS expected if you are initializing DistilBertForSequenceClassification from the checkpoint of a model trained on another task or with another architecture (e.g. initializing a BertForSequenceClassification model from a BertForPreTraining model).\n",
      "- This IS NOT expected if you are initializing DistilBertForSequenceClassification from the checkpoint of a model that you expect to be exactly identical (initializing a BertForSequenceClassification model from a BertForSequenceClassification model).\n",
      "Some weights of DistilBertForSequenceClassification were not initialized from the model checkpoint at distilbert-base-uncased and are newly initialized: ['classifier.weight', 'pre_classifier.bias', 'classifier.bias', 'pre_classifier.weight']\n",
      "You should probably TRAIN this model on a down-stream task to be able to use it for predictions and inference.\n"
     ]
    }
   ],
   "source": [
    "model = (DistilBertForSequenceClassification.from_pretrained(MODEL_CKPT, \n",
    "                                                             num_labels=NUM_OF_LABELS, \n",
    "                                                             problem_type=\"multi_label_classification\",\n",
    "                                                             id2label=id2label,\n",
    "                                                             label2id=label2id)\n",
    "         ).to(DEVICE)"
   ]
  },
  {
   "attachments": {},
   "cell_type": "markdown",
   "metadata": {},
   "source": [
    "##### Create Metrics Evaluation Function"
   ]
  },
  {
   "cell_type": "code",
   "execution_count": 30,
   "metadata": {},
   "outputs": [],
   "source": [
    "def multi_label_metrics(predictions, \n",
    "                        labels, \n",
    "                        threshold=0.5):\n",
    "    '''\n",
    "    This function calculates & returns metrics \n",
    "    for a multilabel classification analysis.\n",
    "    '''\n",
    "    \n",
    "    # first, apply sigmoid on predictions which are of shape (batch_size, num_labels)\n",
    "    sigmoid = torch.nn.Sigmoid()\n",
    "    probs = sigmoid(torch.Tensor(predictions))\n",
    "    # use threshold to turn them into integer predictions\n",
    "    y_pred = np.zeros(probs.shape)\n",
    "    y_pred[np.where(probs >= threshold)] = 1\n",
    "    # compute metrics\n",
    "    y_true = labels\n",
    "    f1_micro_average = f1_score(y_true=y_true, y_pred=y_pred, average='micro')\n",
    "    roc_auc = roc_auc_score(y_true, y_pred, average = 'micro')\n",
    "    accuracy = accuracy_score(y_true, y_pred)\n",
    "    # return metrics as dictionary\n",
    "    metrics = {'f1': f1_micro_average,\n",
    "               'roc_auc': roc_auc,\n",
    "               'accuracy': accuracy}\n",
    "    return metrics\n",
    "\n",
    "def compute_metrics(eval_preds):\n",
    "    preds, labels = eval_preds\n",
    "    \n",
    "    preds = preds[0] if isinstance(preds, \n",
    "                    tuple) else preds\n",
    "    results = multi_label_metrics(\n",
    "                    predictions=preds, \n",
    "                    labels=labels)\n",
    "    return results"
   ]
  },
  {
   "attachments": {},
   "cell_type": "markdown",
   "metadata": {},
   "source": [
    "##### Define Training Arguments"
   ]
  },
  {
   "cell_type": "code",
   "execution_count": 31,
   "metadata": {},
   "outputs": [
    {
     "name": "stderr",
     "output_type": "stream",
     "text": [
      "PyTorch: setting up devices\n",
      "The default value for the training argument `--report_to` will change in v5 (from all installed integrations to none). In v5, you will need to use `--report_to all` to get the same behavior as now. You should start updating your code and make this info disappear :-).\n"
     ]
    }
   ],
   "source": [
    "args = TrainingArguments(\n",
    "    output_dir=MODEL_NAME,\n",
    "    evaluation_strategy=\"epoch\",\n",
    "    save_strategy=\"epoch\",\n",
    "    learning_rate=LEARNING_RATE,\n",
    "    num_train_epochs=NUM_OF_EPOCHS,\n",
    "    per_device_train_batch_size=BATCH_SIZE,\n",
    "    per_device_eval_batch_size=BATCH_SIZE,\n",
    "    load_best_model_at_end=True,\n",
    "    metric_for_best_model=METRIC_NAME,\n",
    "    greater_is_better=True,\n",
    "    weight_decay=0.01,\n",
    "    disable_tqdm=False,\n",
    "    logging_first_step=True,\n",
    "    hub_private_repo=True,\n",
    "    push_to_hub=True\n",
    ")"
   ]
  },
  {
   "attachments": {},
   "cell_type": "markdown",
   "metadata": {},
   "source": [
    "##### Instantiate Trainer"
   ]
  },
  {
   "cell_type": "code",
   "execution_count": 32,
   "metadata": {},
   "outputs": [
    {
     "name": "stderr",
     "output_type": "stream",
     "text": [
      "Cloning https://huggingface.co/DunnBC22/distilbert-base-uncased-reviews_multilabel_clf_v2 into local empty directory.\n"
     ]
    }
   ],
   "source": [
    "trainer = Trainer(\n",
    "    model,\n",
    "    args,\n",
    "    train_dataset=encoded_ds[\"train\"],\n",
    "    eval_dataset=encoded_ds[\"eval\"],\n",
    "    tokenizer=tokenizer,\n",
    "    compute_metrics=compute_metrics\n",
    ")"
   ]
  },
  {
   "attachments": {},
   "cell_type": "markdown",
   "metadata": {},
   "source": [
    "##### Train Model"
   ]
  },
  {
   "cell_type": "code",
   "execution_count": 33,
   "metadata": {},
   "outputs": [
    {
     "name": "stderr",
     "output_type": "stream",
     "text": [
      "The following columns in the training set don't have a corresponding argument in `DistilBertForSequenceClassification.forward` and have been ignored: Functionality, Dimensions, Delivery and Customer Support, Price, Polarity, Components, Installation, Material, Features, Review, Design and Aesthetics, Usability, Quality. If Functionality, Dimensions, Delivery and Customer Support, Price, Polarity, Components, Installation, Material, Features, Review, Design and Aesthetics, Usability, Quality are not expected by `DistilBertForSequenceClassification.forward`,  you can safely ignore this message.\n",
      "/Users/briandunn/Documents/nlpnn/nlp_ml/lib/python3.9/site-packages/transformers/optimization.py:306: FutureWarning: This implementation of AdamW is deprecated and will be removed in a future version. Use the PyTorch implementation torch.optim.AdamW instead, or set `no_deprecation_warning=True` to disable this warning\n",
      "  warnings.warn(\n",
      "***** Running training *****\n",
      "  Num examples = 4873\n",
      "  Num Epochs = 10\n",
      "  Instantaneous batch size per device = 16\n",
      "  Total train batch size (w. parallel, distributed & accumulation) = 16\n",
      "  Gradient Accumulation steps = 1\n",
      "  Total optimization steps = 3050\n",
      "  Number of trainable parameters = 66962700\n"
     ]
    },
    {
     "data": {
      "application/vnd.jupyter.widget-view+json": {
       "model_id": "0f3b0a015f6d4b908aecc47337cd2c60",
       "version_major": 2,
       "version_minor": 0
      },
      "text/plain": [
       "A Jupyter Widget"
      ]
     },
     "metadata": {},
     "output_type": "display_data"
    },
    {
     "name": "stderr",
     "output_type": "stream",
     "text": [
      "You're using a DistilBertTokenizerFast tokenizer. Please note that with a fast tokenizer, using the `__call__` method is faster than using a method to encode the text followed by a call to the `pad` method to get a padded encoding.\n"
     ]
    },
    {
     "name": "stdout",
     "output_type": "stream",
     "text": [
      "{'loss': 0.6847, 'learning_rate': 1.999344262295082e-05, 'epoch': 0.0}\n"
     ]
    },
    {
     "name": "stderr",
     "output_type": "stream",
     "text": [
      "The following columns in the evaluation set don't have a corresponding argument in `DistilBertForSequenceClassification.forward` and have been ignored: Functionality, Dimensions, Delivery and Customer Support, Price, Polarity, Components, Installation, Material, Features, Review, Design and Aesthetics, Usability, Quality. If Functionality, Dimensions, Delivery and Customer Support, Price, Polarity, Components, Installation, Material, Features, Review, Design and Aesthetics, Usability, Quality are not expected by `DistilBertForSequenceClassification.forward`,  you can safely ignore this message.\n",
      "***** Running Evaluation *****\n",
      "  Num examples = 610\n",
      "  Batch size = 16\n"
     ]
    },
    {
     "data": {
      "application/vnd.jupyter.widget-view+json": {
       "model_id": "332e3cbffc1b416ba95d071e80d8cfe5",
       "version_major": 2,
       "version_minor": 0
      },
      "text/plain": [
       "A Jupyter Widget"
      ]
     },
     "metadata": {},
     "output_type": "display_data"
    },
    {
     "name": "stderr",
     "output_type": "stream",
     "text": [
      "Saving model checkpoint to distilbert-base-uncased-reviews_multilabel_clf_v2/checkpoint-305\n",
      "Configuration saved in distilbert-base-uncased-reviews_multilabel_clf_v2/checkpoint-305/config.json\n"
     ]
    },
    {
     "name": "stdout",
     "output_type": "stream",
     "text": [
      "{'eval_loss': 0.24248847365379333, 'eval_f1': 0.7619047619047619, 'eval_roc_auc': 0.8209455005668784, 'eval_accuracy': 0.34918032786885245, 'eval_runtime': 321.9996, 'eval_samples_per_second': 1.894, 'eval_steps_per_second': 0.121, 'epoch': 1.0}\n"
     ]
    },
    {
     "name": "stderr",
     "output_type": "stream",
     "text": [
      "Model weights saved in distilbert-base-uncased-reviews_multilabel_clf_v2/checkpoint-305/pytorch_model.bin\n",
      "tokenizer config file saved in distilbert-base-uncased-reviews_multilabel_clf_v2/checkpoint-305/tokenizer_config.json\n",
      "Special tokens file saved in distilbert-base-uncased-reviews_multilabel_clf_v2/checkpoint-305/special_tokens_map.json\n",
      "tokenizer config file saved in distilbert-base-uncased-reviews_multilabel_clf_v2/tokenizer_config.json\n",
      "Special tokens file saved in distilbert-base-uncased-reviews_multilabel_clf_v2/special_tokens_map.json\n",
      "Adding files tracked by Git LFS: ['.DS_Store']. This may take a bit of time if the files are large.\n"
     ]
    },
    {
     "name": "stdout",
     "output_type": "stream",
     "text": [
      "{'loss': 0.296, 'learning_rate': 1.6721311475409837e-05, 'epoch': 1.64}\n"
     ]
    },
    {
     "name": "stderr",
     "output_type": "stream",
     "text": [
      "The following columns in the evaluation set don't have a corresponding argument in `DistilBertForSequenceClassification.forward` and have been ignored: Functionality, Dimensions, Delivery and Customer Support, Price, Polarity, Components, Installation, Material, Features, Review, Design and Aesthetics, Usability, Quality. If Functionality, Dimensions, Delivery and Customer Support, Price, Polarity, Components, Installation, Material, Features, Review, Design and Aesthetics, Usability, Quality are not expected by `DistilBertForSequenceClassification.forward`,  you can safely ignore this message.\n",
      "***** Running Evaluation *****\n",
      "  Num examples = 610\n",
      "  Batch size = 16\n"
     ]
    },
    {
     "data": {
      "application/vnd.jupyter.widget-view+json": {
       "model_id": "4bc7a3981eac459aaa1dd80f56f87295",
       "version_major": 2,
       "version_minor": 0
      },
      "text/plain": [
       "A Jupyter Widget"
      ]
     },
     "metadata": {},
     "output_type": "display_data"
    },
    {
     "name": "stderr",
     "output_type": "stream",
     "text": [
      "Saving model checkpoint to distilbert-base-uncased-reviews_multilabel_clf_v2/checkpoint-610\n",
      "Configuration saved in distilbert-base-uncased-reviews_multilabel_clf_v2/checkpoint-610/config.json\n",
      "Model weights saved in distilbert-base-uncased-reviews_multilabel_clf_v2/checkpoint-610/pytorch_model.bin\n",
      "tokenizer config file saved in distilbert-base-uncased-reviews_multilabel_clf_v2/checkpoint-610/tokenizer_config.json\n",
      "Special tokens file saved in distilbert-base-uncased-reviews_multilabel_clf_v2/checkpoint-610/special_tokens_map.json\n"
     ]
    },
    {
     "name": "stdout",
     "output_type": "stream",
     "text": [
      "{'eval_loss': 0.1786002665758133, 'eval_f1': 0.8447387785136129, 'eval_roc_auc': 0.8846977966444308, 'eval_accuracy': 0.519672131147541, 'eval_runtime': 316.8849, 'eval_samples_per_second': 1.925, 'eval_steps_per_second': 0.123, 'epoch': 2.0}\n"
     ]
    },
    {
     "name": "stderr",
     "output_type": "stream",
     "text": [
      "tokenizer config file saved in distilbert-base-uncased-reviews_multilabel_clf_v2/tokenizer_config.json\n",
      "Special tokens file saved in distilbert-base-uncased-reviews_multilabel_clf_v2/special_tokens_map.json\n",
      "The following columns in the evaluation set don't have a corresponding argument in `DistilBertForSequenceClassification.forward` and have been ignored: Functionality, Dimensions, Delivery and Customer Support, Price, Polarity, Components, Installation, Material, Features, Review, Design and Aesthetics, Usability, Quality. If Functionality, Dimensions, Delivery and Customer Support, Price, Polarity, Components, Installation, Material, Features, Review, Design and Aesthetics, Usability, Quality are not expected by `DistilBertForSequenceClassification.forward`,  you can safely ignore this message.\n",
      "***** Running Evaluation *****\n",
      "  Num examples = 610\n",
      "  Batch size = 16\n"
     ]
    },
    {
     "data": {
      "application/vnd.jupyter.widget-view+json": {
       "model_id": "527b44d5933c442c8c404349f50a19c5",
       "version_major": 2,
       "version_minor": 0
      },
      "text/plain": [
       "A Jupyter Widget"
      ]
     },
     "metadata": {},
     "output_type": "display_data"
    },
    {
     "name": "stderr",
     "output_type": "stream",
     "text": [
      "Saving model checkpoint to distilbert-base-uncased-reviews_multilabel_clf_v2/checkpoint-915\n",
      "Configuration saved in distilbert-base-uncased-reviews_multilabel_clf_v2/checkpoint-915/config.json\n",
      "Model weights saved in distilbert-base-uncased-reviews_multilabel_clf_v2/checkpoint-915/pytorch_model.bin\n",
      "tokenizer config file saved in distilbert-base-uncased-reviews_multilabel_clf_v2/checkpoint-915/tokenizer_config.json\n",
      "Special tokens file saved in distilbert-base-uncased-reviews_multilabel_clf_v2/checkpoint-915/special_tokens_map.json\n"
     ]
    },
    {
     "name": "stdout",
     "output_type": "stream",
     "text": [
      "{'eval_loss': 0.16335400938987732, 'eval_f1': 0.8510638297872339, 'eval_roc_auc': 0.8937335759045886, 'eval_accuracy': 0.5360655737704918, 'eval_runtime': 315.4442, 'eval_samples_per_second': 1.934, 'eval_steps_per_second': 0.124, 'epoch': 3.0}\n"
     ]
    },
    {
     "name": "stderr",
     "output_type": "stream",
     "text": [
      "tokenizer config file saved in distilbert-base-uncased-reviews_multilabel_clf_v2/tokenizer_config.json\n",
      "Special tokens file saved in distilbert-base-uncased-reviews_multilabel_clf_v2/special_tokens_map.json\n"
     ]
    },
    {
     "name": "stdout",
     "output_type": "stream",
     "text": [
      "{'loss': 0.1476, 'learning_rate': 1.3442622950819673e-05, 'epoch': 3.28}\n"
     ]
    },
    {
     "name": "stderr",
     "output_type": "stream",
     "text": [
      "The following columns in the evaluation set don't have a corresponding argument in `DistilBertForSequenceClassification.forward` and have been ignored: Functionality, Dimensions, Delivery and Customer Support, Price, Polarity, Components, Installation, Material, Features, Review, Design and Aesthetics, Usability, Quality. If Functionality, Dimensions, Delivery and Customer Support, Price, Polarity, Components, Installation, Material, Features, Review, Design and Aesthetics, Usability, Quality are not expected by `DistilBertForSequenceClassification.forward`,  you can safely ignore this message.\n",
      "***** Running Evaluation *****\n",
      "  Num examples = 610\n",
      "  Batch size = 16\n"
     ]
    },
    {
     "data": {
      "application/vnd.jupyter.widget-view+json": {
       "model_id": "8a28fe81d49b44a69be6241f8215373d",
       "version_major": 2,
       "version_minor": 0
      },
      "text/plain": [
       "A Jupyter Widget"
      ]
     },
     "metadata": {},
     "output_type": "display_data"
    },
    {
     "name": "stderr",
     "output_type": "stream",
     "text": [
      "Saving model checkpoint to distilbert-base-uncased-reviews_multilabel_clf_v2/checkpoint-1220\n",
      "Configuration saved in distilbert-base-uncased-reviews_multilabel_clf_v2/checkpoint-1220/config.json\n",
      "Model weights saved in distilbert-base-uncased-reviews_multilabel_clf_v2/checkpoint-1220/pytorch_model.bin\n",
      "tokenizer config file saved in distilbert-base-uncased-reviews_multilabel_clf_v2/checkpoint-1220/tokenizer_config.json\n",
      "Special tokens file saved in distilbert-base-uncased-reviews_multilabel_clf_v2/checkpoint-1220/special_tokens_map.json\n"
     ]
    },
    {
     "name": "stdout",
     "output_type": "stream",
     "text": [
      "{'eval_loss': 0.15440578758716583, 'eval_f1': 0.8626174981923355, 'eval_roc_auc': 0.8999059596945008, 'eval_accuracy': 0.5622950819672131, 'eval_runtime': 315.4537, 'eval_samples_per_second': 1.934, 'eval_steps_per_second': 0.124, 'epoch': 4.0}\n"
     ]
    },
    {
     "name": "stderr",
     "output_type": "stream",
     "text": [
      "tokenizer config file saved in distilbert-base-uncased-reviews_multilabel_clf_v2/tokenizer_config.json\n",
      "Special tokens file saved in distilbert-base-uncased-reviews_multilabel_clf_v2/special_tokens_map.json\n"
     ]
    },
    {
     "name": "stdout",
     "output_type": "stream",
     "text": [
      "{'loss': 0.0986, 'learning_rate': 1.0163934426229509e-05, 'epoch': 4.92}\n"
     ]
    },
    {
     "name": "stderr",
     "output_type": "stream",
     "text": [
      "The following columns in the evaluation set don't have a corresponding argument in `DistilBertForSequenceClassification.forward` and have been ignored: Functionality, Dimensions, Delivery and Customer Support, Price, Polarity, Components, Installation, Material, Features, Review, Design and Aesthetics, Usability, Quality. If Functionality, Dimensions, Delivery and Customer Support, Price, Polarity, Components, Installation, Material, Features, Review, Design and Aesthetics, Usability, Quality are not expected by `DistilBertForSequenceClassification.forward`,  you can safely ignore this message.\n",
      "***** Running Evaluation *****\n",
      "  Num examples = 610\n",
      "  Batch size = 16\n"
     ]
    },
    {
     "data": {
      "application/vnd.jupyter.widget-view+json": {
       "model_id": "7b64616b19264e848ded9d49be3cd2a5",
       "version_major": 2,
       "version_minor": 0
      },
      "text/plain": [
       "A Jupyter Widget"
      ]
     },
     "metadata": {},
     "output_type": "display_data"
    },
    {
     "name": "stderr",
     "output_type": "stream",
     "text": [
      "Saving model checkpoint to distilbert-base-uncased-reviews_multilabel_clf_v2/checkpoint-1525\n",
      "Configuration saved in distilbert-base-uncased-reviews_multilabel_clf_v2/checkpoint-1525/config.json\n",
      "Model weights saved in distilbert-base-uncased-reviews_multilabel_clf_v2/checkpoint-1525/pytorch_model.bin\n",
      "tokenizer config file saved in distilbert-base-uncased-reviews_multilabel_clf_v2/checkpoint-1525/tokenizer_config.json\n",
      "Special tokens file saved in distilbert-base-uncased-reviews_multilabel_clf_v2/checkpoint-1525/special_tokens_map.json\n"
     ]
    },
    {
     "name": "stdout",
     "output_type": "stream",
     "text": [
      "{'eval_loss': 0.1489531248807907, 'eval_f1': 0.8624185372918175, 'eval_roc_auc': 0.8993891774549353, 'eval_accuracy': 0.5639344262295082, 'eval_runtime': 305.3281, 'eval_samples_per_second': 1.998, 'eval_steps_per_second': 0.128, 'epoch': 5.0}\n"
     ]
    },
    {
     "name": "stderr",
     "output_type": "stream",
     "text": [
      "tokenizer config file saved in distilbert-base-uncased-reviews_multilabel_clf_v2/tokenizer_config.json\n",
      "Special tokens file saved in distilbert-base-uncased-reviews_multilabel_clf_v2/special_tokens_map.json\n",
      "The following columns in the evaluation set don't have a corresponding argument in `DistilBertForSequenceClassification.forward` and have been ignored: Functionality, Dimensions, Delivery and Customer Support, Price, Polarity, Components, Installation, Material, Features, Review, Design and Aesthetics, Usability, Quality. If Functionality, Dimensions, Delivery and Customer Support, Price, Polarity, Components, Installation, Material, Features, Review, Design and Aesthetics, Usability, Quality are not expected by `DistilBertForSequenceClassification.forward`,  you can safely ignore this message.\n",
      "***** Running Evaluation *****\n",
      "  Num examples = 610\n",
      "  Batch size = 16\n"
     ]
    },
    {
     "data": {
      "application/vnd.jupyter.widget-view+json": {
       "model_id": "706c1b443ac542e1b071b084e2f06e34",
       "version_major": 2,
       "version_minor": 0
      },
      "text/plain": [
       "A Jupyter Widget"
      ]
     },
     "metadata": {},
     "output_type": "display_data"
    },
    {
     "name": "stderr",
     "output_type": "stream",
     "text": [
      "Saving model checkpoint to distilbert-base-uncased-reviews_multilabel_clf_v2/checkpoint-1830\n",
      "Configuration saved in distilbert-base-uncased-reviews_multilabel_clf_v2/checkpoint-1830/config.json\n",
      "Model weights saved in distilbert-base-uncased-reviews_multilabel_clf_v2/checkpoint-1830/pytorch_model.bin\n",
      "tokenizer config file saved in distilbert-base-uncased-reviews_multilabel_clf_v2/checkpoint-1830/tokenizer_config.json\n",
      "Special tokens file saved in distilbert-base-uncased-reviews_multilabel_clf_v2/checkpoint-1830/special_tokens_map.json\n"
     ]
    },
    {
     "name": "stdout",
     "output_type": "stream",
     "text": [
      "{'eval_loss': 0.15214788913726807, 'eval_f1': 0.865329512893983, 'eval_roc_auc': 0.9041228324588464, 'eval_accuracy': 0.578688524590164, 'eval_runtime': 304.9839, 'eval_samples_per_second': 2.0, 'eval_steps_per_second': 0.128, 'epoch': 6.0}\n"
     ]
    },
    {
     "name": "stderr",
     "output_type": "stream",
     "text": [
      "tokenizer config file saved in distilbert-base-uncased-reviews_multilabel_clf_v2/tokenizer_config.json\n",
      "Special tokens file saved in distilbert-base-uncased-reviews_multilabel_clf_v2/special_tokens_map.json\n"
     ]
    },
    {
     "name": "stdout",
     "output_type": "stream",
     "text": [
      "{'loss': 0.0686, 'learning_rate': 6.885245901639345e-06, 'epoch': 6.56}\n"
     ]
    },
    {
     "name": "stderr",
     "output_type": "stream",
     "text": [
      "The following columns in the evaluation set don't have a corresponding argument in `DistilBertForSequenceClassification.forward` and have been ignored: Functionality, Dimensions, Delivery and Customer Support, Price, Polarity, Components, Installation, Material, Features, Review, Design and Aesthetics, Usability, Quality. If Functionality, Dimensions, Delivery and Customer Support, Price, Polarity, Components, Installation, Material, Features, Review, Design and Aesthetics, Usability, Quality are not expected by `DistilBertForSequenceClassification.forward`,  you can safely ignore this message.\n",
      "***** Running Evaluation *****\n",
      "  Num examples = 610\n",
      "  Batch size = 16\n"
     ]
    },
    {
     "data": {
      "application/vnd.jupyter.widget-view+json": {
       "model_id": "096f2ee4ba0d419a9f8d8a2807eb17b8",
       "version_major": 2,
       "version_minor": 0
      },
      "text/plain": [
       "A Jupyter Widget"
      ]
     },
     "metadata": {},
     "output_type": "display_data"
    },
    {
     "name": "stderr",
     "output_type": "stream",
     "text": [
      "Saving model checkpoint to distilbert-base-uncased-reviews_multilabel_clf_v2/checkpoint-2135\n",
      "Configuration saved in distilbert-base-uncased-reviews_multilabel_clf_v2/checkpoint-2135/config.json\n",
      "Model weights saved in distilbert-base-uncased-reviews_multilabel_clf_v2/checkpoint-2135/pytorch_model.bin\n",
      "tokenizer config file saved in distilbert-base-uncased-reviews_multilabel_clf_v2/checkpoint-2135/tokenizer_config.json\n",
      "Special tokens file saved in distilbert-base-uncased-reviews_multilabel_clf_v2/checkpoint-2135/special_tokens_map.json\n"
     ]
    },
    {
     "name": "stdout",
     "output_type": "stream",
     "text": [
      "{'eval_loss': 0.1510588526725769, 'eval_f1': 0.867579908675799, 'eval_roc_auc': 0.9110141412010794, 'eval_accuracy': 0.5655737704918032, 'eval_runtime': 320.6279, 'eval_samples_per_second': 1.903, 'eval_steps_per_second': 0.122, 'epoch': 7.0}\n"
     ]
    },
    {
     "name": "stderr",
     "output_type": "stream",
     "text": [
      "tokenizer config file saved in distilbert-base-uncased-reviews_multilabel_clf_v2/tokenizer_config.json\n",
      "Special tokens file saved in distilbert-base-uncased-reviews_multilabel_clf_v2/special_tokens_map.json\n",
      "The following columns in the evaluation set don't have a corresponding argument in `DistilBertForSequenceClassification.forward` and have been ignored: Functionality, Dimensions, Delivery and Customer Support, Price, Polarity, Components, Installation, Material, Features, Review, Design and Aesthetics, Usability, Quality. If Functionality, Dimensions, Delivery and Customer Support, Price, Polarity, Components, Installation, Material, Features, Review, Design and Aesthetics, Usability, Quality are not expected by `DistilBertForSequenceClassification.forward`,  you can safely ignore this message.\n",
      "***** Running Evaluation *****\n",
      "  Num examples = 610\n",
      "  Batch size = 16\n"
     ]
    },
    {
     "data": {
      "application/vnd.jupyter.widget-view+json": {
       "model_id": "62d63a950d8d4a37b203e25d7bc15c59",
       "version_major": 2,
       "version_minor": 0
      },
      "text/plain": [
       "A Jupyter Widget"
      ]
     },
     "metadata": {},
     "output_type": "display_data"
    },
    {
     "name": "stderr",
     "output_type": "stream",
     "text": [
      "Saving model checkpoint to distilbert-base-uncased-reviews_multilabel_clf_v2/checkpoint-2440\n",
      "Configuration saved in distilbert-base-uncased-reviews_multilabel_clf_v2/checkpoint-2440/config.json\n",
      "Model weights saved in distilbert-base-uncased-reviews_multilabel_clf_v2/checkpoint-2440/pytorch_model.bin\n",
      "tokenizer config file saved in distilbert-base-uncased-reviews_multilabel_clf_v2/checkpoint-2440/tokenizer_config.json\n",
      "Special tokens file saved in distilbert-base-uncased-reviews_multilabel_clf_v2/checkpoint-2440/special_tokens_map.json\n"
     ]
    },
    {
     "name": "stdout",
     "output_type": "stream",
     "text": [
      "{'eval_loss': 0.15014362335205078, 'eval_f1': 0.8687367678193366, 'eval_roc_auc': 0.910406834181454, 'eval_accuracy': 0.5868852459016394, 'eval_runtime': 320.2101, 'eval_samples_per_second': 1.905, 'eval_steps_per_second': 0.122, 'epoch': 8.0}\n"
     ]
    },
    {
     "name": "stderr",
     "output_type": "stream",
     "text": [
      "tokenizer config file saved in distilbert-base-uncased-reviews_multilabel_clf_v2/tokenizer_config.json\n",
      "Special tokens file saved in distilbert-base-uncased-reviews_multilabel_clf_v2/special_tokens_map.json\n"
     ]
    },
    {
     "name": "stdout",
     "output_type": "stream",
     "text": [
      "{'loss': 0.0525, 'learning_rate': 3.6065573770491806e-06, 'epoch': 8.2}\n"
     ]
    },
    {
     "name": "stderr",
     "output_type": "stream",
     "text": [
      "The following columns in the evaluation set don't have a corresponding argument in `DistilBertForSequenceClassification.forward` and have been ignored: Functionality, Dimensions, Delivery and Customer Support, Price, Polarity, Components, Installation, Material, Features, Review, Design and Aesthetics, Usability, Quality. If Functionality, Dimensions, Delivery and Customer Support, Price, Polarity, Components, Installation, Material, Features, Review, Design and Aesthetics, Usability, Quality are not expected by `DistilBertForSequenceClassification.forward`,  you can safely ignore this message.\n",
      "***** Running Evaluation *****\n",
      "  Num examples = 610\n",
      "  Batch size = 16\n"
     ]
    },
    {
     "data": {
      "application/vnd.jupyter.widget-view+json": {
       "model_id": "1eed6155658f4b2b9e50db942f9d6af3",
       "version_major": 2,
       "version_minor": 0
      },
      "text/plain": [
       "A Jupyter Widget"
      ]
     },
     "metadata": {},
     "output_type": "display_data"
    },
    {
     "name": "stderr",
     "output_type": "stream",
     "text": [
      "Saving model checkpoint to distilbert-base-uncased-reviews_multilabel_clf_v2/checkpoint-2745\n",
      "Configuration saved in distilbert-base-uncased-reviews_multilabel_clf_v2/checkpoint-2745/config.json\n"
     ]
    },
    {
     "name": "stdout",
     "output_type": "stream",
     "text": [
      "{'eval_loss': 0.1518922597169876, 'eval_f1': 0.8684863523573201, 'eval_roc_auc': 0.9089417389546586, 'eval_accuracy': 0.5754098360655737, 'eval_runtime': 322.2907, 'eval_samples_per_second': 1.893, 'eval_steps_per_second': 0.121, 'epoch': 9.0}\n"
     ]
    },
    {
     "name": "stderr",
     "output_type": "stream",
     "text": [
      "Model weights saved in distilbert-base-uncased-reviews_multilabel_clf_v2/checkpoint-2745/pytorch_model.bin\n",
      "tokenizer config file saved in distilbert-base-uncased-reviews_multilabel_clf_v2/checkpoint-2745/tokenizer_config.json\n",
      "Special tokens file saved in distilbert-base-uncased-reviews_multilabel_clf_v2/checkpoint-2745/special_tokens_map.json\n",
      "tokenizer config file saved in distilbert-base-uncased-reviews_multilabel_clf_v2/tokenizer_config.json\n",
      "Special tokens file saved in distilbert-base-uncased-reviews_multilabel_clf_v2/special_tokens_map.json\n"
     ]
    },
    {
     "name": "stdout",
     "output_type": "stream",
     "text": [
      "{'loss': 0.0432, 'learning_rate': 3.278688524590164e-07, 'epoch': 9.84}\n"
     ]
    },
    {
     "name": "stderr",
     "output_type": "stream",
     "text": [
      "The following columns in the evaluation set don't have a corresponding argument in `DistilBertForSequenceClassification.forward` and have been ignored: Functionality, Dimensions, Delivery and Customer Support, Price, Polarity, Components, Installation, Material, Features, Review, Design and Aesthetics, Usability, Quality. If Functionality, Dimensions, Delivery and Customer Support, Price, Polarity, Components, Installation, Material, Features, Review, Design and Aesthetics, Usability, Quality are not expected by `DistilBertForSequenceClassification.forward`,  you can safely ignore this message.\n",
      "***** Running Evaluation *****\n",
      "  Num examples = 610\n",
      "  Batch size = 16\n"
     ]
    },
    {
     "data": {
      "application/vnd.jupyter.widget-view+json": {
       "model_id": "12dbb1809429412d833a17757aeb7caa",
       "version_major": 2,
       "version_minor": 0
      },
      "text/plain": [
       "A Jupyter Widget"
      ]
     },
     "metadata": {},
     "output_type": "display_data"
    },
    {
     "name": "stderr",
     "output_type": "stream",
     "text": [
      "Saving model checkpoint to distilbert-base-uncased-reviews_multilabel_clf_v2/checkpoint-3050\n",
      "Configuration saved in distilbert-base-uncased-reviews_multilabel_clf_v2/checkpoint-3050/config.json\n",
      "Model weights saved in distilbert-base-uncased-reviews_multilabel_clf_v2/checkpoint-3050/pytorch_model.bin\n",
      "tokenizer config file saved in distilbert-base-uncased-reviews_multilabel_clf_v2/checkpoint-3050/tokenizer_config.json\n",
      "Special tokens file saved in distilbert-base-uncased-reviews_multilabel_clf_v2/checkpoint-3050/special_tokens_map.json\n"
     ]
    },
    {
     "name": "stdout",
     "output_type": "stream",
     "text": [
      "{'eval_loss': 0.1519307792186737, 'eval_f1': 0.8696573648887318, 'eval_roc_auc': 0.9106625886571572, 'eval_accuracy': 0.578688524590164, 'eval_runtime': 316.8807, 'eval_samples_per_second': 1.925, 'eval_steps_per_second': 0.123, 'epoch': 10.0}\n"
     ]
    },
    {
     "name": "stderr",
     "output_type": "stream",
     "text": [
      "tokenizer config file saved in distilbert-base-uncased-reviews_multilabel_clf_v2/tokenizer_config.json\n",
      "Special tokens file saved in distilbert-base-uncased-reviews_multilabel_clf_v2/special_tokens_map.json\n",
      "\n",
      "\n",
      "Training completed. Do not forget to share your model on huggingface.co/models =)\n",
      "\n",
      "\n",
      "Loading best model from distilbert-base-uncased-reviews_multilabel_clf_v2/checkpoint-3050 (score: 0.8696573648887318).\n"
     ]
    },
    {
     "name": "stdout",
     "output_type": "stream",
     "text": [
      "{'train_runtime': 80885.961, 'train_samples_per_second': 0.602, 'train_steps_per_second': 0.038, 'train_loss': 0.11661010783226763, 'epoch': 10.0}\n"
     ]
    },
    {
     "data": {
      "text/plain": [
       "TrainOutput(global_step=3050, training_loss=0.11661010783226763, metrics={'train_runtime': 80885.961, 'train_samples_per_second': 0.602, 'train_steps_per_second': 0.038, 'train_loss': 0.11661010783226763, 'epoch': 10.0})"
      ]
     },
     "execution_count": 33,
     "metadata": {},
     "output_type": "execute_result"
    }
   ],
   "source": [
    "trainer.train()"
   ]
  },
  {
   "attachments": {},
   "cell_type": "markdown",
   "metadata": {},
   "source": [
    "##### Evaluate Model"
   ]
  },
  {
   "cell_type": "code",
   "execution_count": 34,
   "metadata": {},
   "outputs": [
    {
     "name": "stderr",
     "output_type": "stream",
     "text": [
      "The following columns in the evaluation set don't have a corresponding argument in `DistilBertForSequenceClassification.forward` and have been ignored: Functionality, Dimensions, Delivery and Customer Support, Price, Polarity, Components, Installation, Material, Features, Review, Design and Aesthetics, Usability, Quality. If Functionality, Dimensions, Delivery and Customer Support, Price, Polarity, Components, Installation, Material, Features, Review, Design and Aesthetics, Usability, Quality are not expected by `DistilBertForSequenceClassification.forward`,  you can safely ignore this message.\n",
      "***** Running Evaluation *****\n",
      "  Num examples = 610\n",
      "  Batch size = 16\n"
     ]
    },
    {
     "data": {
      "application/vnd.jupyter.widget-view+json": {
       "model_id": "a8b4809d750c43968d1a1f3a0ec23de7",
       "version_major": 2,
       "version_minor": 0
      },
      "text/plain": [
       "A Jupyter Widget"
      ]
     },
     "metadata": {},
     "output_type": "display_data"
    },
    {
     "data": {
      "text/plain": [
       "{'eval_loss': 0.1519307792186737,\n",
       " 'eval_f1': 0.8696573648887318,\n",
       " 'eval_roc_auc': 0.9106625886571572,\n",
       " 'eval_accuracy': 0.578688524590164,\n",
       " 'eval_runtime': 328.461,\n",
       " 'eval_samples_per_second': 1.857,\n",
       " 'eval_steps_per_second': 0.119,\n",
       " 'epoch': 10.0}"
      ]
     },
     "execution_count": 34,
     "metadata": {},
     "output_type": "execute_result"
    }
   ],
   "source": [
    "trainer.evaluate()"
   ]
  },
  {
   "attachments": {},
   "cell_type": "markdown",
   "metadata": {},
   "source": [
    "##### Push Model to HuggingFace Hub (My Profile!)"
   ]
  },
  {
   "cell_type": "code",
   "execution_count": 35,
   "metadata": {},
   "outputs": [
    {
     "name": "stderr",
     "output_type": "stream",
     "text": [
      "Saving model checkpoint to distilbert-base-uncased-reviews_multilabel_clf_v2\n",
      "Configuration saved in distilbert-base-uncased-reviews_multilabel_clf_v2/config.json\n",
      "Model weights saved in distilbert-base-uncased-reviews_multilabel_clf_v2/pytorch_model.bin\n",
      "tokenizer config file saved in distilbert-base-uncased-reviews_multilabel_clf_v2/tokenizer_config.json\n",
      "Special tokens file saved in distilbert-base-uncased-reviews_multilabel_clf_v2/special_tokens_map.json\n"
     ]
    },
    {
     "data": {
      "application/vnd.jupyter.widget-view+json": {
       "model_id": "a8b8a3daf9914d57930b8b84440cf2e3",
       "version_major": 2,
       "version_minor": 0
      },
      "text/plain": [
       "A Jupyter Widget"
      ]
     },
     "metadata": {},
     "output_type": "display_data"
    },
    {
     "data": {
      "application/vnd.jupyter.widget-view+json": {
       "model_id": "f91528cff3294e9884d975ea9d1d8123",
       "version_major": 2,
       "version_minor": 0
      },
      "text/plain": [
       "A Jupyter Widget"
      ]
     },
     "metadata": {},
     "output_type": "display_data"
    },
    {
     "name": "stderr",
     "output_type": "stream",
     "text": [
      "remote: Scanning LFS files for validity...        \n",
      "remote: LFS file scan complete.        \n",
      "To https://huggingface.co/DunnBC22/distilbert-base-uncased-reviews_multilabel_clf_v2\n",
      "   567ea22..d66b9a2  main -> main\n",
      "\n",
      "Dropping the following result as it does not have all the necessary fields:\n",
      "{'task': {'name': 'Text Classification', 'type': 'text-classification'}, 'metrics': [{'name': 'F1', 'type': 'f1', 'value': 0.8696573648887318}, {'name': 'Accuracy', 'type': 'accuracy', 'value': 0.578688524590164}]}\n",
      "To https://huggingface.co/DunnBC22/distilbert-base-uncased-reviews_multilabel_clf_v2\n",
      "   d66b9a2..c9283b4  main -> main\n",
      "\n"
     ]
    },
    {
     "data": {
      "text/plain": [
       "'https://huggingface.co/DunnBC22/distilbert-base-uncased-reviews_multilabel_clf_v2/commit/d66b9a283e407ab10e91740e837ba5631ebd2ff2'"
      ]
     },
     "execution_count": 35,
     "metadata": {},
     "output_type": "execute_result"
    }
   ],
   "source": [
    "trainer.push_to_hub(commit_message=\"All Dunn!!!\")"
   ]
  },
  {
   "attachments": {},
   "cell_type": "markdown",
   "metadata": {},
   "source": [
    "### Notes & Other Takeaways From This Project\n",
    "****\n",
    "- This is the second training of this model. The changes that I made from the first project to this are:\n",
    "    - Reduced the batch_size to 16 samples\n",
    "    - Increase number of epochs to 10\n",
    "****"
   ]
  }
 ],
 "metadata": {
  "kernelspec": {
   "display_name": "nlp_ml",
   "language": "python",
   "name": "python3"
  },
  "language_info": {
   "codemirror_mode": {
    "name": "ipython",
    "version": 3
   },
   "file_extension": ".py",
   "mimetype": "text/x-python",
   "name": "python",
   "nbconvert_exporter": "python",
   "pygments_lexer": "ipython3",
   "version": "3.9.12"
  },
  "orig_nbformat": 4,
  "vscode": {
   "interpreter": {
    "hash": "0b7a754c5aaaa44a21e2f2148f50b931a5abdffe7ef71537f5954179554f39df"
   }
  }
 },
 "nbformat": 4,
 "nbformat_minor": 2
}
