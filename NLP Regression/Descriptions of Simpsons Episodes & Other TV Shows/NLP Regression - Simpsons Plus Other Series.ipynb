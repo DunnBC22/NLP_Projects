{
 "cells": [
  {
   "cell_type": "markdown",
   "id": "e67daac8",
   "metadata": {},
   "source": [
    "## Regression Using NLP Text"
   ]
  },
  {
   "cell_type": "markdown",
   "id": "5793c05a",
   "metadata": {},
   "source": [
    "##### This model will appear as 'DunnBC22/distilbert-base-uncased-Regression-Simpsons_Plus_Others' on my HuggingFace profile.\n",
    "\n",
    "##### Data Sources:\n",
    "\n",
    "*https://www.kaggle.com/datasets/mattbarty/the-simpsons-s1s32-imdb-scores-episode-info\n",
    "\n",
    "*https://www.kaggle.com/datasets/maddyramsey/brookyln-nine-nine-imdb-ratings\n",
    "\n",
    "*https://www.kaggle.com/datasets/hod101s/seinfeld-imdb-ratings\n",
    "\n",
    "*https://www.kaggle.com/datasets/bcruise/big-bang-theory-episodes?select=big_bang_theory_imdb.csv\n",
    "\n",
    "*https://www.kaggle.com/datasets/bcruise/30-rock-episode-data?select=30_rock_imdb.csv\n",
    "\n",
    "*https://www.kaggle.com/datasets/imbenab/community-episodes-imdb-ratings\n",
    "\n",
    "*https://www.kaggle.com/datasets/bcruise/parks-and-recreation-episode-data?select=parks_and_rec_imdb.csv\n",
    "\n",
    "*https://www.kaggle.com/datasets/kapastor/the-office-imdb-ratings-per-episode\n",
    "\n",
    "*https://www.kaggle.com/datasets/bcruise/how-i-met-your-mother-episodes-data?select=himym_imdb.csv\n",
    "\n",
    "*https://www.kaggle.com/datasets/rprkh15/modern-family-dataset\n",
    "\n",
    "*I pulled the episode descriptions manually for the following series from the respective page of each series on imdb.com: \n",
    "\n",
    "1) Two and a Half Men,\n",
    "2) Young Sheldon, \n",
    "3) Married... With Children\n",
    "4) Family Guy\n",
    "5) South Park\n",
    "6) That '70s Show\n",
    "7) It's Always Sunny in Philadelphia"
   ]
  },
  {
   "cell_type": "markdown",
   "id": "d2c358a6",
   "metadata": {},
   "source": [
    "#### Import Necessary Libraries"
   ]
  },
  {
   "cell_type": "code",
   "execution_count": 1,
   "id": "617d6a4c",
   "metadata": {},
   "outputs": [
    {
     "name": "stderr",
     "output_type": "stream",
     "text": [
      "NOTE: Redirects are currently not supported in Windows or MacOs.\n"
     ]
    }
   ],
   "source": [
    "import os, math, random, re, logging\n",
    "os.environ['TOKENIZERS_PARALLELISM']='false'\n",
    "import numpy as np\n",
    "import pandas as pd\n",
    "import matplotlib.pyplot as plt\n",
    "\n",
    "import torch\n",
    "\n",
    "from sklearn.metrics import mean_squared_error, mean_absolute_error, mean_squared_error, r2_score\n",
    "\n",
    "from transformers import AutoTokenizer, Trainer, TrainingArguments, AutoModelForSequenceClassification, set_seed, get_scheduler\n",
    "\n",
    "from datasets import Dataset, DatasetDict"
   ]
  },
  {
   "cell_type": "markdown",
   "id": "242bbe6e",
   "metadata": {},
   "source": [
    "### Exploratory Data Analysis (EDA)"
   ]
  },
  {
   "cell_type": "markdown",
   "id": "f6f44e17",
   "metadata": {},
   "source": [
    "#### The Simpsons Dataset"
   ]
  },
  {
   "cell_type": "code",
   "execution_count": 2,
   "id": "ece9f605",
   "metadata": {},
   "outputs": [
    {
     "data": {
      "text/html": [
       "<div>\n",
       "<style scoped>\n",
       "    .dataframe tbody tr th:only-of-type {\n",
       "        vertical-align: middle;\n",
       "    }\n",
       "\n",
       "    .dataframe tbody tr th {\n",
       "        vertical-align: top;\n",
       "    }\n",
       "\n",
       "    .dataframe thead th {\n",
       "        text-align: right;\n",
       "    }\n",
       "</style>\n",
       "<table border=\"1\" class=\"dataframe\">\n",
       "  <thead>\n",
       "    <tr style=\"text-align: right;\">\n",
       "      <th></th>\n",
       "      <th>label</th>\n",
       "      <th>text</th>\n",
       "    </tr>\n",
       "  </thead>\n",
       "  <tbody>\n",
       "    <tr>\n",
       "      <th>0</th>\n",
       "      <td>8.2</td>\n",
       "      <td>Homer is forced to become a department store S...</td>\n",
       "    </tr>\n",
       "    <tr>\n",
       "      <th>1</th>\n",
       "      <td>7.7</td>\n",
       "      <td>Bart ends up at a school for gifted children a...</td>\n",
       "    </tr>\n",
       "    <tr>\n",
       "      <th>2</th>\n",
       "      <td>7.4</td>\n",
       "      <td>After losing his job, Homer contemplates endin...</td>\n",
       "    </tr>\n",
       "    <tr>\n",
       "      <th>3</th>\n",
       "      <td>7.7</td>\n",
       "      <td>After being embarrassed by the rest of the fam...</td>\n",
       "    </tr>\n",
       "    <tr>\n",
       "      <th>4</th>\n",
       "      <td>8.0</td>\n",
       "      <td>After being beaten up by Nelson Muntz one too ...</td>\n",
       "    </tr>\n",
       "    <tr>\n",
       "      <th>...</th>\n",
       "      <td>...</td>\n",
       "      <td>...</td>\n",
       "    </tr>\n",
       "    <tr>\n",
       "      <th>700</th>\n",
       "      <td>6.8</td>\n",
       "      <td>Mr. Burns joins the plant-based burger busines...</td>\n",
       "    </tr>\n",
       "    <tr>\n",
       "      <th>701</th>\n",
       "      <td>6.2</td>\n",
       "      <td>Lisa's imaginary friend is a depressed British...</td>\n",
       "    </tr>\n",
       "    <tr>\n",
       "      <th>702</th>\n",
       "      <td>7.2</td>\n",
       "      <td>Lisa makes a shocking college decision that hu...</td>\n",
       "    </tr>\n",
       "    <tr>\n",
       "      <th>703</th>\n",
       "      <td>6.5</td>\n",
       "      <td>A British secret agent comes to Springfield to...</td>\n",
       "    </tr>\n",
       "    <tr>\n",
       "      <th>704</th>\n",
       "      <td>7.8</td>\n",
       "      <td>A secret society of bartenders seeks revenge o...</td>\n",
       "    </tr>\n",
       "  </tbody>\n",
       "</table>\n",
       "<p>705 rows × 2 columns</p>\n",
       "</div>"
      ],
      "text/plain": [
       "     label                                               text\n",
       "0      8.2  Homer is forced to become a department store S...\n",
       "1      7.7  Bart ends up at a school for gifted children a...\n",
       "2      7.4  After losing his job, Homer contemplates endin...\n",
       "3      7.7  After being embarrassed by the rest of the fam...\n",
       "4      8.0  After being beaten up by Nelson Muntz one too ...\n",
       "..     ...                                                ...\n",
       "700    6.8  Mr. Burns joins the plant-based burger busines...\n",
       "701    6.2  Lisa's imaginary friend is a depressed British...\n",
       "702    7.2  Lisa makes a shocking college decision that hu...\n",
       "703    6.5  A British secret agent comes to Springfield to...\n",
       "704    7.8  A secret society of bartenders seeks revenge o...\n",
       "\n",
       "[705 rows x 2 columns]"
      ]
     },
     "execution_count": 2,
     "metadata": {},
     "output_type": "execute_result"
    }
   ],
   "source": [
    "data_sim = pd.read_csv('~/Documents/nlpnn/Datasets/The Simpsons Info For Regression/imdb_simpsons_dataset.csv', engine=\"c\")\n",
    "data_sim.drop(columns=['episode_no_abs', 'episode_votes', 'episode_votes', 'season_no', 'episode_no', 'episode_airdate', 'episode_name'], inplace=True)\n",
    "\n",
    "data_sim.rename(columns={'episode_score' : 'label', \n",
    "                     'episode_description' : 'text'}, \n",
    "            inplace=True)\n",
    "\n",
    "data_sim"
   ]
  },
  {
   "cell_type": "markdown",
   "id": "16f93d6e",
   "metadata": {},
   "source": [
    "#### Brooklyn Nine Nine Dataset"
   ]
  },
  {
   "cell_type": "code",
   "execution_count": 3,
   "id": "d44f4e8a",
   "metadata": {},
   "outputs": [
    {
     "data": {
      "text/html": [
       "<div>\n",
       "<style scoped>\n",
       "    .dataframe tbody tr th:only-of-type {\n",
       "        vertical-align: middle;\n",
       "    }\n",
       "\n",
       "    .dataframe tbody tr th {\n",
       "        vertical-align: top;\n",
       "    }\n",
       "\n",
       "    .dataframe thead th {\n",
       "        text-align: right;\n",
       "    }\n",
       "</style>\n",
       "<table border=\"1\" class=\"dataframe\">\n",
       "  <thead>\n",
       "    <tr style=\"text-align: right;\">\n",
       "      <th></th>\n",
       "      <th>label</th>\n",
       "      <th>text</th>\n",
       "    </tr>\n",
       "  </thead>\n",
       "  <tbody>\n",
       "    <tr>\n",
       "      <th>0</th>\n",
       "      <td>7.8</td>\n",
       "      <td>Detective Jake Peralta finds his work scrutini...</td>\n",
       "    </tr>\n",
       "    <tr>\n",
       "      <th>1</th>\n",
       "      <td>7.5</td>\n",
       "      <td>When Jake arrives late for work, Captain Holt ...</td>\n",
       "    </tr>\n",
       "    <tr>\n",
       "      <th>2</th>\n",
       "      <td>7.6</td>\n",
       "      <td>With a backlog of unsolved cases, Jake finds h...</td>\n",
       "    </tr>\n",
       "    <tr>\n",
       "      <th>3</th>\n",
       "      <td>7.7</td>\n",
       "      <td>Jake meets an attractive Medical Examiner, but...</td>\n",
       "    </tr>\n",
       "    <tr>\n",
       "      <th>4</th>\n",
       "      <td>8.0</td>\n",
       "      <td>A detective from Major Crimes takes over Jake'...</td>\n",
       "    </tr>\n",
       "    <tr>\n",
       "      <th>...</th>\n",
       "      <td>...</td>\n",
       "      <td>...</td>\n",
       "    </tr>\n",
       "    <tr>\n",
       "      <th>148</th>\n",
       "      <td>6.7</td>\n",
       "      <td>When the FBI takes over a high-profile case, J...</td>\n",
       "    </tr>\n",
       "    <tr>\n",
       "      <th>149</th>\n",
       "      <td>8.1</td>\n",
       "      <td>Terry, Jake and Charles visit the Boyle Family...</td>\n",
       "    </tr>\n",
       "    <tr>\n",
       "      <th>150</th>\n",
       "      <td>8.1</td>\n",
       "      <td>The squad comes together to work an important ...</td>\n",
       "    </tr>\n",
       "    <tr>\n",
       "      <th>151</th>\n",
       "      <td>9.4</td>\n",
       "      <td>The squad takes stock of their eight years tog...</td>\n",
       "    </tr>\n",
       "    <tr>\n",
       "      <th>152</th>\n",
       "      <td>9.6</td>\n",
       "      <td>The squad takes stock of their eight years tog...</td>\n",
       "    </tr>\n",
       "  </tbody>\n",
       "</table>\n",
       "<p>153 rows × 2 columns</p>\n",
       "</div>"
      ],
      "text/plain": [
       "     label                                               text\n",
       "0      7.8  Detective Jake Peralta finds his work scrutini...\n",
       "1      7.5  When Jake arrives late for work, Captain Holt ...\n",
       "2      7.6  With a backlog of unsolved cases, Jake finds h...\n",
       "3      7.7  Jake meets an attractive Medical Examiner, but...\n",
       "4      8.0  A detective from Major Crimes takes over Jake'...\n",
       "..     ...                                                ...\n",
       "148    6.7  When the FBI takes over a high-profile case, J...\n",
       "149    8.1  Terry, Jake and Charles visit the Boyle Family...\n",
       "150    8.1  The squad comes together to work an important ...\n",
       "151    9.4  The squad takes stock of their eight years tog...\n",
       "152    9.6  The squad takes stock of their eight years tog...\n",
       "\n",
       "[153 rows x 2 columns]"
      ]
     },
     "execution_count": 3,
     "metadata": {},
     "output_type": "execute_result"
    }
   ],
   "source": [
    "data_bnn = pd.read_csv('~/Documents/nlpnn/Datasets/The Simpsons Info For Regression/All_B99_eps.csv', engine=\"c\")\n",
    "data_bnn.drop(columns=['Season', 'Episode', 'Title', 'Airdate', 'Total Votes'], inplace=True)\n",
    "\n",
    "data_bnn.rename(columns={'Rating' : 'label', \n",
    "                     'Episode Description' : 'text'}, \n",
    "            inplace=True)\n",
    "\n",
    "data_bnn"
   ]
  },
  {
   "cell_type": "markdown",
   "id": "03671ec1",
   "metadata": {},
   "source": [
    "#### Seinfeld Dataset"
   ]
  },
  {
   "cell_type": "code",
   "execution_count": 4,
   "id": "50c3bcc0",
   "metadata": {},
   "outputs": [
    {
     "data": {
      "text/html": [
       "<div>\n",
       "<style scoped>\n",
       "    .dataframe tbody tr th:only-of-type {\n",
       "        vertical-align: middle;\n",
       "    }\n",
       "\n",
       "    .dataframe tbody tr th {\n",
       "        vertical-align: top;\n",
       "    }\n",
       "\n",
       "    .dataframe thead th {\n",
       "        text-align: right;\n",
       "    }\n",
       "</style>\n",
       "<table border=\"1\" class=\"dataframe\">\n",
       "  <thead>\n",
       "    <tr style=\"text-align: right;\">\n",
       "      <th></th>\n",
       "      <th>label</th>\n",
       "      <th>text</th>\n",
       "    </tr>\n",
       "  </thead>\n",
       "  <tbody>\n",
       "    <tr>\n",
       "      <th>0</th>\n",
       "      <td>7.8</td>\n",
       "      <td>Detective Jake Peralta finds his work scrutini...</td>\n",
       "    </tr>\n",
       "    <tr>\n",
       "      <th>1</th>\n",
       "      <td>7.5</td>\n",
       "      <td>When Jake arrives late for work, Captain Holt ...</td>\n",
       "    </tr>\n",
       "    <tr>\n",
       "      <th>2</th>\n",
       "      <td>7.6</td>\n",
       "      <td>With a backlog of unsolved cases, Jake finds h...</td>\n",
       "    </tr>\n",
       "    <tr>\n",
       "      <th>3</th>\n",
       "      <td>7.7</td>\n",
       "      <td>Jake meets an attractive Medical Examiner, but...</td>\n",
       "    </tr>\n",
       "    <tr>\n",
       "      <th>4</th>\n",
       "      <td>8.0</td>\n",
       "      <td>A detective from Major Crimes takes over Jake'...</td>\n",
       "    </tr>\n",
       "    <tr>\n",
       "      <th>...</th>\n",
       "      <td>...</td>\n",
       "      <td>...</td>\n",
       "    </tr>\n",
       "    <tr>\n",
       "      <th>148</th>\n",
       "      <td>6.7</td>\n",
       "      <td>When the FBI takes over a high-profile case, J...</td>\n",
       "    </tr>\n",
       "    <tr>\n",
       "      <th>149</th>\n",
       "      <td>8.1</td>\n",
       "      <td>Terry, Jake and Charles visit the Boyle Family...</td>\n",
       "    </tr>\n",
       "    <tr>\n",
       "      <th>150</th>\n",
       "      <td>8.1</td>\n",
       "      <td>The squad comes together to work an important ...</td>\n",
       "    </tr>\n",
       "    <tr>\n",
       "      <th>151</th>\n",
       "      <td>9.4</td>\n",
       "      <td>The squad takes stock of their eight years tog...</td>\n",
       "    </tr>\n",
       "    <tr>\n",
       "      <th>152</th>\n",
       "      <td>9.6</td>\n",
       "      <td>The squad takes stock of their eight years tog...</td>\n",
       "    </tr>\n",
       "  </tbody>\n",
       "</table>\n",
       "<p>153 rows × 2 columns</p>\n",
       "</div>"
      ],
      "text/plain": [
       "     label                                               text\n",
       "0      7.8  Detective Jake Peralta finds his work scrutini...\n",
       "1      7.5  When Jake arrives late for work, Captain Holt ...\n",
       "2      7.6  With a backlog of unsolved cases, Jake finds h...\n",
       "3      7.7  Jake meets an attractive Medical Examiner, but...\n",
       "4      8.0  A detective from Major Crimes takes over Jake'...\n",
       "..     ...                                                ...\n",
       "148    6.7  When the FBI takes over a high-profile case, J...\n",
       "149    8.1  Terry, Jake and Charles visit the Boyle Family...\n",
       "150    8.1  The squad comes together to work an important ...\n",
       "151    9.4  The squad takes stock of their eight years tog...\n",
       "152    9.6  The squad takes stock of their eight years tog...\n",
       "\n",
       "[153 rows x 2 columns]"
      ]
     },
     "execution_count": 4,
     "metadata": {},
     "output_type": "execute_result"
    }
   ],
   "source": [
    "data_sein = pd.read_csv('~/Documents/nlpnn/Datasets/The Simpsons Info For Regression/All_B99_eps.csv', engine=\"c\")\n",
    "data_sein.drop(columns=['Season', 'Episode', 'Title', 'Airdate', 'Total Votes'], inplace=True)\n",
    "\n",
    "data_sein.rename(columns={'Rating' : 'label', 'Episode Description' : 'text'}, inplace=True)\n",
    "\n",
    "data_sein"
   ]
  },
  {
   "cell_type": "markdown",
   "id": "ca76dc0b",
   "metadata": {},
   "source": [
    "#### The Big Bang Theory Dataset"
   ]
  },
  {
   "cell_type": "code",
   "execution_count": 5,
   "id": "ac106c5e",
   "metadata": {},
   "outputs": [
    {
     "data": {
      "text/html": [
       "<div>\n",
       "<style scoped>\n",
       "    .dataframe tbody tr th:only-of-type {\n",
       "        vertical-align: middle;\n",
       "    }\n",
       "\n",
       "    .dataframe tbody tr th {\n",
       "        vertical-align: top;\n",
       "    }\n",
       "\n",
       "    .dataframe thead th {\n",
       "        text-align: right;\n",
       "    }\n",
       "</style>\n",
       "<table border=\"1\" class=\"dataframe\">\n",
       "  <thead>\n",
       "    <tr style=\"text-align: right;\">\n",
       "      <th></th>\n",
       "      <th>label</th>\n",
       "      <th>text</th>\n",
       "    </tr>\n",
       "  </thead>\n",
       "  <tbody>\n",
       "    <tr>\n",
       "      <th>0</th>\n",
       "      <td>6.7</td>\n",
       "      <td>The first Pilot of what will become \"The Big B...</td>\n",
       "    </tr>\n",
       "    <tr>\n",
       "      <th>1</th>\n",
       "      <td>8.2</td>\n",
       "      <td>A pair of socially awkward theoretical physici...</td>\n",
       "    </tr>\n",
       "    <tr>\n",
       "      <th>2</th>\n",
       "      <td>8.3</td>\n",
       "      <td>Penny is furious with Leonard and Sheldon when...</td>\n",
       "    </tr>\n",
       "    <tr>\n",
       "      <th>3</th>\n",
       "      <td>7.7</td>\n",
       "      <td>Leonard gets upset when he discovers that Penn...</td>\n",
       "    </tr>\n",
       "    <tr>\n",
       "      <th>4</th>\n",
       "      <td>8.1</td>\n",
       "      <td>Sheldon's mother is called to intervene when h...</td>\n",
       "    </tr>\n",
       "    <tr>\n",
       "      <th>...</th>\n",
       "      <td>...</td>\n",
       "      <td>...</td>\n",
       "    </tr>\n",
       "    <tr>\n",
       "      <th>275</th>\n",
       "      <td>7.1</td>\n",
       "      <td>Koothrappali is worried people won't take him ...</td>\n",
       "    </tr>\n",
       "    <tr>\n",
       "      <th>276</th>\n",
       "      <td>7.2</td>\n",
       "      <td>Kripke has proof that Dr. Pemberton plagiarize...</td>\n",
       "    </tr>\n",
       "    <tr>\n",
       "      <th>277</th>\n",
       "      <td>7.9</td>\n",
       "      <td>Leonard is pleasantly surprised when Beverly c...</td>\n",
       "    </tr>\n",
       "    <tr>\n",
       "      <th>278</th>\n",
       "      <td>9.0</td>\n",
       "      <td>Sheldon and Amy await big news.</td>\n",
       "    </tr>\n",
       "    <tr>\n",
       "      <th>279</th>\n",
       "      <td>9.5</td>\n",
       "      <td>Bernadette and Wolowitz leave their kids for t...</td>\n",
       "    </tr>\n",
       "  </tbody>\n",
       "</table>\n",
       "<p>280 rows × 2 columns</p>\n",
       "</div>"
      ],
      "text/plain": [
       "     label                                               text\n",
       "0      6.7  The first Pilot of what will become \"The Big B...\n",
       "1      8.2  A pair of socially awkward theoretical physici...\n",
       "2      8.3  Penny is furious with Leonard and Sheldon when...\n",
       "3      7.7  Leonard gets upset when he discovers that Penn...\n",
       "4      8.1  Sheldon's mother is called to intervene when h...\n",
       "..     ...                                                ...\n",
       "275    7.1  Koothrappali is worried people won't take him ...\n",
       "276    7.2  Kripke has proof that Dr. Pemberton plagiarize...\n",
       "277    7.9  Leonard is pleasantly surprised when Beverly c...\n",
       "278    9.0                    Sheldon and Amy await big news.\n",
       "279    9.5  Bernadette and Wolowitz leave their kids for t...\n",
       "\n",
       "[280 rows x 2 columns]"
      ]
     },
     "execution_count": 5,
     "metadata": {},
     "output_type": "execute_result"
    }
   ],
   "source": [
    "data_tbbt = pd.read_csv('~/Documents/nlpnn/Datasets/The Simpsons Info For Regression/big_bang_theory_imdb.csv', engine=\"c\")\n",
    "data_tbbt.drop(columns=['season', 'episode_num', 'title', 'original_air_date', 'total_votes'], inplace=True)\n",
    "\n",
    "data_tbbt.rename(columns={'imdb_rating' : 'label', \n",
    "                     'desc' : 'text'}, \n",
    "            inplace=True)\n",
    "\n",
    "data_tbbt"
   ]
  },
  {
   "cell_type": "markdown",
   "id": "c413ef9c",
   "metadata": {},
   "source": [
    "#### 30 Rock Dataset"
   ]
  },
  {
   "cell_type": "code",
   "execution_count": 6,
   "id": "f5dc2026",
   "metadata": {},
   "outputs": [
    {
     "data": {
      "text/html": [
       "<div>\n",
       "<style scoped>\n",
       "    .dataframe tbody tr th:only-of-type {\n",
       "        vertical-align: middle;\n",
       "    }\n",
       "\n",
       "    .dataframe tbody tr th {\n",
       "        vertical-align: top;\n",
       "    }\n",
       "\n",
       "    .dataframe thead th {\n",
       "        text-align: right;\n",
       "    }\n",
       "</style>\n",
       "<table border=\"1\" class=\"dataframe\">\n",
       "  <thead>\n",
       "    <tr style=\"text-align: right;\">\n",
       "      <th></th>\n",
       "      <th>label</th>\n",
       "      <th>text</th>\n",
       "    </tr>\n",
       "  </thead>\n",
       "  <tbody>\n",
       "    <tr>\n",
       "      <th>0</th>\n",
       "      <td>7.3</td>\n",
       "      <td>Liz Lemon is called upstairs to meet the new n...</td>\n",
       "    </tr>\n",
       "    <tr>\n",
       "      <th>1</th>\n",
       "      <td>7.5</td>\n",
       "      <td>The crew of The Girlie Show is skeptical of ha...</td>\n",
       "    </tr>\n",
       "    <tr>\n",
       "      <th>2</th>\n",
       "      <td>7.9</td>\n",
       "      <td>Jack convinces Liz to go on a date with his fr...</td>\n",
       "    </tr>\n",
       "    <tr>\n",
       "      <th>3</th>\n",
       "      <td>7.5</td>\n",
       "      <td>Jack joins the writing staff during a meeting ...</td>\n",
       "    </tr>\n",
       "    <tr>\n",
       "      <th>4</th>\n",
       "      <td>8.1</td>\n",
       "      <td>Jack wants to integrate product placement in \"...</td>\n",
       "    </tr>\n",
       "    <tr>\n",
       "      <th>...</th>\n",
       "      <td>...</td>\n",
       "      <td>...</td>\n",
       "    </tr>\n",
       "    <tr>\n",
       "      <th>133</th>\n",
       "      <td>8.3</td>\n",
       "      <td>Jack launches a plot to take over as Kabletown...</td>\n",
       "    </tr>\n",
       "    <tr>\n",
       "      <th>134</th>\n",
       "      <td>7.9</td>\n",
       "      <td>Jack and Liz go to Florida, where they find ou...</td>\n",
       "    </tr>\n",
       "    <tr>\n",
       "      <th>135</th>\n",
       "      <td>8.3</td>\n",
       "      <td>Liz's adoption request is finally approved, bu...</td>\n",
       "    </tr>\n",
       "    <tr>\n",
       "      <th>136</th>\n",
       "      <td>9.0</td>\n",
       "      <td>Liz is dealing with being a stay-at-home mom w...</td>\n",
       "    </tr>\n",
       "    <tr>\n",
       "      <th>137</th>\n",
       "      <td>9.0</td>\n",
       "      <td>Liz is dealing with being a stay-at-home mom w...</td>\n",
       "    </tr>\n",
       "  </tbody>\n",
       "</table>\n",
       "<p>138 rows × 2 columns</p>\n",
       "</div>"
      ],
      "text/plain": [
       "     label                                               text\n",
       "0      7.3  Liz Lemon is called upstairs to meet the new n...\n",
       "1      7.5  The crew of The Girlie Show is skeptical of ha...\n",
       "2      7.9  Jack convinces Liz to go on a date with his fr...\n",
       "3      7.5  Jack joins the writing staff during a meeting ...\n",
       "4      8.1  Jack wants to integrate product placement in \"...\n",
       "..     ...                                                ...\n",
       "133    8.3  Jack launches a plot to take over as Kabletown...\n",
       "134    7.9  Jack and Liz go to Florida, where they find ou...\n",
       "135    8.3  Liz's adoption request is finally approved, bu...\n",
       "136    9.0  Liz is dealing with being a stay-at-home mom w...\n",
       "137    9.0  Liz is dealing with being a stay-at-home mom w...\n",
       "\n",
       "[138 rows x 2 columns]"
      ]
     },
     "execution_count": 6,
     "metadata": {},
     "output_type": "execute_result"
    }
   ],
   "source": [
    "data_30r = pd.read_csv('~/Documents/nlpnn/Datasets/The Simpsons Info For Regression/30_rock_imdb.csv', engine=\"c\")\n",
    "data_30r.drop(columns=['season', 'episode_num', 'title', 'original_air_date', 'total_votes'], inplace=True)\n",
    "\n",
    "data_30r.rename(columns={'imdb_rating' : 'label', \n",
    "                     'desc' : 'text'}, \n",
    "            inplace=True)\n",
    "\n",
    "data_30r"
   ]
  },
  {
   "cell_type": "markdown",
   "id": "70909092",
   "metadata": {},
   "source": [
    "#### The Office Dataset"
   ]
  },
  {
   "cell_type": "code",
   "execution_count": 7,
   "id": "4a363038",
   "metadata": {},
   "outputs": [
    {
     "data": {
      "text/html": [
       "<div>\n",
       "<style scoped>\n",
       "    .dataframe tbody tr th:only-of-type {\n",
       "        vertical-align: middle;\n",
       "    }\n",
       "\n",
       "    .dataframe tbody tr th {\n",
       "        vertical-align: top;\n",
       "    }\n",
       "\n",
       "    .dataframe thead th {\n",
       "        text-align: right;\n",
       "    }\n",
       "</style>\n",
       "<table border=\"1\" class=\"dataframe\">\n",
       "  <thead>\n",
       "    <tr style=\"text-align: right;\">\n",
       "      <th></th>\n",
       "      <th>label</th>\n",
       "      <th>text</th>\n",
       "    </tr>\n",
       "  </thead>\n",
       "  <tbody>\n",
       "    <tr>\n",
       "      <th>0</th>\n",
       "      <td>7.5</td>\n",
       "      <td>The premiere episode introduces the boss and s...</td>\n",
       "    </tr>\n",
       "    <tr>\n",
       "      <th>1</th>\n",
       "      <td>8.3</td>\n",
       "      <td>Michael's off color remark puts a sensitivity ...</td>\n",
       "    </tr>\n",
       "    <tr>\n",
       "      <th>2</th>\n",
       "      <td>7.8</td>\n",
       "      <td>Michael leaves Dwight in charge of picking the...</td>\n",
       "    </tr>\n",
       "    <tr>\n",
       "      <th>3</th>\n",
       "      <td>8.1</td>\n",
       "      <td>Just for a laugh, Jim agrees to an alliance wi...</td>\n",
       "    </tr>\n",
       "    <tr>\n",
       "      <th>4</th>\n",
       "      <td>8.4</td>\n",
       "      <td>Michael and his staff challenge the warehouse ...</td>\n",
       "    </tr>\n",
       "    <tr>\n",
       "      <th>...</th>\n",
       "      <td>...</td>\n",
       "      <td>...</td>\n",
       "    </tr>\n",
       "    <tr>\n",
       "      <th>183</th>\n",
       "      <td>8.0</td>\n",
       "      <td>Dwight shoots Stanley with a bull tranquilizer...</td>\n",
       "    </tr>\n",
       "    <tr>\n",
       "      <th>184</th>\n",
       "      <td>8.0</td>\n",
       "      <td>The employees hold a paper airplane competitio...</td>\n",
       "    </tr>\n",
       "    <tr>\n",
       "      <th>185</th>\n",
       "      <td>9.0</td>\n",
       "      <td>Dwight becomes regional manager after Andy qui...</td>\n",
       "    </tr>\n",
       "    <tr>\n",
       "      <th>186</th>\n",
       "      <td>9.5</td>\n",
       "      <td>Dwight prepares for a marriage proposal and hi...</td>\n",
       "    </tr>\n",
       "    <tr>\n",
       "      <th>187</th>\n",
       "      <td>9.8</td>\n",
       "      <td>One year later, Dunder Mifflin employees past ...</td>\n",
       "    </tr>\n",
       "  </tbody>\n",
       "</table>\n",
       "<p>188 rows × 2 columns</p>\n",
       "</div>"
      ],
      "text/plain": [
       "     label                                               text\n",
       "0      7.5  The premiere episode introduces the boss and s...\n",
       "1      8.3  Michael's off color remark puts a sensitivity ...\n",
       "2      7.8  Michael leaves Dwight in charge of picking the...\n",
       "3      8.1  Just for a laugh, Jim agrees to an alliance wi...\n",
       "4      8.4  Michael and his staff challenge the warehouse ...\n",
       "..     ...                                                ...\n",
       "183    8.0  Dwight shoots Stanley with a bull tranquilizer...\n",
       "184    8.0  The employees hold a paper airplane competitio...\n",
       "185    9.0  Dwight becomes regional manager after Andy qui...\n",
       "186    9.5  Dwight prepares for a marriage proposal and hi...\n",
       "187    9.8  One year later, Dunder Mifflin employees past ...\n",
       "\n",
       "[188 rows x 2 columns]"
      ]
     },
     "execution_count": 7,
     "metadata": {},
     "output_type": "execute_result"
    }
   ],
   "source": [
    "data_office = pd.read_csv('~/Documents/nlpnn/Datasets/The Simpsons Info For Regression/TheOfficeIMDBPerEpisode.csv', engine=\"c\")\n",
    "data_office.drop(columns=['Season', 'Num_Votes', 'AirDate', 'Title', 'DirectedBy', 'WrittenBy'], inplace=True)\n",
    "\n",
    "data_office.rename(columns={'Rating' : 'label', \n",
    "                     'Description' : 'text'}, \n",
    "            inplace=True)\n",
    "\n",
    "data_office"
   ]
  },
  {
   "cell_type": "markdown",
   "id": "33c1e5be",
   "metadata": {},
   "source": [
    "#### Parks and Rec Dataset"
   ]
  },
  {
   "cell_type": "code",
   "execution_count": 8,
   "id": "2c6a99d4",
   "metadata": {},
   "outputs": [
    {
     "data": {
      "text/html": [
       "<div>\n",
       "<style scoped>\n",
       "    .dataframe tbody tr th:only-of-type {\n",
       "        vertical-align: middle;\n",
       "    }\n",
       "\n",
       "    .dataframe tbody tr th {\n",
       "        vertical-align: top;\n",
       "    }\n",
       "\n",
       "    .dataframe thead th {\n",
       "        text-align: right;\n",
       "    }\n",
       "</style>\n",
       "<table border=\"1\" class=\"dataframe\">\n",
       "  <thead>\n",
       "    <tr style=\"text-align: right;\">\n",
       "      <th></th>\n",
       "      <th>label</th>\n",
       "      <th>text</th>\n",
       "    </tr>\n",
       "  </thead>\n",
       "  <tbody>\n",
       "    <tr>\n",
       "      <th>0</th>\n",
       "      <td>7.0</td>\n",
       "      <td>In an attempt to beautify her town, Leslie Kno...</td>\n",
       "    </tr>\n",
       "    <tr>\n",
       "      <th>1</th>\n",
       "      <td>7.1</td>\n",
       "      <td>Leslie gets a town hall meeting to discuss her...</td>\n",
       "    </tr>\n",
       "    <tr>\n",
       "      <th>2</th>\n",
       "      <td>7.1</td>\n",
       "      <td>Leslie gets a newspaper reporter to do a story...</td>\n",
       "    </tr>\n",
       "    <tr>\n",
       "      <th>3</th>\n",
       "      <td>7.3</td>\n",
       "      <td>Leslie tries to infiltrate the boys' club of p...</td>\n",
       "    </tr>\n",
       "    <tr>\n",
       "      <th>4</th>\n",
       "      <td>7.2</td>\n",
       "      <td>At a banquet honouring her mother, Leslie trie...</td>\n",
       "    </tr>\n",
       "    <tr>\n",
       "      <th>...</th>\n",
       "      <td>...</td>\n",
       "      <td>...</td>\n",
       "    </tr>\n",
       "    <tr>\n",
       "      <th>119</th>\n",
       "      <td>8.1</td>\n",
       "      <td>During a business trip to Washington, April te...</td>\n",
       "    </tr>\n",
       "    <tr>\n",
       "      <th>120</th>\n",
       "      <td>8.4</td>\n",
       "      <td>A traditional pie-baking competition causes pr...</td>\n",
       "    </tr>\n",
       "    <tr>\n",
       "      <th>121</th>\n",
       "      <td>8.5</td>\n",
       "      <td>The last episode of Andy's TV show brings his ...</td>\n",
       "    </tr>\n",
       "    <tr>\n",
       "      <th>122</th>\n",
       "      <td>8.6</td>\n",
       "      <td>Ben has to appoint a new mayor after mayor Gun...</td>\n",
       "    </tr>\n",
       "    <tr>\n",
       "      <th>123</th>\n",
       "      <td>9.6</td>\n",
       "      <td>As the team gathers one final time before they...</td>\n",
       "    </tr>\n",
       "  </tbody>\n",
       "</table>\n",
       "<p>124 rows × 2 columns</p>\n",
       "</div>"
      ],
      "text/plain": [
       "     label                                               text\n",
       "0      7.0  In an attempt to beautify her town, Leslie Kno...\n",
       "1      7.1  Leslie gets a town hall meeting to discuss her...\n",
       "2      7.1  Leslie gets a newspaper reporter to do a story...\n",
       "3      7.3  Leslie tries to infiltrate the boys' club of p...\n",
       "4      7.2  At a banquet honouring her mother, Leslie trie...\n",
       "..     ...                                                ...\n",
       "119    8.1  During a business trip to Washington, April te...\n",
       "120    8.4  A traditional pie-baking competition causes pr...\n",
       "121    8.5  The last episode of Andy's TV show brings his ...\n",
       "122    8.6  Ben has to appoint a new mayor after mayor Gun...\n",
       "123    9.6  As the team gathers one final time before they...\n",
       "\n",
       "[124 rows x 2 columns]"
      ]
     },
     "execution_count": 8,
     "metadata": {},
     "output_type": "execute_result"
    }
   ],
   "source": [
    "data_PnR = pd.read_csv('~/Documents/nlpnn/Datasets/The Simpsons Info For Regression/parks_and_rec_imdb.csv', engine=\"c\")\n",
    "data_PnR.drop(columns=['season', 'episode_num', 'title', 'original_air_date', 'total_votes'], inplace=True)\n",
    "\n",
    "data_PnR.rename(columns={'imdb_rating' : 'label', 'desc' : 'text'}, inplace=True)\n",
    "\n",
    "data_PnR"
   ]
  },
  {
   "cell_type": "markdown",
   "id": "13189751",
   "metadata": {},
   "source": [
    "#### How I Met Your Mother Dataset"
   ]
  },
  {
   "cell_type": "code",
   "execution_count": 9,
   "id": "b8404899",
   "metadata": {},
   "outputs": [
    {
     "data": {
      "text/html": [
       "<div>\n",
       "<style scoped>\n",
       "    .dataframe tbody tr th:only-of-type {\n",
       "        vertical-align: middle;\n",
       "    }\n",
       "\n",
       "    .dataframe tbody tr th {\n",
       "        vertical-align: top;\n",
       "    }\n",
       "\n",
       "    .dataframe thead th {\n",
       "        text-align: right;\n",
       "    }\n",
       "</style>\n",
       "<table border=\"1\" class=\"dataframe\">\n",
       "  <thead>\n",
       "    <tr style=\"text-align: right;\">\n",
       "      <th></th>\n",
       "      <th>label</th>\n",
       "      <th>text</th>\n",
       "    </tr>\n",
       "  </thead>\n",
       "  <tbody>\n",
       "    <tr>\n",
       "      <th>0</th>\n",
       "      <td>8.5</td>\n",
       "      <td>It's the year 2030 and an older Ted Mosby is t...</td>\n",
       "    </tr>\n",
       "    <tr>\n",
       "      <th>1</th>\n",
       "      <td>8.2</td>\n",
       "      <td>Ted throws a party in hopes of seeing Robin ag...</td>\n",
       "    </tr>\n",
       "    <tr>\n",
       "      <th>2</th>\n",
       "      <td>8.1</td>\n",
       "      <td>Barney's plan to meet girls at the airport bac...</td>\n",
       "    </tr>\n",
       "    <tr>\n",
       "      <th>3</th>\n",
       "      <td>8.0</td>\n",
       "      <td>Ted reconnects with an old flame and soon reme...</td>\n",
       "    </tr>\n",
       "    <tr>\n",
       "      <th>4</th>\n",
       "      <td>8.3</td>\n",
       "      <td>Robin, Ted, and Barney go to a hot new club, l...</td>\n",
       "    </tr>\n",
       "    <tr>\n",
       "      <th>...</th>\n",
       "      <td>...</td>\n",
       "      <td>...</td>\n",
       "    </tr>\n",
       "    <tr>\n",
       "      <th>203</th>\n",
       "      <td>8.5</td>\n",
       "      <td>The guys try to figure out where Lily went aft...</td>\n",
       "    </tr>\n",
       "    <tr>\n",
       "      <th>204</th>\n",
       "      <td>8.3</td>\n",
       "      <td>Ted wants to get a wedding guest he especially...</td>\n",
       "    </tr>\n",
       "    <tr>\n",
       "      <th>205</th>\n",
       "      <td>8.9</td>\n",
       "      <td>With only half an hour to go, both Barney and ...</td>\n",
       "    </tr>\n",
       "    <tr>\n",
       "      <th>206</th>\n",
       "      <td>6.7</td>\n",
       "      <td>After Barney and Robin's wedding, Ted builds u...</td>\n",
       "    </tr>\n",
       "    <tr>\n",
       "      <th>207</th>\n",
       "      <td>5.5</td>\n",
       "      <td>As the years go on, changes cause the group to...</td>\n",
       "    </tr>\n",
       "  </tbody>\n",
       "</table>\n",
       "<p>208 rows × 2 columns</p>\n",
       "</div>"
      ],
      "text/plain": [
       "     label                                               text\n",
       "0      8.5  It's the year 2030 and an older Ted Mosby is t...\n",
       "1      8.2  Ted throws a party in hopes of seeing Robin ag...\n",
       "2      8.1  Barney's plan to meet girls at the airport bac...\n",
       "3      8.0  Ted reconnects with an old flame and soon reme...\n",
       "4      8.3  Robin, Ted, and Barney go to a hot new club, l...\n",
       "..     ...                                                ...\n",
       "203    8.5  The guys try to figure out where Lily went aft...\n",
       "204    8.3  Ted wants to get a wedding guest he especially...\n",
       "205    8.9  With only half an hour to go, both Barney and ...\n",
       "206    6.7  After Barney and Robin's wedding, Ted builds u...\n",
       "207    5.5  As the years go on, changes cause the group to...\n",
       "\n",
       "[208 rows x 2 columns]"
      ]
     },
     "execution_count": 9,
     "metadata": {},
     "output_type": "execute_result"
    }
   ],
   "source": [
    "data_himym = pd.read_csv('~/Documents/nlpnn/Datasets/The Simpsons Info For Regression/himym_imdb.csv', engine=\"c\")\n",
    "data_himym.drop(columns=['season', 'episode_num', 'title', 'original_air_date', 'total_votes'], inplace=True)\n",
    "\n",
    "data_himym.rename(columns={'imdb_rating' : 'label', \n",
    "                     'desc' : 'text'}, \n",
    "            inplace=True)\n",
    "\n",
    "data_himym"
   ]
  },
  {
   "cell_type": "markdown",
   "id": "3894e6c2",
   "metadata": {},
   "source": [
    "#### Community Dataset"
   ]
  },
  {
   "cell_type": "code",
   "execution_count": 10,
   "id": "04b23a5a",
   "metadata": {},
   "outputs": [
    {
     "data": {
      "text/html": [
       "<div>\n",
       "<style scoped>\n",
       "    .dataframe tbody tr th:only-of-type {\n",
       "        vertical-align: middle;\n",
       "    }\n",
       "\n",
       "    .dataframe tbody tr th {\n",
       "        vertical-align: top;\n",
       "    }\n",
       "\n",
       "    .dataframe thead th {\n",
       "        text-align: right;\n",
       "    }\n",
       "</style>\n",
       "<table border=\"1\" class=\"dataframe\">\n",
       "  <thead>\n",
       "    <tr style=\"text-align: right;\">\n",
       "      <th></th>\n",
       "      <th>label</th>\n",
       "      <th>text</th>\n",
       "    </tr>\n",
       "  </thead>\n",
       "  <tbody>\n",
       "    <tr>\n",
       "      <th>0</th>\n",
       "      <td>7.8</td>\n",
       "      <td>An ex-lawyer is forced to return to community ...</td>\n",
       "    </tr>\n",
       "    <tr>\n",
       "      <th>1</th>\n",
       "      <td>7.9</td>\n",
       "      <td>Jeff takes steps to ensure that Brita will be ...</td>\n",
       "    </tr>\n",
       "    <tr>\n",
       "      <th>2</th>\n",
       "      <td>8.3</td>\n",
       "      <td>Brita comes between Abed and his father when s...</td>\n",
       "    </tr>\n",
       "    <tr>\n",
       "      <th>3</th>\n",
       "      <td>8.2</td>\n",
       "      <td>Jeff and Shirley bond by making fun of Britta'...</td>\n",
       "    </tr>\n",
       "    <tr>\n",
       "      <th>4</th>\n",
       "      <td>7.9</td>\n",
       "      <td>Señor Chang is on the hunt for a cheater and t...</td>\n",
       "    </tr>\n",
       "    <tr>\n",
       "      <th>...</th>\n",
       "      <td>...</td>\n",
       "      <td>...</td>\n",
       "    </tr>\n",
       "    <tr>\n",
       "      <th>105</th>\n",
       "      <td>7.8</td>\n",
       "      <td>When a clever clever con man, Professor DeSalv...</td>\n",
       "    </tr>\n",
       "    <tr>\n",
       "      <th>106</th>\n",
       "      <td>7.6</td>\n",
       "      <td>While on a road trip to get rid of a Greendale...</td>\n",
       "    </tr>\n",
       "    <tr>\n",
       "      <th>107</th>\n",
       "      <td>9.0</td>\n",
       "      <td>When a secret game of paintball occurs on camp...</td>\n",
       "    </tr>\n",
       "    <tr>\n",
       "      <th>108</th>\n",
       "      <td>8.6</td>\n",
       "      <td>A marriage proposal in Jeff's law class expose...</td>\n",
       "    </tr>\n",
       "    <tr>\n",
       "      <th>109</th>\n",
       "      <td>9.6</td>\n",
       "      <td>As their sixth year at Greendale draws to a cl...</td>\n",
       "    </tr>\n",
       "  </tbody>\n",
       "</table>\n",
       "<p>110 rows × 2 columns</p>\n",
       "</div>"
      ],
      "text/plain": [
       "     label                                               text\n",
       "0      7.8  An ex-lawyer is forced to return to community ...\n",
       "1      7.9  Jeff takes steps to ensure that Brita will be ...\n",
       "2      8.3  Brita comes between Abed and his father when s...\n",
       "3      8.2  Jeff and Shirley bond by making fun of Britta'...\n",
       "4      7.9  Señor Chang is on the hunt for a cheater and t...\n",
       "..     ...                                                ...\n",
       "105    7.8  When a clever clever con man, Professor DeSalv...\n",
       "106    7.6  While on a road trip to get rid of a Greendale...\n",
       "107    9.0  When a secret game of paintball occurs on camp...\n",
       "108    8.6  A marriage proposal in Jeff's law class expose...\n",
       "109    9.6  As their sixth year at Greendale draws to a cl...\n",
       "\n",
       "[110 rows x 2 columns]"
      ]
     },
     "execution_count": 10,
     "metadata": {},
     "output_type": "execute_result"
    }
   ],
   "source": [
    "data_comm = pd.read_csv('~/Documents/nlpnn/Datasets/The Simpsons Info For Regression/Community_Episodes_IMDb_Ratings.csv', engine=\"c\")\n",
    "data_comm.drop(columns=['season', 'episode_number', 'title', 'airdate', 'total_votes'], inplace=True)\n",
    "\n",
    "data_comm.rename(columns={'rating' : 'label', \n",
    "                     'desc' : 'text'}, \n",
    "            inplace=True)\n",
    "\n",
    "data_comm"
   ]
  },
  {
   "cell_type": "markdown",
   "id": "e5e1442c",
   "metadata": {},
   "source": [
    "#### Modern Family"
   ]
  },
  {
   "cell_type": "code",
   "execution_count": 11,
   "id": "49732b23",
   "metadata": {},
   "outputs": [
    {
     "data": {
      "text/html": [
       "<div>\n",
       "<style scoped>\n",
       "    .dataframe tbody tr th:only-of-type {\n",
       "        vertical-align: middle;\n",
       "    }\n",
       "\n",
       "    .dataframe tbody tr th {\n",
       "        vertical-align: top;\n",
       "    }\n",
       "\n",
       "    .dataframe thead th {\n",
       "        text-align: right;\n",
       "    }\n",
       "</style>\n",
       "<table border=\"1\" class=\"dataframe\">\n",
       "  <thead>\n",
       "    <tr style=\"text-align: right;\">\n",
       "      <th></th>\n",
       "      <th>label</th>\n",
       "      <th>text</th>\n",
       "    </tr>\n",
       "  </thead>\n",
       "  <tbody>\n",
       "    <tr>\n",
       "      <th>0</th>\n",
       "      <td>8.2</td>\n",
       "      <td>Jay must adapt to his young new wife, Gloria a...</td>\n",
       "    </tr>\n",
       "    <tr>\n",
       "      <th>1</th>\n",
       "      <td>8.1</td>\n",
       "      <td>After buying a new bike for his son, Phil ends...</td>\n",
       "    </tr>\n",
       "    <tr>\n",
       "      <th>2</th>\n",
       "      <td>8.0</td>\n",
       "      <td>Jay takes Phil on a model-airplane excursion w...</td>\n",
       "    </tr>\n",
       "    <tr>\n",
       "      <th>3</th>\n",
       "      <td>8.2</td>\n",
       "      <td>Jay's ex-wife shows up for the first time foll...</td>\n",
       "    </tr>\n",
       "    <tr>\n",
       "      <th>4</th>\n",
       "      <td>8.3</td>\n",
       "      <td>A conflict between Manny and Luke spreads to t...</td>\n",
       "    </tr>\n",
       "    <tr>\n",
       "      <th>...</th>\n",
       "      <td>...</td>\n",
       "      <td>...</td>\n",
       "    </tr>\n",
       "    <tr>\n",
       "      <th>245</th>\n",
       "      <td>7.6</td>\n",
       "      <td>Phil and Claire take Haley and Dylan to dinner...</td>\n",
       "    </tr>\n",
       "    <tr>\n",
       "      <th>246</th>\n",
       "      <td>7.2</td>\n",
       "      <td>Claire lands an interview for her dream job bu...</td>\n",
       "    </tr>\n",
       "    <tr>\n",
       "      <th>247</th>\n",
       "      <td>7.3</td>\n",
       "      <td>Mitchell is having a hard time letting go of h...</td>\n",
       "    </tr>\n",
       "    <tr>\n",
       "      <th>248</th>\n",
       "      <td>8.3</td>\n",
       "      <td>Mitchell and Cam settle into their new normal;...</td>\n",
       "    </tr>\n",
       "    <tr>\n",
       "      <th>249</th>\n",
       "      <td>8.6</td>\n",
       "      <td>Phil and Claire tell their kids that one of th...</td>\n",
       "    </tr>\n",
       "  </tbody>\n",
       "</table>\n",
       "<p>250 rows × 2 columns</p>\n",
       "</div>"
      ],
      "text/plain": [
       "     label                                               text\n",
       "0      8.2  Jay must adapt to his young new wife, Gloria a...\n",
       "1      8.1  After buying a new bike for his son, Phil ends...\n",
       "2      8.0  Jay takes Phil on a model-airplane excursion w...\n",
       "3      8.2  Jay's ex-wife shows up for the first time foll...\n",
       "4      8.3  A conflict between Manny and Luke spreads to t...\n",
       "..     ...                                                ...\n",
       "245    7.6  Phil and Claire take Haley and Dylan to dinner...\n",
       "246    7.2  Claire lands an interview for her dream job bu...\n",
       "247    7.3  Mitchell is having a hard time letting go of h...\n",
       "248    8.3  Mitchell and Cam settle into their new normal;...\n",
       "249    8.6  Phil and Claire tell their kids that one of th...\n",
       "\n",
       "[250 rows x 2 columns]"
      ]
     },
     "execution_count": 11,
     "metadata": {},
     "output_type": "execute_result"
    }
   ],
   "source": [
    "data_mod_fam = pd.read_csv('~/Documents/nlpnn/Datasets/The Simpsons Info For Regression/modern_family_info.csv', engine=\"c\")\n",
    "data_mod_fam.drop(columns=['Season-Episode', 'Title', 'Airdate', 'Total Votes', 'Image Link'], inplace=True)\n",
    "\n",
    "data_mod_fam.rename(columns={'Rating' : 'label', \n",
    "                     'Description' : 'text'}, \n",
    "            inplace=True)\n",
    "\n",
    "data_mod_fam"
   ]
  },
  {
   "cell_type": "markdown",
   "id": "f3c75525",
   "metadata": {},
   "source": [
    "#### Many Other Datasets to Append to the Main Dataset"
   ]
  },
  {
   "cell_type": "code",
   "execution_count": 12,
   "id": "99965852",
   "metadata": {},
   "outputs": [
    {
     "name": "stdout",
     "output_type": "stream",
     "text": [
      "<class 'pandas.core.frame.DataFrame'>\n",
      "Int64Index: 1699 entries, 1 to 261\n",
      "Data columns (total 2 columns):\n",
      " #   Column  Non-Null Count  Dtype  \n",
      "---  ------  --------------  -----  \n",
      " 0   label   1699 non-null   float64\n",
      " 1   text    1699 non-null   object \n",
      "dtypes: float64(1), object(1)\n",
      "memory usage: 39.8+ KB\n"
     ]
    },
    {
     "data": {
      "text/html": [
       "<div>\n",
       "<style scoped>\n",
       "    .dataframe tbody tr th:only-of-type {\n",
       "        vertical-align: middle;\n",
       "    }\n",
       "\n",
       "    .dataframe tbody tr th {\n",
       "        vertical-align: top;\n",
       "    }\n",
       "\n",
       "    .dataframe thead th {\n",
       "        text-align: right;\n",
       "    }\n",
       "</style>\n",
       "<table border=\"1\" class=\"dataframe\">\n",
       "  <thead>\n",
       "    <tr style=\"text-align: right;\">\n",
       "      <th></th>\n",
       "      <th>label</th>\n",
       "      <th>text</th>\n",
       "    </tr>\n",
       "  </thead>\n",
       "  <tbody>\n",
       "    <tr>\n",
       "      <th>1</th>\n",
       "      <td>7.7</td>\n",
       "      <td>Death Has a Shaddow : After drinking too much ...</td>\n",
       "    </tr>\n",
       "    <tr>\n",
       "      <th>2</th>\n",
       "      <td>7.5</td>\n",
       "      <td>I Never Met the Dead Man : Peter goes into sho...</td>\n",
       "    </tr>\n",
       "    <tr>\n",
       "      <th>3</th>\n",
       "      <td>7.6</td>\n",
       "      <td>Chitty Chitty Death Bang : Peter tries to make...</td>\n",
       "    </tr>\n",
       "    <tr>\n",
       "      <th>4</th>\n",
       "      <td>7.4</td>\n",
       "      <td>Mind Over Murder : Under house arrest, Peter t...</td>\n",
       "    </tr>\n",
       "    <tr>\n",
       "      <th>5</th>\n",
       "      <td>7.4</td>\n",
       "      <td>A Hero Sits Next Door : Peter becomes very jea...</td>\n",
       "    </tr>\n",
       "  </tbody>\n",
       "</table>\n",
       "</div>"
      ],
      "text/plain": [
       "   label                                               text\n",
       "1    7.7  Death Has a Shaddow : After drinking too much ...\n",
       "2    7.5  I Never Met the Dead Man : Peter goes into sho...\n",
       "3    7.6  Chitty Chitty Death Bang : Peter tries to make...\n",
       "4    7.4  Mind Over Murder : Under house arrest, Peter t...\n",
       "5    7.4  A Hero Sits Next Door : Peter becomes very jea..."
      ]
     },
     "execution_count": 12,
     "metadata": {},
     "output_type": "execute_result"
    }
   ],
   "source": [
    "# Add the newer files to the dataset, including: 'Two & a Half Men', 'Young Sheldon', & 'It's Always Sunny in Philadelphia'\n",
    "\n",
    "newer_data = pd.DataFrame()\n",
    "\n",
    "for x in range(0,3):\n",
    "    temp_df = pd.read_excel('~/Documents/nlpnn/Datasets/The Simpsons Info For Regression/tv_show_reviews.xlsx', sheet_name=x, names=['rating', 'title', 'review'])\n",
    "    newer_data = pd.concat([temp_df, newer_data])\n",
    "\n",
    "for x in range(0,2):\n",
    "    temp_df = pd.read_excel('~/Documents/nlpnn/Datasets/The Simpsons Info For Regression/show_descriptions_ratings.xlsx', sheet_name=x, names=['rating', 'title', 'review'])\n",
    "    newer_data = pd.concat([temp_df, newer_data])\n",
    "\n",
    "for x in range(0,2):\n",
    "    temp_df = pd.read_excel('~/Documents/nlpnn/Datasets/The Simpsons Info For Regression/tv_shows_2.xlsx', sheet_name=x, names=['rating', 'title', 'review'])\n",
    "    newer_data = pd.concat([temp_df, newer_data])\n",
    "\n",
    "newer_data['text'] = newer_data['title'].astype(str) + ' : ' + newer_data['review']\n",
    "\n",
    "newer_data.drop(columns=['title', 'review'], inplace=True)\n",
    "newer_data.rename(columns={'rating' : 'label'}, inplace=True)\n",
    "\n",
    "newer_data = newer_data[~newer_data['label'].str.contains(\"[a-zA-Z]\").fillna(False)]\n",
    "\n",
    "newer_data['label'] = newer_data['label'].astype(float)\n",
    "\n",
    "newer_data.info()\n",
    "newer_data.head()"
   ]
  },
  {
   "cell_type": "markdown",
   "id": "3a4f2a21",
   "metadata": {},
   "source": [
    "#### Merge All Datasets"
   ]
  },
  {
   "cell_type": "code",
   "execution_count": 13,
   "id": "3fd75bc7",
   "metadata": {},
   "outputs": [
    {
     "data": {
      "text/html": [
       "<div>\n",
       "<style scoped>\n",
       "    .dataframe tbody tr th:only-of-type {\n",
       "        vertical-align: middle;\n",
       "    }\n",
       "\n",
       "    .dataframe tbody tr th {\n",
       "        vertical-align: top;\n",
       "    }\n",
       "\n",
       "    .dataframe thead th {\n",
       "        text-align: right;\n",
       "    }\n",
       "</style>\n",
       "<table border=\"1\" class=\"dataframe\">\n",
       "  <thead>\n",
       "    <tr style=\"text-align: right;\">\n",
       "      <th></th>\n",
       "      <th>label</th>\n",
       "      <th>text</th>\n",
       "    </tr>\n",
       "  </thead>\n",
       "  <tbody>\n",
       "    <tr>\n",
       "      <th>0</th>\n",
       "      <td>8.2</td>\n",
       "      <td>Homer is forced to become a department store S...</td>\n",
       "    </tr>\n",
       "    <tr>\n",
       "      <th>1</th>\n",
       "      <td>7.7</td>\n",
       "      <td>Bart ends up at a school for gifted children a...</td>\n",
       "    </tr>\n",
       "    <tr>\n",
       "      <th>2</th>\n",
       "      <td>7.4</td>\n",
       "      <td>After losing his job, Homer contemplates endin...</td>\n",
       "    </tr>\n",
       "    <tr>\n",
       "      <th>3</th>\n",
       "      <td>7.7</td>\n",
       "      <td>After being embarrassed by the rest of the fam...</td>\n",
       "    </tr>\n",
       "    <tr>\n",
       "      <th>4</th>\n",
       "      <td>8.0</td>\n",
       "      <td>After being beaten up by Nelson Muntz one too ...</td>\n",
       "    </tr>\n",
       "    <tr>\n",
       "      <th>...</th>\n",
       "      <td>...</td>\n",
       "      <td>...</td>\n",
       "    </tr>\n",
       "    <tr>\n",
       "      <th>257</th>\n",
       "      <td>5.6</td>\n",
       "      <td>For Whom the Booty Calls : When Walden joins a...</td>\n",
       "    </tr>\n",
       "    <tr>\n",
       "      <th>258</th>\n",
       "      <td>5.9</td>\n",
       "      <td>A Beer-Battered Rip-Off : Walden worries that ...</td>\n",
       "    </tr>\n",
       "    <tr>\n",
       "      <th>259</th>\n",
       "      <td>5.7</td>\n",
       "      <td>Boompa Loved His Hookers : Walden discovers th...</td>\n",
       "    </tr>\n",
       "    <tr>\n",
       "      <th>260</th>\n",
       "      <td>5.7</td>\n",
       "      <td>Don't Give a Monkey a Gun : When their divorce...</td>\n",
       "    </tr>\n",
       "    <tr>\n",
       "      <th>261</th>\n",
       "      <td>3.9</td>\n",
       "      <td>Of Course He's Dead: Part 1 &amp; 2 : Alan begins ...</td>\n",
       "    </tr>\n",
       "  </tbody>\n",
       "</table>\n",
       "<p>4008 rows × 2 columns</p>\n",
       "</div>"
      ],
      "text/plain": [
       "     label                                               text\n",
       "0      8.2  Homer is forced to become a department store S...\n",
       "1      7.7  Bart ends up at a school for gifted children a...\n",
       "2      7.4  After losing his job, Homer contemplates endin...\n",
       "3      7.7  After being embarrassed by the rest of the fam...\n",
       "4      8.0  After being beaten up by Nelson Muntz one too ...\n",
       "..     ...                                                ...\n",
       "257    5.6  For Whom the Booty Calls : When Walden joins a...\n",
       "258    5.9  A Beer-Battered Rip-Off : Walden worries that ...\n",
       "259    5.7  Boompa Loved His Hookers : Walden discovers th...\n",
       "260    5.7  Don't Give a Monkey a Gun : When their divorce...\n",
       "261    3.9  Of Course He's Dead: Part 1 & 2 : Alan begins ...\n",
       "\n",
       "[4008 rows x 2 columns]"
      ]
     },
     "execution_count": 13,
     "metadata": {},
     "output_type": "execute_result"
    }
   ],
   "source": [
    "df_to_concat = [data_sim, data_bnn, data_sein, data_tbbt, data_30r, data_office, data_PnR, data_himym, data_comm, data_mod_fam, newer_data]\n",
    "\n",
    "data = pd.concat(df_to_concat)\n",
    "data"
   ]
  },
  {
   "cell_type": "markdown",
   "id": "0f372f4c",
   "metadata": {},
   "source": [
    "#### Visualize Distribution of Scores"
   ]
  },
  {
   "cell_type": "code",
   "execution_count": 14,
   "id": "ff001fa1",
   "metadata": {},
   "outputs": [
    {
     "data": {
      "image/png": "[encoded data removed]",
      "text/plain": [
       "<Figure size 1296x576 with 1 Axes>"
      ]
     },
     "metadata": {
      "needs_background": "light"
     },
     "output_type": "display_data"
    }
   ],
   "source": [
    "data['IMDb Ratings'] = data[\"label\"]\n",
    "data.hist(\"IMDb Ratings\", color=\"Blue\", grid=False, bins=61, range=(3.9,10), figsize=(18,8))\n",
    "plt.suptitle('')\n",
    "plt.xlabel('')\n",
    "plt.ylabel('# of Ratings (to Nearest One-Tenth')\n",
    "plt.show()"
   ]
  },
  {
   "cell_type": "markdown",
   "id": "c6f699e6",
   "metadata": {},
   "source": [
    "#### Visualize Distribution of Message Length"
   ]
  },
  {
   "cell_type": "code",
   "execution_count": 15,
   "id": "a43c1696",
   "metadata": {},
   "outputs": [
    {
     "data": {
      "image/png": "[encoded data removed]",
      "text/plain": [
       "<Figure size 1296x576 with 1 Axes>"
      ]
     },
     "metadata": {
      "needs_background": "light"
     },
     "output_type": "display_data"
    }
   ],
   "source": [
    "data['Description Length'] = data['text'].str.split().apply(len)\n",
    "\n",
    "n=120\n",
    "data.hist(\"Description Length\", color=\"Blue\", grid=False, bins=n, range=(0,n), figsize=(18,8))\n",
    "plt.suptitle('')\n",
    "plt.xlabel('')\n",
    "plt.ylabel('Words / Description')\n",
    "plt.show()"
   ]
  },
  {
   "cell_type": "markdown",
   "id": "93a8f30d",
   "metadata": {},
   "source": [
    "#### Remove Unnecessary Features"
   ]
  },
  {
   "cell_type": "code",
   "execution_count": 16,
   "id": "9f6a0768",
   "metadata": {},
   "outputs": [
    {
     "name": "stdout",
     "output_type": "stream",
     "text": [
      "<class 'pandas.core.frame.DataFrame'>\n",
      "RangeIndex: 4008 entries, 0 to 4007\n",
      "Data columns (total 2 columns):\n",
      " #   Column  Non-Null Count  Dtype  \n",
      "---  ------  --------------  -----  \n",
      " 0   label   4008 non-null   float64\n",
      " 1   text    4008 non-null   object \n",
      "dtypes: float64(1), object(1)\n",
      "memory usage: 62.8+ KB\n"
     ]
    }
   ],
   "source": [
    "data = data[data['Description Length'] < 120]\n",
    "\n",
    "data = data.drop(columns=['Description Length', 'IMDb Ratings']).reset_index(drop=True)\n",
    "data.info()"
   ]
  },
  {
   "cell_type": "markdown",
   "id": "4cbb7270",
   "metadata": {},
   "source": [
    "### Actual Project"
   ]
  },
  {
   "cell_type": "markdown",
   "id": "62372620",
   "metadata": {},
   "source": [
    "#### Convert Pandas DataFrame to Datasets"
   ]
  },
  {
   "cell_type": "code",
   "execution_count": 17,
   "id": "21393e16",
   "metadata": {},
   "outputs": [],
   "source": [
    "dataset = Dataset.from_pandas(data)"
   ]
  },
  {
   "cell_type": "markdown",
   "id": "ffbe2526",
   "metadata": {},
   "source": [
    "#### Split into Train/Test/Validate Datasets & Combine into DatasetDict"
   ]
  },
  {
   "cell_type": "code",
   "execution_count": 18,
   "id": "2ddcc257",
   "metadata": {},
   "outputs": [
    {
     "name": "stdout",
     "output_type": "stream",
     "text": [
      "Training data shape: (3206, 2)\n",
      "Testing data shape: (401, 2)\n",
      "Eval data shape: (401, 2)\n"
     ]
    }
   ],
   "source": [
    "train_testvalid = dataset.train_test_split(test_size=0.20)\n",
    "test_valid = train_testvalid['test'].train_test_split(test_size=0.50)\n",
    "\n",
    "ds = DatasetDict({\n",
    "    'train' : train_testvalid['train'],\n",
    "    'test' : test_valid['test'],\n",
    "    'eval' : test_valid['train']\n",
    "})\n",
    "\n",
    "print('Training data shape:', ds['train'].shape)\n",
    "print('Testing data shape:', ds['test'].shape)\n",
    "print('Eval data shape:', ds['eval'].shape)"
   ]
  },
  {
   "cell_type": "markdown",
   "id": "a8e6121e",
   "metadata": {},
   "source": [
    "#### Basic Values"
   ]
  },
  {
   "cell_type": "code",
   "execution_count": 19,
   "id": "cf6efed0",
   "metadata": {},
   "outputs": [],
   "source": [
    "num_of_epochs = 25\n",
    "max_input_len = int(round(120*1.3, 0))\n",
    "model_ckpt = \"distilbert-base-uncased\"\n",
    "device = \"cpu\"\n",
    "num_labels = 1\n",
    "BATCH_SIZE=64\n",
    "model_name = f\"{model_ckpt}-Regression-Simpsons_Plus_Others\"\n",
    "learning_rate=2e-5\n",
    "set_seed(42)"
   ]
  },
  {
   "cell_type": "markdown",
   "id": "ab27ec69",
   "metadata": {},
   "source": [
    "#### HuggingFace Access Token & Install git lfs "
   ]
  },
  {
   "cell_type": "code",
   "execution_count": 20,
   "id": "1fb487f1",
   "metadata": {},
   "outputs": [
    {
     "name": "stdout",
     "output_type": "stream",
     "text": [
      "Git LFS initialized.\n"
     ]
    }
   ],
   "source": [
    "# HuggingFace Access Token ... \n",
    "\n",
    "!git lfs install"
   ]
  },
  {
   "cell_type": "markdown",
   "id": "54187dcd",
   "metadata": {},
   "source": [
    "#### Tokenize Whole Dataset"
   ]
  },
  {
   "cell_type": "code",
   "execution_count": 21,
   "id": "c41a9840",
   "metadata": {},
   "outputs": [
    {
     "data": {
      "application/vnd.jupyter.widget-view+json": {
       "model_id": "aba2ffd55c764045ab6f3ea9b493f8db",
       "version_major": 2,
       "version_minor": 0
      },
      "text/plain": [
       "  0%|          | 0/1 [00:00<?, ?ba/s]"
      ]
     },
     "metadata": {},
     "output_type": "display_data"
    },
    {
     "data": {
      "application/vnd.jupyter.widget-view+json": {
       "model_id": "ac9becd0f4374c26aa0a6362f08a099d",
       "version_major": 2,
       "version_minor": 0
      },
      "text/plain": [
       "  0%|          | 0/1 [00:00<?, ?ba/s]"
      ]
     },
     "metadata": {},
     "output_type": "display_data"
    },
    {
     "data": {
      "application/vnd.jupyter.widget-view+json": {
       "model_id": "abd3eb7673544beb974dcd35c59b7370",
       "version_major": 2,
       "version_minor": 0
      },
      "text/plain": [
       "  0%|          | 0/1 [00:00<?, ?ba/s]"
      ]
     },
     "metadata": {},
     "output_type": "display_data"
    }
   ],
   "source": [
    "tokenizer = AutoTokenizer.from_pretrained(model_ckpt)\n",
    "\n",
    "def tokenize(batch):\n",
    "    return tokenizer(batch['text'], truncation=True, padding=True, max_length=max_input_len, return_tensors=\"np\")\n",
    "\n",
    "encoded_ds = ds.map(tokenize, batched=True, batch_size=None)"
   ]
  },
  {
   "cell_type": "markdown",
   "id": "553bb5c9",
   "metadata": {},
   "source": [
    "#### Print Example to Ensure Edits Worked as Expected"
   ]
  },
  {
   "cell_type": "code",
   "execution_count": 22,
   "id": "6a02515e",
   "metadata": {},
   "outputs": [
    {
     "name": "stdout",
     "output_type": "stream",
     "text": [
      "{'label': Value(dtype='float64', id=None), 'text': Value(dtype='string', id=None), 'input_ids': Sequence(feature=Value(dtype='int32', id=None), length=-1, id=None), 'attention_mask': Sequence(feature=Value(dtype='int8', id=None), length=-1, id=None)}\n",
      "Dataset({\n",
      "    features: ['label', 'text', 'input_ids', 'attention_mask'],\n",
      "    num_rows: 3206\n",
      "})\n"
     ]
    }
   ],
   "source": [
    "print(encoded_ds['train'].features)\n",
    "print(encoded_ds['train'])"
   ]
  },
  {
   "cell_type": "markdown",
   "id": "879e7fd8",
   "metadata": {},
   "source": [
    "#### Initialize Model"
   ]
  },
  {
   "cell_type": "code",
   "execution_count": 23,
   "id": "bda2bb12",
   "metadata": {},
   "outputs": [
    {
     "name": "stderr",
     "output_type": "stream",
     "text": [
      "Some weights of the model checkpoint at distilbert-base-uncased were not used when initializing DistilBertForSequenceClassification: ['vocab_projector.weight', 'vocab_layer_norm.bias', 'vocab_layer_norm.weight', 'vocab_transform.bias', 'vocab_transform.weight', 'vocab_projector.bias']\n",
      "- This IS expected if you are initializing DistilBertForSequenceClassification from the checkpoint of a model trained on another task or with another architecture (e.g. initializing a BertForSequenceClassification model from a BertForPreTraining model).\n",
      "- This IS NOT expected if you are initializing DistilBertForSequenceClassification from the checkpoint of a model that you expect to be exactly identical (initializing a BertForSequenceClassification model from a BertForSequenceClassification model).\n",
      "Some weights of DistilBertForSequenceClassification were not initialized from the model checkpoint at distilbert-base-uncased and are newly initialized: ['classifier.bias', 'pre_classifier.bias', 'classifier.weight', 'pre_classifier.weight']\n",
      "You should probably TRAIN this model on a down-stream task to be able to use it for predictions and inference.\n"
     ]
    }
   ],
   "source": [
    "model = (AutoModelForSequenceClassification.from_pretrained(model_ckpt, num_labels=num_labels)).to(device)"
   ]
  },
  {
   "cell_type": "markdown",
   "id": "5b4af8d7",
   "metadata": {},
   "source": [
    "#### Metrics Evaluation Function"
   ]
  },
  {
   "cell_type": "code",
   "execution_count": 24,
   "id": "f032424d",
   "metadata": {},
   "outputs": [],
   "source": [
    "def compute_metrics_for_regression(eval_pred):\n",
    "    logits, labels = eval_pred\n",
    "    labels = labels.reshape(-1, 1)\n",
    "\n",
    "    mse = mean_squared_error(labels, logits)\n",
    "    rmse = mean_squared_error(labels, logits, squared=False)\n",
    "    mae = mean_absolute_error(labels, logits)\n",
    "        \n",
    "    return {\"mse\": mse, \"rmse\": rmse, \"mae\": mae}"
   ]
  },
  {
   "cell_type": "markdown",
   "id": "08334475",
   "metadata": {},
   "source": [
    "#### Trainer Arguments"
   ]
  },
  {
   "cell_type": "code",
   "execution_count": 25,
   "id": "0358228f",
   "metadata": {},
   "outputs": [],
   "source": [
    "training_args = TrainingArguments(output_dir=model_name, \n",
    "                                  num_train_epochs=num_of_epochs, \n",
    "                                  per_device_train_batch_size=BATCH_SIZE, \n",
    "                                  per_device_eval_batch_size=BATCH_SIZE, \n",
    "                                  weight_decay=0.01,\n",
    "                                  learning_rate=learning_rate,\n",
    "                                  evaluation_strategy='epoch',\n",
    "                                  save_total_limit=35,\n",
    "                                  logging_strategy='epoch',\n",
    "                                  load_best_model_at_end=True,\n",
    "                                  metric_for_best_model='mae',\n",
    "                                  greater_is_better=False,\n",
    "                                  save_strategy='epoch',\n",
    "                                  push_to_hub=True)"
   ]
  },
  {
   "cell_type": "markdown",
   "id": "191fe09e",
   "metadata": {},
   "source": [
    "#### Build Trainer"
   ]
  },
  {
   "cell_type": "code",
   "execution_count": 26,
   "id": "3551a802",
   "metadata": {},
   "outputs": [
    {
     "name": "stderr",
     "output_type": "stream",
     "text": [
      "Cloning https://huggingface.co/DunnBC22/distilbert-base-uncased-Regression-Simpsons_Plus_Others into local empty directory.\n"
     ]
    }
   ],
   "source": [
    "trainer = Trainer(model=model, \n",
    "                  args=training_args, \n",
    "                  train_dataset=encoded_ds['train'], \n",
    "                  eval_dataset=encoded_ds['eval'],\n",
    "                  tokenizer=tokenizer,\n",
    "                  compute_metrics=compute_metrics_for_regression)"
   ]
  },
  {
   "cell_type": "markdown",
   "id": "cc60f187",
   "metadata": {},
   "source": [
    "#### Train Trainer"
   ]
  },
  {
   "cell_type": "code",
   "execution_count": 27,
   "id": "a0e50f1c",
   "metadata": {},
   "outputs": [
    {
     "name": "stderr",
     "output_type": "stream",
     "text": [
      "The following columns in the training set don't have a corresponding argument in `DistilBertForSequenceClassification.forward` and have been ignored: text. If text are not expected by `DistilBertForSequenceClassification.forward`,  you can safely ignore this message.\n",
      "/Users/briandunn/Documents/nlpnn/nlp_ch4/lib/python3.9/site-packages/transformers/optimization.py:306: FutureWarning: This implementation of AdamW is deprecated and will be removed in a future version. Use the PyTorch implementation torch.optim.AdamW instead, or set `no_deprecation_warning=True` to disable this warning\n",
      "  warnings.warn(\n",
      "***** Running training *****\n",
      "  Num examples = 3206\n",
      "  Num Epochs = 25\n",
      "  Instantaneous batch size per device = 64\n",
      "  Total train batch size (w. parallel, distributed & accumulation) = 64\n",
      "  Gradient Accumulation steps = 1\n",
      "  Total optimization steps = 1275\n"
     ]
    },
    {
     "data": {
      "application/vnd.jupyter.widget-view+json": {
       "model_id": "78a6311008024148843df7beefb6c73f",
       "version_major": 2,
       "version_minor": 0
      },
      "text/plain": [
       "  0%|          | 0/1275 [00:00<?, ?it/s]"
      ]
     },
     "metadata": {},
     "output_type": "display_data"
    },
    {
     "name": "stderr",
     "output_type": "stream",
     "text": [
      "You're using a DistilBertTokenizerFast tokenizer. Please note that with a fast tokenizer, using the `__call__` method is faster than using a method to encode the text followed by a call to the `pad` method to get a padded encoding.\n",
      "The following columns in the evaluation set don't have a corresponding argument in `DistilBertForSequenceClassification.forward` and have been ignored: text. If text are not expected by `DistilBertForSequenceClassification.forward`,  you can safely ignore this message.\n",
      "***** Running Evaluation *****\n",
      "  Num examples = 401\n",
      "  Batch size = 64\n"
     ]
    },
    {
     "name": "stdout",
     "output_type": "stream",
     "text": [
      "{'loss': 29.5977, 'learning_rate': 1.9200000000000003e-05, 'epoch': 1.0}\n"
     ]
    },
    {
     "data": {
      "application/vnd.jupyter.widget-view+json": {
       "model_id": "382be865a9d14ed8846a5348720b0d96",
       "version_major": 2,
       "version_minor": 0
      },
      "text/plain": [
       "  0%|          | 0/7 [00:00<?, ?it/s]"
      ]
     },
     "metadata": {},
     "output_type": "display_data"
    },
    {
     "name": "stderr",
     "output_type": "stream",
     "text": [
      "Saving model checkpoint to distilbert-base-uncased-Regression-Simpsons_Plus_Others/checkpoint-51\n",
      "Configuration saved in distilbert-base-uncased-Regression-Simpsons_Plus_Others/checkpoint-51/config.json\n",
      "Model weights saved in distilbert-base-uncased-Regression-Simpsons_Plus_Others/checkpoint-51/pytorch_model.bin\n",
      "tokenizer config file saved in distilbert-base-uncased-Regression-Simpsons_Plus_Others/checkpoint-51/tokenizer_config.json\n",
      "Special tokens file saved in distilbert-base-uncased-Regression-Simpsons_Plus_Others/checkpoint-51/special_tokens_map.json\n"
     ]
    },
    {
     "name": "stdout",
     "output_type": "stream",
     "text": [
      "{'eval_loss': 7.921452522277832, 'eval_mse': 7.92145299911499, 'eval_rmse': 2.814507484436035, 'eval_mae': 2.7032084465026855, 'eval_runtime': 123.0565, 'eval_samples_per_second': 3.259, 'eval_steps_per_second': 0.057, 'epoch': 1.0}\n"
     ]
    },
    {
     "name": "stderr",
     "output_type": "stream",
     "text": [
      "tokenizer config file saved in distilbert-base-uncased-Regression-Simpsons_Plus_Others/tokenizer_config.json\n",
      "Special tokens file saved in distilbert-base-uncased-Regression-Simpsons_Plus_Others/special_tokens_map.json\n",
      "The following columns in the evaluation set don't have a corresponding argument in `DistilBertForSequenceClassification.forward` and have been ignored: text. If text are not expected by `DistilBertForSequenceClassification.forward`,  you can safely ignore this message.\n",
      "***** Running Evaluation *****\n",
      "  Num examples = 401\n",
      "  Batch size = 64\n"
     ]
    },
    {
     "name": "stdout",
     "output_type": "stream",
     "text": [
      "{'loss': 4.4551, 'learning_rate': 1.8400000000000003e-05, 'epoch': 2.0}\n"
     ]
    },
    {
     "data": {
      "application/vnd.jupyter.widget-view+json": {
       "model_id": "784ac30513dc41f5b3f56a79c0b4ce4b",
       "version_major": 2,
       "version_minor": 0
      },
      "text/plain": [
       "  0%|          | 0/7 [00:00<?, ?it/s]"
      ]
     },
     "metadata": {},
     "output_type": "display_data"
    },
    {
     "name": "stderr",
     "output_type": "stream",
     "text": [
      "Saving model checkpoint to distilbert-base-uncased-Regression-Simpsons_Plus_Others/checkpoint-102\n",
      "Configuration saved in distilbert-base-uncased-Regression-Simpsons_Plus_Others/checkpoint-102/config.json\n",
      "Model weights saved in distilbert-base-uncased-Regression-Simpsons_Plus_Others/checkpoint-102/pytorch_model.bin\n",
      "tokenizer config file saved in distilbert-base-uncased-Regression-Simpsons_Plus_Others/checkpoint-102/tokenizer_config.json\n",
      "Special tokens file saved in distilbert-base-uncased-Regression-Simpsons_Plus_Others/checkpoint-102/special_tokens_map.json\n"
     ]
    },
    {
     "name": "stdout",
     "output_type": "stream",
     "text": [
      "{'eval_loss': 0.6727550625801086, 'eval_mse': 0.6727550625801086, 'eval_rmse': 0.8202164769172668, 'eval_mae': 0.6039096713066101, 'eval_runtime': 122.3561, 'eval_samples_per_second': 3.277, 'eval_steps_per_second': 0.057, 'epoch': 2.0}\n"
     ]
    },
    {
     "name": "stderr",
     "output_type": "stream",
     "text": [
      "tokenizer config file saved in distilbert-base-uncased-Regression-Simpsons_Plus_Others/tokenizer_config.json\n",
      "Special tokens file saved in distilbert-base-uncased-Regression-Simpsons_Plus_Others/special_tokens_map.json\n",
      "The following columns in the evaluation set don't have a corresponding argument in `DistilBertForSequenceClassification.forward` and have been ignored: text. If text are not expected by `DistilBertForSequenceClassification.forward`,  you can safely ignore this message.\n",
      "***** Running Evaluation *****\n",
      "  Num examples = 401\n",
      "  Batch size = 64\n"
     ]
    },
    {
     "name": "stdout",
     "output_type": "stream",
     "text": [
      "{'loss': 2.0068, 'learning_rate': 1.76e-05, 'epoch': 3.0}\n"
     ]
    },
    {
     "data": {
      "application/vnd.jupyter.widget-view+json": {
       "model_id": "40a8ba1fa3b54c289eb999ae16f022b3",
       "version_major": 2,
       "version_minor": 0
      },
      "text/plain": [
       "  0%|          | 0/7 [00:00<?, ?it/s]"
      ]
     },
     "metadata": {},
     "output_type": "display_data"
    },
    {
     "name": "stderr",
     "output_type": "stream",
     "text": [
      "Saving model checkpoint to distilbert-base-uncased-Regression-Simpsons_Plus_Others/checkpoint-153\n",
      "Configuration saved in distilbert-base-uncased-Regression-Simpsons_Plus_Others/checkpoint-153/config.json\n",
      "Model weights saved in distilbert-base-uncased-Regression-Simpsons_Plus_Others/checkpoint-153/pytorch_model.bin\n",
      "tokenizer config file saved in distilbert-base-uncased-Regression-Simpsons_Plus_Others/checkpoint-153/tokenizer_config.json\n",
      "Special tokens file saved in distilbert-base-uncased-Regression-Simpsons_Plus_Others/checkpoint-153/special_tokens_map.json\n"
     ]
    },
    {
     "name": "stdout",
     "output_type": "stream",
     "text": [
      "{'eval_loss': 0.6033853888511658, 'eval_mse': 0.6033853888511658, 'eval_rmse': 0.7767788767814636, 'eval_mae': 0.5881670117378235, 'eval_runtime': 121.9023, 'eval_samples_per_second': 3.29, 'eval_steps_per_second': 0.057, 'epoch': 3.0}\n"
     ]
    },
    {
     "name": "stderr",
     "output_type": "stream",
     "text": [
      "tokenizer config file saved in distilbert-base-uncased-Regression-Simpsons_Plus_Others/tokenizer_config.json\n",
      "Special tokens file saved in distilbert-base-uncased-Regression-Simpsons_Plus_Others/special_tokens_map.json\n",
      "Adding files tracked by Git LFS: ['.DS_Store']. This may take a bit of time if the files are large.\n",
      "The following columns in the evaluation set don't have a corresponding argument in `DistilBertForSequenceClassification.forward` and have been ignored: text. If text are not expected by `DistilBertForSequenceClassification.forward`,  you can safely ignore this message.\n",
      "***** Running Evaluation *****\n",
      "  Num examples = 401\n",
      "  Batch size = 64\n"
     ]
    },
    {
     "name": "stdout",
     "output_type": "stream",
     "text": [
      "{'loss': 1.8734, 'learning_rate': 1.6800000000000002e-05, 'epoch': 4.0}\n"
     ]
    },
    {
     "data": {
      "application/vnd.jupyter.widget-view+json": {
       "model_id": "44520ffd1180499d81743e0330387d45",
       "version_major": 2,
       "version_minor": 0
      },
      "text/plain": [
       "  0%|          | 0/7 [00:00<?, ?it/s]"
      ]
     },
     "metadata": {},
     "output_type": "display_data"
    },
    {
     "name": "stderr",
     "output_type": "stream",
     "text": [
      "Saving model checkpoint to distilbert-base-uncased-Regression-Simpsons_Plus_Others/checkpoint-204\n",
      "Configuration saved in distilbert-base-uncased-Regression-Simpsons_Plus_Others/checkpoint-204/config.json\n",
      "Model weights saved in distilbert-base-uncased-Regression-Simpsons_Plus_Others/checkpoint-204/pytorch_model.bin\n",
      "tokenizer config file saved in distilbert-base-uncased-Regression-Simpsons_Plus_Others/checkpoint-204/tokenizer_config.json\n",
      "Special tokens file saved in distilbert-base-uncased-Regression-Simpsons_Plus_Others/checkpoint-204/special_tokens_map.json\n"
     ]
    },
    {
     "name": "stdout",
     "output_type": "stream",
     "text": [
      "{'eval_loss': 0.44231247901916504, 'eval_mse': 0.44231247901916504, 'eval_rmse': 0.6650657653808594, 'eval_mae': 0.49754762649536133, 'eval_runtime': 121.6687, 'eval_samples_per_second': 3.296, 'eval_steps_per_second': 0.058, 'epoch': 4.0}\n"
     ]
    },
    {
     "name": "stderr",
     "output_type": "stream",
     "text": [
      "tokenizer config file saved in distilbert-base-uncased-Regression-Simpsons_Plus_Others/tokenizer_config.json\n",
      "Special tokens file saved in distilbert-base-uncased-Regression-Simpsons_Plus_Others/special_tokens_map.json\n",
      "The following columns in the evaluation set don't have a corresponding argument in `DistilBertForSequenceClassification.forward` and have been ignored: text. If text are not expected by `DistilBertForSequenceClassification.forward`,  you can safely ignore this message.\n",
      "***** Running Evaluation *****\n",
      "  Num examples = 401\n",
      "  Batch size = 64\n"
     ]
    },
    {
     "name": "stdout",
     "output_type": "stream",
     "text": [
      "{'loss': 1.7607, 'learning_rate': 1.6000000000000003e-05, 'epoch': 5.0}\n"
     ]
    },
    {
     "data": {
      "application/vnd.jupyter.widget-view+json": {
       "model_id": "324348c03d9447b7b0cd342805df4400",
       "version_major": 2,
       "version_minor": 0
      },
      "text/plain": [
       "  0%|          | 0/7 [00:00<?, ?it/s]"
      ]
     },
     "metadata": {},
     "output_type": "display_data"
    },
    {
     "name": "stderr",
     "output_type": "stream",
     "text": [
      "Saving model checkpoint to distilbert-base-uncased-Regression-Simpsons_Plus_Others/checkpoint-255\n",
      "Configuration saved in distilbert-base-uncased-Regression-Simpsons_Plus_Others/checkpoint-255/config.json\n",
      "Model weights saved in distilbert-base-uncased-Regression-Simpsons_Plus_Others/checkpoint-255/pytorch_model.bin\n",
      "tokenizer config file saved in distilbert-base-uncased-Regression-Simpsons_Plus_Others/checkpoint-255/tokenizer_config.json\n",
      "Special tokens file saved in distilbert-base-uncased-Regression-Simpsons_Plus_Others/checkpoint-255/special_tokens_map.json\n"
     ]
    },
    {
     "name": "stdout",
     "output_type": "stream",
     "text": [
      "{'eval_loss': 0.3971346914768219, 'eval_mse': 0.3971346914768219, 'eval_rmse': 0.6301862597465515, 'eval_mae': 0.47251278162002563, 'eval_runtime': 121.6717, 'eval_samples_per_second': 3.296, 'eval_steps_per_second': 0.058, 'epoch': 5.0}\n"
     ]
    },
    {
     "name": "stderr",
     "output_type": "stream",
     "text": [
      "tokenizer config file saved in distilbert-base-uncased-Regression-Simpsons_Plus_Others/tokenizer_config.json\n",
      "Special tokens file saved in distilbert-base-uncased-Regression-Simpsons_Plus_Others/special_tokens_map.json\n",
      "The following columns in the evaluation set don't have a corresponding argument in `DistilBertForSequenceClassification.forward` and have been ignored: text. If text are not expected by `DistilBertForSequenceClassification.forward`,  you can safely ignore this message.\n",
      "***** Running Evaluation *****\n",
      "  Num examples = 401\n",
      "  Batch size = 64\n"
     ]
    },
    {
     "name": "stdout",
     "output_type": "stream",
     "text": [
      "{'loss': 1.6901, 'learning_rate': 1.5200000000000002e-05, 'epoch': 6.0}\n"
     ]
    },
    {
     "data": {
      "application/vnd.jupyter.widget-view+json": {
       "model_id": "f03c7815fe0a4ea7a8c068887d7f5d02",
       "version_major": 2,
       "version_minor": 0
      },
      "text/plain": [
       "  0%|          | 0/7 [00:00<?, ?it/s]"
      ]
     },
     "metadata": {},
     "output_type": "display_data"
    },
    {
     "name": "stderr",
     "output_type": "stream",
     "text": [
      "Saving model checkpoint to distilbert-base-uncased-Regression-Simpsons_Plus_Others/checkpoint-306\n",
      "Configuration saved in distilbert-base-uncased-Regression-Simpsons_Plus_Others/checkpoint-306/config.json\n",
      "Model weights saved in distilbert-base-uncased-Regression-Simpsons_Plus_Others/checkpoint-306/pytorch_model.bin\n",
      "tokenizer config file saved in distilbert-base-uncased-Regression-Simpsons_Plus_Others/checkpoint-306/tokenizer_config.json\n",
      "Special tokens file saved in distilbert-base-uncased-Regression-Simpsons_Plus_Others/checkpoint-306/special_tokens_map.json\n"
     ]
    },
    {
     "name": "stdout",
     "output_type": "stream",
     "text": [
      "{'eval_loss': 0.4004552364349365, 'eval_mse': 0.4004552364349365, 'eval_rmse': 0.6328153014183044, 'eval_mae': 0.47505298256874084, 'eval_runtime': 121.6576, 'eval_samples_per_second': 3.296, 'eval_steps_per_second': 0.058, 'epoch': 6.0}\n"
     ]
    },
    {
     "name": "stderr",
     "output_type": "stream",
     "text": [
      "tokenizer config file saved in distilbert-base-uncased-Regression-Simpsons_Plus_Others/tokenizer_config.json\n",
      "Special tokens file saved in distilbert-base-uncased-Regression-Simpsons_Plus_Others/special_tokens_map.json\n",
      "The following columns in the evaluation set don't have a corresponding argument in `DistilBertForSequenceClassification.forward` and have been ignored: text. If text are not expected by `DistilBertForSequenceClassification.forward`,  you can safely ignore this message.\n",
      "***** Running Evaluation *****\n",
      "  Num examples = 401\n",
      "  Batch size = 64\n"
     ]
    },
    {
     "name": "stdout",
     "output_type": "stream",
     "text": [
      "{'loss': 1.6525, 'learning_rate': 1.4400000000000001e-05, 'epoch': 7.0}\n"
     ]
    },
    {
     "data": {
      "application/vnd.jupyter.widget-view+json": {
       "model_id": "0f03e5f9697d4822bf68ea2805bc1524",
       "version_major": 2,
       "version_minor": 0
      },
      "text/plain": [
       "  0%|          | 0/7 [00:00<?, ?it/s]"
      ]
     },
     "metadata": {},
     "output_type": "display_data"
    },
    {
     "name": "stderr",
     "output_type": "stream",
     "text": [
      "Saving model checkpoint to distilbert-base-uncased-Regression-Simpsons_Plus_Others/checkpoint-357\n",
      "Configuration saved in distilbert-base-uncased-Regression-Simpsons_Plus_Others/checkpoint-357/config.json\n",
      "Model weights saved in distilbert-base-uncased-Regression-Simpsons_Plus_Others/checkpoint-357/pytorch_model.bin\n",
      "tokenizer config file saved in distilbert-base-uncased-Regression-Simpsons_Plus_Others/checkpoint-357/tokenizer_config.json\n",
      "Special tokens file saved in distilbert-base-uncased-Regression-Simpsons_Plus_Others/checkpoint-357/special_tokens_map.json\n"
     ]
    },
    {
     "name": "stdout",
     "output_type": "stream",
     "text": [
      "{'eval_loss': 0.40009310841560364, 'eval_mse': 0.40009304881095886, 'eval_rmse': 0.632529079914093, 'eval_mae': 0.4765656292438507, 'eval_runtime': 121.6724, 'eval_samples_per_second': 3.296, 'eval_steps_per_second': 0.058, 'epoch': 7.0}\n"
     ]
    },
    {
     "name": "stderr",
     "output_type": "stream",
     "text": [
      "tokenizer config file saved in distilbert-base-uncased-Regression-Simpsons_Plus_Others/tokenizer_config.json\n",
      "Special tokens file saved in distilbert-base-uncased-Regression-Simpsons_Plus_Others/special_tokens_map.json\n",
      "The following columns in the evaluation set don't have a corresponding argument in `DistilBertForSequenceClassification.forward` and have been ignored: text. If text are not expected by `DistilBertForSequenceClassification.forward`,  you can safely ignore this message.\n",
      "***** Running Evaluation *****\n",
      "  Num examples = 401\n",
      "  Batch size = 64\n"
     ]
    },
    {
     "name": "stdout",
     "output_type": "stream",
     "text": [
      "{'loss': 1.6103, 'learning_rate': 1.3600000000000002e-05, 'epoch': 8.0}\n"
     ]
    },
    {
     "data": {
      "application/vnd.jupyter.widget-view+json": {
       "model_id": "079f8fcfdcd64a629038540bf0dc4efc",
       "version_major": 2,
       "version_minor": 0
      },
      "text/plain": [
       "  0%|          | 0/7 [00:00<?, ?it/s]"
      ]
     },
     "metadata": {},
     "output_type": "display_data"
    },
    {
     "name": "stderr",
     "output_type": "stream",
     "text": [
      "Saving model checkpoint to distilbert-base-uncased-Regression-Simpsons_Plus_Others/checkpoint-408\n",
      "Configuration saved in distilbert-base-uncased-Regression-Simpsons_Plus_Others/checkpoint-408/config.json\n",
      "Model weights saved in distilbert-base-uncased-Regression-Simpsons_Plus_Others/checkpoint-408/pytorch_model.bin\n",
      "tokenizer config file saved in distilbert-base-uncased-Regression-Simpsons_Plus_Others/checkpoint-408/tokenizer_config.json\n",
      "Special tokens file saved in distilbert-base-uncased-Regression-Simpsons_Plus_Others/checkpoint-408/special_tokens_map.json\n"
     ]
    },
    {
     "name": "stdout",
     "output_type": "stream",
     "text": [
      "{'eval_loss': 0.42784202098846436, 'eval_mse': 0.42784199118614197, 'eval_rmse': 0.6540963053703308, 'eval_mae': 0.49535566568374634, 'eval_runtime': 121.6788, 'eval_samples_per_second': 3.296, 'eval_steps_per_second': 0.058, 'epoch': 8.0}\n"
     ]
    },
    {
     "name": "stderr",
     "output_type": "stream",
     "text": [
      "tokenizer config file saved in distilbert-base-uncased-Regression-Simpsons_Plus_Others/tokenizer_config.json\n",
      "Special tokens file saved in distilbert-base-uncased-Regression-Simpsons_Plus_Others/special_tokens_map.json\n",
      "The following columns in the evaluation set don't have a corresponding argument in `DistilBertForSequenceClassification.forward` and have been ignored: text. If text are not expected by `DistilBertForSequenceClassification.forward`,  you can safely ignore this message.\n",
      "***** Running Evaluation *****\n",
      "  Num examples = 401\n",
      "  Batch size = 64\n"
     ]
    },
    {
     "name": "stdout",
     "output_type": "stream",
     "text": [
      "{'loss': 1.5659, 'learning_rate': 1.2800000000000001e-05, 'epoch': 9.0}\n"
     ]
    },
    {
     "data": {
      "application/vnd.jupyter.widget-view+json": {
       "model_id": "18c7c7487aa84203aa1d7a645d2d51bc",
       "version_major": 2,
       "version_minor": 0
      },
      "text/plain": [
       "  0%|          | 0/7 [00:00<?, ?it/s]"
      ]
     },
     "metadata": {},
     "output_type": "display_data"
    },
    {
     "name": "stderr",
     "output_type": "stream",
     "text": [
      "Saving model checkpoint to distilbert-base-uncased-Regression-Simpsons_Plus_Others/checkpoint-459\n",
      "Configuration saved in distilbert-base-uncased-Regression-Simpsons_Plus_Others/checkpoint-459/config.json\n",
      "Model weights saved in distilbert-base-uncased-Regression-Simpsons_Plus_Others/checkpoint-459/pytorch_model.bin\n",
      "tokenizer config file saved in distilbert-base-uncased-Regression-Simpsons_Plus_Others/checkpoint-459/tokenizer_config.json\n",
      "Special tokens file saved in distilbert-base-uncased-Regression-Simpsons_Plus_Others/checkpoint-459/special_tokens_map.json\n"
     ]
    },
    {
     "name": "stdout",
     "output_type": "stream",
     "text": [
      "{'eval_loss': 0.3902837634086609, 'eval_mse': 0.3902837932109833, 'eval_rmse': 0.6247269511222839, 'eval_mae': 0.4618476331233978, 'eval_runtime': 121.6765, 'eval_samples_per_second': 3.296, 'eval_steps_per_second': 0.058, 'epoch': 9.0}\n"
     ]
    },
    {
     "name": "stderr",
     "output_type": "stream",
     "text": [
      "tokenizer config file saved in distilbert-base-uncased-Regression-Simpsons_Plus_Others/tokenizer_config.json\n",
      "Special tokens file saved in distilbert-base-uncased-Regression-Simpsons_Plus_Others/special_tokens_map.json\n",
      "The following columns in the evaluation set don't have a corresponding argument in `DistilBertForSequenceClassification.forward` and have been ignored: text. If text are not expected by `DistilBertForSequenceClassification.forward`,  you can safely ignore this message.\n",
      "***** Running Evaluation *****\n",
      "  Num examples = 401\n",
      "  Batch size = 64\n"
     ]
    },
    {
     "name": "stdout",
     "output_type": "stream",
     "text": [
      "{'loss': 1.4968, 'learning_rate': 1.2e-05, 'epoch': 10.0}\n"
     ]
    },
    {
     "data": {
      "application/vnd.jupyter.widget-view+json": {
       "model_id": "a98fe75f207149feab205ce425dc468a",
       "version_major": 2,
       "version_minor": 0
      },
      "text/plain": [
       "  0%|          | 0/7 [00:00<?, ?it/s]"
      ]
     },
     "metadata": {},
     "output_type": "display_data"
    },
    {
     "name": "stderr",
     "output_type": "stream",
     "text": [
      "Saving model checkpoint to distilbert-base-uncased-Regression-Simpsons_Plus_Others/checkpoint-510\n",
      "Configuration saved in distilbert-base-uncased-Regression-Simpsons_Plus_Others/checkpoint-510/config.json\n",
      "Model weights saved in distilbert-base-uncased-Regression-Simpsons_Plus_Others/checkpoint-510/pytorch_model.bin\n",
      "tokenizer config file saved in distilbert-base-uncased-Regression-Simpsons_Plus_Others/checkpoint-510/tokenizer_config.json\n",
      "Special tokens file saved in distilbert-base-uncased-Regression-Simpsons_Plus_Others/checkpoint-510/special_tokens_map.json\n"
     ]
    },
    {
     "name": "stdout",
     "output_type": "stream",
     "text": [
      "{'eval_loss': 0.39865919947624207, 'eval_mse': 0.39865919947624207, 'eval_rmse': 0.631394624710083, 'eval_mae': 0.4670499563217163, 'eval_runtime': 121.67, 'eval_samples_per_second': 3.296, 'eval_steps_per_second': 0.058, 'epoch': 10.0}\n"
     ]
    },
    {
     "name": "stderr",
     "output_type": "stream",
     "text": [
      "tokenizer config file saved in distilbert-base-uncased-Regression-Simpsons_Plus_Others/tokenizer_config.json\n",
      "Special tokens file saved in distilbert-base-uncased-Regression-Simpsons_Plus_Others/special_tokens_map.json\n",
      "The following columns in the evaluation set don't have a corresponding argument in `DistilBertForSequenceClassification.forward` and have been ignored: text. If text are not expected by `DistilBertForSequenceClassification.forward`,  you can safely ignore this message.\n",
      "***** Running Evaluation *****\n",
      "  Num examples = 401\n",
      "  Batch size = 64\n"
     ]
    },
    {
     "name": "stdout",
     "output_type": "stream",
     "text": [
      "{'loss': 1.4983, 'learning_rate': 1.1200000000000001e-05, 'epoch': 11.0}\n"
     ]
    },
    {
     "data": {
      "application/vnd.jupyter.widget-view+json": {
       "model_id": "4ae9cc29eee943e08dd312a5b47198e0",
       "version_major": 2,
       "version_minor": 0
      },
      "text/plain": [
       "  0%|          | 0/7 [00:00<?, ?it/s]"
      ]
     },
     "metadata": {},
     "output_type": "display_data"
    },
    {
     "name": "stderr",
     "output_type": "stream",
     "text": [
      "Saving model checkpoint to distilbert-base-uncased-Regression-Simpsons_Plus_Others/checkpoint-561\n",
      "Configuration saved in distilbert-base-uncased-Regression-Simpsons_Plus_Others/checkpoint-561/config.json\n",
      "Model weights saved in distilbert-base-uncased-Regression-Simpsons_Plus_Others/checkpoint-561/pytorch_model.bin\n",
      "tokenizer config file saved in distilbert-base-uncased-Regression-Simpsons_Plus_Others/checkpoint-561/tokenizer_config.json\n",
      "Special tokens file saved in distilbert-base-uncased-Regression-Simpsons_Plus_Others/checkpoint-561/special_tokens_map.json\n"
     ]
    },
    {
     "name": "stdout",
     "output_type": "stream",
     "text": [
      "{'eval_loss': 0.47640976309776306, 'eval_mse': 0.47640982270240784, 'eval_rmse': 0.6902244687080383, 'eval_mae': 0.5324435830116272, 'eval_runtime': 121.6717, 'eval_samples_per_second': 3.296, 'eval_steps_per_second': 0.058, 'epoch': 11.0}\n"
     ]
    },
    {
     "name": "stderr",
     "output_type": "stream",
     "text": [
      "tokenizer config file saved in distilbert-base-uncased-Regression-Simpsons_Plus_Others/tokenizer_config.json\n",
      "Special tokens file saved in distilbert-base-uncased-Regression-Simpsons_Plus_Others/special_tokens_map.json\n",
      "The following columns in the evaluation set don't have a corresponding argument in `DistilBertForSequenceClassification.forward` and have been ignored: text. If text are not expected by `DistilBertForSequenceClassification.forward`,  you can safely ignore this message.\n",
      "***** Running Evaluation *****\n",
      "  Num examples = 401\n",
      "  Batch size = 64\n"
     ]
    },
    {
     "name": "stdout",
     "output_type": "stream",
     "text": [
      "{'loss': 1.4659, 'learning_rate': 1.04e-05, 'epoch': 12.0}\n"
     ]
    },
    {
     "data": {
      "application/vnd.jupyter.widget-view+json": {
       "model_id": "729e8d9bc852415db6a3a117d70bfb0a",
       "version_major": 2,
       "version_minor": 0
      },
      "text/plain": [
       "  0%|          | 0/7 [00:00<?, ?it/s]"
      ]
     },
     "metadata": {},
     "output_type": "display_data"
    },
    {
     "name": "stderr",
     "output_type": "stream",
     "text": [
      "Saving model checkpoint to distilbert-base-uncased-Regression-Simpsons_Plus_Others/checkpoint-612\n",
      "Configuration saved in distilbert-base-uncased-Regression-Simpsons_Plus_Others/checkpoint-612/config.json\n",
      "Model weights saved in distilbert-base-uncased-Regression-Simpsons_Plus_Others/checkpoint-612/pytorch_model.bin\n",
      "tokenizer config file saved in distilbert-base-uncased-Regression-Simpsons_Plus_Others/checkpoint-612/tokenizer_config.json\n",
      "Special tokens file saved in distilbert-base-uncased-Regression-Simpsons_Plus_Others/checkpoint-612/special_tokens_map.json\n"
     ]
    },
    {
     "name": "stdout",
     "output_type": "stream",
     "text": [
      "{'eval_loss': 0.3913148045539856, 'eval_mse': 0.3913148045539856, 'eval_rmse': 0.6255515813827515, 'eval_mae': 0.461550235748291, 'eval_runtime': 121.6971, 'eval_samples_per_second': 3.295, 'eval_steps_per_second': 0.058, 'epoch': 12.0}\n"
     ]
    },
    {
     "name": "stderr",
     "output_type": "stream",
     "text": [
      "tokenizer config file saved in distilbert-base-uncased-Regression-Simpsons_Plus_Others/tokenizer_config.json\n",
      "Special tokens file saved in distilbert-base-uncased-Regression-Simpsons_Plus_Others/special_tokens_map.json\n",
      "The following columns in the evaluation set don't have a corresponding argument in `DistilBertForSequenceClassification.forward` and have been ignored: text. If text are not expected by `DistilBertForSequenceClassification.forward`,  you can safely ignore this message.\n",
      "***** Running Evaluation *****\n",
      "  Num examples = 401\n",
      "  Batch size = 64\n"
     ]
    },
    {
     "name": "stdout",
     "output_type": "stream",
     "text": [
      "{'loss': 1.4532, 'learning_rate': 9.600000000000001e-06, 'epoch': 13.0}\n"
     ]
    },
    {
     "data": {
      "application/vnd.jupyter.widget-view+json": {
       "model_id": "a329cd820a5b49a1b850cefaeaeb74d2",
       "version_major": 2,
       "version_minor": 0
      },
      "text/plain": [
       "  0%|          | 0/7 [00:00<?, ?it/s]"
      ]
     },
     "metadata": {},
     "output_type": "display_data"
    },
    {
     "name": "stderr",
     "output_type": "stream",
     "text": [
      "Saving model checkpoint to distilbert-base-uncased-Regression-Simpsons_Plus_Others/checkpoint-663\n",
      "Configuration saved in distilbert-base-uncased-Regression-Simpsons_Plus_Others/checkpoint-663/config.json\n",
      "Model weights saved in distilbert-base-uncased-Regression-Simpsons_Plus_Others/checkpoint-663/pytorch_model.bin\n",
      "tokenizer config file saved in distilbert-base-uncased-Regression-Simpsons_Plus_Others/checkpoint-663/tokenizer_config.json\n",
      "Special tokens file saved in distilbert-base-uncased-Regression-Simpsons_Plus_Others/checkpoint-663/special_tokens_map.json\n"
     ]
    },
    {
     "name": "stdout",
     "output_type": "stream",
     "text": [
      "{'eval_loss': 0.451050341129303, 'eval_mse': 0.4510503113269806, 'eval_rmse': 0.6716027855873108, 'eval_mae': 0.5152690410614014, 'eval_runtime': 121.9371, 'eval_samples_per_second': 3.289, 'eval_steps_per_second': 0.057, 'epoch': 13.0}\n"
     ]
    },
    {
     "name": "stderr",
     "output_type": "stream",
     "text": [
      "tokenizer config file saved in distilbert-base-uncased-Regression-Simpsons_Plus_Others/tokenizer_config.json\n",
      "Special tokens file saved in distilbert-base-uncased-Regression-Simpsons_Plus_Others/special_tokens_map.json\n",
      "The following columns in the evaluation set don't have a corresponding argument in `DistilBertForSequenceClassification.forward` and have been ignored: text. If text are not expected by `DistilBertForSequenceClassification.forward`,  you can safely ignore this message.\n",
      "***** Running Evaluation *****\n",
      "  Num examples = 401\n",
      "  Batch size = 64\n"
     ]
    },
    {
     "name": "stdout",
     "output_type": "stream",
     "text": [
      "{'loss': 1.4515, 'learning_rate': 8.8e-06, 'epoch': 14.0}\n"
     ]
    },
    {
     "data": {
      "application/vnd.jupyter.widget-view+json": {
       "model_id": "9171050f9cb349758129091effbcef97",
       "version_major": 2,
       "version_minor": 0
      },
      "text/plain": [
       "  0%|          | 0/7 [00:00<?, ?it/s]"
      ]
     },
     "metadata": {},
     "output_type": "display_data"
    },
    {
     "name": "stderr",
     "output_type": "stream",
     "text": [
      "Saving model checkpoint to distilbert-base-uncased-Regression-Simpsons_Plus_Others/checkpoint-714\n",
      "Configuration saved in distilbert-base-uncased-Regression-Simpsons_Plus_Others/checkpoint-714/config.json\n",
      "Model weights saved in distilbert-base-uncased-Regression-Simpsons_Plus_Others/checkpoint-714/pytorch_model.bin\n",
      "tokenizer config file saved in distilbert-base-uncased-Regression-Simpsons_Plus_Others/checkpoint-714/tokenizer_config.json\n",
      "Special tokens file saved in distilbert-base-uncased-Regression-Simpsons_Plus_Others/checkpoint-714/special_tokens_map.json\n"
     ]
    },
    {
     "name": "stdout",
     "output_type": "stream",
     "text": [
      "{'eval_loss': 0.4009097218513489, 'eval_mse': 0.4009097218513489, 'eval_rmse': 0.6331743001937866, 'eval_mae': 0.4768402874469757, 'eval_runtime': 121.6684, 'eval_samples_per_second': 3.296, 'eval_steps_per_second': 0.058, 'epoch': 14.0}\n"
     ]
    },
    {
     "name": "stderr",
     "output_type": "stream",
     "text": [
      "tokenizer config file saved in distilbert-base-uncased-Regression-Simpsons_Plus_Others/tokenizer_config.json\n",
      "Special tokens file saved in distilbert-base-uncased-Regression-Simpsons_Plus_Others/special_tokens_map.json\n",
      "The following columns in the evaluation set don't have a corresponding argument in `DistilBertForSequenceClassification.forward` and have been ignored: text. If text are not expected by `DistilBertForSequenceClassification.forward`,  you can safely ignore this message.\n",
      "***** Running Evaluation *****\n",
      "  Num examples = 401\n",
      "  Batch size = 64\n"
     ]
    },
    {
     "name": "stdout",
     "output_type": "stream",
     "text": [
      "{'loss': 1.4506, 'learning_rate': 8.000000000000001e-06, 'epoch': 15.0}\n"
     ]
    },
    {
     "data": {
      "application/vnd.jupyter.widget-view+json": {
       "model_id": "73d0dcbbd668485788c0cc569411312d",
       "version_major": 2,
       "version_minor": 0
      },
      "text/plain": [
       "  0%|          | 0/7 [00:00<?, ?it/s]"
      ]
     },
     "metadata": {},
     "output_type": "display_data"
    },
    {
     "name": "stderr",
     "output_type": "stream",
     "text": [
      "Saving model checkpoint to distilbert-base-uncased-Regression-Simpsons_Plus_Others/checkpoint-765\n",
      "Configuration saved in distilbert-base-uncased-Regression-Simpsons_Plus_Others/checkpoint-765/config.json\n",
      "Model weights saved in distilbert-base-uncased-Regression-Simpsons_Plus_Others/checkpoint-765/pytorch_model.bin\n",
      "tokenizer config file saved in distilbert-base-uncased-Regression-Simpsons_Plus_Others/checkpoint-765/tokenizer_config.json\n",
      "Special tokens file saved in distilbert-base-uncased-Regression-Simpsons_Plus_Others/checkpoint-765/special_tokens_map.json\n"
     ]
    },
    {
     "name": "stdout",
     "output_type": "stream",
     "text": [
      "{'eval_loss': 0.45879897475242615, 'eval_mse': 0.4587990343570709, 'eval_rmse': 0.6773470640182495, 'eval_mae': 0.5160161256790161, 'eval_runtime': 121.8777, 'eval_samples_per_second': 3.29, 'eval_steps_per_second': 0.057, 'epoch': 15.0}\n"
     ]
    },
    {
     "name": "stderr",
     "output_type": "stream",
     "text": [
      "tokenizer config file saved in distilbert-base-uncased-Regression-Simpsons_Plus_Others/tokenizer_config.json\n",
      "Special tokens file saved in distilbert-base-uncased-Regression-Simpsons_Plus_Others/special_tokens_map.json\n",
      "The following columns in the evaluation set don't have a corresponding argument in `DistilBertForSequenceClassification.forward` and have been ignored: text. If text are not expected by `DistilBertForSequenceClassification.forward`,  you can safely ignore this message.\n",
      "***** Running Evaluation *****\n",
      "  Num examples = 401\n",
      "  Batch size = 64\n"
     ]
    },
    {
     "name": "stdout",
     "output_type": "stream",
     "text": [
      "{'loss': 1.4249, 'learning_rate': 7.2000000000000005e-06, 'epoch': 16.0}\n"
     ]
    },
    {
     "data": {
      "application/vnd.jupyter.widget-view+json": {
       "model_id": "0364f8dacec84d02a37cf5ad2319b10e",
       "version_major": 2,
       "version_minor": 0
      },
      "text/plain": [
       "  0%|          | 0/7 [00:00<?, ?it/s]"
      ]
     },
     "metadata": {},
     "output_type": "display_data"
    },
    {
     "name": "stderr",
     "output_type": "stream",
     "text": [
      "Saving model checkpoint to distilbert-base-uncased-Regression-Simpsons_Plus_Others/checkpoint-816\n",
      "Configuration saved in distilbert-base-uncased-Regression-Simpsons_Plus_Others/checkpoint-816/config.json\n",
      "Model weights saved in distilbert-base-uncased-Regression-Simpsons_Plus_Others/checkpoint-816/pytorch_model.bin\n",
      "tokenizer config file saved in distilbert-base-uncased-Regression-Simpsons_Plus_Others/checkpoint-816/tokenizer_config.json\n",
      "Special tokens file saved in distilbert-base-uncased-Regression-Simpsons_Plus_Others/checkpoint-816/special_tokens_map.json\n"
     ]
    },
    {
     "name": "stdout",
     "output_type": "stream",
     "text": [
      "{'eval_loss': 0.3940203785896301, 'eval_mse': 0.3940204381942749, 'eval_rmse': 0.6277104616165161, 'eval_mae': 0.4630068242549896, 'eval_runtime': 121.9292, 'eval_samples_per_second': 3.289, 'eval_steps_per_second': 0.057, 'epoch': 16.0}\n"
     ]
    },
    {
     "name": "stderr",
     "output_type": "stream",
     "text": [
      "tokenizer config file saved in distilbert-base-uncased-Regression-Simpsons_Plus_Others/tokenizer_config.json\n",
      "Special tokens file saved in distilbert-base-uncased-Regression-Simpsons_Plus_Others/special_tokens_map.json\n",
      "The following columns in the evaluation set don't have a corresponding argument in `DistilBertForSequenceClassification.forward` and have been ignored: text. If text are not expected by `DistilBertForSequenceClassification.forward`,  you can safely ignore this message.\n",
      "***** Running Evaluation *****\n",
      "  Num examples = 401\n",
      "  Batch size = 64\n"
     ]
    },
    {
     "name": "stdout",
     "output_type": "stream",
     "text": [
      "{'loss': 1.4254, 'learning_rate': 6.4000000000000006e-06, 'epoch': 17.0}\n"
     ]
    },
    {
     "data": {
      "application/vnd.jupyter.widget-view+json": {
       "model_id": "091a3b823ef0438c9523ba48b29e738a",
       "version_major": 2,
       "version_minor": 0
      },
      "text/plain": [
       "  0%|          | 0/7 [00:00<?, ?it/s]"
      ]
     },
     "metadata": {},
     "output_type": "display_data"
    },
    {
     "name": "stderr",
     "output_type": "stream",
     "text": [
      "Saving model checkpoint to distilbert-base-uncased-Regression-Simpsons_Plus_Others/checkpoint-867\n",
      "Configuration saved in distilbert-base-uncased-Regression-Simpsons_Plus_Others/checkpoint-867/config.json\n",
      "Model weights saved in distilbert-base-uncased-Regression-Simpsons_Plus_Others/checkpoint-867/pytorch_model.bin\n",
      "tokenizer config file saved in distilbert-base-uncased-Regression-Simpsons_Plus_Others/checkpoint-867/tokenizer_config.json\n",
      "Special tokens file saved in distilbert-base-uncased-Regression-Simpsons_Plus_Others/checkpoint-867/special_tokens_map.json\n"
     ]
    },
    {
     "name": "stdout",
     "output_type": "stream",
     "text": [
      "{'eval_loss': 0.4455680549144745, 'eval_mse': 0.4455680549144745, 'eval_rmse': 0.6675088405609131, 'eval_mae': 0.508367657661438, 'eval_runtime': 122.1603, 'eval_samples_per_second': 3.283, 'eval_steps_per_second': 0.057, 'epoch': 17.0}\n"
     ]
    },
    {
     "name": "stderr",
     "output_type": "stream",
     "text": [
      "tokenizer config file saved in distilbert-base-uncased-Regression-Simpsons_Plus_Others/tokenizer_config.json\n",
      "Special tokens file saved in distilbert-base-uncased-Regression-Simpsons_Plus_Others/special_tokens_map.json\n",
      "The following columns in the evaluation set don't have a corresponding argument in `DistilBertForSequenceClassification.forward` and have been ignored: text. If text are not expected by `DistilBertForSequenceClassification.forward`,  you can safely ignore this message.\n",
      "***** Running Evaluation *****\n",
      "  Num examples = 401\n",
      "  Batch size = 64\n"
     ]
    },
    {
     "name": "stdout",
     "output_type": "stream",
     "text": [
      "{'loss': 1.4023, 'learning_rate': 5.600000000000001e-06, 'epoch': 18.0}\n"
     ]
    },
    {
     "data": {
      "application/vnd.jupyter.widget-view+json": {
       "model_id": "b695a3a4440142f7bfd2d9b69ff39add",
       "version_major": 2,
       "version_minor": 0
      },
      "text/plain": [
       "  0%|          | 0/7 [00:00<?, ?it/s]"
      ]
     },
     "metadata": {},
     "output_type": "display_data"
    },
    {
     "name": "stderr",
     "output_type": "stream",
     "text": [
      "Saving model checkpoint to distilbert-base-uncased-Regression-Simpsons_Plus_Others/checkpoint-918\n",
      "Configuration saved in distilbert-base-uncased-Regression-Simpsons_Plus_Others/checkpoint-918/config.json\n",
      "Model weights saved in distilbert-base-uncased-Regression-Simpsons_Plus_Others/checkpoint-918/pytorch_model.bin\n",
      "tokenizer config file saved in distilbert-base-uncased-Regression-Simpsons_Plus_Others/checkpoint-918/tokenizer_config.json\n",
      "Special tokens file saved in distilbert-base-uncased-Regression-Simpsons_Plus_Others/checkpoint-918/special_tokens_map.json\n"
     ]
    },
    {
     "name": "stdout",
     "output_type": "stream",
     "text": [
      "{'eval_loss': 0.45170632004737854, 'eval_mse': 0.4517063498497009, 'eval_rmse': 0.672091007232666, 'eval_mae': 0.5095551013946533, 'eval_runtime': 122.2488, 'eval_samples_per_second': 3.28, 'eval_steps_per_second': 0.057, 'epoch': 18.0}\n"
     ]
    },
    {
     "name": "stderr",
     "output_type": "stream",
     "text": [
      "tokenizer config file saved in distilbert-base-uncased-Regression-Simpsons_Plus_Others/tokenizer_config.json\n",
      "Special tokens file saved in distilbert-base-uncased-Regression-Simpsons_Plus_Others/special_tokens_map.json\n",
      "The following columns in the evaluation set don't have a corresponding argument in `DistilBertForSequenceClassification.forward` and have been ignored: text. If text are not expected by `DistilBertForSequenceClassification.forward`,  you can safely ignore this message.\n",
      "***** Running Evaluation *****\n",
      "  Num examples = 401\n",
      "  Batch size = 64\n"
     ]
    },
    {
     "name": "stdout",
     "output_type": "stream",
     "text": [
      "{'loss': 1.3754, 'learning_rate': 4.800000000000001e-06, 'epoch': 19.0}\n"
     ]
    },
    {
     "data": {
      "application/vnd.jupyter.widget-view+json": {
       "model_id": "6976fe66bf07473d933f2d874a6dd61a",
       "version_major": 2,
       "version_minor": 0
      },
      "text/plain": [
       "  0%|          | 0/7 [00:00<?, ?it/s]"
      ]
     },
     "metadata": {},
     "output_type": "display_data"
    },
    {
     "name": "stderr",
     "output_type": "stream",
     "text": [
      "Saving model checkpoint to distilbert-base-uncased-Regression-Simpsons_Plus_Others/checkpoint-969\n",
      "Configuration saved in distilbert-base-uncased-Regression-Simpsons_Plus_Others/checkpoint-969/config.json\n",
      "Model weights saved in distilbert-base-uncased-Regression-Simpsons_Plus_Others/checkpoint-969/pytorch_model.bin\n",
      "tokenizer config file saved in distilbert-base-uncased-Regression-Simpsons_Plus_Others/checkpoint-969/tokenizer_config.json\n",
      "Special tokens file saved in distilbert-base-uncased-Regression-Simpsons_Plus_Others/checkpoint-969/special_tokens_map.json\n"
     ]
    },
    {
     "name": "stdout",
     "output_type": "stream",
     "text": [
      "{'eval_loss': 0.42104873061180115, 'eval_mse': 0.4210487902164459, 'eval_rmse': 0.6488827466964722, 'eval_mae': 0.48694470524787903, 'eval_runtime': 121.9381, 'eval_samples_per_second': 3.289, 'eval_steps_per_second': 0.057, 'epoch': 19.0}\n"
     ]
    },
    {
     "name": "stderr",
     "output_type": "stream",
     "text": [
      "tokenizer config file saved in distilbert-base-uncased-Regression-Simpsons_Plus_Others/tokenizer_config.json\n",
      "Special tokens file saved in distilbert-base-uncased-Regression-Simpsons_Plus_Others/special_tokens_map.json\n",
      "The following columns in the evaluation set don't have a corresponding argument in `DistilBertForSequenceClassification.forward` and have been ignored: text. If text are not expected by `DistilBertForSequenceClassification.forward`,  you can safely ignore this message.\n",
      "***** Running Evaluation *****\n",
      "  Num examples = 401\n",
      "  Batch size = 64\n"
     ]
    },
    {
     "name": "stdout",
     "output_type": "stream",
     "text": [
      "{'loss': 1.3865, 'learning_rate': 4.000000000000001e-06, 'epoch': 20.0}\n"
     ]
    },
    {
     "data": {
      "application/vnd.jupyter.widget-view+json": {
       "model_id": "928f25c68b7f4d119d26dc74c49d61de",
       "version_major": 2,
       "version_minor": 0
      },
      "text/plain": [
       "  0%|          | 0/7 [00:00<?, ?it/s]"
      ]
     },
     "metadata": {},
     "output_type": "display_data"
    },
    {
     "name": "stderr",
     "output_type": "stream",
     "text": [
      "Saving model checkpoint to distilbert-base-uncased-Regression-Simpsons_Plus_Others/checkpoint-1020\n",
      "Configuration saved in distilbert-base-uncased-Regression-Simpsons_Plus_Others/checkpoint-1020/config.json\n",
      "Model weights saved in distilbert-base-uncased-Regression-Simpsons_Plus_Others/checkpoint-1020/pytorch_model.bin\n",
      "tokenizer config file saved in distilbert-base-uncased-Regression-Simpsons_Plus_Others/checkpoint-1020/tokenizer_config.json\n",
      "Special tokens file saved in distilbert-base-uncased-Regression-Simpsons_Plus_Others/checkpoint-1020/special_tokens_map.json\n"
     ]
    },
    {
     "name": "stdout",
     "output_type": "stream",
     "text": [
      "{'eval_loss': 0.4162963628768921, 'eval_mse': 0.4162963032722473, 'eval_rmse': 0.6452102661132812, 'eval_mae': 0.4829578697681427, 'eval_runtime': 121.6768, 'eval_samples_per_second': 3.296, 'eval_steps_per_second': 0.058, 'epoch': 20.0}\n"
     ]
    },
    {
     "name": "stderr",
     "output_type": "stream",
     "text": [
      "tokenizer config file saved in distilbert-base-uncased-Regression-Simpsons_Plus_Others/tokenizer_config.json\n",
      "Special tokens file saved in distilbert-base-uncased-Regression-Simpsons_Plus_Others/special_tokens_map.json\n",
      "The following columns in the evaluation set don't have a corresponding argument in `DistilBertForSequenceClassification.forward` and have been ignored: text. If text are not expected by `DistilBertForSequenceClassification.forward`,  you can safely ignore this message.\n",
      "***** Running Evaluation *****\n",
      "  Num examples = 401\n",
      "  Batch size = 64\n"
     ]
    },
    {
     "name": "stdout",
     "output_type": "stream",
     "text": [
      "{'loss': 1.3802, 'learning_rate': 3.2000000000000003e-06, 'epoch': 21.0}\n"
     ]
    },
    {
     "data": {
      "application/vnd.jupyter.widget-view+json": {
       "model_id": "8348de49f59546cfa2676c177e433689",
       "version_major": 2,
       "version_minor": 0
      },
      "text/plain": [
       "  0%|          | 0/7 [00:00<?, ?it/s]"
      ]
     },
     "metadata": {},
     "output_type": "display_data"
    },
    {
     "name": "stderr",
     "output_type": "stream",
     "text": [
      "Saving model checkpoint to distilbert-base-uncased-Regression-Simpsons_Plus_Others/checkpoint-1071\n",
      "Configuration saved in distilbert-base-uncased-Regression-Simpsons_Plus_Others/checkpoint-1071/config.json\n",
      "Model weights saved in distilbert-base-uncased-Regression-Simpsons_Plus_Others/checkpoint-1071/pytorch_model.bin\n",
      "tokenizer config file saved in distilbert-base-uncased-Regression-Simpsons_Plus_Others/checkpoint-1071/tokenizer_config.json\n",
      "Special tokens file saved in distilbert-base-uncased-Regression-Simpsons_Plus_Others/checkpoint-1071/special_tokens_map.json\n"
     ]
    },
    {
     "name": "stdout",
     "output_type": "stream",
     "text": [
      "{'eval_loss': 0.4290342330932617, 'eval_mse': 0.4290342330932617, 'eval_rmse': 0.6550070643424988, 'eval_mae': 0.4904143512248993, 'eval_runtime': 121.9432, 'eval_samples_per_second': 3.288, 'eval_steps_per_second': 0.057, 'epoch': 21.0}\n"
     ]
    },
    {
     "name": "stderr",
     "output_type": "stream",
     "text": [
      "tokenizer config file saved in distilbert-base-uncased-Regression-Simpsons_Plus_Others/tokenizer_config.json\n",
      "Special tokens file saved in distilbert-base-uncased-Regression-Simpsons_Plus_Others/special_tokens_map.json\n",
      "The following columns in the evaluation set don't have a corresponding argument in `DistilBertForSequenceClassification.forward` and have been ignored: text. If text are not expected by `DistilBertForSequenceClassification.forward`,  you can safely ignore this message.\n",
      "***** Running Evaluation *****\n",
      "  Num examples = 401\n",
      "  Batch size = 64\n"
     ]
    },
    {
     "name": "stdout",
     "output_type": "stream",
     "text": [
      "{'loss': 1.4087, 'learning_rate': 2.4000000000000003e-06, 'epoch': 22.0}\n"
     ]
    },
    {
     "data": {
      "application/vnd.jupyter.widget-view+json": {
       "model_id": "637fc0fbfc9d40058a8b7e48f03e3dc6",
       "version_major": 2,
       "version_minor": 0
      },
      "text/plain": [
       "  0%|          | 0/7 [00:00<?, ?it/s]"
      ]
     },
     "metadata": {},
     "output_type": "display_data"
    },
    {
     "name": "stderr",
     "output_type": "stream",
     "text": [
      "Saving model checkpoint to distilbert-base-uncased-Regression-Simpsons_Plus_Others/checkpoint-1122\n",
      "Configuration saved in distilbert-base-uncased-Regression-Simpsons_Plus_Others/checkpoint-1122/config.json\n",
      "Model weights saved in distilbert-base-uncased-Regression-Simpsons_Plus_Others/checkpoint-1122/pytorch_model.bin\n",
      "tokenizer config file saved in distilbert-base-uncased-Regression-Simpsons_Plus_Others/checkpoint-1122/tokenizer_config.json\n",
      "Special tokens file saved in distilbert-base-uncased-Regression-Simpsons_Plus_Others/checkpoint-1122/special_tokens_map.json\n"
     ]
    },
    {
     "name": "stdout",
     "output_type": "stream",
     "text": [
      "{'eval_loss': 0.40973570942878723, 'eval_mse': 0.40973570942878723, 'eval_rmse': 0.6401060223579407, 'eval_mae': 0.47446250915527344, 'eval_runtime': 121.9291, 'eval_samples_per_second': 3.289, 'eval_steps_per_second': 0.057, 'epoch': 22.0}\n"
     ]
    },
    {
     "name": "stderr",
     "output_type": "stream",
     "text": [
      "tokenizer config file saved in distilbert-base-uncased-Regression-Simpsons_Plus_Others/tokenizer_config.json\n",
      "Special tokens file saved in distilbert-base-uncased-Regression-Simpsons_Plus_Others/special_tokens_map.json\n",
      "The following columns in the evaluation set don't have a corresponding argument in `DistilBertForSequenceClassification.forward` and have been ignored: text. If text are not expected by `DistilBertForSequenceClassification.forward`,  you can safely ignore this message.\n",
      "***** Running Evaluation *****\n",
      "  Num examples = 401\n",
      "  Batch size = 64\n"
     ]
    },
    {
     "name": "stdout",
     "output_type": "stream",
     "text": [
      "{'loss': 1.3855, 'learning_rate': 1.6000000000000001e-06, 'epoch': 23.0}\n"
     ]
    },
    {
     "data": {
      "application/vnd.jupyter.widget-view+json": {
       "model_id": "823a10f964be4dcaa8470a18fb52ea01",
       "version_major": 2,
       "version_minor": 0
      },
      "text/plain": [
       "  0%|          | 0/7 [00:00<?, ?it/s]"
      ]
     },
     "metadata": {},
     "output_type": "display_data"
    },
    {
     "name": "stderr",
     "output_type": "stream",
     "text": [
      "Saving model checkpoint to distilbert-base-uncased-Regression-Simpsons_Plus_Others/checkpoint-1173\n",
      "Configuration saved in distilbert-base-uncased-Regression-Simpsons_Plus_Others/checkpoint-1173/config.json\n",
      "Model weights saved in distilbert-base-uncased-Regression-Simpsons_Plus_Others/checkpoint-1173/pytorch_model.bin\n",
      "tokenizer config file saved in distilbert-base-uncased-Regression-Simpsons_Plus_Others/checkpoint-1173/tokenizer_config.json\n",
      "Special tokens file saved in distilbert-base-uncased-Regression-Simpsons_Plus_Others/checkpoint-1173/special_tokens_map.json\n"
     ]
    },
    {
     "name": "stdout",
     "output_type": "stream",
     "text": [
      "{'eval_loss': 0.44377976655960083, 'eval_mse': 0.44377973675727844, 'eval_rmse': 0.6661679744720459, 'eval_mae': 0.5027315020561218, 'eval_runtime': 121.6858, 'eval_samples_per_second': 3.295, 'eval_steps_per_second': 0.058, 'epoch': 23.0}\n"
     ]
    },
    {
     "name": "stderr",
     "output_type": "stream",
     "text": [
      "tokenizer config file saved in distilbert-base-uncased-Regression-Simpsons_Plus_Others/tokenizer_config.json\n",
      "Special tokens file saved in distilbert-base-uncased-Regression-Simpsons_Plus_Others/special_tokens_map.json\n",
      "The following columns in the evaluation set don't have a corresponding argument in `DistilBertForSequenceClassification.forward` and have been ignored: text. If text are not expected by `DistilBertForSequenceClassification.forward`,  you can safely ignore this message.\n",
      "***** Running Evaluation *****\n",
      "  Num examples = 401\n",
      "  Batch size = 64\n"
     ]
    },
    {
     "name": "stdout",
     "output_type": "stream",
     "text": [
      "{'loss': 1.3911, 'learning_rate': 8.000000000000001e-07, 'epoch': 24.0}\n"
     ]
    },
    {
     "data": {
      "application/vnd.jupyter.widget-view+json": {
       "model_id": "8009191421a740c899f590bf9db560c3",
       "version_major": 2,
       "version_minor": 0
      },
      "text/plain": [
       "  0%|          | 0/7 [00:00<?, ?it/s]"
      ]
     },
     "metadata": {},
     "output_type": "display_data"
    },
    {
     "name": "stderr",
     "output_type": "stream",
     "text": [
      "Saving model checkpoint to distilbert-base-uncased-Regression-Simpsons_Plus_Others/checkpoint-1224\n",
      "Configuration saved in distilbert-base-uncased-Regression-Simpsons_Plus_Others/checkpoint-1224/config.json\n",
      "Model weights saved in distilbert-base-uncased-Regression-Simpsons_Plus_Others/checkpoint-1224/pytorch_model.bin\n",
      "tokenizer config file saved in distilbert-base-uncased-Regression-Simpsons_Plus_Others/checkpoint-1224/tokenizer_config.json\n",
      "Special tokens file saved in distilbert-base-uncased-Regression-Simpsons_Plus_Others/checkpoint-1224/special_tokens_map.json\n"
     ]
    },
    {
     "name": "stdout",
     "output_type": "stream",
     "text": [
      "{'eval_loss': 0.430152028799057, 'eval_mse': 0.430152028799057, 'eval_rmse': 0.6558597683906555, 'eval_mae': 0.490555077791214, 'eval_runtime': 121.6987, 'eval_samples_per_second': 3.295, 'eval_steps_per_second': 0.058, 'epoch': 24.0}\n"
     ]
    },
    {
     "name": "stderr",
     "output_type": "stream",
     "text": [
      "tokenizer config file saved in distilbert-base-uncased-Regression-Simpsons_Plus_Others/tokenizer_config.json\n",
      "Special tokens file saved in distilbert-base-uncased-Regression-Simpsons_Plus_Others/special_tokens_map.json\n",
      "The following columns in the evaluation set don't have a corresponding argument in `DistilBertForSequenceClassification.forward` and have been ignored: text. If text are not expected by `DistilBertForSequenceClassification.forward`,  you can safely ignore this message.\n",
      "***** Running Evaluation *****\n",
      "  Num examples = 401\n",
      "  Batch size = 64\n"
     ]
    },
    {
     "name": "stdout",
     "output_type": "stream",
     "text": [
      "{'loss': 1.3877, 'learning_rate': 0.0, 'epoch': 25.0}\n"
     ]
    },
    {
     "data": {
      "application/vnd.jupyter.widget-view+json": {
       "model_id": "7d7fa471fb9e4e21a6e64371e809cadf",
       "version_major": 2,
       "version_minor": 0
      },
      "text/plain": [
       "  0%|          | 0/7 [00:00<?, ?it/s]"
      ]
     },
     "metadata": {},
     "output_type": "display_data"
    },
    {
     "name": "stderr",
     "output_type": "stream",
     "text": [
      "Saving model checkpoint to distilbert-base-uncased-Regression-Simpsons_Plus_Others/checkpoint-1275\n",
      "Configuration saved in distilbert-base-uncased-Regression-Simpsons_Plus_Others/checkpoint-1275/config.json\n",
      "Model weights saved in distilbert-base-uncased-Regression-Simpsons_Plus_Others/checkpoint-1275/pytorch_model.bin\n",
      "tokenizer config file saved in distilbert-base-uncased-Regression-Simpsons_Plus_Others/checkpoint-1275/tokenizer_config.json\n",
      "Special tokens file saved in distilbert-base-uncased-Regression-Simpsons_Plus_Others/checkpoint-1275/special_tokens_map.json\n"
     ]
    },
    {
     "name": "stdout",
     "output_type": "stream",
     "text": [
      "{'eval_loss': 0.4286789298057556, 'eval_mse': 0.4286789298057556, 'eval_rmse': 0.6547357439994812, 'eval_mae': 0.4886947572231293, 'eval_runtime': 122.3846, 'eval_samples_per_second': 3.277, 'eval_steps_per_second': 0.057, 'epoch': 25.0}\n"
     ]
    },
    {
     "name": "stderr",
     "output_type": "stream",
     "text": [
      "tokenizer config file saved in distilbert-base-uncased-Regression-Simpsons_Plus_Others/tokenizer_config.json\n",
      "Special tokens file saved in distilbert-base-uncased-Regression-Simpsons_Plus_Others/special_tokens_map.json\n",
      "\n",
      "\n",
      "Training completed. Do not forget to share your model on huggingface.co/models =)\n",
      "\n",
      "\n",
      "Loading best model from distilbert-base-uncased-Regression-Simpsons_Plus_Others/checkpoint-612 (score: 0.461550235748291).\n"
     ]
    },
    {
     "name": "stdout",
     "output_type": "stream",
     "text": [
      "{'train_runtime': 83819.6528, 'train_samples_per_second': 0.956, 'train_steps_per_second': 0.015, 'train_loss': 2.759851989746094, 'epoch': 25.0}\n"
     ]
    },
    {
     "data": {
      "text/plain": [
       "TrainOutput(global_step=1275, training_loss=2.759851989746094, metrics={'train_runtime': 83819.6528, 'train_samples_per_second': 0.956, 'train_steps_per_second': 0.015, 'train_loss': 2.759851989746094, 'epoch': 25.0})"
      ]
     },
     "execution_count": 27,
     "metadata": {},
     "output_type": "execute_result"
    }
   ],
   "source": [
    "trainer.train()"
   ]
  },
  {
   "cell_type": "markdown",
   "id": "e597aa18",
   "metadata": {},
   "source": [
    "### Evaluate Model"
   ]
  },
  {
   "cell_type": "markdown",
   "id": "277a72fe",
   "metadata": {},
   "source": [
    "#### Predictions"
   ]
  },
  {
   "cell_type": "code",
   "execution_count": 28,
   "id": "565ab306",
   "metadata": {},
   "outputs": [
    {
     "name": "stderr",
     "output_type": "stream",
     "text": [
      "The following columns in the evaluation set don't have a corresponding argument in `DistilBertForSequenceClassification.forward` and have been ignored: text. If text are not expected by `DistilBertForSequenceClassification.forward`,  you can safely ignore this message.\n",
      "***** Running Evaluation *****\n",
      "  Num examples = 401\n",
      "  Batch size = 64\n"
     ]
    },
    {
     "data": {
      "application/vnd.jupyter.widget-view+json": {
       "model_id": "a74d7f03d0d4457ca47ba7d6f304be56",
       "version_major": 2,
       "version_minor": 0
      },
      "text/plain": [
       "  0%|          | 0/7 [00:00<?, ?it/s]"
      ]
     },
     "metadata": {},
     "output_type": "display_data"
    },
    {
     "data": {
      "text/plain": [
       "{'eval_loss': 0.3754067122936249,\n",
       " 'eval_mse': 0.3754067122936249,\n",
       " 'eval_rmse': 0.6127043962478638,\n",
       " 'eval_mae': 0.4650583565235138,\n",
       " 'eval_runtime': 127.2305,\n",
       " 'eval_samples_per_second': 3.152,\n",
       " 'eval_steps_per_second': 0.055,\n",
       " 'epoch': 25.0}"
      ]
     },
     "execution_count": 28,
     "metadata": {},
     "output_type": "execute_result"
    }
   ],
   "source": [
    "trainer.eval_dataset = encoded_ds['test']\n",
    "trainer.evaluate()"
   ]
  },
  {
   "cell_type": "markdown",
   "id": "5ab72d49",
   "metadata": {},
   "source": [
    "#### Save Model & Push to Hub"
   ]
  },
  {
   "cell_type": "code",
   "execution_count": 29,
   "id": "83c80523",
   "metadata": {},
   "outputs": [
    {
     "name": "stderr",
     "output_type": "stream",
     "text": [
      "Saving model checkpoint to distilbert-base-uncased-Regression-Simpsons_Plus_Others\n",
      "Configuration saved in distilbert-base-uncased-Regression-Simpsons_Plus_Others/config.json\n",
      "Model weights saved in distilbert-base-uncased-Regression-Simpsons_Plus_Others/pytorch_model.bin\n",
      "tokenizer config file saved in distilbert-base-uncased-Regression-Simpsons_Plus_Others/tokenizer_config.json\n",
      "Special tokens file saved in distilbert-base-uncased-Regression-Simpsons_Plus_Others/special_tokens_map.json\n",
      "Several commits (2) will be pushed upstream.\n",
      "The progress bars may be unreliable.\n"
     ]
    },
    {
     "data": {
      "application/vnd.jupyter.widget-view+json": {
       "model_id": "eb100eb5bd1c4b32a8a5b6bb04a27c66",
       "version_major": 2,
       "version_minor": 0
      },
      "text/plain": [
       "Upload file pytorch_model.bin:   0%|          | 32.0k/255M [00:00<?, ?B/s]"
      ]
     },
     "metadata": {},
     "output_type": "display_data"
    },
    {
     "data": {
      "application/vnd.jupyter.widget-view+json": {
       "model_id": "16a0f057db564d43b7d19d65d12fbd3a",
       "version_major": 2,
       "version_minor": 0
      },
      "text/plain": [
       "Upload file runs/Sep29_22-08-41_Brians-Mac-mini.local/events.out.tfevents.1664591273.Brians-Mac-mini.local.295…"
      ]
     },
     "metadata": {},
     "output_type": "display_data"
    },
    {
     "data": {
      "application/vnd.jupyter.widget-view+json": {
       "model_id": "3076c394b9524b1a8a0210556af5add3",
       "version_major": 2,
       "version_minor": 0
      },
      "text/plain": [
       "Upload file runs/Sep29_22-08-41_Brians-Mac-mini.local/events.out.tfevents.1664507326.Brians-Mac-mini.local.295…"
      ]
     },
     "metadata": {},
     "output_type": "display_data"
    },
    {
     "name": "stderr",
     "output_type": "stream",
     "text": [
      "remote: Scanning LFS files for validity, may be slow...        \n",
      "remote: LFS file scan complete.        \n",
      "To https://huggingface.co/DunnBC22/distilbert-base-uncased-Regression-Simpsons_Plus_Others\n",
      "   79d67f8..4b7986f  main -> main\n",
      "\n",
      "Dropping the following result as it does not have all the necessary fields:\n",
      "{'task': {'name': 'Text Classification', 'type': 'text-classification'}}\n",
      "To https://huggingface.co/DunnBC22/distilbert-base-uncased-Regression-Simpsons_Plus_Others\n",
      "   4b7986f..d51f6b7  main -> main\n",
      "\n"
     ]
    },
    {
     "data": {
      "text/plain": [
       "'https://huggingface.co/DunnBC22/distilbert-base-uncased-Regression-Simpsons_Plus_Others/commit/4b7986fe915a58642ee6a2c42349bdec0d8a94f5'"
      ]
     },
     "execution_count": 29,
     "metadata": {},
     "output_type": "execute_result"
    }
   ],
   "source": [
    "trainer.push_to_hub(commit_message=\"All Dunn!!!\")"
   ]
  }
 ],
 "metadata": {
  "kernelspec": {
   "display_name": "Python 3.9.12 64-bit ('anaconda3')",
   "language": "python",
   "name": "python3"
  },
  "language_info": {
   "codemirror_mode": {
    "name": "ipython",
    "version": 3
   },
   "file_extension": ".py",
   "mimetype": "text/x-python",
   "name": "python",
   "nbconvert_exporter": "python",
   "pygments_lexer": "ipython3",
   "version": "3.9.12"
  },
  "vscode": {
   "interpreter": {
    "hash": "a4d9b73f1482e108b8bee9fd1a7eb6f7460da6f2684402434766fba1dc39798b"
   }
  }
 },
 "nbformat": 4,
 "nbformat_minor": 5
}
