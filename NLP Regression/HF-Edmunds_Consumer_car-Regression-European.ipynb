{
 "cells": [
  {
   "attachments": {},
   "cell_type": "markdown",
   "metadata": {},
   "source": [
    "## Regression of Edmunds Consumer Car Dataset\n",
    "\n",
    "Dataset Source: https://www.kaggle.com/datasets/ankkur13/edmundsconsumer-car-ratings-and-reviews"
   ]
  },
  {
   "attachments": {},
   "cell_type": "markdown",
   "metadata": {},
   "source": [
    "#### Import Necessary Libraries"
   ]
  },
  {
   "cell_type": "code",
   "execution_count": 1,
   "metadata": {},
   "outputs": [
    {
     "name": "stderr",
     "output_type": "stream",
     "text": [
      "NOTE: Redirects are currently not supported in Windows or MacOs.\n"
     ]
    }
   ],
   "source": [
    "import sys, os, math, random, re, logging\n",
    "os.environ['TOKENIZERS_PARALLELISM']='false'\n",
    "\n",
    "import glob\n",
    "\n",
    "import numpy as np\n",
    "import pandas as pd\n",
    "\n",
    "import torch\n",
    "\n",
    "import matplotlib.pyplot as plt\n",
    "\n",
    "from sklearn.metrics import mean_squared_error, mean_absolute_error, mean_squared_error, r2_score\n",
    "\n",
    "from transformers import AutoTokenizer, Trainer, TrainingArguments, AutoModelForSequenceClassification, set_seed, get_scheduler\n",
    "\n",
    "from datasets import Dataset, DatasetDict"
   ]
  },
  {
   "attachments": {},
   "cell_type": "markdown",
   "metadata": {},
   "source": [
    "#### Display Versions of Relevant Libraries, Frameworks, Languages, etc. Used in This Project"
   ]
  },
  {
   "cell_type": "code",
   "execution_count": 2,
   "metadata": {},
   "outputs": [
    {
     "name": "stdout",
     "output_type": "stream",
     "text": [
      "   Python Version: 3.9.12\n",
      "    NumPy Version: 1.23.3\n",
      "   Pandas Version: 1.5.0\n",
      "    Torch Version: 1.12.1\n"
     ]
    }
   ],
   "source": [
    "print(\"Python Version:\".rjust(18), sys.version[0:6])\n",
    "print(\"NumPy Version:\".rjust(18), np.__version__)\n",
    "print(\"Pandas Version:\".rjust(18), pd.__version__)\n",
    "print(\"Torch Version:\".rjust(18), torch.__version__)"
   ]
  },
  {
   "attachments": {},
   "cell_type": "markdown",
   "metadata": {},
   "source": [
    "### Data Ingestion & Preprocessing"
   ]
  },
  {
   "attachments": {},
   "cell_type": "markdown",
   "metadata": {},
   "source": [
    "#### Data Ingestion"
   ]
  },
  {
   "cell_type": "code",
   "execution_count": 3,
   "metadata": {},
   "outputs": [
    {
     "name": "stdout",
     "output_type": "stream",
     "text": [
      "<class 'pandas.core.frame.DataFrame'>\n",
      "RangeIndex: 20282 entries, 0 to 20281\n",
      "Data columns (total 7 columns):\n",
      " #   Column         Non-Null Count  Dtype  \n",
      "---  ------         --------------  -----  \n",
      " 0   Unnamed: 0     20282 non-null  int64  \n",
      " 1   Review_Date    20282 non-null  object \n",
      " 2   Author_Name    20281 non-null  object \n",
      " 3   Vehicle_Title  20282 non-null  object \n",
      " 4   Review_Title   20281 non-null  object \n",
      " 5   Review         20282 non-null  object \n",
      "        20282 non-null  float64\n",
      "dtypes: float64(1), int64(1), object(5)\n",
      "memory usage: 1.1+ MB\n"
     ]
    }
   ],
   "source": [
    "data_folder = \"/Users/briandunn/Documents/nlpnn/Datasets/Car_Reviews\"\n",
    "folder_concat = '/Users/briandunn/Documents/nlpnn/Datasets/Car_Reviews/Scraped_Car_Review_'\n",
    "files_to_keep = [\"Volkswagen\", \"volvo\", \"BMW\", \"mercedes-benz\"]\n",
    "file_type=\".csv\"\n",
    "\n",
    "all_files = glob.glob(os.path.join(data_folder, \"*.csv\"))\n",
    "fileset = [x for x in all_files if x.split(\"Scraped_Car_Review_\")[-1].split(\".\")[0] in files_to_keep]\n",
    "\n",
    "df = pd.concat((pd.read_csv(f, on_bad_lines=\"skip\", lineterminator='\\n') for f in fileset), ignore_index=True)\n",
    "\n",
    "df.info()"
   ]
  },
  {
   "attachments": {},
   "cell_type": "markdown",
   "metadata": {},
   "source": [
    "#### Data Preprocessing (Part 1)"
   ]
  },
  {
   "cell_type": "code",
   "execution_count": 4,
   "metadata": {},
   "outputs": [
    {
     "data": {
      "text/html": [
       "<div>\n",
       "<style scoped>\n",
       "    .dataframe tbody tr th:only-of-type {\n",
       "        vertical-align: middle;\n",
       "    }\n",
       "\n",
       "    .dataframe tbody tr th {\n",
       "        vertical-align: top;\n",
       "    }\n",
       "\n",
       "    .dataframe thead th {\n",
       "        text-align: right;\n",
       "    }\n",
       "</style>\n",
       "<table border=\"1\" class=\"dataframe\">\n",
       "  <thead>\n",
       "    <tr style=\"text-align: right;\">\n",
       "      <th></th>\n",
       "      <th>Review_Title</th>\n",
       "      <th>Review</th>\n",
       "      <th>Rating\\r</th>\n",
       "      <th>text</th>\n",
       "    </tr>\n",
       "  </thead>\n",
       "  <tbody>\n",
       "    <tr>\n",
       "      <th>0</th>\n",
       "      <td>Mercedes fun in sun</td>\n",
       "      <td>Clk is pricey on repairs . Tires wear out fas...</td>\n",
       "      <td>3.000</td>\n",
       "      <td>Mercedes fun in sun :  Clk is pricey on repair...</td>\n",
       "    </tr>\n",
       "    <tr>\n",
       "      <th>1</th>\n",
       "      <td>AMG Rocket!</td>\n",
       "      <td>Purchased this 2002 CLK55 AMG in April 2006 w...</td>\n",
       "      <td>5.000</td>\n",
       "      <td>AMG Rocket! :  Purchased this 2002 CLK55 AMG i...</td>\n",
       "    </tr>\n",
       "    <tr>\n",
       "      <th>2</th>\n",
       "      <td>Fine Coupe</td>\n",
       "      <td>I purchased this in October of 2005 with 25,0...</td>\n",
       "      <td>5.000</td>\n",
       "      <td>Fine Coupe :  I purchased this in October of 2...</td>\n",
       "    </tr>\n",
       "    <tr>\n",
       "      <th>3</th>\n",
       "      <td>CLK55</td>\n",
       "      <td>Initial electrical problems with the interior...</td>\n",
       "      <td>4.250</td>\n",
       "      <td>CLK55 :  Initial electrical problems with the ...</td>\n",
       "    </tr>\n",
       "    <tr>\n",
       "      <th>4</th>\n",
       "      <td>Best combo of comfort and speed!</td>\n",
       "      <td>This car has been great. We picked it up in J...</td>\n",
       "      <td>5.000</td>\n",
       "      <td>Best combo of comfort and speed! :  This car h...</td>\n",
       "    </tr>\n",
       "    <tr>\n",
       "      <th>...</th>\n",
       "      <td>...</td>\n",
       "      <td>...</td>\n",
       "      <td>...</td>\n",
       "      <td>...</td>\n",
       "    </tr>\n",
       "    <tr>\n",
       "      <th>20277</th>\n",
       "      <td>Love this car!</td>\n",
       "      <td>Not the fastest thing out there, but no slouc...</td>\n",
       "      <td>4.750</td>\n",
       "      <td>Love this car! :  Not the fastest thing out th...</td>\n",
       "    </tr>\n",
       "    <tr>\n",
       "      <th>20278</th>\n",
       "      <td>This is what I was looking for</td>\n",
       "      <td>I've only had this car a few weeks, but was l...</td>\n",
       "      <td>4.750</td>\n",
       "      <td>This is what I was looking for :  I've only ha...</td>\n",
       "    </tr>\n",
       "    <tr>\n",
       "      <th>20279</th>\n",
       "      <td>Fun Car</td>\n",
       "      <td>Caveat this review with the fact I've only ow...</td>\n",
       "      <td>4.875</td>\n",
       "      <td>Fun Car :  Caveat this review with the fact I'...</td>\n",
       "    </tr>\n",
       "    <tr>\n",
       "      <th>20280</th>\n",
       "      <td>my first Volvo</td>\n",
       "      <td>I now have 860 miles on my new C30, and I am ...</td>\n",
       "      <td>4.000</td>\n",
       "      <td>my first Volvo :  I now have 860 miles on my n...</td>\n",
       "    </tr>\n",
       "    <tr>\n",
       "      <th>20281</th>\n",
       "      <td>One rockin' hatch</td>\n",
       "      <td>Great all-around car, exceptionally well-exec...</td>\n",
       "      <td>4.875</td>\n",
       "      <td>One rockin' hatch :  Great all-around car, exc...</td>\n",
       "    </tr>\n",
       "  </tbody>\n",
       "</table>\n",
       "<p>20281 rows × 4 columns</p>\n",
       "</div>"
      ],
      "text/plain": [
       "                           Review_Title  \\\n",
       "0                   Mercedes fun in sun   \n",
       "1                           AMG Rocket!   \n",
       "2                            Fine Coupe   \n",
       "3                                 CLK55   \n",
       "4      Best combo of comfort and speed!   \n",
       "...                                 ...   \n",
       "20277                    Love this car!   \n",
       "20278    This is what I was looking for   \n",
       "20279                           Fun Car   \n",
       "20280                    my first Volvo   \n",
       "20281                 One rockin' hatch   \n",
       "\n",
       "                                                  Review  Rating\\r  \\\n",
       "0       Clk is pricey on repairs . Tires wear out fas...     3.000   \n",
       "1       Purchased this 2002 CLK55 AMG in April 2006 w...     5.000   \n",
       "2       I purchased this in October of 2005 with 25,0...     5.000   \n",
       "3       Initial electrical problems with the interior...     4.250   \n",
       "4       This car has been great. We picked it up in J...     5.000   \n",
       "...                                                  ...       ...   \n",
       "20277   Not the fastest thing out there, but no slouc...     4.750   \n",
       "20278   I've only had this car a few weeks, but was l...     4.750   \n",
       "20279   Caveat this review with the fact I've only ow...     4.875   \n",
       "20280   I now have 860 miles on my new C30, and I am ...     4.000   \n",
       "20281   Great all-around car, exceptionally well-exec...     4.875   \n",
       "\n",
       "                                                    text  \n",
       "0      Mercedes fun in sun :  Clk is pricey on repair...  \n",
       "1      AMG Rocket! :  Purchased this 2002 CLK55 AMG i...  \n",
       "2      Fine Coupe :  I purchased this in October of 2...  \n",
       "3      CLK55 :  Initial electrical problems with the ...  \n",
       "4      Best combo of comfort and speed! :  This car h...  \n",
       "...                                                  ...  \n",
       "20277  Love this car! :  Not the fastest thing out th...  \n",
       "20278  This is what I was looking for :  I've only ha...  \n",
       "20279  Fun Car :  Caveat this review with the fact I'...  \n",
       "20280  my first Volvo :  I now have 860 miles on my n...  \n",
       "20281  One rockin' hatch :  Great all-around car, exc...  \n",
       "\n",
       "[20281 rows x 4 columns]"
      ]
     },
     "execution_count": 4,
     "metadata": {},
     "output_type": "execute_result"
    }
   ],
   "source": [
    "# drop duplicate reviews\n",
    "df.drop_duplicates(inplace=True)\n",
    "\n",
    "\n",
    "# Features to drop, if they still are included in the dataframe\n",
    "cols_to_check = [\"Vehicle_Title\", \"Unnamed: 0\", \"Review_Date\", \"Author_Name\", \"level_0\", \"index\"] \n",
    "cols_to_drop = []\n",
    "for x in cols_to_check:\n",
    "    if x in df.columns:\n",
    "        cols_to_drop.append(x)\n",
    "\n",
    "df.drop(columns=cols_to_drop, inplace=True)\n",
    "\n",
    "# concatenate the review title and text and rename it to 'text' (use ' : ' as the seperator)\n",
    "df[\"text\"] = df[\"Review_Title\"] + \" : \" + df[\"Review\"]\n",
    "\n",
    "'''\n",
    "Since there were only 13 missing values (all of them are review titles) \n",
    "out of 226,000+ samples in the original dataset, I am just going to drop\n",
    "those samples. It does not look like any of these missing values were \n",
    "from this section of the dataset.\n",
    "'''\n",
    "review_title_feature = \"Review_Title\"\n",
    "if review_title_feature in df.columns:\n",
    "    df.dropna(axis=0, subset=[review_title_feature], inplace=True)\n",
    "\n",
    "df"
   ]
  },
  {
   "attachments": {},
   "cell_type": "markdown",
   "metadata": {},
   "source": [
    "#### Data Preprocessing (Part 2)"
   ]
  },
  {
   "cell_type": "code",
   "execution_count": 5,
   "metadata": {},
   "outputs": [
    {
     "data": {
      "text/html": [
       "<div>\n",
       "<style scoped>\n",
       "    .dataframe tbody tr th:only-of-type {\n",
       "        vertical-align: middle;\n",
       "    }\n",
       "\n",
       "    .dataframe tbody tr th {\n",
       "        vertical-align: top;\n",
       "    }\n",
       "\n",
       "    .dataframe thead th {\n",
       "        text-align: right;\n",
       "    }\n",
       "</style>\n",
       "<table border=\"1\" class=\"dataframe\">\n",
       "  <thead>\n",
       "    <tr style=\"text-align: right;\">\n",
       "      <th></th>\n",
       "      <th>label</th>\n",
       "      <th>text</th>\n",
       "    </tr>\n",
       "  </thead>\n",
       "  <tbody>\n",
       "    <tr>\n",
       "      <th>0</th>\n",
       "      <td>3.000</td>\n",
       "      <td>Mercedes fun in sun :  Clk is pricey on repair...</td>\n",
       "    </tr>\n",
       "    <tr>\n",
       "      <th>1</th>\n",
       "      <td>5.000</td>\n",
       "      <td>AMG Rocket! :  Purchased this 2002 CLK55 AMG i...</td>\n",
       "    </tr>\n",
       "    <tr>\n",
       "      <th>2</th>\n",
       "      <td>5.000</td>\n",
       "      <td>Fine Coupe :  I purchased this in October of 2...</td>\n",
       "    </tr>\n",
       "    <tr>\n",
       "      <th>3</th>\n",
       "      <td>4.250</td>\n",
       "      <td>CLK55 :  Initial electrical problems with the ...</td>\n",
       "    </tr>\n",
       "    <tr>\n",
       "      <th>4</th>\n",
       "      <td>5.000</td>\n",
       "      <td>Best combo of comfort and speed! :  This car h...</td>\n",
       "    </tr>\n",
       "    <tr>\n",
       "      <th>...</th>\n",
       "      <td>...</td>\n",
       "      <td>...</td>\n",
       "    </tr>\n",
       "    <tr>\n",
       "      <th>20277</th>\n",
       "      <td>4.750</td>\n",
       "      <td>Love this car! :  Not the fastest thing out th...</td>\n",
       "    </tr>\n",
       "    <tr>\n",
       "      <th>20278</th>\n",
       "      <td>4.750</td>\n",
       "      <td>This is what I was looking for :  I've only ha...</td>\n",
       "    </tr>\n",
       "    <tr>\n",
       "      <th>20279</th>\n",
       "      <td>4.875</td>\n",
       "      <td>Fun Car :  Caveat this review with the fact I'...</td>\n",
       "    </tr>\n",
       "    <tr>\n",
       "      <th>20280</th>\n",
       "      <td>4.000</td>\n",
       "      <td>my first Volvo :  I now have 860 miles on my n...</td>\n",
       "    </tr>\n",
       "    <tr>\n",
       "      <th>20281</th>\n",
       "      <td>4.875</td>\n",
       "      <td>One rockin' hatch :  Great all-around car, exc...</td>\n",
       "    </tr>\n",
       "  </tbody>\n",
       "</table>\n",
       "<p>20281 rows × 2 columns</p>\n",
       "</div>"
      ],
      "text/plain": [
       "       label                                               text\n",
       "0      3.000  Mercedes fun in sun :  Clk is pricey on repair...\n",
       "1      5.000  AMG Rocket! :  Purchased this 2002 CLK55 AMG i...\n",
       "2      5.000  Fine Coupe :  I purchased this in October of 2...\n",
       "3      4.250  CLK55 :  Initial electrical problems with the ...\n",
       "4      5.000  Best combo of comfort and speed! :  This car h...\n",
       "...      ...                                                ...\n",
       "20277  4.750  Love this car! :  Not the fastest thing out th...\n",
       "20278  4.750  This is what I was looking for :  I've only ha...\n",
       "20279  4.875  Fun Car :  Caveat this review with the fact I'...\n",
       "20280  4.000  my first Volvo :  I now have 860 miles on my n...\n",
       "20281  4.875  One rockin' hatch :  Great all-around car, exc...\n",
       "\n",
       "[20281 rows x 2 columns]"
      ]
     },
     "execution_count": 5,
     "metadata": {},
     "output_type": "execute_result"
    }
   ],
   "source": [
    "ratings_col = \"Rating\\r\"\n",
    "if ratings_col in df.columns:\n",
    "    df[\"Rating\\r\"] = df[\"Rating\\r\"].astype(float)\n",
    "    df.rename(columns={\"Rating\\r\" : \"label\"}, inplace=True)\n",
    "\n",
    "\n",
    "# Drop Unused Features\n",
    "cols_to_check = [\"Review_Title\", \"Review\"] \n",
    "cols_to_drop = []\n",
    "\n",
    "\n",
    "for x in cols_to_check:\n",
    "    if np.any(x in df.columns):\n",
    "        if np.any(\"text\" in df.columns):\n",
    "            cols_to_drop.append(x)\n",
    "\n",
    "df.drop(columns=cols_to_drop, inplace=True)\n",
    "\n",
    "df"
   ]
  },
  {
   "attachments": {},
   "cell_type": "markdown",
   "metadata": {},
   "source": [
    "#### Visulatization: Distribution of"
   ]
  },
  {
   "cell_type": "code",
   "execution_count": 6,
   "metadata": {},
   "outputs": [
    {
     "data": {
      "image/png": "[encoded data removed]",
      "text/plain": [
       "<Figure size 1800x800 with 1 Axes>"
      ]
     },
     "metadata": {},
     "output_type": "display_data"
    }
   ],
   "source": [
    "df.hist(\"label\", color=\"Blue\", grid=False, bins=25, figsize=(18,8), range=(0,5))\n",
    "plt.suptitle('')\n",
    "plt.title('Car Ratings')\n",
    "plt.xlabel('Car Rating (0-5)')\n",
    "plt.ylabel('# of Ratings')\n",
    "plt.show()"
   ]
  },
  {
   "attachments": {},
   "cell_type": "markdown",
   "metadata": {},
   "source": [
    "#### Visualiation of Input Length"
   ]
  },
  {
   "cell_type": "code",
   "execution_count": 7,
   "metadata": {},
   "outputs": [
    {
     "data": {
      "image/png": "[encoded data removed]",
      "text/plain": [
       "<Figure size 1800x800 with 1 Axes>"
      ]
     },
     "metadata": {},
     "output_type": "display_data"
    }
   ],
   "source": [
    "df['Text Length'] = df['text'].str.split().apply(len)\n",
    "\n",
    "df.hist(\"Text Length\", color=\"Blue\", grid=False, bins=250, figsize=(18,8))\n",
    "plt.suptitle('')\n",
    "plt.xlabel('Text Length (in Words)')\n",
    "plt.ylabel('# of Samples')\n",
    "plt.show()"
   ]
  },
  {
   "attachments": {},
   "cell_type": "markdown",
   "metadata": {},
   "source": [
    "#### Drop Unnecessary Features & Trim Overly Lengthy Reviews"
   ]
  },
  {
   "cell_type": "code",
   "execution_count": 8,
   "metadata": {},
   "outputs": [
    {
     "name": "stdout",
     "output_type": "stream",
     "text": [
      "<class 'pandas.core.frame.DataFrame'>\n",
      "RangeIndex: 18864 entries, 0 to 18863\n",
      "Data columns (total 3 columns):\n",
      " #   Column  Non-Null Count  Dtype  \n",
      "---  ------  --------------  -----  \n",
      " 0   index   18864 non-null  int64  \n",
      " 1   label   18864 non-null  float64\n",
      " 2   text    18864 non-null  object \n",
      "dtypes: float64(1), int64(1), object(1)\n",
      "memory usage: 442.2+ KB\n"
     ]
    },
    {
     "name": "stderr",
     "output_type": "stream",
     "text": [
      "/var/folders/93/v_c2ph_17t97zdkzc4_ccjtw0000gn/T/ipykernel_20873/3607917477.py:3: SettingWithCopyWarning: \n",
      "A value is trying to be set on a copy of a slice from a DataFrame\n",
      "\n",
      "See the caveats in the documentation: https://pandas.pydata.org/pandas-docs/stable/user_guide/indexing.html#returning-a-view-versus-a-copy\n",
      "  df.drop(columns=[\"Text Length\"], inplace=True)\n"
     ]
    }
   ],
   "source": [
    "df = df[df[\"Text Length\"] < 151]\n",
    "\n",
    "df.drop(columns=[\"Text Length\"], inplace=True)\n",
    "\n",
    "df.reset_index(inplace=True)\n",
    "\n",
    "df.info()"
   ]
  },
  {
   "attachments": {},
   "cell_type": "markdown",
   "metadata": {},
   "source": [
    "### Actual Project"
   ]
  },
  {
   "attachments": {},
   "cell_type": "markdown",
   "metadata": {},
   "source": [
    "#### Convert Pandas DataFrame to Datasets"
   ]
  },
  {
   "cell_type": "code",
   "execution_count": 9,
   "metadata": {},
   "outputs": [],
   "source": [
    "dataset = Dataset.from_pandas(df)"
   ]
  },
  {
   "attachments": {},
   "cell_type": "markdown",
   "metadata": {},
   "source": [
    "#### Split Dataset into Training & Testing Dataset"
   ]
  },
  {
   "cell_type": "code",
   "execution_count": 10,
   "metadata": {},
   "outputs": [
    {
     "name": "stdout",
     "output_type": "stream",
     "text": [
      "Training data shape: (15091, 3)\n",
      "Testing data shape: (1887, 3)\n",
      "Eval data shape: (1886, 3)\n"
     ]
    }
   ],
   "source": [
    "train_testvalid = dataset.train_test_split(test_size=0.20)\n",
    "test_valid = train_testvalid['test'].train_test_split(test_size=0.50)\n",
    "\n",
    "ds = DatasetDict({\n",
    "    'train' : train_testvalid['train'],\n",
    "    'test' : test_valid['test'],\n",
    "    'eval' : test_valid['train']\n",
    "})\n",
    "\n",
    "print('Training data shape:', ds['train'].shape)\n",
    "print('Testing data shape:', ds['test'].shape)\n",
    "print('Eval data shape:', ds['eval'].shape)"
   ]
  },
  {
   "attachments": {},
   "cell_type": "markdown",
   "metadata": {},
   "source": [
    "##### Basic Values"
   ]
  },
  {
   "cell_type": "code",
   "execution_count": 11,
   "metadata": {},
   "outputs": [],
   "source": [
    "NUM_OF_EPOCHS = 5\n",
    "MAX_INPUT_LEN = int(round(150*1.3, 0))\n",
    "\n",
    "MODEL_CKPT = \"distilbert-base-uncased\"\n",
    "DEVICE = torch.device(\"cuda\" if torch.cuda.is_available() else \"cpu\")\n",
    "\n",
    "NUM_LABELS = 1\n",
    "BATCH_SIZE = 64\n",
    "\n",
    "MODEL_NAME = f\"{MODEL_CKPT}-Regression-Edmunds_Car_Reviews\"\n",
    "LEARNING_RATE = 2e-5\n",
    "\n",
    "set_seed(42)"
   ]
  },
  {
   "attachments": {},
   "cell_type": "markdown",
   "metadata": {},
   "source": [
    "#### HuggingFace Access Token & Install git lfs"
   ]
  },
  {
   "cell_type": "code",
   "execution_count": 12,
   "metadata": {},
   "outputs": [
    {
     "name": "stdout",
     "output_type": "stream",
     "text": [
      "Git LFS initialized.\n"
     ]
    }
   ],
   "source": [
    "# HuggingFace Access Token ... \n",
    "\n",
    "!git lfs install"
   ]
  },
  {
   "attachments": {},
   "cell_type": "markdown",
   "metadata": {},
   "source": [
    "#### Tokenize Entire Dataset"
   ]
  },
  {
   "cell_type": "code",
   "execution_count": 13,
   "metadata": {},
   "outputs": [
    {
     "data": {
      "application/vnd.jupyter.widget-view+json": {
       "model_id": "a75dc3a2f7ce4aa88cdbaf49aa40c20b",
       "version_major": 2,
       "version_minor": 0
      },
      "text/plain": [
       "A Jupyter Widget"
      ]
     },
     "metadata": {},
     "output_type": "display_data"
    },
    {
     "data": {
      "application/vnd.jupyter.widget-view+json": {
       "model_id": "b43c6cb48cbf4b5086795724713b3650",
       "version_major": 2,
       "version_minor": 0
      },
      "text/plain": [
       "A Jupyter Widget"
      ]
     },
     "metadata": {},
     "output_type": "display_data"
    },
    {
     "data": {
      "application/vnd.jupyter.widget-view+json": {
       "model_id": "94e3d90177064b41ab7460acc5ad0d94",
       "version_major": 2,
       "version_minor": 0
      },
      "text/plain": [
       "A Jupyter Widget"
      ]
     },
     "metadata": {},
     "output_type": "display_data"
    }
   ],
   "source": [
    "tokenizer = AutoTokenizer.from_pretrained(MODEL_CKPT)\n",
    "\n",
    "def tokenize(batch):\n",
    "    return tokenizer(batch['text'], truncation=True, padding=True, max_length=MAX_INPUT_LEN, return_tensors=\"np\")\n",
    "\n",
    "encoded_ds = ds.map(tokenize, batched=True, batch_size=None)"
   ]
  },
  {
   "attachments": {},
   "cell_type": "markdown",
   "metadata": {},
   "source": [
    "#### Print Example to Ensure Edits Worked As Expected"
   ]
  },
  {
   "cell_type": "code",
   "execution_count": 14,
   "metadata": {},
   "outputs": [
    {
     "name": "stdout",
     "output_type": "stream",
     "text": [
      "{'index': Value(dtype='int64', id=None), 'label': Value(dtype='float64', id=None), 'text': Value(dtype='string', id=None), 'input_ids': Sequence(feature=Value(dtype='int32', id=None), length=-1, id=None), 'attention_mask': Sequence(feature=Value(dtype='int8', id=None), length=-1, id=None)}\n",
      "Dataset({\n",
      "    features: ['index', 'label', 'text', 'input_ids', 'attention_mask'],\n",
      "    num_rows: 15091\n",
      "})\n"
     ]
    }
   ],
   "source": [
    "print(encoded_ds['train'].features)\n",
    "print(encoded_ds['train'])"
   ]
  },
  {
   "attachments": {},
   "cell_type": "markdown",
   "metadata": {},
   "source": [
    "#### Initialize Model"
   ]
  },
  {
   "cell_type": "code",
   "execution_count": 15,
   "metadata": {},
   "outputs": [
    {
     "name": "stderr",
     "output_type": "stream",
     "text": [
      "Some weights of the model checkpoint at distilbert-base-uncased were not used when initializing DistilBertForSequenceClassification: ['vocab_layer_norm.bias', 'vocab_layer_norm.weight', 'vocab_projector.bias', 'vocab_transform.weight', 'vocab_transform.bias', 'vocab_projector.weight']\n",
      "- This IS expected if you are initializing DistilBertForSequenceClassification from the checkpoint of a model trained on another task or with another architecture (e.g. initializing a BertForSequenceClassification model from a BertForPreTraining model).\n",
      "- This IS NOT expected if you are initializing DistilBertForSequenceClassification from the checkpoint of a model that you expect to be exactly identical (initializing a BertForSequenceClassification model from a BertForSequenceClassification model).\n",
      "Some weights of DistilBertForSequenceClassification were not initialized from the model checkpoint at distilbert-base-uncased and are newly initialized: ['pre_classifier.bias', 'pre_classifier.weight', 'classifier.weight', 'classifier.bias']\n",
      "You should probably TRAIN this model on a down-stream task to be able to use it for predictions and inference.\n"
     ]
    }
   ],
   "source": [
    "model = (AutoModelForSequenceClassification.from_pretrained(MODEL_CKPT, num_labels=NUM_LABELS)).to(DEVICE)"
   ]
  },
  {
   "attachments": {},
   "cell_type": "markdown",
   "metadata": {},
   "source": [
    "#### Metrics Evaluation Function"
   ]
  },
  {
   "cell_type": "code",
   "execution_count": 16,
   "metadata": {},
   "outputs": [],
   "source": [
    "def compute_metrics_for_regression(eval_pred):\n",
    "    logits, labels = eval_pred\n",
    "    labels = labels.reshape(-1, 1)\n",
    "\n",
    "    mse = mean_squared_error(labels, logits)\n",
    "    rmse = mean_squared_error(labels, logits, squared=False)\n",
    "    mae = mean_absolute_error(labels, logits)\n",
    "        \n",
    "    return {\"mse\": mse, \"rmse\": rmse, \"mae\": mae}"
   ]
  },
  {
   "attachments": {},
   "cell_type": "markdown",
   "metadata": {},
   "source": [
    "#### Trainer Arguments"
   ]
  },
  {
   "cell_type": "code",
   "execution_count": 17,
   "metadata": {},
   "outputs": [],
   "source": [
    "training_args = TrainingArguments(output_dir=MODEL_NAME, \n",
    "                                  num_train_epochs=NUM_OF_EPOCHS, \n",
    "                                  per_device_train_batch_size=BATCH_SIZE, \n",
    "                                  per_device_eval_batch_size=BATCH_SIZE, \n",
    "                                  weight_decay=0.01,\n",
    "                                  learning_rate=LEARNING_RATE,\n",
    "                                  no_cuda=True,\n",
    "                                  evaluation_strategy='epoch',\n",
    "                                  save_total_limit=10,\n",
    "                                  logging_strategy='epoch',\n",
    "                                  load_best_model_at_end=True,\n",
    "                                  metric_for_best_model='mae',\n",
    "                                  greater_is_better=False,\n",
    "                                  save_strategy='epoch',\n",
    "                                  push_to_hub=True)"
   ]
  },
  {
   "attachments": {},
   "cell_type": "markdown",
   "metadata": {},
   "source": [
    "####  Build Trainer"
   ]
  },
  {
   "cell_type": "code",
   "execution_count": 18,
   "metadata": {},
   "outputs": [
    {
     "name": "stderr",
     "output_type": "stream",
     "text": [
      "Cloning https://huggingface.co/DunnBC22/distilbert-base-uncased-Regression-Edmunds_Car_Reviews into local empty directory.\n"
     ]
    }
   ],
   "source": [
    "trainer = Trainer(model=model, \n",
    "                  args=training_args, \n",
    "                  train_dataset=encoded_ds['train'], \n",
    "                  eval_dataset=encoded_ds['eval'],\n",
    "                  tokenizer=tokenizer,\n",
    "                  compute_metrics=compute_metrics_for_regression)"
   ]
  },
  {
   "attachments": {},
   "cell_type": "markdown",
   "metadata": {},
   "source": [
    "#### Train Trainer"
   ]
  },
  {
   "cell_type": "code",
   "execution_count": 19,
   "metadata": {},
   "outputs": [
    {
     "name": "stderr",
     "output_type": "stream",
     "text": [
      "The following columns in the training set don't have a corresponding argument in `DistilBertForSequenceClassification.forward` and have been ignored: text, index. If text, index are not expected by `DistilBertForSequenceClassification.forward`,  you can safely ignore this message.\n",
      "/Users/briandunn/Documents/nlpnn/nlp_ml/lib/python3.9/site-packages/transformers/optimization.py:306: FutureWarning: This implementation of AdamW is deprecated and will be removed in a future version. Use the PyTorch implementation torch.optim.AdamW instead, or set `no_deprecation_warning=True` to disable this warning\n",
      "  warnings.warn(\n",
      "***** Running training *****\n",
      "  Num examples = 15091\n",
      "  Num Epochs = 5\n",
      "  Instantaneous batch size per device = 64\n",
      "  Total train batch size (w. parallel, distributed & accumulation) = 64\n",
      "  Gradient Accumulation steps = 1\n",
      "  Total optimization steps = 1180\n"
     ]
    },
    {
     "data": {
      "application/vnd.jupyter.widget-view+json": {
       "model_id": "b813ab2f467b4d77b0e31641b30b03e3",
       "version_major": 2,
       "version_minor": 0
      },
      "text/plain": [
       "A Jupyter Widget"
      ]
     },
     "metadata": {},
     "output_type": "display_data"
    },
    {
     "name": "stderr",
     "output_type": "stream",
     "text": [
      "You're using a DistilBertTokenizerFast tokenizer. Please note that with a fast tokenizer, using the `__call__` method is faster than using a method to encode the text followed by a call to the `pad` method to get a padded encoding.\n",
      "The following columns in the evaluation set don't have a corresponding argument in `DistilBertForSequenceClassification.forward` and have been ignored: text, index. If text, index are not expected by `DistilBertForSequenceClassification.forward`,  you can safely ignore this message.\n",
      "***** Running Evaluation *****\n",
      "  Num examples = 1886\n",
      "  Batch size = 64\n"
     ]
    },
    {
     "name": "stdout",
     "output_type": "stream",
     "text": [
      "{'loss': 1.4892, 'learning_rate': 1.6000000000000003e-05, 'epoch': 1.0}\n"
     ]
    },
    {
     "data": {
      "application/vnd.jupyter.widget-view+json": {
       "model_id": "3b69a977401f4cc5a83b3b9f0e50b0c3",
       "version_major": 2,
       "version_minor": 0
      },
      "text/plain": [
       "A Jupyter Widget"
      ]
     },
     "metadata": {},
     "output_type": "display_data"
    },
    {
     "name": "stderr",
     "output_type": "stream",
     "text": [
      "Saving model checkpoint to distilbert-base-uncased-Regression-Edmunds_Car_Reviews/checkpoint-236\n",
      "Configuration saved in distilbert-base-uncased-Regression-Edmunds_Car_Reviews/checkpoint-236/config.json\n",
      "Model weights saved in distilbert-base-uncased-Regression-Edmunds_Car_Reviews/checkpoint-236/pytorch_model.bin\n",
      "tokenizer config file saved in distilbert-base-uncased-Regression-Edmunds_Car_Reviews/checkpoint-236/tokenizer_config.json\n",
      "Special tokens file saved in distilbert-base-uncased-Regression-Edmunds_Car_Reviews/checkpoint-236/special_tokens_map.json\n"
     ]
    },
    {
     "name": "stdout",
     "output_type": "stream",
     "text": [
      "{'eval_loss': 0.25871288776397705, 'eval_mse': 0.25871288776397705, 'eval_rmse': 0.5086382627487183, 'eval_mae': 0.31197628378868103, 'eval_runtime': 807.7224, 'eval_samples_per_second': 2.335, 'eval_steps_per_second': 0.037, 'epoch': 1.0}\n"
     ]
    },
    {
     "name": "stderr",
     "output_type": "stream",
     "text": [
      "tokenizer config file saved in distilbert-base-uncased-Regression-Edmunds_Car_Reviews/tokenizer_config.json\n",
      "Special tokens file saved in distilbert-base-uncased-Regression-Edmunds_Car_Reviews/special_tokens_map.json\n",
      "The following columns in the evaluation set don't have a corresponding argument in `DistilBertForSequenceClassification.forward` and have been ignored: text, index. If text, index are not expected by `DistilBertForSequenceClassification.forward`,  you can safely ignore this message.\n",
      "***** Running Evaluation *****\n",
      "  Num examples = 1886\n",
      "  Batch size = 64\n"
     ]
    },
    {
     "name": "stdout",
     "output_type": "stream",
     "text": [
      "{'loss': 0.2384, 'learning_rate': 1.2e-05, 'epoch': 2.0}\n"
     ]
    },
    {
     "data": {
      "application/vnd.jupyter.widget-view+json": {
       "model_id": "6b48612e3aec4202a71d4750c4dabcda",
       "version_major": 2,
       "version_minor": 0
      },
      "text/plain": [
       "A Jupyter Widget"
      ]
     },
     "metadata": {},
     "output_type": "display_data"
    },
    {
     "name": "stderr",
     "output_type": "stream",
     "text": [
      "Saving model checkpoint to distilbert-base-uncased-Regression-Edmunds_Car_Reviews/checkpoint-472\n",
      "Configuration saved in distilbert-base-uncased-Regression-Edmunds_Car_Reviews/checkpoint-472/config.json\n",
      "Model weights saved in distilbert-base-uncased-Regression-Edmunds_Car_Reviews/checkpoint-472/pytorch_model.bin\n",
      "tokenizer config file saved in distilbert-base-uncased-Regression-Edmunds_Car_Reviews/checkpoint-472/tokenizer_config.json\n",
      "Special tokens file saved in distilbert-base-uncased-Regression-Edmunds_Car_Reviews/checkpoint-472/special_tokens_map.json\n"
     ]
    },
    {
     "name": "stdout",
     "output_type": "stream",
     "text": [
      "{'eval_loss': 0.23590214550495148, 'eval_mse': 0.23590214550495148, 'eval_rmse': 0.48569759726524353, 'eval_mae': 0.2993943989276886, 'eval_runtime': 807.7087, 'eval_samples_per_second': 2.335, 'eval_steps_per_second': 0.037, 'epoch': 2.0}\n"
     ]
    },
    {
     "name": "stderr",
     "output_type": "stream",
     "text": [
      "tokenizer config file saved in distilbert-base-uncased-Regression-Edmunds_Car_Reviews/tokenizer_config.json\n",
      "Special tokens file saved in distilbert-base-uncased-Regression-Edmunds_Car_Reviews/special_tokens_map.json\n",
      "The following columns in the evaluation set don't have a corresponding argument in `DistilBertForSequenceClassification.forward` and have been ignored: text, index. If text, index are not expected by `DistilBertForSequenceClassification.forward`,  you can safely ignore this message.\n",
      "***** Running Evaluation *****\n",
      "  Num examples = 1886\n",
      "  Batch size = 64\n"
     ]
    },
    {
     "name": "stdout",
     "output_type": "stream",
     "text": [
      "{'loss': 0.188, 'learning_rate': 8.000000000000001e-06, 'epoch': 3.0}\n"
     ]
    },
    {
     "data": {
      "application/vnd.jupyter.widget-view+json": {
       "model_id": "0452caa6759d45c8bcd0488912dbae34",
       "version_major": 2,
       "version_minor": 0
      },
      "text/plain": [
       "A Jupyter Widget"
      ]
     },
     "metadata": {},
     "output_type": "display_data"
    },
    {
     "name": "stderr",
     "output_type": "stream",
     "text": [
      "Saving model checkpoint to distilbert-base-uncased-Regression-Edmunds_Car_Reviews/checkpoint-708\n",
      "Configuration saved in distilbert-base-uncased-Regression-Edmunds_Car_Reviews/checkpoint-708/config.json\n",
      "Model weights saved in distilbert-base-uncased-Regression-Edmunds_Car_Reviews/checkpoint-708/pytorch_model.bin\n",
      "tokenizer config file saved in distilbert-base-uncased-Regression-Edmunds_Car_Reviews/checkpoint-708/tokenizer_config.json\n",
      "Special tokens file saved in distilbert-base-uncased-Regression-Edmunds_Car_Reviews/checkpoint-708/special_tokens_map.json\n"
     ]
    },
    {
     "name": "stdout",
     "output_type": "stream",
     "text": [
      "{'eval_loss': 0.2303593009710312, 'eval_mse': 0.2303593009710312, 'eval_rmse': 0.47995761036872864, 'eval_mae': 0.29480335116386414, 'eval_runtime': 812.9968, 'eval_samples_per_second': 2.32, 'eval_steps_per_second': 0.037, 'epoch': 3.0}\n"
     ]
    },
    {
     "name": "stderr",
     "output_type": "stream",
     "text": [
      "tokenizer config file saved in distilbert-base-uncased-Regression-Edmunds_Car_Reviews/tokenizer_config.json\n",
      "Special tokens file saved in distilbert-base-uncased-Regression-Edmunds_Car_Reviews/special_tokens_map.json\n",
      "The following columns in the evaluation set don't have a corresponding argument in `DistilBertForSequenceClassification.forward` and have been ignored: text, index. If text, index are not expected by `DistilBertForSequenceClassification.forward`,  you can safely ignore this message.\n",
      "***** Running Evaluation *****\n",
      "  Num examples = 1886\n",
      "  Batch size = 64\n"
     ]
    },
    {
     "name": "stdout",
     "output_type": "stream",
     "text": [
      "{'loss': 0.1558, 'learning_rate': 4.000000000000001e-06, 'epoch': 4.0}\n"
     ]
    },
    {
     "data": {
      "application/vnd.jupyter.widget-view+json": {
       "model_id": "67b5b0fa0c9d457187c633d776f45e75",
       "version_major": 2,
       "version_minor": 0
      },
      "text/plain": [
       "A Jupyter Widget"
      ]
     },
     "metadata": {},
     "output_type": "display_data"
    },
    {
     "name": "stderr",
     "output_type": "stream",
     "text": [
      "Saving model checkpoint to distilbert-base-uncased-Regression-Edmunds_Car_Reviews/checkpoint-944\n",
      "Configuration saved in distilbert-base-uncased-Regression-Edmunds_Car_Reviews/checkpoint-944/config.json\n",
      "Model weights saved in distilbert-base-uncased-Regression-Edmunds_Car_Reviews/checkpoint-944/pytorch_model.bin\n",
      "tokenizer config file saved in distilbert-base-uncased-Regression-Edmunds_Car_Reviews/checkpoint-944/tokenizer_config.json\n",
      "Special tokens file saved in distilbert-base-uncased-Regression-Edmunds_Car_Reviews/checkpoint-944/special_tokens_map.json\n"
     ]
    },
    {
     "name": "stdout",
     "output_type": "stream",
     "text": [
      "{'eval_loss': 0.2442595213651657, 'eval_mse': 0.2442595213651657, 'eval_rmse': 0.4942261874675751, 'eval_mae': 0.2980869710445404, 'eval_runtime': 807.7986, 'eval_samples_per_second': 2.335, 'eval_steps_per_second': 0.037, 'epoch': 4.0}\n"
     ]
    },
    {
     "name": "stderr",
     "output_type": "stream",
     "text": [
      "tokenizer config file saved in distilbert-base-uncased-Regression-Edmunds_Car_Reviews/tokenizer_config.json\n",
      "Special tokens file saved in distilbert-base-uncased-Regression-Edmunds_Car_Reviews/special_tokens_map.json\n",
      "The following columns in the evaluation set don't have a corresponding argument in `DistilBertForSequenceClassification.forward` and have been ignored: text, index. If text, index are not expected by `DistilBertForSequenceClassification.forward`,  you can safely ignore this message.\n",
      "***** Running Evaluation *****\n",
      "  Num examples = 1886\n",
      "  Batch size = 64\n"
     ]
    },
    {
     "name": "stdout",
     "output_type": "stream",
     "text": [
      "{'loss': 0.133, 'learning_rate': 0.0, 'epoch': 5.0}\n"
     ]
    },
    {
     "data": {
      "application/vnd.jupyter.widget-view+json": {
       "model_id": "f66c7264b3f44125992ff1552b4661d2",
       "version_major": 2,
       "version_minor": 0
      },
      "text/plain": [
       "A Jupyter Widget"
      ]
     },
     "metadata": {},
     "output_type": "display_data"
    },
    {
     "name": "stderr",
     "output_type": "stream",
     "text": [
      "Saving model checkpoint to distilbert-base-uncased-Regression-Edmunds_Car_Reviews/checkpoint-1180\n",
      "Configuration saved in distilbert-base-uncased-Regression-Edmunds_Car_Reviews/checkpoint-1180/config.json\n",
      "Model weights saved in distilbert-base-uncased-Regression-Edmunds_Car_Reviews/checkpoint-1180/pytorch_model.bin\n",
      "tokenizer config file saved in distilbert-base-uncased-Regression-Edmunds_Car_Reviews/checkpoint-1180/tokenizer_config.json\n",
      "Special tokens file saved in distilbert-base-uncased-Regression-Edmunds_Car_Reviews/checkpoint-1180/special_tokens_map.json\n"
     ]
    },
    {
     "name": "stdout",
     "output_type": "stream",
     "text": [
      "{'eval_loss': 0.24097107350826263, 'eval_mse': 0.24097107350826263, 'eval_rmse': 0.4908880591392517, 'eval_mae': 0.2982730269432068, 'eval_runtime': 807.8488, 'eval_samples_per_second': 2.335, 'eval_steps_per_second': 0.037, 'epoch': 5.0}\n"
     ]
    },
    {
     "name": "stderr",
     "output_type": "stream",
     "text": [
      "tokenizer config file saved in distilbert-base-uncased-Regression-Edmunds_Car_Reviews/tokenizer_config.json\n",
      "Special tokens file saved in distilbert-base-uncased-Regression-Edmunds_Car_Reviews/special_tokens_map.json\n",
      "\n",
      "\n",
      "Training completed. Do not forget to share your model on huggingface.co/models =)\n",
      "\n",
      "\n",
      "Loading best model from distilbert-base-uncased-Regression-Edmunds_Car_Reviews/checkpoint-708 (score: 0.29480335116386414).\n"
     ]
    },
    {
     "name": "stdout",
     "output_type": "stream",
     "text": [
      "{'train_runtime': 101166.8205, 'train_samples_per_second': 0.746, 'train_steps_per_second': 0.012, 'train_loss': 0.44086803339295466, 'epoch': 5.0}\n"
     ]
    },
    {
     "data": {
      "text/plain": [
       "TrainOutput(global_step=1180, training_loss=0.44086803339295466, metrics={'train_runtime': 101166.8205, 'train_samples_per_second': 0.746, 'train_steps_per_second': 0.012, 'train_loss': 0.44086803339295466, 'epoch': 5.0})"
      ]
     },
     "execution_count": 19,
     "metadata": {},
     "output_type": "execute_result"
    }
   ],
   "source": [
    "trainer.train()"
   ]
  },
  {
   "attachments": {},
   "cell_type": "markdown",
   "metadata": {},
   "source": [
    "### Evaluate Model"
   ]
  },
  {
   "attachments": {},
   "cell_type": "markdown",
   "metadata": {},
   "source": [
    "#### Generate Predictions"
   ]
  },
  {
   "cell_type": "code",
   "execution_count": 20,
   "metadata": {},
   "outputs": [
    {
     "name": "stderr",
     "output_type": "stream",
     "text": [
      "The following columns in the evaluation set don't have a corresponding argument in `DistilBertForSequenceClassification.forward` and have been ignored: text, index. If text, index are not expected by `DistilBertForSequenceClassification.forward`,  you can safely ignore this message.\n",
      "***** Running Evaluation *****\n",
      "  Num examples = 1887\n",
      "  Batch size = 64\n"
     ]
    },
    {
     "data": {
      "application/vnd.jupyter.widget-view+json": {
       "model_id": "2f73a9c520be4763bdaaad0ba98d7a60",
       "version_major": 2,
       "version_minor": 0
      },
      "text/plain": [
       "A Jupyter Widget"
      ]
     },
     "metadata": {},
     "output_type": "display_data"
    },
    {
     "data": {
      "text/plain": [
       "{'eval_loss': 0.19992828369140625,\n",
       " 'eval_mse': 0.19992826879024506,\n",
       " 'eval_rmse': 0.4471333920955658,\n",
       " 'eval_mae': 0.28235679864883423,\n",
       " 'eval_runtime': 810.7269,\n",
       " 'eval_samples_per_second': 2.328,\n",
       " 'eval_steps_per_second': 0.037,\n",
       " 'epoch': 5.0}"
      ]
     },
     "execution_count": 20,
     "metadata": {},
     "output_type": "execute_result"
    }
   ],
   "source": [
    "trainer.eval_dataset = encoded_ds['test']\n",
    "trainer.evaluate()"
   ]
  },
  {
   "attachments": {},
   "cell_type": "markdown",
   "metadata": {},
   "source": [
    "#### Push Model to Hub"
   ]
  },
  {
   "cell_type": "code",
   "execution_count": 21,
   "metadata": {},
   "outputs": [
    {
     "name": "stderr",
     "output_type": "stream",
     "text": [
      "Saving model checkpoint to distilbert-base-uncased-Regression-Edmunds_Car_Reviews\n",
      "Configuration saved in distilbert-base-uncased-Regression-Edmunds_Car_Reviews/config.json\n",
      "Model weights saved in distilbert-base-uncased-Regression-Edmunds_Car_Reviews/pytorch_model.bin\n",
      "tokenizer config file saved in distilbert-base-uncased-Regression-Edmunds_Car_Reviews/tokenizer_config.json\n",
      "Special tokens file saved in distilbert-base-uncased-Regression-Edmunds_Car_Reviews/special_tokens_map.json\n",
      "remote: Scanning LFS files for validity, may be slow...        \n",
      "remote: LFS file scan complete.        \n",
      "To https://huggingface.co/DunnBC22/distilbert-base-uncased-Regression-Edmunds_Car_Reviews\n",
      "   081ba91..bf4b66c  main -> main\n",
      "\n",
      "Dropping the following result as it does not have all the necessary fields:\n",
      "{'task': {'name': 'Text Classification', 'type': 'text-classification'}}\n",
      "To https://huggingface.co/DunnBC22/distilbert-base-uncased-Regression-Edmunds_Car_Reviews\n",
      "   bf4b66c..2fb66cc  main -> main\n",
      "\n"
     ]
    },
    {
     "data": {
      "text/plain": [
       "'https://huggingface.co/DunnBC22/distilbert-base-uncased-Regression-Edmunds_Car_Reviews/commit/bf4b66c8504fb65bc1183b3e90e47ab5df0a2906'"
      ]
     },
     "execution_count": 21,
     "metadata": {},
     "output_type": "execute_result"
    }
   ],
   "source": [
    "trainer.push_to_hub(commit_message=\"All Dunn!!!\")"
   ]
  },
  {
   "attachments": {},
   "cell_type": "markdown",
   "metadata": {},
   "source": [
    "### Notes & Other Takeaways From This Project\n",
    "****\n",
    "- I was pleasantly surprised at how quickly the model was optimized.\n",
    "****\n",
    "- I intend to train two additional projects that are similar to this one: one for car reviews of American made automobiles, and one of non-European Imported automobiles.\n",
    "****"
   ]
  }
 ],
 "metadata": {
  "kernelspec": {
   "display_name": "nlp_ml",
   "language": "python",
   "name": "python3"
  },
  "language_info": {
   "codemirror_mode": {
    "name": "ipython",
    "version": 3
   },
   "file_extension": ".py",
   "mimetype": "text/x-python",
   "name": "python",
   "nbconvert_exporter": "python",
   "pygments_lexer": "ipython3",
   "version": "3.9.12 (main, Apr  5 2022, 01:53:17) \n[Clang 12.0.0 ]"
  },
  "orig_nbformat": 4,
  "vscode": {
   "interpreter": {
    "hash": "0b7a754c5aaaa44a21e2f2148f50b931a5abdffe7ef71537f5954179554f39df"
   }
  }
 },
 "nbformat": 4,
 "nbformat_minor": 2
}
