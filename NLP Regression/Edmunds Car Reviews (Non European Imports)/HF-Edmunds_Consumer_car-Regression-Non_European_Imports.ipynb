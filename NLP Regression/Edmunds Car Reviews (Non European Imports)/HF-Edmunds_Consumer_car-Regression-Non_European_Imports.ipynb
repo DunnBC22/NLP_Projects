{
 "cells": [
  {
   "attachments": {},
   "cell_type": "markdown",
   "metadata": {},
   "source": [
    "## Regression of Edmunds Consumer Car Dataset\n",
    "\n",
    "Dataset Source: https://www.kaggle.com/datasets/ankkur13/edmundsconsumer-car-ratings-and-reviews"
   ]
  },
  {
   "attachments": {},
   "cell_type": "markdown",
   "metadata": {},
   "source": [
    "#### Import Necessary Libraries"
   ]
  },
  {
   "cell_type": "code",
   "execution_count": 1,
   "metadata": {},
   "outputs": [
    {
     "name": "stderr",
     "output_type": "stream",
     "text": [
      "NOTE: Redirects are currently not supported in Windows or MacOs.\n"
     ]
    }
   ],
   "source": [
    "import sys, os, math, random, re, logging\n",
    "os.environ['TOKENIZERS_PARALLELISM']='false'\n",
    "\n",
    "import glob\n",
    "\n",
    "import numpy as np\n",
    "import pandas as pd\n",
    "\n",
    "import torch\n",
    "\n",
    "import matplotlib.pyplot as plt\n",
    "\n",
    "from sklearn.metrics import mean_squared_error, mean_absolute_error, mean_squared_error, r2_score\n",
    "\n",
    "from transformers import AutoTokenizer, Trainer, TrainingArguments, AutoModelForSequenceClassification, set_seed, get_scheduler\n",
    "\n",
    "from datasets import Dataset, DatasetDict"
   ]
  },
  {
   "attachments": {},
   "cell_type": "markdown",
   "metadata": {},
   "source": [
    "#### Display Versions of Relevant Libraries, Frameworks, Languages, etc. Used in This Project"
   ]
  },
  {
   "cell_type": "code",
   "execution_count": 2,
   "metadata": {},
   "outputs": [
    {
     "name": "stdout",
     "output_type": "stream",
     "text": [
      "   Python Version: 3.9.12\n",
      "    NumPy Version: 1.23.3\n",
      "   Pandas Version: 1.5.0\n",
      "    Torch Version: 1.12.1\n"
     ]
    }
   ],
   "source": [
    "print(\"Python Version:\".rjust(18), sys.version[0:6])\n",
    "print(\"NumPy Version:\".rjust(18), np.__version__)\n",
    "print(\"Pandas Version:\".rjust(18), pd.__version__)\n",
    "print(\"Torch Version:\".rjust(18), torch.__version__)"
   ]
  },
  {
   "attachments": {},
   "cell_type": "markdown",
   "metadata": {},
   "source": [
    "### Data Ingestion & Preprocessing"
   ]
  },
  {
   "attachments": {},
   "cell_type": "markdown",
   "metadata": {},
   "source": [
    "#### Data Ingestion"
   ]
  },
  {
   "cell_type": "code",
   "execution_count": 3,
   "metadata": {},
   "outputs": [
    {
     "name": "stdout",
     "output_type": "stream",
     "text": [
      "<class 'pandas.core.frame.DataFrame'>\n",
      "RangeIndex: 62491 entries, 0 to 62490\n",
      "Data columns (total 7 columns):\n",
      " #   Column         Non-Null Count  Dtype  \n",
      "---  ------         --------------  -----  \n",
      " 0   Unnamed: 0     62491 non-null  int64  \n",
      " 1   Review_Date    62491 non-null  object \n",
      " 2   Author_Name    62491 non-null  object \n",
      " 3   Vehicle_Title  62491 non-null  object \n",
      " 4   Review_Title   62488 non-null  object \n",
      " 5   Review         62491 non-null  object \n",
      "        62491 non-null  float64\n",
      "dtypes: float64(1), int64(1), object(5)\n",
      "memory usage: 3.3+ MB\n"
     ]
    }
   ],
   "source": [
    "data_folder = \"/Users/briandunn/Documents/nlpnn/Datasets/Car_Reviews\"\n",
    "folder_concat = '/Users/briandunn/Documents/nlpnn/Datasets/Car_Reviews/Scraped_Car_Review_'\n",
    "files_to_keep = [\"Toyota\", \"Honda\", \"nissan\", \"subaru\", \"mitsubishi\", \"mazda\"]\n",
    "file_type=\".csv\"\n",
    "\n",
    "all_files = glob.glob(os.path.join(data_folder, \"*.csv\"))\n",
    "fileset = [x for x in all_files if x.split(\"Scraped_Car_Review_\")[-1].split(\".\")[0] in files_to_keep]\n",
    "\n",
    "df = pd.concat((pd.read_csv(f, on_bad_lines=\"skip\", lineterminator='\\n') for f in fileset), ignore_index=True)\n",
    "\n",
    "df.info()"
   ]
  },
  {
   "attachments": {},
   "cell_type": "markdown",
   "metadata": {},
   "source": [
    "#### Data Preprocessing (Part 1)"
   ]
  },
  {
   "cell_type": "code",
   "execution_count": 4,
   "metadata": {},
   "outputs": [
    {
     "data": {
      "text/html": [
       "<div>\n",
       "<style scoped>\n",
       "    .dataframe tbody tr th:only-of-type {\n",
       "        vertical-align: middle;\n",
       "    }\n",
       "\n",
       "    .dataframe tbody tr th {\n",
       "        vertical-align: top;\n",
       "    }\n",
       "\n",
       "    .dataframe thead th {\n",
       "        text-align: right;\n",
       "    }\n",
       "</style>\n",
       "<table border=\"1\" class=\"dataframe\">\n",
       "  <thead>\n",
       "    <tr style=\"text-align: right;\">\n",
       "      <th></th>\n",
       "      <th>Review_Title</th>\n",
       "      <th>Review</th>\n",
       "      <th>Rating\\r</th>\n",
       "      <th>text</th>\n",
       "    </tr>\n",
       "  </thead>\n",
       "  <tbody>\n",
       "    <tr>\n",
       "      <th>0</th>\n",
       "      <td>QUIRKY AND PRACTICAL</td>\n",
       "      <td>4 years with our element. Honestly there isn'...</td>\n",
       "      <td>4.0</td>\n",
       "      <td>QUIRKY AND PRACTICAL :  4 years with our eleme...</td>\n",
       "    </tr>\n",
       "    <tr>\n",
       "      <th>1</th>\n",
       "      <td>Go Anywhere with your Element</td>\n",
       "      <td>I have owned my Element since 2007 when I pur...</td>\n",
       "      <td>5.0</td>\n",
       "      <td>Go Anywhere with your Element :  I have owned ...</td>\n",
       "    </tr>\n",
       "    <tr>\n",
       "      <th>2</th>\n",
       "      <td>Such a cool car!</td>\n",
       "      <td>Lowest maintenance of any vehicle I've ever o...</td>\n",
       "      <td>1.0</td>\n",
       "      <td>Such a cool car! :  Lowest maintenance of any ...</td>\n",
       "    </tr>\n",
       "    <tr>\n",
       "      <th>3</th>\n",
       "      <td>From soup to nuts, it does it all.</td>\n",
       "      <td>The only thing I'd change is the drink holder...</td>\n",
       "      <td>5.0</td>\n",
       "      <td>From soup to nuts, it does it all. :  The only...</td>\n",
       "    </tr>\n",
       "    <tr>\n",
       "      <th>4</th>\n",
       "      <td>good value</td>\n",
       "      <td>I bought this vehicle new in 2007. got 97K mi...</td>\n",
       "      <td>4.0</td>\n",
       "      <td>good value :  I bought this vehicle new in 200...</td>\n",
       "    </tr>\n",
       "    <tr>\n",
       "      <th>...</th>\n",
       "      <td>...</td>\n",
       "      <td>...</td>\n",
       "      <td>...</td>\n",
       "      <td>...</td>\n",
       "    </tr>\n",
       "    <tr>\n",
       "      <th>62486</th>\n",
       "      <td>Get car to build credit</td>\n",
       "      <td>I got my 2017 Nissan Versa back in March of t...</td>\n",
       "      <td>4.0</td>\n",
       "      <td>Get car to build credit :  I got my 2017 Nissa...</td>\n",
       "    </tr>\n",
       "    <tr>\n",
       "      <th>62487</th>\n",
       "      <td>good for the elderly</td>\n",
       "      <td>We liked the car very much. However the deale...</td>\n",
       "      <td>4.0</td>\n",
       "      <td>good for the elderly :  We liked the car very ...</td>\n",
       "    </tr>\n",
       "    <tr>\n",
       "      <th>62488</th>\n",
       "      <td>Warranted if not driven outside</td>\n",
       "      <td>AC condenser not covered if (and apparently c...</td>\n",
       "      <td>3.0</td>\n",
       "      <td>Warranted if not driven outside :  AC condense...</td>\n",
       "    </tr>\n",
       "    <tr>\n",
       "      <th>62489</th>\n",
       "      <td>reliable transportation</td>\n",
       "      <td>this is not a sports car but it is reliable t...</td>\n",
       "      <td>5.0</td>\n",
       "      <td>reliable transportation :  this is not a sport...</td>\n",
       "    </tr>\n",
       "    <tr>\n",
       "      <th>62490</th>\n",
       "      <td>2017 Versa My First Car</td>\n",
       "      <td>I went to Nissan looking  to see what kind of...</td>\n",
       "      <td>4.0</td>\n",
       "      <td>2017 Versa My First Car :  I went to Nissan lo...</td>\n",
       "    </tr>\n",
       "  </tbody>\n",
       "</table>\n",
       "<p>62488 rows × 4 columns</p>\n",
       "</div>"
      ],
      "text/plain": [
       "                             Review_Title  \\\n",
       "0                    QUIRKY AND PRACTICAL   \n",
       "1           Go Anywhere with your Element   \n",
       "2                        Such a cool car!   \n",
       "3      From soup to nuts, it does it all.   \n",
       "4                              good value   \n",
       "...                                   ...   \n",
       "62486             Get car to build credit   \n",
       "62487                good for the elderly   \n",
       "62488     Warranted if not driven outside   \n",
       "62489             reliable transportation   \n",
       "62490             2017 Versa My First Car   \n",
       "\n",
       "                                                  Review  Rating\\r  \\\n",
       "0       4 years with our element. Honestly there isn'...       4.0   \n",
       "1       I have owned my Element since 2007 when I pur...       5.0   \n",
       "2       Lowest maintenance of any vehicle I've ever o...       1.0   \n",
       "3       The only thing I'd change is the drink holder...       5.0   \n",
       "4       I bought this vehicle new in 2007. got 97K mi...       4.0   \n",
       "...                                                  ...       ...   \n",
       "62486   I got my 2017 Nissan Versa back in March of t...       4.0   \n",
       "62487   We liked the car very much. However the deale...       4.0   \n",
       "62488   AC condenser not covered if (and apparently c...       3.0   \n",
       "62489   this is not a sports car but it is reliable t...       5.0   \n",
       "62490   I went to Nissan looking  to see what kind of...       4.0   \n",
       "\n",
       "                                                    text  \n",
       "0      QUIRKY AND PRACTICAL :  4 years with our eleme...  \n",
       "1      Go Anywhere with your Element :  I have owned ...  \n",
       "2      Such a cool car! :  Lowest maintenance of any ...  \n",
       "3      From soup to nuts, it does it all. :  The only...  \n",
       "4      good value :  I bought this vehicle new in 200...  \n",
       "...                                                  ...  \n",
       "62486  Get car to build credit :  I got my 2017 Nissa...  \n",
       "62487  good for the elderly :  We liked the car very ...  \n",
       "62488  Warranted if not driven outside :  AC condense...  \n",
       "62489  reliable transportation :  this is not a sport...  \n",
       "62490  2017 Versa My First Car :  I went to Nissan lo...  \n",
       "\n",
       "[62488 rows x 4 columns]"
      ]
     },
     "execution_count": 4,
     "metadata": {},
     "output_type": "execute_result"
    }
   ],
   "source": [
    "# drop duplicate reviews\n",
    "df.drop_duplicates(inplace=True)\n",
    "\n",
    "# Features to drop, if they still are included in the dataframe\n",
    "cols_to_check = [\"Vehicle_Title\", \"Unnamed: 0\", \"Review_Date\", \"Author_Name\", \"level_0\", \"index\"] \n",
    "cols_to_drop = []\n",
    "for x in cols_to_check:\n",
    "    if x in df.columns:\n",
    "        cols_to_drop.append(x)\n",
    "\n",
    "df.drop(columns=cols_to_drop, inplace=True)\n",
    "\n",
    "# concatenate the review title and text and rename it to 'text' (use ' : ' as the seperator)\n",
    "df[\"text\"] = df[\"Review_Title\"] + \" : \" + df[\"Review\"]\n",
    "\n",
    "'''\n",
    "Since there were only 13 missing values (all of them are review titles) \n",
    "out of 226,000+ samples in the original dataset, I am just going to drop\n",
    "those samples. It looks like only 3 of these missing values were \n",
    "from this section of the dataset.\n",
    "'''\n",
    "review_title_feature = \"Review_Title\"\n",
    "if review_title_feature in df.columns:\n",
    "    df.dropna(axis=0, subset=[review_title_feature], inplace=True)\n",
    "\n",
    "df"
   ]
  },
  {
   "attachments": {},
   "cell_type": "markdown",
   "metadata": {},
   "source": [
    "#### Data Preprocessing (Part 2)"
   ]
  },
  {
   "cell_type": "code",
   "execution_count": 5,
   "metadata": {},
   "outputs": [
    {
     "data": {
      "text/html": [
       "<div>\n",
       "<style scoped>\n",
       "    .dataframe tbody tr th:only-of-type {\n",
       "        vertical-align: middle;\n",
       "    }\n",
       "\n",
       "    .dataframe tbody tr th {\n",
       "        vertical-align: top;\n",
       "    }\n",
       "\n",
       "    .dataframe thead th {\n",
       "        text-align: right;\n",
       "    }\n",
       "</style>\n",
       "<table border=\"1\" class=\"dataframe\">\n",
       "  <thead>\n",
       "    <tr style=\"text-align: right;\">\n",
       "      <th></th>\n",
       "      <th>label</th>\n",
       "      <th>text</th>\n",
       "    </tr>\n",
       "  </thead>\n",
       "  <tbody>\n",
       "    <tr>\n",
       "      <th>0</th>\n",
       "      <td>4.0</td>\n",
       "      <td>QUIRKY AND PRACTICAL :  4 years with our eleme...</td>\n",
       "    </tr>\n",
       "    <tr>\n",
       "      <th>1</th>\n",
       "      <td>5.0</td>\n",
       "      <td>Go Anywhere with your Element :  I have owned ...</td>\n",
       "    </tr>\n",
       "    <tr>\n",
       "      <th>2</th>\n",
       "      <td>1.0</td>\n",
       "      <td>Such a cool car! :  Lowest maintenance of any ...</td>\n",
       "    </tr>\n",
       "    <tr>\n",
       "      <th>3</th>\n",
       "      <td>5.0</td>\n",
       "      <td>From soup to nuts, it does it all. :  The only...</td>\n",
       "    </tr>\n",
       "    <tr>\n",
       "      <th>4</th>\n",
       "      <td>4.0</td>\n",
       "      <td>good value :  I bought this vehicle new in 200...</td>\n",
       "    </tr>\n",
       "    <tr>\n",
       "      <th>...</th>\n",
       "      <td>...</td>\n",
       "      <td>...</td>\n",
       "    </tr>\n",
       "    <tr>\n",
       "      <th>62486</th>\n",
       "      <td>4.0</td>\n",
       "      <td>Get car to build credit :  I got my 2017 Nissa...</td>\n",
       "    </tr>\n",
       "    <tr>\n",
       "      <th>62487</th>\n",
       "      <td>4.0</td>\n",
       "      <td>good for the elderly :  We liked the car very ...</td>\n",
       "    </tr>\n",
       "    <tr>\n",
       "      <th>62488</th>\n",
       "      <td>3.0</td>\n",
       "      <td>Warranted if not driven outside :  AC condense...</td>\n",
       "    </tr>\n",
       "    <tr>\n",
       "      <th>62489</th>\n",
       "      <td>5.0</td>\n",
       "      <td>reliable transportation :  this is not a sport...</td>\n",
       "    </tr>\n",
       "    <tr>\n",
       "      <th>62490</th>\n",
       "      <td>4.0</td>\n",
       "      <td>2017 Versa My First Car :  I went to Nissan lo...</td>\n",
       "    </tr>\n",
       "  </tbody>\n",
       "</table>\n",
       "<p>62488 rows × 2 columns</p>\n",
       "</div>"
      ],
      "text/plain": [
       "       label                                               text\n",
       "0        4.0  QUIRKY AND PRACTICAL :  4 years with our eleme...\n",
       "1        5.0  Go Anywhere with your Element :  I have owned ...\n",
       "2        1.0  Such a cool car! :  Lowest maintenance of any ...\n",
       "3        5.0  From soup to nuts, it does it all. :  The only...\n",
       "4        4.0  good value :  I bought this vehicle new in 200...\n",
       "...      ...                                                ...\n",
       "62486    4.0  Get car to build credit :  I got my 2017 Nissa...\n",
       "62487    4.0  good for the elderly :  We liked the car very ...\n",
       "62488    3.0  Warranted if not driven outside :  AC condense...\n",
       "62489    5.0  reliable transportation :  this is not a sport...\n",
       "62490    4.0  2017 Versa My First Car :  I went to Nissan lo...\n",
       "\n",
       "[62488 rows x 2 columns]"
      ]
     },
     "execution_count": 5,
     "metadata": {},
     "output_type": "execute_result"
    }
   ],
   "source": [
    "ratings_col = \"Rating\\r\"\n",
    "if ratings_col in df.columns:\n",
    "    df[\"Rating\\r\"] = df[\"Rating\\r\"].astype(float)\n",
    "    df.rename(columns={\"Rating\\r\" : \"label\"}, inplace=True)\n",
    "\n",
    "# Drop Unused Features\n",
    "cols_to_check = [\"Review_Title\", \"Review\"] \n",
    "cols_to_drop = []\n",
    "\n",
    "for x in cols_to_check:\n",
    "    if np.any(x in df.columns):\n",
    "        if np.any(\"text\" in df.columns):\n",
    "            cols_to_drop.append(x)\n",
    "\n",
    "df.drop(columns=cols_to_drop, inplace=True)\n",
    "\n",
    "df"
   ]
  },
  {
   "attachments": {},
   "cell_type": "markdown",
   "metadata": {},
   "source": [
    "#### Visulatization: Distribution of"
   ]
  },
  {
   "cell_type": "code",
   "execution_count": 6,
   "metadata": {},
   "outputs": [
    {
     "data": {
      "image/png": "[encoded data removed]",
      "text/plain": [
       "<Figure size 1800x800 with 1 Axes>"
      ]
     },
     "metadata": {},
     "output_type": "display_data"
    }
   ],
   "source": [
    "df.hist(\"label\", color=\"Blue\", grid=False, bins=25, figsize=(18,8), range=(0,5))\n",
    "plt.suptitle('')\n",
    "plt.title('Car Ratings')\n",
    "plt.xlabel('Car Rating (0-5)')\n",
    "plt.ylabel('# of Ratings')\n",
    "plt.show()"
   ]
  },
  {
   "attachments": {},
   "cell_type": "markdown",
   "metadata": {},
   "source": [
    "#### Visualiation of Input Length"
   ]
  },
  {
   "cell_type": "code",
   "execution_count": 7,
   "metadata": {},
   "outputs": [
    {
     "data": {
      "image/png": "[encoded data removed]",
      "text/plain": [
       "<Figure size 1800x800 with 1 Axes>"
      ]
     },
     "metadata": {},
     "output_type": "display_data"
    }
   ],
   "source": [
    "df['Text Length'] = df['text'].str.split().apply(len)\n",
    "\n",
    "df.hist(\"Text Length\", color=\"Blue\", grid=False, bins=310, figsize=(18,8))\n",
    "plt.suptitle('')\n",
    "plt.xlabel('Text Length (in Words)')\n",
    "plt.ylabel('# of Samples')\n",
    "plt.show()"
   ]
  },
  {
   "attachments": {},
   "cell_type": "markdown",
   "metadata": {},
   "source": [
    "#### Drop Unnecessary Features & Trim Overly Lengthy Reviews"
   ]
  },
  {
   "cell_type": "code",
   "execution_count": 8,
   "metadata": {},
   "outputs": [
    {
     "name": "stdout",
     "output_type": "stream",
     "text": [
      "<class 'pandas.core.frame.DataFrame'>\n",
      "RangeIndex: 57150 entries, 0 to 57149\n",
      "Data columns (total 3 columns):\n",
      " #   Column  Non-Null Count  Dtype  \n",
      "---  ------  --------------  -----  \n",
      " 0   index   57150 non-null  int64  \n",
      " 1   label   57150 non-null  float64\n",
      " 2   text    57150 non-null  object \n",
      "dtypes: float64(1), int64(1), object(1)\n",
      "memory usage: 1.3+ MB\n"
     ]
    },
    {
     "name": "stderr",
     "output_type": "stream",
     "text": [
      "/var/folders/93/v_c2ph_17t97zdkzc4_ccjtw0000gn/T/ipykernel_44844/3607917477.py:3: SettingWithCopyWarning: \n",
      "A value is trying to be set on a copy of a slice from a DataFrame\n",
      "\n",
      "See the caveats in the documentation: https://pandas.pydata.org/pandas-docs/stable/user_guide/indexing.html#returning-a-view-versus-a-copy\n",
      "  df.drop(columns=[\"Text Length\"], inplace=True)\n"
     ]
    }
   ],
   "source": [
    "df = df[df[\"Text Length\"] < 151]\n",
    "\n",
    "df.drop(columns=[\"Text Length\"], inplace=True)\n",
    "\n",
    "df.reset_index(inplace=True)\n",
    "\n",
    "df.info()"
   ]
  },
  {
   "attachments": {},
   "cell_type": "markdown",
   "metadata": {},
   "source": [
    "### Actual Project"
   ]
  },
  {
   "attachments": {},
   "cell_type": "markdown",
   "metadata": {},
   "source": [
    "#### Convert Pandas DataFrame to Datasets"
   ]
  },
  {
   "cell_type": "code",
   "execution_count": 9,
   "metadata": {},
   "outputs": [],
   "source": [
    "dataset = Dataset.from_pandas(df)"
   ]
  },
  {
   "attachments": {},
   "cell_type": "markdown",
   "metadata": {},
   "source": [
    "#### Split Dataset into Training & Testing Dataset"
   ]
  },
  {
   "cell_type": "code",
   "execution_count": 10,
   "metadata": {},
   "outputs": [
    {
     "name": "stdout",
     "output_type": "stream",
     "text": [
      "Training data shape: (45720, 3)\n",
      "Testing data shape: (5715, 3)\n",
      "Eval data shape: (5715, 3)\n"
     ]
    }
   ],
   "source": [
    "train_testvalid = dataset.train_test_split(test_size=0.20)\n",
    "test_valid = train_testvalid['test'].train_test_split(test_size=0.50)\n",
    "\n",
    "ds = DatasetDict({\n",
    "    'train' : train_testvalid['train'],\n",
    "    'test' : test_valid['test'],\n",
    "    'eval' : test_valid['train']\n",
    "})\n",
    "\n",
    "print('Training data shape:', ds['train'].shape)\n",
    "print('Testing data shape:', ds['test'].shape)\n",
    "print('Eval data shape:', ds['eval'].shape)"
   ]
  },
  {
   "attachments": {},
   "cell_type": "markdown",
   "metadata": {},
   "source": [
    "##### Basic Values"
   ]
  },
  {
   "cell_type": "code",
   "execution_count": 11,
   "metadata": {},
   "outputs": [],
   "source": [
    "NUM_OF_EPOCHS = 3\n",
    "MAX_INPUT_LEN = int(round(150*1.3, 0))\n",
    "\n",
    "MODEL_CKPT = \"distilbert-base-uncased\"\n",
    "DEVICE = torch.device(\"cuda\" if torch.cuda.is_available() else \"cpu\")\n",
    "\n",
    "NUM_LABELS = 1\n",
    "BATCH_SIZE = 64\n",
    "\n",
    "MODEL_NAME = f\"{MODEL_CKPT}-Regression-Edmunds_Car_Reviews-Non_European_Imports\"\n",
    "LEARNING_RATE = 2e-5\n",
    "\n",
    "set_seed(42)"
   ]
  },
  {
   "attachments": {},
   "cell_type": "markdown",
   "metadata": {},
   "source": [
    "#### HuggingFace Access Token & Install git lfs"
   ]
  },
  {
   "cell_type": "code",
   "execution_count": 12,
   "metadata": {},
   "outputs": [
    {
     "name": "stdout",
     "output_type": "stream",
     "text": [
      "Git LFS initialized.\n"
     ]
    }
   ],
   "source": [
    "# HuggingFace Access Token ... \n",
    "\n",
    "!git lfs install"
   ]
  },
  {
   "attachments": {},
   "cell_type": "markdown",
   "metadata": {},
   "source": [
    "#### Tokenize Entire Dataset"
   ]
  },
  {
   "cell_type": "code",
   "execution_count": 13,
   "metadata": {},
   "outputs": [
    {
     "data": {
      "application/vnd.jupyter.widget-view+json": {
       "model_id": "ae74627e254c4325895b930496f22e97",
       "version_major": 2,
       "version_minor": 0
      },
      "text/plain": [
       "A Jupyter Widget"
      ]
     },
     "metadata": {},
     "output_type": "display_data"
    },
    {
     "data": {
      "application/vnd.jupyter.widget-view+json": {
       "model_id": "c34d218850f04382a63a9b49eb74bb54",
       "version_major": 2,
       "version_minor": 0
      },
      "text/plain": [
       "A Jupyter Widget"
      ]
     },
     "metadata": {},
     "output_type": "display_data"
    },
    {
     "data": {
      "application/vnd.jupyter.widget-view+json": {
       "model_id": "a57f8e356411490f90e0620f9dd60ac6",
       "version_major": 2,
       "version_minor": 0
      },
      "text/plain": [
       "A Jupyter Widget"
      ]
     },
     "metadata": {},
     "output_type": "display_data"
    }
   ],
   "source": [
    "tokenizer = AutoTokenizer.from_pretrained(MODEL_CKPT)\n",
    "\n",
    "def tokenize(batch):\n",
    "    return tokenizer(batch['text'], truncation=True, padding=True, max_length=MAX_INPUT_LEN, return_tensors=\"np\")\n",
    "\n",
    "encoded_ds = ds.map(tokenize, batched=True, batch_size=None)"
   ]
  },
  {
   "attachments": {},
   "cell_type": "markdown",
   "metadata": {},
   "source": [
    "#### Print Example to Ensure Edits Worked As Expected"
   ]
  },
  {
   "cell_type": "code",
   "execution_count": 14,
   "metadata": {},
   "outputs": [
    {
     "name": "stdout",
     "output_type": "stream",
     "text": [
      "{'index': Value(dtype='int64', id=None), 'label': Value(dtype='float64', id=None), 'text': Value(dtype='string', id=None), 'input_ids': Sequence(feature=Value(dtype='int32', id=None), length=-1, id=None), 'attention_mask': Sequence(feature=Value(dtype='int8', id=None), length=-1, id=None)}\n",
      "Dataset({\n",
      "    features: ['index', 'label', 'text', 'input_ids', 'attention_mask'],\n",
      "    num_rows: 45720\n",
      "})\n"
     ]
    }
   ],
   "source": [
    "print(encoded_ds['train'].features)\n",
    "print(encoded_ds['train'])"
   ]
  },
  {
   "attachments": {},
   "cell_type": "markdown",
   "metadata": {},
   "source": [
    "#### Initialize Model"
   ]
  },
  {
   "cell_type": "code",
   "execution_count": 15,
   "metadata": {},
   "outputs": [
    {
     "name": "stderr",
     "output_type": "stream",
     "text": [
      "Some weights of the model checkpoint at distilbert-base-uncased were not used when initializing DistilBertForSequenceClassification: ['vocab_layer_norm.weight', 'vocab_projector.weight', 'vocab_transform.weight', 'vocab_layer_norm.bias', 'vocab_transform.bias', 'vocab_projector.bias']\n",
      "- This IS expected if you are initializing DistilBertForSequenceClassification from the checkpoint of a model trained on another task or with another architecture (e.g. initializing a BertForSequenceClassification model from a BertForPreTraining model).\n",
      "- This IS NOT expected if you are initializing DistilBertForSequenceClassification from the checkpoint of a model that you expect to be exactly identical (initializing a BertForSequenceClassification model from a BertForSequenceClassification model).\n",
      "Some weights of DistilBertForSequenceClassification were not initialized from the model checkpoint at distilbert-base-uncased and are newly initialized: ['pre_classifier.weight', 'classifier.bias', 'classifier.weight', 'pre_classifier.bias']\n",
      "You should probably TRAIN this model on a down-stream task to be able to use it for predictions and inference.\n"
     ]
    }
   ],
   "source": [
    "model = (AutoModelForSequenceClassification.from_pretrained(MODEL_CKPT, num_labels=NUM_LABELS)).to(DEVICE)"
   ]
  },
  {
   "attachments": {},
   "cell_type": "markdown",
   "metadata": {},
   "source": [
    "#### Metrics Evaluation Function"
   ]
  },
  {
   "cell_type": "code",
   "execution_count": 16,
   "metadata": {},
   "outputs": [],
   "source": [
    "def compute_metrics_for_regression(eval_pred):\n",
    "    logits, labels = eval_pred\n",
    "    labels = labels.reshape(-1, 1)\n",
    "\n",
    "    mse = mean_squared_error(labels, logits)\n",
    "    rmse = mean_squared_error(labels, logits, squared=False)\n",
    "    mae = mean_absolute_error(labels, logits)\n",
    "        \n",
    "    return {\"mae\": mae, \"mse\": mse, \"rmse\": rmse}"
   ]
  },
  {
   "attachments": {},
   "cell_type": "markdown",
   "metadata": {},
   "source": [
    "#### Trainer Arguments"
   ]
  },
  {
   "cell_type": "code",
   "execution_count": 17,
   "metadata": {},
   "outputs": [],
   "source": [
    "training_args = TrainingArguments(output_dir=MODEL_NAME, \n",
    "                                  num_train_epochs=NUM_OF_EPOCHS, \n",
    "                                  per_device_train_batch_size=BATCH_SIZE, \n",
    "                                  per_device_eval_batch_size=BATCH_SIZE, \n",
    "                                  weight_decay=0.01,\n",
    "                                  learning_rate=LEARNING_RATE,\n",
    "                                  no_cuda=True,\n",
    "                                  evaluation_strategy='epoch',\n",
    "                                  save_total_limit=10,\n",
    "                                  logging_strategy='epoch',\n",
    "                                  load_best_model_at_end=True,\n",
    "                                  metric_for_best_model='mae',\n",
    "                                  greater_is_better=False,\n",
    "                                  save_strategy='epoch',\n",
    "                                  push_to_hub=True)"
   ]
  },
  {
   "attachments": {},
   "cell_type": "markdown",
   "metadata": {},
   "source": [
    "####  Build Trainer"
   ]
  },
  {
   "cell_type": "code",
   "execution_count": 18,
   "metadata": {},
   "outputs": [
    {
     "name": "stderr",
     "output_type": "stream",
     "text": [
      "/Users/briandunn/Documents/nlpnn/nlp_ml/lib/python3.9/site-packages/huggingface_hub/repository.py:705: FutureWarning: Creating a repository through 'clone_from' is deprecated and will be removed in v0.11.\n",
      "  warnings.warn(\n",
      "Cloning https://huggingface.co/DunnBC22/distilbert-base-uncased-Regression-Edmunds_Car_Reviews-Non_European_Imports into local empty directory.\n"
     ]
    }
   ],
   "source": [
    "trainer = Trainer(model=model, \n",
    "                  args=training_args, \n",
    "                  train_dataset=encoded_ds['train'], \n",
    "                  eval_dataset=encoded_ds['eval'],\n",
    "                  tokenizer=tokenizer,\n",
    "                  compute_metrics=compute_metrics_for_regression)"
   ]
  },
  {
   "attachments": {},
   "cell_type": "markdown",
   "metadata": {},
   "source": [
    "#### Train Trainer"
   ]
  },
  {
   "cell_type": "code",
   "execution_count": 19,
   "metadata": {},
   "outputs": [
    {
     "name": "stderr",
     "output_type": "stream",
     "text": [
      "The following columns in the training set don't have a corresponding argument in `DistilBertForSequenceClassification.forward` and have been ignored: index, text. If index, text are not expected by `DistilBertForSequenceClassification.forward`,  you can safely ignore this message.\n",
      "/Users/briandunn/Documents/nlpnn/nlp_ml/lib/python3.9/site-packages/transformers/optimization.py:306: FutureWarning: This implementation of AdamW is deprecated and will be removed in a future version. Use the PyTorch implementation torch.optim.AdamW instead, or set `no_deprecation_warning=True` to disable this warning\n",
      "  warnings.warn(\n",
      "***** Running training *****\n",
      "  Num examples = 45720\n",
      "  Num Epochs = 3\n",
      "  Instantaneous batch size per device = 64\n",
      "  Total train batch size (w. parallel, distributed & accumulation) = 64\n",
      "  Gradient Accumulation steps = 1\n",
      "  Total optimization steps = 2145\n"
     ]
    },
    {
     "data": {
      "application/vnd.jupyter.widget-view+json": {
       "model_id": "3352d0b6241a4ae5ac19c415a6b42e74",
       "version_major": 2,
       "version_minor": 0
      },
      "text/plain": [
       "A Jupyter Widget"
      ]
     },
     "metadata": {},
     "output_type": "display_data"
    },
    {
     "name": "stderr",
     "output_type": "stream",
     "text": [
      "You're using a DistilBertTokenizerFast tokenizer. Please note that with a fast tokenizer, using the `__call__` method is faster than using a method to encode the text followed by a call to the `pad` method to get a padded encoding.\n",
      "The following columns in the evaluation set don't have a corresponding argument in `DistilBertForSequenceClassification.forward` and have been ignored: index, text. If index, text are not expected by `DistilBertForSequenceClassification.forward`,  you can safely ignore this message.\n",
      "***** Running Evaluation *****\n",
      "  Num examples = 5715\n",
      "  Batch size = 64\n"
     ]
    },
    {
     "name": "stdout",
     "output_type": "stream",
     "text": [
      "{'loss': 0.6594, 'learning_rate': 1.3333333333333333e-05, 'epoch': 1.0}\n"
     ]
    },
    {
     "data": {
      "application/vnd.jupyter.widget-view+json": {
       "model_id": "489c71e334a247f7b87d985a8a35ff40",
       "version_major": 2,
       "version_minor": 0
      },
      "text/plain": [
       "A Jupyter Widget"
      ]
     },
     "metadata": {},
     "output_type": "display_data"
    },
    {
     "name": "stderr",
     "output_type": "stream",
     "text": [
      "Saving model checkpoint to distilbert-base-uncased-Regression-Edmunds_Car_Reviews-Non_European_Imports/checkpoint-715\n",
      "Configuration saved in distilbert-base-uncased-Regression-Edmunds_Car_Reviews-Non_European_Imports/checkpoint-715/config.json\n",
      "Model weights saved in distilbert-base-uncased-Regression-Edmunds_Car_Reviews-Non_European_Imports/checkpoint-715/pytorch_model.bin\n",
      "tokenizer config file saved in distilbert-base-uncased-Regression-Edmunds_Car_Reviews-Non_European_Imports/checkpoint-715/tokenizer_config.json\n",
      "Special tokens file saved in distilbert-base-uncased-Regression-Edmunds_Car_Reviews-Non_European_Imports/checkpoint-715/special_tokens_map.json\n"
     ]
    },
    {
     "name": "stdout",
     "output_type": "stream",
     "text": [
      "{'eval_loss': 0.2435894012451172, 'eval_mae': 0.33187228441238403, 'eval_mse': 0.2435893714427948, 'eval_rmse': 0.4935477375984192, 'eval_runtime': 2483.9701, 'eval_samples_per_second': 2.301, 'eval_steps_per_second': 0.036, 'epoch': 1.0}\n"
     ]
    },
    {
     "name": "stderr",
     "output_type": "stream",
     "text": [
      "tokenizer config file saved in distilbert-base-uncased-Regression-Edmunds_Car_Reviews-Non_European_Imports/tokenizer_config.json\n",
      "Special tokens file saved in distilbert-base-uncased-Regression-Edmunds_Car_Reviews-Non_European_Imports/special_tokens_map.json\n",
      "The following columns in the evaluation set don't have a corresponding argument in `DistilBertForSequenceClassification.forward` and have been ignored: index, text. If index, text are not expected by `DistilBertForSequenceClassification.forward`,  you can safely ignore this message.\n",
      "***** Running Evaluation *****\n",
      "  Num examples = 5715\n",
      "  Batch size = 64\n"
     ]
    },
    {
     "name": "stdout",
     "output_type": "stream",
     "text": [
      "{'loss': 0.2324, 'learning_rate': 6.666666666666667e-06, 'epoch': 2.0}\n"
     ]
    },
    {
     "data": {
      "application/vnd.jupyter.widget-view+json": {
       "model_id": "5d15dba009a04ef5934e450743a24c9c",
       "version_major": 2,
       "version_minor": 0
      },
      "text/plain": [
       "A Jupyter Widget"
      ]
     },
     "metadata": {},
     "output_type": "display_data"
    },
    {
     "name": "stderr",
     "output_type": "stream",
     "text": [
      "Saving model checkpoint to distilbert-base-uncased-Regression-Edmunds_Car_Reviews-Non_European_Imports/checkpoint-1430\n",
      "Configuration saved in distilbert-base-uncased-Regression-Edmunds_Car_Reviews-Non_European_Imports/checkpoint-1430/config.json\n",
      "Model weights saved in distilbert-base-uncased-Regression-Edmunds_Car_Reviews-Non_European_Imports/checkpoint-1430/pytorch_model.bin\n",
      "tokenizer config file saved in distilbert-base-uncased-Regression-Edmunds_Car_Reviews-Non_European_Imports/checkpoint-1430/tokenizer_config.json\n",
      "Special tokens file saved in distilbert-base-uncased-Regression-Edmunds_Car_Reviews-Non_European_Imports/checkpoint-1430/special_tokens_map.json\n"
     ]
    },
    {
     "name": "stdout",
     "output_type": "stream",
     "text": [
      "{'eval_loss': 0.22740231454372406, 'eval_mae': 0.3209717571735382, 'eval_mse': 0.22740231454372406, 'eval_rmse': 0.4768671989440918, 'eval_runtime': 2449.546, 'eval_samples_per_second': 2.333, 'eval_steps_per_second': 0.037, 'epoch': 2.0}\n"
     ]
    },
    {
     "name": "stderr",
     "output_type": "stream",
     "text": [
      "tokenizer config file saved in distilbert-base-uncased-Regression-Edmunds_Car_Reviews-Non_European_Imports/tokenizer_config.json\n",
      "Special tokens file saved in distilbert-base-uncased-Regression-Edmunds_Car_Reviews-Non_European_Imports/special_tokens_map.json\n",
      "The following columns in the evaluation set don't have a corresponding argument in `DistilBertForSequenceClassification.forward` and have been ignored: index, text. If index, text are not expected by `DistilBertForSequenceClassification.forward`,  you can safely ignore this message.\n",
      "***** Running Evaluation *****\n",
      "  Num examples = 5715\n",
      "  Batch size = 64\n"
     ]
    },
    {
     "name": "stdout",
     "output_type": "stream",
     "text": [
      "{'loss': 0.1975, 'learning_rate': 0.0, 'epoch': 3.0}\n"
     ]
    },
    {
     "data": {
      "application/vnd.jupyter.widget-view+json": {
       "model_id": "900caa8694434584ae3a1198111b7e61",
       "version_major": 2,
       "version_minor": 0
      },
      "text/plain": [
       "A Jupyter Widget"
      ]
     },
     "metadata": {},
     "output_type": "display_data"
    },
    {
     "name": "stderr",
     "output_type": "stream",
     "text": [
      "Saving model checkpoint to distilbert-base-uncased-Regression-Edmunds_Car_Reviews-Non_European_Imports/checkpoint-2145\n",
      "Configuration saved in distilbert-base-uncased-Regression-Edmunds_Car_Reviews-Non_European_Imports/checkpoint-2145/config.json\n",
      "Model weights saved in distilbert-base-uncased-Regression-Edmunds_Car_Reviews-Non_European_Imports/checkpoint-2145/pytorch_model.bin\n",
      "tokenizer config file saved in distilbert-base-uncased-Regression-Edmunds_Car_Reviews-Non_European_Imports/checkpoint-2145/tokenizer_config.json\n",
      "Special tokens file saved in distilbert-base-uncased-Regression-Edmunds_Car_Reviews-Non_European_Imports/checkpoint-2145/special_tokens_map.json\n"
     ]
    },
    {
     "name": "stdout",
     "output_type": "stream",
     "text": [
      "{'eval_loss': 0.23033222556114197, 'eval_mae': 0.31982067227363586, 'eval_mse': 0.23033222556114197, 'eval_rmse': 0.4799293875694275, 'eval_runtime': 2479.8101, 'eval_samples_per_second': 2.305, 'eval_steps_per_second': 0.036, 'epoch': 3.0}\n"
     ]
    },
    {
     "name": "stderr",
     "output_type": "stream",
     "text": [
      "tokenizer config file saved in distilbert-base-uncased-Regression-Edmunds_Car_Reviews-Non_European_Imports/tokenizer_config.json\n",
      "Special tokens file saved in distilbert-base-uncased-Regression-Edmunds_Car_Reviews-Non_European_Imports/special_tokens_map.json\n",
      "\n",
      "\n",
      "Training completed. Do not forget to share your model on huggingface.co/models =)\n",
      "\n",
      "\n",
      "Loading best model from distilbert-base-uncased-Regression-Edmunds_Car_Reviews-Non_European_Imports/checkpoint-2145 (score: 0.31982067227363586).\n"
     ]
    },
    {
     "name": "stdout",
     "output_type": "stream",
     "text": [
      "{'train_runtime': 185157.7222, 'train_samples_per_second': 0.741, 'train_steps_per_second': 0.012, 'train_loss': 0.3631247922812864, 'epoch': 3.0}\n"
     ]
    },
    {
     "data": {
      "text/plain": [
       "TrainOutput(global_step=2145, training_loss=0.3631247922812864, metrics={'train_runtime': 185157.7222, 'train_samples_per_second': 0.741, 'train_steps_per_second': 0.012, 'train_loss': 0.3631247922812864, 'epoch': 3.0})"
      ]
     },
     "execution_count": 19,
     "metadata": {},
     "output_type": "execute_result"
    }
   ],
   "source": [
    "trainer.train()"
   ]
  },
  {
   "attachments": {},
   "cell_type": "markdown",
   "metadata": {},
   "source": [
    "### Evaluate Model"
   ]
  },
  {
   "attachments": {},
   "cell_type": "markdown",
   "metadata": {},
   "source": [
    "#### Generate Predictions"
   ]
  },
  {
   "cell_type": "code",
   "execution_count": 20,
   "metadata": {},
   "outputs": [
    {
     "name": "stderr",
     "output_type": "stream",
     "text": [
      "The following columns in the evaluation set don't have a corresponding argument in `DistilBertForSequenceClassification.forward` and have been ignored: index, text. If index, text are not expected by `DistilBertForSequenceClassification.forward`,  you can safely ignore this message.\n",
      "***** Running Evaluation *****\n",
      "  Num examples = 5715\n",
      "  Batch size = 64\n"
     ]
    },
    {
     "data": {
      "application/vnd.jupyter.widget-view+json": {
       "model_id": "2eb770ff236d4afab9afba4920ebe4c5",
       "version_major": 2,
       "version_minor": 0
      },
      "text/plain": [
       "A Jupyter Widget"
      ]
     },
     "metadata": {},
     "output_type": "display_data"
    },
    {
     "data": {
      "text/plain": [
       "{'eval_loss': 0.22400729358196259,\n",
       " 'eval_mae': 0.3140411078929901,\n",
       " 'eval_mse': 0.22400729358196259,\n",
       " 'eval_rmse': 0.47329407930374146,\n",
       " 'eval_runtime': 2456.1079,\n",
       " 'eval_samples_per_second': 2.327,\n",
       " 'eval_steps_per_second': 0.037,\n",
       " 'epoch': 3.0}"
      ]
     },
     "execution_count": 20,
     "metadata": {},
     "output_type": "execute_result"
    }
   ],
   "source": [
    "trainer.eval_dataset = encoded_ds['test']\n",
    "trainer.evaluate()"
   ]
  },
  {
   "attachments": {},
   "cell_type": "markdown",
   "metadata": {},
   "source": [
    "#### Push Model to Hub"
   ]
  },
  {
   "cell_type": "code",
   "execution_count": 21,
   "metadata": {},
   "outputs": [
    {
     "name": "stderr",
     "output_type": "stream",
     "text": [
      "Saving model checkpoint to distilbert-base-uncased-Regression-Edmunds_Car_Reviews-Non_European_Imports\n",
      "Configuration saved in distilbert-base-uncased-Regression-Edmunds_Car_Reviews-Non_European_Imports/config.json\n",
      "Model weights saved in distilbert-base-uncased-Regression-Edmunds_Car_Reviews-Non_European_Imports/pytorch_model.bin\n",
      "tokenizer config file saved in distilbert-base-uncased-Regression-Edmunds_Car_Reviews-Non_European_Imports/tokenizer_config.json\n",
      "Special tokens file saved in distilbert-base-uncased-Regression-Edmunds_Car_Reviews-Non_European_Imports/special_tokens_map.json\n",
      "Dropping the following result as it does not have all the necessary fields:\n",
      "{'task': {'name': 'Text Classification', 'type': 'text-classification'}}\n",
      "To https://huggingface.co/DunnBC22/distilbert-base-uncased-Regression-Edmunds_Car_Reviews-Non_European_Imports\n",
      "   3916534..074b869  main -> main\n",
      "\n"
     ]
    }
   ],
   "source": [
    "trainer.push_to_hub(commit_message=\"All Dunn!!!\")"
   ]
  },
  {
   "attachments": {},
   "cell_type": "markdown",
   "metadata": {},
   "source": [
    "### Notes & Other Takeaways From This Project\n",
    "****\n",
    "- Based on the results of the first two (related) projects, these results are not surprising.\n",
    "****"
   ]
  }
 ],
 "metadata": {
  "kernelspec": {
   "display_name": "nlp_ml",
   "language": "python",
   "name": "python3"
  },
  "language_info": {
   "codemirror_mode": {
    "name": "ipython",
    "version": 3
   },
   "file_extension": ".py",
   "mimetype": "text/x-python",
   "name": "python",
   "nbconvert_exporter": "python",
   "pygments_lexer": "ipython3",
   "version": "3.9.12 (main, Apr  5 2022, 01:53:17) \n[Clang 12.0.0 ]"
  },
  "orig_nbformat": 4,
  "vscode": {
   "interpreter": {
    "hash": "0b7a754c5aaaa44a21e2f2148f50b931a5abdffe7ef71537f5954179554f39df"
   }
  }
 },
 "nbformat": 4,
 "nbformat_minor": 2
}
