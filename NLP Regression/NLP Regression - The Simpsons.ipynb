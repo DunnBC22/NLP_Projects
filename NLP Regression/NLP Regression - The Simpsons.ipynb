{
 "cells": [
  {
   "cell_type": "markdown",
   "id": "e67daac8",
   "metadata": {},
   "source": [
    "## Regression Using NLP Text"
   ]
  },
  {
   "cell_type": "markdown",
   "id": "5793c05a",
   "metadata": {},
   "source": [
    "This model will appear as 'DunnBC22/distilbert-base-uncased-Regression-The_Simpsons' on my HuggingFace profile.\n",
    "\n",
    "Data Source: https://www.kaggle.com/datasets/mattbarty/the-simpsons-s1s32-imdb-scores-episode-info"
   ]
  },
  {
   "cell_type": "markdown",
   "id": "d2c358a6",
   "metadata": {},
   "source": [
    "#### Import Necessary Libraries"
   ]
  },
  {
   "cell_type": "code",
   "execution_count": 63,
   "id": "617d6a4c",
   "metadata": {},
   "outputs": [],
   "source": [
    "import os, math, random, re, logging\n",
    "os.environ['TOKENIZERS_PARALLELISM']='false'\n",
    "import numpy as np\n",
    "import pandas as pd\n",
    "import matplotlib.pyplot as plt\n",
    "\n",
    "import torch\n",
    "\n",
    "from sklearn.metrics import mean_squared_error, mean_absolute_error, mean_squared_error, r2_score\n",
    "\n",
    "from transformers import AutoTokenizer, Trainer, TrainingArguments, AutoModelForSequenceClassification, set_seed, get_scheduler\n",
    "\n",
    "from datasets import Dataset, DatasetDict"
   ]
  },
  {
   "cell_type": "markdown",
   "id": "242bbe6e",
   "metadata": {},
   "source": [
    "#### Ingest Data, Drop Unnecessary Columns, & Rename Remaining Columns"
   ]
  },
  {
   "cell_type": "code",
   "execution_count": 64,
   "id": "ece9f605",
   "metadata": {},
   "outputs": [
    {
     "data": {
      "text/html": [
       "<div>\n",
       "<style scoped>\n",
       "    .dataframe tbody tr th:only-of-type {\n",
       "        vertical-align: middle;\n",
       "    }\n",
       "\n",
       "    .dataframe tbody tr th {\n",
       "        vertical-align: top;\n",
       "    }\n",
       "\n",
       "    .dataframe thead th {\n",
       "        text-align: right;\n",
       "    }\n",
       "</style>\n",
       "<table border=\"1\" class=\"dataframe\">\n",
       "  <thead>\n",
       "    <tr style=\"text-align: right;\">\n",
       "      <th></th>\n",
       "      <th>label</th>\n",
       "      <th>text</th>\n",
       "    </tr>\n",
       "  </thead>\n",
       "  <tbody>\n",
       "    <tr>\n",
       "      <th>0</th>\n",
       "      <td>8.2</td>\n",
       "      <td>Homer is forced to become a department store S...</td>\n",
       "    </tr>\n",
       "    <tr>\n",
       "      <th>1</th>\n",
       "      <td>7.7</td>\n",
       "      <td>Bart ends up at a school for gifted children a...</td>\n",
       "    </tr>\n",
       "    <tr>\n",
       "      <th>2</th>\n",
       "      <td>7.4</td>\n",
       "      <td>After losing his job, Homer contemplates endin...</td>\n",
       "    </tr>\n",
       "    <tr>\n",
       "      <th>3</th>\n",
       "      <td>7.7</td>\n",
       "      <td>After being embarrassed by the rest of the fam...</td>\n",
       "    </tr>\n",
       "    <tr>\n",
       "      <th>4</th>\n",
       "      <td>8.0</td>\n",
       "      <td>After being beaten up by Nelson Muntz one too ...</td>\n",
       "    </tr>\n",
       "    <tr>\n",
       "      <th>...</th>\n",
       "      <td>...</td>\n",
       "      <td>...</td>\n",
       "    </tr>\n",
       "    <tr>\n",
       "      <th>700</th>\n",
       "      <td>6.8</td>\n",
       "      <td>Mr. Burns joins the plant-based burger busines...</td>\n",
       "    </tr>\n",
       "    <tr>\n",
       "      <th>701</th>\n",
       "      <td>6.2</td>\n",
       "      <td>Lisa's imaginary friend is a depressed British...</td>\n",
       "    </tr>\n",
       "    <tr>\n",
       "      <th>702</th>\n",
       "      <td>7.2</td>\n",
       "      <td>Lisa makes a shocking college decision that hu...</td>\n",
       "    </tr>\n",
       "    <tr>\n",
       "      <th>703</th>\n",
       "      <td>6.5</td>\n",
       "      <td>A British secret agent comes to Springfield to...</td>\n",
       "    </tr>\n",
       "    <tr>\n",
       "      <th>704</th>\n",
       "      <td>7.8</td>\n",
       "      <td>A secret society of bartenders seeks revenge o...</td>\n",
       "    </tr>\n",
       "  </tbody>\n",
       "</table>\n",
       "<p>705 rows × 2 columns</p>\n",
       "</div>"
      ],
      "text/plain": [
       "     label                                               text\n",
       "0      8.2  Homer is forced to become a department store S...\n",
       "1      7.7  Bart ends up at a school for gifted children a...\n",
       "2      7.4  After losing his job, Homer contemplates endin...\n",
       "3      7.7  After being embarrassed by the rest of the fam...\n",
       "4      8.0  After being beaten up by Nelson Muntz one too ...\n",
       "..     ...                                                ...\n",
       "700    6.8  Mr. Burns joins the plant-based burger busines...\n",
       "701    6.2  Lisa's imaginary friend is a depressed British...\n",
       "702    7.2  Lisa makes a shocking college decision that hu...\n",
       "703    6.5  A British secret agent comes to Springfield to...\n",
       "704    7.8  A secret society of bartenders seeks revenge o...\n",
       "\n",
       "[705 rows x 2 columns]"
      ]
     },
     "execution_count": 64,
     "metadata": {},
     "output_type": "execute_result"
    }
   ],
   "source": [
    "data = pd.read_csv('~/Documents/nlpnn/Datasets/The Simpsons Info For Regression/imdb_simpsons_dataset.csv', engine=\"c\")\n",
    "data.drop(columns=['episode_no_abs', 'episode_votes', 'episode_votes', 'season_no', 'episode_no', 'episode_airdate', 'episode_name'], inplace=True)\n",
    "\n",
    "data.rename(columns={'episode_score' : 'label', \n",
    "                     'episode_description' : 'text'}, \n",
    "            inplace=True)\n",
    "\n",
    "data"
   ]
  },
  {
   "cell_type": "markdown",
   "id": "0f372f4c",
   "metadata": {},
   "source": [
    "#### Visualize Distribution of Scores"
   ]
  },
  {
   "cell_type": "code",
   "execution_count": 65,
   "id": "ff001fa1",
   "metadata": {},
   "outputs": [
    {
     "data": {
      "image/png": "[encoded data removed]",
      "text/plain": [
       "<Figure size 432x288 with 1 Axes>"
      ]
     },
     "metadata": {
      "needs_background": "light"
     },
     "output_type": "display_data"
    }
   ],
   "source": [
    "data.hist(\"label\", color=\"Blue\", grid=False, bins=50)\n",
    "plt.suptitle('')\n",
    "plt.xlabel('')\n",
    "plt.ylabel('Words / Description')\n",
    "plt.show()"
   ]
  },
  {
   "cell_type": "markdown",
   "id": "c6f699e6",
   "metadata": {},
   "source": [
    "#### Visualize Distribution of Message Length"
   ]
  },
  {
   "cell_type": "code",
   "execution_count": 66,
   "id": "a43c1696",
   "metadata": {},
   "outputs": [
    {
     "data": {
      "image/png": "[encoded data removed]",
      "text/plain": [
       "<Figure size 432x288 with 1 Axes>"
      ]
     },
     "metadata": {
      "needs_background": "light"
     },
     "output_type": "display_data"
    }
   ],
   "source": [
    "data['description_length'] = data['text'].str.split().apply(len)\n",
    "\n",
    "data.hist(\"description_length\", color=\"Blue\", grid=False, bins=100)\n",
    "plt.suptitle('')\n",
    "plt.xlabel('')\n",
    "plt.ylabel('Words / Description')\n",
    "plt.show()"
   ]
  },
  {
   "cell_type": "markdown",
   "id": "93a8f30d",
   "metadata": {},
   "source": [
    "#### Remove Outliers Based on Above Visuals"
   ]
  },
  {
   "cell_type": "code",
   "execution_count": 67,
   "id": "9f6a0768",
   "metadata": {},
   "outputs": [
    {
     "name": "stdout",
     "output_type": "stream",
     "text": [
      "<class 'pandas.core.frame.DataFrame'>\n",
      "Int64Index: 694 entries, 0 to 704\n",
      "Data columns (total 2 columns):\n",
      " #   Column  Non-Null Count  Dtype  \n",
      "---  ------  --------------  -----  \n",
      " 0   label   694 non-null    float64\n",
      " 1   text    694 non-null    object \n",
      "dtypes: float64(1), object(1)\n",
      "memory usage: 16.3+ KB\n"
     ]
    }
   ],
   "source": [
    "data = data[data['label'] > 5.2]\n",
    "data = data[data['description_length'] < 51]\n",
    "data = data.drop(columns=['description_length'])\n",
    "data.info()"
   ]
  },
  {
   "cell_type": "markdown",
   "id": "62372620",
   "metadata": {},
   "source": [
    "#### Convert Pandas DataFrame to Datasets"
   ]
  },
  {
   "cell_type": "code",
   "execution_count": 68,
   "id": "21393e16",
   "metadata": {},
   "outputs": [],
   "source": [
    "dataset = Dataset.from_pandas(data)"
   ]
  },
  {
   "cell_type": "markdown",
   "id": "ffbe2526",
   "metadata": {},
   "source": [
    "#### Split into Train/Test/Validate Datasets & Combine into DatasetDict"
   ]
  },
  {
   "cell_type": "code",
   "execution_count": 69,
   "id": "2ddcc257",
   "metadata": {},
   "outputs": [
    {
     "name": "stdout",
     "output_type": "stream",
     "text": [
      "Training data shape: (555, 3)\n",
      "Testing data shape: (70, 3)\n",
      "Eval data shape: (69, 3)\n"
     ]
    }
   ],
   "source": [
    "train_testvalid = dataset.train_test_split(test_size=0.20)\n",
    "test_valid = train_testvalid['test'].train_test_split(test_size=0.50)\n",
    "\n",
    "ds = DatasetDict({\n",
    "    'train' : train_testvalid['train'],\n",
    "    'test' : test_valid['test'],\n",
    "    'eval' : test_valid['train']\n",
    "})\n",
    "\n",
    "print('Training data shape:', ds['train'].shape)\n",
    "print('Testing data shape:', ds['test'].shape)\n",
    "print('Eval data shape:', ds['eval'].shape)"
   ]
  },
  {
   "cell_type": "markdown",
   "id": "a8e6121e",
   "metadata": {},
   "source": [
    "#### Basic Values"
   ]
  },
  {
   "cell_type": "code",
   "execution_count": 70,
   "id": "cf6efed0",
   "metadata": {},
   "outputs": [],
   "source": [
    "num_of_epochs = 15\n",
    "max_input_len = 68\n",
    "model_ckpt = \"distilbert-base-uncased\"\n",
    "device = \"cpu\"\n",
    "num_labels = 1\n",
    "BATCH_SIZE=64\n",
    "model_name = f\"{model_ckpt}-Regression-The_Simpsons\"\n",
    "learning_rate=2e-5\n",
    "set_seed(42)"
   ]
  },
  {
   "cell_type": "markdown",
   "id": "ab27ec69",
   "metadata": {},
   "source": [
    "#### HuggingFace Access Token & Install git lfs "
   ]
  },
  {
   "cell_type": "code",
   "execution_count": 71,
   "id": "1fb487f1",
   "metadata": {},
   "outputs": [
    {
     "name": "stdout",
     "output_type": "stream",
     "text": [
      "Git LFS initialized.\n"
     ]
    }
   ],
   "source": [
    "# HuggingFace Access Token ... \n",
    "\n",
    "!git lfs install"
   ]
  },
  {
   "cell_type": "markdown",
   "id": "54187dcd",
   "metadata": {},
   "source": [
    "#### Tokenize Whole Dataset"
   ]
  },
  {
   "cell_type": "code",
   "execution_count": 72,
   "id": "c41a9840",
   "metadata": {},
   "outputs": [
    {
     "name": "stderr",
     "output_type": "stream",
     "text": [
      "loading configuration file https://huggingface.co/distilbert-base-uncased/resolve/main/config.json from cache at /Users/briandunn/.cache/huggingface/transformers/23454919702d26495337f3da04d1655c7ee010d5ec9d77bdb9e399e00302c0a1.91b885ab15d631bf9cee9dc9d25ece0afd932f2f5130eba28f2055b2220c0333\n",
      "Model config DistilBertConfig {\n",
      "  \"_name_or_path\": \"distilbert-base-uncased\",\n",
      "  \"activation\": \"gelu\",\n",
      "  \"architectures\": [\n",
      "    \"DistilBertForMaskedLM\"\n",
      "  ],\n",
      "  \"attention_dropout\": 0.1,\n",
      "  \"dim\": 768,\n",
      "  \"dropout\": 0.1,\n",
      "  \"hidden_dim\": 3072,\n",
      "  \"initializer_range\": 0.02,\n",
      "  \"max_position_embeddings\": 512,\n",
      "  \"model_type\": \"distilbert\",\n",
      "  \"n_heads\": 12,\n",
      "  \"n_layers\": 6,\n",
      "  \"pad_token_id\": 0,\n",
      "  \"qa_dropout\": 0.1,\n",
      "  \"seq_classif_dropout\": 0.2,\n",
      "  \"sinusoidal_pos_embds\": false,\n",
      "  \"tie_weights_\": true,\n",
      "  \"transformers_version\": \"4.21.1\",\n",
      "  \"vocab_size\": 30522\n",
      "}\n",
      "\n",
      "loading file https://huggingface.co/distilbert-base-uncased/resolve/main/vocab.txt from cache at /Users/briandunn/.cache/huggingface/transformers/0e1bbfda7f63a99bb52e3915dcf10c3c92122b827d92eb2d34ce94ee79ba486c.d789d64ebfe299b0e416afc4a169632f903f693095b4629a7ea271d5a0cf2c99\n",
      "loading file https://huggingface.co/distilbert-base-uncased/resolve/main/tokenizer.json from cache at /Users/briandunn/.cache/huggingface/transformers/75abb59d7a06f4f640158a9bfcde005264e59e8d566781ab1415b139d2e4c603.7f2721073f19841be16f41b0a70b600ca6b880c8f3df6f3535cbc704371bdfa4\n",
      "loading file https://huggingface.co/distilbert-base-uncased/resolve/main/added_tokens.json from cache at None\n",
      "loading file https://huggingface.co/distilbert-base-uncased/resolve/main/special_tokens_map.json from cache at None\n",
      "loading file https://huggingface.co/distilbert-base-uncased/resolve/main/tokenizer_config.json from cache at /Users/briandunn/.cache/huggingface/transformers/8c8624b8ac8aa99c60c912161f8332de003484428c47906d7ff7eb7f73eecdbb.20430bd8e10ef77a7d2977accefe796051e01bc2fc4aa146bc862997a1a15e79\n",
      "loading configuration file https://huggingface.co/distilbert-base-uncased/resolve/main/config.json from cache at /Users/briandunn/.cache/huggingface/transformers/23454919702d26495337f3da04d1655c7ee010d5ec9d77bdb9e399e00302c0a1.91b885ab15d631bf9cee9dc9d25ece0afd932f2f5130eba28f2055b2220c0333\n",
      "Model config DistilBertConfig {\n",
      "  \"_name_or_path\": \"distilbert-base-uncased\",\n",
      "  \"activation\": \"gelu\",\n",
      "  \"architectures\": [\n",
      "    \"DistilBertForMaskedLM\"\n",
      "  ],\n",
      "  \"attention_dropout\": 0.1,\n",
      "  \"dim\": 768,\n",
      "  \"dropout\": 0.1,\n",
      "  \"hidden_dim\": 3072,\n",
      "  \"initializer_range\": 0.02,\n",
      "  \"max_position_embeddings\": 512,\n",
      "  \"model_type\": \"distilbert\",\n",
      "  \"n_heads\": 12,\n",
      "  \"n_layers\": 6,\n",
      "  \"pad_token_id\": 0,\n",
      "  \"qa_dropout\": 0.1,\n",
      "  \"seq_classif_dropout\": 0.2,\n",
      "  \"sinusoidal_pos_embds\": false,\n",
      "  \"tie_weights_\": true,\n",
      "  \"transformers_version\": \"4.21.1\",\n",
      "  \"vocab_size\": 30522\n",
      "}\n",
      "\n"
     ]
    },
    {
     "data": {
      "application/vnd.jupyter.widget-view+json": {
       "model_id": "aa480a8d763649d2a907074672582ce2",
       "version_major": 2,
       "version_minor": 0
      },
      "text/plain": [
       "  0%|          | 0/1 [00:00<?, ?ba/s]"
      ]
     },
     "metadata": {},
     "output_type": "display_data"
    },
    {
     "data": {
      "application/vnd.jupyter.widget-view+json": {
       "model_id": "4138e8ede1bb4bbc9d40a1027a1be8da",
       "version_major": 2,
       "version_minor": 0
      },
      "text/plain": [
       "  0%|          | 0/1 [00:00<?, ?ba/s]"
      ]
     },
     "metadata": {},
     "output_type": "display_data"
    },
    {
     "data": {
      "application/vnd.jupyter.widget-view+json": {
       "model_id": "dfa64f21424c4407910538decd33c00f",
       "version_major": 2,
       "version_minor": 0
      },
      "text/plain": [
       "  0%|          | 0/1 [00:00<?, ?ba/s]"
      ]
     },
     "metadata": {},
     "output_type": "display_data"
    }
   ],
   "source": [
    "tokenizer = AutoTokenizer.from_pretrained(model_ckpt)\n",
    "\n",
    "def tokenize(batch):\n",
    "    return tokenizer(batch['text'], truncation=True, padding=True, max_length=max_input_len, return_tensors=\"np\")\n",
    "\n",
    "encoded_ds = ds.map(tokenize, batched=True, batch_size=None)"
   ]
  },
  {
   "cell_type": "markdown",
   "id": "b50a4e9b",
   "metadata": {},
   "source": [
    "#### Print Example to Ensure Changes Worked as Expected"
   ]
  },
  {
   "cell_type": "code",
   "execution_count": 73,
   "id": "6a02515e",
   "metadata": {},
   "outputs": [
    {
     "name": "stdout",
     "output_type": "stream",
     "text": [
      "{'label': Value(dtype='float64', id=None), 'text': Value(dtype='string', id=None), '__index_level_0__': Value(dtype='int64', id=None), 'input_ids': Sequence(feature=Value(dtype='int32', id=None), length=-1, id=None), 'attention_mask': Sequence(feature=Value(dtype='int8', id=None), length=-1, id=None)}\n",
      "Dataset({\n",
      "    features: ['label', 'text', '__index_level_0__', 'input_ids', 'attention_mask'],\n",
      "    num_rows: 555\n",
      "})\n"
     ]
    }
   ],
   "source": [
    "print(encoded_ds['train'].features)\n",
    "print(encoded_ds['train'])"
   ]
  },
  {
   "cell_type": "markdown",
   "id": "879e7fd8",
   "metadata": {},
   "source": [
    "#### Initialize Model"
   ]
  },
  {
   "cell_type": "code",
   "execution_count": 74,
   "id": "bda2bb12",
   "metadata": {},
   "outputs": [
    {
     "name": "stderr",
     "output_type": "stream",
     "text": [
      "loading configuration file https://huggingface.co/distilbert-base-uncased/resolve/main/config.json from cache at /Users/briandunn/.cache/huggingface/transformers/23454919702d26495337f3da04d1655c7ee010d5ec9d77bdb9e399e00302c0a1.91b885ab15d631bf9cee9dc9d25ece0afd932f2f5130eba28f2055b2220c0333\n",
      "Model config DistilBertConfig {\n",
      "  \"_name_or_path\": \"distilbert-base-uncased\",\n",
      "  \"activation\": \"gelu\",\n",
      "  \"architectures\": [\n",
      "    \"DistilBertForMaskedLM\"\n",
      "  ],\n",
      "  \"attention_dropout\": 0.1,\n",
      "  \"dim\": 768,\n",
      "  \"dropout\": 0.1,\n",
      "  \"hidden_dim\": 3072,\n",
      "  \"id2label\": {\n",
      "    \"0\": \"LABEL_0\"\n",
      "  },\n",
      "  \"initializer_range\": 0.02,\n",
      "  \"label2id\": {\n",
      "    \"LABEL_0\": 0\n",
      "  },\n",
      "  \"max_position_embeddings\": 512,\n",
      "  \"model_type\": \"distilbert\",\n",
      "  \"n_heads\": 12,\n",
      "  \"n_layers\": 6,\n",
      "  \"pad_token_id\": 0,\n",
      "  \"qa_dropout\": 0.1,\n",
      "  \"seq_classif_dropout\": 0.2,\n",
      "  \"sinusoidal_pos_embds\": false,\n",
      "  \"tie_weights_\": true,\n",
      "  \"transformers_version\": \"4.21.1\",\n",
      "  \"vocab_size\": 30522\n",
      "}\n",
      "\n",
      "loading weights file https://huggingface.co/distilbert-base-uncased/resolve/main/pytorch_model.bin from cache at /Users/briandunn/.cache/huggingface/transformers/9c169103d7e5a73936dd2b627e42851bec0831212b677c637033ee4bce9ab5ee.126183e36667471617ae2f0835fab707baa54b731f991507ebbb55ea85adb12a\n",
      "Some weights of the model checkpoint at distilbert-base-uncased were not used when initializing DistilBertForSequenceClassification: ['vocab_layer_norm.bias', 'vocab_projector.weight', 'vocab_transform.bias', 'vocab_transform.weight', 'vocab_layer_norm.weight', 'vocab_projector.bias']\n",
      "- This IS expected if you are initializing DistilBertForSequenceClassification from the checkpoint of a model trained on another task or with another architecture (e.g. initializing a BertForSequenceClassification model from a BertForPreTraining model).\n",
      "- This IS NOT expected if you are initializing DistilBertForSequenceClassification from the checkpoint of a model that you expect to be exactly identical (initializing a BertForSequenceClassification model from a BertForSequenceClassification model).\n",
      "Some weights of DistilBertForSequenceClassification were not initialized from the model checkpoint at distilbert-base-uncased and are newly initialized: ['classifier.bias', 'pre_classifier.weight', 'classifier.weight', 'pre_classifier.bias']\n",
      "You should probably TRAIN this model on a down-stream task to be able to use it for predictions and inference.\n"
     ]
    }
   ],
   "source": [
    "model = (AutoModelForSequenceClassification.from_pretrained(model_ckpt, num_labels=num_labels)).to(device)"
   ]
  },
  {
   "cell_type": "markdown",
   "id": "5b4af8d7",
   "metadata": {},
   "source": [
    "#### Metrics Evaluation Function"
   ]
  },
  {
   "cell_type": "code",
   "execution_count": 75,
   "id": "f032424d",
   "metadata": {},
   "outputs": [],
   "source": [
    "def compute_metrics_for_regression(eval_pred):\n",
    "    logits, labels = eval_pred\n",
    "    labels = labels.reshape(-1, 1)\n",
    "\n",
    "    mse = mean_squared_error(labels, logits)\n",
    "    rmse = mean_squared_error(labels, logits, squared=False)\n",
    "    mae = mean_absolute_error(labels, logits)\n",
    "    #r2 = r2_score(labels, logits)\n",
    "    \n",
    "    single_squared_errors = ((logits - labels).flatten()**2).tolist()\n",
    "    accuracy = sum(\n",
    "        [1 for e in single_squared_errors if e < 0.25]) / len(single_squared_errors)\n",
    "    \n",
    "    return {\"mse\": mse, \"rmse\": rmse, \"mae\": mae, \"accuracy\": accuracy} #, \"r2\": r2"
   ]
  },
  {
   "cell_type": "markdown",
   "id": "08334475",
   "metadata": {},
   "source": [
    "#### Trainer Arguments"
   ]
  },
  {
   "cell_type": "code",
   "execution_count": 76,
   "id": "0358228f",
   "metadata": {},
   "outputs": [
    {
     "name": "stderr",
     "output_type": "stream",
     "text": [
      "PyTorch: setting up devices\n",
      "The default value for the training argument `--report_to` will change in v5 (from all installed integrations to none). In v5, you will need to use `--report_to all` to get the same behavior as now. You should start updating your code and make this info disappear :-).\n"
     ]
    }
   ],
   "source": [
    "training_args = TrainingArguments(output_dir=model_name, \n",
    "                                  num_train_epochs=num_of_epochs, \n",
    "                                  per_device_train_batch_size=BATCH_SIZE, \n",
    "                                  per_device_eval_batch_size=BATCH_SIZE, \n",
    "                                  weight_decay=0.01,\n",
    "                                  learning_rate=learning_rate,\n",
    "                                  evaluation_strategy='epoch',\n",
    "                                  save_total_limit=12,\n",
    "                                  load_best_model_at_end=True,\n",
    "                                  metric_for_best_model='rmse',\n",
    "                                  greater_is_better=False,\n",
    "                                  save_strategy='epoch', \n",
    "                                  optim='adamw_hf',\n",
    "                                  push_to_hub=True)\n"
   ]
  },
  {
   "cell_type": "markdown",
   "id": "6802a842",
   "metadata": {},
   "source": [
    "#### Instantiate Optimizer"
   ]
  },
  {
   "cell_type": "code",
   "execution_count": 77,
   "id": "5ae73819",
   "metadata": {},
   "outputs": [],
   "source": [
    "optimizer_name = torch.optim.AdamW(model.parameters(), lr=learning_rate)\n",
    "\n",
    "num_training_steps = num_of_epochs * len(encoded_ds['train'])\n",
    "\n",
    "lr_scheduler = get_scheduler(\n",
    "    name=\"linear\", optimizer=optimizer_name, num_warmup_steps=0, num_training_steps=num_training_steps\n",
    ")\n",
    "\n",
    "optimizer = [optimizer_name, lr_scheduler]"
   ]
  },
  {
   "cell_type": "markdown",
   "id": "191fe09e",
   "metadata": {},
   "source": [
    "#### Build Trainer"
   ]
  },
  {
   "cell_type": "code",
   "execution_count": 78,
   "id": "3551a802",
   "metadata": {},
   "outputs": [
    {
     "name": "stderr",
     "output_type": "stream",
     "text": [
      "/Users/briandunn/Documents/nlpnn/nlp_projects/distilbert-base-uncased-Regression-The_Simpsons is already a clone of https://huggingface.co/DunnBC22/distilbert-base-uncased-Regression-The_Simpsons. Make sure you pull the latest changes with `repo.git_pull()`.\n"
     ]
    }
   ],
   "source": [
    "trainer = Trainer(model=model, \n",
    "                  args=training_args, \n",
    "                  train_dataset=encoded_ds['train'], \n",
    "                  eval_dataset=encoded_ds['eval'],\n",
    "                  optimizers=optimizer, \n",
    "                  tokenizer=tokenizer,\n",
    "                  compute_metrics=compute_metrics_for_regression)"
   ]
  },
  {
   "cell_type": "markdown",
   "id": "cc60f187",
   "metadata": {},
   "source": [
    "#### Train the Trainer"
   ]
  },
  {
   "cell_type": "code",
   "execution_count": 79,
   "id": "a0e50f1c",
   "metadata": {},
   "outputs": [
    {
     "name": "stderr",
     "output_type": "stream",
     "text": [
      "The following columns in the training set don't have a corresponding argument in `DistilBertForSequenceClassification.forward` and have been ignored: text, __index_level_0__. If text, __index_level_0__ are not expected by `DistilBertForSequenceClassification.forward`,  you can safely ignore this message.\n",
      "***** Running training *****\n",
      "  Num examples = 555\n",
      "  Num Epochs = 15\n",
      "  Instantaneous batch size per device = 64\n",
      "  Total train batch size (w. parallel, distributed & accumulation) = 64\n",
      "  Gradient Accumulation steps = 1\n",
      "  Total optimization steps = 135\n"
     ]
    },
    {
     "data": {
      "application/vnd.jupyter.widget-view+json": {
       "model_id": "687ee09616fc4e0c97d2f94cf7298909",
       "version_major": 2,
       "version_minor": 0
      },
      "text/plain": [
       "  0%|          | 0/135 [00:00<?, ?it/s]"
      ]
     },
     "metadata": {},
     "output_type": "display_data"
    },
    {
     "name": "stderr",
     "output_type": "stream",
     "text": [
      "The following columns in the evaluation set don't have a corresponding argument in `DistilBertForSequenceClassification.forward` and have been ignored: text, __index_level_0__. If text, __index_level_0__ are not expected by `DistilBertForSequenceClassification.forward`,  you can safely ignore this message.\n",
      "***** Running Evaluation *****\n",
      "  Num examples = 69\n",
      "  Batch size = 64\n"
     ]
    },
    {
     "data": {
      "application/vnd.jupyter.widget-view+json": {
       "model_id": "e3439053cd2c417995f6bb1accb5e39f",
       "version_major": 2,
       "version_minor": 0
      },
      "text/plain": [
       "  0%|          | 0/2 [00:00<?, ?it/s]"
      ]
     },
     "metadata": {},
     "output_type": "display_data"
    },
    {
     "name": "stderr",
     "output_type": "stream",
     "text": [
      "Saving model checkpoint to distilbert-base-uncased-Regression-The_Simpsons/checkpoint-9\n",
      "Configuration saved in distilbert-base-uncased-Regression-The_Simpsons/checkpoint-9/config.json\n",
      "Model weights saved in distilbert-base-uncased-Regression-The_Simpsons/checkpoint-9/pytorch_model.bin\n"
     ]
    },
    {
     "name": "stdout",
     "output_type": "stream",
     "text": [
      "{'eval_loss': 37.491085052490234, 'eval_mse': 37.4910888671875, 'eval_rmse': 6.122996807098389, 'eval_mae': 6.0774126052856445, 'eval_accuracy': 0.0, 'eval_runtime': 7.4738, 'eval_samples_per_second': 9.232, 'eval_steps_per_second': 0.268, 'epoch': 1.0}\n"
     ]
    },
    {
     "name": "stderr",
     "output_type": "stream",
     "text": [
      "Deleting older checkpoint [distilbert-base-uncased-Regression-The_Simpsons/checkpoint-36] due to args.save_total_limit\n",
      "The following columns in the evaluation set don't have a corresponding argument in `DistilBertForSequenceClassification.forward` and have been ignored: text, __index_level_0__. If text, __index_level_0__ are not expected by `DistilBertForSequenceClassification.forward`,  you can safely ignore this message.\n",
      "***** Running Evaluation *****\n",
      "  Num examples = 69\n",
      "  Batch size = 64\n"
     ]
    },
    {
     "data": {
      "application/vnd.jupyter.widget-view+json": {
       "model_id": "ea5fd309791b45dd974b5f4120ba4959",
       "version_major": 2,
       "version_minor": 0
      },
      "text/plain": [
       "  0%|          | 0/2 [00:00<?, ?it/s]"
      ]
     },
     "metadata": {},
     "output_type": "display_data"
    },
    {
     "name": "stderr",
     "output_type": "stream",
     "text": [
      "Saving model checkpoint to distilbert-base-uncased-Regression-The_Simpsons/checkpoint-18\n",
      "Configuration saved in distilbert-base-uncased-Regression-The_Simpsons/checkpoint-18/config.json\n",
      "Model weights saved in distilbert-base-uncased-Regression-The_Simpsons/checkpoint-18/pytorch_model.bin\n"
     ]
    },
    {
     "name": "stdout",
     "output_type": "stream",
     "text": [
      "{'eval_loss': 25.51958465576172, 'eval_mse': 25.51958656311035, 'eval_rmse': 5.05169153213501, 'eval_mae': 4.996051788330078, 'eval_accuracy': 0.0, 'eval_runtime': 7.4745, 'eval_samples_per_second': 9.231, 'eval_steps_per_second': 0.268, 'epoch': 2.0}\n"
     ]
    },
    {
     "name": "stderr",
     "output_type": "stream",
     "text": [
      "Deleting older checkpoint [distilbert-base-uncased-Regression-The_Simpsons/checkpoint-45] due to args.save_total_limit\n",
      "The following columns in the evaluation set don't have a corresponding argument in `DistilBertForSequenceClassification.forward` and have been ignored: text, __index_level_0__. If text, __index_level_0__ are not expected by `DistilBertForSequenceClassification.forward`,  you can safely ignore this message.\n",
      "***** Running Evaluation *****\n",
      "  Num examples = 69\n",
      "  Batch size = 64\n"
     ]
    },
    {
     "data": {
      "application/vnd.jupyter.widget-view+json": {
       "model_id": "9d87607e05874bfdaf94b3e4c42845f4",
       "version_major": 2,
       "version_minor": 0
      },
      "text/plain": [
       "  0%|          | 0/2 [00:00<?, ?it/s]"
      ]
     },
     "metadata": {},
     "output_type": "display_data"
    },
    {
     "name": "stderr",
     "output_type": "stream",
     "text": [
      "Saving model checkpoint to distilbert-base-uncased-Regression-The_Simpsons/checkpoint-27\n",
      "Configuration saved in distilbert-base-uncased-Regression-The_Simpsons/checkpoint-27/config.json\n",
      "Model weights saved in distilbert-base-uncased-Regression-The_Simpsons/checkpoint-27/pytorch_model.bin\n"
     ]
    },
    {
     "name": "stdout",
     "output_type": "stream",
     "text": [
      "{'eval_loss': 17.048091888427734, 'eval_mse': 17.04808807373047, 'eval_rmse': 4.128932952880859, 'eval_mae': 4.062273025512695, 'eval_accuracy': 0.0, 'eval_runtime': 7.4689, 'eval_samples_per_second': 9.238, 'eval_steps_per_second': 0.268, 'epoch': 3.0}\n"
     ]
    },
    {
     "name": "stderr",
     "output_type": "stream",
     "text": [
      "Deleting older checkpoint [distilbert-base-uncased-Regression-The_Simpsons/checkpoint-54] due to args.save_total_limit\n",
      "The following columns in the evaluation set don't have a corresponding argument in `DistilBertForSequenceClassification.forward` and have been ignored: text, __index_level_0__. If text, __index_level_0__ are not expected by `DistilBertForSequenceClassification.forward`,  you can safely ignore this message.\n",
      "***** Running Evaluation *****\n",
      "  Num examples = 69\n",
      "  Batch size = 64\n"
     ]
    },
    {
     "data": {
      "application/vnd.jupyter.widget-view+json": {
       "model_id": "cd3a91550ccd434b90679fcba9a69187",
       "version_major": 2,
       "version_minor": 0
      },
      "text/plain": [
       "  0%|          | 0/2 [00:00<?, ?it/s]"
      ]
     },
     "metadata": {},
     "output_type": "display_data"
    },
    {
     "name": "stderr",
     "output_type": "stream",
     "text": [
      "Saving model checkpoint to distilbert-base-uncased-Regression-The_Simpsons/checkpoint-36\n",
      "Configuration saved in distilbert-base-uncased-Regression-The_Simpsons/checkpoint-36/config.json\n",
      "Model weights saved in distilbert-base-uncased-Regression-The_Simpsons/checkpoint-36/pytorch_model.bin\n"
     ]
    },
    {
     "name": "stdout",
     "output_type": "stream",
     "text": [
      "{'eval_loss': 11.334267616271973, 'eval_mse': 11.334266662597656, 'eval_rmse': 3.366640329360962, 'eval_mae': 3.285665512084961, 'eval_accuracy': 0.0, 'eval_runtime': 7.4969, 'eval_samples_per_second': 9.204, 'eval_steps_per_second': 0.267, 'epoch': 4.0}\n"
     ]
    },
    {
     "name": "stderr",
     "output_type": "stream",
     "text": [
      "Deleting older checkpoint [distilbert-base-uncased-Regression-The_Simpsons/checkpoint-63] due to args.save_total_limit\n",
      "The following columns in the evaluation set don't have a corresponding argument in `DistilBertForSequenceClassification.forward` and have been ignored: text, __index_level_0__. If text, __index_level_0__ are not expected by `DistilBertForSequenceClassification.forward`,  you can safely ignore this message.\n",
      "***** Running Evaluation *****\n",
      "  Num examples = 69\n",
      "  Batch size = 64\n"
     ]
    },
    {
     "data": {
      "application/vnd.jupyter.widget-view+json": {
       "model_id": "85c518c3c2b849dab52c6bf8cb800fac",
       "version_major": 2,
       "version_minor": 0
      },
      "text/plain": [
       "  0%|          | 0/2 [00:00<?, ?it/s]"
      ]
     },
     "metadata": {},
     "output_type": "display_data"
    },
    {
     "name": "stderr",
     "output_type": "stream",
     "text": [
      "Saving model checkpoint to distilbert-base-uncased-Regression-The_Simpsons/checkpoint-45\n",
      "Configuration saved in distilbert-base-uncased-Regression-The_Simpsons/checkpoint-45/config.json\n",
      "Model weights saved in distilbert-base-uncased-Regression-The_Simpsons/checkpoint-45/pytorch_model.bin\n"
     ]
    },
    {
     "name": "stdout",
     "output_type": "stream",
     "text": [
      "{'eval_loss': 7.3299560546875, 'eval_mse': 7.329953670501709, 'eval_rmse': 2.7073886394500732, 'eval_mae': 2.606602191925049, 'eval_accuracy': 0.0, 'eval_runtime': 7.6041, 'eval_samples_per_second': 9.074, 'eval_steps_per_second': 0.263, 'epoch': 5.0}\n"
     ]
    },
    {
     "name": "stderr",
     "output_type": "stream",
     "text": [
      "Deleting older checkpoint [distilbert-base-uncased-Regression-The_Simpsons/checkpoint-72] due to args.save_total_limit\n",
      "The following columns in the evaluation set don't have a corresponding argument in `DistilBertForSequenceClassification.forward` and have been ignored: text, __index_level_0__. If text, __index_level_0__ are not expected by `DistilBertForSequenceClassification.forward`,  you can safely ignore this message.\n",
      "***** Running Evaluation *****\n",
      "  Num examples = 69\n",
      "  Batch size = 64\n"
     ]
    },
    {
     "data": {
      "application/vnd.jupyter.widget-view+json": {
       "model_id": "a5d25217977c48ecac0931d0fbe94c6a",
       "version_major": 2,
       "version_minor": 0
      },
      "text/plain": [
       "  0%|          | 0/2 [00:00<?, ?it/s]"
      ]
     },
     "metadata": {},
     "output_type": "display_data"
    },
    {
     "name": "stderr",
     "output_type": "stream",
     "text": [
      "Saving model checkpoint to distilbert-base-uncased-Regression-The_Simpsons/checkpoint-54\n",
      "Configuration saved in distilbert-base-uncased-Regression-The_Simpsons/checkpoint-54/config.json\n",
      "Model weights saved in distilbert-base-uncased-Regression-The_Simpsons/checkpoint-54/pytorch_model.bin\n"
     ]
    },
    {
     "name": "stdout",
     "output_type": "stream",
     "text": [
      "{'eval_loss': 4.561525344848633, 'eval_mse': 4.561525821685791, 'eval_rmse': 2.135772943496704, 'eval_mae': 2.0073254108428955, 'eval_accuracy': 0.014492753623188406, 'eval_runtime': 7.5432, 'eval_samples_per_second': 9.147, 'eval_steps_per_second': 0.265, 'epoch': 6.0}\n"
     ]
    },
    {
     "name": "stderr",
     "output_type": "stream",
     "text": [
      "Deleting older checkpoint [distilbert-base-uncased-Regression-The_Simpsons/checkpoint-81] due to args.save_total_limit\n",
      "The following columns in the evaluation set don't have a corresponding argument in `DistilBertForSequenceClassification.forward` and have been ignored: text, __index_level_0__. If text, __index_level_0__ are not expected by `DistilBertForSequenceClassification.forward`,  you can safely ignore this message.\n",
      "***** Running Evaluation *****\n",
      "  Num examples = 69\n",
      "  Batch size = 64\n"
     ]
    },
    {
     "data": {
      "application/vnd.jupyter.widget-view+json": {
       "model_id": "b9f6c97306e94734aa15a11aee3d0ca1",
       "version_major": 2,
       "version_minor": 0
      },
      "text/plain": [
       "  0%|          | 0/2 [00:00<?, ?it/s]"
      ]
     },
     "metadata": {},
     "output_type": "display_data"
    },
    {
     "name": "stderr",
     "output_type": "stream",
     "text": [
      "Saving model checkpoint to distilbert-base-uncased-Regression-The_Simpsons/checkpoint-63\n",
      "Configuration saved in distilbert-base-uncased-Regression-The_Simpsons/checkpoint-63/config.json\n",
      "Model weights saved in distilbert-base-uncased-Regression-The_Simpsons/checkpoint-63/pytorch_model.bin\n"
     ]
    },
    {
     "name": "stdout",
     "output_type": "stream",
     "text": [
      "{'eval_loss': 2.598322629928589, 'eval_mse': 2.598323345184326, 'eval_rmse': 1.611931562423706, 'eval_mae': 1.446689248085022, 'eval_accuracy': 0.057971014492753624, 'eval_runtime': 7.4974, 'eval_samples_per_second': 9.203, 'eval_steps_per_second': 0.267, 'epoch': 7.0}\n"
     ]
    },
    {
     "name": "stderr",
     "output_type": "stream",
     "text": [
      "Deleting older checkpoint [distilbert-base-uncased-Regression-The_Simpsons/checkpoint-90] due to args.save_total_limit\n",
      "The following columns in the evaluation set don't have a corresponding argument in `DistilBertForSequenceClassification.forward` and have been ignored: text, __index_level_0__. If text, __index_level_0__ are not expected by `DistilBertForSequenceClassification.forward`,  you can safely ignore this message.\n",
      "***** Running Evaluation *****\n",
      "  Num examples = 69\n",
      "  Batch size = 64\n"
     ]
    },
    {
     "data": {
      "application/vnd.jupyter.widget-view+json": {
       "model_id": "cf81d5c6a2d94402a69a42a4c4b5c1ec",
       "version_major": 2,
       "version_minor": 0
      },
      "text/plain": [
       "  0%|          | 0/2 [00:00<?, ?it/s]"
      ]
     },
     "metadata": {},
     "output_type": "display_data"
    },
    {
     "name": "stderr",
     "output_type": "stream",
     "text": [
      "Saving model checkpoint to distilbert-base-uncased-Regression-The_Simpsons/checkpoint-72\n",
      "Configuration saved in distilbert-base-uncased-Regression-The_Simpsons/checkpoint-72/config.json\n",
      "Model weights saved in distilbert-base-uncased-Regression-The_Simpsons/checkpoint-72/pytorch_model.bin\n"
     ]
    },
    {
     "name": "stdout",
     "output_type": "stream",
     "text": [
      "{'eval_loss': 1.3512496948242188, 'eval_mse': 1.3512499332427979, 'eval_rmse': 1.1624327898025513, 'eval_mae': 0.9480680227279663, 'eval_accuracy': 0.2898550724637681, 'eval_runtime': 7.5667, 'eval_samples_per_second': 9.119, 'eval_steps_per_second': 0.264, 'epoch': 8.0}\n"
     ]
    },
    {
     "name": "stderr",
     "output_type": "stream",
     "text": [
      "Deleting older checkpoint [distilbert-base-uncased-Regression-The_Simpsons/checkpoint-99] due to args.save_total_limit\n",
      "The following columns in the evaluation set don't have a corresponding argument in `DistilBertForSequenceClassification.forward` and have been ignored: text, __index_level_0__. If text, __index_level_0__ are not expected by `DistilBertForSequenceClassification.forward`,  you can safely ignore this message.\n",
      "***** Running Evaluation *****\n",
      "  Num examples = 69\n",
      "  Batch size = 64\n"
     ]
    },
    {
     "data": {
      "application/vnd.jupyter.widget-view+json": {
       "model_id": "abe774f8952c492dad758c5b6c062f5e",
       "version_major": 2,
       "version_minor": 0
      },
      "text/plain": [
       "  0%|          | 0/2 [00:00<?, ?it/s]"
      ]
     },
     "metadata": {},
     "output_type": "display_data"
    },
    {
     "name": "stderr",
     "output_type": "stream",
     "text": [
      "Saving model checkpoint to distilbert-base-uncased-Regression-The_Simpsons/checkpoint-81\n",
      "Configuration saved in distilbert-base-uncased-Regression-The_Simpsons/checkpoint-81/config.json\n",
      "Model weights saved in distilbert-base-uncased-Regression-The_Simpsons/checkpoint-81/pytorch_model.bin\n"
     ]
    },
    {
     "name": "stdout",
     "output_type": "stream",
     "text": [
      "{'eval_loss': 0.6723872423171997, 'eval_mse': 0.6723872423171997, 'eval_rmse': 0.8199922442436218, 'eval_mae': 0.6135056018829346, 'eval_accuracy': 0.5797101449275363, 'eval_runtime': 7.4873, 'eval_samples_per_second': 9.216, 'eval_steps_per_second': 0.267, 'epoch': 9.0}\n"
     ]
    },
    {
     "name": "stderr",
     "output_type": "stream",
     "text": [
      "Deleting older checkpoint [distilbert-base-uncased-Regression-The_Simpsons/checkpoint-108] due to args.save_total_limit\n",
      "The following columns in the evaluation set don't have a corresponding argument in `DistilBertForSequenceClassification.forward` and have been ignored: text, __index_level_0__. If text, __index_level_0__ are not expected by `DistilBertForSequenceClassification.forward`,  you can safely ignore this message.\n",
      "***** Running Evaluation *****\n",
      "  Num examples = 69\n",
      "  Batch size = 64\n"
     ]
    },
    {
     "data": {
      "application/vnd.jupyter.widget-view+json": {
       "model_id": "7bb27d529fbd4508ad6736ef87e3aa04",
       "version_major": 2,
       "version_minor": 0
      },
      "text/plain": [
       "  0%|          | 0/2 [00:00<?, ?it/s]"
      ]
     },
     "metadata": {},
     "output_type": "display_data"
    },
    {
     "name": "stderr",
     "output_type": "stream",
     "text": [
      "Saving model checkpoint to distilbert-base-uncased-Regression-The_Simpsons/checkpoint-90\n",
      "Configuration saved in distilbert-base-uncased-Regression-The_Simpsons/checkpoint-90/config.json\n",
      "Model weights saved in distilbert-base-uncased-Regression-The_Simpsons/checkpoint-90/pytorch_model.bin\n"
     ]
    },
    {
     "name": "stdout",
     "output_type": "stream",
     "text": [
      "{'eval_loss': 0.5318713784217834, 'eval_mse': 0.531871497631073, 'eval_rmse': 0.7292951941490173, 'eval_mae': 0.5782299041748047, 'eval_accuracy': 0.5217391304347826, 'eval_runtime': 7.5474, 'eval_samples_per_second': 9.142, 'eval_steps_per_second': 0.265, 'epoch': 10.0}\n"
     ]
    },
    {
     "name": "stderr",
     "output_type": "stream",
     "text": [
      "Deleting older checkpoint [distilbert-base-uncased-Regression-The_Simpsons/checkpoint-117] due to args.save_total_limit\n",
      "The following columns in the evaluation set don't have a corresponding argument in `DistilBertForSequenceClassification.forward` and have been ignored: text, __index_level_0__. If text, __index_level_0__ are not expected by `DistilBertForSequenceClassification.forward`,  you can safely ignore this message.\n",
      "***** Running Evaluation *****\n",
      "  Num examples = 69\n",
      "  Batch size = 64\n"
     ]
    },
    {
     "data": {
      "application/vnd.jupyter.widget-view+json": {
       "model_id": "b340f86c77ac4963b62371d1073faefc",
       "version_major": 2,
       "version_minor": 0
      },
      "text/plain": [
       "  0%|          | 0/2 [00:00<?, ?it/s]"
      ]
     },
     "metadata": {},
     "output_type": "display_data"
    },
    {
     "name": "stderr",
     "output_type": "stream",
     "text": [
      "Saving model checkpoint to distilbert-base-uncased-Regression-The_Simpsons/checkpoint-99\n",
      "Configuration saved in distilbert-base-uncased-Regression-The_Simpsons/checkpoint-99/config.json\n",
      "Model weights saved in distilbert-base-uncased-Regression-The_Simpsons/checkpoint-99/pytorch_model.bin\n"
     ]
    },
    {
     "name": "stdout",
     "output_type": "stream",
     "text": [
      "{'eval_loss': 0.5245146155357361, 'eval_mse': 0.5245146155357361, 'eval_rmse': 0.7242338061332703, 'eval_mae': 0.5948888659477234, 'eval_accuracy': 0.4927536231884058, 'eval_runtime': 7.4964, 'eval_samples_per_second': 9.204, 'eval_steps_per_second': 0.267, 'epoch': 11.0}\n"
     ]
    },
    {
     "name": "stderr",
     "output_type": "stream",
     "text": [
      "Deleting older checkpoint [distilbert-base-uncased-Regression-The_Simpsons/checkpoint-126] due to args.save_total_limit\n",
      "The following columns in the evaluation set don't have a corresponding argument in `DistilBertForSequenceClassification.forward` and have been ignored: text, __index_level_0__. If text, __index_level_0__ are not expected by `DistilBertForSequenceClassification.forward`,  you can safely ignore this message.\n",
      "***** Running Evaluation *****\n",
      "  Num examples = 69\n",
      "  Batch size = 64\n"
     ]
    },
    {
     "data": {
      "application/vnd.jupyter.widget-view+json": {
       "model_id": "eb2967907e534e2fbbf25465038b86a9",
       "version_major": 2,
       "version_minor": 0
      },
      "text/plain": [
       "  0%|          | 0/2 [00:00<?, ?it/s]"
      ]
     },
     "metadata": {},
     "output_type": "display_data"
    },
    {
     "name": "stderr",
     "output_type": "stream",
     "text": [
      "Saving model checkpoint to distilbert-base-uncased-Regression-The_Simpsons/checkpoint-108\n",
      "Configuration saved in distilbert-base-uncased-Regression-The_Simpsons/checkpoint-108/config.json\n",
      "Model weights saved in distilbert-base-uncased-Regression-The_Simpsons/checkpoint-108/pytorch_model.bin\n"
     ]
    },
    {
     "name": "stdout",
     "output_type": "stream",
     "text": [
      "{'eval_loss': 0.5180248022079468, 'eval_mse': 0.5180248022079468, 'eval_rmse': 0.7197393774986267, 'eval_mae': 0.5578354001045227, 'eval_accuracy': 0.5217391304347826, 'eval_runtime': 7.5067, 'eval_samples_per_second': 9.192, 'eval_steps_per_second': 0.266, 'epoch': 12.0}\n"
     ]
    },
    {
     "name": "stderr",
     "output_type": "stream",
     "text": [
      "Deleting older checkpoint [distilbert-base-uncased-Regression-The_Simpsons/checkpoint-135] due to args.save_total_limit\n",
      "The following columns in the evaluation set don't have a corresponding argument in `DistilBertForSequenceClassification.forward` and have been ignored: text, __index_level_0__. If text, __index_level_0__ are not expected by `DistilBertForSequenceClassification.forward`,  you can safely ignore this message.\n",
      "***** Running Evaluation *****\n",
      "  Num examples = 69\n",
      "  Batch size = 64\n"
     ]
    },
    {
     "data": {
      "application/vnd.jupyter.widget-view+json": {
       "model_id": "388b8782b9284c48979aa5464b62f341",
       "version_major": 2,
       "version_minor": 0
      },
      "text/plain": [
       "  0%|          | 0/2 [00:00<?, ?it/s]"
      ]
     },
     "metadata": {},
     "output_type": "display_data"
    },
    {
     "name": "stderr",
     "output_type": "stream",
     "text": [
      "Saving model checkpoint to distilbert-base-uncased-Regression-The_Simpsons/checkpoint-117\n",
      "Configuration saved in distilbert-base-uncased-Regression-The_Simpsons/checkpoint-117/config.json\n",
      "Model weights saved in distilbert-base-uncased-Regression-The_Simpsons/checkpoint-117/pytorch_model.bin\n"
     ]
    },
    {
     "name": "stdout",
     "output_type": "stream",
     "text": [
      "{'eval_loss': 0.506447434425354, 'eval_mse': 0.5064475536346436, 'eval_rmse': 0.7116512656211853, 'eval_mae': 0.558660089969635, 'eval_accuracy': 0.5217391304347826, 'eval_runtime': 7.5183, 'eval_samples_per_second': 9.178, 'eval_steps_per_second': 0.266, 'epoch': 13.0}\n"
     ]
    },
    {
     "name": "stderr",
     "output_type": "stream",
     "text": [
      "Deleting older checkpoint [distilbert-base-uncased-Regression-The_Simpsons/checkpoint-9] due to args.save_total_limit\n",
      "The following columns in the evaluation set don't have a corresponding argument in `DistilBertForSequenceClassification.forward` and have been ignored: text, __index_level_0__. If text, __index_level_0__ are not expected by `DistilBertForSequenceClassification.forward`,  you can safely ignore this message.\n",
      "***** Running Evaluation *****\n",
      "  Num examples = 69\n",
      "  Batch size = 64\n"
     ]
    },
    {
     "data": {
      "application/vnd.jupyter.widget-view+json": {
       "model_id": "2b6b424961e443fb9c4633c45fc7520d",
       "version_major": 2,
       "version_minor": 0
      },
      "text/plain": [
       "  0%|          | 0/2 [00:00<?, ?it/s]"
      ]
     },
     "metadata": {},
     "output_type": "display_data"
    },
    {
     "name": "stderr",
     "output_type": "stream",
     "text": [
      "Saving model checkpoint to distilbert-base-uncased-Regression-The_Simpsons/checkpoint-126\n",
      "Configuration saved in distilbert-base-uncased-Regression-The_Simpsons/checkpoint-126/config.json\n",
      "Model weights saved in distilbert-base-uncased-Regression-The_Simpsons/checkpoint-126/pytorch_model.bin\n"
     ]
    },
    {
     "name": "stdout",
     "output_type": "stream",
     "text": [
      "{'eval_loss': 0.56344074010849, 'eval_mse': 0.5634409189224243, 'eval_rmse': 0.7506270408630371, 'eval_mae': 0.5621675848960876, 'eval_accuracy': 0.5942028985507246, 'eval_runtime': 7.5531, 'eval_samples_per_second': 9.135, 'eval_steps_per_second': 0.265, 'epoch': 14.0}\n"
     ]
    },
    {
     "name": "stderr",
     "output_type": "stream",
     "text": [
      "Deleting older checkpoint [distilbert-base-uncased-Regression-The_Simpsons/checkpoint-18] due to args.save_total_limit\n",
      "The following columns in the evaluation set don't have a corresponding argument in `DistilBertForSequenceClassification.forward` and have been ignored: text, __index_level_0__. If text, __index_level_0__ are not expected by `DistilBertForSequenceClassification.forward`,  you can safely ignore this message.\n",
      "***** Running Evaluation *****\n",
      "  Num examples = 69\n",
      "  Batch size = 64\n"
     ]
    },
    {
     "data": {
      "application/vnd.jupyter.widget-view+json": {
       "model_id": "be198af2af8b47fd83cc3179e8e133da",
       "version_major": 2,
       "version_minor": 0
      },
      "text/plain": [
       "  0%|          | 0/2 [00:00<?, ?it/s]"
      ]
     },
     "metadata": {},
     "output_type": "display_data"
    },
    {
     "name": "stderr",
     "output_type": "stream",
     "text": [
      "Saving model checkpoint to distilbert-base-uncased-Regression-The_Simpsons/checkpoint-135\n",
      "Configuration saved in distilbert-base-uncased-Regression-The_Simpsons/checkpoint-135/config.json\n",
      "Model weights saved in distilbert-base-uncased-Regression-The_Simpsons/checkpoint-135/pytorch_model.bin\n"
     ]
    },
    {
     "name": "stdout",
     "output_type": "stream",
     "text": [
      "{'eval_loss': 0.4874865710735321, 'eval_mse': 0.4874865710735321, 'eval_rmse': 0.69820237159729, 'eval_mae': 0.5240147709846497, 'eval_accuracy': 0.5217391304347826, 'eval_runtime': 7.5359, 'eval_samples_per_second': 9.156, 'eval_steps_per_second': 0.265, 'epoch': 15.0}\n"
     ]
    },
    {
     "name": "stderr",
     "output_type": "stream",
     "text": [
      "Deleting older checkpoint [distilbert-base-uncased-Regression-The_Simpsons/checkpoint-27] due to args.save_total_limit\n",
      "\n",
      "\n",
      "Training completed. Do not forget to share your model on huggingface.co/models =)\n",
      "\n",
      "\n",
      "Loading best model from distilbert-base-uncased-Regression-The_Simpsons/checkpoint-135 (score: 0.69820237159729).\n"
     ]
    },
    {
     "name": "stdout",
     "output_type": "stream",
     "text": [
      "{'train_runtime': 3823.7877, 'train_samples_per_second': 2.177, 'train_steps_per_second': 0.035, 'train_loss': 9.575383391203705, 'epoch': 15.0}\n"
     ]
    },
    {
     "data": {
      "text/plain": [
       "TrainOutput(global_step=135, training_loss=9.575383391203705, metrics={'train_runtime': 3823.7877, 'train_samples_per_second': 2.177, 'train_steps_per_second': 0.035, 'train_loss': 9.575383391203705, 'epoch': 15.0})"
      ]
     },
     "execution_count": 79,
     "metadata": {},
     "output_type": "execute_result"
    }
   ],
   "source": [
    "trainer.train()"
   ]
  },
  {
   "cell_type": "markdown",
   "id": "277a72fe",
   "metadata": {},
   "source": [
    "#### Predictions"
   ]
  },
  {
   "cell_type": "code",
   "execution_count": 80,
   "id": "565ab306",
   "metadata": {},
   "outputs": [
    {
     "name": "stderr",
     "output_type": "stream",
     "text": [
      "The following columns in the evaluation set don't have a corresponding argument in `DistilBertForSequenceClassification.forward` and have been ignored: text, __index_level_0__. If text, __index_level_0__ are not expected by `DistilBertForSequenceClassification.forward`,  you can safely ignore this message.\n",
      "***** Running Evaluation *****\n",
      "  Num examples = 70\n",
      "  Batch size = 64\n"
     ]
    },
    {
     "data": {
      "application/vnd.jupyter.widget-view+json": {
       "model_id": "912a111f2fbe448589590dc2cef73dbd",
       "version_major": 2,
       "version_minor": 0
      },
      "text/plain": [
       "  0%|          | 0/2 [00:00<?, ?it/s]"
      ]
     },
     "metadata": {},
     "output_type": "display_data"
    },
    {
     "data": {
      "text/plain": [
       "{'eval_loss': 0.7632249593734741,\n",
       " 'eval_mse': 0.7632248401641846,\n",
       " 'eval_rmse': 0.8736274242401123,\n",
       " 'eval_mae': 0.6621978282928467,\n",
       " 'eval_accuracy': 0.5,\n",
       " 'eval_runtime': 7.0698,\n",
       " 'eval_samples_per_second': 9.901,\n",
       " 'eval_steps_per_second': 0.283,\n",
       " 'epoch': 15.0}"
      ]
     },
     "execution_count": 80,
     "metadata": {},
     "output_type": "execute_result"
    }
   ],
   "source": [
    "trainer.eval_dataset = encoded_ds['test']\n",
    "trainer.evaluate()"
   ]
  },
  {
   "cell_type": "markdown",
   "id": "5ab72d49",
   "metadata": {},
   "source": [
    "#### Save Model & Push to Hub"
   ]
  },
  {
   "cell_type": "code",
   "execution_count": 81,
   "id": "83c80523",
   "metadata": {},
   "outputs": [
    {
     "name": "stderr",
     "output_type": "stream",
     "text": [
      "Saving model checkpoint to distilbert-base-uncased-Regression-The_Simpsons\n",
      "Configuration saved in distilbert-base-uncased-Regression-The_Simpsons/config.json\n",
      "Model weights saved in distilbert-base-uncased-Regression-The_Simpsons/pytorch_model.bin\n",
      "Several commits (2) will be pushed upstream.\n",
      "The progress bars may be unreliable.\n"
     ]
    },
    {
     "data": {
      "application/vnd.jupyter.widget-view+json": {
       "model_id": "d7e97ed8b2754915ab8b3888715cb069",
       "version_major": 2,
       "version_minor": 0
      },
      "text/plain": [
       "Upload file pytorch_model.bin:   0%|          | 32.0k/255M [00:00<?, ?B/s]"
      ]
     },
     "metadata": {},
     "output_type": "display_data"
    },
    {
     "data": {
      "application/vnd.jupyter.widget-view+json": {
       "model_id": "e3e8db678e304ef1b9e16d9c963dc56f",
       "version_major": 2,
       "version_minor": 0
      },
      "text/plain": [
       "Upload file runs/Sep12_22-10-36_Brians-Mac-mini/events.out.tfevents.1663042471.Brians-Mac-mini.3318.8: 100%|##…"
      ]
     },
     "metadata": {},
     "output_type": "display_data"
    },
    {
     "data": {
      "application/vnd.jupyter.widget-view+json": {
       "model_id": "1336001ead234068a7c6ad03d22ad915",
       "version_major": 2,
       "version_minor": 0
      },
      "text/plain": [
       "Upload file runs/Sep12_22-10-36_Brians-Mac-mini/events.out.tfevents.1663038640.Brians-Mac-mini.3318.6: 100%|##…"
      ]
     },
     "metadata": {},
     "output_type": "display_data"
    },
    {
     "name": "stderr",
     "output_type": "stream",
     "text": [
      "remote: Scanning LFS files for validity, may be slow...        \n",
      "remote: LFS file scan complete.        \n",
      "To https://huggingface.co/DunnBC22/distilbert-base-uncased-Regression-The_Simpsons\n",
      "   a1d79fe..d847c03  main -> main\n",
      "\n",
      "Dropping the following result as it does not have all the necessary fields:\n",
      "{'task': {'name': 'Text Classification', 'type': 'text-classification'}, 'metrics': [{'name': 'Accuracy', 'type': 'accuracy', 'value': 0.5}]}\n",
      "To https://huggingface.co/DunnBC22/distilbert-base-uncased-Regression-The_Simpsons\n",
      "   d847c03..9715c10  main -> main\n",
      "\n"
     ]
    },
    {
     "data": {
      "text/plain": [
       "'https://huggingface.co/DunnBC22/distilbert-base-uncased-Regression-The_Simpsons/commit/d847c03ecfa411d6e67078ccc22315d24d025be6'"
      ]
     },
     "execution_count": 81,
     "metadata": {},
     "output_type": "execute_result"
    }
   ],
   "source": [
    "trainer.push_to_hub(commit_message=\"All Dunn!!!\")"
   ]
  }
 ],
 "metadata": {
  "kernelspec": {
   "display_name": "Python 3.9.12 64-bit ('anaconda3')",
   "language": "python",
   "name": "python3"
  },
  "language_info": {
   "codemirror_mode": {
    "name": "ipython",
    "version": 3
   },
   "file_extension": ".py",
   "mimetype": "text/x-python",
   "name": "python",
   "nbconvert_exporter": "python",
   "pygments_lexer": "ipython3",
   "version": "3.9.12"
  },
  "vscode": {
   "interpreter": {
    "hash": "a4d9b73f1482e108b8bee9fd1a7eb6f7460da6f2684402434766fba1dc39798b"
   }
  }
 },
 "nbformat": 4,
 "nbformat_minor": 5
}
