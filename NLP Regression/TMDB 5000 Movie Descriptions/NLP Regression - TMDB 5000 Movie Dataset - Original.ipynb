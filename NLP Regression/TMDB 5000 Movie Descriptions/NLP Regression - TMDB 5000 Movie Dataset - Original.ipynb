{
 "cells": [
  {
   "cell_type": "markdown",
   "id": "e67daac8",
   "metadata": {},
   "source": [
    "## Regression Using NLP Text"
   ]
  },
  {
   "cell_type": "markdown",
   "id": "5793c05a",
   "metadata": {},
   "source": [
    "I decided to not keep this on my HuggingFace Profile.\n",
    "\n",
    "Data Source: https://www.kaggle.com/datasets/tmdb/tmdb-movie-metadata?select=tmdb_5000_movies.csv"
   ]
  },
  {
   "cell_type": "markdown",
   "id": "d2c358a6",
   "metadata": {},
   "source": [
    "#### Import Necessary Libraries"
   ]
  },
  {
   "cell_type": "code",
   "execution_count": 1,
   "id": "617d6a4c",
   "metadata": {},
   "outputs": [
    {
     "name": "stderr",
     "output_type": "stream",
     "text": [
      "NOTE: Redirects are currently not supported in Windows or MacOs.\n"
     ]
    }
   ],
   "source": [
    "import os, math, random, re # , logging\n",
    "os.environ['TOKENIZERS_PARALLELISM']='false'\n",
    "import numpy as np\n",
    "import pandas as pd\n",
    "import matplotlib.pyplot as plt\n",
    "\n",
    "import torch\n",
    "\n",
    "from sklearn.metrics import mean_squared_error, mean_absolute_error, mean_squared_error, r2_score\n",
    "\n",
    "from transformers import AutoTokenizer, Trainer, TrainingArguments, AutoModelForSequenceClassification, set_seed, get_scheduler\n",
    "\n",
    "from datasets import Dataset, DatasetDict"
   ]
  },
  {
   "cell_type": "markdown",
   "id": "242bbe6e",
   "metadata": {},
   "source": [
    "#### Ingest Data, Drop Unnecessary Columns, & Rename Remaining Columns"
   ]
  },
  {
   "cell_type": "code",
   "execution_count": 2,
   "id": "ece9f605",
   "metadata": {},
   "outputs": [
    {
     "data": {
      "text/html": [
       "<div>\n",
       "<style scoped>\n",
       "    .dataframe tbody tr th:only-of-type {\n",
       "        vertical-align: middle;\n",
       "    }\n",
       "\n",
       "    .dataframe tbody tr th {\n",
       "        vertical-align: top;\n",
       "    }\n",
       "\n",
       "    .dataframe thead th {\n",
       "        text-align: right;\n",
       "    }\n",
       "</style>\n",
       "<table border=\"1\" class=\"dataframe\">\n",
       "  <thead>\n",
       "    <tr style=\"text-align: right;\">\n",
       "      <th></th>\n",
       "      <th>label</th>\n",
       "      <th>text</th>\n",
       "    </tr>\n",
       "  </thead>\n",
       "  <tbody>\n",
       "    <tr>\n",
       "      <th>0</th>\n",
       "      <td>7.2</td>\n",
       "      <td>Avatar : Enter the World of Pandora. : In the ...</td>\n",
       "    </tr>\n",
       "    <tr>\n",
       "      <th>1</th>\n",
       "      <td>6.9</td>\n",
       "      <td>Pirates of the Caribbean: At World's End : At ...</td>\n",
       "    </tr>\n",
       "    <tr>\n",
       "      <th>2</th>\n",
       "      <td>6.3</td>\n",
       "      <td>Spectre : A Plan No One Escapes : A cryptic me...</td>\n",
       "    </tr>\n",
       "    <tr>\n",
       "      <th>3</th>\n",
       "      <td>7.6</td>\n",
       "      <td>The Dark Knight Rises : The Legend Ends : Foll...</td>\n",
       "    </tr>\n",
       "    <tr>\n",
       "      <th>4</th>\n",
       "      <td>6.1</td>\n",
       "      <td>John Carter : Lost in our world, found in anot...</td>\n",
       "    </tr>\n",
       "    <tr>\n",
       "      <th>...</th>\n",
       "      <td>...</td>\n",
       "      <td>...</td>\n",
       "    </tr>\n",
       "    <tr>\n",
       "      <th>4496</th>\n",
       "      <td>6.0</td>\n",
       "      <td>On The Downlow : Two gangs. One secret. One cr...</td>\n",
       "    </tr>\n",
       "    <tr>\n",
       "      <th>4498</th>\n",
       "      <td>6.0</td>\n",
       "      <td>Bang : Sometimes you've got to break the rules...</td>\n",
       "    </tr>\n",
       "    <tr>\n",
       "      <th>4499</th>\n",
       "      <td>6.9</td>\n",
       "      <td>Primer : What happens if it actually works? : ...</td>\n",
       "    </tr>\n",
       "    <tr>\n",
       "      <th>4501</th>\n",
       "      <td>5.9</td>\n",
       "      <td>Newlyweds : A newlywed couple's honeymoon is u...</td>\n",
       "    </tr>\n",
       "    <tr>\n",
       "      <th>4503</th>\n",
       "      <td>5.7</td>\n",
       "      <td>Shanghai Calling : A New Yorker in Shanghai : ...</td>\n",
       "    </tr>\n",
       "  </tbody>\n",
       "</table>\n",
       "<p>3789 rows × 2 columns</p>\n",
       "</div>"
      ],
      "text/plain": [
       "      label                                               text\n",
       "0       7.2  Avatar : Enter the World of Pandora. : In the ...\n",
       "1       6.9  Pirates of the Caribbean: At World's End : At ...\n",
       "2       6.3  Spectre : A Plan No One Escapes : A cryptic me...\n",
       "3       7.6  The Dark Knight Rises : The Legend Ends : Foll...\n",
       "4       6.1  John Carter : Lost in our world, found in anot...\n",
       "...     ...                                                ...\n",
       "4496    6.0  On The Downlow : Two gangs. One secret. One cr...\n",
       "4498    6.0  Bang : Sometimes you've got to break the rules...\n",
       "4499    6.9  Primer : What happens if it actually works? : ...\n",
       "4501    5.9  Newlyweds : A newlywed couple's honeymoon is u...\n",
       "4503    5.7  Shanghai Calling : A New Yorker in Shanghai : ...\n",
       "\n",
       "[3789 rows x 2 columns]"
      ]
     },
     "execution_count": 2,
     "metadata": {},
     "output_type": "execute_result"
    }
   ],
   "source": [
    "data = pd.read_csv('~/Documents/nlpnn/Datasets/TMDB 500 Movie Dataset/tmdb_5000_movies.csv', engine=\"c\")\n",
    "\n",
    "data = data[data['original_language'] == 'en']\n",
    "\n",
    "data['text'] = data['title'] + ' : ' + data['tagline'] + ' : ' + data['overview'] \n",
    "\n",
    "data.drop(columns=['budget', 'genres', 'homepage', 'id', 'status', \n",
    "                   'spoken_languages', 'production_countries', \n",
    "                   'production_companies', 'release_date', \n",
    "                   'revenue', 'runtime', 'original_title', \n",
    "                   'keywords', 'original_language', \n",
    "                   'overview', 'title', 'tagline', \n",
    "                   'vote_count', 'popularity'], inplace=True)\n",
    "\n",
    "data.reset_index(inplace=True, drop=True)\n",
    "\n",
    "data.rename(columns={'vote_average' : 'label'}, inplace=True)\n",
    "\n",
    "data.dropna(inplace=True)\n",
    "\n",
    "data"
   ]
  },
  {
   "cell_type": "markdown",
   "id": "0f372f4c",
   "metadata": {},
   "source": [
    "Visualize Distribution of Scores"
   ]
  },
  {
   "cell_type": "code",
   "execution_count": 3,
   "id": "ff001fa1",
   "metadata": {},
   "outputs": [
    {
     "data": {
      "image/png": "[encoded data removed]",
      "text/plain": [
       "<Figure size 432x288 with 1 Axes>"
      ]
     },
     "metadata": {
      "needs_background": "light"
     },
     "output_type": "display_data"
    }
   ],
   "source": [
    "data.hist(\"label\", color=\"Blue\", grid=False, bins=100)\n",
    "plt.suptitle('')\n",
    "plt.xlabel('')\n",
    "plt.ylabel('Words / Description')\n",
    "plt.show()"
   ]
  },
  {
   "cell_type": "markdown",
   "id": "c6f699e6",
   "metadata": {},
   "source": [
    "Visualize Distribution of Message Length"
   ]
  },
  {
   "cell_type": "code",
   "execution_count": 4,
   "id": "a43c1696",
   "metadata": {},
   "outputs": [
    {
     "data": {
      "image/png": "[encoded data removed]",
      "text/plain": [
       "<Figure size 432x288 with 1 Axes>"
      ]
     },
     "metadata": {
      "needs_background": "light"
     },
     "output_type": "display_data"
    }
   ],
   "source": [
    "data['description_length'] = data['text'].str.split().apply(len)\n",
    "\n",
    "data.hist(\"description_length\", color=\"Blue\", grid=False, bins=200)\n",
    "plt.suptitle('')\n",
    "plt.xlabel('')\n",
    "plt.ylabel('Words / Description')\n",
    "plt.show()"
   ]
  },
  {
   "cell_type": "markdown",
   "id": "93a8f30d",
   "metadata": {},
   "source": [
    "#### Final Preprocessing"
   ]
  },
  {
   "cell_type": "code",
   "execution_count": 5,
   "id": "9f6a0768",
   "metadata": {},
   "outputs": [
    {
     "name": "stdout",
     "output_type": "stream",
     "text": [
      "<class 'pandas.core.frame.DataFrame'>\n",
      "Int64Index: 3774 entries, 0 to 4503\n",
      "Data columns (total 2 columns):\n",
      " #   Column  Non-Null Count  Dtype  \n",
      "---  ------  --------------  -----  \n",
      " 0   label   3774 non-null   float64\n",
      " 1   text    3774 non-null   object \n",
      "dtypes: float64(1), object(1)\n",
      "memory usage: 88.5+ KB\n"
     ]
    }
   ],
   "source": [
    "data = data[data['label'] > 0.2]\n",
    "data = data.drop(columns=['description_length'])\n",
    "data.info()"
   ]
  },
  {
   "cell_type": "markdown",
   "id": "62372620",
   "metadata": {},
   "source": [
    "#### Convert Pandas DataFrame to Datasets"
   ]
  },
  {
   "cell_type": "code",
   "execution_count": 6,
   "id": "21393e16",
   "metadata": {},
   "outputs": [],
   "source": [
    "dataset = Dataset.from_pandas(data)"
   ]
  },
  {
   "cell_type": "markdown",
   "id": "ffbe2526",
   "metadata": {},
   "source": [
    "#### Split into Train/Test/Validate Datasets & Combine into DatasetDict"
   ]
  },
  {
   "cell_type": "code",
   "execution_count": 7,
   "id": "2ddcc257",
   "metadata": {},
   "outputs": [
    {
     "name": "stdout",
     "output_type": "stream",
     "text": [
      "Training data shape: (3019, 3)\n",
      "Testing data shape: (378, 3)\n",
      "Eval data shape: (377, 3)\n"
     ]
    }
   ],
   "source": [
    "train_testvalid = dataset.train_test_split(test_size=0.20)\n",
    "test_valid = train_testvalid['test'].train_test_split(test_size=0.50)\n",
    "\n",
    "ds = DatasetDict({\n",
    "    'train' : train_testvalid['train'],\n",
    "    'test' : test_valid['test'],\n",
    "    'eval' : test_valid['train']\n",
    "})\n",
    "\n",
    "print('Training data shape:', ds['train'].shape)\n",
    "print('Testing data shape:', ds['test'].shape)\n",
    "print('Eval data shape:', ds['eval'].shape)"
   ]
  },
  {
   "cell_type": "markdown",
   "id": "a8e6121e",
   "metadata": {},
   "source": [
    "#### Basic Values"
   ]
  },
  {
   "cell_type": "code",
   "execution_count": 8,
   "id": "cf6efed0",
   "metadata": {},
   "outputs": [],
   "source": [
    "num_of_epochs = 15\n",
    "max_input_len = 245\n",
    "model_ckpt = \"distilbert-base-uncased\"\n",
    "device = \"cpu\"\n",
    "num_labels = 1\n",
    "BATCH_SIZE=64\n",
    "model_name = f\"{model_ckpt}-Regression-TMDB_5000_Movie_Dataset\"\n",
    "learning_rate=2e-5\n",
    "set_seed(42)"
   ]
  },
  {
   "cell_type": "markdown",
   "id": "ab27ec69",
   "metadata": {},
   "source": [
    "#### HuggingFace Access Token & Install git lfs "
   ]
  },
  {
   "cell_type": "code",
   "execution_count": 9,
   "id": "1fb487f1",
   "metadata": {},
   "outputs": [
    {
     "name": "stdout",
     "output_type": "stream",
     "text": [
      "Git LFS initialized.\n"
     ]
    }
   ],
   "source": [
    "# HuggingFace Access Token ... \n",
    "\n",
    "!git lfs install"
   ]
  },
  {
   "cell_type": "markdown",
   "id": "54187dcd",
   "metadata": {},
   "source": [
    "#### Tokenize Whole Dataset"
   ]
  },
  {
   "cell_type": "code",
   "execution_count": 10,
   "id": "c41a9840",
   "metadata": {},
   "outputs": [
    {
     "data": {
      "application/vnd.jupyter.widget-view+json": {
       "model_id": "712a470a027a4a0bb5295574c5f65bd2",
       "version_major": 2,
       "version_minor": 0
      },
      "text/plain": [
       "  0%|          | 0/1 [00:00<?, ?ba/s]"
      ]
     },
     "metadata": {},
     "output_type": "display_data"
    },
    {
     "data": {
      "application/vnd.jupyter.widget-view+json": {
       "model_id": "6602ff04b3f341569bedfad859c6403a",
       "version_major": 2,
       "version_minor": 0
      },
      "text/plain": [
       "  0%|          | 0/1 [00:00<?, ?ba/s]"
      ]
     },
     "metadata": {},
     "output_type": "display_data"
    },
    {
     "data": {
      "application/vnd.jupyter.widget-view+json": {
       "model_id": "69c60b6d144f49cb8ab68270a430b862",
       "version_major": 2,
       "version_minor": 0
      },
      "text/plain": [
       "  0%|          | 0/1 [00:00<?, ?ba/s]"
      ]
     },
     "metadata": {},
     "output_type": "display_data"
    }
   ],
   "source": [
    "tokenizer = AutoTokenizer.from_pretrained(model_ckpt)\n",
    "\n",
    "def tokenize(batch):\n",
    "    return tokenizer(batch['text'], truncation=True, padding=True, max_length=max_input_len, return_tensors=\"np\")\n",
    "\n",
    "encoded_ds = ds.map(tokenize, batched=True, batch_size=None)"
   ]
  },
  {
   "cell_type": "code",
   "execution_count": 11,
   "id": "6a02515e",
   "metadata": {},
   "outputs": [
    {
     "name": "stdout",
     "output_type": "stream",
     "text": [
      "{'label': Value(dtype='float64', id=None), 'text': Value(dtype='string', id=None), '__index_level_0__': Value(dtype='int64', id=None), 'input_ids': Sequence(feature=Value(dtype='int32', id=None), length=-1, id=None), 'attention_mask': Sequence(feature=Value(dtype='int8', id=None), length=-1, id=None)}\n",
      "Dataset({\n",
      "    features: ['label', 'text', '__index_level_0__', 'input_ids', 'attention_mask'],\n",
      "    num_rows: 3019\n",
      "})\n"
     ]
    }
   ],
   "source": [
    "print(encoded_ds['train'].features)\n",
    "print(encoded_ds['train'])"
   ]
  },
  {
   "cell_type": "markdown",
   "id": "879e7fd8",
   "metadata": {},
   "source": [
    "#### Initialize Model"
   ]
  },
  {
   "cell_type": "code",
   "execution_count": 12,
   "id": "bda2bb12",
   "metadata": {},
   "outputs": [
    {
     "name": "stderr",
     "output_type": "stream",
     "text": [
      "Some weights of the model checkpoint at distilbert-base-uncased were not used when initializing DistilBertForSequenceClassification: ['vocab_projector.weight', 'vocab_transform.bias', 'vocab_transform.weight', 'vocab_layer_norm.weight', 'vocab_layer_norm.bias', 'vocab_projector.bias']\n",
      "- This IS expected if you are initializing DistilBertForSequenceClassification from the checkpoint of a model trained on another task or with another architecture (e.g. initializing a BertForSequenceClassification model from a BertForPreTraining model).\n",
      "- This IS NOT expected if you are initializing DistilBertForSequenceClassification from the checkpoint of a model that you expect to be exactly identical (initializing a BertForSequenceClassification model from a BertForSequenceClassification model).\n",
      "Some weights of DistilBertForSequenceClassification were not initialized from the model checkpoint at distilbert-base-uncased and are newly initialized: ['pre_classifier.bias', 'pre_classifier.weight', 'classifier.weight', 'classifier.bias']\n",
      "You should probably TRAIN this model on a down-stream task to be able to use it for predictions and inference.\n"
     ]
    }
   ],
   "source": [
    "model = (AutoModelForSequenceClassification.from_pretrained(model_ckpt, num_labels=num_labels)).to(device)"
   ]
  },
  {
   "cell_type": "markdown",
   "id": "5b4af8d7",
   "metadata": {},
   "source": [
    "#### Metrics Evaluation Function"
   ]
  },
  {
   "cell_type": "code",
   "execution_count": 13,
   "id": "f032424d",
   "metadata": {},
   "outputs": [],
   "source": [
    "def compute_metrics_for_regression(eval_pred):\n",
    "    logits, labels = eval_pred\n",
    "    labels = labels.reshape(-1, 1)\n",
    "\n",
    "    mse = mean_squared_error(labels, logits)\n",
    "    rmse = mean_squared_error(labels, logits, squared=False)\n",
    "    mae = mean_absolute_error(labels, logits)\n",
    "    r2 = r2_score(labels, logits)\n",
    "    \n",
    "    single_squared_errors = ((logits - labels).flatten()**2).tolist()\n",
    "    accuracy = sum(\n",
    "        [1 for e in single_squared_errors if e < 0.05]) / len(single_squared_errors)\n",
    "    \n",
    "    return {\"mse\": mse, \"rmse\": rmse, \"mae\": mae, \"accuracy\": accuracy, \"r2\": r2}"
   ]
  },
  {
   "cell_type": "markdown",
   "id": "08334475",
   "metadata": {},
   "source": [
    "#### Trainer Arguments"
   ]
  },
  {
   "cell_type": "code",
   "execution_count": 14,
   "id": "0358228f",
   "metadata": {},
   "outputs": [],
   "source": [
    "training_args = TrainingArguments(output_dir=model_name, \n",
    "                                  num_train_epochs=num_of_epochs, \n",
    "                                  per_device_train_batch_size=BATCH_SIZE, \n",
    "                                  per_device_eval_batch_size=BATCH_SIZE, \n",
    "                                  weight_decay=0.01,\n",
    "                                  learning_rate=learning_rate,\n",
    "                                  evaluation_strategy='epoch',\n",
    "                                  save_total_limit=12,\n",
    "                                  load_best_model_at_end=True,\n",
    "                                  metric_for_best_model='rmse',\n",
    "                                  greater_is_better=False,\n",
    "                                  save_strategy='epoch', \n",
    "                                  optim='adamw_hf',\n",
    "                                  push_to_hub=True)"
   ]
  },
  {
   "cell_type": "markdown",
   "id": "6802a842",
   "metadata": {},
   "source": [
    "#### Instantiate Optimizer"
   ]
  },
  {
   "cell_type": "code",
   "execution_count": 15,
   "id": "5ae73819",
   "metadata": {},
   "outputs": [],
   "source": [
    "optimizer_name = torch.optim.AdamW(model.parameters(), lr=learning_rate)\n",
    "\n",
    "num_training_steps = num_of_epochs * len(encoded_ds['train'])\n",
    "\n",
    "lr_scheduler = get_scheduler(\n",
    "    name=\"linear\", optimizer=optimizer_name, num_warmup_steps=0, num_training_steps=num_training_steps\n",
    ")\n",
    "\n",
    "optimizer = [optimizer_name, lr_scheduler]"
   ]
  },
  {
   "cell_type": "markdown",
   "id": "191fe09e",
   "metadata": {},
   "source": [
    "#### Build Trainer"
   ]
  },
  {
   "cell_type": "code",
   "execution_count": 16,
   "id": "3551a802",
   "metadata": {},
   "outputs": [
    {
     "name": "stderr",
     "output_type": "stream",
     "text": [
      "/Users/briandunn/Documents/nlpnn/nlp_projects/distilbert-base-uncased-Regression-TMDB_5000_Movie_Dataset is already a clone of https://huggingface.co/DunnBC22/distilbert-base-uncased-Regression-TMDB_5000_Movie_Dataset. Make sure you pull the latest changes with `repo.git_pull()`.\n"
     ]
    }
   ],
   "source": [
    "trainer = Trainer(model=model, \n",
    "                  args=training_args, \n",
    "                  train_dataset=encoded_ds['train'], \n",
    "                  eval_dataset=encoded_ds['eval'],\n",
    "                  optimizers=optimizer, \n",
    "                  tokenizer=tokenizer,\n",
    "                  compute_metrics=compute_metrics_for_regression)"
   ]
  },
  {
   "cell_type": "markdown",
   "id": "cc60f187",
   "metadata": {},
   "source": [
    "#### Train the Trainer"
   ]
  },
  {
   "cell_type": "code",
   "execution_count": 17,
   "id": "a0e50f1c",
   "metadata": {},
   "outputs": [
    {
     "name": "stderr",
     "output_type": "stream",
     "text": [
      "The following columns in the training set don't have a corresponding argument in `DistilBertForSequenceClassification.forward` and have been ignored: __index_level_0__, text. If __index_level_0__, text are not expected by `DistilBertForSequenceClassification.forward`,  you can safely ignore this message.\n",
      "***** Running training *****\n",
      "  Num examples = 3019\n",
      "  Num Epochs = 15\n",
      "  Instantaneous batch size per device = 64\n",
      "  Total train batch size (w. parallel, distributed & accumulation) = 64\n",
      "  Gradient Accumulation steps = 1\n",
      "  Total optimization steps = 720\n"
     ]
    },
    {
     "data": {
      "application/vnd.jupyter.widget-view+json": {
       "model_id": "c51640273ace45b0a2144df69b654ece",
       "version_major": 2,
       "version_minor": 0
      },
      "text/plain": [
       "  0%|          | 0/720 [00:00<?, ?it/s]"
      ]
     },
     "metadata": {},
     "output_type": "display_data"
    },
    {
     "name": "stderr",
     "output_type": "stream",
     "text": [
      "The following columns in the evaluation set don't have a corresponding argument in `DistilBertForSequenceClassification.forward` and have been ignored: __index_level_0__, text. If __index_level_0__, text are not expected by `DistilBertForSequenceClassification.forward`,  you can safely ignore this message.\n",
      "***** Running Evaluation *****\n",
      "  Num examples = 377\n",
      "  Batch size = 64\n"
     ]
    },
    {
     "data": {
      "application/vnd.jupyter.widget-view+json": {
       "model_id": "f800df21548846aa9f064a9ff2db79da",
       "version_major": 2,
       "version_minor": 0
      },
      "text/plain": [
       "  0%|          | 0/6 [00:00<?, ?it/s]"
      ]
     },
     "metadata": {},
     "output_type": "display_data"
    },
    {
     "name": "stderr",
     "output_type": "stream",
     "text": [
      "Saving model checkpoint to distilbert-base-uncased-Regression-TMDB_5000_Movie_Dataset/checkpoint-48\n",
      "Configuration saved in distilbert-base-uncased-Regression-TMDB_5000_Movie_Dataset/checkpoint-48/config.json\n",
      "Model weights saved in distilbert-base-uncased-Regression-TMDB_5000_Movie_Dataset/checkpoint-48/pytorch_model.bin\n",
      "tokenizer config file saved in distilbert-base-uncased-Regression-TMDB_5000_Movie_Dataset/checkpoint-48/tokenizer_config.json\n",
      "Special tokens file saved in distilbert-base-uncased-Regression-TMDB_5000_Movie_Dataset/checkpoint-48/special_tokens_map.json\n"
     ]
    },
    {
     "name": "stdout",
     "output_type": "stream",
     "text": [
      "{'eval_loss': 2.200951099395752, 'eval_mse': 2.200951099395752, 'eval_rmse': 1.48356032371521, 'eval_mae': 1.297607421875, 'eval_accuracy': 0.050397877984084884, 'eval_r2': -1.5416074272685232, 'eval_runtime': 193.6346, 'eval_samples_per_second': 1.947, 'eval_steps_per_second': 0.031, 'epoch': 1.0}\n"
     ]
    },
    {
     "name": "stderr",
     "output_type": "stream",
     "text": [
      "tokenizer config file saved in distilbert-base-uncased-Regression-TMDB_5000_Movie_Dataset/tokenizer_config.json\n",
      "Special tokens file saved in distilbert-base-uncased-Regression-TMDB_5000_Movie_Dataset/special_tokens_map.json\n",
      "The following columns in the evaluation set don't have a corresponding argument in `DistilBertForSequenceClassification.forward` and have been ignored: __index_level_0__, text. If __index_level_0__, text are not expected by `DistilBertForSequenceClassification.forward`,  you can safely ignore this message.\n",
      "***** Running Evaluation *****\n",
      "  Num examples = 377\n",
      "  Batch size = 64\n"
     ]
    },
    {
     "data": {
      "application/vnd.jupyter.widget-view+json": {
       "model_id": "4a4292958b1e4a4e99492bf65591d7ef",
       "version_major": 2,
       "version_minor": 0
      },
      "text/plain": [
       "  0%|          | 0/6 [00:00<?, ?it/s]"
      ]
     },
     "metadata": {},
     "output_type": "display_data"
    },
    {
     "name": "stderr",
     "output_type": "stream",
     "text": [
      "Saving model checkpoint to distilbert-base-uncased-Regression-TMDB_5000_Movie_Dataset/checkpoint-96\n",
      "Configuration saved in distilbert-base-uncased-Regression-TMDB_5000_Movie_Dataset/checkpoint-96/config.json\n"
     ]
    },
    {
     "name": "stdout",
     "output_type": "stream",
     "text": [
      "{'eval_loss': 0.8820900321006775, 'eval_mse': 0.8820900321006775, 'eval_rmse': 0.9391964673995972, 'eval_mae': 0.7192559242248535, 'eval_accuracy': 0.20689655172413793, 'eval_r2': -0.018617198265002965, 'eval_runtime': 194.6414, 'eval_samples_per_second': 1.937, 'eval_steps_per_second': 0.031, 'epoch': 2.0}\n"
     ]
    },
    {
     "name": "stderr",
     "output_type": "stream",
     "text": [
      "Model weights saved in distilbert-base-uncased-Regression-TMDB_5000_Movie_Dataset/checkpoint-96/pytorch_model.bin\n",
      "tokenizer config file saved in distilbert-base-uncased-Regression-TMDB_5000_Movie_Dataset/checkpoint-96/tokenizer_config.json\n",
      "Special tokens file saved in distilbert-base-uncased-Regression-TMDB_5000_Movie_Dataset/checkpoint-96/special_tokens_map.json\n",
      "tokenizer config file saved in distilbert-base-uncased-Regression-TMDB_5000_Movie_Dataset/tokenizer_config.json\n",
      "Special tokens file saved in distilbert-base-uncased-Regression-TMDB_5000_Movie_Dataset/special_tokens_map.json\n",
      "The following columns in the evaluation set don't have a corresponding argument in `DistilBertForSequenceClassification.forward` and have been ignored: __index_level_0__, text. If __index_level_0__, text are not expected by `DistilBertForSequenceClassification.forward`,  you can safely ignore this message.\n",
      "***** Running Evaluation *****\n",
      "  Num examples = 377\n",
      "  Batch size = 64\n"
     ]
    },
    {
     "data": {
      "application/vnd.jupyter.widget-view+json": {
       "model_id": "f7074f3925b04d2d91f1545a7ae631b4",
       "version_major": 2,
       "version_minor": 0
      },
      "text/plain": [
       "  0%|          | 0/6 [00:00<?, ?it/s]"
      ]
     },
     "metadata": {},
     "output_type": "display_data"
    },
    {
     "name": "stderr",
     "output_type": "stream",
     "text": [
      "Saving model checkpoint to distilbert-base-uncased-Regression-TMDB_5000_Movie_Dataset/checkpoint-144\n",
      "Configuration saved in distilbert-base-uncased-Regression-TMDB_5000_Movie_Dataset/checkpoint-144/config.json\n",
      "Model weights saved in distilbert-base-uncased-Regression-TMDB_5000_Movie_Dataset/checkpoint-144/pytorch_model.bin\n",
      "tokenizer config file saved in distilbert-base-uncased-Regression-TMDB_5000_Movie_Dataset/checkpoint-144/tokenizer_config.json\n",
      "Special tokens file saved in distilbert-base-uncased-Regression-TMDB_5000_Movie_Dataset/checkpoint-144/special_tokens_map.json\n"
     ]
    },
    {
     "name": "stdout",
     "output_type": "stream",
     "text": [
      "{'eval_loss': 0.8279125690460205, 'eval_mse': 0.8279125690460205, 'eval_rmse': 0.9098970293998718, 'eval_mae': 0.6988300085067749, 'eval_accuracy': 0.20159151193633953, 'eval_r2': 0.04394564949174762, 'eval_runtime': 195.7433, 'eval_samples_per_second': 1.926, 'eval_steps_per_second': 0.031, 'epoch': 3.0}\n"
     ]
    },
    {
     "name": "stderr",
     "output_type": "stream",
     "text": [
      "tokenizer config file saved in distilbert-base-uncased-Regression-TMDB_5000_Movie_Dataset/tokenizer_config.json\n",
      "Special tokens file saved in distilbert-base-uncased-Regression-TMDB_5000_Movie_Dataset/special_tokens_map.json\n",
      "The following columns in the evaluation set don't have a corresponding argument in `DistilBertForSequenceClassification.forward` and have been ignored: __index_level_0__, text. If __index_level_0__, text are not expected by `DistilBertForSequenceClassification.forward`,  you can safely ignore this message.\n",
      "***** Running Evaluation *****\n",
      "  Num examples = 377\n",
      "  Batch size = 64\n"
     ]
    },
    {
     "data": {
      "application/vnd.jupyter.widget-view+json": {
       "model_id": "647bbef3ac1a42898a171d5f882b901b",
       "version_major": 2,
       "version_minor": 0
      },
      "text/plain": [
       "  0%|          | 0/6 [00:00<?, ?it/s]"
      ]
     },
     "metadata": {},
     "output_type": "display_data"
    },
    {
     "name": "stderr",
     "output_type": "stream",
     "text": [
      "Saving model checkpoint to distilbert-base-uncased-Regression-TMDB_5000_Movie_Dataset/checkpoint-192\n",
      "Configuration saved in distilbert-base-uncased-Regression-TMDB_5000_Movie_Dataset/checkpoint-192/config.json\n",
      "Model weights saved in distilbert-base-uncased-Regression-TMDB_5000_Movie_Dataset/checkpoint-192/pytorch_model.bin\n",
      "tokenizer config file saved in distilbert-base-uncased-Regression-TMDB_5000_Movie_Dataset/checkpoint-192/tokenizer_config.json\n",
      "Special tokens file saved in distilbert-base-uncased-Regression-TMDB_5000_Movie_Dataset/checkpoint-192/special_tokens_map.json\n"
     ]
    },
    {
     "name": "stdout",
     "output_type": "stream",
     "text": [
      "{'eval_loss': 0.8107514977455139, 'eval_mse': 0.8107514977455139, 'eval_rmse': 0.9004173874855042, 'eval_mae': 0.6997339129447937, 'eval_accuracy': 0.18037135278514588, 'eval_r2': 0.06376292787065119, 'eval_runtime': 194.7712, 'eval_samples_per_second': 1.936, 'eval_steps_per_second': 0.031, 'epoch': 4.0}\n"
     ]
    },
    {
     "name": "stderr",
     "output_type": "stream",
     "text": [
      "tokenizer config file saved in distilbert-base-uncased-Regression-TMDB_5000_Movie_Dataset/tokenizer_config.json\n",
      "Special tokens file saved in distilbert-base-uncased-Regression-TMDB_5000_Movie_Dataset/special_tokens_map.json\n",
      "The following columns in the evaluation set don't have a corresponding argument in `DistilBertForSequenceClassification.forward` and have been ignored: __index_level_0__, text. If __index_level_0__, text are not expected by `DistilBertForSequenceClassification.forward`,  you can safely ignore this message.\n",
      "***** Running Evaluation *****\n",
      "  Num examples = 377\n",
      "  Batch size = 64\n"
     ]
    },
    {
     "data": {
      "application/vnd.jupyter.widget-view+json": {
       "model_id": "64137ec6cd964efaa5418310ec3b6658",
       "version_major": 2,
       "version_minor": 0
      },
      "text/plain": [
       "  0%|          | 0/6 [00:00<?, ?it/s]"
      ]
     },
     "metadata": {},
     "output_type": "display_data"
    },
    {
     "name": "stderr",
     "output_type": "stream",
     "text": [
      "Saving model checkpoint to distilbert-base-uncased-Regression-TMDB_5000_Movie_Dataset/checkpoint-240\n",
      "Configuration saved in distilbert-base-uncased-Regression-TMDB_5000_Movie_Dataset/checkpoint-240/config.json\n",
      "Model weights saved in distilbert-base-uncased-Regression-TMDB_5000_Movie_Dataset/checkpoint-240/pytorch_model.bin\n",
      "tokenizer config file saved in distilbert-base-uncased-Regression-TMDB_5000_Movie_Dataset/checkpoint-240/tokenizer_config.json\n",
      "Special tokens file saved in distilbert-base-uncased-Regression-TMDB_5000_Movie_Dataset/checkpoint-240/special_tokens_map.json\n"
     ]
    },
    {
     "name": "stdout",
     "output_type": "stream",
     "text": [
      "{'eval_loss': 0.8415805697441101, 'eval_mse': 0.8415805101394653, 'eval_rmse': 0.9173769950866699, 'eval_mae': 0.7173587679862976, 'eval_accuracy': 0.1962864721485411, 'eval_r2': 0.028162233811685478, 'eval_runtime': 195.5079, 'eval_samples_per_second': 1.928, 'eval_steps_per_second': 0.031, 'epoch': 5.0}\n"
     ]
    },
    {
     "name": "stderr",
     "output_type": "stream",
     "text": [
      "tokenizer config file saved in distilbert-base-uncased-Regression-TMDB_5000_Movie_Dataset/tokenizer_config.json\n",
      "Special tokens file saved in distilbert-base-uncased-Regression-TMDB_5000_Movie_Dataset/special_tokens_map.json\n",
      "The following columns in the evaluation set don't have a corresponding argument in `DistilBertForSequenceClassification.forward` and have been ignored: __index_level_0__, text. If __index_level_0__, text are not expected by `DistilBertForSequenceClassification.forward`,  you can safely ignore this message.\n",
      "***** Running Evaluation *****\n",
      "  Num examples = 377\n",
      "  Batch size = 64\n"
     ]
    },
    {
     "data": {
      "application/vnd.jupyter.widget-view+json": {
       "model_id": "478648a0eff645078ad358f4d7c4c1fa",
       "version_major": 2,
       "version_minor": 0
      },
      "text/plain": [
       "  0%|          | 0/6 [00:00<?, ?it/s]"
      ]
     },
     "metadata": {},
     "output_type": "display_data"
    },
    {
     "name": "stderr",
     "output_type": "stream",
     "text": [
      "Saving model checkpoint to distilbert-base-uncased-Regression-TMDB_5000_Movie_Dataset/checkpoint-288\n",
      "Configuration saved in distilbert-base-uncased-Regression-TMDB_5000_Movie_Dataset/checkpoint-288/config.json\n",
      "Model weights saved in distilbert-base-uncased-Regression-TMDB_5000_Movie_Dataset/checkpoint-288/pytorch_model.bin\n",
      "tokenizer config file saved in distilbert-base-uncased-Regression-TMDB_5000_Movie_Dataset/checkpoint-288/tokenizer_config.json\n",
      "Special tokens file saved in distilbert-base-uncased-Regression-TMDB_5000_Movie_Dataset/checkpoint-288/special_tokens_map.json\n"
     ]
    },
    {
     "name": "stdout",
     "output_type": "stream",
     "text": [
      "{'eval_loss': 0.8787928223609924, 'eval_mse': 0.878792941570282, 'eval_rmse': 0.9374395608901978, 'eval_mae': 0.7272850275039673, 'eval_accuracy': 0.20159151193633953, 'eval_r2': -0.01480975230728454, 'eval_runtime': 193.2303, 'eval_samples_per_second': 1.951, 'eval_steps_per_second': 0.031, 'epoch': 6.0}\n"
     ]
    },
    {
     "name": "stderr",
     "output_type": "stream",
     "text": [
      "tokenizer config file saved in distilbert-base-uncased-Regression-TMDB_5000_Movie_Dataset/tokenizer_config.json\n",
      "Special tokens file saved in distilbert-base-uncased-Regression-TMDB_5000_Movie_Dataset/special_tokens_map.json\n",
      "The following columns in the evaluation set don't have a corresponding argument in `DistilBertForSequenceClassification.forward` and have been ignored: __index_level_0__, text. If __index_level_0__, text are not expected by `DistilBertForSequenceClassification.forward`,  you can safely ignore this message.\n",
      "***** Running Evaluation *****\n",
      "  Num examples = 377\n",
      "  Batch size = 64\n"
     ]
    },
    {
     "data": {
      "application/vnd.jupyter.widget-view+json": {
       "model_id": "c2131f12e4fb4103b60353240211bd9e",
       "version_major": 2,
       "version_minor": 0
      },
      "text/plain": [
       "  0%|          | 0/6 [00:00<?, ?it/s]"
      ]
     },
     "metadata": {},
     "output_type": "display_data"
    },
    {
     "name": "stderr",
     "output_type": "stream",
     "text": [
      "Saving model checkpoint to distilbert-base-uncased-Regression-TMDB_5000_Movie_Dataset/checkpoint-336\n",
      "Configuration saved in distilbert-base-uncased-Regression-TMDB_5000_Movie_Dataset/checkpoint-336/config.json\n",
      "Model weights saved in distilbert-base-uncased-Regression-TMDB_5000_Movie_Dataset/checkpoint-336/pytorch_model.bin\n",
      "tokenizer config file saved in distilbert-base-uncased-Regression-TMDB_5000_Movie_Dataset/checkpoint-336/tokenizer_config.json\n",
      "Special tokens file saved in distilbert-base-uncased-Regression-TMDB_5000_Movie_Dataset/checkpoint-336/special_tokens_map.json\n"
     ]
    },
    {
     "name": "stdout",
     "output_type": "stream",
     "text": [
      "{'eval_loss': 0.9337195158004761, 'eval_mse': 0.9337194561958313, 'eval_rmse': 0.966291606426239, 'eval_mae': 0.7476375699043274, 'eval_accuracy': 0.21220159151193635, 'eval_r2': -0.07823770916338169, 'eval_runtime': 195.2017, 'eval_samples_per_second': 1.931, 'eval_steps_per_second': 0.031, 'epoch': 7.0}\n"
     ]
    },
    {
     "name": "stderr",
     "output_type": "stream",
     "text": [
      "tokenizer config file saved in distilbert-base-uncased-Regression-TMDB_5000_Movie_Dataset/tokenizer_config.json\n",
      "Special tokens file saved in distilbert-base-uncased-Regression-TMDB_5000_Movie_Dataset/special_tokens_map.json\n",
      "The following columns in the evaluation set don't have a corresponding argument in `DistilBertForSequenceClassification.forward` and have been ignored: __index_level_0__, text. If __index_level_0__, text are not expected by `DistilBertForSequenceClassification.forward`,  you can safely ignore this message.\n",
      "***** Running Evaluation *****\n",
      "  Num examples = 377\n",
      "  Batch size = 64\n"
     ]
    },
    {
     "data": {
      "application/vnd.jupyter.widget-view+json": {
       "model_id": "4a1fa51a90474882a8e7bc866c1685bc",
       "version_major": 2,
       "version_minor": 0
      },
      "text/plain": [
       "  0%|          | 0/6 [00:00<?, ?it/s]"
      ]
     },
     "metadata": {},
     "output_type": "display_data"
    },
    {
     "name": "stderr",
     "output_type": "stream",
     "text": [
      "Saving model checkpoint to distilbert-base-uncased-Regression-TMDB_5000_Movie_Dataset/checkpoint-384\n",
      "Configuration saved in distilbert-base-uncased-Regression-TMDB_5000_Movie_Dataset/checkpoint-384/config.json\n",
      "Model weights saved in distilbert-base-uncased-Regression-TMDB_5000_Movie_Dataset/checkpoint-384/pytorch_model.bin\n",
      "tokenizer config file saved in distilbert-base-uncased-Regression-TMDB_5000_Movie_Dataset/checkpoint-384/tokenizer_config.json\n",
      "Special tokens file saved in distilbert-base-uncased-Regression-TMDB_5000_Movie_Dataset/checkpoint-384/special_tokens_map.json\n"
     ]
    },
    {
     "name": "stdout",
     "output_type": "stream",
     "text": [
      "{'eval_loss': 1.0650649070739746, 'eval_mse': 1.065064787864685, 'eval_rmse': 1.0320197343826294, 'eval_mae': 0.8039134740829468, 'eval_accuracy': 0.1883289124668435, 'eval_r2': -0.22991224415457, 'eval_runtime': 196.5623, 'eval_samples_per_second': 1.918, 'eval_steps_per_second': 0.031, 'epoch': 8.0}\n"
     ]
    },
    {
     "name": "stderr",
     "output_type": "stream",
     "text": [
      "tokenizer config file saved in distilbert-base-uncased-Regression-TMDB_5000_Movie_Dataset/tokenizer_config.json\n",
      "Special tokens file saved in distilbert-base-uncased-Regression-TMDB_5000_Movie_Dataset/special_tokens_map.json\n",
      "The following columns in the evaluation set don't have a corresponding argument in `DistilBertForSequenceClassification.forward` and have been ignored: __index_level_0__, text. If __index_level_0__, text are not expected by `DistilBertForSequenceClassification.forward`,  you can safely ignore this message.\n",
      "***** Running Evaluation *****\n",
      "  Num examples = 377\n",
      "  Batch size = 64\n"
     ]
    },
    {
     "data": {
      "application/vnd.jupyter.widget-view+json": {
       "model_id": "7e310397febc491a91806b099d98c1d7",
       "version_major": 2,
       "version_minor": 0
      },
      "text/plain": [
       "  0%|          | 0/6 [00:00<?, ?it/s]"
      ]
     },
     "metadata": {},
     "output_type": "display_data"
    },
    {
     "name": "stderr",
     "output_type": "stream",
     "text": [
      "Saving model checkpoint to distilbert-base-uncased-Regression-TMDB_5000_Movie_Dataset/checkpoint-432\n",
      "Configuration saved in distilbert-base-uncased-Regression-TMDB_5000_Movie_Dataset/checkpoint-432/config.json\n",
      "Model weights saved in distilbert-base-uncased-Regression-TMDB_5000_Movie_Dataset/checkpoint-432/pytorch_model.bin\n",
      "tokenizer config file saved in distilbert-base-uncased-Regression-TMDB_5000_Movie_Dataset/checkpoint-432/tokenizer_config.json\n",
      "Special tokens file saved in distilbert-base-uncased-Regression-TMDB_5000_Movie_Dataset/checkpoint-432/special_tokens_map.json\n"
     ]
    },
    {
     "name": "stdout",
     "output_type": "stream",
     "text": [
      "{'eval_loss': 0.9062464237213135, 'eval_mse': 0.906246542930603, 'eval_rmse': 0.9519698023796082, 'eval_mae': 0.7524718642234802, 'eval_accuracy': 0.16976127320954906, 'eval_r2': -0.04651255726947601, 'eval_runtime': 199.2434, 'eval_samples_per_second': 1.892, 'eval_steps_per_second': 0.03, 'epoch': 9.0}\n"
     ]
    },
    {
     "name": "stderr",
     "output_type": "stream",
     "text": [
      "tokenizer config file saved in distilbert-base-uncased-Regression-TMDB_5000_Movie_Dataset/tokenizer_config.json\n",
      "Special tokens file saved in distilbert-base-uncased-Regression-TMDB_5000_Movie_Dataset/special_tokens_map.json\n",
      "The following columns in the evaluation set don't have a corresponding argument in `DistilBertForSequenceClassification.forward` and have been ignored: __index_level_0__, text. If __index_level_0__, text are not expected by `DistilBertForSequenceClassification.forward`,  you can safely ignore this message.\n",
      "***** Running Evaluation *****\n",
      "  Num examples = 377\n",
      "  Batch size = 64\n"
     ]
    },
    {
     "data": {
      "application/vnd.jupyter.widget-view+json": {
       "model_id": "1f40c7e02d5b438eaa89163d8fc8c15c",
       "version_major": 2,
       "version_minor": 0
      },
      "text/plain": [
       "  0%|          | 0/6 [00:00<?, ?it/s]"
      ]
     },
     "metadata": {},
     "output_type": "display_data"
    },
    {
     "name": "stderr",
     "output_type": "stream",
     "text": [
      "Saving model checkpoint to distilbert-base-uncased-Regression-TMDB_5000_Movie_Dataset/checkpoint-480\n",
      "Configuration saved in distilbert-base-uncased-Regression-TMDB_5000_Movie_Dataset/checkpoint-480/config.json\n",
      "Model weights saved in distilbert-base-uncased-Regression-TMDB_5000_Movie_Dataset/checkpoint-480/pytorch_model.bin\n",
      "tokenizer config file saved in distilbert-base-uncased-Regression-TMDB_5000_Movie_Dataset/checkpoint-480/tokenizer_config.json\n",
      "Special tokens file saved in distilbert-base-uncased-Regression-TMDB_5000_Movie_Dataset/checkpoint-480/special_tokens_map.json\n"
     ]
    },
    {
     "name": "stdout",
     "output_type": "stream",
     "text": [
      "{'eval_loss': 0.9021569490432739, 'eval_mse': 0.9021569490432739, 'eval_rmse': 0.9498194456100464, 'eval_mae': 0.7403446435928345, 'eval_accuracy': 0.20159151193633953, 'eval_r2': -0.041790016988830114, 'eval_runtime': 194.694, 'eval_samples_per_second': 1.936, 'eval_steps_per_second': 0.031, 'epoch': 10.0}\n"
     ]
    },
    {
     "name": "stderr",
     "output_type": "stream",
     "text": [
      "tokenizer config file saved in distilbert-base-uncased-Regression-TMDB_5000_Movie_Dataset/tokenizer_config.json\n",
      "Special tokens file saved in distilbert-base-uncased-Regression-TMDB_5000_Movie_Dataset/special_tokens_map.json\n"
     ]
    },
    {
     "name": "stdout",
     "output_type": "stream",
     "text": [
      "{'loss': 1.979, 'learning_rate': 1.9779176327702332e-05, 'epoch': 10.42}\n"
     ]
    },
    {
     "name": "stderr",
     "output_type": "stream",
     "text": [
      "The following columns in the evaluation set don't have a corresponding argument in `DistilBertForSequenceClassification.forward` and have been ignored: __index_level_0__, text. If __index_level_0__, text are not expected by `DistilBertForSequenceClassification.forward`,  you can safely ignore this message.\n",
      "***** Running Evaluation *****\n",
      "  Num examples = 377\n",
      "  Batch size = 64\n"
     ]
    },
    {
     "data": {
      "application/vnd.jupyter.widget-view+json": {
       "model_id": "466d1ed4b35c4619a17d409f0efe54e2",
       "version_major": 2,
       "version_minor": 0
      },
      "text/plain": [
       "  0%|          | 0/6 [00:00<?, ?it/s]"
      ]
     },
     "metadata": {},
     "output_type": "display_data"
    },
    {
     "name": "stderr",
     "output_type": "stream",
     "text": [
      "Saving model checkpoint to distilbert-base-uncased-Regression-TMDB_5000_Movie_Dataset/checkpoint-528\n",
      "Configuration saved in distilbert-base-uncased-Regression-TMDB_5000_Movie_Dataset/checkpoint-528/config.json\n",
      "Model weights saved in distilbert-base-uncased-Regression-TMDB_5000_Movie_Dataset/checkpoint-528/pytorch_model.bin\n",
      "tokenizer config file saved in distilbert-base-uncased-Regression-TMDB_5000_Movie_Dataset/checkpoint-528/tokenizer_config.json\n",
      "Special tokens file saved in distilbert-base-uncased-Regression-TMDB_5000_Movie_Dataset/checkpoint-528/special_tokens_map.json\n"
     ]
    },
    {
     "name": "stdout",
     "output_type": "stream",
     "text": [
      "{'eval_loss': 0.9014069437980652, 'eval_mse': 0.9014071226119995, 'eval_rmse': 0.9494246244430542, 'eval_mae': 0.7416626214981079, 'eval_accuracy': 0.1962864721485411, 'eval_r2': -0.040924075857609044, 'eval_runtime': 193.3715, 'eval_samples_per_second': 1.95, 'eval_steps_per_second': 0.031, 'epoch': 11.0}\n"
     ]
    },
    {
     "name": "stderr",
     "output_type": "stream",
     "text": [
      "tokenizer config file saved in distilbert-base-uncased-Regression-TMDB_5000_Movie_Dataset/tokenizer_config.json\n",
      "Special tokens file saved in distilbert-base-uncased-Regression-TMDB_5000_Movie_Dataset/special_tokens_map.json\n",
      "The following columns in the evaluation set don't have a corresponding argument in `DistilBertForSequenceClassification.forward` and have been ignored: __index_level_0__, text. If __index_level_0__, text are not expected by `DistilBertForSequenceClassification.forward`,  you can safely ignore this message.\n",
      "***** Running Evaluation *****\n",
      "  Num examples = 377\n",
      "  Batch size = 64\n"
     ]
    },
    {
     "data": {
      "application/vnd.jupyter.widget-view+json": {
       "model_id": "3d6d386ce2b04bd1afe77a09f7821e9d",
       "version_major": 2,
       "version_minor": 0
      },
      "text/plain": [
       "  0%|          | 0/6 [00:00<?, ?it/s]"
      ]
     },
     "metadata": {},
     "output_type": "display_data"
    },
    {
     "name": "stderr",
     "output_type": "stream",
     "text": [
      "Saving model checkpoint to distilbert-base-uncased-Regression-TMDB_5000_Movie_Dataset/checkpoint-576\n",
      "Configuration saved in distilbert-base-uncased-Regression-TMDB_5000_Movie_Dataset/checkpoint-576/config.json\n",
      "Model weights saved in distilbert-base-uncased-Regression-TMDB_5000_Movie_Dataset/checkpoint-576/pytorch_model.bin\n",
      "tokenizer config file saved in distilbert-base-uncased-Regression-TMDB_5000_Movie_Dataset/checkpoint-576/tokenizer_config.json\n",
      "Special tokens file saved in distilbert-base-uncased-Regression-TMDB_5000_Movie_Dataset/checkpoint-576/special_tokens_map.json\n"
     ]
    },
    {
     "name": "stdout",
     "output_type": "stream",
     "text": [
      "{'eval_loss': 0.9119113087654114, 'eval_mse': 0.9119111895561218, 'eval_rmse': 0.9549404382705688, 'eval_mae': 0.7478482127189636, 'eval_accuracy': 0.1830238726790451, 'eval_r2': -0.053054043985241606, 'eval_runtime': 193.347, 'eval_samples_per_second': 1.95, 'eval_steps_per_second': 0.031, 'epoch': 12.0}\n"
     ]
    },
    {
     "name": "stderr",
     "output_type": "stream",
     "text": [
      "tokenizer config file saved in distilbert-base-uncased-Regression-TMDB_5000_Movie_Dataset/tokenizer_config.json\n",
      "Special tokens file saved in distilbert-base-uncased-Regression-TMDB_5000_Movie_Dataset/special_tokens_map.json\n",
      "The following columns in the evaluation set don't have a corresponding argument in `DistilBertForSequenceClassification.forward` and have been ignored: __index_level_0__, text. If __index_level_0__, text are not expected by `DistilBertForSequenceClassification.forward`,  you can safely ignore this message.\n",
      "***** Running Evaluation *****\n",
      "  Num examples = 377\n",
      "  Batch size = 64\n"
     ]
    },
    {
     "data": {
      "application/vnd.jupyter.widget-view+json": {
       "model_id": "71a4e5a6df9d4fb9a3c919197ac4422a",
       "version_major": 2,
       "version_minor": 0
      },
      "text/plain": [
       "  0%|          | 0/6 [00:00<?, ?it/s]"
      ]
     },
     "metadata": {},
     "output_type": "display_data"
    },
    {
     "name": "stderr",
     "output_type": "stream",
     "text": [
      "Saving model checkpoint to distilbert-base-uncased-Regression-TMDB_5000_Movie_Dataset/checkpoint-624\n",
      "Configuration saved in distilbert-base-uncased-Regression-TMDB_5000_Movie_Dataset/checkpoint-624/config.json\n",
      "Model weights saved in distilbert-base-uncased-Regression-TMDB_5000_Movie_Dataset/checkpoint-624/pytorch_model.bin\n",
      "tokenizer config file saved in distilbert-base-uncased-Regression-TMDB_5000_Movie_Dataset/checkpoint-624/tokenizer_config.json\n",
      "Special tokens file saved in distilbert-base-uncased-Regression-TMDB_5000_Movie_Dataset/checkpoint-624/special_tokens_map.json\n"
     ]
    },
    {
     "name": "stdout",
     "output_type": "stream",
     "text": [
      "{'eval_loss': 1.0246567726135254, 'eval_mse': 1.0246566534042358, 'eval_rmse': 1.0122532844543457, 'eval_mae': 0.7922786474227905, 'eval_accuracy': 0.16976127320954906, 'eval_r2': -0.18324984696459534, 'eval_runtime': 193.4612, 'eval_samples_per_second': 1.949, 'eval_steps_per_second': 0.031, 'epoch': 13.0}\n"
     ]
    },
    {
     "name": "stderr",
     "output_type": "stream",
     "text": [
      "tokenizer config file saved in distilbert-base-uncased-Regression-TMDB_5000_Movie_Dataset/tokenizer_config.json\n",
      "Special tokens file saved in distilbert-base-uncased-Regression-TMDB_5000_Movie_Dataset/special_tokens_map.json\n",
      "Deleting older checkpoint [distilbert-base-uncased-Regression-TMDB_5000_Movie_Dataset/checkpoint-48] due to args.save_total_limit\n",
      "The following columns in the evaluation set don't have a corresponding argument in `DistilBertForSequenceClassification.forward` and have been ignored: __index_level_0__, text. If __index_level_0__, text are not expected by `DistilBertForSequenceClassification.forward`,  you can safely ignore this message.\n",
      "***** Running Evaluation *****\n",
      "  Num examples = 377\n",
      "  Batch size = 64\n"
     ]
    },
    {
     "data": {
      "application/vnd.jupyter.widget-view+json": {
       "model_id": "b691b69744874d8581229cc0049b52cd",
       "version_major": 2,
       "version_minor": 0
      },
      "text/plain": [
       "  0%|          | 0/6 [00:00<?, ?it/s]"
      ]
     },
     "metadata": {},
     "output_type": "display_data"
    },
    {
     "name": "stderr",
     "output_type": "stream",
     "text": [
      "Saving model checkpoint to distilbert-base-uncased-Regression-TMDB_5000_Movie_Dataset/checkpoint-672\n",
      "Configuration saved in distilbert-base-uncased-Regression-TMDB_5000_Movie_Dataset/checkpoint-672/config.json\n",
      "Model weights saved in distilbert-base-uncased-Regression-TMDB_5000_Movie_Dataset/checkpoint-672/pytorch_model.bin\n",
      "tokenizer config file saved in distilbert-base-uncased-Regression-TMDB_5000_Movie_Dataset/checkpoint-672/tokenizer_config.json\n",
      "Special tokens file saved in distilbert-base-uncased-Regression-TMDB_5000_Movie_Dataset/checkpoint-672/special_tokens_map.json\n"
     ]
    },
    {
     "name": "stdout",
     "output_type": "stream",
     "text": [
      "{'eval_loss': 1.084119439125061, 'eval_mse': 1.0841195583343506, 'eval_rmse': 1.041210651397705, 'eval_mae': 0.8194248080253601, 'eval_accuracy': 0.15384615384615385, 'eval_r2': -0.25191619110329966, 'eval_runtime': 193.3201, 'eval_samples_per_second': 1.95, 'eval_steps_per_second': 0.031, 'epoch': 14.0}\n"
     ]
    },
    {
     "name": "stderr",
     "output_type": "stream",
     "text": [
      "tokenizer config file saved in distilbert-base-uncased-Regression-TMDB_5000_Movie_Dataset/tokenizer_config.json\n",
      "Special tokens file saved in distilbert-base-uncased-Regression-TMDB_5000_Movie_Dataset/special_tokens_map.json\n",
      "Deleting older checkpoint [distilbert-base-uncased-Regression-TMDB_5000_Movie_Dataset/checkpoint-96] due to args.save_total_limit\n",
      "The following columns in the evaluation set don't have a corresponding argument in `DistilBertForSequenceClassification.forward` and have been ignored: __index_level_0__, text. If __index_level_0__, text are not expected by `DistilBertForSequenceClassification.forward`,  you can safely ignore this message.\n",
      "***** Running Evaluation *****\n",
      "  Num examples = 377\n",
      "  Batch size = 64\n"
     ]
    },
    {
     "data": {
      "application/vnd.jupyter.widget-view+json": {
       "model_id": "ea03e837c30543a6b70b60a5ee87f77b",
       "version_major": 2,
       "version_minor": 0
      },
      "text/plain": [
       "  0%|          | 0/6 [00:00<?, ?it/s]"
      ]
     },
     "metadata": {},
     "output_type": "display_data"
    },
    {
     "name": "stderr",
     "output_type": "stream",
     "text": [
      "Saving model checkpoint to distilbert-base-uncased-Regression-TMDB_5000_Movie_Dataset/checkpoint-720\n",
      "Configuration saved in distilbert-base-uncased-Regression-TMDB_5000_Movie_Dataset/checkpoint-720/config.json\n",
      "Model weights saved in distilbert-base-uncased-Regression-TMDB_5000_Movie_Dataset/checkpoint-720/pytorch_model.bin\n",
      "tokenizer config file saved in distilbert-base-uncased-Regression-TMDB_5000_Movie_Dataset/checkpoint-720/tokenizer_config.json\n",
      "Special tokens file saved in distilbert-base-uncased-Regression-TMDB_5000_Movie_Dataset/checkpoint-720/special_tokens_map.json\n"
     ]
    },
    {
     "name": "stdout",
     "output_type": "stream",
     "text": [
      "{'eval_loss': 0.9409171342849731, 'eval_mse': 0.9409172534942627, 'eval_rmse': 0.970008909702301, 'eval_mae': 0.7608776688575745, 'eval_accuracy': 0.17771883289124668, 'eval_r2': -0.0865494694629092, 'eval_runtime': 193.3448, 'eval_samples_per_second': 1.95, 'eval_steps_per_second': 0.031, 'epoch': 15.0}\n"
     ]
    },
    {
     "name": "stderr",
     "output_type": "stream",
     "text": [
      "tokenizer config file saved in distilbert-base-uncased-Regression-TMDB_5000_Movie_Dataset/tokenizer_config.json\n",
      "Special tokens file saved in distilbert-base-uncased-Regression-TMDB_5000_Movie_Dataset/special_tokens_map.json\n",
      "Deleting older checkpoint [distilbert-base-uncased-Regression-TMDB_5000_Movie_Dataset/checkpoint-144] due to args.save_total_limit\n",
      "\n",
      "\n",
      "Training completed. Do not forget to share your model on huggingface.co/models =)\n",
      "\n",
      "\n",
      "Loading best model from distilbert-base-uncased-Regression-TMDB_5000_Movie_Dataset/checkpoint-192 (score: 0.9004173874855042).\n"
     ]
    },
    {
     "name": "stdout",
     "output_type": "stream",
     "text": [
      "{'train_runtime': 75013.1394, 'train_samples_per_second': 0.604, 'train_steps_per_second': 0.01, 'train_loss': 1.4210472795698377, 'epoch': 15.0}\n"
     ]
    },
    {
     "data": {
      "text/plain": [
       "TrainOutput(global_step=720, training_loss=1.4210472795698377, metrics={'train_runtime': 75013.1394, 'train_samples_per_second': 0.604, 'train_steps_per_second': 0.01, 'train_loss': 1.4210472795698377, 'epoch': 15.0})"
      ]
     },
     "execution_count": 17,
     "metadata": {},
     "output_type": "execute_result"
    }
   ],
   "source": [
    "trainer.train()"
   ]
  },
  {
   "cell_type": "markdown",
   "id": "277a72fe",
   "metadata": {},
   "source": [
    "#### Predictions"
   ]
  },
  {
   "cell_type": "code",
   "execution_count": 18,
   "id": "565ab306",
   "metadata": {},
   "outputs": [
    {
     "name": "stderr",
     "output_type": "stream",
     "text": [
      "The following columns in the evaluation set don't have a corresponding argument in `DistilBertForSequenceClassification.forward` and have been ignored: __index_level_0__, text. If __index_level_0__, text are not expected by `DistilBertForSequenceClassification.forward`,  you can safely ignore this message.\n",
      "***** Running Evaluation *****\n",
      "  Num examples = 378\n",
      "  Batch size = 64\n"
     ]
    },
    {
     "data": {
      "application/vnd.jupyter.widget-view+json": {
       "model_id": "c0cdc377639e497cba51a05eb9fddeff",
       "version_major": 2,
       "version_minor": 0
      },
      "text/plain": [
       "  0%|          | 0/6 [00:00<?, ?it/s]"
      ]
     },
     "metadata": {},
     "output_type": "display_data"
    },
    {
     "data": {
      "text/plain": [
       "{'eval_loss': 0.7613282203674316,\n",
       " 'eval_mse': 0.7613282203674316,\n",
       " 'eval_rmse': 0.8725412487983704,\n",
       " 'eval_mae': 0.6848463416099548,\n",
       " 'eval_accuracy': 0.17989417989417988,\n",
       " 'eval_r2': 0.059211118626469994,\n",
       " 'eval_runtime': 201.8721,\n",
       " 'eval_samples_per_second': 1.872,\n",
       " 'eval_steps_per_second': 0.03,\n",
       " 'epoch': 15.0}"
      ]
     },
     "execution_count": 18,
     "metadata": {},
     "output_type": "execute_result"
    }
   ],
   "source": [
    "trainer.eval_dataset = encoded_ds['test']\n",
    "trainer.evaluate()"
   ]
  },
  {
   "cell_type": "markdown",
   "id": "5ab72d49",
   "metadata": {},
   "source": [
    "#### Push Model to Hub"
   ]
  },
  {
   "cell_type": "code",
   "execution_count": 19,
   "id": "83c80523",
   "metadata": {},
   "outputs": [
    {
     "name": "stderr",
     "output_type": "stream",
     "text": [
      "Saving model checkpoint to distilbert-base-uncased-Regression-TMDB_5000_Movie_Dataset\n",
      "Configuration saved in distilbert-base-uncased-Regression-TMDB_5000_Movie_Dataset/config.json\n",
      "Model weights saved in distilbert-base-uncased-Regression-TMDB_5000_Movie_Dataset/pytorch_model.bin\n",
      "tokenizer config file saved in distilbert-base-uncased-Regression-TMDB_5000_Movie_Dataset/tokenizer_config.json\n",
      "Special tokens file saved in distilbert-base-uncased-Regression-TMDB_5000_Movie_Dataset/special_tokens_map.json\n"
     ]
    },
    {
     "data": {
      "application/vnd.jupyter.widget-view+json": {
       "model_id": "c62eacf51c5c4d7c8b20ead0a8bcf71b",
       "version_major": 2,
       "version_minor": 0
      },
      "text/plain": [
       "Upload file runs/Sep21_10-39-12_Brians-Mac-mini.local/events.out.tfevents.1663774756.Brians-Mac-mini.local.167…"
      ]
     },
     "metadata": {},
     "output_type": "display_data"
    },
    {
     "data": {
      "application/vnd.jupyter.widget-view+json": {
       "model_id": "1a739970d7344afab074855272a7673b",
       "version_major": 2,
       "version_minor": 0
      },
      "text/plain": [
       "Upload file runs/Sep21_10-39-12_Brians-Mac-mini.local/events.out.tfevents.1663850044.Brians-Mac-mini.local.167…"
      ]
     },
     "metadata": {},
     "output_type": "display_data"
    },
    {
     "name": "stderr",
     "output_type": "stream",
     "text": [
      "remote: Scanning LFS files for validity, may be slow...        \n",
      "remote: LFS file scan complete.        \n",
      "To https://huggingface.co/DunnBC22/distilbert-base-uncased-Regression-TMDB_5000_Movie_Dataset\n",
      "   e9d26a5..d166b78  main -> main\n",
      "\n",
      "Dropping the following result as it does not have all the necessary fields:\n",
      "{'task': {'name': 'Text Classification', 'type': 'text-classification'}, 'metrics': [{'name': 'Accuracy', 'type': 'accuracy', 'value': 0.17989417989417988}]}\n",
      "To https://huggingface.co/DunnBC22/distilbert-base-uncased-Regression-TMDB_5000_Movie_Dataset\n",
      "   d166b78..61f3ec3  main -> main\n",
      "\n"
     ]
    },
    {
     "data": {
      "text/plain": [
       "'https://huggingface.co/DunnBC22/distilbert-base-uncased-Regression-TMDB_5000_Movie_Dataset/commit/d166b786b79e28ec3fbcbc739968c304afa37cbe'"
      ]
     },
     "execution_count": 19,
     "metadata": {},
     "output_type": "execute_result"
    }
   ],
   "source": [
    "trainer.push_to_hub(commit_message=\"All Dunn!!!\")"
   ]
  }
 ],
 "metadata": {
  "kernelspec": {
   "display_name": "Python 3.9.12 ('nlp_ch4')",
   "language": "python",
   "name": "python3"
  },
  "language_info": {
   "codemirror_mode": {
    "name": "ipython",
    "version": 3
   },
   "file_extension": ".py",
   "mimetype": "text/x-python",
   "name": "python",
   "nbconvert_exporter": "python",
   "pygments_lexer": "ipython3",
   "version": "3.9.12"
  },
  "vscode": {
   "interpreter": {
    "hash": "a52fe47989fdc78fafbb981021cec52a6b82df6453830b9ffbd04250493e6cab"
   }
  }
 },
 "nbformat": 4,
 "nbformat_minor": 5
}
