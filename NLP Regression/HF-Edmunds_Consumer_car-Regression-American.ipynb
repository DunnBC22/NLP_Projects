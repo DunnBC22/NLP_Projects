{
 "cells": [
  {
   "attachments": {},
   "cell_type": "markdown",
   "metadata": {},
   "source": [
    "## Regression of Edmunds Consumer Car Dataset\n",
    "\n",
    "Dataset Source: https://www.kaggle.com/datasets/ankkur13/edmundsconsumer-car-ratings-and-reviews"
   ]
  },
  {
   "attachments": {},
   "cell_type": "markdown",
   "metadata": {},
   "source": [
    "#### Import Necessary Libraries"
   ]
  },
  {
   "cell_type": "code",
   "execution_count": 1,
   "metadata": {},
   "outputs": [
    {
     "name": "stderr",
     "output_type": "stream",
     "text": [
      "NOTE: Redirects are currently not supported in Windows or MacOs.\n"
     ]
    }
   ],
   "source": [
    "import sys, os, math, random, re, logging\n",
    "os.environ['TOKENIZERS_PARALLELISM']='false'\n",
    "\n",
    "import glob\n",
    "\n",
    "import numpy as np\n",
    "import pandas as pd\n",
    "\n",
    "import torch\n",
    "\n",
    "import matplotlib.pyplot as plt\n",
    "\n",
    "from sklearn.metrics import mean_squared_error, mean_absolute_error, mean_squared_error, r2_score\n",
    "\n",
    "from transformers import AutoTokenizer, Trainer, TrainingArguments, AutoModelForSequenceClassification, set_seed, get_scheduler\n",
    "\n",
    "from datasets import Dataset, DatasetDict"
   ]
  },
  {
   "attachments": {},
   "cell_type": "markdown",
   "metadata": {},
   "source": [
    "#### Display Versions of Relevant Libraries, Frameworks, Languages, etc. Used in This Project"
   ]
  },
  {
   "cell_type": "code",
   "execution_count": 2,
   "metadata": {},
   "outputs": [
    {
     "name": "stdout",
     "output_type": "stream",
     "text": [
      "   Python Version: 3.9.12\n",
      "    NumPy Version: 1.23.3\n",
      "   Pandas Version: 1.5.0\n",
      "    Torch Version: 1.12.1\n"
     ]
    }
   ],
   "source": [
    "print(\"Python Version:\".rjust(18), sys.version[0:6])\n",
    "print(\"NumPy Version:\".rjust(18), np.__version__)\n",
    "print(\"Pandas Version:\".rjust(18), pd.__version__)\n",
    "print(\"Torch Version:\".rjust(18), torch.__version__)"
   ]
  },
  {
   "attachments": {},
   "cell_type": "markdown",
   "metadata": {},
   "source": [
    "### Data Ingestion & Preprocessing"
   ]
  },
  {
   "attachments": {},
   "cell_type": "markdown",
   "metadata": {},
   "source": [
    "#### Data Ingestion"
   ]
  },
  {
   "cell_type": "code",
   "execution_count": 3,
   "metadata": {},
   "outputs": [
    {
     "name": "stdout",
     "output_type": "stream",
     "text": [
      "<class 'pandas.core.frame.DataFrame'>\n",
      "RangeIndex: 67816 entries, 0 to 67815\n",
      "Data columns (total 7 columns):\n",
      " #   Column         Non-Null Count  Dtype  \n",
      "---  ------         --------------  -----  \n",
      " 0   Unnamed: 0     67816 non-null  int64  \n",
      " 1   Review_Date    67816 non-null  object \n",
      " 2   Author_Name    67816 non-null  object \n",
      " 3   Vehicle_Title  67816 non-null  object \n",
      " 4   Review_Title   67810 non-null  object \n",
      " 5   Review         67816 non-null  object \n",
      "        67816 non-null  float64\n",
      "dtypes: float64(1), int64(1), object(5)\n",
      "memory usage: 3.6+ MB\n"
     ]
    }
   ],
   "source": [
    "manufacturers_to_keep = [\"Buick\", \"Chevrolet\", \"chrysler\", \"dodge\", \"ford\", \"GMC\", \"jeep\"]\n",
    "\n",
    "data_folder = \"/Users/briandunn/Documents/nlpnn/Datasets/Car_Reviews\"\n",
    "folder_concat = '/Users/briandunn/Documents/nlpnn/Datasets/Car_Reviews/Scraped_Car_Review_'\n",
    "files_to_keep = [\"Buick\", \"Chevrolet\", \"chrysler\", \"dodge\", \"ford\", \"GMC\", \"jeep\"]\n",
    "file_type=\".csv\"\n",
    "\n",
    "all_files = glob.glob(os.path.join(data_folder, \"*.csv\"))\n",
    "fileset = [x for x in all_files if x.split(\"Scraped_Car_Review_\")[-1].split(\".\")[0] in files_to_keep]\n",
    "\n",
    "df = pd.concat((pd.read_csv(f, on_bad_lines=\"skip\", lineterminator='\\n') for f in fileset), ignore_index=True)\n",
    "\n",
    "df.info()"
   ]
  },
  {
   "attachments": {},
   "cell_type": "markdown",
   "metadata": {},
   "source": [
    "#### Data Preprocessing (Part 1)"
   ]
  },
  {
   "cell_type": "code",
   "execution_count": 4,
   "metadata": {},
   "outputs": [
    {
     "data": {
      "text/html": [
       "<div>\n",
       "<style scoped>\n",
       "    .dataframe tbody tr th:only-of-type {\n",
       "        vertical-align: middle;\n",
       "    }\n",
       "\n",
       "    .dataframe tbody tr th {\n",
       "        vertical-align: top;\n",
       "    }\n",
       "\n",
       "    .dataframe thead th {\n",
       "        text-align: right;\n",
       "    }\n",
       "</style>\n",
       "<table border=\"1\" class=\"dataframe\">\n",
       "  <thead>\n",
       "    <tr style=\"text-align: right;\">\n",
       "      <th></th>\n",
       "      <th>Review_Title</th>\n",
       "      <th>Review</th>\n",
       "      <th>Rating\\r</th>\n",
       "      <th>text</th>\n",
       "    </tr>\n",
       "  </thead>\n",
       "  <tbody>\n",
       "    <tr>\n",
       "      <th>0</th>\n",
       "      <td>Silverado Success</td>\n",
       "      <td>My '06 Chevy Silverado 1500HD with 6.0 liter ...</td>\n",
       "      <td>4.125</td>\n",
       "      <td>Silverado Success :  My '06 Chevy Silverado 15...</td>\n",
       "    </tr>\n",
       "    <tr>\n",
       "      <th>1</th>\n",
       "      <td>2006 HD 2500</td>\n",
       "      <td>I have owned 5 Silverado's since 1999, would ...</td>\n",
       "      <td>4.875</td>\n",
       "      <td>2006 HD 2500 :  I have owned 5 Silverado's sin...</td>\n",
       "    </tr>\n",
       "    <tr>\n",
       "      <th>2</th>\n",
       "      <td>Love the truck but not the fuel mileage</td>\n",
       "      <td>I am a line driver for a local trucking compa...</td>\n",
       "      <td>4.625</td>\n",
       "      <td>Love the truck but not the fuel mileage :  I a...</td>\n",
       "    </tr>\n",
       "    <tr>\n",
       "      <th>3</th>\n",
       "      <td>Tow Vehicle</td>\n",
       "      <td>We purchased this thruck to pull a 33 ft Amer...</td>\n",
       "      <td>4.375</td>\n",
       "      <td>Tow Vehicle :  We purchased this thruck to pul...</td>\n",
       "    </tr>\n",
       "    <tr>\n",
       "      <th>4</th>\n",
       "      <td>1500HD Crew</td>\n",
       "      <td>This has been the best truck I've ever owned....</td>\n",
       "      <td>5.000</td>\n",
       "      <td>1500HD Crew :  This has been the best truck I'...</td>\n",
       "    </tr>\n",
       "    <tr>\n",
       "      <th>...</th>\n",
       "      <td>...</td>\n",
       "      <td>...</td>\n",
       "      <td>...</td>\n",
       "      <td>...</td>\n",
       "    </tr>\n",
       "    <tr>\n",
       "      <th>67811</th>\n",
       "      <td>High Cost of Ownership</td>\n",
       "      <td>By far the most costly vehicle I have \\rever ...</td>\n",
       "      <td>3.875</td>\n",
       "      <td>High Cost of Ownership :  By far the most cost...</td>\n",
       "    </tr>\n",
       "    <tr>\n",
       "      <th>67812</th>\n",
       "      <td>5 for 5</td>\n",
       "      <td>I'm on my 5th Suburban.  I love them \\rand I ...</td>\n",
       "      <td>5.000</td>\n",
       "      <td>5 for 5 :  I'm on my 5th Suburban.  I love the...</td>\n",
       "    </tr>\n",
       "    <tr>\n",
       "      <th>67813</th>\n",
       "      <td>Dependable</td>\n",
       "      <td>One of the best vechicles I ever \\rowned.  Ri...</td>\n",
       "      <td>5.000</td>\n",
       "      <td>Dependable :  One of the best vechicles I ever...</td>\n",
       "    </tr>\n",
       "    <tr>\n",
       "      <th>67814</th>\n",
       "      <td>WHAT A TRUCK</td>\n",
       "      <td>There are a few things to look for when \\rbuy...</td>\n",
       "      <td>4.750</td>\n",
       "      <td>WHAT A TRUCK :  There are a few things to look...</td>\n",
       "    </tr>\n",
       "    <tr>\n",
       "      <th>67815</th>\n",
       "      <td>Dependable Family Vehicle</td>\n",
       "      <td>This vehicle has proven itself; especially ...</td>\n",
       "      <td>4.625</td>\n",
       "      <td>Dependable Family Vehicle :    This vehicle ha...</td>\n",
       "    </tr>\n",
       "  </tbody>\n",
       "</table>\n",
       "<p>67810 rows × 4 columns</p>\n",
       "</div>"
      ],
      "text/plain": [
       "                                  Review_Title  \\\n",
       "0                            Silverado Success   \n",
       "1                                 2006 HD 2500   \n",
       "2      Love the truck but not the fuel mileage   \n",
       "3                                  Tow Vehicle   \n",
       "4                                  1500HD Crew   \n",
       "...                                        ...   \n",
       "67811                   High Cost of Ownership   \n",
       "67812                                  5 for 5   \n",
       "67813                               Dependable   \n",
       "67814                             WHAT A TRUCK   \n",
       "67815                Dependable Family Vehicle   \n",
       "\n",
       "                                                  Review  Rating\\r  \\\n",
       "0       My '06 Chevy Silverado 1500HD with 6.0 liter ...     4.125   \n",
       "1       I have owned 5 Silverado's since 1999, would ...     4.875   \n",
       "2       I am a line driver for a local trucking compa...     4.625   \n",
       "3       We purchased this thruck to pull a 33 ft Amer...     4.375   \n",
       "4       This has been the best truck I've ever owned....     5.000   \n",
       "...                                                  ...       ...   \n",
       "67811   By far the most costly vehicle I have \\rever ...     3.875   \n",
       "67812   I'm on my 5th Suburban.  I love them \\rand I ...     5.000   \n",
       "67813   One of the best vechicles I ever \\rowned.  Ri...     5.000   \n",
       "67814   There are a few things to look for when \\rbuy...     4.750   \n",
       "67815     This vehicle has proven itself; especially ...     4.625   \n",
       "\n",
       "                                                    text  \n",
       "0      Silverado Success :  My '06 Chevy Silverado 15...  \n",
       "1      2006 HD 2500 :  I have owned 5 Silverado's sin...  \n",
       "2      Love the truck but not the fuel mileage :  I a...  \n",
       "3      Tow Vehicle :  We purchased this thruck to pul...  \n",
       "4      1500HD Crew :  This has been the best truck I'...  \n",
       "...                                                  ...  \n",
       "67811  High Cost of Ownership :  By far the most cost...  \n",
       "67812  5 for 5 :  I'm on my 5th Suburban.  I love the...  \n",
       "67813  Dependable :  One of the best vechicles I ever...  \n",
       "67814  WHAT A TRUCK :  There are a few things to look...  \n",
       "67815  Dependable Family Vehicle :    This vehicle ha...  \n",
       "\n",
       "[67810 rows x 4 columns]"
      ]
     },
     "execution_count": 4,
     "metadata": {},
     "output_type": "execute_result"
    }
   ],
   "source": [
    "# drop duplicate reviews\n",
    "df.drop_duplicates(inplace=True)\n",
    "\n",
    "# Features to drop, if they still are included in the dataframe\n",
    "cols_to_check = [\"Vehicle_Title\", \"Unnamed: 0\", \"Review_Date\", \"Author_Name\", \"level_0\", \"index\"] \n",
    "cols_to_drop = []\n",
    "for x in cols_to_check:\n",
    "    if x in df.columns:\n",
    "        cols_to_drop.append(x)\n",
    "\n",
    "df.drop(columns=cols_to_drop, inplace=True)\n",
    "\n",
    "# concatenate the review title and text and rename it to 'text' (use ' : ' as the seperator)\n",
    "df[\"text\"] = df[\"Review_Title\"] + \" : \" + df[\"Review\"]\n",
    "\n",
    "'''\n",
    "Since there were only 13 missing values (all of them are review titles) \n",
    "out of 226,000+ samples in the original dataset, I am just going to drop\n",
    "those samples. It looks like only five of these missing values were \n",
    "from this section of the dataset.\n",
    "'''\n",
    "review_title_feature = \"Review_Title\"\n",
    "if review_title_feature in df.columns:\n",
    "    df.dropna(axis=0, subset=[review_title_feature], inplace=True)\n",
    "\n",
    "df"
   ]
  },
  {
   "attachments": {},
   "cell_type": "markdown",
   "metadata": {},
   "source": [
    "#### Data Preprocessing (Part 2)"
   ]
  },
  {
   "cell_type": "code",
   "execution_count": 5,
   "metadata": {},
   "outputs": [
    {
     "data": {
      "text/html": [
       "<div>\n",
       "<style scoped>\n",
       "    .dataframe tbody tr th:only-of-type {\n",
       "        vertical-align: middle;\n",
       "    }\n",
       "\n",
       "    .dataframe tbody tr th {\n",
       "        vertical-align: top;\n",
       "    }\n",
       "\n",
       "    .dataframe thead th {\n",
       "        text-align: right;\n",
       "    }\n",
       "</style>\n",
       "<table border=\"1\" class=\"dataframe\">\n",
       "  <thead>\n",
       "    <tr style=\"text-align: right;\">\n",
       "      <th></th>\n",
       "      <th>label</th>\n",
       "      <th>text</th>\n",
       "    </tr>\n",
       "  </thead>\n",
       "  <tbody>\n",
       "    <tr>\n",
       "      <th>0</th>\n",
       "      <td>4.125</td>\n",
       "      <td>Silverado Success :  My '06 Chevy Silverado 15...</td>\n",
       "    </tr>\n",
       "    <tr>\n",
       "      <th>1</th>\n",
       "      <td>4.875</td>\n",
       "      <td>2006 HD 2500 :  I have owned 5 Silverado's sin...</td>\n",
       "    </tr>\n",
       "    <tr>\n",
       "      <th>2</th>\n",
       "      <td>4.625</td>\n",
       "      <td>Love the truck but not the fuel mileage :  I a...</td>\n",
       "    </tr>\n",
       "    <tr>\n",
       "      <th>3</th>\n",
       "      <td>4.375</td>\n",
       "      <td>Tow Vehicle :  We purchased this thruck to pul...</td>\n",
       "    </tr>\n",
       "    <tr>\n",
       "      <th>4</th>\n",
       "      <td>5.000</td>\n",
       "      <td>1500HD Crew :  This has been the best truck I'...</td>\n",
       "    </tr>\n",
       "    <tr>\n",
       "      <th>...</th>\n",
       "      <td>...</td>\n",
       "      <td>...</td>\n",
       "    </tr>\n",
       "    <tr>\n",
       "      <th>67811</th>\n",
       "      <td>3.875</td>\n",
       "      <td>High Cost of Ownership :  By far the most cost...</td>\n",
       "    </tr>\n",
       "    <tr>\n",
       "      <th>67812</th>\n",
       "      <td>5.000</td>\n",
       "      <td>5 for 5 :  I'm on my 5th Suburban.  I love the...</td>\n",
       "    </tr>\n",
       "    <tr>\n",
       "      <th>67813</th>\n",
       "      <td>5.000</td>\n",
       "      <td>Dependable :  One of the best vechicles I ever...</td>\n",
       "    </tr>\n",
       "    <tr>\n",
       "      <th>67814</th>\n",
       "      <td>4.750</td>\n",
       "      <td>WHAT A TRUCK :  There are a few things to look...</td>\n",
       "    </tr>\n",
       "    <tr>\n",
       "      <th>67815</th>\n",
       "      <td>4.625</td>\n",
       "      <td>Dependable Family Vehicle :    This vehicle ha...</td>\n",
       "    </tr>\n",
       "  </tbody>\n",
       "</table>\n",
       "<p>67810 rows × 2 columns</p>\n",
       "</div>"
      ],
      "text/plain": [
       "       label                                               text\n",
       "0      4.125  Silverado Success :  My '06 Chevy Silverado 15...\n",
       "1      4.875  2006 HD 2500 :  I have owned 5 Silverado's sin...\n",
       "2      4.625  Love the truck but not the fuel mileage :  I a...\n",
       "3      4.375  Tow Vehicle :  We purchased this thruck to pul...\n",
       "4      5.000  1500HD Crew :  This has been the best truck I'...\n",
       "...      ...                                                ...\n",
       "67811  3.875  High Cost of Ownership :  By far the most cost...\n",
       "67812  5.000  5 for 5 :  I'm on my 5th Suburban.  I love the...\n",
       "67813  5.000  Dependable :  One of the best vechicles I ever...\n",
       "67814  4.750  WHAT A TRUCK :  There are a few things to look...\n",
       "67815  4.625  Dependable Family Vehicle :    This vehicle ha...\n",
       "\n",
       "[67810 rows x 2 columns]"
      ]
     },
     "execution_count": 5,
     "metadata": {},
     "output_type": "execute_result"
    }
   ],
   "source": [
    "ratings_col = \"Rating\\r\"\n",
    "if ratings_col in df.columns:\n",
    "    df[\"Rating\\r\"] = df[\"Rating\\r\"].astype(float)\n",
    "    df.rename(columns={\"Rating\\r\" : \"label\"}, inplace=True)\n",
    "\n",
    "\n",
    "# Drop Unused Features\n",
    "cols_to_check = [\"Review_Title\", \"Review\"] \n",
    "cols_to_drop = []\n",
    "\n",
    "\n",
    "for x in cols_to_check:\n",
    "    if np.any(x in df.columns):\n",
    "        if np.any(\"text\" in df.columns):\n",
    "            cols_to_drop.append(x)\n",
    "\n",
    "df.drop(columns=cols_to_drop, inplace=True)\n",
    "\n",
    "df"
   ]
  },
  {
   "attachments": {},
   "cell_type": "markdown",
   "metadata": {},
   "source": [
    "#### Visulatization: Distribution of"
   ]
  },
  {
   "cell_type": "code",
   "execution_count": 6,
   "metadata": {},
   "outputs": [
    {
     "data": {
      "image/png": "[encoded data removed]",
      "text/plain": [
       "<Figure size 1800x800 with 1 Axes>"
      ]
     },
     "metadata": {},
     "output_type": "display_data"
    }
   ],
   "source": [
    "df.hist(\"label\", color=\"Blue\", grid=False, bins=25, figsize=(18,8), range=(0,5))\n",
    "plt.suptitle('')\n",
    "plt.title('Car Ratings')\n",
    "plt.xlabel('Car Rating (0-5)')\n",
    "plt.ylabel('# of Ratings')\n",
    "plt.show()"
   ]
  },
  {
   "attachments": {},
   "cell_type": "markdown",
   "metadata": {},
   "source": [
    "#### Visualiation of Input Length"
   ]
  },
  {
   "cell_type": "code",
   "execution_count": 7,
   "metadata": {},
   "outputs": [
    {
     "data": {
      "image/png": "[encoded data removed]",
      "text/plain": [
       "<Figure size 1800x800 with 1 Axes>"
      ]
     },
     "metadata": {},
     "output_type": "display_data"
    }
   ],
   "source": [
    "df['Text Length'] = df['text'].str.split().apply(len)\n",
    "\n",
    "df.hist(\"Text Length\", color=\"Blue\", grid=False, bins=250, figsize=(18,8))\n",
    "plt.suptitle('')\n",
    "plt.xlabel('Text Length (in Words)')\n",
    "plt.ylabel('# of Samples')\n",
    "plt.show()"
   ]
  },
  {
   "attachments": {},
   "cell_type": "markdown",
   "metadata": {},
   "source": [
    "#### Drop Unnecessary Features & Trim Overly Lengthy Reviews"
   ]
  },
  {
   "cell_type": "code",
   "execution_count": 8,
   "metadata": {},
   "outputs": [
    {
     "name": "stdout",
     "output_type": "stream",
     "text": [
      "<class 'pandas.core.frame.DataFrame'>\n",
      "RangeIndex: 62116 entries, 0 to 62115\n",
      "Data columns (total 3 columns):\n",
      " #   Column  Non-Null Count  Dtype  \n",
      "---  ------  --------------  -----  \n",
      " 0   index   62116 non-null  int64  \n",
      " 1   label   62116 non-null  float64\n",
      " 2   text    62116 non-null  object \n",
      "dtypes: float64(1), int64(1), object(1)\n",
      "memory usage: 1.4+ MB\n"
     ]
    },
    {
     "name": "stderr",
     "output_type": "stream",
     "text": [
      "/var/folders/93/v_c2ph_17t97zdkzc4_ccjtw0000gn/T/ipykernel_24282/2309865579.py:3: SettingWithCopyWarning: \n",
      "A value is trying to be set on a copy of a slice from a DataFrame\n",
      "\n",
      "See the caveats in the documentation: https://pandas.pydata.org/pandas-docs/stable/user_guide/indexing.html#returning-a-view-versus-a-copy\n",
      "  df.drop(columns=[\"Text Length\"], inplace=True)\n"
     ]
    }
   ],
   "source": [
    "df = df[df[\"Text Length\"] < 146]\n",
    "\n",
    "df.drop(columns=[\"Text Length\"], inplace=True)\n",
    "\n",
    "df.reset_index(inplace=True)\n",
    "\n",
    "df.info()"
   ]
  },
  {
   "attachments": {},
   "cell_type": "markdown",
   "metadata": {},
   "source": [
    "### Actual Project"
   ]
  },
  {
   "attachments": {},
   "cell_type": "markdown",
   "metadata": {},
   "source": [
    "#### Convert Pandas DataFrame to Datasets"
   ]
  },
  {
   "cell_type": "code",
   "execution_count": 9,
   "metadata": {},
   "outputs": [],
   "source": [
    "dataset = Dataset.from_pandas(df)"
   ]
  },
  {
   "attachments": {},
   "cell_type": "markdown",
   "metadata": {},
   "source": [
    "#### Split Dataset into Training & Testing Dataset"
   ]
  },
  {
   "cell_type": "code",
   "execution_count": 10,
   "metadata": {},
   "outputs": [
    {
     "name": "stdout",
     "output_type": "stream",
     "text": [
      "Training data shape: (49692, 3)\n",
      "Testing data shape: (6212, 3)\n",
      "Eval data shape: (6212, 3)\n"
     ]
    }
   ],
   "source": [
    "train_testvalid = dataset.train_test_split(test_size=0.20)\n",
    "test_valid = train_testvalid['test'].train_test_split(test_size=0.50)\n",
    "\n",
    "ds = DatasetDict({\n",
    "    'train' : train_testvalid['train'],\n",
    "    'test' : test_valid['test'],\n",
    "    'eval' : test_valid['train']\n",
    "})\n",
    "\n",
    "print('Training data shape:', ds['train'].shape)\n",
    "print('Testing data shape:', ds['test'].shape)\n",
    "print('Eval data shape:', ds['eval'].shape)"
   ]
  },
  {
   "attachments": {},
   "cell_type": "markdown",
   "metadata": {},
   "source": [
    "##### Basic Values"
   ]
  },
  {
   "cell_type": "code",
   "execution_count": 11,
   "metadata": {},
   "outputs": [],
   "source": [
    "NUM_OF_EPOCHS = 3\n",
    "MAX_INPUT_LEN = int(round(145*1.3, 0))\n",
    "\n",
    "MODEL_CKPT = \"distilbert-base-uncased\"\n",
    "DEVICE = torch.device(\"cuda\" if torch.cuda.is_available() else \"cpu\")\n",
    "\n",
    "NUM_LABELS = 1\n",
    "BATCH_SIZE = 64\n",
    "\n",
    "MODEL_NAME = f\"{MODEL_CKPT}-Regression-Edmunds_Car_Reviews-American_Made\"\n",
    "LEARNING_RATE = 2e-5\n",
    "\n",
    "set_seed(42)"
   ]
  },
  {
   "attachments": {},
   "cell_type": "markdown",
   "metadata": {},
   "source": [
    "#### HuggingFace Access Token & Install git lfs"
   ]
  },
  {
   "cell_type": "code",
   "execution_count": 12,
   "metadata": {},
   "outputs": [
    {
     "name": "stdout",
     "output_type": "stream",
     "text": [
      "Git LFS initialized.\n"
     ]
    }
   ],
   "source": [
    "# HuggingFace Access Token ... \n",
    "\n",
    "!git lfs install"
   ]
  },
  {
   "attachments": {},
   "cell_type": "markdown",
   "metadata": {},
   "source": [
    "#### Tokenize Entire Dataset"
   ]
  },
  {
   "cell_type": "code",
   "execution_count": 13,
   "metadata": {},
   "outputs": [
    {
     "data": {
      "application/vnd.jupyter.widget-view+json": {
       "model_id": "7af87e6000da4009aaa8e5269230c773",
       "version_major": 2,
       "version_minor": 0
      },
      "text/plain": [
       "A Jupyter Widget"
      ]
     },
     "metadata": {},
     "output_type": "display_data"
    },
    {
     "data": {
      "application/vnd.jupyter.widget-view+json": {
       "model_id": "1ec8dd1aab8247debadb1e199a587109",
       "version_major": 2,
       "version_minor": 0
      },
      "text/plain": [
       "A Jupyter Widget"
      ]
     },
     "metadata": {},
     "output_type": "display_data"
    },
    {
     "data": {
      "application/vnd.jupyter.widget-view+json": {
       "model_id": "042e1db946e24f26a6a7e1ad03c22336",
       "version_major": 2,
       "version_minor": 0
      },
      "text/plain": [
       "A Jupyter Widget"
      ]
     },
     "metadata": {},
     "output_type": "display_data"
    }
   ],
   "source": [
    "tokenizer = AutoTokenizer.from_pretrained(MODEL_CKPT)\n",
    "\n",
    "def tokenize(batch):\n",
    "    return tokenizer(batch['text'], truncation=True, padding=True, max_length=MAX_INPUT_LEN, return_tensors=\"np\")\n",
    "\n",
    "encoded_ds = ds.map(tokenize, batched=True, batch_size=None)"
   ]
  },
  {
   "attachments": {},
   "cell_type": "markdown",
   "metadata": {},
   "source": [
    "#### Print Example to Ensure Edits Worked As Expected"
   ]
  },
  {
   "cell_type": "code",
   "execution_count": 14,
   "metadata": {},
   "outputs": [
    {
     "name": "stdout",
     "output_type": "stream",
     "text": [
      "{'index': Value(dtype='int64', id=None), 'label': Value(dtype='float64', id=None), 'text': Value(dtype='string', id=None), 'input_ids': Sequence(feature=Value(dtype='int32', id=None), length=-1, id=None), 'attention_mask': Sequence(feature=Value(dtype='int8', id=None), length=-1, id=None)}\n",
      "Dataset({\n",
      "    features: ['index', 'label', 'text', 'input_ids', 'attention_mask'],\n",
      "    num_rows: 49692\n",
      "})\n"
     ]
    }
   ],
   "source": [
    "print(encoded_ds['train'].features)\n",
    "print(encoded_ds['train'])"
   ]
  },
  {
   "attachments": {},
   "cell_type": "markdown",
   "metadata": {},
   "source": [
    "#### Initialize Model"
   ]
  },
  {
   "cell_type": "code",
   "execution_count": 15,
   "metadata": {},
   "outputs": [
    {
     "name": "stderr",
     "output_type": "stream",
     "text": [
      "Some weights of the model checkpoint at distilbert-base-uncased were not used when initializing DistilBertForSequenceClassification: ['vocab_projector.bias', 'vocab_layer_norm.bias', 'vocab_layer_norm.weight', 'vocab_transform.weight', 'vocab_projector.weight', 'vocab_transform.bias']\n",
      "- This IS expected if you are initializing DistilBertForSequenceClassification from the checkpoint of a model trained on another task or with another architecture (e.g. initializing a BertForSequenceClassification model from a BertForPreTraining model).\n",
      "- This IS NOT expected if you are initializing DistilBertForSequenceClassification from the checkpoint of a model that you expect to be exactly identical (initializing a BertForSequenceClassification model from a BertForSequenceClassification model).\n",
      "Some weights of DistilBertForSequenceClassification were not initialized from the model checkpoint at distilbert-base-uncased and are newly initialized: ['classifier.weight', 'pre_classifier.weight', 'pre_classifier.bias', 'classifier.bias']\n",
      "You should probably TRAIN this model on a down-stream task to be able to use it for predictions and inference.\n"
     ]
    }
   ],
   "source": [
    "model = (AutoModelForSequenceClassification.from_pretrained(MODEL_CKPT, num_labels=NUM_LABELS)).to(DEVICE)"
   ]
  },
  {
   "attachments": {},
   "cell_type": "markdown",
   "metadata": {},
   "source": [
    "#### Metrics Evaluation Function"
   ]
  },
  {
   "cell_type": "code",
   "execution_count": 16,
   "metadata": {},
   "outputs": [],
   "source": [
    "def compute_metrics_for_regression(eval_pred):\n",
    "    logits, labels = eval_pred\n",
    "    labels = labels.reshape(-1, 1)\n",
    "\n",
    "    mse = mean_squared_error(labels, logits)\n",
    "    rmse = mean_squared_error(labels, logits, squared=False)\n",
    "    mae = mean_absolute_error(labels, logits)\n",
    "        \n",
    "    return {\"mae\": mae, \"mse\": mse, \"rmse\": rmse}"
   ]
  },
  {
   "attachments": {},
   "cell_type": "markdown",
   "metadata": {},
   "source": [
    "#### Trainer Arguments"
   ]
  },
  {
   "cell_type": "code",
   "execution_count": 17,
   "metadata": {},
   "outputs": [],
   "source": [
    "training_args = TrainingArguments(output_dir=MODEL_NAME, \n",
    "                                  num_train_epochs=NUM_OF_EPOCHS, \n",
    "                                  per_device_train_batch_size=BATCH_SIZE, \n",
    "                                  per_device_eval_batch_size=BATCH_SIZE, \n",
    "                                  weight_decay=0.01,\n",
    "                                  learning_rate=LEARNING_RATE,\n",
    "                                  no_cuda=True,\n",
    "                                  evaluation_strategy='epoch',\n",
    "                                  save_total_limit=10,\n",
    "                                  logging_strategy='epoch',\n",
    "                                  load_best_model_at_end=True,\n",
    "                                  metric_for_best_model='mae',\n",
    "                                  greater_is_better=False,\n",
    "                                  save_strategy='epoch',\n",
    "                                  push_to_hub=True)"
   ]
  },
  {
   "attachments": {},
   "cell_type": "markdown",
   "metadata": {},
   "source": [
    "####  Build Trainer"
   ]
  },
  {
   "cell_type": "code",
   "execution_count": 18,
   "metadata": {},
   "outputs": [
    {
     "name": "stderr",
     "output_type": "stream",
     "text": [
      "/Users/briandunn/Documents/nlpnn/nlp_ml/lib/python3.9/site-packages/huggingface_hub/repository.py:705: FutureWarning: Creating a repository through 'clone_from' is deprecated and will be removed in v0.11.\n",
      "  warnings.warn(\n",
      "Cloning https://huggingface.co/DunnBC22/distilbert-base-uncased-Regression-Edmunds_Car_Reviews-American_Made into local empty directory.\n"
     ]
    }
   ],
   "source": [
    "trainer = Trainer(model=model, \n",
    "                  args=training_args, \n",
    "                  train_dataset=encoded_ds['train'], \n",
    "                  eval_dataset=encoded_ds['eval'],\n",
    "                  tokenizer=tokenizer,\n",
    "                  compute_metrics=compute_metrics_for_regression)"
   ]
  },
  {
   "attachments": {},
   "cell_type": "markdown",
   "metadata": {},
   "source": [
    "#### Train Trainer"
   ]
  },
  {
   "cell_type": "code",
   "execution_count": 19,
   "metadata": {},
   "outputs": [
    {
     "name": "stderr",
     "output_type": "stream",
     "text": [
      "The following columns in the training set don't have a corresponding argument in `DistilBertForSequenceClassification.forward` and have been ignored: index, text. If index, text are not expected by `DistilBertForSequenceClassification.forward`,  you can safely ignore this message.\n",
      "/Users/briandunn/Documents/nlpnn/nlp_ml/lib/python3.9/site-packages/transformers/optimization.py:306: FutureWarning: This implementation of AdamW is deprecated and will be removed in a future version. Use the PyTorch implementation torch.optim.AdamW instead, or set `no_deprecation_warning=True` to disable this warning\n",
      "  warnings.warn(\n",
      "***** Running training *****\n",
      "  Num examples = 49692\n",
      "  Num Epochs = 3\n",
      "  Instantaneous batch size per device = 64\n",
      "  Total train batch size (w. parallel, distributed & accumulation) = 64\n",
      "  Gradient Accumulation steps = 1\n",
      "  Total optimization steps = 2331\n"
     ]
    },
    {
     "data": {
      "application/vnd.jupyter.widget-view+json": {
       "model_id": "93e6172d99f6499f94d28665779f8830",
       "version_major": 2,
       "version_minor": 0
      },
      "text/plain": [
       "A Jupyter Widget"
      ]
     },
     "metadata": {},
     "output_type": "display_data"
    },
    {
     "name": "stderr",
     "output_type": "stream",
     "text": [
      "You're using a DistilBertTokenizerFast tokenizer. Please note that with a fast tokenizer, using the `__call__` method is faster than using a method to encode the text followed by a call to the `pad` method to get a padded encoding.\n",
      "The following columns in the evaluation set don't have a corresponding argument in `DistilBertForSequenceClassification.forward` and have been ignored: index, text. If index, text are not expected by `DistilBertForSequenceClassification.forward`,  you can safely ignore this message.\n",
      "***** Running Evaluation *****\n",
      "  Num examples = 6212\n",
      "  Batch size = 64\n"
     ]
    },
    {
     "name": "stdout",
     "output_type": "stream",
     "text": [
      "{'loss': 0.6385, 'learning_rate': 1.3333333333333333e-05, 'epoch': 1.0}\n"
     ]
    },
    {
     "data": {
      "application/vnd.jupyter.widget-view+json": {
       "model_id": "8e049f475f7044149c84f56af5f6d221",
       "version_major": 2,
       "version_minor": 0
      },
      "text/plain": [
       "A Jupyter Widget"
      ]
     },
     "metadata": {},
     "output_type": "display_data"
    },
    {
     "name": "stderr",
     "output_type": "stream",
     "text": [
      "Saving model checkpoint to distilbert-base-uncased-Regression-Edmunds_Car_Reviews-American_Made/checkpoint-777\n",
      "Configuration saved in distilbert-base-uncased-Regression-Edmunds_Car_Reviews-American_Made/checkpoint-777/config.json\n",
      "Model weights saved in distilbert-base-uncased-Regression-Edmunds_Car_Reviews-American_Made/checkpoint-777/pytorch_model.bin\n",
      "tokenizer config file saved in distilbert-base-uncased-Regression-Edmunds_Car_Reviews-American_Made/checkpoint-777/tokenizer_config.json\n",
      "Special tokens file saved in distilbert-base-uncased-Regression-Edmunds_Car_Reviews-American_Made/checkpoint-777/special_tokens_map.json\n"
     ]
    },
    {
     "name": "stdout",
     "output_type": "stream",
     "text": [
      "{'eval_loss': 0.27426889538764954, 'eval_mae': 0.3632640838623047, 'eval_mse': 0.27426889538764954, 'eval_rmse': 0.52370685338974, 'eval_runtime': 2556.7497, 'eval_samples_per_second': 2.43, 'eval_steps_per_second': 0.038, 'epoch': 1.0}\n"
     ]
    },
    {
     "name": "stderr",
     "output_type": "stream",
     "text": [
      "tokenizer config file saved in distilbert-base-uncased-Regression-Edmunds_Car_Reviews-American_Made/tokenizer_config.json\n",
      "Special tokens file saved in distilbert-base-uncased-Regression-Edmunds_Car_Reviews-American_Made/special_tokens_map.json\n",
      "The following columns in the evaluation set don't have a corresponding argument in `DistilBertForSequenceClassification.forward` and have been ignored: index, text. If index, text are not expected by `DistilBertForSequenceClassification.forward`,  you can safely ignore this message.\n",
      "***** Running Evaluation *****\n",
      "  Num examples = 6212\n",
      "  Batch size = 64\n"
     ]
    },
    {
     "name": "stdout",
     "output_type": "stream",
     "text": [
      "{'loss': 0.2551, 'learning_rate': 6.666666666666667e-06, 'epoch': 2.0}\n"
     ]
    },
    {
     "data": {
      "application/vnd.jupyter.widget-view+json": {
       "model_id": "25f372bd74a74314904531d9928fb026",
       "version_major": 2,
       "version_minor": 0
      },
      "text/plain": [
       "A Jupyter Widget"
      ]
     },
     "metadata": {},
     "output_type": "display_data"
    },
    {
     "name": "stderr",
     "output_type": "stream",
     "text": [
      "Saving model checkpoint to distilbert-base-uncased-Regression-Edmunds_Car_Reviews-American_Made/checkpoint-1554\n",
      "Configuration saved in distilbert-base-uncased-Regression-Edmunds_Car_Reviews-American_Made/checkpoint-1554/config.json\n",
      "Model weights saved in distilbert-base-uncased-Regression-Edmunds_Car_Reviews-American_Made/checkpoint-1554/pytorch_model.bin\n",
      "tokenizer config file saved in distilbert-base-uncased-Regression-Edmunds_Car_Reviews-American_Made/checkpoint-1554/tokenizer_config.json\n",
      "Special tokens file saved in distilbert-base-uncased-Regression-Edmunds_Car_Reviews-American_Made/checkpoint-1554/special_tokens_map.json\n"
     ]
    },
    {
     "name": "stdout",
     "output_type": "stream",
     "text": [
      "{'eval_loss': 0.258842796087265, 'eval_mae': 0.35361719131469727, 'eval_mse': 0.258842796087265, 'eval_rmse': 0.5087659358978271, 'eval_runtime': 2561.4417, 'eval_samples_per_second': 2.425, 'eval_steps_per_second': 0.038, 'epoch': 2.0}\n"
     ]
    },
    {
     "name": "stderr",
     "output_type": "stream",
     "text": [
      "tokenizer config file saved in distilbert-base-uncased-Regression-Edmunds_Car_Reviews-American_Made/tokenizer_config.json\n",
      "Special tokens file saved in distilbert-base-uncased-Regression-Edmunds_Car_Reviews-American_Made/special_tokens_map.json\n",
      "The following columns in the evaluation set don't have a corresponding argument in `DistilBertForSequenceClassification.forward` and have been ignored: index, text. If index, text are not expected by `DistilBertForSequenceClassification.forward`,  you can safely ignore this message.\n",
      "***** Running Evaluation *****\n",
      "  Num examples = 6212\n",
      "  Batch size = 64\n"
     ]
    },
    {
     "name": "stdout",
     "output_type": "stream",
     "text": [
      "{'loss': 0.2161, 'learning_rate': 0.0, 'epoch': 3.0}\n"
     ]
    },
    {
     "data": {
      "application/vnd.jupyter.widget-view+json": {
       "model_id": "1485cb6b29b34090997d2f7c5fe96682",
       "version_major": 2,
       "version_minor": 0
      },
      "text/plain": [
       "A Jupyter Widget"
      ]
     },
     "metadata": {},
     "output_type": "display_data"
    },
    {
     "name": "stderr",
     "output_type": "stream",
     "text": [
      "Saving model checkpoint to distilbert-base-uncased-Regression-Edmunds_Car_Reviews-American_Made/checkpoint-2331\n",
      "Configuration saved in distilbert-base-uncased-Regression-Edmunds_Car_Reviews-American_Made/checkpoint-2331/config.json\n",
      "Model weights saved in distilbert-base-uncased-Regression-Edmunds_Car_Reviews-American_Made/checkpoint-2331/pytorch_model.bin\n",
      "tokenizer config file saved in distilbert-base-uncased-Regression-Edmunds_Car_Reviews-American_Made/checkpoint-2331/tokenizer_config.json\n",
      "Special tokens file saved in distilbert-base-uncased-Regression-Edmunds_Car_Reviews-American_Made/checkpoint-2331/special_tokens_map.json\n"
     ]
    },
    {
     "name": "stdout",
     "output_type": "stream",
     "text": [
      "{'eval_loss': 0.2568396031856537, 'eval_mae': 0.3508163094520569, 'eval_mse': 0.2568396031856537, 'eval_rmse': 0.5067934393882751, 'eval_runtime': 2592.1727, 'eval_samples_per_second': 2.396, 'eval_steps_per_second': 0.038, 'epoch': 3.0}\n"
     ]
    },
    {
     "name": "stderr",
     "output_type": "stream",
     "text": [
      "tokenizer config file saved in distilbert-base-uncased-Regression-Edmunds_Car_Reviews-American_Made/tokenizer_config.json\n",
      "Special tokens file saved in distilbert-base-uncased-Regression-Edmunds_Car_Reviews-American_Made/special_tokens_map.json\n",
      "\n",
      "\n",
      "Training completed. Do not forget to share your model on huggingface.co/models =)\n",
      "\n",
      "\n",
      "Loading best model from distilbert-base-uncased-Regression-Edmunds_Car_Reviews-American_Made/checkpoint-2331 (score: 0.3508163094520569).\n"
     ]
    },
    {
     "name": "stdout",
     "output_type": "stream",
     "text": [
      "{'train_runtime': 192500.2453, 'train_samples_per_second': 0.774, 'train_steps_per_second': 0.012, 'train_loss': 0.3699031847835559, 'epoch': 3.0}\n"
     ]
    },
    {
     "data": {
      "text/plain": [
       "TrainOutput(global_step=2331, training_loss=0.3699031847835559, metrics={'train_runtime': 192500.2453, 'train_samples_per_second': 0.774, 'train_steps_per_second': 0.012, 'train_loss': 0.3699031847835559, 'epoch': 3.0})"
      ]
     },
     "execution_count": 19,
     "metadata": {},
     "output_type": "execute_result"
    }
   ],
   "source": [
    "trainer.train()"
   ]
  },
  {
   "attachments": {},
   "cell_type": "markdown",
   "metadata": {},
   "source": [
    "### Evaluate Model"
   ]
  },
  {
   "attachments": {},
   "cell_type": "markdown",
   "metadata": {},
   "source": [
    "#### Generate Predictions"
   ]
  },
  {
   "cell_type": "code",
   "execution_count": 20,
   "metadata": {},
   "outputs": [
    {
     "name": "stderr",
     "output_type": "stream",
     "text": [
      "The following columns in the evaluation set don't have a corresponding argument in `DistilBertForSequenceClassification.forward` and have been ignored: index, text. If index, text are not expected by `DistilBertForSequenceClassification.forward`,  you can safely ignore this message.\n",
      "***** Running Evaluation *****\n",
      "  Num examples = 6212\n",
      "  Batch size = 64\n"
     ]
    },
    {
     "data": {
      "application/vnd.jupyter.widget-view+json": {
       "model_id": "8901531c0ae945f1b00ac67d3ccdaccf",
       "version_major": 2,
       "version_minor": 0
      },
      "text/plain": [
       "A Jupyter Widget"
      ]
     },
     "metadata": {},
     "output_type": "display_data"
    },
    {
     "data": {
      "text/plain": [
       "{'eval_loss': 0.24857571721076965,\n",
       " 'eval_mae': 0.3469300866127014,\n",
       " 'eval_mse': 0.24857571721076965,\n",
       " 'eval_rmse': 0.4985736906528473,\n",
       " 'eval_runtime': 2585.0899,\n",
       " 'eval_samples_per_second': 2.403,\n",
       " 'eval_steps_per_second': 0.038,\n",
       " 'epoch': 3.0}"
      ]
     },
     "execution_count": 20,
     "metadata": {},
     "output_type": "execute_result"
    }
   ],
   "source": [
    "trainer.eval_dataset = encoded_ds['test']\n",
    "trainer.evaluate()"
   ]
  },
  {
   "attachments": {},
   "cell_type": "markdown",
   "metadata": {},
   "source": [
    "#### Push Model to Hub"
   ]
  },
  {
   "cell_type": "code",
   "execution_count": 21,
   "metadata": {},
   "outputs": [
    {
     "name": "stderr",
     "output_type": "stream",
     "text": [
      "Saving model checkpoint to distilbert-base-uncased-Regression-Edmunds_Car_Reviews-American_Made\n",
      "Configuration saved in distilbert-base-uncased-Regression-Edmunds_Car_Reviews-American_Made/config.json\n",
      "Model weights saved in distilbert-base-uncased-Regression-Edmunds_Car_Reviews-American_Made/pytorch_model.bin\n",
      "tokenizer config file saved in distilbert-base-uncased-Regression-Edmunds_Car_Reviews-American_Made/tokenizer_config.json\n",
      "Special tokens file saved in distilbert-base-uncased-Regression-Edmunds_Car_Reviews-American_Made/special_tokens_map.json\n",
      "Dropping the following result as it does not have all the necessary fields:\n",
      "{'task': {'name': 'Text Classification', 'type': 'text-classification'}}\n",
      "To https://huggingface.co/DunnBC22/distilbert-base-uncased-Regression-Edmunds_Car_Reviews-American_Made\n",
      "   356c506..bd4e410  main -> main\n",
      "\n"
     ]
    }
   ],
   "source": [
    "trainer.push_to_hub(commit_message=\"All Dunn!!!\")"
   ]
  },
  {
   "attachments": {},
   "cell_type": "markdown",
   "metadata": {},
   "source": [
    "### Notes & Other Takeaways From This Project\n",
    "****\n",
    "- I was able to use the insight that I gleaned from the European Automobile version of this regression analysis to lower the necessary number of epochs from 5 to 3.\n",
    "****\n",
    "- The results are disappointing. I was hoping for it to be less than a fifth of a point in Mean Absolute Error (MAE). Instead it was about seventy-five percent (75%) higher, with an MAE of about 0.35.\n",
    "****"
   ]
  }
 ],
 "metadata": {
  "kernelspec": {
   "display_name": "nlp_ml",
   "language": "python",
   "name": "python3"
  },
  "language_info": {
   "codemirror_mode": {
    "name": "ipython",
    "version": 3
   },
   "file_extension": ".py",
   "mimetype": "text/x-python",
   "name": "python",
   "nbconvert_exporter": "python",
   "pygments_lexer": "ipython3",
   "version": "3.9.12 (main, Apr  5 2022, 01:53:17) \n[Clang 12.0.0 ]"
  },
  "orig_nbformat": 4,
  "vscode": {
   "interpreter": {
    "hash": "0b7a754c5aaaa44a21e2f2148f50b931a5abdffe7ef71537f5954179554f39df"
   }
  }
 },
 "nbformat": 4,
 "nbformat_minor": 2
}
