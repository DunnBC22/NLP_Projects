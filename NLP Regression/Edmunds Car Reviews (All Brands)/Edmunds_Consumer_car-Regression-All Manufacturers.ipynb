{
 "cells": [
  {
   "attachments": {},
   "cell_type": "markdown",
   "metadata": {},
   "source": [
    "## Regression of Edmunds Consumer Car Dataset\n",
    "\n",
    "Dataset Source: https://www.kaggle.com/datasets/ankkur13/edmundsconsumer-car-ratings-and-reviews"
   ]
  },
  {
   "attachments": {},
   "cell_type": "markdown",
   "metadata": {},
   "source": [
    "#### Import Necessary Libraries"
   ]
  },
  {
   "cell_type": "code",
   "execution_count": 1,
   "metadata": {},
   "outputs": [],
   "source": [
    "import sys, os, math, random, re, logging\n",
    "os.environ['TOKENIZERS_PARALLELISM']='false'\n",
    "\n",
    "import glob\n",
    "\n",
    "import numpy as np\n",
    "import pandas as pd\n",
    "\n",
    "import torch\n",
    "\n",
    "import matplotlib.pyplot as plt\n",
    "\n",
    "from sklearn.metrics import mean_squared_error, mean_absolute_error, mean_squared_error, r2_score\n",
    "\n",
    "from transformers import AutoTokenizer, Trainer, TrainingArguments, AutoModelForSequenceClassification, set_seed, get_scheduler\n",
    "\n",
    "from datasets import Dataset, DatasetDict"
   ]
  },
  {
   "attachments": {},
   "cell_type": "markdown",
   "metadata": {},
   "source": [
    "#### Display Versions of Relevant Libraries, Frameworks, Languages, etc. Used in This Project"
   ]
  },
  {
   "cell_type": "code",
   "execution_count": 2,
   "metadata": {},
   "outputs": [
    {
     "name": "stdout",
     "output_type": "stream",
     "text": [
      "   Python Version: 3.9.7 \n",
      "    NumPy Version: 1.23.3\n",
      "   Pandas Version: 1.4.4\n",
      "    Torch Version: 1.12.1\n"
     ]
    }
   ],
   "source": [
    "print(\"Python Version:\".rjust(18), sys.version[0:6])\n",
    "print(\"NumPy Version:\".rjust(18), np.__version__)\n",
    "print(\"Pandas Version:\".rjust(18), pd.__version__)\n",
    "print(\"Torch Version:\".rjust(18), torch.__version__)"
   ]
  },
  {
   "attachments": {},
   "cell_type": "markdown",
   "metadata": {},
   "source": [
    "### Data Ingestion & Preprocessing"
   ]
  },
  {
   "attachments": {},
   "cell_type": "markdown",
   "metadata": {},
   "source": [
    "#### Data Ingestion"
   ]
  },
  {
   "cell_type": "code",
   "execution_count": 3,
   "metadata": {},
   "outputs": [
    {
     "name": "stdout",
     "output_type": "stream",
     "text": [
      "<class 'pandas.core.frame.DataFrame'>\n",
      "RangeIndex: 226931 entries, 0 to 226930\n",
      "Data columns (total 7 columns):\n",
      " #   Column         Non-Null Count   Dtype  \n",
      "---  ------         --------------   -----  \n",
      " 0   Unnamed: 0     226931 non-null  int64  \n",
      " 1   Review_Date    226931 non-null  object \n",
      " 2   Author_Name    226930 non-null  object \n",
      " 3   Vehicle_Title  226931 non-null  object \n",
      " 4   Review_Title   226918 non-null  object \n",
      " 5   Review         226931 non-null  object \n",
      "        226931 non-null  float64\n",
      "dtypes: float64(1), int64(1), object(5)\n",
      "memory usage: 12.1+ MB\n"
     ]
    }
   ],
   "source": [
    "data_folder = \"/Users/leedunn/Desktop/Projects to Train/Edmunds Car Reviews/Car Brand Reviews\"\n",
    "\n",
    "all_files = glob.glob(os.path.join(data_folder, \"*.csv\"))\n",
    "\n",
    "folder = '/Users/leedunn/Desktop/Projects to Train/Edmunds Car Reviews/Car Brand Reviews/Scraped_Car_Review_'\n",
    "\n",
    "file_type=\".csv\"\n",
    "\n",
    "fileset = [x for x in all_files]\n",
    "\n",
    "df = pd.concat((pd.read_csv(f, on_bad_lines=\"skip\", lineterminator='\\n') for f in fileset), ignore_index=True)\n",
    "\n",
    "df.info()"
   ]
  },
  {
   "attachments": {},
   "cell_type": "markdown",
   "metadata": {},
   "source": [
    "#### Data Preprocessing (Part 1)"
   ]
  },
  {
   "cell_type": "code",
   "execution_count": 4,
   "metadata": {},
   "outputs": [
    {
     "data": {
      "text/html": [
       "<div>\n",
       "<style scoped>\n",
       "    .dataframe tbody tr th:only-of-type {\n",
       "        vertical-align: middle;\n",
       "    }\n",
       "\n",
       "    .dataframe tbody tr th {\n",
       "        vertical-align: top;\n",
       "    }\n",
       "\n",
       "    .dataframe thead th {\n",
       "        text-align: right;\n",
       "    }\n",
       "</style>\n",
       "<table border=\"1\" class=\"dataframe\">\n",
       "  <thead>\n",
       "    <tr style=\"text-align: right;\">\n",
       "      <th></th>\n",
       "      <th>Review_Title</th>\n",
       "      <th>Review</th>\n",
       "      <th>Rating\\r</th>\n",
       "      <th>text</th>\n",
       "    </tr>\n",
       "  </thead>\n",
       "  <tbody>\n",
       "    <tr>\n",
       "      <th>0</th>\n",
       "      <td>Great Car</td>\n",
       "      <td>I bought this car for my son and he loves it!...</td>\n",
       "      <td>5.000</td>\n",
       "      <td>Great Car :  I bought this car for my son and ...</td>\n",
       "    </tr>\n",
       "    <tr>\n",
       "      <th>1</th>\n",
       "      <td>Lamborghini Murcielago Review</td>\n",
       "      <td>I love my Lamborghini Murcielago. It is a thr...</td>\n",
       "      <td>5.000</td>\n",
       "      <td>Lamborghini Murcielago Review :  I love my Lam...</td>\n",
       "    </tr>\n",
       "    <tr>\n",
       "      <th>2</th>\n",
       "      <td>The sweetest car ever</td>\n",
       "      <td>This car is the greatest ever!  I love drivin...</td>\n",
       "      <td>5.000</td>\n",
       "      <td>The sweetest car ever :  This car is the great...</td>\n",
       "    </tr>\n",
       "    <tr>\n",
       "      <th>3</th>\n",
       "      <td>The #1 Lamborghini</td>\n",
       "      <td>I have owned both the Gallardo and the Murcie...</td>\n",
       "      <td>5.000</td>\n",
       "      <td>The #1 Lamborghini :  I have owned both the Ga...</td>\n",
       "    </tr>\n",
       "    <tr>\n",
       "      <th>4</th>\n",
       "      <td>Lamboreport</td>\n",
       "      <td>This is one of the best cars ever built. It h...</td>\n",
       "      <td>5.000</td>\n",
       "      <td>Lamboreport :  This is one of the best cars ev...</td>\n",
       "    </tr>\n",
       "    <tr>\n",
       "      <th>...</th>\n",
       "      <td>...</td>\n",
       "      <td>...</td>\n",
       "      <td>...</td>\n",
       "      <td>...</td>\n",
       "    </tr>\n",
       "    <tr>\n",
       "      <th>226926</th>\n",
       "      <td>A Perfect Sports Car!</td>\n",
       "      <td>I waited 686 days from the date I placed my d...</td>\n",
       "      <td>4.750</td>\n",
       "      <td>A Perfect Sports Car! :  I waited 686 days fro...</td>\n",
       "    </tr>\n",
       "    <tr>\n",
       "      <th>226927</th>\n",
       "      <td>AM Vantage V8 is a winner</td>\n",
       "      <td>I have one of the first US Vantage V8s and it...</td>\n",
       "      <td>4.875</td>\n",
       "      <td>AM Vantage V8 is a winner :  I have one of the...</td>\n",
       "    </tr>\n",
       "    <tr>\n",
       "      <th>226928</th>\n",
       "      <td>Finally...</td>\n",
       "      <td>An amazing car! Drove Porsches for the past 7...</td>\n",
       "      <td>4.750</td>\n",
       "      <td>Finally... :  An amazing car! Drove Porsches f...</td>\n",
       "    </tr>\n",
       "    <tr>\n",
       "      <th>226929</th>\n",
       "      <td>N420 A Driver's Car</td>\n",
       "      <td>Recently took delivery of 2011 N420 roadster ...</td>\n",
       "      <td>4.875</td>\n",
       "      <td>N420 A Driver's Car :  Recently took delivery ...</td>\n",
       "    </tr>\n",
       "    <tr>\n",
       "      <th>226930</th>\n",
       "      <td>just got a 2011 vantage!</td>\n",
       "      <td>i just bought this car and love it.it puts a ...</td>\n",
       "      <td>4.875</td>\n",
       "      <td>just got a 2011 vantage! :  i just bought this...</td>\n",
       "    </tr>\n",
       "  </tbody>\n",
       "</table>\n",
       "<p>226918 rows × 4 columns</p>\n",
       "</div>"
      ],
      "text/plain": [
       "                         Review_Title  \\\n",
       "0                           Great Car   \n",
       "1       Lamborghini Murcielago Review   \n",
       "2               The sweetest car ever   \n",
       "3                  The #1 Lamborghini   \n",
       "4                         Lamboreport   \n",
       "...                               ...   \n",
       "226926          A Perfect Sports Car!   \n",
       "226927      AM Vantage V8 is a winner   \n",
       "226928                     Finally...   \n",
       "226929            N420 A Driver's Car   \n",
       "226930       just got a 2011 vantage!   \n",
       "\n",
       "                                                   Review  Rating\\r  \\\n",
       "0        I bought this car for my son and he loves it!...     5.000   \n",
       "1        I love my Lamborghini Murcielago. It is a thr...     5.000   \n",
       "2        This car is the greatest ever!  I love drivin...     5.000   \n",
       "3        I have owned both the Gallardo and the Murcie...     5.000   \n",
       "4        This is one of the best cars ever built. It h...     5.000   \n",
       "...                                                   ...       ...   \n",
       "226926   I waited 686 days from the date I placed my d...     4.750   \n",
       "226927   I have one of the first US Vantage V8s and it...     4.875   \n",
       "226928   An amazing car! Drove Porsches for the past 7...     4.750   \n",
       "226929   Recently took delivery of 2011 N420 roadster ...     4.875   \n",
       "226930   i just bought this car and love it.it puts a ...     4.875   \n",
       "\n",
       "                                                     text  \n",
       "0       Great Car :  I bought this car for my son and ...  \n",
       "1       Lamborghini Murcielago Review :  I love my Lam...  \n",
       "2       The sweetest car ever :  This car is the great...  \n",
       "3       The #1 Lamborghini :  I have owned both the Ga...  \n",
       "4       Lamboreport :  This is one of the best cars ev...  \n",
       "...                                                   ...  \n",
       "226926  A Perfect Sports Car! :  I waited 686 days fro...  \n",
       "226927  AM Vantage V8 is a winner :  I have one of the...  \n",
       "226928  Finally... :  An amazing car! Drove Porsches f...  \n",
       "226929  N420 A Driver's Car :  Recently took delivery ...  \n",
       "226930  just got a 2011 vantage! :  i just bought this...  \n",
       "\n",
       "[226918 rows x 4 columns]"
      ]
     },
     "execution_count": 4,
     "metadata": {},
     "output_type": "execute_result"
    }
   ],
   "source": [
    "# drop duplicate reviews\n",
    "df.drop_duplicates(inplace=True)\n",
    "\n",
    "\n",
    "# Features to drop, if they still are included in the dataframe\n",
    "cols_to_check = [\"Vehicle_Title\", \"Unnamed: 0\", \"Review_Date\", \"Author_Name\", \"level_0\", \"index\"] \n",
    "cols_to_drop = []\n",
    "for x in cols_to_check:\n",
    "    if x in df.columns:\n",
    "        cols_to_drop.append(x)\n",
    "\n",
    "df.drop(columns=cols_to_drop, inplace=True)\n",
    "\n",
    "# concatenate the review title and text and rename it to 'text' (use ' : ' as the seperator)\n",
    "df[\"text\"] = df[\"Review_Title\"] + \" : \" + df[\"Review\"]\n",
    "\n",
    "# Since there are only 13 missing values (all of them are review titles) \n",
    "# out of 226,000+ samples, I am just going to drop those samples\n",
    "review_title_feature = \"Review_Title\"\n",
    "if review_title_feature in df.columns:\n",
    "    df.dropna(axis=0, subset=[review_title_feature], inplace=True)\n",
    "\n",
    "df"
   ]
  },
  {
   "attachments": {},
   "cell_type": "markdown",
   "metadata": {},
   "source": [
    "#### Data Preprocessing (Part 2)"
   ]
  },
  {
   "cell_type": "code",
   "execution_count": 5,
   "metadata": {},
   "outputs": [
    {
     "data": {
      "text/html": [
       "<div>\n",
       "<style scoped>\n",
       "    .dataframe tbody tr th:only-of-type {\n",
       "        vertical-align: middle;\n",
       "    }\n",
       "\n",
       "    .dataframe tbody tr th {\n",
       "        vertical-align: top;\n",
       "    }\n",
       "\n",
       "    .dataframe thead th {\n",
       "        text-align: right;\n",
       "    }\n",
       "</style>\n",
       "<table border=\"1\" class=\"dataframe\">\n",
       "  <thead>\n",
       "    <tr style=\"text-align: right;\">\n",
       "      <th></th>\n",
       "      <th>label</th>\n",
       "      <th>text</th>\n",
       "    </tr>\n",
       "  </thead>\n",
       "  <tbody>\n",
       "    <tr>\n",
       "      <th>0</th>\n",
       "      <td>5.000</td>\n",
       "      <td>Great Car :  I bought this car for my son and ...</td>\n",
       "    </tr>\n",
       "    <tr>\n",
       "      <th>1</th>\n",
       "      <td>5.000</td>\n",
       "      <td>Lamborghini Murcielago Review :  I love my Lam...</td>\n",
       "    </tr>\n",
       "    <tr>\n",
       "      <th>2</th>\n",
       "      <td>5.000</td>\n",
       "      <td>The sweetest car ever :  This car is the great...</td>\n",
       "    </tr>\n",
       "    <tr>\n",
       "      <th>3</th>\n",
       "      <td>5.000</td>\n",
       "      <td>The #1 Lamborghini :  I have owned both the Ga...</td>\n",
       "    </tr>\n",
       "    <tr>\n",
       "      <th>4</th>\n",
       "      <td>5.000</td>\n",
       "      <td>Lamboreport :  This is one of the best cars ev...</td>\n",
       "    </tr>\n",
       "    <tr>\n",
       "      <th>...</th>\n",
       "      <td>...</td>\n",
       "      <td>...</td>\n",
       "    </tr>\n",
       "    <tr>\n",
       "      <th>226926</th>\n",
       "      <td>4.750</td>\n",
       "      <td>A Perfect Sports Car! :  I waited 686 days fro...</td>\n",
       "    </tr>\n",
       "    <tr>\n",
       "      <th>226927</th>\n",
       "      <td>4.875</td>\n",
       "      <td>AM Vantage V8 is a winner :  I have one of the...</td>\n",
       "    </tr>\n",
       "    <tr>\n",
       "      <th>226928</th>\n",
       "      <td>4.750</td>\n",
       "      <td>Finally... :  An amazing car! Drove Porsches f...</td>\n",
       "    </tr>\n",
       "    <tr>\n",
       "      <th>226929</th>\n",
       "      <td>4.875</td>\n",
       "      <td>N420 A Driver's Car :  Recently took delivery ...</td>\n",
       "    </tr>\n",
       "    <tr>\n",
       "      <th>226930</th>\n",
       "      <td>4.875</td>\n",
       "      <td>just got a 2011 vantage! :  i just bought this...</td>\n",
       "    </tr>\n",
       "  </tbody>\n",
       "</table>\n",
       "<p>226918 rows × 2 columns</p>\n",
       "</div>"
      ],
      "text/plain": [
       "        label                                               text\n",
       "0       5.000  Great Car :  I bought this car for my son and ...\n",
       "1       5.000  Lamborghini Murcielago Review :  I love my Lam...\n",
       "2       5.000  The sweetest car ever :  This car is the great...\n",
       "3       5.000  The #1 Lamborghini :  I have owned both the Ga...\n",
       "4       5.000  Lamboreport :  This is one of the best cars ev...\n",
       "...       ...                                                ...\n",
       "226926  4.750  A Perfect Sports Car! :  I waited 686 days fro...\n",
       "226927  4.875  AM Vantage V8 is a winner :  I have one of the...\n",
       "226928  4.750  Finally... :  An amazing car! Drove Porsches f...\n",
       "226929  4.875  N420 A Driver's Car :  Recently took delivery ...\n",
       "226930  4.875  just got a 2011 vantage! :  i just bought this...\n",
       "\n",
       "[226918 rows x 2 columns]"
      ]
     },
     "execution_count": 5,
     "metadata": {},
     "output_type": "execute_result"
    }
   ],
   "source": [
    "ratings_col = \"Rating\\r\"\n",
    "if ratings_col in df.columns:\n",
    "    df[\"Rating\\r\"] = df[\"Rating\\r\"].astype(float)\n",
    "    df.rename(columns={\"Rating\\r\" : \"label\"}, inplace=True)\n",
    "\n",
    "\n",
    "# Drop Unused Features\n",
    "cols_to_check = [\"Review_Title\", \"Review\"] \n",
    "cols_to_drop = []\n",
    "\n",
    "\n",
    "for x in cols_to_check:\n",
    "    if np.any(x in df.columns):\n",
    "        if np.any(\"text\" in df.columns):\n",
    "            cols_to_drop.append(x)\n",
    "\n",
    "df.drop(columns=cols_to_drop, inplace=True)\n",
    "\n",
    "df"
   ]
  },
  {
   "attachments": {},
   "cell_type": "markdown",
   "metadata": {},
   "source": [
    "#### Visulatization: Distribution of"
   ]
  },
  {
   "cell_type": "code",
   "execution_count": 6,
   "metadata": {},
   "outputs": [
    {
     "data": {
      "image/png": "[encoded data removed]",
      "text/plain": [
       "<Figure size 1800x800 with 1 Axes>"
      ]
     },
     "metadata": {},
     "output_type": "display_data"
    }
   ],
   "source": [
    "df.hist(\"label\", color=\"Blue\", grid=False, bins=25, figsize=(18,8), range=(0,5))\n",
    "plt.suptitle('')\n",
    "plt.title('Car Ratings')\n",
    "plt.xlabel('Car Rating (0-5)')\n",
    "plt.ylabel('# of Ratings')\n",
    "plt.show()"
   ]
  },
  {
   "attachments": {},
   "cell_type": "markdown",
   "metadata": {},
   "source": [
    "#### Visualiation of Input Length"
   ]
  },
  {
   "cell_type": "code",
   "execution_count": 7,
   "metadata": {},
   "outputs": [
    {
     "data": {
      "image/png": "[encoded data removed]",
      "text/plain": [
       "<Figure size 1800x800 with 1 Axes>"
      ]
     },
     "metadata": {},
     "output_type": "display_data"
    }
   ],
   "source": [
    "df['Text Length'] = df['text'].str.split().apply(len)\n",
    "\n",
    "n = 150\n",
    "df.hist(\"Text Length\", color=\"Blue\", grid=False, bins=n, range=(0,n), figsize=(18,8))\n",
    "plt.suptitle('')\n",
    "plt.xlabel('Text Length (in Words)')\n",
    "plt.ylabel('# of Samples')\n",
    "plt.show()"
   ]
  },
  {
   "attachments": {},
   "cell_type": "markdown",
   "metadata": {},
   "source": [
    "#### Drop Unnecessary Features & Trim Overly Lengthy Reviews"
   ]
  },
  {
   "cell_type": "code",
   "execution_count": 8,
   "metadata": {},
   "outputs": [
    {
     "name": "stderr",
     "output_type": "stream",
     "text": [
      "/var/folders/vb/6w_1xfss7_zgtx5g93jlj0z80000gn/T/ipykernel_31822/363466532.py:3: SettingWithCopyWarning: \n",
      "A value is trying to be set on a copy of a slice from a DataFrame\n",
      "\n",
      "See the caveats in the documentation: https://pandas.pydata.org/pandas-docs/stable/user_guide/indexing.html#returning-a-view-versus-a-copy\n",
      "  df.drop(columns=[\"Text Length\"], inplace=True)\n"
     ]
    },
    {
     "data": {
      "text/plain": [
       "label    207313\n",
       "text     207313\n",
       "dtype: int64"
      ]
     },
     "execution_count": 8,
     "metadata": {},
     "output_type": "execute_result"
    }
   ],
   "source": [
    "df = df[df[\"Text Length\"] < 146]\n",
    "\n",
    "df.drop(columns=[\"Text Length\"], inplace=True)\n",
    "df.count()"
   ]
  },
  {
   "attachments": {},
   "cell_type": "markdown",
   "metadata": {},
   "source": [
    "### Actual Project"
   ]
  },
  {
   "attachments": {},
   "cell_type": "markdown",
   "metadata": {},
   "source": [
    "#### Convert Pandas DataFrame to Datasets"
   ]
  },
  {
   "cell_type": "code",
   "execution_count": 9,
   "metadata": {},
   "outputs": [],
   "source": [
    "dataset = Dataset.from_pandas(df)"
   ]
  },
  {
   "attachments": {},
   "cell_type": "markdown",
   "metadata": {},
   "source": [
    "#### Split Dataset into Training & Testing Dataset"
   ]
  },
  {
   "cell_type": "code",
   "execution_count": 10,
   "metadata": {},
   "outputs": [
    {
     "name": "stdout",
     "output_type": "stream",
     "text": [
      "Training data shape: (165850, 3)\n",
      "Testing data shape: (20732, 3)\n",
      "Eval data shape: (20731, 3)\n"
     ]
    }
   ],
   "source": [
    "train_testvalid = dataset.train_test_split(test_size=0.20)\n",
    "test_valid = train_testvalid['test'].train_test_split(test_size=0.50)\n",
    "\n",
    "ds = DatasetDict({\n",
    "    'train' : train_testvalid['train'],\n",
    "    'test' : test_valid['test'],\n",
    "    'eval' : test_valid['train']\n",
    "})\n",
    "\n",
    "print('Training data shape:', ds['train'].shape)\n",
    "print('Testing data shape:', ds['test'].shape)\n",
    "print('Eval data shape:', ds['eval'].shape)"
   ]
  },
  {
   "attachments": {},
   "cell_type": "markdown",
   "metadata": {},
   "source": [
    "##### Basic Values"
   ]
  },
  {
   "cell_type": "code",
   "execution_count": 11,
   "metadata": {},
   "outputs": [],
   "source": [
    "NUM_OF_EPOCHS = 2\n",
    "MAX_INPUT_LEN = int(round(150*1.3, 0))\n",
    "\n",
    "MODEL_CKPT = \"distilbert-base-uncased\"\n",
    "DEVICE = torch.device(\"cuda\" if torch.cuda.is_available() else \"cpu\")\n",
    "\n",
    "NUM_LABELS = 1\n",
    "BATCH_SIZE = 64\n",
    "\n",
    "MODEL_NAME = f\"{MODEL_CKPT}-Regression-Edmunds_Car_Reviews-all_car_brands\"\n",
    "LEARNING_RATE = 1.5e-5\n",
    "\n",
    "set_seed(42)"
   ]
  },
  {
   "attachments": {},
   "cell_type": "markdown",
   "metadata": {},
   "source": [
    "#### HuggingFace Access Token & Install git lfs"
   ]
  },
  {
   "cell_type": "code",
   "execution_count": 12,
   "metadata": {},
   "outputs": [
    {
     "name": "stdout",
     "output_type": "stream",
     "text": [
      "Git LFS initialized.\n"
     ]
    }
   ],
   "source": [
    "# HuggingFace Access Token ... \n",
    "\n",
    "!git lfs install"
   ]
  },
  {
   "attachments": {},
   "cell_type": "markdown",
   "metadata": {},
   "source": [
    "#### Tokenize Entire Dataset"
   ]
  },
  {
   "cell_type": "code",
   "execution_count": 13,
   "metadata": {},
   "outputs": [
    {
     "data": {
      "application/vnd.jupyter.widget-view+json": {
       "model_id": "ec831d7e772848778e3ca3fb0b45e203",
       "version_major": 2,
       "version_minor": 0
      },
      "text/plain": [
       "  0%|          | 0/1 [00:00<?, ?ba/s]"
      ]
     },
     "metadata": {},
     "output_type": "display_data"
    },
    {
     "data": {
      "application/vnd.jupyter.widget-view+json": {
       "model_id": "41ed7caff71d4cda8aaa2847b6da6aa9",
       "version_major": 2,
       "version_minor": 0
      },
      "text/plain": [
       "  0%|          | 0/1 [00:00<?, ?ba/s]"
      ]
     },
     "metadata": {},
     "output_type": "display_data"
    },
    {
     "data": {
      "application/vnd.jupyter.widget-view+json": {
       "model_id": "d6274c61e4c44ca1b1f53faea56552d9",
       "version_major": 2,
       "version_minor": 0
      },
      "text/plain": [
       "  0%|          | 0/1 [00:00<?, ?ba/s]"
      ]
     },
     "metadata": {},
     "output_type": "display_data"
    }
   ],
   "source": [
    "tokenizer = AutoTokenizer.from_pretrained(MODEL_CKPT)\n",
    "\n",
    "def tokenize(batch):\n",
    "    return tokenizer(batch['text'], truncation=True, padding=True, max_length=MAX_INPUT_LEN, return_tensors=\"np\")\n",
    "\n",
    "encoded_ds = ds.map(tokenize, batched=True, batch_size=None)"
   ]
  },
  {
   "attachments": {},
   "cell_type": "markdown",
   "metadata": {},
   "source": [
    "#### Print Example to Ensure Edits Worked As Expected"
   ]
  },
  {
   "cell_type": "code",
   "execution_count": 14,
   "metadata": {},
   "outputs": [
    {
     "name": "stdout",
     "output_type": "stream",
     "text": [
      "{'label': Value(dtype='float64', id=None), 'text': Value(dtype='string', id=None), '__index_level_0__': Value(dtype='int64', id=None), 'input_ids': Sequence(feature=Value(dtype='int32', id=None), length=-1, id=None), 'attention_mask': Sequence(feature=Value(dtype='int8', id=None), length=-1, id=None)}\n",
      "Dataset({\n",
      "    features: ['label', 'text', '__index_level_0__', 'input_ids', 'attention_mask'],\n",
      "    num_rows: 165850\n",
      "})\n"
     ]
    }
   ],
   "source": [
    "print(encoded_ds['train'].features)\n",
    "print(encoded_ds['train'])"
   ]
  },
  {
   "attachments": {},
   "cell_type": "markdown",
   "metadata": {},
   "source": [
    "#### Initialize Model"
   ]
  },
  {
   "cell_type": "code",
   "execution_count": 15,
   "metadata": {},
   "outputs": [
    {
     "name": "stderr",
     "output_type": "stream",
     "text": [
      "Some weights of the model checkpoint at distilbert-base-uncased were not used when initializing DistilBertForSequenceClassification: ['vocab_layer_norm.weight', 'vocab_projector.weight', 'vocab_transform.weight', 'vocab_projector.bias', 'vocab_layer_norm.bias', 'vocab_transform.bias']\n",
      "- This IS expected if you are initializing DistilBertForSequenceClassification from the checkpoint of a model trained on another task or with another architecture (e.g. initializing a BertForSequenceClassification model from a BertForPreTraining model).\n",
      "- This IS NOT expected if you are initializing DistilBertForSequenceClassification from the checkpoint of a model that you expect to be exactly identical (initializing a BertForSequenceClassification model from a BertForSequenceClassification model).\n",
      "Some weights of DistilBertForSequenceClassification were not initialized from the model checkpoint at distilbert-base-uncased and are newly initialized: ['classifier.weight', 'pre_classifier.weight', 'classifier.bias', 'pre_classifier.bias']\n",
      "You should probably TRAIN this model on a down-stream task to be able to use it for predictions and inference.\n"
     ]
    }
   ],
   "source": [
    "model = (AutoModelForSequenceClassification.from_pretrained(MODEL_CKPT, num_labels=NUM_LABELS)).to(DEVICE)"
   ]
  },
  {
   "attachments": {},
   "cell_type": "markdown",
   "metadata": {},
   "source": [
    "#### Metrics Evaluation Function"
   ]
  },
  {
   "cell_type": "code",
   "execution_count": 16,
   "metadata": {},
   "outputs": [],
   "source": [
    "def compute_metrics_for_regression(eval_pred):\n",
    "    logits, labels = eval_pred\n",
    "    labels = labels.reshape(-1, 1)\n",
    "\n",
    "    mse = mean_squared_error(labels, logits)\n",
    "    rmse = mean_squared_error(labels, logits, squared=False)\n",
    "    mae = mean_absolute_error(labels, logits)\n",
    "        \n",
    "    return {\"mse\": mse, \"rmse\": rmse, \"mae\": mae}"
   ]
  },
  {
   "attachments": {},
   "cell_type": "markdown",
   "metadata": {},
   "source": [
    "#### Trainer Arguments"
   ]
  },
  {
   "cell_type": "code",
   "execution_count": 17,
   "metadata": {},
   "outputs": [],
   "source": [
    "training_args = TrainingArguments(output_dir=MODEL_NAME, \n",
    "                                  num_train_epochs=NUM_OF_EPOCHS, \n",
    "                                  per_device_train_batch_size=BATCH_SIZE, \n",
    "                                  per_device_eval_batch_size=BATCH_SIZE, \n",
    "                                  weight_decay=0.01,\n",
    "                                  learning_rate=LEARNING_RATE,\n",
    "                                  no_cuda=True,\n",
    "                                  evaluation_strategy='epoch',\n",
    "                                  save_total_limit=10,\n",
    "                                  logging_strategy='epoch',\n",
    "                                  load_best_model_at_end=True,\n",
    "                                  disable_tqdm=False,\n",
    "                                  metric_for_best_model='mae',\n",
    "                                  greater_is_better=False,\n",
    "                                  save_strategy='epoch',\n",
    "                                  push_to_hub=True)"
   ]
  },
  {
   "attachments": {},
   "cell_type": "markdown",
   "metadata": {},
   "source": [
    "####  Build Trainer"
   ]
  },
  {
   "cell_type": "code",
   "execution_count": 18,
   "metadata": {},
   "outputs": [
    {
     "name": "stderr",
     "output_type": "stream",
     "text": [
      "Cloning https://huggingface.co/DunnBC22/distilbert-base-uncased-Regression-Edmunds_Car_Reviews-all_car_brands into local empty directory.\n"
     ]
    }
   ],
   "source": [
    "trainer = Trainer(model=model, \n",
    "                  args=training_args, \n",
    "                  train_dataset=encoded_ds['train'], \n",
    "                  eval_dataset=encoded_ds['eval'],\n",
    "                  tokenizer=tokenizer,\n",
    "                  compute_metrics=compute_metrics_for_regression)"
   ]
  },
  {
   "attachments": {},
   "cell_type": "markdown",
   "metadata": {},
   "source": [
    "#### Train Trainer"
   ]
  },
  {
   "cell_type": "code",
   "execution_count": 19,
   "metadata": {},
   "outputs": [
    {
     "name": "stderr",
     "output_type": "stream",
     "text": [
      "The following columns in the training set don't have a corresponding argument in `DistilBertForSequenceClassification.forward` and have been ignored: __index_level_0__, text. If __index_level_0__, text are not expected by `DistilBertForSequenceClassification.forward`,  you can safely ignore this message.\n",
      "/Users/leedunn/Documents/nlpnn/nlp/lib/python3.9/site-packages/transformers/optimization.py:306: FutureWarning: This implementation of AdamW is deprecated and will be removed in a future version. Use the PyTorch implementation torch.optim.AdamW instead, or set `no_deprecation_warning=True` to disable this warning\n",
      "  warnings.warn(\n",
      "***** Running training *****\n",
      "  Num examples = 165850\n",
      "  Num Epochs = 2\n",
      "  Instantaneous batch size per device = 64\n",
      "  Total train batch size (w. parallel, distributed & accumulation) = 64\n",
      "  Gradient Accumulation steps = 1\n",
      "  Total optimization steps = 5184\n"
     ]
    },
    {
     "data": {
      "application/vnd.jupyter.widget-view+json": {
       "model_id": "1c17640086564e87a05677834183c2ba",
       "version_major": 2,
       "version_minor": 0
      },
      "text/plain": [
       "  0%|          | 0/5184 [00:00<?, ?it/s]"
      ]
     },
     "metadata": {},
     "output_type": "display_data"
    },
    {
     "name": "stderr",
     "output_type": "stream",
     "text": [
      "The following columns in the evaluation set don't have a corresponding argument in `DistilBertForSequenceClassification.forward` and have been ignored: __index_level_0__, text. If __index_level_0__, text are not expected by `DistilBertForSequenceClassification.forward`,  you can safely ignore this message.\n"
     ]
    },
    {
     "name": "stdout",
     "output_type": "stream",
     "text": [
      "{'loss': 0.3936, 'learning_rate': 7.5e-06, 'epoch': 1.0}\n"
     ]
    },
    {
     "name": "stderr",
     "output_type": "stream",
     "text": [
      "***** Running Evaluation *****\n",
      "  Num examples = 20731\n",
      "  Batch size = 64\n"
     ]
    },
    {
     "data": {
      "application/vnd.jupyter.widget-view+json": {
       "model_id": "da7b1df559ac4c2197f45a20c2ded078",
       "version_major": 2,
       "version_minor": 0
      },
      "text/plain": [
       "  0%|          | 0/324 [00:00<?, ?it/s]"
      ]
     },
     "metadata": {},
     "output_type": "display_data"
    },
    {
     "name": "stderr",
     "output_type": "stream",
     "text": [
      "Saving model checkpoint to distilbert-base-uncased-Regression-Edmunds_Car_Reviews-all_car_brands/checkpoint-2592\n",
      "Configuration saved in distilbert-base-uncased-Regression-Edmunds_Car_Reviews-all_car_brands/checkpoint-2592/config.json\n"
     ]
    },
    {
     "name": "stdout",
     "output_type": "stream",
     "text": [
      "{'eval_loss': 0.22821131348609924, 'eval_mse': 0.22821131348609924, 'eval_rmse': 0.4777146875858307, 'eval_mae': 0.31577789783477783, 'eval_runtime': 5778.3056, 'eval_samples_per_second': 3.588, 'eval_steps_per_second': 0.056, 'epoch': 1.0}\n"
     ]
    },
    {
     "name": "stderr",
     "output_type": "stream",
     "text": [
      "Model weights saved in distilbert-base-uncased-Regression-Edmunds_Car_Reviews-all_car_brands/checkpoint-2592/pytorch_model.bin\n",
      "tokenizer config file saved in distilbert-base-uncased-Regression-Edmunds_Car_Reviews-all_car_brands/checkpoint-2592/tokenizer_config.json\n",
      "Special tokens file saved in distilbert-base-uncased-Regression-Edmunds_Car_Reviews-all_car_brands/checkpoint-2592/special_tokens_map.json\n",
      "tokenizer config file saved in distilbert-base-uncased-Regression-Edmunds_Car_Reviews-all_car_brands/tokenizer_config.json\n",
      "Special tokens file saved in distilbert-base-uncased-Regression-Edmunds_Car_Reviews-all_car_brands/special_tokens_map.json\n",
      "The following columns in the evaluation set don't have a corresponding argument in `DistilBertForSequenceClassification.forward` and have been ignored: __index_level_0__, text. If __index_level_0__, text are not expected by `DistilBertForSequenceClassification.forward`,  you can safely ignore this message.\n"
     ]
    },
    {
     "name": "stdout",
     "output_type": "stream",
     "text": [
      "{'loss': 0.2163, 'learning_rate': 0.0, 'epoch': 2.0}\n"
     ]
    },
    {
     "name": "stderr",
     "output_type": "stream",
     "text": [
      "***** Running Evaluation *****\n",
      "  Num examples = 20731\n",
      "  Batch size = 64\n"
     ]
    },
    {
     "data": {
      "application/vnd.jupyter.widget-view+json": {
       "model_id": "2493081d49b8457e820c47115bec232d",
       "version_major": 2,
       "version_minor": 0
      },
      "text/plain": [
       "  0%|          | 0/324 [00:00<?, ?it/s]"
      ]
     },
     "metadata": {},
     "output_type": "display_data"
    },
    {
     "name": "stderr",
     "output_type": "stream",
     "text": [
      "Saving model checkpoint to distilbert-base-uncased-Regression-Edmunds_Car_Reviews-all_car_brands/checkpoint-5184\n",
      "Configuration saved in distilbert-base-uncased-Regression-Edmunds_Car_Reviews-all_car_brands/checkpoint-5184/config.json\n"
     ]
    },
    {
     "name": "stdout",
     "output_type": "stream",
     "text": [
      "{'eval_loss': 0.2159704864025116, 'eval_mse': 0.2159704864025116, 'eval_rmse': 0.4647262394428253, 'eval_mae': 0.31062051653862, 'eval_runtime': 5719.868, 'eval_samples_per_second': 3.624, 'eval_steps_per_second': 0.057, 'epoch': 2.0}\n"
     ]
    },
    {
     "name": "stderr",
     "output_type": "stream",
     "text": [
      "Model weights saved in distilbert-base-uncased-Regression-Edmunds_Car_Reviews-all_car_brands/checkpoint-5184/pytorch_model.bin\n",
      "tokenizer config file saved in distilbert-base-uncased-Regression-Edmunds_Car_Reviews-all_car_brands/checkpoint-5184/tokenizer_config.json\n",
      "Special tokens file saved in distilbert-base-uncased-Regression-Edmunds_Car_Reviews-all_car_brands/checkpoint-5184/special_tokens_map.json\n",
      "tokenizer config file saved in distilbert-base-uncased-Regression-Edmunds_Car_Reviews-all_car_brands/tokenizer_config.json\n",
      "Special tokens file saved in distilbert-base-uncased-Regression-Edmunds_Car_Reviews-all_car_brands/special_tokens_map.json\n",
      "\n",
      "\n",
      "Training completed. Do not forget to share your model on huggingface.co/models =)\n",
      "\n",
      "\n",
      "Loading best model from distilbert-base-uncased-Regression-Edmunds_Car_Reviews-all_car_brands/checkpoint-5184 (score: 0.31062051653862).\n"
     ]
    },
    {
     "name": "stdout",
     "output_type": "stream",
     "text": [
      "{'train_runtime': 403870.5811, 'train_samples_per_second': 0.821, 'train_steps_per_second': 0.013, 'train_loss': 0.3049432495493948, 'epoch': 2.0}\n"
     ]
    },
    {
     "data": {
      "text/plain": [
       "TrainOutput(global_step=5184, training_loss=0.3049432495493948, metrics={'train_runtime': 403870.5811, 'train_samples_per_second': 0.821, 'train_steps_per_second': 0.013, 'train_loss': 0.3049432495493948, 'epoch': 2.0})"
      ]
     },
     "execution_count": 19,
     "metadata": {},
     "output_type": "execute_result"
    }
   ],
   "source": [
    "trainer.train()"
   ]
  },
  {
   "attachments": {},
   "cell_type": "markdown",
   "metadata": {},
   "source": [
    "### Evaluate Model"
   ]
  },
  {
   "attachments": {},
   "cell_type": "markdown",
   "metadata": {},
   "source": [
    "#### Generate Predictions"
   ]
  },
  {
   "cell_type": "code",
   "execution_count": 20,
   "metadata": {},
   "outputs": [
    {
     "name": "stderr",
     "output_type": "stream",
     "text": [
      "The following columns in the evaluation set don't have a corresponding argument in `DistilBertForSequenceClassification.forward` and have been ignored: __index_level_0__, text. If __index_level_0__, text are not expected by `DistilBertForSequenceClassification.forward`,  you can safely ignore this message.\n",
      "***** Running Evaluation *****\n",
      "  Num examples = 20732\n",
      "  Batch size = 64\n"
     ]
    },
    {
     "data": {
      "application/vnd.jupyter.widget-view+json": {
       "model_id": "b08ba5785047441d924b6058c8a7e414",
       "version_major": 2,
       "version_minor": 0
      },
      "text/plain": [
       "  0%|          | 0/324 [00:00<?, ?it/s]"
      ]
     },
     "metadata": {},
     "output_type": "display_data"
    },
    {
     "data": {
      "text/plain": [
       "{'eval_loss': 0.2231525331735611,\n",
       " 'eval_mse': 0.2231525331735611,\n",
       " 'eval_rmse': 0.47239023447036743,\n",
       " 'eval_mae': 0.3150399327278137,\n",
       " 'eval_runtime': 5689.4923,\n",
       " 'eval_samples_per_second': 3.644,\n",
       " 'eval_steps_per_second': 0.057,\n",
       " 'epoch': 2.0}"
      ]
     },
     "execution_count": 20,
     "metadata": {},
     "output_type": "execute_result"
    }
   ],
   "source": [
    "trainer.eval_dataset = encoded_ds['test']\n",
    "trainer.evaluate()"
   ]
  },
  {
   "attachments": {},
   "cell_type": "markdown",
   "metadata": {},
   "source": [
    "#### Push Model to Hub"
   ]
  },
  {
   "cell_type": "code",
   "execution_count": 21,
   "metadata": {},
   "outputs": [
    {
     "name": "stderr",
     "output_type": "stream",
     "text": [
      "Saving model checkpoint to distilbert-base-uncased-Regression-Edmunds_Car_Reviews-all_car_brands\n",
      "Configuration saved in distilbert-base-uncased-Regression-Edmunds_Car_Reviews-all_car_brands/config.json\n",
      "Model weights saved in distilbert-base-uncased-Regression-Edmunds_Car_Reviews-all_car_brands/pytorch_model.bin\n",
      "tokenizer config file saved in distilbert-base-uncased-Regression-Edmunds_Car_Reviews-all_car_brands/tokenizer_config.json\n",
      "Special tokens file saved in distilbert-base-uncased-Regression-Edmunds_Car_Reviews-all_car_brands/special_tokens_map.json\n",
      "Dropping the following result as it does not have all the necessary fields:\n",
      "{'task': {'name': 'Text Classification', 'type': 'text-classification'}}\n",
      "To https://huggingface.co/DunnBC22/distilbert-base-uncased-Regression-Edmunds_Car_Reviews-all_car_brands\n",
      "   0c98f97..d7420f9  main -> main\n",
      "\n"
     ]
    }
   ],
   "source": [
    "trainer.push_to_hub(commit_message=\"All Dunn!!!\")"
   ]
  }
 ],
 "metadata": {
  "kernelspec": {
   "display_name": "nlp",
   "language": "python",
   "name": "python3"
  },
  "language_info": {
   "codemirror_mode": {
    "name": "ipython",
    "version": 3
   },
   "file_extension": ".py",
   "mimetype": "text/x-python",
   "name": "python",
   "nbconvert_exporter": "python",
   "pygments_lexer": "ipython3",
   "version": "3.9.7"
  },
  "orig_nbformat": 4,
  "vscode": {
   "interpreter": {
    "hash": "41bc52750e0704433c7c40a5c68d8f60e760babe95f2dffc82e8c3790208ff57"
   }
  }
 },
 "nbformat": 4,
 "nbformat_minor": 2
}
