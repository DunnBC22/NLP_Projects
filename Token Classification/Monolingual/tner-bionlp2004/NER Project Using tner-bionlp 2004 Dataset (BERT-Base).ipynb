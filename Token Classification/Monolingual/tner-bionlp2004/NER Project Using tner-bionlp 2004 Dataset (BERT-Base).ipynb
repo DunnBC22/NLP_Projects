{
 "cells": [
  {
   "attachments": {},
   "cell_type": "markdown",
   "metadata": {},
   "source": [
    "## Monolingual Named Entity Recognition (Bio NLP 2004 Dataset)\n",
    "\n",
    "Dataset Source: https://huggingface.co/datasets/tner/bionlp2004"
   ]
  },
  {
   "attachments": {},
   "cell_type": "markdown",
   "metadata": {},
   "source": [
    "#### Install Necessary Libraries"
   ]
  },
  {
   "cell_type": "code",
   "execution_count": 1,
   "metadata": {},
   "outputs": [],
   "source": [
    "#%pip install transformers datasets evaluate seqeval"
   ]
  },
  {
   "attachments": {},
   "cell_type": "markdown",
   "metadata": {},
   "source": [
    "#### Import Necessary Libraries"
   ]
  },
  {
   "cell_type": "code",
   "execution_count": 30,
   "metadata": {},
   "outputs": [
    {
     "name": "stdout",
     "output_type": "stream",
     "text": [
      "Git LFS initialized.\n"
     ]
    }
   ],
   "source": [
    "import os, sys\n",
    "os.environ['TOKENIZERS_PARALLELISM']='false'\n",
    "\n",
    "import pandas as pd\n",
    "import numpy as np\n",
    "\n",
    "import datasets\n",
    "from datasets import load_dataset\n",
    "import matplotlib.pyplot as plt\n",
    "\n",
    "import sklearn\n",
    "from sklearn.metrics import confusion_matrix, ConfusionMatrixDisplay\n",
    "\n",
    "import torch\n",
    "from torch.nn.functional import cross_entropy\n",
    "\n",
    "import transformers\n",
    "from transformers import AutoTokenizer, AutoModelForTokenClassification\n",
    "from transformers import DataCollatorForTokenClassification\n",
    "from transformers import Trainer, TrainingArguments\n",
    "\n",
    "import evaluate\n",
    "\n",
    "!git lfs install"
   ]
  },
  {
   "attachments": {},
   "cell_type": "markdown",
   "metadata": {},
   "source": [
    "#### Display Library Versions"
   ]
  },
  {
   "cell_type": "code",
   "execution_count": 31,
   "metadata": {},
   "outputs": [
    {
     "name": "stdout",
     "output_type": "stream",
     "text": [
      "          Python : 3.9.12\n",
      "           NumPy : 1.24.3\n",
      "          Pandas : 2.0.1\n",
      "           Torch : 2.0.0\n",
      "    Transformers : 4.28.1\n",
      "        Datasets : 2.11.0\n",
      "        Evaluate : 0.4.0\n",
      "         Sklearn : 1.2.2\n"
     ]
    }
   ],
   "source": [
    "print(\"Python :\".rjust(18), sys.version[0:6])\n",
    "print(\"NumPy :\".rjust(18), np.__version__)\n",
    "print(\"Pandas :\".rjust(18), pd.__version__)\n",
    "print(\"Torch :\".rjust(18), torch.__version__)\n",
    "print(\"Transformers :\".rjust(18), transformers.__version__)\n",
    "print(\"Datasets :\".rjust(18), datasets.__version__)\n",
    "print(\"Evaluate :\".rjust(18), evaluate.__version__)\n",
    "print(\"Sklearn :\".rjust(18), sklearn.__version__)"
   ]
  },
  {
   "attachments": {},
   "cell_type": "markdown",
   "metadata": {},
   "source": [
    "#### Ingest English Subset of Dataset"
   ]
  },
  {
   "cell_type": "code",
   "execution_count": 4,
   "metadata": {},
   "outputs": [
    {
     "name": "stderr",
     "output_type": "stream",
     "text": [
      "Found cached dataset bionlp2004 (/Users/briandunn/.cache/huggingface/datasets/tner___bionlp2004/bionlp2004/1.0.0/9f41d3f0270b773c2762dee333ae36c29331e2216114a57081f77639fdb5e904)\n"
     ]
    },
    {
     "data": {
      "application/vnd.jupyter.widget-view+json": {
       "model_id": "40988aa8daf74c4ea243af5ba49395a6",
       "version_major": 2,
       "version_minor": 0
      },
      "text/plain": [
       "  0%|          | 0/3 [00:00<?, ?it/s]"
      ]
     },
     "metadata": {},
     "output_type": "display_data"
    },
    {
     "data": {
      "text/plain": [
       "DatasetDict({\n",
       "    train: Dataset({\n",
       "        features: ['tokens', 'tags'],\n",
       "        num_rows: 16619\n",
       "    })\n",
       "    validation: Dataset({\n",
       "        features: ['tokens', 'tags'],\n",
       "        num_rows: 1927\n",
       "    })\n",
       "    test: Dataset({\n",
       "        features: ['tokens', 'tags'],\n",
       "        num_rows: 3856\n",
       "    })\n",
       "})"
      ]
     },
     "execution_count": 4,
     "metadata": {},
     "output_type": "execute_result"
    }
   ],
   "source": [
    "data = load_dataset(\"tner/bionlp2004\")\n",
    "\n",
    "data"
   ]
  },
  {
   "attachments": {},
   "cell_type": "markdown",
   "metadata": {},
   "source": [
    "#### Example"
   ]
  },
  {
   "cell_type": "code",
   "execution_count": 5,
   "metadata": {},
   "outputs": [
    {
     "data": {
      "text/plain": [
       "{'tokens': ['The',\n",
       "  'transcription',\n",
       "  'factor',\n",
       "  'nuclear',\n",
       "  'factor-kappa',\n",
       "  'B',\n",
       "  '(',\n",
       "  'NF-kappa',\n",
       "  'B',\n",
       "  ')',\n",
       "  'is',\n",
       "  'critical',\n",
       "  'for',\n",
       "  'the',\n",
       "  'inducible',\n",
       "  'expression',\n",
       "  'of',\n",
       "  'multiple',\n",
       "  'cellular',\n",
       "  'and',\n",
       "  'viral',\n",
       "  'genes',\n",
       "  'involved',\n",
       "  'in',\n",
       "  'inflammation',\n",
       "  'and',\n",
       "  'infection',\n",
       "  'including',\n",
       "  'interleukin-1',\n",
       "  '(',\n",
       "  'IL-1',\n",
       "  ')',\n",
       "  ',',\n",
       "  'IL-6',\n",
       "  ',',\n",
       "  'and',\n",
       "  'adhesion',\n",
       "  'molecules',\n",
       "  '.'],\n",
       " 'tags': [0,\n",
       "  3,\n",
       "  4,\n",
       "  3,\n",
       "  4,\n",
       "  4,\n",
       "  0,\n",
       "  3,\n",
       "  4,\n",
       "  0,\n",
       "  0,\n",
       "  0,\n",
       "  0,\n",
       "  0,\n",
       "  0,\n",
       "  0,\n",
       "  0,\n",
       "  0,\n",
       "  1,\n",
       "  2,\n",
       "  2,\n",
       "  2,\n",
       "  0,\n",
       "  0,\n",
       "  0,\n",
       "  0,\n",
       "  0,\n",
       "  0,\n",
       "  3,\n",
       "  0,\n",
       "  3,\n",
       "  0,\n",
       "  0,\n",
       "  3,\n",
       "  0,\n",
       "  0,\n",
       "  3,\n",
       "  4,\n",
       "  0]}"
      ]
     },
     "execution_count": 5,
     "metadata": {},
     "output_type": "execute_result"
    }
   ],
   "source": [
    "example = data['train'][12]\n",
    "\n",
    "example"
   ]
  },
  {
   "attachments": {},
   "cell_type": "markdown",
   "metadata": {},
   "source": [
    "#### Display Feature Information About Each Feature"
   ]
  },
  {
   "cell_type": "code",
   "execution_count": 6,
   "metadata": {},
   "outputs": [
    {
     "name": "stdout",
     "output_type": "stream",
     "text": [
      "tokens: \n",
      "Sequence(feature=Value(dtype='string', id=None), length=-1, id=None)\n",
      "\n",
      "tags: \n",
      "Sequence(feature=Value(dtype='int32', id=None), length=-1, id=None)\n",
      "\n"
     ]
    }
   ],
   "source": [
    "for k, v in data[\"train\"].features.items():\n",
    "    print(f\"{k}: \\n{v}\\n\")"
   ]
  },
  {
   "attachments": {},
   "cell_type": "markdown",
   "metadata": {},
   "source": [
    "#### Define Tag Values & Conversions Between String & Integer Values"
   ]
  },
  {
   "cell_type": "code",
   "execution_count": 7,
   "metadata": {},
   "outputs": [
    {
     "name": "stdout",
     "output_type": "stream",
     "text": [
      "List of tag values: \n",
      "['O', 'B-DNA', 'I-DNA', 'B-protein', 'I-protein', 'B-cell_type', 'I-cell_type', 'B-cell_line', 'I-cell_line', 'B-RNA', 'I-RNA']\n",
      "id2label: \n",
      "{0: 'O', 1: 'B-DNA', 2: 'I-DNA', 3: 'B-protein', 4: 'I-protein', 5: 'B-cell_type', 6: 'I-cell_type', 7: 'B-cell_line', 8: 'I-cell_line', 9: 'B-RNA', 10: 'I-RNA'}\n",
      "label2id: \n",
      "{'O': 0, 'B-DNA': 1, 'I-DNA': 2, 'B-protein': 3, 'I-protein': 4, 'B-cell_type': 5, 'I-cell_type': 6, 'B-cell_line': 7, 'I-cell_line': 8, 'B-RNA': 9, 'I-RNA': 10}\n",
      "Number of NER Tags: 11\n"
     ]
    }
   ],
   "source": [
    "label2id = {\n",
    "    \"O\": 0,\n",
    "    \"B-DNA\": 1,\n",
    "    \"I-DNA\": 2,\n",
    "    \"B-protein\": 3,\n",
    "    \"I-protein\": 4,\n",
    "    \"B-cell_type\": 5,\n",
    "    \"I-cell_type\": 6,\n",
    "    \"B-cell_line\": 7,\n",
    "    \"I-cell_line\": 8,\n",
    "    \"B-RNA\": 9,\n",
    "    \"I-RNA\": 10\n",
    "}\n",
    "\n",
    "id2label = {tag: idx for idx, tag in label2id.items()}\n",
    "\n",
    "tags = list(label2id.keys())\n",
    "\n",
    "NUM_OF_LABELS = len(tags)\n",
    "\n",
    "print(f\"List of tag values: \\n{tags}\")\n",
    "print(f\"id2label: \\n{id2label}\")\n",
    "print(f\"label2id: \\n{label2id}\")\n",
    "print(f\"Number of NER Tags: {NUM_OF_LABELS}\")"
   ]
  },
  {
   "attachments": {},
   "cell_type": "markdown",
   "metadata": {},
   "source": [
    "#### Basic Values/Constants"
   ]
  },
  {
   "cell_type": "code",
   "execution_count": 8,
   "metadata": {},
   "outputs": [],
   "source": [
    "MODEL_CKPT = \"bert-base-cased\"\n",
    "\n",
    "MODEL_NAME = f\"{MODEL_CKPT}-finetuned-ner-bio_nlp_2004\"\n",
    "NUM_OF_EPOCHS = 3\n",
    "\n",
    "BATCH_SIZE = 16\n",
    "STRATEGY = \"epoch\"\n",
    "\n",
    "REPORTS_TO = \"tensorboard\"\n",
    "WEIGHT_DECAY = 0.01\n",
    "\n",
    "LR = 2e-5\n",
    "DEVICE = torch.device(\"cpu\")\n",
    "\n",
    "STEPS = 100"
   ]
  },
  {
   "attachments": {},
   "cell_type": "markdown",
   "metadata": {},
   "source": [
    "#### Function to Tokenize & Align Inputs"
   ]
  },
  {
   "cell_type": "code",
   "execution_count": 9,
   "metadata": {},
   "outputs": [],
   "source": [
    "tokenizer = AutoTokenizer.from_pretrained(MODEL_CKPT)\n",
    "\n",
    "def tokenize_and_align_labels(samples):\n",
    "    tokenized_inputs = tokenizer(samples[\"tokens\"], \n",
    "                                      truncation=True, \n",
    "                                      is_split_into_words=True)\n",
    "    \n",
    "    labels = []\n",
    "    \n",
    "    for idx, label in enumerate(samples[f\"tags\"]):\n",
    "        word_ids = tokenized_inputs.word_ids(batch_index=idx)\n",
    "        prev_word_idx = None\n",
    "        label_ids = []\n",
    "        for word_idx in word_ids: # set special tokens to -100\n",
    "            if word_idx is None or word_idx == prev_word_idx:\n",
    "                label_ids.append(-100)\n",
    "            else:\n",
    "                label_ids.append(label[word_idx])\n",
    "            prev_word_idx = word_idx\n",
    "        labels.append(label_ids)\n",
    "    \n",
    "    tokenized_inputs[\"labels\"] = labels\n",
    "    return tokenized_inputs"
   ]
  },
  {
   "attachments": {},
   "cell_type": "markdown",
   "metadata": {},
   "source": [
    "#### Apply Above Function to Tokenize Dataset"
   ]
  },
  {
   "cell_type": "code",
   "execution_count": 10,
   "metadata": {},
   "outputs": [
    {
     "name": "stderr",
     "output_type": "stream",
     "text": [
      "Loading cached processed dataset at /Users/briandunn/.cache/huggingface/datasets/tner___bionlp2004/bionlp2004/1.0.0/9f41d3f0270b773c2762dee333ae36c29331e2216114a57081f77639fdb5e904/cache-d1705a21fa18271d.arrow\n",
      "Loading cached processed dataset at /Users/briandunn/.cache/huggingface/datasets/tner___bionlp2004/bionlp2004/1.0.0/9f41d3f0270b773c2762dee333ae36c29331e2216114a57081f77639fdb5e904/cache-e035560a4a5185b0.arrow\n",
      "Loading cached processed dataset at /Users/briandunn/.cache/huggingface/datasets/tner___bionlp2004/bionlp2004/1.0.0/9f41d3f0270b773c2762dee333ae36c29331e2216114a57081f77639fdb5e904/cache-f0e4067f0b6b1413.arrow\n"
     ]
    }
   ],
   "source": [
    "encoded_ds = data.map(tokenize_and_align_labels, \n",
    "                       batched=True, \n",
    "                       remove_columns=\n",
    "                        [\n",
    "                            'tags', \n",
    "                            'tokens'\n",
    "                        ]\n",
    "                    )"
   ]
  },
  {
   "attachments": {},
   "cell_type": "markdown",
   "metadata": {},
   "source": [
    "#### Define Data Collator"
   ]
  },
  {
   "cell_type": "code",
   "execution_count": 11,
   "metadata": {},
   "outputs": [],
   "source": [
    "data_collator = DataCollatorForTokenClassification(tokenizer=tokenizer)"
   ]
  },
  {
   "attachments": {},
   "cell_type": "markdown",
   "metadata": {},
   "source": [
    "#### Load Custom Model"
   ]
  },
  {
   "cell_type": "code",
   "execution_count": 12,
   "metadata": {},
   "outputs": [
    {
     "name": "stderr",
     "output_type": "stream",
     "text": [
      "Some weights of the model checkpoint at bert-base-cased were not used when initializing BertForTokenClassification: ['cls.predictions.transform.dense.weight', 'cls.seq_relationship.bias', 'cls.predictions.bias', 'cls.predictions.transform.LayerNorm.weight', 'cls.predictions.transform.dense.bias', 'cls.seq_relationship.weight', 'cls.predictions.transform.LayerNorm.bias']\n",
      "- This IS expected if you are initializing BertForTokenClassification from the checkpoint of a model trained on another task or with another architecture (e.g. initializing a BertForSequenceClassification model from a BertForPreTraining model).\n",
      "- This IS NOT expected if you are initializing BertForTokenClassification from the checkpoint of a model that you expect to be exactly identical (initializing a BertForSequenceClassification model from a BertForSequenceClassification model).\n",
      "Some weights of BertForTokenClassification were not initialized from the model checkpoint at bert-base-cased and are newly initialized: ['classifier.weight', 'classifier.bias']\n",
      "You should probably TRAIN this model on a down-stream task to be able to use it for predictions and inference.\n"
     ]
    }
   ],
   "source": [
    "model = (AutoModelForTokenClassification.from_pretrained(\n",
    "    MODEL_CKPT,\n",
    "    num_labels=NUM_OF_LABELS,\n",
    "    id2label=id2label,\n",
    "    label2id=label2id\n",
    "    ).to(DEVICE))"
   ]
  },
  {
   "attachments": {},
   "cell_type": "markdown",
   "metadata": {},
   "source": [
    "#### Create Compute Metrics Function"
   ]
  },
  {
   "cell_type": "code",
   "execution_count": 13,
   "metadata": {},
   "outputs": [
    {
     "name": "stdout",
     "output_type": "stream",
     "text": [
      "['O', 'B-DNA', 'I-DNA', 'B-protein', 'I-protein', 'B-cell_type', 'I-cell_type', 'B-cell_line', 'I-cell_line', 'B-RNA', 'I-RNA']\n"
     ]
    }
   ],
   "source": [
    "label_list = tags\n",
    "\n",
    "print(label_list)"
   ]
  },
  {
   "cell_type": "code",
   "execution_count": 14,
   "metadata": {},
   "outputs": [],
   "source": [
    "seqeval = evaluate.load(\"seqeval\")\n",
    "\n",
    "labels = [tags[i] for i in example[f\"tags\"]]\n",
    "\n",
    "def compute_metrics(eval_preds):\n",
    "    predictions, labels = eval_preds\n",
    "    predictions = np.argmax(predictions, \n",
    "                            axis=2)\n",
    "    \n",
    "    true_predictions = [\n",
    "        [tags[p] for (p, l) in zip(prediction, label) if l != -100]\n",
    "        for prediction, label in zip(predictions, labels)\n",
    "    ]\n",
    "    \n",
    "    true_labels = [\n",
    "        [tags[l] for (p, l) in zip(prediction, label) if l != -100]\n",
    "        for prediction, label in zip(predictions, labels)\n",
    "    ]\n",
    "    \n",
    "    results = seqeval.compute(predictions=true_predictions, \n",
    "                              references=true_labels)\n",
    "    \n",
    "    return results"
   ]
  },
  {
   "attachments": {},
   "cell_type": "markdown",
   "metadata": {},
   "source": [
    "#### Define TrainingArguments"
   ]
  },
  {
   "cell_type": "code",
   "execution_count": 15,
   "metadata": {},
   "outputs": [],
   "source": [
    "args = TrainingArguments(\n",
    "    MODEL_NAME,\n",
    "    log_level=\"error\",\n",
    "    logging_first_step=True,\n",
    "    learning_rate=LR,\n",
    "    num_train_epochs=NUM_OF_EPOCHS,\n",
    "    per_device_train_batch_size=BATCH_SIZE,\n",
    "    per_device_eval_batch_size=BATCH_SIZE,\n",
    "    evaluation_strategy=STRATEGY,\n",
    "    report_to=REPORTS_TO,\n",
    "    disable_tqdm=False,\n",
    "    logging_steps=STEPS,\n",
    "    weight_decay=WEIGHT_DECAY,\n",
    "    save_strategy=STRATEGY,\n",
    "    hub_private_repo=True,\n",
    "    push_to_hub=True\n",
    ")"
   ]
  },
  {
   "attachments": {},
   "cell_type": "markdown",
   "metadata": {},
   "source": [
    "#### Define Trainer"
   ]
  },
  {
   "cell_type": "code",
   "execution_count": 16,
   "metadata": {},
   "outputs": [
    {
     "name": "stderr",
     "output_type": "stream",
     "text": [
      "Cloning https://huggingface.co/DunnBC22/bert-base-cased-finetuned-ner-bio_nlp_2004 into local empty directory.\n"
     ]
    }
   ],
   "source": [
    "trainer = Trainer(model, \n",
    "                  args=args,\n",
    "                  data_collator=data_collator,\n",
    "                  compute_metrics=compute_metrics,\n",
    "                  tokenizer=tokenizer,\n",
    "                  train_dataset=encoded_ds[\"train\"],\n",
    "                  eval_dataset=encoded_ds[\"test\"]\n",
    "                  )"
   ]
  },
  {
   "attachments": {},
   "cell_type": "markdown",
   "metadata": {},
   "source": [
    "#### Train Model"
   ]
  },
  {
   "cell_type": "code",
   "execution_count": 17,
   "metadata": {},
   "outputs": [
    {
     "name": "stderr",
     "output_type": "stream",
     "text": [
      "/Users/briandunn/Documents/deep_learning/dl/lib/python3.9/site-packages/transformers/optimization.py:391: FutureWarning: This implementation of AdamW is deprecated and will be removed in a future version. Use the PyTorch implementation torch.optim.AdamW instead, or set `no_deprecation_warning=True` to disable this warning\n",
      "  warnings.warn(\n"
     ]
    },
    {
     "data": {
      "application/vnd.jupyter.widget-view+json": {
       "model_id": "70e5329409d845c7a7b26c28916b9b66",
       "version_major": 2,
       "version_minor": 0
      },
      "text/plain": [
       "  0%|          | 0/3117 [00:00<?, ?it/s]"
      ]
     },
     "metadata": {},
     "output_type": "display_data"
    },
    {
     "name": "stdout",
     "output_type": "stream",
     "text": [
      "{'loss': 2.4176, 'learning_rate': 1.999358357394931e-05, 'epoch': 0.0}\n",
      "{'loss': 0.583, 'learning_rate': 1.9358357394931026e-05, 'epoch': 0.1}\n",
      "{'loss': 0.2819, 'learning_rate': 1.871671478986205e-05, 'epoch': 0.19}\n",
      "{'loss': 0.2311, 'learning_rate': 1.807507218479307e-05, 'epoch': 0.29}\n",
      "{'loss': 0.2207, 'learning_rate': 1.7433429579724095e-05, 'epoch': 0.38}\n",
      "{'loss': 0.1981, 'learning_rate': 1.679178697465512e-05, 'epoch': 0.48}\n",
      "{'loss': 0.1998, 'learning_rate': 1.6150144369586143e-05, 'epoch': 0.58}\n",
      "{'loss': 0.1983, 'learning_rate': 1.5508501764517164e-05, 'epoch': 0.67}\n",
      "{'loss': 0.1839, 'learning_rate': 1.4866859159448189e-05, 'epoch': 0.77}\n",
      "{'loss': 0.1834, 'learning_rate': 1.4225216554379211e-05, 'epoch': 0.87}\n",
      "{'loss': 0.1701, 'learning_rate': 1.3583573949310235e-05, 'epoch': 0.96}\n"
     ]
    },
    {
     "data": {
      "application/vnd.jupyter.widget-view+json": {
       "model_id": "bd93f2a63b6e4aabbb1f25b14b5f01f7",
       "version_major": 2,
       "version_minor": 0
      },
      "text/plain": [
       "  0%|          | 0/241 [00:00<?, ?it/s]"
      ]
     },
     "metadata": {},
     "output_type": "display_data"
    },
    {
     "name": "stdout",
     "output_type": "stream",
     "text": [
      "{'eval_loss': 0.19273489713668823, 'eval_DNA': {'precision': 0.6152610441767068, 'recall': 0.7253787878787878, 'f1': 0.6657974793568013, 'number': 1056}, 'eval_RNA': {'precision': 0.6616541353383458, 'recall': 0.7457627118644068, 'f1': 0.7011952191235059, 'number': 118}, 'eval_cell_line': {'precision': 0.46697388632872505, 'recall': 0.608, 'f1': 0.5282363162467419, 'number': 500}, 'eval_cell_type': {'precision': 0.6997455470737913, 'recall': 0.7157730348776679, 'f1': 0.7076685537828101, 'number': 1921}, 'eval_protein': {'precision': 0.6602894693062719, 'recall': 0.783303730017762, 'f1': 0.716555334897996, 'number': 5067}, 'eval_overall_precision': 0.6498750624687656, 'eval_overall_recall': 0.7506349572846918, 'eval_overall_f1': 0.6966304173139766, 'eval_overall_accuracy': 0.9352316478121876, 'eval_runtime': 382.8236, 'eval_samples_per_second': 10.073, 'eval_steps_per_second': 0.63, 'epoch': 1.0}\n",
      "{'loss': 0.161, 'learning_rate': 1.294193134424126e-05, 'epoch': 1.06}\n",
      "{'loss': 0.1474, 'learning_rate': 1.2300288739172282e-05, 'epoch': 1.15}\n",
      "{'loss': 0.1478, 'learning_rate': 1.1658646134103306e-05, 'epoch': 1.25}\n",
      "{'loss': 0.143, 'learning_rate': 1.1017003529034329e-05, 'epoch': 1.35}\n",
      "{'loss': 0.1486, 'learning_rate': 1.0375360923965351e-05, 'epoch': 1.44}\n",
      "{'loss': 0.1441, 'learning_rate': 9.733718318896375e-06, 'epoch': 1.54}\n",
      "{'loss': 0.146, 'learning_rate': 9.092075713827398e-06, 'epoch': 1.64}\n",
      "{'loss': 0.1399, 'learning_rate': 8.450433108758422e-06, 'epoch': 1.73}\n",
      "{'loss': 0.138, 'learning_rate': 7.808790503689445e-06, 'epoch': 1.83}\n",
      "{'loss': 0.145, 'learning_rate': 7.167147898620469e-06, 'epoch': 1.92}\n"
     ]
    },
    {
     "data": {
      "application/vnd.jupyter.widget-view+json": {
       "model_id": "74efd89f46974cbbbc92a57c7f66696b",
       "version_major": 2,
       "version_minor": 0
      },
      "text/plain": [
       "  0%|          | 0/241 [00:00<?, ?it/s]"
      ]
     },
     "metadata": {},
     "output_type": "display_data"
    },
    {
     "name": "stdout",
     "output_type": "stream",
     "text": [
      "{'eval_loss': 0.1981300711631775, 'eval_DNA': {'precision': 0.6364372469635627, 'recall': 0.7443181818181818, 'f1': 0.6861632474901789, 'number': 1056}, 'eval_RNA': {'precision': 0.6408450704225352, 'recall': 0.7711864406779662, 'f1': 0.7000000000000002, 'number': 118}, 'eval_cell_line': {'precision': 0.4606896551724138, 'recall': 0.668, 'f1': 0.5453061224489797, 'number': 500}, 'eval_cell_type': {'precision': 0.7375615090213231, 'recall': 0.7022384174908901, 'f1': 0.7194666666666666, 'number': 1921}, 'eval_protein': {'precision': 0.6758880340481257, 'recall': 0.8148805999605289, 'f1': 0.7389047959914101, 'number': 5067}, 'eval_overall_precision': 0.6662350597609562, 'eval_overall_recall': 0.7722235049642115, 'eval_overall_f1': 0.7153245642177307, 'eval_overall_accuracy': 0.9364193315320131, 'eval_runtime': 416.2901, 'eval_samples_per_second': 9.263, 'eval_steps_per_second': 0.579, 'epoch': 2.0}\n",
      "{'loss': 0.1378, 'learning_rate': 6.525505293551493e-06, 'epoch': 2.02}\n",
      "{'loss': 0.1224, 'learning_rate': 5.8838626884825156e-06, 'epoch': 2.12}\n",
      "{'loss': 0.1119, 'learning_rate': 5.24222008341354e-06, 'epoch': 2.21}\n",
      "{'loss': 0.1238, 'learning_rate': 4.600577478344562e-06, 'epoch': 2.31}\n",
      "{'loss': 0.1148, 'learning_rate': 3.958934873275586e-06, 'epoch': 2.41}\n",
      "{'loss': 0.126, 'learning_rate': 3.3172922682066094e-06, 'epoch': 2.5}\n",
      "{'loss': 0.1144, 'learning_rate': 2.675649663137633e-06, 'epoch': 2.6}\n",
      "{'loss': 0.1148, 'learning_rate': 2.034007058068656e-06, 'epoch': 2.69}\n",
      "{'loss': 0.116, 'learning_rate': 1.3923644529996793e-06, 'epoch': 2.79}\n",
      "{'loss': 0.1182, 'learning_rate': 7.507218479307027e-07, 'epoch': 2.89}\n",
      "{'loss': 0.1116, 'learning_rate': 1.0907924286172603e-07, 'epoch': 2.98}\n"
     ]
    },
    {
     "data": {
      "application/vnd.jupyter.widget-view+json": {
       "model_id": "01ba862b1ef64d479e003eb3e1a2af2e",
       "version_major": 2,
       "version_minor": 0
      },
      "text/plain": [
       "  0%|          | 0/241 [00:00<?, ?it/s]"
      ]
     },
     "metadata": {},
     "output_type": "display_data"
    },
    {
     "name": "stdout",
     "output_type": "stream",
     "text": [
      "{'eval_loss': 0.20655187964439392, 'eval_DNA': {'precision': 0.6619127516778524, 'recall': 0.7471590909090909, 'f1': 0.7019572953736656, 'number': 1056}, 'eval_RNA': {'precision': 0.589041095890411, 'recall': 0.7288135593220338, 'f1': 0.6515151515151515, 'number': 118}, 'eval_cell_line': {'precision': 0.4758522727272727, 'recall': 0.67, 'f1': 0.5564784053156145, 'number': 500}, 'eval_cell_type': {'precision': 0.7294117647058823, 'recall': 0.7100468505986466, 'f1': 0.7195990503824848, 'number': 1921}, 'eval_protein': {'precision': 0.6657656225155033, 'recall': 0.8263272153147819, 'f1': 0.7374075378654457, 'number': 5067}, 'eval_overall_precision': 0.6627781590040193, 'eval_overall_recall': 0.7805356730547218, 'eval_overall_f1': 0.71685309865875, 'eval_overall_accuracy': 0.936745944554965, 'eval_runtime': 406.1352, 'eval_samples_per_second': 9.494, 'eval_steps_per_second': 0.593, 'epoch': 3.0}\n",
      "{'train_runtime': 22380.9714, 'train_samples_per_second': 2.228, 'train_steps_per_second': 0.139, 'train_loss': 0.1687640313884942, 'epoch': 3.0}\n"
     ]
    }
   ],
   "source": [
    "train_results = trainer.train()"
   ]
  },
  {
   "attachments": {},
   "cell_type": "markdown",
   "metadata": {},
   "source": [
    "#### Push Model To Hub"
   ]
  },
  {
   "cell_type": "code",
   "execution_count": 18,
   "metadata": {},
   "outputs": [
    {
     "name": "stderr",
     "output_type": "stream",
     "text": [
      "Several commits (2) will be pushed upstream.\n",
      "The progress bars may be unreliable.\n"
     ]
    },
    {
     "data": {
      "application/vnd.jupyter.widget-view+json": {
       "model_id": "75673ba6c7b243ce8f1e547fed811758",
       "version_major": 2,
       "version_minor": 0
      },
      "text/plain": [
       "Upload file pytorch_model.bin:   0%|          | 1.00/411M [00:00<?, ?B/s]"
      ]
     },
     "metadata": {},
     "output_type": "display_data"
    },
    {
     "data": {
      "application/vnd.jupyter.widget-view+json": {
       "model_id": "4b7ea617636f4b079e7b1e03d83dccff",
       "version_major": 2,
       "version_minor": 0
      },
      "text/plain": [
       "Upload file runs/Jul03_23-31-49_Brians-Mac-mini.local/events.out.tfevents.1688445114.Brians-Mac-mini.local.108…"
      ]
     },
     "metadata": {},
     "output_type": "display_data"
    },
    {
     "name": "stderr",
     "output_type": "stream",
     "text": [
      "To https://huggingface.co/DunnBC22/bert-base-cased-finetuned-ner-bio_nlp_2004\n",
      "   63275fa..2863a28  main -> main\n",
      "\n",
      "To https://huggingface.co/DunnBC22/bert-base-cased-finetuned-ner-bio_nlp_2004\n",
      "   2863a28..bc39d78  main -> main\n",
      "\n"
     ]
    }
   ],
   "source": [
    "kwargs = {\n",
    "    \"tasks\": \"token-classification\",\n",
    "    \"tags\": ['token-classification'],\n",
    "}\n",
    "\n",
    "if args.push_to_hub:\n",
    "    trainer.push_to_hub('All DUNN!!!', **kwargs)\n",
    "else:\n",
    "    trainer.create_model_card(**kwargs)"
   ]
  },
  {
   "attachments": {},
   "cell_type": "markdown",
   "metadata": {},
   "source": [
    "#### Save & Log Model"
   ]
  },
  {
   "cell_type": "code",
   "execution_count": 19,
   "metadata": {},
   "outputs": [
    {
     "name": "stderr",
     "output_type": "stream",
     "text": [
      "To https://huggingface.co/DunnBC22/bert-base-cased-finetuned-ner-bio_nlp_2004\n",
      "   bc39d78..385a0ed  main -> main\n",
      "\n"
     ]
    },
    {
     "name": "stdout",
     "output_type": "stream",
     "text": [
      "***** train metrics *****\n",
      "  epoch                    =        3.0\n",
      "  train_loss               =     0.1688\n",
      "  train_runtime            = 6:13:00.97\n",
      "  train_samples_per_second =      2.228\n",
      "  train_steps_per_second   =      0.139\n"
     ]
    }
   ],
   "source": [
    "trainer.save_model()\n",
    "trainer.log_metrics(\"train\", train_results.metrics)\n",
    "trainer.save_metrics(\"train\", train_results.metrics)\n",
    "trainer.save_state()"
   ]
  },
  {
   "attachments": {},
   "cell_type": "markdown",
   "metadata": {},
   "source": [
    "### Error Analysis"
   ]
  },
  {
   "attachments": {},
   "cell_type": "markdown",
   "metadata": {},
   "source": [
    "#### Define Method to Apply to Validation Dataset (& Then Apply it)"
   ]
  },
  {
   "cell_type": "code",
   "execution_count": 23,
   "metadata": {},
   "outputs": [],
   "source": [
    "def forward_pass_with_label(batch):\n",
    "    # Convert dict of lists to list of dicts suitable for data collator\n",
    "    features = [dict(zip(batch, t)) for t in zip(*batch.values())]\n",
    "    # Pad inputs and labels and put all tensors on device\n",
    "    batch = data_collator(features)\n",
    "    input_ids = batch[\"input_ids\"].to(DEVICE)\n",
    "    attention_mask = batch[\"attention_mask\"].to(DEVICE)\n",
    "    labels = batch[\"labels\"].to(DEVICE)\n",
    "    with torch.no_grad():\n",
    "        # Pass data through model  \n",
    "        output = trainer.model(input_ids, \n",
    "                               attention_mask\n",
    "                               )\n",
    "        # Logit.size: [batch_size, sequence_length, classes]\n",
    "        predicted_label = torch.argmax(output.logits, \n",
    "                                       axis=-1\n",
    "                                       ).cpu().numpy()\n",
    "        \n",
    "    # Calculate loss per token after flattening batch dimension with view\n",
    "    loss = cross_entropy(output.logits.view(-1, 11), \n",
    "                         labels.view(-1), \n",
    "                         reduction=\"none\")\n",
    "    # Unflatten batch dimension and convert to numpy array\n",
    "    loss = loss.view(len(input_ids), -1).cpu().numpy()\n",
    "\n",
    "    return {\"loss\":loss, \"predicted_label\": predicted_label}"
   ]
  },
  {
   "attachments": {},
   "cell_type": "markdown",
   "metadata": {},
   "source": [
    "#### Apply Above Function to Entire Evaluation Dataset"
   ]
  },
  {
   "cell_type": "code",
   "execution_count": 24,
   "metadata": {},
   "outputs": [
    {
     "data": {
      "application/vnd.jupyter.widget-view+json": {
       "model_id": "46020beab7044449b754f903ffff8cb6",
       "version_major": 2,
       "version_minor": 0
      },
      "text/plain": [
       "Map:   0%|          | 0/1927 [00:00<?, ? examples/s]"
      ]
     },
     "metadata": {},
     "output_type": "display_data"
    }
   ],
   "source": [
    "eval_set = encoded_ds['validation']\n",
    "\n",
    "eval_set = eval_set.map(forward_pass_with_label,\n",
    "                        batched=True,\n",
    "                        batch_size=32)\n",
    "\n",
    "eval_df = eval_set.to_pandas()"
   ]
  },
  {
   "attachments": {},
   "cell_type": "markdown",
   "metadata": {},
   "source": [
    "#### Clean Up Padding Tokens"
   ]
  },
  {
   "cell_type": "code",
   "execution_count": 25,
   "metadata": {},
   "outputs": [
    {
     "data": {
      "text/html": [
       "<div>\n",
       "<style scoped>\n",
       "    .dataframe tbody tr th:only-of-type {\n",
       "        vertical-align: middle;\n",
       "    }\n",
       "\n",
       "    .dataframe tbody tr th {\n",
       "        vertical-align: top;\n",
       "    }\n",
       "\n",
       "    .dataframe thead th {\n",
       "        text-align: right;\n",
       "    }\n",
       "</style>\n",
       "<table border=\"1\" class=\"dataframe\">\n",
       "  <thead>\n",
       "    <tr style=\"text-align: right;\">\n",
       "      <th></th>\n",
       "      <th>input_ids</th>\n",
       "      <th>token_type_ids</th>\n",
       "      <th>attention_mask</th>\n",
       "      <th>labels</th>\n",
       "      <th>loss</th>\n",
       "      <th>predicted_label</th>\n",
       "      <th>input_tokens</th>\n",
       "    </tr>\n",
       "  </thead>\n",
       "  <tbody>\n",
       "    <tr>\n",
       "      <th>0</th>\n",
       "      <td>[101, 15393, 118, 123, 5565, 2838, 1105, 151, ...</td>\n",
       "      <td>[0, 0, 0, 0, 0, 0, 0, 0, 0, 0, 0, 0, 0, 0, 0, ...</td>\n",
       "      <td>[1, 1, 1, 1, 1, 1, 1, 1, 1, 1, 1, 1, 1, 1, 1, ...</td>\n",
       "      <td>[IGN, B-DNA, IGN, IGN, I-DNA, O, O, B-protein,...</td>\n",
       "      <td>[0.0, 1.0764759, 0.0, 0.0, 0.9523054, 0.000231...</td>\n",
       "      <td>[O, B-protein, O, I-DNA, O, O, O, B-protein, I...</td>\n",
       "      <td>[[CLS], IL, -, 2, gene, expression, and, N, ##...</td>\n",
       "    </tr>\n",
       "  </tbody>\n",
       "</table>\n",
       "</div>"
      ],
      "text/plain": [
       "                                           input_ids   \n",
       "0  [101, 15393, 118, 123, 5565, 2838, 1105, 151, ...  \\\n",
       "\n",
       "                                      token_type_ids   \n",
       "0  [0, 0, 0, 0, 0, 0, 0, 0, 0, 0, 0, 0, 0, 0, 0, ...  \\\n",
       "\n",
       "                                      attention_mask   \n",
       "0  [1, 1, 1, 1, 1, 1, 1, 1, 1, 1, 1, 1, 1, 1, 1, ...  \\\n",
       "\n",
       "                                              labels   \n",
       "0  [IGN, B-DNA, IGN, IGN, I-DNA, O, O, B-protein,...  \\\n",
       "\n",
       "                                                loss   \n",
       "0  [0.0, 1.0764759, 0.0, 0.0, 0.9523054, 0.000231...  \\\n",
       "\n",
       "                                     predicted_label   \n",
       "0  [O, B-protein, O, I-DNA, O, O, O, B-protein, I...  \\\n",
       "\n",
       "                                        input_tokens  \n",
       "0  [[CLS], IL, -, 2, gene, expression, and, N, ##...  "
      ]
     },
     "execution_count": 25,
     "metadata": {},
     "output_type": "execute_result"
    }
   ],
   "source": [
    "id2label[-100] = \"IGN\"\n",
    "eval_df[\"input_tokens\"] = eval_df[\"input_ids\"].apply(\n",
    "    lambda x: tokenizer.convert_ids_to_tokens(x))\n",
    "eval_df[\"predicted_label\"] = eval_df[\"predicted_label\"].apply(\n",
    "    lambda x: [id2label[i] for i in x])\n",
    "eval_df[\"labels\"] = eval_df[\"labels\"].apply(\n",
    "    lambda x: [id2label[i] for i in x])\n",
    "eval_df['loss'] = eval_df.apply(\n",
    "    lambda x: x['loss'][:len(x['input_ids'])], axis=1)\n",
    "eval_df['predicted_label'] = eval_df.apply(\n",
    "    lambda x: x['predicted_label'][:len(x['input_ids'])], axis=1)\n",
    "eval_df.head(1)"
   ]
  },
  {
   "attachments": {},
   "cell_type": "markdown",
   "metadata": {},
   "source": [
    "#### Unwrap Each Token Within Sample Separately"
   ]
  },
  {
   "cell_type": "code",
   "execution_count": 26,
   "metadata": {},
   "outputs": [
    {
     "data": {
      "text/html": [
       "<div>\n",
       "<style scoped>\n",
       "    .dataframe tbody tr th:only-of-type {\n",
       "        vertical-align: middle;\n",
       "    }\n",
       "\n",
       "    .dataframe tbody tr th {\n",
       "        vertical-align: top;\n",
       "    }\n",
       "\n",
       "    .dataframe thead th {\n",
       "        text-align: right;\n",
       "    }\n",
       "</style>\n",
       "<table border=\"1\" class=\"dataframe\">\n",
       "  <thead>\n",
       "    <tr style=\"text-align: right;\">\n",
       "      <th></th>\n",
       "      <th>input_ids</th>\n",
       "      <th>token_type_ids</th>\n",
       "      <th>attention_mask</th>\n",
       "      <th>labels</th>\n",
       "      <th>loss</th>\n",
       "      <th>predicted_label</th>\n",
       "      <th>input_tokens</th>\n",
       "    </tr>\n",
       "  </thead>\n",
       "  <tbody>\n",
       "    <tr>\n",
       "      <th>0</th>\n",
       "      <td>15393</td>\n",
       "      <td>0</td>\n",
       "      <td>1</td>\n",
       "      <td>B-DNA</td>\n",
       "      <td>1.08</td>\n",
       "      <td>B-protein</td>\n",
       "      <td>IL</td>\n",
       "    </tr>\n",
       "    <tr>\n",
       "      <th>0</th>\n",
       "      <td>5565</td>\n",
       "      <td>0</td>\n",
       "      <td>1</td>\n",
       "      <td>I-DNA</td>\n",
       "      <td>0.95</td>\n",
       "      <td>O</td>\n",
       "      <td>gene</td>\n",
       "    </tr>\n",
       "    <tr>\n",
       "      <th>0</th>\n",
       "      <td>2838</td>\n",
       "      <td>0</td>\n",
       "      <td>1</td>\n",
       "      <td>O</td>\n",
       "      <td>0.00</td>\n",
       "      <td>O</td>\n",
       "      <td>expression</td>\n",
       "    </tr>\n",
       "    <tr>\n",
       "      <th>0</th>\n",
       "      <td>1105</td>\n",
       "      <td>0</td>\n",
       "      <td>1</td>\n",
       "      <td>O</td>\n",
       "      <td>0.00</td>\n",
       "      <td>O</td>\n",
       "      <td>and</td>\n",
       "    </tr>\n",
       "    <tr>\n",
       "      <th>0</th>\n",
       "      <td>151</td>\n",
       "      <td>0</td>\n",
       "      <td>1</td>\n",
       "      <td>B-protein</td>\n",
       "      <td>0.01</td>\n",
       "      <td>B-protein</td>\n",
       "      <td>N</td>\n",
       "    </tr>\n",
       "    <tr>\n",
       "      <th>0</th>\n",
       "      <td>139</td>\n",
       "      <td>0</td>\n",
       "      <td>1</td>\n",
       "      <td>I-protein</td>\n",
       "      <td>0.01</td>\n",
       "      <td>I-protein</td>\n",
       "      <td>B</td>\n",
       "    </tr>\n",
       "    <tr>\n",
       "      <th>0</th>\n",
       "      <td>14915</td>\n",
       "      <td>0</td>\n",
       "      <td>1</td>\n",
       "      <td>O</td>\n",
       "      <td>0.00</td>\n",
       "      <td>O</td>\n",
       "      <td>activation</td>\n",
       "    </tr>\n",
       "  </tbody>\n",
       "</table>\n",
       "</div>"
      ],
      "text/plain": [
       "  input_ids token_type_ids attention_mask     labels  loss predicted_label   \n",
       "0     15393              0              1      B-DNA  1.08       B-protein  \\\n",
       "0      5565              0              1      I-DNA  0.95               O   \n",
       "0      2838              0              1          O  0.00               O   \n",
       "0      1105              0              1          O  0.00               O   \n",
       "0       151              0              1  B-protein  0.01       B-protein   \n",
       "0       139              0              1  I-protein  0.01       I-protein   \n",
       "0     14915              0              1          O  0.00               O   \n",
       "\n",
       "  input_tokens  \n",
       "0           IL  \n",
       "0         gene  \n",
       "0   expression  \n",
       "0          and  \n",
       "0            N  \n",
       "0            B  \n",
       "0   activation  "
      ]
     },
     "execution_count": 26,
     "metadata": {},
     "output_type": "execute_result"
    }
   ],
   "source": [
    "eval_df_tokens = eval_df.apply(pd.Series.explode)\n",
    "eval_df_tokens = eval_df_tokens.query(\"labels != 'IGN'\")\n",
    "eval_df_tokens[\"loss\"] = eval_df_tokens[\"loss\"].astype(float).round(2)\n",
    "eval_df_tokens.head(7)"
   ]
  },
  {
   "attachments": {},
   "cell_type": "markdown",
   "metadata": {},
   "source": [
    "#### See Which Tokens Have Accumulated Most Loss in Evaluation Dataset"
   ]
  },
  {
   "cell_type": "code",
   "execution_count": 27,
   "metadata": {},
   "outputs": [
    {
     "data": {
      "text/html": [
       "<div>\n",
       "<style scoped>\n",
       "    .dataframe tbody tr th:only-of-type {\n",
       "        vertical-align: middle;\n",
       "    }\n",
       "\n",
       "    .dataframe tbody tr th {\n",
       "        vertical-align: top;\n",
       "    }\n",
       "\n",
       "    .dataframe thead th {\n",
       "        text-align: right;\n",
       "    }\n",
       "</style>\n",
       "<table border=\"1\" class=\"dataframe\">\n",
       "  <thead>\n",
       "    <tr style=\"text-align: right;\">\n",
       "      <th></th>\n",
       "      <th>0</th>\n",
       "      <th>1</th>\n",
       "      <th>2</th>\n",
       "      <th>3</th>\n",
       "      <th>4</th>\n",
       "      <th>5</th>\n",
       "      <th>6</th>\n",
       "      <th>7</th>\n",
       "      <th>8</th>\n",
       "      <th>9</th>\n",
       "    </tr>\n",
       "  </thead>\n",
       "  <tbody>\n",
       "    <tr>\n",
       "      <th>input_tokens</th>\n",
       "      <td>T</td>\n",
       "      <td>cells</td>\n",
       "      <td>B</td>\n",
       "      <td>E</td>\n",
       "      <td>P</td>\n",
       "      <td>(</td>\n",
       "      <td>)</td>\n",
       "      <td>,</td>\n",
       "      <td>and</td>\n",
       "      <td>N</td>\n",
       "    </tr>\n",
       "    <tr>\n",
       "      <th>count</th>\n",
       "      <td>604</td>\n",
       "      <td>605</td>\n",
       "      <td>622</td>\n",
       "      <td>252</td>\n",
       "      <td>227</td>\n",
       "      <td>736</td>\n",
       "      <td>736</td>\n",
       "      <td>1823</td>\n",
       "      <td>1321</td>\n",
       "      <td>419</td>\n",
       "    </tr>\n",
       "    <tr>\n",
       "      <th>mean</th>\n",
       "      <td>0.476</td>\n",
       "      <td>0.394</td>\n",
       "      <td>0.373</td>\n",
       "      <td>0.622</td>\n",
       "      <td>0.67</td>\n",
       "      <td>0.199</td>\n",
       "      <td>0.199</td>\n",
       "      <td>0.079</td>\n",
       "      <td>0.103</td>\n",
       "      <td>0.303</td>\n",
       "    </tr>\n",
       "    <tr>\n",
       "      <th>sum</th>\n",
       "      <td>287.66</td>\n",
       "      <td>238.29</td>\n",
       "      <td>231.81</td>\n",
       "      <td>156.78</td>\n",
       "      <td>152.09</td>\n",
       "      <td>146.79</td>\n",
       "      <td>146.66</td>\n",
       "      <td>144.54</td>\n",
       "      <td>136.42</td>\n",
       "      <td>127.13</td>\n",
       "    </tr>\n",
       "  </tbody>\n",
       "</table>\n",
       "</div>"
      ],
      "text/plain": [
       "                   0       1       2       3       4       5       6       7   \n",
       "input_tokens       T   cells       B       E       P       (       )       ,  \\\n",
       "count            604     605     622     252     227     736     736    1823   \n",
       "mean           0.476   0.394   0.373   0.622    0.67   0.199   0.199   0.079   \n",
       "sum           287.66  238.29  231.81  156.78  152.09  146.79  146.66  144.54   \n",
       "\n",
       "                   8       9  \n",
       "input_tokens     and       N  \n",
       "count           1321     419  \n",
       "mean           0.103   0.303  \n",
       "sum           136.42  127.13  "
      ]
     },
     "execution_count": 27,
     "metadata": {},
     "output_type": "execute_result"
    }
   ],
   "source": [
    "(\n",
    "    eval_df_tokens.groupby(\"input_tokens\")[[\"loss\"]]\n",
    "    .agg([\"count\", \"mean\", \"sum\"])\n",
    "    .droplevel(level=0, axis=1)  # Get rid of multi-level columns\n",
    "    .sort_values(by=\"sum\", ascending=False)\n",
    "    .reset_index()\n",
    "    .round(3)\n",
    "    .head(10)\n",
    "    .T\n",
    ")"
   ]
  },
  {
   "attachments": {},
   "cell_type": "markdown",
   "metadata": {},
   "source": [
    "#### See Which Label IDs Have Most Loss in Evaluation Dataset"
   ]
  },
  {
   "cell_type": "code",
   "execution_count": 28,
   "metadata": {},
   "outputs": [
    {
     "data": {
      "text/html": [
       "<div>\n",
       "<style scoped>\n",
       "    .dataframe tbody tr th:only-of-type {\n",
       "        vertical-align: middle;\n",
       "    }\n",
       "\n",
       "    .dataframe tbody tr th {\n",
       "        vertical-align: top;\n",
       "    }\n",
       "\n",
       "    .dataframe thead th {\n",
       "        text-align: right;\n",
       "    }\n",
       "</style>\n",
       "<table border=\"1\" class=\"dataframe\">\n",
       "  <thead>\n",
       "    <tr style=\"text-align: right;\">\n",
       "      <th></th>\n",
       "      <th>0</th>\n",
       "      <th>1</th>\n",
       "      <th>2</th>\n",
       "      <th>3</th>\n",
       "      <th>4</th>\n",
       "      <th>5</th>\n",
       "      <th>6</th>\n",
       "      <th>7</th>\n",
       "      <th>8</th>\n",
       "      <th>9</th>\n",
       "      <th>10</th>\n",
       "    </tr>\n",
       "  </thead>\n",
       "  <tbody>\n",
       "    <tr>\n",
       "      <th>labels</th>\n",
       "      <td>B-cell_type</td>\n",
       "      <td>B-DNA</td>\n",
       "      <td>B-RNA</td>\n",
       "      <td>I-cell_line</td>\n",
       "      <td>B-cell_line</td>\n",
       "      <td>I-cell_type</td>\n",
       "      <td>I-RNA</td>\n",
       "      <td>I-DNA</td>\n",
       "      <td>B-protein</td>\n",
       "      <td>I-protein</td>\n",
       "      <td>O</td>\n",
       "    </tr>\n",
       "    <tr>\n",
       "      <th>count</th>\n",
       "      <td>628</td>\n",
       "      <td>1260</td>\n",
       "      <td>131</td>\n",
       "      <td>940</td>\n",
       "      <td>505</td>\n",
       "      <td>696</td>\n",
       "      <td>189</td>\n",
       "      <td>2100</td>\n",
       "      <td>3029</td>\n",
       "      <td>2743</td>\n",
       "      <td>38603</td>\n",
       "    </tr>\n",
       "    <tr>\n",
       "      <th>mean</th>\n",
       "      <td>0.639</td>\n",
       "      <td>0.586</td>\n",
       "      <td>0.554</td>\n",
       "      <td>0.544</td>\n",
       "      <td>0.515</td>\n",
       "      <td>0.376</td>\n",
       "      <td>0.373</td>\n",
       "      <td>0.366</td>\n",
       "      <td>0.356</td>\n",
       "      <td>0.321</td>\n",
       "      <td>0.081</td>\n",
       "    </tr>\n",
       "    <tr>\n",
       "      <th>sum</th>\n",
       "      <td>401.09</td>\n",
       "      <td>738.1</td>\n",
       "      <td>72.52</td>\n",
       "      <td>510.92</td>\n",
       "      <td>259.91</td>\n",
       "      <td>261.98</td>\n",
       "      <td>70.46</td>\n",
       "      <td>768.54</td>\n",
       "      <td>1079.32</td>\n",
       "      <td>880.98</td>\n",
       "      <td>3123.59</td>\n",
       "    </tr>\n",
       "  </tbody>\n",
       "</table>\n",
       "</div>"
      ],
      "text/plain": [
       "                 0      1      2            3            4            5    \n",
       "labels  B-cell_type  B-DNA  B-RNA  I-cell_line  B-cell_line  I-cell_type  \\\n",
       "count           628   1260    131          940          505          696   \n",
       "mean          0.639  0.586  0.554        0.544        0.515        0.376   \n",
       "sum          401.09  738.1  72.52       510.92       259.91       261.98   \n",
       "\n",
       "           6       7          8          9        10  \n",
       "labels  I-RNA   I-DNA  B-protein  I-protein        O  \n",
       "count     189    2100       3029       2743    38603  \n",
       "mean    0.373   0.366      0.356      0.321    0.081  \n",
       "sum     70.46  768.54    1079.32     880.98  3123.59  "
      ]
     },
     "execution_count": 28,
     "metadata": {},
     "output_type": "execute_result"
    }
   ],
   "source": [
    "(\n",
    "    eval_df_tokens.groupby(\"labels\")[[\"loss\"]] \n",
    "    .agg([\"count\", \"mean\", \"sum\"])\n",
    "    .droplevel(level=0, axis=1)\n",
    "    .sort_values(by=\"mean\", ascending=False)\n",
    "    .reset_index()\n",
    "    .round(3)\n",
    "    .fillna(0)\n",
    "    .T\n",
    ")"
   ]
  },
  {
   "attachments": {},
   "cell_type": "markdown",
   "metadata": {},
   "source": [
    "#### Create Function to Display Confusion Matrix"
   ]
  },
  {
   "cell_type": "code",
   "execution_count": 35,
   "metadata": {},
   "outputs": [],
   "source": [
    "def plot_confusion_matrix(y_preds, y_true, labels):\n",
    "    cm = confusion_matrix(y_true, y_preds, normalize=\"true\")\n",
    "    fig, ax = plt.subplots(figsize=(12, 12))\n",
    "    disp = ConfusionMatrixDisplay(confusion_matrix=cm, display_labels=labels)\n",
    "    disp.plot(cmap=\"Blues\", values_format=\".2f\", ax=ax, colorbar=False)\n",
    "    plt.title(\"Normalized confusion matrix\")\n",
    "    plt.show()"
   ]
  },
  {
   "attachments": {},
   "cell_type": "markdown",
   "metadata": {},
   "source": [
    "#### Display Confusion Matrix"
   ]
  },
  {
   "cell_type": "code",
   "execution_count": 36,
   "metadata": {},
   "outputs": [
    {
     "data": {
      "image/png": "[encoded data removed]",
      "text/plain": [
       "<Figure size 1200x1200 with 1 Axes>"
      ]
     },
     "metadata": {},
     "output_type": "display_data"
    }
   ],
   "source": [
    "eval_token_list = list(set(eval_df_tokens['labels']))\n",
    "\n",
    "plot_confusion_matrix(eval_df_tokens[\"labels\"], eval_df_tokens[\"predicted_label\"],\n",
    "                      eval_token_list)"
   ]
  },
  {
   "attachments": {},
   "cell_type": "markdown",
   "metadata": {},
   "source": [
    "### Notes & Other Takeaways From This Project\n",
    "\n",
    "****\n",
    "- It looks like the model overpredicted B-DNA tokens in this model. Also, it looks like the model confused B-Protein tokens for B-Cell Type's.\n",
    "\n",
    "****"
   ]
  },
  {
   "attachments": {},
   "cell_type": "markdown",
   "metadata": {},
   "source": [
    "### Citations\n",
    "\n",
    "- Model Checkpoint\n",
    "\n",
    "    > @article{DBLP:journals/corr/abs-1810-04805, author = {Jacob Devlin and Ming{-}Wei Chang and Kenton Lee and Kristina Toutanova}, title = {{BERT:} Pre-training of Deep Bidirectional Transformers for Language Understanding}, journal = {CoRR}, volume = {abs/1810.04805}, year = {2018}, url = {http://arxiv.org/abs/1810.04805}, archivePrefix = {arXiv}, eprint = {1810.04805}, timestamp = {Tue, 30 Oct 2018 20:39:56 +0100}, biburl = {https://dblp.org/rec/journals/corr/abs-1810-04805.bib}, bibsource = {dblp computer science bibliography, https://dblp.org}}\n",
    "\n",
    "- Dataset\n",
    "\n",
    "    > @inproceedings{collier-kim-2004-introduction, title = \"Introduction to the Bio-entity Recognition Task at {JNLPBA}\", author = \"Collier, Nigel and Kim, Jin-Dong\", booktitle = \"Proceedings of the International Joint Workshop on Natural Language Processing in Biomedicine and its Applications ({NLPBA}/{B}io{NLP})\", month = aug # \" 28th and 29th\", year = \"2004\", address = \"Geneva, Switzerland\", publisher = \"COLING\", url = \"https://aclanthology.org/W04-1213\", pages = \"73--78\",}\n",
    "\n",
    "- Metric (SeqEval)\n",
    "\n",
    "    > @inproceedings{ramshaw-marcus-1995-text, title = \"Text Chunking using Transformation-Based Learning\", author = \"Ramshaw, Lance and Marcus, Mitch\", booktitle = \"Third Workshop on Very Large Corpora\", year = \"1995\", url = \"https://www.aclweb.org/anthology/W95-0107\",}\n",
    "    \n",
    "    > @misc{seqeval, title={{seqeval}: A Python framework for sequence labeling evaluation}, url={https://github.com/chakki-works/seqeval}, note={Software available from https://github.com/chakki-works/seqeval}, author={Hiroki Nakayama}, year={2018},}"
   ]
  }
 ],
 "metadata": {
  "kernelspec": {
   "display_name": "dl",
   "language": "python",
   "name": "python3"
  },
  "language_info": {
   "codemirror_mode": {
    "name": "ipython",
    "version": 3
   },
   "file_extension": ".py",
   "mimetype": "text/x-python",
   "name": "python",
   "nbconvert_exporter": "python",
   "pygments_lexer": "ipython3",
   "version": "3.9.12"
  },
  "orig_nbformat": 4
 },
 "nbformat": 4,
 "nbformat_minor": 2
}
