{
 "cells": [
  {
   "attachments": {},
   "cell_type": "markdown",
   "metadata": {},
   "source": [
    "## Monolingual Named Entity Recognition (Stromberg NLP Twitter P.o.S. Dataset)\n",
    "\n",
    "Dataset Source: https://huggingface.co/datasets/strombergnlp/twitter_pos_vcb"
   ]
  },
  {
   "attachments": {},
   "cell_type": "markdown",
   "metadata": {},
   "source": [
    "#### Import Necessary Libraries"
   ]
  },
  {
   "cell_type": "code",
   "execution_count": 2,
   "metadata": {},
   "outputs": [
    {
     "name": "stdout",
     "output_type": "stream",
     "text": [
      "Git LFS initialized.\n"
     ]
    }
   ],
   "source": [
    "import os, sys\n",
    "from collections import Counter, defaultdict\n",
    "os.environ['TOKENIZERS_PARALLELISM']='false'\n",
    "\n",
    "import pandas as pd\n",
    "import numpy as np\n",
    "import matplotlib.pyplot as plt\n",
    "\n",
    "import sklearn\n",
    "from sklearn.metrics import confusion_matrix, ConfusionMatrixDisplay\n",
    "\n",
    "import datasets\n",
    "from datasets import load_dataset, DatasetDict\n",
    "\n",
    "import torch\n",
    "from torch.nn.functional import cross_entropy\n",
    "\n",
    "import transformers\n",
    "from transformers import AutoTokenizer, AutoModelForTokenClassification\n",
    "from transformers import DataCollatorForTokenClassification\n",
    "from transformers import Trainer, TrainingArguments\n",
    "\n",
    "import evaluate\n",
    "\n",
    "!git lfs install"
   ]
  },
  {
   "attachments": {},
   "cell_type": "markdown",
   "metadata": {},
   "source": [
    "#### Display Library Versions"
   ]
  },
  {
   "cell_type": "code",
   "execution_count": 3,
   "metadata": {},
   "outputs": [
    {
     "name": "stdout",
     "output_type": "stream",
     "text": [
      "          Python : 3.9.12\n",
      "           NumPy : 1.24.3\n",
      "          Pandas : 2.0.1\n",
      "           Torch : 2.0.0\n",
      "    Transformers : 4.28.1\n",
      "        datasets : 2.11.0\n",
      "         Sklearn : 1.2.2\n"
     ]
    }
   ],
   "source": [
    "print(\"Python :\".rjust(18), sys.version[0:6])\n",
    "print(\"NumPy :\".rjust(18), np.__version__)\n",
    "print(\"Pandas :\".rjust(18), pd.__version__)\n",
    "print(\"Torch :\".rjust(18), torch.__version__)\n",
    "print(\"Transformers :\".rjust(18), transformers.__version__)\n",
    "print(\"datasets :\".rjust(18), datasets.__version__)\n",
    "print(\"Sklearn :\".rjust(18), sklearn.__version__)"
   ]
  },
  {
   "attachments": {},
   "cell_type": "markdown",
   "metadata": {},
   "source": [
    "#### Ingest English Subset of Dataset"
   ]
  },
  {
   "cell_type": "code",
   "execution_count": 4,
   "metadata": {},
   "outputs": [
    {
     "name": "stderr",
     "output_type": "stream",
     "text": [
      "Found cached dataset twitter_pos_vcb (/Users/briandunn/.cache/huggingface/datasets/strombergnlp___twitter_pos_vcb/twitter-pos-vcb/1.0.0/2c671a933c7ffb84cf124a1f987cd73fb883e6b3628ee4a01f5326f5aefc296a)\n"
     ]
    },
    {
     "data": {
      "application/vnd.jupyter.widget-view+json": {
       "model_id": "c3de061201384d11b382764c1b8092ef",
       "version_major": 2,
       "version_minor": 0
      },
      "text/plain": [
       "  0%|          | 0/1 [00:00<?, ?it/s]"
      ]
     },
     "metadata": {},
     "output_type": "display_data"
    },
    {
     "data": {
      "text/plain": [
       "DatasetDict({\n",
       "    train: Dataset({\n",
       "        features: ['id', 'tokens', 'pos_tags'],\n",
       "        num_rows: 159492\n",
       "    })\n",
       "})"
      ]
     },
     "execution_count": 4,
     "metadata": {},
     "output_type": "execute_result"
    }
   ],
   "source": [
    "data = load_dataset(\"strombergnlp/twitter_pos_vcb\")\n",
    "\n",
    "data"
   ]
  },
  {
   "attachments": {},
   "cell_type": "markdown",
   "metadata": {},
   "source": [
    "#### Split Dataset into DatasetDict"
   ]
  },
  {
   "cell_type": "code",
   "execution_count": 5,
   "metadata": {},
   "outputs": [
    {
     "name": "stdout",
     "output_type": "stream",
     "text": [
      "Training data shape: (119619, 3)\n",
      "Testing data shape: (31899, 3)\n",
      "Validation data shape: (7974, 3)\n"
     ]
    }
   ],
   "source": [
    "# Split Dataset into train/test/eval datasets\n",
    "# then pack all of them into DatasetDict\n",
    "train_testvalid = data['train'].train_test_split(test_size=0.25)\n",
    "test_valid = train_testvalid['test'].train_test_split(test_size=0.80)\n",
    "\n",
    "ds = DatasetDict({\n",
    "    'train': train_testvalid['train'], \n",
    "    'test': test_valid['test'], \n",
    "    'eval': test_valid['train']})\n",
    "\n",
    "print('Training data shape:', ds['train'].shape)\n",
    "print('Testing data shape:', ds['test'].shape)\n",
    "print('Validation data shape:', ds['eval'].shape)"
   ]
  },
  {
   "attachments": {},
   "cell_type": "markdown",
   "metadata": {},
   "source": [
    "#### Example"
   ]
  },
  {
   "cell_type": "code",
   "execution_count": 6,
   "metadata": {},
   "outputs": [
    {
     "data": {
      "text/plain": [
       "{'id': '96776',\n",
       " 'tokens': ['RT',\n",
       "  '@CAmatty13',\n",
       "  ':',\n",
       "  'We',\n",
       "  'are',\n",
       "  'getting',\n",
       "  'married',\n",
       "  'you',\n",
       "  'just',\n",
       "  'do',\n",
       "  'know',\n",
       "  'yet'],\n",
       " 'pos_tags': [47, 49, 8, 28, 41, 39, 38, 28, 30, 41, 37, 30]}"
      ]
     },
     "execution_count": 6,
     "metadata": {},
     "output_type": "execute_result"
    }
   ],
   "source": [
    "example = ds['train'][12]\n",
    "\n",
    "example"
   ]
  },
  {
   "attachments": {},
   "cell_type": "markdown",
   "metadata": {},
   "source": [
    "#### Display Feature Information About Each Feature"
   ]
  },
  {
   "cell_type": "code",
   "execution_count": 7,
   "metadata": {},
   "outputs": [
    {
     "name": "stdout",
     "output_type": "stream",
     "text": [
      "id: \n",
      "Value(dtype='string', id=None)\n",
      "\n",
      "tokens: \n",
      "Sequence(feature=Value(dtype='string', id=None), length=-1, id=None)\n",
      "\n",
      "pos_tags: \n",
      "Sequence(feature=ClassLabel(names=['\"', \"''\", '#', '$', '(', ')', ',', '.', ':', '``', 'CC', 'CD', 'DT', 'EX', 'FW', 'IN', 'JJ', 'JJR', 'JJS', 'LS', 'MD', 'NN', 'NNP', 'NNPS', 'NNS', 'NN|SYM', 'PDT', 'POS', 'PRP', 'PRP$', 'RB', 'RBR', 'RBS', 'RP', 'SYM', 'TO', 'UH', 'VB', 'VBD', 'VBG', 'VBN', 'VBP', 'VBZ', 'WDT', 'WP', 'WP$', 'WRB', 'RT', 'HT', 'USR', 'URL'], id=None), length=-1, id=None)\n",
      "\n"
     ]
    }
   ],
   "source": [
    "for k, v in ds[\"train\"].features.items():\n",
    "    print(f\"{k}: \\n{v}\\n\")"
   ]
  },
  {
   "attachments": {},
   "cell_type": "markdown",
   "metadata": {},
   "source": [
    "#### Define Tag Values & Conversions Between String & Integer Values"
   ]
  },
  {
   "cell_type": "code",
   "execution_count": 8,
   "metadata": {},
   "outputs": [
    {
     "name": "stdout",
     "output_type": "stream",
     "text": [
      "List of tag values: \n",
      "['\"', \"''\", '#', '$', '(', ')', ',', '.', ':', '``', 'CC', 'CD', 'DT', 'EX', 'FW', 'IN', 'JJ', 'JJR', 'JJS', 'LS', 'MD', 'NN', 'NNP', 'NNPS', 'NNS', 'NN|SYM', 'PDT', 'POS', 'PRP', 'PRP$', 'RB', 'RBR', 'RBS', 'RP', 'SYM', 'TO', 'UH', 'VB', 'VBD', 'VBG', 'VBN', 'VBP', 'VBZ', 'WDT', 'WP', 'WP$', 'WRB', 'RT', 'HT', 'USR', 'URL']\n",
      "Number of NER Tags: \n",
      "51\n",
      "id2label: \n",
      "{0: '\"', 1: \"''\", 2: '#', 3: '$', 4: '(', 5: ')', 6: ',', 7: '.', 8: ':', 9: '``', 10: 'CC', 11: 'CD', 12: 'DT', 13: 'EX', 14: 'FW', 15: 'IN', 16: 'JJ', 17: 'JJR', 18: 'JJS', 19: 'LS', 20: 'MD', 21: 'NN', 22: 'NNP', 23: 'NNPS', 24: 'NNS', 25: 'NN|SYM', 26: 'PDT', 27: 'POS', 28: 'PRP', 29: 'PRP$', 30: 'RB', 31: 'RBR', 32: 'RBS', 33: 'RP', 34: 'SYM', 35: 'TO', 36: 'UH', 37: 'VB', 38: 'VBD', 39: 'VBG', 40: 'VBN', 41: 'VBP', 42: 'VBZ', 43: 'WDT', 44: 'WP', 45: 'WP$', 46: 'WRB', 47: 'RT', 48: 'HT', 49: 'USR', 50: 'URL'}\n",
      "label2id: \n",
      "{'\"': 0, \"''\": 1, '#': 2, '$': 3, '(': 4, ')': 5, ',': 6, '.': 7, ':': 8, '``': 9, 'CC': 10, 'CD': 11, 'DT': 12, 'EX': 13, 'FW': 14, 'IN': 15, 'JJ': 16, 'JJR': 17, 'JJS': 18, 'LS': 19, 'MD': 20, 'NN': 21, 'NNP': 22, 'NNPS': 23, 'NNS': 24, 'NN|SYM': 25, 'PDT': 26, 'POS': 27, 'PRP': 28, 'PRP$': 29, 'RB': 30, 'RBR': 31, 'RBS': 32, 'RP': 33, 'SYM': 34, 'TO': 35, 'UH': 36, 'VB': 37, 'VBD': 38, 'VBG': 39, 'VBN': 40, 'VBP': 41, 'VBZ': 42, 'WDT': 43, 'WP': 44, 'WP$': 45, 'WRB': 46, 'RT': 47, 'HT': 48, 'USR': 49, 'URL': 50}\n"
     ]
    }
   ],
   "source": [
    "pos_tag_values = ds['train'].features[f'pos_tags'].feature.names\n",
    "NUM_OF_LABELS = len(pos_tag_values)\n",
    "\n",
    "label2id = {tag: idx for idx, tag in enumerate(pos_tag_values)}\n",
    "id2label = {idx: tag for idx, tag in enumerate(pos_tag_values)}\n",
    "\n",
    "print(f\"List of tag values: \\n{pos_tag_values}\")\n",
    "print(f\"Number of NER Tags: \\n{NUM_OF_LABELS}\")\n",
    "print(f\"id2label: \\n{id2label}\")\n",
    "print(f\"label2id: \\n{label2id}\")"
   ]
  },
  {
   "attachments": {},
   "cell_type": "markdown",
   "metadata": {},
   "source": [
    "#### Basic Values/Constants"
   ]
  },
  {
   "cell_type": "code",
   "execution_count": 9,
   "metadata": {},
   "outputs": [],
   "source": [
    "MODEL_CKPT = \"bert-base-cased\"\n",
    "\n",
    "MODEL_NAME = f\"{MODEL_CKPT}-finetuned-Stromberg_NLP_Twitter-PoS\"\n",
    "NUM_OF_EPOCHS = 3\n",
    "\n",
    "BATCH_SIZE = 16\n",
    "STRATEGY = \"epoch\"\n",
    "\n",
    "REPORTS_TO = \"tensorboard\"\n",
    "WEIGHT_DECAY = 0.01\n",
    "\n",
    "LR = 2e-5\n",
    "DEVICE = torch.device(\"cpu\")\n",
    "\n",
    "STEPS = 500"
   ]
  },
  {
   "attachments": {},
   "cell_type": "markdown",
   "metadata": {},
   "source": [
    "#### Function to Tokenize & Align Inputs"
   ]
  },
  {
   "cell_type": "code",
   "execution_count": 10,
   "metadata": {},
   "outputs": [],
   "source": [
    "tokenizer = AutoTokenizer.from_pretrained(MODEL_CKPT)\n",
    "\n",
    "def tokenize_and_align_labels(samples):\n",
    "    tokenized_inputs = tokenizer(samples[\"tokens\"], \n",
    "                                      truncation=True, \n",
    "                                      is_split_into_words=True)\n",
    "    \n",
    "    labels = []\n",
    "    \n",
    "    for idx, label in enumerate(samples[f\"pos_tags\"]):\n",
    "        word_ids = tokenized_inputs.word_ids(batch_index=idx)\n",
    "        prev_word_idx = None\n",
    "        label_ids = []\n",
    "        for word_idx in word_ids: # set special tokens to -100\n",
    "            if word_idx is None or word_idx == prev_word_idx:\n",
    "                label_ids.append(-100)\n",
    "            else:\n",
    "                label_ids.append(label[word_idx])\n",
    "            prev_word_idx = word_idx\n",
    "        labels.append(label_ids)\n",
    "    \n",
    "    tokenized_inputs[\"labels\"] = labels\n",
    "    return tokenized_inputs"
   ]
  },
  {
   "attachments": {},
   "cell_type": "markdown",
   "metadata": {},
   "source": [
    "#### Apply Above Function to Tokenize Dataset"
   ]
  },
  {
   "cell_type": "code",
   "execution_count": 11,
   "metadata": {},
   "outputs": [
    {
     "data": {
      "application/vnd.jupyter.widget-view+json": {
       "model_id": "e98ed091ecce4a0a95a52a85ee49987c",
       "version_major": 2,
       "version_minor": 0
      },
      "text/plain": [
       "Map:   0%|          | 0/119619 [00:00<?, ? examples/s]"
      ]
     },
     "metadata": {},
     "output_type": "display_data"
    },
    {
     "data": {
      "application/vnd.jupyter.widget-view+json": {
       "model_id": "7fe2fd95b66b406c95f1c552c976638b",
       "version_major": 2,
       "version_minor": 0
      },
      "text/plain": [
       "Map:   0%|          | 0/31899 [00:00<?, ? examples/s]"
      ]
     },
     "metadata": {},
     "output_type": "display_data"
    },
    {
     "data": {
      "application/vnd.jupyter.widget-view+json": {
       "model_id": "1b68bce24e09404aa1d86487bddb15de",
       "version_major": 2,
       "version_minor": 0
      },
      "text/plain": [
       "Map:   0%|          | 0/7974 [00:00<?, ? examples/s]"
      ]
     },
     "metadata": {},
     "output_type": "display_data"
    }
   ],
   "source": [
    "encoded_ds = ds.map(tokenize_and_align_labels, \n",
    "                       batched=True, \n",
    "                       remove_columns=\n",
    "                        [\n",
    "                            'pos_tags', \n",
    "                            'tokens'\n",
    "                        ]\n",
    "                    )"
   ]
  },
  {
   "attachments": {},
   "cell_type": "markdown",
   "metadata": {},
   "source": [
    "#### Define Data Collator"
   ]
  },
  {
   "cell_type": "code",
   "execution_count": 12,
   "metadata": {},
   "outputs": [],
   "source": [
    "data_collator = DataCollatorForTokenClassification(tokenizer=tokenizer)"
   ]
  },
  {
   "attachments": {},
   "cell_type": "markdown",
   "metadata": {},
   "source": [
    "#### Load Custom Model"
   ]
  },
  {
   "cell_type": "code",
   "execution_count": 13,
   "metadata": {},
   "outputs": [
    {
     "name": "stderr",
     "output_type": "stream",
     "text": [
      "Some weights of the model checkpoint at bert-base-cased were not used when initializing BertForTokenClassification: ['cls.seq_relationship.weight', 'cls.seq_relationship.bias', 'cls.predictions.transform.LayerNorm.weight', 'cls.predictions.transform.dense.bias', 'cls.predictions.bias', 'cls.predictions.transform.LayerNorm.bias', 'cls.predictions.transform.dense.weight']\n",
      "- This IS expected if you are initializing BertForTokenClassification from the checkpoint of a model trained on another task or with another architecture (e.g. initializing a BertForSequenceClassification model from a BertForPreTraining model).\n",
      "- This IS NOT expected if you are initializing BertForTokenClassification from the checkpoint of a model that you expect to be exactly identical (initializing a BertForSequenceClassification model from a BertForSequenceClassification model).\n",
      "Some weights of BertForTokenClassification were not initialized from the model checkpoint at bert-base-cased and are newly initialized: ['classifier.bias', 'classifier.weight']\n",
      "You should probably TRAIN this model on a down-stream task to be able to use it for predictions and inference.\n"
     ]
    }
   ],
   "source": [
    "model = (AutoModelForTokenClassification.from_pretrained(\n",
    "    MODEL_CKPT,\n",
    "    num_labels=NUM_OF_LABELS,\n",
    "    id2label=id2label,\n",
    "    label2id=label2id\n",
    "    ).to(DEVICE))"
   ]
  },
  {
   "attachments": {},
   "cell_type": "markdown",
   "metadata": {},
   "source": [
    "#### Create Compute Metrics Function"
   ]
  },
  {
   "cell_type": "code",
   "execution_count": 14,
   "metadata": {},
   "outputs": [],
   "source": [
    "label_list = pos_tag_values\n",
    "\n",
    "seqeval = evaluate.load(\"seqeval\")\n",
    "\n",
    "labels = [label_list[i] for i in example[f'pos_tags']]\n",
    "\n",
    "def compute_metrics(eval_preds):\n",
    "    predictions, labels = eval_preds\n",
    "    predictions = np.argmax(predictions, \n",
    "                            axis=2)\n",
    "    \n",
    "    true_predictions = [\n",
    "        [label_list[p] for (p, l) in zip(prediction, label) if l != -100]\n",
    "        for prediction, label in zip(predictions, labels)\n",
    "    ]\n",
    "    \n",
    "    true_labels = [\n",
    "        [label_list[l] for (p, l) in zip(prediction, label) if l != -100]\n",
    "        for prediction, label in zip(predictions, labels)\n",
    "    ]\n",
    "    \n",
    "    results = seqeval.compute(predictions=true_predictions, \n",
    "                              references=true_labels)\n",
    "    \n",
    "    return results"
   ]
  },
  {
   "attachments": {},
   "cell_type": "markdown",
   "metadata": {},
   "source": [
    "#### Define TrainingArguments"
   ]
  },
  {
   "cell_type": "code",
   "execution_count": 15,
   "metadata": {},
   "outputs": [],
   "source": [
    "args = TrainingArguments(\n",
    "    MODEL_NAME,\n",
    "    log_level=\"error\",\n",
    "    logging_first_step=True,\n",
    "    learning_rate=LR,\n",
    "    num_train_epochs=NUM_OF_EPOCHS,\n",
    "    per_device_train_batch_size=BATCH_SIZE,\n",
    "    per_device_eval_batch_size=BATCH_SIZE,\n",
    "    evaluation_strategy=STRATEGY,\n",
    "    report_to=REPORTS_TO,\n",
    "    disable_tqdm=False,\n",
    "    logging_steps=STEPS,\n",
    "    weight_decay=WEIGHT_DECAY,\n",
    "    save_strategy=STRATEGY,\n",
    "    hub_private_repo=True,\n",
    "    push_to_hub=True\n",
    ")"
   ]
  },
  {
   "attachments": {},
   "cell_type": "markdown",
   "metadata": {},
   "source": [
    "#### Define Trainer"
   ]
  },
  {
   "cell_type": "code",
   "execution_count": 16,
   "metadata": {},
   "outputs": [
    {
     "name": "stderr",
     "output_type": "stream",
     "text": [
      "Cloning https://huggingface.co/DunnBC22/bert-base-cased-finetuned-Stromberg_NLP_Twitter-PoS into local empty directory.\n"
     ]
    }
   ],
   "source": [
    "trainer = Trainer(model, \n",
    "                  args=args,\n",
    "                  data_collator=data_collator,\n",
    "                  compute_metrics=compute_metrics,\n",
    "                  tokenizer=tokenizer,\n",
    "                  train_dataset=encoded_ds[\"train\"],\n",
    "                  eval_dataset=encoded_ds[\"test\"]\n",
    "                  )"
   ]
  },
  {
   "attachments": {},
   "cell_type": "markdown",
   "metadata": {},
   "source": [
    "#### Train Model"
   ]
  },
  {
   "cell_type": "code",
   "execution_count": 17,
   "metadata": {},
   "outputs": [
    {
     "name": "stderr",
     "output_type": "stream",
     "text": [
      "/Users/briandunn/Documents/deep_learning/dl/lib/python3.9/site-packages/transformers/optimization.py:391: FutureWarning: This implementation of AdamW is deprecated and will be removed in a future version. Use the PyTorch implementation torch.optim.AdamW instead, or set `no_deprecation_warning=True` to disable this warning\n",
      "  warnings.warn(\n"
     ]
    },
    {
     "data": {
      "application/vnd.jupyter.widget-view+json": {
       "model_id": "ba103ac12f81481984a6b35752cec45c",
       "version_major": 2,
       "version_minor": 0
      },
      "text/plain": [
       "  0%|          | 0/22431 [00:00<?, ?it/s]"
      ]
     },
     "metadata": {},
     "output_type": "display_data"
    },
    {
     "name": "stdout",
     "output_type": "stream",
     "text": [
      "{'loss': 3.9467, 'learning_rate': 1.9999108376799965e-05, 'epoch': 0.0}\n",
      "{'loss': 0.5493, 'learning_rate': 1.9554188399982172e-05, 'epoch': 0.07}\n",
      "{'loss': 0.1294, 'learning_rate': 1.9108376799964335e-05, 'epoch': 0.13}\n",
      "{'loss': 0.1118, 'learning_rate': 1.8662565199946505e-05, 'epoch': 0.2}\n",
      "{'loss': 0.1006, 'learning_rate': 1.8216753599928672e-05, 'epoch': 0.27}\n",
      "{'loss': 0.0932, 'learning_rate': 1.777094199991084e-05, 'epoch': 0.33}\n",
      "{'loss': 0.0856, 'learning_rate': 1.7325130399893006e-05, 'epoch': 0.4}\n",
      "{'loss': 0.0801, 'learning_rate': 1.6879318799875176e-05, 'epoch': 0.47}\n",
      "{'loss': 0.0791, 'learning_rate': 1.6433507199857343e-05, 'epoch': 0.53}\n",
      "{'loss': 0.0769, 'learning_rate': 1.598769559983951e-05, 'epoch': 0.6}\n",
      "{'loss': 0.0725, 'learning_rate': 1.5541883999821676e-05, 'epoch': 0.67}\n",
      "{'loss': 0.0674, 'learning_rate': 1.5096072399803845e-05, 'epoch': 0.74}\n",
      "{'loss': 0.0683, 'learning_rate': 1.4650260799786012e-05, 'epoch': 0.8}\n",
      "{'loss': 0.064, 'learning_rate': 1.420444919976818e-05, 'epoch': 0.87}\n",
      "{'loss': 0.0617, 'learning_rate': 1.3758637599750347e-05, 'epoch': 0.94}\n"
     ]
    },
    {
     "data": {
      "application/vnd.jupyter.widget-view+json": {
       "model_id": "d8cdcaf8e6d34e358f72313a425f8227",
       "version_major": 2,
       "version_minor": 0
      },
      "text/plain": [
       "  0%|          | 0/1994 [00:00<?, ?it/s]"
      ]
     },
     "metadata": {},
     "output_type": "display_data"
    },
    {
     "name": "stderr",
     "output_type": "stream",
     "text": [
      "/Users/briandunn/Documents/deep_learning/dl/lib/python3.9/site-packages/seqeval/metrics/sequence_labeling.py:171: UserWarning: HT seems not to be NE tag.\n",
      "  warnings.warn('{} seems not to be NE tag.'.format(chunk))\n",
      "/Users/briandunn/Documents/deep_learning/dl/lib/python3.9/site-packages/seqeval/metrics/sequence_labeling.py:171: UserWarning: VBP seems not to be NE tag.\n",
      "  warnings.warn('{} seems not to be NE tag.'.format(chunk))\n",
      "/Users/briandunn/Documents/deep_learning/dl/lib/python3.9/site-packages/seqeval/metrics/sequence_labeling.py:171: UserWarning: JJ seems not to be NE tag.\n",
      "  warnings.warn('{} seems not to be NE tag.'.format(chunk))\n",
      "/Users/briandunn/Documents/deep_learning/dl/lib/python3.9/site-packages/seqeval/metrics/sequence_labeling.py:171: UserWarning: NNS seems not to be NE tag.\n",
      "  warnings.warn('{} seems not to be NE tag.'.format(chunk))\n",
      "/Users/briandunn/Documents/deep_learning/dl/lib/python3.9/site-packages/seqeval/metrics/sequence_labeling.py:171: UserWarning: IN seems not to be NE tag.\n",
      "  warnings.warn('{} seems not to be NE tag.'.format(chunk))\n",
      "/Users/briandunn/Documents/deep_learning/dl/lib/python3.9/site-packages/seqeval/metrics/sequence_labeling.py:171: UserWarning: PRP seems not to be NE tag.\n",
      "  warnings.warn('{} seems not to be NE tag.'.format(chunk))\n",
      "/Users/briandunn/Documents/deep_learning/dl/lib/python3.9/site-packages/seqeval/metrics/sequence_labeling.py:171: UserWarning: . seems not to be NE tag.\n",
      "  warnings.warn('{} seems not to be NE tag.'.format(chunk))\n",
      "/Users/briandunn/Documents/deep_learning/dl/lib/python3.9/site-packages/seqeval/metrics/sequence_labeling.py:171: UserWarning: DT seems not to be NE tag.\n",
      "  warnings.warn('{} seems not to be NE tag.'.format(chunk))\n",
      "/Users/briandunn/Documents/deep_learning/dl/lib/python3.9/site-packages/seqeval/metrics/sequence_labeling.py:171: UserWarning: NN seems not to be NE tag.\n",
      "  warnings.warn('{} seems not to be NE tag.'.format(chunk))\n",
      "/Users/briandunn/Documents/deep_learning/dl/lib/python3.9/site-packages/seqeval/metrics/sequence_labeling.py:171: UserWarning: WRB seems not to be NE tag.\n",
      "  warnings.warn('{} seems not to be NE tag.'.format(chunk))\n",
      "/Users/briandunn/Documents/deep_learning/dl/lib/python3.9/site-packages/seqeval/metrics/sequence_labeling.py:171: UserWarning: CC seems not to be NE tag.\n",
      "  warnings.warn('{} seems not to be NE tag.'.format(chunk))\n",
      "/Users/briandunn/Documents/deep_learning/dl/lib/python3.9/site-packages/seqeval/metrics/sequence_labeling.py:171: UserWarning: PRP$ seems not to be NE tag.\n",
      "  warnings.warn('{} seems not to be NE tag.'.format(chunk))\n",
      "/Users/briandunn/Documents/deep_learning/dl/lib/python3.9/site-packages/seqeval/metrics/sequence_labeling.py:171: UserWarning: RT seems not to be NE tag.\n",
      "  warnings.warn('{} seems not to be NE tag.'.format(chunk))\n",
      "/Users/briandunn/Documents/deep_learning/dl/lib/python3.9/site-packages/seqeval/metrics/sequence_labeling.py:171: UserWarning: USR seems not to be NE tag.\n",
      "  warnings.warn('{} seems not to be NE tag.'.format(chunk))\n",
      "/Users/briandunn/Documents/deep_learning/dl/lib/python3.9/site-packages/seqeval/metrics/sequence_labeling.py:171: UserWarning: : seems not to be NE tag.\n",
      "  warnings.warn('{} seems not to be NE tag.'.format(chunk))\n",
      "/Users/briandunn/Documents/deep_learning/dl/lib/python3.9/site-packages/seqeval/metrics/sequence_labeling.py:171: UserWarning: VBZ seems not to be NE tag.\n",
      "  warnings.warn('{} seems not to be NE tag.'.format(chunk))\n",
      "/Users/briandunn/Documents/deep_learning/dl/lib/python3.9/site-packages/seqeval/metrics/sequence_labeling.py:171: UserWarning: VBD seems not to be NE tag.\n",
      "  warnings.warn('{} seems not to be NE tag.'.format(chunk))\n",
      "/Users/briandunn/Documents/deep_learning/dl/lib/python3.9/site-packages/seqeval/metrics/sequence_labeling.py:171: UserWarning: TO seems not to be NE tag.\n",
      "  warnings.warn('{} seems not to be NE tag.'.format(chunk))\n",
      "/Users/briandunn/Documents/deep_learning/dl/lib/python3.9/site-packages/seqeval/metrics/sequence_labeling.py:171: UserWarning: VB seems not to be NE tag.\n",
      "  warnings.warn('{} seems not to be NE tag.'.format(chunk))\n",
      "/Users/briandunn/Documents/deep_learning/dl/lib/python3.9/site-packages/seqeval/metrics/sequence_labeling.py:171: UserWarning: URL seems not to be NE tag.\n",
      "  warnings.warn('{} seems not to be NE tag.'.format(chunk))\n",
      "/Users/briandunn/Documents/deep_learning/dl/lib/python3.9/site-packages/seqeval/metrics/sequence_labeling.py:171: UserWarning: RB seems not to be NE tag.\n",
      "  warnings.warn('{} seems not to be NE tag.'.format(chunk))\n",
      "/Users/briandunn/Documents/deep_learning/dl/lib/python3.9/site-packages/seqeval/metrics/sequence_labeling.py:171: UserWarning: VBG seems not to be NE tag.\n",
      "  warnings.warn('{} seems not to be NE tag.'.format(chunk))\n",
      "/Users/briandunn/Documents/deep_learning/dl/lib/python3.9/site-packages/seqeval/metrics/sequence_labeling.py:171: UserWarning: UH seems not to be NE tag.\n",
      "  warnings.warn('{} seems not to be NE tag.'.format(chunk))\n",
      "/Users/briandunn/Documents/deep_learning/dl/lib/python3.9/site-packages/seqeval/metrics/sequence_labeling.py:171: UserWarning: MD seems not to be NE tag.\n",
      "  warnings.warn('{} seems not to be NE tag.'.format(chunk))\n",
      "/Users/briandunn/Documents/deep_learning/dl/lib/python3.9/site-packages/seqeval/metrics/sequence_labeling.py:171: UserWarning: WP seems not to be NE tag.\n",
      "  warnings.warn('{} seems not to be NE tag.'.format(chunk))\n",
      "/Users/briandunn/Documents/deep_learning/dl/lib/python3.9/site-packages/seqeval/metrics/sequence_labeling.py:171: UserWarning: NNP seems not to be NE tag.\n",
      "  warnings.warn('{} seems not to be NE tag.'.format(chunk))\n",
      "/Users/briandunn/Documents/deep_learning/dl/lib/python3.9/site-packages/seqeval/metrics/sequence_labeling.py:171: UserWarning: , seems not to be NE tag.\n",
      "  warnings.warn('{} seems not to be NE tag.'.format(chunk))\n",
      "/Users/briandunn/Documents/deep_learning/dl/lib/python3.9/site-packages/seqeval/metrics/sequence_labeling.py:171: UserWarning: VBN seems not to be NE tag.\n",
      "  warnings.warn('{} seems not to be NE tag.'.format(chunk))\n",
      "/Users/briandunn/Documents/deep_learning/dl/lib/python3.9/site-packages/seqeval/metrics/sequence_labeling.py:171: UserWarning: POS seems not to be NE tag.\n",
      "  warnings.warn('{} seems not to be NE tag.'.format(chunk))\n",
      "/Users/briandunn/Documents/deep_learning/dl/lib/python3.9/site-packages/seqeval/metrics/sequence_labeling.py:171: UserWarning: CD seems not to be NE tag.\n",
      "  warnings.warn('{} seems not to be NE tag.'.format(chunk))\n",
      "/Users/briandunn/Documents/deep_learning/dl/lib/python3.9/site-packages/seqeval/metrics/sequence_labeling.py:171: UserWarning: JJS seems not to be NE tag.\n",
      "  warnings.warn('{} seems not to be NE tag.'.format(chunk))\n",
      "/Users/briandunn/Documents/deep_learning/dl/lib/python3.9/site-packages/seqeval/metrics/sequence_labeling.py:171: UserWarning: JJR seems not to be NE tag.\n",
      "  warnings.warn('{} seems not to be NE tag.'.format(chunk))\n",
      "/Users/briandunn/Documents/deep_learning/dl/lib/python3.9/site-packages/seqeval/metrics/sequence_labeling.py:171: UserWarning: RP seems not to be NE tag.\n",
      "  warnings.warn('{} seems not to be NE tag.'.format(chunk))\n",
      "/Users/briandunn/Documents/deep_learning/dl/lib/python3.9/site-packages/seqeval/metrics/sequence_labeling.py:171: UserWarning: ) seems not to be NE tag.\n",
      "  warnings.warn('{} seems not to be NE tag.'.format(chunk))\n",
      "/Users/briandunn/Documents/deep_learning/dl/lib/python3.9/site-packages/seqeval/metrics/sequence_labeling.py:171: UserWarning: `` seems not to be NE tag.\n",
      "  warnings.warn('{} seems not to be NE tag.'.format(chunk))\n",
      "/Users/briandunn/Documents/deep_learning/dl/lib/python3.9/site-packages/seqeval/metrics/sequence_labeling.py:171: UserWarning: '' seems not to be NE tag.\n",
      "  warnings.warn('{} seems not to be NE tag.'.format(chunk))\n",
      "/Users/briandunn/Documents/deep_learning/dl/lib/python3.9/site-packages/seqeval/metrics/sequence_labeling.py:171: UserWarning: ( seems not to be NE tag.\n",
      "  warnings.warn('{} seems not to be NE tag.'.format(chunk))\n",
      "/Users/briandunn/Documents/deep_learning/dl/lib/python3.9/site-packages/seqeval/metrics/sequence_labeling.py:171: UserWarning: RBS seems not to be NE tag.\n",
      "  warnings.warn('{} seems not to be NE tag.'.format(chunk))\n",
      "/Users/briandunn/Documents/deep_learning/dl/lib/python3.9/site-packages/seqeval/metrics/sequence_labeling.py:171: UserWarning: RBR seems not to be NE tag.\n",
      "  warnings.warn('{} seems not to be NE tag.'.format(chunk))\n",
      "/Users/briandunn/Documents/deep_learning/dl/lib/python3.9/site-packages/seqeval/metrics/sequence_labeling.py:171: UserWarning: WDT seems not to be NE tag.\n",
      "  warnings.warn('{} seems not to be NE tag.'.format(chunk))\n",
      "/Users/briandunn/Documents/deep_learning/dl/lib/python3.9/site-packages/seqeval/metrics/sequence_labeling.py:171: UserWarning: NNPS seems not to be NE tag.\n",
      "  warnings.warn('{} seems not to be NE tag.'.format(chunk))\n",
      "/Users/briandunn/Documents/deep_learning/dl/lib/python3.9/site-packages/seqeval/metrics/sequence_labeling.py:171: UserWarning: EX seems not to be NE tag.\n",
      "  warnings.warn('{} seems not to be NE tag.'.format(chunk))\n",
      "/Users/briandunn/Documents/deep_learning/dl/lib/python3.9/site-packages/seqeval/metrics/sequence_labeling.py:171: UserWarning: FW seems not to be NE tag.\n",
      "  warnings.warn('{} seems not to be NE tag.'.format(chunk))\n",
      "/Users/briandunn/Documents/deep_learning/dl/lib/python3.9/site-packages/seqeval/metrics/sequence_labeling.py:171: UserWarning: SYM seems not to be NE tag.\n",
      "  warnings.warn('{} seems not to be NE tag.'.format(chunk))\n",
      "/Users/briandunn/Documents/deep_learning/dl/lib/python3.9/site-packages/seqeval/metrics/sequence_labeling.py:171: UserWarning: PDT seems not to be NE tag.\n",
      "  warnings.warn('{} seems not to be NE tag.'.format(chunk))\n",
      "/Users/briandunn/Documents/deep_learning/dl/lib/python3.9/site-packages/seqeval/metrics/v1.py:57: UndefinedMetricWarning: Precision and F-score are ill-defined and being set to 0.0 in labels with no predicted samples. Use `zero_division` parameter to control this behavior.\n",
      "  _warn_prf(average, modifier, msg_start, len(result))\n"
     ]
    },
    {
     "name": "stdout",
     "output_type": "stream",
     "text": [
      "{'eval_loss': 0.059514690190553665, \"eval_'\": {'precision': 0.9331210191082803, 'recall': 0.9391025641025641, 'f1': 0.9361022364217252, 'number': 312}, 'eval_B': {'precision': 0.9562652403051994, 'recall': 0.9536397866331974, 'f1': 0.9549507089273791, 'number': 25496}, 'eval_BD': {'precision': 0.9716325380424573, 'recall': 0.9322278298485941, 'f1': 0.9515223990433264, 'number': 5548}, 'eval_BG': {'precision': 0.9810585944414941, 'recall': 0.9786332332685855, 'f1': 0.9798444130127298, 'number': 5663}, 'eval_BN': {'precision': 0.8725314183123878, 'recall': 0.9230769230769231, 'f1': 0.8970927549607752, 'number': 2106}, 'eval_BP': {'precision': 0.9555667442885015, 'recall': 0.9585832438916598, 'f1': 0.9570726172465961, 'number': 15839}, 'eval_BR': {'precision': 0.8878504672897196, 'recall': 0.8878504672897196, 'f1': 0.8878504672897196, 'number': 107}, 'eval_BS': {'precision': 0.8589743589743589, 'recall': 1.0, 'f1': 0.9241379310344827, 'number': 67}, 'eval_BZ': {'precision': 0.9792873442162542, 'recall': 0.9834302838004583, 'f1': 0.9813544415127529, 'number': 5673}, 'eval_C': {'precision': 0.998475277717273, 'recall': 0.999128160418483, 'f1': 0.9988016123760759, 'number': 4588}, 'eval_D': {'precision': 0.9818369757826344, 'recall': 0.9885518881950639, 'f1': 0.9851829900726033, 'number': 6726}, 'eval_DT': {'precision': 1.0, 'recall': 0.8, 'f1': 0.888888888888889, 'number': 15}, 'eval_H': {'precision': 0.9391025641025641, 'recall': 0.9105438401775805, 'f1': 0.9246027273751831, 'number': 9010}, 'eval_J': {'precision': 0.9706609264131388, 'recall': 0.9765781663591883, 'f1': 0.973610555777689, 'number': 12467}, 'eval_JR': {'precision': 0.9211538461538461, 'recall': 0.9676767676767677, 'f1': 0.9438423645320195, 'number': 495}, 'eval_JS': {'precision': 0.9226973684210527, 'recall': 0.9756521739130435, 'f1': 0.94843617920541, 'number': 575}, 'eval_N': {'precision': 0.9754043126684636, 'recall': 0.9738394659214408, 'f1': 0.9746212611679399, 'number': 38646}, 'eval_NP': {'precision': 0.9158227848101266, 'recall': 0.9200445080273406, 'f1': 0.9179287923241615, 'number': 6291}, 'eval_NPS': {'precision': 0.0, 'recall': 0.0, 'f1': 0.0, 'number': 26}, 'eval_NS': {'precision': 0.965710643722116, 'recall': 0.9687979539641943, 'f1': 0.9672518353016277, 'number': 7820}, 'eval_O': {'precision': 0.9972154542290289, 'recall': 0.9989539748953975, 'f1': 0.9980839574986937, 'number': 5736}, 'eval_OS': {'precision': 1.0, 'recall': 0.9928400954653938, 'f1': 0.9964071856287425, 'number': 419}, 'eval_P': {'precision': 0.9771428571428571, 'recall': 0.99079754601227, 'f1': 0.9839228295819935, 'number': 2934}, 'eval_RB': {'precision': 0.9947874899759422, 'recall': 0.9967858577742065, 'f1': 0.99578567128236, 'number': 2489}, 'eval_RL': {'precision': 1.0, 'recall': 0.9997228381374723, 'f1': 0.9998613998613999, 'number': 3608}, 'eval_RP': {'precision': 0.9970126960418223, 'recall': 0.9976222826086957, 'f1': 0.9973173961764407, 'number': 29440}, 'eval_RP$': {'precision': 0.9973994452149791, 'recall': 0.9953287197231834, 'f1': 0.9963630065812261, 'number': 5780}, 'eval_SR': {'precision': 0.9998384665087228, 'recall': 0.9997846336079255, 'f1': 0.9998115493336922, 'number': 18573}, 'eval_T': {'precision': 0.9976884595480421, 'recall': 0.9982050396962375, 'f1': 0.9979466827711155, 'number': 28970}, 'eval_W': {'precision': 0.0, 'recall': 0.0, 'f1': 0.0, 'number': 1}, 'eval_X': {'precision': 0.8860759493670886, 'recall': 0.9459459459459459, 'f1': 0.9150326797385621, 'number': 74}, 'eval_YM': {'precision': 0.0, 'recall': 0.0, 'f1': 0.0, 'number': 5}, 'eval__': {'precision': 0.9936347529365444, 'recall': 0.9925925925925926, 'f1': 0.9931133993572506, 'number': 15255}, 'eval_`': {'precision': 0.9540229885057471, 'recall': 0.9595375722543352, 'f1': 0.956772334293948, 'number': 173}, 'eval_overall_precision': 0.9778566086939848, 'eval_overall_recall': 0.9772120171542232, 'eval_overall_f1': 0.9775342066622962, 'eval_overall_accuracy': 0.9820657081787647, 'eval_runtime': 1947.4181, 'eval_samples_per_second': 16.38, 'eval_steps_per_second': 1.024, 'epoch': 1.0}\n",
      "{'loss': 0.0627, 'learning_rate': 1.3312825999732516e-05, 'epoch': 1.0}\n",
      "{'loss': 0.0461, 'learning_rate': 1.286701439971468e-05, 'epoch': 1.07}\n",
      "{'loss': 0.0462, 'learning_rate': 1.242120279969685e-05, 'epoch': 1.14}\n",
      "{'loss': 0.0459, 'learning_rate': 1.1975391199679016e-05, 'epoch': 1.2}\n",
      "{'loss': 0.0444, 'learning_rate': 1.1529579599661185e-05, 'epoch': 1.27}\n",
      "{'loss': 0.0451, 'learning_rate': 1.1083767999643351e-05, 'epoch': 1.34}\n",
      "{'loss': 0.0432, 'learning_rate': 1.063795639962552e-05, 'epoch': 1.4}\n",
      "{'loss': 0.0461, 'learning_rate': 1.0192144799607687e-05, 'epoch': 1.47}\n",
      "{'loss': 0.042, 'learning_rate': 9.746333199589853e-06, 'epoch': 1.54}\n",
      "{'loss': 0.0429, 'learning_rate': 9.300521599572022e-06, 'epoch': 1.6}\n",
      "{'loss': 0.0422, 'learning_rate': 8.85470999955419e-06, 'epoch': 1.67}\n",
      "{'loss': 0.0405, 'learning_rate': 8.408898399536357e-06, 'epoch': 1.74}\n",
      "{'loss': 0.0408, 'learning_rate': 7.963086799518524e-06, 'epoch': 1.81}\n",
      "{'loss': 0.039, 'learning_rate': 7.517275199500692e-06, 'epoch': 1.87}\n",
      "{'loss': 0.0407, 'learning_rate': 7.071463599482859e-06, 'epoch': 1.94}\n"
     ]
    },
    {
     "data": {
      "application/vnd.jupyter.widget-view+json": {
       "model_id": "8208ffaf77fd4b36b505c005585f5f45",
       "version_major": 2,
       "version_minor": 0
      },
      "text/plain": [
       "  0%|          | 0/1994 [00:00<?, ?it/s]"
      ]
     },
     "metadata": {},
     "output_type": "display_data"
    },
    {
     "name": "stderr",
     "output_type": "stream",
     "text": [
      "/Users/briandunn/Documents/deep_learning/dl/lib/python3.9/site-packages/seqeval/metrics/sequence_labeling.py:171: UserWarning: HT seems not to be NE tag.\n",
      "  warnings.warn('{} seems not to be NE tag.'.format(chunk))\n",
      "/Users/briandunn/Documents/deep_learning/dl/lib/python3.9/site-packages/seqeval/metrics/sequence_labeling.py:171: UserWarning: VBP seems not to be NE tag.\n",
      "  warnings.warn('{} seems not to be NE tag.'.format(chunk))\n",
      "/Users/briandunn/Documents/deep_learning/dl/lib/python3.9/site-packages/seqeval/metrics/sequence_labeling.py:171: UserWarning: JJ seems not to be NE tag.\n",
      "  warnings.warn('{} seems not to be NE tag.'.format(chunk))\n",
      "/Users/briandunn/Documents/deep_learning/dl/lib/python3.9/site-packages/seqeval/metrics/sequence_labeling.py:171: UserWarning: NNS seems not to be NE tag.\n",
      "  warnings.warn('{} seems not to be NE tag.'.format(chunk))\n",
      "/Users/briandunn/Documents/deep_learning/dl/lib/python3.9/site-packages/seqeval/metrics/sequence_labeling.py:171: UserWarning: IN seems not to be NE tag.\n",
      "  warnings.warn('{} seems not to be NE tag.'.format(chunk))\n",
      "/Users/briandunn/Documents/deep_learning/dl/lib/python3.9/site-packages/seqeval/metrics/sequence_labeling.py:171: UserWarning: PRP seems not to be NE tag.\n",
      "  warnings.warn('{} seems not to be NE tag.'.format(chunk))\n",
      "/Users/briandunn/Documents/deep_learning/dl/lib/python3.9/site-packages/seqeval/metrics/sequence_labeling.py:171: UserWarning: . seems not to be NE tag.\n",
      "  warnings.warn('{} seems not to be NE tag.'.format(chunk))\n",
      "/Users/briandunn/Documents/deep_learning/dl/lib/python3.9/site-packages/seqeval/metrics/sequence_labeling.py:171: UserWarning: DT seems not to be NE tag.\n",
      "  warnings.warn('{} seems not to be NE tag.'.format(chunk))\n",
      "/Users/briandunn/Documents/deep_learning/dl/lib/python3.9/site-packages/seqeval/metrics/sequence_labeling.py:171: UserWarning: NN seems not to be NE tag.\n",
      "  warnings.warn('{} seems not to be NE tag.'.format(chunk))\n",
      "/Users/briandunn/Documents/deep_learning/dl/lib/python3.9/site-packages/seqeval/metrics/sequence_labeling.py:171: UserWarning: WRB seems not to be NE tag.\n",
      "  warnings.warn('{} seems not to be NE tag.'.format(chunk))\n",
      "/Users/briandunn/Documents/deep_learning/dl/lib/python3.9/site-packages/seqeval/metrics/sequence_labeling.py:171: UserWarning: CC seems not to be NE tag.\n",
      "  warnings.warn('{} seems not to be NE tag.'.format(chunk))\n",
      "/Users/briandunn/Documents/deep_learning/dl/lib/python3.9/site-packages/seqeval/metrics/sequence_labeling.py:171: UserWarning: PRP$ seems not to be NE tag.\n",
      "  warnings.warn('{} seems not to be NE tag.'.format(chunk))\n",
      "/Users/briandunn/Documents/deep_learning/dl/lib/python3.9/site-packages/seqeval/metrics/sequence_labeling.py:171: UserWarning: RT seems not to be NE tag.\n",
      "  warnings.warn('{} seems not to be NE tag.'.format(chunk))\n",
      "/Users/briandunn/Documents/deep_learning/dl/lib/python3.9/site-packages/seqeval/metrics/sequence_labeling.py:171: UserWarning: USR seems not to be NE tag.\n",
      "  warnings.warn('{} seems not to be NE tag.'.format(chunk))\n",
      "/Users/briandunn/Documents/deep_learning/dl/lib/python3.9/site-packages/seqeval/metrics/sequence_labeling.py:171: UserWarning: : seems not to be NE tag.\n",
      "  warnings.warn('{} seems not to be NE tag.'.format(chunk))\n",
      "/Users/briandunn/Documents/deep_learning/dl/lib/python3.9/site-packages/seqeval/metrics/sequence_labeling.py:171: UserWarning: VBZ seems not to be NE tag.\n",
      "  warnings.warn('{} seems not to be NE tag.'.format(chunk))\n",
      "/Users/briandunn/Documents/deep_learning/dl/lib/python3.9/site-packages/seqeval/metrics/sequence_labeling.py:171: UserWarning: VBD seems not to be NE tag.\n",
      "  warnings.warn('{} seems not to be NE tag.'.format(chunk))\n",
      "/Users/briandunn/Documents/deep_learning/dl/lib/python3.9/site-packages/seqeval/metrics/sequence_labeling.py:171: UserWarning: TO seems not to be NE tag.\n",
      "  warnings.warn('{} seems not to be NE tag.'.format(chunk))\n",
      "/Users/briandunn/Documents/deep_learning/dl/lib/python3.9/site-packages/seqeval/metrics/sequence_labeling.py:171: UserWarning: VB seems not to be NE tag.\n",
      "  warnings.warn('{} seems not to be NE tag.'.format(chunk))\n",
      "/Users/briandunn/Documents/deep_learning/dl/lib/python3.9/site-packages/seqeval/metrics/sequence_labeling.py:171: UserWarning: URL seems not to be NE tag.\n",
      "  warnings.warn('{} seems not to be NE tag.'.format(chunk))\n",
      "/Users/briandunn/Documents/deep_learning/dl/lib/python3.9/site-packages/seqeval/metrics/sequence_labeling.py:171: UserWarning: RB seems not to be NE tag.\n",
      "  warnings.warn('{} seems not to be NE tag.'.format(chunk))\n",
      "/Users/briandunn/Documents/deep_learning/dl/lib/python3.9/site-packages/seqeval/metrics/sequence_labeling.py:171: UserWarning: VBG seems not to be NE tag.\n",
      "  warnings.warn('{} seems not to be NE tag.'.format(chunk))\n",
      "/Users/briandunn/Documents/deep_learning/dl/lib/python3.9/site-packages/seqeval/metrics/sequence_labeling.py:171: UserWarning: UH seems not to be NE tag.\n",
      "  warnings.warn('{} seems not to be NE tag.'.format(chunk))\n",
      "/Users/briandunn/Documents/deep_learning/dl/lib/python3.9/site-packages/seqeval/metrics/sequence_labeling.py:171: UserWarning: MD seems not to be NE tag.\n",
      "  warnings.warn('{} seems not to be NE tag.'.format(chunk))\n",
      "/Users/briandunn/Documents/deep_learning/dl/lib/python3.9/site-packages/seqeval/metrics/sequence_labeling.py:171: UserWarning: WP seems not to be NE tag.\n",
      "  warnings.warn('{} seems not to be NE tag.'.format(chunk))\n",
      "/Users/briandunn/Documents/deep_learning/dl/lib/python3.9/site-packages/seqeval/metrics/sequence_labeling.py:171: UserWarning: NNP seems not to be NE tag.\n",
      "  warnings.warn('{} seems not to be NE tag.'.format(chunk))\n",
      "/Users/briandunn/Documents/deep_learning/dl/lib/python3.9/site-packages/seqeval/metrics/sequence_labeling.py:171: UserWarning: , seems not to be NE tag.\n",
      "  warnings.warn('{} seems not to be NE tag.'.format(chunk))\n",
      "/Users/briandunn/Documents/deep_learning/dl/lib/python3.9/site-packages/seqeval/metrics/sequence_labeling.py:171: UserWarning: VBN seems not to be NE tag.\n",
      "  warnings.warn('{} seems not to be NE tag.'.format(chunk))\n",
      "/Users/briandunn/Documents/deep_learning/dl/lib/python3.9/site-packages/seqeval/metrics/sequence_labeling.py:171: UserWarning: POS seems not to be NE tag.\n",
      "  warnings.warn('{} seems not to be NE tag.'.format(chunk))\n",
      "/Users/briandunn/Documents/deep_learning/dl/lib/python3.9/site-packages/seqeval/metrics/sequence_labeling.py:171: UserWarning: CD seems not to be NE tag.\n",
      "  warnings.warn('{} seems not to be NE tag.'.format(chunk))\n",
      "/Users/briandunn/Documents/deep_learning/dl/lib/python3.9/site-packages/seqeval/metrics/sequence_labeling.py:171: UserWarning: JJS seems not to be NE tag.\n",
      "  warnings.warn('{} seems not to be NE tag.'.format(chunk))\n",
      "/Users/briandunn/Documents/deep_learning/dl/lib/python3.9/site-packages/seqeval/metrics/sequence_labeling.py:171: UserWarning: JJR seems not to be NE tag.\n",
      "  warnings.warn('{} seems not to be NE tag.'.format(chunk))\n",
      "/Users/briandunn/Documents/deep_learning/dl/lib/python3.9/site-packages/seqeval/metrics/sequence_labeling.py:171: UserWarning: RP seems not to be NE tag.\n",
      "  warnings.warn('{} seems not to be NE tag.'.format(chunk))\n",
      "/Users/briandunn/Documents/deep_learning/dl/lib/python3.9/site-packages/seqeval/metrics/sequence_labeling.py:171: UserWarning: ) seems not to be NE tag.\n",
      "  warnings.warn('{} seems not to be NE tag.'.format(chunk))\n",
      "/Users/briandunn/Documents/deep_learning/dl/lib/python3.9/site-packages/seqeval/metrics/sequence_labeling.py:171: UserWarning: `` seems not to be NE tag.\n",
      "  warnings.warn('{} seems not to be NE tag.'.format(chunk))\n",
      "/Users/briandunn/Documents/deep_learning/dl/lib/python3.9/site-packages/seqeval/metrics/sequence_labeling.py:171: UserWarning: '' seems not to be NE tag.\n",
      "  warnings.warn('{} seems not to be NE tag.'.format(chunk))\n",
      "/Users/briandunn/Documents/deep_learning/dl/lib/python3.9/site-packages/seqeval/metrics/sequence_labeling.py:171: UserWarning: ( seems not to be NE tag.\n",
      "  warnings.warn('{} seems not to be NE tag.'.format(chunk))\n",
      "/Users/briandunn/Documents/deep_learning/dl/lib/python3.9/site-packages/seqeval/metrics/sequence_labeling.py:171: UserWarning: RBS seems not to be NE tag.\n",
      "  warnings.warn('{} seems not to be NE tag.'.format(chunk))\n",
      "/Users/briandunn/Documents/deep_learning/dl/lib/python3.9/site-packages/seqeval/metrics/sequence_labeling.py:171: UserWarning: RBR seems not to be NE tag.\n",
      "  warnings.warn('{} seems not to be NE tag.'.format(chunk))\n",
      "/Users/briandunn/Documents/deep_learning/dl/lib/python3.9/site-packages/seqeval/metrics/sequence_labeling.py:171: UserWarning: WDT seems not to be NE tag.\n",
      "  warnings.warn('{} seems not to be NE tag.'.format(chunk))\n",
      "/Users/briandunn/Documents/deep_learning/dl/lib/python3.9/site-packages/seqeval/metrics/sequence_labeling.py:171: UserWarning: NNPS seems not to be NE tag.\n",
      "  warnings.warn('{} seems not to be NE tag.'.format(chunk))\n",
      "/Users/briandunn/Documents/deep_learning/dl/lib/python3.9/site-packages/seqeval/metrics/sequence_labeling.py:171: UserWarning: EX seems not to be NE tag.\n",
      "  warnings.warn('{} seems not to be NE tag.'.format(chunk))\n",
      "/Users/briandunn/Documents/deep_learning/dl/lib/python3.9/site-packages/seqeval/metrics/sequence_labeling.py:171: UserWarning: FW seems not to be NE tag.\n",
      "  warnings.warn('{} seems not to be NE tag.'.format(chunk))\n",
      "/Users/briandunn/Documents/deep_learning/dl/lib/python3.9/site-packages/seqeval/metrics/sequence_labeling.py:171: UserWarning: SYM seems not to be NE tag.\n",
      "  warnings.warn('{} seems not to be NE tag.'.format(chunk))\n",
      "/Users/briandunn/Documents/deep_learning/dl/lib/python3.9/site-packages/seqeval/metrics/sequence_labeling.py:171: UserWarning: PDT seems not to be NE tag.\n",
      "  warnings.warn('{} seems not to be NE tag.'.format(chunk))\n",
      "/Users/briandunn/Documents/deep_learning/dl/lib/python3.9/site-packages/seqeval/metrics/v1.py:57: UndefinedMetricWarning: Precision and F-score are ill-defined and being set to 0.0 in labels with no predicted samples. Use `zero_division` parameter to control this behavior.\n",
      "  _warn_prf(average, modifier, msg_start, len(result))\n"
     ]
    },
    {
     "name": "stdout",
     "output_type": "stream",
     "text": [
      "{'eval_loss': 0.05311541631817818, \"eval_'\": {'precision': 0.9605263157894737, 'recall': 0.9358974358974359, 'f1': 0.948051948051948, 'number': 312}, 'eval_B': {'precision': 0.9599141295862608, 'recall': 0.9645826796360213, 'f1': 0.9622427419985915, 'number': 25496}, 'eval_BD': {'precision': 0.9673732718894009, 'recall': 0.9459264599855803, 'f1': 0.95652966372004, 'number': 5548}, 'eval_BG': {'precision': 0.9833863556026865, 'recall': 0.9825180999470245, 'f1': 0.9829520360392192, 'number': 5663}, 'eval_BN': {'precision': 0.8920402561756633, 'recall': 0.9259259259259259, 'f1': 0.9086672879776329, 'number': 2106}, 'eval_BP': {'precision': 0.972785622593068, 'recall': 0.9568785908201275, 'f1': 0.9647665425379548, 'number': 15839}, 'eval_BR': {'precision': 0.9591836734693877, 'recall': 0.8785046728971962, 'f1': 0.9170731707317074, 'number': 107}, 'eval_BS': {'precision': 0.9428571428571428, 'recall': 0.9850746268656716, 'f1': 0.9635036496350364, 'number': 67}, 'eval_BZ': {'precision': 0.988999290276792, 'recall': 0.9825489159175039, 'f1': 0.9857635511539481, 'number': 5673}, 'eval_C': {'precision': 0.999128350403138, 'recall': 0.9993461203138623, 'f1': 0.9992372234935164, 'number': 4588}, 'eval_D': {'precision': 0.9854900799526207, 'recall': 0.9895926256318763, 'f1': 0.9875370919881307, 'number': 6726}, 'eval_DT': {'precision': 1.0, 'recall': 0.8, 'f1': 0.888888888888889, 'number': 15}, 'eval_H': {'precision': 0.9498016997167139, 'recall': 0.9302996670366259, 'f1': 0.9399495374264086, 'number': 9010}, 'eval_J': {'precision': 0.9775892428365616, 'recall': 0.9797064249618994, 'f1': 0.978646688834582, 'number': 12467}, 'eval_JR': {'precision': 0.9124767225325885, 'recall': 0.98989898989899, 'f1': 0.9496124031007753, 'number': 495}, 'eval_JS': {'precision': 0.948073701842546, 'recall': 0.9843478260869565, 'f1': 0.9658703071672354, 'number': 575}, 'eval_N': {'precision': 0.9787719343718411, 'recall': 0.9771257051182528, 'f1': 0.9779481269504189, 'number': 38646}, 'eval_NP': {'precision': 0.9252336448598131, 'recall': 0.9284692417739628, 'f1': 0.9268486194858775, 'number': 6291}, 'eval_NPS': {'precision': 0.5, 'recall': 0.23076923076923078, 'f1': 0.3157894736842105, 'number': 26}, 'eval_NS': {'precision': 0.9653734361177808, 'recall': 0.9768542199488491, 'f1': 0.9710798957605034, 'number': 7820}, 'eval_O': {'precision': 0.9975635224504003, 'recall': 0.999302649930265, 'f1': 0.9984323288625675, 'number': 5736}, 'eval_OS': {'precision': 0.9928571428571429, 'recall': 0.9952267303102625, 'f1': 0.9940405244338498, 'number': 419}, 'eval_P': {'precision': 0.9861205145565335, 'recall': 0.9928425357873211, 'f1': 0.9894701086956521, 'number': 2934}, 'eval_RB': {'precision': 0.9971910112359551, 'recall': 0.9983929288871033, 'f1': 0.9977916081108211, 'number': 2489}, 'eval_RL': {'precision': 1.0, 'recall': 0.9997228381374723, 'f1': 0.9998613998613999, 'number': 3608}, 'eval_RP': {'precision': 0.9986068164055864, 'recall': 0.9982336956521739, 'f1': 0.9984202211690363, 'number': 29440}, 'eval_RP$': {'precision': 0.9963718037318591, 'recall': 0.9977508650519031, 'f1': 0.997060857538036, 'number': 5780}, 'eval_SR': {'precision': 0.9999461555029076, 'recall': 0.9998923168039627, 'f1': 0.9999192354287252, 'number': 18573}, 'eval_T': {'precision': 0.9985499240436404, 'recall': 0.9983431135657577, 'f1': 0.9984465080954189, 'number': 28970}, 'eval_W': {'precision': 0.0, 'recall': 0.0, 'f1': 0.0, 'number': 1}, 'eval_X': {'precision': 0.9113924050632911, 'recall': 0.972972972972973, 'f1': 0.9411764705882353, 'number': 74}, 'eval_YM': {'precision': 0.0, 'recall': 0.0, 'f1': 0.0, 'number': 5}, 'eval__': {'precision': 0.9948932827026319, 'recall': 0.9961324156014422, 'f1': 0.9955124635592387, 'number': 15255}, 'eval_`': {'precision': 0.9651162790697675, 'recall': 0.9595375722543352, 'f1': 0.9623188405797102, 'number': 173}, 'eval_overall_precision': 0.9816839981434671, 'eval_overall_recall': 0.9808337197760293, 'eval_overall_f1': 0.9812586747643915, 'eval_overall_accuracy': 0.9849730059835112, 'eval_runtime': 1897.7758, 'eval_samples_per_second': 16.809, 'eval_steps_per_second': 1.051, 'epoch': 2.0}\n",
      "{'loss': 0.0373, 'learning_rate': 6.625651999465027e-06, 'epoch': 2.01}\n",
      "{'loss': 0.0263, 'learning_rate': 6.179840399447195e-06, 'epoch': 2.07}\n",
      "{'loss': 0.0295, 'learning_rate': 5.734028799429362e-06, 'epoch': 2.14}\n",
      "{'loss': 0.0261, 'learning_rate': 5.288217199411529e-06, 'epoch': 2.21}\n",
      "{'loss': 0.0275, 'learning_rate': 4.842405599393697e-06, 'epoch': 2.27}\n",
      "{'loss': 0.0258, 'learning_rate': 4.396593999375864e-06, 'epoch': 2.34}\n",
      "{'loss': 0.0274, 'learning_rate': 3.950782399358032e-06, 'epoch': 2.41}\n",
      "{'loss': 0.0277, 'learning_rate': 3.5049707993401993e-06, 'epoch': 2.47}\n",
      "{'loss': 0.0261, 'learning_rate': 3.059159199322367e-06, 'epoch': 2.54}\n",
      "{'loss': 0.0246, 'learning_rate': 2.613347599304534e-06, 'epoch': 2.61}\n",
      "{'loss': 0.025, 'learning_rate': 2.1675359992867014e-06, 'epoch': 2.67}\n",
      "{'loss': 0.0265, 'learning_rate': 1.7217243992688693e-06, 'epoch': 2.74}\n",
      "{'loss': 0.026, 'learning_rate': 1.2759127992510367e-06, 'epoch': 2.81}\n",
      "{'loss': 0.0238, 'learning_rate': 8.301011992332041e-07, 'epoch': 2.88}\n",
      "{'loss': 0.0246, 'learning_rate': 3.842895992153716e-07, 'epoch': 2.94}\n"
     ]
    },
    {
     "data": {
      "application/vnd.jupyter.widget-view+json": {
       "model_id": "07a8bdf7ae944c09bbb8850b2f384f3e",
       "version_major": 2,
       "version_minor": 0
      },
      "text/plain": [
       "  0%|          | 0/1994 [00:00<?, ?it/s]"
      ]
     },
     "metadata": {},
     "output_type": "display_data"
    },
    {
     "name": "stderr",
     "output_type": "stream",
     "text": [
      "/Users/briandunn/Documents/deep_learning/dl/lib/python3.9/site-packages/seqeval/metrics/sequence_labeling.py:171: UserWarning: HT seems not to be NE tag.\n",
      "  warnings.warn('{} seems not to be NE tag.'.format(chunk))\n",
      "/Users/briandunn/Documents/deep_learning/dl/lib/python3.9/site-packages/seqeval/metrics/sequence_labeling.py:171: UserWarning: VBP seems not to be NE tag.\n",
      "  warnings.warn('{} seems not to be NE tag.'.format(chunk))\n",
      "/Users/briandunn/Documents/deep_learning/dl/lib/python3.9/site-packages/seqeval/metrics/sequence_labeling.py:171: UserWarning: JJ seems not to be NE tag.\n",
      "  warnings.warn('{} seems not to be NE tag.'.format(chunk))\n",
      "/Users/briandunn/Documents/deep_learning/dl/lib/python3.9/site-packages/seqeval/metrics/sequence_labeling.py:171: UserWarning: NNS seems not to be NE tag.\n",
      "  warnings.warn('{} seems not to be NE tag.'.format(chunk))\n",
      "/Users/briandunn/Documents/deep_learning/dl/lib/python3.9/site-packages/seqeval/metrics/sequence_labeling.py:171: UserWarning: IN seems not to be NE tag.\n",
      "  warnings.warn('{} seems not to be NE tag.'.format(chunk))\n",
      "/Users/briandunn/Documents/deep_learning/dl/lib/python3.9/site-packages/seqeval/metrics/sequence_labeling.py:171: UserWarning: PRP seems not to be NE tag.\n",
      "  warnings.warn('{} seems not to be NE tag.'.format(chunk))\n",
      "/Users/briandunn/Documents/deep_learning/dl/lib/python3.9/site-packages/seqeval/metrics/sequence_labeling.py:171: UserWarning: . seems not to be NE tag.\n",
      "  warnings.warn('{} seems not to be NE tag.'.format(chunk))\n",
      "/Users/briandunn/Documents/deep_learning/dl/lib/python3.9/site-packages/seqeval/metrics/sequence_labeling.py:171: UserWarning: DT seems not to be NE tag.\n",
      "  warnings.warn('{} seems not to be NE tag.'.format(chunk))\n",
      "/Users/briandunn/Documents/deep_learning/dl/lib/python3.9/site-packages/seqeval/metrics/sequence_labeling.py:171: UserWarning: NN seems not to be NE tag.\n",
      "  warnings.warn('{} seems not to be NE tag.'.format(chunk))\n",
      "/Users/briandunn/Documents/deep_learning/dl/lib/python3.9/site-packages/seqeval/metrics/sequence_labeling.py:171: UserWarning: WRB seems not to be NE tag.\n",
      "  warnings.warn('{} seems not to be NE tag.'.format(chunk))\n",
      "/Users/briandunn/Documents/deep_learning/dl/lib/python3.9/site-packages/seqeval/metrics/sequence_labeling.py:171: UserWarning: CC seems not to be NE tag.\n",
      "  warnings.warn('{} seems not to be NE tag.'.format(chunk))\n",
      "/Users/briandunn/Documents/deep_learning/dl/lib/python3.9/site-packages/seqeval/metrics/sequence_labeling.py:171: UserWarning: PRP$ seems not to be NE tag.\n",
      "  warnings.warn('{} seems not to be NE tag.'.format(chunk))\n",
      "/Users/briandunn/Documents/deep_learning/dl/lib/python3.9/site-packages/seqeval/metrics/sequence_labeling.py:171: UserWarning: RT seems not to be NE tag.\n",
      "  warnings.warn('{} seems not to be NE tag.'.format(chunk))\n",
      "/Users/briandunn/Documents/deep_learning/dl/lib/python3.9/site-packages/seqeval/metrics/sequence_labeling.py:171: UserWarning: USR seems not to be NE tag.\n",
      "  warnings.warn('{} seems not to be NE tag.'.format(chunk))\n",
      "/Users/briandunn/Documents/deep_learning/dl/lib/python3.9/site-packages/seqeval/metrics/sequence_labeling.py:171: UserWarning: : seems not to be NE tag.\n",
      "  warnings.warn('{} seems not to be NE tag.'.format(chunk))\n",
      "/Users/briandunn/Documents/deep_learning/dl/lib/python3.9/site-packages/seqeval/metrics/sequence_labeling.py:171: UserWarning: VBZ seems not to be NE tag.\n",
      "  warnings.warn('{} seems not to be NE tag.'.format(chunk))\n",
      "/Users/briandunn/Documents/deep_learning/dl/lib/python3.9/site-packages/seqeval/metrics/sequence_labeling.py:171: UserWarning: VBD seems not to be NE tag.\n",
      "  warnings.warn('{} seems not to be NE tag.'.format(chunk))\n",
      "/Users/briandunn/Documents/deep_learning/dl/lib/python3.9/site-packages/seqeval/metrics/sequence_labeling.py:171: UserWarning: TO seems not to be NE tag.\n",
      "  warnings.warn('{} seems not to be NE tag.'.format(chunk))\n",
      "/Users/briandunn/Documents/deep_learning/dl/lib/python3.9/site-packages/seqeval/metrics/sequence_labeling.py:171: UserWarning: VB seems not to be NE tag.\n",
      "  warnings.warn('{} seems not to be NE tag.'.format(chunk))\n",
      "/Users/briandunn/Documents/deep_learning/dl/lib/python3.9/site-packages/seqeval/metrics/sequence_labeling.py:171: UserWarning: URL seems not to be NE tag.\n",
      "  warnings.warn('{} seems not to be NE tag.'.format(chunk))\n",
      "/Users/briandunn/Documents/deep_learning/dl/lib/python3.9/site-packages/seqeval/metrics/sequence_labeling.py:171: UserWarning: RB seems not to be NE tag.\n",
      "  warnings.warn('{} seems not to be NE tag.'.format(chunk))\n",
      "/Users/briandunn/Documents/deep_learning/dl/lib/python3.9/site-packages/seqeval/metrics/sequence_labeling.py:171: UserWarning: VBG seems not to be NE tag.\n",
      "  warnings.warn('{} seems not to be NE tag.'.format(chunk))\n",
      "/Users/briandunn/Documents/deep_learning/dl/lib/python3.9/site-packages/seqeval/metrics/sequence_labeling.py:171: UserWarning: UH seems not to be NE tag.\n",
      "  warnings.warn('{} seems not to be NE tag.'.format(chunk))\n",
      "/Users/briandunn/Documents/deep_learning/dl/lib/python3.9/site-packages/seqeval/metrics/sequence_labeling.py:171: UserWarning: MD seems not to be NE tag.\n",
      "  warnings.warn('{} seems not to be NE tag.'.format(chunk))\n",
      "/Users/briandunn/Documents/deep_learning/dl/lib/python3.9/site-packages/seqeval/metrics/sequence_labeling.py:171: UserWarning: WP seems not to be NE tag.\n",
      "  warnings.warn('{} seems not to be NE tag.'.format(chunk))\n",
      "/Users/briandunn/Documents/deep_learning/dl/lib/python3.9/site-packages/seqeval/metrics/sequence_labeling.py:171: UserWarning: NNP seems not to be NE tag.\n",
      "  warnings.warn('{} seems not to be NE tag.'.format(chunk))\n",
      "/Users/briandunn/Documents/deep_learning/dl/lib/python3.9/site-packages/seqeval/metrics/sequence_labeling.py:171: UserWarning: , seems not to be NE tag.\n",
      "  warnings.warn('{} seems not to be NE tag.'.format(chunk))\n",
      "/Users/briandunn/Documents/deep_learning/dl/lib/python3.9/site-packages/seqeval/metrics/sequence_labeling.py:171: UserWarning: VBN seems not to be NE tag.\n",
      "  warnings.warn('{} seems not to be NE tag.'.format(chunk))\n",
      "/Users/briandunn/Documents/deep_learning/dl/lib/python3.9/site-packages/seqeval/metrics/sequence_labeling.py:171: UserWarning: POS seems not to be NE tag.\n",
      "  warnings.warn('{} seems not to be NE tag.'.format(chunk))\n",
      "/Users/briandunn/Documents/deep_learning/dl/lib/python3.9/site-packages/seqeval/metrics/sequence_labeling.py:171: UserWarning: CD seems not to be NE tag.\n",
      "  warnings.warn('{} seems not to be NE tag.'.format(chunk))\n",
      "/Users/briandunn/Documents/deep_learning/dl/lib/python3.9/site-packages/seqeval/metrics/sequence_labeling.py:171: UserWarning: JJS seems not to be NE tag.\n",
      "  warnings.warn('{} seems not to be NE tag.'.format(chunk))\n",
      "/Users/briandunn/Documents/deep_learning/dl/lib/python3.9/site-packages/seqeval/metrics/sequence_labeling.py:171: UserWarning: JJR seems not to be NE tag.\n",
      "  warnings.warn('{} seems not to be NE tag.'.format(chunk))\n",
      "/Users/briandunn/Documents/deep_learning/dl/lib/python3.9/site-packages/seqeval/metrics/sequence_labeling.py:171: UserWarning: RP seems not to be NE tag.\n",
      "  warnings.warn('{} seems not to be NE tag.'.format(chunk))\n",
      "/Users/briandunn/Documents/deep_learning/dl/lib/python3.9/site-packages/seqeval/metrics/sequence_labeling.py:171: UserWarning: ) seems not to be NE tag.\n",
      "  warnings.warn('{} seems not to be NE tag.'.format(chunk))\n",
      "/Users/briandunn/Documents/deep_learning/dl/lib/python3.9/site-packages/seqeval/metrics/sequence_labeling.py:171: UserWarning: `` seems not to be NE tag.\n",
      "  warnings.warn('{} seems not to be NE tag.'.format(chunk))\n",
      "/Users/briandunn/Documents/deep_learning/dl/lib/python3.9/site-packages/seqeval/metrics/sequence_labeling.py:171: UserWarning: '' seems not to be NE tag.\n",
      "  warnings.warn('{} seems not to be NE tag.'.format(chunk))\n",
      "/Users/briandunn/Documents/deep_learning/dl/lib/python3.9/site-packages/seqeval/metrics/sequence_labeling.py:171: UserWarning: ( seems not to be NE tag.\n",
      "  warnings.warn('{} seems not to be NE tag.'.format(chunk))\n",
      "/Users/briandunn/Documents/deep_learning/dl/lib/python3.9/site-packages/seqeval/metrics/sequence_labeling.py:171: UserWarning: RBS seems not to be NE tag.\n",
      "  warnings.warn('{} seems not to be NE tag.'.format(chunk))\n",
      "/Users/briandunn/Documents/deep_learning/dl/lib/python3.9/site-packages/seqeval/metrics/sequence_labeling.py:171: UserWarning: RBR seems not to be NE tag.\n",
      "  warnings.warn('{} seems not to be NE tag.'.format(chunk))\n",
      "/Users/briandunn/Documents/deep_learning/dl/lib/python3.9/site-packages/seqeval/metrics/sequence_labeling.py:171: UserWarning: WDT seems not to be NE tag.\n",
      "  warnings.warn('{} seems not to be NE tag.'.format(chunk))\n",
      "/Users/briandunn/Documents/deep_learning/dl/lib/python3.9/site-packages/seqeval/metrics/sequence_labeling.py:171: UserWarning: NNPS seems not to be NE tag.\n",
      "  warnings.warn('{} seems not to be NE tag.'.format(chunk))\n",
      "/Users/briandunn/Documents/deep_learning/dl/lib/python3.9/site-packages/seqeval/metrics/sequence_labeling.py:171: UserWarning: EX seems not to be NE tag.\n",
      "  warnings.warn('{} seems not to be NE tag.'.format(chunk))\n",
      "/Users/briandunn/Documents/deep_learning/dl/lib/python3.9/site-packages/seqeval/metrics/sequence_labeling.py:171: UserWarning: FW seems not to be NE tag.\n",
      "  warnings.warn('{} seems not to be NE tag.'.format(chunk))\n",
      "/Users/briandunn/Documents/deep_learning/dl/lib/python3.9/site-packages/seqeval/metrics/sequence_labeling.py:171: UserWarning: SYM seems not to be NE tag.\n",
      "  warnings.warn('{} seems not to be NE tag.'.format(chunk))\n",
      "/Users/briandunn/Documents/deep_learning/dl/lib/python3.9/site-packages/seqeval/metrics/sequence_labeling.py:171: UserWarning: PDT seems not to be NE tag.\n",
      "  warnings.warn('{} seems not to be NE tag.'.format(chunk))\n",
      "/Users/briandunn/Documents/deep_learning/dl/lib/python3.9/site-packages/seqeval/metrics/v1.py:57: UndefinedMetricWarning: Precision and F-score are ill-defined and being set to 0.0 in labels with no predicted samples. Use `zero_division` parameter to control this behavior.\n",
      "  _warn_prf(average, modifier, msg_start, len(result))\n"
     ]
    },
    {
     "name": "stdout",
     "output_type": "stream",
     "text": [
      "{'eval_loss': 0.05331805720925331, \"eval_'\": {'precision': 0.9580645161290322, 'recall': 0.9519230769230769, 'f1': 0.954983922829582, 'number': 312}, 'eval_B': {'precision': 0.9658270558694287, 'recall': 0.9655240037652966, 'f1': 0.9656755060411109, 'number': 25496}, 'eval_BD': {'precision': 0.9630099728014506, 'recall': 0.9572819033886085, 'f1': 0.9601373949200036, 'number': 5548}, 'eval_BG': {'precision': 0.9836065573770492, 'recall': 0.9853434575313438, 'f1': 0.9844742413549753, 'number': 5663}, 'eval_BN': {'precision': 0.9182209469153515, 'recall': 0.9116809116809117, 'f1': 0.9149392423159399, 'number': 2106}, 'eval_BP': {'precision': 0.9672037914691943, 'recall': 0.9663488856619736, 'f1': 0.9667761495704902, 'number': 15839}, 'eval_BR': {'precision': 0.94, 'recall': 0.8785046728971962, 'f1': 0.9082125603864735, 'number': 107}, 'eval_BS': {'precision': 0.9848484848484849, 'recall': 0.9701492537313433, 'f1': 0.9774436090225564, 'number': 67}, 'eval_BZ': {'precision': 0.9865819209039548, 'recall': 0.9850167459897762, 'f1': 0.9857987121813531, 'number': 5673}, 'eval_C': {'precision': 0.9993461203138623, 'recall': 0.9993461203138623, 'f1': 0.9993461203138623, 'number': 4588}, 'eval_D': {'precision': 0.9876836325864372, 'recall': 0.9895926256318763, 'f1': 0.988637207575195, 'number': 6726}, 'eval_DT': {'precision': 1.0, 'recall': 0.8, 'f1': 0.888888888888889, 'number': 15}, 'eval_H': {'precision': 0.9487382595903587, 'recall': 0.9305216426193119, 'f1': 0.9395416596626883, 'number': 9010}, 'eval_J': {'precision': 0.9803528468323978, 'recall': 0.980588754311382, 'f1': 0.9804707863816818, 'number': 12467}, 'eval_JR': {'precision': 0.9400386847195358, 'recall': 0.9818181818181818, 'f1': 0.9604743083003953, 'number': 495}, 'eval_JS': {'precision': 0.9612141652613828, 'recall': 0.991304347826087, 'f1': 0.9760273972602741, 'number': 575}, 'eval_N': {'precision': 0.9795543362923471, 'recall': 0.9793769083475651, 'f1': 0.9794656142847902, 'number': 38646}, 'eval_NP': {'precision': 0.9330242966751918, 'recall': 0.9278334128119536, 'f1': 0.9304216147286205, 'number': 6291}, 'eval_NPS': {'precision': 0.75, 'recall': 0.23076923076923078, 'f1': 0.3529411764705882, 'number': 26}, 'eval_NS': {'precision': 0.9691858990616282, 'recall': 0.9773657289002557, 'f1': 0.9732586272762003, 'number': 7820}, 'eval_O': {'precision': 0.9984323288625675, 'recall': 0.999302649930265, 'f1': 0.9988672998170254, 'number': 5736}, 'eval_OS': {'precision': 1.0, 'recall': 0.9952267303102625, 'f1': 0.9976076555023923, 'number': 419}, 'eval_P': {'precision': 0.9887869520897044, 'recall': 0.9918200408997955, 'f1': 0.9903011740684022, 'number': 2934}, 'eval_RB': {'precision': 0.9971910112359551, 'recall': 0.9983929288871033, 'f1': 0.9977916081108211, 'number': 2489}, 'eval_RL': {'precision': 1.0, 'recall': 0.9997228381374723, 'f1': 0.9998613998613999, 'number': 3608}, 'eval_RP': {'precision': 0.9979960600502683, 'recall': 0.9980638586956522, 'f1': 0.9980299582215278, 'number': 29440}, 'eval_RP$': {'precision': 0.9975770162686051, 'recall': 0.9972318339100346, 'f1': 0.9974043952240872, 'number': 5780}, 'eval_SR': {'precision': 0.9998923110058152, 'recall': 0.9998384752059442, 'f1': 0.9998653923812088, 'number': 18573}, 'eval_T': {'precision': 0.9987569919204475, 'recall': 0.9984811874352779, 'f1': 0.9986190706345371, 'number': 28970}, 'eval_W': {'precision': 0.0, 'recall': 0.0, 'f1': 0.0, 'number': 1}, 'eval_X': {'precision': 0.9466666666666667, 'recall': 0.9594594594594594, 'f1': 0.9530201342281879, 'number': 74}, 'eval_YM': {'precision': 0.0, 'recall': 0.0, 'f1': 0.0, 'number': 5}, 'eval__': {'precision': 0.9951481772882245, 'recall': 0.9949524745984923, 'f1': 0.9950503163208444, 'number': 15255}, 'eval_`': {'precision': 0.9540229885057471, 'recall': 0.9595375722543352, 'f1': 0.956772334293948, 'number': 173}, 'eval_overall_precision': 0.982771581547336, 'eval_overall_recall': 0.9820371214937511, 'eval_overall_f1': 0.9824042142472381, 'eval_overall_accuracy': 0.9859897481208136, 'eval_runtime': 2090.2466, 'eval_samples_per_second': 15.261, 'eval_steps_per_second': 0.954, 'epoch': 3.0}\n",
      "{'train_runtime': 71133.9787, 'train_samples_per_second': 5.045, 'train_steps_per_second': 0.315, 'train_loss': 0.06107173741493567, 'epoch': 3.0}\n"
     ]
    }
   ],
   "source": [
    "train_results = trainer.train()"
   ]
  },
  {
   "attachments": {},
   "cell_type": "markdown",
   "metadata": {},
   "source": [
    "#### Push Model To Hub"
   ]
  },
  {
   "cell_type": "code",
   "execution_count": 18,
   "metadata": {},
   "outputs": [
    {
     "name": "stderr",
     "output_type": "stream",
     "text": [
      "Several commits (2) will be pushed upstream.\n",
      "The progress bars may be unreliable.\n"
     ]
    },
    {
     "data": {
      "application/vnd.jupyter.widget-view+json": {
       "model_id": "dd7407f7190c4b60a18ff90b1c662e54",
       "version_major": 2,
       "version_minor": 0
      },
      "text/plain": [
       "Upload file pytorch_model.bin:   0%|          | 1.00/411M [00:00<?, ?B/s]"
      ]
     },
     "metadata": {},
     "output_type": "display_data"
    },
    {
     "data": {
      "application/vnd.jupyter.widget-view+json": {
       "model_id": "ac68929a60ee446e803f52c9a18aaefe",
       "version_major": 2,
       "version_minor": 0
      },
      "text/plain": [
       "Upload file runs/Jul02_23-03-13_Brians-Mac-mini/events.out.tfevents.1688356998.Brians-Mac-mini.3901.0:   0%|  …"
      ]
     },
     "metadata": {},
     "output_type": "display_data"
    },
    {
     "name": "stderr",
     "output_type": "stream",
     "text": [
      "To https://huggingface.co/DunnBC22/bert-base-cased-finetuned-Stromberg_NLP_Twitter-PoS\n",
      "   78c886e..6a8949a  main -> main\n",
      "\n",
      "To https://huggingface.co/DunnBC22/bert-base-cased-finetuned-Stromberg_NLP_Twitter-PoS\n",
      "   6a8949a..db40565  main -> main\n",
      "\n"
     ]
    }
   ],
   "source": [
    "kwargs = {\n",
    "    \"tasks\": \"token-classification\",\n",
    "    \"tags\": ['token-classification'],\n",
    "}\n",
    "\n",
    "if args.push_to_hub:\n",
    "    trainer.push_to_hub('All DUNN!!!', **kwargs)\n",
    "else:\n",
    "    trainer.create_model_card(**kwargs)"
   ]
  },
  {
   "attachments": {},
   "cell_type": "markdown",
   "metadata": {},
   "source": [
    "#### Save & Log Model"
   ]
  },
  {
   "cell_type": "code",
   "execution_count": 19,
   "metadata": {},
   "outputs": [
    {
     "name": "stderr",
     "output_type": "stream",
     "text": [
      "To https://huggingface.co/DunnBC22/bert-base-cased-finetuned-Stromberg_NLP_Twitter-PoS\n",
      "   db40565..8ee8d42  main -> main\n",
      "\n"
     ]
    },
    {
     "name": "stdout",
     "output_type": "stream",
     "text": [
      "***** train metrics *****\n",
      "  epoch                    =         3.0\n",
      "  train_loss               =      0.0611\n",
      "  train_runtime            = 19:45:33.97\n",
      "  train_samples_per_second =       5.045\n",
      "  train_steps_per_second   =       0.315\n"
     ]
    }
   ],
   "source": [
    "trainer.save_model()\n",
    "trainer.log_metrics(\"train\", train_results.metrics)\n",
    "trainer.save_metrics(\"train\", train_results.metrics)\n",
    "trainer.save_state()"
   ]
  },
  {
   "attachments": {},
   "cell_type": "markdown",
   "metadata": {},
   "source": [
    "### Error Analysis"
   ]
  },
  {
   "attachments": {},
   "cell_type": "markdown",
   "metadata": {},
   "source": [
    "#### Define Method to Apply to Validation Dataset (& Then Apply it)"
   ]
  },
  {
   "cell_type": "code",
   "execution_count": 20,
   "metadata": {},
   "outputs": [],
   "source": [
    "def forward_pass_with_label(batch):\n",
    "    # Convert dict of lists to list of dicts suitable for data collator\n",
    "    features = [dict(zip(batch, t)) for t in zip(*batch.values())]\n",
    "    # Pad inputs and labels and put all tensors on device\n",
    "    batch = data_collator(features)\n",
    "    input_ids = batch[\"input_ids\"].to(DEVICE)\n",
    "    attention_mask = batch[\"attention_mask\"].to(DEVICE)\n",
    "    labels = batch[\"labels\"].to(DEVICE)\n",
    "    with torch.no_grad():\n",
    "        # Pass data through model  \n",
    "        output = trainer.model(input_ids, \n",
    "                               attention_mask\n",
    "                               )\n",
    "        # Logit.size: [batch_size, sequence_length, classes]\n",
    "        predicted_label = torch.argmax(output.logits, \n",
    "                                       axis=-1\n",
    "                                       ).cpu().numpy()\n",
    "        \n",
    "    # Calculate loss per token after flattening batch dimension with view\n",
    "    loss = cross_entropy(output.logits.view(-1, 51), \n",
    "                         labels.view(-1), \n",
    "                         reduction=\"none\")\n",
    "    # Unflatten batch dimension and convert to numpy array\n",
    "    loss = loss.view(len(input_ids), -1).cpu().numpy()\n",
    "\n",
    "    return {\"loss\":loss, \"predicted_label\": predicted_label}"
   ]
  },
  {
   "attachments": {},
   "cell_type": "markdown",
   "metadata": {},
   "source": [
    "#### Apply Above Function to Entire Evaluation Dataset"
   ]
  },
  {
   "cell_type": "code",
   "execution_count": 22,
   "metadata": {},
   "outputs": [
    {
     "name": "stderr",
     "output_type": "stream",
     "text": [
      "Parameter 'function'=<function forward_pass_with_label at 0x7fca841d1790> of the transform datasets.arrow_dataset.Dataset._map_single couldn't be hashed properly, a random hash was used instead. Make sure your transforms and parameters are serializable with pickle or dill for the dataset fingerprinting and caching to work. If you reuse this transform, the caching mechanism will consider it to be different from the previous calls and recompute everything. This warning is only showed once. Subsequent hashing failures won't be showed.\n"
     ]
    },
    {
     "data": {
      "application/vnd.jupyter.widget-view+json": {
       "model_id": "e7ed84e43e3c4e8295aa3b49ee368310",
       "version_major": 2,
       "version_minor": 0
      },
      "text/plain": [
       "Map:   0%|          | 0/7974 [00:00<?, ? examples/s]"
      ]
     },
     "metadata": {},
     "output_type": "display_data"
    }
   ],
   "source": [
    "eval_set = encoded_ds['eval']\n",
    "\n",
    "eval_set = eval_set.remove_columns('id')\n",
    "\n",
    "eval_set = eval_set.map(forward_pass_with_label,\n",
    "                        batched=True,\n",
    "                        batch_size=32)\n",
    "\n",
    "eval_df = eval_set.to_pandas()"
   ]
  },
  {
   "attachments": {},
   "cell_type": "markdown",
   "metadata": {},
   "source": [
    "#### Clean Up Padding Tokens"
   ]
  },
  {
   "cell_type": "code",
   "execution_count": 23,
   "metadata": {},
   "outputs": [
    {
     "data": {
      "text/html": [
       "<div>\n",
       "<style scoped>\n",
       "    .dataframe tbody tr th:only-of-type {\n",
       "        vertical-align: middle;\n",
       "    }\n",
       "\n",
       "    .dataframe tbody tr th {\n",
       "        vertical-align: top;\n",
       "    }\n",
       "\n",
       "    .dataframe thead th {\n",
       "        text-align: right;\n",
       "    }\n",
       "</style>\n",
       "<table border=\"1\" class=\"dataframe\">\n",
       "  <thead>\n",
       "    <tr style=\"text-align: right;\">\n",
       "      <th></th>\n",
       "      <th>input_ids</th>\n",
       "      <th>token_type_ids</th>\n",
       "      <th>attention_mask</th>\n",
       "      <th>labels</th>\n",
       "      <th>loss</th>\n",
       "      <th>predicted_label</th>\n",
       "      <th>input_tokens</th>\n",
       "    </tr>\n",
       "  </thead>\n",
       "  <tbody>\n",
       "    <tr>\n",
       "      <th>0</th>\n",
       "      <td>[101, 137, 1337, 2428, 2386, 1181, 2924, 7956,...</td>\n",
       "      <td>[0, 0, 0, 0, 0, 0, 0, 0, 0, 0, 0, 0, 0, 0, 0, 0]</td>\n",
       "      <td>[1, 1, 1, 1, 1, 1, 1, 1, 1, 1, 1, 1, 1, 1, 1, 1]</td>\n",
       "      <td>[IGN, USR, IGN, IGN, IGN, IGN, IGN, IGN, MD, V...</td>\n",
       "      <td>[0.0, 1.5497195e-06, 0.0, 0.0, 0.0, 0.0, 0.0, ...</td>\n",
       "      <td>[., USR, NNP, NNP, UH, UH, PRP, PRP, MD, VB, V...</td>\n",
       "      <td>[[CLS], @, That, ##K, ##id, ##d, ##W, ##ill, s...</td>\n",
       "    </tr>\n",
       "  </tbody>\n",
       "</table>\n",
       "</div>"
      ],
      "text/plain": [
       "                                           input_ids   \n",
       "0  [101, 137, 1337, 2428, 2386, 1181, 2924, 7956,...  \\\n",
       "\n",
       "                                     token_type_ids   \n",
       "0  [0, 0, 0, 0, 0, 0, 0, 0, 0, 0, 0, 0, 0, 0, 0, 0]  \\\n",
       "\n",
       "                                     attention_mask   \n",
       "0  [1, 1, 1, 1, 1, 1, 1, 1, 1, 1, 1, 1, 1, 1, 1, 1]  \\\n",
       "\n",
       "                                              labels   \n",
       "0  [IGN, USR, IGN, IGN, IGN, IGN, IGN, IGN, MD, V...  \\\n",
       "\n",
       "                                                loss   \n",
       "0  [0.0, 1.5497195e-06, 0.0, 0.0, 0.0, 0.0, 0.0, ...  \\\n",
       "\n",
       "                                     predicted_label   \n",
       "0  [., USR, NNP, NNP, UH, UH, PRP, PRP, MD, VB, V...  \\\n",
       "\n",
       "                                        input_tokens  \n",
       "0  [[CLS], @, That, ##K, ##id, ##d, ##W, ##ill, s...  "
      ]
     },
     "execution_count": 23,
     "metadata": {},
     "output_type": "execute_result"
    }
   ],
   "source": [
    "id2label[-100] = \"IGN\"\n",
    "eval_df[\"input_tokens\"] = eval_df[\"input_ids\"].apply(\n",
    "    lambda x: tokenizer.convert_ids_to_tokens(x))\n",
    "eval_df[\"predicted_label\"] = eval_df[\"predicted_label\"].apply(\n",
    "    lambda x: [id2label[i] for i in x])\n",
    "eval_df[\"labels\"] = eval_df[\"labels\"].apply(\n",
    "    lambda x: [id2label[i] for i in x])\n",
    "eval_df['loss'] = eval_df.apply(\n",
    "    lambda x: x['loss'][:len(x['input_ids'])], axis=1)\n",
    "eval_df['predicted_label'] = eval_df.apply(\n",
    "    lambda x: x['predicted_label'][:len(x['input_ids'])], axis=1)\n",
    "eval_df.head(1)"
   ]
  },
  {
   "attachments": {},
   "cell_type": "markdown",
   "metadata": {},
   "source": [
    "#### Unwrap Each Token Within Sample Separately"
   ]
  },
  {
   "cell_type": "code",
   "execution_count": 87,
   "metadata": {},
   "outputs": [
    {
     "data": {
      "text/html": [
       "<div>\n",
       "<style scoped>\n",
       "    .dataframe tbody tr th:only-of-type {\n",
       "        vertical-align: middle;\n",
       "    }\n",
       "\n",
       "    .dataframe tbody tr th {\n",
       "        vertical-align: top;\n",
       "    }\n",
       "\n",
       "    .dataframe thead th {\n",
       "        text-align: right;\n",
       "    }\n",
       "</style>\n",
       "<table border=\"1\" class=\"dataframe\">\n",
       "  <thead>\n",
       "    <tr style=\"text-align: right;\">\n",
       "      <th></th>\n",
       "      <th>input_ids</th>\n",
       "      <th>token_type_ids</th>\n",
       "      <th>attention_mask</th>\n",
       "      <th>labels</th>\n",
       "      <th>loss</th>\n",
       "      <th>predicted_label</th>\n",
       "      <th>input_tokens</th>\n",
       "      <th>total_loss</th>\n",
       "    </tr>\n",
       "  </thead>\n",
       "  <tbody>\n",
       "    <tr>\n",
       "      <th>0</th>\n",
       "      <td>137</td>\n",
       "      <td>0</td>\n",
       "      <td>1</td>\n",
       "      <td>USR</td>\n",
       "      <td>0.0</td>\n",
       "      <td>USR</td>\n",
       "      <td>@</td>\n",
       "      <td>0.003804</td>\n",
       "    </tr>\n",
       "    <tr>\n",
       "      <th>0</th>\n",
       "      <td>1431</td>\n",
       "      <td>0</td>\n",
       "      <td>1</td>\n",
       "      <td>MD</td>\n",
       "      <td>0.0</td>\n",
       "      <td>MD</td>\n",
       "      <td>should</td>\n",
       "      <td>0.003804</td>\n",
       "    </tr>\n",
       "    <tr>\n",
       "      <th>0</th>\n",
       "      <td>189</td>\n",
       "      <td>0</td>\n",
       "      <td>1</td>\n",
       "      <td>VB</td>\n",
       "      <td>0.0</td>\n",
       "      <td>VB</td>\n",
       "      <td>t</td>\n",
       "      <td>0.003804</td>\n",
       "    </tr>\n",
       "    <tr>\n",
       "      <th>0</th>\n",
       "      <td>1143</td>\n",
       "      <td>0</td>\n",
       "      <td>1</td>\n",
       "      <td>PRP</td>\n",
       "      <td>0.0</td>\n",
       "      <td>PRP</td>\n",
       "      <td>me</td>\n",
       "      <td>0.003804</td>\n",
       "    </tr>\n",
       "    <tr>\n",
       "      <th>0</th>\n",
       "      <td>1171</td>\n",
       "      <td>0</td>\n",
       "      <td>1</td>\n",
       "      <td>RB</td>\n",
       "      <td>0.0</td>\n",
       "      <td>RB</td>\n",
       "      <td>back</td>\n",
       "      <td>0.003804</td>\n",
       "    </tr>\n",
       "    <tr>\n",
       "      <th>0</th>\n",
       "      <td>131</td>\n",
       "      <td>0</td>\n",
       "      <td>1</td>\n",
       "      <td>.</td>\n",
       "      <td>0.0</td>\n",
       "      <td>.</td>\n",
       "      <td>:</td>\n",
       "      <td>0.003804</td>\n",
       "    </tr>\n",
       "    <tr>\n",
       "      <th>0</th>\n",
       "      <td>114</td>\n",
       "      <td>0</td>\n",
       "      <td>1</td>\n",
       "      <td>)</td>\n",
       "      <td>0.0</td>\n",
       "      <td>)</td>\n",
       "      <td>)</td>\n",
       "      <td>0.003804</td>\n",
       "    </tr>\n",
       "  </tbody>\n",
       "</table>\n",
       "</div>"
      ],
      "text/plain": [
       "  input_ids token_type_ids attention_mask labels  loss predicted_label   \n",
       "0       137              0              1    USR   0.0             USR  \\\n",
       "0      1431              0              1     MD   0.0              MD   \n",
       "0       189              0              1     VB   0.0              VB   \n",
       "0      1143              0              1    PRP   0.0             PRP   \n",
       "0      1171              0              1     RB   0.0              RB   \n",
       "0       131              0              1      .   0.0               .   \n",
       "0       114              0              1      )   0.0               )   \n",
       "\n",
       "  input_tokens  total_loss  \n",
       "0            @    0.003804  \n",
       "0       should    0.003804  \n",
       "0            t    0.003804  \n",
       "0           me    0.003804  \n",
       "0         back    0.003804  \n",
       "0            :    0.003804  \n",
       "0            )    0.003804  "
      ]
     },
     "execution_count": 87,
     "metadata": {},
     "output_type": "execute_result"
    }
   ],
   "source": [
    "eval_df_tokens = eval_df.apply(pd.Series.explode)\n",
    "eval_df_tokens = eval_df_tokens.query(\"labels != 'IGN'\")\n",
    "eval_df_tokens[\"loss\"] = eval_df_tokens[\"loss\"].astype(float).round(2)\n",
    "eval_df_tokens.head(7)"
   ]
  },
  {
   "attachments": {},
   "cell_type": "markdown",
   "metadata": {},
   "source": [
    "#### See Which Tokens Have Accumulated Most Loss in Evaluation Dataset"
   ]
  },
  {
   "cell_type": "code",
   "execution_count": 64,
   "metadata": {},
   "outputs": [
    {
     "data": {
      "text/html": [
       "<div>\n",
       "<style scoped>\n",
       "    .dataframe tbody tr th:only-of-type {\n",
       "        vertical-align: middle;\n",
       "    }\n",
       "\n",
       "    .dataframe tbody tr th {\n",
       "        vertical-align: top;\n",
       "    }\n",
       "\n",
       "    .dataframe thead th {\n",
       "        text-align: right;\n",
       "    }\n",
       "</style>\n",
       "<table border=\"1\" class=\"dataframe\">\n",
       "  <thead>\n",
       "    <tr style=\"text-align: right;\">\n",
       "      <th></th>\n",
       "      <th>0</th>\n",
       "      <th>1</th>\n",
       "      <th>2</th>\n",
       "      <th>3</th>\n",
       "      <th>4</th>\n",
       "      <th>5</th>\n",
       "      <th>6</th>\n",
       "      <th>7</th>\n",
       "      <th>8</th>\n",
       "      <th>9</th>\n",
       "    </tr>\n",
       "  </thead>\n",
       "  <tbody>\n",
       "    <tr>\n",
       "      <th>input_tokens</th>\n",
       "      <td>!</td>\n",
       "      <td>.</td>\n",
       "      <td>[UNK]</td>\n",
       "      <td>B</td>\n",
       "      <td>want</td>\n",
       "      <td>?</td>\n",
       "      <td>have</td>\n",
       "      <td>:</td>\n",
       "      <td>that</td>\n",
       "      <td>G</td>\n",
       "    </tr>\n",
       "    <tr>\n",
       "      <th>count</th>\n",
       "      <td>1979</td>\n",
       "      <td>3500</td>\n",
       "      <td>107</td>\n",
       "      <td>96</td>\n",
       "      <td>181</td>\n",
       "      <td>822</td>\n",
       "      <td>358</td>\n",
       "      <td>2416</td>\n",
       "      <td>217</td>\n",
       "      <td>43</td>\n",
       "    </tr>\n",
       "    <tr>\n",
       "      <th>mean</th>\n",
       "      <td>0.083</td>\n",
       "      <td>0.034</td>\n",
       "      <td>0.573</td>\n",
       "      <td>0.46</td>\n",
       "      <td>0.221</td>\n",
       "      <td>0.044</td>\n",
       "      <td>0.097</td>\n",
       "      <td>0.014</td>\n",
       "      <td>0.149</td>\n",
       "      <td>0.746</td>\n",
       "    </tr>\n",
       "    <tr>\n",
       "      <th>sum</th>\n",
       "      <td>164.3</td>\n",
       "      <td>119.09</td>\n",
       "      <td>61.36</td>\n",
       "      <td>44.12</td>\n",
       "      <td>40.07</td>\n",
       "      <td>36.19</td>\n",
       "      <td>34.76</td>\n",
       "      <td>32.63</td>\n",
       "      <td>32.28</td>\n",
       "      <td>32.08</td>\n",
       "    </tr>\n",
       "  </tbody>\n",
       "</table>\n",
       "</div>"
      ],
      "text/plain": [
       "                  0       1      2      3      4      5      6      7      8   \n",
       "input_tokens      !       .  [UNK]      B   want      ?   have      :   that  \\\n",
       "count          1979    3500    107     96    181    822    358   2416    217   \n",
       "mean          0.083   0.034  0.573   0.46  0.221  0.044  0.097  0.014  0.149   \n",
       "sum           164.3  119.09  61.36  44.12  40.07  36.19  34.76  32.63  32.28   \n",
       "\n",
       "                  9  \n",
       "input_tokens      G  \n",
       "count            43  \n",
       "mean          0.746  \n",
       "sum           32.08  "
      ]
     },
     "execution_count": 64,
     "metadata": {},
     "output_type": "execute_result"
    }
   ],
   "source": [
    "(\n",
    "    eval_df_tokens.groupby(\"input_tokens\")[[\"loss\"]]\n",
    "    .agg([\"count\", \"mean\", \"sum\"])\n",
    "    .droplevel(level=0, axis=1)  # Get rid of multi-level columns\n",
    "    .sort_values(by=\"sum\", ascending=False)\n",
    "    .reset_index()\n",
    "    .round(3)\n",
    "    .head(10)\n",
    "    .T\n",
    ")"
   ]
  },
  {
   "attachments": {},
   "cell_type": "markdown",
   "metadata": {},
   "source": [
    "#### See Which Label IDs Have Most Loss in Evaluation Dataset"
   ]
  },
  {
   "cell_type": "code",
   "execution_count": 44,
   "metadata": {},
   "outputs": [
    {
     "data": {
      "text/html": [
       "<div>\n",
       "<style scoped>\n",
       "    .dataframe tbody tr th:only-of-type {\n",
       "        vertical-align: middle;\n",
       "    }\n",
       "\n",
       "    .dataframe tbody tr th {\n",
       "        vertical-align: top;\n",
       "    }\n",
       "\n",
       "    .dataframe thead th {\n",
       "        text-align: right;\n",
       "    }\n",
       "</style>\n",
       "<table border=\"1\" class=\"dataframe\">\n",
       "  <thead>\n",
       "    <tr style=\"text-align: right;\">\n",
       "      <th></th>\n",
       "      <th>0</th>\n",
       "      <th>1</th>\n",
       "      <th>2</th>\n",
       "      <th>3</th>\n",
       "      <th>4</th>\n",
       "      <th>5</th>\n",
       "      <th>6</th>\n",
       "      <th>7</th>\n",
       "      <th>8</th>\n",
       "      <th>9</th>\n",
       "      <th>...</th>\n",
       "      <th>33</th>\n",
       "      <th>34</th>\n",
       "      <th>35</th>\n",
       "      <th>36</th>\n",
       "      <th>37</th>\n",
       "      <th>38</th>\n",
       "      <th>39</th>\n",
       "      <th>40</th>\n",
       "      <th>41</th>\n",
       "      <th>42</th>\n",
       "    </tr>\n",
       "  </thead>\n",
       "  <tbody>\n",
       "    <tr>\n",
       "      <th>labels</th>\n",
       "      <td>SYM</td>\n",
       "      <td>NNPS</td>\n",
       "      <td>WDT</td>\n",
       "      <td>VBN</td>\n",
       "      <td>''</td>\n",
       "      <td>RBR</td>\n",
       "      <td>JJR</td>\n",
       "      <td>``</td>\n",
       "      <td>NNP</td>\n",
       "      <td>)</td>\n",
       "      <td>...</td>\n",
       "      <td>RT</td>\n",
       "      <td>TO</td>\n",
       "      <td>(</td>\n",
       "      <td>WRB</td>\n",
       "      <td>WP</td>\n",
       "      <td>,</td>\n",
       "      <td>USR</td>\n",
       "      <td>HT</td>\n",
       "      <td>URL</td>\n",
       "      <td>POS</td>\n",
       "    </tr>\n",
       "    <tr>\n",
       "      <th>count</th>\n",
       "      <td>2</td>\n",
       "      <td>6</td>\n",
       "      <td>4</td>\n",
       "      <td>549</td>\n",
       "      <td>75</td>\n",
       "      <td>28</td>\n",
       "      <td>140</td>\n",
       "      <td>53</td>\n",
       "      <td>2194</td>\n",
       "      <td>109</td>\n",
       "      <td>...</td>\n",
       "      <td>2047</td>\n",
       "      <td>1470</td>\n",
       "      <td>49</td>\n",
       "      <td>624</td>\n",
       "      <td>383</td>\n",
       "      <td>1076</td>\n",
       "      <td>5175</td>\n",
       "      <td>2011</td>\n",
       "      <td>914</td>\n",
       "      <td>108</td>\n",
       "    </tr>\n",
       "    <tr>\n",
       "      <th>mean</th>\n",
       "      <td>6.53</td>\n",
       "      <td>3.69</td>\n",
       "      <td>3.075</td>\n",
       "      <td>0.288</td>\n",
       "      <td>0.284</td>\n",
       "      <td>0.269</td>\n",
       "      <td>0.209</td>\n",
       "      <td>0.204</td>\n",
       "      <td>0.199</td>\n",
       "      <td>0.139</td>\n",
       "      <td>...</td>\n",
       "      <td>0.005</td>\n",
       "      <td>0.005</td>\n",
       "      <td>0.002</td>\n",
       "      <td>0.002</td>\n",
       "      <td>0.002</td>\n",
       "      <td>0.0</td>\n",
       "      <td>0.0</td>\n",
       "      <td>0.0</td>\n",
       "      <td>0.0</td>\n",
       "      <td>0.0</td>\n",
       "    </tr>\n",
       "    <tr>\n",
       "      <th>sum</th>\n",
       "      <td>13.06</td>\n",
       "      <td>22.14</td>\n",
       "      <td>12.3</td>\n",
       "      <td>158.29</td>\n",
       "      <td>21.29</td>\n",
       "      <td>7.53</td>\n",
       "      <td>29.19</td>\n",
       "      <td>10.81</td>\n",
       "      <td>437.27</td>\n",
       "      <td>15.14</td>\n",
       "      <td>...</td>\n",
       "      <td>11.19</td>\n",
       "      <td>7.32</td>\n",
       "      <td>0.12</td>\n",
       "      <td>1.48</td>\n",
       "      <td>0.71</td>\n",
       "      <td>0.23</td>\n",
       "      <td>0.34</td>\n",
       "      <td>0.04</td>\n",
       "      <td>0.0</td>\n",
       "      <td>0.0</td>\n",
       "    </tr>\n",
       "  </tbody>\n",
       "</table>\n",
       "<p>4 rows × 43 columns</p>\n",
       "</div>"
      ],
      "text/plain": [
       "           0      1      2       3      4      5      6      7       8    \n",
       "labels    SYM   NNPS    WDT     VBN     ''    RBR    JJR     ``     NNP  \\\n",
       "count       2      6      4     549     75     28    140     53    2194   \n",
       "mean     6.53   3.69  3.075   0.288  0.284  0.269  0.209  0.204   0.199   \n",
       "sum     13.06  22.14   12.3  158.29  21.29   7.53  29.19  10.81  437.27   \n",
       "\n",
       "           9   ...     33     34     35     36     37    38    39    40   41   \n",
       "labels      )  ...     RT     TO      (    WRB     WP     ,   USR    HT  URL  \\\n",
       "count     109  ...   2047   1470     49    624    383  1076  5175  2011  914   \n",
       "mean    0.139  ...  0.005  0.005  0.002  0.002  0.002   0.0   0.0   0.0  0.0   \n",
       "sum     15.14  ...  11.19   7.32   0.12   1.48   0.71  0.23  0.34  0.04  0.0   \n",
       "\n",
       "         42  \n",
       "labels  POS  \n",
       "count   108  \n",
       "mean    0.0  \n",
       "sum     0.0  \n",
       "\n",
       "[4 rows x 43 columns]"
      ]
     },
     "execution_count": 44,
     "metadata": {},
     "output_type": "execute_result"
    }
   ],
   "source": [
    "(\n",
    "    eval_df_tokens.groupby(\"labels\")[[\"loss\"]] \n",
    "    .agg([\"count\", \"mean\", \"sum\"])\n",
    "    .droplevel(level=0, axis=1)\n",
    "    .sort_values(by=\"mean\", ascending=False)\n",
    "    .reset_index()\n",
    "    .round(3)\n",
    "    .fillna(0)\n",
    "    .T\n",
    ")"
   ]
  },
  {
   "attachments": {},
   "cell_type": "markdown",
   "metadata": {},
   "source": [
    "#### Create Function to Display Confusion Matrix"
   ]
  },
  {
   "cell_type": "code",
   "execution_count": 82,
   "metadata": {},
   "outputs": [],
   "source": [
    "import matplotlib.pyplot as plt\n",
    "from sklearn.metrics import confusion_matrix, ConfusionMatrixDisplay\n",
    "\n",
    "def plot_confusion_matrix(y_preds, y_true, labels):\n",
    "    cm = confusion_matrix(y_true, y_preds, normalize=\"true\")\n",
    "    fig, ax = plt.subplots(figsize=(30, 30))\n",
    "    disp = ConfusionMatrixDisplay(confusion_matrix=cm, display_labels=labels)\n",
    "    disp.plot(cmap=\"Blues\", values_format=\".2f\", ax=ax, colorbar=False)\n",
    "    plt.title(\"Normalized confusion matrix\")\n",
    "    plt.show()"
   ]
  },
  {
   "attachments": {},
   "cell_type": "markdown",
   "metadata": {},
   "source": [
    "#### Display Confusion Matrix"
   ]
  },
  {
   "cell_type": "code",
   "execution_count": 84,
   "metadata": {},
   "outputs": [
    {
     "data": {
      "image/png": "[encoded data removed]",
      "text/plain": [
       "<Figure size 3000x3000 with 1 Axes>"
      ]
     },
     "metadata": {},
     "output_type": "display_data"
    }
   ],
   "source": [
    "eval_token_list = list(set(eval_df_tokens['labels']))\n",
    "\n",
    "plot_confusion_matrix(eval_df_tokens[\"labels\"], eval_df_tokens[\"predicted_label\"],\n",
    "                      eval_token_list)"
   ]
  },
  {
   "attachments": {},
   "cell_type": "markdown",
   "metadata": {},
   "source": [
    "#### Define Function to Display Example Token Sequences Along With Labels & Losses"
   ]
  },
  {
   "cell_type": "code",
   "execution_count": 85,
   "metadata": {},
   "outputs": [
    {
     "data": {
      "text/html": [
       "<div>\n",
       "<style scoped>\n",
       "    .dataframe tbody tr th:only-of-type {\n",
       "        vertical-align: middle;\n",
       "    }\n",
       "\n",
       "    .dataframe tbody tr th {\n",
       "        vertical-align: top;\n",
       "    }\n",
       "\n",
       "    .dataframe thead th {\n",
       "        text-align: right;\n",
       "    }\n",
       "</style>\n",
       "<table border=\"1\" class=\"dataframe\">\n",
       "  <thead>\n",
       "    <tr style=\"text-align: right;\">\n",
       "      <th></th>\n",
       "      <th>0</th>\n",
       "      <th>1</th>\n",
       "      <th>2</th>\n",
       "      <th>3</th>\n",
       "      <th>4</th>\n",
       "      <th>5</th>\n",
       "      <th>6</th>\n",
       "      <th>7</th>\n",
       "      <th>8</th>\n",
       "      <th>9</th>\n",
       "      <th>10</th>\n",
       "      <th>11</th>\n",
       "      <th>12</th>\n",
       "      <th>13</th>\n",
       "    </tr>\n",
       "  </thead>\n",
       "  <tbody>\n",
       "    <tr>\n",
       "      <th>tokens</th>\n",
       "      <td>Go</td>\n",
       "      <td>cardinal</td>\n",
       "      <td>##s</td>\n",
       "      <td>!</td>\n",
       "      <td>!</td>\n",
       "      <td>!</td>\n",
       "      <td>!</td>\n",
       "      <td>#</td>\n",
       "      <td>game</td>\n",
       "      <td>##2</td>\n",
       "      <td>#</td>\n",
       "      <td>NL</td>\n",
       "      <td>##CS</td>\n",
       "      <td>[SEP]</td>\n",
       "    </tr>\n",
       "    <tr>\n",
       "      <th>labels</th>\n",
       "      <td>VB</td>\n",
       "      <td>NNPS</td>\n",
       "      <td>IGN</td>\n",
       "      <td>UH</td>\n",
       "      <td>.</td>\n",
       "      <td>UH</td>\n",
       "      <td>.</td>\n",
       "      <td>HT</td>\n",
       "      <td>IGN</td>\n",
       "      <td>IGN</td>\n",
       "      <td>HT</td>\n",
       "      <td>IGN</td>\n",
       "      <td>IGN</td>\n",
       "      <td>IGN</td>\n",
       "    </tr>\n",
       "    <tr>\n",
       "      <th>preds</th>\n",
       "      <td>VB</td>\n",
       "      <td>NNS</td>\n",
       "      <td>NNS</td>\n",
       "      <td>.</td>\n",
       "      <td>UH</td>\n",
       "      <td>.</td>\n",
       "      <td>.</td>\n",
       "      <td>HT</td>\n",
       "      <td>HT</td>\n",
       "      <td>HT</td>\n",
       "      <td>HT</td>\n",
       "      <td>NNP</td>\n",
       "      <td>HT</td>\n",
       "      <td>.</td>\n",
       "    </tr>\n",
       "    <tr>\n",
       "      <th>losses</th>\n",
       "      <td>0.03</td>\n",
       "      <td>9.29</td>\n",
       "      <td>0.00</td>\n",
       "      <td>8.61</td>\n",
       "      <td>4.15</td>\n",
       "      <td>5.25</td>\n",
       "      <td>0.00</td>\n",
       "      <td>0.00</td>\n",
       "      <td>0.00</td>\n",
       "      <td>0.00</td>\n",
       "      <td>0.00</td>\n",
       "      <td>0.00</td>\n",
       "      <td>0.00</td>\n",
       "      <td>0.00</td>\n",
       "    </tr>\n",
       "  </tbody>\n",
       "</table>\n",
       "</div>"
      ],
      "text/plain": [
       "          0         1     2     3     4     5     6     7     8     9     10   \n",
       "tokens    Go  cardinal   ##s     !     !     !     !     #  game   ##2     #  \\\n",
       "labels    VB      NNPS   IGN    UH     .    UH     .    HT   IGN   IGN    HT   \n",
       "preds     VB       NNS   NNS     .    UH     .     .    HT    HT    HT    HT   \n",
       "losses  0.03      9.29  0.00  8.61  4.15  5.25  0.00  0.00  0.00  0.00  0.00   \n",
       "\n",
       "          11    12     13  \n",
       "tokens    NL  ##CS  [SEP]  \n",
       "labels   IGN   IGN    IGN  \n",
       "preds    NNP    HT      .  \n",
       "losses  0.00  0.00   0.00  "
      ]
     },
     "metadata": {},
     "output_type": "display_data"
    },
    {
     "data": {
      "text/html": [
       "<div>\n",
       "<style scoped>\n",
       "    .dataframe tbody tr th:only-of-type {\n",
       "        vertical-align: middle;\n",
       "    }\n",
       "\n",
       "    .dataframe tbody tr th {\n",
       "        vertical-align: top;\n",
       "    }\n",
       "\n",
       "    .dataframe thead th {\n",
       "        text-align: right;\n",
       "    }\n",
       "</style>\n",
       "<table border=\"1\" class=\"dataframe\">\n",
       "  <thead>\n",
       "    <tr style=\"text-align: right;\">\n",
       "      <th></th>\n",
       "      <th>0</th>\n",
       "      <th>1</th>\n",
       "      <th>2</th>\n",
       "      <th>3</th>\n",
       "      <th>4</th>\n",
       "      <th>5</th>\n",
       "      <th>6</th>\n",
       "      <th>7</th>\n",
       "      <th>8</th>\n",
       "      <th>9</th>\n",
       "      <th>...</th>\n",
       "      <th>42</th>\n",
       "      <th>43</th>\n",
       "      <th>44</th>\n",
       "      <th>45</th>\n",
       "      <th>46</th>\n",
       "      <th>47</th>\n",
       "      <th>48</th>\n",
       "      <th>49</th>\n",
       "      <th>50</th>\n",
       "      <th>51</th>\n",
       "    </tr>\n",
       "  </thead>\n",
       "  <tbody>\n",
       "    <tr>\n",
       "      <th>tokens</th>\n",
       "      <td>#</td>\n",
       "      <td>W</td>\n",
       "      <td>##EL</td>\n",
       "      <td>##O</td>\n",
       "      <td>##VE</td>\n",
       "      <td>##IF</td>\n",
       "      <td>##Y</td>\n",
       "      <td>##MU</td>\n",
       "      <td>##SI</td>\n",
       "      <td>##C</td>\n",
       "      <td>...</td>\n",
       "      <td>##Y</td>\n",
       "      <td>##MU</td>\n",
       "      <td>##SI</td>\n",
       "      <td>##C</td>\n",
       "      <td>##VI</td>\n",
       "      <td>##DE</td>\n",
       "      <td>##O</td>\n",
       "      <td>!</td>\n",
       "      <td>!</td>\n",
       "      <td>[SEP]</td>\n",
       "    </tr>\n",
       "    <tr>\n",
       "      <th>labels</th>\n",
       "      <td>HT</td>\n",
       "      <td>IGN</td>\n",
       "      <td>IGN</td>\n",
       "      <td>IGN</td>\n",
       "      <td>IGN</td>\n",
       "      <td>IGN</td>\n",
       "      <td>IGN</td>\n",
       "      <td>IGN</td>\n",
       "      <td>IGN</td>\n",
       "      <td>IGN</td>\n",
       "      <td>...</td>\n",
       "      <td>IGN</td>\n",
       "      <td>IGN</td>\n",
       "      <td>IGN</td>\n",
       "      <td>IGN</td>\n",
       "      <td>IGN</td>\n",
       "      <td>IGN</td>\n",
       "      <td>IGN</td>\n",
       "      <td>.</td>\n",
       "      <td>.</td>\n",
       "      <td>IGN</td>\n",
       "    </tr>\n",
       "    <tr>\n",
       "      <th>preds</th>\n",
       "      <td>HT</td>\n",
       "      <td>NNP</td>\n",
       "      <td>NNP</td>\n",
       "      <td>NNP</td>\n",
       "      <td>NNP</td>\n",
       "      <td>NN</td>\n",
       "      <td>NN</td>\n",
       "      <td>NN</td>\n",
       "      <td>NN</td>\n",
       "      <td>NN</td>\n",
       "      <td>...</td>\n",
       "      <td>NN</td>\n",
       "      <td>NN</td>\n",
       "      <td>NN</td>\n",
       "      <td>NN</td>\n",
       "      <td>NN</td>\n",
       "      <td>NN</td>\n",
       "      <td>NN</td>\n",
       "      <td>.</td>\n",
       "      <td>.</td>\n",
       "      <td>.</td>\n",
       "    </tr>\n",
       "    <tr>\n",
       "      <th>losses</th>\n",
       "      <td>0.00</td>\n",
       "      <td>0.00</td>\n",
       "      <td>0.00</td>\n",
       "      <td>0.00</td>\n",
       "      <td>0.00</td>\n",
       "      <td>0.00</td>\n",
       "      <td>0.00</td>\n",
       "      <td>0.00</td>\n",
       "      <td>0.00</td>\n",
       "      <td>0.00</td>\n",
       "      <td>...</td>\n",
       "      <td>0.00</td>\n",
       "      <td>0.00</td>\n",
       "      <td>0.00</td>\n",
       "      <td>0.00</td>\n",
       "      <td>0.00</td>\n",
       "      <td>0.00</td>\n",
       "      <td>0.00</td>\n",
       "      <td>0.00</td>\n",
       "      <td>0.00</td>\n",
       "      <td>0.00</td>\n",
       "    </tr>\n",
       "  </tbody>\n",
       "</table>\n",
       "<p>4 rows × 52 columns</p>\n",
       "</div>"
      ],
      "text/plain": [
       "          0     1     2     3     4     5     6     7     8     9   ...    42   \n",
       "tokens     #     W  ##EL   ##O  ##VE  ##IF   ##Y  ##MU  ##SI   ##C  ...   ##Y  \\\n",
       "labels    HT   IGN   IGN   IGN   IGN   IGN   IGN   IGN   IGN   IGN  ...   IGN   \n",
       "preds     HT   NNP   NNP   NNP   NNP    NN    NN    NN    NN    NN  ...    NN   \n",
       "losses  0.00  0.00  0.00  0.00  0.00  0.00  0.00  0.00  0.00  0.00  ...  0.00   \n",
       "\n",
       "          43    44    45    46    47    48    49    50     51  \n",
       "tokens  ##MU  ##SI   ##C  ##VI  ##DE   ##O     !     !  [SEP]  \n",
       "labels   IGN   IGN   IGN   IGN   IGN   IGN     .     .    IGN  \n",
       "preds     NN    NN    NN    NN    NN    NN     .     .      .  \n",
       "losses  0.00  0.00  0.00  0.00  0.00  0.00  0.00  0.00   0.00  \n",
       "\n",
       "[4 rows x 52 columns]"
      ]
     },
     "metadata": {},
     "output_type": "display_data"
    },
    {
     "data": {
      "text/html": [
       "<div>\n",
       "<style scoped>\n",
       "    .dataframe tbody tr th:only-of-type {\n",
       "        vertical-align: middle;\n",
       "    }\n",
       "\n",
       "    .dataframe tbody tr th {\n",
       "        vertical-align: top;\n",
       "    }\n",
       "\n",
       "    .dataframe thead th {\n",
       "        text-align: right;\n",
       "    }\n",
       "</style>\n",
       "<table border=\"1\" class=\"dataframe\">\n",
       "  <thead>\n",
       "    <tr style=\"text-align: right;\">\n",
       "      <th></th>\n",
       "      <th>0</th>\n",
       "      <th>1</th>\n",
       "      <th>2</th>\n",
       "      <th>3</th>\n",
       "      <th>4</th>\n",
       "      <th>5</th>\n",
       "      <th>6</th>\n",
       "      <th>7</th>\n",
       "      <th>8</th>\n",
       "      <th>9</th>\n",
       "      <th>...</th>\n",
       "      <th>25</th>\n",
       "      <th>26</th>\n",
       "      <th>27</th>\n",
       "      <th>28</th>\n",
       "      <th>29</th>\n",
       "      <th>30</th>\n",
       "      <th>31</th>\n",
       "      <th>32</th>\n",
       "      <th>33</th>\n",
       "      <th>34</th>\n",
       "    </tr>\n",
       "  </thead>\n",
       "  <tbody>\n",
       "    <tr>\n",
       "      <th>tokens</th>\n",
       "      <td>The</td>\n",
       "      <td>comments</td>\n",
       "      <td>!</td>\n",
       "      <td>!</td>\n",
       "      <td>!</td>\n",
       "      <td>!</td>\n",
       "      <td>!</td>\n",
       "      <td>!</td>\n",
       "      <td>O</td>\n",
       "      <td>##m</td>\n",
       "      <td>...</td>\n",
       "      <td>my</td>\n",
       "      <td>heart</td>\n",
       "      <td>is</td>\n",
       "      <td>going</td>\n",
       "      <td>to</td>\n",
       "      <td>jump</td>\n",
       "      <td>and</td>\n",
       "      <td>run</td>\n",
       "      <td>away</td>\n",
       "      <td>[SEP]</td>\n",
       "    </tr>\n",
       "    <tr>\n",
       "      <th>labels</th>\n",
       "      <td>DT</td>\n",
       "      <td>NNS</td>\n",
       "      <td>.</td>\n",
       "      <td>.</td>\n",
       "      <td>UH</td>\n",
       "      <td>.</td>\n",
       "      <td>UH</td>\n",
       "      <td>.</td>\n",
       "      <td>UH</td>\n",
       "      <td>IGN</td>\n",
       "      <td>...</td>\n",
       "      <td>PRP$</td>\n",
       "      <td>NN</td>\n",
       "      <td>VBZ</td>\n",
       "      <td>VBG</td>\n",
       "      <td>TO</td>\n",
       "      <td>VB</td>\n",
       "      <td>CC</td>\n",
       "      <td>VB</td>\n",
       "      <td>RB</td>\n",
       "      <td>IGN</td>\n",
       "    </tr>\n",
       "    <tr>\n",
       "      <th>preds</th>\n",
       "      <td>DT</td>\n",
       "      <td>NNS</td>\n",
       "      <td>.</td>\n",
       "      <td>UH</td>\n",
       "      <td>.</td>\n",
       "      <td>UH</td>\n",
       "      <td>.</td>\n",
       "      <td>.</td>\n",
       "      <td>UH</td>\n",
       "      <td>UH</td>\n",
       "      <td>...</td>\n",
       "      <td>PRP$</td>\n",
       "      <td>NN</td>\n",
       "      <td>VBZ</td>\n",
       "      <td>VBG</td>\n",
       "      <td>TO</td>\n",
       "      <td>VB</td>\n",
       "      <td>CC</td>\n",
       "      <td>VB</td>\n",
       "      <td>RB</td>\n",
       "      <td>.</td>\n",
       "    </tr>\n",
       "    <tr>\n",
       "      <th>losses</th>\n",
       "      <td>0.00</td>\n",
       "      <td>0.00</td>\n",
       "      <td>0.00</td>\n",
       "      <td>5.94</td>\n",
       "      <td>5.39</td>\n",
       "      <td>2.34</td>\n",
       "      <td>3.79</td>\n",
       "      <td>0.00</td>\n",
       "      <td>0.00</td>\n",
       "      <td>0.00</td>\n",
       "      <td>...</td>\n",
       "      <td>0.00</td>\n",
       "      <td>0.00</td>\n",
       "      <td>0.00</td>\n",
       "      <td>0.00</td>\n",
       "      <td>0.00</td>\n",
       "      <td>0.00</td>\n",
       "      <td>0.00</td>\n",
       "      <td>0.00</td>\n",
       "      <td>0.00</td>\n",
       "      <td>0.00</td>\n",
       "    </tr>\n",
       "  </tbody>\n",
       "</table>\n",
       "<p>4 rows × 35 columns</p>\n",
       "</div>"
      ],
      "text/plain": [
       "          0         1     2     3     4     5     6     7     8     9   ...   \n",
       "tokens   The  comments     !     !     !     !     !     !     O   ##m  ...  \\\n",
       "labels    DT       NNS     .     .    UH     .    UH     .    UH   IGN  ...   \n",
       "preds     DT       NNS     .    UH     .    UH     .     .    UH    UH  ...   \n",
       "losses  0.00      0.00  0.00  5.94  5.39  2.34  3.79  0.00  0.00  0.00  ...   \n",
       "\n",
       "          25     26    27     28    29    30    31    32    33     34  \n",
       "tokens    my  heart    is  going    to  jump   and   run  away  [SEP]  \n",
       "labels  PRP$     NN   VBZ    VBG    TO    VB    CC    VB    RB    IGN  \n",
       "preds   PRP$     NN   VBZ    VBG    TO    VB    CC    VB    RB      .  \n",
       "losses  0.00   0.00  0.00   0.00  0.00  0.00  0.00  0.00  0.00   0.00  \n",
       "\n",
       "[4 rows x 35 columns]"
      ]
     },
     "metadata": {},
     "output_type": "display_data"
    }
   ],
   "source": [
    "def get_samples(df):\n",
    "    for _, row in df.iterrows():\n",
    "        labels, preds, tokens, losses = [], [], [], []\n",
    "        for i, mask in enumerate(row[\"attention_mask\"]):\n",
    "            if i not in {0, len(row[\"attention_mask\"])}:\n",
    "                labels.append(row[\"labels\"][i])\n",
    "                preds.append(row[\"predicted_label\"][i])\n",
    "                tokens.append(row[\"input_tokens\"][i])\n",
    "                losses.append(f\"{row['loss'][i]:.2f}\")\n",
    "        eval_df_tmp = pd.DataFrame({\"tokens\": tokens, \"labels\": labels, \n",
    "                               \"preds\": preds, \"losses\": losses}).T\n",
    "        yield eval_df_tmp\n",
    "\n",
    "eval_df[\"total_loss\"] = eval_df[\"loss\"].apply(sum)\n",
    "eval_df_tmp = eval_df.sort_values(by=\"total_loss\", ascending=False).head(3)\n",
    "\n",
    "for sample in get_samples(eval_df_tmp):\n",
    "    display(sample)"
   ]
  },
  {
   "attachments": {},
   "cell_type": "markdown",
   "metadata": {},
   "source": [
    "### Notes & Other Takeaways From This Project\n",
    "\n",
    "****\n",
    "- While I did not learn that I should use poseval instead of seqeval for evaluating this model until after the first epoch completed, the project still turned out really well!\n",
    "\n",
    "- Once I complete the list of token classification projects that I have scripted/developed, I will come back to this and run it (maybe with only 1 or two epochs) with the poseval evaluator.\n",
    "\n",
    "- Normally, I like to include some nice visualizations, which I (unfortunately) did not do with this project. Because I wanted to focus on the main part of the project (for this project and many others), I forewent the visualizations. I intend on completed some as an acillary project after completing the currently list of projects that I have.\n",
    "\n",
    "****"
   ]
  },
  {
   "attachments": {},
   "cell_type": "markdown",
   "metadata": {},
   "source": [
    "### Citations\n",
    "\n",
    "- Model Checkpoint\n",
    "\n",
    "    > @article{DBLP:journals/corr/abs-1810-04805, author = {Jacob Devlin and Ming{-}Wei Chang and Kenton Lee and Kristina Toutanova}, title = {{BERT:} Pre-training of Deep Bidirectional Transformers for Language Understanding}, journal = {CoRR}, volume = {abs/1810.04805}, year = {2018}, url = {http://arxiv.org/abs/1810.04805}, archivePrefix = {arXiv}, eprint = {1810.04805}, timestamp = {Tue, 30 Oct 2018 20:39:56 +0100}, biburl = {https://dblp.org/rec/journals/corr/abs-1810-04805.bib}, bibsource = {dblp computer science bibliography, https://dblp.org}}\n",
    "\n",
    "- Dataset\n",
    "\n",
    "    > @inproceedings{derczynski2013twitter, title={Twitter part-of-speech tagging for all: Overcoming sparse and noisy data}, author={Derczynski, Leon and Ritter, Alan and Clark, Sam and Bontcheva, Kalina}, booktitle={Proceedings of the international conference recent advances in natural language ranlp 2013}, pages={198--206}, year={2013}}\n",
    "\n",
    "- Metric (SeqEval)\n",
    "\n",
    "    > @inproceedings{ramshaw-marcus-1995-text, title = \"Text Chunking using Transformation-Based Learning\", author = \"Ramshaw, Lance and Marcus, Mitch\", booktitle = \"Third Workshop on Very Large Corpora\", year = \"1995\", url = \"https://www.aclweb.org/anthology/W95-0107\",}\n",
    "    \n",
    "    > @misc{seqeval, title={{seqeval}: A Python framework for sequence labeling evaluation}, url={https://github.com/chakki-works/seqeval}, note={Software available from https://github.com/chakki-works/seqeval}, author={Hiroki Nakayama}, year={2018},}"
   ]
  }
 ],
 "metadata": {
  "kernelspec": {
   "display_name": "dl",
   "language": "python",
   "name": "python3"
  },
  "language_info": {
   "codemirror_mode": {
    "name": "ipython",
    "version": 3
   },
   "file_extension": ".py",
   "mimetype": "text/x-python",
   "name": "python",
   "nbconvert_exporter": "python",
   "pygments_lexer": "ipython3",
   "version": "3.9.12"
  },
  "orig_nbformat": 4
 },
 "nbformat": 4,
 "nbformat_minor": 2
}
