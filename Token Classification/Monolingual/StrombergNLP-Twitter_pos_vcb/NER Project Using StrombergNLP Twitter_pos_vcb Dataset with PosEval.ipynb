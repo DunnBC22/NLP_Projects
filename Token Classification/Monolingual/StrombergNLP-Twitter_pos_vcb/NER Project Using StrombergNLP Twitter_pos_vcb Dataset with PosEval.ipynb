{
 "cells": [
  {
   "attachments": {},
   "cell_type": "markdown",
   "metadata": {},
   "source": [
    "## Monolingual Named Entity Recognition (Stromberg NLP Twitter P.o.S. Dataset)\n",
    "\n",
    "Dataset Source: https://huggingface.co/datasets/strombergnlp/twitter_pos_vcb"
   ]
  },
  {
   "attachments": {},
   "cell_type": "markdown",
   "metadata": {},
   "source": [
    "#### Import Necessary Libraries"
   ]
  },
  {
   "cell_type": "code",
   "execution_count": 1,
   "metadata": {},
   "outputs": [
    {
     "name": "stdout",
     "output_type": "stream",
     "text": [
      "Git LFS initialized.\n"
     ]
    }
   ],
   "source": [
    "import os, sys\n",
    "from collections import Counter, defaultdict\n",
    "os.environ['TOKENIZERS_PARALLELISM']='false'\n",
    "\n",
    "import pandas as pd\n",
    "import numpy as np\n",
    "import matplotlib.pyplot as plt\n",
    "\n",
    "import sklearn\n",
    "from sklearn.metrics import confusion_matrix, ConfusionMatrixDisplay\n",
    "\n",
    "import datasets\n",
    "from datasets import load_dataset, DatasetDict\n",
    "\n",
    "import torch\n",
    "from torch.nn.functional import cross_entropy\n",
    "\n",
    "import transformers\n",
    "from transformers import AutoTokenizer, AutoModelForTokenClassification\n",
    "from transformers import DataCollatorForTokenClassification\n",
    "from transformers import Trainer, TrainingArguments\n",
    "\n",
    "import evaluate\n",
    "\n",
    "!git lfs install"
   ]
  },
  {
   "attachments": {},
   "cell_type": "markdown",
   "metadata": {},
   "source": [
    "#### Display Library Versions"
   ]
  },
  {
   "cell_type": "code",
   "execution_count": 2,
   "metadata": {},
   "outputs": [
    {
     "name": "stdout",
     "output_type": "stream",
     "text": [
      "          Python : 3.9.12\n",
      "           NumPy : 1.24.3\n",
      "          Pandas : 2.0.1\n",
      "           Torch : 2.0.0\n",
      "    Transformers : 4.28.1\n",
      "        datasets : 2.11.0\n",
      "         Sklearn : 1.2.2\n"
     ]
    }
   ],
   "source": [
    "print(\"Python :\".rjust(18), sys.version[0:6])\n",
    "print(\"NumPy :\".rjust(18), np.__version__)\n",
    "print(\"Pandas :\".rjust(18), pd.__version__)\n",
    "print(\"Torch :\".rjust(18), torch.__version__)\n",
    "print(\"Transformers :\".rjust(18), transformers.__version__)\n",
    "print(\"datasets :\".rjust(18), datasets.__version__)\n",
    "print(\"Sklearn :\".rjust(18), sklearn.__version__)"
   ]
  },
  {
   "attachments": {},
   "cell_type": "markdown",
   "metadata": {},
   "source": [
    "#### Ingest English Subset of Dataset"
   ]
  },
  {
   "cell_type": "code",
   "execution_count": 3,
   "metadata": {},
   "outputs": [
    {
     "name": "stderr",
     "output_type": "stream",
     "text": [
      "Found cached dataset twitter_pos_vcb (/Users/briandunn/.cache/huggingface/datasets/strombergnlp___twitter_pos_vcb/twitter-pos-vcb/1.0.0/2c671a933c7ffb84cf124a1f987cd73fb883e6b3628ee4a01f5326f5aefc296a)\n"
     ]
    },
    {
     "data": {
      "application/vnd.jupyter.widget-view+json": {
       "model_id": "53b552134dfb45baa2015acd2f34f925",
       "version_major": 2,
       "version_minor": 0
      },
      "text/plain": [
       "  0%|          | 0/1 [00:00<?, ?it/s]"
      ]
     },
     "metadata": {},
     "output_type": "display_data"
    },
    {
     "data": {
      "text/plain": [
       "DatasetDict({\n",
       "    train: Dataset({\n",
       "        features: ['id', 'tokens', 'pos_tags'],\n",
       "        num_rows: 159492\n",
       "    })\n",
       "})"
      ]
     },
     "execution_count": 3,
     "metadata": {},
     "output_type": "execute_result"
    }
   ],
   "source": [
    "data = load_dataset(\"strombergnlp/twitter_pos_vcb\")\n",
    "\n",
    "data"
   ]
  },
  {
   "attachments": {},
   "cell_type": "markdown",
   "metadata": {},
   "source": [
    "#### Split Dataset into DatasetDict"
   ]
  },
  {
   "cell_type": "code",
   "execution_count": 4,
   "metadata": {},
   "outputs": [
    {
     "name": "stdout",
     "output_type": "stream",
     "text": [
      "Training data shape: (119619, 3)\n",
      "Testing data shape: (31899, 3)\n",
      "Validation data shape: (7974, 3)\n"
     ]
    }
   ],
   "source": [
    "# Split Dataset into train/test/eval datasets\n",
    "# then pack all of them into DatasetDict\n",
    "train_testvalid = data['train'].train_test_split(test_size=0.25)\n",
    "test_valid = train_testvalid['test'].train_test_split(test_size=0.80)\n",
    "\n",
    "ds = DatasetDict({\n",
    "    'train': train_testvalid['train'], \n",
    "    'test': test_valid['test'], \n",
    "    'eval': test_valid['train']})\n",
    "\n",
    "print('Training data shape:', ds['train'].shape)\n",
    "print('Testing data shape:', ds['test'].shape)\n",
    "print('Validation data shape:', ds['eval'].shape)"
   ]
  },
  {
   "attachments": {},
   "cell_type": "markdown",
   "metadata": {},
   "source": [
    "#### Example"
   ]
  },
  {
   "cell_type": "code",
   "execution_count": 5,
   "metadata": {},
   "outputs": [
    {
     "data": {
      "text/plain": [
       "{'id': '144607', 'tokens': ['#food'], 'pos_tags': [48]}"
      ]
     },
     "execution_count": 5,
     "metadata": {},
     "output_type": "execute_result"
    }
   ],
   "source": [
    "example = ds['train'][12]\n",
    "\n",
    "example"
   ]
  },
  {
   "attachments": {},
   "cell_type": "markdown",
   "metadata": {},
   "source": [
    "#### Display Feature Information About Each Feature"
   ]
  },
  {
   "cell_type": "code",
   "execution_count": 6,
   "metadata": {},
   "outputs": [
    {
     "name": "stdout",
     "output_type": "stream",
     "text": [
      "id: \n",
      "Value(dtype='string', id=None)\n",
      "\n",
      "tokens: \n",
      "Sequence(feature=Value(dtype='string', id=None), length=-1, id=None)\n",
      "\n",
      "pos_tags: \n",
      "Sequence(feature=ClassLabel(names=['\"', \"''\", '#', '$', '(', ')', ',', '.', ':', '``', 'CC', 'CD', 'DT', 'EX', 'FW', 'IN', 'JJ', 'JJR', 'JJS', 'LS', 'MD', 'NN', 'NNP', 'NNPS', 'NNS', 'NN|SYM', 'PDT', 'POS', 'PRP', 'PRP$', 'RB', 'RBR', 'RBS', 'RP', 'SYM', 'TO', 'UH', 'VB', 'VBD', 'VBG', 'VBN', 'VBP', 'VBZ', 'WDT', 'WP', 'WP$', 'WRB', 'RT', 'HT', 'USR', 'URL'], id=None), length=-1, id=None)\n",
      "\n"
     ]
    }
   ],
   "source": [
    "for k, v in ds[\"train\"].features.items():\n",
    "    print(f\"{k}: \\n{v}\\n\")"
   ]
  },
  {
   "attachments": {},
   "cell_type": "markdown",
   "metadata": {},
   "source": [
    "#### Define Tag Values & Conversions Between String & Integer Values"
   ]
  },
  {
   "cell_type": "code",
   "execution_count": 7,
   "metadata": {},
   "outputs": [
    {
     "name": "stdout",
     "output_type": "stream",
     "text": [
      "List of tag values: \n",
      "['\"', \"''\", '#', '$', '(', ')', ',', '.', ':', '``', 'CC', 'CD', 'DT', 'EX', 'FW', 'IN', 'JJ', 'JJR', 'JJS', 'LS', 'MD', 'NN', 'NNP', 'NNPS', 'NNS', 'NN|SYM', 'PDT', 'POS', 'PRP', 'PRP$', 'RB', 'RBR', 'RBS', 'RP', 'SYM', 'TO', 'UH', 'VB', 'VBD', 'VBG', 'VBN', 'VBP', 'VBZ', 'WDT', 'WP', 'WP$', 'WRB', 'RT', 'HT', 'USR', 'URL']\n",
      "Number of NER Tags: \n",
      "51\n",
      "id2label: \n",
      "{0: '\"', 1: \"''\", 2: '#', 3: '$', 4: '(', 5: ')', 6: ',', 7: '.', 8: ':', 9: '``', 10: 'CC', 11: 'CD', 12: 'DT', 13: 'EX', 14: 'FW', 15: 'IN', 16: 'JJ', 17: 'JJR', 18: 'JJS', 19: 'LS', 20: 'MD', 21: 'NN', 22: 'NNP', 23: 'NNPS', 24: 'NNS', 25: 'NN|SYM', 26: 'PDT', 27: 'POS', 28: 'PRP', 29: 'PRP$', 30: 'RB', 31: 'RBR', 32: 'RBS', 33: 'RP', 34: 'SYM', 35: 'TO', 36: 'UH', 37: 'VB', 38: 'VBD', 39: 'VBG', 40: 'VBN', 41: 'VBP', 42: 'VBZ', 43: 'WDT', 44: 'WP', 45: 'WP$', 46: 'WRB', 47: 'RT', 48: 'HT', 49: 'USR', 50: 'URL'}\n",
      "label2id: \n",
      "{'\"': 0, \"''\": 1, '#': 2, '$': 3, '(': 4, ')': 5, ',': 6, '.': 7, ':': 8, '``': 9, 'CC': 10, 'CD': 11, 'DT': 12, 'EX': 13, 'FW': 14, 'IN': 15, 'JJ': 16, 'JJR': 17, 'JJS': 18, 'LS': 19, 'MD': 20, 'NN': 21, 'NNP': 22, 'NNPS': 23, 'NNS': 24, 'NN|SYM': 25, 'PDT': 26, 'POS': 27, 'PRP': 28, 'PRP$': 29, 'RB': 30, 'RBR': 31, 'RBS': 32, 'RP': 33, 'SYM': 34, 'TO': 35, 'UH': 36, 'VB': 37, 'VBD': 38, 'VBG': 39, 'VBN': 40, 'VBP': 41, 'VBZ': 42, 'WDT': 43, 'WP': 44, 'WP$': 45, 'WRB': 46, 'RT': 47, 'HT': 48, 'USR': 49, 'URL': 50}\n"
     ]
    }
   ],
   "source": [
    "pos_tag_values = ds['train'].features[f'pos_tags'].feature.names\n",
    "NUM_OF_LABELS = len(pos_tag_values)\n",
    "\n",
    "label2id = {tag: idx for idx, tag in enumerate(pos_tag_values)}\n",
    "id2label = {idx: tag for idx, tag in enumerate(pos_tag_values)}\n",
    "\n",
    "print(f\"List of tag values: \\n{pos_tag_values}\")\n",
    "print(f\"Number of NER Tags: \\n{NUM_OF_LABELS}\")\n",
    "print(f\"id2label: \\n{id2label}\")\n",
    "print(f\"label2id: \\n{label2id}\")"
   ]
  },
  {
   "attachments": {},
   "cell_type": "markdown",
   "metadata": {},
   "source": [
    "#### Basic Values/Constants"
   ]
  },
  {
   "cell_type": "code",
   "execution_count": 8,
   "metadata": {},
   "outputs": [],
   "source": [
    "MODEL_CKPT = \"bert-base-cased\"\n",
    "\n",
    "MODEL_NAME = f\"{MODEL_CKPT}-finetuned-Stromberg_NLP_Twitter-PoS_v2\"\n",
    "NUM_OF_EPOCHS = 2\n",
    "\n",
    "BATCH_SIZE = 16\n",
    "STRATEGY = \"epoch\"\n",
    "\n",
    "REPORTS_TO = \"tensorboard\"\n",
    "WEIGHT_DECAY = 0.01\n",
    "\n",
    "LR = 2e-5\n",
    "DEVICE = torch.device(\"cpu\")\n",
    "\n",
    "STEPS = 500"
   ]
  },
  {
   "attachments": {},
   "cell_type": "markdown",
   "metadata": {},
   "source": [
    "#### Function to Tokenize & Align Inputs"
   ]
  },
  {
   "cell_type": "code",
   "execution_count": 9,
   "metadata": {},
   "outputs": [],
   "source": [
    "tokenizer = AutoTokenizer.from_pretrained(MODEL_CKPT)\n",
    "\n",
    "def tokenize_and_align_labels(samples):\n",
    "    tokenized_inputs = tokenizer(samples[\"tokens\"], \n",
    "                                      truncation=True, \n",
    "                                      is_split_into_words=True)\n",
    "    \n",
    "    labels = []\n",
    "    \n",
    "    for idx, label in enumerate(samples[f\"pos_tags\"]):\n",
    "        word_ids = tokenized_inputs.word_ids(batch_index=idx)\n",
    "        prev_word_idx = None\n",
    "        label_ids = []\n",
    "        for word_idx in word_ids: # set special tokens to -100\n",
    "            if word_idx is None or word_idx == prev_word_idx:\n",
    "                label_ids.append(-100)\n",
    "            else:\n",
    "                label_ids.append(label[word_idx])\n",
    "            prev_word_idx = word_idx\n",
    "        labels.append(label_ids)\n",
    "    \n",
    "    tokenized_inputs[\"labels\"] = labels\n",
    "    return tokenized_inputs"
   ]
  },
  {
   "attachments": {},
   "cell_type": "markdown",
   "metadata": {},
   "source": [
    "#### Apply Above Function to Tokenize Dataset"
   ]
  },
  {
   "cell_type": "code",
   "execution_count": 10,
   "metadata": {},
   "outputs": [
    {
     "data": {
      "application/vnd.jupyter.widget-view+json": {
       "model_id": "1a56558a0f0f4e5f93a275d47c7b2e0b",
       "version_major": 2,
       "version_minor": 0
      },
      "text/plain": [
       "Map:   0%|          | 0/119619 [00:00<?, ? examples/s]"
      ]
     },
     "metadata": {},
     "output_type": "display_data"
    },
    {
     "data": {
      "application/vnd.jupyter.widget-view+json": {
       "model_id": "335cdd08d9ac478baa3afdfe321fd714",
       "version_major": 2,
       "version_minor": 0
      },
      "text/plain": [
       "Map:   0%|          | 0/31899 [00:00<?, ? examples/s]"
      ]
     },
     "metadata": {},
     "output_type": "display_data"
    },
    {
     "data": {
      "application/vnd.jupyter.widget-view+json": {
       "model_id": "eff50121aa664ee89932776b0e6b23ef",
       "version_major": 2,
       "version_minor": 0
      },
      "text/plain": [
       "Map:   0%|          | 0/7974 [00:00<?, ? examples/s]"
      ]
     },
     "metadata": {},
     "output_type": "display_data"
    }
   ],
   "source": [
    "encoded_ds = ds.map(tokenize_and_align_labels, \n",
    "                       batched=True, \n",
    "                       remove_columns=\n",
    "                        [\n",
    "                            'pos_tags', \n",
    "                            'tokens'\n",
    "                        ]\n",
    "                    )"
   ]
  },
  {
   "attachments": {},
   "cell_type": "markdown",
   "metadata": {},
   "source": [
    "#### Define Data Collator"
   ]
  },
  {
   "cell_type": "code",
   "execution_count": 11,
   "metadata": {},
   "outputs": [],
   "source": [
    "data_collator = DataCollatorForTokenClassification(tokenizer=tokenizer)"
   ]
  },
  {
   "attachments": {},
   "cell_type": "markdown",
   "metadata": {},
   "source": [
    "#### Load Custom Model"
   ]
  },
  {
   "cell_type": "code",
   "execution_count": 12,
   "metadata": {},
   "outputs": [
    {
     "name": "stderr",
     "output_type": "stream",
     "text": [
      "Some weights of the model checkpoint at bert-base-cased were not used when initializing BertForTokenClassification: ['cls.predictions.transform.dense.bias', 'cls.predictions.transform.LayerNorm.weight', 'cls.predictions.bias', 'cls.predictions.transform.LayerNorm.bias', 'cls.seq_relationship.bias', 'cls.seq_relationship.weight', 'cls.predictions.transform.dense.weight']\n",
      "- This IS expected if you are initializing BertForTokenClassification from the checkpoint of a model trained on another task or with another architecture (e.g. initializing a BertForSequenceClassification model from a BertForPreTraining model).\n",
      "- This IS NOT expected if you are initializing BertForTokenClassification from the checkpoint of a model that you expect to be exactly identical (initializing a BertForSequenceClassification model from a BertForSequenceClassification model).\n",
      "Some weights of BertForTokenClassification were not initialized from the model checkpoint at bert-base-cased and are newly initialized: ['classifier.bias', 'classifier.weight']\n",
      "You should probably TRAIN this model on a down-stream task to be able to use it for predictions and inference.\n"
     ]
    }
   ],
   "source": [
    "model = (AutoModelForTokenClassification.from_pretrained(\n",
    "    MODEL_CKPT,\n",
    "    num_labels=NUM_OF_LABELS,\n",
    "    id2label=id2label,\n",
    "    label2id=label2id\n",
    "    ).to(DEVICE))"
   ]
  },
  {
   "attachments": {},
   "cell_type": "markdown",
   "metadata": {},
   "source": [
    "#### Create Compute Metrics Function"
   ]
  },
  {
   "cell_type": "code",
   "execution_count": 13,
   "metadata": {},
   "outputs": [],
   "source": [
    "label_list = pos_tag_values\n",
    "\n",
    "poseval = evaluate.load(\"poseval\")\n",
    "\n",
    "labels = [label_list[i] for i in example[f'pos_tags']]\n",
    "\n",
    "def compute_metrics(eval_preds):\n",
    "    predictions, labels = eval_preds\n",
    "    predictions = np.argmax(predictions, \n",
    "                            axis=2)\n",
    "    \n",
    "    true_predictions = [\n",
    "        [label_list[p] for (p, l) in zip(prediction, label) if l != -100]\n",
    "        for prediction, label in zip(predictions, labels)\n",
    "    ]\n",
    "    \n",
    "    true_labels = [\n",
    "        [label_list[l] for (p, l) in zip(prediction, label) if l != -100]\n",
    "        for prediction, label in zip(predictions, labels)\n",
    "    ]\n",
    "    \n",
    "    results = poseval.compute(predictions=true_predictions, \n",
    "                              references=true_labels)\n",
    "    \n",
    "    return results"
   ]
  },
  {
   "attachments": {},
   "cell_type": "markdown",
   "metadata": {},
   "source": [
    "#### Define TrainingArguments"
   ]
  },
  {
   "cell_type": "code",
   "execution_count": 14,
   "metadata": {},
   "outputs": [],
   "source": [
    "args = TrainingArguments(\n",
    "    MODEL_NAME,\n",
    "    log_level=\"error\",\n",
    "    logging_first_step=True,\n",
    "    learning_rate=LR,\n",
    "    num_train_epochs=NUM_OF_EPOCHS,\n",
    "    per_device_train_batch_size=BATCH_SIZE,\n",
    "    per_device_eval_batch_size=BATCH_SIZE,\n",
    "    evaluation_strategy=STRATEGY,\n",
    "    report_to=REPORTS_TO,\n",
    "    disable_tqdm=False,\n",
    "    logging_steps=STEPS,\n",
    "    weight_decay=WEIGHT_DECAY,\n",
    "    save_strategy=STRATEGY,\n",
    "    hub_private_repo=True,\n",
    "    push_to_hub=True\n",
    ")"
   ]
  },
  {
   "attachments": {},
   "cell_type": "markdown",
   "metadata": {},
   "source": [
    "#### Define Trainer"
   ]
  },
  {
   "cell_type": "code",
   "execution_count": 15,
   "metadata": {},
   "outputs": [
    {
     "name": "stderr",
     "output_type": "stream",
     "text": [
      "Cloning https://huggingface.co/DunnBC22/bert-base-cased-finetuned-Stromberg_NLP_Twitter-PoS_v2 into local empty directory.\n"
     ]
    }
   ],
   "source": [
    "trainer = Trainer(model, \n",
    "                  args=args,\n",
    "                  data_collator=data_collator,\n",
    "                  compute_metrics=compute_metrics,\n",
    "                  tokenizer=tokenizer,\n",
    "                  train_dataset=encoded_ds[\"train\"],\n",
    "                  eval_dataset=encoded_ds[\"test\"]\n",
    "                  )"
   ]
  },
  {
   "attachments": {},
   "cell_type": "markdown",
   "metadata": {},
   "source": [
    "#### Train Model"
   ]
  },
  {
   "cell_type": "code",
   "execution_count": 16,
   "metadata": {},
   "outputs": [
    {
     "name": "stderr",
     "output_type": "stream",
     "text": [
      "/Users/briandunn/Documents/deep_learning/dl/lib/python3.9/site-packages/transformers/optimization.py:391: FutureWarning: This implementation of AdamW is deprecated and will be removed in a future version. Use the PyTorch implementation torch.optim.AdamW instead, or set `no_deprecation_warning=True` to disable this warning\n",
      "  warnings.warn(\n"
     ]
    },
    {
     "data": {
      "application/vnd.jupyter.widget-view+json": {
       "model_id": "c5b101a5a0dc45b2aabd919572b53221",
       "version_major": 2,
       "version_minor": 0
      },
      "text/plain": [
       "  0%|          | 0/14954 [00:00<?, ?it/s]"
      ]
     },
     "metadata": {},
     "output_type": "display_data"
    },
    {
     "name": "stdout",
     "output_type": "stream",
     "text": [
      "{'loss': 3.9571, 'learning_rate': 1.9998662565199947e-05, 'epoch': 0.0}\n",
      "{'loss': 0.553, 'learning_rate': 1.9331282599973254e-05, 'epoch': 0.07}\n",
      "{'loss': 0.1322, 'learning_rate': 1.8662565199946505e-05, 'epoch': 0.13}\n",
      "{'loss': 0.111, 'learning_rate': 1.7993847799919754e-05, 'epoch': 0.2}\n",
      "{'loss': 0.1017, 'learning_rate': 1.7325130399893006e-05, 'epoch': 0.27}\n",
      "{'loss': 0.0904, 'learning_rate': 1.6656412999866258e-05, 'epoch': 0.33}\n",
      "{'loss': 0.0864, 'learning_rate': 1.598769559983951e-05, 'epoch': 0.4}\n",
      "{'loss': 0.0805, 'learning_rate': 1.5318978199812758e-05, 'epoch': 0.47}\n",
      "{'loss': 0.0762, 'learning_rate': 1.4650260799786012e-05, 'epoch': 0.53}\n",
      "{'loss': 0.0761, 'learning_rate': 1.3981543399759264e-05, 'epoch': 0.6}\n",
      "{'loss': 0.0709, 'learning_rate': 1.3312825999732516e-05, 'epoch': 0.67}\n",
      "{'loss': 0.0676, 'learning_rate': 1.2644108599705764e-05, 'epoch': 0.74}\n",
      "{'loss': 0.0699, 'learning_rate': 1.1975391199679016e-05, 'epoch': 0.8}\n",
      "{'loss': 0.0667, 'learning_rate': 1.1306673799652268e-05, 'epoch': 0.87}\n",
      "{'loss': 0.0649, 'learning_rate': 1.063795639962552e-05, 'epoch': 0.94}\n"
     ]
    },
    {
     "data": {
      "application/vnd.jupyter.widget-view+json": {
       "model_id": "f9cde840cf344d4ab2de07a665617640",
       "version_major": 2,
       "version_minor": 0
      },
      "text/plain": [
       "  0%|          | 0/1994 [00:00<?, ?it/s]"
      ]
     },
     "metadata": {},
     "output_type": "display_data"
    },
    {
     "name": "stderr",
     "output_type": "stream",
     "text": [
      "/Users/briandunn/Documents/deep_learning/dl/lib/python3.9/site-packages/sklearn/metrics/_classification.py:1344: UndefinedMetricWarning: Precision and F-score are ill-defined and being set to 0.0 in labels with no predicted samples. Use `zero_division` parameter to control this behavior.\n",
      "  _warn_prf(average, modifier, msg_start, len(result))\n",
      "/Users/briandunn/Documents/deep_learning/dl/lib/python3.9/site-packages/sklearn/metrics/_classification.py:1344: UndefinedMetricWarning: Precision and F-score are ill-defined and being set to 0.0 in labels with no predicted samples. Use `zero_division` parameter to control this behavior.\n",
      "  _warn_prf(average, modifier, msg_start, len(result))\n",
      "/Users/briandunn/Documents/deep_learning/dl/lib/python3.9/site-packages/sklearn/metrics/_classification.py:1344: UndefinedMetricWarning: Precision and F-score are ill-defined and being set to 0.0 in labels with no predicted samples. Use `zero_division` parameter to control this behavior.\n",
      "  _warn_prf(average, modifier, msg_start, len(result))\n"
     ]
    },
    {
     "name": "stdout",
     "output_type": "stream",
     "text": [
      "{'eval_loss': 0.05698221176862717, 'eval_$': {'precision': 0.0, 'recall': 0.0, 'f1-score': 0.0, 'support': 3}, \"eval_''\": {'precision': 0.9257142857142857, 'recall': 0.9501466275659824, 'f1-score': 0.9377713458755427, 'support': 341}, 'eval_(': {'precision': 0.9690721649484536, 'recall': 0.9591836734693877, 'f1-score': 0.964102564102564, 'support': 196}, 'eval_)': {'precision': 0.9427402862985685, 'recall': 0.9766949152542372, 'f1-score': 0.959417273673257, 'support': 472}, 'eval_,': {'precision': 0.998677831643896, 'recall': 0.9993384785005512, 'f1-score': 0.9990080458503251, 'support': 4535}, 'eval_.': {'precision': 0.977118886452474, 'recall': 0.9895244991552016, 'f1-score': 0.9832825654186554, 'support': 20715}, 'eval_:': {'precision': 0.9933418899406385, 'recall': 0.9950180795500201, 'f1-score': 0.9941792782305006, 'support': 12445}, 'eval_CC': {'precision': 0.9995530726256984, 'recall': 0.9984375, 'f1-score': 0.9989949748743719, 'support': 4480}, 'eval_CD': {'precision': 0.9856573705179282, 'recall': 0.9903923138510808, 'f1-score': 0.9880191693290733, 'support': 2498}, 'eval_DT': {'precision': 0.9974431435876733, 'recall': 0.9975773889636609, 'f1-score': 0.9975102617589665, 'support': 14860}, 'eval_EX': {'precision': 0.9846153846153847, 'recall': 0.9846153846153847, 'f1-score': 0.9846153846153847, 'support': 65}, 'eval_FW': {'precision': 0.0, 'recall': 0.0, 'f1-score': 0.0, 'support': 10}, 'eval_HT': {'precision': 0.9993879299791896, 'recall': 0.9996326680543651, 'f1-score': 0.9995102840352595, 'support': 8167}, 'eval_IN': {'precision': 0.996751246289139, 'recall': 0.9919727966999276, 'f1-score': 0.9943562807331248, 'support': 17939}, 'eval_JJ': {'precision': 0.9833821318350875, 'recall': 0.9732163834286162, 'f1-score': 0.9782728489333229, 'support': 12769}, 'eval_JJR': {'precision': 0.9160447761194029, 'recall': 0.9608610567514677, 'f1-score': 0.9379178605539636, 'support': 511}, 'eval_JJS': {'precision': 0.9656357388316151, 'recall': 0.9623287671232876, 'f1-score': 0.9639794168096055, 'support': 584}, 'eval_MD': {'precision': 0.9894398530762167, 'recall': 0.9889857732905002, 'f1-score': 0.9892127610741337, 'support': 4358}, 'eval_NN': {'precision': 0.9773657120232282, 'recall': 0.9799847818175803, 'f1-score': 0.9786734946725035, 'support': 30227}, 'eval_NNP': {'precision': 0.9524512029051294, 'recall': 0.9435637998875773, 'f1-score': 0.9479866719376517, 'support': 8895}, 'eval_NNPS': {'precision': 0.0, 'recall': 0.0, 'f1-score': 0.0, 'support': 27}, 'eval_NNS': {'precision': 0.9615001245950661, 'recall': 0.9796876983623207, 'f1-score': 0.9705087090486072, 'support': 7877}, 'eval_POS': {'precision': 1.0, 'recall': 0.984304932735426, 'f1-score': 0.9920903954802259, 'support': 446}, 'eval_PRP': {'precision': 0.9984506567867969, 'recall': 0.9981816957370867, 'f1-score': 0.9983161581464269, 'support': 29698}, 'eval_PRP$': {'precision': 0.9967404357522731, 'recall': 0.9969114619080301, 'f1-score': 0.996825941494381, 'support': 5828}, 'eval_RB': {'precision': 0.9929754139488208, 'recall': 0.9922908179254152, 'f1-score': 0.9926329978996206, 'support': 15955}, 'eval_RBR': {'precision': 0.9102564102564102, 'recall': 0.7553191489361702, 'f1-score': 0.8255813953488371, 'support': 94}, 'eval_RBS': {'precision': 0.9324324324324325, 'recall': 1.0, 'f1-score': 0.965034965034965, 'support': 69}, 'eval_RP': {'precision': 0.9496810772501771, 'recall': 0.9918578830495929, 'f1-score': 0.9703113685734974, 'support': 1351}, 'eval_RT': {'precision': 0.9997531778353697, 'recall': 0.9995064774830351, 'f1-score': 0.9996298124383021, 'support': 8105}, 'eval_SYM': {'precision': 0.0, 'recall': 0.0, 'f1-score': 0.0, 'support': 9}, 'eval_TO': {'precision': 0.9976145851081956, 'recall': 0.9991467576791809, 'f1-score': 0.9983800835535852, 'support': 5860}, 'eval_UH': {'precision': 0.9536072530864198, 'recall': 0.9400076060087469, 'f1-score': 0.9467585942736763, 'support': 10518}, 'eval_URL': {'precision': 1.0, 'recall': 0.9997242900468707, 'f1-score': 0.9998621260168207, 'support': 3627}, 'eval_USR': {'precision': 0.9999025388626285, 'recall': 1.0, 'f1-score': 0.9999512670565303, 'support': 20519}, 'eval_VB': {'precision': 0.9477061276868785, 'recall': 0.9595893970893971, 'f1-score': 0.9536107434548213, 'support': 15392}, 'eval_VBD': {'precision': 0.9504877599852751, 'recall': 0.9511880641002026, 'f1-score': 0.9508377830970356, 'support': 5429}, 'eval_VBG': {'precision': 0.9805672268907563, 'recall': 0.9838398032671702, 'f1-score': 0.9822007891275757, 'support': 5693}, 'eval_VBN': {'precision': 0.9150772025431426, 'recall': 0.8857142857142857, 'f1-score': 0.9001563547018092, 'support': 2275}, 'eval_VBP': {'precision': 0.9659941631772617, 'recall': 0.953472352683324, 'f1-score': 0.9596924143581986, 'support': 15969}, 'eval_VBZ': {'precision': 0.9898548189609935, 'recall': 0.9817834836918806, 'f1-score': 0.9858026304328891, 'support': 5764}, 'eval_WDT': {'precision': 0.8666666666666667, 'recall': 0.9285714285714286, 'f1-score': 0.896551724137931, 'support': 14}, 'eval_WP': {'precision': 0.9930904522613065, 'recall': 0.9906015037593985, 'f1-score': 0.9918444165621078, 'support': 1596}, 'eval_WRB': {'precision': 0.9963459196102314, 'recall': 0.9971556277935798, 'f1-score': 0.9967506092607635, 'support': 2461}, 'eval_``': {'precision': 0.9432989690721649, 'recall': 0.9786096256684492, 'f1-score': 0.9606299212598425, 'support': 187}, 'eval_accuracy': 0.9829292854066761, 'eval_macro avg': {'precision': 0.8843643626705173, 'recall': 0.886420871781996, 'f1-score': 0.8851282596274812, 'support': 308833}, 'eval_weighted avg': {'precision': 0.9827817256769859, 'recall': 0.9829292854066761, 'f1-score': 0.9828343183557866, 'support': 308833}, 'eval_runtime': 1986.7435, 'eval_samples_per_second': 16.056, 'eval_steps_per_second': 1.004, 'epoch': 1.0}\n",
      "{'loss': 0.0611, 'learning_rate': 9.96923899959877e-06, 'epoch': 1.0}\n",
      "{'loss': 0.0481, 'learning_rate': 9.300521599572022e-06, 'epoch': 1.07}\n",
      "{'loss': 0.046, 'learning_rate': 8.631804199545272e-06, 'epoch': 1.14}\n",
      "{'loss': 0.0452, 'learning_rate': 7.963086799518524e-06, 'epoch': 1.2}\n",
      "{'loss': 0.0465, 'learning_rate': 7.294369399491775e-06, 'epoch': 1.27}\n",
      "{'loss': 0.0465, 'learning_rate': 6.625651999465027e-06, 'epoch': 1.34}\n",
      "{'loss': 0.0422, 'learning_rate': 5.956934599438278e-06, 'epoch': 1.4}\n",
      "{'loss': 0.0443, 'learning_rate': 5.288217199411529e-06, 'epoch': 1.47}\n",
      "{'loss': 0.0394, 'learning_rate': 4.61949979938478e-06, 'epoch': 1.54}\n",
      "{'loss': 0.0415, 'learning_rate': 3.950782399358032e-06, 'epoch': 1.6}\n",
      "{'loss': 0.0428, 'learning_rate': 3.282064999331283e-06, 'epoch': 1.67}\n",
      "{'loss': 0.0383, 'learning_rate': 2.613347599304534e-06, 'epoch': 1.74}\n",
      "{'loss': 0.0387, 'learning_rate': 1.9446301992777852e-06, 'epoch': 1.81}\n",
      "{'loss': 0.0391, 'learning_rate': 1.2759127992510367e-06, 'epoch': 1.87}\n",
      "{'loss': 0.0396, 'learning_rate': 6.071953992242879e-07, 'epoch': 1.94}\n"
     ]
    },
    {
     "data": {
      "application/vnd.jupyter.widget-view+json": {
       "model_id": "d8cb093593c0455a9058b9d8fd437765",
       "version_major": 2,
       "version_minor": 0
      },
      "text/plain": [
       "  0%|          | 0/1994 [00:00<?, ?it/s]"
      ]
     },
     "metadata": {},
     "output_type": "display_data"
    },
    {
     "name": "stderr",
     "output_type": "stream",
     "text": [
      "/Users/briandunn/Documents/deep_learning/dl/lib/python3.9/site-packages/sklearn/metrics/_classification.py:1344: UndefinedMetricWarning: Precision and F-score are ill-defined and being set to 0.0 in labels with no predicted samples. Use `zero_division` parameter to control this behavior.\n",
      "  _warn_prf(average, modifier, msg_start, len(result))\n",
      "/Users/briandunn/Documents/deep_learning/dl/lib/python3.9/site-packages/sklearn/metrics/_classification.py:1344: UndefinedMetricWarning: Precision and F-score are ill-defined and being set to 0.0 in labels with no predicted samples. Use `zero_division` parameter to control this behavior.\n",
      "  _warn_prf(average, modifier, msg_start, len(result))\n",
      "/Users/briandunn/Documents/deep_learning/dl/lib/python3.9/site-packages/sklearn/metrics/_classification.py:1344: UndefinedMetricWarning: Precision and F-score are ill-defined and being set to 0.0 in labels with no predicted samples. Use `zero_division` parameter to control this behavior.\n",
      "  _warn_prf(average, modifier, msg_start, len(result))\n"
     ]
    },
    {
     "name": "stdout",
     "output_type": "stream",
     "text": [
      "{'eval_loss': 0.050183169543743134, 'eval_$': {'precision': 0.0, 'recall': 0.0, 'f1-score': 0.0, 'support': 3}, \"eval_''\": {'precision': 0.9312320916905444, 'recall': 0.9530791788856305, 'f1-score': 0.9420289855072465, 'support': 341}, 'eval_(': {'precision': 0.9791666666666666, 'recall': 0.9591836734693877, 'f1-score': 0.9690721649484536, 'support': 196}, 'eval_)': {'precision': 0.960167714884696, 'recall': 0.9703389830508474, 'f1-score': 0.9652265542676501, 'support': 472}, 'eval_,': {'precision': 0.9988979501873485, 'recall': 0.9993384785005512, 'f1-score': 0.9991181657848325, 'support': 4535}, 'eval_.': {'precision': 0.9839189708141322, 'recall': 0.9894762249577601, 'f1-score': 0.9866897730281368, 'support': 20715}, 'eval_:': {'precision': 0.9926405887528997, 'recall': 0.9971072719967858, 'f1-score': 0.9948689168604183, 'support': 12445}, 'eval_CC': {'precision': 0.9991067440821796, 'recall': 0.9986607142857142, 'f1-score': 0.9988836793927215, 'support': 4480}, 'eval_CD': {'precision': 0.9903884661593912, 'recall': 0.9899919935948759, 'f1-score': 0.9901901901901902, 'support': 2498}, 'eval_DT': {'precision': 0.9981148589510537, 'recall': 0.9976446837146703, 'f1-score': 0.9978797159492478, 'support': 14860}, 'eval_EX': {'precision': 0.9142857142857143, 'recall': 0.9846153846153847, 'f1-score': 0.9481481481481482, 'support': 65}, 'eval_FW': {'precision': 1.0, 'recall': 0.1, 'f1-score': 0.18181818181818182, 'support': 10}, 'eval_HT': {'precision': 0.999877541023757, 'recall': 0.9997551120362435, 'f1-score': 0.9998163227820978, 'support': 8167}, 'eval_IN': {'precision': 0.9960399353003514, 'recall': 0.9954846981437092, 'f1-score': 0.9957622393219583, 'support': 17939}, 'eval_JJ': {'precision': 0.9812470698546648, 'recall': 0.9834756049808129, 'f1-score': 0.9823600735322877, 'support': 12769}, 'eval_JJR': {'precision': 0.9304511278195489, 'recall': 0.9686888454011742, 'f1-score': 0.9491850431447747, 'support': 511}, 'eval_JJS': {'precision': 0.9578414839797639, 'recall': 0.9726027397260274, 'f1-score': 0.9651656754460493, 'support': 584}, 'eval_MD': {'precision': 0.9901398761751892, 'recall': 0.9908214777420835, 'f1-score': 0.990480559697213, 'support': 4358}, 'eval_NN': {'precision': 0.9810285563194078, 'recall': 0.9819697621331922, 'f1-score': 0.9814989335846437, 'support': 30227}, 'eval_NNP': {'precision': 0.9609722697706266, 'recall': 0.9467116357504216, 'f1-score': 0.9537886510363575, 'support': 8895}, 'eval_NNPS': {'precision': 1.0, 'recall': 0.037037037037037035, 'f1-score': 0.07142857142857142, 'support': 27}, 'eval_NNS': {'precision': 0.9697771061579146, 'recall': 0.9776564681985528, 'f1-score': 0.9737008471361739, 'support': 7877}, 'eval_POS': {'precision': 0.9977272727272727, 'recall': 0.984304932735426, 'f1-score': 0.9909706546275394, 'support': 446}, 'eval_PRP': {'precision': 0.9983503349829983, 'recall': 0.9985184187487373, 'f1-score': 0.9984343697917544, 'support': 29698}, 'eval_PRP$': {'precision': 0.9974262182566919, 'recall': 0.9974262182566919, 'f1-score': 0.9974262182566919, 'support': 5828}, 'eval_RB': {'precision': 0.9939770374552983, 'recall': 0.9929802569727358, 'f1-score': 0.9934783971906942, 'support': 15955}, 'eval_RBR': {'precision': 0.9058823529411765, 'recall': 0.8191489361702128, 'f1-score': 0.8603351955307263, 'support': 94}, 'eval_RBS': {'precision': 0.92, 'recall': 1.0, 'f1-score': 0.9583333333333334, 'support': 69}, 'eval_RP': {'precision': 0.9802197802197802, 'recall': 0.9903774981495189, 'f1-score': 0.9852724594992636, 'support': 1351}, 'eval_RT': {'precision': 0.9995065383666419, 'recall': 0.9996298581122763, 'f1-score': 0.9995681944358769, 'support': 8105}, 'eval_SYM': {'precision': 0.0, 'recall': 0.0, 'f1-score': 0.0, 'support': 9}, 'eval_TO': {'precision': 0.9984649496844619, 'recall': 0.9989761092150171, 'f1-score': 0.9987204640450398, 'support': 5860}, 'eval_UH': {'precision': 0.9614460148062687, 'recall': 0.9507510933637574, 'f1-score': 0.9560686457287633, 'support': 10518}, 'eval_URL': {'precision': 1.0, 'recall': 0.9997242900468707, 'f1-score': 0.9998621260168207, 'support': 3627}, 'eval_USR': {'precision': 0.9999025388626285, 'recall': 1.0, 'f1-score': 0.9999512670565303, 'support': 20519}, 'eval_VB': {'precision': 0.9619302598929085, 'recall': 0.9570556133056133, 'f1-score': 0.9594867452615125, 'support': 15392}, 'eval_VBD': {'precision': 0.9592894152479645, 'recall': 0.9548719837907533, 'f1-score': 0.9570756023262255, 'support': 5429}, 'eval_VBG': {'precision': 0.9848831077518018, 'recall': 0.984191111891797, 'f1-score': 0.9845369882270251, 'support': 5693}, 'eval_VBN': {'precision': 0.9053408597481546, 'recall': 0.9164835164835164, 'f1-score': 0.910878112712975, 'support': 2275}, 'eval_VBP': {'precision': 0.963605718209626, 'recall': 0.9666228317364894, 'f1-score': 0.9651119169688633, 'support': 15969}, 'eval_VBZ': {'precision': 0.9881780250347705, 'recall': 0.9861207494795281, 'f1-score': 0.9871483153872872, 'support': 5764}, 'eval_WDT': {'precision': 0.8666666666666667, 'recall': 0.9285714285714286, 'f1-score': 0.896551724137931, 'support': 14}, 'eval_WP': {'precision': 0.99125, 'recall': 0.993734335839599, 'f1-score': 0.9924906132665832, 'support': 1596}, 'eval_WRB': {'precision': 0.9963488843813387, 'recall': 0.9979683055668428, 'f1-score': 0.9971579374746244, 'support': 2461}, 'eval_``': {'precision': 0.9481865284974094, 'recall': 0.9786096256684492, 'f1-score': 0.963157894736842, 'support': 187}, 'eval_accuracy': 0.9853480683735223, 'eval_macro avg': {'precision': 0.9296417163691048, 'recall': 0.8931046018294694, 'f1-score': 0.8930917459781836, 'support': 308833}, 'eval_weighted avg': {'precision': 0.985306457604231, 'recall': 0.9853480683735223, 'f1-score': 0.9852689858931941, 'support': 308833}, 'eval_runtime': 1980.6789, 'eval_samples_per_second': 16.105, 'eval_steps_per_second': 1.007, 'epoch': 2.0}\n",
      "{'train_runtime': 46884.0833, 'train_samples_per_second': 5.103, 'train_steps_per_second': 0.319, 'train_loss': 0.07854136392938528, 'epoch': 2.0}\n"
     ]
    }
   ],
   "source": [
    "train_results = trainer.train()"
   ]
  },
  {
   "attachments": {},
   "cell_type": "markdown",
   "metadata": {},
   "source": [
    "#### Push Model To Hub"
   ]
  },
  {
   "cell_type": "code",
   "execution_count": 17,
   "metadata": {},
   "outputs": [
    {
     "name": "stderr",
     "output_type": "stream",
     "text": [
      "Several commits (2) will be pushed upstream.\n",
      "The progress bars may be unreliable.\n"
     ]
    },
    {
     "data": {
      "application/vnd.jupyter.widget-view+json": {
       "model_id": "4083965e1c0d4157943310c63255013a",
       "version_major": 2,
       "version_minor": 0
      },
      "text/plain": [
       "Upload file pytorch_model.bin:   0%|          | 1.00/411M [00:00<?, ?B/s]"
      ]
     },
     "metadata": {},
     "output_type": "display_data"
    },
    {
     "data": {
      "application/vnd.jupyter.widget-view+json": {
       "model_id": "1fce9c45929e46acb7bcc7e21cdd71ce",
       "version_major": 2,
       "version_minor": 0
      },
      "text/plain": [
       "Upload file runs/Jul06_21-05-51_Brians-Mac-mini.local/events.out.tfevents.1688695556.Brians-Mac-mini.local.594…"
      ]
     },
     "metadata": {},
     "output_type": "display_data"
    },
    {
     "name": "stderr",
     "output_type": "stream",
     "text": [
      "To https://huggingface.co/DunnBC22/bert-base-cased-finetuned-Stromberg_NLP_Twitter-PoS_v2\n",
      "   71d28fc..53d736c  main -> main\n",
      "\n",
      "To https://huggingface.co/DunnBC22/bert-base-cased-finetuned-Stromberg_NLP_Twitter-PoS_v2\n",
      "   53d736c..1baf245  main -> main\n",
      "\n"
     ]
    }
   ],
   "source": [
    "kwargs = {\n",
    "    \"tasks\": \"token-classification\",\n",
    "    \"tags\": ['token-classification'],\n",
    "}\n",
    "\n",
    "if args.push_to_hub:\n",
    "    trainer.push_to_hub('All DUNN!!!', **kwargs)\n",
    "else:\n",
    "    trainer.create_model_card(**kwargs)"
   ]
  },
  {
   "attachments": {},
   "cell_type": "markdown",
   "metadata": {},
   "source": [
    "#### Save & Log Model"
   ]
  },
  {
   "cell_type": "code",
   "execution_count": 18,
   "metadata": {},
   "outputs": [
    {
     "name": "stderr",
     "output_type": "stream",
     "text": [
      "To https://huggingface.co/DunnBC22/bert-base-cased-finetuned-Stromberg_NLP_Twitter-PoS_v2\n",
      "   1baf245..4671fad  main -> main\n",
      "\n"
     ]
    },
    {
     "name": "stdout",
     "output_type": "stream",
     "text": [
      "***** train metrics *****\n",
      "  epoch                    =         2.0\n",
      "  train_loss               =      0.0785\n",
      "  train_runtime            = 13:01:24.08\n",
      "  train_samples_per_second =       5.103\n",
      "  train_steps_per_second   =       0.319\n"
     ]
    }
   ],
   "source": [
    "trainer.save_model()\n",
    "trainer.log_metrics(\"train\", train_results.metrics)\n",
    "trainer.save_metrics(\"train\", train_results.metrics)\n",
    "trainer.save_state()"
   ]
  },
  {
   "attachments": {},
   "cell_type": "markdown",
   "metadata": {},
   "source": [
    "### Error Analysis"
   ]
  },
  {
   "attachments": {},
   "cell_type": "markdown",
   "metadata": {},
   "source": [
    "#### Define Method to Apply to Validation Dataset (& Then Apply it)"
   ]
  },
  {
   "cell_type": "code",
   "execution_count": 19,
   "metadata": {},
   "outputs": [],
   "source": [
    "def forward_pass_with_label(batch):\n",
    "    # Convert dict of lists to list of dicts suitable for data collator\n",
    "    features = [dict(zip(batch, t)) for t in zip(*batch.values())]\n",
    "    # Pad inputs and labels and put all tensors on device\n",
    "    batch = data_collator(features)\n",
    "    input_ids = batch[\"input_ids\"].to(DEVICE)\n",
    "    attention_mask = batch[\"attention_mask\"].to(DEVICE)\n",
    "    labels = batch[\"labels\"].to(DEVICE)\n",
    "    with torch.no_grad():\n",
    "        # Pass data through model  \n",
    "        output = trainer.model(input_ids, \n",
    "                               attention_mask\n",
    "                               )\n",
    "        # Logit.size: [batch_size, sequence_length, classes]\n",
    "        predicted_label = torch.argmax(output.logits, \n",
    "                                       axis=-1\n",
    "                                       ).cpu().numpy()\n",
    "        \n",
    "    # Calculate loss per token after flattening batch dimension with view\n",
    "    loss = cross_entropy(output.logits.view(-1, 51), \n",
    "                         labels.view(-1), \n",
    "                         reduction=\"none\")\n",
    "    # Unflatten batch dimension and convert to numpy array\n",
    "    loss = loss.view(len(input_ids), -1).cpu().numpy()\n",
    "\n",
    "    return {\"loss\":loss, \"predicted_label\": predicted_label}"
   ]
  },
  {
   "attachments": {},
   "cell_type": "markdown",
   "metadata": {},
   "source": [
    "#### Apply Above Function to Entire Evaluation Dataset"
   ]
  },
  {
   "cell_type": "code",
   "execution_count": 20,
   "metadata": {},
   "outputs": [
    {
     "name": "stderr",
     "output_type": "stream",
     "text": [
      "Parameter 'function'=<function forward_pass_with_label at 0x7fcce2d25280> of the transform datasets.arrow_dataset.Dataset._map_single couldn't be hashed properly, a random hash was used instead. Make sure your transforms and parameters are serializable with pickle or dill for the dataset fingerprinting and caching to work. If you reuse this transform, the caching mechanism will consider it to be different from the previous calls and recompute everything. This warning is only showed once. Subsequent hashing failures won't be showed.\n",
      "Loading cached processed dataset at /Users/briandunn/.cache/huggingface/datasets/strombergnlp___twitter_pos_vcb/twitter-pos-vcb/1.0.0/2c671a933c7ffb84cf124a1f987cd73fb883e6b3628ee4a01f5326f5aefc296a/cache-1c80317fa3b1799d.arrow\n"
     ]
    }
   ],
   "source": [
    "eval_set = encoded_ds['eval']\n",
    "\n",
    "eval_set = eval_set.remove_columns('id')\n",
    "\n",
    "eval_set = eval_set.map(forward_pass_with_label,\n",
    "                        batched=True,\n",
    "                        batch_size=32)\n",
    "\n",
    "eval_df = eval_set.to_pandas()"
   ]
  },
  {
   "attachments": {},
   "cell_type": "markdown",
   "metadata": {},
   "source": [
    "#### Clean Up Padding Tokens"
   ]
  },
  {
   "cell_type": "code",
   "execution_count": 21,
   "metadata": {},
   "outputs": [
    {
     "data": {
      "text/html": [
       "<div>\n",
       "<style scoped>\n",
       "    .dataframe tbody tr th:only-of-type {\n",
       "        vertical-align: middle;\n",
       "    }\n",
       "\n",
       "    .dataframe tbody tr th {\n",
       "        vertical-align: top;\n",
       "    }\n",
       "\n",
       "    .dataframe thead th {\n",
       "        text-align: right;\n",
       "    }\n",
       "</style>\n",
       "<table border=\"1\" class=\"dataframe\">\n",
       "  <thead>\n",
       "    <tr style=\"text-align: right;\">\n",
       "      <th></th>\n",
       "      <th>input_ids</th>\n",
       "      <th>token_type_ids</th>\n",
       "      <th>attention_mask</th>\n",
       "      <th>labels</th>\n",
       "      <th>loss</th>\n",
       "      <th>predicted_label</th>\n",
       "      <th>input_tokens</th>\n",
       "    </tr>\n",
       "  </thead>\n",
       "  <tbody>\n",
       "    <tr>\n",
       "      <th>0</th>\n",
       "      <td>[101, 137, 1337, 2428, 2386, 1181, 2924, 7956,...</td>\n",
       "      <td>[0, 0, 0, 0, 0, 0, 0, 0, 0, 0, 0, 0, 0, 0, 0, 0]</td>\n",
       "      <td>[1, 1, 1, 1, 1, 1, 1, 1, 1, 1, 1, 1, 1, 1, 1, 1]</td>\n",
       "      <td>[IGN, USR, IGN, IGN, IGN, IGN, IGN, IGN, MD, V...</td>\n",
       "      <td>[0.0, 1.5497195e-06, 0.0, 0.0, 0.0, 0.0, 0.0, ...</td>\n",
       "      <td>[., USR, NNP, NNP, UH, UH, PRP, PRP, MD, VB, V...</td>\n",
       "      <td>[[CLS], @, That, ##K, ##id, ##d, ##W, ##ill, s...</td>\n",
       "    </tr>\n",
       "  </tbody>\n",
       "</table>\n",
       "</div>"
      ],
      "text/plain": [
       "                                           input_ids   \n",
       "0  [101, 137, 1337, 2428, 2386, 1181, 2924, 7956,...  \\\n",
       "\n",
       "                                     token_type_ids   \n",
       "0  [0, 0, 0, 0, 0, 0, 0, 0, 0, 0, 0, 0, 0, 0, 0, 0]  \\\n",
       "\n",
       "                                     attention_mask   \n",
       "0  [1, 1, 1, 1, 1, 1, 1, 1, 1, 1, 1, 1, 1, 1, 1, 1]  \\\n",
       "\n",
       "                                              labels   \n",
       "0  [IGN, USR, IGN, IGN, IGN, IGN, IGN, IGN, MD, V...  \\\n",
       "\n",
       "                                                loss   \n",
       "0  [0.0, 1.5497195e-06, 0.0, 0.0, 0.0, 0.0, 0.0, ...  \\\n",
       "\n",
       "                                     predicted_label   \n",
       "0  [., USR, NNP, NNP, UH, UH, PRP, PRP, MD, VB, V...  \\\n",
       "\n",
       "                                        input_tokens  \n",
       "0  [[CLS], @, That, ##K, ##id, ##d, ##W, ##ill, s...  "
      ]
     },
     "execution_count": 21,
     "metadata": {},
     "output_type": "execute_result"
    }
   ],
   "source": [
    "id2label[-100] = \"IGN\"\n",
    "eval_df[\"input_tokens\"] = eval_df[\"input_ids\"].apply(\n",
    "    lambda x: tokenizer.convert_ids_to_tokens(x))\n",
    "eval_df[\"predicted_label\"] = eval_df[\"predicted_label\"].apply(\n",
    "    lambda x: [id2label[i] for i in x])\n",
    "eval_df[\"labels\"] = eval_df[\"labels\"].apply(\n",
    "    lambda x: [id2label[i] for i in x])\n",
    "eval_df['loss'] = eval_df.apply(\n",
    "    lambda x: x['loss'][:len(x['input_ids'])], axis=1)\n",
    "eval_df['predicted_label'] = eval_df.apply(\n",
    "    lambda x: x['predicted_label'][:len(x['input_ids'])], axis=1)\n",
    "eval_df.head(1)"
   ]
  },
  {
   "attachments": {},
   "cell_type": "markdown",
   "metadata": {},
   "source": [
    "#### Unwrap Each Token Within Sample Separately"
   ]
  },
  {
   "cell_type": "code",
   "execution_count": 22,
   "metadata": {},
   "outputs": [
    {
     "data": {
      "text/html": [
       "<div>\n",
       "<style scoped>\n",
       "    .dataframe tbody tr th:only-of-type {\n",
       "        vertical-align: middle;\n",
       "    }\n",
       "\n",
       "    .dataframe tbody tr th {\n",
       "        vertical-align: top;\n",
       "    }\n",
       "\n",
       "    .dataframe thead th {\n",
       "        text-align: right;\n",
       "    }\n",
       "</style>\n",
       "<table border=\"1\" class=\"dataframe\">\n",
       "  <thead>\n",
       "    <tr style=\"text-align: right;\">\n",
       "      <th></th>\n",
       "      <th>input_ids</th>\n",
       "      <th>token_type_ids</th>\n",
       "      <th>attention_mask</th>\n",
       "      <th>labels</th>\n",
       "      <th>loss</th>\n",
       "      <th>predicted_label</th>\n",
       "      <th>input_tokens</th>\n",
       "    </tr>\n",
       "  </thead>\n",
       "  <tbody>\n",
       "    <tr>\n",
       "      <th>0</th>\n",
       "      <td>137</td>\n",
       "      <td>0</td>\n",
       "      <td>1</td>\n",
       "      <td>USR</td>\n",
       "      <td>0.0</td>\n",
       "      <td>USR</td>\n",
       "      <td>@</td>\n",
       "    </tr>\n",
       "    <tr>\n",
       "      <th>0</th>\n",
       "      <td>1431</td>\n",
       "      <td>0</td>\n",
       "      <td>1</td>\n",
       "      <td>MD</td>\n",
       "      <td>0.0</td>\n",
       "      <td>MD</td>\n",
       "      <td>should</td>\n",
       "    </tr>\n",
       "    <tr>\n",
       "      <th>0</th>\n",
       "      <td>189</td>\n",
       "      <td>0</td>\n",
       "      <td>1</td>\n",
       "      <td>VB</td>\n",
       "      <td>0.0</td>\n",
       "      <td>VB</td>\n",
       "      <td>t</td>\n",
       "    </tr>\n",
       "    <tr>\n",
       "      <th>0</th>\n",
       "      <td>1143</td>\n",
       "      <td>0</td>\n",
       "      <td>1</td>\n",
       "      <td>PRP</td>\n",
       "      <td>0.0</td>\n",
       "      <td>PRP</td>\n",
       "      <td>me</td>\n",
       "    </tr>\n",
       "    <tr>\n",
       "      <th>0</th>\n",
       "      <td>1171</td>\n",
       "      <td>0</td>\n",
       "      <td>1</td>\n",
       "      <td>RB</td>\n",
       "      <td>0.0</td>\n",
       "      <td>RB</td>\n",
       "      <td>back</td>\n",
       "    </tr>\n",
       "    <tr>\n",
       "      <th>0</th>\n",
       "      <td>131</td>\n",
       "      <td>0</td>\n",
       "      <td>1</td>\n",
       "      <td>.</td>\n",
       "      <td>0.0</td>\n",
       "      <td>.</td>\n",
       "      <td>:</td>\n",
       "    </tr>\n",
       "    <tr>\n",
       "      <th>0</th>\n",
       "      <td>114</td>\n",
       "      <td>0</td>\n",
       "      <td>1</td>\n",
       "      <td>)</td>\n",
       "      <td>0.0</td>\n",
       "      <td>)</td>\n",
       "      <td>)</td>\n",
       "    </tr>\n",
       "  </tbody>\n",
       "</table>\n",
       "</div>"
      ],
      "text/plain": [
       "  input_ids token_type_ids attention_mask labels  loss predicted_label   \n",
       "0       137              0              1    USR   0.0             USR  \\\n",
       "0      1431              0              1     MD   0.0              MD   \n",
       "0       189              0              1     VB   0.0              VB   \n",
       "0      1143              0              1    PRP   0.0             PRP   \n",
       "0      1171              0              1     RB   0.0              RB   \n",
       "0       131              0              1      .   0.0               .   \n",
       "0       114              0              1      )   0.0               )   \n",
       "\n",
       "  input_tokens  \n",
       "0            @  \n",
       "0       should  \n",
       "0            t  \n",
       "0           me  \n",
       "0         back  \n",
       "0            :  \n",
       "0            )  "
      ]
     },
     "execution_count": 22,
     "metadata": {},
     "output_type": "execute_result"
    }
   ],
   "source": [
    "eval_df_tokens = eval_df.apply(pd.Series.explode)\n",
    "eval_df_tokens = eval_df_tokens.query(\"labels != 'IGN'\")\n",
    "eval_df_tokens[\"loss\"] = eval_df_tokens[\"loss\"].astype(float).round(2)\n",
    "eval_df_tokens.head(7)"
   ]
  },
  {
   "attachments": {},
   "cell_type": "markdown",
   "metadata": {},
   "source": [
    "#### See Which Tokens Have Accumulated Most Loss in Evaluation Dataset"
   ]
  },
  {
   "cell_type": "code",
   "execution_count": 23,
   "metadata": {},
   "outputs": [
    {
     "data": {
      "text/html": [
       "<div>\n",
       "<style scoped>\n",
       "    .dataframe tbody tr th:only-of-type {\n",
       "        vertical-align: middle;\n",
       "    }\n",
       "\n",
       "    .dataframe tbody tr th {\n",
       "        vertical-align: top;\n",
       "    }\n",
       "\n",
       "    .dataframe thead th {\n",
       "        text-align: right;\n",
       "    }\n",
       "</style>\n",
       "<table border=\"1\" class=\"dataframe\">\n",
       "  <thead>\n",
       "    <tr style=\"text-align: right;\">\n",
       "      <th></th>\n",
       "      <th>0</th>\n",
       "      <th>1</th>\n",
       "      <th>2</th>\n",
       "      <th>3</th>\n",
       "      <th>4</th>\n",
       "      <th>5</th>\n",
       "      <th>6</th>\n",
       "      <th>7</th>\n",
       "      <th>8</th>\n",
       "      <th>9</th>\n",
       "    </tr>\n",
       "  </thead>\n",
       "  <tbody>\n",
       "    <tr>\n",
       "      <th>input_tokens</th>\n",
       "      <td>!</td>\n",
       "      <td>.</td>\n",
       "      <td>[UNK]</td>\n",
       "      <td>B</td>\n",
       "      <td>want</td>\n",
       "      <td>?</td>\n",
       "      <td>have</td>\n",
       "      <td>:</td>\n",
       "      <td>that</td>\n",
       "      <td>G</td>\n",
       "    </tr>\n",
       "    <tr>\n",
       "      <th>count</th>\n",
       "      <td>1979</td>\n",
       "      <td>3500</td>\n",
       "      <td>107</td>\n",
       "      <td>96</td>\n",
       "      <td>181</td>\n",
       "      <td>822</td>\n",
       "      <td>358</td>\n",
       "      <td>2416</td>\n",
       "      <td>217</td>\n",
       "      <td>43</td>\n",
       "    </tr>\n",
       "    <tr>\n",
       "      <th>mean</th>\n",
       "      <td>0.083</td>\n",
       "      <td>0.034</td>\n",
       "      <td>0.573</td>\n",
       "      <td>0.46</td>\n",
       "      <td>0.221</td>\n",
       "      <td>0.044</td>\n",
       "      <td>0.097</td>\n",
       "      <td>0.014</td>\n",
       "      <td>0.149</td>\n",
       "      <td>0.746</td>\n",
       "    </tr>\n",
       "    <tr>\n",
       "      <th>sum</th>\n",
       "      <td>164.3</td>\n",
       "      <td>119.09</td>\n",
       "      <td>61.36</td>\n",
       "      <td>44.12</td>\n",
       "      <td>40.07</td>\n",
       "      <td>36.19</td>\n",
       "      <td>34.76</td>\n",
       "      <td>32.63</td>\n",
       "      <td>32.28</td>\n",
       "      <td>32.08</td>\n",
       "    </tr>\n",
       "  </tbody>\n",
       "</table>\n",
       "</div>"
      ],
      "text/plain": [
       "                  0       1      2      3      4      5      6      7      8   \n",
       "input_tokens      !       .  [UNK]      B   want      ?   have      :   that  \\\n",
       "count          1979    3500    107     96    181    822    358   2416    217   \n",
       "mean          0.083   0.034  0.573   0.46  0.221  0.044  0.097  0.014  0.149   \n",
       "sum           164.3  119.09  61.36  44.12  40.07  36.19  34.76  32.63  32.28   \n",
       "\n",
       "                  9  \n",
       "input_tokens      G  \n",
       "count            43  \n",
       "mean          0.746  \n",
       "sum           32.08  "
      ]
     },
     "execution_count": 23,
     "metadata": {},
     "output_type": "execute_result"
    }
   ],
   "source": [
    "(\n",
    "    eval_df_tokens.groupby(\"input_tokens\")[[\"loss\"]]\n",
    "    .agg([\"count\", \"mean\", \"sum\"])\n",
    "    .droplevel(level=0, axis=1)  # Get rid of multi-level columns\n",
    "    .sort_values(by=\"sum\", ascending=False)\n",
    "    .reset_index()\n",
    "    .round(3)\n",
    "    .head(10)\n",
    "    .T\n",
    ")"
   ]
  },
  {
   "attachments": {},
   "cell_type": "markdown",
   "metadata": {},
   "source": [
    "#### See Which Label IDs Have Most Loss in Evaluation Dataset"
   ]
  },
  {
   "cell_type": "code",
   "execution_count": 31,
   "metadata": {},
   "outputs": [
    {
     "data": {
      "text/html": [
       "<div>\n",
       "<style scoped>\n",
       "    .dataframe tbody tr th:only-of-type {\n",
       "        vertical-align: middle;\n",
       "    }\n",
       "\n",
       "    .dataframe tbody tr th {\n",
       "        vertical-align: top;\n",
       "    }\n",
       "\n",
       "    .dataframe thead th {\n",
       "        text-align: right;\n",
       "    }\n",
       "</style>\n",
       "<table border=\"1\" class=\"dataframe\">\n",
       "  <thead>\n",
       "    <tr style=\"text-align: right;\">\n",
       "      <th></th>\n",
       "      <th>0</th>\n",
       "      <th>1</th>\n",
       "      <th>2</th>\n",
       "      <th>3</th>\n",
       "      <th>4</th>\n",
       "      <th>5</th>\n",
       "      <th>6</th>\n",
       "      <th>7</th>\n",
       "      <th>8</th>\n",
       "      <th>9</th>\n",
       "      <th>10</th>\n",
       "      <th>11</th>\n",
       "      <th>12</th>\n",
       "      <th>13</th>\n",
       "      <th>14</th>\n",
       "      <th>15</th>\n",
       "      <th>16</th>\n",
       "      <th>17</th>\n",
       "      <th>18</th>\n",
       "      <th>19</th>\n",
       "      <th>20</th>\n",
       "      <th>21</th>\n",
       "      <th>22</th>\n",
       "      <th>23</th>\n",
       "      <th>24</th>\n",
       "      <th>25</th>\n",
       "      <th>26</th>\n",
       "      <th>27</th>\n",
       "      <th>28</th>\n",
       "      <th>29</th>\n",
       "      <th>30</th>\n",
       "      <th>31</th>\n",
       "      <th>32</th>\n",
       "      <th>33</th>\n",
       "      <th>34</th>\n",
       "      <th>35</th>\n",
       "      <th>36</th>\n",
       "      <th>37</th>\n",
       "      <th>38</th>\n",
       "      <th>39</th>\n",
       "      <th>40</th>\n",
       "      <th>41</th>\n",
       "      <th>42</th>\n",
       "    </tr>\n",
       "  </thead>\n",
       "  <tbody>\n",
       "    <tr>\n",
       "      <th>labels</th>\n",
       "      <td>SYM</td>\n",
       "      <td>NNPS</td>\n",
       "      <td>WDT</td>\n",
       "      <td>VBN</td>\n",
       "      <td>''</td>\n",
       "      <td>RBR</td>\n",
       "      <td>JJR</td>\n",
       "      <td>``</td>\n",
       "      <td>NNP</td>\n",
       "      <td>)</td>\n",
       "      <td>VBD</td>\n",
       "      <td>VB</td>\n",
       "      <td>UH</td>\n",
       "      <td>VBP</td>\n",
       "      <td>EX</td>\n",
       "      <td>NNS</td>\n",
       "      <td>NN</td>\n",
       "      <td>JJ</td>\n",
       "      <td>VBZ</td>\n",
       "      <td>RP</td>\n",
       "      <td>VBG</td>\n",
       "      <td>JJS</td>\n",
       "      <td>RB</td>\n",
       "      <td>CD</td>\n",
       "      <td>MD</td>\n",
       "      <td>.</td>\n",
       "      <td>PRP$</td>\n",
       "      <td>IN</td>\n",
       "      <td>CC</td>\n",
       "      <td>PRP</td>\n",
       "      <td>:</td>\n",
       "      <td>RBS</td>\n",
       "      <td>DT</td>\n",
       "      <td>RT</td>\n",
       "      <td>TO</td>\n",
       "      <td>(</td>\n",
       "      <td>WRB</td>\n",
       "      <td>WP</td>\n",
       "      <td>,</td>\n",
       "      <td>USR</td>\n",
       "      <td>HT</td>\n",
       "      <td>URL</td>\n",
       "      <td>POS</td>\n",
       "    </tr>\n",
       "    <tr>\n",
       "      <th>count</th>\n",
       "      <td>2</td>\n",
       "      <td>6</td>\n",
       "      <td>4</td>\n",
       "      <td>549</td>\n",
       "      <td>75</td>\n",
       "      <td>28</td>\n",
       "      <td>140</td>\n",
       "      <td>53</td>\n",
       "      <td>2194</td>\n",
       "      <td>109</td>\n",
       "      <td>1408</td>\n",
       "      <td>3729</td>\n",
       "      <td>2536</td>\n",
       "      <td>3963</td>\n",
       "      <td>16</td>\n",
       "      <td>2059</td>\n",
       "      <td>7797</td>\n",
       "      <td>3187</td>\n",
       "      <td>1489</td>\n",
       "      <td>331</td>\n",
       "      <td>1403</td>\n",
       "      <td>154</td>\n",
       "      <td>3963</td>\n",
       "      <td>644</td>\n",
       "      <td>1027</td>\n",
       "      <td>5314</td>\n",
       "      <td>1463</td>\n",
       "      <td>4630</td>\n",
       "      <td>1165</td>\n",
       "      <td>7337</td>\n",
       "      <td>3133</td>\n",
       "      <td>16</td>\n",
       "      <td>3848</td>\n",
       "      <td>2047</td>\n",
       "      <td>1470</td>\n",
       "      <td>49</td>\n",
       "      <td>624</td>\n",
       "      <td>383</td>\n",
       "      <td>1076</td>\n",
       "      <td>5175</td>\n",
       "      <td>2011</td>\n",
       "      <td>914</td>\n",
       "      <td>108</td>\n",
       "    </tr>\n",
       "    <tr>\n",
       "      <th>mean</th>\n",
       "      <td>6.53</td>\n",
       "      <td>3.69</td>\n",
       "      <td>3.075</td>\n",
       "      <td>0.288</td>\n",
       "      <td>0.284</td>\n",
       "      <td>0.269</td>\n",
       "      <td>0.209</td>\n",
       "      <td>0.204</td>\n",
       "      <td>0.199</td>\n",
       "      <td>0.139</td>\n",
       "      <td>0.131</td>\n",
       "      <td>0.122</td>\n",
       "      <td>0.122</td>\n",
       "      <td>0.115</td>\n",
       "      <td>0.111</td>\n",
       "      <td>0.101</td>\n",
       "      <td>0.071</td>\n",
       "      <td>0.069</td>\n",
       "      <td>0.064</td>\n",
       "      <td>0.062</td>\n",
       "      <td>0.06</td>\n",
       "      <td>0.052</td>\n",
       "      <td>0.033</td>\n",
       "      <td>0.032</td>\n",
       "      <td>0.031</td>\n",
       "      <td>0.03</td>\n",
       "      <td>0.025</td>\n",
       "      <td>0.013</td>\n",
       "      <td>0.01</td>\n",
       "      <td>0.009</td>\n",
       "      <td>0.008</td>\n",
       "      <td>0.008</td>\n",
       "      <td>0.007</td>\n",
       "      <td>0.005</td>\n",
       "      <td>0.005</td>\n",
       "      <td>0.002</td>\n",
       "      <td>0.002</td>\n",
       "      <td>0.002</td>\n",
       "      <td>0.0</td>\n",
       "      <td>0.0</td>\n",
       "      <td>0.0</td>\n",
       "      <td>0.0</td>\n",
       "      <td>0.0</td>\n",
       "    </tr>\n",
       "    <tr>\n",
       "      <th>sum</th>\n",
       "      <td>13.06</td>\n",
       "      <td>22.14</td>\n",
       "      <td>12.3</td>\n",
       "      <td>158.29</td>\n",
       "      <td>21.29</td>\n",
       "      <td>7.53</td>\n",
       "      <td>29.19</td>\n",
       "      <td>10.81</td>\n",
       "      <td>437.27</td>\n",
       "      <td>15.14</td>\n",
       "      <td>184.23</td>\n",
       "      <td>454.46</td>\n",
       "      <td>308.95</td>\n",
       "      <td>453.92</td>\n",
       "      <td>1.78</td>\n",
       "      <td>208.72</td>\n",
       "      <td>555.86</td>\n",
       "      <td>218.38</td>\n",
       "      <td>94.68</td>\n",
       "      <td>20.65</td>\n",
       "      <td>83.53</td>\n",
       "      <td>7.95</td>\n",
       "      <td>128.87</td>\n",
       "      <td>20.33</td>\n",
       "      <td>31.37</td>\n",
       "      <td>157.4</td>\n",
       "      <td>36.17</td>\n",
       "      <td>59.48</td>\n",
       "      <td>12.17</td>\n",
       "      <td>69.21</td>\n",
       "      <td>25.74</td>\n",
       "      <td>0.13</td>\n",
       "      <td>26.11</td>\n",
       "      <td>11.19</td>\n",
       "      <td>7.32</td>\n",
       "      <td>0.12</td>\n",
       "      <td>1.48</td>\n",
       "      <td>0.71</td>\n",
       "      <td>0.23</td>\n",
       "      <td>0.34</td>\n",
       "      <td>0.04</td>\n",
       "      <td>0.0</td>\n",
       "      <td>0.0</td>\n",
       "    </tr>\n",
       "  </tbody>\n",
       "</table>\n",
       "</div>"
      ],
      "text/plain": [
       "           0      1      2       3      4      5      6      7       8    \n",
       "labels    SYM   NNPS    WDT     VBN     ''    RBR    JJR     ``     NNP  \\\n",
       "count       2      6      4     549     75     28    140     53    2194   \n",
       "mean     6.53   3.69  3.075   0.288  0.284  0.269  0.209  0.204   0.199   \n",
       "sum     13.06  22.14   12.3  158.29  21.29   7.53  29.19  10.81  437.27   \n",
       "\n",
       "           9       10      11      12      13     14      15      16      17   \n",
       "labels      )     VBD      VB      UH     VBP     EX     NNS      NN      JJ  \\\n",
       "count     109    1408    3729    2536    3963     16    2059    7797    3187   \n",
       "mean    0.139   0.131   0.122   0.122   0.115  0.111   0.101   0.071   0.069   \n",
       "sum     15.14  184.23  454.46  308.95  453.92   1.78  208.72  555.86  218.38   \n",
       "\n",
       "           18     19     20     21      22     23     24     25     26     27   \n",
       "labels    VBZ     RP    VBG    JJS      RB     CD     MD      .   PRP$     IN  \\\n",
       "count    1489    331   1403    154    3963    644   1027   5314   1463   4630   \n",
       "mean    0.064  0.062   0.06  0.052   0.033  0.032  0.031   0.03  0.025  0.013   \n",
       "sum     94.68  20.65  83.53   7.95  128.87  20.33  31.37  157.4  36.17  59.48   \n",
       "\n",
       "           28     29     30     31     32     33     34     35     36     37   \n",
       "labels     CC    PRP      :    RBS     DT     RT     TO      (    WRB     WP  \\\n",
       "count    1165   7337   3133     16   3848   2047   1470     49    624    383   \n",
       "mean     0.01  0.009  0.008  0.008  0.007  0.005  0.005  0.002  0.002  0.002   \n",
       "sum     12.17  69.21  25.74   0.13  26.11  11.19   7.32   0.12   1.48   0.71   \n",
       "\n",
       "          38    39    40   41   42  \n",
       "labels     ,   USR    HT  URL  POS  \n",
       "count   1076  5175  2011  914  108  \n",
       "mean     0.0   0.0   0.0  0.0  0.0  \n",
       "sum     0.23  0.34  0.04  0.0  0.0  "
      ]
     },
     "execution_count": 31,
     "metadata": {},
     "output_type": "execute_result"
    }
   ],
   "source": [
    "(\n",
    "    eval_df_tokens.groupby(\"labels\")[[\"loss\"]] \n",
    "    .agg([\"count\", \"mean\", \"sum\"])\n",
    "    .droplevel(level=0, axis=1)\n",
    "    .sort_values(by=\"mean\", ascending=False)\n",
    "    .reset_index()\n",
    "    .round(3)\n",
    "    .fillna(0)\n",
    "    .T\n",
    ")"
   ]
  },
  {
   "attachments": {},
   "cell_type": "markdown",
   "metadata": {},
   "source": [
    "#### Create Function to Display Confusion Matrix"
   ]
  },
  {
   "cell_type": "code",
   "execution_count": 32,
   "metadata": {},
   "outputs": [],
   "source": [
    "import matplotlib.pyplot as plt\n",
    "from sklearn.metrics import confusion_matrix, ConfusionMatrixDisplay\n",
    "\n",
    "def plot_confusion_matrix(y_preds, y_true, labels):\n",
    "    cm = confusion_matrix(y_true, y_preds, normalize=\"true\")\n",
    "    fig, ax = plt.subplots(figsize=(30, 30))\n",
    "    disp = ConfusionMatrixDisplay(confusion_matrix=cm, display_labels=labels)\n",
    "    disp.plot(cmap=\"Blues\", values_format=\".2f\", ax=ax, colorbar=False)\n",
    "    plt.title(\"Normalized Confusion Matrix\")\n",
    "    plt.show()"
   ]
  },
  {
   "attachments": {},
   "cell_type": "markdown",
   "metadata": {},
   "source": [
    "#### Display Confusion Matrix"
   ]
  },
  {
   "cell_type": "code",
   "execution_count": 33,
   "metadata": {},
   "outputs": [
    {
     "data": {
      "image/png": "[encoded data removed]",
      "text/plain": [
       "<Figure size 3000x3000 with 1 Axes>"
      ]
     },
     "metadata": {},
     "output_type": "display_data"
    }
   ],
   "source": [
    "eval_token_list = list(set(eval_df_tokens['labels']))\n",
    "\n",
    "plot_confusion_matrix(eval_df_tokens[\"labels\"], eval_df_tokens[\"predicted_label\"],\n",
    "                      eval_token_list)"
   ]
  },
  {
   "attachments": {},
   "cell_type": "markdown",
   "metadata": {},
   "source": [
    "#### Define & Call Function to Display Example Token Sequences Along With Labels & Losses"
   ]
  },
  {
   "cell_type": "code",
   "execution_count": 30,
   "metadata": {},
   "outputs": [
    {
     "data": {
      "text/html": [
       "<div>\n",
       "<style scoped>\n",
       "    .dataframe tbody tr th:only-of-type {\n",
       "        vertical-align: middle;\n",
       "    }\n",
       "\n",
       "    .dataframe tbody tr th {\n",
       "        vertical-align: top;\n",
       "    }\n",
       "\n",
       "    .dataframe thead th {\n",
       "        text-align: right;\n",
       "    }\n",
       "</style>\n",
       "<table border=\"1\" class=\"dataframe\">\n",
       "  <thead>\n",
       "    <tr style=\"text-align: right;\">\n",
       "      <th></th>\n",
       "      <th>0</th>\n",
       "      <th>1</th>\n",
       "      <th>2</th>\n",
       "      <th>3</th>\n",
       "      <th>4</th>\n",
       "      <th>5</th>\n",
       "      <th>6</th>\n",
       "      <th>7</th>\n",
       "      <th>8</th>\n",
       "      <th>9</th>\n",
       "      <th>10</th>\n",
       "      <th>11</th>\n",
       "      <th>12</th>\n",
       "      <th>13</th>\n",
       "    </tr>\n",
       "  </thead>\n",
       "  <tbody>\n",
       "    <tr>\n",
       "      <th>tokens</th>\n",
       "      <td>Go</td>\n",
       "      <td>cardinal</td>\n",
       "      <td>##s</td>\n",
       "      <td>!</td>\n",
       "      <td>!</td>\n",
       "      <td>!</td>\n",
       "      <td>!</td>\n",
       "      <td>#</td>\n",
       "      <td>game</td>\n",
       "      <td>##2</td>\n",
       "      <td>#</td>\n",
       "      <td>NL</td>\n",
       "      <td>##CS</td>\n",
       "      <td>[SEP]</td>\n",
       "    </tr>\n",
       "    <tr>\n",
       "      <th>labels</th>\n",
       "      <td>VB</td>\n",
       "      <td>NNPS</td>\n",
       "      <td>IGN</td>\n",
       "      <td>UH</td>\n",
       "      <td>.</td>\n",
       "      <td>UH</td>\n",
       "      <td>.</td>\n",
       "      <td>HT</td>\n",
       "      <td>IGN</td>\n",
       "      <td>IGN</td>\n",
       "      <td>HT</td>\n",
       "      <td>IGN</td>\n",
       "      <td>IGN</td>\n",
       "      <td>IGN</td>\n",
       "    </tr>\n",
       "    <tr>\n",
       "      <th>preds</th>\n",
       "      <td>VB</td>\n",
       "      <td>NNS</td>\n",
       "      <td>NNS</td>\n",
       "      <td>.</td>\n",
       "      <td>UH</td>\n",
       "      <td>.</td>\n",
       "      <td>.</td>\n",
       "      <td>HT</td>\n",
       "      <td>HT</td>\n",
       "      <td>HT</td>\n",
       "      <td>HT</td>\n",
       "      <td>NNP</td>\n",
       "      <td>HT</td>\n",
       "      <td>.</td>\n",
       "    </tr>\n",
       "    <tr>\n",
       "      <th>losses</th>\n",
       "      <td>0.03</td>\n",
       "      <td>9.29</td>\n",
       "      <td>0.00</td>\n",
       "      <td>8.61</td>\n",
       "      <td>4.15</td>\n",
       "      <td>5.25</td>\n",
       "      <td>0.00</td>\n",
       "      <td>0.00</td>\n",
       "      <td>0.00</td>\n",
       "      <td>0.00</td>\n",
       "      <td>0.00</td>\n",
       "      <td>0.00</td>\n",
       "      <td>0.00</td>\n",
       "      <td>0.00</td>\n",
       "    </tr>\n",
       "  </tbody>\n",
       "</table>\n",
       "</div>"
      ],
      "text/plain": [
       "          0         1     2     3     4     5     6     7     8     9     10   \n",
       "tokens    Go  cardinal   ##s     !     !     !     !     #  game   ##2     #  \\\n",
       "labels    VB      NNPS   IGN    UH     .    UH     .    HT   IGN   IGN    HT   \n",
       "preds     VB       NNS   NNS     .    UH     .     .    HT    HT    HT    HT   \n",
       "losses  0.03      9.29  0.00  8.61  4.15  5.25  0.00  0.00  0.00  0.00  0.00   \n",
       "\n",
       "          11    12     13  \n",
       "tokens    NL  ##CS  [SEP]  \n",
       "labels   IGN   IGN    IGN  \n",
       "preds    NNP    HT      .  \n",
       "losses  0.00  0.00   0.00  "
      ]
     },
     "metadata": {},
     "output_type": "display_data"
    },
    {
     "data": {
      "text/html": [
       "<div>\n",
       "<style scoped>\n",
       "    .dataframe tbody tr th:only-of-type {\n",
       "        vertical-align: middle;\n",
       "    }\n",
       "\n",
       "    .dataframe tbody tr th {\n",
       "        vertical-align: top;\n",
       "    }\n",
       "\n",
       "    .dataframe thead th {\n",
       "        text-align: right;\n",
       "    }\n",
       "</style>\n",
       "<table border=\"1\" class=\"dataframe\">\n",
       "  <thead>\n",
       "    <tr style=\"text-align: right;\">\n",
       "      <th></th>\n",
       "      <th>0</th>\n",
       "      <th>1</th>\n",
       "      <th>2</th>\n",
       "      <th>3</th>\n",
       "      <th>4</th>\n",
       "      <th>5</th>\n",
       "      <th>6</th>\n",
       "      <th>7</th>\n",
       "      <th>8</th>\n",
       "      <th>9</th>\n",
       "      <th>10</th>\n",
       "      <th>11</th>\n",
       "      <th>12</th>\n",
       "      <th>13</th>\n",
       "      <th>14</th>\n",
       "      <th>15</th>\n",
       "      <th>16</th>\n",
       "      <th>17</th>\n",
       "      <th>18</th>\n",
       "      <th>19</th>\n",
       "      <th>20</th>\n",
       "      <th>21</th>\n",
       "      <th>22</th>\n",
       "      <th>23</th>\n",
       "      <th>24</th>\n",
       "      <th>25</th>\n",
       "      <th>26</th>\n",
       "      <th>27</th>\n",
       "      <th>28</th>\n",
       "      <th>29</th>\n",
       "      <th>30</th>\n",
       "      <th>31</th>\n",
       "      <th>32</th>\n",
       "      <th>33</th>\n",
       "      <th>34</th>\n",
       "      <th>35</th>\n",
       "      <th>36</th>\n",
       "      <th>37</th>\n",
       "      <th>38</th>\n",
       "      <th>39</th>\n",
       "      <th>40</th>\n",
       "      <th>41</th>\n",
       "      <th>42</th>\n",
       "      <th>43</th>\n",
       "      <th>44</th>\n",
       "      <th>45</th>\n",
       "      <th>46</th>\n",
       "      <th>47</th>\n",
       "      <th>48</th>\n",
       "      <th>49</th>\n",
       "      <th>50</th>\n",
       "      <th>51</th>\n",
       "    </tr>\n",
       "  </thead>\n",
       "  <tbody>\n",
       "    <tr>\n",
       "      <th>tokens</th>\n",
       "      <td>#</td>\n",
       "      <td>W</td>\n",
       "      <td>##EL</td>\n",
       "      <td>##O</td>\n",
       "      <td>##VE</td>\n",
       "      <td>##IF</td>\n",
       "      <td>##Y</td>\n",
       "      <td>##MU</td>\n",
       "      <td>##SI</td>\n",
       "      <td>##C</td>\n",
       "      <td>##VI</td>\n",
       "      <td>##DE</td>\n",
       "      <td>##O</td>\n",
       "      <td>!</td>\n",
       "      <td>!</td>\n",
       "      <td>.</td>\n",
       "      <td>.</td>\n",
       "      <td>.</td>\n",
       "      <td>#</td>\n",
       "      <td>W</td>\n",
       "      <td>##EL</td>\n",
       "      <td>##O</td>\n",
       "      <td>##VE</td>\n",
       "      <td>##IF</td>\n",
       "      <td>##Y</td>\n",
       "      <td>##MU</td>\n",
       "      <td>##SI</td>\n",
       "      <td>##C</td>\n",
       "      <td>##VI</td>\n",
       "      <td>##DE</td>\n",
       "      <td>##O</td>\n",
       "      <td>!</td>\n",
       "      <td>!</td>\n",
       "      <td>.</td>\n",
       "      <td>.</td>\n",
       "      <td>.</td>\n",
       "      <td>#</td>\n",
       "      <td>W</td>\n",
       "      <td>##EL</td>\n",
       "      <td>##O</td>\n",
       "      <td>##VE</td>\n",
       "      <td>##IF</td>\n",
       "      <td>##Y</td>\n",
       "      <td>##MU</td>\n",
       "      <td>##SI</td>\n",
       "      <td>##C</td>\n",
       "      <td>##VI</td>\n",
       "      <td>##DE</td>\n",
       "      <td>##O</td>\n",
       "      <td>!</td>\n",
       "      <td>!</td>\n",
       "      <td>[SEP]</td>\n",
       "    </tr>\n",
       "    <tr>\n",
       "      <th>labels</th>\n",
       "      <td>HT</td>\n",
       "      <td>IGN</td>\n",
       "      <td>IGN</td>\n",
       "      <td>IGN</td>\n",
       "      <td>IGN</td>\n",
       "      <td>IGN</td>\n",
       "      <td>IGN</td>\n",
       "      <td>IGN</td>\n",
       "      <td>IGN</td>\n",
       "      <td>IGN</td>\n",
       "      <td>IGN</td>\n",
       "      <td>IGN</td>\n",
       "      <td>IGN</td>\n",
       "      <td>.</td>\n",
       "      <td>UH</td>\n",
       "      <td>.</td>\n",
       "      <td>UH</td>\n",
       "      <td>.</td>\n",
       "      <td>HT</td>\n",
       "      <td>IGN</td>\n",
       "      <td>IGN</td>\n",
       "      <td>IGN</td>\n",
       "      <td>IGN</td>\n",
       "      <td>IGN</td>\n",
       "      <td>IGN</td>\n",
       "      <td>IGN</td>\n",
       "      <td>IGN</td>\n",
       "      <td>IGN</td>\n",
       "      <td>IGN</td>\n",
       "      <td>IGN</td>\n",
       "      <td>IGN</td>\n",
       "      <td>.</td>\n",
       "      <td>UH</td>\n",
       "      <td>.</td>\n",
       "      <td>UH</td>\n",
       "      <td>.</td>\n",
       "      <td>HT</td>\n",
       "      <td>IGN</td>\n",
       "      <td>IGN</td>\n",
       "      <td>IGN</td>\n",
       "      <td>IGN</td>\n",
       "      <td>IGN</td>\n",
       "      <td>IGN</td>\n",
       "      <td>IGN</td>\n",
       "      <td>IGN</td>\n",
       "      <td>IGN</td>\n",
       "      <td>IGN</td>\n",
       "      <td>IGN</td>\n",
       "      <td>IGN</td>\n",
       "      <td>.</td>\n",
       "      <td>.</td>\n",
       "      <td>IGN</td>\n",
       "    </tr>\n",
       "    <tr>\n",
       "      <th>preds</th>\n",
       "      <td>HT</td>\n",
       "      <td>NNP</td>\n",
       "      <td>NNP</td>\n",
       "      <td>NNP</td>\n",
       "      <td>NNP</td>\n",
       "      <td>NN</td>\n",
       "      <td>NN</td>\n",
       "      <td>NN</td>\n",
       "      <td>NN</td>\n",
       "      <td>NN</td>\n",
       "      <td>NN</td>\n",
       "      <td>NN</td>\n",
       "      <td>NN</td>\n",
       "      <td>.</td>\n",
       "      <td>.</td>\n",
       "      <td>:</td>\n",
       "      <td>:</td>\n",
       "      <td>.</td>\n",
       "      <td>HT</td>\n",
       "      <td>NNP</td>\n",
       "      <td>NNP</td>\n",
       "      <td>NNP</td>\n",
       "      <td>NNP</td>\n",
       "      <td>NN</td>\n",
       "      <td>NN</td>\n",
       "      <td>NN</td>\n",
       "      <td>NN</td>\n",
       "      <td>NN</td>\n",
       "      <td>NN</td>\n",
       "      <td>NN</td>\n",
       "      <td>NN</td>\n",
       "      <td>.</td>\n",
       "      <td>.</td>\n",
       "      <td>:</td>\n",
       "      <td>:</td>\n",
       "      <td>.</td>\n",
       "      <td>HT</td>\n",
       "      <td>NNP</td>\n",
       "      <td>NNP</td>\n",
       "      <td>NNP</td>\n",
       "      <td>NNP</td>\n",
       "      <td>NN</td>\n",
       "      <td>NN</td>\n",
       "      <td>NN</td>\n",
       "      <td>NN</td>\n",
       "      <td>NN</td>\n",
       "      <td>NN</td>\n",
       "      <td>NN</td>\n",
       "      <td>NN</td>\n",
       "      <td>.</td>\n",
       "      <td>.</td>\n",
       "      <td>.</td>\n",
       "    </tr>\n",
       "    <tr>\n",
       "      <th>losses</th>\n",
       "      <td>0.00</td>\n",
       "      <td>0.00</td>\n",
       "      <td>0.00</td>\n",
       "      <td>0.00</td>\n",
       "      <td>0.00</td>\n",
       "      <td>0.00</td>\n",
       "      <td>0.00</td>\n",
       "      <td>0.00</td>\n",
       "      <td>0.00</td>\n",
       "      <td>0.00</td>\n",
       "      <td>0.00</td>\n",
       "      <td>0.00</td>\n",
       "      <td>0.00</td>\n",
       "      <td>0.00</td>\n",
       "      <td>2.75</td>\n",
       "      <td>5.80</td>\n",
       "      <td>4.03</td>\n",
       "      <td>0.00</td>\n",
       "      <td>0.00</td>\n",
       "      <td>0.00</td>\n",
       "      <td>0.00</td>\n",
       "      <td>0.00</td>\n",
       "      <td>0.00</td>\n",
       "      <td>0.00</td>\n",
       "      <td>0.00</td>\n",
       "      <td>0.00</td>\n",
       "      <td>0.00</td>\n",
       "      <td>0.00</td>\n",
       "      <td>0.00</td>\n",
       "      <td>0.00</td>\n",
       "      <td>0.00</td>\n",
       "      <td>0.00</td>\n",
       "      <td>2.96</td>\n",
       "      <td>5.23</td>\n",
       "      <td>3.79</td>\n",
       "      <td>0.00</td>\n",
       "      <td>0.00</td>\n",
       "      <td>0.00</td>\n",
       "      <td>0.00</td>\n",
       "      <td>0.00</td>\n",
       "      <td>0.00</td>\n",
       "      <td>0.00</td>\n",
       "      <td>0.00</td>\n",
       "      <td>0.00</td>\n",
       "      <td>0.00</td>\n",
       "      <td>0.00</td>\n",
       "      <td>0.00</td>\n",
       "      <td>0.00</td>\n",
       "      <td>0.00</td>\n",
       "      <td>0.00</td>\n",
       "      <td>0.00</td>\n",
       "      <td>0.00</td>\n",
       "    </tr>\n",
       "  </tbody>\n",
       "</table>\n",
       "</div>"
      ],
      "text/plain": [
       "          0     1     2     3     4     5     6     7     8     9     10   \n",
       "tokens     #     W  ##EL   ##O  ##VE  ##IF   ##Y  ##MU  ##SI   ##C  ##VI  \\\n",
       "labels    HT   IGN   IGN   IGN   IGN   IGN   IGN   IGN   IGN   IGN   IGN   \n",
       "preds     HT   NNP   NNP   NNP   NNP    NN    NN    NN    NN    NN    NN   \n",
       "losses  0.00  0.00  0.00  0.00  0.00  0.00  0.00  0.00  0.00  0.00  0.00   \n",
       "\n",
       "          11    12    13    14    15    16    17    18    19    20    21   \n",
       "tokens  ##DE   ##O     !     !     .     .     .     #     W  ##EL   ##O  \\\n",
       "labels   IGN   IGN     .    UH     .    UH     .    HT   IGN   IGN   IGN   \n",
       "preds     NN    NN     .     .     :     :     .    HT   NNP   NNP   NNP   \n",
       "losses  0.00  0.00  0.00  2.75  5.80  4.03  0.00  0.00  0.00  0.00  0.00   \n",
       "\n",
       "          22    23    24    25    26    27    28    29    30    31    32   \n",
       "tokens  ##VE  ##IF   ##Y  ##MU  ##SI   ##C  ##VI  ##DE   ##O     !     !  \\\n",
       "labels   IGN   IGN   IGN   IGN   IGN   IGN   IGN   IGN   IGN     .    UH   \n",
       "preds    NNP    NN    NN    NN    NN    NN    NN    NN    NN     .     .   \n",
       "losses  0.00  0.00  0.00  0.00  0.00  0.00  0.00  0.00  0.00  0.00  2.96   \n",
       "\n",
       "          33    34    35    36    37    38    39    40    41    42    43   \n",
       "tokens     .     .     .     #     W  ##EL   ##O  ##VE  ##IF   ##Y  ##MU  \\\n",
       "labels     .    UH     .    HT   IGN   IGN   IGN   IGN   IGN   IGN   IGN   \n",
       "preds      :     :     .    HT   NNP   NNP   NNP   NNP    NN    NN    NN   \n",
       "losses  5.23  3.79  0.00  0.00  0.00  0.00  0.00  0.00  0.00  0.00  0.00   \n",
       "\n",
       "          44    45    46    47    48    49    50     51  \n",
       "tokens  ##SI   ##C  ##VI  ##DE   ##O     !     !  [SEP]  \n",
       "labels   IGN   IGN   IGN   IGN   IGN     .     .    IGN  \n",
       "preds     NN    NN    NN    NN    NN     .     .      .  \n",
       "losses  0.00  0.00  0.00  0.00  0.00  0.00  0.00   0.00  "
      ]
     },
     "metadata": {},
     "output_type": "display_data"
    },
    {
     "data": {
      "text/html": [
       "<div>\n",
       "<style scoped>\n",
       "    .dataframe tbody tr th:only-of-type {\n",
       "        vertical-align: middle;\n",
       "    }\n",
       "\n",
       "    .dataframe tbody tr th {\n",
       "        vertical-align: top;\n",
       "    }\n",
       "\n",
       "    .dataframe thead th {\n",
       "        text-align: right;\n",
       "    }\n",
       "</style>\n",
       "<table border=\"1\" class=\"dataframe\">\n",
       "  <thead>\n",
       "    <tr style=\"text-align: right;\">\n",
       "      <th></th>\n",
       "      <th>0</th>\n",
       "      <th>1</th>\n",
       "      <th>2</th>\n",
       "      <th>3</th>\n",
       "      <th>4</th>\n",
       "      <th>5</th>\n",
       "      <th>6</th>\n",
       "      <th>7</th>\n",
       "      <th>8</th>\n",
       "      <th>9</th>\n",
       "      <th>10</th>\n",
       "      <th>11</th>\n",
       "      <th>12</th>\n",
       "      <th>13</th>\n",
       "      <th>14</th>\n",
       "      <th>15</th>\n",
       "      <th>16</th>\n",
       "      <th>17</th>\n",
       "      <th>18</th>\n",
       "      <th>19</th>\n",
       "      <th>20</th>\n",
       "      <th>21</th>\n",
       "      <th>22</th>\n",
       "      <th>23</th>\n",
       "      <th>24</th>\n",
       "      <th>25</th>\n",
       "      <th>26</th>\n",
       "      <th>27</th>\n",
       "      <th>28</th>\n",
       "      <th>29</th>\n",
       "      <th>30</th>\n",
       "      <th>31</th>\n",
       "      <th>32</th>\n",
       "      <th>33</th>\n",
       "      <th>34</th>\n",
       "    </tr>\n",
       "  </thead>\n",
       "  <tbody>\n",
       "    <tr>\n",
       "      <th>tokens</th>\n",
       "      <td>The</td>\n",
       "      <td>comments</td>\n",
       "      <td>!</td>\n",
       "      <td>!</td>\n",
       "      <td>!</td>\n",
       "      <td>!</td>\n",
       "      <td>!</td>\n",
       "      <td>!</td>\n",
       "      <td>O</td>\n",
       "      <td>##m</td>\n",
       "      <td>##f</td>\n",
       "      <td>##g</td>\n",
       "      <td>.</td>\n",
       "      <td>I</td>\n",
       "      <td>ca</td>\n",
       "      <td>n</td>\n",
       "      <td>'</td>\n",
       "      <td>t</td>\n",
       "      <td>with</td>\n",
       "      <td>this</td>\n",
       "      <td>video</td>\n",
       "      <td>.</td>\n",
       "      <td>I</td>\n",
       "      <td>feel</td>\n",
       "      <td>like</td>\n",
       "      <td>my</td>\n",
       "      <td>heart</td>\n",
       "      <td>is</td>\n",
       "      <td>going</td>\n",
       "      <td>to</td>\n",
       "      <td>jump</td>\n",
       "      <td>and</td>\n",
       "      <td>run</td>\n",
       "      <td>away</td>\n",
       "      <td>[SEP]</td>\n",
       "    </tr>\n",
       "    <tr>\n",
       "      <th>labels</th>\n",
       "      <td>DT</td>\n",
       "      <td>NNS</td>\n",
       "      <td>.</td>\n",
       "      <td>.</td>\n",
       "      <td>UH</td>\n",
       "      <td>.</td>\n",
       "      <td>UH</td>\n",
       "      <td>.</td>\n",
       "      <td>UH</td>\n",
       "      <td>IGN</td>\n",
       "      <td>IGN</td>\n",
       "      <td>IGN</td>\n",
       "      <td>.</td>\n",
       "      <td>PRP</td>\n",
       "      <td>MD</td>\n",
       "      <td>RB</td>\n",
       "      <td>IGN</td>\n",
       "      <td>IGN</td>\n",
       "      <td>IN</td>\n",
       "      <td>DT</td>\n",
       "      <td>NN</td>\n",
       "      <td>.</td>\n",
       "      <td>PRP</td>\n",
       "      <td>VBP</td>\n",
       "      <td>IN</td>\n",
       "      <td>PRP$</td>\n",
       "      <td>NN</td>\n",
       "      <td>VBZ</td>\n",
       "      <td>VBG</td>\n",
       "      <td>TO</td>\n",
       "      <td>VB</td>\n",
       "      <td>CC</td>\n",
       "      <td>VB</td>\n",
       "      <td>RB</td>\n",
       "      <td>IGN</td>\n",
       "    </tr>\n",
       "    <tr>\n",
       "      <th>preds</th>\n",
       "      <td>DT</td>\n",
       "      <td>NNS</td>\n",
       "      <td>.</td>\n",
       "      <td>UH</td>\n",
       "      <td>.</td>\n",
       "      <td>UH</td>\n",
       "      <td>.</td>\n",
       "      <td>.</td>\n",
       "      <td>UH</td>\n",
       "      <td>UH</td>\n",
       "      <td>UH</td>\n",
       "      <td>UH</td>\n",
       "      <td>.</td>\n",
       "      <td>PRP</td>\n",
       "      <td>MD</td>\n",
       "      <td>RB</td>\n",
       "      <td>RB</td>\n",
       "      <td>RB</td>\n",
       "      <td>IN</td>\n",
       "      <td>DT</td>\n",
       "      <td>NN</td>\n",
       "      <td>.</td>\n",
       "      <td>PRP</td>\n",
       "      <td>VBP</td>\n",
       "      <td>IN</td>\n",
       "      <td>PRP$</td>\n",
       "      <td>NN</td>\n",
       "      <td>VBZ</td>\n",
       "      <td>VBG</td>\n",
       "      <td>TO</td>\n",
       "      <td>VB</td>\n",
       "      <td>CC</td>\n",
       "      <td>VB</td>\n",
       "      <td>RB</td>\n",
       "      <td>.</td>\n",
       "    </tr>\n",
       "    <tr>\n",
       "      <th>losses</th>\n",
       "      <td>0.00</td>\n",
       "      <td>0.00</td>\n",
       "      <td>0.00</td>\n",
       "      <td>5.94</td>\n",
       "      <td>5.39</td>\n",
       "      <td>2.34</td>\n",
       "      <td>3.79</td>\n",
       "      <td>0.00</td>\n",
       "      <td>0.00</td>\n",
       "      <td>0.00</td>\n",
       "      <td>0.00</td>\n",
       "      <td>0.00</td>\n",
       "      <td>0.00</td>\n",
       "      <td>0.00</td>\n",
       "      <td>0.00</td>\n",
       "      <td>0.00</td>\n",
       "      <td>0.00</td>\n",
       "      <td>0.00</td>\n",
       "      <td>0.00</td>\n",
       "      <td>0.00</td>\n",
       "      <td>0.00</td>\n",
       "      <td>0.00</td>\n",
       "      <td>0.00</td>\n",
       "      <td>0.00</td>\n",
       "      <td>0.00</td>\n",
       "      <td>0.00</td>\n",
       "      <td>0.00</td>\n",
       "      <td>0.00</td>\n",
       "      <td>0.00</td>\n",
       "      <td>0.00</td>\n",
       "      <td>0.00</td>\n",
       "      <td>0.00</td>\n",
       "      <td>0.00</td>\n",
       "      <td>0.00</td>\n",
       "      <td>0.00</td>\n",
       "    </tr>\n",
       "  </tbody>\n",
       "</table>\n",
       "</div>"
      ],
      "text/plain": [
       "          0         1     2     3     4     5     6     7     8     9     10   \n",
       "tokens   The  comments     !     !     !     !     !     !     O   ##m   ##f  \\\n",
       "labels    DT       NNS     .     .    UH     .    UH     .    UH   IGN   IGN   \n",
       "preds     DT       NNS     .    UH     .    UH     .     .    UH    UH    UH   \n",
       "losses  0.00      0.00  0.00  5.94  5.39  2.34  3.79  0.00  0.00  0.00  0.00   \n",
       "\n",
       "          11    12    13    14    15    16    17    18    19     20    21   \n",
       "tokens   ##g     .     I    ca     n     '     t  with  this  video     .  \\\n",
       "labels   IGN     .   PRP    MD    RB   IGN   IGN    IN    DT     NN     .   \n",
       "preds     UH     .   PRP    MD    RB    RB    RB    IN    DT     NN     .   \n",
       "losses  0.00  0.00  0.00  0.00  0.00  0.00  0.00  0.00  0.00   0.00  0.00   \n",
       "\n",
       "          22    23    24    25     26    27     28    29    30    31    32   \n",
       "tokens     I  feel  like    my  heart    is  going    to  jump   and   run  \\\n",
       "labels   PRP   VBP    IN  PRP$     NN   VBZ    VBG    TO    VB    CC    VB   \n",
       "preds    PRP   VBP    IN  PRP$     NN   VBZ    VBG    TO    VB    CC    VB   \n",
       "losses  0.00  0.00  0.00  0.00   0.00  0.00   0.00  0.00  0.00  0.00  0.00   \n",
       "\n",
       "          33     34  \n",
       "tokens  away  [SEP]  \n",
       "labels    RB    IGN  \n",
       "preds     RB      .  \n",
       "losses  0.00   0.00  "
      ]
     },
     "metadata": {},
     "output_type": "display_data"
    }
   ],
   "source": [
    "def get_samples(df):\n",
    "    for _, row in df.iterrows():\n",
    "        labels, preds, tokens, losses = [], [], [], []\n",
    "        for i, mask in enumerate(row[\"attention_mask\"]):\n",
    "            if i not in {0, len(row[\"attention_mask\"])}:\n",
    "                labels.append(row[\"labels\"][i])\n",
    "                preds.append(row[\"predicted_label\"][i])\n",
    "                tokens.append(row[\"input_tokens\"][i])\n",
    "                losses.append(f\"{row['loss'][i]:.2f}\")\n",
    "        eval_df_tmp = pd.DataFrame({\"tokens\": tokens, \"labels\": labels, \n",
    "                               \"preds\": preds, \"losses\": losses}).T\n",
    "        yield eval_df_tmp\n",
    "\n",
    "eval_df[\"total_loss\"] = eval_df[\"loss\"].apply(sum)\n",
    "eval_df_tmp = eval_df.sort_values(by=\"total_loss\", ascending=False).head(3)\n",
    "\n",
    "pd.set_option('display.max_columns', None)\n",
    "\n",
    "for sample in get_samples(eval_df_tmp):\n",
    "    display(sample)"
   ]
  },
  {
   "attachments": {},
   "cell_type": "markdown",
   "metadata": {},
   "source": [
    "### Notes & Other Takeaways From This Project\n",
    "\n",
    "****\n",
    "- Normally, I like to include some nice visualizations, which I (unfortunately) did not do with this project. Because I wanted to focus on the main part of the project (for this project and many others), I forewent the visualizations. I intend on completed some as an acillary project after completing the currently list of projects that I have.\n",
    "\n",
    "- This model struggled to identify (any) 'JJR' and 'WRB' tokens in the error analysis. For 'JJR' tokens, this makes sense because there were only 140 'JJR' samples. On the other hand there were 624 samples of 'WRB' tokens.\n",
    "\n",
    "- The model also struggled to accurately identify 'RBR' and 'MD' tokens in the error analysis. It makes sense that this model performed poorly handling 'RBR' tokens as there were only 28 samples, but the same cannot be said about 'MD' tokens as there were 1027 'MD' tokens.\n",
    "\n",
    "- The original metrics from the model stuggled to accurately identify '$', 'nnps', 'sym', and 'fw' tokens. This just cements my next comment even more. \n",
    "\n",
    "- I was hesitant to subclass the trainer to handle class imbalance since there were 51 classes; however, given the results, I have rethought that and I will fine-tune a version of this model with a subclassed trainer.\n",
    "\n",
    "****"
   ]
  },
  {
   "attachments": {},
   "cell_type": "markdown",
   "metadata": {},
   "source": [
    "### Citations\n",
    "\n",
    "- Model Checkpoint\n",
    "\n",
    "    > @article{DBLP:journals/corr/abs-1810-04805, author = {Jacob Devlin and Ming{-}Wei Chang and Kenton Lee and Kristina Toutanova}, title = {{BERT:} Pre-training of Deep Bidirectional Transformers for Language Understanding}, journal = {CoRR}, volume = {abs/1810.04805}, year = {2018}, url = {http://arxiv.org/abs/1810.04805}, archivePrefix = {arXiv}, eprint = {1810.04805}, timestamp = {Tue, 30 Oct 2018 20:39:56 +0100}, biburl = {https://dblp.org/rec/journals/corr/abs-1810-04805.bib}, bibsource = {dblp computer science bibliography, https://dblp.org}}\n",
    "\n",
    "- Dataset\n",
    "\n",
    "    > @inproceedings{derczynski2013twitter, title={Twitter part-of-speech tagging for all: Overcoming sparse and noisy data}, author={Derczynski, Leon and Ritter, Alan and Clark, Sam and Bontcheva, Kalina}, booktitle={Proceedings of the international conference recent advances in natural language ranlp 2013}, pages={198--206}, year={2013}}\n",
    "\n",
    "- Metric (PosEval)\n",
    "\n",
    "    > @article{scikit-learn, title={Scikit-learn: Machine Learning in {P}ython}, author={Pedregosa, F. and Varoquaux, G. and Gramfort, A. and Michel, V. and Thirion, B. and Grisel, O. and Blondel, M. and Prettenhofer, P. and Weiss, R. and Dubourg, V. and Vanderplas, J. and Passos, A. and Cournapeau, D. and Brucher, M. and Perrot, M. and Duchesnay, E.}, journal={Journal of Machine Learning Research}, volume={12}, pages={2825--2830}, year={2011}}"
   ]
  }
 ],
 "metadata": {
  "kernelspec": {
   "display_name": "dl",
   "language": "python",
   "name": "python3"
  },
  "language_info": {
   "codemirror_mode": {
    "name": "ipython",
    "version": 3
   },
   "file_extension": ".py",
   "mimetype": "text/x-python",
   "name": "python",
   "nbconvert_exporter": "python",
   "pygments_lexer": "ipython3",
   "version": "3.9.12"
  },
  "orig_nbformat": 4
 },
 "nbformat": 4,
 "nbformat_minor": 2
}
