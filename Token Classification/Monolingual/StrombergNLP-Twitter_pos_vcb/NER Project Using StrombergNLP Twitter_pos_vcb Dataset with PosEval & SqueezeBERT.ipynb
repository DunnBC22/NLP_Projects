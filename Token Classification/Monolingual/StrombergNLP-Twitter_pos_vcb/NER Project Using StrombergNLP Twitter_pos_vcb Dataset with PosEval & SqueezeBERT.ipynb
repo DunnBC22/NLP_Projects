{
 "cells": [
  {
   "attachments": {},
   "cell_type": "markdown",
   "metadata": {},
   "source": [
    "## Monolingual Named Entity Recognition (Stromberg NLP Twitter P.o.S. Dataset)\n",
    "\n",
    "Dataset Source: https://huggingface.co/datasets/strombergnlp/twitter_pos_vcb"
   ]
  },
  {
   "attachments": {},
   "cell_type": "markdown",
   "metadata": {},
   "source": [
    "#### Import Necessary Libraries"
   ]
  },
  {
   "cell_type": "code",
   "execution_count": 1,
   "metadata": {},
   "outputs": [
    {
     "name": "stdout",
     "output_type": "stream",
     "text": [
      "Git LFS initialized.\n"
     ]
    }
   ],
   "source": [
    "import os, sys\n",
    "os.environ['TOKENIZERS_PARALLELISM']='false'\n",
    "\n",
    "import pandas as pd\n",
    "import numpy as np\n",
    "import matplotlib.pyplot as plt\n",
    "\n",
    "import sklearn\n",
    "from sklearn.metrics import confusion_matrix, ConfusionMatrixDisplay\n",
    "\n",
    "import datasets\n",
    "from datasets import load_dataset, DatasetDict\n",
    "\n",
    "import torch\n",
    "from torch import nn\n",
    "from torch.nn.functional import cross_entropy\n",
    "\n",
    "import transformers\n",
    "from transformers import AutoTokenizer, AutoModelForTokenClassification\n",
    "from transformers import DataCollatorForTokenClassification\n",
    "from transformers import Trainer, TrainingArguments\n",
    "\n",
    "import evaluate\n",
    "\n",
    "!git lfs install"
   ]
  },
  {
   "attachments": {},
   "cell_type": "markdown",
   "metadata": {},
   "source": [
    "#### Display Library Versions"
   ]
  },
  {
   "cell_type": "code",
   "execution_count": 2,
   "metadata": {},
   "outputs": [
    {
     "name": "stdout",
     "output_type": "stream",
     "text": [
      "          Python : 3.9.12\n",
      "           NumPy : 1.24.3\n",
      "          Pandas : 2.0.1\n",
      "           Torch : 2.0.0\n",
      "    Transformers : 4.28.1\n",
      "        datasets : 2.11.0\n",
      "         Sklearn : 1.2.2\n"
     ]
    }
   ],
   "source": [
    "print(\"Python :\".rjust(18), sys.version[0:6])\n",
    "print(\"NumPy :\".rjust(18), np.__version__)\n",
    "print(\"Pandas :\".rjust(18), pd.__version__)\n",
    "print(\"Torch :\".rjust(18), torch.__version__)\n",
    "print(\"Transformers :\".rjust(18), transformers.__version__)\n",
    "print(\"datasets :\".rjust(18), datasets.__version__)\n",
    "print(\"Sklearn :\".rjust(18), sklearn.__version__)"
   ]
  },
  {
   "attachments": {},
   "cell_type": "markdown",
   "metadata": {},
   "source": [
    "#### Ingest English Subset of Dataset"
   ]
  },
  {
   "cell_type": "code",
   "execution_count": 3,
   "metadata": {},
   "outputs": [
    {
     "name": "stderr",
     "output_type": "stream",
     "text": [
      "Found cached dataset twitter_pos_vcb (/Users/briandunn/.cache/huggingface/datasets/strombergnlp___twitter_pos_vcb/twitter-pos-vcb/1.0.0/2c671a933c7ffb84cf124a1f987cd73fb883e6b3628ee4a01f5326f5aefc296a)\n"
     ]
    },
    {
     "data": {
      "application/vnd.jupyter.widget-view+json": {
       "model_id": "d1867a67f2694d2da133931273721bc2",
       "version_major": 2,
       "version_minor": 0
      },
      "text/plain": [
       "  0%|          | 0/1 [00:00<?, ?it/s]"
      ]
     },
     "metadata": {},
     "output_type": "display_data"
    },
    {
     "data": {
      "text/plain": [
       "DatasetDict({\n",
       "    train: Dataset({\n",
       "        features: ['id', 'tokens', 'pos_tags'],\n",
       "        num_rows: 159492\n",
       "    })\n",
       "})"
      ]
     },
     "execution_count": 3,
     "metadata": {},
     "output_type": "execute_result"
    }
   ],
   "source": [
    "data = load_dataset(\"strombergnlp/twitter_pos_vcb\")\n",
    "\n",
    "data"
   ]
  },
  {
   "attachments": {},
   "cell_type": "markdown",
   "metadata": {},
   "source": [
    "#### Split Dataset into DatasetDict"
   ]
  },
  {
   "cell_type": "code",
   "execution_count": 4,
   "metadata": {},
   "outputs": [
    {
     "name": "stdout",
     "output_type": "stream",
     "text": [
      "Training data shape: (119619, 3)\n",
      "Testing data shape: (31899, 3)\n",
      "Validation data shape: (7974, 3)\n"
     ]
    }
   ],
   "source": [
    "# Split Dataset into train/test/eval datasets\n",
    "# then pack all of them into DatasetDict\n",
    "train_testvalid = data['train'].train_test_split(test_size=0.25)\n",
    "test_valid = train_testvalid['test'].train_test_split(test_size=0.80)\n",
    "\n",
    "ds = DatasetDict({\n",
    "    'train': train_testvalid['train'], \n",
    "    'test': test_valid['test'], \n",
    "    'eval': test_valid['train']})\n",
    "\n",
    "print('Training data shape:', ds['train'].shape)\n",
    "print('Testing data shape:', ds['test'].shape)\n",
    "print('Validation data shape:', ds['eval'].shape)"
   ]
  },
  {
   "attachments": {},
   "cell_type": "markdown",
   "metadata": {},
   "source": [
    "#### Example"
   ]
  },
  {
   "cell_type": "code",
   "execution_count": 5,
   "metadata": {},
   "outputs": [
    {
     "data": {
      "text/plain": [
       "{'id': '151472',\n",
       " 'tokens': ['Me', 'and', 'haley', '!', 'http://t.co/qi8L327T'],\n",
       " 'pos_tags': [28, 10, 22, 7, 50]}"
      ]
     },
     "execution_count": 5,
     "metadata": {},
     "output_type": "execute_result"
    }
   ],
   "source": [
    "example = ds['train'][12]\n",
    "\n",
    "example"
   ]
  },
  {
   "attachments": {},
   "cell_type": "markdown",
   "metadata": {},
   "source": [
    "#### Display Feature Information About Each Feature"
   ]
  },
  {
   "cell_type": "code",
   "execution_count": 6,
   "metadata": {},
   "outputs": [
    {
     "name": "stdout",
     "output_type": "stream",
     "text": [
      "id: \n",
      "Value(dtype='string', id=None)\n",
      "\n",
      "tokens: \n",
      "Sequence(feature=Value(dtype='string', id=None), length=-1, id=None)\n",
      "\n",
      "pos_tags: \n",
      "Sequence(feature=ClassLabel(names=['\"', \"''\", '#', '$', '(', ')', ',', '.', ':', '``', 'CC', 'CD', 'DT', 'EX', 'FW', 'IN', 'JJ', 'JJR', 'JJS', 'LS', 'MD', 'NN', 'NNP', 'NNPS', 'NNS', 'NN|SYM', 'PDT', 'POS', 'PRP', 'PRP$', 'RB', 'RBR', 'RBS', 'RP', 'SYM', 'TO', 'UH', 'VB', 'VBD', 'VBG', 'VBN', 'VBP', 'VBZ', 'WDT', 'WP', 'WP$', 'WRB', 'RT', 'HT', 'USR', 'URL'], id=None), length=-1, id=None)\n",
      "\n"
     ]
    }
   ],
   "source": [
    "for k, v in ds[\"train\"].features.items():\n",
    "    print(f\"{k}: \\n{v}\\n\")"
   ]
  },
  {
   "attachments": {},
   "cell_type": "markdown",
   "metadata": {},
   "source": [
    "#### Define Tag Values & Conversions Between String & Integer Values"
   ]
  },
  {
   "cell_type": "code",
   "execution_count": 7,
   "metadata": {},
   "outputs": [
    {
     "name": "stdout",
     "output_type": "stream",
     "text": [
      "List of tag values: \n",
      "['\"', \"''\", '#', '$', '(', ')', ',', '.', ':', '``', 'CC', 'CD', 'DT', 'EX', 'FW', 'IN', 'JJ', 'JJR', 'JJS', 'LS', 'MD', 'NN', 'NNP', 'NNPS', 'NNS', 'NN|SYM', 'PDT', 'POS', 'PRP', 'PRP$', 'RB', 'RBR', 'RBS', 'RP', 'SYM', 'TO', 'UH', 'VB', 'VBD', 'VBG', 'VBN', 'VBP', 'VBZ', 'WDT', 'WP', 'WP$', 'WRB', 'RT', 'HT', 'USR', 'URL']\n",
      "Number of NER Tags: \n",
      "51\n",
      "id2label: \n",
      "{0: '\"', 1: \"''\", 2: '#', 3: '$', 4: '(', 5: ')', 6: ',', 7: '.', 8: ':', 9: '``', 10: 'CC', 11: 'CD', 12: 'DT', 13: 'EX', 14: 'FW', 15: 'IN', 16: 'JJ', 17: 'JJR', 18: 'JJS', 19: 'LS', 20: 'MD', 21: 'NN', 22: 'NNP', 23: 'NNPS', 24: 'NNS', 25: 'NN|SYM', 26: 'PDT', 27: 'POS', 28: 'PRP', 29: 'PRP$', 30: 'RB', 31: 'RBR', 32: 'RBS', 33: 'RP', 34: 'SYM', 35: 'TO', 36: 'UH', 37: 'VB', 38: 'VBD', 39: 'VBG', 40: 'VBN', 41: 'VBP', 42: 'VBZ', 43: 'WDT', 44: 'WP', 45: 'WP$', 46: 'WRB', 47: 'RT', 48: 'HT', 49: 'USR', 50: 'URL'}\n",
      "label2id: \n",
      "{'\"': 0, \"''\": 1, '#': 2, '$': 3, '(': 4, ')': 5, ',': 6, '.': 7, ':': 8, '``': 9, 'CC': 10, 'CD': 11, 'DT': 12, 'EX': 13, 'FW': 14, 'IN': 15, 'JJ': 16, 'JJR': 17, 'JJS': 18, 'LS': 19, 'MD': 20, 'NN': 21, 'NNP': 22, 'NNPS': 23, 'NNS': 24, 'NN|SYM': 25, 'PDT': 26, 'POS': 27, 'PRP': 28, 'PRP$': 29, 'RB': 30, 'RBR': 31, 'RBS': 32, 'RP': 33, 'SYM': 34, 'TO': 35, 'UH': 36, 'VB': 37, 'VBD': 38, 'VBG': 39, 'VBN': 40, 'VBP': 41, 'VBZ': 42, 'WDT': 43, 'WP': 44, 'WP$': 45, 'WRB': 46, 'RT': 47, 'HT': 48, 'USR': 49, 'URL': 50}\n"
     ]
    }
   ],
   "source": [
    "pos_tag_values = ds['train'].features[f'pos_tags'].feature.names\n",
    "NUM_OF_LABELS = len(pos_tag_values)\n",
    "\n",
    "label2id = {tag: idx for idx, tag in enumerate(pos_tag_values)}\n",
    "id2label = {idx: tag for idx, tag in enumerate(pos_tag_values)}\n",
    "\n",
    "print(f\"List of tag values: \\n{pos_tag_values}\")\n",
    "print(f\"Number of NER Tags: \\n{NUM_OF_LABELS}\")\n",
    "print(f\"id2label: \\n{id2label}\")\n",
    "print(f\"label2id: \\n{label2id}\")"
   ]
  },
  {
   "attachments": {},
   "cell_type": "markdown",
   "metadata": {},
   "source": [
    "#### Basic Values/Constants"
   ]
  },
  {
   "cell_type": "code",
   "execution_count": 9,
   "metadata": {},
   "outputs": [
    {
     "name": "stdout",
     "output_type": "stream",
     "text": [
      "The model name is squeezebert-uncased-finetuned-Stromberg_NLP_Twitter-PoS.\n"
     ]
    }
   ],
   "source": [
    "MODEL_CKPT = \"squeezebert/squeezebert-uncased\"\n",
    "\n",
    "MODEL_NAME = f\"{MODEL_CKPT.split(f'/')[-1]}-finetuned-Stromberg_NLP_Twitter-PoS\"\n",
    "NUM_OF_EPOCHS = 2\n",
    "\n",
    "BATCH_SIZE = 16\n",
    "STRATEGY = \"epoch\"\n",
    "\n",
    "REPORTS_TO = \"tensorboard\"\n",
    "WEIGHT_DECAY = 0.01\n",
    "\n",
    "LR = 2e-5\n",
    "DEVICE = torch.device(\"cpu\")\n",
    "\n",
    "STEPS = 500\n",
    "print(f\"The model name is {MODEL_NAME}.\")"
   ]
  },
  {
   "attachments": {},
   "cell_type": "markdown",
   "metadata": {},
   "source": [
    "#### Function to Tokenize & Align Inputs"
   ]
  },
  {
   "cell_type": "code",
   "execution_count": 10,
   "metadata": {},
   "outputs": [],
   "source": [
    "tokenizer = AutoTokenizer.from_pretrained(MODEL_CKPT)\n",
    "\n",
    "def tokenize_and_align_labels(samples):\n",
    "    tokenized_inputs = tokenizer(samples[\"tokens\"], \n",
    "                                      truncation=True, \n",
    "                                      is_split_into_words=True)\n",
    "    \n",
    "    labels = []\n",
    "    \n",
    "    for idx, label in enumerate(samples[f\"pos_tags\"]):\n",
    "        word_ids = tokenized_inputs.word_ids(batch_index=idx)\n",
    "        prev_word_idx = None\n",
    "        label_ids = []\n",
    "        for word_idx in word_ids: # set special tokens to -100\n",
    "            if word_idx is None or word_idx == prev_word_idx:\n",
    "                label_ids.append(-100)\n",
    "            else:\n",
    "                label_ids.append(label[word_idx])\n",
    "            prev_word_idx = word_idx\n",
    "        labels.append(label_ids)\n",
    "    \n",
    "    tokenized_inputs[\"labels\"] = labels\n",
    "    return tokenized_inputs"
   ]
  },
  {
   "attachments": {},
   "cell_type": "markdown",
   "metadata": {},
   "source": [
    "#### Apply Above Function to Tokenize Dataset"
   ]
  },
  {
   "cell_type": "code",
   "execution_count": 11,
   "metadata": {},
   "outputs": [
    {
     "data": {
      "application/vnd.jupyter.widget-view+json": {
       "model_id": "90c6234db9674c7aa64c0cac47db59a0",
       "version_major": 2,
       "version_minor": 0
      },
      "text/plain": [
       "Map:   0%|          | 0/119619 [00:00<?, ? examples/s]"
      ]
     },
     "metadata": {},
     "output_type": "display_data"
    },
    {
     "data": {
      "application/vnd.jupyter.widget-view+json": {
       "model_id": "87e2bf4190574181b2867341400717cd",
       "version_major": 2,
       "version_minor": 0
      },
      "text/plain": [
       "Map:   0%|          | 0/31899 [00:00<?, ? examples/s]"
      ]
     },
     "metadata": {},
     "output_type": "display_data"
    },
    {
     "data": {
      "application/vnd.jupyter.widget-view+json": {
       "model_id": "c2af8db9f6e846c887045c762a96b3c2",
       "version_major": 2,
       "version_minor": 0
      },
      "text/plain": [
       "Map:   0%|          | 0/7974 [00:00<?, ? examples/s]"
      ]
     },
     "metadata": {},
     "output_type": "display_data"
    }
   ],
   "source": [
    "encoded_ds = ds.map(tokenize_and_align_labels, \n",
    "                       batched=True, \n",
    "                       remove_columns=\n",
    "                        [\n",
    "                            'pos_tags', \n",
    "                            'tokens'\n",
    "                        ]\n",
    "                    )"
   ]
  },
  {
   "attachments": {},
   "cell_type": "markdown",
   "metadata": {},
   "source": [
    "#### Define Data Collator"
   ]
  },
  {
   "cell_type": "code",
   "execution_count": 12,
   "metadata": {},
   "outputs": [],
   "source": [
    "data_collator = DataCollatorForTokenClassification(tokenizer=tokenizer)"
   ]
  },
  {
   "attachments": {},
   "cell_type": "markdown",
   "metadata": {},
   "source": [
    "#### Load Custom Model"
   ]
  },
  {
   "cell_type": "code",
   "execution_count": 13,
   "metadata": {},
   "outputs": [
    {
     "name": "stderr",
     "output_type": "stream",
     "text": [
      "Some weights of the model checkpoint at squeezebert/squeezebert-uncased were not used when initializing SqueezeBertForTokenClassification: ['cls.predictions.transform.LayerNorm.bias', 'cls.predictions.transform.dense.bias', 'cls.seq_relationship.bias', 'cls.predictions.decoder.weight', 'cls.predictions.transform.dense.weight', 'cls.seq_relationship.weight', 'cls.predictions.bias', 'cls.predictions.transform.LayerNorm.weight']\n",
      "- This IS expected if you are initializing SqueezeBertForTokenClassification from the checkpoint of a model trained on another task or with another architecture (e.g. initializing a BertForSequenceClassification model from a BertForPreTraining model).\n",
      "- This IS NOT expected if you are initializing SqueezeBertForTokenClassification from the checkpoint of a model that you expect to be exactly identical (initializing a BertForSequenceClassification model from a BertForSequenceClassification model).\n",
      "Some weights of SqueezeBertForTokenClassification were not initialized from the model checkpoint at squeezebert/squeezebert-uncased and are newly initialized: ['classifier.bias', 'classifier.weight']\n",
      "You should probably TRAIN this model on a down-stream task to be able to use it for predictions and inference.\n"
     ]
    }
   ],
   "source": [
    "model = (AutoModelForTokenClassification.from_pretrained(\n",
    "    MODEL_CKPT,\n",
    "    num_labels=NUM_OF_LABELS,\n",
    "    id2label=id2label,\n",
    "    label2id=label2id\n",
    "    ).to(DEVICE))"
   ]
  },
  {
   "attachments": {},
   "cell_type": "markdown",
   "metadata": {},
   "source": [
    "#### Create Compute Metrics Function"
   ]
  },
  {
   "cell_type": "code",
   "execution_count": 14,
   "metadata": {},
   "outputs": [],
   "source": [
    "label_list = pos_tag_values\n",
    "\n",
    "poseval = evaluate.load(\"poseval\")\n",
    "\n",
    "labels = [label_list[i] for i in example[f'pos_tags']]\n",
    "\n",
    "def compute_metrics(eval_preds):\n",
    "    predictions, labels = eval_preds\n",
    "    predictions = np.argmax(predictions, \n",
    "                            axis=2)\n",
    "    \n",
    "    true_predictions = [\n",
    "        [label_list[p] for (p, l) in zip(prediction, label) if l != -100]\n",
    "        for prediction, label in zip(predictions, labels)\n",
    "    ]\n",
    "    \n",
    "    true_labels = [\n",
    "        [label_list[l] for (p, l) in zip(prediction, label) if l != -100]\n",
    "        for prediction, label in zip(predictions, labels)\n",
    "    ]\n",
    "    \n",
    "    results = poseval.compute(predictions=true_predictions, \n",
    "                              references=true_labels)\n",
    "    \n",
    "    return results"
   ]
  },
  {
   "attachments": {},
   "cell_type": "markdown",
   "metadata": {},
   "source": [
    "#### Define TrainingArguments"
   ]
  },
  {
   "cell_type": "code",
   "execution_count": 15,
   "metadata": {},
   "outputs": [],
   "source": [
    "args = TrainingArguments(\n",
    "    MODEL_NAME,\n",
    "    log_level=\"error\",\n",
    "    logging_first_step=True,\n",
    "    learning_rate=LR,\n",
    "    num_train_epochs=NUM_OF_EPOCHS,\n",
    "    per_device_train_batch_size=BATCH_SIZE,\n",
    "    per_device_eval_batch_size=BATCH_SIZE,\n",
    "    evaluation_strategy=STRATEGY,\n",
    "    report_to=REPORTS_TO,\n",
    "    disable_tqdm=False,\n",
    "    logging_steps=STEPS,\n",
    "    weight_decay=WEIGHT_DECAY,\n",
    "    save_strategy=STRATEGY,\n",
    "    hub_private_repo=True,\n",
    "    push_to_hub=True\n",
    ")"
   ]
  },
  {
   "cell_type": "markdown",
   "metadata": {},
   "source": [
    "#### Subclass Trainer to Handle Class Imbalance"
   ]
  },
  {
   "cell_type": "code",
   "execution_count": 16,
   "metadata": {},
   "outputs": [],
   "source": [
    "class CustomTrainer(Trainer):\n",
    "    def compute_loss(self, model, inputs, return_outputs=False):\n",
    "        labels = inputs.get(\"labels\")\n",
    "        # forward pass\n",
    "        outputs = model(**inputs)\n",
    "        logits = outputs.get(\"logits\")\n",
    "        # compute custom loss (suppose one has 51 labels with different weights)\n",
    "        loss_fct = nn.CrossEntropyLoss(weight=torch.tensor([1.0, 2.0, 3.0, 4.0, 5.0, 6.0, 7.0, 8.0, 9.0, 10.0,\n",
    "                                                            11.0, 12.0, 13.0, 14.0, 15.0, 16.0, 17.0, 18.0, 19.0, 20.0,\n",
    "                                                            21.0, 22.0, 23.0, 24.0, 25.0, 26.0, 27.0, 28.0, 29.0, 30.0,\n",
    "                                                            31.0, 32.0, 33.0, 34.0, 35.0, 36.0, 37.0, 38.0, 39.0, 40.0,\n",
    "                                                            41.0, 42.0, 43.0, 44.0, 45.0, 46.0, 47.0, 48.0, 49.0, 50.0,\n",
    "                                                            51.0], device=model.device))\n",
    "        loss = loss_fct(logits.view(-1, \n",
    "                                    self.model.config.num_labels), \n",
    "                        labels.view(-1)\n",
    "                        )\n",
    "        return (loss, outputs) if return_outputs else loss"
   ]
  },
  {
   "attachments": {},
   "cell_type": "markdown",
   "metadata": {},
   "source": [
    "#### Define Trainer"
   ]
  },
  {
   "cell_type": "code",
   "execution_count": 17,
   "metadata": {},
   "outputs": [
    {
     "name": "stderr",
     "output_type": "stream",
     "text": [
      "Cloning https://huggingface.co/DunnBC22/squeezebert-uncased-finetuned-Stromberg_NLP_Twitter-PoS into local empty directory.\n"
     ]
    }
   ],
   "source": [
    "trainer = CustomTrainer(model, \n",
    "                  args=args,\n",
    "                  data_collator=data_collator,\n",
    "                  compute_metrics=compute_metrics,\n",
    "                  tokenizer=tokenizer,\n",
    "                  train_dataset=encoded_ds[\"train\"],\n",
    "                  eval_dataset=encoded_ds[\"test\"]\n",
    "                  )"
   ]
  },
  {
   "attachments": {},
   "cell_type": "markdown",
   "metadata": {},
   "source": [
    "#### Train Model"
   ]
  },
  {
   "cell_type": "code",
   "execution_count": 18,
   "metadata": {},
   "outputs": [
    {
     "name": "stderr",
     "output_type": "stream",
     "text": [
      "/Users/briandunn/Documents/deep_learning/dl/lib/python3.9/site-packages/transformers/optimization.py:391: FutureWarning: This implementation of AdamW is deprecated and will be removed in a future version. Use the PyTorch implementation torch.optim.AdamW instead, or set `no_deprecation_warning=True` to disable this warning\n",
      "  warnings.warn(\n"
     ]
    },
    {
     "data": {
      "application/vnd.jupyter.widget-view+json": {
       "model_id": "880db862ad844fdba51af3d2adab30c2",
       "version_major": 2,
       "version_minor": 0
      },
      "text/plain": [
       "  0%|          | 0/14954 [00:00<?, ?it/s]"
      ]
     },
     "metadata": {},
     "output_type": "display_data"
    },
    {
     "name": "stdout",
     "output_type": "stream",
     "text": [
      "{'loss': 3.9394, 'learning_rate': 1.9998662565199947e-05, 'epoch': 0.0}\n",
      "{'loss': 2.516, 'learning_rate': 1.9331282599973254e-05, 'epoch': 0.07}\n",
      "{'loss': 1.2716, 'learning_rate': 1.8662565199946505e-05, 'epoch': 0.13}\n",
      "{'loss': 0.736, 'learning_rate': 1.7993847799919754e-05, 'epoch': 0.2}\n",
      "{'loss': 0.47, 'learning_rate': 1.7325130399893006e-05, 'epoch': 0.27}\n",
      "{'loss': 0.3223, 'learning_rate': 1.6656412999866258e-05, 'epoch': 0.33}\n",
      "{'loss': 0.2479, 'learning_rate': 1.598769559983951e-05, 'epoch': 0.4}\n",
      "{'loss': 0.2008, 'learning_rate': 1.5318978199812758e-05, 'epoch': 0.47}\n",
      "{'loss': 0.1697, 'learning_rate': 1.4650260799786012e-05, 'epoch': 0.53}\n",
      "{'loss': 0.1493, 'learning_rate': 1.3981543399759264e-05, 'epoch': 0.6}\n",
      "{'loss': 0.1337, 'learning_rate': 1.3312825999732516e-05, 'epoch': 0.67}\n",
      "{'loss': 0.1265, 'learning_rate': 1.2644108599705764e-05, 'epoch': 0.74}\n",
      "{'loss': 0.1257, 'learning_rate': 1.1975391199679016e-05, 'epoch': 0.8}\n",
      "{'loss': 0.1167, 'learning_rate': 1.1306673799652268e-05, 'epoch': 0.87}\n",
      "{'loss': 0.1086, 'learning_rate': 1.063795639962552e-05, 'epoch': 0.94}\n"
     ]
    },
    {
     "data": {
      "application/vnd.jupyter.widget-view+json": {
       "model_id": "5c7d94fa8ccc4942a896ab2370f215ec",
       "version_major": 2,
       "version_minor": 0
      },
      "text/plain": [
       "  0%|          | 0/1994 [00:00<?, ?it/s]"
      ]
     },
     "metadata": {},
     "output_type": "display_data"
    },
    {
     "name": "stderr",
     "output_type": "stream",
     "text": [
      "/Users/briandunn/Documents/deep_learning/dl/lib/python3.9/site-packages/sklearn/metrics/_classification.py:1344: UndefinedMetricWarning: Precision and F-score are ill-defined and being set to 0.0 in labels with no predicted samples. Use `zero_division` parameter to control this behavior.\n",
      "  _warn_prf(average, modifier, msg_start, len(result))\n",
      "/Users/briandunn/Documents/deep_learning/dl/lib/python3.9/site-packages/sklearn/metrics/_classification.py:1344: UndefinedMetricWarning: Precision and F-score are ill-defined and being set to 0.0 in labels with no predicted samples. Use `zero_division` parameter to control this behavior.\n",
      "  _warn_prf(average, modifier, msg_start, len(result))\n",
      "/Users/briandunn/Documents/deep_learning/dl/lib/python3.9/site-packages/sklearn/metrics/_classification.py:1344: UndefinedMetricWarning: Precision and F-score are ill-defined and being set to 0.0 in labels with no predicted samples. Use `zero_division` parameter to control this behavior.\n",
      "  _warn_prf(average, modifier, msg_start, len(result))\n"
     ]
    },
    {
     "name": "stdout",
     "output_type": "stream",
     "text": [
      "{'eval_loss': 0.0906338170170784, 'eval_$': {'precision': 0.0, 'recall': 0.0, 'f1-score': 0.0, 'support': 5}, \"eval_''\": {'precision': 0.0, 'recall': 0.0, 'f1-score': 0.0, 'support': 326}, 'eval_(': {'precision': 0.0, 'recall': 0.0, 'f1-score': 0.0, 'support': 206}, 'eval_)': {'precision': 0.560377358490566, 'recall': 0.6292372881355932, 'f1-score': 0.592814371257485, 'support': 472}, 'eval_,': {'precision': 0.998180991359709, 'recall': 0.999317095379012, 'f1-score': 0.9987487202821068, 'support': 4393}, 'eval_.': {'precision': 0.9936903740346272, 'recall': 0.9566992272926083, 'f1-score': 0.97484401307319, 'support': 20577}, 'eval_:': {'precision': 0.9805677728908436, 'recall': 0.9933570965651328, 'f1-score': 0.9869210028572578, 'support': 12344}, 'eval_CC': {'precision': 0.9967804249839022, 'recall': 0.9984949473231564, 'f1-score': 0.9976369495166488, 'support': 4651}, 'eval_CD': {'precision': 0.9743589743589743, 'recall': 0.987012987012987, 'f1-score': 0.9806451612903225, 'support': 2464}, 'eval_DT': {'precision': 0.9981268397109981, 'recall': 0.9946003599760016, 'f1-score': 0.9963604794817857, 'support': 15001}, 'eval_EX': {'precision': 1.0, 'recall': 0.06578947368421052, 'f1-score': 0.12345679012345677, 'support': 76}, 'eval_FW': {'precision': 0.0, 'recall': 0.0, 'f1-score': 0.0, 'support': 7}, 'eval_HT': {'precision': 0.9972094151904878, 'recall': 0.9995135595281528, 'f1-score': 0.9983601579107197, 'support': 8223}, 'eval_IN': {'precision': 0.9956591908286493, 'recall': 0.9899845064187693, 'f1-score': 0.9928137399073278, 'support': 18072}, 'eval_JJ': {'precision': 0.9797560975609756, 'recall': 0.9560491868306228, 'f1-score': 0.9677574784179882, 'support': 12605}, 'eval_JJR': {'precision': 0.7366720516962844, 'recall': 0.9344262295081968, 'f1-score': 0.8238482384823849, 'support': 488}, 'eval_JJS': {'precision': 0.7949080622347949, 'recall': 0.9876977152899824, 'f1-score': 0.8808777429467085, 'support': 569}, 'eval_MD': {'precision': 0.9885940409683427, 'recall': 0.9803785780240074, 'f1-score': 0.9844691701437182, 'support': 4332}, 'eval_NN': {'precision': 0.9721519818725165, 'recall': 0.9660292390027412, 'f1-score': 0.969080939520419, 'support': 30644}, 'eval_NNP': {'precision': 0.9151075771749299, 'recall': 0.8874021997958952, 'f1-score': 0.9010419664958839, 'support': 8819}, 'eval_NNPS': {'precision': 0.0, 'recall': 0.0, 'f1-score': 0.0, 'support': 16}, 'eval_NNS': {'precision': 0.9616633366633367, 'recall': 0.9703881048387096, 'f1-score': 0.9660060210737581, 'support': 7936}, 'eval_PDT': {'precision': 0.0, 'recall': 0.0, 'f1-score': 0.0, 'support': 1}, 'eval_POS': {'precision': 0.8228346456692913, 'recall': 0.9835294117647059, 'f1-score': 0.8960342979635584, 'support': 425}, 'eval_PRP': {'precision': 0.9979914209845442, 'recall': 0.9960924226979273, 'f1-score': 0.9970410176178492, 'support': 29430}, 'eval_PRP$': {'precision': 0.9974271012006861, 'recall': 0.9945271079185908, 'f1-score': 0.9959749935771175, 'support': 5847}, 'eval_RB': {'precision': 0.986593998621813, 'recall': 0.9911264946507238, 'f1-score': 0.988855052899256, 'support': 15890}, 'eval_RBR': {'precision': 0.0, 'recall': 0.0, 'f1-score': 0.0, 'support': 89}, 'eval_RBS': {'precision': 0.0, 'recall': 0.0, 'f1-score': 0.0, 'support': 70}, 'eval_RP': {'precision': 0.9456366237482118, 'recall': 0.991747936984246, 'f1-score': 0.9681435371658733, 'support': 1333}, 'eval_RT': {'precision': 0.9992566897918731, 'recall': 0.9995043370508054, 'f1-score': 0.999380498079544, 'support': 8070}, 'eval_SYM': {'precision': 0.0, 'recall': 0.0, 'f1-score': 0.0, 'support': 7}, 'eval_TO': {'precision': 0.9936030428769018, 'recall': 0.9970506592643997, 'f1-score': 0.9953238656044338, 'support': 5764}, 'eval_UH': {'precision': 0.8503544902093181, 'recall': 0.9671690505903812, 'f1-score': 0.9050078598697507, 'support': 10417}, 'eval_URL': {'precision': 1.0, 'recall': 0.9997222222222222, 'f1-score': 0.9998610918183081, 'support': 3600}, 'eval_USR': {'precision': 0.9998540926997714, 'recall': 1.0, 'f1-score': 0.9999270410272624, 'support': 20558}, 'eval_VB': {'precision': 0.9472919418758257, 'recall': 0.933845552806355, 'f1-score': 0.9405206898813037, 'support': 15358}, 'eval_VBD': {'precision': 0.9494858379938661, 'recall': 0.9421768707482994, 'f1-score': 0.9458172342528529, 'support': 5586}, 'eval_VBG': {'precision': 0.965993265993266, 'recall': 0.9865887207702888, 'f1-score': 0.9761823749574685, 'support': 5816}, 'eval_VBN': {'precision': 0.8414839797639123, 'recall': 0.9048050770625566, 'f1-score': 0.8719965050240279, 'support': 2206}, 'eval_VBP': {'precision': 0.9429053842786568, 'recall': 0.9546663289856908, 'f1-score': 0.9487494100991034, 'support': 15794}, 'eval_VBZ': {'precision': 0.9788806758183738, 'recall': 0.9844247787610619, 'f1-score': 0.9816448993999294, 'support': 5650}, 'eval_WDT': {'precision': 0.0, 'recall': 0.0, 'f1-score': 0.0, 'support': 16}, 'eval_WP': {'precision': 0.9672897196261683, 'recall': 0.9957907396271798, 'f1-score': 0.9813333333333334, 'support': 1663}, 'eval_WRB': {'precision': 0.9926078028747434, 'recall': 0.9975237309120925, 'f1-score': 0.9950596953478797, 'support': 2423}, 'eval_``': {'precision': 0.92, 'recall': 0.875, 'f1-score': 0.8969359331476324, 'support': 184}, 'eval_accuracy': 0.9729138228990705, 'eval_macro avg': {'precision': 0.7378977218271123, 'recall': 0.7346015051613762, 'f1-score': 0.7265102668227748, 'support': 308423}, 'eval_weighted avg': {'precision': 0.9715364444902821, 'recall': 0.9729138228990705, 'f1-score': 0.9718877721203797, 'support': 308423}, 'eval_runtime': 964.1966, 'eval_samples_per_second': 33.084, 'eval_steps_per_second': 2.068, 'epoch': 1.0}\n",
      "{'loss': 0.1041, 'learning_rate': 9.96923899959877e-06, 'epoch': 1.0}\n",
      "{'loss': 0.0902, 'learning_rate': 9.300521599572022e-06, 'epoch': 1.07}\n",
      "{'loss': 0.0917, 'learning_rate': 8.631804199545272e-06, 'epoch': 1.14}\n",
      "{'loss': 0.0876, 'learning_rate': 7.963086799518524e-06, 'epoch': 1.2}\n",
      "{'loss': 0.0843, 'learning_rate': 7.294369399491775e-06, 'epoch': 1.27}\n",
      "{'loss': 0.086, 'learning_rate': 6.625651999465027e-06, 'epoch': 1.34}\n",
      "{'loss': 0.0829, 'learning_rate': 5.956934599438278e-06, 'epoch': 1.4}\n",
      "{'loss': 0.084, 'learning_rate': 5.288217199411529e-06, 'epoch': 1.47}\n",
      "{'loss': 0.0847, 'learning_rate': 4.61949979938478e-06, 'epoch': 1.54}\n",
      "{'loss': 0.0775, 'learning_rate': 3.950782399358032e-06, 'epoch': 1.6}\n",
      "{'loss': 0.0789, 'learning_rate': 3.282064999331283e-06, 'epoch': 1.67}\n",
      "{'loss': 0.0795, 'learning_rate': 2.613347599304534e-06, 'epoch': 1.74}\n",
      "{'loss': 0.08, 'learning_rate': 1.9446301992777852e-06, 'epoch': 1.81}\n",
      "{'loss': 0.076, 'learning_rate': 1.2759127992510367e-06, 'epoch': 1.87}\n",
      "{'loss': 0.0787, 'learning_rate': 6.071953992242879e-07, 'epoch': 1.94}\n"
     ]
    },
    {
     "data": {
      "application/vnd.jupyter.widget-view+json": {
       "model_id": "3ab9de0c5faa41b8b3425f1790365de9",
       "version_major": 2,
       "version_minor": 0
      },
      "text/plain": [
       "  0%|          | 0/1994 [00:00<?, ?it/s]"
      ]
     },
     "metadata": {},
     "output_type": "display_data"
    },
    {
     "name": "stderr",
     "output_type": "stream",
     "text": [
      "/Users/briandunn/Documents/deep_learning/dl/lib/python3.9/site-packages/sklearn/metrics/_classification.py:1344: UndefinedMetricWarning: Precision and F-score are ill-defined and being set to 0.0 in labels with no predicted samples. Use `zero_division` parameter to control this behavior.\n",
      "  _warn_prf(average, modifier, msg_start, len(result))\n",
      "/Users/briandunn/Documents/deep_learning/dl/lib/python3.9/site-packages/sklearn/metrics/_classification.py:1344: UndefinedMetricWarning: Precision and F-score are ill-defined and being set to 0.0 in labels with no predicted samples. Use `zero_division` parameter to control this behavior.\n",
      "  _warn_prf(average, modifier, msg_start, len(result))\n",
      "/Users/briandunn/Documents/deep_learning/dl/lib/python3.9/site-packages/sklearn/metrics/_classification.py:1344: UndefinedMetricWarning: Precision and F-score are ill-defined and being set to 0.0 in labels with no predicted samples. Use `zero_division` parameter to control this behavior.\n",
      "  _warn_prf(average, modifier, msg_start, len(result))\n"
     ]
    },
    {
     "name": "stdout",
     "output_type": "stream",
     "text": [
      "{'eval_loss': 0.07422502338886261, 'eval_$': {'precision': 0.0, 'recall': 0.0, 'f1-score': 0.0, 'support': 5}, \"eval_''\": {'precision': 0.0, 'recall': 0.0, 'f1-score': 0.0, 'support': 326}, 'eval_(': {'precision': 0.987012987012987, 'recall': 0.36893203883495146, 'f1-score': 0.5371024734982333, 'support': 206}, 'eval_)': {'precision': 0.7858585858585858, 'recall': 0.8241525423728814, 'f1-score': 0.8045501551189245, 'support': 472}, 'eval_,': {'precision': 0.998180991359709, 'recall': 0.999317095379012, 'f1-score': 0.9987487202821068, 'support': 4393}, 'eval_.': {'precision': 0.9944867682437851, 'recall': 0.9642805073625893, 'f1-score': 0.9791507315749216, 'support': 20577}, 'eval_:': {'precision': 0.9903045972368102, 'recall': 0.9929520414776409, 'f1-score': 0.9916265523239352, 'support': 12344}, 'eval_CC': {'precision': 0.9991397849462366, 'recall': 0.9989249623736831, 'f1-score': 0.999032362111601, 'support': 4651}, 'eval_CD': {'precision': 0.9786720321931589, 'recall': 0.987012987012987, 'f1-score': 0.9828248130935543, 'support': 2464}, 'eval_DT': {'precision': 0.9981299672744273, 'recall': 0.9962669155389641, 'f1-score': 0.9971975712283979, 'support': 15001}, 'eval_EX': {'precision': 0.9545454545454546, 'recall': 0.8289473684210527, 'f1-score': 0.8873239436619719, 'support': 76}, 'eval_FW': {'precision': 0.0, 'recall': 0.0, 'f1-score': 0.0, 'support': 7}, 'eval_HT': {'precision': 0.9992705167173253, 'recall': 0.9995135595281528, 'f1-score': 0.9993920233463035, 'support': 8223}, 'eval_IN': {'precision': 0.9963866807493468, 'recall': 0.9918105356352368, 'f1-score': 0.994093341837442, 'support': 18072}, 'eval_JJ': {'precision': 0.9784091821173448, 'recall': 0.9670765569218565, 'f1-score': 0.9727098627513565, 'support': 12605}, 'eval_JJR': {'precision': 0.7768456375838926, 'recall': 0.9487704918032787, 'f1-score': 0.8542435424354243, 'support': 488}, 'eval_JJS': {'precision': 0.8377976190476191, 'recall': 0.9894551845342706, 'f1-score': 0.9073327961321516, 'support': 569}, 'eval_MD': {'precision': 0.9872861766065649, 'recall': 0.9859187442289935, 'f1-score': 0.9866019866019865, 'support': 4332}, 'eval_NN': {'precision': 0.9747805214875218, 'recall': 0.9674324500717922, 'f1-score': 0.9710925856167189, 'support': 30644}, 'eval_NNP': {'precision': 0.9178587909552377, 'recall': 0.9021431001247306, 'f1-score': 0.909933093154915, 'support': 8819}, 'eval_NNPS': {'precision': 0.0, 'recall': 0.0, 'f1-score': 0.0, 'support': 16}, 'eval_NNS': {'precision': 0.960392351626521, 'recall': 0.9746723790322581, 'f1-score': 0.967479674796748, 'support': 7936}, 'eval_PDT': {'precision': 0.0, 'recall': 0.0, 'f1-score': 0.0, 'support': 1}, 'eval_POS': {'precision': 0.9292035398230089, 'recall': 0.9882352941176471, 'f1-score': 0.9578107183580389, 'support': 425}, 'eval_PRP': {'precision': 0.9965031403836361, 'recall': 0.9973496432212029, 'f1-score': 0.9969262121083469, 'support': 29430}, 'eval_PRP$': {'precision': 0.9970870459218643, 'recall': 0.9952112194287669, 'f1-score': 0.9961482495934263, 'support': 5847}, 'eval_RB': {'precision': 0.9906871381827335, 'recall': 0.9908118313404657, 'f1-score': 0.9907494808382102, 'support': 15890}, 'eval_RBR': {'precision': 0.0, 'recall': 0.0, 'f1-score': 0.0, 'support': 89}, 'eval_RBS': {'precision': 0.9655172413793104, 'recall': 0.4, 'f1-score': 0.5656565656565657, 'support': 70}, 'eval_RP': {'precision': 0.9599708879184862, 'recall': 0.9894973743435859, 'f1-score': 0.9745105282600665, 'support': 1333}, 'eval_RT': {'precision': 0.9993804980795441, 'recall': 0.9995043370508054, 'f1-score': 0.999442413729013, 'support': 8070}, 'eval_SYM': {'precision': 0.0, 'recall': 0.0, 'f1-score': 0.0, 'support': 7}, 'eval_TO': {'precision': 0.9941196817710135, 'recall': 0.9972241498959056, 'f1-score': 0.9956694959293262, 'support': 5764}, 'eval_UH': {'precision': 0.8872920477310339, 'recall': 0.9779207065373908, 'f1-score': 0.930404603160106, 'support': 10417}, 'eval_URL': {'precision': 1.0, 'recall': 0.9997222222222222, 'f1-score': 0.9998610918183081, 'support': 3600}, 'eval_USR': {'precision': 0.9999027237354086, 'recall': 1.0, 'f1-score': 0.9999513595019213, 'support': 20558}, 'eval_VB': {'precision': 0.9478888816602693, 'recall': 0.9486912358379997, 'f1-score': 0.9482898890299065, 'support': 15358}, 'eval_VBD': {'precision': 0.9520413620966304, 'recall': 0.9559613319011815, 'f1-score': 0.9539973202322466, 'support': 5586}, 'eval_VBG': {'precision': 0.9751953788651037, 'recall': 0.9869325997248969, 'f1-score': 0.9810288839514613, 'support': 5816}, 'eval_VBN': {'precision': 0.8933574333483958, 'recall': 0.8961922030825022, 'f1-score': 0.8947725729803122, 'support': 2206}, 'eval_VBP': {'precision': 0.9539939332659252, 'recall': 0.9558060022793465, 'f1-score': 0.9548991081029793, 'support': 15794}, 'eval_VBZ': {'precision': 0.9837110481586402, 'recall': 0.9833628318584071, 'f1-score': 0.9835369091874668, 'support': 5650}, 'eval_WDT': {'precision': 1.0, 'recall': 0.125, 'f1-score': 0.2222222222222222, 'support': 16}, 'eval_WP': {'precision': 0.9845238095238096, 'recall': 0.994588093806374, 'f1-score': 0.989530361950344, 'support': 1663}, 'eval_WRB': {'precision': 0.9938322368421053, 'recall': 0.9975237309120925, 'f1-score': 0.9956745623069001, 'support': 2423}, 'eval_``': {'precision': 0.4943181818181818, 'recall': 0.9456521739130435, 'f1-score': 0.6492537313432836, 'support': 184}, 'eval_accuracy': 0.9771417825518849, 'eval_macro avg': {'precision': 0.8046496707840787, 'recall': 0.7785384009158297, 'f1-score': 0.7765385328223292, 'support': 308423}, 'eval_weighted avg': {'precision': 0.9764476820143939, 'recall': 0.9771417825518849, 'f1-score': 0.9764874953483746, 'support': 308423}, 'eval_runtime': 1016.8538, 'eval_samples_per_second': 31.37, 'eval_steps_per_second': 1.961, 'epoch': 2.0}\n",
      "{'train_runtime': 23667.2149, 'train_samples_per_second': 10.108, 'train_steps_per_second': 0.632, 'train_loss': 0.26859990992743144, 'epoch': 2.0}\n"
     ]
    }
   ],
   "source": [
    "train_results = trainer.train()"
   ]
  },
  {
   "attachments": {},
   "cell_type": "markdown",
   "metadata": {},
   "source": [
    "#### Push Model To Hub"
   ]
  },
  {
   "cell_type": "code",
   "execution_count": 19,
   "metadata": {},
   "outputs": [
    {
     "name": "stderr",
     "output_type": "stream",
     "text": [
      "Several commits (2) will be pushed upstream.\n",
      "The progress bars may be unreliable.\n"
     ]
    },
    {
     "data": {
      "application/vnd.jupyter.widget-view+json": {
       "model_id": "9773e3673d0e4e7b823d578bec08b2f8",
       "version_major": 2,
       "version_minor": 0
      },
      "text/plain": [
       "Upload file pytorch_model.bin:   0%|          | 1.00/195M [00:00<?, ?B/s]"
      ]
     },
     "metadata": {},
     "output_type": "display_data"
    },
    {
     "data": {
      "application/vnd.jupyter.widget-view+json": {
       "model_id": "3a30b18693b24eae9dff9811164e8f75",
       "version_major": 2,
       "version_minor": 0
      },
      "text/plain": [
       "Upload file runs/Jul07_21-49-48_Brians-Mac-mini.local/events.out.tfevents.1688784592.Brians-Mac-mini.local.146…"
      ]
     },
     "metadata": {},
     "output_type": "display_data"
    },
    {
     "name": "stderr",
     "output_type": "stream",
     "text": [
      "To https://huggingface.co/DunnBC22/squeezebert-uncased-finetuned-Stromberg_NLP_Twitter-PoS\n",
      "   5748791..72bd2b0  main -> main\n",
      "\n",
      "To https://huggingface.co/DunnBC22/squeezebert-uncased-finetuned-Stromberg_NLP_Twitter-PoS\n",
      "   72bd2b0..397fe98  main -> main\n",
      "\n"
     ]
    }
   ],
   "source": [
    "kwargs = {\n",
    "    \"tasks\": \"token-classification\",\n",
    "    \"tags\": ['token-classification'],\n",
    "}\n",
    "\n",
    "if args.push_to_hub:\n",
    "    trainer.push_to_hub('All DUNN!!!', **kwargs)\n",
    "else:\n",
    "    trainer.create_model_card(**kwargs)"
   ]
  },
  {
   "attachments": {},
   "cell_type": "markdown",
   "metadata": {},
   "source": [
    "#### Save & Log Model"
   ]
  },
  {
   "cell_type": "code",
   "execution_count": 20,
   "metadata": {},
   "outputs": [
    {
     "name": "stderr",
     "output_type": "stream",
     "text": [
      "To https://huggingface.co/DunnBC22/squeezebert-uncased-finetuned-Stromberg_NLP_Twitter-PoS\n",
      "   397fe98..dd56f4d  main -> main\n",
      "\n"
     ]
    },
    {
     "name": "stdout",
     "output_type": "stream",
     "text": [
      "***** train metrics *****\n",
      "  epoch                    =        2.0\n",
      "  train_loss               =     0.2686\n",
      "  train_runtime            = 6:34:27.21\n",
      "  train_samples_per_second =     10.108\n",
      "  train_steps_per_second   =      0.632\n"
     ]
    }
   ],
   "source": [
    "trainer.save_model()\n",
    "trainer.log_metrics(\"train\", train_results.metrics)\n",
    "trainer.save_metrics(\"train\", train_results.metrics)\n",
    "trainer.save_state()"
   ]
  },
  {
   "attachments": {},
   "cell_type": "markdown",
   "metadata": {},
   "source": [
    "### Error Analysis"
   ]
  },
  {
   "attachments": {},
   "cell_type": "markdown",
   "metadata": {},
   "source": [
    "#### Define Method to Apply to Validation Dataset (& Then Apply it)"
   ]
  },
  {
   "cell_type": "code",
   "execution_count": 21,
   "metadata": {},
   "outputs": [],
   "source": [
    "def forward_pass_with_label(batch):\n",
    "    # Convert dict of lists to list of dicts suitable for data collator\n",
    "    features = [dict(zip(batch, t)) for t in zip(*batch.values())]\n",
    "    # Pad inputs and labels and put all tensors on device\n",
    "    batch = data_collator(features)\n",
    "    input_ids = batch[\"input_ids\"].to(DEVICE)\n",
    "    attention_mask = batch[\"attention_mask\"].to(DEVICE)\n",
    "    labels = batch[\"labels\"].to(DEVICE)\n",
    "    with torch.no_grad():\n",
    "        # Pass data through model  \n",
    "        output = trainer.model(input_ids, \n",
    "                               attention_mask\n",
    "                               )\n",
    "        # Logit.size: [batch_size, sequence_length, classes]\n",
    "        predicted_label = torch.argmax(output.logits, \n",
    "                                       axis=-1\n",
    "                                       ).cpu().numpy()\n",
    "        \n",
    "    # Calculate loss per token after flattening batch dimension with view\n",
    "    loss = cross_entropy(output.logits.view(-1, 51), \n",
    "                         labels.view(-1), \n",
    "                         reduction=\"none\")\n",
    "    # Unflatten batch dimension and convert to numpy array\n",
    "    loss = loss.view(len(input_ids), -1).cpu().numpy()\n",
    "\n",
    "    return {\"loss\":loss, \"predicted_label\": predicted_label}"
   ]
  },
  {
   "attachments": {},
   "cell_type": "markdown",
   "metadata": {},
   "source": [
    "#### Apply Above Function to Entire Evaluation Dataset"
   ]
  },
  {
   "cell_type": "code",
   "execution_count": 22,
   "metadata": {},
   "outputs": [
    {
     "name": "stderr",
     "output_type": "stream",
     "text": [
      "Parameter 'function'=<function forward_pass_with_label at 0x7fef31f7c160> of the transform datasets.arrow_dataset.Dataset._map_single couldn't be hashed properly, a random hash was used instead. Make sure your transforms and parameters are serializable with pickle or dill for the dataset fingerprinting and caching to work. If you reuse this transform, the caching mechanism will consider it to be different from the previous calls and recompute everything. This warning is only showed once. Subsequent hashing failures won't be showed.\n",
      "Loading cached processed dataset at /Users/briandunn/.cache/huggingface/datasets/strombergnlp___twitter_pos_vcb/twitter-pos-vcb/1.0.0/2c671a933c7ffb84cf124a1f987cd73fb883e6b3628ee4a01f5326f5aefc296a/cache-1c80317fa3b1799d.arrow\n"
     ]
    }
   ],
   "source": [
    "eval_set = encoded_ds['eval']\n",
    "\n",
    "eval_set = eval_set.remove_columns('id')\n",
    "\n",
    "eval_set = eval_set.map(forward_pass_with_label,\n",
    "                        batched=True,\n",
    "                        batch_size=32)\n",
    "\n",
    "eval_df = eval_set.to_pandas()"
   ]
  },
  {
   "attachments": {},
   "cell_type": "markdown",
   "metadata": {},
   "source": [
    "#### Clean Up Padding Tokens"
   ]
  },
  {
   "cell_type": "code",
   "execution_count": 23,
   "metadata": {},
   "outputs": [
    {
     "data": {
      "text/html": [
       "<div>\n",
       "<style scoped>\n",
       "    .dataframe tbody tr th:only-of-type {\n",
       "        vertical-align: middle;\n",
       "    }\n",
       "\n",
       "    .dataframe tbody tr th {\n",
       "        vertical-align: top;\n",
       "    }\n",
       "\n",
       "    .dataframe thead th {\n",
       "        text-align: right;\n",
       "    }\n",
       "</style>\n",
       "<table border=\"1\" class=\"dataframe\">\n",
       "  <thead>\n",
       "    <tr style=\"text-align: right;\">\n",
       "      <th></th>\n",
       "      <th>input_ids</th>\n",
       "      <th>token_type_ids</th>\n",
       "      <th>attention_mask</th>\n",
       "      <th>labels</th>\n",
       "      <th>loss</th>\n",
       "      <th>predicted_label</th>\n",
       "      <th>input_tokens</th>\n",
       "    </tr>\n",
       "  </thead>\n",
       "  <tbody>\n",
       "    <tr>\n",
       "      <th>0</th>\n",
       "      <td>[101, 137, 1337, 2428, 2386, 1181, 2924, 7956,...</td>\n",
       "      <td>[0, 0, 0, 0, 0, 0, 0, 0, 0, 0, 0, 0, 0, 0, 0, 0]</td>\n",
       "      <td>[1, 1, 1, 1, 1, 1, 1, 1, 1, 1, 1, 1, 1, 1, 1, 1]</td>\n",
       "      <td>[IGN, USR, IGN, IGN, IGN, IGN, IGN, IGN, MD, V...</td>\n",
       "      <td>[0.0, 1.5497195e-06, 0.0, 0.0, 0.0, 0.0, 0.0, ...</td>\n",
       "      <td>[., USR, NNP, NNP, UH, UH, PRP, PRP, MD, VB, V...</td>\n",
       "      <td>[[CLS], [unused132], ष, really, ##man, б, bank...</td>\n",
       "    </tr>\n",
       "  </tbody>\n",
       "</table>\n",
       "</div>"
      ],
      "text/plain": [
       "                                           input_ids   \n",
       "0  [101, 137, 1337, 2428, 2386, 1181, 2924, 7956,...  \\\n",
       "\n",
       "                                     token_type_ids   \n",
       "0  [0, 0, 0, 0, 0, 0, 0, 0, 0, 0, 0, 0, 0, 0, 0, 0]  \\\n",
       "\n",
       "                                     attention_mask   \n",
       "0  [1, 1, 1, 1, 1, 1, 1, 1, 1, 1, 1, 1, 1, 1, 1, 1]  \\\n",
       "\n",
       "                                              labels   \n",
       "0  [IGN, USR, IGN, IGN, IGN, IGN, IGN, IGN, MD, V...  \\\n",
       "\n",
       "                                                loss   \n",
       "0  [0.0, 1.5497195e-06, 0.0, 0.0, 0.0, 0.0, 0.0, ...  \\\n",
       "\n",
       "                                     predicted_label   \n",
       "0  [., USR, NNP, NNP, UH, UH, PRP, PRP, MD, VB, V...  \\\n",
       "\n",
       "                                        input_tokens  \n",
       "0  [[CLS], [unused132], ष, really, ##man, б, bank...  "
      ]
     },
     "execution_count": 23,
     "metadata": {},
     "output_type": "execute_result"
    }
   ],
   "source": [
    "id2label[-100] = \"IGN\"\n",
    "eval_df[\"input_tokens\"] = eval_df[\"input_ids\"].apply(\n",
    "    lambda x: tokenizer.convert_ids_to_tokens(x))\n",
    "eval_df[\"predicted_label\"] = eval_df[\"predicted_label\"].apply(\n",
    "    lambda x: [id2label[i] for i in x])\n",
    "eval_df[\"labels\"] = eval_df[\"labels\"].apply(\n",
    "    lambda x: [id2label[i] for i in x])\n",
    "eval_df['loss'] = eval_df.apply(\n",
    "    lambda x: x['loss'][:len(x['input_ids'])], axis=1)\n",
    "eval_df['predicted_label'] = eval_df.apply(\n",
    "    lambda x: x['predicted_label'][:len(x['input_ids'])], axis=1)\n",
    "eval_df.head(1)"
   ]
  },
  {
   "attachments": {},
   "cell_type": "markdown",
   "metadata": {},
   "source": [
    "#### Unwrap Each Token Within Sample Separately"
   ]
  },
  {
   "cell_type": "code",
   "execution_count": 24,
   "metadata": {},
   "outputs": [
    {
     "data": {
      "text/html": [
       "<div>\n",
       "<style scoped>\n",
       "    .dataframe tbody tr th:only-of-type {\n",
       "        vertical-align: middle;\n",
       "    }\n",
       "\n",
       "    .dataframe tbody tr th {\n",
       "        vertical-align: top;\n",
       "    }\n",
       "\n",
       "    .dataframe thead th {\n",
       "        text-align: right;\n",
       "    }\n",
       "</style>\n",
       "<table border=\"1\" class=\"dataframe\">\n",
       "  <thead>\n",
       "    <tr style=\"text-align: right;\">\n",
       "      <th></th>\n",
       "      <th>input_ids</th>\n",
       "      <th>token_type_ids</th>\n",
       "      <th>attention_mask</th>\n",
       "      <th>labels</th>\n",
       "      <th>loss</th>\n",
       "      <th>predicted_label</th>\n",
       "      <th>input_tokens</th>\n",
       "    </tr>\n",
       "  </thead>\n",
       "  <tbody>\n",
       "    <tr>\n",
       "      <th>0</th>\n",
       "      <td>137</td>\n",
       "      <td>0</td>\n",
       "      <td>1</td>\n",
       "      <td>USR</td>\n",
       "      <td>0.0</td>\n",
       "      <td>USR</td>\n",
       "      <td>[unused132]</td>\n",
       "    </tr>\n",
       "    <tr>\n",
       "      <th>0</th>\n",
       "      <td>1431</td>\n",
       "      <td>0</td>\n",
       "      <td>1</td>\n",
       "      <td>MD</td>\n",
       "      <td>0.0</td>\n",
       "      <td>MD</td>\n",
       "      <td>བ</td>\n",
       "    </tr>\n",
       "    <tr>\n",
       "      <th>0</th>\n",
       "      <td>189</td>\n",
       "      <td>0</td>\n",
       "      <td>1</td>\n",
       "      <td>VB</td>\n",
       "      <td>0.0</td>\n",
       "      <td>VB</td>\n",
       "      <td>[unused184]</td>\n",
       "    </tr>\n",
       "    <tr>\n",
       "      <th>0</th>\n",
       "      <td>1143</td>\n",
       "      <td>0</td>\n",
       "      <td>1</td>\n",
       "      <td>PRP</td>\n",
       "      <td>0.0</td>\n",
       "      <td>PRP</td>\n",
       "      <td>ʷ</td>\n",
       "    </tr>\n",
       "    <tr>\n",
       "      <th>0</th>\n",
       "      <td>1171</td>\n",
       "      <td>0</td>\n",
       "      <td>1</td>\n",
       "      <td>RB</td>\n",
       "      <td>0.0</td>\n",
       "      <td>RB</td>\n",
       "      <td>ρ</td>\n",
       "    </tr>\n",
       "    <tr>\n",
       "      <th>0</th>\n",
       "      <td>131</td>\n",
       "      <td>0</td>\n",
       "      <td>1</td>\n",
       "      <td>.</td>\n",
       "      <td>0.0</td>\n",
       "      <td>.</td>\n",
       "      <td>[unused126]</td>\n",
       "    </tr>\n",
       "    <tr>\n",
       "      <th>0</th>\n",
       "      <td>114</td>\n",
       "      <td>0</td>\n",
       "      <td>1</td>\n",
       "      <td>)</td>\n",
       "      <td>0.0</td>\n",
       "      <td>)</td>\n",
       "      <td>[unused109]</td>\n",
       "    </tr>\n",
       "  </tbody>\n",
       "</table>\n",
       "</div>"
      ],
      "text/plain": [
       "  input_ids token_type_ids attention_mask labels  loss predicted_label   \n",
       "0       137              0              1    USR   0.0             USR  \\\n",
       "0      1431              0              1     MD   0.0              MD   \n",
       "0       189              0              1     VB   0.0              VB   \n",
       "0      1143              0              1    PRP   0.0             PRP   \n",
       "0      1171              0              1     RB   0.0              RB   \n",
       "0       131              0              1      .   0.0               .   \n",
       "0       114              0              1      )   0.0               )   \n",
       "\n",
       "  input_tokens  \n",
       "0  [unused132]  \n",
       "0            བ  \n",
       "0  [unused184]  \n",
       "0            ʷ  \n",
       "0            ρ  \n",
       "0  [unused126]  \n",
       "0  [unused109]  "
      ]
     },
     "execution_count": 24,
     "metadata": {},
     "output_type": "execute_result"
    }
   ],
   "source": [
    "eval_df_tokens = eval_df.apply(pd.Series.explode)\n",
    "eval_df_tokens = eval_df_tokens.query(\"labels != 'IGN'\")\n",
    "eval_df_tokens[\"loss\"] = eval_df_tokens[\"loss\"].astype(float).round(2)\n",
    "eval_df_tokens.head(7)"
   ]
  },
  {
   "attachments": {},
   "cell_type": "markdown",
   "metadata": {},
   "source": [
    "#### See Which Tokens Have Accumulated Most Loss in Evaluation Dataset"
   ]
  },
  {
   "cell_type": "code",
   "execution_count": 25,
   "metadata": {},
   "outputs": [
    {
     "data": {
      "text/html": [
       "<div>\n",
       "<style scoped>\n",
       "    .dataframe tbody tr th:only-of-type {\n",
       "        vertical-align: middle;\n",
       "    }\n",
       "\n",
       "    .dataframe tbody tr th {\n",
       "        vertical-align: top;\n",
       "    }\n",
       "\n",
       "    .dataframe thead th {\n",
       "        text-align: right;\n",
       "    }\n",
       "</style>\n",
       "<table border=\"1\" class=\"dataframe\">\n",
       "  <thead>\n",
       "    <tr style=\"text-align: right;\">\n",
       "      <th></th>\n",
       "      <th>0</th>\n",
       "      <th>1</th>\n",
       "      <th>2</th>\n",
       "      <th>3</th>\n",
       "      <th>4</th>\n",
       "      <th>5</th>\n",
       "      <th>6</th>\n",
       "      <th>7</th>\n",
       "      <th>8</th>\n",
       "      <th>9</th>\n",
       "    </tr>\n",
       "  </thead>\n",
       "  <tbody>\n",
       "    <tr>\n",
       "      <th>input_tokens</th>\n",
       "      <td>[unused101]</td>\n",
       "      <td>[unused114]</td>\n",
       "      <td>[UNK]</td>\n",
       "      <td>[unused134]</td>\n",
       "      <td>प</td>\n",
       "      <td>[unused131]</td>\n",
       "      <td>ʒ</td>\n",
       "      <td>[unused126]</td>\n",
       "      <td>ɛ</td>\n",
       "      <td>[unused139]</td>\n",
       "    </tr>\n",
       "    <tr>\n",
       "      <th>count</th>\n",
       "      <td>1979</td>\n",
       "      <td>3500</td>\n",
       "      <td>107</td>\n",
       "      <td>96</td>\n",
       "      <td>181</td>\n",
       "      <td>822</td>\n",
       "      <td>358</td>\n",
       "      <td>2416</td>\n",
       "      <td>217</td>\n",
       "      <td>43</td>\n",
       "    </tr>\n",
       "    <tr>\n",
       "      <th>mean</th>\n",
       "      <td>0.083</td>\n",
       "      <td>0.034</td>\n",
       "      <td>0.573</td>\n",
       "      <td>0.46</td>\n",
       "      <td>0.221</td>\n",
       "      <td>0.044</td>\n",
       "      <td>0.097</td>\n",
       "      <td>0.014</td>\n",
       "      <td>0.149</td>\n",
       "      <td>0.746</td>\n",
       "    </tr>\n",
       "    <tr>\n",
       "      <th>sum</th>\n",
       "      <td>164.3</td>\n",
       "      <td>119.09</td>\n",
       "      <td>61.36</td>\n",
       "      <td>44.12</td>\n",
       "      <td>40.07</td>\n",
       "      <td>36.19</td>\n",
       "      <td>34.76</td>\n",
       "      <td>32.63</td>\n",
       "      <td>32.28</td>\n",
       "      <td>32.08</td>\n",
       "    </tr>\n",
       "  </tbody>\n",
       "</table>\n",
       "</div>"
      ],
      "text/plain": [
       "                        0            1      2            3      4   \n",
       "input_tokens  [unused101]  [unused114]  [UNK]  [unused134]      प  \\\n",
       "count                1979         3500    107           96    181   \n",
       "mean                0.083        0.034  0.573         0.46  0.221   \n",
       "sum                 164.3       119.09  61.36        44.12  40.07   \n",
       "\n",
       "                        5      6            7      8            9  \n",
       "input_tokens  [unused131]      ʒ  [unused126]      ɛ  [unused139]  \n",
       "count                 822    358         2416    217           43  \n",
       "mean                0.044  0.097        0.014  0.149        0.746  \n",
       "sum                 36.19  34.76        32.63  32.28        32.08  "
      ]
     },
     "execution_count": 25,
     "metadata": {},
     "output_type": "execute_result"
    }
   ],
   "source": [
    "(\n",
    "    eval_df_tokens.groupby(\"input_tokens\")[[\"loss\"]]\n",
    "    .agg([\"count\", \"mean\", \"sum\"])\n",
    "    .droplevel(level=0, axis=1)  # Get rid of multi-level columns\n",
    "    .sort_values(by=\"sum\", ascending=False)\n",
    "    .reset_index()\n",
    "    .round(3)\n",
    "    .head(10)\n",
    "    .T\n",
    ")"
   ]
  },
  {
   "attachments": {},
   "cell_type": "markdown",
   "metadata": {},
   "source": [
    "#### See Which Label IDs Have Most Loss in Evaluation Dataset"
   ]
  },
  {
   "cell_type": "code",
   "execution_count": 26,
   "metadata": {},
   "outputs": [
    {
     "data": {
      "text/html": [
       "<div>\n",
       "<style scoped>\n",
       "    .dataframe tbody tr th:only-of-type {\n",
       "        vertical-align: middle;\n",
       "    }\n",
       "\n",
       "    .dataframe tbody tr th {\n",
       "        vertical-align: top;\n",
       "    }\n",
       "\n",
       "    .dataframe thead th {\n",
       "        text-align: right;\n",
       "    }\n",
       "</style>\n",
       "<table border=\"1\" class=\"dataframe\">\n",
       "  <thead>\n",
       "    <tr style=\"text-align: right;\">\n",
       "      <th></th>\n",
       "      <th>0</th>\n",
       "      <th>1</th>\n",
       "      <th>2</th>\n",
       "      <th>3</th>\n",
       "      <th>4</th>\n",
       "      <th>5</th>\n",
       "      <th>6</th>\n",
       "      <th>7</th>\n",
       "      <th>8</th>\n",
       "      <th>9</th>\n",
       "      <th>...</th>\n",
       "      <th>33</th>\n",
       "      <th>34</th>\n",
       "      <th>35</th>\n",
       "      <th>36</th>\n",
       "      <th>37</th>\n",
       "      <th>38</th>\n",
       "      <th>39</th>\n",
       "      <th>40</th>\n",
       "      <th>41</th>\n",
       "      <th>42</th>\n",
       "    </tr>\n",
       "  </thead>\n",
       "  <tbody>\n",
       "    <tr>\n",
       "      <th>labels</th>\n",
       "      <td>SYM</td>\n",
       "      <td>NNPS</td>\n",
       "      <td>WDT</td>\n",
       "      <td>VBN</td>\n",
       "      <td>''</td>\n",
       "      <td>RBR</td>\n",
       "      <td>JJR</td>\n",
       "      <td>``</td>\n",
       "      <td>NNP</td>\n",
       "      <td>)</td>\n",
       "      <td>...</td>\n",
       "      <td>RT</td>\n",
       "      <td>TO</td>\n",
       "      <td>(</td>\n",
       "      <td>WRB</td>\n",
       "      <td>WP</td>\n",
       "      <td>,</td>\n",
       "      <td>USR</td>\n",
       "      <td>HT</td>\n",
       "      <td>URL</td>\n",
       "      <td>POS</td>\n",
       "    </tr>\n",
       "    <tr>\n",
       "      <th>count</th>\n",
       "      <td>2</td>\n",
       "      <td>6</td>\n",
       "      <td>4</td>\n",
       "      <td>549</td>\n",
       "      <td>75</td>\n",
       "      <td>28</td>\n",
       "      <td>140</td>\n",
       "      <td>53</td>\n",
       "      <td>2194</td>\n",
       "      <td>109</td>\n",
       "      <td>...</td>\n",
       "      <td>2047</td>\n",
       "      <td>1470</td>\n",
       "      <td>49</td>\n",
       "      <td>624</td>\n",
       "      <td>383</td>\n",
       "      <td>1076</td>\n",
       "      <td>5175</td>\n",
       "      <td>2011</td>\n",
       "      <td>914</td>\n",
       "      <td>108</td>\n",
       "    </tr>\n",
       "    <tr>\n",
       "      <th>mean</th>\n",
       "      <td>6.53</td>\n",
       "      <td>3.69</td>\n",
       "      <td>3.075</td>\n",
       "      <td>0.288</td>\n",
       "      <td>0.284</td>\n",
       "      <td>0.269</td>\n",
       "      <td>0.209</td>\n",
       "      <td>0.204</td>\n",
       "      <td>0.199</td>\n",
       "      <td>0.139</td>\n",
       "      <td>...</td>\n",
       "      <td>0.005</td>\n",
       "      <td>0.005</td>\n",
       "      <td>0.002</td>\n",
       "      <td>0.002</td>\n",
       "      <td>0.002</td>\n",
       "      <td>0.0</td>\n",
       "      <td>0.0</td>\n",
       "      <td>0.0</td>\n",
       "      <td>0.0</td>\n",
       "      <td>0.0</td>\n",
       "    </tr>\n",
       "    <tr>\n",
       "      <th>sum</th>\n",
       "      <td>13.06</td>\n",
       "      <td>22.14</td>\n",
       "      <td>12.3</td>\n",
       "      <td>158.29</td>\n",
       "      <td>21.29</td>\n",
       "      <td>7.53</td>\n",
       "      <td>29.19</td>\n",
       "      <td>10.81</td>\n",
       "      <td>437.27</td>\n",
       "      <td>15.14</td>\n",
       "      <td>...</td>\n",
       "      <td>11.19</td>\n",
       "      <td>7.32</td>\n",
       "      <td>0.12</td>\n",
       "      <td>1.48</td>\n",
       "      <td>0.71</td>\n",
       "      <td>0.23</td>\n",
       "      <td>0.34</td>\n",
       "      <td>0.04</td>\n",
       "      <td>0.0</td>\n",
       "      <td>0.0</td>\n",
       "    </tr>\n",
       "  </tbody>\n",
       "</table>\n",
       "<p>4 rows × 43 columns</p>\n",
       "</div>"
      ],
      "text/plain": [
       "           0      1      2       3      4      5      6      7       8    \n",
       "labels    SYM   NNPS    WDT     VBN     ''    RBR    JJR     ``     NNP  \\\n",
       "count       2      6      4     549     75     28    140     53    2194   \n",
       "mean     6.53   3.69  3.075   0.288  0.284  0.269  0.209  0.204   0.199   \n",
       "sum     13.06  22.14   12.3  158.29  21.29   7.53  29.19  10.81  437.27   \n",
       "\n",
       "           9   ...     33     34     35     36     37    38    39    40   41   \n",
       "labels      )  ...     RT     TO      (    WRB     WP     ,   USR    HT  URL  \\\n",
       "count     109  ...   2047   1470     49    624    383  1076  5175  2011  914   \n",
       "mean    0.139  ...  0.005  0.005  0.002  0.002  0.002   0.0   0.0   0.0  0.0   \n",
       "sum     15.14  ...  11.19   7.32   0.12   1.48   0.71  0.23  0.34  0.04  0.0   \n",
       "\n",
       "         42  \n",
       "labels  POS  \n",
       "count   108  \n",
       "mean    0.0  \n",
       "sum     0.0  \n",
       "\n",
       "[4 rows x 43 columns]"
      ]
     },
     "execution_count": 26,
     "metadata": {},
     "output_type": "execute_result"
    }
   ],
   "source": [
    "(\n",
    "    eval_df_tokens.groupby(\"labels\")[[\"loss\"]] \n",
    "    .agg([\"count\", \"mean\", \"sum\"])\n",
    "    .droplevel(level=0, axis=1)\n",
    "    .sort_values(by=\"mean\", ascending=False)\n",
    "    .reset_index()\n",
    "    .round(3)\n",
    "    .fillna(0)\n",
    "    .T\n",
    ")"
   ]
  },
  {
   "attachments": {},
   "cell_type": "markdown",
   "metadata": {},
   "source": [
    "#### Create Function to Display Confusion Matrix"
   ]
  },
  {
   "cell_type": "code",
   "execution_count": 27,
   "metadata": {},
   "outputs": [],
   "source": [
    "import matplotlib.pyplot as plt\n",
    "from sklearn.metrics import confusion_matrix, ConfusionMatrixDisplay\n",
    "\n",
    "def plot_confusion_matrix(y_preds, y_true, labels):\n",
    "    cm = confusion_matrix(y_true, y_preds, normalize=\"true\")\n",
    "    fig, ax = plt.subplots(figsize=(30, 30))\n",
    "    disp = ConfusionMatrixDisplay(confusion_matrix=cm, display_labels=labels)\n",
    "    disp.plot(cmap=\"Blues\", values_format=\".2f\", ax=ax, colorbar=False)\n",
    "    plt.title(\"Normalized confusion matrix\")\n",
    "    plt.show()"
   ]
  },
  {
   "attachments": {},
   "cell_type": "markdown",
   "metadata": {},
   "source": [
    "#### Display Confusion Matrix"
   ]
  },
  {
   "cell_type": "code",
   "execution_count": 28,
   "metadata": {},
   "outputs": [
    {
     "data": {
      "image/png": "[encoded data removed]",
      "text/plain": [
       "<Figure size 3000x3000 with 1 Axes>"
      ]
     },
     "metadata": {},
     "output_type": "display_data"
    }
   ],
   "source": [
    "eval_token_list = list(set(eval_df_tokens['labels']))\n",
    "\n",
    "plot_confusion_matrix(eval_df_tokens[\"labels\"], eval_df_tokens[\"predicted_label\"],\n",
    "                      eval_token_list)"
   ]
  },
  {
   "attachments": {},
   "cell_type": "markdown",
   "metadata": {},
   "source": [
    "#### Define Function to Display Example Token Sequences Along With Labels & Losses"
   ]
  },
  {
   "cell_type": "code",
   "execution_count": 29,
   "metadata": {},
   "outputs": [
    {
     "data": {
      "text/html": [
       "<div>\n",
       "<style scoped>\n",
       "    .dataframe tbody tr th:only-of-type {\n",
       "        vertical-align: middle;\n",
       "    }\n",
       "\n",
       "    .dataframe tbody tr th {\n",
       "        vertical-align: top;\n",
       "    }\n",
       "\n",
       "    .dataframe thead th {\n",
       "        text-align: right;\n",
       "    }\n",
       "</style>\n",
       "<table border=\"1\" class=\"dataframe\">\n",
       "  <thead>\n",
       "    <tr style=\"text-align: right;\">\n",
       "      <th></th>\n",
       "      <th>0</th>\n",
       "      <th>1</th>\n",
       "      <th>2</th>\n",
       "      <th>3</th>\n",
       "      <th>4</th>\n",
       "      <th>5</th>\n",
       "      <th>6</th>\n",
       "      <th>7</th>\n",
       "      <th>8</th>\n",
       "      <th>9</th>\n",
       "      <th>10</th>\n",
       "      <th>11</th>\n",
       "      <th>12</th>\n",
       "      <th>13</th>\n",
       "    </tr>\n",
       "  </thead>\n",
       "  <tbody>\n",
       "    <tr>\n",
       "      <th>tokens</th>\n",
       "      <td>zealand</td>\n",
       "      <td>##base</td>\n",
       "      <td>ɡ</td>\n",
       "      <td>[unused101]</td>\n",
       "      <td>[unused101]</td>\n",
       "      <td>[unused101]</td>\n",
       "      <td>[unused101]</td>\n",
       "      <td>[unused103]</td>\n",
       "      <td>ी</td>\n",
       "      <td>ᅭ</td>\n",
       "      <td>[unused103]</td>\n",
       "      <td>##oris</td>\n",
       "      <td>benedict</td>\n",
       "      <td>[SEP]</td>\n",
       "    </tr>\n",
       "    <tr>\n",
       "      <th>labels</th>\n",
       "      <td>VB</td>\n",
       "      <td>NNPS</td>\n",
       "      <td>IGN</td>\n",
       "      <td>UH</td>\n",
       "      <td>.</td>\n",
       "      <td>UH</td>\n",
       "      <td>.</td>\n",
       "      <td>HT</td>\n",
       "      <td>IGN</td>\n",
       "      <td>IGN</td>\n",
       "      <td>HT</td>\n",
       "      <td>IGN</td>\n",
       "      <td>IGN</td>\n",
       "      <td>IGN</td>\n",
       "    </tr>\n",
       "    <tr>\n",
       "      <th>preds</th>\n",
       "      <td>VB</td>\n",
       "      <td>NNS</td>\n",
       "      <td>NNS</td>\n",
       "      <td>.</td>\n",
       "      <td>UH</td>\n",
       "      <td>.</td>\n",
       "      <td>.</td>\n",
       "      <td>HT</td>\n",
       "      <td>HT</td>\n",
       "      <td>HT</td>\n",
       "      <td>HT</td>\n",
       "      <td>NNP</td>\n",
       "      <td>HT</td>\n",
       "      <td>.</td>\n",
       "    </tr>\n",
       "    <tr>\n",
       "      <th>losses</th>\n",
       "      <td>0.03</td>\n",
       "      <td>9.29</td>\n",
       "      <td>0.00</td>\n",
       "      <td>8.61</td>\n",
       "      <td>4.15</td>\n",
       "      <td>5.25</td>\n",
       "      <td>0.00</td>\n",
       "      <td>0.00</td>\n",
       "      <td>0.00</td>\n",
       "      <td>0.00</td>\n",
       "      <td>0.00</td>\n",
       "      <td>0.00</td>\n",
       "      <td>0.00</td>\n",
       "      <td>0.00</td>\n",
       "    </tr>\n",
       "  </tbody>\n",
       "</table>\n",
       "</div>"
      ],
      "text/plain": [
       "             0       1     2            3            4            5    \n",
       "tokens  zealand  ##base     ɡ  [unused101]  [unused101]  [unused101]  \\\n",
       "labels       VB    NNPS   IGN           UH            .           UH   \n",
       "preds        VB     NNS   NNS            .           UH            .   \n",
       "losses     0.03    9.29  0.00         8.61         4.15         5.25   \n",
       "\n",
       "                 6            7     8     9            10      11        12   \n",
       "tokens  [unused101]  [unused103]     ी     ᅭ  [unused103]  ##oris  benedict  \\\n",
       "labels            .           HT   IGN   IGN           HT     IGN       IGN   \n",
       "preds             .           HT    HT    HT           HT     NNP        HT   \n",
       "losses         0.00         0.00  0.00  0.00         0.00    0.00      0.00   \n",
       "\n",
       "           13  \n",
       "tokens  [SEP]  \n",
       "labels    IGN  \n",
       "preds       .  \n",
       "losses   0.00  "
      ]
     },
     "metadata": {},
     "output_type": "display_data"
    },
    {
     "data": {
      "text/html": [
       "<div>\n",
       "<style scoped>\n",
       "    .dataframe tbody tr th:only-of-type {\n",
       "        vertical-align: middle;\n",
       "    }\n",
       "\n",
       "    .dataframe tbody tr th {\n",
       "        vertical-align: top;\n",
       "    }\n",
       "\n",
       "    .dataframe thead th {\n",
       "        text-align: right;\n",
       "    }\n",
       "</style>\n",
       "<table border=\"1\" class=\"dataframe\">\n",
       "  <thead>\n",
       "    <tr style=\"text-align: right;\">\n",
       "      <th></th>\n",
       "      <th>0</th>\n",
       "      <th>1</th>\n",
       "      <th>2</th>\n",
       "      <th>3</th>\n",
       "      <th>4</th>\n",
       "      <th>5</th>\n",
       "      <th>6</th>\n",
       "      <th>7</th>\n",
       "      <th>8</th>\n",
       "      <th>9</th>\n",
       "      <th>...</th>\n",
       "      <th>42</th>\n",
       "      <th>43</th>\n",
       "      <th>44</th>\n",
       "      <th>45</th>\n",
       "      <th>46</th>\n",
       "      <th>47</th>\n",
       "      <th>48</th>\n",
       "      <th>49</th>\n",
       "      <th>50</th>\n",
       "      <th>51</th>\n",
       "    </tr>\n",
       "  </thead>\n",
       "  <tbody>\n",
       "    <tr>\n",
       "      <th>tokens</th>\n",
       "      <td>[unused103]</td>\n",
       "      <td>[unused155]</td>\n",
       "      <td>##sett</td>\n",
       "      <td>road</td>\n",
       "      <td>cautious</td>\n",
       "      <td>##bbed</td>\n",
       "      <td>situation</td>\n",
       "      <td>alexei</td>\n",
       "      <td>pharmacy</td>\n",
       "      <td>す</td>\n",
       "      <td>...</td>\n",
       "      <td>situation</td>\n",
       "      <td>alexei</td>\n",
       "      <td>pharmacy</td>\n",
       "      <td>す</td>\n",
       "      <td>##lce</td>\n",
       "      <td>categorized</td>\n",
       "      <td>road</td>\n",
       "      <td>[unused101]</td>\n",
       "      <td>[unused101]</td>\n",
       "      <td>[SEP]</td>\n",
       "    </tr>\n",
       "    <tr>\n",
       "      <th>labels</th>\n",
       "      <td>HT</td>\n",
       "      <td>IGN</td>\n",
       "      <td>IGN</td>\n",
       "      <td>IGN</td>\n",
       "      <td>IGN</td>\n",
       "      <td>IGN</td>\n",
       "      <td>IGN</td>\n",
       "      <td>IGN</td>\n",
       "      <td>IGN</td>\n",
       "      <td>IGN</td>\n",
       "      <td>...</td>\n",
       "      <td>IGN</td>\n",
       "      <td>IGN</td>\n",
       "      <td>IGN</td>\n",
       "      <td>IGN</td>\n",
       "      <td>IGN</td>\n",
       "      <td>IGN</td>\n",
       "      <td>IGN</td>\n",
       "      <td>.</td>\n",
       "      <td>.</td>\n",
       "      <td>IGN</td>\n",
       "    </tr>\n",
       "    <tr>\n",
       "      <th>preds</th>\n",
       "      <td>HT</td>\n",
       "      <td>NNP</td>\n",
       "      <td>NNP</td>\n",
       "      <td>NNP</td>\n",
       "      <td>NNP</td>\n",
       "      <td>NN</td>\n",
       "      <td>NN</td>\n",
       "      <td>NN</td>\n",
       "      <td>NN</td>\n",
       "      <td>NN</td>\n",
       "      <td>...</td>\n",
       "      <td>NN</td>\n",
       "      <td>NN</td>\n",
       "      <td>NN</td>\n",
       "      <td>NN</td>\n",
       "      <td>NN</td>\n",
       "      <td>NN</td>\n",
       "      <td>NN</td>\n",
       "      <td>.</td>\n",
       "      <td>.</td>\n",
       "      <td>.</td>\n",
       "    </tr>\n",
       "    <tr>\n",
       "      <th>losses</th>\n",
       "      <td>0.00</td>\n",
       "      <td>0.00</td>\n",
       "      <td>0.00</td>\n",
       "      <td>0.00</td>\n",
       "      <td>0.00</td>\n",
       "      <td>0.00</td>\n",
       "      <td>0.00</td>\n",
       "      <td>0.00</td>\n",
       "      <td>0.00</td>\n",
       "      <td>0.00</td>\n",
       "      <td>...</td>\n",
       "      <td>0.00</td>\n",
       "      <td>0.00</td>\n",
       "      <td>0.00</td>\n",
       "      <td>0.00</td>\n",
       "      <td>0.00</td>\n",
       "      <td>0.00</td>\n",
       "      <td>0.00</td>\n",
       "      <td>0.00</td>\n",
       "      <td>0.00</td>\n",
       "      <td>0.00</td>\n",
       "    </tr>\n",
       "  </tbody>\n",
       "</table>\n",
       "<p>4 rows × 52 columns</p>\n",
       "</div>"
      ],
      "text/plain": [
       "                 0            1       2     3         4       5          6    \n",
       "tokens  [unused103]  [unused155]  ##sett  road  cautious  ##bbed  situation  \\\n",
       "labels           HT          IGN     IGN   IGN       IGN     IGN        IGN   \n",
       "preds            HT          NNP     NNP   NNP       NNP      NN         NN   \n",
       "losses         0.00         0.00    0.00  0.00      0.00    0.00       0.00   \n",
       "\n",
       "            7         8     9   ...         42      43        44    45     46   \n",
       "tokens  alexei  pharmacy     す  ...  situation  alexei  pharmacy     す  ##lce  \\\n",
       "labels     IGN       IGN   IGN  ...        IGN     IGN       IGN   IGN    IGN   \n",
       "preds       NN        NN    NN  ...         NN      NN        NN    NN     NN   \n",
       "losses    0.00      0.00  0.00  ...       0.00    0.00      0.00  0.00   0.00   \n",
       "\n",
       "                 47    48           49           50     51  \n",
       "tokens  categorized  road  [unused101]  [unused101]  [SEP]  \n",
       "labels          IGN   IGN            .            .    IGN  \n",
       "preds            NN    NN            .            .      .  \n",
       "losses         0.00  0.00         0.00         0.00   0.00  \n",
       "\n",
       "[4 rows x 52 columns]"
      ]
     },
     "metadata": {},
     "output_type": "display_data"
    },
    {
     "data": {
      "text/html": [
       "<div>\n",
       "<style scoped>\n",
       "    .dataframe tbody tr th:only-of-type {\n",
       "        vertical-align: middle;\n",
       "    }\n",
       "\n",
       "    .dataframe tbody tr th {\n",
       "        vertical-align: top;\n",
       "    }\n",
       "\n",
       "    .dataframe thead th {\n",
       "        text-align: right;\n",
       "    }\n",
       "</style>\n",
       "<table border=\"1\" class=\"dataframe\">\n",
       "  <thead>\n",
       "    <tr style=\"text-align: right;\">\n",
       "      <th></th>\n",
       "      <th>0</th>\n",
       "      <th>1</th>\n",
       "      <th>2</th>\n",
       "      <th>3</th>\n",
       "      <th>4</th>\n",
       "      <th>5</th>\n",
       "      <th>6</th>\n",
       "      <th>7</th>\n",
       "      <th>8</th>\n",
       "      <th>9</th>\n",
       "      <th>...</th>\n",
       "      <th>25</th>\n",
       "      <th>26</th>\n",
       "      <th>27</th>\n",
       "      <th>28</th>\n",
       "      <th>29</th>\n",
       "      <th>30</th>\n",
       "      <th>31</th>\n",
       "      <th>32</th>\n",
       "      <th>33</th>\n",
       "      <th>34</th>\n",
       "    </tr>\n",
       "  </thead>\n",
       "  <tbody>\n",
       "    <tr>\n",
       "      <th>tokens</th>\n",
       "      <td>ɐ</td>\n",
       "      <td>departments</td>\n",
       "      <td>[unused101]</td>\n",
       "      <td>[unused101]</td>\n",
       "      <td>[unused101]</td>\n",
       "      <td>[unused101]</td>\n",
       "      <td>[unused101]</td>\n",
       "      <td>[unused101]</td>\n",
       "      <td>[unused147]</td>\n",
       "      <td>ں</td>\n",
       "      <td>...</td>\n",
       "      <td>ʔ</td>\n",
       "      <td>伊</td>\n",
       "      <td>ɑ</td>\n",
       "      <td>ر</td>\n",
       "      <td>ŋ</td>\n",
       "      <td>muslim</td>\n",
       "      <td>ł</td>\n",
       "      <td>₹</td>\n",
       "      <td>ش</td>\n",
       "      <td>[SEP]</td>\n",
       "    </tr>\n",
       "    <tr>\n",
       "      <th>labels</th>\n",
       "      <td>DT</td>\n",
       "      <td>NNS</td>\n",
       "      <td>.</td>\n",
       "      <td>.</td>\n",
       "      <td>UH</td>\n",
       "      <td>.</td>\n",
       "      <td>UH</td>\n",
       "      <td>.</td>\n",
       "      <td>UH</td>\n",
       "      <td>IGN</td>\n",
       "      <td>...</td>\n",
       "      <td>PRP$</td>\n",
       "      <td>NN</td>\n",
       "      <td>VBZ</td>\n",
       "      <td>VBG</td>\n",
       "      <td>TO</td>\n",
       "      <td>VB</td>\n",
       "      <td>CC</td>\n",
       "      <td>VB</td>\n",
       "      <td>RB</td>\n",
       "      <td>IGN</td>\n",
       "    </tr>\n",
       "    <tr>\n",
       "      <th>preds</th>\n",
       "      <td>DT</td>\n",
       "      <td>NNS</td>\n",
       "      <td>.</td>\n",
       "      <td>UH</td>\n",
       "      <td>.</td>\n",
       "      <td>UH</td>\n",
       "      <td>.</td>\n",
       "      <td>.</td>\n",
       "      <td>UH</td>\n",
       "      <td>UH</td>\n",
       "      <td>...</td>\n",
       "      <td>PRP$</td>\n",
       "      <td>NN</td>\n",
       "      <td>VBZ</td>\n",
       "      <td>VBG</td>\n",
       "      <td>TO</td>\n",
       "      <td>VB</td>\n",
       "      <td>CC</td>\n",
       "      <td>VB</td>\n",
       "      <td>RB</td>\n",
       "      <td>.</td>\n",
       "    </tr>\n",
       "    <tr>\n",
       "      <th>losses</th>\n",
       "      <td>0.00</td>\n",
       "      <td>0.00</td>\n",
       "      <td>0.00</td>\n",
       "      <td>5.94</td>\n",
       "      <td>5.39</td>\n",
       "      <td>2.34</td>\n",
       "      <td>3.79</td>\n",
       "      <td>0.00</td>\n",
       "      <td>0.00</td>\n",
       "      <td>0.00</td>\n",
       "      <td>...</td>\n",
       "      <td>0.00</td>\n",
       "      <td>0.00</td>\n",
       "      <td>0.00</td>\n",
       "      <td>0.00</td>\n",
       "      <td>0.00</td>\n",
       "      <td>0.00</td>\n",
       "      <td>0.00</td>\n",
       "      <td>0.00</td>\n",
       "      <td>0.00</td>\n",
       "      <td>0.00</td>\n",
       "    </tr>\n",
       "  </tbody>\n",
       "</table>\n",
       "<p>4 rows × 35 columns</p>\n",
       "</div>"
      ],
      "text/plain": [
       "          0            1            2            3            4            5    \n",
       "tokens     ɐ  departments  [unused101]  [unused101]  [unused101]  [unused101]  \\\n",
       "labels    DT          NNS            .            .           UH            .   \n",
       "preds     DT          NNS            .           UH            .           UH   \n",
       "losses  0.00         0.00         0.00         5.94         5.39         2.34   \n",
       "\n",
       "                 6            7            8     9   ...    25    26    27   \n",
       "tokens  [unused101]  [unused101]  [unused147]     ں  ...     ʔ     伊     ɑ  \\\n",
       "labels           UH            .           UH   IGN  ...  PRP$    NN   VBZ   \n",
       "preds             .            .           UH    UH  ...  PRP$    NN   VBZ   \n",
       "losses         3.79         0.00         0.00  0.00  ...  0.00  0.00  0.00   \n",
       "\n",
       "          28    29      30    31    32    33     34  \n",
       "tokens     ر     ŋ  muslim     ł     ₹     ش  [SEP]  \n",
       "labels   VBG    TO      VB    CC    VB    RB    IGN  \n",
       "preds    VBG    TO      VB    CC    VB    RB      .  \n",
       "losses  0.00  0.00    0.00  0.00  0.00  0.00   0.00  \n",
       "\n",
       "[4 rows x 35 columns]"
      ]
     },
     "metadata": {},
     "output_type": "display_data"
    }
   ],
   "source": [
    "def get_samples(df):\n",
    "    for _, row in df.iterrows():\n",
    "        labels, preds, tokens, losses = [], [], [], []\n",
    "        for i, mask in enumerate(row[\"attention_mask\"]):\n",
    "            if i not in {0, len(row[\"attention_mask\"])}:\n",
    "                labels.append(row[\"labels\"][i])\n",
    "                preds.append(row[\"predicted_label\"][i])\n",
    "                tokens.append(row[\"input_tokens\"][i])\n",
    "                losses.append(f\"{row['loss'][i]:.2f}\")\n",
    "        eval_df_tmp = pd.DataFrame({\"tokens\": tokens, \"labels\": labels, \n",
    "                               \"preds\": preds, \"losses\": losses}).T\n",
    "        yield eval_df_tmp\n",
    "\n",
    "eval_df[\"total_loss\"] = eval_df[\"loss\"].apply(sum)\n",
    "eval_df_tmp = eval_df.sort_values(by=\"total_loss\", ascending=False).head(3)\n",
    "\n",
    "for sample in get_samples(eval_df_tmp):\n",
    "    display(sample)"
   ]
  },
  {
   "attachments": {},
   "cell_type": "markdown",
   "metadata": {},
   "source": [
    "### Notes & Other Takeaways From This Project\n",
    "\n",
    "****\n",
    "- Normally, I like to include some nice visualizations, which I (unfortunately) did not do with this project. Because I wanted to focus on the main part of the project (for this project and many others), I forewent the visualizations. I intend on completed some as an acillary project after completing the currently list of projects that I have.\n",
    "\n",
    "- This model is similar to the updated Bert-Base version of this model in that it struggled to identify any instances of two tokens. The only difference is which two tokens it struggled to identify.\n",
    "\n",
    "****"
   ]
  },
  {
   "attachments": {},
   "cell_type": "markdown",
   "metadata": {},
   "source": [
    "### Citations\n",
    "\n",
    "- Model Checkpoint\n",
    "\n",
    "    > @article{2020_SqueezeBERT, author = {Forrest N. Iandola and Albert E. Shaw and Ravi Krishna and Kurt W. Keutzer}, title = {{SqueezeBERT}: What can computer vision teach NLP about efficient neural networks?}, journal = {arXiv:2006.11316}, year = {2020}}\n",
    "\n",
    "- Dataset\n",
    "\n",
    "    > @inproceedings{derczynski2013twitter, title={Twitter part-of-speech tagging for all: Overcoming sparse and noisy data}, author={Derczynski, Leon and Ritter, Alan and Clark, Sam and Bontcheva, Kalina}, booktitle={Proceedings of the international conference recent advances in natural language ranlp 2013}, pages={198--206}, year={2013}}\n",
    "\n",
    "- Metric (PosEval)\n",
    "\n",
    "    > @article{scikit-learn, title={Scikit-learn: Machine Learning in {P}ython}, author={Pedregosa, F. and Varoquaux, G. and Gramfort, A. and Michel, V. and Thirion, B. and Grisel, O. and Blondel, M. and Prettenhofer, P. and Weiss, R. and Dubourg, V. and Vanderplas, J. and Passos, A. and Cournapeau, D. and Brucher, M. and Perrot, M. and Duchesnay, E.}, journal={Journal of Machine Learning Research}, volume={12}, pages={2825--2830}, year={2011}}"
   ]
  }
 ],
 "metadata": {
  "kernelspec": {
   "display_name": "dl",
   "language": "python",
   "name": "python3"
  },
  "language_info": {
   "codemirror_mode": {
    "name": "ipython",
    "version": 3
   },
   "file_extension": ".py",
   "mimetype": "text/x-python",
   "name": "python",
   "nbconvert_exporter": "python",
   "pygments_lexer": "ipython3",
   "version": "3.9.12"
  },
  "orig_nbformat": 4
 },
 "nbformat": 4,
 "nbformat_minor": 2
}
