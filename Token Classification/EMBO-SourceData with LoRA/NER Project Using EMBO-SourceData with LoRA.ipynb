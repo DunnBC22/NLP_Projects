{
 "cells": [
  {
   "attachments": {},
   "cell_type": "markdown",
   "metadata": {},
   "source": [
    "## BC2GM-IOB [EMBO-BLURB] Dataset: Monolingual Named Entity Recognition\n",
    "\n",
    "Dataset Source: https://huggingface.co/datasets/EMBO/BLURB"
   ]
  },
  {
   "attachments": {},
   "cell_type": "markdown",
   "metadata": {},
   "source": [
    "#### Import Necessary Libraries"
   ]
  },
  {
   "cell_type": "code",
   "execution_count": 1,
   "metadata": {},
   "outputs": [
    {
     "name": "stdout",
     "output_type": "stream",
     "text": [
      "Git LFS initialized.\n"
     ]
    }
   ],
   "source": [
    "import os, sys\n",
    "os.environ['TOKENIZERS_PARALLELISM']='false'\n",
    "\n",
    "import pandas as pd\n",
    "import numpy as np\n",
    "import matplotlib.pyplot as plt\n",
    "\n",
    "import sklearn\n",
    "from sklearn.metrics import confusion_matrix, ConfusionMatrixDisplay\n",
    "\n",
    "import datasets\n",
    "from datasets import load_dataset\n",
    "\n",
    "import torch\n",
    "from torch.nn.functional import cross_entropy\n",
    "\n",
    "import transformers\n",
    "from transformers import AutoTokenizer, AutoModelForTokenClassification\n",
    "from transformers import DataCollatorForTokenClassification\n",
    "from transformers import Trainer, TrainingArguments\n",
    "\n",
    "import peft\n",
    "from peft import get_peft_config, PeftModel, PeftConfig\n",
    "from peft import get_peft_model, LoraConfig, TaskType\n",
    "\n",
    "import evaluate\n",
    "\n",
    "!git lfs install"
   ]
  },
  {
   "attachments": {},
   "cell_type": "markdown",
   "metadata": {},
   "source": [
    "#### Display Library Versions"
   ]
  },
  {
   "cell_type": "code",
   "execution_count": 2,
   "metadata": {},
   "outputs": [
    {
     "name": "stdout",
     "output_type": "stream",
     "text": [
      "          Python : 3.9.12\n",
      "           NumPy : 1.25.1\n",
      "          Pandas : 2.0.3\n",
      "           Torch : 2.0.1\n",
      "    Transformers : 4.26.1\n",
      "        Datasets : 2.13.1\n",
      "        Evaluate : 0.4.0\n",
      "         Sklearn : 1.3.0\n",
      "            PEFT : 0.3.0\n"
     ]
    }
   ],
   "source": [
    "print(\"Python :\".rjust(18), sys.version[0:6])\n",
    "print(\"NumPy :\".rjust(18), np.__version__)\n",
    "print(\"Pandas :\".rjust(18), pd.__version__)\n",
    "print(\"Torch :\".rjust(18), torch.__version__)\n",
    "print(\"Transformers :\".rjust(18), transformers.__version__)\n",
    "print(\"Datasets :\".rjust(18), datasets.__version__)\n",
    "print(\"Evaluate :\".rjust(18), evaluate.__version__)\n",
    "print(\"Sklearn :\".rjust(18), sklearn.__version__)\n",
    "print(\"PEFT :\".rjust(18), peft.__version__)"
   ]
  },
  {
   "attachments": {},
   "cell_type": "markdown",
   "metadata": {},
   "source": [
    "#### Ingest Dataset"
   ]
  },
  {
   "cell_type": "code",
   "execution_count": 3,
   "metadata": {},
   "outputs": [
    {
     "name": "stderr",
     "output_type": "stream",
     "text": [
      "Found cached dataset source_data (/Users/briandunn/.cache/huggingface/datasets/EMBO___source_data/NER/0.0.0/7898ea3b9a5c23a2cf35c5bac8353dfa312569800a92b13b4035de62ba832a15)\n"
     ]
    },
    {
     "data": {
      "application/vnd.jupyter.widget-view+json": {
       "model_id": "2ac159e995c1450aad9447bb9cd7d01c",
       "version_major": 2,
       "version_minor": 0
      },
      "text/plain": [
       "  0%|          | 0/3 [00:00<?, ?it/s]"
      ]
     },
     "metadata": {},
     "output_type": "display_data"
    },
    {
     "data": {
      "text/plain": [
       "DatasetDict({\n",
       "    train: Dataset({\n",
       "        features: ['tokens', 'tags'],\n",
       "        num_rows: 55250\n",
       "    })\n",
       "    test: Dataset({\n",
       "        features: ['tokens', 'tags'],\n",
       "        num_rows: 6844\n",
       "    })\n",
       "    validation: Dataset({\n",
       "        features: ['tokens', 'tags'],\n",
       "        num_rows: 7951\n",
       "    })\n",
       "})"
      ]
     },
     "execution_count": 3,
     "metadata": {},
     "output_type": "execute_result"
    }
   ],
   "source": [
    "ds = load_dataset(\"EMBO/SourceData\")\n",
    "\n",
    "ds = ds.remove_columns(['tag_mask', 'text'])\n",
    "\n",
    "ds = ds.rename_columns(\n",
    "    {\n",
    "        \"words\": \"tokens\",\n",
    "        \"labels\": \"tags\"})\n",
    "\n",
    "ds"
   ]
  },
  {
   "attachments": {},
   "cell_type": "markdown",
   "metadata": {},
   "source": [
    "#### Example"
   ]
  },
  {
   "cell_type": "code",
   "execution_count": 4,
   "metadata": {},
   "outputs": [
    {
     "data": {
      "text/plain": [
       "{'tokens': ['B',\n",
       "  '.',\n",
       "  'Proteins',\n",
       "  'extracted',\n",
       "  'from',\n",
       "  'transgenic',\n",
       "  'plants',\n",
       "  'expressing',\n",
       "  'YFP',\n",
       "  '-',\n",
       "  'CPL1',\n",
       "  'in',\n",
       "  'Col',\n",
       "  '-',\n",
       "  '0',\n",
       "  'or',\n",
       "  'free1',\n",
       "  '-',\n",
       "  'ctmut',\n",
       "  'background',\n",
       "  'were',\n",
       "  'used',\n",
       "  'for',\n",
       "  'IP',\n",
       "  'with',\n",
       "  'GFP',\n",
       "  '-',\n",
       "  'trap',\n",
       "  'followed',\n",
       "  'by',\n",
       "  'immunoblotting',\n",
       "  'analysis',\n",
       "  'with',\n",
       "  'indicated',\n",
       "  'antibodies',\n",
       "  '.'],\n",
       " 'tags': [0,\n",
       "  0,\n",
       "  0,\n",
       "  0,\n",
       "  0,\n",
       "  0,\n",
       "  0,\n",
       "  0,\n",
       "  3,\n",
       "  0,\n",
       "  3,\n",
       "  0,\n",
       "  0,\n",
       "  0,\n",
       "  0,\n",
       "  0,\n",
       "  3,\n",
       "  0,\n",
       "  0,\n",
       "  0,\n",
       "  0,\n",
       "  0,\n",
       "  0,\n",
       "  13,\n",
       "  0,\n",
       "  3,\n",
       "  0,\n",
       "  0,\n",
       "  0,\n",
       "  0,\n",
       "  13,\n",
       "  0,\n",
       "  0,\n",
       "  0,\n",
       "  0,\n",
       "  0]}"
      ]
     },
     "execution_count": 4,
     "metadata": {},
     "output_type": "execute_result"
    }
   ],
   "source": [
    "example = ds['train'][12]\n",
    "\n",
    "example"
   ]
  },
  {
   "attachments": {},
   "cell_type": "markdown",
   "metadata": {},
   "source": [
    "#### Display Feature Information About Each Feature"
   ]
  },
  {
   "cell_type": "code",
   "execution_count": 5,
   "metadata": {},
   "outputs": [
    {
     "name": "stdout",
     "output_type": "stream",
     "text": [
      "tokens: \n",
      "Sequence(feature=Value(dtype='string', id=None), length=-1, id=None)\n",
      "\n",
      "tags: \n",
      "Sequence(feature=ClassLabel(names=['O', 'B-SMALL_MOLECULE', 'I-SMALL_MOLECULE', 'B-GENEPROD', 'I-GENEPROD', 'B-SUBCELLULAR', 'I-SUBCELLULAR', 'B-CELL_TYPE', 'I-CELL_TYPE', 'B-TISSUE', 'I-TISSUE', 'B-ORGANISM', 'I-ORGANISM', 'B-EXP_ASSAY', 'I-EXP_ASSAY', 'B-DISEASE', 'I-DISEASE', 'B-CELL_LINE', 'I-CELL_LINE'], id=None), length=-1, id=None)\n",
      "\n"
     ]
    }
   ],
   "source": [
    "for k, v in ds[\"train\"].features.items():\n",
    "    print(f\"{k}: \\n{v}\\n\")"
   ]
  },
  {
   "attachments": {},
   "cell_type": "markdown",
   "metadata": {},
   "source": [
    "#### Define Tag Values & Conversions Between String & Integer Values"
   ]
  },
  {
   "cell_type": "code",
   "execution_count": 6,
   "metadata": {},
   "outputs": [
    {
     "name": "stdout",
     "output_type": "stream",
     "text": [
      "List of tag values: \n",
      "['O', 'B-SMALL_MOLECULE', 'I-SMALL_MOLECULE', 'B-GENEPROD', 'I-GENEPROD', 'B-SUBCELLULAR', 'I-SUBCELLULAR', 'B-CELL_TYPE', 'I-CELL_TYPE', 'B-TISSUE', 'I-TISSUE', 'B-ORGANISM', 'I-ORGANISM', 'B-EXP_ASSAY', 'I-EXP_ASSAY', 'B-DISEASE', 'I-DISEASE', 'B-CELL_LINE', 'I-CELL_LINE']\n",
      "Number of NER Tags: \n",
      "19\n",
      "id2label: \n",
      "{0: 'O', 1: 'B-SMALL_MOLECULE', 2: 'I-SMALL_MOLECULE', 3: 'B-GENEPROD', 4: 'I-GENEPROD', 5: 'B-SUBCELLULAR', 6: 'I-SUBCELLULAR', 7: 'B-CELL_TYPE', 8: 'I-CELL_TYPE', 9: 'B-TISSUE', 10: 'I-TISSUE', 11: 'B-ORGANISM', 12: 'I-ORGANISM', 13: 'B-EXP_ASSAY', 14: 'I-EXP_ASSAY', 15: 'B-DISEASE', 16: 'I-DISEASE', 17: 'B-CELL_LINE', 18: 'I-CELL_LINE'}\n",
      "label2id: \n",
      "{'O': 0, 'B-SMALL_MOLECULE': 1, 'I-SMALL_MOLECULE': 2, 'B-GENEPROD': 3, 'I-GENEPROD': 4, 'B-SUBCELLULAR': 5, 'I-SUBCELLULAR': 6, 'B-CELL_TYPE': 7, 'I-CELL_TYPE': 8, 'B-TISSUE': 9, 'I-TISSUE': 10, 'B-ORGANISM': 11, 'I-ORGANISM': 12, 'B-EXP_ASSAY': 13, 'I-EXP_ASSAY': 14, 'B-DISEASE': 15, 'I-DISEASE': 16, 'B-CELL_LINE': 17, 'I-CELL_LINE': 18}\n"
     ]
    }
   ],
   "source": [
    "tag_values = ds['train'].features[f'tags'].feature.names\n",
    "NUM_OF_LABELS = len(tag_values)\n",
    "\n",
    "label2id = {tag: idx for idx, tag in enumerate(tag_values)}\n",
    "id2label = {idx: tag for idx, tag in enumerate(tag_values)}\n",
    "\n",
    "print(f\"List of tag values: \\n{tag_values}\")\n",
    "print(f\"Number of NER Tags: \\n{NUM_OF_LABELS}\")\n",
    "print(f\"id2label: \\n{id2label}\")\n",
    "print(f\"label2id: \\n{label2id}\")"
   ]
  },
  {
   "attachments": {},
   "cell_type": "markdown",
   "metadata": {},
   "source": [
    "#### Basic Values/Constants"
   ]
  },
  {
   "cell_type": "code",
   "execution_count": 7,
   "metadata": {},
   "outputs": [],
   "source": [
    "MODEL_CKPT = \"bert-large-cased\"\n",
    "\n",
    "MODEL_NAME = f\"{MODEL_CKPT}-lora-finetuned-ner-EMBO-SourceData\"\n",
    "NUM_OF_EPOCHS = 3\n",
    "\n",
    "BATCH_SIZE = 16\n",
    "STRATEGY = \"epoch\"\n",
    "\n",
    "REPORTS_TO = \"tensorboard\"\n",
    "WEIGHT_DECAY = 0.01\n",
    "\n",
    "LR = 1e-3\n",
    "DEVICE = torch.device(\"cpu\")\n",
    "\n",
    "STEPS = 300"
   ]
  },
  {
   "attachments": {},
   "cell_type": "markdown",
   "metadata": {},
   "source": [
    "#### Function to Tokenize & Align Inputs"
   ]
  },
  {
   "cell_type": "code",
   "execution_count": 8,
   "metadata": {},
   "outputs": [],
   "source": [
    "tokenizer = AutoTokenizer.from_pretrained(MODEL_CKPT, \n",
    "                                          add_prefix_space=True)\n",
    "\n",
    "def tokenize_and_align_labels(samples):\n",
    "    tokenized_inputs = tokenizer(samples[\"tokens\"], \n",
    "                                      truncation=True, \n",
    "                                      is_split_into_words=True)\n",
    "    \n",
    "    labels = []\n",
    "    \n",
    "    for idx, label in enumerate(samples[f\"tags\"]):\n",
    "        word_ids = tokenized_inputs.word_ids(batch_index=idx)\n",
    "        prev_word_idx = None\n",
    "        label_ids = []\n",
    "        for word_idx in word_ids: # set special tokens to -100\n",
    "            if word_idx is None or word_idx == prev_word_idx:\n",
    "                label_ids.append(-100)\n",
    "            else:\n",
    "                label_ids.append(label[word_idx])\n",
    "            prev_word_idx = word_idx\n",
    "        labels.append(label_ids)\n",
    "    \n",
    "    tokenized_inputs[\"labels\"] = labels\n",
    "    return tokenized_inputs"
   ]
  },
  {
   "attachments": {},
   "cell_type": "markdown",
   "metadata": {},
   "source": [
    "#### Apply Above Function to Tokenize Dataset"
   ]
  },
  {
   "cell_type": "code",
   "execution_count": 9,
   "metadata": {},
   "outputs": [
    {
     "name": "stderr",
     "output_type": "stream",
     "text": [
      "Loading cached processed dataset at /Users/briandunn/.cache/huggingface/datasets/EMBO___source_data/NER/0.0.0/7898ea3b9a5c23a2cf35c5bac8353dfa312569800a92b13b4035de62ba832a15/cache-2a6ce67ccd9a0ebc.arrow\n"
     ]
    },
    {
     "data": {
      "application/vnd.jupyter.widget-view+json": {
       "model_id": "5a3827afbe1f4151b5e5fd4a5730d667",
       "version_major": 2,
       "version_minor": 0
      },
      "text/plain": [
       "Map:   0%|          | 0/6844 [00:00<?, ? examples/s]"
      ]
     },
     "metadata": {},
     "output_type": "display_data"
    },
    {
     "name": "stderr",
     "output_type": "stream",
     "text": [
      "Loading cached processed dataset at /Users/briandunn/.cache/huggingface/datasets/EMBO___source_data/NER/0.0.0/7898ea3b9a5c23a2cf35c5bac8353dfa312569800a92b13b4035de62ba832a15/cache-1118e1e99952c21d.arrow\n"
     ]
    }
   ],
   "source": [
    "encoded_ds = ds.map(tokenize_and_align_labels, \n",
    "                       batched=True, \n",
    "                       remove_columns=\n",
    "                        [\n",
    "                            'tags', \n",
    "                            'tokens'\n",
    "                        ]\n",
    "                    )"
   ]
  },
  {
   "attachments": {},
   "cell_type": "markdown",
   "metadata": {},
   "source": [
    "#### Define Data Collator"
   ]
  },
  {
   "cell_type": "code",
   "execution_count": 10,
   "metadata": {},
   "outputs": [],
   "source": [
    "data_collator = DataCollatorForTokenClassification(tokenizer=tokenizer)"
   ]
  },
  {
   "attachments": {},
   "cell_type": "markdown",
   "metadata": {},
   "source": [
    "#### Load Custom Model"
   ]
  },
  {
   "cell_type": "code",
   "execution_count": 11,
   "metadata": {},
   "outputs": [
    {
     "name": "stderr",
     "output_type": "stream",
     "text": [
      "Some weights of the model checkpoint at bert-large-cased were not used when initializing BertForTokenClassification: ['cls.predictions.transform.LayerNorm.weight', 'cls.predictions.bias', 'cls.predictions.transform.dense.bias', 'cls.seq_relationship.weight', 'cls.predictions.transform.dense.weight', 'cls.predictions.decoder.weight', 'cls.seq_relationship.bias', 'cls.predictions.transform.LayerNorm.bias']\n",
      "- This IS expected if you are initializing BertForTokenClassification from the checkpoint of a model trained on another task or with another architecture (e.g. initializing a BertForSequenceClassification model from a BertForPreTraining model).\n",
      "- This IS NOT expected if you are initializing BertForTokenClassification from the checkpoint of a model that you expect to be exactly identical (initializing a BertForSequenceClassification model from a BertForSequenceClassification model).\n",
      "Some weights of BertForTokenClassification were not initialized from the model checkpoint at bert-large-cased and are newly initialized: ['classifier.weight', 'classifier.bias']\n",
      "You should probably TRAIN this model on a down-stream task to be able to use it for predictions and inference.\n"
     ]
    }
   ],
   "source": [
    "model = AutoModelForTokenClassification.from_pretrained(\n",
    "    MODEL_CKPT,\n",
    "    num_labels=NUM_OF_LABELS,\n",
    "    id2label=id2label,\n",
    "    label2id=label2id\n",
    "    ).to(DEVICE)"
   ]
  },
  {
   "attachments": {},
   "cell_type": "markdown",
   "metadata": {},
   "source": [
    "#### Create Compute Metrics Function"
   ]
  },
  {
   "cell_type": "code",
   "execution_count": 12,
   "metadata": {},
   "outputs": [],
   "source": [
    "seqeval = evaluate.load(\"seqeval\")\n",
    "\n",
    "labels = [tag_values[i] for i in example[f'tags']]\n",
    "\n",
    "def compute_metrics(eval_preds):\n",
    "    predictions, labels = eval_preds\n",
    "    predictions = np.argmax(predictions, \n",
    "                            axis=2)\n",
    "    \n",
    "    true_predictions = [\n",
    "        [tag_values[p] for (p, l) in zip(prediction, label) if l != -100]\n",
    "        for prediction, label in zip(predictions, labels)\n",
    "    ]\n",
    "    \n",
    "    true_labels = [\n",
    "        [tag_values[l] for (p, l) in zip(prediction, label) if l != -100]\n",
    "        for prediction, label in zip(predictions, labels)\n",
    "    ]\n",
    "    \n",
    "    seqeval_results = seqeval.compute(predictions=true_predictions, \n",
    "                              references=true_labels)\n",
    "    \n",
    "    results = {\n",
    "        \"precision\": seqeval_results[\"overall_precision\"],\n",
    "        \"recall\": seqeval_results[\"overall_recall\"],\n",
    "        \"f1\": seqeval_results[\"overall_f1\"],\n",
    "        \"accuracy\": seqeval_results[\"overall_accuracy\"]}\n",
    "    \n",
    "    return results"
   ]
  },
  {
   "cell_type": "markdown",
   "metadata": {},
   "source": [
    "#### Define Function to Display Parameter Information"
   ]
  },
  {
   "cell_type": "code",
   "execution_count": 13,
   "metadata": {},
   "outputs": [],
   "source": [
    "# Define Helper Function to Check Total Number of Model Parameters\n",
    "# Also, return Number of Trainable Parameters\n",
    "\n",
    "def print_parameters_information(model):\n",
    "    trainable_parameters = 0\n",
    "    all_parameters = 0\n",
    "    \n",
    "    for _, parameters in model.named_parameters():\n",
    "        all_parameters += parameters.numel()\n",
    "        if parameters.requires_grad:\n",
    "            trainable_parameters += parameters.numel()\n",
    "    \n",
    "    print(f'Trainable Parameters: {trainable_parameters} ' + \\\n",
    "          f'|| All Parameters: {all_parameters} ' + \\\n",
    "          f'|| Trainable %: {round(trainable_parameters / all_parameters * 100, 2)}')"
   ]
  },
  {
   "cell_type": "markdown",
   "metadata": {},
   "source": [
    "#### Define LoraConfig"
   ]
  },
  {
   "cell_type": "code",
   "execution_count": 14,
   "metadata": {},
   "outputs": [],
   "source": [
    "lora_config = LoraConfig(\n",
    "    task_type=TaskType.TOKEN_CLS, \n",
    "    inference_mode=False, \n",
    "    r=16, \n",
    "    lora_alpha=16, \n",
    "    lora_dropout=0.1, \n",
    "    bias=\"all\"\n",
    ")"
   ]
  },
  {
   "cell_type": "markdown",
   "metadata": {},
   "source": [
    "#### Update Model With LoraConfiguration"
   ]
  },
  {
   "cell_type": "code",
   "execution_count": 15,
   "metadata": {},
   "outputs": [
    {
     "name": "stdout",
     "output_type": "stream",
     "text": [
      "trainable params: 1883174 || all params: 334141478 || trainable%: 0.5635858233679089\n"
     ]
    }
   ],
   "source": [
    "model = get_peft_model(model, lora_config)\n",
    "\n",
    "model.print_trainable_parameters()"
   ]
  },
  {
   "attachments": {},
   "cell_type": "markdown",
   "metadata": {},
   "source": [
    "#### Define TrainingArguments"
   ]
  },
  {
   "cell_type": "code",
   "execution_count": 16,
   "metadata": {},
   "outputs": [],
   "source": [
    "args = TrainingArguments(\n",
    "    MODEL_NAME,\n",
    "    log_level=\"error\",\n",
    "    logging_first_step=True,\n",
    "    learning_rate=LR,\n",
    "    num_train_epochs=NUM_OF_EPOCHS,\n",
    "    per_device_train_batch_size=BATCH_SIZE,\n",
    "    per_device_eval_batch_size=BATCH_SIZE,\n",
    "    evaluation_strategy=STRATEGY,\n",
    "    use_mps_device=False,\n",
    "    report_to=REPORTS_TO,\n",
    "    disable_tqdm=False,\n",
    "    logging_steps=STEPS,\n",
    "    weight_decay=WEIGHT_DECAY,\n",
    "    save_strategy=STRATEGY,\n",
    "    group_by_length=True,\n",
    "    hub_private_repo=True,\n",
    "    push_to_hub=True\n",
    ")"
   ]
  },
  {
   "attachments": {},
   "cell_type": "markdown",
   "metadata": {},
   "source": [
    "#### Define Trainer"
   ]
  },
  {
   "cell_type": "code",
   "execution_count": 17,
   "metadata": {},
   "outputs": [
    {
     "name": "stderr",
     "output_type": "stream",
     "text": [
      "Cloning https://huggingface.co/DunnBC22/bert-large-cased-lora-finetuned-ner-EMBO-SourceData into local empty directory.\n"
     ]
    }
   ],
   "source": [
    "trainer = Trainer(model, \n",
    "                  args=args,\n",
    "                  data_collator=data_collator,\n",
    "                  compute_metrics=compute_metrics,\n",
    "                  tokenizer=tokenizer,\n",
    "                  train_dataset=encoded_ds[\"train\"],\n",
    "                  eval_dataset=encoded_ds[\"test\"]\n",
    "                  )"
   ]
  },
  {
   "attachments": {},
   "cell_type": "markdown",
   "metadata": {},
   "source": [
    "#### Train Model"
   ]
  },
  {
   "cell_type": "code",
   "execution_count": 18,
   "metadata": {},
   "outputs": [
    {
     "name": "stderr",
     "output_type": "stream",
     "text": [
      "/Users/briandunn/Desktop/python_venvs/text_sum/lib/python3.9/site-packages/transformers/optimization.py:306: FutureWarning: This implementation of AdamW is deprecated and will be removed in a future version. Use the PyTorch implementation torch.optim.AdamW instead, or set `no_deprecation_warning=True` to disable this warning\n",
      "  warnings.warn(\n"
     ]
    },
    {
     "data": {
      "application/vnd.jupyter.widget-view+json": {
       "model_id": "4125c984cac44c88ad7442e0b9e9128f",
       "version_major": 2,
       "version_minor": 0
      },
      "text/plain": [
       "  0%|          | 0/10362 [00:00<?, ?it/s]"
      ]
     },
     "metadata": {},
     "output_type": "display_data"
    },
    {
     "name": "stdout",
     "output_type": "stream",
     "text": [
      "{'loss': 3.3243, 'learning_rate': 0.0009999034935340668, 'epoch': 0.0}\n",
      "{'loss': 0.3091, 'learning_rate': 0.0009710480602200348, 'epoch': 0.09}\n",
      "{'loss': 0.2062, 'learning_rate': 0.0009420961204400695, 'epoch': 0.17}\n",
      "{'loss': 0.1979, 'learning_rate': 0.0009131441806601043, 'epoch': 0.26}\n",
      "{'loss': 0.1799, 'learning_rate': 0.000884192240880139, 'epoch': 0.35}\n",
      "{'loss': 0.1762, 'learning_rate': 0.0008552403011001737, 'epoch': 0.43}\n",
      "{'loss': 0.1701, 'learning_rate': 0.0008262883613202085, 'epoch': 0.52}\n",
      "{'loss': 0.1618, 'learning_rate': 0.0007973364215402432, 'epoch': 0.61}\n",
      "{'loss': 0.1582, 'learning_rate': 0.0007683844817602779, 'epoch': 0.69}\n",
      "{'loss': 0.1535, 'learning_rate': 0.0007394325419803128, 'epoch': 0.78}\n",
      "{'loss': 0.1507, 'learning_rate': 0.0007104806022003475, 'epoch': 0.87}\n",
      "{'loss': 0.1552, 'learning_rate': 0.0006815286624203821, 'epoch': 0.96}\n"
     ]
    },
    {
     "data": {
      "application/vnd.jupyter.widget-view+json": {
       "model_id": "ecb1dedbf15e46c2b4dc8b3aac81ad68",
       "version_major": 2,
       "version_minor": 0
      },
      "text/plain": [
       "  0%|          | 0/428 [00:00<?, ?it/s]"
      ]
     },
     "metadata": {},
     "output_type": "display_data"
    },
    {
     "name": "stdout",
     "output_type": "stream",
     "text": [
      "{'eval_loss': 0.14989228546619415, 'eval_precision': 0.7568749905718725, 'eval_recall': 0.7968047769537392, 'eval_f1': 0.7763267832276033, 'eval_accuracy': 0.9516311809444941, 'eval_runtime': 6640.1606, 'eval_samples_per_second': 1.031, 'eval_steps_per_second': 0.064, 'epoch': 1.0}\n",
      "{'loss': 0.1394, 'learning_rate': 0.0006525767226404169, 'epoch': 1.04}\n",
      "{'loss': 0.1346, 'learning_rate': 0.0006236247828604516, 'epoch': 1.13}\n",
      "{'loss': 0.1366, 'learning_rate': 0.0005946728430804864, 'epoch': 1.22}\n",
      "{'loss': 0.1317, 'learning_rate': 0.0005657209033005212, 'epoch': 1.3}\n",
      "{'loss': 0.1336, 'learning_rate': 0.000536768963520556, 'epoch': 1.39}\n",
      "{'loss': 0.1281, 'learning_rate': 0.0005078170237405906, 'epoch': 1.48}\n",
      "{'loss': 0.1262, 'learning_rate': 0.0004788650839606254, 'epoch': 1.56}\n",
      "{'loss': 0.1246, 'learning_rate': 0.0004499131441806601, 'epoch': 1.65}\n",
      "{'loss': 0.1233, 'learning_rate': 0.00042096120440069485, 'epoch': 1.74}\n",
      "{'loss': 0.1217, 'learning_rate': 0.0003920092646207296, 'epoch': 1.82}\n",
      "{'loss': 0.1234, 'learning_rate': 0.00036305732484076433, 'epoch': 1.91}\n",
      "{'loss': 0.1179, 'learning_rate': 0.00033410538506079907, 'epoch': 2.0}\n"
     ]
    },
    {
     "data": {
      "application/vnd.jupyter.widget-view+json": {
       "model_id": "95fa1ecf88d946429e7265fe4c39b1c2",
       "version_major": 2,
       "version_minor": 0
      },
      "text/plain": [
       "  0%|          | 0/428 [00:00<?, ?it/s]"
      ]
     },
     "metadata": {},
     "output_type": "display_data"
    },
    {
     "name": "stdout",
     "output_type": "stream",
     "text": [
      "{'eval_loss': 0.13277916610240936, 'eval_precision': 0.7909505762239926, 'eval_recall': 0.812002731502803, 'eval_f1': 0.8013384111461125, 'eval_accuracy': 0.9563729015480056, 'eval_runtime': 6092.2011, 'eval_samples_per_second': 1.123, 'eval_steps_per_second': 0.07, 'epoch': 2.0}\n",
      "{'loss': 0.1076, 'learning_rate': 0.0003051534452808338, 'epoch': 2.08}\n",
      "{'loss': 0.1093, 'learning_rate': 0.0002762015055008686, 'epoch': 2.17}\n",
      "{'loss': 0.105, 'learning_rate': 0.00024724956572090334, 'epoch': 2.26}\n",
      "{'loss': 0.1068, 'learning_rate': 0.00021829762594093805, 'epoch': 2.35}\n",
      "{'loss': 0.1027, 'learning_rate': 0.0001893456861609728, 'epoch': 2.43}\n",
      "{'loss': 0.1021, 'learning_rate': 0.00016039374638100753, 'epoch': 2.52}\n",
      "{'loss': 0.1015, 'learning_rate': 0.00013144180660104227, 'epoch': 2.61}\n",
      "{'loss': 0.1003, 'learning_rate': 0.00010248986682107701, 'epoch': 2.69}\n",
      "{'loss': 0.0998, 'learning_rate': 7.353792704111176e-05, 'epoch': 2.78}\n",
      "{'loss': 0.0996, 'learning_rate': 4.458598726114649e-05, 'epoch': 2.87}\n",
      "{'loss': 0.0998, 'learning_rate': 1.5634047481181238e-05, 'epoch': 2.95}\n"
     ]
    },
    {
     "data": {
      "application/vnd.jupyter.widget-view+json": {
       "model_id": "8d349d80ff9248ecbf9fbb05ae52034c",
       "version_major": 2,
       "version_minor": 0
      },
      "text/plain": [
       "  0%|          | 0/428 [00:00<?, ?it/s]"
      ]
     },
     "metadata": {},
     "output_type": "display_data"
    },
    {
     "name": "stdout",
     "output_type": "stream",
     "text": [
      "{'eval_loss': 0.1281939446926117, 'eval_precision': 0.7998649706157647, 'eval_recall': 0.827835919261859, 'eval_f1': 0.8136101139378804, 'eval_accuracy': 0.9583887230224973, 'eval_runtime': 6122.247, 'eval_samples_per_second': 1.118, 'eval_steps_per_second': 0.07, 'epoch': 3.0}\n",
      "{'train_runtime': 187844.0713, 'train_samples_per_second': 0.882, 'train_steps_per_second': 0.055, 'train_loss': 0.13774657309273913, 'epoch': 3.0}\n"
     ]
    }
   ],
   "source": [
    "train_results = trainer.train()"
   ]
  },
  {
   "attachments": {},
   "cell_type": "markdown",
   "metadata": {},
   "source": [
    "#### Push Model To Hub"
   ]
  },
  {
   "cell_type": "code",
   "execution_count": 19,
   "metadata": {},
   "outputs": [
    {
     "name": "stderr",
     "output_type": "stream",
     "text": [
      "Several commits (2) will be pushed upstream.\n",
      "The progress bars may be unreliable.\n"
     ]
    },
    {
     "data": {
      "application/vnd.jupyter.widget-view+json": {
       "model_id": "940d6ac02e8241a6aff42f8624724ee2",
       "version_major": 2,
       "version_minor": 0
      },
      "text/plain": [
       "Upload file pytorch_model.bin:   0%|          | 1.00/1.25G [00:00<?, ?B/s]"
      ]
     },
     "metadata": {},
     "output_type": "display_data"
    },
    {
     "data": {
      "application/vnd.jupyter.widget-view+json": {
       "model_id": "2322cc0d43274583bc2570fa38be5539",
       "version_major": 2,
       "version_minor": 0
      },
      "text/plain": [
       "Upload file runs/Jul18_23-31-30_Brians-Mac-mini.local/events.out.tfevents.1689741106.Brians-Mac-mini.local.630…"
      ]
     },
     "metadata": {},
     "output_type": "display_data"
    },
    {
     "name": "stderr",
     "output_type": "stream",
     "text": [
      "To https://huggingface.co/DunnBC22/bert-large-cased-lora-finetuned-ner-EMBO-SourceData\n",
      "   5361bb3..64b0b95  main -> main\n",
      "\n",
      "To https://huggingface.co/DunnBC22/bert-large-cased-lora-finetuned-ner-EMBO-SourceData\n",
      "   64b0b95..acfda51  main -> main\n",
      "\n"
     ]
    }
   ],
   "source": [
    "kwargs = {\n",
    "    \"tasks\": \"token-classification\",\n",
    "    \"tags\": ['token-classification'],\n",
    "}\n",
    "\n",
    "if args.push_to_hub:\n",
    "    trainer.push_to_hub('All DUNN!!!', **kwargs)\n",
    "else:\n",
    "    trainer.create_model_card(**kwargs)"
   ]
  },
  {
   "attachments": {},
   "cell_type": "markdown",
   "metadata": {},
   "source": [
    "#### Save & Log Model"
   ]
  },
  {
   "cell_type": "code",
   "execution_count": 20,
   "metadata": {},
   "outputs": [
    {
     "name": "stderr",
     "output_type": "stream",
     "text": [
      "To https://huggingface.co/DunnBC22/bert-large-cased-lora-finetuned-ner-EMBO-SourceData\n",
      "   acfda51..7ebbf6c  main -> main\n",
      "\n"
     ]
    },
    {
     "name": "stdout",
     "output_type": "stream",
     "text": [
      "***** train metrics *****\n",
      "  epoch                    =                3.0\n",
      "  train_loss               =             0.1377\n",
      "  train_runtime            = 2 days, 4:10:44.07\n",
      "  train_samples_per_second =              0.882\n",
      "  train_steps_per_second   =              0.055\n"
     ]
    }
   ],
   "source": [
    "trainer.save_model()\n",
    "trainer.log_metrics(\"train\", train_results.metrics)\n",
    "trainer.save_metrics(\"train\", train_results.metrics)\n",
    "trainer.save_state()"
   ]
  },
  {
   "attachments": {},
   "cell_type": "markdown",
   "metadata": {},
   "source": [
    "### Error Analysis"
   ]
  },
  {
   "attachments": {},
   "cell_type": "markdown",
   "metadata": {},
   "source": [
    "#### Define Method to Apply to Validation Dataset (& Then Apply it)"
   ]
  },
  {
   "cell_type": "code",
   "execution_count": 21,
   "metadata": {},
   "outputs": [],
   "source": [
    "def forward_pass_with_label(batch):\n",
    "    # Convert dict of lists to list of dicts suitable for data collator\n",
    "    features = [dict(zip(batch, t)) for t in zip(*batch.values())]\n",
    "    # Pad inputs and labels and put all tensors on device\n",
    "    batch = data_collator(features)\n",
    "    input_ids = batch[\"input_ids\"].to(DEVICE)\n",
    "    attention_mask = batch[\"attention_mask\"].to(DEVICE)\n",
    "    labels = batch[\"labels\"].to(DEVICE)\n",
    "    with torch.no_grad():\n",
    "        # Pass data through model  \n",
    "        output = trainer.model(input_ids, \n",
    "                               attention_mask\n",
    "                               )\n",
    "        # Logit.size: [batch_size, sequence_length, classes]\n",
    "        predicted_label = torch.argmax(output.logits, \n",
    "                                       axis=-1\n",
    "                                       ).cpu().numpy()\n",
    "        \n",
    "    # Calculate loss per token after flattening batch dimension with view\n",
    "    loss = cross_entropy(output.logits.view(-1, 19), \n",
    "                         labels.view(-1), \n",
    "                         reduction=\"none\")\n",
    "    # Unflatten batch dimension and convert to numpy array\n",
    "    loss = loss.view(len(input_ids), -1).cpu().numpy()\n",
    "\n",
    "    return {\"loss\":loss, \"predicted_label\": predicted_label}"
   ]
  },
  {
   "attachments": {},
   "cell_type": "markdown",
   "metadata": {},
   "source": [
    "#### Apply Above Function to Entire Evaluation Dataset"
   ]
  },
  {
   "cell_type": "code",
   "execution_count": 23,
   "metadata": {},
   "outputs": [
    {
     "name": "stderr",
     "output_type": "stream",
     "text": [
      "Parameter 'function'=<function forward_pass_with_label at 0x7f80ecc72ee0> of the transform datasets.arrow_dataset.Dataset._map_single couldn't be hashed properly, a random hash was used instead. Make sure your transforms and parameters are serializable with pickle or dill for the dataset fingerprinting and caching to work. If you reuse this transform, the caching mechanism will consider it to be different from the previous calls and recompute everything. This warning is only showed once. Subsequent hashing failures won't be showed.\n"
     ]
    },
    {
     "data": {
      "application/vnd.jupyter.widget-view+json": {
       "model_id": "902dda2f8d874346bcd7d3f8ab976c87",
       "version_major": 2,
       "version_minor": 0
      },
      "text/plain": [
       "Map:   0%|          | 0/7951 [00:00<?, ? examples/s]"
      ]
     },
     "metadata": {},
     "output_type": "display_data"
    }
   ],
   "source": [
    "eval_set = encoded_ds['validation']\n",
    "\n",
    "eval_set = eval_set.map(forward_pass_with_label,\n",
    "                        batched=True,\n",
    "                        batch_size=32)\n",
    "\n",
    "eval_df = eval_set.to_pandas()"
   ]
  },
  {
   "attachments": {},
   "cell_type": "markdown",
   "metadata": {},
   "source": [
    "#### Clean Up Padding Tokens"
   ]
  },
  {
   "cell_type": "code",
   "execution_count": 24,
   "metadata": {},
   "outputs": [
    {
     "data": {
      "text/html": [
       "<div>\n",
       "<style scoped>\n",
       "    .dataframe tbody tr th:only-of-type {\n",
       "        vertical-align: middle;\n",
       "    }\n",
       "\n",
       "    .dataframe tbody tr th {\n",
       "        vertical-align: top;\n",
       "    }\n",
       "\n",
       "    .dataframe thead th {\n",
       "        text-align: right;\n",
       "    }\n",
       "</style>\n",
       "<table border=\"1\" class=\"dataframe\">\n",
       "  <thead>\n",
       "    <tr style=\"text-align: right;\">\n",
       "      <th></th>\n",
       "      <th>input_ids</th>\n",
       "      <th>token_type_ids</th>\n",
       "      <th>attention_mask</th>\n",
       "      <th>labels</th>\n",
       "      <th>loss</th>\n",
       "      <th>predicted_label</th>\n",
       "      <th>input_tokens</th>\n",
       "    </tr>\n",
       "  </thead>\n",
       "  <tbody>\n",
       "    <tr>\n",
       "      <th>0</th>\n",
       "      <td>[101, 170, 117, 27524, 10294, 2116, 1104, 4098...</td>\n",
       "      <td>[0, 0, 0, 0, 0, 0, 0, 0, 0, 0, 0, 0, 0, 0, 0, ...</td>\n",
       "      <td>[1, 1, 1, 1, 1, 1, 1, 1, 1, 1, 1, 1, 1, 1, 1, ...</td>\n",
       "      <td>[IGN, O, O, O, IGN, IGN, O, O, O, O, O, O, O, ...</td>\n",
       "      <td>[0.0, 0.00011801023, 1.5616295e-05, 4.768258e-...</td>\n",
       "      <td>[O, O, O, O, O, O, O, O, O, O, O, O, O, O, B-G...</td>\n",
       "      <td>[[CLS], a, ,, Det, ##ec, ##tion, of, wild, -, ...</td>\n",
       "    </tr>\n",
       "  </tbody>\n",
       "</table>\n",
       "</div>"
      ],
      "text/plain": [
       "                                           input_ids  \\\n",
       "0  [101, 170, 117, 27524, 10294, 2116, 1104, 4098...   \n",
       "\n",
       "                                      token_type_ids  \\\n",
       "0  [0, 0, 0, 0, 0, 0, 0, 0, 0, 0, 0, 0, 0, 0, 0, ...   \n",
       "\n",
       "                                      attention_mask  \\\n",
       "0  [1, 1, 1, 1, 1, 1, 1, 1, 1, 1, 1, 1, 1, 1, 1, ...   \n",
       "\n",
       "                                              labels  \\\n",
       "0  [IGN, O, O, O, IGN, IGN, O, O, O, O, O, O, O, ...   \n",
       "\n",
       "                                                loss  \\\n",
       "0  [0.0, 0.00011801023, 1.5616295e-05, 4.768258e-...   \n",
       "\n",
       "                                     predicted_label  \\\n",
       "0  [O, O, O, O, O, O, O, O, O, O, O, O, O, O, B-G...   \n",
       "\n",
       "                                        input_tokens  \n",
       "0  [[CLS], a, ,, Det, ##ec, ##tion, of, wild, -, ...  "
      ]
     },
     "execution_count": 24,
     "metadata": {},
     "output_type": "execute_result"
    }
   ],
   "source": [
    "id2label[-100] = \"IGN\"\n",
    "eval_df[\"input_tokens\"] = eval_df[\"input_ids\"].apply(\n",
    "    lambda x: tokenizer.convert_ids_to_tokens(x))\n",
    "eval_df[\"predicted_label\"] = eval_df[\"predicted_label\"].apply(\n",
    "    lambda x: [id2label[i] for i in x])\n",
    "eval_df[\"labels\"] = eval_df[\"labels\"].apply(\n",
    "    lambda x: [id2label[i] for i in x])\n",
    "eval_df['loss'] = eval_df.apply(\n",
    "    lambda x: x['loss'][:len(x['input_ids'])], axis=1)\n",
    "eval_df['predicted_label'] = eval_df.apply(\n",
    "    lambda x: x['predicted_label'][:len(x['input_ids'])], axis=1)\n",
    "eval_df.head(1)"
   ]
  },
  {
   "attachments": {},
   "cell_type": "markdown",
   "metadata": {},
   "source": [
    "#### Unwrap Each Token Within Sample Separately"
   ]
  },
  {
   "cell_type": "code",
   "execution_count": 25,
   "metadata": {},
   "outputs": [
    {
     "data": {
      "text/html": [
       "<div>\n",
       "<style scoped>\n",
       "    .dataframe tbody tr th:only-of-type {\n",
       "        vertical-align: middle;\n",
       "    }\n",
       "\n",
       "    .dataframe tbody tr th {\n",
       "        vertical-align: top;\n",
       "    }\n",
       "\n",
       "    .dataframe thead th {\n",
       "        text-align: right;\n",
       "    }\n",
       "</style>\n",
       "<table border=\"1\" class=\"dataframe\">\n",
       "  <thead>\n",
       "    <tr style=\"text-align: right;\">\n",
       "      <th></th>\n",
       "      <th>input_ids</th>\n",
       "      <th>token_type_ids</th>\n",
       "      <th>attention_mask</th>\n",
       "      <th>labels</th>\n",
       "      <th>loss</th>\n",
       "      <th>predicted_label</th>\n",
       "      <th>input_tokens</th>\n",
       "    </tr>\n",
       "  </thead>\n",
       "  <tbody>\n",
       "    <tr>\n",
       "      <th>0</th>\n",
       "      <td>170</td>\n",
       "      <td>0</td>\n",
       "      <td>1</td>\n",
       "      <td>O</td>\n",
       "      <td>0.0</td>\n",
       "      <td>O</td>\n",
       "      <td>a</td>\n",
       "    </tr>\n",
       "    <tr>\n",
       "      <th>0</th>\n",
       "      <td>117</td>\n",
       "      <td>0</td>\n",
       "      <td>1</td>\n",
       "      <td>O</td>\n",
       "      <td>0.0</td>\n",
       "      <td>O</td>\n",
       "      <td>,</td>\n",
       "    </tr>\n",
       "    <tr>\n",
       "      <th>0</th>\n",
       "      <td>27524</td>\n",
       "      <td>0</td>\n",
       "      <td>1</td>\n",
       "      <td>O</td>\n",
       "      <td>0.0</td>\n",
       "      <td>O</td>\n",
       "      <td>Det</td>\n",
       "    </tr>\n",
       "    <tr>\n",
       "      <th>0</th>\n",
       "      <td>1104</td>\n",
       "      <td>0</td>\n",
       "      <td>1</td>\n",
       "      <td>O</td>\n",
       "      <td>0.0</td>\n",
       "      <td>O</td>\n",
       "      <td>of</td>\n",
       "    </tr>\n",
       "    <tr>\n",
       "      <th>0</th>\n",
       "      <td>4098</td>\n",
       "      <td>0</td>\n",
       "      <td>1</td>\n",
       "      <td>O</td>\n",
       "      <td>0.0</td>\n",
       "      <td>O</td>\n",
       "      <td>wild</td>\n",
       "    </tr>\n",
       "    <tr>\n",
       "      <th>0</th>\n",
       "      <td>118</td>\n",
       "      <td>0</td>\n",
       "      <td>1</td>\n",
       "      <td>O</td>\n",
       "      <td>0.0</td>\n",
       "      <td>O</td>\n",
       "      <td>-</td>\n",
       "    </tr>\n",
       "    <tr>\n",
       "      <th>0</th>\n",
       "      <td>2076</td>\n",
       "      <td>0</td>\n",
       "      <td>1</td>\n",
       "      <td>O</td>\n",
       "      <td>0.0</td>\n",
       "      <td>O</td>\n",
       "      <td>type</td>\n",
       "    </tr>\n",
       "  </tbody>\n",
       "</table>\n",
       "</div>"
      ],
      "text/plain": [
       "  input_ids token_type_ids attention_mask labels  loss predicted_label  \\\n",
       "0       170              0              1      O   0.0               O   \n",
       "0       117              0              1      O   0.0               O   \n",
       "0     27524              0              1      O   0.0               O   \n",
       "0      1104              0              1      O   0.0               O   \n",
       "0      4098              0              1      O   0.0               O   \n",
       "0       118              0              1      O   0.0               O   \n",
       "0      2076              0              1      O   0.0               O   \n",
       "\n",
       "  input_tokens  \n",
       "0            a  \n",
       "0            ,  \n",
       "0          Det  \n",
       "0           of  \n",
       "0         wild  \n",
       "0            -  \n",
       "0         type  "
      ]
     },
     "execution_count": 25,
     "metadata": {},
     "output_type": "execute_result"
    }
   ],
   "source": [
    "eval_df_tokens = eval_df.apply(pd.Series.explode)\n",
    "eval_df_tokens = eval_df_tokens.query(\"labels != 'IGN'\")\n",
    "eval_df_tokens[\"loss\"] = eval_df_tokens[\"loss\"].astype(float).round(2)\n",
    "eval_df_tokens.head(7)"
   ]
  },
  {
   "attachments": {},
   "cell_type": "markdown",
   "metadata": {},
   "source": [
    "#### See Which Tokens Have Accumulated Most Loss in Evaluation Dataset"
   ]
  },
  {
   "cell_type": "code",
   "execution_count": 26,
   "metadata": {},
   "outputs": [
    {
     "data": {
      "text/html": [
       "<div>\n",
       "<style scoped>\n",
       "    .dataframe tbody tr th:only-of-type {\n",
       "        vertical-align: middle;\n",
       "    }\n",
       "\n",
       "    .dataframe tbody tr th {\n",
       "        vertical-align: top;\n",
       "    }\n",
       "\n",
       "    .dataframe thead th {\n",
       "        text-align: right;\n",
       "    }\n",
       "</style>\n",
       "<table border=\"1\" class=\"dataframe\">\n",
       "  <thead>\n",
       "    <tr style=\"text-align: right;\">\n",
       "      <th></th>\n",
       "      <th>0</th>\n",
       "      <th>1</th>\n",
       "      <th>2</th>\n",
       "      <th>3</th>\n",
       "      <th>4</th>\n",
       "      <th>5</th>\n",
       "      <th>6</th>\n",
       "      <th>7</th>\n",
       "      <th>8</th>\n",
       "      <th>9</th>\n",
       "    </tr>\n",
       "  </thead>\n",
       "  <tbody>\n",
       "    <tr>\n",
       "      <th>input_tokens</th>\n",
       "      <td>-</td>\n",
       "      <td>T</td>\n",
       "      <td>N</td>\n",
       "      <td>P</td>\n",
       "      <td>p</td>\n",
       "      <td>L</td>\n",
       "      <td>H</td>\n",
       "      <td>R</td>\n",
       "      <td>G</td>\n",
       "      <td>D</td>\n",
       "    </tr>\n",
       "    <tr>\n",
       "      <th>count</th>\n",
       "      <td>26326</td>\n",
       "      <td>2325</td>\n",
       "      <td>2130</td>\n",
       "      <td>4438</td>\n",
       "      <td>4956</td>\n",
       "      <td>1745</td>\n",
       "      <td>2765</td>\n",
       "      <td>1379</td>\n",
       "      <td>3511</td>\n",
       "      <td>2808</td>\n",
       "    </tr>\n",
       "    <tr>\n",
       "      <th>mean</th>\n",
       "      <td>0.172</td>\n",
       "      <td>0.635</td>\n",
       "      <td>0.534</td>\n",
       "      <td>0.247</td>\n",
       "      <td>0.195</td>\n",
       "      <td>0.552</td>\n",
       "      <td>0.317</td>\n",
       "      <td>0.615</td>\n",
       "      <td>0.22</td>\n",
       "      <td>0.252</td>\n",
       "    </tr>\n",
       "    <tr>\n",
       "      <th>sum</th>\n",
       "      <td>4522.2</td>\n",
       "      <td>1476.06</td>\n",
       "      <td>1138.11</td>\n",
       "      <td>1096.46</td>\n",
       "      <td>966.95</td>\n",
       "      <td>963.51</td>\n",
       "      <td>877.63</td>\n",
       "      <td>848.47</td>\n",
       "      <td>771.43</td>\n",
       "      <td>706.53</td>\n",
       "    </tr>\n",
       "  </tbody>\n",
       "</table>\n",
       "</div>"
      ],
      "text/plain": [
       "                   0        1        2        3       4       5       6  \\\n",
       "input_tokens       -        T        N        P       p       L       H   \n",
       "count          26326     2325     2130     4438    4956    1745    2765   \n",
       "mean           0.172    0.635    0.534    0.247   0.195   0.552   0.317   \n",
       "sum           4522.2  1476.06  1138.11  1096.46  966.95  963.51  877.63   \n",
       "\n",
       "                   7       8       9  \n",
       "input_tokens       R       G       D  \n",
       "count           1379    3511    2808  \n",
       "mean           0.615    0.22   0.252  \n",
       "sum           848.47  771.43  706.53  "
      ]
     },
     "execution_count": 26,
     "metadata": {},
     "output_type": "execute_result"
    }
   ],
   "source": [
    "(\n",
    "    eval_df_tokens.groupby(\"input_tokens\")[[\"loss\"]]\n",
    "    .agg([\"count\", \"mean\", \"sum\"])\n",
    "    .droplevel(level=0, axis=1) # Remove multi-level columns\n",
    "    .sort_values(by=\"sum\", ascending=False)\n",
    "    .reset_index()\n",
    "    .round(3)\n",
    "    .head(10)\n",
    "    .T\n",
    ")"
   ]
  },
  {
   "attachments": {},
   "cell_type": "markdown",
   "metadata": {},
   "source": [
    "#### See Which Label IDs Have Most Loss in Evaluation Dataset"
   ]
  },
  {
   "cell_type": "code",
   "execution_count": 27,
   "metadata": {},
   "outputs": [
    {
     "data": {
      "text/html": [
       "<div>\n",
       "<style scoped>\n",
       "    .dataframe tbody tr th:only-of-type {\n",
       "        vertical-align: middle;\n",
       "    }\n",
       "\n",
       "    .dataframe tbody tr th {\n",
       "        vertical-align: top;\n",
       "    }\n",
       "\n",
       "    .dataframe thead th {\n",
       "        text-align: right;\n",
       "    }\n",
       "</style>\n",
       "<table border=\"1\" class=\"dataframe\">\n",
       "  <thead>\n",
       "    <tr style=\"text-align: right;\">\n",
       "      <th></th>\n",
       "      <th>0</th>\n",
       "      <th>1</th>\n",
       "      <th>2</th>\n",
       "      <th>3</th>\n",
       "      <th>4</th>\n",
       "      <th>5</th>\n",
       "      <th>6</th>\n",
       "      <th>7</th>\n",
       "      <th>8</th>\n",
       "      <th>9</th>\n",
       "      <th>10</th>\n",
       "      <th>11</th>\n",
       "      <th>12</th>\n",
       "      <th>13</th>\n",
       "      <th>14</th>\n",
       "      <th>15</th>\n",
       "      <th>16</th>\n",
       "      <th>17</th>\n",
       "      <th>18</th>\n",
       "    </tr>\n",
       "  </thead>\n",
       "  <tbody>\n",
       "    <tr>\n",
       "      <th>labels</th>\n",
       "      <td>I-DISEASE</td>\n",
       "      <td>B-DISEASE</td>\n",
       "      <td>I-SUBCELLULAR</td>\n",
       "      <td>I-TISSUE</td>\n",
       "      <td>B-CELL_TYPE</td>\n",
       "      <td>I-ORGANISM</td>\n",
       "      <td>B-TISSUE</td>\n",
       "      <td>I-CELL_TYPE</td>\n",
       "      <td>B-EXP_ASSAY</td>\n",
       "      <td>I-SMALL_MOLECULE</td>\n",
       "      <td>I-EXP_ASSAY</td>\n",
       "      <td>B-SUBCELLULAR</td>\n",
       "      <td>B-SMALL_MOLECULE</td>\n",
       "      <td>I-GENEPROD</td>\n",
       "      <td>I-CELL_LINE</td>\n",
       "      <td>B-ORGANISM</td>\n",
       "      <td>B-GENEPROD</td>\n",
       "      <td>B-CELL_LINE</td>\n",
       "      <td>O</td>\n",
       "    </tr>\n",
       "    <tr>\n",
       "      <th>count</th>\n",
       "      <td>218</td>\n",
       "      <td>633</td>\n",
       "      <td>905</td>\n",
       "      <td>977</td>\n",
       "      <td>2829</td>\n",
       "      <td>1555</td>\n",
       "      <td>3796</td>\n",
       "      <td>826</td>\n",
       "      <td>13096</td>\n",
       "      <td>2688</td>\n",
       "      <td>8486</td>\n",
       "      <td>3901</td>\n",
       "      <td>7896</td>\n",
       "      <td>6813</td>\n",
       "      <td>1458</td>\n",
       "      <td>4959</td>\n",
       "      <td>28251</td>\n",
       "      <td>3090</td>\n",
       "      <td>516883</td>\n",
       "    </tr>\n",
       "    <tr>\n",
       "      <th>mean</th>\n",
       "      <td>2.207</td>\n",
       "      <td>1.365</td>\n",
       "      <td>1.313</td>\n",
       "      <td>0.865</td>\n",
       "      <td>0.745</td>\n",
       "      <td>0.721</td>\n",
       "      <td>0.7</td>\n",
       "      <td>0.681</td>\n",
       "      <td>0.673</td>\n",
       "      <td>0.66</td>\n",
       "      <td>0.656</td>\n",
       "      <td>0.649</td>\n",
       "      <td>0.597</td>\n",
       "      <td>0.593</td>\n",
       "      <td>0.356</td>\n",
       "      <td>0.341</td>\n",
       "      <td>0.225</td>\n",
       "      <td>0.212</td>\n",
       "      <td>0.057</td>\n",
       "    </tr>\n",
       "    <tr>\n",
       "      <th>sum</th>\n",
       "      <td>481.15</td>\n",
       "      <td>864.05</td>\n",
       "      <td>1188.65</td>\n",
       "      <td>844.69</td>\n",
       "      <td>2107.28</td>\n",
       "      <td>1121.27</td>\n",
       "      <td>2655.66</td>\n",
       "      <td>562.18</td>\n",
       "      <td>8808.31</td>\n",
       "      <td>1774.31</td>\n",
       "      <td>5570.21</td>\n",
       "      <td>2529.93</td>\n",
       "      <td>4714.11</td>\n",
       "      <td>4043.17</td>\n",
       "      <td>519.58</td>\n",
       "      <td>1692.05</td>\n",
       "      <td>6345.88</td>\n",
       "      <td>656.26</td>\n",
       "      <td>29272.24</td>\n",
       "    </tr>\n",
       "  </tbody>\n",
       "</table>\n",
       "</div>"
      ],
      "text/plain": [
       "               0          1              2         3            4   \\\n",
       "labels  I-DISEASE  B-DISEASE  I-SUBCELLULAR  I-TISSUE  B-CELL_TYPE   \n",
       "count         218        633            905       977         2829   \n",
       "mean        2.207      1.365          1.313     0.865        0.745   \n",
       "sum        481.15     864.05        1188.65    844.69      2107.28   \n",
       "\n",
       "                5         6            7            8                 9   \\\n",
       "labels  I-ORGANISM  B-TISSUE  I-CELL_TYPE  B-EXP_ASSAY  I-SMALL_MOLECULE   \n",
       "count         1555      3796          826        13096              2688   \n",
       "mean         0.721       0.7        0.681        0.673              0.66   \n",
       "sum        1121.27   2655.66       562.18      8808.31           1774.31   \n",
       "\n",
       "                 10             11                12          13           14  \\\n",
       "labels  I-EXP_ASSAY  B-SUBCELLULAR  B-SMALL_MOLECULE  I-GENEPROD  I-CELL_LINE   \n",
       "count          8486           3901              7896        6813         1458   \n",
       "mean          0.656          0.649             0.597       0.593        0.356   \n",
       "sum         5570.21        2529.93           4714.11     4043.17       519.58   \n",
       "\n",
       "                15          16           17        18  \n",
       "labels  B-ORGANISM  B-GENEPROD  B-CELL_LINE         O  \n",
       "count         4959       28251         3090    516883  \n",
       "mean         0.341       0.225        0.212     0.057  \n",
       "sum        1692.05     6345.88       656.26  29272.24  "
      ]
     },
     "execution_count": 27,
     "metadata": {},
     "output_type": "execute_result"
    }
   ],
   "source": [
    "(\n",
    "    eval_df_tokens.groupby(\"labels\")[[\"loss\"]] \n",
    "    .agg([\"count\", \"mean\", \"sum\"])\n",
    "    .droplevel(level=0, axis=1) # Get rid of multi-level columns\n",
    "    .sort_values(by=\"mean\", ascending=False)\n",
    "    .reset_index()\n",
    "    .round(3)\n",
    "    .fillna(0)\n",
    "    .T\n",
    ")"
   ]
  },
  {
   "attachments": {},
   "cell_type": "markdown",
   "metadata": {},
   "source": [
    "#### Create Function to Display Confusion Matrix"
   ]
  },
  {
   "cell_type": "code",
   "execution_count": 70,
   "metadata": {},
   "outputs": [],
   "source": [
    "def plot_confusion_matrix(y_preds, y_true, labels):\n",
    "    cm = confusion_matrix(y_true, y_preds, normalize=\"true\")\n",
    "    fig, ax = plt.subplots(figsize=(12, 12))\n",
    "    disp = ConfusionMatrixDisplay(confusion_matrix=cm, display_labels=labels)\n",
    "    disp.plot(cmap=\"Blues\", values_format=\".2f\", ax=ax, colorbar=False)\n",
    "    plt.title(\"Normalized Confusion Matrix\")\n",
    "    plt.xticks(rotation = 60)\n",
    "    plt.show()\n",
    "    "
   ]
  },
  {
   "attachments": {},
   "cell_type": "markdown",
   "metadata": {},
   "source": [
    "#### Display Confusion Matrix"
   ]
  },
  {
   "cell_type": "code",
   "execution_count": 71,
   "metadata": {},
   "outputs": [
    {
     "data": {
      "image/png": "[encoded data removed]",
      "text/plain": [
       "<Figure size 1200x1200 with 1 Axes>"
      ]
     },
     "metadata": {},
     "output_type": "display_data"
    }
   ],
   "source": [
    "eval_token_list = list(set(eval_df_tokens['labels']))\n",
    "\n",
    "plot_confusion_matrix(eval_df_tokens[\"labels\"], eval_df_tokens[\"predicted_label\"],\n",
    "                      eval_token_list)"
   ]
  },
  {
   "attachments": {},
   "cell_type": "markdown",
   "metadata": {},
   "source": [
    "### Notes & Other Takeaways From This Project\n",
    "\n",
    "****\n",
    "- While this model is an improvement over the model trained using the BERT-Base checkpoint without LoRA/PEFT, the biggest takeaways is that the model struggled to correctly identify the Beginning of text chunks.\n",
    "\n",
    "****"
   ]
  },
  {
   "attachments": {},
   "cell_type": "markdown",
   "metadata": {},
   "source": [
    "### Citations\n",
    "\n",
    "- Model Checkpoint\n",
    "\n",
    "    > @article{DBLP:journals/corr/abs-1810-04805, author = {Jacob Devlin and Ming{-}Wei Chang and Kenton Lee and Kristina Toutanova}, title = {{BERT:} Pre-training of Deep Bidirectional Transformers for Language Understanding}, journal = {CoRR}, volume = {abs/1810.04805}, year = {2018}, url = {http://arxiv.org/abs/1810.04805}, archivePrefix = {arXiv}, eprint = {1810.04805}, timestamp = {Tue, 30 Oct 2018 20:39:56 +0100}, biburl = {https://dblp.org/rec/journals/corr/abs-1810-04805.bib}, bibsource = {dblp computer science bibliography, https://dblp.org}}\n",
    "\n",
    "- Dataset\n",
    "\n",
    "    >  @article{article, author = {Smith, Larry and Tanabe, Lorraine and Ando, Rie and Kuo, Cheng-Ju and Chung, I-Fang and Hsu, Chun-Nan and Lin, Yu-Shi and Klinger, Roman and Friedrich, Christoph and Ganchev, Kuzman and Torii, Manabu and Liu, Hongfang and Haddow, Barry and Struble, Craig and Povinelli, Richard and Vlachos, Andreas and Baumgartner Jr, William and Hunter, Lawrence and Carpenter, Bob and Wilbur, W.}, year = {2008}, month = {09}, pages = {S2}, title = {Overview of BioCreative II gene mention recognition}, volume = {9 Suppl 2}, journal = {Genome biology}, doi = {10.1186/gb-2008-9-s2-s2}}\n",
    "\n",
    "- Metric (SeqEval)\n",
    "\n",
    "    > @inproceedings{ramshaw-marcus-1995-text, title = \"Text Chunking using Transformation-Based Learning\", author = \"Ramshaw, Lance and Marcus, Mitch\", booktitle = \"Third Workshop on Very Large Corpora\", year = \"1995\", url = \"https://www.aclweb.org/anthology/W95-0107\",}\n",
    "    \n",
    "    > @misc{seqeval, title={{seqeval}: A Python framework for sequence labeling evaluation}, url={https://github.com/chakki-works/seqeval}, note={Software available from https://github.com/chakki-works/seqeval}, author={Hiroki Nakayama}, year={2018},}"
   ]
  }
 ],
 "metadata": {
  "kernelspec": {
   "display_name": "dl",
   "language": "python",
   "name": "python3"
  },
  "language_info": {
   "codemirror_mode": {
    "name": "ipython",
    "version": 3
   },
   "file_extension": ".py",
   "mimetype": "text/x-python",
   "name": "python",
   "nbconvert_exporter": "python",
   "pygments_lexer": "ipython3",
   "version": "3.9.12"
  },
  "orig_nbformat": 4
 },
 "nbformat": 4,
 "nbformat_minor": 2
}
