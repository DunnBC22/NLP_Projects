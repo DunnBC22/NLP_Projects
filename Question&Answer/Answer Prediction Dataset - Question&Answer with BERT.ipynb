{
 "cells": [
  {
   "attachments": {},
   "cell_type": "markdown",
   "metadata": {},
   "source": [
    "## Answer Prediction Dataset: Question & Answering\n",
    "\n",
    "Dataset Source: https://www.kaggle.com/datasets/a2m2a2n2/question-answer-dataset"
   ]
  },
  {
   "attachments": {},
   "cell_type": "markdown",
   "metadata": {},
   "source": [
    "#### Import Necessary Libraries"
   ]
  },
  {
   "cell_type": "code",
   "execution_count": 1,
   "metadata": {},
   "outputs": [
    {
     "name": "stdout",
     "output_type": "stream",
     "text": [
      "Git LFS initialized.\n"
     ]
    }
   ],
   "source": [
    "import os, sys, random, collections, ast\n",
    "os.environ['TOKENIZERS_PARALLELISM']='false'\n",
    "\n",
    "from tqdm.auto import tqdm\n",
    "\n",
    "import numpy as np\n",
    "import pandas as pd\n",
    "import matplotlib.pyplot as plt\n",
    "\n",
    "import datasets\n",
    "from datasets import load_dataset, Dataset, DatasetDict, ClassLabel, Sequence\n",
    "\n",
    "import transformers\n",
    "from transformers import AutoTokenizer, AutoModelForQuestionAnswering, set_seed\n",
    "from transformers import TrainingArguments, Trainer, default_data_collator\n",
    "\n",
    "import torch\n",
    "\n",
    "import evaluate\n",
    "\n",
    "!git lfs install"
   ]
  },
  {
   "attachments": {},
   "cell_type": "markdown",
   "metadata": {},
   "source": [
    "#### Display Library Versions"
   ]
  },
  {
   "cell_type": "code",
   "execution_count": 2,
   "metadata": {},
   "outputs": [
    {
     "name": "stdout",
     "output_type": "stream",
     "text": [
      "        Python: 3.9.7 \n",
      "         NumPy: 1.23.3\n",
      "      Datasets: 2.8.0\n",
      "  Transformers: 4.26.1\n",
      "      Evaluate: 0.2.2\n",
      "         Torch: 1.12.1\n"
     ]
    }
   ],
   "source": [
    "print(\"Python:\".rjust(15), sys.version[0:6])\n",
    "print(\"NumPy:\".rjust(15), np.__version__)\n",
    "print(\"Datasets:\".rjust(15), datasets.__version__)\n",
    "print(\"Transformers:\".rjust(15), transformers.__version__)\n",
    "print(\"Evaluate:\".rjust(15), evaluate.__version__)\n",
    "print(\"Torch:\".rjust(15), torch.__version__)"
   ]
  },
  {
   "attachments": {},
   "cell_type": "markdown",
   "metadata": {},
   "source": [
    "#### Load & Start Processing Dataset"
   ]
  },
  {
   "cell_type": "code",
   "execution_count": 3,
   "metadata": {},
   "outputs": [
    {
     "name": "stdout",
     "output_type": "stream",
     "text": [
      "<class 'pandas.core.frame.DataFrame'>\n",
      "Int64Index: 50125 entries, 0 to 74856\n",
      "Data columns (total 4 columns):\n",
      " #   Column    Non-Null Count  Dtype \n",
      "---  ------    --------------  ----- \n",
      " 0   context   50125 non-null  object\n",
      " 1   question  50125 non-null  object\n",
      " 2   answers   50125 non-null  object\n",
      " 3   id        50125 non-null  object\n",
      "dtypes: object(4)\n",
      "memory usage: 1.9+ MB\n"
     ]
    }
   ],
   "source": [
    "parent_dir = \"/Users/leedunn/Desktop/Projects_to_Train/Object Detection\"\n",
    "\n",
    "data = pd.read_csv(os.path.join(parent_dir, \"Question_Answer.csv\"))\n",
    "\n",
    "# only keep samples which has answers\n",
    "data = data[data[\"Answer_possible\"] == True]\n",
    "\n",
    "# Rename Features as needed\n",
    "data.rename(columns={\n",
    "    \"Answer_start\": \"answer_start\", \n",
    "    \"Answer_text\": \"answer_text\",\n",
    "    \"Question\": \"question\",\n",
    "    \"Paragraph\" : \"context\"\n",
    "    }, inplace=True)\n",
    "\n",
    "# Remove unnecessary Features\n",
    "data.drop(columns=[\"Theme\", \"Answer_possible\"], inplace=True)\n",
    "\n",
    "# Concatenate the Answer_text & Answer_start into a dictionary in column named \"answer\"\n",
    "data[\"answers\"] =  \"{\\\"text\\\": \" + data[\"answer_text\"] + \", \\\"answer_start\\\": \" + data[\"answer_start\"] + \"}\"\n",
    "\n",
    "data[\"answers\"] = data[\"answers\"].apply(lambda x: ast.literal_eval(x))\n",
    "\n",
    "data.drop(columns=[\"answer_text\", \"answer_start\"], inplace=True)\n",
    "\n",
    "data['id'] = data.index.astype(str)\n",
    "\n",
    "data.info()"
   ]
  },
  {
   "attachments": {},
   "cell_type": "markdown",
   "metadata": {},
   "source": [
    "#### Example"
   ]
  },
  {
   "cell_type": "code",
   "execution_count": 4,
   "metadata": {},
   "outputs": [
    {
     "name": "stdout",
     "output_type": "stream",
     "text": [
      "Context: The current administration presides over an uneasy internal peace and faces difficult economic problems of stimulating recovery and reducing poverty, despite record-high oil prices since 2003. Natural gas and diamonds are also recent major Congolese exports, although Congo was excluded from the Kimberley Process in 2004 amid allegations that most of its diamond exports were in fact being smuggled out of the neighboring Democratic Republic of Congo; it was re-admitted to the group in 2007.\n",
      "\n",
      "Question: When was the Congo allowed back into the Kimberley Process?\n"
     ]
    }
   ],
   "source": [
    "n = 5000\n",
    "print(f\"Context: {data['context'][n]}\")\n",
    "print(f\"\\nQuestion: {data['question'][n]}\")"
   ]
  },
  {
   "attachments": {},
   "cell_type": "markdown",
   "metadata": {},
   "source": [
    "#### Visual: Histogram of Input Lengths"
   ]
  },
  {
   "cell_type": "code",
   "execution_count": 5,
   "metadata": {},
   "outputs": [
    {
     "data": {
      "image/png": "[encoded data removed]",
      "text/plain": [
       "<Figure size 1800x800 with 1 Axes>"
      ]
     },
     "metadata": {},
     "output_type": "display_data"
    }
   ],
   "source": [
    "para_n_question = pd.DataFrame()\n",
    "para_n_question[\"input\"] = data[\"context\"] + data[\"question\"]\n",
    "para_n_question[\"input_len\"] = para_n_question['input'].str.split().str.len()\n",
    "max(para_n_question[\"input_len\"])\n",
    "\n",
    "para_n_question.hist('input_len', grid=False, bins=60, figsize=(18,8))\n",
    "plt.suptitle('')\n",
    "plt.title('Histogram of Input Length')\n",
    "plt.ylabel('')\n",
    "plt.xlabel('Words per Input')\n",
    "plt.show()\n",
    "\n",
    "para_n_question.drop(columns=[\"input\", \"input_len\"], inplace=True)"
   ]
  },
  {
   "attachments": {},
   "cell_type": "markdown",
   "metadata": {},
   "source": [
    "#### Convert DataFrame to Dataset"
   ]
  },
  {
   "cell_type": "code",
   "execution_count": 6,
   "metadata": {},
   "outputs": [
    {
     "data": {
      "text/plain": [
       "Dataset({\n",
       "    features: ['context', 'question', 'answers', 'id', '__index_level_0__'],\n",
       "    num_rows: 50125\n",
       "})"
      ]
     },
     "execution_count": 6,
     "metadata": {},
     "output_type": "execute_result"
    }
   ],
   "source": [
    "dataset = Dataset.from_pandas(data)\n",
    "\n",
    "dataset"
   ]
  },
  {
   "attachments": {},
   "cell_type": "markdown",
   "metadata": {},
   "source": [
    "#### Split Dataset into Training & Evaluation Datasets"
   ]
  },
  {
   "cell_type": "code",
   "execution_count": 7,
   "metadata": {},
   "outputs": [
    {
     "name": "stdout",
     "output_type": "stream",
     "text": [
      "Training data shape: (40100, 5)\n",
      "Evaluation data shape: (10025, 5)\n",
      "{'context': Value(dtype='string', id=None), 'question': Value(dtype='string', id=None), 'answers': {'answer_start': Sequence(feature=Value(dtype='int64', id=None), length=-1, id=None), 'text': Sequence(feature=Value(dtype='string', id=None), length=-1, id=None)}, 'id': Value(dtype='string', id=None), '__index_level_0__': Value(dtype='int64', id=None)}\n"
     ]
    }
   ],
   "source": [
    "train_testvalid = dataset.train_test_split(test_size=0.20)\n",
    "\n",
    "ds = DatasetDict({\n",
    "    'train' : train_testvalid['train'],\n",
    "    'eval' : train_testvalid['test']\n",
    "})\n",
    "\n",
    "print('Training data shape:', ds['train'].shape)\n",
    "print('Evaluation data shape:', ds['eval'].shape)\n",
    "print(ds['train'].features)"
   ]
  },
  {
   "attachments": {},
   "cell_type": "markdown",
   "metadata": {},
   "source": [
    "#### Basic Values/Constants"
   ]
  },
  {
   "cell_type": "code",
   "execution_count": 8,
   "metadata": {},
   "outputs": [],
   "source": [
    "MODEL_CKPT = \"bert-base-uncased\"\n",
    "MODEL_NAME = MODEL_CKPT.split(\"/\")[-1] + \"-question_and_answer\"\n",
    "\n",
    "MAX_LENGTH = 384\n",
    "DOC_STRIDE = 128\n",
    "\n",
    "DEVICE = torch.device(\"cpu\")\n",
    "\n",
    "BATCH_SIZE = 64\n",
    "set_seed(42)\n",
    "\n",
    "LEARNING_RATE = 2e-5\n",
    "NUM_OF_EPOCH = 3\n",
    "\n",
    "WEIGHT_DECAY = 0.01"
   ]
  },
  {
   "attachments": {},
   "cell_type": "markdown",
   "metadata": {},
   "source": [
    "#### Function to Preprocess Training Dataset"
   ]
  },
  {
   "cell_type": "code",
   "execution_count": 9,
   "metadata": {},
   "outputs": [
    {
     "data": {
      "application/vnd.jupyter.widget-view+json": {
       "model_id": "75e847ed63ae43e4b7eaf4586fcfe7e1",
       "version_major": 2,
       "version_minor": 0
      },
      "text/plain": [
       "Downloading (…)okenizer_config.json:   0%|          | 0.00/28.0 [00:00<?, ?B/s]"
      ]
     },
     "metadata": {},
     "output_type": "display_data"
    },
    {
     "data": {
      "application/vnd.jupyter.widget-view+json": {
       "model_id": "fcfd2c7c6a984acb8e0e572d4060e019",
       "version_major": 2,
       "version_minor": 0
      },
      "text/plain": [
       "Downloading (…)lve/main/config.json:   0%|          | 0.00/570 [00:00<?, ?B/s]"
      ]
     },
     "metadata": {},
     "output_type": "display_data"
    },
    {
     "data": {
      "application/vnd.jupyter.widget-view+json": {
       "model_id": "f76b47f223a648999af2597f5cd90871",
       "version_major": 2,
       "version_minor": 0
      },
      "text/plain": [
       "Downloading (…)solve/main/vocab.txt:   0%|          | 0.00/232k [00:00<?, ?B/s]"
      ]
     },
     "metadata": {},
     "output_type": "display_data"
    },
    {
     "data": {
      "application/vnd.jupyter.widget-view+json": {
       "model_id": "64762d4a336e47e18cfaa1531e36a6da",
       "version_major": 2,
       "version_minor": 0
      },
      "text/plain": [
       "Downloading (…)/main/tokenizer.json:   0%|          | 0.00/466k [00:00<?, ?B/s]"
      ]
     },
     "metadata": {},
     "output_type": "display_data"
    }
   ],
   "source": [
    "tokenizer = AutoTokenizer.from_pretrained(MODEL_CKPT)\n",
    "\n",
    "def preprocess_training_ds(examples):\n",
    "    questions = [q.strip() for q in examples[\"question\"]]\n",
    "    inputs = tokenizer(\n",
    "        questions,\n",
    "        examples['context'],\n",
    "        max_length=MAX_LENGTH,\n",
    "        truncation=\"only_second\",\n",
    "        stride=DOC_STRIDE,\n",
    "        return_overflowing_tokens=True,\n",
    "        return_offsets_mapping=True,\n",
    "        padding=\"max_length\",\n",
    "    )\n",
    "    \n",
    "    offset_mapping = inputs.pop(\"offset_mapping\")\n",
    "    sample_map = inputs.pop(\"overflow_to_sample_mapping\")\n",
    "    answers = examples[\"answers\"]\n",
    "    start_positions = []\n",
    "    end_positions = []\n",
    "\n",
    "    for i, offset in enumerate(offset_mapping):\n",
    "        sample_idx = sample_map[i]\n",
    "        answer = answers[sample_idx]\n",
    "        start_char = answer[\"answer_start\"][0]\n",
    "        end_char = answer[\"answer_start\"][0] + len(answer[\"text\"][0])\n",
    "        sequence_ids = inputs.sequence_ids(i)\n",
    "\n",
    "        # Find the start & end of the context\n",
    "        idx = 0\n",
    "        while sequence_ids[idx] != 1:\n",
    "            idx += 1\n",
    "        context_start = idx\n",
    "        while sequence_ids[idx] == 1:\n",
    "            idx += 1\n",
    "        context_end = idx - 1\n",
    "\n",
    "        # If the answer is not fully inside the context, label is (0, 0)\n",
    "        if offset[context_start][0] > start_char or offset[context_end][1] < end_char:\n",
    "            start_positions.append(0)\n",
    "            end_positions.append(0)\n",
    "        else:\n",
    "            # Else it is the start & end token positions\n",
    "            idx = context_start\n",
    "            while idx <= context_end and offset[idx][0] <= start_char:\n",
    "                idx += 1\n",
    "            start_positions.append(idx - 1)\n",
    "\n",
    "            idx = context_end\n",
    "            while idx >= context_start and offset[idx][1] >= end_char:\n",
    "                idx -= 1\n",
    "            end_positions.append(idx + 1)\n",
    "\n",
    "    inputs[\"start_positions\"] = start_positions\n",
    "    inputs[\"end_positions\"] = end_positions\n",
    "    return inputs"
   ]
  },
  {
   "attachments": {},
   "cell_type": "markdown",
   "metadata": {},
   "source": [
    "#### Apply Training Preprocessing Function to Training Dataset"
   ]
  },
  {
   "cell_type": "code",
   "execution_count": 10,
   "metadata": {},
   "outputs": [
    {
     "data": {
      "application/vnd.jupyter.widget-view+json": {
       "model_id": "819e537699314823a67ccf4175e8eab8",
       "version_major": 2,
       "version_minor": 0
      },
      "text/plain": [
       "  0%|          | 0/41 [00:00<?, ?ba/s]"
      ]
     },
     "metadata": {},
     "output_type": "display_data"
    },
    {
     "data": {
      "text/plain": [
       "(40100, 40554)"
      ]
     },
     "execution_count": 10,
     "metadata": {},
     "output_type": "execute_result"
    }
   ],
   "source": [
    "train_ds = ds[\"train\"].map(\n",
    "    preprocess_training_ds,\n",
    "    batched=True,\n",
    "    remove_columns=ds[\"train\"].column_names,\n",
    ")\n",
    "\n",
    "len(ds[\"train\"]), len(train_ds)"
   ]
  },
  {
   "cell_type": "code",
   "execution_count": 11,
   "metadata": {},
   "outputs": [],
   "source": [
    "def preprocess_validation_ds(examples):\n",
    "    questions = [q.strip() for q in examples[\"question\"]]\n",
    "    inputs = tokenizer(\n",
    "        questions,\n",
    "        examples[\"context\"],\n",
    "        max_length=MAX_LENGTH,\n",
    "        truncation=\"only_second\",\n",
    "        stride=DOC_STRIDE,\n",
    "        return_overflowing_tokens=True,\n",
    "        return_offsets_mapping=True,\n",
    "        padding=\"max_length\",\n",
    "    )\n",
    "\n",
    "    sample_map = inputs.pop(\"overflow_to_sample_mapping\")\n",
    "    example_ids = []\n",
    "\n",
    "    for i in range(len(inputs[\"input_ids\"])):\n",
    "        sample_idx = sample_map[i]\n",
    "        example_ids.append(examples[\"id\"][sample_idx])\n",
    "\n",
    "        sequence_ids = inputs.sequence_ids(i)\n",
    "        offset = inputs[\"offset_mapping\"][i]\n",
    "        inputs[\"offset_mapping\"][i] = [\n",
    "            o if sequence_ids[k] == 1 else None for k, o in enumerate(offset)\n",
    "        ]\n",
    "\n",
    "    inputs[\"example_id\"] = example_ids\n",
    "    return inputs"
   ]
  },
  {
   "attachments": {},
   "cell_type": "markdown",
   "metadata": {},
   "source": [
    "#### Apply Preprocessing Function to Evaluation Dataset"
   ]
  },
  {
   "cell_type": "code",
   "execution_count": 12,
   "metadata": {},
   "outputs": [
    {
     "data": {
      "application/vnd.jupyter.widget-view+json": {
       "model_id": "2b996c4328f1453080ea99c5b435b368",
       "version_major": 2,
       "version_minor": 0
      },
      "text/plain": [
       "  0%|          | 0/11 [00:00<?, ?ba/s]"
      ]
     },
     "metadata": {},
     "output_type": "display_data"
    },
    {
     "data": {
      "text/plain": [
       "(10025, 10113)"
      ]
     },
     "execution_count": 12,
     "metadata": {},
     "output_type": "execute_result"
    }
   ],
   "source": [
    "eval_ds = ds[\"eval\"].map(\n",
    "    preprocess_validation_ds,\n",
    "    batched=True,\n",
    "    remove_columns=ds[\"eval\"].column_names,\n",
    ")\n",
    "len(ds[\"eval\"]), len(eval_ds)"
   ]
  },
  {
   "attachments": {},
   "cell_type": "markdown",
   "metadata": {},
   "source": [
    "#### Create Function to Evaluate Model (Compute Metrics)"
   ]
  },
  {
   "cell_type": "code",
   "execution_count": 13,
   "metadata": {},
   "outputs": [
    {
     "data": {
      "application/vnd.jupyter.widget-view+json": {
       "model_id": "721fb43420964e508d70aba967bb18f0",
       "version_major": 2,
       "version_minor": 0
      },
      "text/plain": [
       "Downloading builder script:   0%|          | 0.00/4.53k [00:00<?, ?B/s]"
      ]
     },
     "metadata": {},
     "output_type": "display_data"
    },
    {
     "data": {
      "application/vnd.jupyter.widget-view+json": {
       "model_id": "7c3be329358f4f1e9eee47704bec876c",
       "version_major": 2,
       "version_minor": 0
      },
      "text/plain": [
       "Downloading extra modules:   0%|          | 0.00/3.32k [00:00<?, ?B/s]"
      ]
     },
     "metadata": {},
     "output_type": "display_data"
    }
   ],
   "source": [
    "metric = evaluate.load(\"squad\")\n",
    "n_best = 20\n",
    "max_answer_length = 30\n",
    "\n",
    "def compute_metrics(start_logits, end_logits, features, examples):\n",
    "    example_to_features = collections.defaultdict(list)\n",
    "    for idx, feature in enumerate(features):\n",
    "        example_to_features[feature[\"example_id\"]].append(idx)\n",
    "\n",
    "    predicted_answers = []\n",
    "    for example in tqdm(examples):\n",
    "        example_id = example[\"id\"]\n",
    "        context = example[\"context\"]\n",
    "        answers = []\n",
    "\n",
    "        # Loop through all features associated with that example\n",
    "        for feature_index in example_to_features[example_id]:\n",
    "            start_logit = start_logits[feature_index]\n",
    "            end_logit = end_logits[feature_index]\n",
    "            offsets = features[feature_index][\"offset_mapping\"]\n",
    "\n",
    "            start_indexes = np.argsort(start_logit)[-1 : -n_best - 1 : -1].tolist()\n",
    "            end_indexes = np.argsort(end_logit)[-1 : -n_best - 1 : -1].tolist()\n",
    "            for start_index in start_indexes:\n",
    "                for end_index in end_indexes:\n",
    "                    # Skip answers that are not fully in the context\n",
    "                    if offsets[start_index] is None or offsets[end_index] is None:\n",
    "                        continue\n",
    "                    # Skip answers with a length that is either < 0 or > max_answer_length\n",
    "                    if (\n",
    "                        end_index < start_index\n",
    "                        or end_index - start_index + 1 > max_answer_length\n",
    "                    ):\n",
    "                        continue\n",
    "\n",
    "                    answer = {\n",
    "                        \"logit_score\": start_logit[start_index] + end_logit[end_index],\n",
    "                        \"text\": context[offsets[start_index][0] : offsets[end_index][1]],\n",
    "                    }\n",
    "                    answers.append(answer)\n",
    "\n",
    "        # Select the answer with the best score\n",
    "        if len(answers) > 0:\n",
    "            best_answer = max(answers, key=lambda x: x[\"logit_score\"])\n",
    "            predicted_answers.append(\n",
    "                {\"id\": example_id, \"prediction_text\": best_answer[\"text\"]}\n",
    "            )\n",
    "        else:\n",
    "            predicted_answers.append({\"id\": example_id, \"prediction_text\": \"\"})\n",
    "\n",
    "    theoretical_answers = [{\"id\": ex[\"id\"], \"answers\": ex[\"answers\"]} for ex in examples]\n",
    "    return metric.compute(predictions=predicted_answers, references=theoretical_answers)"
   ]
  },
  {
   "attachments": {},
   "cell_type": "markdown",
   "metadata": {},
   "source": [
    "#### Instantiate Model"
   ]
  },
  {
   "cell_type": "code",
   "execution_count": 14,
   "metadata": {},
   "outputs": [
    {
     "data": {
      "application/vnd.jupyter.widget-view+json": {
       "model_id": "eb2f7b407fad4f44a0782dd5b7f59d6c",
       "version_major": 2,
       "version_minor": 0
      },
      "text/plain": [
       "Downloading (…)\"pytorch_model.bin\";:   0%|          | 0.00/440M [00:00<?, ?B/s]"
      ]
     },
     "metadata": {},
     "output_type": "display_data"
    },
    {
     "name": "stderr",
     "output_type": "stream",
     "text": [
      "Some weights of the model checkpoint at bert-base-uncased were not used when initializing BertForQuestionAnswering: ['cls.predictions.transform.LayerNorm.weight', 'cls.seq_relationship.bias', 'cls.predictions.bias', 'cls.seq_relationship.weight', 'cls.predictions.transform.LayerNorm.bias', 'cls.predictions.decoder.weight', 'cls.predictions.transform.dense.weight', 'cls.predictions.transform.dense.bias']\n",
      "- This IS expected if you are initializing BertForQuestionAnswering from the checkpoint of a model trained on another task or with another architecture (e.g. initializing a BertForSequenceClassification model from a BertForPreTraining model).\n",
      "- This IS NOT expected if you are initializing BertForQuestionAnswering from the checkpoint of a model that you expect to be exactly identical (initializing a BertForSequenceClassification model from a BertForSequenceClassification model).\n",
      "Some weights of BertForQuestionAnswering were not initialized from the model checkpoint at bert-base-uncased and are newly initialized: ['qa_outputs.bias', 'qa_outputs.weight']\n",
      "You should probably TRAIN this model on a down-stream task to be able to use it for predictions and inference.\n"
     ]
    }
   ],
   "source": [
    "model = AutoModelForQuestionAnswering.from_pretrained(MODEL_CKPT)"
   ]
  },
  {
   "cell_type": "code",
   "execution_count": 15,
   "metadata": {},
   "outputs": [],
   "source": [
    "args = TrainingArguments(\n",
    "    MODEL_NAME,\n",
    "    evaluation_strategy=\"no\",\n",
    "    save_strategy=\"epoch\",\n",
    "    learning_rate=LEARNING_RATE,\n",
    "    num_train_epochs=NUM_OF_EPOCH,\n",
    "    weight_decay=WEIGHT_DECAY,\n",
    "    push_to_hub=True\n",
    ")"
   ]
  },
  {
   "cell_type": "code",
   "execution_count": 16,
   "metadata": {},
   "outputs": [
    {
     "name": "stderr",
     "output_type": "stream",
     "text": [
      "Cloning https://huggingface.co/DunnBC22/bert-base-uncased-question_and_answer into local empty directory.\n"
     ]
    }
   ],
   "source": [
    "trainer = Trainer(\n",
    "    model=model,\n",
    "    args=args,\n",
    "    train_dataset=train_ds,\n",
    "    eval_dataset=eval_ds,\n",
    "    tokenizer=tokenizer,\n",
    ")"
   ]
  },
  {
   "cell_type": "code",
   "execution_count": 17,
   "metadata": {},
   "outputs": [
    {
     "name": "stderr",
     "output_type": "stream",
     "text": [
      "/Users/leedunn/Documents/nlpnn/nlp/lib/python3.9/site-packages/transformers/optimization.py:306: FutureWarning: This implementation of AdamW is deprecated and will be removed in a future version. Use the PyTorch implementation torch.optim.AdamW instead, or set `no_deprecation_warning=True` to disable this warning\n",
      "  warnings.warn(\n",
      "***** Running training *****\n",
      "  Num examples = 40554\n",
      "  Num Epochs = 3\n",
      "  Instantaneous batch size per device = 8\n",
      "  Total train batch size (w. parallel, distributed & accumulation) = 8\n",
      "  Gradient Accumulation steps = 1\n",
      "  Total optimization steps = 15210\n",
      "  Number of trainable parameters = 108893186\n"
     ]
    },
    {
     "data": {
      "application/vnd.jupyter.widget-view+json": {
       "model_id": "c092cd5dcd9348b3b0b03f523c744b70",
       "version_major": 2,
       "version_minor": 0
      },
      "text/plain": [
       "  0%|          | 0/15210 [00:00<?, ?it/s]"
      ]
     },
     "metadata": {},
     "output_type": "display_data"
    },
    {
     "name": "stderr",
     "output_type": "stream",
     "text": [
      "You're using a BertTokenizerFast tokenizer. Please note that with a fast tokenizer, using the `__call__` method is faster than using a method to encode the text followed by a call to the `pad` method to get a padded encoding.\n"
     ]
    },
    {
     "name": "stdout",
     "output_type": "stream",
     "text": [
      "{'loss': 2.9395, 'learning_rate': 1.9342537804076265e-05, 'epoch': 0.1}\n",
      "{'loss': 1.7226, 'learning_rate': 1.8685075608152533e-05, 'epoch': 0.2}\n",
      "{'loss': 1.4624, 'learning_rate': 1.80276134122288e-05, 'epoch': 0.3}\n",
      "{'loss': 1.4056, 'learning_rate': 1.7370151216305063e-05, 'epoch': 0.39}\n",
      "{'loss': 1.3203, 'learning_rate': 1.671268902038133e-05, 'epoch': 0.49}\n",
      "{'loss': 1.2649, 'learning_rate': 1.6055226824457594e-05, 'epoch': 0.59}\n",
      "{'loss': 1.2347, 'learning_rate': 1.539776462853386e-05, 'epoch': 0.69}\n",
      "{'loss': 1.2236, 'learning_rate': 1.4740302432610125e-05, 'epoch': 0.79}\n",
      "{'loss': 1.1746, 'learning_rate': 1.4082840236686392e-05, 'epoch': 0.89}\n",
      "{'loss': 1.2067, 'learning_rate': 1.3425378040762658e-05, 'epoch': 0.99}\n"
     ]
    },
    {
     "name": "stderr",
     "output_type": "stream",
     "text": [
      "Saving model checkpoint to bert-base-uncased-question_and_answer/checkpoint-5070\n",
      "Configuration saved in bert-base-uncased-question_and_answer/checkpoint-5070/config.json\n",
      "Model weights saved in bert-base-uncased-question_and_answer/checkpoint-5070/pytorch_model.bin\n",
      "tokenizer config file saved in bert-base-uncased-question_and_answer/checkpoint-5070/tokenizer_config.json\n",
      "Special tokens file saved in bert-base-uncased-question_and_answer/checkpoint-5070/special_tokens_map.json\n",
      "tokenizer config file saved in bert-base-uncased-question_and_answer/tokenizer_config.json\n",
      "Special tokens file saved in bert-base-uncased-question_and_answer/special_tokens_map.json\n",
      "Adding files tracked by Git LFS: ['.DS_Store']. This may take a bit of time if the files are large.\n"
     ]
    },
    {
     "name": "stdout",
     "output_type": "stream",
     "text": [
      "{'loss': 0.8849, 'learning_rate': 1.2767915844838923e-05, 'epoch': 1.08}\n",
      "{'loss': 0.7939, 'learning_rate': 1.2110453648915189e-05, 'epoch': 1.18}\n",
      "{'loss': 0.8559, 'learning_rate': 1.1452991452991454e-05, 'epoch': 1.28}\n",
      "{'loss': 0.8442, 'learning_rate': 1.0795529257067721e-05, 'epoch': 1.38}\n",
      "{'loss': 0.83, 'learning_rate': 1.0138067061143987e-05, 'epoch': 1.48}\n",
      "{'loss': 0.8227, 'learning_rate': 9.48060486522025e-06, 'epoch': 1.58}\n",
      "{'loss': 0.8064, 'learning_rate': 8.823142669296516e-06, 'epoch': 1.68}\n",
      "{'loss': 0.7891, 'learning_rate': 8.165680473372781e-06, 'epoch': 1.78}\n",
      "{'loss': 0.8144, 'learning_rate': 7.508218277449047e-06, 'epoch': 1.87}\n",
      "{'loss': 0.8424, 'learning_rate': 6.850756081525313e-06, 'epoch': 1.97}\n"
     ]
    },
    {
     "name": "stderr",
     "output_type": "stream",
     "text": [
      "Saving model checkpoint to bert-base-uncased-question_and_answer/checkpoint-10140\n",
      "Configuration saved in bert-base-uncased-question_and_answer/checkpoint-10140/config.json\n",
      "Model weights saved in bert-base-uncased-question_and_answer/checkpoint-10140/pytorch_model.bin\n",
      "tokenizer config file saved in bert-base-uncased-question_and_answer/checkpoint-10140/tokenizer_config.json\n",
      "Special tokens file saved in bert-base-uncased-question_and_answer/checkpoint-10140/special_tokens_map.json\n",
      "tokenizer config file saved in bert-base-uncased-question_and_answer/tokenizer_config.json\n",
      "Special tokens file saved in bert-base-uncased-question_and_answer/special_tokens_map.json\n"
     ]
    },
    {
     "name": "stdout",
     "output_type": "stream",
     "text": [
      "{'loss': 0.6021, 'learning_rate': 6.193293885601579e-06, 'epoch': 2.07}\n",
      "{'loss': 0.5701, 'learning_rate': 5.535831689677844e-06, 'epoch': 2.17}\n",
      "{'loss': 0.5489, 'learning_rate': 4.878369493754109e-06, 'epoch': 2.27}\n",
      "{'loss': 0.5363, 'learning_rate': 4.220907297830375e-06, 'epoch': 2.37}\n",
      "{'loss': 0.5821, 'learning_rate': 3.563445101906641e-06, 'epoch': 2.47}\n",
      "{'loss': 0.5356, 'learning_rate': 2.9059829059829063e-06, 'epoch': 2.56}\n",
      "{'loss': 0.5635, 'learning_rate': 2.2485207100591717e-06, 'epoch': 2.66}\n",
      "{'loss': 0.5553, 'learning_rate': 1.5910585141354374e-06, 'epoch': 2.76}\n",
      "{'loss': 0.5547, 'learning_rate': 9.335963182117029e-07, 'epoch': 2.86}\n",
      "{'loss': 0.5155, 'learning_rate': 2.7613412228796843e-07, 'epoch': 2.96}\n"
     ]
    },
    {
     "name": "stderr",
     "output_type": "stream",
     "text": [
      "Saving model checkpoint to bert-base-uncased-question_and_answer/checkpoint-15210\n",
      "Configuration saved in bert-base-uncased-question_and_answer/checkpoint-15210/config.json\n",
      "Model weights saved in bert-base-uncased-question_and_answer/checkpoint-15210/pytorch_model.bin\n",
      "tokenizer config file saved in bert-base-uncased-question_and_answer/checkpoint-15210/tokenizer_config.json\n",
      "Special tokens file saved in bert-base-uncased-question_and_answer/checkpoint-15210/special_tokens_map.json\n",
      "tokenizer config file saved in bert-base-uncased-question_and_answer/tokenizer_config.json\n",
      "Special tokens file saved in bert-base-uncased-question_and_answer/special_tokens_map.json\n",
      "\n",
      "\n",
      "Training completed. Do not forget to share your model on huggingface.co/models =)\n",
      "\n",
      "\n"
     ]
    },
    {
     "name": "stdout",
     "output_type": "stream",
     "text": [
      "{'train_runtime': 532317.3501, 'train_samples_per_second': 0.229, 'train_steps_per_second': 0.029, 'train_loss': 0.9549857636802217, 'epoch': 3.0}\n"
     ]
    },
    {
     "data": {
      "text/plain": [
       "TrainOutput(global_step=15210, training_loss=0.9549857636802217, metrics={'train_runtime': 532317.3501, 'train_samples_per_second': 0.229, 'train_steps_per_second': 0.029, 'train_loss': 0.9549857636802217, 'epoch': 3.0})"
      ]
     },
     "execution_count": 17,
     "metadata": {},
     "output_type": "execute_result"
    }
   ],
   "source": [
    "trainer.train()"
   ]
  },
  {
   "attachments": {},
   "cell_type": "markdown",
   "metadata": {},
   "source": [
    "#### Compute & Display Metrics"
   ]
  },
  {
   "cell_type": "code",
   "execution_count": 18,
   "metadata": {},
   "outputs": [
    {
     "name": "stderr",
     "output_type": "stream",
     "text": [
      "The following columns in the test set don't have a corresponding argument in `BertForQuestionAnswering.forward` and have been ignored: offset_mapping, example_id. If offset_mapping, example_id are not expected by `BertForQuestionAnswering.forward`,  you can safely ignore this message.\n",
      "***** Running Prediction *****\n",
      "  Num examples = 10113\n",
      "  Batch size = 8\n"
     ]
    },
    {
     "data": {
      "application/vnd.jupyter.widget-view+json": {
       "model_id": "19de7c2b2823407bba85064822be597a",
       "version_major": 2,
       "version_minor": 0
      },
      "text/plain": [
       "  0%|          | 0/1265 [00:00<?, ?it/s]"
      ]
     },
     "metadata": {},
     "output_type": "display_data"
    },
    {
     "data": {
      "application/vnd.jupyter.widget-view+json": {
       "model_id": "ec36ea433433420c8eae87802e691f12",
       "version_major": 2,
       "version_minor": 0
      },
      "text/plain": [
       "  0%|          | 0/10025 [00:00<?, ?it/s]"
      ]
     },
     "metadata": {},
     "output_type": "display_data"
    },
    {
     "data": {
      "text/plain": [
       "{'exact_match': 65.7356608478803, 'f1': 79.28347788592988}"
      ]
     },
     "execution_count": 18,
     "metadata": {},
     "output_type": "execute_result"
    }
   ],
   "source": [
    "predictions, _, _ = trainer.predict(eval_ds)\n",
    "start_logits, end_logits = predictions\n",
    "compute_metrics(start_logits, end_logits, eval_ds, ds[\"eval\"])"
   ]
  },
  {
   "attachments": {},
   "cell_type": "markdown",
   "metadata": {},
   "source": [
    "#### Push Model to Hub"
   ]
  },
  {
   "cell_type": "code",
   "execution_count": 19,
   "metadata": {},
   "outputs": [
    {
     "name": "stderr",
     "output_type": "stream",
     "text": [
      "Saving model checkpoint to bert-base-uncased-question_and_answer\n",
      "Configuration saved in bert-base-uncased-question_and_answer/config.json\n",
      "Model weights saved in bert-base-uncased-question_and_answer/pytorch_model.bin\n",
      "tokenizer config file saved in bert-base-uncased-question_and_answer/tokenizer_config.json\n",
      "Special tokens file saved in bert-base-uncased-question_and_answer/special_tokens_map.json\n"
     ]
    },
    {
     "data": {
      "application/vnd.jupyter.widget-view+json": {
       "model_id": "f125bc92c9ec40fc9efc24b667900096",
       "version_major": 2,
       "version_minor": 0
      },
      "text/plain": [
       "Upload file runs/Feb28_13-10-33_Lees-Air/events.out.tfevents.1677611439.Lees-Air.8335.0: 100%|##########| 8.71…"
      ]
     },
     "metadata": {},
     "output_type": "display_data"
    },
    {
     "name": "stderr",
     "output_type": "stream",
     "text": [
      "remote: Scanning LFS files of refs/heads/main for validity...        \n",
      "remote: LFS file scan complete.        \n",
      "To https://huggingface.co/DunnBC22/bert-base-uncased-question_and_answer\n",
      "   f10f78f..13ce860  main -> main\n",
      "\n",
      "Dropping the following result as it does not have all the necessary fields:\n",
      "{'task': {'name': 'Question Answering', 'type': 'question-answering'}}\n",
      "To https://huggingface.co/DunnBC22/bert-base-uncased-question_and_answer\n",
      "   13ce860..b704d7a  main -> main\n",
      "\n"
     ]
    },
    {
     "data": {
      "text/plain": [
       "'https://huggingface.co/DunnBC22/bert-base-uncased-question_and_answer/commit/13ce860448e69412d6a88c866d7d7d67ad99f311'"
      ]
     },
     "execution_count": 19,
     "metadata": {},
     "output_type": "execute_result"
    }
   ],
   "source": [
    "trainer.push_to_hub(commit_message=\"All DUNN!!!\")"
   ]
  },
  {
   "attachments": {},
   "cell_type": "markdown",
   "metadata": {},
   "source": [
    "### Notes & Other Takeaways\n",
    "****\n",
    "- This model turned out better than I expected.\n",
    "****"
   ]
  },
  {
   "attachments": {},
   "cell_type": "markdown",
   "metadata": {},
   "source": [
    "### Citations\n",
    "- Model Checkpoint\n",
    "    - @article{DBLP:journals/corr/abs-1810-04805,\n",
    "  author    = {Jacob Devlin and\n",
    "               Ming{-}Wei Chang and\n",
    "               Kenton Lee and\n",
    "               Kristina Toutanova},\n",
    "  title     = {{BERT:} Pre-training of Deep Bidirectional Transformers for Language\n",
    "               Understanding},\n",
    "  journal   = {CoRR},\n",
    "  volume    = {abs/1810.04805},\n",
    "  year      = {2018},\n",
    "  url       = {http://arxiv.org/abs/1810.04805},\n",
    "  archivePrefix = {arXiv},\n",
    "  eprint    = {1810.04805},\n",
    "  timestamp = {Tue, 30 Oct 2018 20:39:56 +0100},\n",
    "  biburl    = {https://dblp.org/rec/journals/corr/abs-1810-04805.bib},\n",
    "  bibsource = {dblp computer science bibliography, https://dblp.org}\n",
    "}\n",
    "****\n",
    "- Metric (SQuAD)\n",
    "  - @inproceedings{Rajpurkar2016SQuAD10,\n",
    "title={SQuAD: 100, 000+ Questions for Machine Comprehension of Text},\n",
    "author={Pranav Rajpurkar and Jian Zhang and Konstantin Lopyrev and Percy Liang},\n",
    "booktitle={EMNLP},\n",
    "year={2016}\n",
    "}"
   ]
  }
 ],
 "metadata": {
  "kernelspec": {
   "display_name": "nlp",
   "language": "python",
   "name": "python3"
  },
  "language_info": {
   "codemirror_mode": {
    "name": "ipython",
    "version": 3
   },
   "file_extension": ".py",
   "mimetype": "text/x-python",
   "name": "python",
   "nbconvert_exporter": "python",
   "pygments_lexer": "ipython3",
   "version": "3.9.7"
  },
  "orig_nbformat": 4,
  "vscode": {
   "interpreter": {
    "hash": "41bc52750e0704433c7c40a5c68d8f60e760babe95f2dffc82e8c3790208ff57"
   }
  }
 },
 "nbformat": 4,
 "nbformat_minor": 2
}
