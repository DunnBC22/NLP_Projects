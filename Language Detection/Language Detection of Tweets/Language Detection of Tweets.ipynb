{
 "cells": [
  {
   "attachments": {},
   "cell_type": "markdown",
   "metadata": {},
   "source": [
    "## Language Detection of Tweets\n",
    "\n",
    "Dataset Source: https://www.kaggle.com/datasets/lailaboullous/language-detection-dataset"
   ]
  },
  {
   "attachments": {},
   "cell_type": "markdown",
   "metadata": {},
   "source": [
    "#### Install Missing & Necessary Libraries"
   ]
  },
  {
   "cell_type": "code",
   "execution_count": 1,
   "metadata": {},
   "outputs": [
    {
     "name": "stdout",
     "output_type": "stream",
     "text": [
      "Requirement already satisfied: pip in /Users/briandunn/Documents/nlpnn/nlp_ml/lib/python3.9/site-packages (23.0.1)\n",
      "Note: you may need to restart the kernel to use updated packages.\n",
      "Requirement already satisfied: datasets in /Users/briandunn/Documents/nlpnn/nlp_ml/lib/python3.9/site-packages (2.9.0)\n",
      "Requirement already satisfied: transformers in /Users/briandunn/Documents/nlpnn/nlp_ml/lib/python3.9/site-packages (4.26.1)\n",
      "Requirement already satisfied: evaluate in /Users/briandunn/Documents/nlpnn/nlp_ml/lib/python3.9/site-packages (0.4.0)\n",
      "Requirement already satisfied: ipykernel in /Users/briandunn/Documents/nlpnn/nlp_ml/lib/python3.9/site-packages (6.21.2)\n",
      "Requirement already satisfied: dill<0.3.7 in /Users/briandunn/Documents/nlpnn/nlp_ml/lib/python3.9/site-packages (from datasets) (0.3.5.1)\n",
      "Requirement already satisfied: pyarrow>=6.0.0 in /Users/briandunn/Documents/nlpnn/nlp_ml/lib/python3.9/site-packages (from datasets) (9.0.0)\n",
      "Requirement already satisfied: requests>=2.19.0 in /Users/briandunn/Documents/nlpnn/nlp_ml/lib/python3.9/site-packages (from datasets) (2.28.1)\n",
      "Requirement already satisfied: tqdm>=4.62.1 in /Users/briandunn/Documents/nlpnn/nlp_ml/lib/python3.9/site-packages (from datasets) (4.64.1)\n",
      "Requirement already satisfied: packaging in /Users/briandunn/Documents/nlpnn/nlp_ml/lib/python3.9/site-packages (from datasets) (23.0)\n",
      "Requirement already satisfied: numpy>=1.17 in /Users/briandunn/Documents/nlpnn/nlp_ml/lib/python3.9/site-packages (from datasets) (1.23.3)\n",
      "Requirement already satisfied: fsspec[http]>=2021.11.1 in /Users/briandunn/Documents/nlpnn/nlp_ml/lib/python3.9/site-packages (from datasets) (2022.8.2)\n",
      "Requirement already satisfied: xxhash in /Users/briandunn/Documents/nlpnn/nlp_ml/lib/python3.9/site-packages (from datasets) (3.0.0)\n",
      "Requirement already satisfied: responses<0.19 in /Users/briandunn/Documents/nlpnn/nlp_ml/lib/python3.9/site-packages (from datasets) (0.18.0)\n",
      "Requirement already satisfied: pandas in /Users/briandunn/Documents/nlpnn/nlp_ml/lib/python3.9/site-packages (from datasets) (1.5.0)\n",
      "Requirement already satisfied: aiohttp in /Users/briandunn/Documents/nlpnn/nlp_ml/lib/python3.9/site-packages (from datasets) (3.8.3)\n",
      "Requirement already satisfied: pyyaml>=5.1 in /Users/briandunn/Documents/nlpnn/nlp_ml/lib/python3.9/site-packages (from datasets) (5.1)\n",
      "Requirement already satisfied: huggingface-hub<1.0.0,>=0.2.0 in /Users/briandunn/Documents/nlpnn/nlp_ml/lib/python3.9/site-packages (from datasets) (0.12.0)\n",
      "Requirement already satisfied: multiprocess in /Users/briandunn/Documents/nlpnn/nlp_ml/lib/python3.9/site-packages (from datasets) (0.70.13)\n",
      "Requirement already satisfied: filelock in /Users/briandunn/Documents/nlpnn/nlp_ml/lib/python3.9/site-packages (from transformers) (3.8.0)\n",
      "Requirement already satisfied: tokenizers!=0.11.3,<0.14,>=0.11.1 in /Users/briandunn/Documents/nlpnn/nlp_ml/lib/python3.9/site-packages (from transformers) (0.12.1)\n",
      "Requirement already satisfied: regex!=2019.12.17 in /Users/briandunn/Documents/nlpnn/nlp_ml/lib/python3.9/site-packages (from transformers) (2022.9.13)\n",
      "Requirement already satisfied: tornado>=6.1 in /Users/briandunn/Documents/nlpnn/nlp_ml/lib/python3.9/site-packages (from ipykernel) (6.2)\n",
      "Requirement already satisfied: matplotlib-inline>=0.1 in /Users/briandunn/Documents/nlpnn/nlp_ml/lib/python3.9/site-packages (from ipykernel) (0.1.6)\n",
      "Requirement already satisfied: traitlets>=5.4.0 in /Users/briandunn/Documents/nlpnn/nlp_ml/lib/python3.9/site-packages (from ipykernel) (5.4.0)\n",
      "Requirement already satisfied: jupyter-core!=5.0.*,>=4.12 in /Users/briandunn/Documents/nlpnn/nlp_ml/lib/python3.9/site-packages (from ipykernel) (5.2.0)\n",
      "Requirement already satisfied: comm>=0.1.1 in /Users/briandunn/Documents/nlpnn/nlp_ml/lib/python3.9/site-packages (from ipykernel) (0.1.2)\n",
      "Requirement already satisfied: jupyter-client>=6.1.12 in /Users/briandunn/Documents/nlpnn/nlp_ml/lib/python3.9/site-packages (from ipykernel) (7.3.5)\n",
      "Requirement already satisfied: nest-asyncio in /Users/briandunn/Documents/nlpnn/nlp_ml/lib/python3.9/site-packages (from ipykernel) (1.5.6)\n",
      "Requirement already satisfied: pyzmq>=20 in /Users/briandunn/Documents/nlpnn/nlp_ml/lib/python3.9/site-packages (from ipykernel) (24.0.1)\n",
      "Requirement already satisfied: appnope in /Users/briandunn/Documents/nlpnn/nlp_ml/lib/python3.9/site-packages (from ipykernel) (0.1.3)\n",
      "Requirement already satisfied: debugpy>=1.6.5 in /Users/briandunn/Documents/nlpnn/nlp_ml/lib/python3.9/site-packages (from ipykernel) (1.6.6)\n",
      "Requirement already satisfied: ipython>=7.23.1 in /Users/briandunn/Documents/nlpnn/nlp_ml/lib/python3.9/site-packages (from ipykernel) (8.5.0)\n",
      "Requirement already satisfied: psutil in /Users/briandunn/Documents/nlpnn/nlp_ml/lib/python3.9/site-packages (from ipykernel) (5.9.2)\n",
      "Requirement already satisfied: attrs>=17.3.0 in /Users/briandunn/Documents/nlpnn/nlp_ml/lib/python3.9/site-packages (from aiohttp->datasets) (22.1.0)\n",
      "Requirement already satisfied: aiosignal>=1.1.2 in /Users/briandunn/Documents/nlpnn/nlp_ml/lib/python3.9/site-packages (from aiohttp->datasets) (1.2.0)\n",
      "Requirement already satisfied: yarl<2.0,>=1.0 in /Users/briandunn/Documents/nlpnn/nlp_ml/lib/python3.9/site-packages (from aiohttp->datasets) (1.8.1)\n",
      "Requirement already satisfied: frozenlist>=1.1.1 in /Users/briandunn/Documents/nlpnn/nlp_ml/lib/python3.9/site-packages (from aiohttp->datasets) (1.3.1)\n",
      "Requirement already satisfied: multidict<7.0,>=4.5 in /Users/briandunn/Documents/nlpnn/nlp_ml/lib/python3.9/site-packages (from aiohttp->datasets) (6.0.2)\n",
      "Requirement already satisfied: charset-normalizer<3.0,>=2.0 in /Users/briandunn/Documents/nlpnn/nlp_ml/lib/python3.9/site-packages (from aiohttp->datasets) (2.1.1)\n",
      "Requirement already satisfied: async-timeout<5.0,>=4.0.0a3 in /Users/briandunn/Documents/nlpnn/nlp_ml/lib/python3.9/site-packages (from aiohttp->datasets) (4.0.2)\n",
      "Requirement already satisfied: typing-extensions>=3.7.4.3 in /Users/briandunn/Documents/nlpnn/nlp_ml/lib/python3.9/site-packages (from huggingface-hub<1.0.0,>=0.2.0->datasets) (4.4.0)\n",
      "Requirement already satisfied: backcall in /Users/briandunn/Documents/nlpnn/nlp_ml/lib/python3.9/site-packages (from ipython>=7.23.1->ipykernel) (0.2.0)\n",
      "Requirement already satisfied: pickleshare in /Users/briandunn/Documents/nlpnn/nlp_ml/lib/python3.9/site-packages (from ipython>=7.23.1->ipykernel) (0.7.5)\n",
      "Requirement already satisfied: prompt-toolkit<3.1.0,>3.0.1 in /Users/briandunn/Documents/nlpnn/nlp_ml/lib/python3.9/site-packages (from ipython>=7.23.1->ipykernel) (3.0.31)\n",
      "Requirement already satisfied: pexpect>4.3 in /Users/briandunn/Documents/nlpnn/nlp_ml/lib/python3.9/site-packages (from ipython>=7.23.1->ipykernel) (4.8.0)\n",
      "Requirement already satisfied: stack-data in /Users/briandunn/Documents/nlpnn/nlp_ml/lib/python3.9/site-packages (from ipython>=7.23.1->ipykernel) (0.5.1)\n",
      "Requirement already satisfied: decorator in /Users/briandunn/Documents/nlpnn/nlp_ml/lib/python3.9/site-packages (from ipython>=7.23.1->ipykernel) (4.4.2)\n",
      "Requirement already satisfied: jedi>=0.16 in /Users/briandunn/Documents/nlpnn/nlp_ml/lib/python3.9/site-packages (from ipython>=7.23.1->ipykernel) (0.18.1)\n",
      "Requirement already satisfied: pygments>=2.4.0 in /Users/briandunn/Documents/nlpnn/nlp_ml/lib/python3.9/site-packages (from ipython>=7.23.1->ipykernel) (2.13.0)\n",
      "Requirement already satisfied: entrypoints in /Users/briandunn/Documents/nlpnn/nlp_ml/lib/python3.9/site-packages (from jupyter-client>=6.1.12->ipykernel) (0.4)\n",
      "Requirement already satisfied: python-dateutil>=2.8.2 in /Users/briandunn/Documents/nlpnn/nlp_ml/lib/python3.9/site-packages (from jupyter-client>=6.1.12->ipykernel) (2.8.2)\n",
      "Requirement already satisfied: platformdirs>=2.5 in /Users/briandunn/Documents/nlpnn/nlp_ml/lib/python3.9/site-packages (from jupyter-core!=5.0.*,>=4.12->ipykernel) (3.0.0)\n",
      "Requirement already satisfied: urllib3<1.27,>=1.21.1 in /Users/briandunn/Documents/nlpnn/nlp_ml/lib/python3.9/site-packages (from requests>=2.19.0->datasets) (1.26.12)\n",
      "Requirement already satisfied: idna<4,>=2.5 in /Users/briandunn/Documents/nlpnn/nlp_ml/lib/python3.9/site-packages (from requests>=2.19.0->datasets) (3.4)\n",
      "Requirement already satisfied: certifi>=2017.4.17 in /Users/briandunn/Documents/nlpnn/nlp_ml/lib/python3.9/site-packages (from requests>=2.19.0->datasets) (2022.9.24)\n",
      "Requirement already satisfied: pytz>=2020.1 in /Users/briandunn/Documents/nlpnn/nlp_ml/lib/python3.9/site-packages (from pandas->datasets) (2022.4)\n",
      "Requirement already satisfied: parso<0.9.0,>=0.8.0 in /Users/briandunn/Documents/nlpnn/nlp_ml/lib/python3.9/site-packages (from jedi>=0.16->ipython>=7.23.1->ipykernel) (0.8.3)\n",
      "Requirement already satisfied: ptyprocess>=0.5 in /Users/briandunn/Documents/nlpnn/nlp_ml/lib/python3.9/site-packages (from pexpect>4.3->ipython>=7.23.1->ipykernel) (0.7.0)\n",
      "Requirement already satisfied: wcwidth in /Users/briandunn/Documents/nlpnn/nlp_ml/lib/python3.9/site-packages (from prompt-toolkit<3.1.0,>3.0.1->ipython>=7.23.1->ipykernel) (0.2.5)\n",
      "Requirement already satisfied: six>=1.5 in /Users/briandunn/Documents/nlpnn/nlp_ml/lib/python3.9/site-packages (from python-dateutil>=2.8.2->jupyter-client>=6.1.12->ipykernel) (1.16.0)\n",
      "Requirement already satisfied: executing in /Users/briandunn/Documents/nlpnn/nlp_ml/lib/python3.9/site-packages (from stack-data->ipython>=7.23.1->ipykernel) (1.1.0)\n",
      "Requirement already satisfied: asttokens in /Users/briandunn/Documents/nlpnn/nlp_ml/lib/python3.9/site-packages (from stack-data->ipython>=7.23.1->ipykernel) (2.0.8)\n",
      "Requirement already satisfied: pure-eval in /Users/briandunn/Documents/nlpnn/nlp_ml/lib/python3.9/site-packages (from stack-data->ipython>=7.23.1->ipykernel) (0.2.2)\n",
      "Note: you may need to restart the kernel to use updated packages.\n"
     ]
    }
   ],
   "source": [
    "%pip install --upgrade pip\n",
    "%pip install --upgrade datasets transformers evaluate ipykernel"
   ]
  },
  {
   "attachments": {},
   "cell_type": "markdown",
   "metadata": {},
   "source": [
    "#### Import Necessary Libraries"
   ]
  },
  {
   "cell_type": "code",
   "execution_count": 2,
   "metadata": {},
   "outputs": [
    {
     "name": "stderr",
     "output_type": "stream",
     "text": [
      "NOTE: Redirects are currently not supported in Windows or MacOs.\n"
     ]
    },
    {
     "name": "stdout",
     "output_type": "stream",
     "text": [
      "Git LFS initialized.\n"
     ]
    }
   ],
   "source": [
    "import sys, os\n",
    "os.environ['TOKENIZERS_PARALLELISM']='false'\n",
    "\n",
    "import numpy as np\n",
    "import pandas as pd\n",
    "import matplotlib.pyplot as plt\n",
    "\n",
    "import datasets\n",
    "from datasets import Dataset, DatasetDict\n",
    "\n",
    "import torch\n",
    "\n",
    "import transformers\n",
    "from transformers import AutoModelForSequenceClassification, AutoTokenizer, set_seed\n",
    "from transformers import Trainer, TrainingArguments, DataCollatorWithPadding\n",
    "\n",
    "import evaluate\n",
    "\n",
    "!git lfs install"
   ]
  },
  {
   "attachments": {},
   "cell_type": "markdown",
   "metadata": {},
   "source": [
    "#### Display Versions of Libraries"
   ]
  },
  {
   "cell_type": "code",
   "execution_count": 3,
   "metadata": {},
   "outputs": [
    {
     "name": "stdout",
     "output_type": "stream",
     "text": [
      "        Python: 3.9.12\n",
      "         NumPy: 1.23.3\n",
      "        Pandas: 1.5.0\n",
      "      Datasets: 2.9.0\n",
      "  Transformers: 4.26.1\n",
      "         Torch: 1.12.1\n",
      "      Evaluate: 0.4.0\n"
     ]
    }
   ],
   "source": [
    "print(\"Python:\".rjust(15), sys.version[0:6])\n",
    "print(\"NumPy:\".rjust(15), np.__version__)\n",
    "print(\"Pandas:\".rjust(15), pd.__version__)\n",
    "print(\"Datasets:\".rjust(15), datasets.__version__)\n",
    "print(\"Transformers:\".rjust(15), transformers.__version__)\n",
    "print(\"Torch:\".rjust(15), torch.__version__)\n",
    "print(\"Evaluate:\".rjust(15), evaluate.__version__)"
   ]
  },
  {
   "attachments": {},
   "cell_type": "markdown",
   "metadata": {},
   "source": [
    "#### Load & Start Processing Dataset"
   ]
  },
  {
   "cell_type": "code",
   "execution_count": 4,
   "metadata": {},
   "outputs": [
    {
     "name": "stdout",
     "output_type": "stream",
     "text": [
      "<class 'pandas.core.frame.DataFrame'>\n",
      "RangeIndex: 13153 entries, 0 to 13152\n",
      "Data columns (total 2 columns):\n",
      " #   Column  Non-Null Count  Dtype \n",
      "---  ------  --------------  ----- \n",
      " 0   text    13153 non-null  object\n",
      " 1   labels  13153 non-null  object\n",
      "dtypes: object(2)\n",
      "memory usage: 205.6+ KB\n"
     ]
    }
   ],
   "source": [
    "parent_dir = \"/Users/briandunn/Desktop/nlp_ds/Language Detection w tweets\"\n",
    "\n",
    "df = pd.read_csv(os.path.join(parent_dir, \"language_detection_data_s.csv\"))\n",
    "\n",
    "# Remove leading '\\' characters\n",
    "df[\"Text\"] = df[\"Text\"].str.lstrip(r'\\\\')\n",
    "\n",
    "# Remove '\\n' no matter where they are located\n",
    "df.replace({r\"\\n\": \"\"}, regex=True, inplace=True)\n",
    "\n",
    "# Drop samples with missing values\n",
    "df = df.dropna()\n",
    "\n",
    "# Remove leading & trailing spaces\n",
    "df[\"Text\"] = df[\"Text\"].str.strip()\n",
    "df[\"Language\"] = df[\"Language\"].str.strip()\n",
    "\n",
    "# Change Feature names\n",
    "df.rename(columns={\"Text\": \"text\", \"Language\": \"labels\"}, inplace=True)\n",
    "\n",
    "df.info()"
   ]
  },
  {
   "attachments": {},
   "cell_type": "markdown",
   "metadata": {},
   "source": [
    "#### Visualize: Length Text Length (in Words)"
   ]
  },
  {
   "cell_type": "code",
   "execution_count": 5,
   "metadata": {},
   "outputs": [
    {
     "name": "stdout",
     "output_type": "stream",
     "text": [
      "The maximum length of this dataset is approximately 137 words.\n"
     ]
    },
    {
     "data": {
      "image/png": "[encoded data removed]",
      "text/plain": [
       "<Figure size 1800x800 with 1 Axes>"
      ]
     },
     "metadata": {},
     "output_type": "display_data"
    }
   ],
   "source": [
    "df['Text Length'] = df['text'].str.split().str.len()\n",
    "\n",
    "max_len = df['Text Length'].max()\n",
    "print(f\"The maximum length of this dataset is approximately {max_len} words.\")\n",
    "\n",
    "n = 100\n",
    "df.hist('Text Length', grid=False, figsize=(18,8), range=(0, n), bins=n)\n",
    "plt.suptitle('')\n",
    "plt.title('Histogram of Text Length')\n",
    "plt.ylabel('')\n",
    "plt.xlabel('Words per Sample')\n",
    "plt.show()"
   ]
  },
  {
   "attachments": {},
   "cell_type": "markdown",
   "metadata": {},
   "source": [
    "#### Visualize: Length Text Length (in Words) By Language"
   ]
  },
  {
   "cell_type": "code",
   "execution_count": 6,
   "metadata": {},
   "outputs": [
    {
     "data": {
      "image/png": "[encoded data removed]",
      "text/plain": [
       "<Figure size 1800x800 with 1 Axes>"
      ]
     },
     "metadata": {},
     "output_type": "display_data"
    }
   ],
   "source": [
    "df.boxplot('Text Length', by=\"labels\", grid=False, showfliers=False, color=\"Blue\", figsize=(18, 8))\n",
    "\n",
    "plt.suptitle('')\n",
    "plt.title('Description Length by Output Class')\n",
    "plt.xlabel('')\n",
    "plt.ylabel('Words per Complaint')\n",
    "plt.show()"
   ]
  },
  {
   "attachments": {},
   "cell_type": "markdown",
   "metadata": {},
   "source": [
    "#### Visualize: Number of Samples of Each Language"
   ]
  },
  {
   "cell_type": "code",
   "execution_count": 7,
   "metadata": {},
   "outputs": [
    {
     "data": {
      "image/png": "[encoded data removed]",
      "text/plain": [
       "<Figure size 1800x800 with 1 Axes>"
      ]
     },
     "metadata": {},
     "output_type": "display_data"
    }
   ],
   "source": [
    "df['labels'].value_counts().plot(kind='bar', figsize=(18, 8))\n",
    "\n",
    "plt.suptitle('')\n",
    "plt.title('Number of Samples of Each Output Class', fontsize=30)\n",
    "plt.xlabel('')\n",
    "plt.ylabel('# of Samples', fontsize=16)\n",
    "plt.xticks(rotation='horizontal', fontsize=21)\n",
    "plt.yticks(rotation='horizontal', fontsize=14)\n",
    "plt.show()"
   ]
  },
  {
   "attachments": {},
   "cell_type": "markdown",
   "metadata": {},
   "source": [
    "#### Convert Labels Between String & Integer"
   ]
  },
  {
   "cell_type": "code",
   "execution_count": 8,
   "metadata": {},
   "outputs": [
    {
     "name": "stdout",
     "output_type": "stream",
     "text": [
      "['English', 'French', 'Darija'] \n",
      " 3\n",
      "id2label: {0: 'English', 1: 'French', 2: 'Darija'}\n",
      "label2id: {'English': 0, 'French': 1, 'Darija': 2}\n"
     ]
    }
   ],
   "source": [
    "LABEL_NAMES = list(set(df['labels']))\n",
    "NUM_OF_LABELS = len(LABEL_NAMES)\n",
    "\n",
    "id2label = dict(enumerate(LABEL_NAMES))\n",
    "label2id = {v: k for k,v in id2label.items()}\n",
    "\n",
    "print(LABEL_NAMES, '\\n', NUM_OF_LABELS)\n",
    "print(\"id2label:\", id2label)\n",
    "print(\"label2id:\", label2id)"
   ]
  },
  {
   "attachments": {},
   "cell_type": "markdown",
   "metadata": {},
   "source": [
    "#### Final Preprocessing"
   ]
  },
  {
   "cell_type": "code",
   "execution_count": 9,
   "metadata": {},
   "outputs": [
    {
     "name": "stdout",
     "output_type": "stream",
     "text": [
      "<class 'pandas.core.frame.DataFrame'>\n",
      "Int64Index: 13120 entries, 0 to 13152\n",
      "Data columns (total 2 columns):\n",
      " #   Column  Non-Null Count  Dtype \n",
      "---  ------  --------------  ----- \n",
      " 0   text    13120 non-null  object\n",
      " 1   labels  13120 non-null  int64 \n",
      "dtypes: int64(1), object(1)\n",
      "memory usage: 307.5+ KB\n"
     ]
    }
   ],
   "source": [
    "# Replace String label values with Integer label values\n",
    "df['labels'].replace(label2id, inplace=True)\n",
    "\n",
    "# Remove overly lengthy samples\n",
    "df = df[df[\"Text Length\"] < 91]\n",
    "\n",
    "# Remove unnecessary Feature\n",
    "df.drop(columns=[\"Text Length\"], inplace=True)\n",
    "df.info()"
   ]
  },
  {
   "attachments": {},
   "cell_type": "markdown",
   "metadata": {},
   "source": [
    "#### Convert DataFrame to Dataset & Split into Train/Test/Eval Datasets"
   ]
  },
  {
   "cell_type": "code",
   "execution_count": 10,
   "metadata": {},
   "outputs": [
    {
     "name": "stdout",
     "output_type": "stream",
     "text": [
      "training data shape: (10496, 3)\n",
      "testing data shape: (1312, 3)\n",
      "validation data shape: (1312, 3)\n"
     ]
    }
   ],
   "source": [
    "dataset = Dataset.from_pandas(df)\n",
    "\n",
    "train_testEval = dataset.train_test_split(train_size=0.80)\n",
    "test_eval = train_testEval['test'].train_test_split(train_size=0.50)\n",
    "\n",
    "ds = DatasetDict({\n",
    "    'train' : train_testEval['train'],\n",
    "    'test' : test_eval['train'],\n",
    "    'eval' : test_eval['test']\n",
    "})\n",
    "\n",
    "print('training data shape:', ds['train'].shape)\n",
    "print('testing data shape:', ds['test'].shape)\n",
    "print('validation data shape:', ds['eval'].shape)"
   ]
  },
  {
   "attachments": {},
   "cell_type": "markdown",
   "metadata": {},
   "source": [
    "#### Basic Values/Constants"
   ]
  },
  {
   "cell_type": "code",
   "execution_count": 11,
   "metadata": {},
   "outputs": [],
   "source": [
    "MODEL_CKPT = \"distilbert-base-multilingual-cased\"\n",
    "              \n",
    "MODEL_NAME = MODEL_CKPT.split(\"/\")[-1] + \"-language_detection_tweets\"\n",
    "\n",
    "DEVICE = torch.device(\"cpu\")\n",
    "MAX_INPUT_LENGTH = int(90*1.30)\n",
    "\n",
    "LEARNING_RATE = 2e-5\n",
    "set_seed(42)\n",
    "\n",
    "BATCH_SIZE = 64\n",
    "NUM_OF_EPOCHS = 3\n",
    "\n",
    "METRIC_NAME = \"f1\"\n",
    "WEIGHT_DECAY = 0.01\n",
    "\n",
    "REPORTS_TO = \"tensorboard\"\n",
    "STRATEGY = \"epoch\""
   ]
  },
  {
   "attachments": {},
   "cell_type": "markdown",
   "metadata": {},
   "source": [
    "#### Tokenize Entire Dataset"
   ]
  },
  {
   "cell_type": "code",
   "execution_count": 12,
   "metadata": {},
   "outputs": [
    {
     "data": {
      "application/vnd.jupyter.widget-view+json": {
       "model_id": "237b66821be64743a1e21ed174298ae9",
       "version_major": 2,
       "version_minor": 0
      },
      "text/plain": [
       "A Jupyter Widget"
      ]
     },
     "metadata": {},
     "output_type": "display_data"
    },
    {
     "data": {
      "application/vnd.jupyter.widget-view+json": {
       "model_id": "f85220f1b23545ce961f687762c9ecda",
       "version_major": 2,
       "version_minor": 0
      },
      "text/plain": [
       "A Jupyter Widget"
      ]
     },
     "metadata": {},
     "output_type": "display_data"
    },
    {
     "data": {
      "application/vnd.jupyter.widget-view+json": {
       "model_id": "ed30ee3982e24153826e4df9ef6fc672",
       "version_major": 2,
       "version_minor": 0
      },
      "text/plain": [
       "A Jupyter Widget"
      ]
     },
     "metadata": {},
     "output_type": "display_data"
    },
    {
     "name": "stdout",
     "output_type": "stream",
     "text": [
      "training data shape: (10496, 5)\n",
      "testing data shape: (1312, 5)\n",
      "validation data shape: (1312, 5)\n",
      "{'text': 'eeerrrii@peeriiwi·3 juin 2021En réponse à @FIANSO192 @S_oufyan  et  @H8MarwaHhhhhhhhhhhhhhhhhh 3ad ylh kan kaygul toto wa3r db aygul toto kdb 3liya wdali rz9i hhhhhhhhh12', 'labels': 2, '__index_level_0__': 10415, 'input_ids': [101, 46179, 10165, 24874, 10116, 137, 56921, 11477, 15926, 217, 124, 13430, 67267, 11259, 10115, 73337, 254, 137, 44168, 69196, 11403, 54055, 10729, 137, 156, 168, 10431, 24203, 10206, 10131, 137, 145, 11396, 11517, 10354, 11037, 12396, 10237, 10237, 10237, 10237, 10237, 10237, 10237, 10237, 10237, 10237, 10237, 10237, 10237, 10237, 10237, 10237, 10237, 62992, 10162, 193, 10161, 10237, 10905, 19314, 45837, 47834, 11471, 10884, 10129, 49625, 11538, 45837, 47834, 179, 10162, 10457, 124, 83090, 191, 52662, 186, 10305, 11373, 10116, 176, 10237, 10237, 10237, 10237, 10237, 10237, 10237, 10237, 24747, 102, 0, 0, 0, 0, 0, 0, 0, 0, 0, 0, 0, 0, 0, 0, 0, 0, 0, 0, 0, 0, 0, 0, 0, 0, 0], 'attention_mask': [1, 1, 1, 1, 1, 1, 1, 1, 1, 1, 1, 1, 1, 1, 1, 1, 1, 1, 1, 1, 1, 1, 1, 1, 1, 1, 1, 1, 1, 1, 1, 1, 1, 1, 1, 1, 1, 1, 1, 1, 1, 1, 1, 1, 1, 1, 1, 1, 1, 1, 1, 1, 1, 1, 1, 1, 1, 1, 1, 1, 1, 1, 1, 1, 1, 1, 1, 1, 1, 1, 1, 1, 1, 1, 1, 1, 1, 1, 1, 1, 1, 1, 1, 1, 1, 1, 1, 1, 1, 1, 1, 1, 0, 0, 0, 0, 0, 0, 0, 0, 0, 0, 0, 0, 0, 0, 0, 0, 0, 0, 0, 0, 0, 0, 0, 0, 0]}\n"
     ]
    }
   ],
   "source": [
    "# Define the Tokenizer\n",
    "tokenizer = AutoTokenizer.from_pretrained(MODEL_CKPT)\n",
    "\n",
    "# Method to Tokenize each Sample in the Dataset\n",
    "def tokenize(batch):\n",
    "    return tokenizer(batch['text'], truncation=True, padding=True, max_length=MAX_INPUT_LENGTH)\n",
    "\n",
    "# Map the 'Tokenize' Method to All Samples in the Entire Dataset\n",
    "encoded_data = ds.map(tokenize, batched=True, batch_size=None)\n",
    "encoded_data = encoded_data\n",
    "\n",
    "print('training data shape:', encoded_data['train'].shape)\n",
    "print('testing data shape:', encoded_data['test'].shape)\n",
    "print('validation data shape:', encoded_data['eval'].shape)\n",
    "print(encoded_data['train'][24])"
   ]
  },
  {
   "attachments": {},
   "cell_type": "markdown",
   "metadata": {},
   "source": [
    "#### Instantiate Model"
   ]
  },
  {
   "cell_type": "code",
   "execution_count": 13,
   "metadata": {},
   "outputs": [
    {
     "name": "stderr",
     "output_type": "stream",
     "text": [
      "Some weights of the model checkpoint at distilbert-base-multilingual-cased were not used when initializing DistilBertForSequenceClassification: ['vocab_projector.weight', 'vocab_projector.bias', 'vocab_transform.bias', 'vocab_layer_norm.weight', 'vocab_transform.weight', 'vocab_layer_norm.bias']\n",
      "- This IS expected if you are initializing DistilBertForSequenceClassification from the checkpoint of a model trained on another task or with another architecture (e.g. initializing a BertForSequenceClassification model from a BertForPreTraining model).\n",
      "- This IS NOT expected if you are initializing DistilBertForSequenceClassification from the checkpoint of a model that you expect to be exactly identical (initializing a BertForSequenceClassification model from a BertForSequenceClassification model).\n",
      "Some weights of DistilBertForSequenceClassification were not initialized from the model checkpoint at distilbert-base-multilingual-cased and are newly initialized: ['pre_classifier.weight', 'classifier.bias', 'classifier.weight', 'pre_classifier.bias']\n",
      "You should probably TRAIN this model on a down-stream task to be able to use it for predictions and inference.\n"
     ]
    }
   ],
   "source": [
    "model = AutoModelForSequenceClassification.from_pretrained(MODEL_CKPT, \n",
    "                                                           num_labels=NUM_OF_LABELS,\n",
    "                                                           id2label=id2label,\n",
    "                                                           label2id=label2id\n",
    "                                                           ).to(DEVICE)"
   ]
  },
  {
   "attachments": {},
   "cell_type": "markdown",
   "metadata": {},
   "source": [
    "#### Define Function to Compute Metrics"
   ]
  },
  {
   "cell_type": "code",
   "execution_count": 14,
   "metadata": {},
   "outputs": [],
   "source": [
    "def compute_metrics(p):\n",
    "    ### ------------------- Accuracy -------------------\n",
    "    \n",
    "    accuracy_metric = evaluate.load(\"accuracy\")\n",
    "    accuracy = accuracy_metric.compute(predictions=np.argmax(p.predictions, axis=1), references=p.label_ids)['accuracy']\n",
    "    \n",
    "    ### ------------------- F1 scores -------------------\n",
    "    \n",
    "    f1_score_metric = evaluate.load(\"f1\")\n",
    "    weighted_f1_score = f1_score_metric.compute(predictions=np.argmax(p.predictions, axis=1), references=p.label_ids, average='weighted')[\"f1\"]\n",
    "    micro_f1_score = f1_score_metric.compute(predictions=np.argmax(p.predictions, axis=1), references=p.label_ids, average='micro')['f1']\n",
    "    macro_f1_score = f1_score_metric.compute(predictions=np.argmax(p.predictions, axis=1), references=p.label_ids, average='macro')[\"f1\"]\n",
    "    \n",
    "    ### ------------------- recall -------------------\n",
    "    \n",
    "    recall_metric = evaluate.load(\"recall\")\n",
    "    weighted_recall = recall_metric.compute(predictions=np.argmax(p.predictions, axis=1), references=p.label_ids, average='weighted')[\"recall\"]\n",
    "    micro_recall = recall_metric.compute(predictions=np.argmax(p.predictions, axis=1), references=p.label_ids, average='micro')[\"recall\"]\n",
    "    macro_recall = recall_metric.compute(predictions=np.argmax(p.predictions, axis=1), references=p.label_ids, average='macro')[\"recall\"]\n",
    "    \n",
    "    ### ------------------- precision -------------------\n",
    "    \n",
    "    precision_metric = evaluate.load(\"precision\")\n",
    "    weighted_precision = precision_metric.compute(predictions=np.argmax(p.predictions, axis=1), references=p.label_ids, average='weighted')[\"precision\"]\n",
    "    micro_precision = precision_metric.compute(predictions=np.argmax(p.predictions, axis=1), references=p.label_ids, average='micro')[\"precision\"]\n",
    "    macro_precision = precision_metric.compute(predictions=np.argmax(p.predictions, axis=1), references=p.label_ids, average='macro')[\"precision\"]\n",
    "    \n",
    "    return {\"accuracy\" : accuracy, \n",
    "            \"Weighted F1\" : weighted_f1_score,\n",
    "            \"Micro F1\" : micro_f1_score,\n",
    "            \"Macro F1\" : macro_f1_score,\n",
    "            \"Weighted Recall\" : weighted_recall,\n",
    "            \"Micro Recall\" : micro_recall,\n",
    "            \"Macro Recall\" : macro_recall,\n",
    "            \"Weighted Precision\" : weighted_precision,\n",
    "            \"Micro Precision\" : micro_precision,\n",
    "            \"Macro Precision\" : macro_precision\n",
    "            }"
   ]
  },
  {
   "attachments": {},
   "cell_type": "markdown",
   "metadata": {},
   "source": [
    "#### Define TrainingArguments"
   ]
  },
  {
   "cell_type": "code",
   "execution_count": 15,
   "metadata": {},
   "outputs": [],
   "source": [
    "args = TrainingArguments(\n",
    "    output_dir=MODEL_NAME,\n",
    "    num_train_epochs=NUM_OF_EPOCHS,\n",
    "    per_device_train_batch_size=BATCH_SIZE,\n",
    "    per_device_eval_batch_size=BATCH_SIZE,\n",
    "    learning_rate=LEARNING_RATE,\n",
    "    weight_decay=WEIGHT_DECAY,\n",
    "    evaluation_strategy=STRATEGY,\n",
    "    save_strategy=STRATEGY,\n",
    "    logging_strategy=STRATEGY,\n",
    "    logging_first_step=True,\n",
    "    disable_tqdm=False,\n",
    "    report_to=REPORTS_TO,\n",
    "    load_best_model_at_end=True,\n",
    "    metric_for_best_model=\"eval_accuracy\",\n",
    "    hub_private_repo=True,\n",
    "    push_to_hub=True\n",
    ")"
   ]
  },
  {
   "attachments": {},
   "cell_type": "markdown",
   "metadata": {},
   "source": [
    "#### Instantiate Data Collator"
   ]
  },
  {
   "cell_type": "code",
   "execution_count": 16,
   "metadata": {},
   "outputs": [],
   "source": [
    "data_collator = DataCollatorWithPadding(tokenizer, padding=True)"
   ]
  },
  {
   "attachments": {},
   "cell_type": "markdown",
   "metadata": {},
   "source": [
    "#### Instantiate Trainer"
   ]
  },
  {
   "cell_type": "code",
   "execution_count": 17,
   "metadata": {},
   "outputs": [
    {
     "name": "stderr",
     "output_type": "stream",
     "text": [
      "Cloning https://huggingface.co/DunnBC22/distilbert-base-multilingual-cased-language_detection_tweets into local empty directory.\n"
     ]
    }
   ],
   "source": [
    "trainer = Trainer(\n",
    "    model=model,\n",
    "    args=args,\n",
    "    train_dataset=encoded_data[\"train\"],\n",
    "    eval_dataset=encoded_data[\"eval\"],\n",
    "    compute_metrics=compute_metrics,\n",
    "    tokenizer=tokenizer,\n",
    "    data_collator=data_collator,\n",
    ")"
   ]
  },
  {
   "attachments": {},
   "cell_type": "markdown",
   "metadata": {},
   "source": [
    "#### Train Model"
   ]
  },
  {
   "cell_type": "code",
   "execution_count": 18,
   "metadata": {},
   "outputs": [
    {
     "name": "stderr",
     "output_type": "stream",
     "text": [
      "The following columns in the training set don't have a corresponding argument in `DistilBertForSequenceClassification.forward` and have been ignored: __index_level_0__, text. If __index_level_0__, text are not expected by `DistilBertForSequenceClassification.forward`,  you can safely ignore this message.\n",
      "/Users/briandunn/Documents/nlpnn/nlp_ml/lib/python3.9/site-packages/transformers/optimization.py:306: FutureWarning: This implementation of AdamW is deprecated and will be removed in a future version. Use the PyTorch implementation torch.optim.AdamW instead, or set `no_deprecation_warning=True` to disable this warning\n",
      "  warnings.warn(\n",
      "***** Running training *****\n",
      "  Num examples = 10496\n",
      "  Num Epochs = 3\n",
      "  Instantaneous batch size per device = 64\n",
      "  Total train batch size (w. parallel, distributed & accumulation) = 64\n",
      "  Gradient Accumulation steps = 1\n",
      "  Total optimization steps = 492\n",
      "  Number of trainable parameters = 135326979\n"
     ]
    },
    {
     "data": {
      "application/vnd.jupyter.widget-view+json": {
       "model_id": "9a53fb8f911d4747bd495cedb3be4973",
       "version_major": 2,
       "version_minor": 0
      },
      "text/plain": [
       "A Jupyter Widget"
      ]
     },
     "metadata": {},
     "output_type": "display_data"
    },
    {
     "name": "stderr",
     "output_type": "stream",
     "text": [
      "You're using a DistilBertTokenizerFast tokenizer. Please note that with a fast tokenizer, using the `__call__` method is faster than using a method to encode the text followed by a call to the `pad` method to get a padded encoding.\n"
     ]
    },
    {
     "name": "stdout",
     "output_type": "stream",
     "text": [
      "{'loss': 1.1068, 'learning_rate': 1.9959349593495936e-05, 'epoch': 0.01}\n"
     ]
    },
    {
     "name": "stderr",
     "output_type": "stream",
     "text": [
      "The following columns in the evaluation set don't have a corresponding argument in `DistilBertForSequenceClassification.forward` and have been ignored: __index_level_0__, text. If __index_level_0__, text are not expected by `DistilBertForSequenceClassification.forward`,  you can safely ignore this message.\n",
      "***** Running Evaluation *****\n",
      "  Num examples = 1312\n",
      "  Batch size = 64\n"
     ]
    },
    {
     "name": "stdout",
     "output_type": "stream",
     "text": [
      "{'loss': 0.1713, 'learning_rate': 1.3333333333333333e-05, 'epoch': 1.0}\n"
     ]
    },
    {
     "data": {
      "application/vnd.jupyter.widget-view+json": {
       "model_id": "c610b7eb497d46d5b0fb2e03a2a26631",
       "version_major": 2,
       "version_minor": 0
      },
      "text/plain": [
       "A Jupyter Widget"
      ]
     },
     "metadata": {},
     "output_type": "display_data"
    },
    {
     "name": "stderr",
     "output_type": "stream",
     "text": [
      "Saving model checkpoint to distilbert-base-multilingual-cased-language_detection_tweets/checkpoint-164\n",
      "Configuration saved in distilbert-base-multilingual-cased-language_detection_tweets/checkpoint-164/config.json\n"
     ]
    },
    {
     "name": "stdout",
     "output_type": "stream",
     "text": [
      "{'eval_loss': 0.016172362491488457, 'eval_accuracy': 0.9954268292682927, 'eval_Weighted F1': 0.9954252874788136, 'eval_Micro F1': 0.9954268292682927, 'eval_Macro F1': 0.9954394081740646, 'eval_Weighted Recall': 0.9954268292682927, 'eval_Micro Recall': 0.9954268292682927, 'eval_Macro Recall': 0.9954854378671721, 'eval_Weighted Precision': 0.9954357683361456, 'eval_Micro Precision': 0.9954268292682927, 'eval_Macro Precision': 0.9954052585025631, 'eval_runtime': 364.9095, 'eval_samples_per_second': 3.595, 'eval_steps_per_second': 0.058, 'epoch': 1.0}\n"
     ]
    },
    {
     "name": "stderr",
     "output_type": "stream",
     "text": [
      "Model weights saved in distilbert-base-multilingual-cased-language_detection_tweets/checkpoint-164/pytorch_model.bin\n",
      "tokenizer config file saved in distilbert-base-multilingual-cased-language_detection_tweets/checkpoint-164/tokenizer_config.json\n",
      "Special tokens file saved in distilbert-base-multilingual-cased-language_detection_tweets/checkpoint-164/special_tokens_map.json\n",
      "tokenizer config file saved in distilbert-base-multilingual-cased-language_detection_tweets/tokenizer_config.json\n",
      "Special tokens file saved in distilbert-base-multilingual-cased-language_detection_tweets/special_tokens_map.json\n",
      "The following columns in the evaluation set don't have a corresponding argument in `DistilBertForSequenceClassification.forward` and have been ignored: __index_level_0__, text. If __index_level_0__, text are not expected by `DistilBertForSequenceClassification.forward`,  you can safely ignore this message.\n",
      "***** Running Evaluation *****\n",
      "  Num examples = 1312\n",
      "  Batch size = 64\n"
     ]
    },
    {
     "name": "stdout",
     "output_type": "stream",
     "text": [
      "{'loss': 0.0088, 'learning_rate': 6.666666666666667e-06, 'epoch': 2.0}\n"
     ]
    },
    {
     "data": {
      "application/vnd.jupyter.widget-view+json": {
       "model_id": "43dfefcb7cbd4e1b995e95e9b8cc988c",
       "version_major": 2,
       "version_minor": 0
      },
      "text/plain": [
       "A Jupyter Widget"
      ]
     },
     "metadata": {},
     "output_type": "display_data"
    },
    {
     "name": "stderr",
     "output_type": "stream",
     "text": [
      "Saving model checkpoint to distilbert-base-multilingual-cased-language_detection_tweets/checkpoint-328\n",
      "Configuration saved in distilbert-base-multilingual-cased-language_detection_tweets/checkpoint-328/config.json\n"
     ]
    },
    {
     "name": "stdout",
     "output_type": "stream",
     "text": [
      "{'eval_loss': 0.012257151305675507, 'eval_accuracy': 0.9977134146341463, 'eval_Weighted F1': 0.9977134023532217, 'eval_Micro F1': 0.9977134146341463, 'eval_Macro F1': 0.997712592763425, 'eval_Weighted Recall': 0.9977134146341463, 'eval_Micro Recall': 0.9977134146341463, 'eval_Macro Recall': 0.997710819092699, 'eval_Weighted Precision': 0.99772043947398, 'eval_Micro Precision': 0.9977134146341463, 'eval_Macro Precision': 0.9977215111923066, 'eval_runtime': 366.0269, 'eval_samples_per_second': 3.584, 'eval_steps_per_second': 0.057, 'epoch': 2.0}\n"
     ]
    },
    {
     "name": "stderr",
     "output_type": "stream",
     "text": [
      "Model weights saved in distilbert-base-multilingual-cased-language_detection_tweets/checkpoint-328/pytorch_model.bin\n",
      "tokenizer config file saved in distilbert-base-multilingual-cased-language_detection_tweets/checkpoint-328/tokenizer_config.json\n",
      "Special tokens file saved in distilbert-base-multilingual-cased-language_detection_tweets/checkpoint-328/special_tokens_map.json\n",
      "tokenizer config file saved in distilbert-base-multilingual-cased-language_detection_tweets/tokenizer_config.json\n",
      "Special tokens file saved in distilbert-base-multilingual-cased-language_detection_tweets/special_tokens_map.json\n",
      "The following columns in the evaluation set don't have a corresponding argument in `DistilBertForSequenceClassification.forward` and have been ignored: __index_level_0__, text. If __index_level_0__, text are not expected by `DistilBertForSequenceClassification.forward`,  you can safely ignore this message.\n",
      "***** Running Evaluation *****\n",
      "  Num examples = 1312\n",
      "  Batch size = 64\n"
     ]
    },
    {
     "name": "stdout",
     "output_type": "stream",
     "text": [
      "{'loss': 0.0025, 'learning_rate': 0.0, 'epoch': 3.0}\n"
     ]
    },
    {
     "data": {
      "application/vnd.jupyter.widget-view+json": {
       "model_id": "0019ec2973574eeba8ea2df1b58a0a38",
       "version_major": 2,
       "version_minor": 0
      },
      "text/plain": [
       "A Jupyter Widget"
      ]
     },
     "metadata": {},
     "output_type": "display_data"
    },
    {
     "name": "stderr",
     "output_type": "stream",
     "text": [
      "Saving model checkpoint to distilbert-base-multilingual-cased-language_detection_tweets/checkpoint-492\n",
      "Configuration saved in distilbert-base-multilingual-cased-language_detection_tweets/checkpoint-492/config.json\n"
     ]
    },
    {
     "name": "stdout",
     "output_type": "stream",
     "text": [
      "{'eval_loss': 0.005155991297215223, 'eval_accuracy': 0.9992378048780488, 'eval_Weighted F1': 0.9992378028312418, 'eval_Micro F1': 0.9992378048780488, 'eval_Macro F1': 0.9992274968166693, 'eval_Weighted Recall': 0.9992378048780488, 'eval_Micro Recall': 0.9992378048780488, 'eval_Macro Recall': 0.9992266047950503, 'eval_Weighted Precision': 0.9992395651439193, 'eval_Micro Precision': 0.9992378048780488, 'eval_Macro Precision': 0.9992301770592764, 'eval_runtime': 347.452, 'eval_samples_per_second': 3.776, 'eval_steps_per_second': 0.06, 'epoch': 3.0}\n"
     ]
    },
    {
     "name": "stderr",
     "output_type": "stream",
     "text": [
      "Model weights saved in distilbert-base-multilingual-cased-language_detection_tweets/checkpoint-492/pytorch_model.bin\n",
      "tokenizer config file saved in distilbert-base-multilingual-cased-language_detection_tweets/checkpoint-492/tokenizer_config.json\n",
      "Special tokens file saved in distilbert-base-multilingual-cased-language_detection_tweets/checkpoint-492/special_tokens_map.json\n",
      "tokenizer config file saved in distilbert-base-multilingual-cased-language_detection_tweets/tokenizer_config.json\n",
      "Special tokens file saved in distilbert-base-multilingual-cased-language_detection_tweets/special_tokens_map.json\n",
      "\n",
      "\n",
      "Training completed. Do not forget to share your model on huggingface.co/models =)\n",
      "\n",
      "\n",
      "Loading best model from distilbert-base-multilingual-cased-language_detection_tweets/checkpoint-492 (score: 0.9992378048780488).\n"
     ]
    },
    {
     "name": "stdout",
     "output_type": "stream",
     "text": [
      "{'train_runtime': 27205.3343, 'train_samples_per_second': 1.157, 'train_steps_per_second': 0.018, 'train_loss': 0.06276771093044824, 'epoch': 3.0}\n"
     ]
    }
   ],
   "source": [
    "train_results = trainer.train()"
   ]
  },
  {
   "attachments": {},
   "cell_type": "markdown",
   "metadata": {},
   "source": [
    "#### Evaluate Model"
   ]
  },
  {
   "cell_type": "code",
   "execution_count": 19,
   "metadata": {},
   "outputs": [
    {
     "name": "stderr",
     "output_type": "stream",
     "text": [
      "The following columns in the evaluation set don't have a corresponding argument in `DistilBertForSequenceClassification.forward` and have been ignored: __index_level_0__, text. If __index_level_0__, text are not expected by `DistilBertForSequenceClassification.forward`,  you can safely ignore this message.\n",
      "***** Running Evaluation *****\n",
      "  Num examples = 1312\n",
      "  Batch size = 64\n"
     ]
    },
    {
     "data": {
      "application/vnd.jupyter.widget-view+json": {
       "model_id": "5117605eecc74f21a6009720a96f6c18",
       "version_major": 2,
       "version_minor": 0
      },
      "text/plain": [
       "A Jupyter Widget"
      ]
     },
     "metadata": {},
     "output_type": "display_data"
    },
    {
     "name": "stdout",
     "output_type": "stream",
     "text": [
      "{'eval_loss': 0.005155991297215223, 'eval_accuracy': 0.9992378048780488, 'eval_Weighted F1': 0.9992378028312418, 'eval_Micro F1': 0.9992378048780488, 'eval_Macro F1': 0.9992274968166693, 'eval_Weighted Recall': 0.9992378048780488, 'eval_Micro Recall': 0.9992378048780488, 'eval_Macro Recall': 0.9992266047950503, 'eval_Weighted Precision': 0.9992395651439193, 'eval_Micro Precision': 0.9992378048780488, 'eval_Macro Precision': 0.9992301770592764, 'eval_runtime': 358.1049, 'eval_samples_per_second': 3.664, 'eval_steps_per_second': 0.059, 'epoch': 3.0}\n"
     ]
    }
   ],
   "source": [
    "output_metrics = trainer.evaluate()\n",
    "\n",
    "print(output_metrics)"
   ]
  },
  {
   "attachments": {},
   "cell_type": "markdown",
   "metadata": {},
   "source": [
    "#### Push Fine-Tuned Model to HuggingFace Hub (My Profile!!!)"
   ]
  },
  {
   "cell_type": "code",
   "execution_count": 20,
   "metadata": {},
   "outputs": [
    {
     "name": "stderr",
     "output_type": "stream",
     "text": [
      "Saving model checkpoint to distilbert-base-multilingual-cased-language_detection_tweets\n",
      "Configuration saved in distilbert-base-multilingual-cased-language_detection_tweets/config.json\n",
      "Model weights saved in distilbert-base-multilingual-cased-language_detection_tweets/pytorch_model.bin\n",
      "tokenizer config file saved in distilbert-base-multilingual-cased-language_detection_tweets/tokenizer_config.json\n",
      "Special tokens file saved in distilbert-base-multilingual-cased-language_detection_tweets/special_tokens_map.json\n",
      "Several commits (2) will be pushed upstream.\n",
      "The progress bars may be unreliable.\n"
     ]
    },
    {
     "data": {
      "application/vnd.jupyter.widget-view+json": {
       "model_id": "e87554e7a6aa4e009c34844f5c5e1d46",
       "version_major": 2,
       "version_minor": 0
      },
      "text/plain": [
       "A Jupyter Widget"
      ]
     },
     "metadata": {},
     "output_type": "display_data"
    },
    {
     "data": {
      "application/vnd.jupyter.widget-view+json": {
       "model_id": "233266579e014ea1b6452ebd1b8ac955",
       "version_major": 2,
       "version_minor": 0
      },
      "text/plain": [
       "A Jupyter Widget"
      ]
     },
     "metadata": {},
     "output_type": "display_data"
    },
    {
     "data": {
      "application/vnd.jupyter.widget-view+json": {
       "model_id": "19a67495b08e402a8b602acf9dde693f",
       "version_major": 2,
       "version_minor": 0
      },
      "text/plain": [
       "A Jupyter Widget"
      ]
     },
     "metadata": {},
     "output_type": "display_data"
    },
    {
     "name": "stderr",
     "output_type": "stream",
     "text": [
      "remote: Scanning LFS files for validity...        \n",
      "remote: LFS file scan complete.        \n",
      "To https://huggingface.co/DunnBC22/distilbert-base-multilingual-cased-language_detection_tweets\n",
      "   9224e96..24eb714  main -> main\n",
      "\n",
      "Dropping the following result as it does not have all the necessary fields:\n",
      "{'task': {'name': 'Text Classification', 'type': 'text-classification'}, 'metrics': [{'name': 'Accuracy', 'type': 'accuracy', 'value': 0.9992378048780488}]}\n",
      "To https://huggingface.co/DunnBC22/distilbert-base-multilingual-cased-language_detection_tweets\n",
      "   24eb714..2cac5ed  main -> main\n",
      "\n"
     ]
    },
    {
     "data": {
      "text/plain": [
       "'https://huggingface.co/DunnBC22/distilbert-base-multilingual-cased-language_detection_tweets/commit/24eb7142eb8079ef8891dcccc62d3400b3665843'"
      ]
     },
     "execution_count": 20,
     "metadata": {},
     "output_type": "execute_result"
    }
   ],
   "source": [
    "trainer.push_to_hub(commit_message=\"All Dunn!!!\")"
   ]
  },
  {
   "attachments": {},
   "cell_type": "markdown",
   "metadata": {},
   "source": [
    "### Notes & Other Takeaways From This Projects\n",
    "****\n",
    "- Wow! Only one wrong answer out of 1312 samples for the evaluation dataset! \n",
    "****"
   ]
  },
  {
   "attachments": {},
   "cell_type": "markdown",
   "metadata": {},
   "source": [
    "### Citations\n",
    "\n",
    "- Model Checkpoint\n",
    "    - @article{Sanh2019DistilBERTAD,\n",
    "  title={DistilBERT, a distilled version of BERT: smaller, faster, cheaper and lighter},\n",
    "  author={Victor Sanh and Lysandre Debut and Julien Chaumond and Thomas Wolf},\n",
    "  journal={ArXiv},\n",
    "  year={2019},\n",
    "  volume={abs/1910.01108}\n",
    "}"
   ]
  }
 ],
 "metadata": {
  "kernelspec": {
   "display_name": "nlp_ml",
   "language": "python",
   "name": "python3"
  },
  "language_info": {
   "codemirror_mode": {
    "name": "ipython",
    "version": 3
   },
   "file_extension": ".py",
   "mimetype": "text/x-python",
   "name": "python",
   "nbconvert_exporter": "python",
   "pygments_lexer": "ipython3",
   "version": "3.9.12"
  },
  "orig_nbformat": 4,
  "vscode": {
   "interpreter": {
    "hash": "0b7a754c5aaaa44a21e2f2148f50b931a5abdffe7ef71537f5954179554f39df"
   }
  }
 },
 "nbformat": 4,
 "nbformat_minor": 2
}
