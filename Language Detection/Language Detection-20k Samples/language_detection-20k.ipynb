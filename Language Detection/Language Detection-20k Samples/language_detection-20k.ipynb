{
 "cells": [
  {
   "attachments": {},
   "cell_type": "markdown",
   "metadata": {},
   "source": [
    "## Language Detection (of 20,000 Samples)\n",
    "\n",
    "Dataset Source: https://www.kaggle.com/datasets/basilb2s/language-detection"
   ]
  },
  {
   "attachments": {},
   "cell_type": "markdown",
   "metadata": {},
   "source": [
    "#### Install Missing & Necessary Libraries"
   ]
  },
  {
   "cell_type": "code",
   "execution_count": 1,
   "metadata": {},
   "outputs": [
    {
     "name": "stdout",
     "output_type": "stream",
     "text": [
      "Requirement already satisfied: pip in /Users/briandunn/Documents/nlpnn/nlp_ml/lib/python3.9/site-packages (23.0.1)\n",
      "Note: you may need to restart the kernel to use updated packages.\n",
      "Requirement already satisfied: datasets in /Users/briandunn/Documents/nlpnn/nlp_ml/lib/python3.9/site-packages (2.9.0)\n",
      "Requirement already satisfied: transformers in /Users/briandunn/Documents/nlpnn/nlp_ml/lib/python3.9/site-packages (4.26.1)\n",
      "Requirement already satisfied: evaluate in /Users/briandunn/Documents/nlpnn/nlp_ml/lib/python3.9/site-packages (0.4.0)\n",
      "Requirement already satisfied: numpy in /Users/briandunn/Documents/nlpnn/nlp_ml/lib/python3.9/site-packages (1.24.2)\n",
      "Requirement already satisfied: torch in /Users/briandunn/Documents/nlpnn/nlp_ml/lib/python3.9/site-packages (1.13.1)\n",
      "Requirement already satisfied: aiohttp in /Users/briandunn/Documents/nlpnn/nlp_ml/lib/python3.9/site-packages (from datasets) (3.8.3)\n",
      "Requirement already satisfied: xxhash in /Users/briandunn/Documents/nlpnn/nlp_ml/lib/python3.9/site-packages (from datasets) (3.0.0)\n",
      "Requirement already satisfied: fsspec[http]>=2021.11.1 in /Users/briandunn/Documents/nlpnn/nlp_ml/lib/python3.9/site-packages (from datasets) (2022.8.2)\n",
      "Requirement already satisfied: packaging in /Users/briandunn/Documents/nlpnn/nlp_ml/lib/python3.9/site-packages (from datasets) (23.0)\n",
      "Requirement already satisfied: tqdm>=4.62.1 in /Users/briandunn/Documents/nlpnn/nlp_ml/lib/python3.9/site-packages (from datasets) (4.64.1)\n",
      "Requirement already satisfied: huggingface-hub<1.0.0,>=0.2.0 in /Users/briandunn/Documents/nlpnn/nlp_ml/lib/python3.9/site-packages (from datasets) (0.12.0)\n",
      "Requirement already satisfied: requests>=2.19.0 in /Users/briandunn/Documents/nlpnn/nlp_ml/lib/python3.9/site-packages (from datasets) (2.28.1)\n",
      "Requirement already satisfied: pyyaml>=5.1 in /Users/briandunn/Documents/nlpnn/nlp_ml/lib/python3.9/site-packages (from datasets) (5.1)\n",
      "Requirement already satisfied: multiprocess in /Users/briandunn/Documents/nlpnn/nlp_ml/lib/python3.9/site-packages (from datasets) (0.70.13)\n",
      "Requirement already satisfied: responses<0.19 in /Users/briandunn/Documents/nlpnn/nlp_ml/lib/python3.9/site-packages (from datasets) (0.18.0)\n",
      "Requirement already satisfied: dill<0.3.7 in /Users/briandunn/Documents/nlpnn/nlp_ml/lib/python3.9/site-packages (from datasets) (0.3.5.1)\n",
      "Requirement already satisfied: pandas in /Users/briandunn/Documents/nlpnn/nlp_ml/lib/python3.9/site-packages (from datasets) (1.5.0)\n",
      "Requirement already satisfied: pyarrow>=6.0.0 in /Users/briandunn/Documents/nlpnn/nlp_ml/lib/python3.9/site-packages (from datasets) (9.0.0)\n",
      "Requirement already satisfied: regex!=2019.12.17 in /Users/briandunn/Documents/nlpnn/nlp_ml/lib/python3.9/site-packages (from transformers) (2022.9.13)\n",
      "Requirement already satisfied: filelock in /Users/briandunn/Documents/nlpnn/nlp_ml/lib/python3.9/site-packages (from transformers) (3.8.0)\n",
      "Requirement already satisfied: tokenizers!=0.11.3,<0.14,>=0.11.1 in /Users/briandunn/Documents/nlpnn/nlp_ml/lib/python3.9/site-packages (from transformers) (0.12.1)\n",
      "Requirement already satisfied: typing-extensions in /Users/briandunn/Documents/nlpnn/nlp_ml/lib/python3.9/site-packages (from torch) (4.4.0)\n",
      "Requirement already satisfied: charset-normalizer<3.0,>=2.0 in /Users/briandunn/Documents/nlpnn/nlp_ml/lib/python3.9/site-packages (from aiohttp->datasets) (2.1.1)\n",
      "Requirement already satisfied: frozenlist>=1.1.1 in /Users/briandunn/Documents/nlpnn/nlp_ml/lib/python3.9/site-packages (from aiohttp->datasets) (1.3.1)\n",
      "Requirement already satisfied: aiosignal>=1.1.2 in /Users/briandunn/Documents/nlpnn/nlp_ml/lib/python3.9/site-packages (from aiohttp->datasets) (1.2.0)\n",
      "Requirement already satisfied: yarl<2.0,>=1.0 in /Users/briandunn/Documents/nlpnn/nlp_ml/lib/python3.9/site-packages (from aiohttp->datasets) (1.8.1)\n",
      "Requirement already satisfied: multidict<7.0,>=4.5 in /Users/briandunn/Documents/nlpnn/nlp_ml/lib/python3.9/site-packages (from aiohttp->datasets) (6.0.2)\n",
      "Requirement already satisfied: attrs>=17.3.0 in /Users/briandunn/Documents/nlpnn/nlp_ml/lib/python3.9/site-packages (from aiohttp->datasets) (22.1.0)\n",
      "Requirement already satisfied: async-timeout<5.0,>=4.0.0a3 in /Users/briandunn/Documents/nlpnn/nlp_ml/lib/python3.9/site-packages (from aiohttp->datasets) (4.0.2)\n",
      "Requirement already satisfied: urllib3<1.27,>=1.21.1 in /Users/briandunn/Documents/nlpnn/nlp_ml/lib/python3.9/site-packages (from requests>=2.19.0->datasets) (1.26.12)\n",
      "Requirement already satisfied: idna<4,>=2.5 in /Users/briandunn/Documents/nlpnn/nlp_ml/lib/python3.9/site-packages (from requests>=2.19.0->datasets) (3.4)\n",
      "Requirement already satisfied: certifi>=2017.4.17 in /Users/briandunn/Documents/nlpnn/nlp_ml/lib/python3.9/site-packages (from requests>=2.19.0->datasets) (2022.9.24)\n",
      "Requirement already satisfied: pytz>=2020.1 in /Users/briandunn/Documents/nlpnn/nlp_ml/lib/python3.9/site-packages (from pandas->datasets) (2022.4)\n",
      "Requirement already satisfied: python-dateutil>=2.8.1 in /Users/briandunn/Documents/nlpnn/nlp_ml/lib/python3.9/site-packages (from pandas->datasets) (2.8.2)\n",
      "Requirement already satisfied: six>=1.5 in /Users/briandunn/Documents/nlpnn/nlp_ml/lib/python3.9/site-packages (from python-dateutil>=2.8.1->pandas->datasets) (1.16.0)\n",
      "Note: you may need to restart the kernel to use updated packages.\n"
     ]
    }
   ],
   "source": [
    "%pip install --upgrade pip\n",
    "%pip install --upgrade datasets transformers evaluate numpy torch"
   ]
  },
  {
   "attachments": {},
   "cell_type": "markdown",
   "metadata": {},
   "source": [
    "#### Import Necessary Libraries"
   ]
  },
  {
   "cell_type": "code",
   "execution_count": 2,
   "metadata": {},
   "outputs": [
    {
     "name": "stderr",
     "output_type": "stream",
     "text": [
      "NOTE: Redirects are currently not supported in Windows or MacOs.\n"
     ]
    },
    {
     "name": "stdout",
     "output_type": "stream",
     "text": [
      "Git LFS initialized.\n"
     ]
    }
   ],
   "source": [
    "import sys, os\n",
    "os.environ['TOKENIZERS_PARALLELISM']='false'\n",
    "\n",
    "import numpy as np\n",
    "import pandas as pd\n",
    "import matplotlib.pyplot as plt\n",
    "\n",
    "import datasets\n",
    "from datasets import Dataset, DatasetDict\n",
    "\n",
    "import torch\n",
    "\n",
    "import transformers\n",
    "from transformers import AutoModelForSequenceClassification, AutoTokenizer, set_seed\n",
    "from transformers import Trainer, TrainingArguments, DataCollatorWithPadding\n",
    "\n",
    "import evaluate\n",
    "\n",
    "!git lfs install"
   ]
  },
  {
   "attachments": {},
   "cell_type": "markdown",
   "metadata": {},
   "source": [
    "#### Display Versions of Libraries"
   ]
  },
  {
   "cell_type": "code",
   "execution_count": 3,
   "metadata": {},
   "outputs": [
    {
     "name": "stdout",
     "output_type": "stream",
     "text": [
      "        Python: 3.9.12\n",
      "         NumPy: 1.24.2\n",
      "        Pandas: 1.5.0\n",
      "      Datasets: 2.9.0\n",
      "  Transformers: 4.26.1\n",
      "         Torch: 1.13.1\n",
      "      Evaluate: 0.4.0\n"
     ]
    }
   ],
   "source": [
    "print(\"Python:\".rjust(15), sys.version[0:6])\n",
    "print(\"NumPy:\".rjust(15), np.__version__)\n",
    "print(\"Pandas:\".rjust(15), pd.__version__)\n",
    "print(\"Datasets:\".rjust(15), datasets.__version__)\n",
    "print(\"Transformers:\".rjust(15), transformers.__version__)\n",
    "print(\"Torch:\".rjust(15), torch.__version__)\n",
    "print(\"Evaluate:\".rjust(15), evaluate.__version__)"
   ]
  },
  {
   "attachments": {},
   "cell_type": "markdown",
   "metadata": {},
   "source": [
    "#### Load Dataset"
   ]
  },
  {
   "cell_type": "code",
   "execution_count": 4,
   "metadata": {},
   "outputs": [
    {
     "name": "stdout",
     "output_type": "stream",
     "text": [
      "<class 'pandas.core.frame.DataFrame'>\n",
      "Int64Index: 20000 entries, 0 to 21999\n",
      "Data columns (total 2 columns):\n",
      " #   Column  Non-Null Count  Dtype \n",
      "---  ------  --------------  ----- \n",
      " 0   text    20000 non-null  object\n",
      " 1   labels  20000 non-null  object\n",
      "dtypes: object(2)\n",
      "memory usage: 468.8+ KB\n"
     ]
    }
   ],
   "source": [
    "parent_dir = \"/Users/briandunn/Desktop/nlp_ds/Language Detect AI Software\"\n",
    "\n",
    "df = pd.read_csv(os.path.join(parent_dir, \"language_detection.csv\"))\n",
    "\n",
    "df = df[df[\"language\"] != \"Chinese\"]\n",
    "df = df[df[\"language\"] != \"Japanese\"]\n",
    "df = df.dropna()\n",
    "\n",
    "df[\"Text\"] = df[\"Text\"].str.strip()\n",
    "df[\"language\"] = df[\"language\"].str.strip()\n",
    "\n",
    "# Change Feature names\n",
    "df.rename(\n",
    "    columns={\n",
    "        \"Text\": \"text\", \n",
    "        \"language\": \"labels\",\n",
    "        },\n",
    "    inplace=True\n",
    ")\n",
    "\n",
    "df.info()"
   ]
  },
  {
   "attachments": {},
   "cell_type": "markdown",
   "metadata": {},
   "source": [
    "#### Visualize: Length Text Length (in Words)"
   ]
  },
  {
   "cell_type": "code",
   "execution_count": 5,
   "metadata": {},
   "outputs": [
    {
     "name": "stdout",
     "output_type": "stream",
     "text": [
      "The maximum length of this dataset is approximately 331 words.\n"
     ]
    },
    {
     "data": {
      "image/png": "[encoded data removed]",
      "text/plain": [
       "<Figure size 1800x800 with 1 Axes>"
      ]
     },
     "metadata": {},
     "output_type": "display_data"
    }
   ],
   "source": [
    "df['Text Length'] = df['text'].str.split().str.len()\n",
    "\n",
    "max_len = df['Text Length'].max()\n",
    "print(f\"The maximum length of this dataset is approximately {max_len} words.\")\n",
    "\n",
    "n = 200\n",
    "df.hist('Text Length', grid=False, figsize=(18,8), range=(0, n), bins=n)\n",
    "plt.suptitle('')\n",
    "plt.title('Histogram of Text Length')\n",
    "plt.ylabel('')\n",
    "plt.xlabel('Words per Sample')\n",
    "plt.show()"
   ]
  },
  {
   "attachments": {},
   "cell_type": "markdown",
   "metadata": {},
   "source": [
    "#### Visualize: Length Text Length (in Words) By Language"
   ]
  },
  {
   "cell_type": "code",
   "execution_count": 6,
   "metadata": {},
   "outputs": [
    {
     "data": {
      "image/png": "[encoded data removed]",
      "text/plain": [
       "<Figure size 1800x800 with 1 Axes>"
      ]
     },
     "metadata": {},
     "output_type": "display_data"
    }
   ],
   "source": [
    "df.boxplot(\"Text Length\", by=\"labels\", grid=False, showfliers=False, figsize=(18, 8))\n",
    "\n",
    "plt.suptitle('')\n",
    "plt.title('Description Length by Output Class')\n",
    "plt.xlabel('')\n",
    "plt.ylabel('Words per Complaint')\n",
    "plt.show()"
   ]
  },
  {
   "attachments": {},
   "cell_type": "markdown",
   "metadata": {},
   "source": [
    "#### Visualize: Number of Samples of Each Language"
   ]
  },
  {
   "cell_type": "code",
   "execution_count": 7,
   "metadata": {},
   "outputs": [
    {
     "data": {
      "image/png": "[encoded data removed]",
      "text/plain": [
       "<Figure size 1800x800 with 1 Axes>"
      ]
     },
     "metadata": {},
     "output_type": "display_data"
    }
   ],
   "source": [
    "df['labels'].value_counts().plot(kind='bar', figsize=(18, 8))\n",
    "\n",
    "plt.show()"
   ]
  },
  {
   "attachments": {},
   "cell_type": "markdown",
   "metadata": {},
   "source": [
    "#### Convert Labels Between String & Integer"
   ]
  },
  {
   "cell_type": "code",
   "execution_count": 8,
   "metadata": {},
   "outputs": [
    {
     "name": "stdout",
     "output_type": "stream",
     "text": [
      "['Indonesian', 'Spanish', 'Turkish', 'Korean', 'Pushto', 'Estonian', 'French', 'Arabic', 'Urdu', 'Portugese', 'Latin', 'Dutch', 'Thai', 'Hindi', 'Persian', 'Swedish', 'Romanian', 'Russian', 'Tamil', 'English'] \n",
      " 20\n",
      "id2label: {0: 'Indonesian', 1: 'Spanish', 2: 'Turkish', 3: 'Korean', 4: 'Pushto', 5: 'Estonian', 6: 'French', 7: 'Arabic', 8: 'Urdu', 9: 'Portugese', 10: 'Latin', 11: 'Dutch', 12: 'Thai', 13: 'Hindi', 14: 'Persian', 15: 'Swedish', 16: 'Romanian', 17: 'Russian', 18: 'Tamil', 19: 'English'}\n",
      "label2id: {'Indonesian': 0, 'Spanish': 1, 'Turkish': 2, 'Korean': 3, 'Pushto': 4, 'Estonian': 5, 'French': 6, 'Arabic': 7, 'Urdu': 8, 'Portugese': 9, 'Latin': 10, 'Dutch': 11, 'Thai': 12, 'Hindi': 13, 'Persian': 14, 'Swedish': 15, 'Romanian': 16, 'Russian': 17, 'Tamil': 18, 'English': 19}\n"
     ]
    }
   ],
   "source": [
    "LABEL_NAMES = list(set(df['labels']))\n",
    "NUM_OF_LABELS = len(LABEL_NAMES)\n",
    "\n",
    "id2label = dict(enumerate(LABEL_NAMES))\n",
    "label2id = {v: k for k,v in id2label.items()}\n",
    "\n",
    "print(LABEL_NAMES, '\\n', NUM_OF_LABELS)\n",
    "print(\"id2label:\", id2label)\n",
    "print(\"label2id:\", label2id)"
   ]
  },
  {
   "attachments": {},
   "cell_type": "markdown",
   "metadata": {},
   "source": [
    "#### Final Preprocessing"
   ]
  },
  {
   "cell_type": "code",
   "execution_count": 9,
   "metadata": {},
   "outputs": [
    {
     "name": "stdout",
     "output_type": "stream",
     "text": [
      "<class 'pandas.core.frame.DataFrame'>\n",
      "Int64Index: 19636 entries, 0 to 21999\n",
      "Data columns (total 2 columns):\n",
      " #   Column  Non-Null Count  Dtype \n",
      "---  ------  --------------  ----- \n",
      " 0   text    19636 non-null  object\n",
      " 1   labels  19636 non-null  int64 \n",
      "dtypes: int64(1), object(1)\n",
      "memory usage: 460.2+ KB\n"
     ]
    }
   ],
   "source": [
    "# Replace String label values with Integer label values\n",
    "df['labels'].replace(label2id, inplace=True)\n",
    "\n",
    "# Remove overly lengthy samples\n",
    "df = df[df[\"Text Length\"] < 200]\n",
    "\n",
    "# Remove unnecessary Feature\n",
    "df = df.drop(columns=[\"Text Length\"])\n",
    "df.info()"
   ]
  },
  {
   "attachments": {},
   "cell_type": "markdown",
   "metadata": {},
   "source": [
    "#### Convert DataFrame to Dataset & Split into Train/Test/Eval Datasets"
   ]
  },
  {
   "cell_type": "code",
   "execution_count": 10,
   "metadata": {},
   "outputs": [
    {
     "name": "stdout",
     "output_type": "stream",
     "text": [
      "training data shape: (15708, 3)\n",
      "testing data shape: (1964, 3)\n",
      "validation data shape: (1964, 3)\n"
     ]
    }
   ],
   "source": [
    "dataset = Dataset.from_pandas(df)\n",
    "\n",
    "train_testEval = dataset.train_test_split(train_size=0.80)\n",
    "test_eval = train_testEval['test'].train_test_split(train_size=0.50)\n",
    "\n",
    "ds = DatasetDict({\n",
    "    'train' : train_testEval['train'],\n",
    "    'test' : test_eval['train'],\n",
    "    'eval' : test_eval['test']\n",
    "})\n",
    "\n",
    "print('training data shape:', ds['train'].shape)\n",
    "print('testing data shape:', ds['test'].shape)\n",
    "print('validation data shape:', ds['eval'].shape)"
   ]
  },
  {
   "attachments": {},
   "cell_type": "markdown",
   "metadata": {},
   "source": [
    "#### Basic Values/Constants"
   ]
  },
  {
   "cell_type": "code",
   "execution_count": 11,
   "metadata": {},
   "outputs": [],
   "source": [
    "MODEL_CKPT = \"distilbert-base-multilingual-cased\"\n",
    "              \n",
    "MODEL_NAME = MODEL_CKPT.split(\"/\")[-1] + \"-language_detection-LG\"\n",
    "\n",
    "DEVICE = torch.device(\"cpu\")\n",
    "MAX_INPUT_LENGTH = int(220*1.30)\n",
    "\n",
    "LEARNING_RATE = 2e-5\n",
    "set_seed(42)\n",
    "\n",
    "BATCH_SIZE = 64\n",
    "NUM_OF_EPOCHS = 2\n",
    "\n",
    "METRIC_NAME = \"f1\"\n",
    "WEIGHT_DECAY = 0.01\n",
    "\n",
    "REPORTS_TO = \"tensorboard\"\n",
    "STRATEGY = \"epoch\""
   ]
  },
  {
   "attachments": {},
   "cell_type": "markdown",
   "metadata": {},
   "source": [
    "#### Tokenize Entire Dataset"
   ]
  },
  {
   "cell_type": "code",
   "execution_count": 12,
   "metadata": {},
   "outputs": [
    {
     "data": {
      "application/vnd.jupyter.widget-view+json": {
       "model_id": "a3a9d9ac9a474d0ba8982f73e737b11b",
       "version_major": 2,
       "version_minor": 0
      },
      "text/plain": [
       "A Jupyter Widget"
      ]
     },
     "metadata": {},
     "output_type": "display_data"
    },
    {
     "data": {
      "application/vnd.jupyter.widget-view+json": {
       "model_id": "8d7774f0262e4f4a90ec0bcbb4ac6de9",
       "version_major": 2,
       "version_minor": 0
      },
      "text/plain": [
       "A Jupyter Widget"
      ]
     },
     "metadata": {},
     "output_type": "display_data"
    },
    {
     "data": {
      "application/vnd.jupyter.widget-view+json": {
       "model_id": "dcbb45092b7a47209cd20f3ea48cf84e",
       "version_major": 2,
       "version_minor": 0
      },
      "text/plain": [
       "A Jupyter Widget"
      ]
     },
     "metadata": {},
     "output_type": "display_data"
    },
    {
     "name": "stdout",
     "output_type": "stream",
     "text": [
      "training data shape: (15708, 5)\n",
      "testing data shape: (1964, 5)\n",
      "validation data shape: (1964, 5)\n",
      "{'text': 'bbc  british broadcasting corporation د برتانيې همغاړه خپرندويه ټولنه بي بي سيپه برتانیا کې يوه عمده خپرندویه رسنۍ ده همدا رنگه بي بي سي په نړۍ کې تر ټولو لويه خپرندويه رسنۍ گڼل کېږي دا ټولنه د  شاوخوا کارکوونکي لري د دې تولنې مرکزي ودانۍ په لنډن ښار کې شتون لري  د بي بي سي تر ټولو غټ مسولیت د عامه خلکو لپاره په برتانيا  د چاینل ټاپو او د مېن ټاپو کې خپرنیز چوپړ دی بي بي سي يوه خپل پېيلې autonomous عامه خپرنيزه رسنۍ ده  چې د شاهي قانون تر تگلارې پورې نښتې اداره ده', 'labels': 4, '__index_level_0__': 4243, 'input_ids': [101, 79726, 52676, 15529, 51769, 73063, 771, 100, 100, 770, 49045, 12442, 19077, 10388, 100, 41484, 41484, 37554, 17911, 10388, 12949, 27887, 17317, 100, 793, 37019, 781, 110606, 770, 49045, 12442, 16153, 10388, 100, 40084, 16079, 14914, 42040, 10388, 41484, 41484, 37554, 817, 10388, 100, 100, 54237, 100, 68269, 23505, 770, 49045, 12442, 19077, 10388, 100, 100, 100, 13189, 100, 771, 776, 94119, 16498, 14556, 18186, 47902, 11326, 11711, 10461, 787, 21034, 771, 100, 100, 18153, 10461, 100, 817, 10388, 100, 100, 100, 776, 27278, 787, 21034, 771, 41484, 41484, 37554, 54237, 100, 100, 788, 81719, 16161, 10502, 771, 11437, 10388, 770, 45703, 11145, 787, 94658, 22900, 817, 10388, 12949, 27887, 14431, 771, 818, 98137, 10961, 100, 12084, 771, 100, 100, 100, 770, 49045, 15193, 11509, 100, 12687, 41484, 41484, 37554, 793, 37019, 770, 102724, 100, 80641, 11437, 10388, 770, 49045, 24148, 33103, 100, 40084, 100, 771, 30465, 10461, 28918, 54237, 100, 100, 100, 87071, 40084, 102, 0, 0, 0, 0, 0, 0, 0, 0, 0, 0, 0, 0, 0, 0, 0, 0, 0, 0, 0, 0, 0, 0, 0, 0, 0, 0, 0, 0, 0, 0, 0, 0, 0, 0, 0, 0, 0, 0, 0, 0, 0, 0, 0, 0, 0, 0, 0, 0, 0, 0, 0, 0, 0, 0, 0, 0, 0, 0, 0, 0, 0, 0, 0, 0, 0, 0, 0, 0, 0, 0, 0, 0, 0, 0, 0, 0, 0, 0, 0, 0, 0, 0, 0, 0, 0, 0, 0, 0, 0, 0, 0, 0, 0, 0, 0, 0, 0, 0, 0, 0, 0, 0, 0, 0, 0, 0, 0, 0, 0, 0, 0, 0, 0, 0, 0, 0, 0, 0, 0, 0, 0, 0, 0, 0, 0, 0, 0, 0, 0], 'attention_mask': [1, 1, 1, 1, 1, 1, 1, 1, 1, 1, 1, 1, 1, 1, 1, 1, 1, 1, 1, 1, 1, 1, 1, 1, 1, 1, 1, 1, 1, 1, 1, 1, 1, 1, 1, 1, 1, 1, 1, 1, 1, 1, 1, 1, 1, 1, 1, 1, 1, 1, 1, 1, 1, 1, 1, 1, 1, 1, 1, 1, 1, 1, 1, 1, 1, 1, 1, 1, 1, 1, 1, 1, 1, 1, 1, 1, 1, 1, 1, 1, 1, 1, 1, 1, 1, 1, 1, 1, 1, 1, 1, 1, 1, 1, 1, 1, 1, 1, 1, 1, 1, 1, 1, 1, 1, 1, 1, 1, 1, 1, 1, 1, 1, 1, 1, 1, 1, 1, 1, 1, 1, 1, 1, 1, 1, 1, 1, 1, 1, 1, 1, 1, 1, 1, 1, 1, 1, 1, 1, 1, 1, 1, 1, 1, 1, 1, 1, 1, 1, 1, 1, 1, 1, 1, 1, 1, 1, 0, 0, 0, 0, 0, 0, 0, 0, 0, 0, 0, 0, 0, 0, 0, 0, 0, 0, 0, 0, 0, 0, 0, 0, 0, 0, 0, 0, 0, 0, 0, 0, 0, 0, 0, 0, 0, 0, 0, 0, 0, 0, 0, 0, 0, 0, 0, 0, 0, 0, 0, 0, 0, 0, 0, 0, 0, 0, 0, 0, 0, 0, 0, 0, 0, 0, 0, 0, 0, 0, 0, 0, 0, 0, 0, 0, 0, 0, 0, 0, 0, 0, 0, 0, 0, 0, 0, 0, 0, 0, 0, 0, 0, 0, 0, 0, 0, 0, 0, 0, 0, 0, 0, 0, 0, 0, 0, 0, 0, 0, 0, 0, 0, 0, 0, 0, 0, 0, 0, 0, 0, 0, 0, 0, 0, 0, 0, 0, 0]}\n"
     ]
    }
   ],
   "source": [
    "# Define the Tokenizer\n",
    "tokenizer = AutoTokenizer.from_pretrained(MODEL_CKPT)\n",
    "\n",
    "# Method to Tokenize each Sample in the Dataset\n",
    "def tokenize(batch):\n",
    "    return tokenizer(batch['text'], truncation=True, padding=True, max_length=MAX_INPUT_LENGTH)\n",
    "\n",
    "# Map the 'Tokenize' Method to All Samples in the Entire Dataset\n",
    "encoded_data = ds.map(tokenize, batched=True, batch_size=None)\n",
    "encoded_data = encoded_data\n",
    "\n",
    "print('training data shape:', encoded_data['train'].shape)\n",
    "print('testing data shape:', encoded_data['test'].shape)\n",
    "print('validation data shape:', encoded_data['eval'].shape)\n",
    "print(encoded_data['train'][24])"
   ]
  },
  {
   "attachments": {},
   "cell_type": "markdown",
   "metadata": {},
   "source": [
    "#### Instantiate Model"
   ]
  },
  {
   "cell_type": "code",
   "execution_count": 13,
   "metadata": {},
   "outputs": [
    {
     "name": "stderr",
     "output_type": "stream",
     "text": [
      "Some weights of the model checkpoint at distilbert-base-multilingual-cased were not used when initializing DistilBertForSequenceClassification: ['vocab_projector.weight', 'vocab_layer_norm.weight', 'vocab_layer_norm.bias', 'vocab_projector.bias', 'vocab_transform.bias', 'vocab_transform.weight']\n",
      "- This IS expected if you are initializing DistilBertForSequenceClassification from the checkpoint of a model trained on another task or with another architecture (e.g. initializing a BertForSequenceClassification model from a BertForPreTraining model).\n",
      "- This IS NOT expected if you are initializing DistilBertForSequenceClassification from the checkpoint of a model that you expect to be exactly identical (initializing a BertForSequenceClassification model from a BertForSequenceClassification model).\n",
      "Some weights of DistilBertForSequenceClassification were not initialized from the model checkpoint at distilbert-base-multilingual-cased and are newly initialized: ['pre_classifier.weight', 'pre_classifier.bias', 'classifier.weight', 'classifier.bias']\n",
      "You should probably TRAIN this model on a down-stream task to be able to use it for predictions and inference.\n"
     ]
    }
   ],
   "source": [
    "model = AutoModelForSequenceClassification.from_pretrained(MODEL_CKPT, \n",
    "                                                           num_labels=NUM_OF_LABELS,\n",
    "                                                           id2label=id2label,\n",
    "                                                           label2id=label2id\n",
    "                                                           ).to(DEVICE)"
   ]
  },
  {
   "attachments": {},
   "cell_type": "markdown",
   "metadata": {},
   "source": [
    "#### Define Function to Compute Metrics"
   ]
  },
  {
   "cell_type": "code",
   "execution_count": 14,
   "metadata": {},
   "outputs": [],
   "source": [
    "def compute_metrics(p):\n",
    "    ### ------------------- Accuracy -------------------\n",
    "    \n",
    "    accuracy_metric = evaluate.load(\"accuracy\")\n",
    "    accuracy = accuracy_metric.compute(predictions=np.argmax(p.predictions, axis=1), references=p.label_ids)['accuracy']\n",
    "    \n",
    "    ### ------------------- F1 scores -------------------\n",
    "    \n",
    "    f1_score_metric = evaluate.load(\"f1\")\n",
    "    weighted_f1_score = f1_score_metric.compute(predictions=np.argmax(p.predictions, axis=1), references=p.label_ids, average='weighted')[\"f1\"]\n",
    "    micro_f1_score = f1_score_metric.compute(predictions=np.argmax(p.predictions, axis=1), references=p.label_ids, average='micro')['f1']\n",
    "    macro_f1_score = f1_score_metric.compute(predictions=np.argmax(p.predictions, axis=1), references=p.label_ids, average='macro')[\"f1\"]\n",
    "    \n",
    "    ### ------------------- recall -------------------\n",
    "    \n",
    "    recall_metric = evaluate.load(\"recall\")\n",
    "    weighted_recall = recall_metric.compute(predictions=np.argmax(p.predictions, axis=1), references=p.label_ids, average='weighted')[\"recall\"]\n",
    "    micro_recall = recall_metric.compute(predictions=np.argmax(p.predictions, axis=1), references=p.label_ids, average='micro')[\"recall\"]\n",
    "    macro_recall = recall_metric.compute(predictions=np.argmax(p.predictions, axis=1), references=p.label_ids, average='macro')[\"recall\"]\n",
    "    \n",
    "    ### ------------------- precision -------------------\n",
    "    \n",
    "    precision_metric = evaluate.load(\"precision\")\n",
    "    weighted_precision = precision_metric.compute(predictions=np.argmax(p.predictions, axis=1), references=p.label_ids, average='weighted')[\"precision\"]\n",
    "    micro_precision = precision_metric.compute(predictions=np.argmax(p.predictions, axis=1), references=p.label_ids, average='micro')[\"precision\"]\n",
    "    macro_precision = precision_metric.compute(predictions=np.argmax(p.predictions, axis=1), references=p.label_ids, average='macro')[\"precision\"]\n",
    "    \n",
    "    return {\"accuracy\" : accuracy, \n",
    "            \"Weighted F1\" : weighted_f1_score,\n",
    "            \"Micro F1\" : micro_f1_score,\n",
    "            \"Macro F1\" : macro_f1_score,\n",
    "            \"Weighted Recall\" : weighted_recall,\n",
    "            \"Micro Recall\" : micro_recall,\n",
    "            \"Macro Recall\" : macro_recall,\n",
    "            \"Weighted Precision\" : weighted_precision,\n",
    "            \"Micro Precision\" : micro_precision,\n",
    "            \"Macro Precision\" : macro_precision\n",
    "            }"
   ]
  },
  {
   "attachments": {},
   "cell_type": "markdown",
   "metadata": {},
   "source": [
    "#### Define TrainingArguments"
   ]
  },
  {
   "cell_type": "code",
   "execution_count": 15,
   "metadata": {},
   "outputs": [],
   "source": [
    "args = TrainingArguments(\n",
    "    output_dir=MODEL_NAME,\n",
    "    num_train_epochs=NUM_OF_EPOCHS,\n",
    "    per_device_train_batch_size=BATCH_SIZE,\n",
    "    per_device_eval_batch_size=BATCH_SIZE,\n",
    "    learning_rate=LEARNING_RATE,\n",
    "    weight_decay=WEIGHT_DECAY,\n",
    "    evaluation_strategy=STRATEGY,\n",
    "    save_strategy=STRATEGY,\n",
    "    logging_strategy=STRATEGY,\n",
    "    logging_first_step=True,\n",
    "    disable_tqdm=False,\n",
    "    report_to=REPORTS_TO,\n",
    "    load_best_model_at_end=True,\n",
    "    metric_for_best_model=\"eval_accuracy\",\n",
    "    hub_private_repo=True,\n",
    "    push_to_hub=True\n",
    ")"
   ]
  },
  {
   "attachments": {},
   "cell_type": "markdown",
   "metadata": {},
   "source": [
    "#### Instantiate Data Collator"
   ]
  },
  {
   "cell_type": "code",
   "execution_count": 16,
   "metadata": {},
   "outputs": [],
   "source": [
    "data_collator = DataCollatorWithPadding(tokenizer, padding=True)"
   ]
  },
  {
   "attachments": {},
   "cell_type": "markdown",
   "metadata": {},
   "source": [
    "#### Instantiate Trainer"
   ]
  },
  {
   "cell_type": "code",
   "execution_count": 17,
   "metadata": {},
   "outputs": [
    {
     "name": "stderr",
     "output_type": "stream",
     "text": [
      "Cloning https://huggingface.co/DunnBC22/distilbert-base-multilingual-cased-language_detection-LG into local empty directory.\n"
     ]
    }
   ],
   "source": [
    "trainer = Trainer(\n",
    "    model=model,\n",
    "    args=args,\n",
    "    train_dataset=encoded_data[\"train\"],\n",
    "    eval_dataset=encoded_data[\"eval\"],\n",
    "    compute_metrics=compute_metrics,\n",
    "    tokenizer=tokenizer,\n",
    "    data_collator=data_collator,\n",
    ")"
   ]
  },
  {
   "attachments": {},
   "cell_type": "markdown",
   "metadata": {},
   "source": [
    "#### Train Model"
   ]
  },
  {
   "cell_type": "code",
   "execution_count": 18,
   "metadata": {},
   "outputs": [
    {
     "name": "stderr",
     "output_type": "stream",
     "text": [
      "The following columns in the training set don't have a corresponding argument in `DistilBertForSequenceClassification.forward` and have been ignored: text, __index_level_0__. If text, __index_level_0__ are not expected by `DistilBertForSequenceClassification.forward`,  you can safely ignore this message.\n",
      "/Users/briandunn/Documents/nlpnn/nlp_ml/lib/python3.9/site-packages/transformers/optimization.py:306: FutureWarning: This implementation of AdamW is deprecated and will be removed in a future version. Use the PyTorch implementation torch.optim.AdamW instead, or set `no_deprecation_warning=True` to disable this warning\n",
      "  warnings.warn(\n",
      "***** Running training *****\n",
      "  Num examples = 15708\n",
      "  Num Epochs = 2\n",
      "  Instantaneous batch size per device = 64\n",
      "  Total train batch size (w. parallel, distributed & accumulation) = 64\n",
      "  Gradient Accumulation steps = 1\n",
      "  Total optimization steps = 492\n",
      "  Number of trainable parameters = 135340052\n"
     ]
    },
    {
     "data": {
      "application/vnd.jupyter.widget-view+json": {
       "model_id": "cd750d9132b9432189b19a47c54c2f79",
       "version_major": 2,
       "version_minor": 0
      },
      "text/plain": [
       "A Jupyter Widget"
      ]
     },
     "metadata": {},
     "output_type": "display_data"
    },
    {
     "name": "stderr",
     "output_type": "stream",
     "text": [
      "You're using a DistilBertTokenizerFast tokenizer. Please note that with a fast tokenizer, using the `__call__` method is faster than using a method to encode the text followed by a call to the `pad` method to get a padded encoding.\n"
     ]
    },
    {
     "name": "stdout",
     "output_type": "stream",
     "text": [
      "{'loss': 3.013, 'learning_rate': 1.9959349593495936e-05, 'epoch': 0.0}\n"
     ]
    },
    {
     "name": "stderr",
     "output_type": "stream",
     "text": [
      "The following columns in the evaluation set don't have a corresponding argument in `DistilBertForSequenceClassification.forward` and have been ignored: text, __index_level_0__. If text, __index_level_0__ are not expected by `DistilBertForSequenceClassification.forward`,  you can safely ignore this message.\n",
      "***** Running Evaluation *****\n",
      "  Num examples = 1964\n",
      "  Batch size = 64\n"
     ]
    },
    {
     "name": "stdout",
     "output_type": "stream",
     "text": [
      "{'loss': 0.7343, 'learning_rate': 1e-05, 'epoch': 1.0}\n"
     ]
    },
    {
     "data": {
      "application/vnd.jupyter.widget-view+json": {
       "model_id": "7ce952bf65a94a21a39d88f599e3cd80",
       "version_major": 2,
       "version_minor": 0
      },
      "text/plain": [
       "A Jupyter Widget"
      ]
     },
     "metadata": {},
     "output_type": "display_data"
    },
    {
     "name": "stderr",
     "output_type": "stream",
     "text": [
      "Saving model checkpoint to distilbert-base-multilingual-cased-language_detection-LG/checkpoint-246\n",
      "Configuration saved in distilbert-base-multilingual-cased-language_detection-LG/checkpoint-246/config.json\n"
     ]
    },
    {
     "name": "stdout",
     "output_type": "stream",
     "text": [
      "{'eval_loss': 0.11020707339048386, 'eval_accuracy': 0.9882892057026477, 'eval_Weighted F1': 0.9883834269823869, 'eval_Micro F1': 0.9882892057026477, 'eval_Macro F1': 0.9881530019997202, 'eval_Weighted Recall': 0.9882892057026477, 'eval_Micro Recall': 0.9882892057026477, 'eval_Macro Recall': 0.9878939207681052, 'eval_Weighted Precision': 0.9887584896588363, 'eval_Micro Precision': 0.9882892057026477, 'eval_Macro Precision': 0.988708722095916, 'eval_runtime': 367.4798, 'eval_samples_per_second': 5.345, 'eval_steps_per_second': 0.084, 'epoch': 1.0}\n"
     ]
    },
    {
     "name": "stderr",
     "output_type": "stream",
     "text": [
      "Model weights saved in distilbert-base-multilingual-cased-language_detection-LG/checkpoint-246/pytorch_model.bin\n",
      "tokenizer config file saved in distilbert-base-multilingual-cased-language_detection-LG/checkpoint-246/tokenizer_config.json\n",
      "Special tokens file saved in distilbert-base-multilingual-cased-language_detection-LG/checkpoint-246/special_tokens_map.json\n",
      "tokenizer config file saved in distilbert-base-multilingual-cased-language_detection-LG/tokenizer_config.json\n",
      "Special tokens file saved in distilbert-base-multilingual-cased-language_detection-LG/special_tokens_map.json\n",
      "The following columns in the evaluation set don't have a corresponding argument in `DistilBertForSequenceClassification.forward` and have been ignored: text, __index_level_0__. If text, __index_level_0__ are not expected by `DistilBertForSequenceClassification.forward`,  you can safely ignore this message.\n",
      "***** Running Evaluation *****\n",
      "  Num examples = 1964\n",
      "  Batch size = 64\n"
     ]
    },
    {
     "name": "stdout",
     "output_type": "stream",
     "text": [
      "{'loss': 0.0939, 'learning_rate': 0.0, 'epoch': 2.0}\n"
     ]
    },
    {
     "data": {
      "application/vnd.jupyter.widget-view+json": {
       "model_id": "727226eed1304862a5aacdc5235c9fe8",
       "version_major": 2,
       "version_minor": 0
      },
      "text/plain": [
       "A Jupyter Widget"
      ]
     },
     "metadata": {},
     "output_type": "display_data"
    },
    {
     "name": "stderr",
     "output_type": "stream",
     "text": [
      "Saving model checkpoint to distilbert-base-multilingual-cased-language_detection-LG/checkpoint-492\n",
      "Configuration saved in distilbert-base-multilingual-cased-language_detection-LG/checkpoint-492/config.json\n"
     ]
    },
    {
     "name": "stdout",
     "output_type": "stream",
     "text": [
      "{'eval_loss': 0.08024910092353821, 'eval_accuracy': 0.9882892057026477, 'eval_Weighted F1': 0.9884032779701928, 'eval_Micro F1': 0.9882892057026477, 'eval_Macro F1': 0.9881514725383678, 'eval_Weighted Recall': 0.9882892057026477, 'eval_Micro Recall': 0.9882892057026477, 'eval_Macro Recall': 0.9878939207681052, 'eval_Weighted Precision': 0.9888271933364899, 'eval_Micro Precision': 0.9882892057026477, 'eval_Macro Precision': 0.9887341275097938, 'eval_runtime': 374.6062, 'eval_samples_per_second': 5.243, 'eval_steps_per_second': 0.083, 'epoch': 2.0}\n"
     ]
    },
    {
     "name": "stderr",
     "output_type": "stream",
     "text": [
      "Model weights saved in distilbert-base-multilingual-cased-language_detection-LG/checkpoint-492/pytorch_model.bin\n",
      "tokenizer config file saved in distilbert-base-multilingual-cased-language_detection-LG/checkpoint-492/tokenizer_config.json\n",
      "Special tokens file saved in distilbert-base-multilingual-cased-language_detection-LG/checkpoint-492/special_tokens_map.json\n",
      "tokenizer config file saved in distilbert-base-multilingual-cased-language_detection-LG/tokenizer_config.json\n",
      "Special tokens file saved in distilbert-base-multilingual-cased-language_detection-LG/special_tokens_map.json\n",
      "\n",
      "\n",
      "Training completed. Do not forget to share your model on huggingface.co/models =)\n",
      "\n",
      "\n",
      "Loading best model from distilbert-base-multilingual-cased-language_detection-LG/checkpoint-246 (score: 0.9882892057026477).\n"
     ]
    },
    {
     "name": "stdout",
     "output_type": "stream",
     "text": [
      "{'train_runtime': 21382.9883, 'train_samples_per_second': 1.469, 'train_steps_per_second': 0.023, 'train_loss': 0.41873845724555536, 'epoch': 2.0}\n"
     ]
    }
   ],
   "source": [
    "train_results = trainer.train()"
   ]
  },
  {
   "attachments": {},
   "cell_type": "markdown",
   "metadata": {},
   "source": [
    "#### Save Model & Training Metrics"
   ]
  },
  {
   "cell_type": "code",
   "execution_count": 19,
   "metadata": {},
   "outputs": [
    {
     "name": "stderr",
     "output_type": "stream",
     "text": [
      "Saving model checkpoint to distilbert-base-multilingual-cased-language_detection-LG\n",
      "Configuration saved in distilbert-base-multilingual-cased-language_detection-LG/config.json\n",
      "Model weights saved in distilbert-base-multilingual-cased-language_detection-LG/pytorch_model.bin\n",
      "tokenizer config file saved in distilbert-base-multilingual-cased-language_detection-LG/tokenizer_config.json\n",
      "Special tokens file saved in distilbert-base-multilingual-cased-language_detection-LG/special_tokens_map.json\n",
      "Saving model checkpoint to distilbert-base-multilingual-cased-language_detection-LG\n",
      "Configuration saved in distilbert-base-multilingual-cased-language_detection-LG/config.json\n",
      "Model weights saved in distilbert-base-multilingual-cased-language_detection-LG/pytorch_model.bin\n",
      "tokenizer config file saved in distilbert-base-multilingual-cased-language_detection-LG/tokenizer_config.json\n",
      "Special tokens file saved in distilbert-base-multilingual-cased-language_detection-LG/special_tokens_map.json\n",
      "Several commits (2) will be pushed upstream.\n",
      "The progress bars may be unreliable.\n"
     ]
    },
    {
     "data": {
      "application/vnd.jupyter.widget-view+json": {
       "model_id": "8c9fb9580d9f438c9417d4c433092da2",
       "version_major": 2,
       "version_minor": 0
      },
      "text/plain": [
       "A Jupyter Widget"
      ]
     },
     "metadata": {},
     "output_type": "display_data"
    },
    {
     "data": {
      "application/vnd.jupyter.widget-view+json": {
       "model_id": "3c3e669246524d889546ee70e00ae0e1",
       "version_major": 2,
       "version_minor": 0
      },
      "text/plain": [
       "A Jupyter Widget"
      ]
     },
     "metadata": {},
     "output_type": "display_data"
    },
    {
     "name": "stderr",
     "output_type": "stream",
     "text": [
      "remote: Scanning LFS files for validity...        \n",
      "remote: LFS file scan complete.        \n",
      "To https://huggingface.co/DunnBC22/distilbert-base-multilingual-cased-language_detection-LG\n",
      "   d11035a..9591f8d  main -> main\n",
      "\n",
      "Dropping the following result as it does not have all the necessary fields:\n",
      "{'task': {'name': 'Text Classification', 'type': 'text-classification'}, 'metrics': [{'name': 'Accuracy', 'type': 'accuracy', 'value': 0.9882892057026477}]}\n",
      "To https://huggingface.co/DunnBC22/distilbert-base-multilingual-cased-language_detection-LG\n",
      "   9591f8d..041fff0  main -> main\n",
      "\n"
     ]
    },
    {
     "name": "stdout",
     "output_type": "stream",
     "text": [
      "***** train metrics *****\n",
      "  epoch                    =        2.0\n",
      "  train_loss               =     0.4187\n",
      "  train_runtime            = 5:56:22.98\n",
      "  train_samples_per_second =      1.469\n",
      "  train_steps_per_second   =      0.023\n"
     ]
    }
   ],
   "source": [
    "trainer.save_model()\n",
    "trainer.log_metrics(\"train\", train_results.metrics)\n",
    "trainer.save_metrics(\"train\", train_results.metrics)\n",
    "trainer.save_state()"
   ]
  },
  {
   "attachments": {},
   "cell_type": "markdown",
   "metadata": {},
   "source": [
    "#### Evaluate Model"
   ]
  },
  {
   "cell_type": "code",
   "execution_count": 20,
   "metadata": {},
   "outputs": [
    {
     "name": "stderr",
     "output_type": "stream",
     "text": [
      "The following columns in the evaluation set don't have a corresponding argument in `DistilBertForSequenceClassification.forward` and have been ignored: text, __index_level_0__. If text, __index_level_0__ are not expected by `DistilBertForSequenceClassification.forward`,  you can safely ignore this message.\n",
      "***** Running Evaluation *****\n",
      "  Num examples = 1964\n",
      "  Batch size = 64\n"
     ]
    },
    {
     "data": {
      "application/vnd.jupyter.widget-view+json": {
       "model_id": "723acf2c81184c98818ed4794a98aa95",
       "version_major": 2,
       "version_minor": 0
      },
      "text/plain": [
       "A Jupyter Widget"
      ]
     },
     "metadata": {},
     "output_type": "display_data"
    },
    {
     "name": "stdout",
     "output_type": "stream",
     "text": [
      "***** eval metrics *****\n",
      "  epoch                   =        2.0\n",
      "  eval_Macro F1           =     0.9882\n",
      "  eval_Macro Precision    =     0.9887\n",
      "  eval_Macro Recall       =     0.9879\n",
      "  eval_Micro F1           =     0.9883\n",
      "  eval_Micro Precision    =     0.9883\n",
      "  eval_Micro Recall       =     0.9883\n",
      "  eval_Weighted F1        =     0.9884\n",
      "  eval_Weighted Precision =     0.9888\n",
      "  eval_Weighted Recall    =     0.9883\n",
      "  eval_accuracy           =     0.9883\n",
      "  eval_loss               =     0.1102\n",
      "  eval_runtime            = 0:06:03.76\n",
      "  eval_samples_per_second =      5.399\n",
      "  eval_steps_per_second   =      0.085\n"
     ]
    }
   ],
   "source": [
    "output_metrics = trainer.evaluate()\n",
    "trainer.log_metrics(\"eval\", output_metrics)\n",
    "trainer.save_metrics(\"eval\", output_metrics)"
   ]
  },
  {
   "attachments": {},
   "cell_type": "markdown",
   "metadata": {},
   "source": [
    "#### Push Fine-Tuned Model to HuggingFace Hub (My Profile!!!)"
   ]
  },
  {
   "cell_type": "code",
   "execution_count": 21,
   "metadata": {},
   "outputs": [
    {
     "name": "stderr",
     "output_type": "stream",
     "text": [
      "Saving model checkpoint to distilbert-base-multilingual-cased-language_detection-LG\n",
      "Configuration saved in distilbert-base-multilingual-cased-language_detection-LG/config.json\n",
      "Model weights saved in distilbert-base-multilingual-cased-language_detection-LG/pytorch_model.bin\n",
      "tokenizer config file saved in distilbert-base-multilingual-cased-language_detection-LG/tokenizer_config.json\n",
      "Special tokens file saved in distilbert-base-multilingual-cased-language_detection-LG/special_tokens_map.json\n",
      "remote: Scanning LFS files for validity...        \n",
      "remote: LFS file scan complete.        \n",
      "To https://huggingface.co/DunnBC22/distilbert-base-multilingual-cased-language_detection-LG\n",
      "   041fff0..02cf9e5  main -> main\n",
      "\n",
      "Dropping the following result as it does not have all the necessary fields:\n",
      "{'task': {'name': 'Text Classification', 'type': 'text-classification'}, 'metrics': [{'name': 'Accuracy', 'type': 'accuracy', 'value': 0.9882892057026477}]}\n",
      "To https://huggingface.co/DunnBC22/distilbert-base-multilingual-cased-language_detection-LG\n",
      "   02cf9e5..93ea04c  main -> main\n",
      "\n"
     ]
    },
    {
     "data": {
      "text/plain": [
       "'https://huggingface.co/DunnBC22/distilbert-base-multilingual-cased-language_detection-LG/commit/02cf9e554e489643d85d1dd8cb0416d4d64bdb3b'"
      ]
     },
     "execution_count": 21,
     "metadata": {},
     "output_type": "execute_result"
    }
   ],
   "source": [
    "trainer.push_to_hub(commit_message=\"All Dunn!!!\")"
   ]
  },
  {
   "attachments": {},
   "cell_type": "markdown",
   "metadata": {},
   "source": [
    "### Notes & Other Takeaways From This Projects\n",
    "****\n",
    "- Again, another fantastic result!\n",
    "- I removed the Chinese and Japanese language samples as they were far longer than the samples for the other 16 languages. This was done to keep the training time as reasonable as possible.\n",
    "****\n"
   ]
  },
  {
   "attachments": {},
   "cell_type": "markdown",
   "metadata": {},
   "source": [
    "### Citations\n",
    "\n",
    "- Model Checkpoint\n",
    "    - @article{Sanh2019DistilBERTAD,\n",
    "  title={DistilBERT, a distilled version of BERT: smaller, faster, cheaper and lighter},\n",
    "  author={Victor Sanh and Lysandre Debut and Julien Chaumond and Thomas Wolf},\n",
    "  journal={ArXiv},\n",
    "  year={2019},\n",
    "  volume={abs/1910.01108}\n",
    "}"
   ]
  }
 ],
 "metadata": {
  "kernelspec": {
   "display_name": "nlp_ml",
   "language": "python",
   "name": "python3"
  },
  "language_info": {
   "codemirror_mode": {
    "name": "ipython",
    "version": 3
   },
   "file_extension": ".py",
   "mimetype": "text/x-python",
   "name": "python",
   "nbconvert_exporter": "python",
   "pygments_lexer": "ipython3",
   "version": "3.9.12"
  },
  "orig_nbformat": 4,
  "vscode": {
   "interpreter": {
    "hash": "0b7a754c5aaaa44a21e2f2148f50b931a5abdffe7ef71537f5954179554f39df"
   }
  }
 },
 "nbformat": 4,
 "nbformat_minor": 2
}
