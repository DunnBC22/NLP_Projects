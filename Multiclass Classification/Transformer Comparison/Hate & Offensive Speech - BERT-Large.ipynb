{
 "cells": [
  {
   "attachments": {},
   "cell_type": "markdown",
   "metadata": {},
   "source": [
    "## Detecting Hate & Offensive Speech\n",
    "\n",
    "Dataset Source: https://www.kaggle.com/datasets/subhajournal/normal-hate-and-offensive-speeches"
   ]
  },
  {
   "attachments": {},
   "cell_type": "markdown",
   "metadata": {},
   "source": [
    "#### Import Necessary Libraries"
   ]
  },
  {
   "cell_type": "code",
   "execution_count": 1,
   "metadata": {},
   "outputs": [
    {
     "name": "stdout",
     "output_type": "stream",
     "text": [
      "Git LFS initialized.\n"
     ]
    }
   ],
   "source": [
    "import os, sys\n",
    "os.environ['TOKENIZERS_PARALLELISM']='false'\n",
    "\n",
    "import numpy as np\n",
    "import pandas as pd\n",
    "import matplotlib.pyplot as plt\n",
    "\n",
    "import datasets\n",
    "from datasets import Dataset, DatasetDict\n",
    "\n",
    "import torch\n",
    "\n",
    "import transformers\n",
    "from transformers import AutoModelForSequenceClassification, AutoTokenizer\n",
    "from transformers import TrainingArguments, Trainer, set_seed, DataCollatorWithPadding\n",
    "\n",
    "import evaluate\n",
    "\n",
    "!git lfs install"
   ]
  },
  {
   "attachments": {},
   "cell_type": "markdown",
   "metadata": {},
   "source": [
    "#### Display Library Versions"
   ]
  },
  {
   "cell_type": "code",
   "execution_count": 2,
   "metadata": {},
   "outputs": [
    {
     "name": "stdout",
     "output_type": "stream",
     "text": [
      "        Python: 3.9.7 \n",
      "         NumPy: 1.23.3\n",
      "        Pandas: 1.4.4\n",
      "      Datasets: 2.8.0\n",
      "  Transformers: 4.26.0\n",
      "         Torch: 1.12.1\n",
      "      Evaluate: 0.2.2\n"
     ]
    }
   ],
   "source": [
    "print(\"Python:\".rjust(15), sys.version[0:6])\n",
    "print(\"NumPy:\".rjust(15), np.__version__)\n",
    "print(\"Pandas:\".rjust(15), pd.__version__)\n",
    "print(\"Datasets:\".rjust(15), datasets.__version__)\n",
    "print(\"Transformers:\".rjust(15), transformers.__version__)\n",
    "print(\"Torch:\".rjust(15), torch.__version__)\n",
    "print(\"Evaluate:\".rjust(15), evaluate.__version__)"
   ]
  },
  {
   "attachments": {},
   "cell_type": "markdown",
   "metadata": {},
   "source": [
    "#### Load & Start Preprocessing Dataset"
   ]
  },
  {
   "cell_type": "code",
   "execution_count": 3,
   "metadata": {},
   "outputs": [
    {
     "data": {
      "text/html": [
       "<div>\n",
       "<style scoped>\n",
       "    .dataframe tbody tr th:only-of-type {\n",
       "        vertical-align: middle;\n",
       "    }\n",
       "\n",
       "    .dataframe tbody tr th {\n",
       "        vertical-align: top;\n",
       "    }\n",
       "\n",
       "    .dataframe thead th {\n",
       "        text-align: right;\n",
       "    }\n",
       "</style>\n",
       "<table border=\"1\" class=\"dataframe\">\n",
       "  <thead>\n",
       "    <tr style=\"text-align: right;\">\n",
       "      <th></th>\n",
       "      <th>text</th>\n",
       "      <th>label</th>\n",
       "    </tr>\n",
       "  </thead>\n",
       "  <tbody>\n",
       "    <tr>\n",
       "      <th>0</th>\n",
       "      <td>Republicans need to go on the offensive! They ...</td>\n",
       "      <td>Offensive</td>\n",
       "    </tr>\n",
       "    <tr>\n",
       "      <th>1</th>\n",
       "      <td>&amp;gt; Make fun of people who lost their familie...</td>\n",
       "      <td>Offensive</td>\n",
       "    </tr>\n",
       "    <tr>\n",
       "      <th>2</th>\n",
       "      <td>You're missing my point entirely. I don't give...</td>\n",
       "      <td>Offensive</td>\n",
       "    </tr>\n",
       "    <tr>\n",
       "      <th>3</th>\n",
       "      <td>Wet leg quoting Alex turner’s Brit acceptance ...</td>\n",
       "      <td>Offensive</td>\n",
       "    </tr>\n",
       "    <tr>\n",
       "      <th>4</th>\n",
       "      <td>@SammiePressdee Sir Stephen Sedley said: \"Free...</td>\n",
       "      <td>Offensive</td>\n",
       "    </tr>\n",
       "    <tr>\n",
       "      <th>...</th>\n",
       "      <td>...</td>\n",
       "      <td>...</td>\n",
       "    </tr>\n",
       "    <tr>\n",
       "      <th>218</th>\n",
       "      <td>@KumudShankar @nandtara @MoatasimSolkar @Gauta...</td>\n",
       "      <td>Normal</td>\n",
       "    </tr>\n",
       "    <tr>\n",
       "      <th>219</th>\n",
       "      <td>There’s no point dropping speech when he is no...</td>\n",
       "      <td>Normal</td>\n",
       "    </tr>\n",
       "    <tr>\n",
       "      <th>220</th>\n",
       "      <td>harry is one of the most humble musicians i kn...</td>\n",
       "      <td>Normal</td>\n",
       "    </tr>\n",
       "    <tr>\n",
       "      <th>221</th>\n",
       "      <td>Bro want the biggest most political arc in rec...</td>\n",
       "      <td>Normal</td>\n",
       "    </tr>\n",
       "    <tr>\n",
       "      <th>222</th>\n",
       "      <td>It's comedic how HxH stans only defenses are t...</td>\n",
       "      <td>Normal</td>\n",
       "    </tr>\n",
       "  </tbody>\n",
       "</table>\n",
       "<p>3061 rows × 2 columns</p>\n",
       "</div>"
      ],
      "text/plain": [
       "                                                  text      label\n",
       "0    Republicans need to go on the offensive! They ...  Offensive\n",
       "1    &gt; Make fun of people who lost their familie...  Offensive\n",
       "2    You're missing my point entirely. I don't give...  Offensive\n",
       "3    Wet leg quoting Alex turner’s Brit acceptance ...  Offensive\n",
       "4    @SammiePressdee Sir Stephen Sedley said: \"Free...  Offensive\n",
       "..                                                 ...        ...\n",
       "218  @KumudShankar @nandtara @MoatasimSolkar @Gauta...     Normal\n",
       "219  There’s no point dropping speech when he is no...     Normal\n",
       "220  harry is one of the most humble musicians i kn...     Normal\n",
       "221  Bro want the biggest most political arc in rec...     Normal\n",
       "222  It's comedic how HxH stans only defenses are t...     Normal\n",
       "\n",
       "[3061 rows x 2 columns]"
      ]
     },
     "execution_count": 3,
     "metadata": {},
     "output_type": "execute_result"
    }
   ],
   "source": [
    "parent_dir = \"data\"\n",
    "\n",
    "unique_classes = [\"Normal\", \"Hate\", \"Offensive\"]\n",
    "\n",
    "data = pd.DataFrame()\n",
    "\n",
    "### loop through all three classes ('Normal', 'Hate', 'Offensive')\n",
    "for class_name in unique_classes:\n",
    "    for x in range(4):\n",
    "        temp_df = pd.DataFrame()\n",
    "        file_name = class_name + \"_Speeches_\" + str(x + 1) + \".csv\"\n",
    "        data_file_name = os.path.join(parent_dir, file_name)\n",
    "        temp_df = pd.read_csv(data_file_name, usecols=[3])\n",
    "        temp_df['label'] = class_name\n",
    "        data = pd.concat([temp_df, data]) \n",
    "\n",
    "data.rename(columns={\"full_text\": \"text\"}, inplace=True)\n",
    "\n",
    "data"
   ]
  },
  {
   "attachments": {},
   "cell_type": "markdown",
   "metadata": {},
   "source": [
    "#### Define Dictionaries to Convert Between String & Integer Class Values"
   ]
  },
  {
   "cell_type": "code",
   "execution_count": 4,
   "metadata": {},
   "outputs": [],
   "source": [
    "id2label = {idx:label for idx, label in enumerate(unique_classes)}\n",
    "label2id = {label:idx for idx, label in enumerate(unique_classes)}\n",
    "NUM_OF_LABELS = len(unique_classes)"
   ]
  },
  {
   "attachments": {},
   "cell_type": "markdown",
   "metadata": {},
   "source": [
    "#### Visual: Histogram of Text Lengths"
   ]
  },
  {
   "cell_type": "code",
   "execution_count": 5,
   "metadata": {},
   "outputs": [
    {
     "data": {
      "image/png": "[encoded data removed]",
      "text/plain": [
       "<Figure size 1800x800 with 1 Axes>"
      ]
     },
     "metadata": {},
     "output_type": "display_data"
    },
    {
     "name": "stdout",
     "output_type": "stream",
     "text": [
      "The maximum length of Speeches is 88 words.\n"
     ]
    }
   ],
   "source": [
    "data['text_length'] = data['text'].str.split().str.len()\n",
    "\n",
    "n_bin=61\n",
    "data.hist('text_length', grid=False, figsize=(18,8), range=(0,n_bin), bins=n_bin)\n",
    "plt.title('Histogram: Length of Speeches')\n",
    "plt.xlabel('# of Words in Speeches')\n",
    "plt.ylabel('# of Samples')\n",
    "plt.show()\n",
    "\n",
    "print(f\"The maximum length of Speeches is {max(data['text_length'])} words.\")"
   ]
  },
  {
   "attachments": {},
   "cell_type": "markdown",
   "metadata": {},
   "source": [
    "#### Visual: Tweet Length by Class"
   ]
  },
  {
   "cell_type": "code",
   "execution_count": 6,
   "metadata": {},
   "outputs": [
    {
     "data": {
      "image/png": "[encoded data removed]",
      "text/plain": [
       "<Figure size 1000x400 with 1 Axes>"
      ]
     },
     "metadata": {},
     "output_type": "display_data"
    }
   ],
   "source": [
    "data.boxplot(\"text_length\", by=\"label\", grid=False, showfliers=False, color=\"Blue\", figsize=(10,4))\n",
    "\n",
    "plt.suptitle('')\n",
    "plt.title('Tweet Length by Type')\n",
    "plt.xlabel('')\n",
    "plt.ylabel('Words per Tweet')\n",
    "plt.show()"
   ]
  },
  {
   "attachments": {},
   "cell_type": "markdown",
   "metadata": {},
   "source": [
    "#### Final Data Preprocessing"
   ]
  },
  {
   "cell_type": "code",
   "execution_count": 7,
   "metadata": {},
   "outputs": [
    {
     "name": "stdout",
     "output_type": "stream",
     "text": [
      "<class 'pandas.core.frame.DataFrame'>\n",
      "Int64Index: 3054 entries, 0 to 222\n",
      "Data columns (total 2 columns):\n",
      " #   Column  Non-Null Count  Dtype \n",
      "---  ------  --------------  ----- \n",
      " 0   text    3054 non-null   object\n",
      " 1   label   3054 non-null   object\n",
      "dtypes: object(2)\n",
      "memory usage: 71.6+ KB\n"
     ]
    }
   ],
   "source": [
    "data = data[data[\"text_length\"] < 61]\n",
    "\n",
    "data = data.drop(columns=[\"text_length\"])\n",
    "\n",
    "data.info()"
   ]
  },
  {
   "attachments": {},
   "cell_type": "markdown",
   "metadata": {},
   "source": [
    "#### Number of Samples in Each Class"
   ]
  },
  {
   "cell_type": "code",
   "execution_count": 8,
   "metadata": {},
   "outputs": [
    {
     "data": {
      "image/png": "[encoded data removed]",
      "text/plain": [
       "<Figure size 640x480 with 1 Axes>"
      ]
     },
     "metadata": {},
     "output_type": "display_data"
    }
   ],
   "source": [
    "class_counts = data.groupby(\"label\").count()\n",
    "\n",
    "class_counts.plot.bar()\n",
    "plt.suptitle('')\n",
    "plt.title('# of Samples of Each Class')\n",
    "plt.xlabel('Class')\n",
    "plt.ylabel('# of Samples')\n",
    "plt.xticks(rotation = 0)\n",
    "plt.legend('', frameon=False)\n",
    "plt.show()"
   ]
  },
  {
   "attachments": {},
   "cell_type": "markdown",
   "metadata": {},
   "source": [
    "#### Convert Class Values From String to Integer & Convert DataFrame to Dataset"
   ]
  },
  {
   "cell_type": "code",
   "execution_count": 9,
   "metadata": {},
   "outputs": [],
   "source": [
    "data = data.replace(label2id)\n",
    "\n",
    "dataset = Dataset.from_pandas(data)"
   ]
  },
  {
   "attachments": {},
   "cell_type": "markdown",
   "metadata": {},
   "source": [
    "#### Split Dataset into Training, Testing & Evaluation Datasets"
   ]
  },
  {
   "cell_type": "code",
   "execution_count": 10,
   "metadata": {},
   "outputs": [
    {
     "name": "stdout",
     "output_type": "stream",
     "text": [
      "Training Dataset Shape: (2443, 3)\n",
      "Evaluation Dataset Shape: (611, 3)\n"
     ]
    }
   ],
   "source": [
    "train_eval = dataset.train_test_split(train_size=0.80)\n",
    "\n",
    "ds = DatasetDict({\n",
    "    'train' : train_eval['train'],\n",
    "    'eval' : train_eval['test'],\n",
    "})\n",
    "\n",
    "print(\"Training Dataset Shape:\", ds['train'].shape)\n",
    "print(\"Evaluation Dataset Shape:\", ds['eval'].shape)"
   ]
  },
  {
   "attachments": {},
   "cell_type": "markdown",
   "metadata": {},
   "source": [
    "#### Basic Values/Constants"
   ]
  },
  {
   "cell_type": "code",
   "execution_count": 11,
   "metadata": {},
   "outputs": [
    {
     "name": "stdout",
     "output_type": "stream",
     "text": [
      "This project will utilize the CPU to train and evaluate.\n",
      "This project will have a maximum length for the input text of 78 tokens.\n",
      "The model checkpoint used for this project is: bert-large-uncased\n"
     ]
    }
   ],
   "source": [
    "set_seed = 42\n",
    "NUM_OF_EPOCHS = 5\n",
    "\n",
    "BATCH_SIZE = 64\n",
    "LEARNING_RATE = 2e-5\n",
    "\n",
    "MAX_LENGTH = int(60 * 1.3)\n",
    "MODEL_CKPT = \"bert-large-uncased\"\n",
    "MODEL_NAME = MODEL_CKPT.split(\"/\")[-1] + \"-Hate_Offensive_or_Normal_Speech\"\n",
    "\n",
    "METRIC_NAME = \"f1\"\n",
    "DEVICE = torch.device(\"cpu\")\n",
    "\n",
    "print(f\"This project will utilize the {str(DEVICE).upper()} to train and evaluate.\")\n",
    "print(f\"This project will have a maximum length for the input text of {MAX_LENGTH} tokens.\")\n",
    "print(f\"The model checkpoint used for this project is: {MODEL_CKPT}\")"
   ]
  },
  {
   "attachments": {},
   "cell_type": "markdown",
   "metadata": {},
   "source": [
    "#### Tokenize Entire Dataset"
   ]
  },
  {
   "cell_type": "code",
   "execution_count": 12,
   "metadata": {},
   "outputs": [
    {
     "data": {
      "application/vnd.jupyter.widget-view+json": {
       "model_id": "0a64809d70fb4321ad4b7944d0f15e80",
       "version_major": 2,
       "version_minor": 0
      },
      "text/plain": [
       "Downloading (…)okenizer_config.json:   0%|          | 0.00/28.0 [00:00<?, ?B/s]"
      ]
     },
     "metadata": {},
     "output_type": "display_data"
    },
    {
     "data": {
      "application/vnd.jupyter.widget-view+json": {
       "model_id": "79ab6910680f45bea11363d1173386a7",
       "version_major": 2,
       "version_minor": 0
      },
      "text/plain": [
       "Downloading (…)lve/main/config.json:   0%|          | 0.00/571 [00:00<?, ?B/s]"
      ]
     },
     "metadata": {},
     "output_type": "display_data"
    },
    {
     "data": {
      "application/vnd.jupyter.widget-view+json": {
       "model_id": "f89e12ca9607463ba74b2707169456dd",
       "version_major": 2,
       "version_minor": 0
      },
      "text/plain": [
       "Downloading (…)solve/main/vocab.txt:   0%|          | 0.00/232k [00:00<?, ?B/s]"
      ]
     },
     "metadata": {},
     "output_type": "display_data"
    },
    {
     "data": {
      "application/vnd.jupyter.widget-view+json": {
       "model_id": "2705c813bd2741cc9a850e818459b47c",
       "version_major": 2,
       "version_minor": 0
      },
      "text/plain": [
       "Downloading (…)/main/tokenizer.json:   0%|          | 0.00/466k [00:00<?, ?B/s]"
      ]
     },
     "metadata": {},
     "output_type": "display_data"
    },
    {
     "data": {
      "application/vnd.jupyter.widget-view+json": {
       "model_id": "31a49e90ee3e40e38975a8840e7cb7e6",
       "version_major": 2,
       "version_minor": 0
      },
      "text/plain": [
       "  0%|          | 0/1 [00:00<?, ?ba/s]"
      ]
     },
     "metadata": {},
     "output_type": "display_data"
    },
    {
     "data": {
      "application/vnd.jupyter.widget-view+json": {
       "model_id": "b59db57f1201436d94cdc824be0e2612",
       "version_major": 2,
       "version_minor": 0
      },
      "text/plain": [
       "  0%|          | 0/1 [00:00<?, ?ba/s]"
      ]
     },
     "metadata": {},
     "output_type": "display_data"
    },
    {
     "name": "stdout",
     "output_type": "stream",
     "text": [
      "Training data shape: (2443, 6)\n",
      "Validation data shape: (611, 6)\n",
      "{'text': Value(dtype='string', id=None), 'label': Value(dtype='int64', id=None), '__index_level_0__': Value(dtype='int64', id=None), 'input_ids': Sequence(feature=Value(dtype='int32', id=None), length=-1, id=None), 'token_type_ids': Sequence(feature=Value(dtype='int8', id=None), length=-1, id=None), 'attention_mask': Sequence(feature=Value(dtype='int8', id=None), length=-1, id=None)}\n",
      "Dataset({\n",
      "    features: ['text', 'label', '__index_level_0__', 'input_ids', 'token_type_ids', 'attention_mask'],\n",
      "    num_rows: 2443\n",
      "})\n"
     ]
    }
   ],
   "source": [
    "# Define Tokenizer\n",
    "tokenizer = AutoTokenizer.from_pretrained(MODEL_CKPT)\n",
    "\n",
    "# Tokenize Method\n",
    "def tokenize(batch):\n",
    "    return tokenizer(batch['text'], \n",
    "                     padding=True, \n",
    "                     truncation=True, \n",
    "                     max_length=MAX_LENGTH, \n",
    "                     return_tensors=\"pt\")\n",
    "\n",
    "# Map tokenizer method to entire dataset\n",
    "encoded_data = ds.map(tokenize, batched=True, batch_size=None)\n",
    "\n",
    "print('Training data shape:', encoded_data['train'].shape)\n",
    "print('Validation data shape:', encoded_data['eval'].shape)\n",
    "\n",
    "print(encoded_data['train'].features)\n",
    "print(encoded_data['train'])"
   ]
  },
  {
   "attachments": {},
   "cell_type": "markdown",
   "metadata": {},
   "source": [
    "#### Instantiate Model"
   ]
  },
  {
   "cell_type": "code",
   "execution_count": 13,
   "metadata": {},
   "outputs": [
    {
     "data": {
      "application/vnd.jupyter.widget-view+json": {
       "model_id": "bbc659a44bf845fbbf38b3ba6f4b9686",
       "version_major": 2,
       "version_minor": 0
      },
      "text/plain": [
       "Downloading pytorch_model.bin:   0%|          | 0.00/1.34G [00:00<?, ?B/s]"
      ]
     },
     "metadata": {},
     "output_type": "display_data"
    },
    {
     "name": "stderr",
     "output_type": "stream",
     "text": [
      "Some weights of the model checkpoint at bert-large-uncased were not used when initializing BertForSequenceClassification: ['cls.seq_relationship.weight', 'cls.predictions.transform.LayerNorm.bias', 'cls.predictions.bias', 'cls.seq_relationship.bias', 'cls.predictions.transform.dense.weight', 'cls.predictions.transform.LayerNorm.weight', 'cls.predictions.decoder.weight', 'cls.predictions.transform.dense.bias']\n",
      "- This IS expected if you are initializing BertForSequenceClassification from the checkpoint of a model trained on another task or with another architecture (e.g. initializing a BertForSequenceClassification model from a BertForPreTraining model).\n",
      "- This IS NOT expected if you are initializing BertForSequenceClassification from the checkpoint of a model that you expect to be exactly identical (initializing a BertForSequenceClassification model from a BertForSequenceClassification model).\n",
      "Some weights of BertForSequenceClassification were not initialized from the model checkpoint at bert-large-uncased and are newly initialized: ['classifier.bias', 'classifier.weight']\n",
      "You should probably TRAIN this model on a down-stream task to be able to use it for predictions and inference.\n"
     ]
    }
   ],
   "source": [
    "model = (\n",
    "    AutoModelForSequenceClassification.from_pretrained(\n",
    "        MODEL_CKPT,\n",
    "        num_labels=NUM_OF_LABELS\n",
    "    ).to(DEVICE))"
   ]
  },
  {
   "attachments": {},
   "cell_type": "markdown",
   "metadata": {},
   "source": [
    "#### Define Function to Compute Metrics"
   ]
  },
  {
   "cell_type": "code",
   "execution_count": 14,
   "metadata": {},
   "outputs": [],
   "source": [
    "def compute_metrics(p):\n",
    "    accuracy_metric = evaluate.load(\"accuracy\")\n",
    "    accuracy = accuracy_metric.compute(predictions=np.argmax(p.predictions, axis=1), references=p.label_ids)['accuracy']\n",
    "    \n",
    "    ### ------------------- F1 scores -------------------\n",
    "    \n",
    "    f1_score_metric = evaluate.load(\"f1\")\n",
    "    weighted_f1_score = f1_score_metric.compute(predictions=np.argmax(p.predictions, axis=1), references=p.label_ids, average='weighted')[\"f1\"]\n",
    "    micro_f1_score = f1_score_metric.compute(predictions=np.argmax(p.predictions, axis=1), references=p.label_ids, average='micro')['f1']\n",
    "    macro_f1_score = f1_score_metric.compute(predictions=np.argmax(p.predictions, axis=1), references=p.label_ids, average='macro')[\"f1\"]\n",
    "    \n",
    "    ### ------------------- recall -------------------\n",
    "    \n",
    "    recall_metric = evaluate.load(\"recall\")\n",
    "    weighted_recall = recall_metric.compute(predictions=np.argmax(p.predictions, axis=1), references=p.label_ids, average='weighted')[\"recall\"]\n",
    "    micro_recall = recall_metric.compute(predictions=np.argmax(p.predictions, axis=1), references=p.label_ids, average='micro')[\"recall\"]\n",
    "    macro_recall = recall_metric.compute(predictions=np.argmax(p.predictions, axis=1), references=p.label_ids, average='macro')[\"recall\"]\n",
    "    \n",
    "    ### ------------------- precision -------------------\n",
    "    \n",
    "    precision_metric = evaluate.load(\"precision\")\n",
    "    weighted_precision = precision_metric.compute(predictions=np.argmax(p.predictions, axis=1), references=p.label_ids, average='weighted')[\"precision\"]\n",
    "    micro_precision = precision_metric.compute(predictions=np.argmax(p.predictions, axis=1), references=p.label_ids, average='micro')[\"precision\"]\n",
    "    macro_precision = precision_metric.compute(predictions=np.argmax(p.predictions, axis=1), references=p.label_ids, average='macro')[\"precision\"]\n",
    "    \n",
    "    return {\"accuracy\" : accuracy, \n",
    "            \"Weighted F1\" : weighted_f1_score,\n",
    "            \"Micro F1\" : micro_f1_score,\n",
    "            \"Macro F1\" : macro_f1_score,\n",
    "            \"Weighted Recall\" : weighted_recall,\n",
    "            \"Micro Recall\" : micro_recall,\n",
    "            \"Macro Recall\" : macro_recall,\n",
    "            \"Weighted Precision\" : weighted_precision,\n",
    "            \"Micro Precision\" : micro_precision,\n",
    "            \"Macro Precision\" : macro_precision\n",
    "            }"
   ]
  },
  {
   "attachments": {},
   "cell_type": "markdown",
   "metadata": {},
   "source": [
    "#### Define TrainingArguments"
   ]
  },
  {
   "cell_type": "code",
   "execution_count": 15,
   "metadata": {},
   "outputs": [],
   "source": [
    "training_args = TrainingArguments(\n",
    "    output_dir=MODEL_NAME,\n",
    "    num_train_epochs=NUM_OF_EPOCHS,\n",
    "    learning_rate=LEARNING_RATE,\n",
    "    per_device_train_batch_size=BATCH_SIZE, \n",
    "    per_device_eval_batch_size=BATCH_SIZE, \n",
    "    weight_decay=0.01,\n",
    "    log_level=\"error\",\n",
    "    logging_strategy='epoch', \n",
    "    evaluation_strategy=\"epoch\",\n",
    "    save_strategy=\"epoch\",\n",
    "    logging_first_step=True,\n",
    "    load_best_model_at_end=True,\n",
    "    disable_tqdm=False,\n",
    "    hub_private_repo=True,\n",
    "    push_to_hub=True\n",
    ")"
   ]
  },
  {
   "attachments": {},
   "cell_type": "markdown",
   "metadata": {},
   "source": [
    "#### Define Data Collator"
   ]
  },
  {
   "cell_type": "code",
   "execution_count": 16,
   "metadata": {},
   "outputs": [],
   "source": [
    "data_collator = DataCollatorWithPadding(tokenizer, padding=True)"
   ]
  },
  {
   "attachments": {},
   "cell_type": "markdown",
   "metadata": {},
   "source": [
    "#### Subclass Trainer to Handle Class Imbalance"
   ]
  },
  {
   "cell_type": "code",
   "execution_count": 17,
   "metadata": {},
   "outputs": [],
   "source": [
    "class CustomTrainer(Trainer):\n",
    "    def compute_loss(self, model, inputs, return_outputs=False):\n",
    "        labels = inputs.get(\"labels\")\n",
    "        outputs = model(**inputs)\n",
    "        logits = outputs.get(\"logits\")\n",
    "        loss_fct = torch.nn.CrossEntropyLoss(weight=torch.tensor([1.0, 2.0, 3.0]))\n",
    "        loss = loss_fct(logits.view(-1, self.model.config.num_labels), labels.view(-1))\n",
    "        return (loss, outputs) if return_outputs else loss"
   ]
  },
  {
   "attachments": {},
   "cell_type": "markdown",
   "metadata": {},
   "source": [
    "#### Instantiate Trainer"
   ]
  },
  {
   "cell_type": "code",
   "execution_count": 18,
   "metadata": {},
   "outputs": [
    {
     "name": "stderr",
     "output_type": "stream",
     "text": [
      "Cloning https://huggingface.co/DunnBC22/bert-large-uncased-Hate_Offensive_or_Normal_Speech into local empty directory.\n"
     ]
    }
   ],
   "source": [
    "trainer = CustomTrainer(model=model, \n",
    "                  args=training_args, \n",
    "                  compute_metrics=compute_metrics,\n",
    "                  train_dataset=encoded_data['train'], \n",
    "                  eval_dataset=encoded_data['eval'], \n",
    "                  data_collator=data_collator,\n",
    "                  tokenizer=tokenizer)"
   ]
  },
  {
   "attachments": {},
   "cell_type": "markdown",
   "metadata": {},
   "source": [
    "#### Train Model"
   ]
  },
  {
   "cell_type": "code",
   "execution_count": 19,
   "metadata": {},
   "outputs": [
    {
     "name": "stderr",
     "output_type": "stream",
     "text": [
      "/Users/leedunn/Documents/nlpnn/nlp/lib/python3.9/site-packages/transformers/optimization.py:306: FutureWarning: This implementation of AdamW is deprecated and will be removed in a future version. Use the PyTorch implementation torch.optim.AdamW instead, or set `no_deprecation_warning=True` to disable this warning\n",
      "  warnings.warn(\n"
     ]
    },
    {
     "data": {
      "application/vnd.jupyter.widget-view+json": {
       "model_id": "05ebabd224714d27a35abf4f44fe9795",
       "version_major": 2,
       "version_minor": 0
      },
      "text/plain": [
       "  0%|          | 0/195 [00:00<?, ?it/s]"
      ]
     },
     "metadata": {},
     "output_type": "display_data"
    },
    {
     "name": "stdout",
     "output_type": "stream",
     "text": [
      "{'loss': 1.6668, 'learning_rate': 1.98974358974359e-05, 'epoch': 0.03}\n",
      "{'loss': 0.7991, 'learning_rate': 1.6000000000000003e-05, 'epoch': 1.0}\n"
     ]
    },
    {
     "data": {
      "application/vnd.jupyter.widget-view+json": {
       "model_id": "d0d594b593cc495aae882571c608d383",
       "version_major": 2,
       "version_minor": 0
      },
      "text/plain": [
       "  0%|          | 0/10 [00:00<?, ?it/s]"
      ]
     },
     "metadata": {},
     "output_type": "display_data"
    },
    {
     "name": "stdout",
     "output_type": "stream",
     "text": [
      "{'eval_loss': 0.42353054881095886, 'eval_accuracy': 0.7430441898527005, 'eval_Weighted F1': 0.7100455875952821, 'eval_Micro F1': 0.7430441898527005, 'eval_Macro F1': 0.6901882122826978, 'eval_Weighted Recall': 0.7430441898527005, 'eval_Micro Recall': 0.7430441898527005, 'eval_Macro Recall': 0.7049309175146852, 'eval_Weighted Precision': 0.7781623048510729, 'eval_Micro Precision': 0.7430441898527005, 'eval_Macro Precision': 0.7886298016225889, 'eval_runtime': 442.521, 'eval_samples_per_second': 1.381, 'eval_steps_per_second': 0.023, 'epoch': 1.0}\n",
      "{'loss': 0.2156, 'learning_rate': 1.2e-05, 'epoch': 2.0}\n"
     ]
    },
    {
     "data": {
      "application/vnd.jupyter.widget-view+json": {
       "model_id": "d5179a0a01cc4f03b94f4841a3bea843",
       "version_major": 2,
       "version_minor": 0
      },
      "text/plain": [
       "  0%|          | 0/10 [00:00<?, ?it/s]"
      ]
     },
     "metadata": {},
     "output_type": "display_data"
    },
    {
     "name": "stdout",
     "output_type": "stream",
     "text": [
      "{'eval_loss': 0.10715224593877792, 'eval_accuracy': 0.9607201309328969, 'eval_Weighted F1': 0.960521262215524, 'eval_Micro F1': 0.9607201309328969, 'eval_Macro F1': 0.958477332112127, 'eval_Weighted Recall': 0.9607201309328969, 'eval_Micro Recall': 0.9607201309328969, 'eval_Macro Recall': 0.9568917018284107, 'eval_Weighted Precision': 0.960742914068959, 'eval_Micro Precision': 0.9607201309328969, 'eval_Macro Precision': 0.9605319776597775, 'eval_runtime': 510.6914, 'eval_samples_per_second': 1.196, 'eval_steps_per_second': 0.02, 'epoch': 2.0}\n",
      "{'loss': 0.0518, 'learning_rate': 8.000000000000001e-06, 'epoch': 3.0}\n"
     ]
    },
    {
     "data": {
      "application/vnd.jupyter.widget-view+json": {
       "model_id": "c199961a471945daaf4e81a9e7139e1d",
       "version_major": 2,
       "version_minor": 0
      },
      "text/plain": [
       "  0%|          | 0/10 [00:00<?, ?it/s]"
      ]
     },
     "metadata": {},
     "output_type": "display_data"
    },
    {
     "name": "stdout",
     "output_type": "stream",
     "text": [
      "{'eval_loss': 0.051800940185785294, 'eval_accuracy': 0.9869067103109657, 'eval_Weighted F1': 0.9868802978484879, 'eval_Micro F1': 0.9869067103109657, 'eval_Macro F1': 0.9863153577654783, 'eval_Weighted Recall': 0.9869067103109657, 'eval_Micro Recall': 0.9869067103109657, 'eval_Macro Recall': 0.9857491519814677, 'eval_Weighted Precision': 0.9869162080391105, 'eval_Micro Precision': 0.9869067103109657, 'eval_Macro Precision': 0.9869519344276284, 'eval_runtime': 439.5395, 'eval_samples_per_second': 1.39, 'eval_steps_per_second': 0.023, 'epoch': 3.0}\n",
      "{'loss': 0.0242, 'learning_rate': 4.000000000000001e-06, 'epoch': 4.0}\n"
     ]
    },
    {
     "data": {
      "application/vnd.jupyter.widget-view+json": {
       "model_id": "59991f1448414a2fb43fb654da921b9b",
       "version_major": 2,
       "version_minor": 0
      },
      "text/plain": [
       "  0%|          | 0/10 [00:00<?, ?it/s]"
      ]
     },
     "metadata": {},
     "output_type": "display_data"
    },
    {
     "name": "stdout",
     "output_type": "stream",
     "text": [
      "{'eval_loss': 0.0500081405043602, 'eval_accuracy': 0.9852700490998363, 'eval_Weighted F1': 0.9852499296043848, 'eval_Micro F1': 0.9852700490998363, 'eval_Macro F1': 0.9845267020939886, 'eval_Weighted Recall': 0.9852700490998363, 'eval_Micro Recall': 0.9852700490998363, 'eval_Macro Recall': 0.9841151650533632, 'eval_Weighted Precision': 0.9852561782367332, 'eval_Micro Precision': 0.9852700490998363, 'eval_Macro Precision': 0.9849678895948624, 'eval_runtime': 441.5004, 'eval_samples_per_second': 1.384, 'eval_steps_per_second': 0.023, 'epoch': 4.0}\n"
     ]
    },
    {
     "name": "stderr",
     "output_type": "stream",
     "text": [
      "Adding files tracked by Git LFS: ['.DS_Store']. This may take a bit of time if the files are large.\n"
     ]
    },
    {
     "name": "stdout",
     "output_type": "stream",
     "text": [
      "{'loss': 0.0163, 'learning_rate': 0.0, 'epoch': 5.0}\n"
     ]
    },
    {
     "data": {
      "application/vnd.jupyter.widget-view+json": {
       "model_id": "280a8884ebf049ed87be195b10383983",
       "version_major": 2,
       "version_minor": 0
      },
      "text/plain": [
       "  0%|          | 0/10 [00:00<?, ?it/s]"
      ]
     },
     "metadata": {},
     "output_type": "display_data"
    },
    {
     "name": "stdout",
     "output_type": "stream",
     "text": [
      "{'eval_loss': 0.04433029890060425, 'eval_accuracy': 0.9869067103109657, 'eval_Weighted F1': 0.9868802978484879, 'eval_Micro F1': 0.9869067103109657, 'eval_Macro F1': 0.9863153577654783, 'eval_Weighted Recall': 0.9869067103109657, 'eval_Micro Recall': 0.9869067103109657, 'eval_Macro Recall': 0.9857491519814677, 'eval_Weighted Precision': 0.9869162080391105, 'eval_Micro Precision': 0.9869067103109657, 'eval_Macro Precision': 0.9869519344276284, 'eval_runtime': 434.1886, 'eval_samples_per_second': 1.407, 'eval_steps_per_second': 0.023, 'epoch': 5.0}\n",
      "{'train_runtime': 50788.9347, 'train_samples_per_second': 0.241, 'train_steps_per_second': 0.004, 'train_loss': 0.2258462979243352, 'epoch': 5.0}\n"
     ]
    }
   ],
   "source": [
    "train_results = trainer.train()"
   ]
  },
  {
   "attachments": {},
   "cell_type": "markdown",
   "metadata": {},
   "source": [
    "#### Save Model & Metrics on Training Dataset"
   ]
  },
  {
   "cell_type": "code",
   "execution_count": 20,
   "metadata": {},
   "outputs": [
    {
     "name": "stderr",
     "output_type": "stream",
     "text": [
      "Several commits (2) will be pushed upstream.\n",
      "The progress bars may be unreliable.\n"
     ]
    },
    {
     "data": {
      "application/vnd.jupyter.widget-view+json": {
       "model_id": "2bd1bb076e20406eb5a5cf5bbc492cae",
       "version_major": 2,
       "version_minor": 0
      },
      "text/plain": [
       "Upload file pytorch_model.bin:   0%|          | 1.00/1.25G [00:00<?, ?B/s]"
      ]
     },
     "metadata": {},
     "output_type": "display_data"
    },
    {
     "data": {
      "application/vnd.jupyter.widget-view+json": {
       "model_id": "4e622a4c359a46569dc449769c71d646",
       "version_major": 2,
       "version_minor": 0
      },
      "text/plain": [
       "Upload file runs/Apr16_00-08-29_Lees-Air/events.out.tfevents.1681621716.Lees-Air.1926.0:   0%|          | 1.00…"
      ]
     },
     "metadata": {},
     "output_type": "display_data"
    },
    {
     "name": "stderr",
     "output_type": "stream",
     "text": [
      "To https://huggingface.co/DunnBC22/bert-large-uncased-Hate_Offensive_or_Normal_Speech\n",
      "   84d47da..affb66a  main -> main\n",
      "\n",
      "To https://huggingface.co/DunnBC22/bert-large-uncased-Hate_Offensive_or_Normal_Speech\n",
      "   affb66a..0b953fa  main -> main\n",
      "\n"
     ]
    },
    {
     "name": "stdout",
     "output_type": "stream",
     "text": [
      "***** train metrics *****\n",
      "  epoch                    =         5.0\n",
      "  train_loss               =      0.2258\n",
      "  train_runtime            = 14:06:28.93\n",
      "  train_samples_per_second =       0.241\n",
      "  train_steps_per_second   =       0.004\n"
     ]
    }
   ],
   "source": [
    "trainer.save_model()\n",
    "trainer.log_metrics(\"train\", train_results.metrics)\n",
    "trainer.save_metrics(\"train\", train_results.metrics)\n",
    "trainer.save_state()"
   ]
  },
  {
   "attachments": {},
   "cell_type": "markdown",
   "metadata": {},
   "source": [
    "#### Evaluate Model"
   ]
  },
  {
   "cell_type": "code",
   "execution_count": 21,
   "metadata": {},
   "outputs": [
    {
     "data": {
      "application/vnd.jupyter.widget-view+json": {
       "model_id": "27c83af28dab49b89cb08e72925344c5",
       "version_major": 2,
       "version_minor": 0
      },
      "text/plain": [
       "  0%|          | 0/10 [00:00<?, ?it/s]"
      ]
     },
     "metadata": {},
     "output_type": "display_data"
    },
    {
     "name": "stdout",
     "output_type": "stream",
     "text": [
      "***** eval metrics *****\n",
      "  epoch                   =        5.0\n",
      "  eval_Macro F1           =     0.9863\n",
      "  eval_Macro Precision    =      0.987\n",
      "  eval_Macro Recall       =     0.9857\n",
      "  eval_Micro F1           =     0.9869\n",
      "  eval_Micro Precision    =     0.9869\n",
      "  eval_Micro Recall       =     0.9869\n",
      "  eval_Weighted F1        =     0.9869\n",
      "  eval_Weighted Precision =     0.9869\n",
      "  eval_Weighted Recall    =     0.9869\n",
      "  eval_accuracy           =     0.9869\n",
      "  eval_loss               =     0.0443\n",
      "  eval_runtime            = 0:07:34.94\n",
      "  eval_samples_per_second =      1.343\n",
      "  eval_steps_per_second   =      0.022\n"
     ]
    }
   ],
   "source": [
    "metrics = trainer.evaluate(encoded_data['eval'])\n",
    "trainer.log_metrics(\"eval\", metrics)\n",
    "trainer.save_metrics(\"eval\", metrics)"
   ]
  },
  {
   "attachments": {},
   "cell_type": "markdown",
   "metadata": {},
   "source": [
    "#### Push Model to HuggingFace Hub"
   ]
  },
  {
   "cell_type": "code",
   "execution_count": 23,
   "metadata": {},
   "outputs": [],
   "source": [
    "trainer.push_to_hub(commit_message=\"All Dunn!!!\")"
   ]
  },
  {
   "attachments": {},
   "cell_type": "markdown",
   "metadata": {},
   "source": [
    "### Notes & Other Takeaways From This Project\n",
    "****\n",
    "- This is a late addition to the comparison of models that predict if text/speech is hateful, offensive, or normal.\n",
    "****"
   ]
  },
  {
   "attachments": {},
   "cell_type": "markdown",
   "metadata": {},
   "source": [
    "### Citations\n",
    "- Model Checkpoint\n",
    "    > @article{DBLP:journals/corr/abs-1810-04805, author = {Jacob Devlin and Ming{-}Wei Chang and Kenton Lee and Kristina Toutanova}, title = {{BERT:} Pre-training of Deep Bidirectional Transformers for Language Understanding}, journal = {CoRR}, volume = {abs/1810.04805}, year = {2018}, url = {http://arxiv.org/abs/1810.04805}, archivePrefix = {arXiv}, eprint = {1810.04805}, timestamp = {Tue, 30 Oct 2018 20:39:56 +0100}, biburl = {https://dblp.org/rec/journals/corr/abs-1810-04805.bib}, bibsource = {dblp computer science bibliography, https://dblp.org}}\n"
   ]
  }
 ],
 "metadata": {
  "kernelspec": {
   "display_name": "nlp_ml",
   "language": "python",
   "name": "python3"
  },
  "language_info": {
   "codemirror_mode": {
    "name": "ipython",
    "version": 3
   },
   "file_extension": ".py",
   "mimetype": "text/x-python",
   "name": "python",
   "nbconvert_exporter": "python",
   "pygments_lexer": "ipython3",
   "version": "3.9.7"
  },
  "orig_nbformat": 4,
  "vscode": {
   "interpreter": {
    "hash": "0b7a754c5aaaa44a21e2f2148f50b931a5abdffe7ef71537f5954179554f39df"
   }
  }
 },
 "nbformat": 4,
 "nbformat_minor": 2
}
