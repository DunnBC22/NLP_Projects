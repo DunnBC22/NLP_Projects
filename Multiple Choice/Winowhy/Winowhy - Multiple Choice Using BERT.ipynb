{
 "cells": [
  {
   "attachments": {},
   "cell_type": "markdown",
   "metadata": {},
   "source": [
    "## Winowhy: Multiple Choice\n",
    "\n",
    "Dataset Source: https://huggingface.co/datasets/tasksource/bigbench/viewer/winowhy/train"
   ]
  },
  {
   "attachments": {},
   "cell_type": "markdown",
   "metadata": {},
   "source": [
    "#### Import Necessary Libraries"
   ]
  },
  {
   "cell_type": "code",
   "execution_count": 1,
   "metadata": {},
   "outputs": [
    {
     "name": "stdout",
     "output_type": "stream",
     "text": [
      "Git LFS initialized.\n"
     ]
    }
   ],
   "source": [
    "import os, sys, random, ast\n",
    "os.environ['TOKENIZERS_PARALLELISM']='false'\n",
    "\n",
    "import numpy as np\n",
    "import pandas as pd\n",
    "import matplotlib.pyplot as plt\n",
    "\n",
    "import datasets\n",
    "from datasets import Dataset, DatasetDict, load_dataset\n",
    "\n",
    "import torch\n",
    "\n",
    "from dataclasses import dataclass\n",
    "\n",
    "import transformers\n",
    "from transformers import AutoTokenizer, AutoModelForMultipleChoice\n",
    "from transformers import Trainer, TrainingArguments, set_seed\n",
    "from transformers.tokenization_utils_base import PreTrainedTokenizerBase, PaddingStrategy\n",
    "\n",
    "from typing import Optional, Union\n",
    "\n",
    "!git lfs install"
   ]
  },
  {
   "attachments": {},
   "cell_type": "markdown",
   "metadata": {},
   "source": [
    "#### Display Library Versions"
   ]
  },
  {
   "cell_type": "code",
   "execution_count": 17,
   "metadata": {},
   "outputs": [
    {
     "name": "stdout",
     "output_type": "stream",
     "text": [
      "        Python: 3.9.12\n",
      "         NumPy: 1.25.1\n",
      "        Pandas: 2.0.3\n",
      "         Torch: 2.0.1\n",
      "      Datasets: 2.13.1\n",
      "  Transformers: 4.26.1\n"
     ]
    }
   ],
   "source": [
    "print(\"Python:\".rjust(15), sys.version[0:6])\n",
    "print(\"NumPy:\".rjust(15), np.__version__)\n",
    "print(\"Pandas:\".rjust(15), pd.__version__)\n",
    "print(\"Torch:\".rjust(15), torch.__version__)\n",
    "print(\"Datasets:\".rjust(15), datasets.__version__)\n",
    "print(\"Transformers:\".rjust(15), transformers.__version__)"
   ]
  },
  {
   "attachments": {},
   "cell_type": "markdown",
   "metadata": {},
   "source": [
    "#### Load Dataset & Convert To Pandas DataFrame"
   ]
  },
  {
   "cell_type": "code",
   "execution_count": 2,
   "metadata": {},
   "outputs": [
    {
     "name": "stderr",
     "output_type": "stream",
     "text": [
      "Found cached dataset bigbench (/Users/briandunn/.cache/huggingface/datasets/tasksource___bigbench/winowhy/1.0.0/c5da5ac497141c7435da10444495b8577405d4ed01e524265b144a7063718c0c)\n"
     ]
    },
    {
     "data": {
      "application/vnd.jupyter.widget-view+json": {
       "model_id": "af649be8757646eda336400d9f364655",
       "version_major": 2,
       "version_minor": 0
      },
      "text/plain": [
       "  0%|          | 0/2 [00:00<?, ?it/s]"
      ]
     },
     "metadata": {},
     "output_type": "display_data"
    },
    {
     "data": {
      "text/html": [
       "<div>\n",
       "<style scoped>\n",
       "    .dataframe tbody tr th:only-of-type {\n",
       "        vertical-align: middle;\n",
       "    }\n",
       "\n",
       "    .dataframe tbody tr th {\n",
       "        vertical-align: top;\n",
       "    }\n",
       "\n",
       "    .dataframe thead th {\n",
       "        text-align: right;\n",
       "    }\n",
       "</style>\n",
       "<table border=\"1\" class=\"dataframe\">\n",
       "  <thead>\n",
       "    <tr style=\"text-align: right;\">\n",
       "      <th></th>\n",
       "      <th>context</th>\n",
       "      <th>labels</th>\n",
       "      <th>0</th>\n",
       "      <th>1</th>\n",
       "    </tr>\n",
       "  </thead>\n",
       "  <tbody>\n",
       "    <tr>\n",
       "      <th>0</th>\n",
       "      <td>Please answer the following questions about wh...</td>\n",
       "      <td>1</td>\n",
       "      <td>Correct</td>\n",
       "      <td>Incorrect</td>\n",
       "    </tr>\n",
       "    <tr>\n",
       "      <th>1</th>\n",
       "      <td>Please answer the following questions about wh...</td>\n",
       "      <td>1</td>\n",
       "      <td>Correct</td>\n",
       "      <td>Incorrect</td>\n",
       "    </tr>\n",
       "    <tr>\n",
       "      <th>2</th>\n",
       "      <td>Please answer the following questions about wh...</td>\n",
       "      <td>1</td>\n",
       "      <td>Correct</td>\n",
       "      <td>Incorrect</td>\n",
       "    </tr>\n",
       "    <tr>\n",
       "      <th>3</th>\n",
       "      <td>Please answer the following questions about wh...</td>\n",
       "      <td>1</td>\n",
       "      <td>Correct</td>\n",
       "      <td>Incorrect</td>\n",
       "    </tr>\n",
       "    <tr>\n",
       "      <th>4</th>\n",
       "      <td>Please answer the following questions about wh...</td>\n",
       "      <td>1</td>\n",
       "      <td>Correct</td>\n",
       "      <td>Incorrect</td>\n",
       "    </tr>\n",
       "    <tr>\n",
       "      <th>...</th>\n",
       "      <td>...</td>\n",
       "      <td>...</td>\n",
       "      <td>...</td>\n",
       "      <td>...</td>\n",
       "    </tr>\n",
       "    <tr>\n",
       "      <th>2285</th>\n",
       "      <td>Please answer the following questions about wh...</td>\n",
       "      <td>1</td>\n",
       "      <td>Correct</td>\n",
       "      <td>Incorrect</td>\n",
       "    </tr>\n",
       "    <tr>\n",
       "      <th>2286</th>\n",
       "      <td>Please answer the following questions about wh...</td>\n",
       "      <td>0</td>\n",
       "      <td>Correct</td>\n",
       "      <td>Incorrect</td>\n",
       "    </tr>\n",
       "    <tr>\n",
       "      <th>2287</th>\n",
       "      <td>Please answer the following questions about wh...</td>\n",
       "      <td>0</td>\n",
       "      <td>Correct</td>\n",
       "      <td>Incorrect</td>\n",
       "    </tr>\n",
       "    <tr>\n",
       "      <th>2288</th>\n",
       "      <td>Please answer the following questions about wh...</td>\n",
       "      <td>1</td>\n",
       "      <td>Correct</td>\n",
       "      <td>Incorrect</td>\n",
       "    </tr>\n",
       "    <tr>\n",
       "      <th>2289</th>\n",
       "      <td>Please answer the following questions about wh...</td>\n",
       "      <td>1</td>\n",
       "      <td>Correct</td>\n",
       "      <td>Incorrect</td>\n",
       "    </tr>\n",
       "  </tbody>\n",
       "</table>\n",
       "<p>2289 rows × 4 columns</p>\n",
       "</div>"
      ],
      "text/plain": [
       "                                                context  labels        0  \\\n",
       "0     Please answer the following questions about wh...       1  Correct   \n",
       "1     Please answer the following questions about wh...       1  Correct   \n",
       "2     Please answer the following questions about wh...       1  Correct   \n",
       "3     Please answer the following questions about wh...       1  Correct   \n",
       "4     Please answer the following questions about wh...       1  Correct   \n",
       "...                                                 ...     ...      ...   \n",
       "2285  Please answer the following questions about wh...       1  Correct   \n",
       "2286  Please answer the following questions about wh...       0  Correct   \n",
       "2287  Please answer the following questions about wh...       0  Correct   \n",
       "2288  Please answer the following questions about wh...       1  Correct   \n",
       "2289  Please answer the following questions about wh...       1  Correct   \n",
       "\n",
       "              1  \n",
       "0     Incorrect  \n",
       "1     Incorrect  \n",
       "2     Incorrect  \n",
       "3     Incorrect  \n",
       "4     Incorrect  \n",
       "...         ...  \n",
       "2285  Incorrect  \n",
       "2286  Incorrect  \n",
       "2287  Incorrect  \n",
       "2288  Incorrect  \n",
       "2289  Incorrect  \n",
       "\n",
       "[2289 rows x 4 columns]"
      ]
     },
     "execution_count": 2,
     "metadata": {},
     "output_type": "execute_result"
    }
   ],
   "source": [
    "data = load_dataset(\"tasksource/bigbench\", \"winowhy\")\n",
    "\n",
    "data = data.rename_column(\"inputs\", \"context\")\n",
    "\n",
    "data.set_format(type=\"pandas\")\n",
    "\n",
    "df = data['train'][:]\n",
    "\n",
    "df = df.dropna(how='all')\n",
    "\n",
    "df = df.drop_duplicates(subset='context')\n",
    "\n",
    "df['labels'] = df['targets'].apply(lambda x: x[0])\n",
    "\n",
    "mc_target_values = ['Correct', 'Incorrect']\n",
    "\n",
    "df['0'] = df['multiple_choice_targets'].apply(lambda x: mc_target_values[0])\n",
    "df['1'] = df['multiple_choice_targets'].apply(lambda x: mc_target_values[1])\n",
    "\n",
    "df['labels'] = df['multiple_choice_scores'].apply(lambda x: 1 if x[0] == 0 else 0)\n",
    "\n",
    "df = df.drop(columns=[\"multiple_choice_targets\", \"idx\", \"multiple_choice_scores\", \"targets\"])\n",
    "\n",
    "df"
   ]
  },
  {
   "attachments": {},
   "cell_type": "markdown",
   "metadata": {},
   "source": [
    "#### Visual: Word Length of Training Dataset Inputs"
   ]
  },
  {
   "cell_type": "code",
   "execution_count": 3,
   "metadata": {},
   "outputs": [
    {
     "data": {
      "image/png": "[encoded data removed]",
      "text/plain": [
       "<Figure size 1800x800 with 1 Axes>"
      ]
     },
     "metadata": {},
     "output_type": "display_data"
    },
    {
     "name": "stdout",
     "output_type": "stream",
     "text": [
      "The maximum length of inputs is 97 words.\n"
     ]
    }
   ],
   "source": [
    "df['input_length'] = df['context'].str.split().str.len()\n",
    "\n",
    "n_bin= 100\n",
    "df.hist('input_length', grid=False, figsize=(18,8), range=(0,n_bin), bins=n_bin)\n",
    "plt.title('Histogram: Length of Inputs')\n",
    "plt.xlabel('# of Words in Inputs')\n",
    "plt.ylabel('# of Samples')\n",
    "plt.show()\n",
    "\n",
    "print(f\"The maximum length of inputs is {max(df['input_length'])} words.\")\n",
    "\n",
    "df = df.drop(columns=['input_length'])"
   ]
  },
  {
   "cell_type": "markdown",
   "metadata": {},
   "source": [
    "#### Convert from DataFrame to Dataset & Split into Training/Testing/Evaluation Datasets"
   ]
  },
  {
   "cell_type": "code",
   "execution_count": 20,
   "metadata": {},
   "outputs": [
    {
     "name": "stdout",
     "output_type": "stream",
     "text": [
      "Training Dataset Shape: (1831, 5)\n",
      "Testing Dataset Shape: (229, 5)\n",
      "Evaluation Dataset Shape: (229, 5)\n",
      "{'context': Value(dtype='string', id=None), 'labels': Value(dtype='int64', id=None), '0': Value(dtype='string', id=None), '1': Value(dtype='string', id=None), '__index_level_0__': Value(dtype='int64', id=None)}\n"
     ]
    }
   ],
   "source": [
    "dataset = Dataset.from_pandas(df)\n",
    "\n",
    "train_testeval = dataset.train_test_split(test_size=0.20)\n",
    "test_eval = train_testeval['test'].train_test_split(test_size=0.50)\n",
    "\n",
    "ds = DatasetDict({\n",
    "    'train' : train_testeval['train'],\n",
    "    'test' : test_eval['train'],\n",
    "    'eval' : test_eval['test'],\n",
    "})\n",
    "\n",
    "print(\"Training Dataset Shape:\", ds['train'].shape)\n",
    "print(\"Testing Dataset Shape:\", ds['test'].shape)\n",
    "print(\"Evaluation Dataset Shape:\", ds['eval'].shape)\n",
    "\n",
    "print(ds['train'].features)"
   ]
  },
  {
   "attachments": {},
   "cell_type": "markdown",
   "metadata": {},
   "source": [
    "#### Display Example"
   ]
  },
  {
   "cell_type": "code",
   "execution_count": 21,
   "metadata": {},
   "outputs": [
    {
     "data": {
      "text/plain": [
       "{'context': \"Please answer the following questions about which words certain pronouns refer to.\\n\\nBob was playing cards with Adam and was way ahead. If Adam hadn't had a sudden run of good luck, he would have lost. The 'he' refers to adam because The pronoun refers to Adam and what he would have done.\\nThe above reasoning is\",\n",
       " 'labels': 0,\n",
       " '0': 'Correct',\n",
       " '1': 'Incorrect',\n",
       " '__index_level_0__': 306}"
      ]
     },
     "execution_count": 21,
     "metadata": {},
     "output_type": "execute_result"
    }
   ],
   "source": [
    "ds['train'][12]"
   ]
  },
  {
   "attachments": {},
   "cell_type": "markdown",
   "metadata": {},
   "source": [
    "#### Create Function to Display an Example Sample"
   ]
  },
  {
   "cell_type": "code",
   "execution_count": 22,
   "metadata": {},
   "outputs": [],
   "source": [
    "def show_one_example(sample):\n",
    "    print(f\"Context: {sample['context']}\")\n",
    "    print(f\"\\nGround Truth: {mc_target_values[sample['labels']]}\")"
   ]
  },
  {
   "attachments": {},
   "cell_type": "markdown",
   "metadata": {},
   "source": [
    "#### Display an Example Sample"
   ]
  },
  {
   "cell_type": "code",
   "execution_count": 23,
   "metadata": {},
   "outputs": [
    {
     "name": "stdout",
     "output_type": "stream",
     "text": [
      "Context: Please answer the following questions about which words certain pronouns refer to.\n",
      "\n",
      "Bob was playing cards with Adam and was way ahead. If Adam hadn't had a sudden run of good luck, he would have lost. The 'he' refers to adam because The pronoun refers to Adam and what he would have done.\n",
      "The above reasoning is\n",
      "\n",
      "Ground Truth: Correct\n"
     ]
    }
   ],
   "source": [
    "show_one_example(ds['train'][12])"
   ]
  },
  {
   "attachments": {},
   "cell_type": "markdown",
   "metadata": {},
   "source": [
    "#### Basic Values/Constants"
   ]
  },
  {
   "cell_type": "code",
   "execution_count": 24,
   "metadata": {},
   "outputs": [],
   "source": [
    "MODEL_CKPT = \"bert-base-uncased\"\n",
    "MODEL_NAME = MODEL_CKPT.split(\"/\")[-1] + \"-Winowhy\"\n",
    "\n",
    "STRATEGY = \"epoch\"\n",
    "LEARNING_RATE = 5e-5\n",
    "\n",
    "BATCH_SIZE = 16\n",
    "NUM_OF_EPOCHS = 5\n",
    "\n",
    "WEIGHT_DECAY = 0.01\n",
    "REPORTS_TO = \"tensorboard\"\n",
    "\n",
    "set_seed = 42"
   ]
  },
  {
   "attachments": {},
   "cell_type": "markdown",
   "metadata": {},
   "source": [
    "#### Instantiate Tokenizer"
   ]
  },
  {
   "cell_type": "code",
   "execution_count": 25,
   "metadata": {},
   "outputs": [],
   "source": [
    "tokenizer = AutoTokenizer.from_pretrained(MODEL_CKPT, \n",
    "                                          use_fast=True)"
   ]
  },
  {
   "attachments": {},
   "cell_type": "markdown",
   "metadata": {},
   "source": [
    "#### Create Preprocessing Function"
   ]
  },
  {
   "cell_type": "code",
   "execution_count": 26,
   "metadata": {},
   "outputs": [],
   "source": [
    "ending_names = [\"0\", \"1\"]\n",
    "\n",
    "def preprocess_function(samples):\n",
    "    input_headers = samples[\"context\"]\n",
    "    input = [[f\"{header} {samples[end][i]}\" for end in ending_names] for i, header in enumerate(input_headers)]\n",
    "    \n",
    "    input = sum(input, [])\n",
    "    \n",
    "    tokenized_samples = tokenizer(input, truncation=True)\n",
    "    \n",
    "    return {k: [v[i:i + len(ending_names)] for i in range(0, len(v), len(ending_names))] \n",
    "            for k, v in tokenized_samples.items()}"
   ]
  },
  {
   "attachments": {},
   "cell_type": "markdown",
   "metadata": {},
   "source": [
    "#### Apply Preprocessing Function to Dataset"
   ]
  },
  {
   "cell_type": "code",
   "execution_count": 27,
   "metadata": {},
   "outputs": [
    {
     "data": {
      "application/vnd.jupyter.widget-view+json": {
       "model_id": "7e86d7aa3b31439cb10b52de0ccd3a19",
       "version_major": 2,
       "version_minor": 0
      },
      "text/plain": [
       "Map:   0%|          | 0/1831 [00:00<?, ? examples/s]"
      ]
     },
     "metadata": {},
     "output_type": "display_data"
    },
    {
     "data": {
      "application/vnd.jupyter.widget-view+json": {
       "model_id": "09f88a97a76b44eda29507d69a07991d",
       "version_major": 2,
       "version_minor": 0
      },
      "text/plain": [
       "Map:   0%|          | 0/229 [00:00<?, ? examples/s]"
      ]
     },
     "metadata": {},
     "output_type": "display_data"
    },
    {
     "data": {
      "application/vnd.jupyter.widget-view+json": {
       "model_id": "bd8f654d57bd4caa95c14db3f5dcc1cc",
       "version_major": 2,
       "version_minor": 0
      },
      "text/plain": [
       "Map:   0%|          | 0/229 [00:00<?, ? examples/s]"
      ]
     },
     "metadata": {},
     "output_type": "display_data"
    }
   ],
   "source": [
    "encoded_ds = ds.map(preprocess_function, \n",
    "                    batched=True)"
   ]
  },
  {
   "cell_type": "code",
   "execution_count": 28,
   "metadata": {},
   "outputs": [
    {
     "data": {
      "text/plain": [
       "{'context': Value(dtype='string', id=None),\n",
       " 'labels': Value(dtype='int64', id=None),\n",
       " '0': Value(dtype='string', id=None),\n",
       " '1': Value(dtype='string', id=None),\n",
       " '__index_level_0__': Value(dtype='int64', id=None),\n",
       " 'input_ids': Sequence(feature=Sequence(feature=Value(dtype='int32', id=None), length=-1, id=None), length=-1, id=None),\n",
       " 'token_type_ids': Sequence(feature=Sequence(feature=Value(dtype='int8', id=None), length=-1, id=None), length=-1, id=None),\n",
       " 'attention_mask': Sequence(feature=Sequence(feature=Value(dtype='int8', id=None), length=-1, id=None), length=-1, id=None)}"
      ]
     },
     "execution_count": 28,
     "metadata": {},
     "output_type": "execute_result"
    }
   ],
   "source": [
    "encoded_ds['train'].features"
   ]
  },
  {
   "attachments": {},
   "cell_type": "markdown",
   "metadata": {},
   "source": [
    "#### Instantiate Model"
   ]
  },
  {
   "cell_type": "code",
   "execution_count": 29,
   "metadata": {},
   "outputs": [
    {
     "name": "stderr",
     "output_type": "stream",
     "text": [
      "Some weights of the model checkpoint at bert-base-uncased were not used when initializing BertForMultipleChoice: ['cls.predictions.transform.dense.bias', 'cls.predictions.transform.LayerNorm.bias', 'cls.seq_relationship.bias', 'cls.predictions.bias', 'cls.predictions.transform.LayerNorm.weight', 'cls.predictions.transform.dense.weight', 'cls.seq_relationship.weight', 'cls.predictions.decoder.weight']\n",
      "- This IS expected if you are initializing BertForMultipleChoice from the checkpoint of a model trained on another task or with another architecture (e.g. initializing a BertForSequenceClassification model from a BertForPreTraining model).\n",
      "- This IS NOT expected if you are initializing BertForMultipleChoice from the checkpoint of a model that you expect to be exactly identical (initializing a BertForSequenceClassification model from a BertForSequenceClassification model).\n",
      "Some weights of BertForMultipleChoice were not initialized from the model checkpoint at bert-base-uncased and are newly initialized: ['classifier.bias', 'classifier.weight']\n",
      "You should probably TRAIN this model on a down-stream task to be able to use it for predictions and inference.\n"
     ]
    }
   ],
   "source": [
    "model = AutoModelForMultipleChoice.from_pretrained(MODEL_CKPT)"
   ]
  },
  {
   "attachments": {},
   "cell_type": "markdown",
   "metadata": {},
   "source": [
    "#### Define TrainingArguments"
   ]
  },
  {
   "cell_type": "code",
   "execution_count": 30,
   "metadata": {},
   "outputs": [],
   "source": [
    "args = TrainingArguments(\n",
    "    output_dir=MODEL_NAME,\n",
    "    evaluation_strategy=STRATEGY,\n",
    "    save_strategy=STRATEGY,\n",
    "    learning_rate=LEARNING_RATE,\n",
    "    per_device_train_batch_size=BATCH_SIZE,\n",
    "    per_device_eval_batch_size=BATCH_SIZE,\n",
    "    num_train_epochs=NUM_OF_EPOCHS,\n",
    "    weight_decay=WEIGHT_DECAY,\n",
    "    report_to=REPORTS_TO,\n",
    "    logging_first_step=True,\n",
    "    logging_steps=20,\n",
    "    load_best_model_at_end=True,\n",
    "    hub_private_repo=True,\n",
    "    group_by_length=True,\n",
    "    push_to_hub=True\n",
    ")"
   ]
  },
  {
   "attachments": {},
   "cell_type": "markdown",
   "metadata": {},
   "source": [
    "#### Define Data Collator Class"
   ]
  },
  {
   "cell_type": "code",
   "execution_count": 31,
   "metadata": {},
   "outputs": [],
   "source": [
    "@dataclass\n",
    "class DataCollatorForMultipleChoice:\n",
    "    \"\"\"\n",
    "    Data collator that will dynamically pad inputs \n",
    "    for the multiple choices received.\n",
    "    \"\"\"\n",
    "\n",
    "    tokenizer: PreTrainedTokenizerBase\n",
    "    padding: Union[bool, str, PaddingStrategy] = True\n",
    "    max_length: Optional[int] = None\n",
    "    pad_to_multiple_of: Optional[int] = None\n",
    "    \n",
    "    def __call__(self, features):\n",
    "        label_name = \"label\" if \"label\" in features[0].keys() else \"labels\"\n",
    "        labels = [feature.pop(label_name) for feature in features]\n",
    "        batch_size = len(features)\n",
    "        num_choices = len(features[0][\"input_ids\"])\n",
    "        flattened_features = [[{k: v[i] for k, v in feature.items()} \n",
    "                               for i in range(num_choices)] for feature in features]\n",
    "        flattened_features = sum(flattened_features, [])\n",
    "        \n",
    "        batch = self.tokenizer.pad(\n",
    "            flattened_features,\n",
    "            padding=self.padding,\n",
    "            max_length=self.max_length,\n",
    "            pad_to_multiple_of=self.pad_to_multiple_of,\n",
    "            return_tensors=\"pt\",\n",
    "        )\n",
    "        \n",
    "        # Unflatten\n",
    "        batch = {k: v.view(batch_size, \n",
    "                           num_choices, \n",
    "                           -1)\n",
    "                 for k, v in batch.items()}\n",
    "        # Add back labels\n",
    "        batch[\"labels\"] = torch.tensor(labels, \n",
    "                                       dtype=torch.int64)\n",
    "        return batch"
   ]
  },
  {
   "attachments": {},
   "cell_type": "markdown",
   "metadata": {},
   "source": [
    "#### Create Function to Compute Metrics"
   ]
  },
  {
   "cell_type": "code",
   "execution_count": 32,
   "metadata": {},
   "outputs": [],
   "source": [
    "def compute_metrics(predictions):\n",
    "    preds, labels = predictions\n",
    "    preds = np.argmax(preds, axis=1)\n",
    "    return {\"accuracy\": (preds == labels).astype(np.float32).mean().item()}"
   ]
  },
  {
   "attachments": {},
   "cell_type": "markdown",
   "metadata": {},
   "source": [
    "#### Instantiate Trainer"
   ]
  },
  {
   "cell_type": "code",
   "execution_count": 33,
   "metadata": {},
   "outputs": [
    {
     "name": "stderr",
     "output_type": "stream",
     "text": [
      "Cloning https://huggingface.co/DunnBC22/bert-base-uncased-Winowhy into local empty directory.\n"
     ]
    }
   ],
   "source": [
    "trainer = Trainer(\n",
    "    model=model,\n",
    "    args=args,\n",
    "    train_dataset=encoded_ds[\"train\"],\n",
    "    eval_dataset=encoded_ds[\"eval\"],\n",
    "    tokenizer=tokenizer,\n",
    "    data_collator=DataCollatorForMultipleChoice(tokenizer),\n",
    "    compute_metrics=compute_metrics,\n",
    ")"
   ]
  },
  {
   "attachments": {},
   "cell_type": "markdown",
   "metadata": {},
   "source": [
    "#### Train Model"
   ]
  },
  {
   "cell_type": "code",
   "execution_count": 34,
   "metadata": {},
   "outputs": [
    {
     "name": "stderr",
     "output_type": "stream",
     "text": [
      "The following columns in the training set don't have a corresponding argument in `BertForMultipleChoice.forward` and have been ignored: __index_level_0__, context, 0, 1. If __index_level_0__, context, 0, 1 are not expected by `BertForMultipleChoice.forward`,  you can safely ignore this message.\n",
      "/Users/briandunn/Desktop/python_venvs/text_sum/lib/python3.9/site-packages/transformers/optimization.py:306: FutureWarning: This implementation of AdamW is deprecated and will be removed in a future version. Use the PyTorch implementation torch.optim.AdamW instead, or set `no_deprecation_warning=True` to disable this warning\n",
      "  warnings.warn(\n",
      "***** Running training *****\n",
      "  Num examples = 1831\n",
      "  Num Epochs = 5\n",
      "  Instantaneous batch size per device = 16\n",
      "  Total train batch size (w. parallel, distributed & accumulation) = 16\n",
      "  Gradient Accumulation steps = 1\n",
      "  Total optimization steps = 575\n",
      "  Number of trainable parameters = 109483009\n"
     ]
    },
    {
     "data": {
      "application/vnd.jupyter.widget-view+json": {
       "model_id": "9fc2ff8097314036a1ba9ece5dd2e118",
       "version_major": 2,
       "version_minor": 0
      },
      "text/plain": [
       "  0%|          | 0/575 [00:00<?, ?it/s]"
      ]
     },
     "metadata": {},
     "output_type": "display_data"
    },
    {
     "name": "stderr",
     "output_type": "stream",
     "text": [
      "You're using a BertTokenizerFast tokenizer. Please note that with a fast tokenizer, using the `__call__` method is faster than using a method to encode the text followed by a call to the `pad` method to get a padded encoding.\n"
     ]
    },
    {
     "name": "stdout",
     "output_type": "stream",
     "text": [
      "{'loss': 0.6713, 'learning_rate': 4.9913043478260876e-05, 'epoch': 0.01}\n",
      "{'loss': 0.6959, 'learning_rate': 4.8260869565217394e-05, 'epoch': 0.17}\n",
      "{'loss': 0.6894, 'learning_rate': 4.6521739130434785e-05, 'epoch': 0.35}\n",
      "{'loss': 0.6905, 'learning_rate': 4.478260869565218e-05, 'epoch': 0.52}\n",
      "{'loss': 0.6999, 'learning_rate': 4.304347826086957e-05, 'epoch': 0.7}\n",
      "{'loss': 0.7028, 'learning_rate': 4.130434782608696e-05, 'epoch': 0.87}\n"
     ]
    },
    {
     "name": "stderr",
     "output_type": "stream",
     "text": [
      "The following columns in the evaluation set don't have a corresponding argument in `BertForMultipleChoice.forward` and have been ignored: __index_level_0__, context, 0, 1. If __index_level_0__, context, 0, 1 are not expected by `BertForMultipleChoice.forward`,  you can safely ignore this message.\n",
      "***** Running Evaluation *****\n",
      "  Num examples = 229\n",
      "  Batch size = 16\n"
     ]
    },
    {
     "data": {
      "application/vnd.jupyter.widget-view+json": {
       "model_id": "ec20ff1f9eac4ed3b617a4b351910e78",
       "version_major": 2,
       "version_minor": 0
      },
      "text/plain": [
       "  0%|          | 0/15 [00:00<?, ?it/s]"
      ]
     },
     "metadata": {},
     "output_type": "display_data"
    },
    {
     "name": "stderr",
     "output_type": "stream",
     "text": [
      "Saving model checkpoint to bert-base-uncased-Winowhy/checkpoint-115\n",
      "Configuration saved in bert-base-uncased-Winowhy/checkpoint-115/config.json\n"
     ]
    },
    {
     "name": "stdout",
     "output_type": "stream",
     "text": [
      "{'eval_loss': 0.6915905475616455, 'eval_accuracy': 0.5371178984642029, 'eval_runtime': 43.0442, 'eval_samples_per_second': 5.32, 'eval_steps_per_second': 0.348, 'epoch': 1.0}\n"
     ]
    },
    {
     "name": "stderr",
     "output_type": "stream",
     "text": [
      "Model weights saved in bert-base-uncased-Winowhy/checkpoint-115/pytorch_model.bin\n",
      "tokenizer config file saved in bert-base-uncased-Winowhy/checkpoint-115/tokenizer_config.json\n",
      "Special tokens file saved in bert-base-uncased-Winowhy/checkpoint-115/special_tokens_map.json\n",
      "tokenizer config file saved in bert-base-uncased-Winowhy/tokenizer_config.json\n",
      "Special tokens file saved in bert-base-uncased-Winowhy/special_tokens_map.json\n"
     ]
    },
    {
     "name": "stdout",
     "output_type": "stream",
     "text": [
      "{'loss': 0.6928, 'learning_rate': 3.956521739130435e-05, 'epoch': 1.04}\n",
      "{'loss': 0.6903, 'learning_rate': 3.7826086956521736e-05, 'epoch': 1.22}\n",
      "{'loss': 0.6207, 'learning_rate': 3.6086956521739134e-05, 'epoch': 1.39}\n",
      "{'loss': 0.6048, 'learning_rate': 3.4347826086956526e-05, 'epoch': 1.57}\n",
      "{'loss': 0.5125, 'learning_rate': 3.260869565217392e-05, 'epoch': 1.74}\n",
      "{'loss': 0.6119, 'learning_rate': 3.086956521739131e-05, 'epoch': 1.91}\n"
     ]
    },
    {
     "name": "stderr",
     "output_type": "stream",
     "text": [
      "The following columns in the evaluation set don't have a corresponding argument in `BertForMultipleChoice.forward` and have been ignored: __index_level_0__, context, 0, 1. If __index_level_0__, context, 0, 1 are not expected by `BertForMultipleChoice.forward`,  you can safely ignore this message.\n",
      "***** Running Evaluation *****\n",
      "  Num examples = 229\n",
      "  Batch size = 16\n"
     ]
    },
    {
     "data": {
      "application/vnd.jupyter.widget-view+json": {
       "model_id": "064edc26eafe429a85b4d70ed2c4d071",
       "version_major": 2,
       "version_minor": 0
      },
      "text/plain": [
       "  0%|          | 0/15 [00:00<?, ?it/s]"
      ]
     },
     "metadata": {},
     "output_type": "display_data"
    },
    {
     "name": "stderr",
     "output_type": "stream",
     "text": [
      "Saving model checkpoint to bert-base-uncased-Winowhy/checkpoint-230\n",
      "Configuration saved in bert-base-uncased-Winowhy/checkpoint-230/config.json\n"
     ]
    },
    {
     "name": "stdout",
     "output_type": "stream",
     "text": [
      "{'eval_loss': 0.5572165846824646, 'eval_accuracy': 0.7030567526817322, 'eval_runtime': 42.0977, 'eval_samples_per_second': 5.44, 'eval_steps_per_second': 0.356, 'epoch': 2.0}\n"
     ]
    },
    {
     "name": "stderr",
     "output_type": "stream",
     "text": [
      "Model weights saved in bert-base-uncased-Winowhy/checkpoint-230/pytorch_model.bin\n",
      "tokenizer config file saved in bert-base-uncased-Winowhy/checkpoint-230/tokenizer_config.json\n",
      "Special tokens file saved in bert-base-uncased-Winowhy/checkpoint-230/special_tokens_map.json\n",
      "tokenizer config file saved in bert-base-uncased-Winowhy/tokenizer_config.json\n",
      "Special tokens file saved in bert-base-uncased-Winowhy/special_tokens_map.json\n"
     ]
    },
    {
     "name": "stdout",
     "output_type": "stream",
     "text": [
      "{'loss': 0.5301, 'learning_rate': 2.9130434782608696e-05, 'epoch': 2.09}\n",
      "{'loss': 0.4385, 'learning_rate': 2.7391304347826085e-05, 'epoch': 2.26}\n",
      "{'loss': 0.5125, 'learning_rate': 2.5652173913043483e-05, 'epoch': 2.43}\n",
      "{'loss': 0.5065, 'learning_rate': 2.391304347826087e-05, 'epoch': 2.61}\n",
      "{'loss': 0.4039, 'learning_rate': 2.2173913043478262e-05, 'epoch': 2.78}\n",
      "{'loss': 0.4959, 'learning_rate': 2.0434782608695654e-05, 'epoch': 2.96}\n"
     ]
    },
    {
     "name": "stderr",
     "output_type": "stream",
     "text": [
      "The following columns in the evaluation set don't have a corresponding argument in `BertForMultipleChoice.forward` and have been ignored: __index_level_0__, context, 0, 1. If __index_level_0__, context, 0, 1 are not expected by `BertForMultipleChoice.forward`,  you can safely ignore this message.\n",
      "***** Running Evaluation *****\n",
      "  Num examples = 229\n",
      "  Batch size = 16\n"
     ]
    },
    {
     "data": {
      "application/vnd.jupyter.widget-view+json": {
       "model_id": "e043218c604b41d1831ed06e9cb10417",
       "version_major": 2,
       "version_minor": 0
      },
      "text/plain": [
       "  0%|          | 0/15 [00:00<?, ?it/s]"
      ]
     },
     "metadata": {},
     "output_type": "display_data"
    },
    {
     "name": "stderr",
     "output_type": "stream",
     "text": [
      "Saving model checkpoint to bert-base-uncased-Winowhy/checkpoint-345\n",
      "Configuration saved in bert-base-uncased-Winowhy/checkpoint-345/config.json\n"
     ]
    },
    {
     "name": "stdout",
     "output_type": "stream",
     "text": [
      "{'eval_loss': 0.5327908992767334, 'eval_accuracy': 0.7117903828620911, 'eval_runtime': 45.104, 'eval_samples_per_second': 5.077, 'eval_steps_per_second': 0.333, 'epoch': 3.0}\n"
     ]
    },
    {
     "name": "stderr",
     "output_type": "stream",
     "text": [
      "Model weights saved in bert-base-uncased-Winowhy/checkpoint-345/pytorch_model.bin\n",
      "tokenizer config file saved in bert-base-uncased-Winowhy/checkpoint-345/tokenizer_config.json\n",
      "Special tokens file saved in bert-base-uncased-Winowhy/checkpoint-345/special_tokens_map.json\n",
      "tokenizer config file saved in bert-base-uncased-Winowhy/tokenizer_config.json\n",
      "Special tokens file saved in bert-base-uncased-Winowhy/special_tokens_map.json\n"
     ]
    },
    {
     "name": "stdout",
     "output_type": "stream",
     "text": [
      "{'loss': 0.3864, 'learning_rate': 1.8695652173913045e-05, 'epoch': 3.13}\n",
      "{'loss': 0.4216, 'learning_rate': 1.6956521739130433e-05, 'epoch': 3.3}\n",
      "{'loss': 0.3987, 'learning_rate': 1.5217391304347828e-05, 'epoch': 3.48}\n",
      "{'loss': 0.3078, 'learning_rate': 1.3478260869565218e-05, 'epoch': 3.65}\n",
      "{'loss': 0.3576, 'learning_rate': 1.173913043478261e-05, 'epoch': 3.83}\n"
     ]
    },
    {
     "name": "stderr",
     "output_type": "stream",
     "text": [
      "The following columns in the evaluation set don't have a corresponding argument in `BertForMultipleChoice.forward` and have been ignored: __index_level_0__, context, 0, 1. If __index_level_0__, context, 0, 1 are not expected by `BertForMultipleChoice.forward`,  you can safely ignore this message.\n",
      "***** Running Evaluation *****\n",
      "  Num examples = 229\n",
      "  Batch size = 16\n"
     ]
    },
    {
     "name": "stdout",
     "output_type": "stream",
     "text": [
      "{'loss': 0.4537, 'learning_rate': 1e-05, 'epoch': 4.0}\n"
     ]
    },
    {
     "data": {
      "application/vnd.jupyter.widget-view+json": {
       "model_id": "34cdfef826a6421dae6f0965d9130192",
       "version_major": 2,
       "version_minor": 0
      },
      "text/plain": [
       "  0%|          | 0/15 [00:00<?, ?it/s]"
      ]
     },
     "metadata": {},
     "output_type": "display_data"
    },
    {
     "name": "stderr",
     "output_type": "stream",
     "text": [
      "Saving model checkpoint to bert-base-uncased-Winowhy/checkpoint-460\n",
      "Configuration saved in bert-base-uncased-Winowhy/checkpoint-460/config.json\n"
     ]
    },
    {
     "name": "stdout",
     "output_type": "stream",
     "text": [
      "{'eval_loss': 0.582892656326294, 'eval_accuracy': 0.7117903828620911, 'eval_runtime': 45.5169, 'eval_samples_per_second': 5.031, 'eval_steps_per_second': 0.33, 'epoch': 4.0}\n"
     ]
    },
    {
     "name": "stderr",
     "output_type": "stream",
     "text": [
      "Model weights saved in bert-base-uncased-Winowhy/checkpoint-460/pytorch_model.bin\n",
      "tokenizer config file saved in bert-base-uncased-Winowhy/checkpoint-460/tokenizer_config.json\n",
      "Special tokens file saved in bert-base-uncased-Winowhy/checkpoint-460/special_tokens_map.json\n",
      "tokenizer config file saved in bert-base-uncased-Winowhy/tokenizer_config.json\n",
      "Special tokens file saved in bert-base-uncased-Winowhy/special_tokens_map.json\n"
     ]
    },
    {
     "name": "stdout",
     "output_type": "stream",
     "text": [
      "{'loss': 0.2967, 'learning_rate': 8.26086956521739e-06, 'epoch': 4.17}\n",
      "{'loss': 0.3049, 'learning_rate': 6.521739130434783e-06, 'epoch': 4.35}\n",
      "{'loss': 0.2624, 'learning_rate': 4.782608695652174e-06, 'epoch': 4.52}\n",
      "{'loss': 0.2535, 'learning_rate': 3.0434782608695654e-06, 'epoch': 4.7}\n",
      "{'loss': 0.2275, 'learning_rate': 1.3043478260869564e-06, 'epoch': 4.87}\n"
     ]
    },
    {
     "name": "stderr",
     "output_type": "stream",
     "text": [
      "The following columns in the evaluation set don't have a corresponding argument in `BertForMultipleChoice.forward` and have been ignored: __index_level_0__, context, 0, 1. If __index_level_0__, context, 0, 1 are not expected by `BertForMultipleChoice.forward`,  you can safely ignore this message.\n",
      "***** Running Evaluation *****\n",
      "  Num examples = 229\n",
      "  Batch size = 16\n"
     ]
    },
    {
     "data": {
      "application/vnd.jupyter.widget-view+json": {
       "model_id": "c0e8674dfcd74fd5957b49c29d2fe088",
       "version_major": 2,
       "version_minor": 0
      },
      "text/plain": [
       "  0%|          | 0/15 [00:00<?, ?it/s]"
      ]
     },
     "metadata": {},
     "output_type": "display_data"
    },
    {
     "name": "stderr",
     "output_type": "stream",
     "text": [
      "Saving model checkpoint to bert-base-uncased-Winowhy/checkpoint-575\n",
      "Configuration saved in bert-base-uncased-Winowhy/checkpoint-575/config.json\n"
     ]
    },
    {
     "name": "stdout",
     "output_type": "stream",
     "text": [
      "{'eval_loss': 0.800542950630188, 'eval_accuracy': 0.7117903828620911, 'eval_runtime': 41.7495, 'eval_samples_per_second': 5.485, 'eval_steps_per_second': 0.359, 'epoch': 5.0}\n"
     ]
    },
    {
     "name": "stderr",
     "output_type": "stream",
     "text": [
      "Model weights saved in bert-base-uncased-Winowhy/checkpoint-575/pytorch_model.bin\n",
      "tokenizer config file saved in bert-base-uncased-Winowhy/checkpoint-575/tokenizer_config.json\n",
      "Special tokens file saved in bert-base-uncased-Winowhy/checkpoint-575/special_tokens_map.json\n",
      "tokenizer config file saved in bert-base-uncased-Winowhy/tokenizer_config.json\n",
      "Special tokens file saved in bert-base-uncased-Winowhy/special_tokens_map.json\n",
      "\n",
      "\n",
      "Training completed. Do not forget to share your model on huggingface.co/models =)\n",
      "\n",
      "\n",
      "Loading best model from bert-base-uncased-Winowhy/checkpoint-345 (score: 0.5327908992767334).\n"
     ]
    },
    {
     "name": "stdout",
     "output_type": "stream",
     "text": [
      "{'train_runtime': 5591.5046, 'train_samples_per_second': 1.637, 'train_steps_per_second': 0.103, 'train_loss': 0.4877418389527694, 'epoch': 5.0}\n"
     ]
    }
   ],
   "source": [
    "train_results = trainer.train()"
   ]
  },
  {
   "attachments": {},
   "cell_type": "markdown",
   "metadata": {},
   "source": [
    "#### Push to HuggingFace Hub"
   ]
  },
  {
   "cell_type": "code",
   "execution_count": 35,
   "metadata": {},
   "outputs": [
    {
     "name": "stderr",
     "output_type": "stream",
     "text": [
      "Saving model checkpoint to bert-base-uncased-Winowhy\n",
      "Configuration saved in bert-base-uncased-Winowhy/config.json\n",
      "Model weights saved in bert-base-uncased-Winowhy/pytorch_model.bin\n",
      "tokenizer config file saved in bert-base-uncased-Winowhy/tokenizer_config.json\n",
      "Special tokens file saved in bert-base-uncased-Winowhy/special_tokens_map.json\n",
      "Several commits (2) will be pushed upstream.\n",
      "The progress bars may be unreliable.\n"
     ]
    },
    {
     "data": {
      "application/vnd.jupyter.widget-view+json": {
       "model_id": "0435cb8ba10b48d892a7e2ce98ac77f9",
       "version_major": 2,
       "version_minor": 0
      },
      "text/plain": [
       "Upload file pytorch_model.bin:   0%|          | 1.00/418M [00:00<?, ?B/s]"
      ]
     },
     "metadata": {},
     "output_type": "display_data"
    },
    {
     "data": {
      "application/vnd.jupyter.widget-view+json": {
       "model_id": "05e9878c0413454d994c355a0556505f",
       "version_major": 2,
       "version_minor": 0
      },
      "text/plain": [
       "Upload file runs/Aug01_17-20-14_Brians-Mac-mini/events.out.tfevents.1690928419.Brians-Mac-mini.33655.0:   0%| …"
      ]
     },
     "metadata": {},
     "output_type": "display_data"
    },
    {
     "name": "stderr",
     "output_type": "stream",
     "text": [
      "To https://huggingface.co/DunnBC22/bert-base-uncased-Winowhy\n",
      "   1ed9e7f..5ae2623  main -> main\n",
      "\n",
      "Dropping the following result as it does not have all the necessary fields:\n",
      "{'metrics': [{'name': 'Accuracy', 'type': 'accuracy', 'value': 0.7117903828620911}]}\n",
      "To https://huggingface.co/DunnBC22/bert-base-uncased-Winowhy\n",
      "   5ae2623..e802a1d  main -> main\n",
      "\n"
     ]
    },
    {
     "data": {
      "text/plain": [
       "'https://huggingface.co/DunnBC22/bert-base-uncased-Winowhy/commit/5ae2623f884d0a859d99aec80d36c7966584c6fe'"
      ]
     },
     "execution_count": 35,
     "metadata": {},
     "output_type": "execute_result"
    }
   ],
   "source": [
    "trainer.push_to_hub()"
   ]
  },
  {
   "attachments": {},
   "cell_type": "markdown",
   "metadata": {},
   "source": [
    "#### Evaluate Model"
   ]
  },
  {
   "cell_type": "code",
   "execution_count": 36,
   "metadata": {},
   "outputs": [
    {
     "name": "stderr",
     "output_type": "stream",
     "text": [
      "The following columns in the evaluation set don't have a corresponding argument in `BertForMultipleChoice.forward` and have been ignored: __index_level_0__, context, 0, 1. If __index_level_0__, context, 0, 1 are not expected by `BertForMultipleChoice.forward`,  you can safely ignore this message.\n",
      "***** Running Evaluation *****\n",
      "  Num examples = 229\n",
      "  Batch size = 16\n"
     ]
    },
    {
     "data": {
      "application/vnd.jupyter.widget-view+json": {
       "model_id": "4d628e20f8934af094b0bbe92b399752",
       "version_major": 2,
       "version_minor": 0
      },
      "text/plain": [
       "  0%|          | 0/15 [00:00<?, ?it/s]"
      ]
     },
     "metadata": {},
     "output_type": "display_data"
    },
    {
     "name": "stdout",
     "output_type": "stream",
     "text": [
      "{'eval_loss': 0.5327908992767334, 'eval_accuracy': 0.7117903828620911, 'eval_runtime': 42.2959, 'eval_samples_per_second': 5.414, 'eval_steps_per_second': 0.355, 'epoch': 5.0}\n"
     ]
    }
   ],
   "source": [
    "metrics = trainer.evaluate()\n",
    "\n",
    "print(metrics)"
   ]
  },
  {
   "attachments": {},
   "cell_type": "markdown",
   "metadata": {},
   "source": [
    "### Notes & Other Takeaways From This Project\n",
    "****\n",
    "- I am glad that I had the best version saved. If I did not, it would have returned an overtrained/overfitted model.\n",
    "\n",
    "****"
   ]
  },
  {
   "attachments": {},
   "cell_type": "markdown",
   "metadata": {},
   "source": [
    "#### Citation\n",
    "- Model Checkpoint\n",
    "    > @article{DBLP:journals/corr/abs-1810-04805, author = {Jacob Devlin and Ming{-}Wei Chang and Kenton Lee and Kristina Toutanova}, title = {{BERT:} Pre-training of Deep Bidirectional Transformers for Language Understanding}, journal = {CoRR}, volume = {abs/1810.04805}, year = {2018}, url = {http://arxiv.org/abs/1810.04805%7D, archivePrefix = {arXiv}, eprint = {1810.04805}, timestamp = {Tue, 30 Oct 2018 20:39:56 +0100}, biburl = {https://dblp.org/rec/journals/corr/abs-1810-04805.bib%7D, bibsource = {dblp computer science bibliography, https://dblp.org%7D}"
   ]
  }
 ],
 "metadata": {
  "kernelspec": {
   "display_name": "nlp_ml",
   "language": "python",
   "name": "python3"
  },
  "language_info": {
   "codemirror_mode": {
    "name": "ipython",
    "version": 3
   },
   "file_extension": ".py",
   "mimetype": "text/x-python",
   "name": "python",
   "nbconvert_exporter": "python",
   "pygments_lexer": "ipython3",
   "version": "3.9.12"
  },
  "orig_nbformat": 4,
  "vscode": {
   "interpreter": {
    "hash": "0b7a754c5aaaa44a21e2f2148f50b931a5abdffe7ef71537f5954179554f39df"
   }
  }
 },
 "nbformat": 4,
 "nbformat_minor": 2
}
