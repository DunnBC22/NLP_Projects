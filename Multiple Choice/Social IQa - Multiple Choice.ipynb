{
 "cells": [
  {
   "attachments": {},
   "cell_type": "markdown",
   "metadata": {},
   "source": [
    "## Social IQa: Multiple Choice\n",
    "\n",
    "* Name on HuggingFace Hub will be changed to reflect true nature of model (Multiple Choice, not Q&A)\n",
    "\n",
    "Dataset Source: https://www.kaggle.com/datasets/thedevastator/social-i-qa-a-dataset-for-social-inquiry-questio"
   ]
  },
  {
   "attachments": {},
   "cell_type": "markdown",
   "metadata": {},
   "source": [
    "#### Import Necessary Libraries"
   ]
  },
  {
   "cell_type": "code",
   "execution_count": 1,
   "metadata": {},
   "outputs": [
    {
     "name": "stderr",
     "output_type": "stream",
     "text": [
      "NOTE: Redirects are currently not supported in Windows or MacOs.\n"
     ]
    },
    {
     "name": "stdout",
     "output_type": "stream",
     "text": [
      "Git LFS initialized.\n"
     ]
    }
   ],
   "source": [
    "import os, sys\n",
    "os.environ['TOKENIZERS_PARALLELISM']='false'\n",
    "\n",
    "import numpy as np\n",
    "import pandas as pd\n",
    "import matplotlib.pyplot as plt\n",
    "\n",
    "import datasets\n",
    "from datasets import Dataset, DatasetDict\n",
    "\n",
    "import torch\n",
    "\n",
    "from dataclasses import dataclass\n",
    "\n",
    "import transformers\n",
    "from transformers import AutoTokenizer, AutoModelForMultipleChoice\n",
    "from transformers import Trainer, TrainingArguments, set_seed\n",
    "from transformers.tokenization_utils_base import PreTrainedTokenizerBase, PaddingStrategy\n",
    "\n",
    "from typing import Optional, Union\n",
    "\n",
    "!git lfs install"
   ]
  },
  {
   "attachments": {},
   "cell_type": "markdown",
   "metadata": {},
   "source": [
    "#### Display Library Versions"
   ]
  },
  {
   "cell_type": "code",
   "execution_count": 2,
   "metadata": {},
   "outputs": [
    {
     "name": "stdout",
     "output_type": "stream",
     "text": [
      "        Python: 3.9.12\n",
      "         NumPy: 1.24.2\n",
      "        Pandas: 1.5.0\n",
      "         Torch: 1.12.1\n",
      "      Datasets: 2.9.0\n",
      "  Transformers: 4.26.1\n"
     ]
    }
   ],
   "source": [
    "print(\"Python:\".rjust(15), sys.version[0:6])\n",
    "print(\"NumPy:\".rjust(15), np.__version__)\n",
    "print(\"Pandas:\".rjust(15), pd.__version__)\n",
    "print(\"Torch:\".rjust(15), torch.__version__)\n",
    "print(\"Datasets:\".rjust(15), datasets.__version__)\n",
    "print(\"Transformers:\".rjust(15), transformers.__version__)"
   ]
  },
  {
   "attachments": {},
   "cell_type": "markdown",
   "metadata": {},
   "source": [
    "#### Load & Process Training Dataset"
   ]
  },
  {
   "cell_type": "code",
   "execution_count": 3,
   "metadata": {},
   "outputs": [
    {
     "data": {
      "text/html": [
       "<div>\n",
       "<style scoped>\n",
       "    .dataframe tbody tr th:only-of-type {\n",
       "        vertical-align: middle;\n",
       "    }\n",
       "\n",
       "    .dataframe tbody tr th {\n",
       "        vertical-align: top;\n",
       "    }\n",
       "\n",
       "    .dataframe thead th {\n",
       "        text-align: right;\n",
       "    }\n",
       "</style>\n",
       "<table border=\"1\" class=\"dataframe\">\n",
       "  <thead>\n",
       "    <tr style=\"text-align: right;\">\n",
       "      <th></th>\n",
       "      <th>context</th>\n",
       "      <th>question</th>\n",
       "      <th>0</th>\n",
       "      <th>1</th>\n",
       "      <th>2</th>\n",
       "      <th>label</th>\n",
       "    </tr>\n",
       "  </thead>\n",
       "  <tbody>\n",
       "    <tr>\n",
       "      <th>0</th>\n",
       "      <td>Cameron decided to have a barbecue and gathere...</td>\n",
       "      <td>How would Others feel as a result?</td>\n",
       "      <td>like attending</td>\n",
       "      <td>like staying home</td>\n",
       "      <td>a good friend to have</td>\n",
       "      <td>0</td>\n",
       "    </tr>\n",
       "    <tr>\n",
       "      <th>1</th>\n",
       "      <td>Jan needed to give out jobs for an upcoming pr...</td>\n",
       "      <td>What will Others want to do next?</td>\n",
       "      <td>disagree with Jan</td>\n",
       "      <td>get to work</td>\n",
       "      <td>argue with the assignments</td>\n",
       "      <td>1</td>\n",
       "    </tr>\n",
       "    <tr>\n",
       "      <th>2</th>\n",
       "      <td>Remy was an expert fisherman and was on the wa...</td>\n",
       "      <td>What will Remy want to do next?</td>\n",
       "      <td>cast the line</td>\n",
       "      <td>put the boat in the water</td>\n",
       "      <td>invite Kai out on the boat</td>\n",
       "      <td>0</td>\n",
       "    </tr>\n",
       "    <tr>\n",
       "      <th>3</th>\n",
       "      <td>Addison gave a hug to Skylar's son when they w...</td>\n",
       "      <td>Why did Addison do this?</td>\n",
       "      <td>better</td>\n",
       "      <td>wrong</td>\n",
       "      <td>keep hugging the son</td>\n",
       "      <td>0</td>\n",
       "    </tr>\n",
       "    <tr>\n",
       "      <th>4</th>\n",
       "      <td>Kai found one for sale online but it was too m...</td>\n",
       "      <td>What does Kai need to do before this?</td>\n",
       "      <td>cheaper</td>\n",
       "      <td>Open up her laptop</td>\n",
       "      <td>save money</td>\n",
       "      <td>1</td>\n",
       "    </tr>\n",
       "    <tr>\n",
       "      <th>...</th>\n",
       "      <td>...</td>\n",
       "      <td>...</td>\n",
       "      <td>...</td>\n",
       "      <td>...</td>\n",
       "      <td>...</td>\n",
       "      <td>...</td>\n",
       "    </tr>\n",
       "    <tr>\n",
       "      <th>33405</th>\n",
       "      <td>Skylar wanted to kill jan that day because jan...</td>\n",
       "      <td>What will happen to Skylar?</td>\n",
       "      <td>she will get yelled at</td>\n",
       "      <td>have to control themselves</td>\n",
       "      <td>be happy</td>\n",
       "      <td>1</td>\n",
       "    </tr>\n",
       "    <tr>\n",
       "      <th>33406</th>\n",
       "      <td>Aubrey offered tribute to the gods. They did t...</td>\n",
       "      <td>How would Others feel as a result?</td>\n",
       "      <td>they were diffierent</td>\n",
       "      <td>religious and spiritual</td>\n",
       "      <td>they were unique</td>\n",
       "      <td>1</td>\n",
       "    </tr>\n",
       "    <tr>\n",
       "      <th>33407</th>\n",
       "      <td>Robin tapped the coach on the shoulder to brin...</td>\n",
       "      <td>What will the coach want to do next?</td>\n",
       "      <td>praise Robin</td>\n",
       "      <td>watch the competition</td>\n",
       "      <td>wrong</td>\n",
       "      <td>0</td>\n",
       "    </tr>\n",
       "    <tr>\n",
       "      <th>33408</th>\n",
       "      <td>kendall stretched lee out and focused on the l...</td>\n",
       "      <td>What will Lee want to do next?</td>\n",
       "      <td>get some exercise</td>\n",
       "      <td>ignore some exercise</td>\n",
       "      <td>avoid a run</td>\n",
       "      <td>0</td>\n",
       "    </tr>\n",
       "    <tr>\n",
       "      <th>33409</th>\n",
       "      <td>quinn was annoyed by him so she sent him away.</td>\n",
       "      <td>How would Others feel as a result?</td>\n",
       "      <td>angry and irritated</td>\n",
       "      <td>as calm</td>\n",
       "      <td>as angry</td>\n",
       "      <td>0</td>\n",
       "    </tr>\n",
       "  </tbody>\n",
       "</table>\n",
       "<p>33004 rows × 6 columns</p>\n",
       "</div>"
      ],
      "text/plain": [
       "                                                 context  \\\n",
       "0      Cameron decided to have a barbecue and gathere...   \n",
       "1      Jan needed to give out jobs for an upcoming pr...   \n",
       "2      Remy was an expert fisherman and was on the wa...   \n",
       "3      Addison gave a hug to Skylar's son when they w...   \n",
       "4      Kai found one for sale online but it was too m...   \n",
       "...                                                  ...   \n",
       "33405  Skylar wanted to kill jan that day because jan...   \n",
       "33406  Aubrey offered tribute to the gods. They did t...   \n",
       "33407  Robin tapped the coach on the shoulder to brin...   \n",
       "33408  kendall stretched lee out and focused on the l...   \n",
       "33409     quinn was annoyed by him so she sent him away.   \n",
       "\n",
       "                                    question                       0  \\\n",
       "0         How would Others feel as a result?          like attending   \n",
       "1          What will Others want to do next?       disagree with Jan   \n",
       "2            What will Remy want to do next?           cast the line   \n",
       "3                   Why did Addison do this?                  better   \n",
       "4      What does Kai need to do before this?                 cheaper   \n",
       "...                                      ...                     ...   \n",
       "33405            What will happen to Skylar?  she will get yelled at   \n",
       "33406     How would Others feel as a result?    they were diffierent   \n",
       "33407   What will the coach want to do next?            praise Robin   \n",
       "33408         What will Lee want to do next?       get some exercise   \n",
       "33409     How would Others feel as a result?     angry and irritated   \n",
       "\n",
       "                                1                           2  label  \n",
       "0               like staying home       a good friend to have      0  \n",
       "1                     get to work  argue with the assignments      1  \n",
       "2       put the boat in the water  invite Kai out on the boat      0  \n",
       "3                           wrong        keep hugging the son      0  \n",
       "4              Open up her laptop                  save money      1  \n",
       "...                           ...                         ...    ...  \n",
       "33405  have to control themselves                    be happy      1  \n",
       "33406     religious and spiritual            they were unique      1  \n",
       "33407       watch the competition                       wrong      0  \n",
       "33408        ignore some exercise                 avoid a run      0  \n",
       "33409                     as calm                    as angry      0  \n",
       "\n",
       "[33004 rows x 6 columns]"
      ]
     },
     "execution_count": 3,
     "metadata": {},
     "output_type": "execute_result"
    }
   ],
   "source": [
    "parent_dir = \"/Users/briandunn/Desktop/nlp_ds/Question_&_Answer/Social IQa (Social Interaction Q&A)\"\n",
    "\n",
    "train_ds_file = os.path.join(parent_dir, \"train.csv\")\n",
    "\n",
    "train_ds = pd.read_csv(train_ds_file)\n",
    "\n",
    "train_ds = train_ds.dropna()\n",
    "\n",
    "train_ds = train_ds.drop_duplicates(subset=[\"context\", \"question\"])\n",
    "\n",
    "update_feature_names = {\"answerA\": 0, \"answerB\": 1, \"answerC\": 2}\n",
    "train_ds[\"label\"] = train_ds[\"label\"] - 1\n",
    "\n",
    "train_ds.rename(columns=update_feature_names, inplace=True)\n",
    "\n",
    "train_ds"
   ]
  },
  {
   "attachments": {},
   "cell_type": "markdown",
   "metadata": {},
   "source": [
    "#### Load & Process Evaluation Dataset"
   ]
  },
  {
   "cell_type": "code",
   "execution_count": 4,
   "metadata": {},
   "outputs": [
    {
     "data": {
      "text/html": [
       "<div>\n",
       "<style scoped>\n",
       "    .dataframe tbody tr th:only-of-type {\n",
       "        vertical-align: middle;\n",
       "    }\n",
       "\n",
       "    .dataframe tbody tr th {\n",
       "        vertical-align: top;\n",
       "    }\n",
       "\n",
       "    .dataframe thead th {\n",
       "        text-align: right;\n",
       "    }\n",
       "</style>\n",
       "<table border=\"1\" class=\"dataframe\">\n",
       "  <thead>\n",
       "    <tr style=\"text-align: right;\">\n",
       "      <th></th>\n",
       "      <th>context</th>\n",
       "      <th>question</th>\n",
       "      <th>0</th>\n",
       "      <th>1</th>\n",
       "      <th>2</th>\n",
       "      <th>label</th>\n",
       "    </tr>\n",
       "  </thead>\n",
       "  <tbody>\n",
       "    <tr>\n",
       "      <th>0</th>\n",
       "      <td>Tracy didn't go home that evening and resisted...</td>\n",
       "      <td>What does Tracy need to do before this?</td>\n",
       "      <td>make a new plan</td>\n",
       "      <td>Go home and see Riley</td>\n",
       "      <td>Find somewhere to go</td>\n",
       "      <td>2</td>\n",
       "    </tr>\n",
       "    <tr>\n",
       "      <th>1</th>\n",
       "      <td>Sydney walked past a homeless woman asking for...</td>\n",
       "      <td>How would you describe Sydney?</td>\n",
       "      <td>sympathetic</td>\n",
       "      <td>like a person who was unable to help</td>\n",
       "      <td>incredulous</td>\n",
       "      <td>0</td>\n",
       "    </tr>\n",
       "    <tr>\n",
       "      <th>2</th>\n",
       "      <td>Sasha protected the patients' rights by making...</td>\n",
       "      <td>What will patients want to do next?</td>\n",
       "      <td>write new laws</td>\n",
       "      <td>get petitions signed</td>\n",
       "      <td>live longer</td>\n",
       "      <td>1</td>\n",
       "    </tr>\n",
       "    <tr>\n",
       "      <th>3</th>\n",
       "      <td>Jordan was in charge of taking the food on the...</td>\n",
       "      <td>How would Jordan feel afterwards?</td>\n",
       "      <td>horrible that he let his friends down on the c...</td>\n",
       "      <td>happy that he doesn't need to do the cooking o...</td>\n",
       "      <td>very proud and accomplished about the camping ...</td>\n",
       "      <td>0</td>\n",
       "    </tr>\n",
       "    <tr>\n",
       "      <th>4</th>\n",
       "      <td>Kendall opened their mouth to speak and what c...</td>\n",
       "      <td>How would you describe Kendall?</td>\n",
       "      <td>a very quiet person</td>\n",
       "      <td>a very passive person</td>\n",
       "      <td>a very aggressive and talkative person</td>\n",
       "      <td>2</td>\n",
       "    </tr>\n",
       "    <tr>\n",
       "      <th>...</th>\n",
       "      <td>...</td>\n",
       "      <td>...</td>\n",
       "      <td>...</td>\n",
       "      <td>...</td>\n",
       "      <td>...</td>\n",
       "      <td>...</td>\n",
       "    </tr>\n",
       "    <tr>\n",
       "      <th>1949</th>\n",
       "      <td>Bailey destroyed the enemy's bunker and won th...</td>\n",
       "      <td>What does Bailey need to do before this?</td>\n",
       "      <td>spy on enemy troop movements</td>\n",
       "      <td>give the enemy counterintelligence</td>\n",
       "      <td>win the war for his country</td>\n",
       "      <td>0</td>\n",
       "    </tr>\n",
       "    <tr>\n",
       "      <th>1950</th>\n",
       "      <td>Kai told Kendall the reason about the accident...</td>\n",
       "      <td>How would you describe Kai?</td>\n",
       "      <td>more at ease</td>\n",
       "      <td>like they got something off their chest</td>\n",
       "      <td>feeling sad</td>\n",
       "      <td>1</td>\n",
       "    </tr>\n",
       "    <tr>\n",
       "      <th>1951</th>\n",
       "      <td>Kai improved Jan's picture and she loved how i...</td>\n",
       "      <td>What will Jan want to do next?</td>\n",
       "      <td>wanted to be helpful</td>\n",
       "      <td>wanted to Jan to be glad</td>\n",
       "      <td>frame the picture</td>\n",
       "      <td>2</td>\n",
       "    </tr>\n",
       "    <tr>\n",
       "      <th>1952</th>\n",
       "      <td>Tracy's kids wanted ice cream so Aubrey fed th...</td>\n",
       "      <td>What does Aubrey need to do before this?</td>\n",
       "      <td>tell her kids to say thank you</td>\n",
       "      <td>get ice cream</td>\n",
       "      <td>thanks Aubrey</td>\n",
       "      <td>1</td>\n",
       "    </tr>\n",
       "    <tr>\n",
       "      <th>1953</th>\n",
       "      <td>Aubrey the officer pulled a driver over for sp...</td>\n",
       "      <td>Why did Aubrey do this?</td>\n",
       "      <td>find a safe place to pull the person over</td>\n",
       "      <td>so people don't drive to fast</td>\n",
       "      <td>look up the person's license plate number</td>\n",
       "      <td>1</td>\n",
       "    </tr>\n",
       "  </tbody>\n",
       "</table>\n",
       "<p>1930 rows × 6 columns</p>\n",
       "</div>"
      ],
      "text/plain": [
       "                                                context  \\\n",
       "0     Tracy didn't go home that evening and resisted...   \n",
       "1     Sydney walked past a homeless woman asking for...   \n",
       "2     Sasha protected the patients' rights by making...   \n",
       "3     Jordan was in charge of taking the food on the...   \n",
       "4     Kendall opened their mouth to speak and what c...   \n",
       "...                                                 ...   \n",
       "1949  Bailey destroyed the enemy's bunker and won th...   \n",
       "1950  Kai told Kendall the reason about the accident...   \n",
       "1951  Kai improved Jan's picture and she loved how i...   \n",
       "1952  Tracy's kids wanted ice cream so Aubrey fed th...   \n",
       "1953  Aubrey the officer pulled a driver over for sp...   \n",
       "\n",
       "                                      question  \\\n",
       "0      What does Tracy need to do before this?   \n",
       "1               How would you describe Sydney?   \n",
       "2          What will patients want to do next?   \n",
       "3            How would Jordan feel afterwards?   \n",
       "4              How would you describe Kendall?   \n",
       "...                                        ...   \n",
       "1949  What does Bailey need to do before this?   \n",
       "1950               How would you describe Kai?   \n",
       "1951            What will Jan want to do next?   \n",
       "1952  What does Aubrey need to do before this?   \n",
       "1953                   Why did Aubrey do this?   \n",
       "\n",
       "                                                      0  \\\n",
       "0                                       make a new plan   \n",
       "1                                           sympathetic   \n",
       "2                                        write new laws   \n",
       "3     horrible that he let his friends down on the c...   \n",
       "4                                   a very quiet person   \n",
       "...                                                 ...   \n",
       "1949                       spy on enemy troop movements   \n",
       "1950                                       more at ease   \n",
       "1951                               wanted to be helpful   \n",
       "1952                     tell her kids to say thank you   \n",
       "1953          find a safe place to pull the person over   \n",
       "\n",
       "                                                      1  \\\n",
       "0                                 Go home and see Riley   \n",
       "1                  like a person who was unable to help   \n",
       "2                                  get petitions signed   \n",
       "3     happy that he doesn't need to do the cooking o...   \n",
       "4                                 a very passive person   \n",
       "...                                                 ...   \n",
       "1949                 give the enemy counterintelligence   \n",
       "1950            like they got something off their chest   \n",
       "1951                           wanted to Jan to be glad   \n",
       "1952                                      get ice cream   \n",
       "1953                      so people don't drive to fast   \n",
       "\n",
       "                                                      2  label  \n",
       "0                                  Find somewhere to go      2  \n",
       "1                                           incredulous      0  \n",
       "2                                           live longer      1  \n",
       "3     very proud and accomplished about the camping ...      0  \n",
       "4                a very aggressive and talkative person      2  \n",
       "...                                                 ...    ...  \n",
       "1949                        win the war for his country      0  \n",
       "1950                                        feeling sad      1  \n",
       "1951                                  frame the picture      2  \n",
       "1952                                      thanks Aubrey      1  \n",
       "1953          look up the person's license plate number      1  \n",
       "\n",
       "[1930 rows x 6 columns]"
      ]
     },
     "execution_count": 4,
     "metadata": {},
     "output_type": "execute_result"
    }
   ],
   "source": [
    "eval_ds_file = os.path.join(parent_dir, \"validation.csv\")\n",
    "\n",
    "eval_ds = pd.read_csv(eval_ds_file)\n",
    "\n",
    "eval_ds = eval_ds.dropna()\n",
    "\n",
    "eval_ds = eval_ds.drop_duplicates(subset=[\"context\", \"question\"])\n",
    "\n",
    "update_feature_names = {\"answerA\": 0, \"answerB\": 1, \"answerC\": 2}\n",
    "eval_ds.rename(columns=update_feature_names, inplace=True)\n",
    "\n",
    "eval_ds[\"label\"] = eval_ds[\"label\"] - 1\n",
    "\n",
    "eval_ds"
   ]
  },
  {
   "attachments": {},
   "cell_type": "markdown",
   "metadata": {},
   "source": [
    "#### Visual: Length of Training Dataset Contexts & Questions Combined (in Words)"
   ]
  },
  {
   "cell_type": "code",
   "execution_count": 5,
   "metadata": {},
   "outputs": [
    {
     "data": {
      "image/png": "[encoded data removed]",
      "text/plain": [
       "<Figure size 1800x800 with 1 Axes>"
      ]
     },
     "metadata": {},
     "output_type": "display_data"
    },
    {
     "name": "stdout",
     "output_type": "stream",
     "text": [
      "The maximum length of the questions (in words) is 111 words.\n"
     ]
    }
   ],
   "source": [
    "train_ds['input_length'] = train_ds['question'].str.split().str.len() + train_ds['context'].str.split().str.len()\n",
    "\n",
    "n_bin= 45\n",
    "train_ds.hist('input_length', grid=False, figsize=(18,8), range=(0,n_bin), bins=n_bin)\n",
    "plt.title('Histogram: Length of Contexts & Questions Combined')\n",
    "plt.xlabel('# of Words in Contexts & Questions Combined')\n",
    "plt.ylabel('# of Samples')\n",
    "plt.show()\n",
    "\n",
    "print(f\"The maximum length of the questions (in words) is {max(train_ds['input_length'])} words.\")"
   ]
  },
  {
   "attachments": {},
   "cell_type": "markdown",
   "metadata": {},
   "source": [
    "#### Visual: Length of Evaluation Dataset Contexts & Questions Combined (in Words)"
   ]
  },
  {
   "cell_type": "code",
   "execution_count": 6,
   "metadata": {},
   "outputs": [
    {
     "data": {
      "image/png": "[encoded data removed]",
      "text/plain": [
       "<Figure size 1800x800 with 1 Axes>"
      ]
     },
     "metadata": {},
     "output_type": "display_data"
    },
    {
     "name": "stdout",
     "output_type": "stream",
     "text": [
      "The maximum length of the questions (in words) is 48 words.\n"
     ]
    }
   ],
   "source": [
    "eval_ds['input_length'] = eval_ds['question'].str.split().str.len() + eval_ds['context'].str.split().str.len()\n",
    "\n",
    "n_bin= 45\n",
    "eval_ds.hist('input_length', grid=False, figsize=(18,8), range=(0,n_bin), bins=n_bin)\n",
    "plt.title('Histogram: Length of Contexts & Questions Combined')\n",
    "plt.xlabel('# of Words in Contexts & Questions Combined')\n",
    "plt.ylabel('# of Samples')\n",
    "plt.show()\n",
    "\n",
    "print(f\"The maximum length of the questions (in words) is {max(eval_ds['input_length'])} words.\")"
   ]
  },
  {
   "attachments": {},
   "cell_type": "markdown",
   "metadata": {},
   "source": [
    "#### Remove Overly Lengthy Samples"
   ]
  },
  {
   "cell_type": "code",
   "execution_count": 7,
   "metadata": {},
   "outputs": [
    {
     "name": "stdout",
     "output_type": "stream",
     "text": [
      "<class 'pandas.core.frame.DataFrame'>\n",
      "RangeIndex: 32977 entries, 0 to 32976\n",
      "Data columns (total 6 columns):\n",
      " #   Column    Non-Null Count  Dtype \n",
      "---  ------    --------------  ----- \n",
      " 0   context   32977 non-null  object\n",
      " 1   question  32977 non-null  object\n",
      " 2   0         32977 non-null  object\n",
      " 3   1         32977 non-null  object\n",
      " 4   2         32977 non-null  object\n",
      " 5   label     32977 non-null  int64 \n",
      "dtypes: int64(1), object(5)\n",
      "memory usage: 1.5+ MB\n"
     ]
    }
   ],
   "source": [
    "train_ds = train_ds[train_ds[\"input_length\"] < 46]\n",
    "eval_ds = eval_ds[eval_ds[\"input_length\"] < 46]\n",
    "\n",
    "train_ds = train_ds.drop(columns=['input_length'])\n",
    "eval_ds = eval_ds.drop(columns=['input_length'])\n",
    "\n",
    "train_ds.reset_index(drop=True, inplace=True)\n",
    "eval_ds.reset_index(drop=True, inplace=True)\n",
    "\n",
    "train_ds.info()"
   ]
  },
  {
   "cell_type": "code",
   "execution_count": 8,
   "metadata": {},
   "outputs": [
    {
     "name": "stdout",
     "output_type": "stream",
     "text": [
      "<class 'pandas.core.frame.DataFrame'>\n",
      "RangeIndex: 1929 entries, 0 to 1928\n",
      "Data columns (total 6 columns):\n",
      " #   Column    Non-Null Count  Dtype \n",
      "---  ------    --------------  ----- \n",
      " 0   context   1929 non-null   object\n",
      " 1   question  1929 non-null   object\n",
      " 2   0         1929 non-null   object\n",
      " 3   1         1929 non-null   object\n",
      " 4   2         1929 non-null   object\n",
      " 5   label     1929 non-null   int64 \n",
      "dtypes: int64(1), object(5)\n",
      "memory usage: 90.5+ KB\n"
     ]
    }
   ],
   "source": [
    "eval_ds.info()"
   ]
  },
  {
   "attachments": {},
   "cell_type": "markdown",
   "metadata": {},
   "source": [
    "#### Convert from DataFrame to Dataset"
   ]
  },
  {
   "cell_type": "code",
   "execution_count": 9,
   "metadata": {},
   "outputs": [
    {
     "name": "stderr",
     "output_type": "stream",
     "text": [
      "/Users/briandunn/Documents/nlpnn/nlp_ml/lib/python3.9/site-packages/datasets/table.py:763: UserWarning: The DataFrame has column names of mixed type. They will be converted to strings and not roundtrip correctly.\n",
      "  return cls(pa.Table.from_pandas(*args, **kwargs))\n"
     ]
    }
   ],
   "source": [
    "train_dataset = Dataset.from_pandas(train_ds)\n",
    "eval_dataset = Dataset.from_pandas(eval_ds)"
   ]
  },
  {
   "attachments": {},
   "cell_type": "markdown",
   "metadata": {},
   "source": [
    "#### Assign Training & Validation Datasets to DatasetDict"
   ]
  },
  {
   "cell_type": "code",
   "execution_count": 10,
   "metadata": {},
   "outputs": [
    {
     "name": "stdout",
     "output_type": "stream",
     "text": [
      "Training Dataset Shape: (32977, 6)\n",
      "Evaluation Dataset Shape: (1929, 6)\n",
      "{'context': Value(dtype='string', id=None), 'question': Value(dtype='string', id=None), '0': Value(dtype='string', id=None), '1': Value(dtype='string', id=None), '2': Value(dtype='string', id=None), 'label': Value(dtype='int64', id=None)}\n"
     ]
    }
   ],
   "source": [
    "ds = DatasetDict({\n",
    "    'train' : train_dataset,\n",
    "    'eval' : eval_dataset,\n",
    "})\n",
    "\n",
    "print(\"Training Dataset Shape:\", ds['train'].shape)\n",
    "print(\"Evaluation Dataset Shape:\", ds['eval'].shape)\n",
    "\n",
    "print(ds['train'].features)"
   ]
  },
  {
   "attachments": {},
   "cell_type": "markdown",
   "metadata": {},
   "source": [
    "#### Create Function to Display an Example Sample"
   ]
  },
  {
   "cell_type": "code",
   "execution_count": 11,
   "metadata": {},
   "outputs": [],
   "source": [
    "def show_one_example(sample):\n",
    "    print(f\"Context: {sample['context']} {sample['question']}\")\n",
    "    print(f\" 0 - {sample['0']}\")\n",
    "    print(f\" 1 - {sample['1']}\")\n",
    "    print(f\" 2 - {sample['2']}\")\n",
    "    print(f\"\\nGround Truth: option {sample['label']}\")"
   ]
  },
  {
   "attachments": {},
   "cell_type": "markdown",
   "metadata": {},
   "source": [
    "#### Display an Example Sample"
   ]
  },
  {
   "cell_type": "code",
   "execution_count": 12,
   "metadata": {},
   "outputs": [
    {
     "name": "stdout",
     "output_type": "stream",
     "text": [
      "Context: Remy was an expert fisherman and was on the water with Kai. Remy baited Kai's hook. What will Remy want to do next?\n",
      " 0 - cast the line\n",
      " 1 - put the boat in the water\n",
      " 2 - invite Kai out on the boat\n",
      "\n",
      "Ground Truth: option 0\n"
     ]
    }
   ],
   "source": [
    "show_one_example(ds['train'][2])"
   ]
  },
  {
   "attachments": {},
   "cell_type": "markdown",
   "metadata": {},
   "source": [
    "#### Basic Values/Constants"
   ]
  },
  {
   "cell_type": "code",
   "execution_count": 13,
   "metadata": {},
   "outputs": [],
   "source": [
    "MODEL_CKPT = \"bert-base-uncased\"\n",
    "MODEL_NAME = MODEL_CKPT.split(\"/\")[-1] + \"-Social_IQa\"\n",
    "\n",
    "STRATEGY = \"epoch\"\n",
    "LEARNING_RATE = 5e-5\n",
    "\n",
    "BATCH_SIZE = 16\n",
    "NUM_OF_EPOCHS = 3\n",
    "\n",
    "WEIGHT_DECAY = 0.01\n",
    "REPORTS_TO = \"tensorboard\"\n",
    "\n",
    "set_seed = 42"
   ]
  },
  {
   "attachments": {},
   "cell_type": "markdown",
   "metadata": {},
   "source": [
    "#### Instantiate Tokenizer"
   ]
  },
  {
   "cell_type": "code",
   "execution_count": 14,
   "metadata": {},
   "outputs": [],
   "source": [
    "tokenizer = AutoTokenizer.from_pretrained(MODEL_CKPT, use_fast=True)"
   ]
  },
  {
   "attachments": {},
   "cell_type": "markdown",
   "metadata": {},
   "source": [
    "#### Create Preprocessing Function"
   ]
  },
  {
   "cell_type": "code",
   "execution_count": 15,
   "metadata": {},
   "outputs": [],
   "source": [
    "ending_names = [\"0\", \"1\", \"2\"]\n",
    "\n",
    "def preprocess_function(samples):\n",
    "    first_sentences = [[context] * len(ending_names) for context in samples['context']]\n",
    "    \n",
    "    question_headers = samples['question']\n",
    "    second_sentences = [[f\"{header} {samples[end][i]}\" for end in ending_names] for i, header in enumerate(question_headers)]\n",
    "    \n",
    "    first_sentences = sum(first_sentences, [])\n",
    "    second_sentences = sum(second_sentences, [])\n",
    "    \n",
    "    tokenized_samples = tokenizer(first_sentences, second_sentences, truncation=True)\n",
    "    return {k: [v[i:i + len(ending_names)] for i in range(0, len(v), len(ending_names))] for k, v in tokenized_samples.items()}"
   ]
  },
  {
   "attachments": {},
   "cell_type": "markdown",
   "metadata": {},
   "source": [
    "#### Apply Preprocessing Function to Dataset"
   ]
  },
  {
   "cell_type": "code",
   "execution_count": 16,
   "metadata": {},
   "outputs": [
    {
     "data": {
      "application/vnd.jupyter.widget-view+json": {
       "model_id": "7f21673ee3b6404da6d8cf9ec4b01218",
       "version_major": 2,
       "version_minor": 0
      },
      "text/plain": [
       "A Jupyter Widget"
      ]
     },
     "metadata": {},
     "output_type": "display_data"
    },
    {
     "data": {
      "application/vnd.jupyter.widget-view+json": {
       "model_id": "611c0b5cf3974b7a858c4b5e4830545c",
       "version_major": 2,
       "version_minor": 0
      },
      "text/plain": [
       "A Jupyter Widget"
      ]
     },
     "metadata": {},
     "output_type": "display_data"
    },
    {
     "data": {
      "text/plain": [
       "{'context': Value(dtype='string', id=None),\n",
       " 'question': Value(dtype='string', id=None),\n",
       " '0': Value(dtype='string', id=None),\n",
       " '1': Value(dtype='string', id=None),\n",
       " '2': Value(dtype='string', id=None),\n",
       " 'label': Value(dtype='int64', id=None),\n",
       " 'input_ids': Sequence(feature=Sequence(feature=Value(dtype='int32', id=None), length=-1, id=None), length=-1, id=None),\n",
       " 'token_type_ids': Sequence(feature=Sequence(feature=Value(dtype='int8', id=None), length=-1, id=None), length=-1, id=None),\n",
       " 'attention_mask': Sequence(feature=Sequence(feature=Value(dtype='int8', id=None), length=-1, id=None), length=-1, id=None)}"
      ]
     },
     "execution_count": 16,
     "metadata": {},
     "output_type": "execute_result"
    }
   ],
   "source": [
    "encoded_ds = ds.map(preprocess_function, batched=True)\n",
    "\n",
    "encoded_ds['train'].features"
   ]
  },
  {
   "attachments": {},
   "cell_type": "markdown",
   "metadata": {},
   "source": [
    "#### Instantiate Model"
   ]
  },
  {
   "cell_type": "code",
   "execution_count": 17,
   "metadata": {},
   "outputs": [
    {
     "name": "stderr",
     "output_type": "stream",
     "text": [
      "Some weights of the model checkpoint at bert-base-uncased were not used when initializing BertForMultipleChoice: ['cls.predictions.bias', 'cls.predictions.transform.dense.bias', 'cls.predictions.transform.LayerNorm.weight', 'cls.predictions.transform.LayerNorm.bias', 'cls.seq_relationship.bias', 'cls.predictions.decoder.weight', 'cls.seq_relationship.weight', 'cls.predictions.transform.dense.weight']\n",
      "- This IS expected if you are initializing BertForMultipleChoice from the checkpoint of a model trained on another task or with another architecture (e.g. initializing a BertForSequenceClassification model from a BertForPreTraining model).\n",
      "- This IS NOT expected if you are initializing BertForMultipleChoice from the checkpoint of a model that you expect to be exactly identical (initializing a BertForSequenceClassification model from a BertForSequenceClassification model).\n",
      "Some weights of BertForMultipleChoice were not initialized from the model checkpoint at bert-base-uncased and are newly initialized: ['classifier.bias', 'classifier.weight']\n",
      "You should probably TRAIN this model on a down-stream task to be able to use it for predictions and inference.\n"
     ]
    }
   ],
   "source": [
    "model = AutoModelForMultipleChoice.from_pretrained(MODEL_CKPT)"
   ]
  },
  {
   "attachments": {},
   "cell_type": "markdown",
   "metadata": {},
   "source": [
    "#### Define TrainingArguments"
   ]
  },
  {
   "cell_type": "code",
   "execution_count": 18,
   "metadata": {},
   "outputs": [],
   "source": [
    "args = TrainingArguments(\n",
    "    output_dir=MODEL_NAME,\n",
    "    evaluation_strategy=STRATEGY,\n",
    "    learning_rate=LEARNING_RATE,\n",
    "    per_device_train_batch_size=BATCH_SIZE,\n",
    "    per_device_eval_batch_size=BATCH_SIZE,\n",
    "    num_train_epochs=NUM_OF_EPOCHS,\n",
    "    weight_decay=WEIGHT_DECAY,\n",
    "    report_to=REPORTS_TO,\n",
    "    logging_first_step=True,\n",
    "    hub_private_repo=True,\n",
    "    push_to_hub=True\n",
    ")"
   ]
  },
  {
   "attachments": {},
   "cell_type": "markdown",
   "metadata": {},
   "source": [
    "#### Define Data Collator Class"
   ]
  },
  {
   "cell_type": "code",
   "execution_count": 19,
   "metadata": {},
   "outputs": [],
   "source": [
    "@dataclass\n",
    "class DataCollatorForMultipleChoice:\n",
    "    \"\"\"\n",
    "    Data collator that will dynamically pad inputs \n",
    "    for the multiple choices received.\n",
    "    \"\"\"\n",
    "\n",
    "    tokenizer: PreTrainedTokenizerBase\n",
    "    padding: Union[bool, str, PaddingStrategy] = True\n",
    "    max_length: Optional[int] = None\n",
    "    pad_to_multiple_of: Optional[int] = None\n",
    "    \n",
    "    def __call__(self, features):\n",
    "        label_name = \"label\" if \"label\" in features[0].keys() else \"labels\"\n",
    "        labels = [feature.pop(label_name) for feature in features]\n",
    "        batch_size = len(features)\n",
    "        num_choices = len(features[0][\"input_ids\"])\n",
    "        flattened_features = [[{k: v[i] for k, v in feature.items()} \n",
    "                               for i in range(num_choices)] for feature in features]\n",
    "        flattened_features = sum(flattened_features, [])\n",
    "        \n",
    "        batch = self.tokenizer.pad(\n",
    "            flattened_features,\n",
    "            padding=self.padding,\n",
    "            max_length=self.max_length,\n",
    "            pad_to_multiple_of=self.pad_to_multiple_of,\n",
    "            return_tensors=\"pt\",\n",
    "        )\n",
    "        \n",
    "        # Unflatten\n",
    "        batch = {k: v.view(batch_size, num_choices, -1) for k, v in batch.items()}\n",
    "        # Add back labels\n",
    "        batch[\"labels\"] = torch.tensor(labels, dtype=torch.int64)\n",
    "        return batch"
   ]
  },
  {
   "attachments": {},
   "cell_type": "markdown",
   "metadata": {},
   "source": [
    "#### Create Function to Compute Metrics"
   ]
  },
  {
   "cell_type": "code",
   "execution_count": 20,
   "metadata": {},
   "outputs": [],
   "source": [
    "def compute_metrics(predictions):\n",
    "    preds, labels = predictions\n",
    "    preds = np.argmax(preds, axis=1)\n",
    "    return {\"accuracy\": (preds == labels).astype(np.float32).mean().item()}"
   ]
  },
  {
   "attachments": {},
   "cell_type": "markdown",
   "metadata": {},
   "source": [
    "#### Instantiate Trainer"
   ]
  },
  {
   "cell_type": "code",
   "execution_count": 21,
   "metadata": {},
   "outputs": [
    {
     "name": "stderr",
     "output_type": "stream",
     "text": [
      "Cloning https://huggingface.co/DunnBC22/bert-base-uncased-Social_IQa into local empty directory.\n"
     ]
    }
   ],
   "source": [
    "trainer = Trainer(\n",
    "    model=model,\n",
    "    args=args,\n",
    "    train_dataset=encoded_ds[\"train\"],\n",
    "    eval_dataset=encoded_ds[\"eval\"],\n",
    "    tokenizer=tokenizer,\n",
    "    data_collator=DataCollatorForMultipleChoice(tokenizer),\n",
    "    compute_metrics=compute_metrics,\n",
    ")"
   ]
  },
  {
   "attachments": {},
   "cell_type": "markdown",
   "metadata": {},
   "source": [
    "#### Train Model"
   ]
  },
  {
   "cell_type": "code",
   "execution_count": 22,
   "metadata": {},
   "outputs": [
    {
     "name": "stderr",
     "output_type": "stream",
     "text": [
      "The following columns in the training set don't have a corresponding argument in `BertForMultipleChoice.forward` and have been ignored: 0, 1, question, context, 2. If 0, 1, question, context, 2 are not expected by `BertForMultipleChoice.forward`,  you can safely ignore this message.\n",
      "/Users/briandunn/Documents/nlpnn/nlp_ml/lib/python3.9/site-packages/transformers/optimization.py:306: FutureWarning: This implementation of AdamW is deprecated and will be removed in a future version. Use the PyTorch implementation torch.optim.AdamW instead, or set `no_deprecation_warning=True` to disable this warning\n",
      "  warnings.warn(\n",
      "***** Running training *****\n",
      "  Num examples = 32977\n",
      "  Num Epochs = 3\n",
      "  Instantaneous batch size per device = 16\n",
      "  Total train batch size (w. parallel, distributed & accumulation) = 16\n",
      "  Gradient Accumulation steps = 1\n",
      "  Total optimization steps = 6186\n",
      "  Number of trainable parameters = 109483009\n"
     ]
    },
    {
     "data": {
      "application/vnd.jupyter.widget-view+json": {
       "model_id": "25cc6e3106fa453cbca5e7d1bcd1f90d",
       "version_major": 2,
       "version_minor": 0
      },
      "text/plain": [
       "A Jupyter Widget"
      ]
     },
     "metadata": {},
     "output_type": "display_data"
    },
    {
     "name": "stderr",
     "output_type": "stream",
     "text": [
      "You're using a BertTokenizerFast tokenizer. Please note that with a fast tokenizer, using the `__call__` method is faster than using a method to encode the text followed by a call to the `pad` method to get a padded encoding.\n"
     ]
    },
    {
     "name": "stdout",
     "output_type": "stream",
     "text": [
      "{'loss': 1.152, 'learning_rate': 4.99919172324604e-05, 'epoch': 0.0}\n"
     ]
    },
    {
     "name": "stderr",
     "output_type": "stream",
     "text": [
      "Saving model checkpoint to bert-base-uncased-Social_IQa/checkpoint-500\n",
      "Configuration saved in bert-base-uncased-Social_IQa/checkpoint-500/config.json\n"
     ]
    },
    {
     "name": "stdout",
     "output_type": "stream",
     "text": [
      "{'loss': 0.9, 'learning_rate': 4.5958616230197224e-05, 'epoch': 0.24}\n"
     ]
    },
    {
     "name": "stderr",
     "output_type": "stream",
     "text": [
      "Model weights saved in bert-base-uncased-Social_IQa/checkpoint-500/pytorch_model.bin\n",
      "tokenizer config file saved in bert-base-uncased-Social_IQa/checkpoint-500/tokenizer_config.json\n",
      "Special tokens file saved in bert-base-uncased-Social_IQa/checkpoint-500/special_tokens_map.json\n",
      "tokenizer config file saved in bert-base-uncased-Social_IQa/tokenizer_config.json\n",
      "Special tokens file saved in bert-base-uncased-Social_IQa/special_tokens_map.json\n",
      "Saving model checkpoint to bert-base-uncased-Social_IQa/checkpoint-1000\n",
      "Configuration saved in bert-base-uncased-Social_IQa/checkpoint-1000/config.json\n"
     ]
    },
    {
     "name": "stdout",
     "output_type": "stream",
     "text": [
      "{'loss': 0.7677, 'learning_rate': 4.191723246039444e-05, 'epoch': 0.48}\n"
     ]
    },
    {
     "name": "stderr",
     "output_type": "stream",
     "text": [
      "Model weights saved in bert-base-uncased-Social_IQa/checkpoint-1000/pytorch_model.bin\n",
      "tokenizer config file saved in bert-base-uncased-Social_IQa/checkpoint-1000/tokenizer_config.json\n",
      "Special tokens file saved in bert-base-uncased-Social_IQa/checkpoint-1000/special_tokens_map.json\n",
      "tokenizer config file saved in bert-base-uncased-Social_IQa/tokenizer_config.json\n",
      "Special tokens file saved in bert-base-uncased-Social_IQa/special_tokens_map.json\n",
      "Saving model checkpoint to bert-base-uncased-Social_IQa/checkpoint-1500\n",
      "Configuration saved in bert-base-uncased-Social_IQa/checkpoint-1500/config.json\n"
     ]
    },
    {
     "name": "stdout",
     "output_type": "stream",
     "text": [
      "{'loss': 0.7145, 'learning_rate': 3.787584869059166e-05, 'epoch': 0.73}\n"
     ]
    },
    {
     "name": "stderr",
     "output_type": "stream",
     "text": [
      "Model weights saved in bert-base-uncased-Social_IQa/checkpoint-1500/pytorch_model.bin\n",
      "tokenizer config file saved in bert-base-uncased-Social_IQa/checkpoint-1500/tokenizer_config.json\n",
      "Special tokens file saved in bert-base-uncased-Social_IQa/checkpoint-1500/special_tokens_map.json\n",
      "tokenizer config file saved in bert-base-uncased-Social_IQa/tokenizer_config.json\n",
      "Special tokens file saved in bert-base-uncased-Social_IQa/special_tokens_map.json\n",
      "Saving model checkpoint to bert-base-uncased-Social_IQa/checkpoint-2000\n",
      "Configuration saved in bert-base-uncased-Social_IQa/checkpoint-2000/config.json\n"
     ]
    },
    {
     "name": "stdout",
     "output_type": "stream",
     "text": [
      "{'loss': 0.694, 'learning_rate': 3.383446492078888e-05, 'epoch': 0.97}\n"
     ]
    },
    {
     "name": "stderr",
     "output_type": "stream",
     "text": [
      "Model weights saved in bert-base-uncased-Social_IQa/checkpoint-2000/pytorch_model.bin\n",
      "tokenizer config file saved in bert-base-uncased-Social_IQa/checkpoint-2000/tokenizer_config.json\n",
      "Special tokens file saved in bert-base-uncased-Social_IQa/checkpoint-2000/special_tokens_map.json\n",
      "tokenizer config file saved in bert-base-uncased-Social_IQa/tokenizer_config.json\n",
      "Special tokens file saved in bert-base-uncased-Social_IQa/special_tokens_map.json\n",
      "The following columns in the evaluation set don't have a corresponding argument in `BertForMultipleChoice.forward` and have been ignored: 0, 1, question, context, 2. If 0, 1, question, context, 2 are not expected by `BertForMultipleChoice.forward`,  you can safely ignore this message.\n",
      "***** Running Evaluation *****\n",
      "  Num examples = 1929\n",
      "  Batch size = 16\n"
     ]
    },
    {
     "data": {
      "application/vnd.jupyter.widget-view+json": {
       "model_id": "c7ece9f679b740c4a04f5ec8ad195427",
       "version_major": 2,
       "version_minor": 0
      },
      "text/plain": [
       "A Jupyter Widget"
      ]
     },
     "metadata": {},
     "output_type": "display_data"
    },
    {
     "name": "stdout",
     "output_type": "stream",
     "text": [
      "{'eval_loss': 0.9763215780258179, 'eval_accuracy': 0.6018662452697754, 'eval_runtime': 1088.4104, 'eval_samples_per_second': 1.772, 'eval_steps_per_second': 0.111, 'epoch': 1.0}\n"
     ]
    },
    {
     "name": "stderr",
     "output_type": "stream",
     "text": [
      "Saving model checkpoint to bert-base-uncased-Social_IQa/checkpoint-2500\n",
      "Configuration saved in bert-base-uncased-Social_IQa/checkpoint-2500/config.json\n"
     ]
    },
    {
     "name": "stdout",
     "output_type": "stream",
     "text": [
      "{'loss': 0.5081, 'learning_rate': 2.9793081150986095e-05, 'epoch': 1.21}\n"
     ]
    },
    {
     "name": "stderr",
     "output_type": "stream",
     "text": [
      "Model weights saved in bert-base-uncased-Social_IQa/checkpoint-2500/pytorch_model.bin\n",
      "tokenizer config file saved in bert-base-uncased-Social_IQa/checkpoint-2500/tokenizer_config.json\n",
      "Special tokens file saved in bert-base-uncased-Social_IQa/checkpoint-2500/special_tokens_map.json\n",
      "tokenizer config file saved in bert-base-uncased-Social_IQa/tokenizer_config.json\n",
      "Special tokens file saved in bert-base-uncased-Social_IQa/special_tokens_map.json\n",
      "Saving model checkpoint to bert-base-uncased-Social_IQa/checkpoint-3000\n",
      "Configuration saved in bert-base-uncased-Social_IQa/checkpoint-3000/config.json\n"
     ]
    },
    {
     "name": "stdout",
     "output_type": "stream",
     "text": [
      "{'loss': 0.4674, 'learning_rate': 2.575169738118332e-05, 'epoch': 1.45}\n"
     ]
    },
    {
     "name": "stderr",
     "output_type": "stream",
     "text": [
      "Model weights saved in bert-base-uncased-Social_IQa/checkpoint-3000/pytorch_model.bin\n",
      "tokenizer config file saved in bert-base-uncased-Social_IQa/checkpoint-3000/tokenizer_config.json\n",
      "Special tokens file saved in bert-base-uncased-Social_IQa/checkpoint-3000/special_tokens_map.json\n",
      "tokenizer config file saved in bert-base-uncased-Social_IQa/tokenizer_config.json\n",
      "Special tokens file saved in bert-base-uncased-Social_IQa/special_tokens_map.json\n",
      "Saving model checkpoint to bert-base-uncased-Social_IQa/checkpoint-3500\n",
      "Configuration saved in bert-base-uncased-Social_IQa/checkpoint-3500/config.json\n"
     ]
    },
    {
     "name": "stdout",
     "output_type": "stream",
     "text": [
      "{'loss': 0.4782, 'learning_rate': 2.1710313611380538e-05, 'epoch': 1.7}\n"
     ]
    },
    {
     "name": "stderr",
     "output_type": "stream",
     "text": [
      "Model weights saved in bert-base-uncased-Social_IQa/checkpoint-3500/pytorch_model.bin\n",
      "tokenizer config file saved in bert-base-uncased-Social_IQa/checkpoint-3500/tokenizer_config.json\n",
      "Special tokens file saved in bert-base-uncased-Social_IQa/checkpoint-3500/special_tokens_map.json\n",
      "tokenizer config file saved in bert-base-uncased-Social_IQa/tokenizer_config.json\n",
      "Special tokens file saved in bert-base-uncased-Social_IQa/special_tokens_map.json\n",
      "Adding files tracked by Git LFS: ['.DS_Store']. This may take a bit of time if the files are large.\n",
      "Saving model checkpoint to bert-base-uncased-Social_IQa/checkpoint-4000\n",
      "Configuration saved in bert-base-uncased-Social_IQa/checkpoint-4000/config.json\n"
     ]
    },
    {
     "name": "stdout",
     "output_type": "stream",
     "text": [
      "{'loss': 0.4736, 'learning_rate': 1.766892984157776e-05, 'epoch': 1.94}\n"
     ]
    },
    {
     "name": "stderr",
     "output_type": "stream",
     "text": [
      "Model weights saved in bert-base-uncased-Social_IQa/checkpoint-4000/pytorch_model.bin\n",
      "tokenizer config file saved in bert-base-uncased-Social_IQa/checkpoint-4000/tokenizer_config.json\n",
      "Special tokens file saved in bert-base-uncased-Social_IQa/checkpoint-4000/special_tokens_map.json\n",
      "tokenizer config file saved in bert-base-uncased-Social_IQa/tokenizer_config.json\n",
      "Special tokens file saved in bert-base-uncased-Social_IQa/special_tokens_map.json\n",
      "The following columns in the evaluation set don't have a corresponding argument in `BertForMultipleChoice.forward` and have been ignored: 0, 1, question, context, 2. If 0, 1, question, context, 2 are not expected by `BertForMultipleChoice.forward`,  you can safely ignore this message.\n",
      "***** Running Evaluation *****\n",
      "  Num examples = 1929\n",
      "  Batch size = 16\n"
     ]
    },
    {
     "data": {
      "application/vnd.jupyter.widget-view+json": {
       "model_id": "20c2a79b08f14a238dc0b7a7453395de",
       "version_major": 2,
       "version_minor": 0
      },
      "text/plain": [
       "A Jupyter Widget"
      ]
     },
     "metadata": {},
     "output_type": "display_data"
    },
    {
     "name": "stdout",
     "output_type": "stream",
     "text": [
      "{'eval_loss': 1.0287446975708008, 'eval_accuracy': 0.6080870628356934, 'eval_runtime': 1054.2503, 'eval_samples_per_second': 1.83, 'eval_steps_per_second': 0.115, 'epoch': 2.0}\n"
     ]
    },
    {
     "name": "stderr",
     "output_type": "stream",
     "text": [
      "Saving model checkpoint to bert-base-uncased-Social_IQa/checkpoint-4500\n",
      "Configuration saved in bert-base-uncased-Social_IQa/checkpoint-4500/config.json\n"
     ]
    },
    {
     "name": "stdout",
     "output_type": "stream",
     "text": [
      "{'loss': 0.2801, 'learning_rate': 1.3627546071774977e-05, 'epoch': 2.18}\n"
     ]
    },
    {
     "name": "stderr",
     "output_type": "stream",
     "text": [
      "Model weights saved in bert-base-uncased-Social_IQa/checkpoint-4500/pytorch_model.bin\n",
      "tokenizer config file saved in bert-base-uncased-Social_IQa/checkpoint-4500/tokenizer_config.json\n",
      "Special tokens file saved in bert-base-uncased-Social_IQa/checkpoint-4500/special_tokens_map.json\n",
      "tokenizer config file saved in bert-base-uncased-Social_IQa/tokenizer_config.json\n",
      "Special tokens file saved in bert-base-uncased-Social_IQa/special_tokens_map.json\n",
      "Saving model checkpoint to bert-base-uncased-Social_IQa/checkpoint-5000\n",
      "Configuration saved in bert-base-uncased-Social_IQa/checkpoint-5000/config.json\n"
     ]
    },
    {
     "name": "stdout",
     "output_type": "stream",
     "text": [
      "{'loss': 0.2177, 'learning_rate': 9.586162301972197e-06, 'epoch': 2.42}\n"
     ]
    },
    {
     "name": "stderr",
     "output_type": "stream",
     "text": [
      "Model weights saved in bert-base-uncased-Social_IQa/checkpoint-5000/pytorch_model.bin\n",
      "tokenizer config file saved in bert-base-uncased-Social_IQa/checkpoint-5000/tokenizer_config.json\n",
      "Special tokens file saved in bert-base-uncased-Social_IQa/checkpoint-5000/special_tokens_map.json\n",
      "tokenizer config file saved in bert-base-uncased-Social_IQa/tokenizer_config.json\n",
      "Special tokens file saved in bert-base-uncased-Social_IQa/special_tokens_map.json\n",
      "Saving model checkpoint to bert-base-uncased-Social_IQa/checkpoint-5500\n",
      "Configuration saved in bert-base-uncased-Social_IQa/checkpoint-5500/config.json\n"
     ]
    },
    {
     "name": "stdout",
     "output_type": "stream",
     "text": [
      "{'loss': 0.2196, 'learning_rate': 5.544778532169415e-06, 'epoch': 2.67}\n"
     ]
    },
    {
     "name": "stderr",
     "output_type": "stream",
     "text": [
      "Model weights saved in bert-base-uncased-Social_IQa/checkpoint-5500/pytorch_model.bin\n",
      "tokenizer config file saved in bert-base-uncased-Social_IQa/checkpoint-5500/tokenizer_config.json\n",
      "Special tokens file saved in bert-base-uncased-Social_IQa/checkpoint-5500/special_tokens_map.json\n",
      "tokenizer config file saved in bert-base-uncased-Social_IQa/tokenizer_config.json\n",
      "Special tokens file saved in bert-base-uncased-Social_IQa/special_tokens_map.json\n",
      "Saving model checkpoint to bert-base-uncased-Social_IQa/checkpoint-6000\n",
      "Configuration saved in bert-base-uncased-Social_IQa/checkpoint-6000/config.json\n"
     ]
    },
    {
     "name": "stdout",
     "output_type": "stream",
     "text": [
      "{'loss': 0.2288, 'learning_rate': 1.5033947623666343e-06, 'epoch': 2.91}\n"
     ]
    },
    {
     "name": "stderr",
     "output_type": "stream",
     "text": [
      "Model weights saved in bert-base-uncased-Social_IQa/checkpoint-6000/pytorch_model.bin\n",
      "tokenizer config file saved in bert-base-uncased-Social_IQa/checkpoint-6000/tokenizer_config.json\n",
      "Special tokens file saved in bert-base-uncased-Social_IQa/checkpoint-6000/special_tokens_map.json\n",
      "tokenizer config file saved in bert-base-uncased-Social_IQa/tokenizer_config.json\n",
      "Special tokens file saved in bert-base-uncased-Social_IQa/special_tokens_map.json\n",
      "The following columns in the evaluation set don't have a corresponding argument in `BertForMultipleChoice.forward` and have been ignored: 0, 1, question, context, 2. If 0, 1, question, context, 2 are not expected by `BertForMultipleChoice.forward`,  you can safely ignore this message.\n",
      "***** Running Evaluation *****\n",
      "  Num examples = 1929\n",
      "  Batch size = 16\n"
     ]
    },
    {
     "data": {
      "application/vnd.jupyter.widget-view+json": {
       "model_id": "d3de61c8ad854fa3b13d00afb09a2d5c",
       "version_major": 2,
       "version_minor": 0
      },
      "text/plain": [
       "A Jupyter Widget"
      ]
     },
     "metadata": {},
     "output_type": "display_data"
    },
    {
     "name": "stderr",
     "output_type": "stream",
     "text": [
      "\n",
      "\n",
      "Training completed. Do not forget to share your model on huggingface.co/models =)\n",
      "\n",
      "\n"
     ]
    },
    {
     "name": "stdout",
     "output_type": "stream",
     "text": [
      "{'eval_loss': 1.6241275072097778, 'eval_accuracy': 0.6127527356147766, 'eval_runtime': 1067.7888, 'eval_samples_per_second': 1.807, 'eval_steps_per_second': 0.113, 'epoch': 3.0}\n",
      "{'train_runtime': 165777.3226, 'train_samples_per_second': 0.597, 'train_steps_per_second': 0.037, 'train_loss': 0.48742886569328076, 'epoch': 3.0}\n"
     ]
    }
   ],
   "source": [
    "train_results = trainer.train()"
   ]
  },
  {
   "attachments": {},
   "cell_type": "markdown",
   "metadata": {},
   "source": [
    "#### Evaluate Model"
   ]
  },
  {
   "cell_type": "code",
   "execution_count": 23,
   "metadata": {},
   "outputs": [
    {
     "name": "stderr",
     "output_type": "stream",
     "text": [
      "The following columns in the evaluation set don't have a corresponding argument in `BertForMultipleChoice.forward` and have been ignored: 0, 1, question, context, 2. If 0, 1, question, context, 2 are not expected by `BertForMultipleChoice.forward`,  you can safely ignore this message.\n",
      "***** Running Evaluation *****\n",
      "  Num examples = 1929\n",
      "  Batch size = 16\n"
     ]
    },
    {
     "data": {
      "application/vnd.jupyter.widget-view+json": {
       "model_id": "5ed93c739f8748578b13322ea5fc961e",
       "version_major": 2,
       "version_minor": 0
      },
      "text/plain": [
       "A Jupyter Widget"
      ]
     },
     "metadata": {},
     "output_type": "display_data"
    },
    {
     "name": "stdout",
     "output_type": "stream",
     "text": [
      "{'eval_loss': 1.6241275072097778, 'eval_accuracy': 0.6127527356147766, 'eval_runtime': 1070.1235, 'eval_samples_per_second': 1.803, 'eval_steps_per_second': 0.113, 'epoch': 3.0}\n"
     ]
    }
   ],
   "source": [
    "metrics = trainer.evaluate()\n",
    "\n",
    "print(metrics)"
   ]
  },
  {
   "attachments": {},
   "cell_type": "markdown",
   "metadata": {},
   "source": [
    "#### Push to HuggingFace Hub"
   ]
  },
  {
   "cell_type": "code",
   "execution_count": 24,
   "metadata": {},
   "outputs": [
    {
     "name": "stderr",
     "output_type": "stream",
     "text": [
      "Saving model checkpoint to bert-base-uncased-Social_IQa\n",
      "Configuration saved in bert-base-uncased-Social_IQa/config.json\n",
      "Model weights saved in bert-base-uncased-Social_IQa/pytorch_model.bin\n",
      "tokenizer config file saved in bert-base-uncased-Social_IQa/tokenizer_config.json\n",
      "Special tokens file saved in bert-base-uncased-Social_IQa/special_tokens_map.json\n"
     ]
    },
    {
     "data": {
      "application/vnd.jupyter.widget-view+json": {
       "model_id": "a216e99660f44f0187279725a068bdb6",
       "version_major": 2,
       "version_minor": 0
      },
      "text/plain": [
       "A Jupyter Widget"
      ]
     },
     "metadata": {},
     "output_type": "display_data"
    },
    {
     "data": {
      "application/vnd.jupyter.widget-view+json": {
       "model_id": "9df2c8e6e60646ffbcb66448d6d5d955",
       "version_major": 2,
       "version_minor": 0
      },
      "text/plain": [
       "A Jupyter Widget"
      ]
     },
     "metadata": {},
     "output_type": "display_data"
    },
    {
     "data": {
      "application/vnd.jupyter.widget-view+json": {
       "model_id": "ba94ace5c1614dae97198f653d9fd666",
       "version_major": 2,
       "version_minor": 0
      },
      "text/plain": [
       "A Jupyter Widget"
      ]
     },
     "metadata": {},
     "output_type": "display_data"
    },
    {
     "name": "stderr",
     "output_type": "stream",
     "text": [
      "remote: Scanning LFS files of refs/heads/main for validity...        \n",
      "remote: LFS file scan complete.        \n",
      "To https://huggingface.co/DunnBC22/bert-base-uncased-Social_IQa\n",
      "   906072a..e783ba8  main -> main\n",
      "\n",
      "Dropping the following result as it does not have all the necessary fields:\n",
      "{'metrics': [{'name': 'Accuracy', 'type': 'accuracy', 'value': 0.6127527356147766}]}\n",
      "To https://huggingface.co/DunnBC22/bert-base-uncased-Social_IQa\n",
      "   e783ba8..e8eeb94  main -> main\n",
      "\n"
     ]
    },
    {
     "data": {
      "text/plain": [
       "'https://huggingface.co/DunnBC22/bert-base-uncased-Social_IQa/commit/e783ba81d690ad1e69fcfd9b1068720892dcec97'"
      ]
     },
     "execution_count": 24,
     "metadata": {},
     "output_type": "execute_result"
    }
   ],
   "source": [
    "trainer.push_to_hub()"
   ]
  },
  {
   "attachments": {},
   "cell_type": "markdown",
   "metadata": {},
   "source": [
    "### Notes & Other Takeaways From This Project\n",
    "****\n",
    "- It looks like 67.5 percent is the State of the Art value for BERT (the 'Large' BERT checkpoint, not the base checkpoint) on Multiple Choice with the SWAG dataset. Having done some smaller initial test runs and trying this project with distilBERT originally, I am sure that with more training (4 or 5 epochs instead of 3), I could achieve metrics more in line with the State of the Art value. \n",
    "****"
   ]
  },
  {
   "attachments": {},
   "cell_type": "markdown",
   "metadata": {},
   "source": [
    "### Citation\n",
    "\n",
    "- Model Checkpoint\n",
    "    - @article{DBLP:journals/corr/abs-1810-04805,\n",
    "  author    = {Jacob Devlin and\n",
    "               Ming{-}Wei Chang and\n",
    "               Kenton Lee and\n",
    "               Kristina Toutanova},\n",
    "  title     = {{BERT:} Pre-training of Deep Bidirectional Transformers for Language\n",
    "               Understanding},\n",
    "  journal   = {CoRR},\n",
    "  volume    = {abs/1810.04805},\n",
    "  year      = {2018},\n",
    "  url       = {http://arxiv.org/abs/1810.04805},\n",
    "  archivePrefix = {arXiv},\n",
    "  eprint    = {1810.04805},\n",
    "  timestamp = {Tue, 30 Oct 2018 20:39:56 +0100},\n",
    "  biburl    = {https://dblp.org/rec/journals/corr/abs-1810-04805.bib},\n",
    "  bibsource = {dblp computer science bibliography, https://dblp.org}\n",
    "}"
   ]
  }
 ],
 "metadata": {
  "kernelspec": {
   "display_name": "nlp_ml",
   "language": "python",
   "name": "python3"
  },
  "language_info": {
   "codemirror_mode": {
    "name": "ipython",
    "version": 3
   },
   "file_extension": ".py",
   "mimetype": "text/x-python",
   "name": "python",
   "nbconvert_exporter": "python",
   "pygments_lexer": "ipython3",
   "version": "3.9.12"
  },
  "orig_nbformat": 4,
  "vscode": {
   "interpreter": {
    "hash": "0b7a754c5aaaa44a21e2f2148f50b931a5abdffe7ef71537f5954179554f39df"
   }
  }
 },
 "nbformat": 4,
 "nbformat_minor": 2
}
