{
 "cells": [
  {
   "attachments": {},
   "cell_type": "markdown",
   "metadata": {},
   "source": [
    "## CosmosQA: Multiple Choice\n",
    "\n",
    "Dataset Source: https://www.kaggle.com/datasets/zjjc123/cosmosqa"
   ]
  },
  {
   "attachments": {},
   "cell_type": "markdown",
   "metadata": {},
   "source": [
    "#### Import Necessary Libraries"
   ]
  },
  {
   "cell_type": "code",
   "execution_count": 1,
   "metadata": {},
   "outputs": [
    {
     "name": "stdout",
     "output_type": "stream",
     "text": [
      "Git LFS initialized.\n"
     ]
    }
   ],
   "source": [
    "import os, sys, random, ast\n",
    "os.environ['TOKENIZERS_PARALLELISM']='false'\n",
    "\n",
    "import numpy as np\n",
    "import pandas as pd\n",
    "import matplotlib.pyplot as plt\n",
    "\n",
    "import datasets\n",
    "from datasets import Dataset, DatasetDict\n",
    "\n",
    "import torch\n",
    "\n",
    "from dataclasses import dataclass\n",
    "\n",
    "import transformers\n",
    "from transformers import AutoTokenizer, AutoModelForMultipleChoice\n",
    "from transformers import Trainer, TrainingArguments, set_seed\n",
    "from transformers.tokenization_utils_base import PreTrainedTokenizerBase, PaddingStrategy\n",
    "\n",
    "from typing import Optional, Union\n",
    "\n",
    "pd.set_option('display.max_colwidth', None)\n",
    "\n",
    "!git lfs install"
   ]
  },
  {
   "attachments": {},
   "cell_type": "markdown",
   "metadata": {},
   "source": [
    "#### Display Library Versions"
   ]
  },
  {
   "cell_type": "code",
   "execution_count": 2,
   "metadata": {},
   "outputs": [
    {
     "name": "stdout",
     "output_type": "stream",
     "text": [
      "        Python: 3.9.7 \n",
      "         NumPy: 1.23.3\n",
      "        Pandas: 1.4.4\n",
      "         Torch: 1.12.1\n",
      "      Datasets: 2.8.0\n",
      "  Transformers: 4.26.1\n"
     ]
    }
   ],
   "source": [
    "print(\"Python:\".rjust(15), sys.version[0:6])\n",
    "print(\"NumPy:\".rjust(15), np.__version__)\n",
    "print(\"Pandas:\".rjust(15), pd.__version__)\n",
    "print(\"Torch:\".rjust(15), torch.__version__)\n",
    "print(\"Datasets:\".rjust(15), datasets.__version__)\n",
    "print(\"Transformers:\".rjust(15), transformers.__version__)"
   ]
  },
  {
   "attachments": {},
   "cell_type": "markdown",
   "metadata": {},
   "source": [
    "#### Load & Process Training Dataset"
   ]
  },
  {
   "cell_type": "code",
   "execution_count": 3,
   "metadata": {},
   "outputs": [
    {
     "data": {
      "text/html": [
       "<div>\n",
       "<style scoped>\n",
       "    .dataframe tbody tr th:only-of-type {\n",
       "        vertical-align: middle;\n",
       "    }\n",
       "\n",
       "    .dataframe tbody tr th {\n",
       "        vertical-align: top;\n",
       "    }\n",
       "\n",
       "    .dataframe thead th {\n",
       "        text-align: right;\n",
       "    }\n",
       "</style>\n",
       "<table border=\"1\" class=\"dataframe\">\n",
       "  <thead>\n",
       "    <tr style=\"text-align: right;\">\n",
       "      <th></th>\n",
       "      <th>context</th>\n",
       "      <th>question</th>\n",
       "      <th>answer0</th>\n",
       "      <th>answer1</th>\n",
       "      <th>answer2</th>\n",
       "      <th>answer3</th>\n",
       "      <th>label</th>\n",
       "    </tr>\n",
       "  </thead>\n",
       "  <tbody>\n",
       "    <tr>\n",
       "      <th>0</th>\n",
       "      <td>Good Old War and person L : I saw both of these bands Wednesday night , and they both blew me away . seriously . Good Old War is acoustic and makes me smile . I really can not help but be happy when I listen to them ; I think it 's the fact that they seemed so happy themselves when they played .</td>\n",
       "      <td>In the future , will this person go to see other bands play ?</td>\n",
       "      <td>None of the above choices .</td>\n",
       "      <td>This person likes music and likes to see the show , they will see other bands play .</td>\n",
       "      <td>This person only likes Good Old War and Person L , no other bands .</td>\n",
       "      <td>Other Bands is not on tour and this person can not see them .</td>\n",
       "      <td>1</td>\n",
       "    </tr>\n",
       "    <tr>\n",
       "      <th>1</th>\n",
       "      <td>I mean it : not one person said ANYTHING to me . They would have if I did something wrong , right ? But , this morning , I got a call from my guy at the temp agency and he said that I was no longer needed in that position , that I did n't need to go out there .</td>\n",
       "      <td>Why might have the temp agency tell me I am not needed at that position ?</td>\n",
       "      <td>The company hiring the temp workers might have had a change of mind .</td>\n",
       "      <td>The temp agency hiring the temp workers might have had a change of mind .</td>\n",
       "      <td>None of the above choices .</td>\n",
       "      <td>I might have had a change of mind working for the company .</td>\n",
       "      <td>0</td>\n",
       "    </tr>\n",
       "    <tr>\n",
       "      <th>2</th>\n",
       "      <td>Leaving my shift Thursday day shift I arrived the same time as my partner just after six that evening and before long the radio erupted in dispatch tones . A car fleeing the police has crashed and landed on its roof with four separate people entrapped inside . Our medic unit is dispatched along with multiple other ambulances and Rescue Companies .</td>\n",
       "      <td>What may have caused the radio to erupt with dispatch tones ?</td>\n",
       "      <td>My partner needed a medic unit .</td>\n",
       "      <td>Someone was running from the ambulances after they got into a wreck .</td>\n",
       "      <td>None of the above choices .</td>\n",
       "      <td>Someone was running from the cops and got into a wreck .</td>\n",
       "      <td>3</td>\n",
       "    </tr>\n",
       "    <tr>\n",
       "      <th>3</th>\n",
       "      <td>So , last day in Seattle , and my flight was at 1:30 . I got to chit chat with my old manager ( more like a mentor ) , and left Seattle feeling really good and inspired . .</td>\n",
       "      <td>Why did I chit chat with my old manager ?</td>\n",
       "      <td>Because my flight was at 1:30 .</td>\n",
       "      <td>Because I left Seattle feeling really good and inspired .</td>\n",
       "      <td>Because it 's my last day in Seattle .</td>\n",
       "      <td>Because I enjoy talking to him .</td>\n",
       "      <td>3</td>\n",
       "    </tr>\n",
       "    <tr>\n",
       "      <th>4</th>\n",
       "      <td>Ms. Mumma informed Mr. Dail that evidence had been found in his case . \" I fell out of my chair and burst into tears . Evidence meant I was going home , and I knew that , \" said Mr. Dail . He immediately told Ms. Mumma , \" Test anything and everything you can find .</td>\n",
       "      <td>Why did I burst into tears ?</td>\n",
       "      <td>Because Ms. Mumma was informative .</td>\n",
       "      <td>Because I had an intense emotional response to the new development .</td>\n",
       "      <td>Because Mr. Dail was informed .</td>\n",
       "      <td>Because I fell out of my chair .</td>\n",
       "      <td>1</td>\n",
       "    </tr>\n",
       "    <tr>\n",
       "      <th>...</th>\n",
       "      <td>...</td>\n",
       "      <td>...</td>\n",
       "      <td>...</td>\n",
       "      <td>...</td>\n",
       "      <td>...</td>\n",
       "      <td>...</td>\n",
       "      <td>...</td>\n",
       "    </tr>\n",
       "    <tr>\n",
       "      <th>25257</th>\n",
       "      <td>My dad in old age ... he would have been wise in some matters . Important matters of the day to day . Wise in his right - brained blueness . Wise as each white hair in his beard .</td>\n",
       "      <td>What may be a fact about their dad ?</td>\n",
       "      <td>He 's a different person now .</td>\n",
       "      <td>He died .</td>\n",
       "      <td>None of the above choices .</td>\n",
       "      <td>He does n't talk to them anymore .</td>\n",
       "      <td>1</td>\n",
       "    </tr>\n",
       "    <tr>\n",
       "      <th>25258</th>\n",
       "      <td>As the house was in the higher part of the town we had the view on the lake from our window :) Again , we got ready and went to the same place where we had the \" Vin d'honneur \" to again have some drinks and snacks with other guests . Gave us some strength before we hit the road . I must say I was n't too chatty ( am I ever ?</td>\n",
       "      <td>Why might we have gone back to the same place we had the \" Vin d'honneur \" .</td>\n",
       "      <td>It 's a place I do n't have to be chatty because it 's loud .</td>\n",
       "      <td>I liked the restaurant by the river and wanted to go back .</td>\n",
       "      <td>We enjoyed the restaurant the first time around so we returned .</td>\n",
       "      <td>I like the food and it helps me sleep when we hit the road .</td>\n",
       "      <td>2</td>\n",
       "    </tr>\n",
       "    <tr>\n",
       "      <th>25259</th>\n",
       "      <td>Then there 's is my baby pitbull . Not to play favorite , but he has managed to find a deeper spot in my heart . He is chocolate and carmel swirled I 'd like to say . He 's never been loud , or obnoxious , or too rowdy , or too lazy .</td>\n",
       "      <td>What is the narrator describing ?</td>\n",
       "      <td>They 're talking their cat .</td>\n",
       "      <td>None of the above choices .</td>\n",
       "      <td>They 're talking their pet .</td>\n",
       "      <td>They 're talking their lazy cat .</td>\n",
       "      <td>2</td>\n",
       "    </tr>\n",
       "    <tr>\n",
       "      <th>25260</th>\n",
       "      <td>Then there 's is my baby pitbull . Not to play favorite , but he has managed to find a deeper spot in my heart . He is chocolate and carmel swirled I 'd like to say . He 's never been loud , or obnoxious , or too rowdy , or too lazy .</td>\n",
       "      <td>What is the narrator describing ?</td>\n",
       "      <td>They 're talking their cat .</td>\n",
       "      <td>They 're talking about their dog .</td>\n",
       "      <td>None of the above choices .</td>\n",
       "      <td>They 're talking their lazy cat .</td>\n",
       "      <td>1</td>\n",
       "    </tr>\n",
       "    <tr>\n",
       "      <th>25261</th>\n",
       "      <td>The good news : Michael came to visit me yesterday . We went cruising north of here . Then we went to the gym . Then we went walking around once it stopped raining . The bad news : I did n't get pictures .</td>\n",
       "      <td>What happened after Michael came to visit ?</td>\n",
       "      <td>We hung out the entire day .</td>\n",
       "      <td>We made sure to get lots of pictures .</td>\n",
       "      <td>None of the above choices .</td>\n",
       "      <td>We watched movies at home .</td>\n",
       "      <td>0</td>\n",
       "    </tr>\n",
       "  </tbody>\n",
       "</table>\n",
       "<p>25262 rows × 7 columns</p>\n",
       "</div>"
      ],
      "text/plain": [
       "                                                                                                                                                                                                                                                                                                                                                             context  \\\n",
       "0                                                           Good Old War and person L : I saw both of these bands Wednesday night , and they both blew me away . seriously . Good Old War is acoustic and makes me smile . I really can not help but be happy when I listen to them ; I think it 's the fact that they seemed so happy themselves when they played .   \n",
       "1                                                                                              I mean it : not one person said ANYTHING to me . They would have if I did something wrong , right ? But , this morning , I got a call from my guy at the temp agency and he said that I was no longer needed in that position , that I did n't need to go out there .   \n",
       "2      Leaving my shift Thursday day shift I arrived the same time as my partner just after six that evening and before long the radio erupted in dispatch tones . A car fleeing the police has crashed and landed on its roof with four separate people entrapped inside . Our medic unit is dispatched along with multiple other ambulances and Rescue Companies .   \n",
       "3                                                                                                                                                                                       So , last day in Seattle , and my flight was at 1:30 . I got to chit chat with my old manager ( more like a mentor ) , and left Seattle feeling really good and inspired . .   \n",
       "4                                                                                         Ms. Mumma informed Mr. Dail that evidence had been found in his case . \" I fell out of my chair and burst into tears . Evidence meant I was going home , and I knew that , \" said Mr. Dail . He immediately told Ms. Mumma , \" Test anything and everything you can find .   \n",
       "...                                                                                                                                                                                                                                                                                                                                                              ...   \n",
       "25257                                                                                                                                                                            My dad in old age ... he would have been wise in some matters . Important matters of the day to day . Wise in his right - brained blueness . Wise as each white hair in his beard .   \n",
       "25258                        As the house was in the higher part of the town we had the view on the lake from our window :) Again , we got ready and went to the same place where we had the \" Vin d'honneur \" to again have some drinks and snacks with other guests . Gave us some strength before we hit the road . I must say I was n't too chatty ( am I ever ?   \n",
       "25259                                                                                                                     Then there 's is my baby pitbull . Not to play favorite , but he has managed to find a deeper spot in my heart . He is chocolate and carmel swirled I 'd like to say . He 's never been loud , or obnoxious , or too rowdy , or too lazy .   \n",
       "25260                                                                                                                     Then there 's is my baby pitbull . Not to play favorite , but he has managed to find a deeper spot in my heart . He is chocolate and carmel swirled I 'd like to say . He 's never been loud , or obnoxious , or too rowdy , or too lazy .   \n",
       "25261                                                                                                                                                  The good news : Michael came to visit me yesterday . We went cruising north of here . Then we went to the gym . Then we went walking around once it stopped raining . The bad news : I did n't get pictures .   \n",
       "\n",
       "                                                                           question  \\\n",
       "0                     In the future , will this person go to see other bands play ?   \n",
       "1         Why might have the temp agency tell me I am not needed at that position ?   \n",
       "2                     What may have caused the radio to erupt with dispatch tones ?   \n",
       "3                                         Why did I chit chat with my old manager ?   \n",
       "4                                                      Why did I burst into tears ?   \n",
       "...                                                                             ...   \n",
       "25257                                          What may be a fact about their dad ?   \n",
       "25258  Why might we have gone back to the same place we had the \" Vin d'honneur \" .   \n",
       "25259                                             What is the narrator describing ?   \n",
       "25260                                             What is the narrator describing ?   \n",
       "25261                                   What happened after Michael came to visit ?   \n",
       "\n",
       "                                                                     answer0  \\\n",
       "0                                                None of the above choices .   \n",
       "1      The company hiring the temp workers might have had a change of mind .   \n",
       "2                                           My partner needed a medic unit .   \n",
       "3                                            Because my flight was at 1:30 .   \n",
       "4                                        Because Ms. Mumma was informative .   \n",
       "...                                                                      ...   \n",
       "25257                                         He 's a different person now .   \n",
       "25258          It 's a place I do n't have to be chatty because it 's loud .   \n",
       "25259                                           They 're talking their cat .   \n",
       "25260                                           They 're talking their cat .   \n",
       "25261                                           We hung out the entire day .   \n",
       "\n",
       "                                                                                    answer1  \\\n",
       "0      This person likes music and likes to see the show , they will see other bands play .   \n",
       "1                 The temp agency hiring the temp workers might have had a change of mind .   \n",
       "2                     Someone was running from the ambulances after they got into a wreck .   \n",
       "3                                 Because I left Seattle feeling really good and inspired .   \n",
       "4                      Because I had an intense emotional response to the new development .   \n",
       "...                                                                                     ...   \n",
       "25257                                                                             He died .   \n",
       "25258                           I liked the restaurant by the river and wanted to go back .   \n",
       "25259                                                           None of the above choices .   \n",
       "25260                                                    They 're talking about their dog .   \n",
       "25261                                                We made sure to get lots of pictures .   \n",
       "\n",
       "                                                                   answer2  \\\n",
       "0      This person only likes Good Old War and Person L , no other bands .   \n",
       "1                                              None of the above choices .   \n",
       "2                                              None of the above choices .   \n",
       "3                                   Because it 's my last day in Seattle .   \n",
       "4                                          Because Mr. Dail was informed .   \n",
       "...                                                                    ...   \n",
       "25257                                          None of the above choices .   \n",
       "25258     We enjoyed the restaurant the first time around so we returned .   \n",
       "25259                                         They 're talking their pet .   \n",
       "25260                                          None of the above choices .   \n",
       "25261                                          None of the above choices .   \n",
       "\n",
       "                                                             answer3  label  \n",
       "0      Other Bands is not on tour and this person can not see them .      1  \n",
       "1        I might have had a change of mind working for the company .      0  \n",
       "2           Someone was running from the cops and got into a wreck .      3  \n",
       "3                                   Because I enjoy talking to him .      3  \n",
       "4                                   Because I fell out of my chair .      1  \n",
       "...                                                              ...    ...  \n",
       "25257                             He does n't talk to them anymore .      1  \n",
       "25258   I like the food and it helps me sleep when we hit the road .      2  \n",
       "25259                              They 're talking their lazy cat .      2  \n",
       "25260                              They 're talking their lazy cat .      1  \n",
       "25261                                    We watched movies at home .      0  \n",
       "\n",
       "[25262 rows x 7 columns]"
      ]
     },
     "execution_count": 3,
     "metadata": {},
     "output_type": "execute_result"
    }
   ],
   "source": [
    "parent_dir = \"/Users/leedunn/Desktop/Projects_to_Train/MC\"\n",
    "\n",
    "training_file_location = os.path.join(parent_dir, \"train.csv\")\n",
    "\n",
    "train_ds = pd.read_csv(training_file_location)\n",
    "\n",
    "train_ds = train_ds.drop(columns=[\"id\"])\n",
    "\n",
    "train_ds.reset_index(drop=True, inplace=True)\n",
    "\n",
    "train_ds"
   ]
  },
  {
   "attachments": {},
   "cell_type": "markdown",
   "metadata": {},
   "source": [
    "#### Load & Process Evaluation Dataset"
   ]
  },
  {
   "cell_type": "code",
   "execution_count": 4,
   "metadata": {},
   "outputs": [
    {
     "data": {
      "text/html": [
       "<div>\n",
       "<style scoped>\n",
       "    .dataframe tbody tr th:only-of-type {\n",
       "        vertical-align: middle;\n",
       "    }\n",
       "\n",
       "    .dataframe tbody tr th {\n",
       "        vertical-align: top;\n",
       "    }\n",
       "\n",
       "    .dataframe thead th {\n",
       "        text-align: right;\n",
       "    }\n",
       "</style>\n",
       "<table border=\"1\" class=\"dataframe\">\n",
       "  <thead>\n",
       "    <tr style=\"text-align: right;\">\n",
       "      <th></th>\n",
       "      <th>context</th>\n",
       "      <th>question</th>\n",
       "      <th>answer0</th>\n",
       "      <th>answer1</th>\n",
       "      <th>answer2</th>\n",
       "      <th>answer3</th>\n",
       "      <th>label</th>\n",
       "    </tr>\n",
       "  </thead>\n",
       "  <tbody>\n",
       "    <tr>\n",
       "      <th>0</th>\n",
       "      <td>Do i need to go for a legal divorce ? I wanted to marry a woman but she is not in the same religion , so i am not concern of the marriage inside church . I will do the marriage registered with the girl who i am going to get married . But legally will there be any complication , like if the other woman comes back one day , will the girl who i am going to get married now will be in trouble or Is there any complication ?</td>\n",
       "      <td>Why is this person asking about divorce ?</td>\n",
       "      <td>If he gets married in the church he wo nt have to get a divorce .</td>\n",
       "      <td>He wants to get married to a different person .</td>\n",
       "      <td>He wants to know if he does nt like this girl can he divorce her ?</td>\n",
       "      <td>None of the above choices .</td>\n",
       "      <td>1</td>\n",
       "    </tr>\n",
       "    <tr>\n",
       "      <th>1</th>\n",
       "      <td>Do i need to go for a legal divorce ? I wanted to marry a woman but she is not in the same religion , so i am not concern of the marriage inside church . I will do the marriage registered with the girl who i am going to get married . But legally will there be any complication , like if the other woman comes back one day , will the girl who i am going to get married now will be in trouble or Is there any complication ?</td>\n",
       "      <td>Why is he worried about getting married ?</td>\n",
       "      <td>He was married before and she might come back one day .</td>\n",
       "      <td>He wants the girl he is going to marry get in trouble .</td>\n",
       "      <td>He knows that he will be committing polygamy .</td>\n",
       "      <td>None of the above choices .</td>\n",
       "      <td>0</td>\n",
       "    </tr>\n",
       "    <tr>\n",
       "      <th>2</th>\n",
       "      <td>I was walking home from the store , when I saw an old man laying on the sidewalk , bleeding . The right side of his face was all covered in blood . He was conscious but seemed dazed and probably intoxicated . Nearby there was a young man dialing his cell phone .</td>\n",
       "      <td>What may happen after the young man makes his call ?</td>\n",
       "      <td>An ambulance would likely come to the scene</td>\n",
       "      <td>The taxi would pick up the young man</td>\n",
       "      <td>None of the above choices .</td>\n",
       "      <td>The bus would arrive at the stop soon</td>\n",
       "      <td>0</td>\n",
       "    </tr>\n",
       "    <tr>\n",
       "      <th>3</th>\n",
       "      <td>I was walking home from the store , when I saw an old man laying on the sidewalk , bleeding . The right side of his face was all covered in blood . He was conscious but seemed dazed and probably intoxicated . Nearby there was a young man dialing his cell phone .</td>\n",
       "      <td>What may happen after the young man makes his call ?</td>\n",
       "      <td>None of the above choices .</td>\n",
       "      <td>The bus would arrive at the stop soon</td>\n",
       "      <td>The taxi would pick up the young man</td>\n",
       "      <td>Medical personnel would come to help the old man</td>\n",
       "      <td>3</td>\n",
       "    </tr>\n",
       "    <tr>\n",
       "      <th>4</th>\n",
       "      <td>I was walking home from the store , when I saw an old man laying on the sidewalk , bleeding . The right side of his face was all covered in blood . He was conscious but seemed dazed and probably intoxicated . Nearby there was a young man dialing his cell phone .</td>\n",
       "      <td>What may have happened to the old man ?</td>\n",
       "      <td>He was waiting on a ride</td>\n",
       "      <td>He likely fell on the sidewalk and hit his head while intoxicated</td>\n",
       "      <td>He was waiting on the taxi</td>\n",
       "      <td>None of the above choices .</td>\n",
       "      <td>1</td>\n",
       "    </tr>\n",
       "    <tr>\n",
       "      <th>...</th>\n",
       "      <td>...</td>\n",
       "      <td>...</td>\n",
       "      <td>...</td>\n",
       "      <td>...</td>\n",
       "      <td>...</td>\n",
       "      <td>...</td>\n",
       "      <td>...</td>\n",
       "    </tr>\n",
       "    <tr>\n",
       "      <th>2980</th>\n",
       "      <td>Not going in but the antibiotic they put into the IV just kill my arm . And after the procedure was over , I was throwing up all over again . I laid in bed the rest of the afternoon with DH and felt pretty decent by tonight .</td>\n",
       "      <td>What 's a possible reason the writer was throwing up ?</td>\n",
       "      <td>They felt pretty decent by the night .</td>\n",
       "      <td>None of the above choices .</td>\n",
       "      <td>They were not going in .</td>\n",
       "      <td>They have an illness .</td>\n",
       "      <td>3</td>\n",
       "    </tr>\n",
       "    <tr>\n",
       "      <th>2981</th>\n",
       "      <td>This morning was my appointment with the psychiatrist . And may I give Mike another little pat ? He had to get up at 4:25 a.m. yesterday to go into work early to accumulate hours for this day off , and then he stayed an hour and a half late , too , not getting home until 7:00 , and he 's going to have to do that twice more . That 's a high price he 's paying . Anyway , it was worth it .</td>\n",
       "      <td>What 's a possible reason the writer has an appointment with a psychiatrist ?</td>\n",
       "      <td>Because the writer may give Mike another little pat .</td>\n",
       "      <td>None of the above choices .</td>\n",
       "      <td>Because it 's in the morning .</td>\n",
       "      <td>Because Mike had to get up at 4:25 a.m. yesterday .</td>\n",
       "      <td>1</td>\n",
       "    </tr>\n",
       "    <tr>\n",
       "      <th>2982</th>\n",
       "      <td>Those who do n't pass this training will have to give up their jetpack . Fortunately they 'll get their money back . Each jetpack is equipped with a ballistic parachute , and though it 's more dangerous than most other current flying options , Glenn Martin hopes to sell between 10 and 20 devices by this time next year .</td>\n",
       "      <td>What may happen if you do n't pass your training ?</td>\n",
       "      <td>I would n't be able to keep my equipment .</td>\n",
       "      <td>None of the above choices .</td>\n",
       "      <td>You 'd have to choose other flying options .</td>\n",
       "      <td>You would be given a ballistic parachute .</td>\n",
       "      <td>0</td>\n",
       "    </tr>\n",
       "    <tr>\n",
       "      <th>2983</th>\n",
       "      <td>She had her first field practice with her new team last night . It looks like they are going to do really well . The coach knows his stuff . Yesterday was the single most craziest busiest day of the entire summer , and I was in mellow contentment .</td>\n",
       "      <td>What is the narrator 's general outlook at the moment ?</td>\n",
       "      <td>Optimistic</td>\n",
       "      <td>Pensive</td>\n",
       "      <td>Observant</td>\n",
       "      <td>None of the above choices .</td>\n",
       "      <td>0</td>\n",
       "    </tr>\n",
       "    <tr>\n",
       "      <th>2984</th>\n",
       "      <td>She had her first field practice with her new team last night . It looks like they are going to do really well . The coach knows his stuff . Yesterday was the single most craziest busiest day of the entire summer , and I was in mellow contentment .</td>\n",
       "      <td>What is the narrator 's general outlook at the moment ?</td>\n",
       "      <td>Happy</td>\n",
       "      <td>Pensive</td>\n",
       "      <td>Observant</td>\n",
       "      <td>None of the above choices .</td>\n",
       "      <td>0</td>\n",
       "    </tr>\n",
       "  </tbody>\n",
       "</table>\n",
       "<p>2985 rows × 7 columns</p>\n",
       "</div>"
      ],
      "text/plain": [
       "                                                                                                                                                                                                                                                                                                                                                                                                                                    context  \\\n",
       "0     Do i need to go for a legal divorce ? I wanted to marry a woman but she is not in the same religion , so i am not concern of the marriage inside church . I will do the marriage registered with the girl who i am going to get married . But legally will there be any complication , like if the other woman comes back one day , will the girl who i am going to get married now will be in trouble or Is there any complication ?   \n",
       "1     Do i need to go for a legal divorce ? I wanted to marry a woman but she is not in the same religion , so i am not concern of the marriage inside church . I will do the marriage registered with the girl who i am going to get married . But legally will there be any complication , like if the other woman comes back one day , will the girl who i am going to get married now will be in trouble or Is there any complication ?   \n",
       "2                                                                                                                                                                    I was walking home from the store , when I saw an old man laying on the sidewalk , bleeding . The right side of his face was all covered in blood . He was conscious but seemed dazed and probably intoxicated . Nearby there was a young man dialing his cell phone .   \n",
       "3                                                                                                                                                                    I was walking home from the store , when I saw an old man laying on the sidewalk , bleeding . The right side of his face was all covered in blood . He was conscious but seemed dazed and probably intoxicated . Nearby there was a young man dialing his cell phone .   \n",
       "4                                                                                                                                                                    I was walking home from the store , when I saw an old man laying on the sidewalk , bleeding . The right side of his face was all covered in blood . He was conscious but seemed dazed and probably intoxicated . Nearby there was a young man dialing his cell phone .   \n",
       "...                                                                                                                                                                                                                                                                                                                                                                                                                                     ...   \n",
       "2980                                                                                                                                                                                                      Not going in but the antibiotic they put into the IV just kill my arm . And after the procedure was over , I was throwing up all over again . I laid in bed the rest of the afternoon with DH and felt pretty decent by tonight .   \n",
       "2981                                  This morning was my appointment with the psychiatrist . And may I give Mike another little pat ? He had to get up at 4:25 a.m. yesterday to go into work early to accumulate hours for this day off , and then he stayed an hour and a half late , too , not getting home until 7:00 , and he 's going to have to do that twice more . That 's a high price he 's paying . Anyway , it was worth it .   \n",
       "2982                                                                                                      Those who do n't pass this training will have to give up their jetpack . Fortunately they 'll get their money back . Each jetpack is equipped with a ballistic parachute , and though it 's more dangerous than most other current flying options , Glenn Martin hopes to sell between 10 and 20 devices by this time next year .   \n",
       "2983                                                                                                                                                                               She had her first field practice with her new team last night . It looks like they are going to do really well . The coach knows his stuff . Yesterday was the single most craziest busiest day of the entire summer , and I was in mellow contentment .   \n",
       "2984                                                                                                                                                                               She had her first field practice with her new team last night . It looks like they are going to do really well . The coach knows his stuff . Yesterday was the single most craziest busiest day of the entire summer , and I was in mellow contentment .   \n",
       "\n",
       "                                                                           question  \\\n",
       "0                                         Why is this person asking about divorce ?   \n",
       "1                                         Why is he worried about getting married ?   \n",
       "2                              What may happen after the young man makes his call ?   \n",
       "3                              What may happen after the young man makes his call ?   \n",
       "4                                           What may have happened to the old man ?   \n",
       "...                                                                             ...   \n",
       "2980                         What 's a possible reason the writer was throwing up ?   \n",
       "2981  What 's a possible reason the writer has an appointment with a psychiatrist ?   \n",
       "2982                             What may happen if you do n't pass your training ?   \n",
       "2983                        What is the narrator 's general outlook at the moment ?   \n",
       "2984                        What is the narrator 's general outlook at the moment ?   \n",
       "\n",
       "                                                                answer0  \\\n",
       "0     If he gets married in the church he wo nt have to get a divorce .   \n",
       "1               He was married before and she might come back one day .   \n",
       "2                           An ambulance would likely come to the scene   \n",
       "3                                           None of the above choices .   \n",
       "4                                              He was waiting on a ride   \n",
       "...                                                                 ...   \n",
       "2980                             They felt pretty decent by the night .   \n",
       "2981              Because the writer may give Mike another little pat .   \n",
       "2982                         I would n't be able to keep my equipment .   \n",
       "2983                                                         Optimistic   \n",
       "2984                                                              Happy   \n",
       "\n",
       "                                                                answer1  \\\n",
       "0                       He wants to get married to a different person .   \n",
       "1               He wants the girl he is going to marry get in trouble .   \n",
       "2                                  The taxi would pick up the young man   \n",
       "3                                 The bus would arrive at the stop soon   \n",
       "4     He likely fell on the sidewalk and hit his head while intoxicated   \n",
       "...                                                                 ...   \n",
       "2980                                        None of the above choices .   \n",
       "2981                                        None of the above choices .   \n",
       "2982                                        None of the above choices .   \n",
       "2983                                                            Pensive   \n",
       "2984                                                            Pensive   \n",
       "\n",
       "                                                                 answer2  \\\n",
       "0     He wants to know if he does nt like this girl can he divorce her ?   \n",
       "1                         He knows that he will be committing polygamy .   \n",
       "2                                            None of the above choices .   \n",
       "3                                   The taxi would pick up the young man   \n",
       "4                                             He was waiting on the taxi   \n",
       "...                                                                  ...   \n",
       "2980                                            They were not going in .   \n",
       "2981                                      Because it 's in the morning .   \n",
       "2982                        You 'd have to choose other flying options .   \n",
       "2983                                                           Observant   \n",
       "2984                                                           Observant   \n",
       "\n",
       "                                                  answer3  label  \n",
       "0                             None of the above choices .      1  \n",
       "1                             None of the above choices .      0  \n",
       "2                   The bus would arrive at the stop soon      0  \n",
       "3        Medical personnel would come to help the old man      3  \n",
       "4                             None of the above choices .      1  \n",
       "...                                                   ...    ...  \n",
       "2980                               They have an illness .      3  \n",
       "2981  Because Mike had to get up at 4:25 a.m. yesterday .      1  \n",
       "2982           You would be given a ballistic parachute .      0  \n",
       "2983                          None of the above choices .      0  \n",
       "2984                          None of the above choices .      0  \n",
       "\n",
       "[2985 rows x 7 columns]"
      ]
     },
     "execution_count": 4,
     "metadata": {},
     "output_type": "execute_result"
    }
   ],
   "source": [
    "eval_file_location = os.path.join(parent_dir, \"valid.csv\")\n",
    "\n",
    "eval_ds = pd.read_csv(eval_file_location)\n",
    "\n",
    "eval_ds = eval_ds.drop(columns=[\"id\"])\n",
    "\n",
    "eval_ds.reset_index(drop=True, inplace=True)\n",
    "\n",
    "eval_ds"
   ]
  },
  {
   "attachments": {},
   "cell_type": "markdown",
   "metadata": {},
   "source": [
    "#### Visual Question Length (in Words)"
   ]
  },
  {
   "cell_type": "code",
   "execution_count": 5,
   "metadata": {},
   "outputs": [
    {
     "data": {
      "image/png": "[encoded data removed]",
      "text/plain": [
       "<Figure size 1800x800 with 1 Axes>"
      ]
     },
     "metadata": {},
     "output_type": "display_data"
    },
    {
     "name": "stdout",
     "output_type": "stream",
     "text": [
      "The maximum length of the questions (in words) is 33 words.\n"
     ]
    }
   ],
   "source": [
    "train_ds['question_length'] = train_ds['question'].str.split().str.len()\n",
    "\n",
    "n_bin=35\n",
    "train_ds.hist('question_length', grid=False, figsize=(18,8), range=(0,n_bin), bins=n_bin)\n",
    "plt.title('Histogram: Length of Article Abstracts')\n",
    "plt.xlabel('# of Words in Article Abstracts')\n",
    "plt.ylabel('# of Samples')\n",
    "plt.show()\n",
    "\n",
    "print(f\"The maximum length of the questions (in words) is {max(train_ds['question_length'])} words.\")\n",
    "train_ds = train_ds.drop(columns=['question_length'])"
   ]
  },
  {
   "attachments": {},
   "cell_type": "markdown",
   "metadata": {},
   "source": [
    "#### Convert from DataFrame to Dataset"
   ]
  },
  {
   "cell_type": "code",
   "execution_count": 6,
   "metadata": {},
   "outputs": [],
   "source": [
    "train_dataset = Dataset.from_pandas(train_ds)\n",
    "eval_dataset = Dataset.from_pandas(eval_ds)"
   ]
  },
  {
   "attachments": {},
   "cell_type": "markdown",
   "metadata": {},
   "source": [
    "#### Assign Training & Validation Datasets to DatasetDict"
   ]
  },
  {
   "cell_type": "code",
   "execution_count": 7,
   "metadata": {},
   "outputs": [
    {
     "name": "stdout",
     "output_type": "stream",
     "text": [
      "Training Dataset Shape: (25262, 7)\n",
      "Evaluation Dataset Shape: (2985, 7)\n",
      "{'context': Value(dtype='string', id=None), 'question': Value(dtype='string', id=None), 'answer0': Value(dtype='string', id=None), 'answer1': Value(dtype='string', id=None), 'answer2': Value(dtype='string', id=None), 'answer3': Value(dtype='string', id=None), 'label': Value(dtype='int64', id=None)}\n"
     ]
    }
   ],
   "source": [
    "ds = DatasetDict({\n",
    "    'train' : train_dataset,\n",
    "    'eval' : eval_dataset,\n",
    "})\n",
    "\n",
    "print(\"Training Dataset Shape:\", ds['train'].shape)\n",
    "print(\"Evaluation Dataset Shape:\", ds['eval'].shape)\n",
    "\n",
    "print(ds['train'].features)"
   ]
  },
  {
   "attachments": {},
   "cell_type": "markdown",
   "metadata": {},
   "source": [
    "#### Create Function to Display an Example Sample"
   ]
  },
  {
   "cell_type": "code",
   "execution_count": 8,
   "metadata": {},
   "outputs": [],
   "source": [
    "def show_one_example(sample):\n",
    "    print(f\"Context: {sample['context']} {sample['question']}\")\n",
    "    print(f\" 0 - {sample['answer0']}\")\n",
    "    print(f\" 1 - {sample['answer1']}\")\n",
    "    print(f\" 2 - {sample['answer2']}\")\n",
    "    print(f\" 3 - {sample['answer3']}\")\n",
    "    print(f\"\\nGround Truth: option {sample['label']}\")"
   ]
  },
  {
   "attachments": {},
   "cell_type": "markdown",
   "metadata": {},
   "source": [
    "#### Display an Example Sample"
   ]
  },
  {
   "cell_type": "code",
   "execution_count": 9,
   "metadata": {},
   "outputs": [
    {
     "name": "stdout",
     "output_type": "stream",
     "text": [
      "Context: Leaving my shift Thursday day shift I arrived the same time as my partner just after six that evening and before long the radio erupted in dispatch tones . A car fleeing the police has crashed and landed on its roof with four separate people entrapped inside . Our medic unit is dispatched along with multiple other ambulances and Rescue Companies . What may have caused the radio to erupt with dispatch tones ?\n",
      " 0 - My partner needed a medic unit .\n",
      " 1 - Someone was running from the ambulances after they got into a wreck .\n",
      " 2 - None of the above choices .\n",
      " 3 - Someone was running from the cops and got into a wreck .\n",
      "\n",
      "Ground Truth: option 3\n"
     ]
    }
   ],
   "source": [
    "show_one_example(ds['train'][2])"
   ]
  },
  {
   "attachments": {},
   "cell_type": "markdown",
   "metadata": {},
   "source": [
    "#### Basic Values/Constants"
   ]
  },
  {
   "cell_type": "code",
   "execution_count": 10,
   "metadata": {},
   "outputs": [],
   "source": [
    "MODEL_CKPT = \"bert-base-uncased\"\n",
    "MODEL_NAME = MODEL_CKPT.split(\"/\")[-1] + \"-Cosmos_QA\"\n",
    "\n",
    "STRATEGY = \"epoch\"\n",
    "LEARNING_RATE = 5e-5\n",
    "\n",
    "BATCH_SIZE = 16\n",
    "NUM_OF_EPOCHS = 3\n",
    "\n",
    "WEIGHT_DECAY = 0.01\n",
    "REPORTS_TO = \"tensorboard\"\n",
    "\n",
    "set_seed = 42"
   ]
  },
  {
   "attachments": {},
   "cell_type": "markdown",
   "metadata": {},
   "source": [
    "#### Instantiate Tokenizer"
   ]
  },
  {
   "cell_type": "code",
   "execution_count": 11,
   "metadata": {},
   "outputs": [],
   "source": [
    "tokenizer = AutoTokenizer.from_pretrained(MODEL_CKPT, use_fast=True)"
   ]
  },
  {
   "attachments": {},
   "cell_type": "markdown",
   "metadata": {},
   "source": [
    "#### Create Preprocessing Function"
   ]
  },
  {
   "cell_type": "code",
   "execution_count": 12,
   "metadata": {},
   "outputs": [],
   "source": [
    "ending_names = [\"answer0\", \"answer1\", \"answer2\", \"answer3\"]\n",
    "\n",
    "def preprocess_function(samples):\n",
    "    first_sentences = [[context] * len(ending_names) for context in samples['context']]\n",
    "    \n",
    "    question_headers = samples['question']\n",
    "    second_sentences = [[f\"{header} {samples[end][i]}\" for end in ending_names] for i, header in enumerate(question_headers)]\n",
    "    \n",
    "    first_sentences = sum(first_sentences, [])\n",
    "    second_sentences = sum(second_sentences, [])\n",
    "    \n",
    "    tokenized_samples = tokenizer(first_sentences, second_sentences, truncation=True)\n",
    "    return {k: [v[i:i + len(ending_names)] for i in range(0, len(v), len(ending_names))] for k, v in tokenized_samples.items()}"
   ]
  },
  {
   "attachments": {},
   "cell_type": "markdown",
   "metadata": {},
   "source": [
    "#### Apply Preprocessing Function to Dataset"
   ]
  },
  {
   "cell_type": "code",
   "execution_count": 13,
   "metadata": {},
   "outputs": [
    {
     "data": {
      "application/vnd.jupyter.widget-view+json": {
       "model_id": "0622fdf88f134b13afd13ac1a2e269c8",
       "version_major": 2,
       "version_minor": 0
      },
      "text/plain": [
       "  0%|          | 0/26 [00:00<?, ?ba/s]"
      ]
     },
     "metadata": {},
     "output_type": "display_data"
    },
    {
     "data": {
      "application/vnd.jupyter.widget-view+json": {
       "model_id": "9b1102da7dd94532af6f1815f9659235",
       "version_major": 2,
       "version_minor": 0
      },
      "text/plain": [
       "  0%|          | 0/3 [00:00<?, ?ba/s]"
      ]
     },
     "metadata": {},
     "output_type": "display_data"
    }
   ],
   "source": [
    "encoded_ds = ds.map(preprocess_function, batched=True)"
   ]
  },
  {
   "cell_type": "code",
   "execution_count": 14,
   "metadata": {},
   "outputs": [
    {
     "data": {
      "text/plain": [
       "{'context': Value(dtype='string', id=None),\n",
       " 'question': Value(dtype='string', id=None),\n",
       " 'answer0': Value(dtype='string', id=None),\n",
       " 'answer1': Value(dtype='string', id=None),\n",
       " 'answer2': Value(dtype='string', id=None),\n",
       " 'answer3': Value(dtype='string', id=None),\n",
       " 'label': Value(dtype='int64', id=None),\n",
       " 'input_ids': Sequence(feature=Sequence(feature=Value(dtype='int32', id=None), length=-1, id=None), length=-1, id=None),\n",
       " 'token_type_ids': Sequence(feature=Sequence(feature=Value(dtype='int8', id=None), length=-1, id=None), length=-1, id=None),\n",
       " 'attention_mask': Sequence(feature=Sequence(feature=Value(dtype='int8', id=None), length=-1, id=None), length=-1, id=None)}"
      ]
     },
     "execution_count": 14,
     "metadata": {},
     "output_type": "execute_result"
    }
   ],
   "source": [
    "encoded_ds['train'].features"
   ]
  },
  {
   "attachments": {},
   "cell_type": "markdown",
   "metadata": {},
   "source": [
    "#### Instantiate Model"
   ]
  },
  {
   "cell_type": "code",
   "execution_count": 15,
   "metadata": {},
   "outputs": [
    {
     "name": "stderr",
     "output_type": "stream",
     "text": [
      "Some weights of the model checkpoint at bert-base-uncased were not used when initializing BertForMultipleChoice: ['cls.predictions.bias', 'cls.predictions.transform.dense.weight', 'cls.seq_relationship.weight', 'cls.predictions.decoder.weight', 'cls.seq_relationship.bias', 'cls.predictions.transform.LayerNorm.weight', 'cls.predictions.transform.dense.bias', 'cls.predictions.transform.LayerNorm.bias']\n",
      "- This IS expected if you are initializing BertForMultipleChoice from the checkpoint of a model trained on another task or with another architecture (e.g. initializing a BertForSequenceClassification model from a BertForPreTraining model).\n",
      "- This IS NOT expected if you are initializing BertForMultipleChoice from the checkpoint of a model that you expect to be exactly identical (initializing a BertForSequenceClassification model from a BertForSequenceClassification model).\n",
      "Some weights of BertForMultipleChoice were not initialized from the model checkpoint at bert-base-uncased and are newly initialized: ['classifier.bias', 'classifier.weight']\n",
      "You should probably TRAIN this model on a down-stream task to be able to use it for predictions and inference.\n"
     ]
    }
   ],
   "source": [
    "model = AutoModelForMultipleChoice.from_pretrained(MODEL_CKPT)"
   ]
  },
  {
   "attachments": {},
   "cell_type": "markdown",
   "metadata": {},
   "source": [
    "#### Define TrainingArguments"
   ]
  },
  {
   "cell_type": "code",
   "execution_count": 16,
   "metadata": {},
   "outputs": [],
   "source": [
    "args = TrainingArguments(\n",
    "    output_dir=MODEL_NAME,\n",
    "    evaluation_strategy=STRATEGY,\n",
    "    learning_rate=LEARNING_RATE,\n",
    "    per_device_train_batch_size=BATCH_SIZE,\n",
    "    per_device_eval_batch_size=BATCH_SIZE,\n",
    "    num_train_epochs=NUM_OF_EPOCHS,\n",
    "    weight_decay=WEIGHT_DECAY,\n",
    "    report_to=REPORTS_TO,\n",
    "    logging_first_step=True,\n",
    "    hub_private_repo=True,\n",
    "    push_to_hub=True\n",
    ")"
   ]
  },
  {
   "attachments": {},
   "cell_type": "markdown",
   "metadata": {},
   "source": [
    "#### Define Data Collator Class"
   ]
  },
  {
   "cell_type": "code",
   "execution_count": 17,
   "metadata": {},
   "outputs": [],
   "source": [
    "@dataclass\n",
    "class DataCollatorForMultipleChoice:\n",
    "    \"\"\"\n",
    "    Data collator that will dynamically pad inputs \n",
    "    for the multiple choices received.\n",
    "    \"\"\"\n",
    "\n",
    "    tokenizer: PreTrainedTokenizerBase\n",
    "    padding: Union[bool, str, PaddingStrategy] = True\n",
    "    max_length: Optional[int] = None\n",
    "    pad_to_multiple_of: Optional[int] = None\n",
    "    \n",
    "    def __call__(self, features):\n",
    "        label_name = \"label\" if \"label\" in features[0].keys() else \"labels\"\n",
    "        labels = [feature.pop(label_name) for feature in features]\n",
    "        batch_size = len(features)\n",
    "        num_choices = len(features[0][\"input_ids\"])\n",
    "        flattened_features = [[{k: v[i] for k, v in feature.items()} \n",
    "                               for i in range(num_choices)] for feature in features]\n",
    "        flattened_features = sum(flattened_features, [])\n",
    "        \n",
    "        batch = self.tokenizer.pad(\n",
    "            flattened_features,\n",
    "            padding=self.padding,\n",
    "            max_length=self.max_length,\n",
    "            pad_to_multiple_of=self.pad_to_multiple_of,\n",
    "            return_tensors=\"pt\",\n",
    "        )\n",
    "        \n",
    "        # Unflatten\n",
    "        batch = {k: v.view(batch_size, num_choices, -1) for k, v in batch.items()}\n",
    "        # Add back labels\n",
    "        batch[\"labels\"] = torch.tensor(labels, dtype=torch.int64)\n",
    "        return batch"
   ]
  },
  {
   "attachments": {},
   "cell_type": "markdown",
   "metadata": {},
   "source": [
    "#### Create Function to Compute Metrics"
   ]
  },
  {
   "cell_type": "code",
   "execution_count": 18,
   "metadata": {},
   "outputs": [],
   "source": [
    "def compute_metrics(predictions):\n",
    "    preds, labels = predictions\n",
    "    preds = np.argmax(preds, axis=1)\n",
    "    return {\"accuracy\": (preds == labels).astype(np.float32).mean().item()}"
   ]
  },
  {
   "attachments": {},
   "cell_type": "markdown",
   "metadata": {},
   "source": [
    "#### Instantiate Trainer"
   ]
  },
  {
   "cell_type": "code",
   "execution_count": 19,
   "metadata": {},
   "outputs": [
    {
     "name": "stderr",
     "output_type": "stream",
     "text": [
      "Cloning https://huggingface.co/DunnBC22/bert-base-uncased-Cosmos_QA into local empty directory.\n"
     ]
    }
   ],
   "source": [
    "trainer = Trainer(\n",
    "    model=model,\n",
    "    args=args,\n",
    "    train_dataset=encoded_ds[\"train\"],\n",
    "    eval_dataset=encoded_ds[\"eval\"],\n",
    "    tokenizer=tokenizer,\n",
    "    data_collator=DataCollatorForMultipleChoice(tokenizer),\n",
    "    compute_metrics=compute_metrics,\n",
    ")"
   ]
  },
  {
   "attachments": {},
   "cell_type": "markdown",
   "metadata": {},
   "source": [
    "#### Train Model"
   ]
  },
  {
   "cell_type": "code",
   "execution_count": 20,
   "metadata": {},
   "outputs": [
    {
     "name": "stderr",
     "output_type": "stream",
     "text": [
      "The following columns in the training set don't have a corresponding argument in `BertForMultipleChoice.forward` and have been ignored: answer1, answer3, context, answer0, answer2, question. If answer1, answer3, context, answer0, answer2, question are not expected by `BertForMultipleChoice.forward`,  you can safely ignore this message.\n",
      "/Users/leedunn/Documents/nlpnn/nlp/lib/python3.9/site-packages/transformers/optimization.py:306: FutureWarning: This implementation of AdamW is deprecated and will be removed in a future version. Use the PyTorch implementation torch.optim.AdamW instead, or set `no_deprecation_warning=True` to disable this warning\n",
      "  warnings.warn(\n",
      "***** Running training *****\n",
      "  Num examples = 25262\n",
      "  Num Epochs = 3\n",
      "  Instantaneous batch size per device = 16\n",
      "  Total train batch size (w. parallel, distributed & accumulation) = 16\n",
      "  Gradient Accumulation steps = 1\n",
      "  Total optimization steps = 4737\n",
      "  Number of trainable parameters = 109483009\n"
     ]
    },
    {
     "data": {
      "application/vnd.jupyter.widget-view+json": {
       "model_id": "07c2fac1984043ce8862b254f0cdb4d6",
       "version_major": 2,
       "version_minor": 0
      },
      "text/plain": [
       "  0%|          | 0/4737 [00:00<?, ?it/s]"
      ]
     },
     "metadata": {},
     "output_type": "display_data"
    },
    {
     "name": "stderr",
     "output_type": "stream",
     "text": [
      "You're using a BertTokenizerFast tokenizer. Please note that with a fast tokenizer, using the `__call__` method is faster than using a method to encode the text followed by a call to the `pad` method to get a padded encoding.\n"
     ]
    },
    {
     "name": "stdout",
     "output_type": "stream",
     "text": [
      "{'loss': 1.3339, 'learning_rate': 4.998944479628457e-05, 'epoch': 0.0}\n"
     ]
    },
    {
     "name": "stderr",
     "output_type": "stream",
     "text": [
      "Saving model checkpoint to bert-base-uncased-Cosmos_QA/checkpoint-500\n",
      "Configuration saved in bert-base-uncased-Cosmos_QA/checkpoint-500/config.json\n"
     ]
    },
    {
     "name": "stdout",
     "output_type": "stream",
     "text": [
      "{'loss': 1.2061, 'learning_rate': 4.472239814228415e-05, 'epoch': 0.32}\n"
     ]
    },
    {
     "name": "stderr",
     "output_type": "stream",
     "text": [
      "Model weights saved in bert-base-uncased-Cosmos_QA/checkpoint-500/pytorch_model.bin\n",
      "tokenizer config file saved in bert-base-uncased-Cosmos_QA/checkpoint-500/tokenizer_config.json\n",
      "Special tokens file saved in bert-base-uncased-Cosmos_QA/checkpoint-500/special_tokens_map.json\n",
      "tokenizer config file saved in bert-base-uncased-Cosmos_QA/tokenizer_config.json\n",
      "Special tokens file saved in bert-base-uncased-Cosmos_QA/special_tokens_map.json\n",
      "Saving model checkpoint to bert-base-uncased-Cosmos_QA/checkpoint-1000\n"
     ]
    },
    {
     "name": "stdout",
     "output_type": "stream",
     "text": [
      "{'loss': 1.0631, 'learning_rate': 3.944479628456829e-05, 'epoch': 0.63}\n"
     ]
    },
    {
     "name": "stderr",
     "output_type": "stream",
     "text": [
      "Configuration saved in bert-base-uncased-Cosmos_QA/checkpoint-1000/config.json\n",
      "Model weights saved in bert-base-uncased-Cosmos_QA/checkpoint-1000/pytorch_model.bin\n",
      "tokenizer config file saved in bert-base-uncased-Cosmos_QA/checkpoint-1000/tokenizer_config.json\n",
      "Special tokens file saved in bert-base-uncased-Cosmos_QA/checkpoint-1000/special_tokens_map.json\n",
      "tokenizer config file saved in bert-base-uncased-Cosmos_QA/tokenizer_config.json\n",
      "Special tokens file saved in bert-base-uncased-Cosmos_QA/special_tokens_map.json\n",
      "Saving model checkpoint to bert-base-uncased-Cosmos_QA/checkpoint-1500\n"
     ]
    },
    {
     "name": "stdout",
     "output_type": "stream",
     "text": [
      "{'loss': 0.9734, 'learning_rate': 3.416719442685244e-05, 'epoch': 0.95}\n"
     ]
    },
    {
     "name": "stderr",
     "output_type": "stream",
     "text": [
      "Configuration saved in bert-base-uncased-Cosmos_QA/checkpoint-1500/config.json\n",
      "Model weights saved in bert-base-uncased-Cosmos_QA/checkpoint-1500/pytorch_model.bin\n",
      "tokenizer config file saved in bert-base-uncased-Cosmos_QA/checkpoint-1500/tokenizer_config.json\n",
      "Special tokens file saved in bert-base-uncased-Cosmos_QA/checkpoint-1500/special_tokens_map.json\n",
      "tokenizer config file saved in bert-base-uncased-Cosmos_QA/tokenizer_config.json\n",
      "Special tokens file saved in bert-base-uncased-Cosmos_QA/special_tokens_map.json\n",
      "The following columns in the evaluation set don't have a corresponding argument in `BertForMultipleChoice.forward` and have been ignored: answer1, answer3, context, answer0, answer2, question. If answer1, answer3, context, answer0, answer2, question are not expected by `BertForMultipleChoice.forward`,  you can safely ignore this message.\n",
      "***** Running Evaluation *****\n",
      "  Num examples = 2985\n",
      "  Batch size = 16\n"
     ]
    },
    {
     "data": {
      "application/vnd.jupyter.widget-view+json": {
       "model_id": "f72739ba45f84a86bde6cb6cbf3a0dae",
       "version_major": 2,
       "version_minor": 0
      },
      "text/plain": [
       "  0%|          | 0/187 [00:00<?, ?it/s]"
      ]
     },
     "metadata": {},
     "output_type": "display_data"
    },
    {
     "name": "stdout",
     "output_type": "stream",
     "text": [
      "{'eval_loss': 0.9463162422180176, 'eval_accuracy': 0.6237856149673462, 'eval_runtime': 5178.4001, 'eval_samples_per_second': 0.576, 'eval_steps_per_second': 0.036, 'epoch': 1.0}\n",
      "{'loss': 0.6396, 'learning_rate': 2.8889592569136586e-05, 'epoch': 1.27}\n"
     ]
    },
    {
     "name": "stderr",
     "output_type": "stream",
     "text": [
      "Saving model checkpoint to bert-base-uncased-Cosmos_QA/checkpoint-2000\n",
      "Configuration saved in bert-base-uncased-Cosmos_QA/checkpoint-2000/config.json\n",
      "Model weights saved in bert-base-uncased-Cosmos_QA/checkpoint-2000/pytorch_model.bin\n",
      "tokenizer config file saved in bert-base-uncased-Cosmos_QA/checkpoint-2000/tokenizer_config.json\n",
      "Special tokens file saved in bert-base-uncased-Cosmos_QA/checkpoint-2000/special_tokens_map.json\n",
      "tokenizer config file saved in bert-base-uncased-Cosmos_QA/tokenizer_config.json\n",
      "Special tokens file saved in bert-base-uncased-Cosmos_QA/special_tokens_map.json\n",
      "Saving model checkpoint to bert-base-uncased-Cosmos_QA/checkpoint-2500\n"
     ]
    },
    {
     "name": "stdout",
     "output_type": "stream",
     "text": [
      "{'loss': 0.5421, 'learning_rate': 2.3611990711420732e-05, 'epoch': 1.58}\n"
     ]
    },
    {
     "name": "stderr",
     "output_type": "stream",
     "text": [
      "Configuration saved in bert-base-uncased-Cosmos_QA/checkpoint-2500/config.json\n",
      "Model weights saved in bert-base-uncased-Cosmos_QA/checkpoint-2500/pytorch_model.bin\n",
      "tokenizer config file saved in bert-base-uncased-Cosmos_QA/checkpoint-2500/tokenizer_config.json\n",
      "Special tokens file saved in bert-base-uncased-Cosmos_QA/checkpoint-2500/special_tokens_map.json\n",
      "tokenizer config file saved in bert-base-uncased-Cosmos_QA/tokenizer_config.json\n",
      "Special tokens file saved in bert-base-uncased-Cosmos_QA/special_tokens_map.json\n",
      "Saving model checkpoint to bert-base-uncased-Cosmos_QA/checkpoint-3000\n"
     ]
    },
    {
     "name": "stdout",
     "output_type": "stream",
     "text": [
      "{'loss': 0.5363, 'learning_rate': 1.833438885370488e-05, 'epoch': 1.9}\n"
     ]
    },
    {
     "name": "stderr",
     "output_type": "stream",
     "text": [
      "Configuration saved in bert-base-uncased-Cosmos_QA/checkpoint-3000/config.json\n",
      "Model weights saved in bert-base-uncased-Cosmos_QA/checkpoint-3000/pytorch_model.bin\n",
      "tokenizer config file saved in bert-base-uncased-Cosmos_QA/checkpoint-3000/tokenizer_config.json\n",
      "Special tokens file saved in bert-base-uncased-Cosmos_QA/checkpoint-3000/special_tokens_map.json\n",
      "tokenizer config file saved in bert-base-uncased-Cosmos_QA/tokenizer_config.json\n",
      "Special tokens file saved in bert-base-uncased-Cosmos_QA/special_tokens_map.json\n",
      "The following columns in the evaluation set don't have a corresponding argument in `BertForMultipleChoice.forward` and have been ignored: answer1, answer3, context, answer0, answer2, question. If answer1, answer3, context, answer0, answer2, question are not expected by `BertForMultipleChoice.forward`,  you can safely ignore this message.\n",
      "***** Running Evaluation *****\n",
      "  Num examples = 2985\n",
      "  Batch size = 16\n"
     ]
    },
    {
     "data": {
      "application/vnd.jupyter.widget-view+json": {
       "model_id": "ceb916e623624725b58f5647c9d608da",
       "version_major": 2,
       "version_minor": 0
      },
      "text/plain": [
       "  0%|          | 0/187 [00:00<?, ?it/s]"
      ]
     },
     "metadata": {},
     "output_type": "display_data"
    },
    {
     "name": "stdout",
     "output_type": "stream",
     "text": [
      "{'eval_loss': 1.098717212677002, 'eval_accuracy': 0.6157453656196594, 'eval_runtime': 5215.1053, 'eval_samples_per_second': 0.572, 'eval_steps_per_second': 0.036, 'epoch': 2.0}\n"
     ]
    },
    {
     "name": "stderr",
     "output_type": "stream",
     "text": [
      "Saving model checkpoint to bert-base-uncased-Cosmos_QA/checkpoint-3500\n"
     ]
    },
    {
     "name": "stdout",
     "output_type": "stream",
     "text": [
      "{'loss': 0.3025, 'learning_rate': 1.3056786995989024e-05, 'epoch': 2.22}\n"
     ]
    },
    {
     "name": "stderr",
     "output_type": "stream",
     "text": [
      "Configuration saved in bert-base-uncased-Cosmos_QA/checkpoint-3500/config.json\n",
      "Model weights saved in bert-base-uncased-Cosmos_QA/checkpoint-3500/pytorch_model.bin\n",
      "tokenizer config file saved in bert-base-uncased-Cosmos_QA/checkpoint-3500/tokenizer_config.json\n",
      "Special tokens file saved in bert-base-uncased-Cosmos_QA/checkpoint-3500/special_tokens_map.json\n",
      "tokenizer config file saved in bert-base-uncased-Cosmos_QA/tokenizer_config.json\n",
      "Special tokens file saved in bert-base-uncased-Cosmos_QA/special_tokens_map.json\n",
      "Adding files tracked by Git LFS: ['.DS_Store']. This may take a bit of time if the files are large.\n",
      "Saving model checkpoint to bert-base-uncased-Cosmos_QA/checkpoint-4000\n"
     ]
    },
    {
     "name": "stdout",
     "output_type": "stream",
     "text": [
      "{'loss': 0.1767, 'learning_rate': 7.779185138273169e-06, 'epoch': 2.53}\n"
     ]
    },
    {
     "name": "stderr",
     "output_type": "stream",
     "text": [
      "Configuration saved in bert-base-uncased-Cosmos_QA/checkpoint-4000/config.json\n",
      "Model weights saved in bert-base-uncased-Cosmos_QA/checkpoint-4000/pytorch_model.bin\n",
      "tokenizer config file saved in bert-base-uncased-Cosmos_QA/checkpoint-4000/tokenizer_config.json\n",
      "Special tokens file saved in bert-base-uncased-Cosmos_QA/checkpoint-4000/special_tokens_map.json\n",
      "tokenizer config file saved in bert-base-uncased-Cosmos_QA/tokenizer_config.json\n",
      "Special tokens file saved in bert-base-uncased-Cosmos_QA/special_tokens_map.json\n",
      "Saving model checkpoint to bert-base-uncased-Cosmos_QA/checkpoint-4500\n"
     ]
    },
    {
     "name": "stdout",
     "output_type": "stream",
     "text": [
      "{'loss': 0.1852, 'learning_rate': 2.501583280557315e-06, 'epoch': 2.85}\n"
     ]
    },
    {
     "name": "stderr",
     "output_type": "stream",
     "text": [
      "Configuration saved in bert-base-uncased-Cosmos_QA/checkpoint-4500/config.json\n",
      "Model weights saved in bert-base-uncased-Cosmos_QA/checkpoint-4500/pytorch_model.bin\n",
      "tokenizer config file saved in bert-base-uncased-Cosmos_QA/checkpoint-4500/tokenizer_config.json\n",
      "Special tokens file saved in bert-base-uncased-Cosmos_QA/checkpoint-4500/special_tokens_map.json\n",
      "tokenizer config file saved in bert-base-uncased-Cosmos_QA/tokenizer_config.json\n",
      "Special tokens file saved in bert-base-uncased-Cosmos_QA/special_tokens_map.json\n",
      "The following columns in the evaluation set don't have a corresponding argument in `BertForMultipleChoice.forward` and have been ignored: answer1, answer3, context, answer0, answer2, question. If answer1, answer3, context, answer0, answer2, question are not expected by `BertForMultipleChoice.forward`,  you can safely ignore this message.\n",
      "***** Running Evaluation *****\n",
      "  Num examples = 2985\n",
      "  Batch size = 16\n"
     ]
    },
    {
     "data": {
      "application/vnd.jupyter.widget-view+json": {
       "model_id": "b3cc0c5dab04412ca2cf1102b004ee21",
       "version_major": 2,
       "version_minor": 0
      },
      "text/plain": [
       "  0%|          | 0/187 [00:00<?, ?it/s]"
      ]
     },
     "metadata": {},
     "output_type": "display_data"
    },
    {
     "name": "stderr",
     "output_type": "stream",
     "text": [
      "\n",
      "\n",
      "Training completed. Do not forget to share your model on huggingface.co/models =)\n",
      "\n",
      "\n"
     ]
    },
    {
     "name": "stdout",
     "output_type": "stream",
     "text": [
      "{'eval_loss': 1.7425875663757324, 'eval_accuracy': 0.6000000238418579, 'eval_runtime': 5131.8614, 'eval_samples_per_second': 0.582, 'eval_steps_per_second': 0.036, 'epoch': 3.0}\n",
      "{'train_runtime': 676721.6107, 'train_samples_per_second': 0.112, 'train_steps_per_second': 0.007, 'train_loss': 0.6021223496806906, 'epoch': 3.0}\n"
     ]
    }
   ],
   "source": [
    "train_results = trainer.train()"
   ]
  },
  {
   "attachments": {},
   "cell_type": "markdown",
   "metadata": {},
   "source": [
    "#### Evaluate Model"
   ]
  },
  {
   "cell_type": "code",
   "execution_count": 21,
   "metadata": {},
   "outputs": [
    {
     "name": "stderr",
     "output_type": "stream",
     "text": [
      "The following columns in the evaluation set don't have a corresponding argument in `BertForMultipleChoice.forward` and have been ignored: answer1, answer3, context, answer0, answer2, question. If answer1, answer3, context, answer0, answer2, question are not expected by `BertForMultipleChoice.forward`,  you can safely ignore this message.\n",
      "***** Running Evaluation *****\n",
      "  Num examples = 2985\n",
      "  Batch size = 16\n"
     ]
    },
    {
     "data": {
      "application/vnd.jupyter.widget-view+json": {
       "model_id": "2780f207e5484f1a91606cbdcfdbe3ef",
       "version_major": 2,
       "version_minor": 0
      },
      "text/plain": [
       "  0%|          | 0/187 [00:00<?, ?it/s]"
      ]
     },
     "metadata": {},
     "output_type": "display_data"
    },
    {
     "name": "stdout",
     "output_type": "stream",
     "text": [
      "{'eval_loss': 1.7425875663757324, 'eval_accuracy': 0.6000000238418579, 'eval_runtime': 5128.7565, 'eval_samples_per_second': 0.582, 'eval_steps_per_second': 0.036, 'epoch': 3.0}\n"
     ]
    }
   ],
   "source": [
    "metrics = trainer.evaluate()\n",
    "\n",
    "print(metrics)"
   ]
  },
  {
   "attachments": {},
   "cell_type": "markdown",
   "metadata": {},
   "source": [
    "#### Push to HuggingFace Hub"
   ]
  },
  {
   "cell_type": "code",
   "execution_count": 22,
   "metadata": {},
   "outputs": [
    {
     "name": "stderr",
     "output_type": "stream",
     "text": [
      "Saving model checkpoint to bert-base-uncased-Cosmos_QA\n",
      "Configuration saved in bert-base-uncased-Cosmos_QA/config.json\n",
      "Model weights saved in bert-base-uncased-Cosmos_QA/pytorch_model.bin\n",
      "tokenizer config file saved in bert-base-uncased-Cosmos_QA/tokenizer_config.json\n",
      "Special tokens file saved in bert-base-uncased-Cosmos_QA/special_tokens_map.json\n"
     ]
    },
    {
     "data": {
      "application/vnd.jupyter.widget-view+json": {
       "model_id": "c81718fa683b4e139c0f811ff8fe28ac",
       "version_major": 2,
       "version_minor": 0
      },
      "text/plain": [
       "Upload file pytorch_model.bin:   0%|          | 32.0k/418M [00:00<?, ?B/s]"
      ]
     },
     "metadata": {},
     "output_type": "display_data"
    },
    {
     "data": {
      "application/vnd.jupyter.widget-view+json": {
       "model_id": "9b3eb9c6ae5543aa96de024e6133c885",
       "version_major": 2,
       "version_minor": 0
      },
      "text/plain": [
       "Upload file runs/.DS_Store: 100%|##########| 6.00k/6.00k [00:00<?, ?B/s]"
      ]
     },
     "metadata": {},
     "output_type": "display_data"
    },
    {
     "data": {
      "application/vnd.jupyter.widget-view+json": {
       "model_id": "282657745aa645a998ed7926c082e048",
       "version_major": 2,
       "version_minor": 0
      },
      "text/plain": [
       "Upload file runs/Mar06_20-39-06_Lees-Air/events.out.tfevents.1678156754.Lees-Air.71037.0: 100%|##########| 6.5…"
      ]
     },
     "metadata": {},
     "output_type": "display_data"
    },
    {
     "data": {
      "application/vnd.jupyter.widget-view+json": {
       "model_id": "9a47b34b3f3144d78c491d629625b5e7",
       "version_major": 2,
       "version_minor": 0
      },
      "text/plain": [
       "Upload file runs/Mar06_20-39-06_Lees-Air/events.out.tfevents.1678838605.Lees-Air.71037.2: 100%|##########| 363…"
      ]
     },
     "metadata": {},
     "output_type": "display_data"
    },
    {
     "data": {
      "application/vnd.jupyter.widget-view+json": {
       "model_id": "0e81ffa72c7043ebbfb58dcd4598928f",
       "version_major": 2,
       "version_minor": 0
      },
      "text/plain": [
       "Upload file .DS_Store: 100%|##########| 10.0k/10.0k [00:00<?, ?B/s]"
      ]
     },
     "metadata": {},
     "output_type": "display_data"
    },
    {
     "name": "stderr",
     "output_type": "stream",
     "text": [
      "remote: Scanning LFS files of refs/heads/main for validity...        \n",
      "remote: LFS file scan complete.        \n",
      "To https://huggingface.co/DunnBC22/bert-base-uncased-Cosmos_QA\n",
      "   e7a4348..ceb9c55  main -> main\n",
      "\n",
      "Dropping the following result as it does not have all the necessary fields:\n",
      "{'metrics': [{'name': 'Accuracy', 'type': 'accuracy', 'value': 0.6000000238418579}]}\n",
      "To https://huggingface.co/DunnBC22/bert-base-uncased-Cosmos_QA\n",
      "   ceb9c55..1df8283  main -> main\n",
      "\n"
     ]
    },
    {
     "data": {
      "text/plain": [
       "'https://huggingface.co/DunnBC22/bert-base-uncased-Cosmos_QA/commit/ceb9c55fa94544556c5d6712ba3b9cd87f42299e'"
      ]
     },
     "execution_count": 22,
     "metadata": {},
     "output_type": "execute_result"
    }
   ],
   "source": [
    "trainer.push_to_hub()"
   ]
  },
  {
   "attachments": {},
   "cell_type": "markdown",
   "metadata": {},
   "source": [
    "### Notes & Other Takeaways From This Project\n",
    "****\n",
    "- It looks like 67.5 percent is the State of the Art value for BERT (the 'Large' BERT checkpoint, not the base checkpoint) on Multiple Choice with the SWAG dataset. Having done some smaller initial test runs and trying this project with distilBERT originally, I am sure that with more training (4 or 5 epochs instead of 3), I could achieve metrics more in line with the State of the Art value. (Same response as the Social IQa project, but for good reason.)\n",
    "****"
   ]
  },
  {
   "attachments": {},
   "cell_type": "markdown",
   "metadata": {},
   "source": [
    "#### Citation\n",
    "- Model Checkpoint\n",
    "@article{DBLP:journals/corr/abs-1810-04805,\n",
    "author = {Jacob Devlin and Ming{-}Wei Chang and Kenton Lee and Kristina Toutanova}, title = {{BERT:} Pre-training of Deep Bidirectional Transformers for Language Understanding}, journal = {CoRR}, volume = {abs/1810.04805}, year = {2018}, url = {http://arxiv.org/abs/1810.04805%7D, archivePrefix = {arXiv}, eprint = {1810.04805}, timestamp = {Tue, 30 Oct 2018 20:39:56 +0100}, biburl = {https://dblp.org/rec/journals/corr/abs-1810-04805.bib%7D, bibsource = {dblp computer science bibliography, https://dblp.org%7D\n",
    "}"
   ]
  }
 ],
 "metadata": {
  "kernelspec": {
   "display_name": "nlp_ml",
   "language": "python",
   "name": "python3"
  },
  "language_info": {
   "codemirror_mode": {
    "name": "ipython",
    "version": 3
   },
   "file_extension": ".py",
   "mimetype": "text/x-python",
   "name": "python",
   "nbconvert_exporter": "python",
   "pygments_lexer": "ipython3",
   "version": "3.9.7"
  },
  "orig_nbformat": 4,
  "vscode": {
   "interpreter": {
    "hash": "0b7a754c5aaaa44a21e2f2148f50b931a5abdffe7ef71537f5954179554f39df"
   }
  }
 },
 "nbformat": 4,
 "nbformat_minor": 2
}
