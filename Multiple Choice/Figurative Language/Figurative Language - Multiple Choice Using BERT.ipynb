{
 "cells": [
  {
   "attachments": {},
   "cell_type": "markdown",
   "metadata": {},
   "source": [
    "## Figurative Language: Multiple Choice\n",
    "\n",
    "Dataset Source: https://huggingface.co/datasets/nightingal3/fig-qa"
   ]
  },
  {
   "attachments": {},
   "cell_type": "markdown",
   "metadata": {},
   "source": [
    "#### Import Necessary Libraries"
   ]
  },
  {
   "cell_type": "code",
   "execution_count": 1,
   "metadata": {},
   "outputs": [
    {
     "name": "stdout",
     "output_type": "stream",
     "text": [
      "Git LFS initialized.\n"
     ]
    }
   ],
   "source": [
    "import os, sys, random, ast\n",
    "os.environ['TOKENIZERS_PARALLELISM']='false'\n",
    "\n",
    "import numpy as np\n",
    "import pandas as pd\n",
    "import matplotlib.pyplot as plt\n",
    "\n",
    "import datasets\n",
    "from datasets import Dataset, DatasetDict, load_dataset\n",
    "\n",
    "import torch\n",
    "\n",
    "from dataclasses import dataclass\n",
    "\n",
    "import transformers\n",
    "from transformers import AutoTokenizer, AutoModelForMultipleChoice\n",
    "from transformers import Trainer, TrainingArguments, set_seed\n",
    "from transformers.tokenization_utils_base import PreTrainedTokenizerBase, PaddingStrategy\n",
    "\n",
    "from typing import Optional, Union\n",
    "\n",
    "!git lfs install"
   ]
  },
  {
   "attachments": {},
   "cell_type": "markdown",
   "metadata": {},
   "source": [
    "#### Display Library Versions"
   ]
  },
  {
   "cell_type": "code",
   "execution_count": 2,
   "metadata": {},
   "outputs": [
    {
     "name": "stdout",
     "output_type": "stream",
     "text": [
      "        Python: 3.9.12\n",
      "         NumPy: 1.25.1\n",
      "        Pandas: 2.0.3\n",
      "         Torch: 2.0.1\n",
      "      Datasets: 2.13.1\n",
      "  Transformers: 4.29.1\n"
     ]
    }
   ],
   "source": [
    "print(\"Python:\".rjust(15), sys.version[0:6])\n",
    "print(\"NumPy:\".rjust(15), np.__version__)\n",
    "print(\"Pandas:\".rjust(15), pd.__version__)\n",
    "print(\"Torch:\".rjust(15), torch.__version__)\n",
    "print(\"Datasets:\".rjust(15), datasets.__version__)\n",
    "print(\"Transformers:\".rjust(15), transformers.__version__)"
   ]
  },
  {
   "attachments": {},
   "cell_type": "markdown",
   "metadata": {},
   "source": [
    "#### Load & Process Training Dataset"
   ]
  },
  {
   "cell_type": "code",
   "execution_count": 3,
   "metadata": {},
   "outputs": [
    {
     "name": "stderr",
     "output_type": "stream",
     "text": [
      "Found cached dataset csv (/Users/briandunn/.cache/huggingface/datasets/nightingal3___csv/nightingal3--fig-qa-5c54de63c3b7b7e8/0.0.0/eea64c71ca8b46dd3f537ed218fc9bf495d5707789152eb2764f5c78fa66d59d)\n"
     ]
    },
    {
     "data": {
      "application/vnd.jupyter.widget-view+json": {
       "model_id": "6074575071af4b3cb0536c37e121ce43",
       "version_major": 2,
       "version_minor": 0
      },
      "text/plain": [
       "  0%|          | 0/3 [00:00<?, ?it/s]"
      ]
     },
     "metadata": {},
     "output_type": "display_data"
    },
    {
     "data": {
      "text/plain": [
       "DatasetDict({\n",
       "    train: Dataset({\n",
       "        features: ['startphrase', 'ending1', 'ending2', 'labels', 'valid'],\n",
       "        num_rows: 9674\n",
       "    })\n",
       "    validation: Dataset({\n",
       "        features: ['startphrase', 'ending1', 'ending2', 'labels', 'valid'],\n",
       "        num_rows: 1094\n",
       "    })\n",
       "    test: Dataset({\n",
       "        features: ['startphrase', 'ending1', 'ending2', 'labels', 'valid'],\n",
       "        num_rows: 1146\n",
       "    })\n",
       "})"
      ]
     },
     "execution_count": 3,
     "metadata": {},
     "output_type": "execute_result"
    }
   ],
   "source": [
    "dataset = load_dataset(\"nightingal3/fig-qa\")\n",
    "\n",
    "dataset"
   ]
  },
  {
   "cell_type": "code",
   "execution_count": 4,
   "metadata": {},
   "outputs": [
    {
     "data": {
      "text/plain": [
       "{'startphrase': 'It smells like a freshly baked cookies on Christmas morning',\n",
       " 'ending1': 'It smells great',\n",
       " 'ending2': 'It smells awful',\n",
       " 'labels': 0,\n",
       " 'valid': 1}"
      ]
     },
     "execution_count": 4,
     "metadata": {},
     "output_type": "execute_result"
    }
   ],
   "source": [
    "dataset['train'][12]"
   ]
  },
  {
   "cell_type": "markdown",
   "metadata": {},
   "source": [
    "#### Convert Dataset to Pandas DataFrame"
   ]
  },
  {
   "cell_type": "code",
   "execution_count": 5,
   "metadata": {},
   "outputs": [
    {
     "data": {
      "text/html": [
       "<div>\n",
       "<style scoped>\n",
       "    .dataframe tbody tr th:only-of-type {\n",
       "        vertical-align: middle;\n",
       "    }\n",
       "\n",
       "    .dataframe tbody tr th {\n",
       "        vertical-align: top;\n",
       "    }\n",
       "\n",
       "    .dataframe thead th {\n",
       "        text-align: right;\n",
       "    }\n",
       "</style>\n",
       "<table border=\"1\" class=\"dataframe\">\n",
       "  <thead>\n",
       "    <tr style=\"text-align: right;\">\n",
       "      <th></th>\n",
       "      <th>startphrase</th>\n",
       "      <th>ending1</th>\n",
       "      <th>ending2</th>\n",
       "      <th>labels</th>\n",
       "      <th>valid</th>\n",
       "    </tr>\n",
       "  </thead>\n",
       "  <tbody>\n",
       "    <tr>\n",
       "      <th>0</th>\n",
       "      <td>Her word had the strength of titanium.</td>\n",
       "      <td>Her promises can be believed.</td>\n",
       "      <td>Her promises cannot be trusted.</td>\n",
       "      <td>0</td>\n",
       "      <td>1</td>\n",
       "    </tr>\n",
       "    <tr>\n",
       "      <th>1</th>\n",
       "      <td>Her word had the strength of a wine glass.</td>\n",
       "      <td>Her promises can be believed.</td>\n",
       "      <td>Her promises cannot be trusted.</td>\n",
       "      <td>1</td>\n",
       "      <td>1</td>\n",
       "    </tr>\n",
       "    <tr>\n",
       "      <th>2</th>\n",
       "      <td>His kisses have the passion of lovers meeting ...</td>\n",
       "      <td>His kisses are demonstrative and intense.</td>\n",
       "      <td>His kiss is unemotional.</td>\n",
       "      <td>0</td>\n",
       "      <td>1</td>\n",
       "    </tr>\n",
       "    <tr>\n",
       "      <th>3</th>\n",
       "      <td>His kisses have the passion of a couple in a l...</td>\n",
       "      <td>His kisses are demonstrative and intense.</td>\n",
       "      <td>His kiss is unemotional.</td>\n",
       "      <td>1</td>\n",
       "      <td>1</td>\n",
       "    </tr>\n",
       "    <tr>\n",
       "      <th>4</th>\n",
       "      <td>This winter is as cold as my mother-in-law tow...</td>\n",
       "      <td>It's very cold</td>\n",
       "      <td>It's pretty warm</td>\n",
       "      <td>0</td>\n",
       "      <td>1</td>\n",
       "    </tr>\n",
       "  </tbody>\n",
       "</table>\n",
       "</div>"
      ],
      "text/plain": [
       "                                         startphrase  \\\n",
       "0             Her word had the strength of titanium.   \n",
       "1         Her word had the strength of a wine glass.   \n",
       "2  His kisses have the passion of lovers meeting ...   \n",
       "3  His kisses have the passion of a couple in a l...   \n",
       "4  This winter is as cold as my mother-in-law tow...   \n",
       "\n",
       "                                     ending1                          ending2  \\\n",
       "0              Her promises can be believed.  Her promises cannot be trusted.   \n",
       "1              Her promises can be believed.  Her promises cannot be trusted.   \n",
       "2  His kisses are demonstrative and intense.         His kiss is unemotional.   \n",
       "3  His kisses are demonstrative and intense.         His kiss is unemotional.   \n",
       "4                             It's very cold                 It's pretty warm   \n",
       "\n",
       "   labels  valid  \n",
       "0       0      1  \n",
       "1       1      1  \n",
       "2       0      1  \n",
       "3       1      1  \n",
       "4       0      1  "
      ]
     },
     "execution_count": 5,
     "metadata": {},
     "output_type": "execute_result"
    }
   ],
   "source": [
    "dataset.set_format(type='pandas', columns=['startphrase', 'ending1', 'ending2', 'labels', 'valid'])\n",
    "\n",
    "df = pd.concat([dataset['train'][:], dataset['test'][:], dataset['validation'][:]])\n",
    "\n",
    "df.head()"
   ]
  },
  {
   "cell_type": "markdown",
   "metadata": {},
   "source": [
    "#### Rename Features as Necessary"
   ]
  },
  {
   "cell_type": "code",
   "execution_count": 6,
   "metadata": {},
   "outputs": [
    {
     "data": {
      "text/html": [
       "<div>\n",
       "<style scoped>\n",
       "    .dataframe tbody tr th:only-of-type {\n",
       "        vertical-align: middle;\n",
       "    }\n",
       "\n",
       "    .dataframe tbody tr th {\n",
       "        vertical-align: top;\n",
       "    }\n",
       "\n",
       "    .dataframe thead th {\n",
       "        text-align: right;\n",
       "    }\n",
       "</style>\n",
       "<table border=\"1\" class=\"dataframe\">\n",
       "  <thead>\n",
       "    <tr style=\"text-align: right;\">\n",
       "      <th></th>\n",
       "      <th>context</th>\n",
       "      <th>0</th>\n",
       "      <th>1</th>\n",
       "      <th>labels</th>\n",
       "    </tr>\n",
       "  </thead>\n",
       "  <tbody>\n",
       "    <tr>\n",
       "      <th>0</th>\n",
       "      <td>Her word had the strength of titanium.</td>\n",
       "      <td>Her promises can be believed.</td>\n",
       "      <td>Her promises cannot be trusted.</td>\n",
       "      <td>0</td>\n",
       "    </tr>\n",
       "    <tr>\n",
       "      <th>1</th>\n",
       "      <td>Her word had the strength of a wine glass.</td>\n",
       "      <td>Her promises can be believed.</td>\n",
       "      <td>Her promises cannot be trusted.</td>\n",
       "      <td>1</td>\n",
       "    </tr>\n",
       "    <tr>\n",
       "      <th>2</th>\n",
       "      <td>His kisses have the passion of lovers meeting ...</td>\n",
       "      <td>His kisses are demonstrative and intense.</td>\n",
       "      <td>His kiss is unemotional.</td>\n",
       "      <td>0</td>\n",
       "    </tr>\n",
       "    <tr>\n",
       "      <th>3</th>\n",
       "      <td>His kisses have the passion of a couple in a l...</td>\n",
       "      <td>His kisses are demonstrative and intense.</td>\n",
       "      <td>His kiss is unemotional.</td>\n",
       "      <td>1</td>\n",
       "    </tr>\n",
       "    <tr>\n",
       "      <th>4</th>\n",
       "      <td>This winter is as cold as my mother-in-law tow...</td>\n",
       "      <td>It's very cold</td>\n",
       "      <td>It's pretty warm</td>\n",
       "      <td>0</td>\n",
       "    </tr>\n",
       "    <tr>\n",
       "      <th>...</th>\n",
       "      <td>...</td>\n",
       "      <td>...</td>\n",
       "      <td>...</td>\n",
       "      <td>...</td>\n",
       "    </tr>\n",
       "    <tr>\n",
       "      <th>10763</th>\n",
       "      <td>Emails are as fast as a rocket</td>\n",
       "      <td>Emails are slow.</td>\n",
       "      <td>Emails are fast.</td>\n",
       "      <td>1</td>\n",
       "    </tr>\n",
       "    <tr>\n",
       "      <th>10764</th>\n",
       "      <td>The dinner was as tasty as a leather shoe</td>\n",
       "      <td>The dinner was very dry and tasteless.</td>\n",
       "      <td>The dinner was award winning.</td>\n",
       "      <td>0</td>\n",
       "    </tr>\n",
       "    <tr>\n",
       "      <th>10765</th>\n",
       "      <td>The dinner was as tasty as a Michelin star</td>\n",
       "      <td>The dinner was very dry and tasteless.</td>\n",
       "      <td>The dinner was award winning.</td>\n",
       "      <td>1</td>\n",
       "    </tr>\n",
       "    <tr>\n",
       "      <th>10766</th>\n",
       "      <td>The explanation was like clear water</td>\n",
       "      <td>The explanation was easy and simple to understand</td>\n",
       "      <td>The explanation made to sense.</td>\n",
       "      <td>0</td>\n",
       "    </tr>\n",
       "    <tr>\n",
       "      <th>10767</th>\n",
       "      <td>The explanation was like mud</td>\n",
       "      <td>The explanation was easy and simple to understand</td>\n",
       "      <td>The explanation made to sense.</td>\n",
       "      <td>1</td>\n",
       "    </tr>\n",
       "  </tbody>\n",
       "</table>\n",
       "<p>10768 rows × 4 columns</p>\n",
       "</div>"
      ],
      "text/plain": [
       "                                                 context  \\\n",
       "0                 Her word had the strength of titanium.   \n",
       "1             Her word had the strength of a wine glass.   \n",
       "2      His kisses have the passion of lovers meeting ...   \n",
       "3      His kisses have the passion of a couple in a l...   \n",
       "4      This winter is as cold as my mother-in-law tow...   \n",
       "...                                                  ...   \n",
       "10763                     Emails are as fast as a rocket   \n",
       "10764          The dinner was as tasty as a leather shoe   \n",
       "10765         The dinner was as tasty as a Michelin star   \n",
       "10766               The explanation was like clear water   \n",
       "10767                       The explanation was like mud   \n",
       "\n",
       "                                                       0  \\\n",
       "0                          Her promises can be believed.   \n",
       "1                          Her promises can be believed.   \n",
       "2              His kisses are demonstrative and intense.   \n",
       "3              His kisses are demonstrative and intense.   \n",
       "4                                         It's very cold   \n",
       "...                                                  ...   \n",
       "10763                                   Emails are slow.   \n",
       "10764             The dinner was very dry and tasteless.   \n",
       "10765             The dinner was very dry and tasteless.   \n",
       "10766  The explanation was easy and simple to understand   \n",
       "10767  The explanation was easy and simple to understand   \n",
       "\n",
       "                                     1  labels  \n",
       "0      Her promises cannot be trusted.       0  \n",
       "1      Her promises cannot be trusted.       1  \n",
       "2             His kiss is unemotional.       0  \n",
       "3             His kiss is unemotional.       1  \n",
       "4                     It's pretty warm       0  \n",
       "...                                ...     ...  \n",
       "10763                 Emails are fast.       1  \n",
       "10764    The dinner was award winning.       0  \n",
       "10765    The dinner was award winning.       1  \n",
       "10766   The explanation made to sense.       0  \n",
       "10767   The explanation made to sense.       1  \n",
       "\n",
       "[10768 rows x 4 columns]"
      ]
     },
     "execution_count": 6,
     "metadata": {},
     "output_type": "execute_result"
    }
   ],
   "source": [
    "df = df.rename(columns={\"startphrase\": \"context\", \"ending1\": \"0\", \"ending2\": \"1\"})\n",
    "\n",
    "df = df.drop(columns='valid') \n",
    "\n",
    "df = df[df['labels'] > -1]\n",
    "df = df[df['labels'] < 2]\n",
    "\n",
    "df = df.reset_index(drop=True)\n",
    "\n",
    "df"
   ]
  },
  {
   "attachments": {},
   "cell_type": "markdown",
   "metadata": {},
   "source": [
    "#### Histogram of Input Length (in Words)"
   ]
  },
  {
   "cell_type": "code",
   "execution_count": 7,
   "metadata": {},
   "outputs": [
    {
     "data": {
      "image/png": "[encoded data removed]",
      "text/plain": [
       "<Figure size 1800x800 with 1 Axes>"
      ]
     },
     "metadata": {},
     "output_type": "display_data"
    },
    {
     "name": "stdout",
     "output_type": "stream",
     "text": [
      "The maximum length of the inputs is 34 words.\n"
     ]
    }
   ],
   "source": [
    "df['question_length'] = df['context'].str.split().str.len()\n",
    "\n",
    "n_bin = max(df['question_length']) + 1\n",
    "df.hist('question_length', grid=False, figsize=(18,8), range=(0,n_bin), bins=n_bin)\n",
    "plt.title('Histogram: Length of Inputs')\n",
    "plt.xlabel('# of Words in Inputs')\n",
    "plt.ylabel('# of Samples')\n",
    "plt.show()\n",
    "\n",
    "print(f\"The maximum length of the inputs is {max(df['question_length'])} words.\")\n",
    "df = df.drop(columns=['question_length'])"
   ]
  },
  {
   "attachments": {},
   "cell_type": "markdown",
   "metadata": {},
   "source": [
    "#### Convert from DataFrame to Dataset & Split into Training/Testing/Evaluation Datasets"
   ]
  },
  {
   "cell_type": "code",
   "execution_count": 8,
   "metadata": {},
   "outputs": [
    {
     "name": "stdout",
     "output_type": "stream",
     "text": [
      "Training Dataset Shape: (8614, 4)\n",
      "Testing Dataset Shape: (1077, 4)\n",
      "Evaluation Dataset Shape: (1077, 4)\n",
      "{'context': Value(dtype='string', id=None), '0': Value(dtype='string', id=None), '1': Value(dtype='string', id=None), 'labels': Value(dtype='int64', id=None)}\n"
     ]
    }
   ],
   "source": [
    "dataset = Dataset.from_pandas(df)\n",
    "\n",
    "train_testeval = dataset.train_test_split(test_size=0.20)\n",
    "test_eval = train_testeval['test'].train_test_split(test_size=0.50)\n",
    "\n",
    "ds = DatasetDict({\n",
    "    'train' : train_testeval['train'],\n",
    "    'test' : test_eval['train'],\n",
    "    'eval' : test_eval['test'],\n",
    "})\n",
    "\n",
    "print(\"Training Dataset Shape:\", ds['train'].shape)\n",
    "print(\"Testing Dataset Shape:\", ds['test'].shape)\n",
    "print(\"Evaluation Dataset Shape:\", ds['eval'].shape)\n",
    "\n",
    "print(ds['train'].features)"
   ]
  },
  {
   "attachments": {},
   "cell_type": "markdown",
   "metadata": {},
   "source": [
    "#### Create Function to Display an Example Sample"
   ]
  },
  {
   "cell_type": "code",
   "execution_count": 9,
   "metadata": {},
   "outputs": [],
   "source": [
    "def show_one_example(sample):\n",
    "    print(f\"Context: {sample['context']}\")\n",
    "    print(f\" 0 - {sample['0']}\")\n",
    "    print(f\" 1 - {sample['1']}\")\n",
    "    print(f\"\\nGround Truth: option {sample['labels']}\")"
   ]
  },
  {
   "attachments": {},
   "cell_type": "markdown",
   "metadata": {},
   "source": [
    "#### Display an Example Sample"
   ]
  },
  {
   "cell_type": "code",
   "execution_count": 10,
   "metadata": {},
   "outputs": [
    {
     "name": "stdout",
     "output_type": "stream",
     "text": [
      "Context: The sandwich meat was as moist as a towelette\n",
      " 0 - The sandwich meat was moist.\n",
      " 1 - The sandwich meat was dry.\n",
      "\n",
      "Ground Truth: option 0\n"
     ]
    }
   ],
   "source": [
    "show_one_example(ds['train'][2])"
   ]
  },
  {
   "attachments": {},
   "cell_type": "markdown",
   "metadata": {},
   "source": [
    "#### Basic Values/Constants"
   ]
  },
  {
   "cell_type": "code",
   "execution_count": 11,
   "metadata": {},
   "outputs": [],
   "source": [
    "MODEL_CKPT = \"bert-base-uncased\"\n",
    "MODEL_NAME = MODEL_CKPT.split(\"/\")[-1] + \"-Figurative_Language\"\n",
    "\n",
    "STRATEGY = \"epoch\"\n",
    "LEARNING_RATE = 5e-5\n",
    "\n",
    "BATCH_SIZE = 16\n",
    "NUM_OF_EPOCHS = 5\n",
    "\n",
    "WEIGHT_DECAY = 0.01\n",
    "REPORTS_TO = \"tensorboard\"\n",
    "\n",
    "set_seed = 42"
   ]
  },
  {
   "attachments": {},
   "cell_type": "markdown",
   "metadata": {},
   "source": [
    "#### Instantiate Tokenizer"
   ]
  },
  {
   "cell_type": "code",
   "execution_count": 12,
   "metadata": {},
   "outputs": [],
   "source": [
    "tokenizer = AutoTokenizer.from_pretrained(MODEL_CKPT, use_fast=True)"
   ]
  },
  {
   "attachments": {},
   "cell_type": "markdown",
   "metadata": {},
   "source": [
    "#### Create Preprocessing Function"
   ]
  },
  {
   "cell_type": "code",
   "execution_count": 13,
   "metadata": {},
   "outputs": [],
   "source": [
    "ending_names = [\"0\", \"1\"]\n",
    "\n",
    "def preprocess_function(samples):\n",
    "    input_headers = samples[\"context\"]\n",
    "    input = [[f\"{header} {samples[end][i]}\" for end in ending_names] for i, header in enumerate(input_headers)]\n",
    "    \n",
    "    input = sum(input, [])\n",
    "    \n",
    "    tokenized_samples = tokenizer(input, truncation=True)\n",
    "    \n",
    "    return {k: [v[i:i + len(ending_names)] for i in range(0, len(v), len(ending_names))] \n",
    "            for k, v in tokenized_samples.items()}"
   ]
  },
  {
   "attachments": {},
   "cell_type": "markdown",
   "metadata": {},
   "source": [
    "#### Apply Preprocessing Function to Dataset"
   ]
  },
  {
   "cell_type": "code",
   "execution_count": 14,
   "metadata": {},
   "outputs": [
    {
     "data": {
      "application/vnd.jupyter.widget-view+json": {
       "model_id": "ab80b31515e143af9a8cb78f3ae9bd75",
       "version_major": 2,
       "version_minor": 0
      },
      "text/plain": [
       "Map:   0%|          | 0/8614 [00:00<?, ? examples/s]"
      ]
     },
     "metadata": {},
     "output_type": "display_data"
    },
    {
     "data": {
      "application/vnd.jupyter.widget-view+json": {
       "model_id": "ea4b97eddbc94d11a789ac26a4648d07",
       "version_major": 2,
       "version_minor": 0
      },
      "text/plain": [
       "Map:   0%|          | 0/1077 [00:00<?, ? examples/s]"
      ]
     },
     "metadata": {},
     "output_type": "display_data"
    },
    {
     "data": {
      "application/vnd.jupyter.widget-view+json": {
       "model_id": "12951f37af9d4b5f904ca0b71f4561e6",
       "version_major": 2,
       "version_minor": 0
      },
      "text/plain": [
       "Map:   0%|          | 0/1077 [00:00<?, ? examples/s]"
      ]
     },
     "metadata": {},
     "output_type": "display_data"
    }
   ],
   "source": [
    "encoded_ds = ds.map(preprocess_function, batched=True)"
   ]
  },
  {
   "cell_type": "code",
   "execution_count": 15,
   "metadata": {},
   "outputs": [
    {
     "data": {
      "text/plain": [
       "{'context': Value(dtype='string', id=None),\n",
       " '0': Value(dtype='string', id=None),\n",
       " '1': Value(dtype='string', id=None),\n",
       " 'labels': Value(dtype='int64', id=None),\n",
       " 'input_ids': Sequence(feature=Sequence(feature=Value(dtype='int32', id=None), length=-1, id=None), length=-1, id=None),\n",
       " 'token_type_ids': Sequence(feature=Sequence(feature=Value(dtype='int8', id=None), length=-1, id=None), length=-1, id=None),\n",
       " 'attention_mask': Sequence(feature=Sequence(feature=Value(dtype='int8', id=None), length=-1, id=None), length=-1, id=None)}"
      ]
     },
     "execution_count": 15,
     "metadata": {},
     "output_type": "execute_result"
    }
   ],
   "source": [
    "encoded_ds['train'].features"
   ]
  },
  {
   "cell_type": "code",
   "execution_count": 16,
   "metadata": {},
   "outputs": [
    {
     "data": {
      "text/plain": [
       "{'context': 'Adam is as strong as a tsunami.',\n",
       " '0': 'Adam is strong.',\n",
       " '1': 'Adam is weak.',\n",
       " 'labels': 0,\n",
       " 'input_ids': [[101,\n",
       "   4205,\n",
       "   2003,\n",
       "   2004,\n",
       "   2844,\n",
       "   2004,\n",
       "   1037,\n",
       "   19267,\n",
       "   1012,\n",
       "   4205,\n",
       "   2003,\n",
       "   2844,\n",
       "   1012,\n",
       "   102],\n",
       "  [101,\n",
       "   4205,\n",
       "   2003,\n",
       "   2004,\n",
       "   2844,\n",
       "   2004,\n",
       "   1037,\n",
       "   19267,\n",
       "   1012,\n",
       "   4205,\n",
       "   2003,\n",
       "   5410,\n",
       "   1012,\n",
       "   102]],\n",
       " 'token_type_ids': [[0, 0, 0, 0, 0, 0, 0, 0, 0, 0, 0, 0, 0, 0],\n",
       "  [0, 0, 0, 0, 0, 0, 0, 0, 0, 0, 0, 0, 0, 0]],\n",
       " 'attention_mask': [[1, 1, 1, 1, 1, 1, 1, 1, 1, 1, 1, 1, 1, 1],\n",
       "  [1, 1, 1, 1, 1, 1, 1, 1, 1, 1, 1, 1, 1, 1]]}"
      ]
     },
     "execution_count": 16,
     "metadata": {},
     "output_type": "execute_result"
    }
   ],
   "source": [
    "encoded_ds['train'][25]"
   ]
  },
  {
   "attachments": {},
   "cell_type": "markdown",
   "metadata": {},
   "source": [
    "#### Instantiate Model"
   ]
  },
  {
   "cell_type": "code",
   "execution_count": 17,
   "metadata": {},
   "outputs": [
    {
     "name": "stderr",
     "output_type": "stream",
     "text": [
      "Some weights of the model checkpoint at bert-base-uncased were not used when initializing BertForMultipleChoice: ['cls.predictions.transform.dense.bias', 'cls.seq_relationship.bias', 'cls.predictions.transform.LayerNorm.bias', 'cls.predictions.transform.LayerNorm.weight', 'cls.predictions.bias', 'cls.seq_relationship.weight', 'cls.predictions.transform.dense.weight']\n",
      "- This IS expected if you are initializing BertForMultipleChoice from the checkpoint of a model trained on another task or with another architecture (e.g. initializing a BertForSequenceClassification model from a BertForPreTraining model).\n",
      "- This IS NOT expected if you are initializing BertForMultipleChoice from the checkpoint of a model that you expect to be exactly identical (initializing a BertForSequenceClassification model from a BertForSequenceClassification model).\n",
      "Some weights of BertForMultipleChoice were not initialized from the model checkpoint at bert-base-uncased and are newly initialized: ['classifier.bias', 'classifier.weight']\n",
      "You should probably TRAIN this model on a down-stream task to be able to use it for predictions and inference.\n"
     ]
    }
   ],
   "source": [
    "model = AutoModelForMultipleChoice.from_pretrained(MODEL_CKPT)"
   ]
  },
  {
   "attachments": {},
   "cell_type": "markdown",
   "metadata": {},
   "source": [
    "#### Define TrainingArguments"
   ]
  },
  {
   "cell_type": "code",
   "execution_count": 18,
   "metadata": {},
   "outputs": [],
   "source": [
    "args = TrainingArguments(\n",
    "    output_dir=MODEL_NAME,\n",
    "    evaluation_strategy=STRATEGY,\n",
    "    learning_rate=LEARNING_RATE,\n",
    "    per_device_train_batch_size=BATCH_SIZE,\n",
    "    per_device_eval_batch_size=BATCH_SIZE,\n",
    "    num_train_epochs=NUM_OF_EPOCHS,\n",
    "    weight_decay=WEIGHT_DECAY,\n",
    "    report_to=REPORTS_TO,\n",
    "    logging_first_step=True,\n",
    "    group_by_length=True,\n",
    "    hub_private_repo=True,\n",
    "    push_to_hub=True\n",
    ")"
   ]
  },
  {
   "attachments": {},
   "cell_type": "markdown",
   "metadata": {},
   "source": [
    "#### Define Data Collator Class"
   ]
  },
  {
   "cell_type": "code",
   "execution_count": 19,
   "metadata": {},
   "outputs": [],
   "source": [
    "@dataclass\n",
    "class DataCollatorForMultipleChoice:\n",
    "    \"\"\"\n",
    "    Data collator that will dynamically pad inputs \n",
    "    for the multiple choices received.\n",
    "    \"\"\"\n",
    "\n",
    "    tokenizer: PreTrainedTokenizerBase\n",
    "    padding: Union[bool, str, PaddingStrategy] = True\n",
    "    max_length: Optional[int] = None\n",
    "    pad_to_multiple_of: Optional[int] = None\n",
    "    \n",
    "    def __call__(self, features):\n",
    "        label_name = \"label\" if \"label\" in features[0].keys() else \"labels\"\n",
    "        labels = [feature.pop(label_name) for feature in features]\n",
    "        batch_size = len(features)\n",
    "        num_choices = len(features[0][\"input_ids\"])\n",
    "        flattened_features = [[{k: v[i] for k, v in feature.items()} \n",
    "                               for i in range(num_choices)] for feature in features]\n",
    "        flattened_features = sum(flattened_features, [])\n",
    "        \n",
    "        batch = self.tokenizer.pad(\n",
    "            flattened_features,\n",
    "            padding=self.padding,\n",
    "            max_length=self.max_length,\n",
    "            pad_to_multiple_of=self.pad_to_multiple_of,\n",
    "            return_tensors=\"pt\",\n",
    "        )\n",
    "        \n",
    "        # Unflatten\n",
    "        batch = {k: v.view(batch_size, num_choices, -1) for k, v in batch.items()}\n",
    "        # Add back labels\n",
    "        batch[\"labels\"] = torch.tensor(labels, dtype=torch.int64)\n",
    "        return batch"
   ]
  },
  {
   "attachments": {},
   "cell_type": "markdown",
   "metadata": {},
   "source": [
    "#### Create Function to Compute Metrics"
   ]
  },
  {
   "cell_type": "code",
   "execution_count": 20,
   "metadata": {},
   "outputs": [],
   "source": [
    "def compute_metrics(predictions):\n",
    "    preds, labels = predictions\n",
    "    preds = np.argmax(preds, axis=1)\n",
    "    return {\"accuracy\": (preds == labels).astype(np.float32).mean().item()}"
   ]
  },
  {
   "attachments": {},
   "cell_type": "markdown",
   "metadata": {},
   "source": [
    "#### Instantiate Trainer"
   ]
  },
  {
   "cell_type": "code",
   "execution_count": 21,
   "metadata": {},
   "outputs": [
    {
     "name": "stderr",
     "output_type": "stream",
     "text": [
      "Cloning https://huggingface.co/DunnBC22/bert-base-uncased-Figurative_Language into local empty directory.\n"
     ]
    }
   ],
   "source": [
    "trainer = Trainer(\n",
    "    model=model,\n",
    "    args=args,\n",
    "    train_dataset=encoded_ds[\"train\"],\n",
    "    eval_dataset=encoded_ds[\"eval\"],\n",
    "    tokenizer=tokenizer,\n",
    "    data_collator=DataCollatorForMultipleChoice(tokenizer),\n",
    "    compute_metrics=compute_metrics,\n",
    ")"
   ]
  },
  {
   "attachments": {},
   "cell_type": "markdown",
   "metadata": {},
   "source": [
    "#### Train Model"
   ]
  },
  {
   "cell_type": "code",
   "execution_count": 22,
   "metadata": {},
   "outputs": [
    {
     "name": "stderr",
     "output_type": "stream",
     "text": [
      "/Users/briandunn/Desktop/python_venvs/torch_cv/lib/python3.9/site-packages/transformers/optimization.py:407: FutureWarning: This implementation of AdamW is deprecated and will be removed in a future version. Use the PyTorch implementation torch.optim.AdamW instead, or set `no_deprecation_warning=True` to disable this warning\n",
      "  warnings.warn(\n"
     ]
    },
    {
     "data": {
      "application/vnd.jupyter.widget-view+json": {
       "model_id": "c91e6b6032b6497393f7c54531acbd6f",
       "version_major": 2,
       "version_minor": 0
      },
      "text/plain": [
       "  0%|          | 0/2695 [00:00<?, ?it/s]"
      ]
     },
     "metadata": {},
     "output_type": "display_data"
    },
    {
     "name": "stderr",
     "output_type": "stream",
     "text": [
      "You're using a BertTokenizerFast tokenizer. Please note that with a fast tokenizer, using the `__call__` method is faster than using a method to encode the text followed by a call to the `pad` method to get a padded encoding.\n"
     ]
    },
    {
     "name": "stdout",
     "output_type": "stream",
     "text": [
      "{'loss': 0.7007, 'learning_rate': 4.998144712430427e-05, 'epoch': 0.0}\n",
      "{'loss': 0.6961, 'learning_rate': 4.072356215213358e-05, 'epoch': 0.93}\n"
     ]
    },
    {
     "data": {
      "application/vnd.jupyter.widget-view+json": {
       "model_id": "1bdac7662b584c3b8ffd72838250f201",
       "version_major": 2,
       "version_minor": 0
      },
      "text/plain": [
       "  0%|          | 0/68 [00:00<?, ?it/s]"
      ]
     },
     "metadata": {},
     "output_type": "display_data"
    },
    {
     "name": "stdout",
     "output_type": "stream",
     "text": [
      "{'eval_loss': 0.6931524276733398, 'eval_accuracy': 0.5190343260765076, 'eval_runtime': 72.6333, 'eval_samples_per_second': 14.828, 'eval_steps_per_second': 0.936, 'epoch': 1.0}\n",
      "{'loss': 0.6595, 'learning_rate': 3.144712430426716e-05, 'epoch': 1.86}\n"
     ]
    },
    {
     "data": {
      "application/vnd.jupyter.widget-view+json": {
       "model_id": "8bb5e2136b8d4b9286c67bc8f7fd0c7e",
       "version_major": 2,
       "version_minor": 0
      },
      "text/plain": [
       "  0%|          | 0/68 [00:00<?, ?it/s]"
      ]
     },
     "metadata": {},
     "output_type": "display_data"
    },
    {
     "name": "stdout",
     "output_type": "stream",
     "text": [
      "{'eval_loss': 0.5325652360916138, 'eval_accuracy': 0.7214484810829163, 'eval_runtime': 72.356, 'eval_samples_per_second': 14.885, 'eval_steps_per_second': 0.94, 'epoch': 2.0}\n",
      "{'loss': 0.4647, 'learning_rate': 2.2170686456400745e-05, 'epoch': 2.78}\n"
     ]
    },
    {
     "data": {
      "application/vnd.jupyter.widget-view+json": {
       "model_id": "69a373360cc34cc698b867e736fac61c",
       "version_major": 2,
       "version_minor": 0
      },
      "text/plain": [
       "  0%|          | 0/68 [00:00<?, ?it/s]"
      ]
     },
     "metadata": {},
     "output_type": "display_data"
    },
    {
     "name": "stdout",
     "output_type": "stream",
     "text": [
      "{'eval_loss': 0.46040698885917664, 'eval_accuracy': 0.7948004007339478, 'eval_runtime': 76.2862, 'eval_samples_per_second': 14.118, 'eval_steps_per_second': 0.891, 'epoch': 3.0}\n",
      "{'loss': 0.2884, 'learning_rate': 1.2894248608534323e-05, 'epoch': 3.71}\n"
     ]
    },
    {
     "data": {
      "application/vnd.jupyter.widget-view+json": {
       "model_id": "374e464f1a8d4050ac86c483285b4d9f",
       "version_major": 2,
       "version_minor": 0
      },
      "text/plain": [
       "  0%|          | 0/68 [00:00<?, ?it/s]"
      ]
     },
     "metadata": {},
     "output_type": "display_data"
    },
    {
     "name": "stdout",
     "output_type": "stream",
     "text": [
      "{'eval_loss': 0.6204126477241516, 'eval_accuracy': 0.8217270374298096, 'eval_runtime': 201.1568, 'eval_samples_per_second': 5.354, 'eval_steps_per_second': 0.338, 'epoch': 4.0}\n",
      "{'loss': 0.1702, 'learning_rate': 3.6178107606679037e-06, 'epoch': 4.64}\n"
     ]
    },
    {
     "data": {
      "application/vnd.jupyter.widget-view+json": {
       "model_id": "6d15c164a2ac4ab4b9b462582f84ed5c",
       "version_major": 2,
       "version_minor": 0
      },
      "text/plain": [
       "  0%|          | 0/68 [00:00<?, ?it/s]"
      ]
     },
     "metadata": {},
     "output_type": "display_data"
    },
    {
     "name": "stdout",
     "output_type": "stream",
     "text": [
      "{'eval_loss': 0.7629401087760925, 'eval_accuracy': 0.8124419450759888, 'eval_runtime': 185.9056, 'eval_samples_per_second': 5.793, 'eval_steps_per_second': 0.366, 'epoch': 5.0}\n",
      "{'train_runtime': 14610.358, 'train_samples_per_second': 2.948, 'train_steps_per_second': 0.184, 'train_loss': 0.4321850755882617, 'epoch': 5.0}\n"
     ]
    }
   ],
   "source": [
    "train_results = trainer.train()"
   ]
  },
  {
   "attachments": {},
   "cell_type": "markdown",
   "metadata": {},
   "source": [
    "#### Push to HuggingFace Hub"
   ]
  },
  {
   "cell_type": "code",
   "execution_count": 23,
   "metadata": {},
   "outputs": [
    {
     "data": {
      "application/vnd.jupyter.widget-view+json": {
       "model_id": "a749b231b3fd4eea9c637eefd7aec067",
       "version_major": 2,
       "version_minor": 0
      },
      "text/plain": [
       "Upload file pytorch_model.bin:   0%|          | 1.00/418M [00:00<?, ?B/s]"
      ]
     },
     "metadata": {},
     "output_type": "display_data"
    },
    {
     "data": {
      "application/vnd.jupyter.widget-view+json": {
       "model_id": "eb3030eada6c4bd5949e544c8db10a4e",
       "version_major": 2,
       "version_minor": 0
      },
      "text/plain": [
       "Upload file runs/Aug01_20-54-50_Brians-Mac-mini/events.out.tfevents.1690941296.Brians-Mac-mini.35857.0:   0%| …"
      ]
     },
     "metadata": {},
     "output_type": "display_data"
    },
    {
     "name": "stderr",
     "output_type": "stream",
     "text": [
      "To https://huggingface.co/DunnBC22/bert-base-uncased-Figurative_Language\n",
      "   e3eb0b1..8ac2634  main -> main\n",
      "\n",
      "To https://huggingface.co/DunnBC22/bert-base-uncased-Figurative_Language\n",
      "   8ac2634..ac9fac9  main -> main\n",
      "\n"
     ]
    },
    {
     "data": {
      "text/plain": [
       "'https://huggingface.co/DunnBC22/bert-base-uncased-Figurative_Language/commit/8ac2634393f4b9c0a7ff2aef785a47f15f39abc1'"
      ]
     },
     "execution_count": 23,
     "metadata": {},
     "output_type": "execute_result"
    }
   ],
   "source": [
    "trainer.push_to_hub()"
   ]
  },
  {
   "cell_type": "markdown",
   "metadata": {},
   "source": [
    "#### Save Model & Metrics"
   ]
  },
  {
   "cell_type": "code",
   "execution_count": 24,
   "metadata": {},
   "outputs": [
    {
     "name": "stdout",
     "output_type": "stream",
     "text": [
      "***** train metrics *****\n",
      "  epoch                    =        5.0\n",
      "  train_loss               =     0.4322\n",
      "  train_runtime            = 4:03:30.35\n",
      "  train_samples_per_second =      2.948\n",
      "  train_steps_per_second   =      0.184\n"
     ]
    }
   ],
   "source": [
    "trainer.save_model()\n",
    "trainer.log_metrics(\"train\", train_results.metrics)\n",
    "trainer.save_metrics(\"train\", train_results.metrics)\n",
    "trainer.save_state()"
   ]
  },
  {
   "attachments": {},
   "cell_type": "markdown",
   "metadata": {},
   "source": [
    "### Notes & Other Takeaways From This Project\n",
    "****\n",
    "- The results are about what I was expecting.\n",
    "\n",
    "****"
   ]
  },
  {
   "attachments": {},
   "cell_type": "markdown",
   "metadata": {},
   "source": [
    "#### Citation\n",
    "\n",
    "- Dataset \n",
    "    > @misc{https://doi.org/10.48550/arxiv.2204.12632, doi = {10.48550/ARXIV.2204.12632}, url = {https://arxiv.org/abs/2204.12632}, author = {Liu, Emmy and Cui, Chen and Zheng, Kenneth and Neubig, Graham}, keywords = {Computation and Language (cs.CL), Artificial Intelligence (cs.AI), FOS: Computer and information sciences, FOS: Computer and information sciences}, title = {Testing the Ability of Language Models to Interpret Figurative Language}, publisher = {arXiv}, year = {2022}, copyright = {Creative Commons Attribution Share Alike 4.0 International}}\n",
    "\n",
    "\n",
    "- Model Checkpoint\n",
    "    > @article{DBLP:journals/corr/abs-1810-04805, author = {Jacob Devlin and Ming{-}Wei Chang and Kenton Lee and Kristina Toutanova}, title = {{BERT:} Pre-training of Deep Bidirectional Transformers for Language Understanding}, journal = {CoRR}, volume = {abs/1810.04805}, year = {2018}, url = {http://arxiv.org/abs/1810.04805%7D, archivePrefix = {arXiv}, eprint = {1810.04805}, timestamp = {Tue, 30 Oct 2018 20:39:56 +0100}, biburl = {https://dblp.org/rec/journals/corr/abs-1810-04805.bib%7D, bibsource = {dblp computer science bibliography, https://dblp.org%7D\n",
    "}"
   ]
  }
 ],
 "metadata": {
  "kernelspec": {
   "display_name": "nlp_ml",
   "language": "python",
   "name": "python3"
  },
  "language_info": {
   "codemirror_mode": {
    "name": "ipython",
    "version": 3
   },
   "file_extension": ".py",
   "mimetype": "text/x-python",
   "name": "python",
   "nbconvert_exporter": "python",
   "pygments_lexer": "ipython3",
   "version": "3.9.12"
  },
  "orig_nbformat": 4,
  "vscode": {
   "interpreter": {
    "hash": "0b7a754c5aaaa44a21e2f2148f50b931a5abdffe7ef71537f5954179554f39df"
   }
  }
 },
 "nbformat": 4,
 "nbformat_minor": 2
}
