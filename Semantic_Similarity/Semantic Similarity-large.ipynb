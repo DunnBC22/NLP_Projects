{
 "cells": [
  {
   "attachments": {},
   "cell_type": "markdown",
   "metadata": {},
   "source": [
    "## Semantic Textual Similarity\n",
    "\n",
    "Source for Dataset: https://www.kaggle.com/datasets/quora/question-pairs-dataset"
   ]
  },
  {
   "cell_type": "code",
   "execution_count": 1,
   "metadata": {},
   "outputs": [
    {
     "name": "stdout",
     "output_type": "stream",
     "text": [
      "Requirement already satisfied: sentence_transformers in /Users/briandunn/Documents/deep_learning/audio_projects/lib/python3.9/site-packages (2.2.2)\n",
      "Requirement already satisfied: transformers<5.0.0,>=4.6.0 in /Users/briandunn/Documents/deep_learning/audio_projects/lib/python3.9/site-packages (from sentence_transformers) (4.28.1)\n",
      "Requirement already satisfied: tqdm in /Users/briandunn/Documents/deep_learning/audio_projects/lib/python3.9/site-packages (from sentence_transformers) (4.65.0)\n",
      "Requirement already satisfied: torch>=1.6.0 in /Users/briandunn/Documents/deep_learning/audio_projects/lib/python3.9/site-packages (from sentence_transformers) (2.0.1)\n",
      "Requirement already satisfied: torchvision in /Users/briandunn/Documents/deep_learning/audio_projects/lib/python3.9/site-packages (from sentence_transformers) (0.15.2)\n",
      "Requirement already satisfied: numpy in /Users/briandunn/Documents/deep_learning/audio_projects/lib/python3.9/site-packages (from sentence_transformers) (1.25.0)\n",
      "Requirement already satisfied: scikit-learn in /Users/briandunn/Documents/deep_learning/audio_projects/lib/python3.9/site-packages (from sentence_transformers) (1.2.2)\n",
      "Requirement already satisfied: scipy in /Users/briandunn/Documents/deep_learning/audio_projects/lib/python3.9/site-packages (from sentence_transformers) (1.10.1)\n",
      "Requirement already satisfied: nltk in /Users/briandunn/Documents/deep_learning/audio_projects/lib/python3.9/site-packages (from sentence_transformers) (3.8.1)\n",
      "Requirement already satisfied: sentencepiece in /Users/briandunn/Documents/deep_learning/audio_projects/lib/python3.9/site-packages (from sentence_transformers) (0.1.99)\n",
      "Requirement already satisfied: huggingface-hub>=0.4.0 in /Users/briandunn/Documents/deep_learning/audio_projects/lib/python3.9/site-packages (from sentence_transformers) (0.15.1)\n",
      "Requirement already satisfied: filelock in /Users/briandunn/Documents/deep_learning/audio_projects/lib/python3.9/site-packages (from huggingface-hub>=0.4.0->sentence_transformers) (3.12.2)\n",
      "Requirement already satisfied: fsspec in /Users/briandunn/Documents/deep_learning/audio_projects/lib/python3.9/site-packages (from huggingface-hub>=0.4.0->sentence_transformers) (2023.6.0)\n",
      "Requirement already satisfied: requests in /Users/briandunn/Documents/deep_learning/audio_projects/lib/python3.9/site-packages (from huggingface-hub>=0.4.0->sentence_transformers) (2.31.0)\n",
      "Requirement already satisfied: pyyaml>=5.1 in /Users/briandunn/Documents/deep_learning/audio_projects/lib/python3.9/site-packages (from huggingface-hub>=0.4.0->sentence_transformers) (6.0)\n",
      "Requirement already satisfied: typing-extensions>=3.7.4.3 in /Users/briandunn/Documents/deep_learning/audio_projects/lib/python3.9/site-packages (from huggingface-hub>=0.4.0->sentence_transformers) (4.5.0)\n",
      "Requirement already satisfied: packaging>=20.9 in /Users/briandunn/Documents/deep_learning/audio_projects/lib/python3.9/site-packages (from huggingface-hub>=0.4.0->sentence_transformers) (23.1)\n",
      "Requirement already satisfied: sympy in /Users/briandunn/Documents/deep_learning/audio_projects/lib/python3.9/site-packages (from torch>=1.6.0->sentence_transformers) (1.12)\n",
      "Requirement already satisfied: networkx in /Users/briandunn/Documents/deep_learning/audio_projects/lib/python3.9/site-packages (from torch>=1.6.0->sentence_transformers) (3.1)\n",
      "Requirement already satisfied: jinja2 in /Users/briandunn/Documents/deep_learning/audio_projects/lib/python3.9/site-packages (from torch>=1.6.0->sentence_transformers) (3.1.2)\n",
      "Requirement already satisfied: regex!=2019.12.17 in /Users/briandunn/Documents/deep_learning/audio_projects/lib/python3.9/site-packages (from transformers<5.0.0,>=4.6.0->sentence_transformers) (2023.6.3)\n",
      "Requirement already satisfied: tokenizers!=0.11.3,<0.14,>=0.11.1 in /Users/briandunn/Documents/deep_learning/audio_projects/lib/python3.9/site-packages (from transformers<5.0.0,>=4.6.0->sentence_transformers) (0.13.3)\n",
      "Requirement already satisfied: click in /Users/briandunn/Documents/deep_learning/audio_projects/lib/python3.9/site-packages (from nltk->sentence_transformers) (8.1.3)\n",
      "Requirement already satisfied: joblib in /Users/briandunn/Documents/deep_learning/audio_projects/lib/python3.9/site-packages (from nltk->sentence_transformers) (1.2.0)\n",
      "Requirement already satisfied: threadpoolctl>=2.0.0 in /Users/briandunn/Documents/deep_learning/audio_projects/lib/python3.9/site-packages (from scikit-learn->sentence_transformers) (3.1.0)\n",
      "Requirement already satisfied: pillow!=8.3.*,>=5.3.0 in /Users/briandunn/Documents/deep_learning/audio_projects/lib/python3.9/site-packages (from torchvision->sentence_transformers) (9.5.0)\n",
      "Requirement already satisfied: MarkupSafe>=2.0 in /Users/briandunn/Documents/deep_learning/audio_projects/lib/python3.9/site-packages (from jinja2->torch>=1.6.0->sentence_transformers) (2.1.3)\n",
      "Requirement already satisfied: charset-normalizer<4,>=2 in /Users/briandunn/Documents/deep_learning/audio_projects/lib/python3.9/site-packages (from requests->huggingface-hub>=0.4.0->sentence_transformers) (3.1.0)\n",
      "Requirement already satisfied: idna<4,>=2.5 in /Users/briandunn/Documents/deep_learning/audio_projects/lib/python3.9/site-packages (from requests->huggingface-hub>=0.4.0->sentence_transformers) (3.4)\n",
      "Requirement already satisfied: urllib3<3,>=1.21.1 in /Users/briandunn/Documents/deep_learning/audio_projects/lib/python3.9/site-packages (from requests->huggingface-hub>=0.4.0->sentence_transformers) (1.26.16)\n",
      "Requirement already satisfied: certifi>=2017.4.17 in /Users/briandunn/Documents/deep_learning/audio_projects/lib/python3.9/site-packages (from requests->huggingface-hub>=0.4.0->sentence_transformers) (2023.5.7)\n",
      "Requirement already satisfied: mpmath>=0.19 in /Users/briandunn/Documents/deep_learning/audio_projects/lib/python3.9/site-packages (from sympy->torch>=1.6.0->sentence_transformers) (1.3.0)\n",
      "Note: you may need to restart the kernel to use updated packages.\n"
     ]
    }
   ],
   "source": [
    "%pip install sentence_transformers"
   ]
  },
  {
   "attachments": {},
   "cell_type": "markdown",
   "metadata": {},
   "source": [
    "#### Import Necessary Libraries"
   ]
  },
  {
   "cell_type": "code",
   "execution_count": 2,
   "metadata": {},
   "outputs": [],
   "source": [
    "import sys, os, math, random, re, logging\n",
    "os.environ['TOKENIZERS_PARALLELISM']='false'\n",
    "\n",
    "import numpy as np\n",
    "import pandas as pd\n",
    "import matplotlib.pyplot as plt\n",
    "\n",
    "import sklearn\n",
    "from sklearn.model_selection import train_test_split\n",
    "from sklearn.metrics import confusion_matrix, ConfusionMatrixDisplay\n",
    "\n",
    "import torch\n",
    "from torch import nn\n",
    "from torch.utils.data import DataLoader, random_split\n",
    "\n",
    "from sentence_transformers import SentenceTransformer, models, util, losses, LoggingHandler, evaluation, InputExample\n",
    "from sentence_transformers.evaluation import EmbeddingSimilarityEvaluator"
   ]
  },
  {
   "attachments": {},
   "cell_type": "markdown",
   "metadata": {},
   "source": [
    "#### Versions of Libraries"
   ]
  },
  {
   "cell_type": "code",
   "execution_count": 3,
   "metadata": {},
   "outputs": [
    {
     "name": "stdout",
     "output_type": "stream",
     "text": [
      "Python:    3.9.12\n",
      "NumPy:     1.25.0\n",
      "Pandas:    2.0.2\n",
      "Torch:     2.0.1\n",
      "Sklearn:   1.2.2\n"
     ]
    }
   ],
   "source": [
    "print(\"Python:\".ljust(10), sys.version[0:6])\n",
    "print(\"NumPy:\".ljust(10), np.__version__)\n",
    "print(\"Pandas:\".ljust(10), pd.__version__)\n",
    "print(\"Torch:\".ljust(10), torch.__version__)\n",
    "print(\"Sklearn:\".ljust(10), sklearn.__version__)"
   ]
  },
  {
   "attachments": {},
   "cell_type": "markdown",
   "metadata": {},
   "source": [
    "#### Ingest & Preprocess Dataset"
   ]
  },
  {
   "cell_type": "code",
   "execution_count": 4,
   "metadata": {},
   "outputs": [
    {
     "name": "stdout",
     "output_type": "stream",
     "text": [
      "<class 'pandas.core.frame.DataFrame'>\n",
      "Index: 404348 entries, 0 to 404350\n",
      "Data columns (total 5 columns):\n",
      " #   Column  Non-Null Count   Dtype \n",
      "---  ------  --------------   ----- \n",
      " 0   qid1    404348 non-null  int32 \n",
      " 1   qid2    404348 non-null  int32 \n",
      " 2   q1      404348 non-null  object\n",
      " 3   q2      404348 non-null  object\n",
      " 4   labels  404348 non-null  int32 \n",
      "dtypes: int32(3), object(2)\n",
      "memory usage: 13.9+ MB\n"
     ]
    }
   ],
   "source": [
    "cols2use = [\n",
    "    'qid1', \n",
    "    'qid2', \n",
    "    'question1', \n",
    "    'question2', \n",
    "    'is_duplicate'\n",
    "    ]\n",
    "\n",
    "col_types = {\n",
    "    'qid1': np.int32, \n",
    "    'qid2': np.int32, \n",
    "    'question1' : str, \n",
    "    'question2' : str, \n",
    "    'is_duplicate': np.int32\n",
    "    }\n",
    "\n",
    "data = pd.read_csv('questions.csv', \n",
    "                   usecols=cols2use, \n",
    "                   dtype=col_types)\n",
    "\n",
    "data = data.rename(columns=\n",
    "                   {\n",
    "                       'question1' : 'q1', \n",
    "                       'question2' : 'q2', \n",
    "                       'is_duplicate' : 'labels'\n",
    "                    }\n",
    "                )\n",
    "\n",
    "data = data.dropna()\n",
    "data = data.drop_duplicates()\n",
    "\n",
    "data.info()"
   ]
  },
  {
   "attachments": {},
   "cell_type": "markdown",
   "metadata": {},
   "source": [
    "#### Visualize: Length of First Question (in Words) by Class"
   ]
  },
  {
   "cell_type": "code",
   "execution_count": 5,
   "metadata": {},
   "outputs": [
    {
     "data": {
      "image/png": "[encoded data removed]",
      "text/plain": [
       "<Figure size 640x480 with 1 Axes>"
      ]
     },
     "metadata": {},
     "output_type": "display_data"
    }
   ],
   "source": [
    "data['q1_len'] = data['q1'].str.split().apply(len)\n",
    "\n",
    "data.boxplot(\"q1_len\", by=\"labels\", grid=False, showfliers=False, color=\"Blue\")\n",
    "plt.suptitle('')\n",
    "plt.title('Question 1 Length')\n",
    "plt.xlabel('Result Type')\n",
    "plt.ylabel('Length (in Words)')\n",
    "plt.show()\n",
    "\n",
    "data.drop(columns=['q1_len'], inplace=True)"
   ]
  },
  {
   "attachments": {},
   "cell_type": "markdown",
   "metadata": {},
   "source": [
    "#### Visualize: Length of Second Question (in Words) by Class"
   ]
  },
  {
   "cell_type": "code",
   "execution_count": 6,
   "metadata": {},
   "outputs": [
    {
     "data": {
      "image/png": "[encoded data removed]",
      "text/plain": [
       "<Figure size 640x480 with 1 Axes>"
      ]
     },
     "metadata": {},
     "output_type": "display_data"
    }
   ],
   "source": [
    "data['q2_len'] = data['q2'].str.split().apply(len)\n",
    "\n",
    "data.boxplot(\"q2_len\", by=\"labels\", grid=False, showfliers=False, color=\"Blue\")\n",
    "plt.suptitle('')\n",
    "plt.title('Question 2 Length')\n",
    "plt.xlabel('Result Type')\n",
    "plt.ylabel('Length (in Words)')\n",
    "plt.show()\n",
    "\n",
    "data.drop(columns=['q2_len'], inplace=True)"
   ]
  },
  {
   "attachments": {},
   "cell_type": "markdown",
   "metadata": {},
   "source": [
    "#### Create Function to Visualize Class Distribution (Barplot)"
   ]
  },
  {
   "cell_type": "code",
   "execution_count": 7,
   "metadata": {},
   "outputs": [],
   "source": [
    "def barplot_visual(feature_to_visualize: pd.Series,\n",
    "                   plot_title: str,\n",
    "                   x_label: str,\n",
    "                   y_label: str = \"# of Samples\",\n",
    "                   rotation: np.uint8 = 0,\n",
    "                   annotations: bool = True,\n",
    "\n",
    "                   ):\n",
    "    \"\"\"\n",
    "    This function returns a histogram for a feature.\n",
    "\n",
    "    Inputs:\n",
    "    - feature_to_visualize: Feature to plot in the form\n",
    "    of pandas Series.\n",
    "    - plot_title: The title of the plot/visual.\n",
    "    - x_label: The string label value for the x label.\n",
    "    - y_label: The string label value for the y label.\n",
    "    - rotation: Integer value of the rotation of x-tick\n",
    "        values\n",
    "    - annotations: If count of each unique value in\n",
    "        feature is included in visualization\n",
    "\n",
    "    Output:\n",
    "    - A Bar Plot.\n",
    "    \"\"\"\n",
    "\n",
    "    assert type(feature_to_visualize) == pd.Series, \\\n",
    "        \"Make sure the dataset input type is a Pandas Series.\"\n",
    "    assert type(plot_title) != 'str', \\\n",
    "        \"The title value must be a string value.\"\n",
    "    assert type(x_label) !=  'str', \\\n",
    "        \"The x label value must be a string value.\"\n",
    "    assert type(y_label) != 'str', \\\n",
    "        \"The y label value must be a string value.\"\n",
    "    assert type(rotation) != np.uint8, \\\n",
    "        \"The rotation value must be between 0 and 255.\"\n",
    "\n",
    "    ax = feature_to_visualize.value_counts().plot.bar(\n",
    "                                                      figsize=(12,8),\n",
    "                                                      rot=rotation,\n",
    "                                                      legend=False,\n",
    "                                                      color=[\"lightgreen\",\n",
    "                                                             \"blue\",\n",
    "                                                             \"brown\",\n",
    "                                                             \"lightblue\",\n",
    "                                                             \"tan\",\n",
    "                                                             \"yellow\",\n",
    "                                                             \"orange\",\n",
    "                                                             \"green\",\n",
    "                                                             \"red\",\n",
    "                                                             \"purple\"]\n",
    "                                                      )\n",
    "    if annotations:\n",
    "        ax.bar_label(ax.containers[0])\n",
    "\n",
    "    plt.suptitle('')\n",
    "    plt.title(plot_title)\n",
    "    plt.ylabel(y_label)\n",
    "    plt.xlabel(x_label)\n",
    "\n",
    "    plt.show()"
   ]
  },
  {
   "attachments": {},
   "cell_type": "markdown",
   "metadata": {},
   "source": [
    "#### Visualize Class Distribution"
   ]
  },
  {
   "cell_type": "code",
   "execution_count": 8,
   "metadata": {},
   "outputs": [
    {
     "data": {
      "image/png": "[encoded data removed]",
      "text/plain": [
       "<Figure size 1200x800 with 1 Axes>"
      ]
     },
     "metadata": {},
     "output_type": "display_data"
    }
   ],
   "source": [
    "barplot_visual(data[\"labels\"],\n",
    "               \"Class Distribution\",\n",
    "               \"Class\",\n",
    "               \"# of Samples\")"
   ]
  },
  {
   "attachments": {},
   "cell_type": "markdown",
   "metadata": {},
   "source": [
    "#### Train/Eval Split"
   ]
  },
  {
   "cell_type": "code",
   "execution_count": 9,
   "metadata": {},
   "outputs": [
    {
     "name": "stdout",
     "output_type": "stream",
     "text": [
      "Training Data Shape: (323478, 5)\n",
      "Evaluation Data Shape: (80870, 5)\n"
     ]
    }
   ],
   "source": [
    "train_ds, eval_ds = train_test_split(data, test_size=0.20, random_state=42)\n",
    "\n",
    "print(f\"Training Data Shape: {train_ds.shape}\")\n",
    "print(f\"Evaluation Data Shape: {eval_ds.shape}\")"
   ]
  },
  {
   "attachments": {},
   "cell_type": "markdown",
   "metadata": {},
   "source": [
    "#### Instantiate Logging Function"
   ]
  },
  {
   "cell_type": "code",
   "execution_count": 10,
   "metadata": {},
   "outputs": [],
   "source": [
    "logging.basicConfig(format='%(asctime)s - %(message)s',\n",
    "                    datefmt='%Y-%m-%d %H:%M:%S',\n",
    "                    level=logging.INFO,\n",
    "                    handlers=[LoggingHandler()])\n",
    "logger = logging.getLogger(__name__)"
   ]
  },
  {
   "attachments": {},
   "cell_type": "markdown",
   "metadata": {},
   "source": [
    "#### Encode Dataset & Instantiate the Model"
   ]
  },
  {
   "cell_type": "code",
   "execution_count": 31,
   "metadata": {},
   "outputs": [
    {
     "name": "stdout",
     "output_type": "stream",
     "text": [
      "2023-06-26 00:10:16 - Load pretrained SentenceTransformer: sentence-transformers/sentence-t5-large\n"
     ]
    },
    {
     "data": {
      "application/vnd.jupyter.widget-view+json": {
       "model_id": "06c84eb259184bd2a6f88c85772390b2",
       "version_major": 2,
       "version_minor": 0
      },
      "text/plain": [
       "Batches:   0%|          | 0/1 [00:00<?, ?it/s]"
      ]
     },
     "metadata": {},
     "output_type": "display_data"
    }
   ],
   "source": [
    "model_ckpt = \"sentence-transformers/sentence-t5-large\"\n",
    "device=torch.device(\"cpu\")\n",
    "\n",
    "model = SentenceTransformer(model_ckpt, device=device)\n",
    "model.max_seq_length = 34\n",
    "\n",
    "embeddings = model.encode(['q1', 'q2'], show_progress_bar=True)\n",
    "\n",
    "distance_metric = losses.SiameseDistanceMetric.COSINE_DISTANCE\n",
    "\n",
    "margin = 0.50\n",
    "\n",
    "num_of_epochs = 1\n",
    "\n",
    "training_batch_size = 64\n",
    "testing_batch_size = 16\n",
    "\n",
    "model_save_path = f\"{model_ckpt.split('/')[-1]}-FT-Quora_Sentence_Similarity-400\"\n",
    "\n",
    "dataset_path = '/Users/briandunn/Desktop/Semantic Similarity/nlp_ch4/sentence-t5-large-FT-Quora_Sentence_Similarity-400'\n",
    "os.makedirs(model_save_path, exist_ok=True)"
   ]
  },
  {
   "attachments": {},
   "cell_type": "markdown",
   "metadata": {},
   "source": [
    "#### Assign Training Samples to DataLoader (InputExample)"
   ]
  },
  {
   "cell_type": "code",
   "execution_count": 12,
   "metadata": {},
   "outputs": [],
   "source": [
    "train_samples = []\n",
    "\n",
    "for index, row in train_ds.iterrows():\n",
    "    sample = InputExample(texts=[row['q1'], row['q2']], label=int(row['labels']))\n",
    "    train_samples.append(sample)\n",
    "\n",
    "train_dataloader = DataLoader(train_samples, shuffle=True, batch_size=training_batch_size)\n",
    "train_loss = losses.OnlineContrastiveLoss(model=model, distance_metric=distance_metric, margin=margin)"
   ]
  },
  {
   "attachments": {},
   "cell_type": "markdown",
   "metadata": {},
   "source": [
    "#### Set Up Validation Dataset"
   ]
  },
  {
   "cell_type": "code",
   "execution_count": 13,
   "metadata": {},
   "outputs": [],
   "source": [
    "dev_sentences1 = []\n",
    "dev_sentences2 = []\n",
    "dev_labels = []\n",
    "\n",
    "for index, row in eval_ds.iterrows(): \n",
    "    dev_sentences1.append(row['q1'])\n",
    "    dev_sentences2.append(row['q2'])\n",
    "    dev_labels.append(row['labels'])"
   ]
  },
  {
   "attachments": {},
   "cell_type": "markdown",
   "metadata": {},
   "source": [
    "#### Create Function to Compute Metrics"
   ]
  },
  {
   "cell_type": "code",
   "execution_count": 14,
   "metadata": {},
   "outputs": [],
   "source": [
    "binary_acc_evaluator = evaluation.BinaryClassificationEvaluator(dev_sentences1, \n",
    "                                                                dev_sentences2, \n",
    "                                                                dev_labels, \n",
    "                                                                show_progress_bar=True, \n",
    "                                                                batch_size=testing_batch_size,\n",
    "                                                                name=\"Quora_Sentence_Similarity_Metrics-400\",\n",
    "                                                                write_csv=True)"
   ]
  },
  {
   "attachments": {},
   "cell_type": "markdown",
   "metadata": {},
   "source": [
    "#### Train Model"
   ]
  },
  {
   "cell_type": "code",
   "execution_count": 15,
   "metadata": {},
   "outputs": [
    {
     "data": {
      "application/vnd.jupyter.widget-view+json": {
       "model_id": "bbe3b2ca483b4fe09f51f154ef662aff",
       "version_major": 2,
       "version_minor": 0
      },
      "text/plain": [
       "Epoch:   0%|          | 0/1 [00:00<?, ?it/s]"
      ]
     },
     "metadata": {},
     "output_type": "display_data"
    },
    {
     "data": {
      "application/vnd.jupyter.widget-view+json": {
       "model_id": "5ed804abc138457a8e282e3a33e921fa",
       "version_major": 2,
       "version_minor": 0
      },
      "text/plain": [
       "Iteration:   0%|          | 0/5055 [00:00<?, ?it/s]"
      ]
     },
     "metadata": {},
     "output_type": "display_data"
    },
    {
     "name": "stdout",
     "output_type": "stream",
     "text": [
      "2023-06-22 18:50:39 - Save model to checkpoints_400/500\n",
      "2023-06-23 03:05:59 - Save model to checkpoints_400/1000\n",
      "2023-06-23 11:09:38 - Save model to checkpoints_400/1500\n",
      "2023-06-23 19:18:03 - Save model to checkpoints_400/2000\n",
      "2023-06-24 03:10:58 - Save model to checkpoints_400/2500\n",
      "2023-06-24 10:59:04 - Save model to checkpoints_400/3000\n",
      "2023-06-24 19:04:19 - Save model to checkpoints_400/3500\n",
      "2023-06-25 03:06:55 - Save model to checkpoints_400/4000\n",
      "2023-06-25 11:09:41 - Save model to checkpoints_400/4500\n",
      "2023-06-25 19:32:27 - Save model to checkpoints_400/5000\n",
      "2023-06-25 20:25:13 - Binary Accuracy Evaluation of the model on Quora_Sentence_Similarity_Metrics-400 dataset after epoch 0:\n"
     ]
    },
    {
     "data": {
      "application/vnd.jupyter.widget-view+json": {
       "model_id": "d39bef009b1645139eb38341ee03a274",
       "version_major": 2,
       "version_minor": 0
      },
      "text/plain": [
       "Batches:   0%|          | 0/8598 [00:00<?, ?it/s]"
      ]
     },
     "metadata": {},
     "output_type": "display_data"
    },
    {
     "name": "stdout",
     "output_type": "stream",
     "text": [
      "2023-06-25 23:53:38 - Accuracy with Cosine-Similarity:           88.72\t(Threshold: 0.8397)\n",
      "2023-06-25 23:53:38 - F1 with Cosine-Similarity:                 85.22\t(Threshold: 0.8223)\n",
      "2023-06-25 23:53:38 - Precision with Cosine-Similarity:          80.72\n",
      "2023-06-25 23:53:38 - Recall with Cosine-Similarity:             90.25\n",
      "2023-06-25 23:53:38 - Average Precision with Cosine-Similarity:  89.75\n",
      "\n",
      "2023-06-25 23:53:38 - Accuracy with Manhattan-Distance:           88.71\t(Threshold: 12.4351)\n",
      "2023-06-25 23:53:38 - F1 with Manhattan-Distance:                 85.22\t(Threshold: 13.2209)\n",
      "2023-06-25 23:53:38 - Precision with Manhattan-Distance:          80.58\n",
      "2023-06-25 23:53:38 - Recall with Manhattan-Distance:             90.42\n",
      "2023-06-25 23:53:38 - Average Precision with Manhattan-Distance:  89.74\n",
      "\n",
      "2023-06-25 23:53:38 - Accuracy with Euclidean-Distance:           88.72\t(Threshold: 0.5662)\n",
      "2023-06-25 23:53:38 - F1 with Euclidean-Distance:                 85.22\t(Threshold: 0.5962)\n",
      "2023-06-25 23:53:38 - Precision with Euclidean-Distance:          80.72\n",
      "2023-06-25 23:53:38 - Recall with Euclidean-Distance:             90.25\n",
      "2023-06-25 23:53:38 - Average Precision with Euclidean-Distance:  89.75\n",
      "\n",
      "2023-06-25 23:53:39 - Accuracy with Dot-Product:           88.72\t(Threshold: 0.8397)\n",
      "2023-06-25 23:53:39 - F1 with Dot-Product:                 85.22\t(Threshold: 0.8223)\n",
      "2023-06-25 23:53:39 - Precision with Dot-Product:          80.72\n",
      "2023-06-25 23:53:39 - Recall with Dot-Product:             90.25\n",
      "2023-06-25 23:53:39 - Average Precision with Dot-Product:  89.75\n",
      "\n",
      "2023-06-25 23:53:39 - Save model to sentence-t5-large-FT-Quora_Sentence_Similarity-400\n",
      "2023-06-25 23:53:41 - Save model to checkpoints_400/5055\n"
     ]
    }
   ],
   "source": [
    "model.fit(train_objectives=[(train_dataloader, train_loss)],  \n",
    "          evaluator = binary_acc_evaluator, \n",
    "          epochs=num_of_epochs, \n",
    "          warmup_steps=20,\n",
    "          output_path=model_save_path, \n",
    "          show_progress_bar=True,\n",
    "          checkpoint_path='checkpoints_400/', \n",
    "          checkpoint_save_steps=500,\n",
    "          checkpoint_save_total_limit=10)"
   ]
  },
  {
   "attachments": {},
   "cell_type": "markdown",
   "metadata": {},
   "source": [
    "#### Saving Model to HuggingFace Hub (My Profile)"
   ]
  },
  {
   "cell_type": "code",
   "execution_count": null,
   "metadata": {},
   "outputs": [],
   "source": [
    "model.save_to_hub(model_save_path, private=True)"
   ]
  },
  {
   "attachments": {},
   "cell_type": "markdown",
   "metadata": {},
   "source": [
    "### Notes & Other Takeaways From This Project\n",
    "\n",
    "****\n",
    "- I ran into an error that with uploading the project to the HuggingFace Hub. I am pretty sure that I was able to find the fix (to upgrade the HuggingFace Hub library version- which I did), but in order for it to work ,I would have had to restart the kernel (and thus, retrain the entire project). To make this work without retraining the entire project, I just manually uploaded the project files to the Hub!\n",
    "\n",
    "- Also, I cleared out the error to keep everything looking clean!\n",
    "\n",
    "****"
   ]
  },
  {
   "attachments": {},
   "cell_type": "markdown",
   "metadata": {},
   "source": [
    "### Citation\n",
    "\n",
    "- Model Checkpoint\n",
    "\n",
    "    > Jianmo Ni, Gustavo Hernandez Abrego, Noah Constant, Ji Ma, Keith Hall, Daniel Cer, and Yinfei Yang. 2022. Sentence-T5: Scalable Sentence Encoders from Pre-trained Text-to-Text Models. In Findings of the Association for Computational Linguistics: ACL 2022, pages 1864–1874, Dublin, Ireland. Association for Computational Linguistics."
   ]
  }
 ],
 "metadata": {
  "kernelspec": {
   "display_name": "Python 3 (ipykernel)",
   "language": "python",
   "name": "python3"
  },
  "language_info": {
   "codemirror_mode": {
    "name": "ipython",
    "version": 3
   },
   "file_extension": ".py",
   "mimetype": "text/x-python",
   "name": "python",
   "nbconvert_exporter": "python",
   "pygments_lexer": "ipython3",
   "version": "3.9.12"
  },
  "vscode": {
   "interpreter": {
    "hash": "41bc52750e0704433c7c40a5c68d8f60e760babe95f2dffc82e8c3790208ff57"
   }
  }
 },
 "nbformat": 4,
 "nbformat_minor": 2
}
