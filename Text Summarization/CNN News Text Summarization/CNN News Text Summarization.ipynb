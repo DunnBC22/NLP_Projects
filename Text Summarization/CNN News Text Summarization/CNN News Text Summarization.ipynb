{
 "cells": [
  {
   "cell_type": "markdown",
   "metadata": {},
   "source": [
    "## Text Summarization of CNN News Articles from 2011 to 2022 Using BART-Base Transformer"
   ]
  },
  {
   "cell_type": "markdown",
   "metadata": {},
   "source": [
    "Model Named on My HuggingFace Profile: 'bart-base-News_Summarization_CNN'\n",
    "\n",
    "\n",
    "Source for Dataset: https://www.kaggle.com/datasets/hadasu92/cnn-articles-after-basic-cleaning"
   ]
  },
  {
   "cell_type": "markdown",
   "metadata": {},
   "source": [
    "### Exploratory Data Analysis"
   ]
  },
  {
   "cell_type": "markdown",
   "metadata": {},
   "source": [
    "#### Importing Necessary Libraries"
   ]
  },
  {
   "cell_type": "code",
   "execution_count": 1,
   "metadata": {},
   "outputs": [],
   "source": [
    "import os, sys\n",
    "os.environ['TOKENIZERS_PARALLELISM']='false'\n",
    "\n",
    "import torch\n",
    "import torch.nn\n",
    "\n",
    "import pandas as pd\n",
    "import numpy as np\n",
    "\n",
    "from tqdm import tqdm\n",
    "\n",
    "import matplotlib.pyplot as plt\n",
    "\n",
    "from transformers import set_seed, BartForConditionalGeneration, BartTokenizer\n",
    "from transformers import DataCollatorForSeq2Seq, Seq2SeqTrainingArguments, Seq2SeqTrainer \n",
    "\n",
    "from datasets import Dataset, DatasetDict, load_metric, load_dataset"
   ]
  },
  {
   "cell_type": "markdown",
   "metadata": {},
   "source": [
    "#### Versions of Some Necessary Libraries Used"
   ]
  },
  {
   "cell_type": "code",
   "execution_count": 2,
   "metadata": {},
   "outputs": [
    {
     "name": "stdout",
     "output_type": "stream",
     "text": [
      "Pandas:  1.4.4\n",
      "NumPy:   1.23.3\n",
      "Torch:   1.12.1\n",
      "Python:  3.9.7 \n"
     ]
    }
   ],
   "source": [
    "print(\"Pandas:\".ljust(8), pd.__version__)\n",
    "print(\"NumPy:\".ljust(8), np.__version__)\n",
    "print(\"Torch:\".ljust(8), torch.__version__)\n",
    "print(\"Python:\".ljust(8), sys.version[0:6])"
   ]
  },
  {
   "cell_type": "markdown",
   "metadata": {},
   "source": [
    "#### Ingest Dataset into Pandas"
   ]
  },
  {
   "cell_type": "code",
   "execution_count": 3,
   "metadata": {},
   "outputs": [
    {
     "name": "stdout",
     "output_type": "stream",
     "text": [
      "<class 'pandas.core.frame.DataFrame'>\n",
      "Int64Index: 42016 entries, 0 to 42024\n",
      "Data columns (total 2 columns):\n",
      " #   Column   Non-Null Count  Dtype \n",
      "---  ------   --------------  ----- \n",
      " 0   summary  42016 non-null  object\n",
      " 1   article  42016 non-null  object\n",
      "dtypes: object(2)\n",
      "memory usage: 984.8+ KB\n"
     ]
    }
   ],
   "source": [
    "data_1 = pd.read_csv('~/Desktop/Text Summarization/CNN News/CNN_Articles_clean-LG.csv', encoding_errors='ignore')\n",
    "data_2 = pd.read_csv('~/Desktop/Text Summarization/CNN News/CNN_Articles_clean-sm.csv', encoding_errors='ignore')\n",
    "\n",
    "data = pd.concat([data_1, data_2])\n",
    "data.reset_index(inplace=True, drop=True)\n",
    "data.drop(columns=['Index', 'Author', 'Date published', 'Category', 'Section', 'Url', 'Headline', 'Keywords', 'Second headline'], inplace=True)\n",
    "data.rename(columns={ 'Article text' : 'article', 'Description' : 'summary' }, inplace=True)\n",
    "data.dropna(inplace=True) # 9 articles were dropped\n",
    "data.info()"
   ]
  },
  {
   "cell_type": "markdown",
   "metadata": {},
   "source": [
    "#### Remove Unnecessary Whitespace"
   ]
  },
  {
   "cell_type": "code",
   "execution_count": 4,
   "metadata": {},
   "outputs": [
    {
     "data": {
      "text/html": [
       "<div>\n",
       "<style scoped>\n",
       "    .dataframe tbody tr th:only-of-type {\n",
       "        vertical-align: middle;\n",
       "    }\n",
       "\n",
       "    .dataframe tbody tr th {\n",
       "        vertical-align: top;\n",
       "    }\n",
       "\n",
       "    .dataframe thead th {\n",
       "        text-align: right;\n",
       "    }\n",
       "</style>\n",
       "<table border=\"1\" class=\"dataframe\">\n",
       "  <thead>\n",
       "    <tr style=\"text-align: right;\">\n",
       "      <th></th>\n",
       "      <th>summary</th>\n",
       "      <th>article</th>\n",
       "    </tr>\n",
       "  </thead>\n",
       "  <tbody>\n",
       "    <tr>\n",
       "      <th>0</th>\n",
       "      <td>The e-commerce boom has exacerbated a global t...</td>\n",
       "      <td>(CNN)Right now, there's a shortage of truck d...</td>\n",
       "    </tr>\n",
       "    <tr>\n",
       "      <th>1</th>\n",
       "      <td>Working in a factory can mean doing the same t...</td>\n",
       "      <td>(CNN)Working in a factory or warehouse can me...</td>\n",
       "    </tr>\n",
       "    <tr>\n",
       "      <th>2</th>\n",
       "      <td>In a Hong Kong warehouse, a swarm of autonomou...</td>\n",
       "      <td>(CNN)In a Hong Kong warehouse, a swarm of aut...</td>\n",
       "    </tr>\n",
       "    <tr>\n",
       "      <th>3</th>\n",
       "      <td>Here's a look at how the pandemic reshaped peo...</td>\n",
       "      <td>The pandemic thrust the working world into a n...</td>\n",
       "    </tr>\n",
       "    <tr>\n",
       "      <th>4</th>\n",
       "      <td>March Madness isn't just for college basketbal...</td>\n",
       "      <td>New York (CNN Business)March Madness isn't jus...</td>\n",
       "    </tr>\n",
       "    <tr>\n",
       "      <th>...</th>\n",
       "      <td>...</td>\n",
       "      <td>...</td>\n",
       "    </tr>\n",
       "    <tr>\n",
       "      <th>42011</th>\n",
       "      <td>The Australian Open's Covid-19 vaccine mandate...</td>\n",
       "      <td>(Reuters)The Australian Open's Covid-19 vacci...</td>\n",
       "    </tr>\n",
       "    <tr>\n",
       "      <th>42012</th>\n",
       "      <td>Four golfers scheduled to play in the South Af...</td>\n",
       "      <td>(CNN)Four golfers scheduled to play in the So...</td>\n",
       "    </tr>\n",
       "    <tr>\n",
       "      <th>42013</th>\n",
       "      <td>Long-time International Olympic Committee (IOC...</td>\n",
       "      <td>(CNN)Long-time International Olympic Committe...</td>\n",
       "    </tr>\n",
       "    <tr>\n",
       "      <th>42014</th>\n",
       "      <td>A Norwegian technology company has found a way...</td>\n",
       "      <td>A Norwegian technology company has found a way...</td>\n",
       "    </tr>\n",
       "    <tr>\n",
       "      <th>42015</th>\n",
       "      <td>Tiger Woods is the rarest of athletes. At his ...</td>\n",
       "      <td>This story was excerpted from the November 23 ...</td>\n",
       "    </tr>\n",
       "  </tbody>\n",
       "</table>\n",
       "<p>42016 rows × 2 columns</p>\n",
       "</div>"
      ],
      "text/plain": [
       "                                                 summary  \\\n",
       "0      The e-commerce boom has exacerbated a global t...   \n",
       "1      Working in a factory can mean doing the same t...   \n",
       "2      In a Hong Kong warehouse, a swarm of autonomou...   \n",
       "3      Here's a look at how the pandemic reshaped peo...   \n",
       "4      March Madness isn't just for college basketbal...   \n",
       "...                                                  ...   \n",
       "42011  The Australian Open's Covid-19 vaccine mandate...   \n",
       "42012  Four golfers scheduled to play in the South Af...   \n",
       "42013  Long-time International Olympic Committee (IOC...   \n",
       "42014  A Norwegian technology company has found a way...   \n",
       "42015  Tiger Woods is the rarest of athletes. At his ...   \n",
       "\n",
       "                                                 article  \n",
       "0       (CNN)Right now, there's a shortage of truck d...  \n",
       "1       (CNN)Working in a factory or warehouse can me...  \n",
       "2       (CNN)In a Hong Kong warehouse, a swarm of aut...  \n",
       "3      The pandemic thrust the working world into a n...  \n",
       "4      New York (CNN Business)March Madness isn't jus...  \n",
       "...                                                  ...  \n",
       "42011   (Reuters)The Australian Open's Covid-19 vacci...  \n",
       "42012   (CNN)Four golfers scheduled to play in the So...  \n",
       "42013   (CNN)Long-time International Olympic Committe...  \n",
       "42014  A Norwegian technology company has found a way...  \n",
       "42015  This story was excerpted from the November 23 ...  \n",
       "\n",
       "[42016 rows x 2 columns]"
      ]
     },
     "execution_count": 4,
     "metadata": {},
     "output_type": "execute_result"
    }
   ],
   "source": [
    "# Replace the '\\n' with a space\n",
    "data.replace('\\n', ' ', inplace=True, regex=True)\n",
    "data.replace('  ', ' ', inplace=True, regex=True)\n",
    "data.reset_index(drop=True, inplace=True)\n",
    "\n",
    "data"
   ]
  },
  {
   "cell_type": "markdown",
   "metadata": {},
   "source": [
    "#### Visualize Length of Each Article"
   ]
  },
  {
   "cell_type": "code",
   "execution_count": 5,
   "metadata": {},
   "outputs": [
    {
     "data": {
      "image/png": "[encoded data removed]",
      "text/plain": [
       "<Figure size 1200x500 with 1 Axes>"
      ]
     },
     "metadata": {},
     "output_type": "display_data"
    }
   ],
   "source": [
    "data['article_length'] = data['article'].str.split().apply(len)\n",
    "\n",
    "data.hist(\"article_length\", grid=True, color=\"Blue\", figsize=(12,5), bins=425, range=(0,850))\n",
    "plt.suptitle('')\n",
    "plt.xlabel('Article Length (in Words)')\n",
    "plt.ylabel('# of Articles w/ That Length')\n",
    "plt.title('Article Length')\n",
    "plt.show()"
   ]
  },
  {
   "cell_type": "markdown",
   "metadata": {},
   "source": [
    "#### Visualize Length of Each Summary"
   ]
  },
  {
   "cell_type": "code",
   "execution_count": 6,
   "metadata": {},
   "outputs": [
    {
     "data": {
      "image/png": "[encoded data removed]",
      "text/plain": [
       "<Figure size 1000x400 with 1 Axes>"
      ]
     },
     "metadata": {},
     "output_type": "display_data"
    }
   ],
   "source": [
    "data['summary_length'] = data['summary'].str.split().apply(len)\n",
    "\n",
    "data.hist(\"summary_length\", grid=True, color=\"Blue\", figsize=(10, 4), bins=100)\n",
    "plt.suptitle('')\n",
    "plt.xlabel('Summary Length (in Words)')\n",
    "plt.ylabel('# of Summaries w/ That Length')\n",
    "plt.title('Summary Length')\n",
    "plt.show()"
   ]
  },
  {
   "cell_type": "markdown",
   "metadata": {},
   "source": [
    "#### Trimmed Dataset Based on Article &/or Summary Length"
   ]
  },
  {
   "cell_type": "code",
   "execution_count": 7,
   "metadata": {},
   "outputs": [
    {
     "data": {
      "text/html": [
       "<div>\n",
       "<style scoped>\n",
       "    .dataframe tbody tr th:only-of-type {\n",
       "        vertical-align: middle;\n",
       "    }\n",
       "\n",
       "    .dataframe tbody tr th {\n",
       "        vertical-align: top;\n",
       "    }\n",
       "\n",
       "    .dataframe thead th {\n",
       "        text-align: right;\n",
       "    }\n",
       "</style>\n",
       "<table border=\"1\" class=\"dataframe\">\n",
       "  <thead>\n",
       "    <tr style=\"text-align: right;\">\n",
       "      <th></th>\n",
       "      <th>summary</th>\n",
       "      <th>article</th>\n",
       "    </tr>\n",
       "  </thead>\n",
       "  <tbody>\n",
       "    <tr>\n",
       "      <th>2</th>\n",
       "      <td>In a Hong Kong warehouse, a swarm of autonomou...</td>\n",
       "      <td>(CNN)In a Hong Kong warehouse, a swarm of aut...</td>\n",
       "    </tr>\n",
       "    <tr>\n",
       "      <th>4</th>\n",
       "      <td>March Madness isn't just for college basketbal...</td>\n",
       "      <td>New York (CNN Business)March Madness isn't jus...</td>\n",
       "    </tr>\n",
       "    <tr>\n",
       "      <th>6</th>\n",
       "      <td>Governments around the world must consider dra...</td>\n",
       "      <td>New York (CNN Business)Governments around the ...</td>\n",
       "    </tr>\n",
       "    <tr>\n",
       "      <th>8</th>\n",
       "      <td>Inflation is everywhere: grocery stores, gas s...</td>\n",
       "      <td>New York (CNN Business)Inflation is everywhere...</td>\n",
       "    </tr>\n",
       "    <tr>\n",
       "      <th>9</th>\n",
       "      <td>Burger King is trying to suspend its operation...</td>\n",
       "      <td>New York (CNN Business)Burger King is trying t...</td>\n",
       "    </tr>\n",
       "    <tr>\n",
       "      <th>...</th>\n",
       "      <td>...</td>\n",
       "      <td>...</td>\n",
       "    </tr>\n",
       "    <tr>\n",
       "      <th>42010</th>\n",
       "      <td>French side Troyes has alleged that South Kore...</td>\n",
       "      <td>(CNN)French side Troyes has alleged that Sout...</td>\n",
       "    </tr>\n",
       "    <tr>\n",
       "      <th>42011</th>\n",
       "      <td>The Australian Open's Covid-19 vaccine mandate...</td>\n",
       "      <td>(Reuters)The Australian Open's Covid-19 vacci...</td>\n",
       "    </tr>\n",
       "    <tr>\n",
       "      <th>42012</th>\n",
       "      <td>Four golfers scheduled to play in the South Af...</td>\n",
       "      <td>(CNN)Four golfers scheduled to play in the So...</td>\n",
       "    </tr>\n",
       "    <tr>\n",
       "      <th>42013</th>\n",
       "      <td>Long-time International Olympic Committee (IOC...</td>\n",
       "      <td>(CNN)Long-time International Olympic Committe...</td>\n",
       "    </tr>\n",
       "    <tr>\n",
       "      <th>42014</th>\n",
       "      <td>A Norwegian technology company has found a way...</td>\n",
       "      <td>A Norwegian technology company has found a way...</td>\n",
       "    </tr>\n",
       "  </tbody>\n",
       "</table>\n",
       "<p>24911 rows × 2 columns</p>\n",
       "</div>"
      ],
      "text/plain": [
       "                                                 summary  \\\n",
       "2      In a Hong Kong warehouse, a swarm of autonomou...   \n",
       "4      March Madness isn't just for college basketbal...   \n",
       "6      Governments around the world must consider dra...   \n",
       "8      Inflation is everywhere: grocery stores, gas s...   \n",
       "9      Burger King is trying to suspend its operation...   \n",
       "...                                                  ...   \n",
       "42010  French side Troyes has alleged that South Kore...   \n",
       "42011  The Australian Open's Covid-19 vaccine mandate...   \n",
       "42012  Four golfers scheduled to play in the South Af...   \n",
       "42013  Long-time International Olympic Committee (IOC...   \n",
       "42014  A Norwegian technology company has found a way...   \n",
       "\n",
       "                                                 article  \n",
       "2       (CNN)In a Hong Kong warehouse, a swarm of aut...  \n",
       "4      New York (CNN Business)March Madness isn't jus...  \n",
       "6      New York (CNN Business)Governments around the ...  \n",
       "8      New York (CNN Business)Inflation is everywhere...  \n",
       "9      New York (CNN Business)Burger King is trying t...  \n",
       "...                                                  ...  \n",
       "42010   (CNN)French side Troyes has alleged that Sout...  \n",
       "42011   (Reuters)The Australian Open's Covid-19 vacci...  \n",
       "42012   (CNN)Four golfers scheduled to play in the So...  \n",
       "42013   (CNN)Long-time International Olympic Committe...  \n",
       "42014  A Norwegian technology company has found a way...  \n",
       "\n",
       "[24911 rows x 2 columns]"
      ]
     },
     "execution_count": 7,
     "metadata": {},
     "output_type": "execute_result"
    }
   ],
   "source": [
    "data = data[data['article_length'] < 820]\n",
    "data = data[data['summary_length'] < 52]\n",
    "\n",
    "data = data.drop(columns=['article_length', 'summary_length'])\n",
    "data"
   ]
  },
  {
   "cell_type": "markdown",
   "metadata": {},
   "source": [
    "### Actual Project"
   ]
  },
  {
   "cell_type": "markdown",
   "metadata": {},
   "source": [
    "#### Define Basic Constants/Values"
   ]
  },
  {
   "cell_type": "code",
   "execution_count": 8,
   "metadata": {},
   "outputs": [],
   "source": [
    "model_ckpt = 'facebook/bart-base'\n",
    "device=\"cpu\"\n",
    "\n",
    "max_input_length = 1024\n",
    "max_target_length = int((52*1.3)+1)\n",
    "\n",
    "set_seed(42)"
   ]
  },
  {
   "cell_type": "markdown",
   "metadata": {},
   "source": [
    "#### Convert Pandas DataFrame to Datasets Format; Then Split into Train/Test/Valid Datasets"
   ]
  },
  {
   "cell_type": "code",
   "execution_count": 9,
   "metadata": {},
   "outputs": [
    {
     "name": "stdout",
     "output_type": "stream",
     "text": [
      "Training Data Shape: (17437, 3)\n",
      "Testing Data Shape: (3737, 3)\n",
      "Validation Data Shape: (3737, 3)\n"
     ]
    }
   ],
   "source": [
    "# Convert pandas dataframe to a dataset\n",
    "dataset = Dataset.from_pandas(data)\n",
    "\n",
    "# Split the datasetdict into train/test/valid subsets\n",
    "train_testvalid = dataset.train_test_split(test_size=0.30)\n",
    "test_valid = train_testvalid['test'].train_test_split(test_size=0.50)\n",
    "\n",
    "# Combine the train/test/valid into one datasetdict\n",
    "dataset = DatasetDict({\n",
    "    'train' : train_testvalid['train'],\n",
    "    'test' : test_valid['test'],\n",
    "    'valid' : test_valid['train']\n",
    "})\n",
    "\n",
    "print('Training Data Shape:', dataset['train'].shape)\n",
    "print('Testing Data Shape:', dataset['test'].shape)\n",
    "print('Validation Data Shape:', dataset['valid'].shape)"
   ]
  },
  {
   "cell_type": "markdown",
   "metadata": {},
   "source": [
    "#### Make Sure git lfs is Installed; Remember to Enter Access Token"
   ]
  },
  {
   "cell_type": "code",
   "execution_count": 10,
   "metadata": {},
   "outputs": [
    {
     "name": "stdout",
     "output_type": "stream",
     "text": [
      "Git LFS initialized.\n"
     ]
    }
   ],
   "source": [
    "# Access Token from HuggingFace...\n",
    "\n",
    "!git lfs install"
   ]
  },
  {
   "cell_type": "markdown",
   "metadata": {},
   "source": [
    "#### Instantiate both Tokenizer and Model"
   ]
  },
  {
   "cell_type": "code",
   "execution_count": 11,
   "metadata": {},
   "outputs": [],
   "source": [
    "tokenizer = BartTokenizer.from_pretrained(model_ckpt, truncation=True, padding=True, batched=True, batch_size=None)\n",
    "\n",
    "pipe = None\n",
    "\n",
    "model = BartForConditionalGeneration.from_pretrained(model_ckpt)"
   ]
  },
  {
   "cell_type": "markdown",
   "metadata": {},
   "source": [
    "#### Create Function to Tokenize & Return Necessary Inputs for Batches of Samples"
   ]
  },
  {
   "cell_type": "code",
   "execution_count": 12,
   "metadata": {},
   "outputs": [],
   "source": [
    "def convert_examples_to_features(ex_batch):\n",
    "    input_encodings = tokenizer(ex_batch['article'], max_length=max_input_length, truncation=True, padding=True)\n",
    "    with tokenizer.as_target_tokenizer():\n",
    "        target_encodings = tokenizer(ex_batch['summary'], max_length=max_target_length, truncation=True, padding=True)\n",
    "    return {\"input_ids\" : input_encodings[\"input_ids\"],\n",
    "            \"attention_mask\" : input_encodings[\"attention_mask\"],\n",
    "            \"labels\" : target_encodings[\"input_ids\"],}"
   ]
  },
  {
   "cell_type": "markdown",
   "metadata": {},
   "source": [
    "#### Apply Above Function to Dataset"
   ]
  },
  {
   "cell_type": "code",
   "execution_count": 13,
   "metadata": {},
   "outputs": [
    {
     "data": {
      "application/vnd.jupyter.widget-view+json": {
       "model_id": "6c4613988fa447b2b87c41702d20ee66",
       "version_major": 2,
       "version_minor": 0
      },
      "text/plain": [
       "  0%|          | 0/18 [00:00<?, ?ba/s]"
      ]
     },
     "metadata": {},
     "output_type": "display_data"
    },
    {
     "data": {
      "application/vnd.jupyter.widget-view+json": {
       "model_id": "ba35bd9adf814404ab92bd6c3719bc3d",
       "version_major": 2,
       "version_minor": 0
      },
      "text/plain": [
       "  0%|          | 0/4 [00:00<?, ?ba/s]"
      ]
     },
     "metadata": {},
     "output_type": "display_data"
    },
    {
     "data": {
      "application/vnd.jupyter.widget-view+json": {
       "model_id": "7ab2b3f1319843708f7c025c747b9efb",
       "version_major": 2,
       "version_minor": 0
      },
      "text/plain": [
       "  0%|          | 0/4 [00:00<?, ?ba/s]"
      ]
     },
     "metadata": {},
     "output_type": "display_data"
    }
   ],
   "source": [
    "encoded_ds = dataset.map(convert_examples_to_features, batched=True)\n",
    "encoded_ds.set_format(type=\"torch\", columns=['input_ids', 'labels', 'attention_mask'])"
   ]
  },
  {
   "cell_type": "markdown",
   "metadata": {},
   "source": [
    "#### Instantiate TrainingArguments"
   ]
  },
  {
   "cell_type": "code",
   "execution_count": 14,
   "metadata": {},
   "outputs": [],
   "source": [
    "batch_size = 16\n",
    "num_of_epochs = 2\n",
    "learning_rate=2e-5\n",
    "\n",
    "model_name = f\"{model_ckpt.split('/')[-1]}-News_Summarization_CNN\"\n",
    "\n",
    "training_args = Seq2SeqTrainingArguments(output_dir=model_name,\n",
    "                        num_train_epochs=num_of_epochs,\n",
    "                        learning_rate=learning_rate,\n",
    "                        per_device_train_batch_size=1,\n",
    "                        per_device_eval_batch_size=1,\n",
    "                        weight_decay=0.01,\n",
    "                        evaluation_strategy=\"epoch\",\n",
    "                        save_strategy=\"epoch\",\n",
    "                        logging_strategy=\"epoch\",\n",
    "                        logging_first_step=True,\n",
    "                        warmup_steps=100,\n",
    "                        disable_tqdm=False,\n",
    "                        push_to_hub=True,\n",
    "                        gradient_accumulation_steps=16,\n",
    "                        log_level=\"error\")"
   ]
  },
  {
   "cell_type": "markdown",
   "metadata": {},
   "source": [
    "#### Create Function to Computes Metrics"
   ]
  },
  {
   "cell_type": "code",
   "execution_count": 15,
   "metadata": {},
   "outputs": [],
   "source": [
    "rouge_metric = load_metric(\"rouge\")\n",
    "rouge_names = [\"rouge1\", \"rouge2\", \"rougeL\", \"rougeLsum\"]\n",
    "\n",
    "def chunks(list_of_elements, batch_size):\n",
    "    for i in range(0, len(list_of_elements), batch_size):\n",
    "        yield list_of_elements[i : i + batch_size]\n",
    "\n",
    "def compute_metrics(dataset, metric, model, tokenizer, column_text=\"Article\", column_summary=\"Summary\", batch_size=16, device=device):\n",
    "    article_batches = list(chunks(dataset[column_text], batch_size))\n",
    "    target_batches = list(chunks(dataset[column_summary], batch_size))\n",
    "    \n",
    "    for article_batch, target_batch in tqdm(\n",
    "        zip(article_batches, target_batches), total=len(article_batches)):\n",
    "        inputs = tokenizer(article_batch, max_length=max_input_length, truncation=True, padding=\"max_length\", return_tensors=\"pt\")\n",
    "        summaries = model.generate(input_ids=inputs[\"input_ids\"].to(device), \n",
    "                                   attention_mask=inputs[\"attention_mask\"].to(device), \n",
    "                                   length_penalty=0.8, num_beams=8, max_length=max_target_length)\n",
    "        decoded_summaries = [tokenizer.decode(s, skip_special_tokens=True, clean_up_tokenization_spaces=True) for s in summaries]\n",
    "        decoded_summaries = [d.replace(\"<n>\", \" \") for d in decoded_summaries]\n",
    "        metric.add_batch(predictions=decoded_summaries, references=target_batch)\n",
    "        \n",
    "    score = metric.compute()\n",
    "    return score"
   ]
  },
  {
   "cell_type": "markdown",
   "metadata": {},
   "source": [
    "#### Instantiate Data Collator"
   ]
  },
  {
   "cell_type": "code",
   "execution_count": 16,
   "metadata": {},
   "outputs": [],
   "source": [
    "seq2seq_data_collator = DataCollatorForSeq2Seq(tokenizer, model=model)"
   ]
  },
  {
   "cell_type": "markdown",
   "metadata": {},
   "source": [
    "#### Instantiate Trainer"
   ]
  },
  {
   "cell_type": "code",
   "execution_count": 17,
   "metadata": {},
   "outputs": [
    {
     "name": "stderr",
     "output_type": "stream",
     "text": [
      "Cloning https://huggingface.co/DunnBC22/bart-base-News_Summarization_CNN into local empty directory.\n"
     ]
    }
   ],
   "source": [
    "trainer = Seq2SeqTrainer(model=model, \n",
    "                  args=training_args,\n",
    "                  data_collator=seq2seq_data_collator,\n",
    "                  train_dataset=encoded_ds['train'], \n",
    "                  eval_dataset=encoded_ds['valid'], \n",
    "                  tokenizer=tokenizer) "
   ]
  },
  {
   "cell_type": "markdown",
   "metadata": {},
   "source": [
    "#### Train Model"
   ]
  },
  {
   "cell_type": "code",
   "execution_count": 18,
   "metadata": {},
   "outputs": [
    {
     "name": "stderr",
     "output_type": "stream",
     "text": [
      "/Users/leedunn/Documents/nlpnn/nlp/lib/python3.9/site-packages/transformers/optimization.py:306: FutureWarning: This implementation of AdamW is deprecated and will be removed in a future version. Use the PyTorch implementation torch.optim.AdamW instead, or set `no_deprecation_warning=True` to disable this warning\n",
      "  warnings.warn(\n"
     ]
    },
    {
     "data": {
      "application/vnd.jupyter.widget-view+json": {
       "model_id": "125fb0a2640c4a68994f05115e23c5a2",
       "version_major": 2,
       "version_minor": 0
      },
      "text/plain": [
       "  0%|          | 0/2178 [00:00<?, ?it/s]"
      ]
     },
     "metadata": {},
     "output_type": "display_data"
    },
    {
     "name": "stdout",
     "output_type": "stream",
     "text": [
      "{'loss': 8.6945, 'learning_rate': 2.0000000000000002e-07, 'epoch': 0.0}\n",
      "{'loss': 0.7491, 'learning_rate': 1.0481231953801734e-05, 'epoch': 1.0}\n"
     ]
    },
    {
     "data": {
      "application/vnd.jupyter.widget-view+json": {
       "model_id": "219925014bfa424587e6df1a41dd0c0f",
       "version_major": 2,
       "version_minor": 0
      },
      "text/plain": [
       "  0%|          | 0/3737 [00:00<?, ?it/s]"
      ]
     },
     "metadata": {},
     "output_type": "display_data"
    },
    {
     "name": "stdout",
     "output_type": "stream",
     "text": [
      "{'eval_loss': 0.16182495653629303, 'eval_runtime': 9259.8829, 'eval_samples_per_second': 0.404, 'eval_steps_per_second': 0.404, 'epoch': 1.0}\n",
      "{'loss': 0.1641, 'learning_rate': 0.0, 'epoch': 2.0}\n"
     ]
    },
    {
     "data": {
      "application/vnd.jupyter.widget-view+json": {
       "model_id": "0a7a781a6beb41d99228341e95575547",
       "version_major": 2,
       "version_minor": 0
      },
      "text/plain": [
       "  0%|          | 0/3737 [00:00<?, ?it/s]"
      ]
     },
     "metadata": {},
     "output_type": "display_data"
    },
    {
     "name": "stdout",
     "output_type": "stream",
     "text": [
      "{'eval_loss': 0.16027750074863434, 'eval_runtime': 9262.2796, 'eval_samples_per_second': 0.403, 'eval_steps_per_second': 0.403, 'epoch': 2.0}\n",
      "{'train_runtime': 335422.6152, 'train_samples_per_second': 0.104, 'train_steps_per_second': 0.006, 'train_loss': 0.4602588941680936, 'epoch': 2.0}\n"
     ]
    },
    {
     "data": {
      "text/plain": [
       "TrainOutput(global_step=2178, training_loss=0.4602588941680936, metrics={'train_runtime': 335422.6152, 'train_samples_per_second': 0.104, 'train_steps_per_second': 0.006, 'train_loss': 0.4602588941680936, 'epoch': 2.0})"
      ]
     },
     "execution_count": 18,
     "metadata": {},
     "output_type": "execute_result"
    }
   ],
   "source": [
    "trainer.train()"
   ]
  },
  {
   "cell_type": "markdown",
   "metadata": {},
   "source": [
    "### Model Evaluation"
   ]
  },
  {
   "cell_type": "markdown",
   "metadata": {},
   "source": [
    "#### Compute & Print Metrics"
   ]
  },
  {
   "cell_type": "code",
   "execution_count": 19,
   "metadata": {},
   "outputs": [
    {
     "name": "stderr",
     "output_type": "stream",
     "text": [
      "100%|██████████| 1869/1869 [7:40:57<00:00, 14.80s/it]  \n"
     ]
    },
    {
     "data": {
      "text/html": [
       "<div>\n",
       "<style scoped>\n",
       "    .dataframe tbody tr th:only-of-type {\n",
       "        vertical-align: middle;\n",
       "    }\n",
       "\n",
       "    .dataframe tbody tr th {\n",
       "        vertical-align: top;\n",
       "    }\n",
       "\n",
       "    .dataframe thead th {\n",
       "        text-align: right;\n",
       "    }\n",
       "</style>\n",
       "<table border=\"1\" class=\"dataframe\">\n",
       "  <thead>\n",
       "    <tr style=\"text-align: right;\">\n",
       "      <th></th>\n",
       "      <th>rouge1</th>\n",
       "      <th>rouge2</th>\n",
       "      <th>rougeL</th>\n",
       "      <th>rougeLsum</th>\n",
       "    </tr>\n",
       "  </thead>\n",
       "  <tbody>\n",
       "    <tr>\n",
       "      <th>Bart</th>\n",
       "      <td>0.834343</td>\n",
       "      <td>0.793822</td>\n",
       "      <td>0.823824</td>\n",
       "      <td>0.823778</td>\n",
       "    </tr>\n",
       "  </tbody>\n",
       "</table>\n",
       "</div>"
      ],
      "text/plain": [
       "        rouge1    rouge2    rougeL  rougeLsum\n",
       "Bart  0.834343  0.793822  0.823824   0.823778"
      ]
     },
     "execution_count": 19,
     "metadata": {},
     "output_type": "execute_result"
    }
   ],
   "source": [
    "rouge_metric = load_metric(\"rouge\")\n",
    "rouge_names = [\"rouge1\", \"rouge2\", \"rougeL\", \"rougeLsum\"]\n",
    "\n",
    "score = compute_metrics(dataset[\"test\"], \n",
    "                        rouge_metric, \n",
    "                        trainer.model, \n",
    "                        tokenizer, \n",
    "                        batch_size=2, \n",
    "                        column_text='article', \n",
    "                        column_summary='summary')\n",
    "\n",
    "rouge_dict = dict((rn, score[rn].mid.fmeasure) for rn in rouge_names)\n",
    "pd.DataFrame(rouge_dict, index=[f\"Bart\"])"
   ]
  },
  {
   "cell_type": "markdown",
   "metadata": {},
   "source": [
    "#### Print Out Full Rouge Metric Dictionary"
   ]
  },
  {
   "cell_type": "code",
   "execution_count": 20,
   "metadata": {},
   "outputs": [
    {
     "name": "stdout",
     "output_type": "stream",
     "text": [
      "Full Score Dictionary:\n",
      " {'rouge1': AggregateScore(low=Score(precision=0.8465172290593844, recall=0.8230634876648629, fmeasure=0.8253616382865302), mid=Score(precision=0.8554626058292405, recall=0.832143343451353, fmeasure=0.8343428092722153), high=Score(precision=0.864100795850301, recall=0.8410917175302814, fmeasure=0.8430688881451012)), 'rouge2': AggregateScore(low=Score(precision=0.8027988309374968, recall=0.7792167045083119, fmeasure=0.7827912990006063), mid=Score(precision=0.8139825239861607, recall=0.790253158772376, fmeasure=0.7938221833260837), high=Score(precision=0.8242419777572593, recall=0.8001259974854276, fmeasure=0.8038658485984091)), 'rougeL': AggregateScore(low=Score(precision=0.8350250547695109, recall=0.811167477994666, fmeasure=0.8140738072859143), mid=Score(precision=0.8445663668522989, recall=0.8208684193723186, fmeasure=0.8238239740773983), high=Score(precision=0.8535744231866808, recall=0.8300267283303028, fmeasure=0.8327368567020003)), 'rougeLsum': AggregateScore(low=Score(precision=0.8349541662480361, recall=0.8110854234213696, fmeasure=0.8144124426681009), mid=Score(precision=0.8443749350849128, recall=0.8209223433418715, fmeasure=0.823778065602399), high=Score(precision=0.8533774657681825, recall=0.830564671538135, fmeasure=0.8331707967687749))}\n"
     ]
    }
   ],
   "source": [
    "print(\"Full Score Dictionary:\\n\", score)"
   ]
  },
  {
   "cell_type": "markdown",
   "metadata": {},
   "source": [
    "### Push Fine-Tuned Model to HuggingFace Hub (My Profile)"
   ]
  },
  {
   "cell_type": "code",
   "execution_count": 21,
   "metadata": {},
   "outputs": [
    {
     "name": "stderr",
     "output_type": "stream",
     "text": [
      "To https://huggingface.co/DunnBC22/bart-base-News_Summarization_CNN\n",
      "   f75d28b..fc91e6e  main -> main\n",
      "\n",
      "WARNING:huggingface_hub.repository:To https://huggingface.co/DunnBC22/bart-base-News_Summarization_CNN\n",
      "   f75d28b..fc91e6e  main -> main\n",
      "\n"
     ]
    }
   ],
   "source": [
    "trainer.push_to_hub(commit_message=\"All Dunn!\")"
   ]
  }
 ],
 "metadata": {
  "kernelspec": {
   "display_name": "Python 3.9.7 ('nlp')",
   "language": "python",
   "name": "python3"
  },
  "language_info": {
   "codemirror_mode": {
    "name": "ipython",
    "version": 3
   },
   "file_extension": ".py",
   "mimetype": "text/x-python",
   "name": "python",
   "nbconvert_exporter": "python",
   "pygments_lexer": "ipython3",
   "version": "3.9.7"
  },
  "orig_nbformat": 4,
  "vscode": {
   "interpreter": {
    "hash": "41bc52750e0704433c7c40a5c68d8f60e760babe95f2dffc82e8c3790208ff57"
   }
  }
 },
 "nbformat": 4,
 "nbformat_minor": 2
}
