{
 "cells": [
  {
   "cell_type": "markdown",
   "metadata": {},
   "source": [
    "## Text Summarization of BBC News Using Pegasus Transformer Model"
   ]
  },
  {
   "cell_type": "markdown",
   "metadata": {},
   "source": [
    "Model Named on My HuggingFace Profile: 'pegasus-multi_news-NewsSummarization_BBC'\n",
    "\n",
    "\n",
    "Source for Dataset: https://www.kaggle.com/datasets/pariza/bbc-news-summary"
   ]
  },
  {
   "cell_type": "markdown",
   "metadata": {},
   "source": [
    "### Exploratory Data Analysis"
   ]
  },
  {
   "cell_type": "markdown",
   "metadata": {},
   "source": [
    "#### Importing Necessary Libraries"
   ]
  },
  {
   "cell_type": "code",
   "execution_count": 1,
   "metadata": {},
   "outputs": [],
   "source": [
    "import os, sys, csv\n",
    "os.environ['TOKENIZERS_PARALLELISM']='false'\n",
    "\n",
    "import torch\n",
    "import torch.nn\n",
    "\n",
    "import pandas as pd\n",
    "import numpy as np\n",
    "\n",
    "from tqdm import tqdm\n",
    "\n",
    "import matplotlib.pyplot as plt\n",
    "\n",
    "from transformers import PegasusForConditionalGeneration, PegasusTokenizer, set_seed\n",
    "from transformers import get_scheduler, DataCollatorForSeq2Seq, Seq2SeqTrainingArguments, Seq2SeqTrainer \n",
    "\n",
    "from datasets import Dataset, DatasetDict, load_metric, load_dataset"
   ]
  },
  {
   "cell_type": "markdown",
   "metadata": {},
   "source": [
    "#### Versions of Some Necessary Libraries Used"
   ]
  },
  {
   "cell_type": "code",
   "execution_count": 2,
   "metadata": {},
   "outputs": [
    {
     "name": "stdout",
     "output_type": "stream",
     "text": [
      "Pandas:  1.4.4\n",
      "NumPy:   1.23.3\n",
      "Torch:   1.12.1\n",
      "Python:  3.9.7 \n"
     ]
    }
   ],
   "source": [
    "print(\"Pandas:\".ljust(8), pd.__version__)\n",
    "print(\"NumPy:\".ljust(8), np.__version__)\n",
    "print(\"Torch:\".ljust(8), torch.__version__)\n",
    "print(\"Python:\".ljust(8), sys.version[0:6])"
   ]
  },
  {
   "cell_type": "markdown",
   "metadata": {},
   "source": [
    "#### Define Basic Constants/Values"
   ]
  },
  {
   "cell_type": "code",
   "execution_count": 3,
   "metadata": {},
   "outputs": [],
   "source": [
    "model_ckpt = 'google/pegasus-multi_news'\n",
    "device=\"cpu\"\n",
    "vocab_size = 96103\n",
    "\n",
    "max_input_length = 1024\n",
    "max_target_length = 455\n",
    "\n",
    "set_seed(42)"
   ]
  },
  {
   "cell_type": "markdown",
   "metadata": {},
   "source": [
    "#### Ingest Dataset into Pandas"
   ]
  },
  {
   "cell_type": "code",
   "execution_count": 4,
   "metadata": {},
   "outputs": [
    {
     "data": {
      "text/html": [
       "<div>\n",
       "<style scoped>\n",
       "    .dataframe tbody tr th:only-of-type {\n",
       "        vertical-align: middle;\n",
       "    }\n",
       "\n",
       "    .dataframe tbody tr th {\n",
       "        vertical-align: top;\n",
       "    }\n",
       "\n",
       "    .dataframe thead th {\n",
       "        text-align: right;\n",
       "    }\n",
       "</style>\n",
       "<table border=\"1\" class=\"dataframe\">\n",
       "  <thead>\n",
       "    <tr style=\"text-align: right;\">\n",
       "      <th></th>\n",
       "      <th>Articles</th>\n",
       "      <th>Summaries</th>\n",
       "    </tr>\n",
       "  </thead>\n",
       "  <tbody>\n",
       "    <tr>\n",
       "      <th>tech2195</th>\n",
       "      <td>Yukos loses US bankruptcy battle  A judge has ...</td>\n",
       "      <td>The court ruling is a blow to efforts to get d...</td>\n",
       "    </tr>\n",
       "    <tr>\n",
       "      <th>tech2196</th>\n",
       "      <td>US trade gap hits record in 2004  The gap betw...</td>\n",
       "      <td>The Commerce Department said the trade deficit...</td>\n",
       "    </tr>\n",
       "    <tr>\n",
       "      <th>tech2197</th>\n",
       "      <td>Mixed signals from French economy  The French ...</td>\n",
       "      <td>Despite the apparent shortfall in annual econo...</td>\n",
       "    </tr>\n",
       "    <tr>\n",
       "      <th>tech2198</th>\n",
       "      <td>Sluggish economy hits German jobs  The number ...</td>\n",
       "      <td>But officials said stagnant growth was still s...</td>\n",
       "    </tr>\n",
       "    <tr>\n",
       "      <th>tech2199</th>\n",
       "      <td>Rank 'set to sell off film unit'  Leisure grou...</td>\n",
       "      <td>Leisure group Rank could unveil plans to demer...</td>\n",
       "    </tr>\n",
       "    <tr>\n",
       "      <th>tech2200</th>\n",
       "      <td>Call centre users 'lose patience'  Customers t...</td>\n",
       "      <td>The drop in patience comes as the number of ca...</td>\n",
       "    </tr>\n",
       "    <tr>\n",
       "      <th>tech2201</th>\n",
       "      <td>India widens access to telecoms  India has rai...</td>\n",
       "      <td>\"We need at least $20bn (£10.6bn) in investmen...</td>\n",
       "    </tr>\n",
       "    <tr>\n",
       "      <th>tech2202</th>\n",
       "      <td>India's rupee hits five-year high  India's rup...</td>\n",
       "      <td>India's rupee has hit a five-year high after S...</td>\n",
       "    </tr>\n",
       "    <tr>\n",
       "      <th>tech2203</th>\n",
       "      <td>Parmalat boasts doubled profits  Parmalat, the...</td>\n",
       "      <td>On Tuesday, the company's administrator, turna...</td>\n",
       "    </tr>\n",
       "    <tr>\n",
       "      <th>tech2204</th>\n",
       "      <td>China keeps tight rein on credit  China's effo...</td>\n",
       "      <td>The breakneck pace of economic expansion has k...</td>\n",
       "    </tr>\n",
       "    <tr>\n",
       "      <th>tech2205</th>\n",
       "      <td>Air passengers win new EU rights  Air passenge...</td>\n",
       "      <td>In addition, if a flight is cancelled or delay...</td>\n",
       "    </tr>\n",
       "    <tr>\n",
       "      <th>tech2206</th>\n",
       "      <td>Telegraph newspapers axe 90 jobs  The Daily an...</td>\n",
       "      <td>\"Journalists are the lifeblood of any newspape...</td>\n",
       "    </tr>\n",
       "    <tr>\n",
       "      <th>tech2207</th>\n",
       "      <td>Peugeot deal boosts Mitsubishi  Struggling Jap...</td>\n",
       "      <td>Struggling Japanese car maker Mitsubishi Motor...</td>\n",
       "    </tr>\n",
       "    <tr>\n",
       "      <th>tech2208</th>\n",
       "      <td>Indonesians face fuel price rise  Indonesia's ...</td>\n",
       "      <td>Indonesia's government has confirmed it is con...</td>\n",
       "    </tr>\n",
       "    <tr>\n",
       "      <th>tech2209</th>\n",
       "      <td>Ask Jeeves tips online ad revival  Ask Jeeves ...</td>\n",
       "      <td>Ask Jeeves has become the third leading online...</td>\n",
       "    </tr>\n",
       "    <tr>\n",
       "      <th>tech2210</th>\n",
       "      <td>Court rejects $280bn tobacco case  A US govern...</td>\n",
       "      <td>A US government claim accusing the country's b...</td>\n",
       "    </tr>\n",
       "    <tr>\n",
       "      <th>tech2211</th>\n",
       "      <td>Ethiopia's crop production up 24%  Ethiopia pr...</td>\n",
       "      <td>In 2003, crop production totalled 11.49 millio...</td>\n",
       "    </tr>\n",
       "    <tr>\n",
       "      <th>tech2212</th>\n",
       "      <td>India calls for fair trade rules  India, which...</td>\n",
       "      <td>At a conference on developing enterprise hoste...</td>\n",
       "    </tr>\n",
       "    <tr>\n",
       "      <th>tech2213</th>\n",
       "      <td>Jobs growth still slow in the US  The US creat...</td>\n",
       "      <td>The job gains mean that President Bush can cel...</td>\n",
       "    </tr>\n",
       "    <tr>\n",
       "      <th>tech2214</th>\n",
       "      <td>Japan narrowly escapes recession  Japan's econ...</td>\n",
       "      <td>On an annual basis, the data suggests annual g...</td>\n",
       "    </tr>\n",
       "    <tr>\n",
       "      <th>tech2215</th>\n",
       "      <td>Pernod takeover talk lifts Domecq  Shares in U...</td>\n",
       "      <td>Pernod has reduced the debt it took on to fund...</td>\n",
       "    </tr>\n",
       "    <tr>\n",
       "      <th>tech2216</th>\n",
       "      <td>High fuel prices hit BA's profits  British Air...</td>\n",
       "      <td>Rod Eddington, BA's chief executive, said the ...</td>\n",
       "    </tr>\n",
       "    <tr>\n",
       "      <th>tech2217</th>\n",
       "      <td>Yukos unit buyer faces loan claim  The owners ...</td>\n",
       "      <td>Yukos' owner Menatep Group says it will ask Ro...</td>\n",
       "    </tr>\n",
       "    <tr>\n",
       "      <th>tech2218</th>\n",
       "      <td>Dollar gains on Greenspan speech  The dollar h...</td>\n",
       "      <td>The dollar has hit its highest level against t...</td>\n",
       "    </tr>\n",
       "    <tr>\n",
       "      <th>tech2219</th>\n",
       "      <td>Ad sales boost Time Warner profit  Quarterly p...</td>\n",
       "      <td>TimeWarner said fourth quarter sales rose 2% t...</td>\n",
       "    </tr>\n",
       "  </tbody>\n",
       "</table>\n",
       "</div>"
      ],
      "text/plain": [
       "                                                   Articles  \\\n",
       "tech2195  Yukos loses US bankruptcy battle  A judge has ...   \n",
       "tech2196  US trade gap hits record in 2004  The gap betw...   \n",
       "tech2197  Mixed signals from French economy  The French ...   \n",
       "tech2198  Sluggish economy hits German jobs  The number ...   \n",
       "tech2199  Rank 'set to sell off film unit'  Leisure grou...   \n",
       "tech2200  Call centre users 'lose patience'  Customers t...   \n",
       "tech2201  India widens access to telecoms  India has rai...   \n",
       "tech2202  India's rupee hits five-year high  India's rup...   \n",
       "tech2203  Parmalat boasts doubled profits  Parmalat, the...   \n",
       "tech2204  China keeps tight rein on credit  China's effo...   \n",
       "tech2205  Air passengers win new EU rights  Air passenge...   \n",
       "tech2206  Telegraph newspapers axe 90 jobs  The Daily an...   \n",
       "tech2207  Peugeot deal boosts Mitsubishi  Struggling Jap...   \n",
       "tech2208  Indonesians face fuel price rise  Indonesia's ...   \n",
       "tech2209  Ask Jeeves tips online ad revival  Ask Jeeves ...   \n",
       "tech2210  Court rejects $280bn tobacco case  A US govern...   \n",
       "tech2211  Ethiopia's crop production up 24%  Ethiopia pr...   \n",
       "tech2212  India calls for fair trade rules  India, which...   \n",
       "tech2213  Jobs growth still slow in the US  The US creat...   \n",
       "tech2214  Japan narrowly escapes recession  Japan's econ...   \n",
       "tech2215  Pernod takeover talk lifts Domecq  Shares in U...   \n",
       "tech2216  High fuel prices hit BA's profits  British Air...   \n",
       "tech2217  Yukos unit buyer faces loan claim  The owners ...   \n",
       "tech2218  Dollar gains on Greenspan speech  The dollar h...   \n",
       "tech2219  Ad sales boost Time Warner profit  Quarterly p...   \n",
       "\n",
       "                                                  Summaries  \n",
       "tech2195  The court ruling is a blow to efforts to get d...  \n",
       "tech2196  The Commerce Department said the trade deficit...  \n",
       "tech2197  Despite the apparent shortfall in annual econo...  \n",
       "tech2198  But officials said stagnant growth was still s...  \n",
       "tech2199  Leisure group Rank could unveil plans to demer...  \n",
       "tech2200  The drop in patience comes as the number of ca...  \n",
       "tech2201  \"We need at least $20bn (£10.6bn) in investmen...  \n",
       "tech2202  India's rupee has hit a five-year high after S...  \n",
       "tech2203  On Tuesday, the company's administrator, turna...  \n",
       "tech2204  The breakneck pace of economic expansion has k...  \n",
       "tech2205  In addition, if a flight is cancelled or delay...  \n",
       "tech2206  \"Journalists are the lifeblood of any newspape...  \n",
       "tech2207  Struggling Japanese car maker Mitsubishi Motor...  \n",
       "tech2208  Indonesia's government has confirmed it is con...  \n",
       "tech2209  Ask Jeeves has become the third leading online...  \n",
       "tech2210  A US government claim accusing the country's b...  \n",
       "tech2211  In 2003, crop production totalled 11.49 millio...  \n",
       "tech2212  At a conference on developing enterprise hoste...  \n",
       "tech2213  The job gains mean that President Bush can cel...  \n",
       "tech2214  On an annual basis, the data suggests annual g...  \n",
       "tech2215  Pernod has reduced the debt it took on to fund...  \n",
       "tech2216  Rod Eddington, BA's chief executive, said the ...  \n",
       "tech2217  Yukos' owner Menatep Group says it will ask Ro...  \n",
       "tech2218  The dollar has hit its highest level against t...  \n",
       "tech2219  TimeWarner said fourth quarter sales rose 2% t...  "
      ]
     },
     "execution_count": 4,
     "metadata": {},
     "output_type": "execute_result"
    }
   ],
   "source": [
    "data = []\n",
    "topics = ['business', 'entertainment', 'politics', 'sport', 'tech']\n",
    "\n",
    "articles_path = '/Users/leedunn/Desktop/Projects to Train/BBC with Pegasus/News Articles/'\n",
    "articles = pd.Series(name='Article', dtype=str)\n",
    "\n",
    "summaries_path = '/Users/leedunn/Desktop/Projects to Train/BBC with Pegasus/Summaries/'\n",
    "summaries = pd.Series(name='Summary', dtype=str)\n",
    "\n",
    "# Loop through for each of the 5 'News' topics\n",
    "for topic in topics:\n",
    "    topic_length = 0\n",
    "    a_dir_path = os.path.join(articles_path, topic)\n",
    "    \n",
    "    # Find the number of files in the directory for each 'News' topic\n",
    "    for path in os.listdir(a_dir_path):\n",
    "        if os.path.isfile(os.path.join(a_dir_path, path)):\n",
    "            topic_length += 1\n",
    "        \n",
    "    # Ingest the 'article' text into a DataFrame\n",
    "    for x in range(1,topic_length):\n",
    "        a_current_data = pd.Series(dtype=str)\n",
    "        with open((a_dir_path + r'/' + str(x).zfill(3) + r'.txt'), 'r', encoding=None) as f: \n",
    "            file = f.read()\n",
    "            file = file.replace('\\n', ' ')\n",
    "            a_current_data = pd.Series(data=file)\n",
    "            articles = pd.concat([a_current_data, articles], ignore_index=True)\n",
    "\n",
    "    articles = pd.DataFrame(articles)\n",
    "    articles = articles.set_index(topic + articles.index.astype(str))\n",
    "\n",
    "    s_dir_path = os.path.join(summaries_path, topic)\n",
    "\n",
    "    # Ingest the 'article' text into a DataFrame\n",
    "    for x in range(1,topic_length):\n",
    "        s_current_data = pd.Series(dtype=str)\n",
    "        with open((s_dir_path + r'/' + str(x).zfill(3) + r'.txt'), 'r', encoding=None) as f: \n",
    "            file = f.read()\n",
    "            file = file.replace('\\n', ' ')\n",
    "            s_current_data = pd.Series(data=file)\n",
    "            summaries = pd.concat([s_current_data, summaries], ignore_index=True)\n",
    "\n",
    "    summaries = pd.DataFrame(summaries)\n",
    "    summaries = summaries.set_index(topic + summaries.index.astype(str))\n",
    "\n",
    "articles = articles.rename(columns={0 : 'Articles'})\n",
    "summaries = summaries.rename(columns={0 : 'Summaries'})\n",
    "\n",
    "data = articles.join(summaries)\n",
    "data.tail(25)\n"
   ]
  },
  {
   "cell_type": "markdown",
   "metadata": {},
   "source": [
    "#### Remove Unnecessary Whitespace"
   ]
  },
  {
   "cell_type": "code",
   "execution_count": 5,
   "metadata": {},
   "outputs": [
    {
     "data": {
      "text/html": [
       "<div>\n",
       "<style scoped>\n",
       "    .dataframe tbody tr th:only-of-type {\n",
       "        vertical-align: middle;\n",
       "    }\n",
       "\n",
       "    .dataframe tbody tr th {\n",
       "        vertical-align: top;\n",
       "    }\n",
       "\n",
       "    .dataframe thead th {\n",
       "        text-align: right;\n",
       "    }\n",
       "</style>\n",
       "<table border=\"1\" class=\"dataframe\">\n",
       "  <thead>\n",
       "    <tr style=\"text-align: right;\">\n",
       "      <th></th>\n",
       "      <th>Articles</th>\n",
       "      <th>Summaries</th>\n",
       "    </tr>\n",
       "  </thead>\n",
       "  <tbody>\n",
       "    <tr>\n",
       "      <th>0</th>\n",
       "      <td>US cyber security chief resigns The man making...</td>\n",
       "      <td>Amit Yoran was director of the National Cyber ...</td>\n",
       "    </tr>\n",
       "    <tr>\n",
       "      <th>1</th>\n",
       "      <td>Be careful how you code A new European directi...</td>\n",
       "      <td>This goes to the heart of the European project...</td>\n",
       "    </tr>\n",
       "    <tr>\n",
       "      <th>2</th>\n",
       "      <td>Spam e-mails tempt net shoppers Computer users...</td>\n",
       "      <td>A third of them read unsolicited junk e-mail a...</td>\n",
       "    </tr>\n",
       "    <tr>\n",
       "      <th>3</th>\n",
       "      <td>BT program to beat dialler scams BT is introdu...</td>\n",
       "      <td>BT is introducing two initiatives to help beat...</td>\n",
       "    </tr>\n",
       "    <tr>\n",
       "      <th>4</th>\n",
       "      <td>New consoles promise big problems Making games...</td>\n",
       "      <td>Mr Walsh suggested that new studios should mak...</td>\n",
       "    </tr>\n",
       "    <tr>\n",
       "      <th>...</th>\n",
       "      <td>...</td>\n",
       "      <td>...</td>\n",
       "    </tr>\n",
       "    <tr>\n",
       "      <th>2215</th>\n",
       "      <td>Pernod takeover talk lifts Domecq Shares in UK...</td>\n",
       "      <td>Pernod has reduced the debt it took on to fund...</td>\n",
       "    </tr>\n",
       "    <tr>\n",
       "      <th>2216</th>\n",
       "      <td>High fuel prices hit BA's profits British Airw...</td>\n",
       "      <td>Rod Eddington, BA's chief executive, said the ...</td>\n",
       "    </tr>\n",
       "    <tr>\n",
       "      <th>2217</th>\n",
       "      <td>Yukos unit buyer faces loan claim The owners o...</td>\n",
       "      <td>Yukos' owner Menatep Group says it will ask Ro...</td>\n",
       "    </tr>\n",
       "    <tr>\n",
       "      <th>2218</th>\n",
       "      <td>Dollar gains on Greenspan speech The dollar ha...</td>\n",
       "      <td>The dollar has hit its highest level against t...</td>\n",
       "    </tr>\n",
       "    <tr>\n",
       "      <th>2219</th>\n",
       "      <td>Ad sales boost Time Warner profit Quarterly pr...</td>\n",
       "      <td>TimeWarner said fourth quarter sales rose 2% t...</td>\n",
       "    </tr>\n",
       "  </tbody>\n",
       "</table>\n",
       "<p>2220 rows × 2 columns</p>\n",
       "</div>"
      ],
      "text/plain": [
       "                                               Articles  \\\n",
       "0     US cyber security chief resigns The man making...   \n",
       "1     Be careful how you code A new European directi...   \n",
       "2     Spam e-mails tempt net shoppers Computer users...   \n",
       "3     BT program to beat dialler scams BT is introdu...   \n",
       "4     New consoles promise big problems Making games...   \n",
       "...                                                 ...   \n",
       "2215  Pernod takeover talk lifts Domecq Shares in UK...   \n",
       "2216  High fuel prices hit BA's profits British Airw...   \n",
       "2217  Yukos unit buyer faces loan claim The owners o...   \n",
       "2218  Dollar gains on Greenspan speech The dollar ha...   \n",
       "2219  Ad sales boost Time Warner profit Quarterly pr...   \n",
       "\n",
       "                                              Summaries  \n",
       "0     Amit Yoran was director of the National Cyber ...  \n",
       "1     This goes to the heart of the European project...  \n",
       "2     A third of them read unsolicited junk e-mail a...  \n",
       "3     BT is introducing two initiatives to help beat...  \n",
       "4     Mr Walsh suggested that new studios should mak...  \n",
       "...                                                 ...  \n",
       "2215  Pernod has reduced the debt it took on to fund...  \n",
       "2216  Rod Eddington, BA's chief executive, said the ...  \n",
       "2217  Yukos' owner Menatep Group says it will ask Ro...  \n",
       "2218  The dollar has hit its highest level against t...  \n",
       "2219  TimeWarner said fourth quarter sales rose 2% t...  \n",
       "\n",
       "[2220 rows x 2 columns]"
      ]
     },
     "execution_count": 5,
     "metadata": {},
     "output_type": "execute_result"
    }
   ],
   "source": [
    "# Replace the '\\n' with a space\n",
    "data.replace('\\n', ' ', inplace=True, regex=True)\n",
    "data.replace('  ', ' ', inplace=True, regex=True)\n",
    "data.reset_index(drop=True, inplace=True)\n",
    "\n",
    "data"
   ]
  },
  {
   "cell_type": "markdown",
   "metadata": {},
   "source": [
    "#### Visualize Length of Each Article"
   ]
  },
  {
   "cell_type": "code",
   "execution_count": 6,
   "metadata": {},
   "outputs": [
    {
     "data": {
      "image/png": "[encoded data removed]",
      "text/plain": [
       "<Figure size 1200x500 with 1 Axes>"
      ]
     },
     "metadata": {},
     "output_type": "display_data"
    }
   ],
   "source": [
    "data['article_length'] = data['Articles'].str.split().apply(len)\n",
    "\n",
    "data.hist(\"article_length\", grid=True, color=\"Blue\", figsize=(12,5), bins=410)\n",
    "plt.suptitle('')\n",
    "plt.xlabel('Article Length (in Words)')\n",
    "plt.ylabel('# of Articles w/ That Length')\n",
    "plt.title('Article Length')\n",
    "plt.show()"
   ]
  },
  {
   "cell_type": "markdown",
   "metadata": {},
   "source": [
    "#### Visualize Length of Each Summary"
   ]
  },
  {
   "cell_type": "code",
   "execution_count": 7,
   "metadata": {},
   "outputs": [
    {
     "data": {
      "image/png": "[encoded data removed]",
      "text/plain": [
       "<Figure size 1000x400 with 1 Axes>"
      ]
     },
     "metadata": {},
     "output_type": "display_data"
    }
   ],
   "source": [
    "data['summary_length'] = data['Summaries'].str.split().apply(len)\n",
    "\n",
    "data.hist(\"summary_length\", grid=True, color=\"Blue\", figsize=(10, 4), bins=175)\n",
    "plt.suptitle('')\n",
    "plt.xlabel('Summary Length (in Words)')\n",
    "plt.ylabel('# of Summaries w/ That Length')\n",
    "plt.title('Summary Length')\n",
    "plt.show()"
   ]
  },
  {
   "cell_type": "markdown",
   "metadata": {},
   "source": [
    "#### Trimmed Dataset Based on Article &/or Summary Length"
   ]
  },
  {
   "cell_type": "code",
   "execution_count": 8,
   "metadata": {},
   "outputs": [
    {
     "data": {
      "text/html": [
       "<div>\n",
       "<style scoped>\n",
       "    .dataframe tbody tr th:only-of-type {\n",
       "        vertical-align: middle;\n",
       "    }\n",
       "\n",
       "    .dataframe tbody tr th {\n",
       "        vertical-align: top;\n",
       "    }\n",
       "\n",
       "    .dataframe thead th {\n",
       "        text-align: right;\n",
       "    }\n",
       "</style>\n",
       "<table border=\"1\" class=\"dataframe\">\n",
       "  <thead>\n",
       "    <tr style=\"text-align: right;\">\n",
       "      <th></th>\n",
       "      <th>Articles</th>\n",
       "      <th>Summaries</th>\n",
       "    </tr>\n",
       "  </thead>\n",
       "  <tbody>\n",
       "    <tr>\n",
       "      <th>0</th>\n",
       "      <td>US cyber security chief resigns The man making...</td>\n",
       "      <td>Amit Yoran was director of the National Cyber ...</td>\n",
       "    </tr>\n",
       "    <tr>\n",
       "      <th>2</th>\n",
       "      <td>Spam e-mails tempt net shoppers Computer users...</td>\n",
       "      <td>A third of them read unsolicited junk e-mail a...</td>\n",
       "    </tr>\n",
       "    <tr>\n",
       "      <th>3</th>\n",
       "      <td>BT program to beat dialler scams BT is introdu...</td>\n",
       "      <td>BT is introducing two initiatives to help beat...</td>\n",
       "    </tr>\n",
       "    <tr>\n",
       "      <th>7</th>\n",
       "      <td>Savvy searchers fail to spot ads Internet sear...</td>\n",
       "      <td>Almost 50% of those questioned said they would...</td>\n",
       "    </tr>\n",
       "    <tr>\n",
       "      <th>8</th>\n",
       "      <td>Broadband fuels online expression Fast web acc...</td>\n",
       "      <td>More than five million households in the UK ha...</td>\n",
       "    </tr>\n",
       "    <tr>\n",
       "      <th>...</th>\n",
       "      <td>...</td>\n",
       "      <td>...</td>\n",
       "    </tr>\n",
       "    <tr>\n",
       "      <th>2215</th>\n",
       "      <td>Pernod takeover talk lifts Domecq Shares in UK...</td>\n",
       "      <td>Pernod has reduced the debt it took on to fund...</td>\n",
       "    </tr>\n",
       "    <tr>\n",
       "      <th>2216</th>\n",
       "      <td>High fuel prices hit BA's profits British Airw...</td>\n",
       "      <td>Rod Eddington, BA's chief executive, said the ...</td>\n",
       "    </tr>\n",
       "    <tr>\n",
       "      <th>2217</th>\n",
       "      <td>Yukos unit buyer faces loan claim The owners o...</td>\n",
       "      <td>Yukos' owner Menatep Group says it will ask Ro...</td>\n",
       "    </tr>\n",
       "    <tr>\n",
       "      <th>2218</th>\n",
       "      <td>Dollar gains on Greenspan speech The dollar ha...</td>\n",
       "      <td>The dollar has hit its highest level against t...</td>\n",
       "    </tr>\n",
       "    <tr>\n",
       "      <th>2219</th>\n",
       "      <td>Ad sales boost Time Warner profit Quarterly pr...</td>\n",
       "      <td>TimeWarner said fourth quarter sales rose 2% t...</td>\n",
       "    </tr>\n",
       "  </tbody>\n",
       "</table>\n",
       "<p>2143 rows × 2 columns</p>\n",
       "</div>"
      ],
      "text/plain": [
       "                                               Articles  \\\n",
       "0     US cyber security chief resigns The man making...   \n",
       "2     Spam e-mails tempt net shoppers Computer users...   \n",
       "3     BT program to beat dialler scams BT is introdu...   \n",
       "7     Savvy searchers fail to spot ads Internet sear...   \n",
       "8     Broadband fuels online expression Fast web acc...   \n",
       "...                                                 ...   \n",
       "2215  Pernod takeover talk lifts Domecq Shares in UK...   \n",
       "2216  High fuel prices hit BA's profits British Airw...   \n",
       "2217  Yukos unit buyer faces loan claim The owners o...   \n",
       "2218  Dollar gains on Greenspan speech The dollar ha...   \n",
       "2219  Ad sales boost Time Warner profit Quarterly pr...   \n",
       "\n",
       "                                              Summaries  \n",
       "0     Amit Yoran was director of the National Cyber ...  \n",
       "2     A third of them read unsolicited junk e-mail a...  \n",
       "3     BT is introducing two initiatives to help beat...  \n",
       "7     Almost 50% of those questioned said they would...  \n",
       "8     More than five million households in the UK ha...  \n",
       "...                                                 ...  \n",
       "2215  Pernod has reduced the debt it took on to fund...  \n",
       "2216  Rod Eddington, BA's chief executive, said the ...  \n",
       "2217  Yukos' owner Menatep Group says it will ask Ro...  \n",
       "2218  The dollar has hit its highest level against t...  \n",
       "2219  TimeWarner said fourth quarter sales rose 2% t...  \n",
       "\n",
       "[2143 rows x 2 columns]"
      ]
     },
     "execution_count": 8,
     "metadata": {},
     "output_type": "execute_result"
    }
   ],
   "source": [
    "data = data[data['article_length'] < 820]\n",
    "data = data[data['summary_length'] < 350]\n",
    "\n",
    "data = data.drop(columns=['article_length', 'summary_length'])\n",
    "\n",
    "data"
   ]
  },
  {
   "cell_type": "markdown",
   "metadata": {},
   "source": [
    "### Actual Project"
   ]
  },
  {
   "cell_type": "markdown",
   "metadata": {},
   "source": [
    "#### Convert Pandas DataFrame to Datasets Format; Then Split into Train/Test/Valid Datasets"
   ]
  },
  {
   "cell_type": "code",
   "execution_count": 9,
   "metadata": {},
   "outputs": [
    {
     "name": "stdout",
     "output_type": "stream",
     "text": [
      "Training Data Shape: (1714, 3)\n",
      "Testing Data Shape: (215, 3)\n",
      "Validation Data Shape: (214, 3)\n"
     ]
    }
   ],
   "source": [
    "# Convert pandas dataframe to a dataset\n",
    "dataset = Dataset.from_pandas(data)\n",
    "\n",
    "# Split the datasetdict into train/test/valid subsets\n",
    "train_testvalid = dataset.train_test_split(test_size=0.20)\n",
    "test_valid = train_testvalid['test'].train_test_split(test_size=0.50)\n",
    "\n",
    "# Combine the train/test/valid into one datasetdict\n",
    "dataset = DatasetDict({\n",
    "    'train' : train_testvalid['train'],\n",
    "    'test' : test_valid['test'],\n",
    "    'valid' : test_valid['train']\n",
    "})\n",
    "\n",
    "print('Training Data Shape:', dataset['train'].shape)\n",
    "print('Testing Data Shape:', dataset['test'].shape)\n",
    "print('Validation Data Shape:', dataset['valid'].shape)"
   ]
  },
  {
   "cell_type": "markdown",
   "metadata": {},
   "source": [
    "#### Make Sure git lfs is Installed; Remember to Enter Access Token"
   ]
  },
  {
   "cell_type": "code",
   "execution_count": 10,
   "metadata": {},
   "outputs": [
    {
     "name": "stdout",
     "output_type": "stream",
     "text": [
      "Git LFS initialized.\n"
     ]
    }
   ],
   "source": [
    "# Access Token from HuggingFace...\n",
    "\n",
    "!git lfs install"
   ]
  },
  {
   "cell_type": "markdown",
   "metadata": {},
   "source": [
    "#### Instantiate both Tokenizer and Model"
   ]
  },
  {
   "cell_type": "code",
   "execution_count": 11,
   "metadata": {},
   "outputs": [],
   "source": [
    "tokenizer = PegasusTokenizer.from_pretrained(model_ckpt, truncation=True, padding=True, batched=True, batch_size=None)\n",
    "\n",
    "pipe = None\n",
    "\n",
    "model = PegasusForConditionalGeneration.from_pretrained(model_ckpt)"
   ]
  },
  {
   "cell_type": "markdown",
   "metadata": {},
   "source": [
    "#### Create Function to Tokenize & Return Necessary Inputs for Batches of Samples"
   ]
  },
  {
   "cell_type": "code",
   "execution_count": 12,
   "metadata": {},
   "outputs": [],
   "source": [
    "def convert_examples_to_features(ex_batch):\n",
    "    input_encodings = tokenizer(ex_batch['Articles'], max_length=max_input_length, truncation=True, padding=True)\n",
    "    with tokenizer.as_target_tokenizer():\n",
    "        target_encodings = tokenizer(ex_batch['Summaries'], max_length=max_target_length, truncation=True, padding=True)\n",
    "    return {\"input_ids\" : input_encodings[\"input_ids\"],\n",
    "            \"attention_mask\" : input_encodings[\"attention_mask\"],\n",
    "            \"labels\" : target_encodings[\"input_ids\"],}"
   ]
  },
  {
   "cell_type": "markdown",
   "metadata": {},
   "source": [
    "#### Apply Above Function to Dataset"
   ]
  },
  {
   "cell_type": "code",
   "execution_count": 13,
   "metadata": {},
   "outputs": [
    {
     "data": {
      "application/vnd.jupyter.widget-view+json": {
       "model_id": "d7bdaffa0e15480ab56d409d5bee5ba0",
       "version_major": 2,
       "version_minor": 0
      },
      "text/plain": [
       "  0%|          | 0/2 [00:00<?, ?ba/s]"
      ]
     },
     "metadata": {},
     "output_type": "display_data"
    },
    {
     "data": {
      "application/vnd.jupyter.widget-view+json": {
       "model_id": "40754860b6344c7c9bc0b2c3e76d5ac0",
       "version_major": 2,
       "version_minor": 0
      },
      "text/plain": [
       "  0%|          | 0/1 [00:00<?, ?ba/s]"
      ]
     },
     "metadata": {},
     "output_type": "display_data"
    },
    {
     "data": {
      "application/vnd.jupyter.widget-view+json": {
       "model_id": "c09c08b0036f482793a2056379940f04",
       "version_major": 2,
       "version_minor": 0
      },
      "text/plain": [
       "  0%|          | 0/1 [00:00<?, ?ba/s]"
      ]
     },
     "metadata": {},
     "output_type": "display_data"
    }
   ],
   "source": [
    "encoded_ds = dataset.map(convert_examples_to_features, batched=True)\n",
    "encoded_ds.set_format(type=\"torch\", columns=['input_ids', 'labels', 'attention_mask'])"
   ]
  },
  {
   "cell_type": "markdown",
   "metadata": {},
   "source": [
    "#### Instantiate TrainingArguments"
   ]
  },
  {
   "cell_type": "code",
   "execution_count": 14,
   "metadata": {},
   "outputs": [],
   "source": [
    "batch_size = 16\n",
    "num_of_epochs = 2\n",
    "logging_steps = 15\n",
    "learning_rate=2e-5\n",
    "\n",
    "model_name = f\"{model_ckpt.split('/')[-1]}-NewsSummarization_BBC\"\n",
    "\n",
    "training_args = Seq2SeqTrainingArguments(output_dir=model_name,\n",
    "                        num_train_epochs=num_of_epochs,\n",
    "                        learning_rate=learning_rate,\n",
    "                        per_device_train_batch_size=1,\n",
    "                        per_device_eval_batch_size=1,\n",
    "                        weight_decay=0.01,\n",
    "                        save_strategy=\"epoch\",\n",
    "                        logging_strategy=\"epoch\",\n",
    "                        logging_first_step=True,\n",
    "                        hub_strategy=\"checkpoint\",\n",
    "                        warmup_steps=50,\n",
    "                        disable_tqdm=False,\n",
    "                        logging_steps=logging_steps,\n",
    "                        push_to_hub=True,\n",
    "                        gradient_accumulation_steps=16,\n",
    "                        log_level=\"error\") \n"
   ]
  },
  {
   "cell_type": "markdown",
   "metadata": {},
   "source": [
    "#### Create Function to Computes Metrics"
   ]
  },
  {
   "cell_type": "code",
   "execution_count": 15,
   "metadata": {},
   "outputs": [],
   "source": [
    "rouge_metric = load_metric(\"rouge\")\n",
    "rouge_names = [\"rouge1\", \"rouge2\", \"rougeL\", \"rougeLsum\"]\n",
    "\n",
    "def chunks(list_of_elements, batch_size):\n",
    "    for i in range(0, len(list_of_elements), batch_size):\n",
    "        yield list_of_elements[i : i + batch_size]\n",
    "\n",
    "def compute_metrics(dataset, metric, model, tokenizer, column_text=\"Article\", column_summary=\"Summary\", batch_size=16, device=device):\n",
    "    article_batches = list(chunks(dataset[column_text], batch_size))\n",
    "    target_batches = list(chunks(dataset[column_summary], batch_size))\n",
    "    \n",
    "    for article_batch, target_batch in tqdm(\n",
    "        zip(article_batches, target_batches), total=len(article_batches)):\n",
    "        inputs = tokenizer(article_batch, max_length=max_input_length, truncation=True, padding=\"max_length\", return_tensors=\"pt\")\n",
    "        summaries = model.generate(input_ids=inputs[\"input_ids\"].to(device), \n",
    "                                   attention_mask=inputs[\"attention_mask\"].to(device), \n",
    "                                   length_penalty=0.8, num_beams=8, max_length=max_target_length)\n",
    "        decoded_summaries = [tokenizer.decode(s, skip_special_tokens=True, clean_up_tokenization_spaces=True) for s in summaries]\n",
    "        decoded_summaries = [d.replace(\"<n>\", \" \") for d in decoded_summaries]\n",
    "        metric.add_batch(predictions=decoded_summaries, references=target_batch)\n",
    "        \n",
    "    score = metric.compute()\n",
    "    return score"
   ]
  },
  {
   "cell_type": "markdown",
   "metadata": {},
   "source": [
    "#### Instantiate Data Collator"
   ]
  },
  {
   "cell_type": "code",
   "execution_count": 16,
   "metadata": {},
   "outputs": [],
   "source": [
    "seq2seq_data_collator = DataCollatorForSeq2Seq(tokenizer, model=model)"
   ]
  },
  {
   "cell_type": "markdown",
   "metadata": {},
   "source": [
    "#### Instantiate Trainer"
   ]
  },
  {
   "cell_type": "code",
   "execution_count": 17,
   "metadata": {},
   "outputs": [
    {
     "name": "stderr",
     "output_type": "stream",
     "text": [
      "Cloning https://huggingface.co/DunnBC22/pegasus-multi_news-NewsSummarization_BBC into local empty directory.\n"
     ]
    }
   ],
   "source": [
    "trainer = Seq2SeqTrainer(model=model, \n",
    "                  args=training_args,\n",
    "                  data_collator=seq2seq_data_collator,\n",
    "                  train_dataset=encoded_ds['train'], \n",
    "                  eval_dataset=encoded_ds['valid'], \n",
    "                  tokenizer=tokenizer) "
   ]
  },
  {
   "cell_type": "markdown",
   "metadata": {},
   "source": [
    "#### Train Model"
   ]
  },
  {
   "cell_type": "code",
   "execution_count": 18,
   "metadata": {},
   "outputs": [
    {
     "name": "stderr",
     "output_type": "stream",
     "text": [
      "/Users/leedunn/Documents/nlpnn/nlp/lib/python3.9/site-packages/transformers/optimization.py:306: FutureWarning: This implementation of AdamW is deprecated and will be removed in a future version. Use the PyTorch implementation torch.optim.AdamW instead, or set `no_deprecation_warning=True` to disable this warning\n",
      "  warnings.warn(\n"
     ]
    },
    {
     "data": {
      "application/vnd.jupyter.widget-view+json": {
       "model_id": "3a39e95fed374696a41eed1ee71fdcb0",
       "version_major": 2,
       "version_minor": 0
      },
      "text/plain": [
       "  0%|          | 0/214 [00:00<?, ?it/s]"
      ]
     },
     "metadata": {},
     "output_type": "display_data"
    },
    {
     "name": "stdout",
     "output_type": "stream",
     "text": [
      "{'loss': 8.06, 'learning_rate': 4.0000000000000003e-07, 'epoch': 0.01}\n",
      "{'loss': 6.7693, 'learning_rate': 1.304878048780488e-05, 'epoch': 1.0}\n",
      "{'loss': 6.0583, 'learning_rate': 0.0, 'epoch': 2.0}\n"
     ]
    },
    {
     "name": "stderr",
     "output_type": "stream",
     "text": [
      "Adding files tracked by Git LFS: ['.DS_Store']. This may take a bit of time if the files are large.\n"
     ]
    },
    {
     "name": "stdout",
     "output_type": "stream",
     "text": [
      "{'train_runtime': 413295.7412, 'train_samples_per_second': 0.008, 'train_steps_per_second': 0.001, 'train_loss': 6.419796105857207, 'epoch': 2.0}\n"
     ]
    },
    {
     "data": {
      "text/plain": [
       "TrainOutput(global_step=214, training_loss=6.419796105857207, metrics={'train_runtime': 413295.7412, 'train_samples_per_second': 0.008, 'train_steps_per_second': 0.001, 'train_loss': 6.419796105857207, 'epoch': 2.0})"
      ]
     },
     "execution_count": 18,
     "metadata": {},
     "output_type": "execute_result"
    }
   ],
   "source": [
    "trainer.train()"
   ]
  },
  {
   "cell_type": "markdown",
   "metadata": {},
   "source": [
    "### Model Evaluation"
   ]
  },
  {
   "cell_type": "markdown",
   "metadata": {},
   "source": [
    "#### Compute & Print Metrics"
   ]
  },
  {
   "cell_type": "code",
   "execution_count": 19,
   "metadata": {},
   "outputs": [
    {
     "name": "stderr",
     "output_type": "stream",
     "text": [
      "100%|██████████| 108/108 [8:34:02<00:00, 285.57s/it]  \n"
     ]
    },
    {
     "data": {
      "text/html": [
       "<div>\n",
       "<style scoped>\n",
       "    .dataframe tbody tr th:only-of-type {\n",
       "        vertical-align: middle;\n",
       "    }\n",
       "\n",
       "    .dataframe tbody tr th {\n",
       "        vertical-align: top;\n",
       "    }\n",
       "\n",
       "    .dataframe thead th {\n",
       "        text-align: right;\n",
       "    }\n",
       "</style>\n",
       "<table border=\"1\" class=\"dataframe\">\n",
       "  <thead>\n",
       "    <tr style=\"text-align: right;\">\n",
       "      <th></th>\n",
       "      <th>rouge1</th>\n",
       "      <th>rouge2</th>\n",
       "      <th>rougeL</th>\n",
       "      <th>rougeLsum</th>\n",
       "    </tr>\n",
       "  </thead>\n",
       "  <tbody>\n",
       "    <tr>\n",
       "      <th>Pegasus</th>\n",
       "      <td>0.584474</td>\n",
       "      <td>0.463574</td>\n",
       "      <td>0.408729</td>\n",
       "      <td>0.408431</td>\n",
       "    </tr>\n",
       "  </tbody>\n",
       "</table>\n",
       "</div>"
      ],
      "text/plain": [
       "           rouge1    rouge2    rougeL  rougeLsum\n",
       "Pegasus  0.584474  0.463574  0.408729   0.408431"
      ]
     },
     "execution_count": 19,
     "metadata": {},
     "output_type": "execute_result"
    }
   ],
   "source": [
    "rouge_metric = load_metric(\"rouge\")\n",
    "rouge_names = [\"rouge1\", \"rouge2\", \"rougeL\", \"rougeLsum\"]\n",
    "\n",
    "score = compute_metrics(dataset[\"test\"], \n",
    "                        rouge_metric, \n",
    "                        trainer.model, \n",
    "                        tokenizer, \n",
    "                        batch_size=2, \n",
    "                        column_text='Articles', \n",
    "                        column_summary='Summaries')\n",
    "\n",
    "rouge_dict = dict((rn, score[rn].mid.fmeasure) for rn in rouge_names)\n",
    "pd.DataFrame(rouge_dict, index=[f\"Pegasus\"])"
   ]
  },
  {
   "cell_type": "markdown",
   "metadata": {},
   "source": [
    "#### Print Out Full Rouge Metric Dictionary"
   ]
  },
  {
   "cell_type": "code",
   "execution_count": 20,
   "metadata": {},
   "outputs": [
    {
     "name": "stdout",
     "output_type": "stream",
     "text": [
      "Full Score Dictionary:\n",
      " {'rouge1': AggregateScore(low=Score(precision=0.6613047653270004, recall=0.5193497486512931, fmeasure=0.5671636136444602), mid=Score(precision=0.6822257872229608, recall=0.5428290872118673, fmeasure=0.5844740004724716), high=Score(precision=0.7023678196557687, recall=0.5668502135331891, fmeasure=0.6018339883629311)), 'rouge2': AggregateScore(low=Score(precision=0.5154365493216139, recall=0.40760524371275686, fmeasure=0.44154084371546704), mid=Score(precision=0.5402554310207854, recall=0.4308105876045223, fmeasure=0.46357401042162877), high=Score(precision=0.5679967652425573, recall=0.4556323037626598, fmeasure=0.4858891718623728)), 'rougeL': AggregateScore(low=Score(precision=0.457444276150138, recall=0.3600848942197825, fmeasure=0.3909794266174622), mid=Score(precision=0.4770079871410392, recall=0.3803817074077177, fmeasure=0.4087285153152276), high=Score(precision=0.4977068118625476, recall=0.4001819701412991, fmeasure=0.424896992792248)), 'rougeLsum': AggregateScore(low=Score(precision=0.4585150790317513, recall=0.3615370617424761, fmeasure=0.39265065858024295), mid=Score(precision=0.4766737077433454, recall=0.38061018508353184, fmeasure=0.40843107026910974), high=Score(precision=0.496560391265202, recall=0.4010054039788046, fmeasure=0.42507601703471215))}\n"
     ]
    }
   ],
   "source": [
    "print(\"Full Score Dictionary:\\n\", score)"
   ]
  },
  {
   "cell_type": "markdown",
   "metadata": {},
   "source": [
    "### Push Fine-Tuned Model to HuggingFace Hub (My Profile)"
   ]
  },
  {
   "cell_type": "code",
   "execution_count": 21,
   "metadata": {},
   "outputs": [
    {
     "name": "stderr",
     "output_type": "stream",
     "text": [
      "To https://huggingface.co/DunnBC22/pegasus-multi_news-NewsSummarization_BBC\n",
      "   472c3dd..0f792f0  main -> main\n",
      "\n",
      "WARNING:huggingface_hub.repository:To https://huggingface.co/DunnBC22/pegasus-multi_news-NewsSummarization_BBC\n",
      "   472c3dd..0f792f0  main -> main\n",
      "\n",
      "To https://huggingface.co/DunnBC22/pegasus-multi_news-NewsSummarization_BBC\n",
      "   0f792f0..d6db132  main -> main\n",
      "\n",
      "WARNING:huggingface_hub.repository:To https://huggingface.co/DunnBC22/pegasus-multi_news-NewsSummarization_BBC\n",
      "   0f792f0..d6db132  main -> main\n",
      "\n"
     ]
    },
    {
     "data": {
      "text/plain": [
       "'https://huggingface.co/DunnBC22/pegasus-multi_news-NewsSummarization_BBC/commit/0f792f04f499f2f6d633589c4926a2c09ec6e636'"
      ]
     },
     "execution_count": 21,
     "metadata": {},
     "output_type": "execute_result"
    }
   ],
   "source": [
    "trainer.push_to_hub(commit_message=\"All Dunn!\")"
   ]
  }
 ],
 "metadata": {
  "kernelspec": {
   "display_name": "Python 3.9.7 ('nlp')",
   "language": "python",
   "name": "python3"
  },
  "language_info": {
   "codemirror_mode": {
    "name": "ipython",
    "version": 3
   },
   "file_extension": ".py",
   "mimetype": "text/x-python",
   "name": "python",
   "nbconvert_exporter": "python",
   "pygments_lexer": "ipython3",
   "version": "3.9.7"
  },
  "orig_nbformat": 4,
  "vscode": {
   "interpreter": {
    "hash": "41bc52750e0704433c7c40a5c68d8f60e760babe95f2dffc82e8c3790208ff57"
   }
  }
 },
 "nbformat": 4,
 "nbformat_minor": 2
}
