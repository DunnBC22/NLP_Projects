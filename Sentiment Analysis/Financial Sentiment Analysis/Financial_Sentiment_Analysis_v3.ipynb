{
 "cells": [
  {
   "attachments": {},
   "cell_type": "markdown",
   "metadata": {},
   "source": [
    "### Sentiment Analysis of Statements about Finances\n",
    "\n",
    "Source for the Datasets: \n",
    "- https://www.kaggle.com/datasets/sbhatti/financial-sentiment-analysis\n",
    "- https://www.kaggle.com/datasets/ankurzing/sentiment-analysis-for-financial-news"
   ]
  },
  {
   "attachments": {},
   "cell_type": "markdown",
   "metadata": {},
   "source": [
    "### Exploratory Data Analysis & Preprocessing in Pandas"
   ]
  },
  {
   "attachments": {},
   "cell_type": "markdown",
   "metadata": {},
   "source": [
    "Importing the Necessary Libraries for the Entire Project"
   ]
  },
  {
   "cell_type": "code",
   "execution_count": 1,
   "metadata": {},
   "outputs": [
    {
     "name": "stdout",
     "output_type": "stream",
     "text": [
      "Git LFS initialized.\n"
     ]
    }
   ],
   "source": [
    "import os, sys\n",
    "os.environ['TOKENIZERS_PARALLELISM']='false'\n",
    "\n",
    "from pathlib import Path\n",
    "\n",
    "import numpy as np\n",
    "import pandas as pd\n",
    "import matplotlib.pyplot as plt\n",
    "\n",
    "import torch\n",
    "from torch import nn\n",
    "\n",
    "import datasets\n",
    "from datasets import Dataset, DatasetDict\n",
    "\n",
    "import transformers\n",
    "from transformers import AutoModelForSequenceClassification, AutoTokenizer\n",
    "from transformers import TrainingArguments, Trainer, set_seed, DataCollatorWithPadding\n",
    "\n",
    "import evaluate\n",
    "\n",
    "!git lfs install"
   ]
  },
  {
   "attachments": {},
   "cell_type": "markdown",
   "metadata": {},
   "source": [
    "#### Versions of Libraries Used"
   ]
  },
  {
   "cell_type": "code",
   "execution_count": 2,
   "metadata": {},
   "outputs": [
    {
     "name": "stdout",
     "output_type": "stream",
     "text": [
      "           Python: 3.9.12\n",
      "            NumPy: 1.23.5\n",
      "           Pandas: 2.0.0\n",
      "         Datasets: 2.11.0\n",
      "     Transformers: 4.27.4\n",
      "            Torch: 2.0.0\n",
      "         Evaluate: 0.4.0\n"
     ]
    }
   ],
   "source": [
    "n = 18\n",
    "\n",
    "print(\"Python:\".rjust(n), sys.version[0:6])\n",
    "print(\"NumPy:\".rjust(n), np.__version__)\n",
    "print(\"Pandas:\".rjust(n), pd.__version__)\n",
    "print(\"Datasets:\".rjust(n), datasets.__version__)\n",
    "print(\"Transformers:\".rjust(n), transformers.__version__)\n",
    "print(\"Torch:\".rjust(n), torch.__version__)\n",
    "print(\"Evaluate:\".rjust(n), evaluate.__version__)"
   ]
  },
  {
   "attachments": {},
   "cell_type": "markdown",
   "metadata": {},
   "source": [
    "#### Ingest First Dataset & Preprocess it"
   ]
  },
  {
   "cell_type": "code",
   "execution_count": 3,
   "metadata": {},
   "outputs": [
    {
     "name": "stdout",
     "output_type": "stream",
     "text": [
      "<class 'pandas.core.frame.DataFrame'>\n",
      "Index: 5836 entries, 0 to 5841\n",
      "Data columns (total 2 columns):\n",
      " #   Column  Non-Null Count  Dtype \n",
      "---  ------  --------------  ----- \n",
      " 0   text    5836 non-null   object\n",
      " 1   label   5836 non-null   object\n",
      "dtypes: object(2)\n",
      "memory usage: 136.8+ KB\n"
     ]
    }
   ],
   "source": [
    "data1 = pd.read_csv(\"data.csv\", \n",
    "                    engine=\"c\",\n",
    "                    names=[\"text\",\n",
    "                           \"label\"],\n",
    "                    header=0\n",
    "                    )\n",
    "\n",
    "data1 = data1.dropna()\n",
    "data1 = data1.drop_duplicates()\n",
    "\n",
    "data1['text'] = data1['text'].str.strip()\n",
    "data1['label'] = data1['label'].str.strip()\n",
    "\n",
    "data1.info()"
   ]
  },
  {
   "attachments": {},
   "cell_type": "markdown",
   "metadata": {},
   "source": [
    "#### Ingest Second Dataset & Preprocess it"
   ]
  },
  {
   "cell_type": "code",
   "execution_count": 4,
   "metadata": {},
   "outputs": [
    {
     "name": "stdout",
     "output_type": "stream",
     "text": [
      "<class 'pandas.core.frame.DataFrame'>\n",
      "Index: 4839 entries, 0 to 4844\n",
      "Data columns (total 2 columns):\n",
      " #   Column  Non-Null Count  Dtype \n",
      "---  ------  --------------  ----- \n",
      " 0   label   4839 non-null   object\n",
      " 1   text    4839 non-null   object\n",
      "dtypes: object(2)\n",
      "memory usage: 113.4+ KB\n"
     ]
    }
   ],
   "source": [
    "data2 = pd.read_csv(\"all-data.csv\", \n",
    "                    encoding_errors='ignore', \n",
    "                    engine=\"c\", \n",
    "                    names=['label', \n",
    "                           'text'],\n",
    "                    header=0\n",
    "                    )\n",
    "\n",
    "data2['label'] = data2['label'].str.strip()\n",
    "data2['text'] = data2['text'].str.strip()\n",
    "\n",
    "data2 = data2.drop_duplicates()\n",
    "data2.info()"
   ]
  },
  {
   "attachments": {},
   "cell_type": "markdown",
   "metadata": {},
   "source": [
    "#### Combine Both Datasets"
   ]
  },
  {
   "cell_type": "code",
   "execution_count": 5,
   "metadata": {},
   "outputs": [
    {
     "data": {
      "text/html": [
       "<div>\n",
       "<style scoped>\n",
       "    .dataframe tbody tr th:only-of-type {\n",
       "        vertical-align: middle;\n",
       "    }\n",
       "\n",
       "    .dataframe tbody tr th {\n",
       "        vertical-align: top;\n",
       "    }\n",
       "\n",
       "    .dataframe thead th {\n",
       "        text-align: right;\n",
       "    }\n",
       "</style>\n",
       "<table border=\"1\" class=\"dataframe\">\n",
       "  <thead>\n",
       "    <tr style=\"text-align: right;\">\n",
       "      <th></th>\n",
       "      <th>text</th>\n",
       "      <th>label</th>\n",
       "    </tr>\n",
       "  </thead>\n",
       "  <tbody>\n",
       "    <tr>\n",
       "      <th>0</th>\n",
       "      <td>The GeoSolutions technology will leverage Bene...</td>\n",
       "      <td>positive</td>\n",
       "    </tr>\n",
       "    <tr>\n",
       "      <th>1</th>\n",
       "      <td>$ESI on lows, down $1.50 to $2.50 BK a real po...</td>\n",
       "      <td>negative</td>\n",
       "    </tr>\n",
       "    <tr>\n",
       "      <th>2</th>\n",
       "      <td>For the last quarter of 2010 , Componenta 's n...</td>\n",
       "      <td>positive</td>\n",
       "    </tr>\n",
       "    <tr>\n",
       "      <th>3</th>\n",
       "      <td>According to the Finnish-Russian Chamber of Co...</td>\n",
       "      <td>neutral</td>\n",
       "    </tr>\n",
       "    <tr>\n",
       "      <th>4</th>\n",
       "      <td>The Swedish buyout firm has sold its remaining...</td>\n",
       "      <td>neutral</td>\n",
       "    </tr>\n",
       "  </tbody>\n",
       "</table>\n",
       "</div>"
      ],
      "text/plain": [
       "                                                text     label\n",
       "0  The GeoSolutions technology will leverage Bene...  positive\n",
       "1  $ESI on lows, down $1.50 to $2.50 BK a real po...  negative\n",
       "2  For the last quarter of 2010 , Componenta 's n...  positive\n",
       "3  According to the Finnish-Russian Chamber of Co...   neutral\n",
       "4  The Swedish buyout firm has sold its remaining...   neutral"
      ]
     },
     "execution_count": 5,
     "metadata": {},
     "output_type": "execute_result"
    }
   ],
   "source": [
    "data = pd.concat([data1, data2]).reset_index(drop=True)\n",
    "data.head()"
   ]
  },
  {
   "attachments": {},
   "cell_type": "markdown",
   "metadata": {},
   "source": [
    "#### Histogram of Text Lengths"
   ]
  },
  {
   "cell_type": "code",
   "execution_count": 6,
   "metadata": {},
   "outputs": [
    {
     "data": {
      "image/png": "[encoded data removed]",
      "text/plain": [
       "<Figure size 1800x800 with 1 Axes>"
      ]
     },
     "metadata": {},
     "output_type": "display_data"
    },
    {
     "name": "stdout",
     "output_type": "stream",
     "text": [
      "The maximum length of Speeches is 81 words.\n"
     ]
    }
   ],
   "source": [
    "data['text_length'] = data['text'].str.split().str.len()\n",
    "\n",
    "n_bin=82\n",
    "data.hist('text_length', \n",
    "          grid=False, \n",
    "          figsize=(18,8), \n",
    "          range=(0,n_bin), \n",
    "          bins=n_bin)\n",
    "plt.title('Histogram of Tweet Lengths')\n",
    "plt.xlabel('# of Words in Tweets')\n",
    "plt.ylabel('# of Samples')\n",
    "plt.show()\n",
    "\n",
    "print(f\"The maximum length of Speeches is {max(data['text_length'])} words.\")"
   ]
  },
  {
   "attachments": {},
   "cell_type": "markdown",
   "metadata": {},
   "source": [
    "#### Visualize: Description Lengths By Output/Class"
   ]
  },
  {
   "cell_type": "code",
   "execution_count": 7,
   "metadata": {},
   "outputs": [
    {
     "data": {
      "image/png": "[encoded data removed]",
      "text/plain": [
       "<Figure size 1000x400 with 1 Axes>"
      ]
     },
     "metadata": {},
     "output_type": "display_data"
    }
   ],
   "source": [
    "data.boxplot(\"text_length\", \n",
    "             by=\"label\", \n",
    "             grid=True, \n",
    "             showfliers=True,\n",
    "             figsize=(10,4))\n",
    "\n",
    "plt.suptitle('')\n",
    "plt.title('Review Length by Type')\n",
    "plt.xlabel('Sentiment Class')\n",
    "plt.ylabel('Words per Review')\n",
    "plt.show()"
   ]
  },
  {
   "attachments": {},
   "cell_type": "markdown",
   "metadata": {},
   "source": [
    "#### Class Distribution"
   ]
  },
  {
   "cell_type": "code",
   "execution_count": 8,
   "metadata": {},
   "outputs": [
    {
     "data": {
      "image/png": "[encoded data removed]",
      "text/plain": [
       "<Figure size 640x480 with 1 Axes>"
      ]
     },
     "metadata": {},
     "output_type": "display_data"
    }
   ],
   "source": [
    "class_counts = data.groupby(\"label\").count()\n",
    "\n",
    "class_counts['text_length'].plot.bar(label='labels', \n",
    "                                     color=plt.cm.Paired(np.arange(len(data))))\n",
    "plt.suptitle('')\n",
    "plt.title('Class Distribution')\n",
    "plt.xlabel('Class')\n",
    "plt.ylabel('# of Samples')\n",
    "plt.xticks(rotation = 0)\n",
    "plt.show()"
   ]
  },
  {
   "attachments": {},
   "cell_type": "markdown",
   "metadata": {},
   "source": [
    "#### Define Dictionaries to Convert Between String & Integer Class Values"
   ]
  },
  {
   "cell_type": "code",
   "execution_count": 9,
   "metadata": {},
   "outputs": [],
   "source": [
    "unique_classes = data['label'].unique()\n",
    "\n",
    "NUM_OF_LABELS = len(unique_classes)\n",
    "\n",
    "id2label = {idx:label for idx, label in enumerate(unique_classes)}\n",
    "label2id = {label:idx for idx, label in enumerate(unique_classes)}"
   ]
  },
  {
   "attachments": {},
   "cell_type": "markdown",
   "metadata": {},
   "source": [
    "#### Remove Overly Lengthy Samples & Unnecessary Features"
   ]
  },
  {
   "cell_type": "code",
   "execution_count": 10,
   "metadata": {},
   "outputs": [
    {
     "data": {
      "text/html": [
       "<div>\n",
       "<style scoped>\n",
       "    .dataframe tbody tr th:only-of-type {\n",
       "        vertical-align: middle;\n",
       "    }\n",
       "\n",
       "    .dataframe tbody tr th {\n",
       "        vertical-align: top;\n",
       "    }\n",
       "\n",
       "    .dataframe thead th {\n",
       "        text-align: right;\n",
       "    }\n",
       "</style>\n",
       "<table border=\"1\" class=\"dataframe\">\n",
       "  <thead>\n",
       "    <tr style=\"text-align: right;\">\n",
       "      <th></th>\n",
       "      <th>text</th>\n",
       "      <th>label</th>\n",
       "    </tr>\n",
       "  </thead>\n",
       "  <tbody>\n",
       "    <tr>\n",
       "      <th>0</th>\n",
       "      <td>The GeoSolutions technology will leverage Bene...</td>\n",
       "      <td>0</td>\n",
       "    </tr>\n",
       "    <tr>\n",
       "      <th>1</th>\n",
       "      <td>$ESI on lows, down $1.50 to $2.50 BK a real po...</td>\n",
       "      <td>1</td>\n",
       "    </tr>\n",
       "    <tr>\n",
       "      <th>2</th>\n",
       "      <td>For the last quarter of 2010 , Componenta 's n...</td>\n",
       "      <td>0</td>\n",
       "    </tr>\n",
       "    <tr>\n",
       "      <th>3</th>\n",
       "      <td>According to the Finnish-Russian Chamber of Co...</td>\n",
       "      <td>2</td>\n",
       "    </tr>\n",
       "    <tr>\n",
       "      <th>4</th>\n",
       "      <td>The Swedish buyout firm has sold its remaining...</td>\n",
       "      <td>2</td>\n",
       "    </tr>\n",
       "  </tbody>\n",
       "</table>\n",
       "</div>"
      ],
      "text/plain": [
       "                                                text  label\n",
       "0  The GeoSolutions technology will leverage Bene...      0\n",
       "1  $ESI on lows, down $1.50 to $2.50 BK a real po...      1\n",
       "2  For the last quarter of 2010 , Componenta 's n...      0\n",
       "3  According to the Finnish-Russian Chamber of Co...      2\n",
       "4  The Swedish buyout firm has sold its remaining...      2"
      ]
     },
     "execution_count": 10,
     "metadata": {},
     "output_type": "execute_result"
    }
   ],
   "source": [
    "data = data[data['text_length'] < 61]\n",
    "\n",
    "data = data.reset_index(drop=True)\n",
    "\n",
    "data = data.drop(columns=['text_length'])\n",
    "\n",
    "data['label'] = data['label'].replace(label2id)\n",
    "\n",
    "data.head()"
   ]
  },
  {
   "attachments": {},
   "cell_type": "markdown",
   "metadata": {},
   "source": [
    "#### Convert Pandas Dataframe to Dataset"
   ]
  },
  {
   "cell_type": "code",
   "execution_count": 11,
   "metadata": {},
   "outputs": [],
   "source": [
    "dataset = Dataset.from_pandas(data)"
   ]
  },
  {
   "attachments": {},
   "cell_type": "markdown",
   "metadata": {},
   "source": [
    "#### Convert Pandas DataFrame to Dataset & Split into Train/Eval Datasets"
   ]
  },
  {
   "cell_type": "code",
   "execution_count": 12,
   "metadata": {},
   "outputs": [
    {
     "name": "stdout",
     "output_type": "stream",
     "text": [
      "Training Dataset Shape: (8536, 2)\n",
      "Evaluation Dataset Shape: (2135, 2)\n",
      "Training Dataset Features: {'text': Value(dtype='string', id=None), 'label': Value(dtype='int64', id=None)}\n"
     ]
    }
   ],
   "source": [
    "# Split into train/eval Subsets\n",
    "train_eval = dataset.train_test_split(test_size=0.20)\n",
    "\n",
    "# Combine train/eval into datasetdict\n",
    "ds = DatasetDict({\n",
    "    'train' : train_eval['train'],\n",
    "    'eval' : train_eval['test']\n",
    "})\n",
    "\n",
    "print(f\"Training Dataset Shape: {ds['train'].shape}\")\n",
    "print(f\"Evaluation Dataset Shape: {ds['eval'].shape}\")\n",
    "print(f\"Training Dataset Features: {ds['train'].features}\")"
   ]
  },
  {
   "attachments": {},
   "cell_type": "markdown",
   "metadata": {},
   "source": [
    "#### Find Largest Tokenized Input Value"
   ]
  },
  {
   "cell_type": "code",
   "execution_count": 13,
   "metadata": {},
   "outputs": [
    {
     "name": "stdout",
     "output_type": "stream",
     "text": [
      "The longest article length is 106 tokens.\n"
     ]
    }
   ],
   "source": [
    "MODEL_CKPT = \"google/fnet-base\"\n",
    "\n",
    "tokenizer = AutoTokenizer.from_pretrained(MODEL_CKPT, \n",
    "                                             truncation=True, \n",
    "                                             padding=True,\n",
    "                                             batched=True, \n",
    "                                             batch_size=None)\n",
    "\n",
    "text_len = [len(tokenizer.encode(a)) for a in data[\"text\"]]\n",
    "\n",
    "MAX_LENGTH = max(text_len)\n",
    "\n",
    "print(f\"The longest article length is {MAX_LENGTH} tokens.\")"
   ]
  },
  {
   "attachments": {},
   "cell_type": "markdown",
   "metadata": {},
   "source": [
    "#### Basic Constants/Values"
   ]
  },
  {
   "cell_type": "code",
   "execution_count": 14,
   "metadata": {},
   "outputs": [
    {
     "name": "stdout",
     "output_type": "stream",
     "text": [
      "The maximum input length is 109.\n"
     ]
    }
   ],
   "source": [
    "MODEL_CKPT = \"google/fnet-large\"\n",
    "MODEL_NAME = MODEL_CKPT.split(\"/\")[-1] + \"-Financial_Sentiment_Analysis_v3\"\n",
    "\n",
    "DEVICE = torch.device(\"cpu\")\n",
    "MAX_INPUT_LENGTH = MAX_LENGTH + 3\n",
    "\n",
    "NUM_OF_EPOCHS = 10\n",
    "BATCH_SIZE = 64\n",
    "\n",
    "LR = 2e-5\n",
    "STRATEGY = \"epoch\"\n",
    "\n",
    "WEIGHT_DECAY = 0.01\n",
    "REPORTS_TO = \"tensorboard\"\n",
    "\n",
    "set_seed(42)\n",
    "\n",
    "print(f\"The maximum input length is {MAX_INPUT_LENGTH}.\")"
   ]
  },
  {
   "attachments": {},
   "cell_type": "markdown",
   "metadata": {},
   "source": [
    "#### Tokenize Entire Dataset"
   ]
  },
  {
   "cell_type": "code",
   "execution_count": 15,
   "metadata": {},
   "outputs": [
    {
     "data": {
      "application/vnd.jupyter.widget-view+json": {
       "model_id": "8858ed1ef0d049ec89c8912f782137b4",
       "version_major": 2,
       "version_minor": 0
      },
      "text/plain": [
       "Downloading (…)okenizer_config.json:   0%|          | 0.00/351 [00:00<?, ?B/s]"
      ]
     },
     "metadata": {},
     "output_type": "display_data"
    },
    {
     "data": {
      "application/vnd.jupyter.widget-view+json": {
       "model_id": "96f3438da40a475a847f46a06442c2cb",
       "version_major": 2,
       "version_minor": 0
      },
      "text/plain": [
       "Downloading spiece.model:   0%|          | 0.00/708k [00:00<?, ?B/s]"
      ]
     },
     "metadata": {},
     "output_type": "display_data"
    },
    {
     "data": {
      "application/vnd.jupyter.widget-view+json": {
       "model_id": "dd7cc4ee9a1d46a594d4764ea798afbd",
       "version_major": 2,
       "version_minor": 0
      },
      "text/plain": [
       "Downloading (…)/main/tokenizer.json:   0%|          | 0.00/1.12M [00:00<?, ?B/s]"
      ]
     },
     "metadata": {},
     "output_type": "display_data"
    },
    {
     "data": {
      "application/vnd.jupyter.widget-view+json": {
       "model_id": "967c967778854d80b65715bd7e1181e1",
       "version_major": 2,
       "version_minor": 0
      },
      "text/plain": [
       "Downloading (…)cial_tokens_map.json:   0%|          | 0.00/200 [00:00<?, ?B/s]"
      ]
     },
     "metadata": {},
     "output_type": "display_data"
    },
    {
     "data": {
      "application/vnd.jupyter.widget-view+json": {
       "model_id": "de61d6636782440daf50e0024ca5304d",
       "version_major": 2,
       "version_minor": 0
      },
      "text/plain": [
       "Map:   0%|          | 0/8536 [00:00<?, ? examples/s]"
      ]
     },
     "metadata": {},
     "output_type": "display_data"
    },
    {
     "data": {
      "application/vnd.jupyter.widget-view+json": {
       "model_id": "ac50279fdd7e4dda9ce13c353b98e69d",
       "version_major": 2,
       "version_minor": 0
      },
      "text/plain": [
       "Map:   0%|          | 0/2135 [00:00<?, ? examples/s]"
      ]
     },
     "metadata": {},
     "output_type": "display_data"
    },
    {
     "name": "stdout",
     "output_type": "stream",
     "text": [
      "Training Dataset Shape: (8536, 4)\n",
      "Evaluation Dataset Shape: (2135, 4)\n"
     ]
    }
   ],
   "source": [
    "# Define Tokenizer\n",
    "tokenizer = AutoTokenizer.from_pretrained(MODEL_CKPT)\n",
    "\n",
    "def tokenize(batch):\n",
    "    return tokenizer(batch['text'], \n",
    "                     truncation=True, \n",
    "                     padding=True, \n",
    "                     max_length=MAX_INPUT_LENGTH, \n",
    "                     return_tensors=\"np\")\n",
    "\n",
    "# Map 'Tokenize' Method to Entire Dataset\n",
    "encoded_ds = ds.map(tokenize, batched=True, batch_size=None)\n",
    "\n",
    "print('Training Dataset Shape:', encoded_ds['train'].shape)\n",
    "\n",
    "print('Evaluation Dataset Shape:', encoded_ds['eval'].shape)"
   ]
  },
  {
   "attachments": {},
   "cell_type": "markdown",
   "metadata": {},
   "source": [
    "#### Check Result of Tokenizing Dataset"
   ]
  },
  {
   "cell_type": "code",
   "execution_count": 16,
   "metadata": {},
   "outputs": [
    {
     "name": "stdout",
     "output_type": "stream",
     "text": [
      "{'text': Value(dtype='string', id=None), 'label': Value(dtype='int64', id=None), 'input_ids': Sequence(feature=Value(dtype='int32', id=None), length=-1, id=None), 'token_type_ids': Sequence(feature=Value(dtype='int8', id=None), length=-1, id=None)}\n",
      "Dataset({\n",
      "    features: ['text', 'label', 'input_ids', 'token_type_ids'],\n",
      "    num_rows: 8536\n",
      "})\n"
     ]
    }
   ],
   "source": [
    "print(encoded_ds['train'].features)\n",
    "print(encoded_ds['train'])"
   ]
  },
  {
   "attachments": {},
   "cell_type": "markdown",
   "metadata": {},
   "source": [
    "#### Instantiate Model"
   ]
  },
  {
   "cell_type": "code",
   "execution_count": 17,
   "metadata": {},
   "outputs": [
    {
     "data": {
      "application/vnd.jupyter.widget-view+json": {
       "model_id": "3f42751998ef4126bd1078d878a92f2a",
       "version_major": 2,
       "version_minor": 0
      },
      "text/plain": [
       "Downloading (…)lve/main/config.json:   0%|          | 0.00/627 [00:00<?, ?B/s]"
      ]
     },
     "metadata": {},
     "output_type": "display_data"
    },
    {
     "data": {
      "application/vnd.jupyter.widget-view+json": {
       "model_id": "7ba3e9164421424e893d2c2d2510738c",
       "version_major": 2,
       "version_minor": 0
      },
      "text/plain": [
       "Downloading pytorch_model.bin:   0%|          | 0.00/952M [00:00<?, ?B/s]"
      ]
     },
     "metadata": {},
     "output_type": "display_data"
    },
    {
     "name": "stderr",
     "output_type": "stream",
     "text": [
      "Some weights of the model checkpoint at google/fnet-large were not used when initializing FNetForSequenceClassification: ['cls.predictions.transform.LayerNorm.weight', 'cls.predictions.bias', 'cls.predictions.transform.dense.bias', 'cls.predictions.decoder.bias', 'cls.seq_relationship.weight', 'cls.seq_relationship.bias', 'cls.predictions.decoder.weight', 'cls.predictions.transform.dense.weight', 'cls.predictions.transform.LayerNorm.bias']\n",
      "- This IS expected if you are initializing FNetForSequenceClassification from the checkpoint of a model trained on another task or with another architecture (e.g. initializing a BertForSequenceClassification model from a BertForPreTraining model).\n",
      "- This IS NOT expected if you are initializing FNetForSequenceClassification from the checkpoint of a model that you expect to be exactly identical (initializing a BertForSequenceClassification model from a BertForSequenceClassification model).\n",
      "Some weights of FNetForSequenceClassification were not initialized from the model checkpoint at google/fnet-large and are newly initialized: ['classifier.weight', 'classifier.bias']\n",
      "You should probably TRAIN this model on a down-stream task to be able to use it for predictions and inference.\n"
     ]
    },
    {
     "data": {
      "text/plain": [
       "3"
      ]
     },
     "execution_count": 17,
     "metadata": {},
     "output_type": "execute_result"
    }
   ],
   "source": [
    "model = AutoModelForSequenceClassification.from_pretrained(MODEL_CKPT, \n",
    "                                                           num_labels=NUM_OF_LABELS\n",
    "                                                           ).to(DEVICE)\n",
    "\n",
    "model.config.num_labels"
   ]
  },
  {
   "attachments": {},
   "cell_type": "markdown",
   "metadata": {},
   "source": [
    "#### Define Function to Compute Metrics"
   ]
  },
  {
   "cell_type": "code",
   "execution_count": 18,
   "metadata": {},
   "outputs": [],
   "source": [
    "def compute_metrics(p):\n",
    "    accuracy_metric = evaluate.load(\"accuracy\")\n",
    "    \n",
    "    accuracy = accuracy_metric.compute(predictions=np.argmax(p.predictions, \n",
    "                                                             axis=1), \n",
    "                                       references=p.label_ids)['accuracy']\n",
    "    \n",
    "    ### ------------------- F1 scores -------------------\n",
    "    \n",
    "    f1_score_metric = evaluate.load(\"f1\")\n",
    "    \n",
    "    weighted_f1_score = f1_score_metric.compute(predictions=np.argmax(p.predictions, \n",
    "                                                                      axis=1), \n",
    "                                                references=p.label_ids, \n",
    "                                                average='weighted')[\"f1\"]\n",
    "    \n",
    "    micro_f1_score = f1_score_metric.compute(predictions=np.argmax(p.predictions, \n",
    "                                                                   axis=1), \n",
    "                                             references=p.label_ids, \n",
    "                                             average='micro')['f1']\n",
    "    \n",
    "    macro_f1_score = f1_score_metric.compute(predictions=np.argmax(p.predictions, \n",
    "                                                                   axis=1), \n",
    "                                             references=p.label_ids, \n",
    "                                             average='macro')[\"f1\"]\n",
    "    \n",
    "    ### ------------------- recall -------------------\n",
    "    \n",
    "    recall_metric = evaluate.load(\"recall\")\n",
    "    \n",
    "    weighted_recall = recall_metric.compute(predictions=np.argmax(p.predictions, \n",
    "                                                                  axis=1), \n",
    "                                            references=p.label_ids, \n",
    "                                            average='weighted')[\"recall\"]\n",
    "    \n",
    "    micro_recall = recall_metric.compute(predictions=np.argmax(p.predictions, \n",
    "                                                               axis=1), \n",
    "                                         references=p.label_ids, \n",
    "                                         average='micro')[\"recall\"]\n",
    "    \n",
    "    macro_recall = recall_metric.compute(predictions=np.argmax(p.predictions,\n",
    "                                                               axis=1), \n",
    "                                         references=p.label_ids, \n",
    "                                         average='macro')[\"recall\"]\n",
    "    \n",
    "    ### ------------------- precision -------------------\n",
    "    \n",
    "    precision_metric = evaluate.load(\"precision\")\n",
    "    \n",
    "    weighted_precision = precision_metric.compute(predictions=np.argmax(p.predictions, \n",
    "                                                                        axis=1), \n",
    "                                                  references=p.label_ids, \n",
    "                                                  average='weighted')[\"precision\"]\n",
    "    \n",
    "    micro_precision = precision_metric.compute(predictions=np.argmax(p.predictions, \n",
    "                                                                     axis=1), \n",
    "                                               references=p.label_ids, \n",
    "                                               average='micro')[\"precision\"]\n",
    "    \n",
    "    macro_precision = precision_metric.compute(predictions=np.argmax(p.predictions, \n",
    "                                                                     axis=1), \n",
    "                                               references=p.label_ids, \n",
    "                                               average='macro')[\"precision\"]\n",
    "    \n",
    "    # Return dictionary that includes all metrics (& their appropriate label)\n",
    "    return {\"accuracy\" : accuracy, \n",
    "            \"Weighted F1\" : weighted_f1_score,\n",
    "            \"Micro F1\" : micro_f1_score,\n",
    "            \"Macro F1\" : macro_f1_score,\n",
    "            \"Weighted Recall\" : weighted_recall,\n",
    "            \"Micro Recall\" : micro_recall,\n",
    "            \"Macro Recall\" : macro_recall,\n",
    "            \"Weighted Precision\" : weighted_precision,\n",
    "            \"Micro Precision\" : micro_precision,\n",
    "            \"Macro Precision\" : macro_precision\n",
    "            }"
   ]
  },
  {
   "attachments": {},
   "cell_type": "markdown",
   "metadata": {},
   "source": [
    "#### Instantiate Data Collator"
   ]
  },
  {
   "cell_type": "code",
   "execution_count": 19,
   "metadata": {},
   "outputs": [],
   "source": [
    "data_collator = DataCollatorWithPadding(tokenizer=tokenizer)"
   ]
  },
  {
   "attachments": {},
   "cell_type": "markdown",
   "metadata": {},
   "source": [
    "#### Instantiate TrainingArguments"
   ]
  },
  {
   "cell_type": "code",
   "execution_count": 20,
   "metadata": {},
   "outputs": [],
   "source": [
    "training_args = TrainingArguments(\n",
    "    output_dir=MODEL_NAME,\n",
    "    num_train_epochs=NUM_OF_EPOCHS,\n",
    "    learning_rate=LR,\n",
    "    per_device_train_batch_size=BATCH_SIZE, \n",
    "    per_device_eval_batch_size=BATCH_SIZE, \n",
    "    weight_decay=WEIGHT_DECAY,\n",
    "    log_level=\"error\",\n",
    "    logging_strategy=\"steps\", \n",
    "    logging_steps=50,\n",
    "    evaluation_strategy=STRATEGY,\n",
    "    save_strategy=STRATEGY,\n",
    "    load_best_model_at_end=True,\n",
    "    metric_for_best_model=\"eval_Weighted F1\",\n",
    "    greater_is_better=True,\n",
    "    logging_first_step=True,\n",
    "    group_by_length=True,\n",
    "    disable_tqdm=False,\n",
    "    hub_private_repo=True,\n",
    "    push_to_hub=True)"
   ]
  },
  {
   "attachments": {},
   "cell_type": "markdown",
   "metadata": {},
   "source": [
    "#### Subclass Trainer to Correctly Compute Loss Function"
   ]
  },
  {
   "cell_type": "code",
   "execution_count": 21,
   "metadata": {},
   "outputs": [],
   "source": [
    "class CustomTrainer(Trainer):\n",
    "    def compute_loss(self, model, inputs, return_outputs=False):\n",
    "        labels = inputs.get(\"labels\")\n",
    "        outputs = model(**inputs)\n",
    "        logits = outputs.get(\"logits\")\n",
    "        loss_fct = nn.CrossEntropyLoss(weight=torch.tensor([1.0, 2.0, 3.0]))\n",
    "        loss = loss_fct(logits.view(-1, self.model.config.num_labels), labels.view(-1))\n",
    "        return (loss, outputs) if return_outputs else loss"
   ]
  },
  {
   "attachments": {},
   "cell_type": "markdown",
   "metadata": {},
   "source": [
    "#### Instantiate Trainer"
   ]
  },
  {
   "cell_type": "code",
   "execution_count": 22,
   "metadata": {},
   "outputs": [
    {
     "name": "stderr",
     "output_type": "stream",
     "text": [
      "Cloning https://huggingface.co/DunnBC22/fnet-large-Financial_Sentiment_Analysis_v3 into local empty directory.\n"
     ]
    }
   ],
   "source": [
    "trainer = CustomTrainer(model=model, \n",
    "                  args=training_args, \n",
    "                  compute_metrics=compute_metrics,\n",
    "                  train_dataset=encoded_ds['train'], \n",
    "                  eval_dataset=encoded_ds['eval'], \n",
    "                  data_collator=data_collator,\n",
    "                  tokenizer=tokenizer)"
   ]
  },
  {
   "attachments": {},
   "cell_type": "markdown",
   "metadata": {},
   "source": [
    "#### Train Model"
   ]
  },
  {
   "cell_type": "code",
   "execution_count": 23,
   "metadata": {},
   "outputs": [
    {
     "name": "stderr",
     "output_type": "stream",
     "text": [
      "/Users/briandunn/Documents/deep_learning/dl/lib/python3.9/site-packages/transformers/optimization.py:391: FutureWarning: This implementation of AdamW is deprecated and will be removed in a future version. Use the PyTorch implementation torch.optim.AdamW instead, or set `no_deprecation_warning=True` to disable this warning\n",
      "  warnings.warn(\n"
     ]
    },
    {
     "data": {
      "application/vnd.jupyter.widget-view+json": {
       "model_id": "85bf1a40d754496db3e7842c97fe559c",
       "version_major": 2,
       "version_minor": 0
      },
      "text/plain": [
       "  0%|          | 0/1340 [00:00<?, ?it/s]"
      ]
     },
     "metadata": {},
     "output_type": "display_data"
    },
    {
     "name": "stdout",
     "output_type": "stream",
     "text": [
      "{'loss': 1.4558, 'learning_rate': 1.9985074626865674e-05, 'epoch': 0.01}\n",
      "{'loss': 0.81, 'learning_rate': 1.9253731343283585e-05, 'epoch': 0.37}\n",
      "{'loss': 0.6757, 'learning_rate': 1.8507462686567165e-05, 'epoch': 0.75}\n"
     ]
    },
    {
     "data": {
      "application/vnd.jupyter.widget-view+json": {
       "model_id": "8c3e63c8d49b4ee8a81aca9f627767aa",
       "version_major": 2,
       "version_minor": 0
      },
      "text/plain": [
       "  0%|          | 0/34 [00:00<?, ?it/s]"
      ]
     },
     "metadata": {},
     "output_type": "display_data"
    },
    {
     "name": "stdout",
     "output_type": "stream",
     "text": [
      "{'eval_loss': 0.5890011787414551, 'eval_accuracy': 0.585480093676815, 'eval_Weighted F1': 0.4739290274173566, 'eval_Micro F1': 0.585480093676815, 'eval_Macro F1': 0.36279759177569026, 'eval_Weighted Recall': 0.585480093676815, 'eval_Micro Recall': 0.585480093676815, 'eval_Macro Recall': 0.4297578136174626, 'eval_Weighted Precision': 0.5912111905595777, 'eval_Micro Precision': 0.585480093676815, 'eval_Macro Precision': 0.5210381627879025, 'eval_runtime': 572.1521, 'eval_samples_per_second': 3.732, 'eval_steps_per_second': 0.059, 'epoch': 1.0}\n",
      "{'loss': 0.615, 'learning_rate': 1.7761194029850748e-05, 'epoch': 1.12}\n",
      "{'loss': 0.542, 'learning_rate': 1.701492537313433e-05, 'epoch': 1.49}\n",
      "{'loss': 0.4815, 'learning_rate': 1.626865671641791e-05, 'epoch': 1.87}\n"
     ]
    },
    {
     "data": {
      "application/vnd.jupyter.widget-view+json": {
       "model_id": "ac597ec94b344a73a3c8c9a65b404738",
       "version_major": 2,
       "version_minor": 0
      },
      "text/plain": [
       "  0%|          | 0/34 [00:00<?, ?it/s]"
      ]
     },
     "metadata": {},
     "output_type": "display_data"
    },
    {
     "name": "stdout",
     "output_type": "stream",
     "text": [
      "{'eval_loss': 0.3994453251361847, 'eval_accuracy': 0.7826697892271662, 'eval_Weighted F1': 0.778931131467011, 'eval_Micro F1': 0.7826697892271662, 'eval_Macro F1': 0.7155645405318029, 'eval_Weighted Recall': 0.7826697892271662, 'eval_Micro Recall': 0.7826697892271662, 'eval_Macro Recall': 0.7039245533319153, 'eval_Weighted Precision': 0.7878024754296866, 'eval_Micro Precision': 0.7826697892271662, 'eval_Macro Precision': 0.7388441683808017, 'eval_runtime': 570.0533, 'eval_samples_per_second': 3.745, 'eval_steps_per_second': 0.06, 'epoch': 2.0}\n"
     ]
    },
    {
     "name": "stderr",
     "output_type": "stream",
     "text": [
      "Adding files tracked by Git LFS: ['.DS_Store']. This may take a bit of time if the files are large.\n"
     ]
    },
    {
     "name": "stdout",
     "output_type": "stream",
     "text": [
      "{'loss': 0.3774, 'learning_rate': 1.5522388059701494e-05, 'epoch': 2.24}\n",
      "{'loss': 0.3366, 'learning_rate': 1.4776119402985077e-05, 'epoch': 2.61}\n",
      "{'loss': 0.314, 'learning_rate': 1.4029850746268658e-05, 'epoch': 2.99}\n"
     ]
    },
    {
     "data": {
      "application/vnd.jupyter.widget-view+json": {
       "model_id": "78e683942fed43358450f8548241d450",
       "version_major": 2,
       "version_minor": 0
      },
      "text/plain": [
       "  0%|          | 0/34 [00:00<?, ?it/s]"
      ]
     },
     "metadata": {},
     "output_type": "display_data"
    },
    {
     "name": "stdout",
     "output_type": "stream",
     "text": [
      "{'eval_loss': 0.3560428321361542, 'eval_accuracy': 0.7990632318501171, 'eval_Weighted F1': 0.7977313198767033, 'eval_Micro F1': 0.7990632318501172, 'eval_Macro F1': 0.736751489500019, 'eval_Weighted Recall': 0.7990632318501171, 'eval_Micro Recall': 0.7990632318501171, 'eval_Macro Recall': 0.7252037377440934, 'eval_Weighted Precision': 0.8100534851227623, 'eval_Micro Precision': 0.7990632318501171, 'eval_Macro Precision': 0.7612057314604446, 'eval_runtime': 581.4066, 'eval_samples_per_second': 3.672, 'eval_steps_per_second': 0.058, 'epoch': 3.0}\n",
      "{'loss': 0.2486, 'learning_rate': 1.328358208955224e-05, 'epoch': 3.36}\n",
      "{'loss': 0.235, 'learning_rate': 1.2537313432835823e-05, 'epoch': 3.73}\n"
     ]
    },
    {
     "data": {
      "application/vnd.jupyter.widget-view+json": {
       "model_id": "f5db2a8a955f405aa2a4e9e5508b0f8b",
       "version_major": 2,
       "version_minor": 0
      },
      "text/plain": [
       "  0%|          | 0/34 [00:00<?, ?it/s]"
      ]
     },
     "metadata": {},
     "output_type": "display_data"
    },
    {
     "name": "stdout",
     "output_type": "stream",
     "text": [
      "{'eval_loss': 0.32777392864227295, 'eval_accuracy': 0.8201405152224824, 'eval_Weighted F1': 0.8217495227304409, 'eval_Micro F1': 0.8201405152224824, 'eval_Macro F1': 0.7548578890974982, 'eval_Weighted Recall': 0.8201405152224824, 'eval_Micro Recall': 0.8201405152224824, 'eval_Macro Recall': 0.7508943526446905, 'eval_Weighted Precision': 0.8273969119402248, 'eval_Micro Precision': 0.8201405152224824, 'eval_Macro Precision': 0.7630930133664333, 'eval_runtime': 571.7549, 'eval_samples_per_second': 3.734, 'eval_steps_per_second': 0.059, 'epoch': 4.0}\n",
      "{'loss': 0.2309, 'learning_rate': 1.1791044776119405e-05, 'epoch': 4.1}\n",
      "{'loss': 0.188, 'learning_rate': 1.1044776119402986e-05, 'epoch': 4.48}\n",
      "{'loss': 0.1986, 'learning_rate': 1.029850746268657e-05, 'epoch': 4.85}\n"
     ]
    },
    {
     "data": {
      "application/vnd.jupyter.widget-view+json": {
       "model_id": "e6216feb90ba4b34b30fb26682e07ea4",
       "version_major": 2,
       "version_minor": 0
      },
      "text/plain": [
       "  0%|          | 0/34 [00:00<?, ?it/s]"
      ]
     },
     "metadata": {},
     "output_type": "display_data"
    },
    {
     "name": "stdout",
     "output_type": "stream",
     "text": [
      "{'eval_loss': 0.3573662042617798, 'eval_accuracy': 0.8618266978922716, 'eval_Weighted F1': 0.8655209539834394, 'eval_Micro F1': 0.8618266978922716, 'eval_Macro F1': 0.8208742913000978, 'eval_Weighted Recall': 0.8618266978922716, 'eval_Micro Recall': 0.8618266978922716, 'eval_Macro Recall': 0.8400854990635674, 'eval_Weighted Precision': 0.8723242107411118, 'eval_Micro Precision': 0.8618266978922716, 'eval_Macro Precision': 0.8083647050243598, 'eval_runtime': 572.7753, 'eval_samples_per_second': 3.727, 'eval_steps_per_second': 0.059, 'epoch': 5.0}\n",
      "{'loss': 0.1838, 'learning_rate': 9.552238805970149e-06, 'epoch': 5.22}\n",
      "{'loss': 0.1485, 'learning_rate': 8.805970149253732e-06, 'epoch': 5.6}\n",
      "{'loss': 0.1605, 'learning_rate': 8.059701492537314e-06, 'epoch': 5.97}\n"
     ]
    },
    {
     "data": {
      "application/vnd.jupyter.widget-view+json": {
       "model_id": "7936b711a66144b29c21a730b99efca6",
       "version_major": 2,
       "version_minor": 0
      },
      "text/plain": [
       "  0%|          | 0/34 [00:00<?, ?it/s]"
      ]
     },
     "metadata": {},
     "output_type": "display_data"
    },
    {
     "name": "stdout",
     "output_type": "stream",
     "text": [
      "{'eval_loss': 0.3885968029499054, 'eval_accuracy': 0.7995316159250585, 'eval_Weighted F1': 0.7803428354754396, 'eval_Micro F1': 0.7995316159250586, 'eval_Macro F1': 0.6588158445976257, 'eval_Weighted Recall': 0.7995316159250585, 'eval_Micro Recall': 0.7995316159250585, 'eval_Macro Recall': 0.6469038522815648, 'eval_Weighted Precision': 0.778138163263271, 'eval_Micro Precision': 0.7995316159250585, 'eval_Macro Precision': 0.6987220074939374, 'eval_runtime': 571.7311, 'eval_samples_per_second': 3.734, 'eval_steps_per_second': 0.059, 'epoch': 6.0}\n",
      "{'loss': 0.1425, 'learning_rate': 7.313432835820896e-06, 'epoch': 6.34}\n",
      "{'loss': 0.1436, 'learning_rate': 6.567164179104478e-06, 'epoch': 6.72}\n"
     ]
    },
    {
     "data": {
      "application/vnd.jupyter.widget-view+json": {
       "model_id": "c28dfa2dfdb441e8a7fb4873ba68e9a4",
       "version_major": 2,
       "version_minor": 0
      },
      "text/plain": [
       "  0%|          | 0/34 [00:00<?, ?it/s]"
      ]
     },
     "metadata": {},
     "output_type": "display_data"
    },
    {
     "name": "stdout",
     "output_type": "stream",
     "text": [
      "{'eval_loss': 0.4039975702762604, 'eval_accuracy': 0.8229508196721311, 'eval_Weighted F1': 0.820676653014847, 'eval_Micro F1': 0.8229508196721311, 'eval_Macro F1': 0.7442069309467508, 'eval_Weighted Recall': 0.8229508196721311, 'eval_Micro Recall': 0.8229508196721311, 'eval_Macro Recall': 0.7336057451045414, 'eval_Weighted Precision': 0.8209948655272054, 'eval_Micro Precision': 0.8229508196721311, 'eval_Macro Precision': 0.7576208137220202, 'eval_runtime': 571.7322, 'eval_samples_per_second': 3.734, 'eval_steps_per_second': 0.059, 'epoch': 7.0}\n"
     ]
    },
    {
     "name": "stderr",
     "output_type": "stream",
     "text": [
      "Several commits (2) will be pushed upstream.\n"
     ]
    },
    {
     "name": "stdout",
     "output_type": "stream",
     "text": [
      "{'loss': 0.1368, 'learning_rate': 5.820895522388061e-06, 'epoch': 7.09}\n",
      "{'loss': 0.1253, 'learning_rate': 5.074626865671642e-06, 'epoch': 7.46}\n",
      "{'loss': 0.1373, 'learning_rate': 4.3283582089552236e-06, 'epoch': 7.84}\n"
     ]
    },
    {
     "data": {
      "application/vnd.jupyter.widget-view+json": {
       "model_id": "43ab4c9c61f54acb8b4276b3419cb12c",
       "version_major": 2,
       "version_minor": 0
      },
      "text/plain": [
       "  0%|          | 0/34 [00:00<?, ?it/s]"
      ]
     },
     "metadata": {},
     "output_type": "display_data"
    },
    {
     "name": "stdout",
     "output_type": "stream",
     "text": [
      "{'eval_loss': 0.4517393112182617, 'eval_accuracy': 0.8168618266978923, 'eval_Weighted F1': 0.807557064029797, 'eval_Micro F1': 0.8168618266978923, 'eval_Macro F1': 0.7123175103612404, 'eval_Weighted Recall': 0.8168618266978923, 'eval_Micro Recall': 0.8168618266978923, 'eval_Macro Recall': 0.7019914283796879, 'eval_Weighted Precision': 0.8030050439721781, 'eval_Micro Precision': 0.8168618266978923, 'eval_Macro Precision': 0.7322548905353868, 'eval_runtime': 571.7202, 'eval_samples_per_second': 3.734, 'eval_steps_per_second': 0.059, 'epoch': 8.0}\n"
     ]
    },
    {
     "name": "stderr",
     "output_type": "stream",
     "text": [
      "Several commits (3) will be pushed upstream.\n"
     ]
    },
    {
     "name": "stdout",
     "output_type": "stream",
     "text": [
      "{'loss': 0.1206, 'learning_rate': 3.582089552238806e-06, 'epoch': 8.21}\n",
      "{'loss': 0.1141, 'learning_rate': 2.835820895522388e-06, 'epoch': 8.58}\n",
      "{'loss': 0.1271, 'learning_rate': 2.08955223880597e-06, 'epoch': 8.96}\n"
     ]
    },
    {
     "data": {
      "application/vnd.jupyter.widget-view+json": {
       "model_id": "cfe687d64e144858a012087595421f14",
       "version_major": 2,
       "version_minor": 0
      },
      "text/plain": [
       "  0%|          | 0/34 [00:00<?, ?it/s]"
      ]
     },
     "metadata": {},
     "output_type": "display_data"
    },
    {
     "name": "stdout",
     "output_type": "stream",
     "text": [
      "{'eval_loss': 0.45325130224227905, 'eval_accuracy': 0.8070257611241218, 'eval_Weighted F1': 0.7944945373911929, 'eval_Micro F1': 0.8070257611241218, 'eval_Macro F1': 0.6891590047543085, 'eval_Weighted Recall': 0.8070257611241218, 'eval_Micro Recall': 0.8070257611241218, 'eval_Macro Recall': 0.6768345177275865, 'eval_Weighted Precision': 0.790593845937712, 'eval_Micro Precision': 0.8070257611241218, 'eval_Macro Precision': 0.7169021915882458, 'eval_runtime': 593.452, 'eval_samples_per_second': 3.598, 'eval_steps_per_second': 0.057, 'epoch': 9.0}\n",
      "{'loss': 0.1171, 'learning_rate': 1.3432835820895524e-06, 'epoch': 9.33}\n",
      "{'loss': 0.1199, 'learning_rate': 5.970149253731343e-07, 'epoch': 9.7}\n"
     ]
    },
    {
     "data": {
      "application/vnd.jupyter.widget-view+json": {
       "model_id": "d33afc6862254c128d11754d230f4260",
       "version_major": 2,
       "version_minor": 0
      },
      "text/plain": [
       "  0%|          | 0/34 [00:00<?, ?it/s]"
      ]
     },
     "metadata": {},
     "output_type": "display_data"
    },
    {
     "name": "stdout",
     "output_type": "stream",
     "text": [
      "{'eval_loss': 0.474141001701355, 'eval_accuracy': 0.824824355971897, 'eval_Weighted F1': 0.8193666524247488, 'eval_Micro F1': 0.824824355971897, 'eval_Macro F1': 0.7368644623841439, 'eval_Weighted Recall': 0.824824355971897, 'eval_Micro Recall': 0.824824355971897, 'eval_Macro Recall': 0.726942967276122, 'eval_Weighted Precision': 0.8163202759848958, 'eval_Micro Precision': 0.824824355971897, 'eval_Macro Precision': 0.7514878901301887, 'eval_runtime': 569.2941, 'eval_samples_per_second': 3.75, 'eval_steps_per_second': 0.06, 'epoch': 10.0}\n",
      "{'train_runtime': 95644.4856, 'train_samples_per_second': 0.892, 'train_steps_per_second': 0.014, 'train_loss': 0.26616470564657185, 'epoch': 10.0}\n"
     ]
    }
   ],
   "source": [
    "training_results = trainer.train()"
   ]
  },
  {
   "attachments": {},
   "cell_type": "markdown",
   "metadata": {},
   "source": [
    "#### Push Fine-Tuned Model to HuggingFace Hub (My Profile)"
   ]
  },
  {
   "cell_type": "code",
   "execution_count": 24,
   "metadata": {},
   "outputs": [
    {
     "name": "stderr",
     "output_type": "stream",
     "text": [
      "Several commits (2) will be pushed upstream.\n",
      "The progress bars may be unreliable.\n"
     ]
    },
    {
     "data": {
      "application/vnd.jupyter.widget-view+json": {
       "model_id": "af34055f6c0e42b4817c838dddf14468",
       "version_major": 2,
       "version_minor": 0
      },
      "text/plain": [
       "Upload file pytorch_model.bin:   0%|          | 1.00/904M [00:00<?, ?B/s]"
      ]
     },
     "metadata": {},
     "output_type": "display_data"
    },
    {
     "data": {
      "application/vnd.jupyter.widget-view+json": {
       "model_id": "a3e18969b2354ffda430c11ebc93642a",
       "version_major": 2,
       "version_minor": 0
      },
      "text/plain": [
       "Upload file runs/May08_13-29-44_Brians-Mac-mini.local/events.out.tfevents.1683570591.Brians-Mac-mini.local.147…"
      ]
     },
     "metadata": {},
     "output_type": "display_data"
    },
    {
     "name": "stderr",
     "output_type": "stream",
     "text": [
      "To https://huggingface.co/DunnBC22/fnet-large-Financial_Sentiment_Analysis_v3\n",
      "   fba6a97..8568dc9  main -> main\n",
      "\n"
     ]
    },
    {
     "data": {
      "application/vnd.jupyter.widget-view+json": {
       "model_id": "cf3741796599428d94b25c58eb897458",
       "version_major": 2,
       "version_minor": 0
      },
      "text/plain": [
       "Upload file .DS_Store: 100%|##########| 10.0k/10.0k [00:00<?, ?B/s]"
      ]
     },
     "metadata": {},
     "output_type": "display_data"
    },
    {
     "data": {
      "application/vnd.jupyter.widget-view+json": {
       "model_id": "ed2e3720ac3642eea35ec0f92b120413",
       "version_major": 2,
       "version_minor": 0
      },
      "text/plain": [
       "Upload file runs/.DS_Store: 100%|##########| 6.00k/6.00k [00:00<?, ?B/s]"
      ]
     },
     "metadata": {},
     "output_type": "display_data"
    },
    {
     "name": "stderr",
     "output_type": "stream",
     "text": [
      "To https://huggingface.co/DunnBC22/fnet-large-Financial_Sentiment_Analysis_v3\n",
      "   8568dc9..6106fbe  main -> main\n",
      "\n"
     ]
    },
    {
     "name": "stdout",
     "output_type": "stream",
     "text": [
      "***** train metrics *****\n",
      "  epoch                    =              10.0\n",
      "  train_loss               =            0.2662\n",
      "  train_runtime            = 1 day, 2:34:04.48\n",
      "  train_samples_per_second =             0.892\n",
      "  train_steps_per_second   =             0.014\n"
     ]
    },
    {
     "name": "stderr",
     "output_type": "stream",
     "text": [
      "To https://huggingface.co/DunnBC22/fnet-large-Financial_Sentiment_Analysis_v3\n",
      "   6106fbe..6e37896  main -> main\n",
      "\n"
     ]
    },
    {
     "data": {
      "text/plain": [
       "'https://huggingface.co/DunnBC22/fnet-large-Financial_Sentiment_Analysis_v3/commit/6e378968c8f4b949e2488cd04560995aec1bd891'"
      ]
     },
     "execution_count": 24,
     "metadata": {},
     "output_type": "execute_result"
    }
   ],
   "source": [
    "trainer.save_model()\n",
    "trainer.log_metrics(\"train\", training_results.metrics)\n",
    "trainer.save_metrics(\"train\", training_results.metrics)\n",
    "trainer.save_state()\n",
    "\n",
    "trainer.push_to_hub(commit_message=\"All Dunn!!!\")"
   ]
  },
  {
   "attachments": {},
   "cell_type": "markdown",
   "metadata": {},
   "source": [
    "#### Evaluate Model"
   ]
  },
  {
   "cell_type": "code",
   "execution_count": 25,
   "metadata": {},
   "outputs": [
    {
     "data": {
      "application/vnd.jupyter.widget-view+json": {
       "model_id": "6774076985ad42aca6383f179f0f6e0c",
       "version_major": 2,
       "version_minor": 0
      },
      "text/plain": [
       "  0%|          | 0/34 [00:00<?, ?it/s]"
      ]
     },
     "metadata": {},
     "output_type": "display_data"
    },
    {
     "name": "stdout",
     "output_type": "stream",
     "text": [
      "{'eval_loss': 0.3573662042617798, 'eval_accuracy': 0.8618266978922716, 'eval_Weighted F1': 0.8655209539834394, 'eval_Micro F1': 0.8618266978922716, 'eval_Macro F1': 0.8208742913000978, 'eval_Weighted Recall': 0.8618266978922716, 'eval_Micro Recall': 0.8618266978922716, 'eval_Macro Recall': 0.8400854990635674, 'eval_Weighted Precision': 0.8723242107411118, 'eval_Micro Precision': 0.8618266978922716, 'eval_Macro Precision': 0.8083647050243598, 'eval_runtime': 572.4513, 'eval_samples_per_second': 3.73, 'eval_steps_per_second': 0.059, 'epoch': 10.0}\n"
     ]
    }
   ],
   "source": [
    "metrics = trainer.evaluate()\n",
    "\n",
    "print(metrics)"
   ]
  },
  {
   "attachments": {},
   "cell_type": "markdown",
   "metadata": {},
   "source": [
    "### Notes & Other Takeaways From This Project\n",
    "****\n",
    "- Even though the results are better than the results were for the base checkpoint, I am frustrated that results did not yield even better results.\n",
    "\n",
    "****"
   ]
  },
  {
   "attachments": {},
   "cell_type": "markdown",
   "metadata": {},
   "source": [
    "### Citation(s)\n",
    "\n",
    "- Model Checkpoint\n",
    "    > @article{DBLP:journals/corr/abs-2105-03824, author = {James Lee{-}Thorp and Joshua Ainslie and Ilya Eckstein and Santiago Onta{\\~{n}}{\\'{o}}n}, title = {FNet: Mixing Tokens with Fourier Transforms}, journal   = {CoRR}, volume = {abs/2105.03824}, year = {2021}, url = {https://arxiv.org/abs/2105.03824}, archivePrefix = {arXiv}, eprint = {2105.03824}, timestamp = {Fri, 14 May 2021 12:13:30 +0200}, biburl = {https://dblp.org/rec/journals/corr/abs-2105-03824.bib}, bibsource = {dblp computer science bibliography, https://dblp.org}}\n"
   ]
  }
 ],
 "metadata": {
  "kernelspec": {
   "display_name": "Python 3.9.12 ('nlp_ch4')",
   "language": "python",
   "name": "python3"
  },
  "language_info": {
   "codemirror_mode": {
    "name": "ipython",
    "version": 3
   },
   "file_extension": ".py",
   "mimetype": "text/x-python",
   "name": "python",
   "nbconvert_exporter": "python",
   "pygments_lexer": "ipython3",
   "version": "3.9.12"
  },
  "orig_nbformat": 4,
  "vscode": {
   "interpreter": {
    "hash": "a52fe47989fdc78fafbb981021cec52a6b82df6453830b9ffbd04250493e6cab"
   }
  }
 },
 "nbformat": 4,
 "nbformat_minor": 2
}
