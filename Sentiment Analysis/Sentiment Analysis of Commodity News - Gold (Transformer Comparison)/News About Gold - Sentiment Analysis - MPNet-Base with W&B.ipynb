{
 "cells": [
  {
   "attachments": {},
   "cell_type": "markdown",
   "id": "e67daac8",
   "metadata": {},
   "source": [
    "## News About Gold\n",
    "\n",
    "Dataset Source: https://www.kaggle.com/datasets/ankurzing/sentiment-analysis-in-commodity-market-gold"
   ]
  },
  {
   "attachments": {},
   "cell_type": "markdown",
   "id": "d2c358a6",
   "metadata": {},
   "source": [
    "#### Import Necessary Libraries"
   ]
  },
  {
   "cell_type": "code",
   "execution_count": 1,
   "id": "617d6a4c",
   "metadata": {},
   "outputs": [
    {
     "name": "stdout",
     "output_type": "stream",
     "text": [
      "Git LFS initialized.\n"
     ]
    }
   ],
   "source": [
    "import os, sys\n",
    "os.environ['TOKENIZERS_PARALLELISM']='false'\n",
    "\n",
    "import numpy as np\n",
    "import pandas as pd\n",
    "import matplotlib.pyplot as plt\n",
    "\n",
    "import wandb\n",
    "\n",
    "import torch\n",
    "\n",
    "import transformers\n",
    "from transformers import AutoTokenizer, Trainer, TrainingArguments\n",
    "from transformers import AutoModelForSequenceClassification, set_seed\n",
    "from transformers import DataCollatorWithPadding\n",
    "\n",
    "import datasets\n",
    "from datasets import Dataset, DatasetDict\n",
    "\n",
    "import evaluate\n",
    "\n",
    "!git lfs install"
   ]
  },
  {
   "attachments": {},
   "cell_type": "markdown",
   "id": "48ed1f2c",
   "metadata": {},
   "source": [
    "#### Name Project for Weights & Biases"
   ]
  },
  {
   "cell_type": "code",
   "execution_count": 2,
   "id": "6d236c30",
   "metadata": {},
   "outputs": [
    {
     "name": "stdout",
     "output_type": "stream",
     "text": [
      "env: WANDB_PROJECT=News_About_Gold_MPNet-Base\n",
      "env: WANDB_LOG_MODEL='checkpoint'\n",
      "env: WANDB_NOTEBOOK_NAME=\"News About Gold - Sentiment Analysis - MPNet-Base.ipynb\"\n",
      "env: WANDB_WATCH=all\n"
     ]
    }
   ],
   "source": [
    "%env WANDB_PROJECT=News_About_Gold_MPNet-Base\n",
    "%env WANDB_LOG_MODEL='checkpoint'\n",
    "%env WANDB_NOTEBOOK_NAME=\"News About Gold - Sentiment Analysis - MPNet-Base.ipynb\"\n",
    "%env WANDB_WATCH=all"
   ]
  },
  {
   "attachments": {},
   "cell_type": "markdown",
   "id": "b4382b16",
   "metadata": {},
   "source": [
    "#### Log In To Weights & Biases"
   ]
  },
  {
   "cell_type": "code",
   "execution_count": 3,
   "id": "10e8c823",
   "metadata": {},
   "outputs": [
    {
     "name": "stderr",
     "output_type": "stream",
     "text": [
      "\u001b[34m\u001b[1mwandb\u001b[0m: \u001b[33mWARNING\u001b[0m WANDB_NOTEBOOK_NAME should be a path to a notebook file, couldn't find \"News About Gold - Sentiment Analysis - MPNet-Base.ipynb\".\n",
      "\u001b[34m\u001b[1mwandb\u001b[0m: Currently logged in as: \u001b[33mdunnbc22\u001b[0m. Use \u001b[1m`wandb login --relogin`\u001b[0m to force relogin\n"
     ]
    },
    {
     "data": {
      "text/plain": [
       "True"
      ]
     },
     "execution_count": 3,
     "metadata": {},
     "output_type": "execute_result"
    }
   ],
   "source": [
    "wandb.login()"
   ]
  },
  {
   "attachments": {},
   "cell_type": "markdown",
   "id": "d9f8e4b7",
   "metadata": {},
   "source": [
    "#### Display Library Versions"
   ]
  },
  {
   "cell_type": "code",
   "execution_count": 4,
   "id": "a1e3f193",
   "metadata": {},
   "outputs": [
    {
     "name": "stdout",
     "output_type": "stream",
     "text": [
      "      Library   Version\n",
      "****************************\n",
      "            Python : 3.9.12\n",
      "             NumPy : 1.24.3\n",
      "  Weights & Biases : 0.15.3\n",
      "            Pandas : 2.0.1\n",
      "             Torch : 2.0.0\n",
      "          Datasets : 2.11.0\n",
      "      Transformers : 4.28.1\n",
      "          Evaluate : 0.4.0\n"
     ]
    }
   ],
   "source": [
    "n = 20\n",
    "\n",
    "print(\"Library  \".rjust(15), \"Version\")\n",
    "print(\"*\" * (n + 8))\n",
    "\n",
    "print(\"Python :\".rjust(n), sys.version[0:6])\n",
    "print(\"NumPy :\".rjust(n), np.__version__)\n",
    "print(\"Weights & Biases :\".rjust(n), wandb.__version__)\n",
    "print(\"Pandas :\".rjust(n), pd.__version__)\n",
    "print(\"Torch :\".rjust(n), torch.__version__)\n",
    "print(\"Datasets :\".rjust(n), datasets.__version__)\n",
    "print(\"Transformers :\".rjust(n), transformers.__version__)\n",
    "print(\"Evaluate :\".rjust(n), evaluate.__version__)"
   ]
  },
  {
   "attachments": {},
   "cell_type": "markdown",
   "id": "242bbe6e",
   "metadata": {},
   "source": [
    "#### Ingest Data, Drop Unnecessary Columns, & Rename Remaining Columns"
   ]
  },
  {
   "cell_type": "code",
   "execution_count": 5,
   "id": "ece9f605",
   "metadata": {},
   "outputs": [
    {
     "data": {
      "text/html": [
       "<div>\n",
       "<style scoped>\n",
       "    .dataframe tbody tr th:only-of-type {\n",
       "        vertical-align: middle;\n",
       "    }\n",
       "\n",
       "    .dataframe tbody tr th {\n",
       "        vertical-align: top;\n",
       "    }\n",
       "\n",
       "    .dataframe thead th {\n",
       "        text-align: right;\n",
       "    }\n",
       "</style>\n",
       "<table border=\"1\" class=\"dataframe\">\n",
       "  <thead>\n",
       "    <tr style=\"text-align: right;\">\n",
       "      <th></th>\n",
       "      <th>text</th>\n",
       "      <th>label</th>\n",
       "    </tr>\n",
       "  </thead>\n",
       "  <tbody>\n",
       "    <tr>\n",
       "      <th>0</th>\n",
       "      <td>april gold down 20 cents to settle at $1,116.1...</td>\n",
       "      <td>negative</td>\n",
       "    </tr>\n",
       "    <tr>\n",
       "      <th>1</th>\n",
       "      <td>gold suffers third straight daily decline</td>\n",
       "      <td>negative</td>\n",
       "    </tr>\n",
       "    <tr>\n",
       "      <th>2</th>\n",
       "      <td>Gold futures edge up after two-session decline</td>\n",
       "      <td>positive</td>\n",
       "    </tr>\n",
       "    <tr>\n",
       "      <th>3</th>\n",
       "      <td>dent research : is gold's day in the sun comin...</td>\n",
       "      <td>none</td>\n",
       "    </tr>\n",
       "    <tr>\n",
       "      <th>4</th>\n",
       "      <td>Gold snaps three-day rally as Trump, lawmakers...</td>\n",
       "      <td>negative</td>\n",
       "    </tr>\n",
       "    <tr>\n",
       "      <th>...</th>\n",
       "      <td>...</td>\n",
       "      <td>...</td>\n",
       "    </tr>\n",
       "    <tr>\n",
       "      <th>10565</th>\n",
       "      <td>gold seen falling from 3-week high this week</td>\n",
       "      <td>negative</td>\n",
       "    </tr>\n",
       "    <tr>\n",
       "      <th>10566</th>\n",
       "      <td>dominic frisby : now looks like a good time to...</td>\n",
       "      <td>positive</td>\n",
       "    </tr>\n",
       "    <tr>\n",
       "      <th>10567</th>\n",
       "      <td>Gold heading for worst week since November on ...</td>\n",
       "      <td>negative</td>\n",
       "    </tr>\n",
       "    <tr>\n",
       "      <th>10568</th>\n",
       "      <td>august gold up $7.60 at $878.80 an ounce on nymex</td>\n",
       "      <td>positive</td>\n",
       "    </tr>\n",
       "    <tr>\n",
       "      <th>10569</th>\n",
       "      <td>december gold down $1 at $749 an ounce on nymex</td>\n",
       "      <td>negative</td>\n",
       "    </tr>\n",
       "  </tbody>\n",
       "</table>\n",
       "<p>10570 rows × 2 columns</p>\n",
       "</div>"
      ],
      "text/plain": [
       "                                                    text     label\n",
       "0      april gold down 20 cents to settle at $1,116.1...  negative\n",
       "1              gold suffers third straight daily decline  negative\n",
       "2         Gold futures edge up after two-session decline  positive\n",
       "3      dent research : is gold's day in the sun comin...      none\n",
       "4      Gold snaps three-day rally as Trump, lawmakers...  negative\n",
       "...                                                  ...       ...\n",
       "10565       gold seen falling from 3-week high this week  negative\n",
       "10566  dominic frisby : now looks like a good time to...  positive\n",
       "10567  Gold heading for worst week since November on ...  negative\n",
       "10568  august gold up $7.60 at $878.80 an ounce on nymex  positive\n",
       "10569    december gold down $1 at $749 an ounce on nymex  negative\n",
       "\n",
       "[10570 rows x 2 columns]"
      ]
     },
     "execution_count": 5,
     "metadata": {},
     "output_type": "execute_result"
    }
   ],
   "source": [
    "col_names = [\"Dates\",\n",
    "             \"URL\", \n",
    "             \"text\",\n",
    "             \"Price Direction Up\",\n",
    "             \"Price Direction Constant\",\n",
    "             \"Price Direction Down\",\n",
    "             \"Asset Comparision\",\n",
    "             \"Past Information\",\n",
    "             \"Future Information\",\n",
    "             \"label\",\n",
    "             ]\n",
    "\n",
    "data_types = {\"Dates\": str,\n",
    "             \"URL\": str, \n",
    "             \"text\": str,\n",
    "             \"Price Direction Up\": np.uint8,\n",
    "             \"Price Direction Constant\": np.uint8,\n",
    "             \"Price Direction Down\": np.uint8,\n",
    "             \"Asset Comparision\": np.uint8,\n",
    "             \"Past Information\": np.uint8,\n",
    "             \"Future Information\": np.uint8,\n",
    "             \"label\": str\n",
    "             }\n",
    "\n",
    "data = pd.read_csv(\"gold-dataset.csv\",\n",
    "                   names=col_names,\n",
    "                   dtype=data_types,\n",
    "                   engine=\"c\",\n",
    "                   header=0)\n",
    "\n",
    "data['text'] = data['text'].apply(lambda x: x.strip())\n",
    "\n",
    "data = data.drop(columns=\n",
    "                 [\n",
    "                     'URL',\n",
    "                     \"Price Direction Up\",\n",
    "                     \"Price Direction Constant\",\n",
    "                     \"Price Direction Down\",\n",
    "                     \"Asset Comparision\",\n",
    "                     \"Past Information\",\n",
    "                     \"Future Information\",\n",
    "                     'Dates'\n",
    "                    ]\n",
    "                 )\n",
    "\n",
    "data"
   ]
  },
  {
   "attachments": {},
   "cell_type": "markdown",
   "id": "50224af9",
   "metadata": {},
   "source": [
    "#### More Information About Dataset"
   ]
  },
  {
   "cell_type": "code",
   "execution_count": 6,
   "id": "640de3ac",
   "metadata": {},
   "outputs": [
    {
     "name": "stdout",
     "output_type": "stream",
     "text": [
      "<class 'pandas.core.frame.DataFrame'>\n",
      "RangeIndex: 10570 entries, 0 to 10569\n",
      "Data columns (total 2 columns):\n",
      " #   Column  Non-Null Count  Dtype \n",
      "---  ------  --------------  ----- \n",
      " 0   text    10570 non-null  object\n",
      " 1   label   10570 non-null  object\n",
      "dtypes: object(2)\n",
      "memory usage: 165.3+ KB\n"
     ]
    }
   ],
   "source": [
    "data.info()"
   ]
  },
  {
   "attachments": {},
   "cell_type": "markdown",
   "id": "983738d4",
   "metadata": {},
   "source": [
    "#### Title Case All Values in Label"
   ]
  },
  {
   "cell_type": "code",
   "execution_count": 7,
   "id": "06988715",
   "metadata": {},
   "outputs": [
    {
     "data": {
      "text/html": [
       "<div>\n",
       "<style scoped>\n",
       "    .dataframe tbody tr th:only-of-type {\n",
       "        vertical-align: middle;\n",
       "    }\n",
       "\n",
       "    .dataframe tbody tr th {\n",
       "        vertical-align: top;\n",
       "    }\n",
       "\n",
       "    .dataframe thead th {\n",
       "        text-align: right;\n",
       "    }\n",
       "</style>\n",
       "<table border=\"1\" class=\"dataframe\">\n",
       "  <thead>\n",
       "    <tr style=\"text-align: right;\">\n",
       "      <th></th>\n",
       "      <th>text</th>\n",
       "      <th>label</th>\n",
       "    </tr>\n",
       "  </thead>\n",
       "  <tbody>\n",
       "    <tr>\n",
       "      <th>0</th>\n",
       "      <td>april gold down 20 cents to settle at $1,116.1...</td>\n",
       "      <td>Negative</td>\n",
       "    </tr>\n",
       "    <tr>\n",
       "      <th>1</th>\n",
       "      <td>gold suffers third straight daily decline</td>\n",
       "      <td>Negative</td>\n",
       "    </tr>\n",
       "    <tr>\n",
       "      <th>2</th>\n",
       "      <td>Gold futures edge up after two-session decline</td>\n",
       "      <td>Positive</td>\n",
       "    </tr>\n",
       "    <tr>\n",
       "      <th>3</th>\n",
       "      <td>dent research : is gold's day in the sun comin...</td>\n",
       "      <td>None</td>\n",
       "    </tr>\n",
       "    <tr>\n",
       "      <th>4</th>\n",
       "      <td>Gold snaps three-day rally as Trump, lawmakers...</td>\n",
       "      <td>Negative</td>\n",
       "    </tr>\n",
       "  </tbody>\n",
       "</table>\n",
       "</div>"
      ],
      "text/plain": [
       "                                                text     label\n",
       "0  april gold down 20 cents to settle at $1,116.1...  Negative\n",
       "1          gold suffers third straight daily decline  Negative\n",
       "2     Gold futures edge up after two-session decline  Positive\n",
       "3  dent research : is gold's day in the sun comin...      None\n",
       "4  Gold snaps three-day rally as Trump, lawmakers...  Negative"
      ]
     },
     "execution_count": 7,
     "metadata": {},
     "output_type": "execute_result"
    }
   ],
   "source": [
    "data['label'] = data['label'].apply(lambda x: x.title())\n",
    "\n",
    "data.head()"
   ]
  },
  {
   "attachments": {},
   "cell_type": "markdown",
   "id": "09269047",
   "metadata": {},
   "source": [
    "#### Define Function to Create Bar Plot"
   ]
  },
  {
   "cell_type": "code",
   "execution_count": 8,
   "id": "5c540131",
   "metadata": {},
   "outputs": [],
   "source": [
    "def barplot_visual(feature_to_visualize: pd.Series,\n",
    "                   plot_title: str,\n",
    "                   x_label: str,\n",
    "                   y_label: str = \"# of Samples\",\n",
    "                   rotation: np.int8 = 0,\n",
    "                   annotation: np.bool_ = True\n",
    "                   ):\n",
    "    \"\"\"\n",
    "    This function returns a histogram for a feature.\n",
    "    \n",
    "    Inputs: \n",
    "    - feature_to_visualize: Feature to plot in the form \n",
    "    of pandas Series.\n",
    "    - plot_title: The title of the plot/visual.\n",
    "    - x_label: The string label value for the x label.\n",
    "    - y_label: The string label value for the y label.\n",
    "    - rotation: The integer value of the rotation of \n",
    "        x-tick values\n",
    "    - \n",
    "    \n",
    "    Output:\n",
    "    - A Bar Plot.\n",
    "    \"\"\"\n",
    "    \n",
    "    assert type(feature_to_visualize) == pd.Series, \\\n",
    "        \"Make sure the dataset input type is a Pandas Series.\"\n",
    "    assert type(plot_title) != 'str', \\\n",
    "        \"The title value must be a string value.\"\n",
    "    assert type(x_label) !=  'str', \\\n",
    "        \"The x label value must be a string value.\"\n",
    "    assert type(y_label) != 'str', \\\n",
    "        \"The y label value must be a string value.\"\n",
    "    assert type(rotation) != np.int8, \\\n",
    "        \"The rotation value must be an integer value.\"\n",
    "    \n",
    "    ax = feature_to_visualize.value_counts().plot.bar( \n",
    "                                                      figsize=(12,8),\n",
    "                                                      rot=rotation, \n",
    "                                                      legend=False,\n",
    "                                                      color=[\"lightgreen\", \n",
    "                                                             \"blue\", \n",
    "                                                             \"brown\", \n",
    "                                                             \"lightblue\",\n",
    "                                                             \"tan\", \n",
    "                                                             \"yellow\", \n",
    "                                                             \"orange\",\n",
    "                                                             \"green\", \n",
    "                                                             \"red\",\n",
    "                                                             \"purple\"]\n",
    "                                                      )\n",
    "    \n",
    "    if annotation:\n",
    "        ax.bar_label(ax.containers[0])\n",
    "    \n",
    "    plt.suptitle('')\n",
    "    plt.title(plot_title)\n",
    "    plt.ylabel(y_label)\n",
    "    plt.xlabel(x_label)\n",
    "    \n",
    "    plt.show()"
   ]
  },
  {
   "attachments": {},
   "cell_type": "markdown",
   "id": "0f372f4c",
   "metadata": {},
   "source": [
    "#### Visualization: Distribution of Scores"
   ]
  },
  {
   "cell_type": "code",
   "execution_count": 9,
   "id": "ff001fa1",
   "metadata": {},
   "outputs": [
    {
     "data": {
      "image/png": "[encoded data removed]",
      "text/plain": [
       "<Figure size 1200x800 with 1 Axes>"
      ]
     },
     "metadata": {},
     "output_type": "display_data"
    }
   ],
   "source": [
    "label_distribution = data['label']\n",
    "\n",
    "barplot_visual(label_distribution,\n",
    "               \"Distribution of Scores\",\n",
    "               \"Review Score\",\n",
    "               \"# of Samples\")"
   ]
  },
  {
   "attachments": {},
   "cell_type": "markdown",
   "id": "c6f699e6",
   "metadata": {},
   "source": [
    "#### Visualization: Distribution of Input Text Length"
   ]
  },
  {
   "cell_type": "code",
   "execution_count": 10,
   "id": "a43c1696",
   "metadata": {},
   "outputs": [
    {
     "data": {
      "image/png": "[encoded data removed]",
      "text/plain": [
       "<Figure size 640x480 with 1 Axes>"
      ]
     },
     "metadata": {},
     "output_type": "display_data"
    },
    {
     "name": "stdout",
     "output_type": "stream",
     "text": [
      "The longest input text is approximately 21 words long.\n"
     ]
    }
   ],
   "source": [
    "data['text_length'] = data['text'].str.split().apply(len)\n",
    "\n",
    "data.hist(\"text_length\", color=\"Blue\", grid=False, bins=21)\n",
    "plt.title(\"Length of Input Text\")\n",
    "plt.suptitle('')\n",
    "plt.xlabel('Input Text (in Words)')\n",
    "plt.ylabel('Words / Text')\n",
    "plt.show()\n",
    "\n",
    "max_len = max(data['text_length'])\n",
    "\n",
    "print(f\"The longest input text is approximately {max_len} words long.\")"
   ]
  },
  {
   "attachments": {},
   "cell_type": "markdown",
   "id": "93a8f30d",
   "metadata": {},
   "source": [
    "#### Remove Unnecessary Feature(s)"
   ]
  },
  {
   "cell_type": "code",
   "execution_count": 11,
   "id": "9f6a0768",
   "metadata": {},
   "outputs": [
    {
     "name": "stdout",
     "output_type": "stream",
     "text": [
      "<class 'pandas.core.frame.DataFrame'>\n",
      "RangeIndex: 10570 entries, 0 to 10569\n",
      "Data columns (total 2 columns):\n",
      " #   Column  Non-Null Count  Dtype \n",
      "---  ------  --------------  ----- \n",
      " 0   text    10570 non-null  object\n",
      " 1   label   10570 non-null  object\n",
      "dtypes: object(2)\n",
      "memory usage: 165.3+ KB\n"
     ]
    }
   ],
   "source": [
    "data = data.drop(columns=['text_length'])\n",
    "data.info()"
   ]
  },
  {
   "attachments": {},
   "cell_type": "markdown",
   "id": "642da7c1",
   "metadata": {},
   "source": [
    "#### Create Conversions Between Labels With String & Integer Data Types"
   ]
  },
  {
   "cell_type": "code",
   "execution_count": 12,
   "id": "becf8e84",
   "metadata": {},
   "outputs": [
    {
     "name": "stdout",
     "output_type": "stream",
     "text": [
      "['None', 'Negative', 'Neutral', 'Positive']\n",
      "4\n",
      "{0: 'None', 1: 'Negative', 2: 'Neutral', 3: 'Positive'}\n",
      "{'None': 0, 'Negative': 1, 'Neutral': 2, 'Positive': 3}\n"
     ]
    }
   ],
   "source": [
    "UNIQUE_LABEL_VALUES = ['None', \n",
    "                       'Negative', \n",
    "                       'Neutral', \n",
    "                       'Positive']\n",
    "\n",
    "NUM_LABELS = len(UNIQUE_LABEL_VALUES)\n",
    "\n",
    "id2label = {idx:label for idx, label in enumerate(UNIQUE_LABEL_VALUES)}\n",
    "label2id = {label:idx for idx, label in enumerate(UNIQUE_LABEL_VALUES)}\n",
    "\n",
    "print(UNIQUE_LABEL_VALUES)\n",
    "print(NUM_LABELS)\n",
    "print(id2label)\n",
    "print(label2id)"
   ]
  },
  {
   "attachments": {},
   "cell_type": "markdown",
   "id": "d593410c",
   "metadata": {},
   "source": [
    "#### Convert Label Values From String to Integer Data Type"
   ]
  },
  {
   "cell_type": "code",
   "execution_count": 13,
   "id": "87f57cbf",
   "metadata": {},
   "outputs": [
    {
     "data": {
      "text/html": [
       "<div>\n",
       "<style scoped>\n",
       "    .dataframe tbody tr th:only-of-type {\n",
       "        vertical-align: middle;\n",
       "    }\n",
       "\n",
       "    .dataframe tbody tr th {\n",
       "        vertical-align: top;\n",
       "    }\n",
       "\n",
       "    .dataframe thead th {\n",
       "        text-align: right;\n",
       "    }\n",
       "</style>\n",
       "<table border=\"1\" class=\"dataframe\">\n",
       "  <thead>\n",
       "    <tr style=\"text-align: right;\">\n",
       "      <th></th>\n",
       "      <th>text</th>\n",
       "      <th>label</th>\n",
       "    </tr>\n",
       "  </thead>\n",
       "  <tbody>\n",
       "    <tr>\n",
       "      <th>0</th>\n",
       "      <td>april gold down 20 cents to settle at $1,116.1...</td>\n",
       "      <td>1</td>\n",
       "    </tr>\n",
       "    <tr>\n",
       "      <th>1</th>\n",
       "      <td>gold suffers third straight daily decline</td>\n",
       "      <td>1</td>\n",
       "    </tr>\n",
       "    <tr>\n",
       "      <th>2</th>\n",
       "      <td>Gold futures edge up after two-session decline</td>\n",
       "      <td>3</td>\n",
       "    </tr>\n",
       "    <tr>\n",
       "      <th>3</th>\n",
       "      <td>dent research : is gold's day in the sun comin...</td>\n",
       "      <td>0</td>\n",
       "    </tr>\n",
       "    <tr>\n",
       "      <th>4</th>\n",
       "      <td>Gold snaps three-day rally as Trump, lawmakers...</td>\n",
       "      <td>1</td>\n",
       "    </tr>\n",
       "  </tbody>\n",
       "</table>\n",
       "</div>"
      ],
      "text/plain": [
       "                                                text  label\n",
       "0  april gold down 20 cents to settle at $1,116.1...      1\n",
       "1          gold suffers third straight daily decline      1\n",
       "2     Gold futures edge up after two-session decline      3\n",
       "3  dent research : is gold's day in the sun comin...      0\n",
       "4  Gold snaps three-day rally as Trump, lawmakers...      1"
      ]
     },
     "execution_count": 13,
     "metadata": {},
     "output_type": "execute_result"
    }
   ],
   "source": [
    "data['label'] = data['label'].replace(label2id)\n",
    "\n",
    "data.head()"
   ]
  },
  {
   "attachments": {},
   "cell_type": "markdown",
   "id": "62372620",
   "metadata": {},
   "source": [
    "#### Convert Pandas DataFrame to Datasets"
   ]
  },
  {
   "cell_type": "code",
   "execution_count": 14,
   "id": "21393e16",
   "metadata": {},
   "outputs": [],
   "source": [
    "dataset = Dataset.from_pandas(data)"
   ]
  },
  {
   "attachments": {},
   "cell_type": "markdown",
   "id": "ffbe2526",
   "metadata": {},
   "source": [
    "#### Split into Train/Test/Validate Datasets & Combine into DatasetDict"
   ]
  },
  {
   "cell_type": "code",
   "execution_count": 15,
   "id": "2ddcc257",
   "metadata": {},
   "outputs": [
    {
     "name": "stdout",
     "output_type": "stream",
     "text": [
      "Training data shape: (8456, 2)\n",
      "Eval data shape: (2114, 2)\n"
     ]
    }
   ],
   "source": [
    "train_eval = dataset.train_test_split(test_size=0.20)\n",
    "\n",
    "ds = DatasetDict({\n",
    "    'train' : train_eval['train'],\n",
    "    'eval' : train_eval['test']\n",
    "})\n",
    "\n",
    "print('Training data shape:', ds['train'].shape)\n",
    "print('Eval data shape:', ds['eval'].shape)"
   ]
  },
  {
   "attachments": {},
   "cell_type": "markdown",
   "id": "c7c2c71b",
   "metadata": {},
   "source": [
    "#### Determine Longest Tokenized Input Length"
   ]
  },
  {
   "cell_type": "code",
   "execution_count": 16,
   "id": "28a5084e",
   "metadata": {},
   "outputs": [
    {
     "name": "stdout",
     "output_type": "stream",
     "text": [
      "The longest tokenized input text length is approximately 39 tokens.\n"
     ]
    }
   ],
   "source": [
    "MODEL_CKPT = \"microsoft/mpnet-base\"\n",
    "\n",
    "tokenizer = AutoTokenizer.from_pretrained(MODEL_CKPT, \n",
    "                                             truncation=True, \n",
    "                                             padding=True,\n",
    "                                             batched=True, \n",
    "                                             batch_size=None)\n",
    "\n",
    "tokenized_input_text = [len(tokenizer.encode(a)) for a in ds['train']['text']]\n",
    "\n",
    "max_tokenized_input_text = max(tokenized_input_text)\n",
    "\n",
    "print(f\"The longest tokenized input text length is approximately {max_tokenized_input_text} tokens.\")"
   ]
  },
  {
   "attachments": {},
   "cell_type": "markdown",
   "id": "a8e6121e",
   "metadata": {},
   "source": [
    "#### Basic Values"
   ]
  },
  {
   "cell_type": "code",
   "execution_count": 17,
   "id": "cf6efed0",
   "metadata": {},
   "outputs": [],
   "source": [
    "NUM_OF_EPOCHS = 5\n",
    "MAX_INPUT_LENGTH = max_tokenized_input_text\n",
    "\n",
    "DEVICE = \"cpu\"\n",
    "BATCH_SIZE = 64\n",
    "\n",
    "STRATEGY = \"epoch\"\n",
    "MODEL_CKPT = \"microsoft/mpnet-base\"\n",
    "\n",
    "MODEL_NAME = f\"{MODEL_CKPT.split('/')[-1]}-News_About_Gold\"\n",
    "REPORTS_TO = [\"tensorboard\", \"wandb\"]\n",
    "\n",
    "LR = 2e-5\n",
    "WANDB_NAME = \"News_About_Gold-MPNet_Base\"\n",
    "\n",
    "set_seed(42)"
   ]
  },
  {
   "attachments": {},
   "cell_type": "markdown",
   "id": "54187dcd",
   "metadata": {},
   "source": [
    "#### Tokenize Whole Dataset"
   ]
  },
  {
   "cell_type": "code",
   "execution_count": 18,
   "id": "c41a9840",
   "metadata": {},
   "outputs": [
    {
     "data": {
      "application/vnd.jupyter.widget-view+json": {
       "model_id": "d1ba536f0e9f4aa297170e0709593c76",
       "version_major": 2,
       "version_minor": 0
      },
      "text/plain": [
       "Map:   0%|          | 0/8456 [00:00<?, ? examples/s]"
      ]
     },
     "metadata": {},
     "output_type": "display_data"
    },
    {
     "data": {
      "application/vnd.jupyter.widget-view+json": {
       "model_id": "31fb98f826664313b914dad6e6136040",
       "version_major": 2,
       "version_minor": 0
      },
      "text/plain": [
       "Map:   0%|          | 0/2114 [00:00<?, ? examples/s]"
      ]
     },
     "metadata": {},
     "output_type": "display_data"
    },
    {
     "name": "stdout",
     "output_type": "stream",
     "text": [
      "{'text': Value(dtype='string', id=None), 'label': Value(dtype='int64', id=None), 'input_ids': Sequence(feature=Value(dtype='int32', id=None), length=-1, id=None), 'attention_mask': Sequence(feature=Value(dtype='int8', id=None), length=-1, id=None)}\n",
      "Dataset({\n",
      "    features: ['text', 'label', 'input_ids', 'attention_mask'],\n",
      "    num_rows: 8456\n",
      "})\n"
     ]
    }
   ],
   "source": [
    "tokenizer = AutoTokenizer.from_pretrained(MODEL_CKPT)\n",
    "\n",
    "def tokenize(batch):\n",
    "    return tokenizer(batch['text'], \n",
    "                     truncation=True, \n",
    "                     padding=True, \n",
    "                     max_length=MAX_INPUT_LENGTH, \n",
    "                     return_tensors=\"np\")\n",
    "\n",
    "encoded_ds = ds.map(tokenize, \n",
    "                    batched=True, \n",
    "                    batch_size=None)\n",
    "\n",
    "print(encoded_ds['train'].features)\n",
    "print(encoded_ds['train'])"
   ]
  },
  {
   "attachments": {},
   "cell_type": "markdown",
   "id": "879e7fd8",
   "metadata": {},
   "source": [
    "#### Initialize Model"
   ]
  },
  {
   "cell_type": "code",
   "execution_count": 19,
   "id": "bda2bb12",
   "metadata": {},
   "outputs": [
    {
     "name": "stderr",
     "output_type": "stream",
     "text": [
      "Some weights of the model checkpoint at microsoft/mpnet-base were not used when initializing MPNetForSequenceClassification: ['lm_head.layer_norm.bias', 'lm_head.dense.bias', 'lm_head.dense.weight', 'lm_head.decoder.weight', 'lm_head.decoder.bias', 'lm_head.layer_norm.weight', 'lm_head.bias']\n",
      "- This IS expected if you are initializing MPNetForSequenceClassification from the checkpoint of a model trained on another task or with another architecture (e.g. initializing a BertForSequenceClassification model from a BertForPreTraining model).\n",
      "- This IS NOT expected if you are initializing MPNetForSequenceClassification from the checkpoint of a model that you expect to be exactly identical (initializing a BertForSequenceClassification model from a BertForSequenceClassification model).\n",
      "Some weights of MPNetForSequenceClassification were not initialized from the model checkpoint at microsoft/mpnet-base and are newly initialized: ['classifier.out_proj.weight', 'classifier.dense.bias', 'classifier.out_proj.bias', 'classifier.dense.weight']\n",
      "You should probably TRAIN this model on a down-stream task to be able to use it for predictions and inference.\n"
     ]
    }
   ],
   "source": [
    "model = (\n",
    "    AutoModelForSequenceClassification.from_pretrained(MODEL_CKPT, \n",
    "                                                       num_labels=NUM_LABELS)\n",
    "    ).to(DEVICE)"
   ]
  },
  {
   "attachments": {},
   "cell_type": "markdown",
   "id": "c05c8359",
   "metadata": {},
   "source": [
    "#### Define Data Collator"
   ]
  },
  {
   "cell_type": "code",
   "execution_count": 20,
   "id": "9d6b1099",
   "metadata": {},
   "outputs": [],
   "source": [
    "data_collator = DataCollatorWithPadding(tokenizer, \n",
    "                                        padding=True)"
   ]
  },
  {
   "attachments": {},
   "cell_type": "markdown",
   "id": "5b4af8d7",
   "metadata": {},
   "source": [
    "#### Metrics Evaluation Function"
   ]
  },
  {
   "cell_type": "code",
   "execution_count": 21,
   "id": "f032424d",
   "metadata": {},
   "outputs": [],
   "source": [
    "def compute_metrics(p):\n",
    "    \"\"\"\n",
    "    This function takes the predictions output from \n",
    "    trainer.evaluate & returns metrics (accuracy, F1, \n",
    "    recall, & precision) for a multiclass \n",
    "    classification project.\n",
    "    \"\"\"\n",
    "    accuracy_metric = evaluate.load(\"accuracy\")\n",
    "    accuracy = accuracy_metric.compute(predictions=np.argmax(p.predictions, \n",
    "                                                             axis=1), \n",
    "                                       references=p.label_ids)['accuracy']\n",
    "    \n",
    "    ### ------------------- F1 scores -------------------\n",
    "    \n",
    "    f1_score_metric = evaluate.load(\"f1\")\n",
    "    weighted_f1_score = f1_score_metric.compute(predictions=np.argmax(p.predictions, \n",
    "                                                                      axis=1), \n",
    "                                                references=p.label_ids, \n",
    "                                                average='weighted')[\"f1\"]\n",
    "    \n",
    "    micro_f1_score = f1_score_metric.compute(predictions=np.argmax(p.predictions, \n",
    "                                                                   axis=1), \n",
    "                                             references=p.label_ids, \n",
    "                                             average='micro')['f1']\n",
    "    \n",
    "    macro_f1_score = f1_score_metric.compute(predictions=np.argmax(p.predictions, \n",
    "                                                                   axis=1), \n",
    "                                             references=p.label_ids, \n",
    "                                             average='macro')[\"f1\"]\n",
    "    \n",
    "    ### ------------------- recall -------------------\n",
    "    \n",
    "    recall_metric = evaluate.load(\"recall\")\n",
    "    weighted_recall = recall_metric.compute(predictions=np.argmax(p.predictions, \n",
    "                                                                  axis=1), \n",
    "                                            references=p.label_ids, \n",
    "                                            average='weighted')[\"recall\"]\n",
    "    \n",
    "    micro_recall = recall_metric.compute(predictions=np.argmax(p.predictions, \n",
    "                                                               axis=1), \n",
    "                                         references=p.label_ids, \n",
    "                                         average='micro')[\"recall\"]\n",
    "    \n",
    "    macro_recall = recall_metric.compute(predictions=np.argmax(p.predictions, \n",
    "                                                               axis=1), \n",
    "                                         references=p.label_ids, \n",
    "                                         average='macro')[\"recall\"]\n",
    "    \n",
    "    ### ------------------- precision -------------------\n",
    "    \n",
    "    precision_metric = evaluate.load(\"precision\")\n",
    "    weighted_precision = precision_metric.compute(predictions=np.argmax(p.predictions, \n",
    "                                                                        axis=1), \n",
    "                                                  references=p.label_ids, \n",
    "                                                  average='weighted')[\"precision\"]\n",
    "    \n",
    "    micro_precision = precision_metric.compute(predictions=np.argmax(p.predictions, \n",
    "                                                                     axis=1), \n",
    "                                               references=p.label_ids, \n",
    "                                               average='micro')[\"precision\"]\n",
    "    \n",
    "    macro_precision = precision_metric.compute(predictions=np.argmax(p.predictions, \n",
    "                                                                     axis=1), \n",
    "                                               references=p.label_ids, \n",
    "                                               average='macro')[\"precision\"]\n",
    "    \n",
    "    return {\"accuracy\" : accuracy, \n",
    "            \"Weighted F1\" : weighted_f1_score,\n",
    "            \"Micro F1\" : micro_f1_score,\n",
    "            \"Macro F1\" : macro_f1_score,\n",
    "            \"Weighted Recall\" : weighted_recall,\n",
    "            \"Micro Recall\" : micro_recall,\n",
    "            \"Macro Recall\" : macro_recall,\n",
    "            \"Weighted Precision\" : weighted_precision,\n",
    "            \"Micro Precision\" : micro_precision,\n",
    "            \"Macro Precision\" : macro_precision\n",
    "            }"
   ]
  },
  {
   "attachments": {},
   "cell_type": "markdown",
   "id": "08334475",
   "metadata": {},
   "source": [
    "#### Trainer Arguments"
   ]
  },
  {
   "cell_type": "code",
   "execution_count": 22,
   "id": "0358228f",
   "metadata": {},
   "outputs": [],
   "source": [
    "args = TrainingArguments(output_dir=MODEL_NAME, \n",
    "                         num_train_epochs=NUM_OF_EPOCHS, \n",
    "                         per_device_train_batch_size=BATCH_SIZE, \n",
    "                         per_device_eval_batch_size=BATCH_SIZE, \n",
    "                         weight_decay=0.01,\n",
    "                         learning_rate=LR,\n",
    "                         evaluation_strategy=STRATEGY,\n",
    "                         logging_strategy=STRATEGY,\n",
    "                         logging_first_step=True,\n",
    "                         save_strategy=STRATEGY, \n",
    "                         report_to=REPORTS_TO,\n",
    "                         run_name=WANDB_NAME,\n",
    "                         group_by_length=True,\n",
    "                         hub_private_repo=True,\n",
    "                         push_to_hub=True\n",
    "                         )"
   ]
  },
  {
   "attachments": {},
   "cell_type": "markdown",
   "id": "bb7b50e7",
   "metadata": {},
   "source": [
    "#### Subclass Trainer to Handle Class Imbalance"
   ]
  },
  {
   "cell_type": "code",
   "execution_count": 23,
   "id": "ea55bf10",
   "metadata": {},
   "outputs": [],
   "source": [
    "class CustomTrainer(Trainer):\n",
    "    def compute_loss(self, model, inputs, return_outputs=False):\n",
    "        labels = inputs.get(\"labels\")\n",
    "        outputs = model(**inputs)\n",
    "        logits = outputs.get(\"logits\")\n",
    "        loss_fct = torch.nn.CrossEntropyLoss(weight=torch.tensor([1.0, 2.0, 3.0, 4.0]))\n",
    "        loss = loss_fct(logits.view(-1, self.model.config.num_labels), labels.view(-1))\n",
    "        return (loss, outputs) if return_outputs else loss"
   ]
  },
  {
   "attachments": {},
   "cell_type": "markdown",
   "id": "191fe09e",
   "metadata": {},
   "source": [
    "#### Build Trainer"
   ]
  },
  {
   "cell_type": "code",
   "execution_count": 24,
   "id": "3551a802",
   "metadata": {},
   "outputs": [
    {
     "name": "stderr",
     "output_type": "stream",
     "text": [
      "Cloning https://huggingface.co/DunnBC22/mpnet-base-News_About_Gold into local empty directory.\n"
     ]
    }
   ],
   "source": [
    "trainer = Trainer(model=model, \n",
    "                  args=args, \n",
    "                  train_dataset=encoded_ds['train'], \n",
    "                  eval_dataset=encoded_ds['eval'],\n",
    "                  tokenizer=tokenizer,\n",
    "                  data_collator=data_collator,\n",
    "                  compute_metrics=compute_metrics)"
   ]
  },
  {
   "attachments": {},
   "cell_type": "markdown",
   "id": "cc60f187",
   "metadata": {},
   "source": [
    "#### Train the Trainer"
   ]
  },
  {
   "cell_type": "code",
   "execution_count": 25,
   "id": "a0e50f1c",
   "metadata": {},
   "outputs": [
    {
     "name": "stderr",
     "output_type": "stream",
     "text": [
      "/Users/briandunn/Documents/deep_learning/dl/lib/python3.9/site-packages/transformers/optimization.py:391: FutureWarning: This implementation of AdamW is deprecated and will be removed in a future version. Use the PyTorch implementation torch.optim.AdamW instead, or set `no_deprecation_warning=True` to disable this warning\n",
      "  warnings.warn(\n"
     ]
    },
    {
     "data": {
      "text/html": [
       "Tracking run with wandb version 0.15.3"
      ],
      "text/plain": [
       "<IPython.core.display.HTML object>"
      ]
     },
     "metadata": {},
     "output_type": "display_data"
    },
    {
     "data": {
      "text/html": [
       "Run data is saved locally in <code>/Users/briandunn/Desktop/current projects/Sentiment Analysis of Commodity News (Gold)/wandb/run-20230606_104611-u6njythc</code>"
      ],
      "text/plain": [
       "<IPython.core.display.HTML object>"
      ]
     },
     "metadata": {},
     "output_type": "display_data"
    },
    {
     "data": {
      "text/html": [
       "Syncing run <strong><a href='https://wandb.ai/dunnbc22/News_About_Gold_MPNet-Base/runs/u6njythc' target=\"_blank\">News_About_Gold-MPNet_Base</a></strong> to <a href='https://wandb.ai/dunnbc22/News_About_Gold_MPNet-Base' target=\"_blank\">Weights & Biases</a> (<a href='https://wandb.me/run' target=\"_blank\">docs</a>)<br/>"
      ],
      "text/plain": [
       "<IPython.core.display.HTML object>"
      ]
     },
     "metadata": {},
     "output_type": "display_data"
    },
    {
     "data": {
      "text/html": [
       " View project at <a href='https://wandb.ai/dunnbc22/News_About_Gold_MPNet-Base' target=\"_blank\">https://wandb.ai/dunnbc22/News_About_Gold_MPNet-Base</a>"
      ],
      "text/plain": [
       "<IPython.core.display.HTML object>"
      ]
     },
     "metadata": {},
     "output_type": "display_data"
    },
    {
     "data": {
      "text/html": [
       " View run at <a href='https://wandb.ai/dunnbc22/News_About_Gold_MPNet-Base/runs/u6njythc' target=\"_blank\">https://wandb.ai/dunnbc22/News_About_Gold_MPNet-Base/runs/u6njythc</a>"
      ],
      "text/plain": [
       "<IPython.core.display.HTML object>"
      ]
     },
     "metadata": {},
     "output_type": "display_data"
    },
    {
     "data": {
      "application/vnd.jupyter.widget-view+json": {
       "model_id": "83cff3d6363c4a05a9256d1de2f7fa81",
       "version_major": 2,
       "version_minor": 0
      },
      "text/plain": [
       "  0%|          | 0/665 [00:00<?, ?it/s]"
      ]
     },
     "metadata": {},
     "output_type": "display_data"
    },
    {
     "name": "stderr",
     "output_type": "stream",
     "text": [
      "You're using a MPNetTokenizerFast tokenizer. Please note that with a fast tokenizer, using the `__call__` method is faster than using a method to encode the text followed by a call to the `pad` method to get a padded encoding.\n"
     ]
    },
    {
     "name": "stdout",
     "output_type": "stream",
     "text": [
      "{'loss': 1.3711, 'learning_rate': 1.9969924812030075e-05, 'epoch': 0.01}\n",
      "{'loss': 0.8316, 'learning_rate': 1.6000000000000003e-05, 'epoch': 1.0}\n"
     ]
    },
    {
     "data": {
      "application/vnd.jupyter.widget-view+json": {
       "model_id": "b6c299880d2f43cb91fd2df3efa2b2de",
       "version_major": 2,
       "version_minor": 0
      },
      "text/plain": [
       "  0%|          | 0/34 [00:00<?, ?it/s]"
      ]
     },
     "metadata": {},
     "output_type": "display_data"
    },
    {
     "name": "stderr",
     "output_type": "stream",
     "text": [
      "/Users/briandunn/Documents/deep_learning/dl/lib/python3.9/site-packages/sklearn/metrics/_classification.py:1344: UndefinedMetricWarning: Precision is ill-defined and being set to 0.0 in labels with no predicted samples. Use `zero_division` parameter to control this behavior.\n",
      "  _warn_prf(average, modifier, msg_start, len(result))\n",
      "/Users/briandunn/Documents/deep_learning/dl/lib/python3.9/site-packages/sklearn/metrics/_classification.py:1344: UndefinedMetricWarning: Precision is ill-defined and being set to 0.0 in labels with no predicted samples. Use `zero_division` parameter to control this behavior.\n",
      "  _warn_prf(average, modifier, msg_start, len(result))\n"
     ]
    },
    {
     "name": "stdout",
     "output_type": "stream",
     "text": [
      "{'eval_loss': 0.5145628452301025, 'eval_accuracy': 0.8741721854304636, 'eval_Weighted F1': 0.8603964783111477, 'eval_Micro F1': 0.8741721854304636, 'eval_Macro F1': 0.6541101244678926, 'eval_Weighted Recall': 0.8741721854304636, 'eval_Micro Recall': 0.8741721854304636, 'eval_Macro Recall': 0.6583211627008465, 'eval_Weighted Precision': 0.8487159759942685, 'eval_Micro Precision': 0.8741721854304636, 'eval_Macro Precision': 0.6514983136590513, 'eval_runtime': 92.9359, 'eval_samples_per_second': 22.747, 'eval_steps_per_second': 0.366, 'epoch': 1.0}\n",
      "{'loss': 0.4675, 'learning_rate': 1.2e-05, 'epoch': 2.0}\n"
     ]
    },
    {
     "data": {
      "application/vnd.jupyter.widget-view+json": {
       "model_id": "d80050ee3b4e473aabc5f46c586b62ed",
       "version_major": 2,
       "version_minor": 0
      },
      "text/plain": [
       "  0%|          | 0/34 [00:00<?, ?it/s]"
      ]
     },
     "metadata": {},
     "output_type": "display_data"
    },
    {
     "name": "stdout",
     "output_type": "stream",
     "text": [
      "{'eval_loss': 0.38334017992019653, 'eval_accuracy': 0.8897824030274362, 'eval_Weighted F1': 0.8857497992346515, 'eval_Micro F1': 0.8897824030274362, 'eval_Macro F1': 0.7813222457459127, 'eval_Weighted Recall': 0.8897824030274362, 'eval_Micro Recall': 0.8897824030274362, 'eval_Macro Recall': 0.7542250746628558, 'eval_Weighted Precision': 0.8862409167175467, 'eval_Micro Precision': 0.8897824030274362, 'eval_Macro Precision': 0.8298483982859975, 'eval_runtime': 98.2754, 'eval_samples_per_second': 21.511, 'eval_steps_per_second': 0.346, 'epoch': 2.0}\n",
      "{'loss': 0.3276, 'learning_rate': 8.000000000000001e-06, 'epoch': 3.0}\n"
     ]
    },
    {
     "data": {
      "application/vnd.jupyter.widget-view+json": {
       "model_id": "38ed04cb6569416f9eb4aa0bccd18af0",
       "version_major": 2,
       "version_minor": 0
      },
      "text/plain": [
       "  0%|          | 0/34 [00:00<?, ?it/s]"
      ]
     },
     "metadata": {},
     "output_type": "display_data"
    },
    {
     "name": "stdout",
     "output_type": "stream",
     "text": [
      "{'eval_loss': 0.34639957547187805, 'eval_accuracy': 0.8997161778618732, 'eval_Weighted F1': 0.8985275940583456, 'eval_Micro F1': 0.8997161778618732, 'eval_Macro F1': 0.8302162270863822, 'eval_Weighted Recall': 0.8997161778618732, 'eval_Micro Recall': 0.8997161778618732, 'eval_Macro Recall': 0.8211889608220144, 'eval_Weighted Precision': 0.8983772860669298, 'eval_Micro Precision': 0.8997161778618732, 'eval_Macro Precision': 0.8407617622585422, 'eval_runtime': 150.366, 'eval_samples_per_second': 14.059, 'eval_steps_per_second': 0.226, 'epoch': 3.0}\n"
     ]
    },
    {
     "name": "stderr",
     "output_type": "stream",
     "text": [
      "Adding files tracked by Git LFS: ['.DS_Store']. This may take a bit of time if the files are large.\n"
     ]
    },
    {
     "name": "stdout",
     "output_type": "stream",
     "text": [
      "{'loss': 0.2767, 'learning_rate': 4.000000000000001e-06, 'epoch': 4.0}\n"
     ]
    },
    {
     "data": {
      "application/vnd.jupyter.widget-view+json": {
       "model_id": "8c01727f7e19430084979fb8357d3160",
       "version_major": 2,
       "version_minor": 0
      },
      "text/plain": [
       "  0%|          | 0/34 [00:00<?, ?it/s]"
      ]
     },
     "metadata": {},
     "output_type": "display_data"
    },
    {
     "name": "stdout",
     "output_type": "stream",
     "text": [
      "{'eval_loss': 0.3097725212574005, 'eval_accuracy': 0.9101229895931883, 'eval_Weighted F1': 0.9102958634272984, 'eval_Micro F1': 0.9101229895931883, 'eval_Macro F1': 0.8411904825173606, 'eval_Weighted Recall': 0.9101229895931883, 'eval_Micro Recall': 0.9101229895931883, 'eval_Macro Recall': 0.8462158734132148, 'eval_Weighted Precision': 0.9105671253733443, 'eval_Micro Precision': 0.9101229895931883, 'eval_Macro Precision': 0.8367140379939209, 'eval_runtime': 89.1543, 'eval_samples_per_second': 23.712, 'eval_steps_per_second': 0.381, 'epoch': 4.0}\n",
      "{'loss': 0.2429, 'learning_rate': 0.0, 'epoch': 5.0}\n"
     ]
    },
    {
     "data": {
      "application/vnd.jupyter.widget-view+json": {
       "model_id": "ba5d665c2ca64b98b43558ad2d9a8535",
       "version_major": 2,
       "version_minor": 0
      },
      "text/plain": [
       "  0%|          | 0/34 [00:00<?, ?it/s]"
      ]
     },
     "metadata": {},
     "output_type": "display_data"
    },
    {
     "name": "stdout",
     "output_type": "stream",
     "text": [
      "{'eval_loss': 0.3098289370536804, 'eval_accuracy': 0.9068117313150426, 'eval_Weighted F1': 0.9067718382444718, 'eval_Micro F1': 0.9068117313150426, 'eval_Macro F1': 0.8350939169734637, 'eval_Weighted Recall': 0.9068117313150426, 'eval_Micro Recall': 0.9068117313150426, 'eval_Macro Recall': 0.8405569716758818, 'eval_Weighted Precision': 0.907148309421752, 'eval_Micro Precision': 0.9068117313150426, 'eval_Macro Precision': 0.8309489980771267, 'eval_runtime': 87.7591, 'eval_samples_per_second': 24.089, 'eval_steps_per_second': 0.387, 'epoch': 5.0}\n",
      "{'train_runtime': 6470.395, 'train_samples_per_second': 6.534, 'train_steps_per_second': 0.103, 'train_loss': 0.43008572123104466, 'epoch': 5.0}\n"
     ]
    }
   ],
   "source": [
    "training_results = trainer.train()"
   ]
  },
  {
   "attachments": {},
   "cell_type": "markdown",
   "id": "277a72fe",
   "metadata": {},
   "source": [
    "#### Save Model & Metrics"
   ]
  },
  {
   "cell_type": "code",
   "execution_count": 26,
   "id": "565ab306",
   "metadata": {},
   "outputs": [
    {
     "name": "stderr",
     "output_type": "stream",
     "text": [
      "Several commits (2) will be pushed upstream.\n",
      "The progress bars may be unreliable.\n"
     ]
    },
    {
     "data": {
      "application/vnd.jupyter.widget-view+json": {
       "model_id": "6b59201f036b4912b500cacba7182749",
       "version_major": 2,
       "version_minor": 0
      },
      "text/plain": [
       "Upload file pytorch_model.bin:   0%|          | 1.00/418M [00:00<?, ?B/s]"
      ]
     },
     "metadata": {},
     "output_type": "display_data"
    },
    {
     "data": {
      "application/vnd.jupyter.widget-view+json": {
       "model_id": "550d8ec71e7e46fda07ff82db2c24f6e",
       "version_major": 2,
       "version_minor": 0
      },
      "text/plain": [
       "Upload file runs/Jun06_10-46-05_Brians-Mac-mini.local/events.out.tfevents.1686066371.Brians-Mac-mini.local.637…"
      ]
     },
     "metadata": {},
     "output_type": "display_data"
    },
    {
     "name": "stderr",
     "output_type": "stream",
     "text": [
      "To https://huggingface.co/DunnBC22/mpnet-base-News_About_Gold\n",
      "   bdc19bf..66ffc47  main -> main\n",
      "\n",
      "To https://huggingface.co/DunnBC22/mpnet-base-News_About_Gold\n",
      "   66ffc47..fc52a77  main -> main\n",
      "\n"
     ]
    },
    {
     "name": "stdout",
     "output_type": "stream",
     "text": [
      "***** train metrics *****\n",
      "  epoch                    =        5.0\n",
      "  train_loss               =     0.4301\n",
      "  train_runtime            = 1:47:50.39\n",
      "  train_samples_per_second =      6.534\n",
      "  train_steps_per_second   =      0.103\n"
     ]
    }
   ],
   "source": [
    "trainer.save_model()\n",
    "trainer.log_metrics(\"train\", training_results.metrics)\n",
    "trainer.save_metrics(\"train\", training_results.metrics)\n",
    "trainer.save_state()"
   ]
  },
  {
   "attachments": {},
   "cell_type": "markdown",
   "id": "5ab72d49",
   "metadata": {},
   "source": [
    "#### Push Model to Hub"
   ]
  },
  {
   "cell_type": "code",
   "execution_count": 27,
   "id": "83c80523",
   "metadata": {},
   "outputs": [
    {
     "name": "stderr",
     "output_type": "stream",
     "text": [
      "To https://huggingface.co/DunnBC22/mpnet-base-News_About_Gold\n",
      "   fc52a77..701e514  main -> main\n",
      "\n"
     ]
    },
    {
     "data": {
      "text/plain": [
       "'https://huggingface.co/DunnBC22/mpnet-base-News_About_Gold/commit/701e51423f2061a265e783f9af6ce9391722e839'"
      ]
     },
     "execution_count": 27,
     "metadata": {},
     "output_type": "execute_result"
    }
   ],
   "source": [
    "trainer.push_to_hub(commit_message=\"All Dunn!!!\")"
   ]
  },
  {
   "attachments": {},
   "cell_type": "markdown",
   "id": "d9d70523",
   "metadata": {},
   "source": [
    "#### Save Metrics to CSV File"
   ]
  },
  {
   "cell_type": "code",
   "execution_count": 28,
   "id": "bc187ed8",
   "metadata": {},
   "outputs": [],
   "source": [
    "api = wandb.Api()\n",
    "\n",
    "# Specify what run for which to record metrics\n",
    "run = api.run(f\"dunnbc22/News_About_Gold_MPNet-Base/u6njythc\")\n",
    "\n",
    "# save metrics for run to csv file\n",
    "metrics_dataframe = run.history()\n",
    "metrics_dataframe.to_csv(\"metrics.csv\")"
   ]
  },
  {
   "attachments": {},
   "cell_type": "markdown",
   "id": "bae0b700",
   "metadata": {},
   "source": [
    "#### Finish Logging to Weights & Biases"
   ]
  },
  {
   "cell_type": "code",
   "execution_count": 29,
   "id": "d2682262",
   "metadata": {},
   "outputs": [
    {
     "data": {
      "text/html": [
       "Waiting for W&B process to finish... <strong style=\"color:green\">(success).</strong>"
      ],
      "text/plain": [
       "<IPython.core.display.HTML object>"
      ]
     },
     "metadata": {},
     "output_type": "display_data"
    },
    {
     "data": {
      "text/html": [
       "<style>\n",
       "    table.wandb td:nth-child(1) { padding: 0 10px; text-align: left ; width: auto;} td:nth-child(2) {text-align: left ; width: 100%}\n",
       "    .wandb-row { display: flex; flex-direction: row; flex-wrap: wrap; justify-content: flex-start; width: 100% }\n",
       "    .wandb-col { display: flex; flex-direction: column; flex-basis: 100%; flex: 1; padding: 10px; }\n",
       "    </style>\n",
       "<div class=\"wandb-row\"><div class=\"wandb-col\"><h3>Run history:</h3><br/><table class=\"wandb\"><tr><td>eval/Macro F1</td><td>▁▆███</td></tr><tr><td>eval/Macro Precision</td><td>▁████</td></tr><tr><td>eval/Macro Recall</td><td>▁▅▇██</td></tr><tr><td>eval/Micro F1</td><td>▁▄▆█▇</td></tr><tr><td>eval/Micro Precision</td><td>▁▄▆█▇</td></tr><tr><td>eval/Micro Recall</td><td>▁▄▆█▇</td></tr><tr><td>eval/Weighted F1</td><td>▁▅▆██</td></tr><tr><td>eval/Weighted Precision</td><td>▁▅▇██</td></tr><tr><td>eval/Weighted Recall</td><td>▁▄▆█▇</td></tr><tr><td>eval/accuracy</td><td>▁▄▆█▇</td></tr><tr><td>eval/loss</td><td>█▄▂▁▁</td></tr><tr><td>eval/runtime</td><td>▂▂█▁▁</td></tr><tr><td>eval/samples_per_second</td><td>▇▆▁██</td></tr><tr><td>eval/steps_per_second</td><td>▇▆▁██</td></tr><tr><td>train/epoch</td><td>▁▂▂▄▄▅▅▇▇███</td></tr><tr><td>train/global_step</td><td>▁▂▂▄▄▅▅▇▇███</td></tr><tr><td>train/learning_rate</td><td>█▇▅▄▂▁</td></tr><tr><td>train/loss</td><td>█▅▂▂▁▁</td></tr><tr><td>train/total_flos</td><td>▁</td></tr><tr><td>train/train_loss</td><td>▁</td></tr><tr><td>train/train_runtime</td><td>▁</td></tr><tr><td>train/train_samples_per_second</td><td>▁</td></tr><tr><td>train/train_steps_per_second</td><td>▁</td></tr></table><br/></div><div class=\"wandb-col\"><h3>Run summary:</h3><br/><table class=\"wandb\"><tr><td>eval/Macro F1</td><td>0.83509</td></tr><tr><td>eval/Macro Precision</td><td>0.83095</td></tr><tr><td>eval/Macro Recall</td><td>0.84056</td></tr><tr><td>eval/Micro F1</td><td>0.90681</td></tr><tr><td>eval/Micro Precision</td><td>0.90681</td></tr><tr><td>eval/Micro Recall</td><td>0.90681</td></tr><tr><td>eval/Weighted F1</td><td>0.90677</td></tr><tr><td>eval/Weighted Precision</td><td>0.90715</td></tr><tr><td>eval/Weighted Recall</td><td>0.90681</td></tr><tr><td>eval/accuracy</td><td>0.90681</td></tr><tr><td>eval/loss</td><td>0.30983</td></tr><tr><td>eval/runtime</td><td>87.7591</td></tr><tr><td>eval/samples_per_second</td><td>24.089</td></tr><tr><td>eval/steps_per_second</td><td>0.387</td></tr><tr><td>train/epoch</td><td>5.0</td></tr><tr><td>train/global_step</td><td>665</td></tr><tr><td>train/learning_rate</td><td>0.0</td></tr><tr><td>train/loss</td><td>0.2429</td></tr><tr><td>train/total_flos</td><td>847376703351360.0</td></tr><tr><td>train/train_loss</td><td>0.43009</td></tr><tr><td>train/train_runtime</td><td>6470.395</td></tr><tr><td>train/train_samples_per_second</td><td>6.534</td></tr><tr><td>train/train_steps_per_second</td><td>0.103</td></tr></table><br/></div></div>"
      ],
      "text/plain": [
       "<IPython.core.display.HTML object>"
      ]
     },
     "metadata": {},
     "output_type": "display_data"
    },
    {
     "data": {
      "text/html": [
       " View run <strong style=\"color:#cdcd00\">News_About_Gold-MPNet_Base</strong> at: <a href='https://wandb.ai/dunnbc22/News_About_Gold_MPNet-Base/runs/u6njythc' target=\"_blank\">https://wandb.ai/dunnbc22/News_About_Gold_MPNet-Base/runs/u6njythc</a><br/>Synced 5 W&B file(s), 0 media file(s), 0 artifact file(s) and 0 other file(s)"
      ],
      "text/plain": [
       "<IPython.core.display.HTML object>"
      ]
     },
     "metadata": {},
     "output_type": "display_data"
    },
    {
     "data": {
      "text/html": [
       "Find logs at: <code>./wandb/run-20230606_104611-u6njythc/logs</code>"
      ],
      "text/plain": [
       "<IPython.core.display.HTML object>"
      ]
     },
     "metadata": {},
     "output_type": "display_data"
    }
   ],
   "source": [
    "wandb.finish()"
   ]
  },
  {
   "attachments": {},
   "cell_type": "markdown",
   "id": "6cad95d7",
   "metadata": {},
   "source": [
    "### Notes & Other Takeaways From This Project\n",
    "\n",
    "****\n",
    "- This project is part of a comparison of multiple transformers using the same dataset.\n",
    "- The results were middle of the pack.\n",
    "****"
   ]
  },
  {
   "attachments": {},
   "cell_type": "markdown",
   "id": "e28d083d",
   "metadata": {},
   "source": [
    "### Citation\n",
    "\n",
    "- Model Checkpoint\n",
    "\n",
    "    > https://huggingface.co/microsoft/mpnet-base (This is the best I could find since there was neither a model card or citation listed)"
   ]
  }
 ],
 "metadata": {
  "kernelspec": {
   "display_name": "Python 3.9.12 64-bit ('anaconda3')",
   "language": "python",
   "name": "python3"
  },
  "language_info": {
   "codemirror_mode": {
    "name": "ipython",
    "version": 3
   },
   "file_extension": ".py",
   "mimetype": "text/x-python",
   "name": "python",
   "nbconvert_exporter": "python",
   "pygments_lexer": "ipython3",
   "version": "3.9.12"
  },
  "vscode": {
   "interpreter": {
    "hash": "a4d9b73f1482e108b8bee9fd1a7eb6f7460da6f2684402434766fba1dc39798b"
   }
  }
 },
 "nbformat": 4,
 "nbformat_minor": 5
}
